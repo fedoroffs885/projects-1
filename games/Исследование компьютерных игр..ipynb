{
 "cells": [
  {
   "cell_type": "markdown",
   "metadata": {},
   "source": [
    "# Исследование закономерностей, определяющих успешность компьютерных игр"
   ]
  },
  {
   "cell_type": "markdown",
   "metadata": {},
   "source": [
    "Из открытых источников доступны исторические данные о продажах игр, оценки пользователей и экспертов, жанры и платформы (например, Xbox или PlayStation). Вам нужно выявить определяющие успешность игры закономерности. Это позволит сделать ставку на потенциально популярный продукт и спланировать рекламные кампании.\n"
   ]
  },
  {
   "cell_type": "markdown",
   "metadata": {},
   "source": [
    "Перед нами данные до 2016 года. Цель проекта - прогноз на 2017 год."
   ]
  },
  {
   "cell_type": "markdown",
   "metadata": {},
   "source": [
    "# Шаги исследования"
   ]
  },
  {
   "cell_type": "markdown",
   "metadata": {},
   "source": [
    "1. Подготовка данных.\n",
    "2. Исследовательский анализ данных.\n",
    "3. Составление портрета пользователя каждого региона.\n",
    "4. Проверка гипотез.\n",
    "5. Общий вывод."
   ]
  },
  {
   "cell_type": "markdown",
   "metadata": {},
   "source": [
    "# 1. Подготовка данных"
   ]
  },
  {
   "cell_type": "code",
   "execution_count": 33,
   "metadata": {},
   "outputs": [
    {
     "name": "stdout",
     "output_type": "stream",
     "text": [
      "<class 'pandas.core.frame.DataFrame'>\n",
      "RangeIndex: 16715 entries, 0 to 16714\n",
      "Data columns (total 11 columns):\n",
      " #   Column           Non-Null Count  Dtype  \n",
      "---  ------           --------------  -----  \n",
      " 0   Name             16713 non-null  object \n",
      " 1   Platform         16715 non-null  object \n",
      " 2   Year_of_Release  16446 non-null  float64\n",
      " 3   Genre            16713 non-null  object \n",
      " 4   NA_sales         16715 non-null  float64\n",
      " 5   EU_sales         16715 non-null  float64\n",
      " 6   JP_sales         16715 non-null  float64\n",
      " 7   Other_sales      16715 non-null  float64\n",
      " 8   Critic_Score     8137 non-null   float64\n",
      " 9   User_Score       10014 non-null  object \n",
      " 10  Rating           9949 non-null   object \n",
      "dtypes: float64(6), object(5)\n",
      "memory usage: 1.4+ MB\n"
     ]
    }
   ],
   "source": [
    "import pandas as pd\n",
    "import numpy as np\n",
    "import matplotlib.pyplot as plt\n",
    "import seaborn as sns\n",
    "from scipy import stats as st\n",
    "data = pd.read_csv('/datasets/games.csv')\n",
    "data.info() # Изучим общую информацию о датафрейме"
   ]
  },
  {
   "cell_type": "code",
   "execution_count": 34,
   "metadata": {},
   "outputs": [
    {
     "data": {
      "text/plain": [
       "Index(['name', 'platform', 'year_of_release', 'genre', 'na_sales', 'eu_sales',\n",
       "       'jp_sales', 'other_sales', 'critic_score', 'user_score', 'rating'],\n",
       "      dtype='object')"
      ]
     },
     "execution_count": 34,
     "metadata": {},
     "output_type": "execute_result"
    }
   ],
   "source": [
    "# Приводим названия столбцов к нижнему регистру\n",
    "data.columns = map(str.lower, data.columns)\n",
    "data.columns"
   ]
  },
  {
   "cell_type": "code",
   "execution_count": 35,
   "metadata": {},
   "outputs": [],
   "source": [
    "# Меняем типы данных столбцов датафрейма, заполняем пропуски\n",
    "data.head(30)\n",
    "data.loc[data['user_score'] == 'tbd', 'user_score'] = np.nan # Заменили 'tbd' на пропуски\n",
    "data = data.dropna(subset=['year_of_release'])\n",
    "data['year_of_release'] = data['year_of_release'].astype('int16')\n",
    "data['rating'] = data['rating'].fillna('no')\n",
    "data['critic_score'] = data['critic_score'].astype('float16')\n",
    "data['user_score'] = data['user_score'].astype('float16')"
   ]
  },
  {
   "cell_type": "markdown",
   "metadata": {},
   "source": [
    "В столбце 'user_score' содержались значения 'tbd' (в переводе с английского: \"подлежит уточнению\"). Заменили данные значения на пропуски."
   ]
  },
  {
   "cell_type": "markdown",
   "metadata": {},
   "source": [
    "Тип данных в столбце 'user_score' был изменён с object на float16, так в нем содержались числа с плавающей точкой (за исключением NaN и значения 'tbd' - они уже отработаны). "
   ]
  },
  {
   "cell_type": "markdown",
   "metadata": {},
   "source": [
    "Тип данных в столбце 'critic_score' был изменён с object на float16."
   ]
  },
  {
   "cell_type": "markdown",
   "metadata": {},
   "source": [
    "В столбцe 'rating' пропуски заменены на значение 'no'. Удаление строк с пропусками в этом столбце будет ошибочным - потеряется слишком много данных.  "
   ]
  },
  {
   "cell_type": "markdown",
   "metadata": {},
   "source": [
    "Строки, содержащие пропуски в столбце 'year_of_release', были удалены."
   ]
  },
  {
   "cell_type": "markdown",
   "metadata": {},
   "source": [
    "Причины появления пропусков: 1) Человеческий фактор; 2) Некоторые данные могли потеряться при выгрузке."
   ]
  },
  {
   "cell_type": "code",
   "execution_count": 36,
   "metadata": {},
   "outputs": [
    {
     "name": "stdout",
     "output_type": "stream",
     "text": [
      "<class 'pandas.core.frame.DataFrame'>\n",
      "Int64Index: 16446 entries, 0 to 16714\n",
      "Data columns (total 11 columns):\n",
      " #   Column           Non-Null Count  Dtype  \n",
      "---  ------           --------------  -----  \n",
      " 0   name             16444 non-null  object \n",
      " 1   platform         16446 non-null  object \n",
      " 2   year_of_release  16446 non-null  int16  \n",
      " 3   genre            16444 non-null  object \n",
      " 4   na_sales         16446 non-null  float16\n",
      " 5   eu_sales         16446 non-null  float16\n",
      " 6   jp_sales         16446 non-null  float16\n",
      " 7   other_sales      16446 non-null  float16\n",
      " 8   critic_score     7983 non-null   float16\n",
      " 9   user_score       7463 non-null   float16\n",
      " 10  rating           16446 non-null  object \n",
      "dtypes: float16(6), int16(1), object(4)\n",
      "memory usage: 867.3+ KB\n"
     ]
    }
   ],
   "source": [
    "# Меняем типы данных столбцов датафрейма\n",
    "columns_for_retype = ['na_sales', 'eu_sales', 'jp_sales', 'other_sales']\n",
    "for i in columns_for_retype:\n",
    "    data[i] = data[i].astype('float16')\n",
    "data.info()"
   ]
  },
  {
   "cell_type": "markdown",
   "metadata": {},
   "source": [
    "В столбцах 'na_sales', 'eu_sales', 'jp_sales', 'other_sales' был изменён тип данных с float64 на float16 для экономии ячеек памяти. "
   ]
  },
  {
   "cell_type": "code",
   "execution_count": 37,
   "metadata": {},
   "outputs": [],
   "source": [
    "# Создаем столбец - суммарные продажи со всех регионов\n",
    "data['sum_profit'] = data['na_sales'] + data['eu_sales'] + data['jp_sales'] + data['other_sales']"
   ]
  },
  {
   "cell_type": "markdown",
   "metadata": {},
   "source": [
    "# 2. Исследовательский анализ данных"
   ]
  },
  {
   "cell_type": "code",
   "execution_count": 38,
   "metadata": {},
   "outputs": [
    {
     "data": {
      "text/plain": [
       "2008    1427\n",
       "2009    1426\n",
       "2010    1255\n",
       "2007    1197\n",
       "2011    1136\n",
       "2006    1006\n",
       "2005     939\n",
       "2002     829\n",
       "2003     775\n",
       "2004     762\n",
       "2012     653\n",
       "2015     606\n",
       "2014     581\n",
       "2013     544\n",
       "2016     502\n",
       "2001     482\n",
       "1998     379\n",
       "2000     350\n",
       "1999     338\n",
       "1997     289\n",
       "1996     263\n",
       "1995     219\n",
       "1994     121\n",
       "1993      62\n",
       "1981      46\n",
       "1992      43\n",
       "1991      41\n",
       "1982      36\n",
       "1986      21\n",
       "1983      17\n",
       "1989      17\n",
       "1990      16\n",
       "1987      16\n",
       "1988      15\n",
       "1985      14\n",
       "1984      14\n",
       "1980       9\n",
       "Name: year_of_release, dtype: int64"
      ]
     },
     "execution_count": 38,
     "metadata": {},
     "output_type": "execute_result"
    }
   ],
   "source": [
    "# Количество игр, выпущенных за каждый год\n",
    "data['year_of_release'].value_counts()"
   ]
  },
  {
   "cell_type": "code",
   "execution_count": 39,
   "metadata": {},
   "outputs": [
    {
     "data": {
      "text/plain": [
       "<matplotlib.legend.Legend at 0x7fe85d8240d0>"
      ]
     },
     "execution_count": 39,
     "metadata": {},
     "output_type": "execute_result"
    },
    {
     "data": {
      "image/png": "[encoded data removed]",
      "text/plain": [
       "<Figure size 864x432 with 1 Axes>"
      ]
     },
     "metadata": {
      "needs_background": "light"
     },
     "output_type": "display_data"
    }
   ],
   "source": [
    "# Визуализируем данные \n",
    "games_on_period = data.pivot_table(index='year_of_release', values='name', aggfunc='count')\n",
    "plt.figure(figsize=(12,6))\n",
    "sns.lineplot(data=games_on_period)\n",
    "plt.title(\"Игры, выпускаемые в разные годы\")\n",
    "plt.xlabel(\"Год выпуска\")\n",
    "plt.ylabel(\"Количество выпущенных игр\")\n",
    "plt.legend('')"
   ]
  },
  {
   "cell_type": "markdown",
   "metadata": {},
   "source": [
    "В нулевые годы произошел резкий скачок выпуска игр. Это связано с развитием и созданием различных игровых консолей."
   ]
  },
  {
   "cell_type": "markdown",
   "metadata": {},
   "source": [
    "Для нас важны данные, начиная с 2000-го года. "
   ]
  },
  {
   "cell_type": "code",
   "execution_count": 40,
   "metadata": {},
   "outputs": [
    {
     "data": {
      "text/plain": [
       "Text(0, 0.5, 'Количество проданных консолей')"
      ]
     },
     "execution_count": 40,
     "metadata": {},
     "output_type": "execute_result"
    },
    {
     "data": {
      "image/png": "[encoded data removed]",
      "text/plain": [
       "<Figure size 1440x432 with 1 Axes>"
      ]
     },
     "metadata": {
      "needs_background": "light"
     },
     "output_type": "display_data"
    }
   ],
   "source": [
    "# Вычисляем суммарные продажи по всем платформам\n",
    "dif_plat = data.pivot_table(index=\"platform\", values=\"sum_profit\", aggfunc=\"sum\").sort_values(by=\"sum_profit\", ascending=False)\n",
    "plt.figure(figsize=(20,6))\n",
    "sns.barplot(x=dif_plat.index,y=dif_plat['sum_profit'])\n",
    "plt.title(\"Суммарные продажи всех видов игровых консолей за все время\")\n",
    "plt.xlabel(\"Вид консоли\")\n",
    "plt.ylabel(\"Количество проданных консолей\")"
   ]
  },
  {
   "cell_type": "markdown",
   "metadata": {},
   "source": [
    "Наибольшие суммарные продажи у консолей: PS2, X360, PS3, Wii, DS."
   ]
  },
  {
   "cell_type": "code",
   "execution_count": 41,
   "metadata": {},
   "outputs": [
    {
     "data": {
      "text/html": [
       "<div>\n",
       "<style scoped>\n",
       "    .dataframe tbody tr th:only-of-type {\n",
       "        vertical-align: middle;\n",
       "    }\n",
       "\n",
       "    .dataframe tbody tr th {\n",
       "        vertical-align: top;\n",
       "    }\n",
       "\n",
       "    .dataframe thead th {\n",
       "        text-align: right;\n",
       "    }\n",
       "</style>\n",
       "<table border=\"1\" class=\"dataframe\">\n",
       "  <thead>\n",
       "    <tr style=\"text-align: right;\">\n",
       "      <th></th>\n",
       "      <th>platform</th>\n",
       "      <th>sum_profit</th>\n",
       "    </tr>\n",
       "  </thead>\n",
       "  <tbody>\n",
       "    <tr>\n",
       "      <th>0</th>\n",
       "      <td>PS2</td>\n",
       "      <td>1234.0</td>\n",
       "    </tr>\n",
       "    <tr>\n",
       "      <th>1</th>\n",
       "      <td>X360</td>\n",
       "      <td>961.0</td>\n",
       "    </tr>\n",
       "    <tr>\n",
       "      <th>2</th>\n",
       "      <td>PS3</td>\n",
       "      <td>931.5</td>\n",
       "    </tr>\n",
       "    <tr>\n",
       "      <th>3</th>\n",
       "      <td>Wii</td>\n",
       "      <td>891.0</td>\n",
       "    </tr>\n",
       "    <tr>\n",
       "      <th>4</th>\n",
       "      <td>DS</td>\n",
       "      <td>803.0</td>\n",
       "    </tr>\n",
       "  </tbody>\n",
       "</table>\n",
       "</div>"
      ],
      "text/plain": [
       "  platform  sum_profit\n",
       "0      PS2      1234.0\n",
       "1     X360       961.0\n",
       "2      PS3       931.5\n",
       "3      Wii       891.0\n",
       "4       DS       803.0"
      ]
     },
     "execution_count": 41,
     "metadata": {},
     "output_type": "execute_result"
    }
   ],
   "source": [
    "# Находим топ-5 платформ по продажам\n",
    "top_5_platforms = dif_plat.head(5)\n",
    "top_5_platforms = top_5_platforms.reset_index().rename_axis(None, axis=1)\n",
    "top_5_platforms"
   ]
  },
  {
   "cell_type": "code",
   "execution_count": 42,
   "metadata": {},
   "outputs": [],
   "source": [
    "# Функция, которая делает сводную таблицу по данным, начиная с 2003-го года\n",
    "def top_5_platforms_sales(name, data):\n",
    "    a = data[(data['platform'] == name) & (data['year_of_release'] >= 2003)]\n",
    "    b = a.pivot_table(index=\"year_of_release\", values=\"sum_profit\", aggfunc=\"sum\")\n",
    "    return b"
   ]
  },
  {
   "cell_type": "code",
   "execution_count": 43,
   "metadata": {},
   "outputs": [
    {
     "data": {
      "image/png": "[encoded data removed]",
      "text/plain": [
       "<Figure size 864x432 with 1 Axes>"
      ]
     },
     "metadata": {
      "needs_background": "light"
     },
     "output_type": "display_data"
    }
   ],
   "source": [
    "# Cтроим распределение по годам, применяя функцию top_5_platforms_sales\n",
    "plt.figure(figsize=(12,6))\n",
    "plt.title('Количество продаж топ-5 игровых платформ')\n",
    "plt.xlabel('Годы')\n",
    "plt.ylabel('Продажи')\n",
    "for i in top_5_platforms['platform']:\n",
    "    sns.lineplot(data=top_5_platforms_sales(i, data)['sum_profit'], label=i)\n",
    "    plt.legend()"
   ]
  },
  {
   "cell_type": "markdown",
   "metadata": {},
   "source": [
    "В среднем, \"жизнь\" игровых консолей составляет около 9-11 лет. Пик продажи - середина продолжительности \"жизни\" (4-6 лет)."
   ]
  },
  {
   "cell_type": "markdown",
   "metadata": {},
   "source": [
    "Актуальный период: 2014 и по настоящее время - 2016 год."
   ]
  },
  {
   "cell_type": "code",
   "execution_count": 44,
   "metadata": {},
   "outputs": [
    {
     "data": {
      "text/html": [
       "<div>\n",
       "<style scoped>\n",
       "    .dataframe tbody tr th:only-of-type {\n",
       "        vertical-align: middle;\n",
       "    }\n",
       "\n",
       "    .dataframe tbody tr th {\n",
       "        vertical-align: top;\n",
       "    }\n",
       "\n",
       "    .dataframe thead th {\n",
       "        text-align: right;\n",
       "    }\n",
       "</style>\n",
       "<table border=\"1\" class=\"dataframe\">\n",
       "  <thead>\n",
       "    <tr style=\"text-align: right;\">\n",
       "      <th></th>\n",
       "      <th>name</th>\n",
       "      <th>platform</th>\n",
       "      <th>year_of_release</th>\n",
       "      <th>genre</th>\n",
       "      <th>na_sales</th>\n",
       "      <th>eu_sales</th>\n",
       "      <th>jp_sales</th>\n",
       "      <th>other_sales</th>\n",
       "      <th>critic_score</th>\n",
       "      <th>user_score</th>\n",
       "      <th>rating</th>\n",
       "      <th>sum_profit</th>\n",
       "    </tr>\n",
       "  </thead>\n",
       "  <tbody>\n",
       "    <tr>\n",
       "      <th>976</th>\n",
       "      <td>The Evil Within</td>\n",
       "      <td>PS4</td>\n",
       "      <td>2014</td>\n",
       "      <td>Action</td>\n",
       "      <td>0.549805</td>\n",
       "      <td>0.859863</td>\n",
       "      <td>0.109985</td>\n",
       "      <td>0.270020</td>\n",
       "      <td>75.0</td>\n",
       "      <td>7.300781</td>\n",
       "      <td>M</td>\n",
       "      <td>1.791016</td>\n",
       "    </tr>\n",
       "    <tr>\n",
       "      <th>1007</th>\n",
       "      <td>Madden NFL 17</td>\n",
       "      <td>PS4</td>\n",
       "      <td>2016</td>\n",
       "      <td>Sports</td>\n",
       "      <td>1.250000</td>\n",
       "      <td>0.170044</td>\n",
       "      <td>0.000000</td>\n",
       "      <td>0.320068</td>\n",
       "      <td>82.0</td>\n",
       "      <td>4.898438</td>\n",
       "      <td>E</td>\n",
       "      <td>1.740234</td>\n",
       "    </tr>\n",
       "    <tr>\n",
       "      <th>1012</th>\n",
       "      <td>The Elder Scrolls Online</td>\n",
       "      <td>PS4</td>\n",
       "      <td>2015</td>\n",
       "      <td>Role-Playing</td>\n",
       "      <td>0.669922</td>\n",
       "      <td>0.790039</td>\n",
       "      <td>0.000000</td>\n",
       "      <td>0.290039</td>\n",
       "      <td>NaN</td>\n",
       "      <td>NaN</td>\n",
       "      <td>no</td>\n",
       "      <td>1.750000</td>\n",
       "    </tr>\n",
       "    <tr>\n",
       "      <th>1021</th>\n",
       "      <td>Watch Dogs</td>\n",
       "      <td>PS3</td>\n",
       "      <td>2014</td>\n",
       "      <td>Action</td>\n",
       "      <td>0.560059</td>\n",
       "      <td>0.810059</td>\n",
       "      <td>0.099976</td>\n",
       "      <td>0.270020</td>\n",
       "      <td>NaN</td>\n",
       "      <td>5.101562</td>\n",
       "      <td>M</td>\n",
       "      <td>1.740234</td>\n",
       "    </tr>\n",
       "    <tr>\n",
       "      <th>1026</th>\n",
       "      <td>The Order: 1886</td>\n",
       "      <td>PS4</td>\n",
       "      <td>2015</td>\n",
       "      <td>Shooter</td>\n",
       "      <td>0.609863</td>\n",
       "      <td>0.779785</td>\n",
       "      <td>0.059998</td>\n",
       "      <td>0.270020</td>\n",
       "      <td>63.0</td>\n",
       "      <td>6.601562</td>\n",
       "      <td>M</td>\n",
       "      <td>1.718750</td>\n",
       "    </tr>\n",
       "    <tr>\n",
       "      <th>...</th>\n",
       "      <td>...</td>\n",
       "      <td>...</td>\n",
       "      <td>...</td>\n",
       "      <td>...</td>\n",
       "      <td>...</td>\n",
       "      <td>...</td>\n",
       "      <td>...</td>\n",
       "      <td>...</td>\n",
       "      <td>...</td>\n",
       "      <td>...</td>\n",
       "      <td>...</td>\n",
       "      <td>...</td>\n",
       "    </tr>\n",
       "    <tr>\n",
       "      <th>16703</th>\n",
       "      <td>Strawberry Nauts</td>\n",
       "      <td>PSV</td>\n",
       "      <td>2016</td>\n",
       "      <td>Adventure</td>\n",
       "      <td>0.000000</td>\n",
       "      <td>0.000000</td>\n",
       "      <td>0.010002</td>\n",
       "      <td>0.000000</td>\n",
       "      <td>NaN</td>\n",
       "      <td>NaN</td>\n",
       "      <td>no</td>\n",
       "      <td>0.010002</td>\n",
       "    </tr>\n",
       "    <tr>\n",
       "      <th>16707</th>\n",
       "      <td>Aiyoku no Eustia</td>\n",
       "      <td>PSV</td>\n",
       "      <td>2014</td>\n",
       "      <td>Misc</td>\n",
       "      <td>0.000000</td>\n",
       "      <td>0.000000</td>\n",
       "      <td>0.010002</td>\n",
       "      <td>0.000000</td>\n",
       "      <td>NaN</td>\n",
       "      <td>NaN</td>\n",
       "      <td>no</td>\n",
       "      <td>0.010002</td>\n",
       "    </tr>\n",
       "    <tr>\n",
       "      <th>16710</th>\n",
       "      <td>Samurai Warriors: Sanada Maru</td>\n",
       "      <td>PS3</td>\n",
       "      <td>2016</td>\n",
       "      <td>Action</td>\n",
       "      <td>0.000000</td>\n",
       "      <td>0.000000</td>\n",
       "      <td>0.010002</td>\n",
       "      <td>0.000000</td>\n",
       "      <td>NaN</td>\n",
       "      <td>NaN</td>\n",
       "      <td>no</td>\n",
       "      <td>0.010002</td>\n",
       "    </tr>\n",
       "    <tr>\n",
       "      <th>16712</th>\n",
       "      <td>Haitaka no Psychedelica</td>\n",
       "      <td>PSV</td>\n",
       "      <td>2016</td>\n",
       "      <td>Adventure</td>\n",
       "      <td>0.000000</td>\n",
       "      <td>0.000000</td>\n",
       "      <td>0.010002</td>\n",
       "      <td>0.000000</td>\n",
       "      <td>NaN</td>\n",
       "      <td>NaN</td>\n",
       "      <td>no</td>\n",
       "      <td>0.010002</td>\n",
       "    </tr>\n",
       "    <tr>\n",
       "      <th>16714</th>\n",
       "      <td>Winning Post 8 2016</td>\n",
       "      <td>PSV</td>\n",
       "      <td>2016</td>\n",
       "      <td>Simulation</td>\n",
       "      <td>0.000000</td>\n",
       "      <td>0.000000</td>\n",
       "      <td>0.010002</td>\n",
       "      <td>0.000000</td>\n",
       "      <td>NaN</td>\n",
       "      <td>NaN</td>\n",
       "      <td>no</td>\n",
       "      <td>0.010002</td>\n",
       "    </tr>\n",
       "  </tbody>\n",
       "</table>\n",
       "<p>1597 rows × 12 columns</p>\n",
       "</div>"
      ],
      "text/plain": [
       "                                name platform  year_of_release         genre  \\\n",
       "976                  The Evil Within      PS4             2014        Action   \n",
       "1007                   Madden NFL 17      PS4             2016        Sports   \n",
       "1012        The Elder Scrolls Online      PS4             2015  Role-Playing   \n",
       "1021                      Watch Dogs      PS3             2014        Action   \n",
       "1026                 The Order: 1886      PS4             2015       Shooter   \n",
       "...                              ...      ...              ...           ...   \n",
       "16703               Strawberry Nauts      PSV             2016     Adventure   \n",
       "16707               Aiyoku no Eustia      PSV             2014          Misc   \n",
       "16710  Samurai Warriors: Sanada Maru      PS3             2016        Action   \n",
       "16712        Haitaka no Psychedelica      PSV             2016     Adventure   \n",
       "16714            Winning Post 8 2016      PSV             2016    Simulation   \n",
       "\n",
       "       na_sales  eu_sales  jp_sales  other_sales  critic_score  user_score  \\\n",
       "976    0.549805  0.859863  0.109985     0.270020          75.0    7.300781   \n",
       "1007   1.250000  0.170044  0.000000     0.320068          82.0    4.898438   \n",
       "1012   0.669922  0.790039  0.000000     0.290039           NaN         NaN   \n",
       "1021   0.560059  0.810059  0.099976     0.270020           NaN    5.101562   \n",
       "1026   0.609863  0.779785  0.059998     0.270020          63.0    6.601562   \n",
       "...         ...       ...       ...          ...           ...         ...   \n",
       "16703  0.000000  0.000000  0.010002     0.000000           NaN         NaN   \n",
       "16707  0.000000  0.000000  0.010002     0.000000           NaN         NaN   \n",
       "16710  0.000000  0.000000  0.010002     0.000000           NaN         NaN   \n",
       "16712  0.000000  0.000000  0.010002     0.000000           NaN         NaN   \n",
       "16714  0.000000  0.000000  0.010002     0.000000           NaN         NaN   \n",
       "\n",
       "      rating  sum_profit  \n",
       "976        M    1.791016  \n",
       "1007       E    1.740234  \n",
       "1012      no    1.750000  \n",
       "1021       M    1.740234  \n",
       "1026       M    1.718750  \n",
       "...      ...         ...  \n",
       "16703     no    0.010002  \n",
       "16707     no    0.010002  \n",
       "16710     no    0.010002  \n",
       "16712     no    0.010002  \n",
       "16714     no    0.010002  \n",
       "\n",
       "[1597 rows x 12 columns]"
      ]
     },
     "execution_count": 44,
     "metadata": {},
     "output_type": "execute_result"
    }
   ],
   "source": [
    "# Актуальные данные\n",
    "actual_data = data[(data['year_of_release'] >= 2014) & (data['sum_profit'] < 1.8)]\n",
    "actual_data"
   ]
  },
  {
   "cell_type": "code",
   "execution_count": 45,
   "metadata": {},
   "outputs": [
    {
     "data": {
      "text/plain": [
       "Text(0, 0.5, 'Глобальные продажи за актуальный период')"
      ]
     },
     "execution_count": 45,
     "metadata": {},
     "output_type": "execute_result"
    },
    {
     "data": {
      "image/png": "[encoded data removed]",
      "text/plain": [
       "<Figure size 864x432 with 1 Axes>"
      ]
     },
     "metadata": {
      "needs_background": "light"
     },
     "output_type": "display_data"
    }
   ],
   "source": [
    "# Построение \"ящика с усами\" в разбивке по платформам\n",
    "plt.figure(figsize=(12,6))\n",
    "sns.boxplot(data=actual_data, x='platform', y='sum_profit')\n",
    "plt.title('Ящик с усами', fontsize=15)\n",
    "plt.xlabel('Платформа', fontsize=12)\n",
    "plt.ylabel('Глобальные продажи за актуальный период', fontsize=12)"
   ]
  },
  {
   "cell_type": "markdown",
   "metadata": {},
   "source": [
    "\n"
   ]
  },
  {
   "cell_type": "markdown",
   "metadata": {},
   "source": [
    "Топ-5 по продажам за актуальный период:\n",
    "1. WiiU\n",
    "2. XOne\n",
    "3. X360\n",
    "4. Wii\n",
    "5. PS4"
   ]
  },
  {
   "cell_type": "code",
   "execution_count": 46,
   "metadata": {},
   "outputs": [
    {
     "data": {
      "text/html": [
       "<div>\n",
       "<style scoped>\n",
       "    .dataframe tbody tr th:only-of-type {\n",
       "        vertical-align: middle;\n",
       "    }\n",
       "\n",
       "    .dataframe tbody tr th {\n",
       "        vertical-align: top;\n",
       "    }\n",
       "\n",
       "    .dataframe thead th {\n",
       "        text-align: right;\n",
       "    }\n",
       "</style>\n",
       "<table border=\"1\" class=\"dataframe\">\n",
       "  <thead>\n",
       "    <tr style=\"text-align: right;\">\n",
       "      <th></th>\n",
       "      <th>name</th>\n",
       "      <th>platform</th>\n",
       "      <th>year_of_release</th>\n",
       "      <th>genre</th>\n",
       "      <th>na_sales</th>\n",
       "      <th>eu_sales</th>\n",
       "      <th>jp_sales</th>\n",
       "      <th>other_sales</th>\n",
       "      <th>critic_score</th>\n",
       "      <th>user_score</th>\n",
       "      <th>rating</th>\n",
       "      <th>sum_profit</th>\n",
       "    </tr>\n",
       "  </thead>\n",
       "  <tbody>\n",
       "    <tr>\n",
       "      <th>976</th>\n",
       "      <td>The Evil Within</td>\n",
       "      <td>PS4</td>\n",
       "      <td>2014</td>\n",
       "      <td>Action</td>\n",
       "      <td>0.549805</td>\n",
       "      <td>0.859863</td>\n",
       "      <td>0.109985</td>\n",
       "      <td>0.270020</td>\n",
       "      <td>75.0</td>\n",
       "      <td>7.300781</td>\n",
       "      <td>M</td>\n",
       "      <td>1.791016</td>\n",
       "    </tr>\n",
       "    <tr>\n",
       "      <th>1007</th>\n",
       "      <td>Madden NFL 17</td>\n",
       "      <td>PS4</td>\n",
       "      <td>2016</td>\n",
       "      <td>Sports</td>\n",
       "      <td>1.250000</td>\n",
       "      <td>0.170044</td>\n",
       "      <td>0.000000</td>\n",
       "      <td>0.320068</td>\n",
       "      <td>82.0</td>\n",
       "      <td>4.898438</td>\n",
       "      <td>E</td>\n",
       "      <td>1.740234</td>\n",
       "    </tr>\n",
       "    <tr>\n",
       "      <th>1012</th>\n",
       "      <td>The Elder Scrolls Online</td>\n",
       "      <td>PS4</td>\n",
       "      <td>2015</td>\n",
       "      <td>Role-Playing</td>\n",
       "      <td>0.669922</td>\n",
       "      <td>0.790039</td>\n",
       "      <td>0.000000</td>\n",
       "      <td>0.290039</td>\n",
       "      <td>NaN</td>\n",
       "      <td>NaN</td>\n",
       "      <td>no</td>\n",
       "      <td>1.750000</td>\n",
       "    </tr>\n",
       "    <tr>\n",
       "      <th>1026</th>\n",
       "      <td>The Order: 1886</td>\n",
       "      <td>PS4</td>\n",
       "      <td>2015</td>\n",
       "      <td>Shooter</td>\n",
       "      <td>0.609863</td>\n",
       "      <td>0.779785</td>\n",
       "      <td>0.059998</td>\n",
       "      <td>0.270020</td>\n",
       "      <td>63.0</td>\n",
       "      <td>6.601562</td>\n",
       "      <td>M</td>\n",
       "      <td>1.718750</td>\n",
       "    </tr>\n",
       "    <tr>\n",
       "      <th>1035</th>\n",
       "      <td>The Crew</td>\n",
       "      <td>PS4</td>\n",
       "      <td>2014</td>\n",
       "      <td>Racing</td>\n",
       "      <td>0.350098</td>\n",
       "      <td>1.080078</td>\n",
       "      <td>0.029999</td>\n",
       "      <td>0.260010</td>\n",
       "      <td>61.0</td>\n",
       "      <td>5.398438</td>\n",
       "      <td>T</td>\n",
       "      <td>1.719727</td>\n",
       "    </tr>\n",
       "    <tr>\n",
       "      <th>...</th>\n",
       "      <td>...</td>\n",
       "      <td>...</td>\n",
       "      <td>...</td>\n",
       "      <td>...</td>\n",
       "      <td>...</td>\n",
       "      <td>...</td>\n",
       "      <td>...</td>\n",
       "      <td>...</td>\n",
       "      <td>...</td>\n",
       "      <td>...</td>\n",
       "      <td>...</td>\n",
       "      <td>...</td>\n",
       "    </tr>\n",
       "    <tr>\n",
       "      <th>16500</th>\n",
       "      <td>Root Letter</td>\n",
       "      <td>PS4</td>\n",
       "      <td>2016</td>\n",
       "      <td>Adventure</td>\n",
       "      <td>0.000000</td>\n",
       "      <td>0.000000</td>\n",
       "      <td>0.010002</td>\n",
       "      <td>0.000000</td>\n",
       "      <td>69.0</td>\n",
       "      <td>7.500000</td>\n",
       "      <td>no</td>\n",
       "      <td>0.010002</td>\n",
       "    </tr>\n",
       "    <tr>\n",
       "      <th>16503</th>\n",
       "      <td>Shin Hayarigami 2</td>\n",
       "      <td>PS4</td>\n",
       "      <td>2016</td>\n",
       "      <td>Adventure</td>\n",
       "      <td>0.000000</td>\n",
       "      <td>0.000000</td>\n",
       "      <td>0.010002</td>\n",
       "      <td>0.000000</td>\n",
       "      <td>NaN</td>\n",
       "      <td>NaN</td>\n",
       "      <td>no</td>\n",
       "      <td>0.010002</td>\n",
       "    </tr>\n",
       "    <tr>\n",
       "      <th>16526</th>\n",
       "      <td>Dungeons 2</td>\n",
       "      <td>PS4</td>\n",
       "      <td>2016</td>\n",
       "      <td>Role-Playing</td>\n",
       "      <td>0.010002</td>\n",
       "      <td>0.000000</td>\n",
       "      <td>0.000000</td>\n",
       "      <td>0.000000</td>\n",
       "      <td>61.0</td>\n",
       "      <td>7.898438</td>\n",
       "      <td>T</td>\n",
       "      <td>0.010002</td>\n",
       "    </tr>\n",
       "    <tr>\n",
       "      <th>16530</th>\n",
       "      <td>Carmageddon: Max Damage</td>\n",
       "      <td>PS4</td>\n",
       "      <td>2016</td>\n",
       "      <td>Action</td>\n",
       "      <td>0.010002</td>\n",
       "      <td>0.000000</td>\n",
       "      <td>0.000000</td>\n",
       "      <td>0.000000</td>\n",
       "      <td>51.0</td>\n",
       "      <td>5.500000</td>\n",
       "      <td>M</td>\n",
       "      <td>0.010002</td>\n",
       "    </tr>\n",
       "    <tr>\n",
       "      <th>16585</th>\n",
       "      <td>Farming 2017 - The Simulation</td>\n",
       "      <td>PS4</td>\n",
       "      <td>2016</td>\n",
       "      <td>Simulation</td>\n",
       "      <td>0.000000</td>\n",
       "      <td>0.010002</td>\n",
       "      <td>0.000000</td>\n",
       "      <td>0.000000</td>\n",
       "      <td>NaN</td>\n",
       "      <td>NaN</td>\n",
       "      <td>no</td>\n",
       "      <td>0.010002</td>\n",
       "    </tr>\n",
       "  </tbody>\n",
       "</table>\n",
       "<p>331 rows × 12 columns</p>\n",
       "</div>"
      ],
      "text/plain": [
       "                                name platform  year_of_release         genre  \\\n",
       "976                  The Evil Within      PS4             2014        Action   \n",
       "1007                   Madden NFL 17      PS4             2016        Sports   \n",
       "1012        The Elder Scrolls Online      PS4             2015  Role-Playing   \n",
       "1026                 The Order: 1886      PS4             2015       Shooter   \n",
       "1035                        The Crew      PS4             2014        Racing   \n",
       "...                              ...      ...              ...           ...   \n",
       "16500                    Root Letter      PS4             2016     Adventure   \n",
       "16503              Shin Hayarigami 2      PS4             2016     Adventure   \n",
       "16526                     Dungeons 2      PS4             2016  Role-Playing   \n",
       "16530        Carmageddon: Max Damage      PS4             2016        Action   \n",
       "16585  Farming 2017 - The Simulation      PS4             2016    Simulation   \n",
       "\n",
       "       na_sales  eu_sales  jp_sales  other_sales  critic_score  user_score  \\\n",
       "976    0.549805  0.859863  0.109985     0.270020          75.0    7.300781   \n",
       "1007   1.250000  0.170044  0.000000     0.320068          82.0    4.898438   \n",
       "1012   0.669922  0.790039  0.000000     0.290039           NaN         NaN   \n",
       "1026   0.609863  0.779785  0.059998     0.270020          63.0    6.601562   \n",
       "1035   0.350098  1.080078  0.029999     0.260010          61.0    5.398438   \n",
       "...         ...       ...       ...          ...           ...         ...   \n",
       "16500  0.000000  0.000000  0.010002     0.000000          69.0    7.500000   \n",
       "16503  0.000000  0.000000  0.010002     0.000000           NaN         NaN   \n",
       "16526  0.010002  0.000000  0.000000     0.000000          61.0    7.898438   \n",
       "16530  0.010002  0.000000  0.000000     0.000000          51.0    5.500000   \n",
       "16585  0.000000  0.010002  0.000000     0.000000           NaN         NaN   \n",
       "\n",
       "      rating  sum_profit  \n",
       "976        M    1.791016  \n",
       "1007       E    1.740234  \n",
       "1012      no    1.750000  \n",
       "1026       M    1.718750  \n",
       "1035       T    1.719727  \n",
       "...      ...         ...  \n",
       "16500     no    0.010002  \n",
       "16503     no    0.010002  \n",
       "16526      T    0.010002  \n",
       "16530      M    0.010002  \n",
       "16585     no    0.010002  \n",
       "\n",
       "[331 rows x 12 columns]"
      ]
     },
     "execution_count": 46,
     "metadata": {},
     "output_type": "execute_result"
    }
   ],
   "source": [
    "# Вычислим корреляцию и построим диаграмму рассеивания для платформы PS4\n",
    "ps_4_platform = actual_data[actual_data['platform'] == 'PS4']\n",
    "ps_4_platform"
   ]
  },
  {
   "cell_type": "code",
   "execution_count": 47,
   "metadata": {},
   "outputs": [
    {
     "data": {
      "text/plain": [
       "0.2805654629231388"
      ]
     },
     "execution_count": 47,
     "metadata": {},
     "output_type": "execute_result"
    }
   ],
   "source": [
    "# Корреляция между оценками критиков и продажами \n",
    "ps_4_platform['critic_score'].corr(ps_4_platform['sum_profit'])"
   ]
  },
  {
   "cell_type": "code",
   "execution_count": 48,
   "metadata": {},
   "outputs": [
    {
     "data": {
      "image/png": "[encoded data removed]",
      "text/plain": [
       "<Figure size 1440x432 with 1 Axes>"
      ]
     },
     "metadata": {
      "needs_background": "light"
     },
     "output_type": "display_data"
    }
   ],
   "source": [
    "# Диаграмма рассеяния между оценками критиков и продажами\n",
    "fig, ax = plt.subplots(figsize=(20, 6))\n",
    "ax.scatter(x = ps_4_platform['critic_score'] , y = ps_4_platform['sum_profit'])\n",
    "plt.xlabel(\"Оценка критиков\")\n",
    "plt.ylabel(\"Суммарные продажи\")\n",
    "plt.show()"
   ]
  },
  {
   "cell_type": "code",
   "execution_count": 49,
   "metadata": {},
   "outputs": [
    {
     "data": {
      "text/plain": [
       "0.01007265502987827"
      ]
     },
     "execution_count": 49,
     "metadata": {},
     "output_type": "execute_result"
    }
   ],
   "source": [
    "# Корреляция между оценками пользователей и продажами\n",
    "ps_4_platform['user_score'].corr(ps_4_platform['sum_profit'])"
   ]
  },
  {
   "cell_type": "code",
   "execution_count": 50,
   "metadata": {},
   "outputs": [
    {
     "data": {
      "image/png": "[encoded data removed]",
      "text/plain": [
       "<Figure size 1440x432 with 1 Axes>"
      ]
     },
     "metadata": {
      "needs_background": "light"
     },
     "output_type": "display_data"
    }
   ],
   "source": [
    "# Диаграмма рассеяния между оценками критиков и продажами\n",
    "fig, ax = plt.subplots(figsize=(20, 6))\n",
    "ax.scatter(x = ps_4_platform['user_score'] , y = ps_4_platform['sum_profit'])\n",
    "plt.xlabel(\"Оценка пользователей\")\n",
    "plt.ylabel(\"Суммарные продажи\")\n",
    "plt.show()"
   ]
  },
  {
   "cell_type": "markdown",
   "metadata": {},
   "source": [
    "Вывод:\n",
    "1. В целом можно сказать, что в обоих случаях взаимосвязь между отзывами и продажами присутствует.\n",
    "2. Отзывы критиков имеют гораздо большее влияние на суммарные продажи на платформе PS4, нежели отзывы пользователей.\n"
   ]
  },
  {
   "cell_type": "markdown",
   "metadata": {},
   "source": [
    "Для платформы Wii строить диаграмму рассеивания и корреляцию не будем, так как для нее нет ни одной оценки от критиков и пользователей."
   ]
  },
  {
   "cell_type": "code",
   "execution_count": 51,
   "metadata": {},
   "outputs": [
    {
     "data": {
      "image/png": "[encoded data removed]",
      "text/plain": [
       "<Figure size 1080x360 with 2 Axes>"
      ]
     },
     "metadata": {
      "needs_background": "light"
     },
     "output_type": "display_data"
    },
    {
     "name": "stdout",
     "output_type": "stream",
     "text": [
      "Корреляция между отзывами критиков и продажами:  0.2805654629231388\n",
      "Корреляция между отзывами пользователей и продажами: 0.01007265502987827\n"
     ]
    },
    {
     "data": {
      "image/png": "[encoded data removed]",
      "text/plain": [
       "<Figure size 1080x360 with 2 Axes>"
      ]
     },
     "metadata": {
      "needs_background": "light"
     },
     "output_type": "display_data"
    },
    {
     "name": "stdout",
     "output_type": "stream",
     "text": [
      "Корреляция между отзывами критиков и продажами:  0.35776949223337573\n",
      "Корреляция между отзывами пользователей и продажами: 0.38927369618318153\n"
     ]
    },
    {
     "data": {
      "image/png": "[encoded data removed]",
      "text/plain": [
       "<Figure size 1080x360 with 2 Axes>"
      ]
     },
     "metadata": {
      "needs_background": "light"
     },
     "output_type": "display_data"
    },
    {
     "name": "stdout",
     "output_type": "stream",
     "text": [
      "Корреляция между отзывами критиков и продажами:  0.5256325825189971\n",
      "Корреляция между отзывами пользователей и продажами: -0.06923150041615936\n"
     ]
    },
    {
     "data": {
      "image/png": "[encoded data removed]",
      "text/plain": [
       "<Figure size 1080x360 with 2 Axes>"
      ]
     },
     "metadata": {
      "needs_background": "light"
     },
     "output_type": "display_data"
    },
    {
     "name": "stdout",
     "output_type": "stream",
     "text": [
      "Корреляция между отзывами критиков и продажами:  0.4481976974045557\n",
      "Корреляция между отзывами пользователей и продажами: 0.07344392517229589\n"
     ]
    }
   ],
   "source": [
    "# Вычисляем корреляцию и строим диаграмму рассеивания для остальных платформ\n",
    "top_5 = ['PS4', 'WiiU', 'X360', 'XOne']\n",
    "for plat in top_5:\n",
    "    data_5 = actual_data[actual_data['platform'] == plat]\n",
    "    fig, ax = plt.subplots(1, 2, figsize=(15,5))\n",
    "    sns.scatterplot(x='user_score', y='sum_profit', data=data_5, ax=ax[0])\n",
    "    sns.scatterplot(x='critic_score', y='sum_profit', data=data_5, ax=ax[1])\n",
    "    fig.suptitle(plat, fontsize=15)\n",
    "    ax[0].set(xlabel='Оценка пользователей')\n",
    "    ax[1].set(xlabel='Оценка критиков')\n",
    "    ax[0].set(ylabel='Количество продаж')\n",
    "    ax[1].set(ylabel='Количество продаж')\n",
    "    plt.show()\n",
    "    print(\"Корреляция между отзывами критиков и продажами: \", data_5['critic_score'].corr(data_5['sum_profit']))\n",
    "    print(\"Корреляция между отзывами пользователей и продажами:\", data_5['user_score'].corr(data_5['sum_profit']))"
   ]
  },
  {
   "cell_type": "markdown",
   "metadata": {},
   "source": [
    "Для платформы WiiU корреляция между продажами и оценками критиков и корреляция между продажами и оценками пользователей практически одинаковы. (0.37 и 0.39 соответственно). Для остальных платформ оценка критиков имеет гораздо большее значение, нежели оценка пользователей."
   ]
  },
  {
   "cell_type": "code",
   "execution_count": 52,
   "metadata": {},
   "outputs": [
    {
     "data": {
      "text/plain": [
       "Action          599\n",
       "Role-Playing    211\n",
       "Adventure       185\n",
       "Sports          144\n",
       "Misc            108\n",
       "Shooter         100\n",
       "Racing           65\n",
       "Fighting         57\n",
       "Simulation       42\n",
       "Strategy         37\n",
       "Platform         35\n",
       "Puzzle           14\n",
       "Name: genre, dtype: int64"
      ]
     },
     "execution_count": 52,
     "metadata": {},
     "output_type": "execute_result"
    }
   ],
   "source": [
    "actual_data['genre'].value_counts()"
   ]
  },
  {
   "cell_type": "code",
   "execution_count": 53,
   "metadata": {},
   "outputs": [
    {
     "data": {
      "text/plain": [
       "<matplotlib.legend.Legend at 0x7fe85d79e220>"
      ]
     },
     "execution_count": 53,
     "metadata": {},
     "output_type": "execute_result"
    },
    {
     "data": {
      "image/png": "[encoded data removed]",
      "text/plain": [
       "<Figure size 864x432 with 1 Axes>"
      ]
     },
     "metadata": {
      "needs_background": "light"
     },
     "output_type": "display_data"
    }
   ],
   "source": [
    "# Построим график распределения игр по жанрам\n",
    "games_on_period = actual_data.pivot_table(index='genre', values='sum_profit', aggfunc='sum').sort_values(by='sum_profit', ascending=False)\n",
    "games_on_period = games_on_period.reset_index().rename_axis(None, axis=1)\n",
    "plt.figure(figsize=(12,6))\n",
    "sns.barplot(data=games_on_period, x='genre', y='sum_profit')\n",
    "plt.title(\"Игры, выпускаемые в разные годы\")\n",
    "plt.xlabel(\"Год выпуска\")\n",
    "plt.ylabel(\"Количество выпущенных игр\")\n",
    "plt.legend('')"
   ]
  },
  {
   "cell_type": "markdown",
   "metadata": {},
   "source": [
    "Самый прибыльный жанр - экшн. Головоломка на последнем месте."
   ]
  },
  {
   "cell_type": "markdown",
   "metadata": {},
   "source": [
    "# 3. Портрет пользователя каждого региона"
   ]
  },
  {
   "cell_type": "code",
   "execution_count": 54,
   "metadata": {},
   "outputs": [
    {
     "data": {
      "text/plain": [
       "<matplotlib.legend.Legend at 0x7fe85b3e5e80>"
      ]
     },
     "execution_count": 54,
     "metadata": {},
     "output_type": "execute_result"
    },
    {
     "data": {
      "image/png": "[encoded data removed]",
      "text/plain": [
       "<Figure size 504x288 with 1 Axes>"
      ]
     },
     "metadata": {
      "needs_background": "light"
     },
     "output_type": "display_data"
    },
    {
     "data": {
      "image/png": "[encoded data removed]",
      "text/plain": [
       "<Figure size 504x288 with 1 Axes>"
      ]
     },
     "metadata": {
      "needs_background": "light"
     },
     "output_type": "display_data"
    },
    {
     "data": {
      "image/png": "[encoded data removed]",
      "text/plain": [
       "<Figure size 504x288 with 1 Axes>"
      ]
     },
     "metadata": {
      "needs_background": "light"
     },
     "output_type": "display_data"
    }
   ],
   "source": [
    "# Пользователи из NA\n",
    "top_5_na_pl = actual_data.pivot_table(index='platform', values='na_sales', aggfunc='sum').sort_values(by='na_sales', ascending=False).head(5)\n",
    "top_5_na_pl = top_5_na_pl.reset_index().rename_axis(None, axis=1)\n",
    "plt.figure(figsize=(7,4))\n",
    "sns.barplot(data=top_5_na_pl, x='platform', y='na_sales')\n",
    "plt.title(\"Топ-5 платформ в Северной Америке\")\n",
    "plt.xlabel(\"Платформа\")\n",
    "plt.ylabel(\"Продажи\")\n",
    "plt.legend('') # Топ-5 платформ\n",
    "\n",
    "top_5_na_gr = actual_data.pivot_table(index='genre', values='na_sales', aggfunc='count').sort_values(by='na_sales', ascending=False).head(5)\n",
    "top_5_na_gr = top_5_na_gr.reset_index().rename_axis(None, axis=1)\n",
    "plt.figure(figsize=(7,4))\n",
    "sns.barplot(data=top_5_na_gr, x='genre', y='na_sales')\n",
    "plt.title(\"Топ-5 жанров в Северной Америке\")\n",
    "plt.xlabel(\"Жанр\")\n",
    "plt.ylabel(\"Продажи\")\n",
    "plt.legend('') # Жанры\n",
    "\n",
    "top_5_na_rt = actual_data[actual_data['rating'] != 'no'].pivot_table(index='rating', values='na_sales', aggfunc='count').sort_values(by='na_sales', ascending=False)\n",
    "top_5_na_rt = top_5_na_rt.reset_index().rename_axis(None, axis=1)\n",
    "plt.figure(figsize=(7,4))\n",
    "sns.barplot(data=top_5_na_rt, x='rating', y='na_sales')\n",
    "plt.title(\"Распределение рейтинга ESRB в Северной Америке\")\n",
    "plt.xlabel(\"Рейтинг ESRB\")\n",
    "plt.ylabel(\"Продажи\")\n",
    "plt.legend('') # Рейтинг"
   ]
  },
  {
   "cell_type": "code",
   "execution_count": 55,
   "metadata": {},
   "outputs": [
    {
     "data": {
      "text/plain": [
       "<matplotlib.legend.Legend at 0x7fe85b282250>"
      ]
     },
     "execution_count": 55,
     "metadata": {},
     "output_type": "execute_result"
    },
    {
     "data": {
      "image/png": "[encoded data removed]",
      "text/plain": [
       "<Figure size 504x288 with 1 Axes>"
      ]
     },
     "metadata": {
      "needs_background": "light"
     },
     "output_type": "display_data"
    },
    {
     "data": {
      "image/png": "[encoded data removed]",
      "text/plain": [
       "<Figure size 504x288 with 1 Axes>"
      ]
     },
     "metadata": {
      "needs_background": "light"
     },
     "output_type": "display_data"
    },
    {
     "data": {
      "image/png": "[encoded data removed]",
      "text/plain": [
       "<Figure size 504x288 with 1 Axes>"
      ]
     },
     "metadata": {
      "needs_background": "light"
     },
     "output_type": "display_data"
    }
   ],
   "source": [
    "# Пользователи из Европы\n",
    "top_5_eu = actual_data.pivot_table(index='platform', values='eu_sales', aggfunc='sum').sort_values(by='eu_sales', ascending=False).head(5)\n",
    "top_5_eu = top_5_eu.reset_index().rename_axis(None, axis=1)\n",
    "plt.figure(figsize=(7,4))\n",
    "sns.barplot(data=top_5_eu, x='platform', y='eu_sales')\n",
    "plt.title(\"Топ-5 платформ в Европе\")\n",
    "plt.xlabel(\"Платформа\")\n",
    "plt.ylabel(\"Продажи\")\n",
    "plt.legend('') # Топ-5 платформ\n",
    "\n",
    "top_5_eu_gr = actual_data.pivot_table(index='genre', values='eu_sales', aggfunc='sum').sort_values(by='eu_sales', ascending=False).head(5)\n",
    "top_5_eu_gr = top_5_eu_gr.reset_index().rename_axis(None, axis=1)\n",
    "plt.figure(figsize=(7,4))\n",
    "sns.barplot(data=top_5_eu_gr, x='genre', y='eu_sales')\n",
    "plt.title(\"Топ-5 жанров в Европе\")\n",
    "plt.xlabel(\"Жанр\")\n",
    "plt.ylabel(\"Продажи\")\n",
    "plt.legend('') # Жанры\n",
    "\n",
    "top_5_eu_rt = actual_data[actual_data['rating'] != 'no'].pivot_table(index='rating', values='eu_sales', aggfunc='sum').sort_values(by='eu_sales', ascending=False)\n",
    "top_5_eu_rt = top_5_eu_rt.reset_index().rename_axis(None, axis=1)\n",
    "plt.figure(figsize=(7,4))\n",
    "sns.barplot(data=top_5_eu_rt, x='rating', y='eu_sales')\n",
    "plt.title(\"Распределение рейтинга ESRB в Европе\")\n",
    "plt.xlabel(\"Рейтинг ESRB\")\n",
    "plt.ylabel(\"Продажи\")\n",
    "plt.legend('') # Рейтинг"
   ]
  },
  {
   "cell_type": "code",
   "execution_count": 56,
   "metadata": {},
   "outputs": [
    {
     "data": {
      "text/plain": [
       "<matplotlib.legend.Legend at 0x7fe85b1311f0>"
      ]
     },
     "execution_count": 56,
     "metadata": {},
     "output_type": "execute_result"
    },
    {
     "data": {
      "image/png": "[encoded data removed]",
      "text/plain": [
       "<Figure size 504x288 with 1 Axes>"
      ]
     },
     "metadata": {
      "needs_background": "light"
     },
     "output_type": "display_data"
    },
    {
     "data": {
      "image/png": "[encoded data removed]",
      "text/plain": [
       "<Figure size 504x288 with 1 Axes>"
      ]
     },
     "metadata": {
      "needs_background": "light"
     },
     "output_type": "display_data"
    },
    {
     "data": {
      "image/png": "[encoded data removed]",
      "text/plain": [
       "<Figure size 504x288 with 1 Axes>"
      ]
     },
     "metadata": {
      "needs_background": "light"
     },
     "output_type": "display_data"
    }
   ],
   "source": [
    "# Пользователи из Японии\n",
    "top_5_jp = actual_data.pivot_table(index='platform', values='jp_sales', aggfunc='sum').sort_values(by='jp_sales', ascending=False).head(5)\n",
    "top_5_jp = top_5_jp.reset_index().rename_axis(None, axis=1)\n",
    "plt.figure(figsize=(7,4))\n",
    "sns.barplot(data=top_5_jp, x='platform', y='jp_sales')\n",
    "plt.title(\"Топ-5 платформ в Японии\")\n",
    "plt.xlabel(\"Платформа\")\n",
    "plt.ylabel(\"Продажи\")\n",
    "plt.legend('')\n",
    "\n",
    "top_5_jp_gr = actual_data.pivot_table(index='genre', values='jp_sales', aggfunc='sum').sort_values(by='jp_sales', ascending=False).head(5)\n",
    "top_5_jp_gr = top_5_jp_gr.reset_index().rename_axis(None, axis=1)\n",
    "plt.figure(figsize=(7,4))\n",
    "sns.barplot(data=top_5_jp_gr, x='genre', y='jp_sales')\n",
    "plt.title(\"Топ-5 жанров в Японии\")\n",
    "plt.xlabel(\"Жанр\")\n",
    "plt.ylabel(\"Продажи\")\n",
    "plt.legend('') # Жанры\n",
    "\n",
    "top_5_jp_rt = actual_data[actual_data['rating'] != 'no'].pivot_table(index='rating', values='jp_sales', aggfunc='sum').sort_values(by='jp_sales', ascending=False)\n",
    "top_5_jp_rt = top_5_jp_rt.reset_index().rename_axis(None, axis=1)\n",
    "plt.figure(figsize=(7,4))\n",
    "sns.barplot(data=top_5_jp_rt, x='rating', y='jp_sales')\n",
    "plt.title(\"Распределение рейтинга ESRB в Японии\")\n",
    "plt.xlabel(\"Рейтинг ESRB\")\n",
    "plt.ylabel(\"Продажи\")\n",
    "plt.legend('') # Рейтинг"
   ]
  },
  {
   "cell_type": "code",
   "execution_count": 57,
   "metadata": {},
   "outputs": [
    {
     "data": {
      "text/plain": [
       "<matplotlib.legend.Legend at 0x7fe85b43ee20>"
      ]
     },
     "execution_count": 57,
     "metadata": {},
     "output_type": "execute_result"
    },
    {
     "data": {
      "image/png": "[encoded data removed]",
      "text/plain": [
       "<Figure size 504x288 with 1 Axes>"
      ]
     },
     "metadata": {
      "needs_background": "light"
     },
     "output_type": "display_data"
    },
    {
     "data": {
      "image/png": "[encoded data removed]",
      "text/plain": [
       "<Figure size 504x288 with 1 Axes>"
      ]
     },
     "metadata": {
      "needs_background": "light"
     },
     "output_type": "display_data"
    },
    {
     "data": {
      "image/png": "[encoded data removed]",
      "text/plain": [
       "<Figure size 504x288 with 1 Axes>"
      ]
     },
     "metadata": {
      "needs_background": "light"
     },
     "output_type": "display_data"
    }
   ],
   "source": [
    "# Пользователи из других регионов\n",
    "top_5_other = actual_data.pivot_table(index='platform', values='other_sales', aggfunc='sum').sort_values(by='other_sales', ascending=False).head(5)\n",
    "top_5_other = top_5_other.reset_index().rename_axis(None, axis=1)\n",
    "plt.figure(figsize=(7,4))\n",
    "sns.barplot(data=top_5_other, x='platform', y='other_sales')\n",
    "plt.title(\"Топ-5 платформ в других регионах\")\n",
    "plt.xlabel(\"Платформа\")\n",
    "plt.ylabel(\"Продажи\")\n",
    "plt.legend('')\n",
    "\n",
    "top_5_other_gr = actual_data.pivot_table(index='genre', values='other_sales', aggfunc='sum').sort_values(by='other_sales', ascending=False).head(5)\n",
    "top_5_other_gr = top_5_other_gr.reset_index().rename_axis(None, axis=1)\n",
    "plt.figure(figsize=(7,4))\n",
    "sns.barplot(data=top_5_other_gr, x='genre', y='other_sales')\n",
    "plt.title(\"Топ-5 жанров в других регионах\")\n",
    "plt.xlabel(\"Жанр\")\n",
    "plt.ylabel(\"Продажи\")\n",
    "plt.legend('') # Жанры\n",
    "\n",
    "\n",
    "top_5_other_rt = actual_data[actual_data['rating'] != 'no'].pivot_table(index='rating', values='other_sales', aggfunc='sum').sort_values(by='other_sales', ascending=False)\n",
    "top_5_other_rt = top_5_other_rt.reset_index().rename_axis(None, axis=1)\n",
    "plt.figure(figsize=(7,4))\n",
    "sns.barplot(data=top_5_other_rt, x='rating', y='other_sales')\n",
    "plt.title(\"Распределение рейтинга ESRB в других регионах\")\n",
    "plt.xlabel(\"Рейтинг ESRB\")\n",
    "plt.ylabel(\"Продажи\")\n",
    "plt.legend('') # Рейтинг"
   ]
  },
  {
   "cell_type": "markdown",
   "metadata": {},
   "source": [
    "Вывод:\n",
    "- Самые популярные платформы в Европе и других регионах - это PS4, в Северной Америке - XOne, в Японии - 3DS;\n",
    "- Платформа 3DS - самая популярная в Японии. В остальных регионах она отсутствует даже в топ-5;\n",
    "- PS3 входит в тройку самых продаваемых во всех регионах, кроме Северной Америки;\n",
    "- Экшн является самым популярным жанром во всех регионах.\n",
    "- Жанр игры \"ролевые\" входит в 5-ку самых популярных жанров в каждом регионе;\n",
    "- Жанр игры \"спорт\" популярен везде, кроме Японии;\n",
    "- Игры с рейтингом 'M' (для взрослых) - самые поплуярные в Японии и других регионах. Игры с рейтингом 'T' (для подростков от 13 лет) - самые популярные в Северной Америке и Европе.\n",
    "- Игры с рейтингом 'E' (для всех) занимают 3-ье место по популярности во всех регионах исследования."
   ]
  },
  {
   "cell_type": "markdown",
   "metadata": {},
   "source": [
    "# 4. Проверка гипотез"
   ]
  },
  {
   "cell_type": "markdown",
   "metadata": {},
   "source": [
    "- Нулевая гипотеза - средние пользовательские рейтинги платформ Xbox One и PC одинаковые.\n",
    "- Альтернативная гипотеза - средние пользовательские рейтинги платформ Xbox One и PC различны."
   ]
  },
  {
   "cell_type": "code",
   "execution_count": 69,
   "metadata": {},
   "outputs": [
    {
     "name": "stdout",
     "output_type": "stream",
     "text": [
      "p-значение: 0.0003294040999041141\n",
      "Отвергаем нулевую гипотезу\n"
     ]
    }
   ],
   "source": [
    "xone_user_score = data[(data['year_of_release'] >= 2003) & (data['platform'] == 'XOne') & (data['user_score'].notnull())]['user_score'] \n",
    "pc_user_score = data[(data['year_of_release'] >= 2003) & (data['platform'] == 'PC') & (data['user_score'].notnull())]['user_score']\n",
    "\n",
    "alpha = .05\n",
    "\n",
    "results = st.ttest_ind(xone_user_score, pc_user_score, equal_var = True)\n",
    "\n",
    "print('p-значение:', results.pvalue)\n",
    "\n",
    "\n",
    "if results.pvalue < alpha:\n",
    "    print(\"Отвергаем нулевую гипотезу\")\n",
    "else:\n",
    "    print(\"Не получилось отвергнуть нулевую гипотезу\")"
   ]
  },
  {
   "cell_type": "markdown",
   "metadata": {},
   "source": [
    "Нулевая гипотеза отвергунта. С вероятностью в почти 0,03% можно получить различные рейтинги этих двух платформ. Фактически, такой вероятности не существует."
   ]
  },
  {
   "cell_type": "markdown",
   "metadata": {},
   "source": [
    "- Нулевая гипотеза - средние пользовательские рейтинги жанров Action и Sports одинаковые.\n",
    "- Альтернативная гипотеза - средние пользовательские рейтинги жанров Action и Sports разные."
   ]
  },
  {
   "cell_type": "code",
   "execution_count": 68,
   "metadata": {},
   "outputs": [
    {
     "name": "stdout",
     "output_type": "stream",
     "text": [
      "p-значение: 0.0012094914291146178\n",
      "Отвергаем нулевую гипотезу\n"
     ]
    }
   ],
   "source": [
    "xone_user_score = data[(data['year_of_release'] >= 2003) & (data['genre'] == 'Action') & (data['user_score'].notnull())]['user_score'] \n",
    "pc_user_score = data[(data['year_of_release'] >= 2003) & (data['genre'] == 'Sports') & (data['user_score'].notnull())]['user_score']\n",
    "\n",
    "alpha = .05\n",
    "\n",
    "results = st.ttest_ind(xone_user_score, pc_user_score, equal_var = True)\n",
    "\n",
    "print('p-значение:', results.pvalue)\n",
    "\n",
    "\n",
    "if results.pvalue < alpha:\n",
    "    print(\"Отвергаем нулевую гипотезу\")\n",
    "else:\n",
    "    print(\"Не получилось отвергнуть нулевую гипотезу\")"
   ]
  },
  {
   "cell_type": "markdown",
   "metadata": {},
   "source": [
    "Нулевая гипотеза отвергнута. С вероятностью в 0.1% можно получить одинаковые рейтинги для этих двух жанров. Фактически, такой вероятности почти что не существует."
   ]
  },
  {
   "cell_type": "markdown",
   "metadata": {},
   "source": [
    "# 5. Общий вывод"
   ]
  },
  {
   "cell_type": "markdown",
   "metadata": {},
   "source": [
    "- Провели подготовку данных.Некоторые строки с пропусками были удалены, некоторые пропуски были оставлены без изменений;\n",
    "- Заменили тип данных некоторых столбцов для экономии ячеек памяти и быстроты работы программы;\n",
    "- После провели исследовательский анализ данных. Было обнаружено, что резкий скачок выпуска игр начался с 1995 по 2009 год. После 2009-го года начался такой же резкий спад. Это связано с развитием мобильных телефонов и приложений для них;\n",
    "- Выявили топ-5 консолей по продажам (PS2, X360, PS3, Wii, DS). Средняя продолжительность жизни консоли - около 10-ти лет, пик продажи - 5 лет с её выпуска;\n",
    "- Самая прибыльная игровая консоль за всё время - PS2;\n",
    "- Выбрали актуальный период - с 2014 по 2016 годы;\n",
    "- Выявили закономерность между оценками критиков и пользователей и суммарными продажами платформ. Оценки критиков имеют \"больший вес\", нежели оценки пользователей;\n",
    "- Определили самый популярный жанр - экшн. На последнем месте располагается головоломки;\n",
    "- Позже выявили портреты пользователей каждого региона: \n",
    "1. Северная Америка. Здесь самые популярные платформы за актульный период - это XOne, PS4, X360; самые популярные жанры - это экшн, ролевые игры и приключения; в основном популярны игры с рейтингом 'T' - для подростков от 13-ти лет, следом идет рейтинг 'M' - для взрослых.\n",
    "2. Европа. Самые популярные платформы - это PS4, XOne, PS3; самые популярные жанры - это экшн, шутеры и спорт; в основном популярны игры с рейтингом 'M' - для взрослых, следом идет рейтинг 'E10+' - для детей от 10 лет.\n",
    "3. Япония. Самые популярные платформы - это 3DS, PSV, PS3; самые популярные жанры - это экшн, ролевые игры и аркады; в основном популярны игры с рейтингом 'T' - от 13 лет, следом идет рейтинг 'М' - для взрослых.\n",
    "4. Другие страны. Самые популярные платформы - это PS4, PS3, XOne; самые популярные жанры - это экшн, спорт и шутеры; в основном популярны игры с рейтингом 'М' - для взрослых, следом идет рейтинг 'T' - от 13 лет.\n",
    "- Далее идет проверка гипотез. Гипотеза о том, что средние пользовательские рейтинги платформ Xbox One и PC одинаковые, была отвергнута. Гипотезу \"средние пользовательские рейтинги жанров Action и Sports одинаковые\" так же удалось опровергнуть."
   ]
  },
  {
   "cell_type": "markdown",
   "metadata": {},
   "source": [
    "Ожидается, что продажи будут расти у PS4 и XOne. Самый популярный рейтинг ESRB 'M' (для взрослых) и 'T' (для подростков от 13-ти лет), а самый популярный жанр - экшн."
   ]
  }
 ],
 "metadata": {
  "ExecuteTimeLog": [
   {
    "duration": 79,
    "start_time": "2022-09-20T07:52:49.703Z"
   },
   {
    "duration": 65,
    "start_time": "2022-09-20T07:53:13.251Z"
   },
   {
    "duration": 523,
    "start_time": "2022-09-20T08:04:05.175Z"
   },
   {
    "duration": 41,
    "start_time": "2022-09-20T08:04:08.319Z"
   },
   {
    "duration": 94,
    "start_time": "2022-09-20T08:04:22.224Z"
   },
   {
    "duration": 68,
    "start_time": "2022-09-20T08:04:28.832Z"
   },
   {
    "duration": 55,
    "start_time": "2022-09-20T08:05:02.895Z"
   },
   {
    "duration": 3,
    "start_time": "2022-09-20T08:08:32.913Z"
   },
   {
    "duration": 2,
    "start_time": "2022-09-20T08:08:37.591Z"
   },
   {
    "duration": 4,
    "start_time": "2022-09-20T08:08:57.394Z"
   },
   {
    "duration": 11,
    "start_time": "2022-09-20T08:28:47.810Z"
   },
   {
    "duration": 5,
    "start_time": "2022-09-20T08:29:19.089Z"
   },
   {
    "duration": 8,
    "start_time": "2022-09-20T08:30:31.519Z"
   },
   {
    "duration": 3,
    "start_time": "2022-09-20T08:31:30.616Z"
   },
   {
    "duration": 9,
    "start_time": "2022-09-20T08:31:45.403Z"
   },
   {
    "duration": 4,
    "start_time": "2022-09-20T08:32:03.332Z"
   },
   {
    "duration": 6,
    "start_time": "2022-09-20T08:32:11.679Z"
   },
   {
    "duration": 4,
    "start_time": "2022-09-20T08:32:51.455Z"
   },
   {
    "duration": 8,
    "start_time": "2022-09-20T08:34:43.829Z"
   },
   {
    "duration": 5,
    "start_time": "2022-09-20T08:34:52.216Z"
   },
   {
    "duration": 4,
    "start_time": "2022-09-20T08:48:31.811Z"
   },
   {
    "duration": 4,
    "start_time": "2022-09-20T08:48:36.765Z"
   },
   {
    "duration": 18,
    "start_time": "2022-09-20T08:52:00.837Z"
   },
   {
    "duration": 32,
    "start_time": "2022-09-20T08:54:36.484Z"
   },
   {
    "duration": 8,
    "start_time": "2022-09-20T08:58:30.713Z"
   },
   {
    "duration": 13,
    "start_time": "2022-09-20T08:58:38.630Z"
   },
   {
    "duration": 11,
    "start_time": "2022-09-20T08:58:52.779Z"
   },
   {
    "duration": 11,
    "start_time": "2022-09-20T09:00:51.237Z"
   },
   {
    "duration": 5,
    "start_time": "2022-09-20T09:01:05.441Z"
   },
   {
    "duration": 4,
    "start_time": "2022-09-20T09:01:25.253Z"
   },
   {
    "duration": 21,
    "start_time": "2022-09-20T09:01:32.055Z"
   },
   {
    "duration": 7,
    "start_time": "2022-09-20T09:02:51.825Z"
   },
   {
    "duration": 5,
    "start_time": "2022-09-20T09:03:30.327Z"
   },
   {
    "duration": 5,
    "start_time": "2022-09-20T09:03:33.879Z"
   },
   {
    "duration": 5,
    "start_time": "2022-09-20T09:03:36.777Z"
   },
   {
    "duration": 22,
    "start_time": "2022-09-20T09:03:49.899Z"
   },
   {
    "duration": 22,
    "start_time": "2022-09-20T09:05:36.965Z"
   },
   {
    "duration": 3,
    "start_time": "2022-09-20T09:08:08.216Z"
   },
   {
    "duration": 3,
    "start_time": "2022-09-20T09:08:12.591Z"
   },
   {
    "duration": 5,
    "start_time": "2022-09-20T09:08:47.699Z"
   },
   {
    "duration": 4,
    "start_time": "2022-09-20T09:09:03.285Z"
   },
   {
    "duration": 41,
    "start_time": "2022-09-20T09:10:17.286Z"
   },
   {
    "duration": 26,
    "start_time": "2022-09-20T09:11:27.743Z"
   },
   {
    "duration": 33,
    "start_time": "2022-09-20T09:11:34.040Z"
   },
   {
    "duration": 3,
    "start_time": "2022-09-20T09:11:41.862Z"
   },
   {
    "duration": 39,
    "start_time": "2022-09-20T09:15:35.584Z"
   },
   {
    "duration": 9,
    "start_time": "2022-09-20T09:16:24.246Z"
   },
   {
    "duration": 5,
    "start_time": "2022-09-20T09:16:43.486Z"
   },
   {
    "duration": 4,
    "start_time": "2022-09-20T09:21:21.546Z"
   },
   {
    "duration": 52,
    "start_time": "2022-09-20T09:21:34.683Z"
   },
   {
    "duration": 47,
    "start_time": "2022-09-20T09:22:22.947Z"
   },
   {
    "duration": 22,
    "start_time": "2022-09-20T09:24:13.064Z"
   },
   {
    "duration": 8,
    "start_time": "2022-09-20T09:25:04.528Z"
   },
   {
    "duration": 29,
    "start_time": "2022-09-20T09:25:07.563Z"
   },
   {
    "duration": 18,
    "start_time": "2022-09-20T09:27:03.116Z"
   },
   {
    "duration": 19,
    "start_time": "2022-09-20T09:27:14.882Z"
   },
   {
    "duration": 15,
    "start_time": "2022-09-20T09:27:33.571Z"
   },
   {
    "duration": 25,
    "start_time": "2022-09-20T09:32:20.297Z"
   },
   {
    "duration": 18,
    "start_time": "2022-09-20T09:32:24.672Z"
   },
   {
    "duration": 21,
    "start_time": "2022-09-20T09:32:31.399Z"
   },
   {
    "duration": 21,
    "start_time": "2022-09-20T09:32:48.983Z"
   },
   {
    "duration": 16,
    "start_time": "2022-09-20T09:32:51.056Z"
   },
   {
    "duration": 17,
    "start_time": "2022-09-20T09:33:12.973Z"
   },
   {
    "duration": 25,
    "start_time": "2022-09-20T09:33:22.321Z"
   },
   {
    "duration": 18,
    "start_time": "2022-09-20T09:33:23.156Z"
   },
   {
    "duration": 27,
    "start_time": "2022-09-20T09:33:34.431Z"
   },
   {
    "duration": 17,
    "start_time": "2022-09-20T09:33:35.172Z"
   },
   {
    "duration": 62,
    "start_time": "2022-09-20T09:33:39.134Z"
   },
   {
    "duration": 14,
    "start_time": "2022-09-20T09:33:39.295Z"
   },
   {
    "duration": 24,
    "start_time": "2022-09-20T09:33:39.472Z"
   },
   {
    "duration": 25,
    "start_time": "2022-09-20T09:33:39.629Z"
   },
   {
    "duration": 4,
    "start_time": "2022-09-20T09:38:18.593Z"
   },
   {
    "duration": 15,
    "start_time": "2022-09-20T09:39:47.849Z"
   },
   {
    "duration": 14,
    "start_time": "2022-09-20T09:39:58.915Z"
   },
   {
    "duration": 14,
    "start_time": "2022-09-20T09:40:17.275Z"
   },
   {
    "duration": 60,
    "start_time": "2022-09-20T09:40:33.050Z"
   },
   {
    "duration": 5,
    "start_time": "2022-09-20T09:40:33.271Z"
   },
   {
    "duration": 5,
    "start_time": "2022-09-20T09:40:33.480Z"
   },
   {
    "duration": 23,
    "start_time": "2022-09-20T09:40:34.163Z"
   },
   {
    "duration": 21,
    "start_time": "2022-09-20T09:40:35.315Z"
   },
   {
    "duration": 12,
    "start_time": "2022-09-20T09:41:37.281Z"
   },
   {
    "duration": 6,
    "start_time": "2022-09-20T09:42:07.220Z"
   },
   {
    "duration": 15,
    "start_time": "2022-09-20T09:42:09.050Z"
   },
   {
    "duration": 23,
    "start_time": "2022-09-20T09:42:16.694Z"
   },
   {
    "duration": 269,
    "start_time": "2022-09-20T09:43:44.469Z"
   },
   {
    "duration": 239,
    "start_time": "2022-09-20T09:44:02.483Z"
   },
   {
    "duration": 1438,
    "start_time": "2022-09-20T09:44:09.576Z"
   },
   {
    "duration": 14,
    "start_time": "2022-09-20T09:44:36.732Z"
   },
   {
    "duration": 17,
    "start_time": "2022-09-20T10:25:39.061Z"
   },
   {
    "duration": 352,
    "start_time": "2022-09-20T10:25:54.790Z"
   },
   {
    "duration": 7,
    "start_time": "2022-09-20T10:31:25.846Z"
   },
   {
    "duration": 486,
    "start_time": "2022-09-20T10:36:21.814Z"
   },
   {
    "duration": 20,
    "start_time": "2022-09-20T10:37:15.423Z"
   },
   {
    "duration": 17,
    "start_time": "2022-09-20T10:40:27.842Z"
   },
   {
    "duration": 19,
    "start_time": "2022-09-20T10:41:27.073Z"
   },
   {
    "duration": 19,
    "start_time": "2022-09-20T10:46:53.119Z"
   },
   {
    "duration": 49,
    "start_time": "2022-09-20T15:33:16.799Z"
   },
   {
    "duration": 663,
    "start_time": "2022-09-20T15:33:21.792Z"
   },
   {
    "duration": 9,
    "start_time": "2022-09-20T15:33:23.446Z"
   },
   {
    "duration": 8,
    "start_time": "2022-09-20T15:33:25.176Z"
   },
   {
    "duration": 18,
    "start_time": "2022-09-20T15:34:09.460Z"
   },
   {
    "duration": 40,
    "start_time": "2022-09-20T15:36:35.308Z"
   },
   {
    "duration": 10,
    "start_time": "2022-09-20T15:45:42.384Z"
   },
   {
    "duration": 63,
    "start_time": "2022-09-20T15:46:16.952Z"
   },
   {
    "duration": 5,
    "start_time": "2022-09-20T15:46:20.313Z"
   },
   {
    "duration": 10,
    "start_time": "2022-09-20T15:46:21.088Z"
   },
   {
    "duration": 30,
    "start_time": "2022-09-20T15:46:21.908Z"
   },
   {
    "duration": 14,
    "start_time": "2022-09-20T15:46:22.742Z"
   },
   {
    "duration": 8,
    "start_time": "2022-09-20T15:46:52.554Z"
   },
   {
    "duration": 447,
    "start_time": "2022-09-20T15:47:53.396Z"
   },
   {
    "duration": 17,
    "start_time": "2022-09-20T15:48:03.498Z"
   },
   {
    "duration": 17,
    "start_time": "2022-09-20T15:48:06.292Z"
   },
   {
    "duration": 21,
    "start_time": "2022-09-20T15:49:24.193Z"
   },
   {
    "duration": 19,
    "start_time": "2022-09-20T15:49:35.305Z"
   },
   {
    "duration": 14,
    "start_time": "2022-09-20T16:15:07.925Z"
   },
   {
    "duration": 20,
    "start_time": "2022-09-20T16:15:11.017Z"
   },
   {
    "duration": 11,
    "start_time": "2022-09-20T16:26:20.302Z"
   },
   {
    "duration": 8,
    "start_time": "2022-09-20T17:25:30.015Z"
   },
   {
    "duration": 30,
    "start_time": "2022-09-20T17:25:36.742Z"
   },
   {
    "duration": 4,
    "start_time": "2022-09-20T17:27:24.158Z"
   },
   {
    "duration": 9,
    "start_time": "2022-09-20T17:31:46.928Z"
   },
   {
    "duration": 10,
    "start_time": "2022-09-20T17:31:53.797Z"
   },
   {
    "duration": 19,
    "start_time": "2022-09-20T17:33:10.763Z"
   },
   {
    "duration": 22,
    "start_time": "2022-09-20T17:37:38.541Z"
   },
   {
    "duration": 17,
    "start_time": "2022-09-20T17:38:24.123Z"
   },
   {
    "duration": 15,
    "start_time": "2022-09-20T17:38:31.630Z"
   },
   {
    "duration": 17,
    "start_time": "2022-09-20T17:38:34.646Z"
   },
   {
    "duration": 23,
    "start_time": "2022-09-20T17:38:39.587Z"
   },
   {
    "duration": 4,
    "start_time": "2022-09-20T17:38:46.864Z"
   },
   {
    "duration": 8,
    "start_time": "2022-09-20T17:38:48.682Z"
   },
   {
    "duration": 73,
    "start_time": "2022-09-20T17:39:01.496Z"
   },
   {
    "duration": 5,
    "start_time": "2022-09-20T17:39:04.179Z"
   },
   {
    "duration": 21,
    "start_time": "2022-09-20T17:39:05.117Z"
   },
   {
    "duration": 19,
    "start_time": "2022-09-20T17:39:09.236Z"
   },
   {
    "duration": 5,
    "start_time": "2022-09-20T17:39:11.672Z"
   },
   {
    "duration": 13,
    "start_time": "2022-09-20T17:39:13.088Z"
   },
   {
    "duration": 13,
    "start_time": "2022-09-20T17:41:38.458Z"
   },
   {
    "duration": 23,
    "start_time": "2022-09-20T17:41:42.343Z"
   },
   {
    "duration": 4,
    "start_time": "2022-09-20T17:41:43.509Z"
   },
   {
    "duration": 8,
    "start_time": "2022-09-20T17:41:44.601Z"
   },
   {
    "duration": 9,
    "start_time": "2022-09-20T17:45:23.344Z"
   },
   {
    "duration": 6,
    "start_time": "2022-09-20T17:45:53.529Z"
   },
   {
    "duration": 14,
    "start_time": "2022-09-20T17:46:06.672Z"
   },
   {
    "duration": 17,
    "start_time": "2022-09-20T17:46:10.547Z"
   },
   {
    "duration": 52,
    "start_time": "2022-09-20T19:24:12.219Z"
   },
   {
    "duration": 562,
    "start_time": "2022-09-20T19:24:18.172Z"
   },
   {
    "duration": 11,
    "start_time": "2022-09-20T19:24:18.737Z"
   },
   {
    "duration": 20,
    "start_time": "2022-09-20T19:24:18.842Z"
   },
   {
    "duration": 15,
    "start_time": "2022-09-20T19:24:22.300Z"
   },
   {
    "duration": 4,
    "start_time": "2022-09-20T19:24:23.564Z"
   },
   {
    "duration": 5,
    "start_time": "2022-09-20T19:24:24.985Z"
   },
   {
    "duration": 8,
    "start_time": "2022-09-20T19:24:25.650Z"
   },
   {
    "duration": 4,
    "start_time": "2022-09-20T19:24:44.973Z"
   },
   {
    "duration": 5,
    "start_time": "2022-09-20T19:25:55.183Z"
   },
   {
    "duration": 52,
    "start_time": "2022-09-20T19:26:16.006Z"
   },
   {
    "duration": 12,
    "start_time": "2022-09-20T19:26:59.351Z"
   },
   {
    "duration": 6,
    "start_time": "2022-09-20T19:27:09.804Z"
   },
   {
    "duration": 25,
    "start_time": "2022-09-20T19:27:21.947Z"
   },
   {
    "duration": 4,
    "start_time": "2022-09-23T07:30:07.343Z"
   },
   {
    "duration": 1439,
    "start_time": "2022-09-23T07:31:23.262Z"
   },
   {
    "duration": 6,
    "start_time": "2022-09-23T07:31:27.890Z"
   },
   {
    "duration": 30,
    "start_time": "2022-09-23T07:31:39.075Z"
   },
   {
    "duration": 16,
    "start_time": "2022-09-23T07:31:46.172Z"
   },
   {
    "duration": 4,
    "start_time": "2022-09-23T07:31:50.006Z"
   },
   {
    "duration": 5,
    "start_time": "2022-09-23T07:31:51.178Z"
   },
   {
    "duration": 110,
    "start_time": "2022-09-23T07:33:35.183Z"
   },
   {
    "duration": 9,
    "start_time": "2022-09-23T07:33:38.579Z"
   },
   {
    "duration": 10,
    "start_time": "2022-09-23T07:33:39.477Z"
   },
   {
    "duration": 9,
    "start_time": "2022-09-23T07:34:09.119Z"
   },
   {
    "duration": 203,
    "start_time": "2022-09-23T07:34:40.086Z"
   },
   {
    "duration": 187,
    "start_time": "2022-09-23T07:35:18.935Z"
   },
   {
    "duration": 199,
    "start_time": "2022-09-23T07:44:27.752Z"
   },
   {
    "duration": 15,
    "start_time": "2022-09-23T07:52:49.536Z"
   },
   {
    "duration": 16,
    "start_time": "2022-09-23T07:53:13.984Z"
   },
   {
    "duration": 15,
    "start_time": "2022-09-23T07:53:31.854Z"
   },
   {
    "duration": 15,
    "start_time": "2022-09-23T07:54:15.791Z"
   },
   {
    "duration": 19,
    "start_time": "2022-09-23T07:54:22.739Z"
   },
   {
    "duration": 267,
    "start_time": "2022-09-23T08:00:12.819Z"
   },
   {
    "duration": 301,
    "start_time": "2022-09-23T08:00:34.161Z"
   },
   {
    "duration": 285,
    "start_time": "2022-09-23T08:01:09.147Z"
   },
   {
    "duration": 291,
    "start_time": "2022-09-23T08:03:19.877Z"
   },
   {
    "duration": 177,
    "start_time": "2022-09-23T08:07:28.355Z"
   },
   {
    "duration": 416,
    "start_time": "2022-09-23T08:09:15.890Z"
   },
   {
    "duration": 364,
    "start_time": "2022-09-23T08:10:41.561Z"
   },
   {
    "duration": 19,
    "start_time": "2022-09-23T08:10:56.233Z"
   },
   {
    "duration": 41,
    "start_time": "2022-09-23T10:34:12.863Z"
   },
   {
    "duration": 1241,
    "start_time": "2022-09-23T10:34:18.559Z"
   },
   {
    "duration": 6,
    "start_time": "2022-09-23T10:34:19.802Z"
   },
   {
    "duration": 20,
    "start_time": "2022-09-23T10:34:19.809Z"
   },
   {
    "duration": 15,
    "start_time": "2022-09-23T10:34:20.871Z"
   },
   {
    "duration": 4,
    "start_time": "2022-09-23T10:34:22.024Z"
   },
   {
    "duration": 5,
    "start_time": "2022-09-23T10:34:23.514Z"
   },
   {
    "duration": 189,
    "start_time": "2022-09-23T10:34:24.137Z"
   },
   {
    "duration": 348,
    "start_time": "2022-09-23T10:34:26.086Z"
   },
   {
    "duration": 21,
    "start_time": "2022-09-23T10:34:27.834Z"
   },
   {
    "duration": 20,
    "start_time": "2022-09-23T10:39:01.565Z"
   },
   {
    "duration": 17,
    "start_time": "2022-09-23T10:41:00.350Z"
   },
   {
    "duration": 14,
    "start_time": "2022-09-23T10:44:43.010Z"
   },
   {
    "duration": 5,
    "start_time": "2022-09-23T10:46:04.680Z"
   },
   {
    "duration": 4,
    "start_time": "2022-09-23T10:46:08.366Z"
   },
   {
    "duration": 15,
    "start_time": "2022-09-23T10:46:10.248Z"
   },
   {
    "duration": 432,
    "start_time": "2022-09-23T10:50:55.468Z"
   },
   {
    "duration": 423,
    "start_time": "2022-09-23T10:51:07.396Z"
   },
   {
    "duration": 539,
    "start_time": "2022-09-23T10:51:33.170Z"
   },
   {
    "duration": 247,
    "start_time": "2022-09-23T10:53:27.034Z"
   },
   {
    "duration": 14,
    "start_time": "2022-09-23T10:56:00.723Z"
   },
   {
    "duration": 14,
    "start_time": "2022-09-23T10:56:06.064Z"
   },
   {
    "duration": 13,
    "start_time": "2022-09-23T10:56:12.211Z"
   },
   {
    "duration": 14,
    "start_time": "2022-09-23T10:56:17.135Z"
   },
   {
    "duration": 359,
    "start_time": "2022-09-23T10:57:02.763Z"
   },
   {
    "duration": 299,
    "start_time": "2022-09-23T10:57:11.895Z"
   },
   {
    "duration": 6,
    "start_time": "2022-09-23T11:01:33.069Z"
   },
   {
    "duration": 8,
    "start_time": "2022-09-23T11:01:57.885Z"
   },
   {
    "duration": 7,
    "start_time": "2022-09-23T11:02:07.249Z"
   },
   {
    "duration": 8,
    "start_time": "2022-09-23T11:03:16.747Z"
   },
   {
    "duration": 8,
    "start_time": "2022-09-23T11:03:43.253Z"
   },
   {
    "duration": 3,
    "start_time": "2022-09-23T11:11:48.602Z"
   },
   {
    "duration": 56,
    "start_time": "2022-09-23T11:15:28.511Z"
   },
   {
    "duration": 3,
    "start_time": "2022-09-23T11:15:32.704Z"
   },
   {
    "duration": 10,
    "start_time": "2022-09-23T11:15:33.440Z"
   },
   {
    "duration": 8,
    "start_time": "2022-09-23T11:15:42.724Z"
   },
   {
    "duration": 2,
    "start_time": "2022-09-23T11:15:43.252Z"
   },
   {
    "duration": 8,
    "start_time": "2022-09-23T11:15:43.993Z"
   },
   {
    "duration": 19,
    "start_time": "2022-09-23T11:16:03.273Z"
   },
   {
    "duration": 19,
    "start_time": "2022-09-23T11:16:15.539Z"
   },
   {
    "duration": 3,
    "start_time": "2022-09-23T11:16:32.403Z"
   },
   {
    "duration": 1262,
    "start_time": "2022-09-23T11:16:33.298Z"
   },
   {
    "duration": 254,
    "start_time": "2022-09-23T11:16:48.369Z"
   },
   {
    "duration": 153,
    "start_time": "2022-09-23T11:17:05.750Z"
   },
   {
    "duration": 271,
    "start_time": "2022-09-23T11:17:22.301Z"
   },
   {
    "duration": 332,
    "start_time": "2022-09-23T11:21:39.231Z"
   },
   {
    "duration": 330,
    "start_time": "2022-09-23T11:22:09.194Z"
   },
   {
    "duration": 362,
    "start_time": "2022-09-23T11:22:16.477Z"
   },
   {
    "duration": 20,
    "start_time": "2022-09-23T11:30:57.814Z"
   },
   {
    "duration": 5,
    "start_time": "2022-09-23T11:31:01.978Z"
   },
   {
    "duration": 5,
    "start_time": "2022-09-23T11:33:25.880Z"
   },
   {
    "duration": 18,
    "start_time": "2022-09-23T11:33:37.746Z"
   },
   {
    "duration": 11,
    "start_time": "2022-09-23T11:55:23.686Z"
   },
   {
    "duration": 20,
    "start_time": "2022-09-23T11:56:12.920Z"
   },
   {
    "duration": 225,
    "start_time": "2022-09-23T11:56:27.388Z"
   },
   {
    "duration": 148,
    "start_time": "2022-09-23T11:57:21.025Z"
   },
   {
    "duration": 175,
    "start_time": "2022-09-23T11:58:11.895Z"
   },
   {
    "duration": 175,
    "start_time": "2022-09-23T11:58:58.265Z"
   },
   {
    "duration": 166,
    "start_time": "2022-09-23T11:59:05.745Z"
   },
   {
    "duration": 20,
    "start_time": "2022-09-23T12:00:51.628Z"
   },
   {
    "duration": 204,
    "start_time": "2022-09-23T12:00:54.533Z"
   },
   {
    "duration": 21,
    "start_time": "2022-09-23T12:02:57.269Z"
   },
   {
    "duration": 213,
    "start_time": "2022-09-23T12:02:57.445Z"
   },
   {
    "duration": 24,
    "start_time": "2022-09-23T12:03:37.433Z"
   },
   {
    "duration": 188,
    "start_time": "2022-09-23T12:03:38.060Z"
   },
   {
    "duration": 56,
    "start_time": "2022-09-24T09:05:52.966Z"
   },
   {
    "duration": 1565,
    "start_time": "2022-09-24T09:06:00.617Z"
   },
   {
    "duration": 7,
    "start_time": "2022-09-24T09:06:02.185Z"
   },
   {
    "duration": 88,
    "start_time": "2022-09-24T09:06:02.194Z"
   },
   {
    "duration": 18,
    "start_time": "2022-09-24T09:06:02.694Z"
   },
   {
    "duration": 5,
    "start_time": "2022-09-24T09:06:03.262Z"
   },
   {
    "duration": 7,
    "start_time": "2022-09-24T09:06:03.703Z"
   },
   {
    "duration": 221,
    "start_time": "2022-09-24T09:06:03.909Z"
   },
   {
    "duration": 383,
    "start_time": "2022-09-24T09:06:04.527Z"
   },
   {
    "duration": 12,
    "start_time": "2022-09-24T09:06:05.405Z"
   },
   {
    "duration": 4,
    "start_time": "2022-09-24T09:06:05.929Z"
   },
   {
    "duration": 361,
    "start_time": "2022-09-24T09:06:06.292Z"
   },
   {
    "duration": 27,
    "start_time": "2022-09-24T09:06:07.615Z"
   },
   {
    "duration": 233,
    "start_time": "2022-09-24T09:06:08.178Z"
   },
   {
    "duration": 25,
    "start_time": "2022-09-24T09:06:09.613Z"
   },
   {
    "duration": 16,
    "start_time": "2022-09-24T09:06:19.399Z"
   },
   {
    "duration": 190,
    "start_time": "2022-09-24T09:09:13.633Z"
   },
   {
    "duration": 5,
    "start_time": "2022-09-24T09:09:21.069Z"
   },
   {
    "duration": 1048,
    "start_time": "2022-09-24T09:09:21.508Z"
   },
   {
    "duration": 224,
    "start_time": "2022-09-24T09:09:32.115Z"
   },
   {
    "duration": 54,
    "start_time": "2022-09-27T17:10:35.418Z"
   },
   {
    "duration": 1501,
    "start_time": "2022-09-27T17:10:42.462Z"
   },
   {
    "duration": 7,
    "start_time": "2022-09-27T17:10:43.965Z"
   },
   {
    "duration": 22,
    "start_time": "2022-09-27T17:10:44.486Z"
   },
   {
    "duration": 16,
    "start_time": "2022-09-27T17:10:48.429Z"
   },
   {
    "duration": 4,
    "start_time": "2022-09-27T17:10:50.349Z"
   },
   {
    "duration": 6,
    "start_time": "2022-09-27T17:10:51.899Z"
   },
   {
    "duration": 234,
    "start_time": "2022-09-27T17:10:52.666Z"
   },
   {
    "duration": 366,
    "start_time": "2022-09-27T17:10:54.254Z"
   },
   {
    "duration": 12,
    "start_time": "2022-09-27T17:10:57.216Z"
   },
   {
    "duration": 3,
    "start_time": "2022-09-27T17:11:12.849Z"
   },
   {
    "duration": 409,
    "start_time": "2022-09-27T17:11:38.722Z"
   },
   {
    "duration": 24,
    "start_time": "2022-09-27T17:11:40.490Z"
   },
   {
    "duration": 225,
    "start_time": "2022-09-27T17:11:41.188Z"
   },
   {
    "duration": 23,
    "start_time": "2022-09-27T17:11:42.617Z"
   },
   {
    "duration": 5,
    "start_time": "2022-09-27T17:13:07.083Z"
   },
   {
    "duration": 5,
    "start_time": "2022-09-27T17:14:16.534Z"
   },
   {
    "duration": 177,
    "start_time": "2022-09-27T17:16:04.187Z"
   },
   {
    "duration": 196,
    "start_time": "2022-09-27T17:16:16.977Z"
   },
   {
    "duration": 278,
    "start_time": "2022-09-27T17:16:55.342Z"
   },
   {
    "duration": 201,
    "start_time": "2022-09-27T17:17:26.365Z"
   },
   {
    "duration": 174,
    "start_time": "2022-09-27T17:17:49.399Z"
   },
   {
    "duration": 1108,
    "start_time": "2022-09-27T17:32:39.691Z"
   },
   {
    "duration": 368,
    "start_time": "2022-09-27T17:41:42.980Z"
   },
   {
    "duration": 1933,
    "start_time": "2022-09-27T17:42:15.252Z"
   },
   {
    "duration": 61,
    "start_time": "2022-09-27T17:46:21.441Z"
   },
   {
    "duration": 1844,
    "start_time": "2022-09-27T17:46:50.818Z"
   },
   {
    "duration": 1912,
    "start_time": "2022-09-27T17:47:12.995Z"
   },
   {
    "duration": 10,
    "start_time": "2022-09-27T17:48:04.141Z"
   },
   {
    "duration": 303,
    "start_time": "2022-09-27T17:48:36.570Z"
   },
   {
    "duration": 4,
    "start_time": "2022-09-27T17:48:46.086Z"
   },
   {
    "duration": 9,
    "start_time": "2022-09-27T17:49:04.916Z"
   },
   {
    "duration": 3,
    "start_time": "2022-09-27T17:49:05.610Z"
   },
   {
    "duration": 315,
    "start_time": "2022-09-27T17:49:06.514Z"
   },
   {
    "duration": 23,
    "start_time": "2022-09-27T17:49:17.771Z"
   },
   {
    "duration": 207,
    "start_time": "2022-09-27T17:49:20.513Z"
   },
   {
    "duration": 279,
    "start_time": "2022-09-27T17:51:05.399Z"
   },
   {
    "duration": 1771,
    "start_time": "2022-09-27T17:51:07.235Z"
   },
   {
    "duration": 1610,
    "start_time": "2022-09-27T17:51:29.688Z"
   },
   {
    "duration": 1614,
    "start_time": "2022-09-27T17:52:04.896Z"
   },
   {
    "duration": 1577,
    "start_time": "2022-09-27T17:52:32.898Z"
   },
   {
    "duration": 6,
    "start_time": "2022-09-27T17:59:28.762Z"
   },
   {
    "duration": 1441,
    "start_time": "2022-10-01T11:58:46.857Z"
   },
   {
    "duration": 6,
    "start_time": "2022-10-01T11:58:48.300Z"
   },
   {
    "duration": 28,
    "start_time": "2022-10-01T11:58:48.307Z"
   },
   {
    "duration": 15,
    "start_time": "2022-10-01T11:58:51.493Z"
   },
   {
    "duration": 4,
    "start_time": "2022-10-01T11:58:52.440Z"
   },
   {
    "duration": 6,
    "start_time": "2022-10-01T11:58:53.458Z"
   },
   {
    "duration": 220,
    "start_time": "2022-10-01T11:58:54.091Z"
   },
   {
    "duration": 353,
    "start_time": "2022-10-01T11:58:55.061Z"
   },
   {
    "duration": 102,
    "start_time": "2022-10-01T11:58:56.358Z"
   },
   {
    "duration": 4,
    "start_time": "2022-10-01T11:58:57.288Z"
   },
   {
    "duration": 10,
    "start_time": "2022-10-01T11:59:08.334Z"
   },
   {
    "duration": 3,
    "start_time": "2022-10-01T11:59:09.275Z"
   },
   {
    "duration": 283,
    "start_time": "2022-10-01T11:59:09.900Z"
   },
   {
    "duration": 22,
    "start_time": "2022-10-01T11:59:12.072Z"
   },
   {
    "duration": 177,
    "start_time": "2022-10-01T11:59:12.764Z"
   },
   {
    "duration": 19,
    "start_time": "2022-10-01T11:59:13.952Z"
   },
   {
    "duration": 5,
    "start_time": "2022-10-01T11:59:14.384Z"
   },
   {
    "duration": 167,
    "start_time": "2022-10-01T11:59:15.075Z"
   },
   {
    "duration": 5,
    "start_time": "2022-10-01T11:59:15.531Z"
   },
   {
    "duration": 151,
    "start_time": "2022-10-01T11:59:16.002Z"
   },
   {
    "duration": 1442,
    "start_time": "2022-10-01T11:59:16.968Z"
   },
   {
    "duration": 5,
    "start_time": "2022-10-01T11:59:18.412Z"
   },
   {
    "duration": 232,
    "start_time": "2022-10-01T11:59:18.419Z"
   },
   {
    "duration": 21,
    "start_time": "2022-10-01T12:00:10.420Z"
   },
   {
    "duration": 141,
    "start_time": "2022-10-01T12:00:41.387Z"
   },
   {
    "duration": 186,
    "start_time": "2022-10-01T12:00:48.745Z"
   },
   {
    "duration": 130,
    "start_time": "2022-10-01T12:04:38.087Z"
   },
   {
    "duration": 22,
    "start_time": "2022-10-01T12:05:42.769Z"
   },
   {
    "duration": 20,
    "start_time": "2022-10-01T12:08:48.395Z"
   },
   {
    "duration": 20,
    "start_time": "2022-10-01T12:08:53.010Z"
   },
   {
    "duration": 15,
    "start_time": "2022-10-01T12:10:22.439Z"
   },
   {
    "duration": 279,
    "start_time": "2022-10-01T12:10:31.386Z"
   },
   {
    "duration": 190,
    "start_time": "2022-10-01T12:15:11.863Z"
   },
   {
    "duration": 200,
    "start_time": "2022-10-01T12:22:59.524Z"
   },
   {
    "duration": 21,
    "start_time": "2022-10-01T12:23:21.062Z"
   },
   {
    "duration": 142,
    "start_time": "2022-10-01T12:23:43.522Z"
   },
   {
    "duration": 148,
    "start_time": "2022-10-01T12:25:32.095Z"
   },
   {
    "duration": 157,
    "start_time": "2022-10-01T12:27:57.745Z"
   },
   {
    "duration": 136,
    "start_time": "2022-10-01T12:31:46.666Z"
   },
   {
    "duration": 22,
    "start_time": "2022-10-01T12:32:32.241Z"
   },
   {
    "duration": 148,
    "start_time": "2022-10-01T12:32:45.632Z"
   },
   {
    "duration": 2,
    "start_time": "2022-10-01T12:33:56.543Z"
   },
   {
    "duration": 21,
    "start_time": "2022-10-01T12:35:07.549Z"
   },
   {
    "duration": 159,
    "start_time": "2022-10-01T12:35:52.672Z"
   },
   {
    "duration": 144,
    "start_time": "2022-10-01T12:37:17.914Z"
   },
   {
    "duration": 190,
    "start_time": "2022-10-01T12:38:07.227Z"
   },
   {
    "duration": 215,
    "start_time": "2022-10-01T12:38:22.027Z"
   },
   {
    "duration": 353,
    "start_time": "2022-10-01T12:45:09.949Z"
   },
   {
    "duration": 328,
    "start_time": "2022-10-01T12:46:38.756Z"
   },
   {
    "duration": 478,
    "start_time": "2022-10-01T12:53:02.551Z"
   },
   {
    "duration": 486,
    "start_time": "2022-10-01T12:54:19.973Z"
   },
   {
    "duration": 364,
    "start_time": "2022-10-01T13:10:05.054Z"
   },
   {
    "duration": 459,
    "start_time": "2022-10-01T13:10:18.109Z"
   },
   {
    "duration": 501,
    "start_time": "2022-10-01T13:12:38.196Z"
   },
   {
    "duration": 483,
    "start_time": "2022-10-01T13:13:27.759Z"
   },
   {
    "duration": 489,
    "start_time": "2022-10-01T13:13:52.849Z"
   },
   {
    "duration": 360,
    "start_time": "2022-10-01T13:17:11.313Z"
   },
   {
    "duration": 487,
    "start_time": "2022-10-01T13:18:26.195Z"
   },
   {
    "duration": 687,
    "start_time": "2022-10-01T13:22:33.421Z"
   },
   {
    "duration": 471,
    "start_time": "2022-10-01T13:23:03.493Z"
   },
   {
    "duration": 536,
    "start_time": "2022-10-01T13:23:17.357Z"
   },
   {
    "duration": 467,
    "start_time": "2022-10-01T13:23:28.944Z"
   },
   {
    "duration": 526,
    "start_time": "2022-10-01T13:23:51.792Z"
   },
   {
    "duration": 449,
    "start_time": "2022-10-01T13:24:19.640Z"
   },
   {
    "duration": 610,
    "start_time": "2022-10-01T13:24:54.546Z"
   },
   {
    "duration": 474,
    "start_time": "2022-10-01T13:25:21.638Z"
   },
   {
    "duration": 53,
    "start_time": "2022-10-01T15:36:50.281Z"
   },
   {
    "duration": 1441,
    "start_time": "2022-10-01T15:37:06.260Z"
   },
   {
    "duration": 6,
    "start_time": "2022-10-01T15:37:07.704Z"
   },
   {
    "duration": 24,
    "start_time": "2022-10-01T15:37:08.177Z"
   },
   {
    "duration": 17,
    "start_time": "2022-10-01T15:37:11.826Z"
   },
   {
    "duration": 5,
    "start_time": "2022-10-01T15:37:13.486Z"
   },
   {
    "duration": 6,
    "start_time": "2022-10-01T15:37:14.830Z"
   },
   {
    "duration": 62,
    "start_time": "2022-10-01T15:39:19.880Z"
   },
   {
    "duration": 5,
    "start_time": "2022-10-01T15:39:20.478Z"
   },
   {
    "duration": 29,
    "start_time": "2022-10-01T15:39:20.681Z"
   },
   {
    "duration": 18,
    "start_time": "2022-10-01T15:39:21.878Z"
   },
   {
    "duration": 5,
    "start_time": "2022-10-01T15:39:22.257Z"
   },
   {
    "duration": 14,
    "start_time": "2022-10-01T15:39:22.647Z"
   },
   {
    "duration": 191,
    "start_time": "2022-10-01T15:39:22.831Z"
   },
   {
    "duration": 350,
    "start_time": "2022-10-01T15:39:23.458Z"
   },
   {
    "duration": 9,
    "start_time": "2022-10-01T15:39:23.811Z"
   },
   {
    "duration": 6,
    "start_time": "2022-10-01T15:39:23.821Z"
   },
   {
    "duration": 301,
    "start_time": "2022-10-01T15:39:23.985Z"
   },
   {
    "duration": 23,
    "start_time": "2022-10-01T15:39:24.585Z"
   },
   {
    "duration": 188,
    "start_time": "2022-10-01T15:39:24.777Z"
   },
   {
    "duration": 22,
    "start_time": "2022-10-01T15:39:25.179Z"
   },
   {
    "duration": 5,
    "start_time": "2022-10-01T15:39:25.361Z"
   },
   {
    "duration": 211,
    "start_time": "2022-10-01T15:39:25.551Z"
   },
   {
    "duration": 6,
    "start_time": "2022-10-01T15:39:26.007Z"
   },
   {
    "duration": 170,
    "start_time": "2022-10-01T15:39:26.015Z"
   },
   {
    "duration": 1625,
    "start_time": "2022-10-01T15:39:26.392Z"
   },
   {
    "duration": 6,
    "start_time": "2022-10-01T15:39:28.020Z"
   },
   {
    "duration": 239,
    "start_time": "2022-10-01T15:39:28.028Z"
   },
   {
    "duration": 458,
    "start_time": "2022-10-01T15:39:28.270Z"
   },
   {
    "duration": 532,
    "start_time": "2022-10-01T15:39:28.730Z"
   },
   {
    "duration": 685,
    "start_time": "2022-10-01T15:39:29.265Z"
   },
   {
    "duration": 525,
    "start_time": "2022-10-01T15:39:29.954Z"
   },
   {
    "duration": 463,
    "start_time": "2022-10-01T15:39:57.483Z"
   },
   {
    "duration": 474,
    "start_time": "2022-10-01T15:40:15.926Z"
   },
   {
    "duration": 458,
    "start_time": "2022-10-01T15:40:30.713Z"
   },
   {
    "duration": 456,
    "start_time": "2022-10-01T15:42:36.993Z"
   },
   {
    "duration": 590,
    "start_time": "2022-10-01T15:42:47.892Z"
   },
   {
    "duration": 454,
    "start_time": "2022-10-01T15:42:58.950Z"
   },
   {
    "duration": 466,
    "start_time": "2022-10-01T15:43:12.338Z"
   },
   {
    "duration": 422,
    "start_time": "2022-10-01T15:45:52.124Z"
   },
   {
    "duration": 433,
    "start_time": "2022-10-01T15:46:10.001Z"
   },
   {
    "duration": 618,
    "start_time": "2022-10-01T15:46:25.328Z"
   },
   {
    "duration": 476,
    "start_time": "2022-10-01T15:46:30.592Z"
   },
   {
    "duration": 455,
    "start_time": "2022-10-01T15:46:44.624Z"
   },
   {
    "duration": 461,
    "start_time": "2022-10-01T15:50:54.906Z"
   },
   {
    "duration": 454,
    "start_time": "2022-10-01T15:51:25.600Z"
   },
   {
    "duration": 409,
    "start_time": "2022-10-01T15:51:37.505Z"
   },
   {
    "duration": 641,
    "start_time": "2022-10-01T15:51:46.033Z"
   },
   {
    "duration": 360,
    "start_time": "2022-10-01T16:24:08.707Z"
   },
   {
    "duration": 188,
    "start_time": "2022-10-01T16:26:29.240Z"
   },
   {
    "duration": 12,
    "start_time": "2022-10-01T16:50:15.405Z"
   },
   {
    "duration": 9,
    "start_time": "2022-10-01T16:50:43.956Z"
   },
   {
    "duration": 9,
    "start_time": "2022-10-01T16:50:50.991Z"
   },
   {
    "duration": 7,
    "start_time": "2022-10-01T16:50:57.100Z"
   },
   {
    "duration": 13,
    "start_time": "2022-10-01T16:53:23.743Z"
   },
   {
    "duration": 6,
    "start_time": "2022-10-01T16:53:49.572Z"
   },
   {
    "duration": 2541,
    "start_time": "2022-10-01T17:30:00.783Z"
   },
   {
    "duration": 10,
    "start_time": "2022-10-01T17:30:21.941Z"
   },
   {
    "duration": 12,
    "start_time": "2022-10-01T17:32:04.411Z"
   },
   {
    "duration": 11,
    "start_time": "2022-10-01T17:33:49.176Z"
   },
   {
    "duration": 11,
    "start_time": "2022-10-01T17:35:23.601Z"
   },
   {
    "duration": 12,
    "start_time": "2022-10-01T17:38:14.190Z"
   },
   {
    "duration": 12,
    "start_time": "2022-10-01T17:43:26.888Z"
   },
   {
    "duration": 11,
    "start_time": "2022-10-01T18:46:27.889Z"
   },
   {
    "duration": 11,
    "start_time": "2022-10-01T18:46:30.119Z"
   },
   {
    "duration": 11,
    "start_time": "2022-10-01T18:50:46.495Z"
   },
   {
    "duration": 56,
    "start_time": "2022-10-01T18:59:54.526Z"
   },
   {
    "duration": 41,
    "start_time": "2022-10-02T09:55:58.823Z"
   },
   {
    "duration": 1349,
    "start_time": "2022-10-02T09:56:04.937Z"
   },
   {
    "duration": 5,
    "start_time": "2022-10-02T09:56:06.287Z"
   },
   {
    "duration": 21,
    "start_time": "2022-10-02T09:56:06.357Z"
   },
   {
    "duration": 8,
    "start_time": "2022-10-02T09:57:08.610Z"
   },
   {
    "duration": 18,
    "start_time": "2022-10-02T09:57:22.124Z"
   },
   {
    "duration": 8,
    "start_time": "2022-10-02T09:57:37.129Z"
   },
   {
    "duration": 8,
    "start_time": "2022-10-02T09:57:45.275Z"
   },
   {
    "duration": 18,
    "start_time": "2022-10-02T09:57:57.261Z"
   },
   {
    "duration": 18,
    "start_time": "2022-10-02T09:58:07.160Z"
   },
   {
    "duration": 13,
    "start_time": "2022-10-02T10:00:02.936Z"
   },
   {
    "duration": 10,
    "start_time": "2022-10-02T10:00:16.591Z"
   },
   {
    "duration": 5,
    "start_time": "2022-10-02T10:00:22.007Z"
   },
   {
    "duration": 11,
    "start_time": "2022-10-02T10:00:24.149Z"
   },
   {
    "duration": 15,
    "start_time": "2022-10-02T10:00:31.099Z"
   },
   {
    "duration": 57,
    "start_time": "2022-10-02T10:06:54.767Z"
   },
   {
    "duration": 13,
    "start_time": "2022-10-02T10:09:51.179Z"
   },
   {
    "duration": 18,
    "start_time": "2022-10-02T10:17:05.316Z"
   },
   {
    "duration": 85,
    "start_time": "2022-10-02T10:17:54.054Z"
   },
   {
    "duration": 12,
    "start_time": "2022-10-02T10:18:16.571Z"
   },
   {
    "duration": 16,
    "start_time": "2022-10-02T10:18:21.669Z"
   },
   {
    "duration": 20,
    "start_time": "2022-10-02T10:19:57.341Z"
   },
   {
    "duration": 50,
    "start_time": "2022-10-02T15:13:28.535Z"
   },
   {
    "duration": 1443,
    "start_time": "2022-10-02T15:13:38.355Z"
   },
   {
    "duration": 5,
    "start_time": "2022-10-02T15:13:39.800Z"
   },
   {
    "duration": 14,
    "start_time": "2022-10-02T15:13:40.987Z"
   },
   {
    "duration": 25,
    "start_time": "2022-10-02T15:13:49.110Z"
   },
   {
    "duration": 5,
    "start_time": "2022-10-02T15:13:50.430Z"
   },
   {
    "duration": 5,
    "start_time": "2022-10-02T15:13:51.754Z"
   },
   {
    "duration": 247,
    "start_time": "2022-10-02T15:13:52.472Z"
   },
   {
    "duration": 358,
    "start_time": "2022-10-02T15:13:55.616Z"
   },
   {
    "duration": 10,
    "start_time": "2022-10-02T15:13:56.794Z"
   },
   {
    "duration": 3,
    "start_time": "2022-10-02T15:13:58.257Z"
   },
   {
    "duration": 308,
    "start_time": "2022-10-02T15:13:59.035Z"
   },
   {
    "duration": 35,
    "start_time": "2022-10-02T15:14:02.697Z"
   },
   {
    "duration": 27,
    "start_time": "2022-10-02T15:15:51.406Z"
   },
   {
    "duration": 210,
    "start_time": "2022-10-02T15:15:52.639Z"
   },
   {
    "duration": 20,
    "start_time": "2022-10-02T15:30:47.067Z"
   },
   {
    "duration": 6,
    "start_time": "2022-10-02T15:30:50.454Z"
   },
   {
    "duration": 233,
    "start_time": "2022-10-02T15:30:52.660Z"
   },
   {
    "duration": 10,
    "start_time": "2022-10-02T15:30:58.146Z"
   },
   {
    "duration": 237,
    "start_time": "2022-10-02T15:31:01.786Z"
   },
   {
    "duration": 1268,
    "start_time": "2022-10-02T15:31:05.545Z"
   },
   {
    "duration": 322,
    "start_time": "2022-10-02T16:55:14.874Z"
   },
   {
    "duration": 19,
    "start_time": "2022-10-02T16:57:09.789Z"
   },
   {
    "duration": 230,
    "start_time": "2022-10-02T16:57:18.432Z"
   },
   {
    "duration": 21,
    "start_time": "2022-10-02T17:04:50.252Z"
   },
   {
    "duration": 231,
    "start_time": "2022-10-02T17:04:51.363Z"
   },
   {
    "duration": 19,
    "start_time": "2022-10-02T17:05:25.716Z"
   },
   {
    "duration": 290,
    "start_time": "2022-10-02T17:05:26.363Z"
   },
   {
    "duration": 45,
    "start_time": "2022-10-02T20:50:16.047Z"
   },
   {
    "duration": 1307,
    "start_time": "2022-10-02T20:50:22.537Z"
   },
   {
    "duration": 6,
    "start_time": "2022-10-02T20:50:23.846Z"
   },
   {
    "duration": 18,
    "start_time": "2022-10-02T20:50:24.505Z"
   },
   {
    "duration": 15,
    "start_time": "2022-10-02T20:50:27.550Z"
   },
   {
    "duration": 5,
    "start_time": "2022-10-02T20:50:28.359Z"
   },
   {
    "duration": 6,
    "start_time": "2022-10-02T20:50:29.235Z"
   },
   {
    "duration": 196,
    "start_time": "2022-10-02T20:50:29.686Z"
   },
   {
    "duration": 323,
    "start_time": "2022-10-02T20:50:31.964Z"
   },
   {
    "duration": 10,
    "start_time": "2022-10-02T20:50:33.692Z"
   },
   {
    "duration": 3,
    "start_time": "2022-10-02T20:50:34.769Z"
   },
   {
    "duration": 334,
    "start_time": "2022-10-02T20:50:34.991Z"
   },
   {
    "duration": 29,
    "start_time": "2022-10-02T20:50:38.783Z"
   },
   {
    "duration": 241,
    "start_time": "2022-10-02T20:50:40.402Z"
   },
   {
    "duration": 58,
    "start_time": "2022-10-02T20:52:27.687Z"
   },
   {
    "duration": 19,
    "start_time": "2022-10-02T20:54:09.758Z"
   },
   {
    "duration": 19,
    "start_time": "2022-10-02T20:54:22.036Z"
   },
   {
    "duration": 4,
    "start_time": "2022-10-02T20:54:30.249Z"
   },
   {
    "duration": 172,
    "start_time": "2022-10-02T20:54:41.693Z"
   },
   {
    "duration": 5,
    "start_time": "2022-10-02T20:54:51.456Z"
   },
   {
    "duration": 239,
    "start_time": "2022-10-02T20:54:54.120Z"
   },
   {
    "duration": 1417,
    "start_time": "2022-10-02T20:56:07.760Z"
   },
   {
    "duration": 15,
    "start_time": "2022-10-02T20:57:12.837Z"
   },
   {
    "duration": 1083,
    "start_time": "2022-10-02T20:57:53.206Z"
   },
   {
    "duration": 1179,
    "start_time": "2022-10-02T20:58:20.927Z"
   },
   {
    "duration": 6,
    "start_time": "2022-10-02T21:04:09.925Z"
   },
   {
    "duration": 224,
    "start_time": "2022-10-02T21:04:11.414Z"
   },
   {
    "duration": 407,
    "start_time": "2022-10-02T21:06:40.465Z"
   },
   {
    "duration": 452,
    "start_time": "2022-10-02T21:06:44.316Z"
   },
   {
    "duration": 403,
    "start_time": "2022-10-02T21:06:45.070Z"
   },
   {
    "duration": 495,
    "start_time": "2022-10-02T21:06:45.915Z"
   },
   {
    "duration": 388,
    "start_time": "2022-10-02T21:07:59.671Z"
   },
   {
    "duration": 388,
    "start_time": "2022-10-02T21:08:21.229Z"
   },
   {
    "duration": 397,
    "start_time": "2022-10-02T21:08:36.291Z"
   },
   {
    "duration": 412,
    "start_time": "2022-10-02T21:08:51.602Z"
   },
   {
    "duration": 12,
    "start_time": "2022-10-02T21:10:14.497Z"
   },
   {
    "duration": 10,
    "start_time": "2022-10-02T21:10:23.153Z"
   },
   {
    "duration": 10,
    "start_time": "2022-10-02T21:11:22.230Z"
   },
   {
    "duration": 10,
    "start_time": "2022-10-02T21:11:27.090Z"
   },
   {
    "duration": 1498,
    "start_time": "2022-10-03T08:21:24.020Z"
   },
   {
    "duration": 6,
    "start_time": "2022-10-03T08:21:25.520Z"
   },
   {
    "duration": 15,
    "start_time": "2022-10-03T08:21:30.214Z"
   },
   {
    "duration": 15,
    "start_time": "2022-10-03T08:21:35.409Z"
   },
   {
    "duration": 4,
    "start_time": "2022-10-03T08:21:36.723Z"
   },
   {
    "duration": 5,
    "start_time": "2022-10-03T08:21:38.189Z"
   },
   {
    "duration": 197,
    "start_time": "2022-10-03T08:21:38.952Z"
   },
   {
    "duration": 320,
    "start_time": "2022-10-03T08:21:43.060Z"
   },
   {
    "duration": 12,
    "start_time": "2022-10-03T08:21:44.409Z"
   },
   {
    "duration": 3,
    "start_time": "2022-10-03T08:21:50.925Z"
   },
   {
    "duration": 305,
    "start_time": "2022-10-03T08:21:52.004Z"
   },
   {
    "duration": 20,
    "start_time": "2022-10-03T08:21:57.512Z"
   },
   {
    "duration": 242,
    "start_time": "2022-10-03T08:21:58.642Z"
   },
   {
    "duration": 22,
    "start_time": "2022-10-03T08:22:04.306Z"
   },
   {
    "duration": 5,
    "start_time": "2022-10-03T08:22:05.491Z"
   },
   {
    "duration": 175,
    "start_time": "2022-10-03T08:22:06.200Z"
   },
   {
    "duration": 5,
    "start_time": "2022-10-03T08:22:07.094Z"
   },
   {
    "duration": 284,
    "start_time": "2022-10-03T08:22:07.440Z"
   },
   {
    "duration": 1046,
    "start_time": "2022-10-03T08:22:08.099Z"
   },
   {
    "duration": 169,
    "start_time": "2022-10-03T08:22:22.695Z"
   },
   {
    "duration": 1070,
    "start_time": "2022-10-03T08:24:05.667Z"
   },
   {
    "duration": 459,
    "start_time": "2022-10-03T08:31:24.990Z"
   },
   {
    "duration": 373,
    "start_time": "2022-10-03T08:31:29.066Z"
   },
   {
    "duration": 12,
    "start_time": "2022-10-03T08:56:44.215Z"
   },
   {
    "duration": 12,
    "start_time": "2022-10-03T08:57:03.968Z"
   },
   {
    "duration": 12,
    "start_time": "2022-10-03T08:57:08.376Z"
   },
   {
    "duration": 11,
    "start_time": "2022-10-03T08:58:49.187Z"
   },
   {
    "duration": 22,
    "start_time": "2022-10-03T08:59:27.335Z"
   },
   {
    "duration": 21,
    "start_time": "2022-10-03T09:00:05.749Z"
   },
   {
    "duration": 10,
    "start_time": "2022-10-03T09:00:20.360Z"
   },
   {
    "duration": 22,
    "start_time": "2022-10-03T09:00:36.384Z"
   },
   {
    "duration": 9,
    "start_time": "2022-10-03T09:02:19.530Z"
   },
   {
    "duration": 59,
    "start_time": "2022-10-03T09:03:33.409Z"
   },
   {
    "duration": 4,
    "start_time": "2022-10-03T09:03:33.773Z"
   },
   {
    "duration": 14,
    "start_time": "2022-10-03T09:03:35.735Z"
   },
   {
    "duration": 17,
    "start_time": "2022-10-03T09:03:39.771Z"
   },
   {
    "duration": 5,
    "start_time": "2022-10-03T09:03:41.498Z"
   },
   {
    "duration": 6,
    "start_time": "2022-10-03T09:03:42.516Z"
   },
   {
    "duration": 182,
    "start_time": "2022-10-03T09:03:42.698Z"
   },
   {
    "duration": 315,
    "start_time": "2022-10-03T09:03:44.988Z"
   },
   {
    "duration": 9,
    "start_time": "2022-10-03T09:04:04.757Z"
   },
   {
    "duration": 4,
    "start_time": "2022-10-03T09:04:10.273Z"
   },
   {
    "duration": 274,
    "start_time": "2022-10-03T09:04:15.434Z"
   },
   {
    "duration": 19,
    "start_time": "2022-10-03T09:04:22.231Z"
   },
   {
    "duration": 236,
    "start_time": "2022-10-03T09:04:26.954Z"
   },
   {
    "duration": 21,
    "start_time": "2022-10-03T09:06:15.318Z"
   },
   {
    "duration": 4,
    "start_time": "2022-10-03T09:06:19.700Z"
   },
   {
    "duration": 163,
    "start_time": "2022-10-03T09:06:20.196Z"
   },
   {
    "duration": 4,
    "start_time": "2022-10-03T09:06:20.731Z"
   },
   {
    "duration": 245,
    "start_time": "2022-10-03T09:06:20.893Z"
   },
   {
    "duration": 1076,
    "start_time": "2022-10-03T09:06:22.637Z"
   },
   {
    "duration": 6,
    "start_time": "2022-10-03T09:06:25.060Z"
   },
   {
    "duration": 203,
    "start_time": "2022-10-03T09:06:25.647Z"
   },
   {
    "duration": 404,
    "start_time": "2022-10-03T09:06:33.614Z"
   },
   {
    "duration": 394,
    "start_time": "2022-10-03T09:06:34.281Z"
   },
   {
    "duration": 471,
    "start_time": "2022-10-03T09:06:35.130Z"
   },
   {
    "duration": 389,
    "start_time": "2022-10-03T09:06:35.831Z"
   },
   {
    "duration": 10,
    "start_time": "2022-10-03T09:06:40.279Z"
   },
   {
    "duration": 9,
    "start_time": "2022-10-03T09:06:55.922Z"
   },
   {
    "duration": 6,
    "start_time": "2022-10-03T09:07:31.529Z"
   },
   {
    "duration": 10,
    "start_time": "2022-10-03T09:10:03.648Z"
   },
   {
    "duration": 10,
    "start_time": "2022-10-03T09:10:11.115Z"
   },
   {
    "duration": 25,
    "start_time": "2022-10-03T09:10:42.603Z"
   },
   {
    "duration": 20,
    "start_time": "2022-10-03T09:12:20.960Z"
   },
   {
    "duration": 19,
    "start_time": "2022-10-03T09:21:20.980Z"
   },
   {
    "duration": 20,
    "start_time": "2022-10-03T09:21:37.940Z"
   },
   {
    "duration": 56,
    "start_time": "2022-10-03T09:22:30.288Z"
   },
   {
    "duration": 12,
    "start_time": "2022-10-03T09:23:10.217Z"
   },
   {
    "duration": 11,
    "start_time": "2022-10-03T09:24:08.909Z"
   },
   {
    "duration": 80,
    "start_time": "2022-10-03T09:45:50.979Z"
   }
  ],
  "kernelspec": {
   "display_name": "Python 3 (ipykernel)",
   "language": "python",
   "name": "python3"
  },
  "language_info": {
   "codemirror_mode": {
    "name": "ipython",
    "version": 3
   },
   "file_extension": ".py",
   "mimetype": "text/x-python",
   "name": "python",
   "nbconvert_exporter": "python",
   "pygments_lexer": "ipython3",
   "version": "3.9.13"
  },
  "toc": {
   "base_numbering": 1,
   "nav_menu": {},
   "number_sections": true,
   "sideBar": true,
   "skip_h1_title": true,
   "title_cell": "Table of Contents",
   "title_sidebar": "Contents",
   "toc_cell": false,
   "toc_position": {},
   "toc_section_display": true,
   "toc_window_display": false
  }
 },
 "nbformat": 4,
 "nbformat_minor": 2
}
