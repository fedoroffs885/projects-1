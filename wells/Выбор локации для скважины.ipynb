{
 "cells": [
  {
   "cell_type": "markdown",
   "metadata": {},
   "source": [
    "# Выбор локации для скважины"
   ]
  },
  {
   "cell_type": "markdown",
   "metadata": {},
   "source": [
    "Допустим, вы работаете в добывающей компании «ГлавРосГосНефть». Нужно решить, где бурить новую скважину.\n",
    "\n",
    "Вам предоставлены пробы нефти в трёх регионах: в каждом 10 000 месторождений, где измерили качество нефти и объём её запасов. Постройте модель машинного обучения, которая поможет определить регион, где добыча принесёт наибольшую прибыль. Проанализируйте возможную прибыль и риски техникой *Bootstrap.*\n",
    "\n",
    "Шаги для выбора локации:\n",
    "\n",
    "- В избранном регионе ищут месторождения, для каждого определяют значения признаков;\n",
    "- Строят модель и оценивают объём запасов;\n",
    "- Выбирают месторождения с самым высокими оценками значений. Количество месторождений зависит от бюджета компании и стоимости разработки одной скважины;\n",
    "- Прибыль равна суммарной прибыли отобранных месторождений."
   ]
  },
  {
   "cell_type": "markdown",
   "metadata": {},
   "source": [
    "## Загрузка и подготовка данных"
   ]
  },
  {
   "cell_type": "code",
   "execution_count": 1,
   "metadata": {},
   "outputs": [],
   "source": [
    "import pandas as pd\n",
    "import math\n",
    "from sklearn.model_selection import train_test_split\n",
    "from sklearn.linear_model import LinearRegression\n",
    "from sklearn.metrics import mean_squared_error\n",
    "from numpy.random import RandomState\n",
    "state = RandomState(12345)"
   ]
  },
  {
   "cell_type": "code",
   "execution_count": 2,
   "metadata": {},
   "outputs": [],
   "source": [
    "# Объявим переменные, \n",
    "PROFIT = 450_000 # Доход с единицы продукта - то есть с тысячи бареллей (450 тыс рублей)\n",
    "BUDGET = 10_000_000_000 # Бюджет на разработку скважин в одном регионе (10 млрд рублей)\n",
    "ONE_REGION = 500 # Количество скважин в одном регионе для исследования\n",
    "ONE_REGION_BEST = 200 # Количество лучших скважин для разработки в одном регионе (well - скважина)\n",
    "ONE_WELL = BUDGET / ONE_REGION_BEST"
   ]
  },
  {
   "cell_type": "code",
   "execution_count": 3,
   "metadata": {},
   "outputs": [],
   "source": [
    "# Загрузим данные с 3-х регионов\n",
    "df_0 = pd.read_csv('/datasets/geo_data_0.csv')\n",
    "df_1 = pd.read_csv('/datasets/geo_data_1.csv')\n",
    "df_2 = pd.read_csv('/datasets/geo_data_2.csv')"
   ]
  },
  {
   "cell_type": "code",
   "execution_count": 4,
   "metadata": {},
   "outputs": [
    {
     "name": "stdout",
     "output_type": "stream",
     "text": [
      "<class 'pandas.core.frame.DataFrame'>\n",
      "RangeIndex: 100000 entries, 0 to 99999\n",
      "Data columns (total 5 columns):\n",
      " #   Column   Non-Null Count   Dtype  \n",
      "---  ------   --------------   -----  \n",
      " 0   id       100000 non-null  object \n",
      " 1   f0       100000 non-null  float64\n",
      " 2   f1       100000 non-null  float64\n",
      " 3   f2       100000 non-null  float64\n",
      " 4   product  100000 non-null  float64\n",
      "dtypes: float64(4), object(1)\n",
      "memory usage: 3.8+ MB\n"
     ]
    },
    {
     "data": {
      "text/html": [
       "<div>\n",
       "<style scoped>\n",
       "    .dataframe tbody tr th:only-of-type {\n",
       "        vertical-align: middle;\n",
       "    }\n",
       "\n",
       "    .dataframe tbody tr th {\n",
       "        vertical-align: top;\n",
       "    }\n",
       "\n",
       "    .dataframe thead th {\n",
       "        text-align: right;\n",
       "    }\n",
       "</style>\n",
       "<table border=\"1\" class=\"dataframe\">\n",
       "  <thead>\n",
       "    <tr style=\"text-align: right;\">\n",
       "      <th></th>\n",
       "      <th>id</th>\n",
       "      <th>f0</th>\n",
       "      <th>f1</th>\n",
       "      <th>f2</th>\n",
       "      <th>product</th>\n",
       "    </tr>\n",
       "  </thead>\n",
       "  <tbody>\n",
       "    <tr>\n",
       "      <th>0</th>\n",
       "      <td>txEyH</td>\n",
       "      <td>0.705745</td>\n",
       "      <td>-0.497823</td>\n",
       "      <td>1.221170</td>\n",
       "      <td>105.280062</td>\n",
       "    </tr>\n",
       "    <tr>\n",
       "      <th>1</th>\n",
       "      <td>2acmU</td>\n",
       "      <td>1.334711</td>\n",
       "      <td>-0.340164</td>\n",
       "      <td>4.365080</td>\n",
       "      <td>73.037750</td>\n",
       "    </tr>\n",
       "    <tr>\n",
       "      <th>2</th>\n",
       "      <td>409Wp</td>\n",
       "      <td>1.022732</td>\n",
       "      <td>0.151990</td>\n",
       "      <td>1.419926</td>\n",
       "      <td>85.265647</td>\n",
       "    </tr>\n",
       "    <tr>\n",
       "      <th>3</th>\n",
       "      <td>iJLyR</td>\n",
       "      <td>-0.032172</td>\n",
       "      <td>0.139033</td>\n",
       "      <td>2.978566</td>\n",
       "      <td>168.620776</td>\n",
       "    </tr>\n",
       "    <tr>\n",
       "      <th>4</th>\n",
       "      <td>Xdl7t</td>\n",
       "      <td>1.988431</td>\n",
       "      <td>0.155413</td>\n",
       "      <td>4.751769</td>\n",
       "      <td>154.036647</td>\n",
       "    </tr>\n",
       "  </tbody>\n",
       "</table>\n",
       "</div>"
      ],
      "text/plain": [
       "      id        f0        f1        f2     product\n",
       "0  txEyH  0.705745 -0.497823  1.221170  105.280062\n",
       "1  2acmU  1.334711 -0.340164  4.365080   73.037750\n",
       "2  409Wp  1.022732  0.151990  1.419926   85.265647\n",
       "3  iJLyR -0.032172  0.139033  2.978566  168.620776\n",
       "4  Xdl7t  1.988431  0.155413  4.751769  154.036647"
      ]
     },
     "execution_count": 4,
     "metadata": {},
     "output_type": "execute_result"
    }
   ],
   "source": [
    "df_0.info()\n",
    "df_0.head(5)"
   ]
  },
  {
   "cell_type": "code",
   "execution_count": 5,
   "metadata": {},
   "outputs": [
    {
     "name": "stdout",
     "output_type": "stream",
     "text": [
      "<class 'pandas.core.frame.DataFrame'>\n",
      "RangeIndex: 100000 entries, 0 to 99999\n",
      "Data columns (total 5 columns):\n",
      " #   Column   Non-Null Count   Dtype  \n",
      "---  ------   --------------   -----  \n",
      " 0   id       100000 non-null  object \n",
      " 1   f0       100000 non-null  float64\n",
      " 2   f1       100000 non-null  float64\n",
      " 3   f2       100000 non-null  float64\n",
      " 4   product  100000 non-null  float64\n",
      "dtypes: float64(4), object(1)\n",
      "memory usage: 3.8+ MB\n"
     ]
    },
    {
     "data": {
      "text/html": [
       "<div>\n",
       "<style scoped>\n",
       "    .dataframe tbody tr th:only-of-type {\n",
       "        vertical-align: middle;\n",
       "    }\n",
       "\n",
       "    .dataframe tbody tr th {\n",
       "        vertical-align: top;\n",
       "    }\n",
       "\n",
       "    .dataframe thead th {\n",
       "        text-align: right;\n",
       "    }\n",
       "</style>\n",
       "<table border=\"1\" class=\"dataframe\">\n",
       "  <thead>\n",
       "    <tr style=\"text-align: right;\">\n",
       "      <th></th>\n",
       "      <th>id</th>\n",
       "      <th>f0</th>\n",
       "      <th>f1</th>\n",
       "      <th>f2</th>\n",
       "      <th>product</th>\n",
       "    </tr>\n",
       "  </thead>\n",
       "  <tbody>\n",
       "    <tr>\n",
       "      <th>0</th>\n",
       "      <td>kBEdx</td>\n",
       "      <td>-15.001348</td>\n",
       "      <td>-8.276000</td>\n",
       "      <td>-0.005876</td>\n",
       "      <td>3.179103</td>\n",
       "    </tr>\n",
       "    <tr>\n",
       "      <th>1</th>\n",
       "      <td>62mP7</td>\n",
       "      <td>14.272088</td>\n",
       "      <td>-3.475083</td>\n",
       "      <td>0.999183</td>\n",
       "      <td>26.953261</td>\n",
       "    </tr>\n",
       "    <tr>\n",
       "      <th>2</th>\n",
       "      <td>vyE1P</td>\n",
       "      <td>6.263187</td>\n",
       "      <td>-5.948386</td>\n",
       "      <td>5.001160</td>\n",
       "      <td>134.766305</td>\n",
       "    </tr>\n",
       "    <tr>\n",
       "      <th>3</th>\n",
       "      <td>KcrkZ</td>\n",
       "      <td>-13.081196</td>\n",
       "      <td>-11.506057</td>\n",
       "      <td>4.999415</td>\n",
       "      <td>137.945408</td>\n",
       "    </tr>\n",
       "    <tr>\n",
       "      <th>4</th>\n",
       "      <td>AHL4O</td>\n",
       "      <td>12.702195</td>\n",
       "      <td>-8.147433</td>\n",
       "      <td>5.004363</td>\n",
       "      <td>134.766305</td>\n",
       "    </tr>\n",
       "  </tbody>\n",
       "</table>\n",
       "</div>"
      ],
      "text/plain": [
       "      id         f0         f1        f2     product\n",
       "0  kBEdx -15.001348  -8.276000 -0.005876    3.179103\n",
       "1  62mP7  14.272088  -3.475083  0.999183   26.953261\n",
       "2  vyE1P   6.263187  -5.948386  5.001160  134.766305\n",
       "3  KcrkZ -13.081196 -11.506057  4.999415  137.945408\n",
       "4  AHL4O  12.702195  -8.147433  5.004363  134.766305"
      ]
     },
     "execution_count": 5,
     "metadata": {},
     "output_type": "execute_result"
    }
   ],
   "source": [
    "df_1.info()\n",
    "df_1.head(5)"
   ]
  },
  {
   "cell_type": "code",
   "execution_count": 6,
   "metadata": {},
   "outputs": [
    {
     "name": "stdout",
     "output_type": "stream",
     "text": [
      "<class 'pandas.core.frame.DataFrame'>\n",
      "RangeIndex: 100000 entries, 0 to 99999\n",
      "Data columns (total 5 columns):\n",
      " #   Column   Non-Null Count   Dtype  \n",
      "---  ------   --------------   -----  \n",
      " 0   id       100000 non-null  object \n",
      " 1   f0       100000 non-null  float64\n",
      " 2   f1       100000 non-null  float64\n",
      " 3   f2       100000 non-null  float64\n",
      " 4   product  100000 non-null  float64\n",
      "dtypes: float64(4), object(1)\n",
      "memory usage: 3.8+ MB\n"
     ]
    },
    {
     "data": {
      "text/html": [
       "<div>\n",
       "<style scoped>\n",
       "    .dataframe tbody tr th:only-of-type {\n",
       "        vertical-align: middle;\n",
       "    }\n",
       "\n",
       "    .dataframe tbody tr th {\n",
       "        vertical-align: top;\n",
       "    }\n",
       "\n",
       "    .dataframe thead th {\n",
       "        text-align: right;\n",
       "    }\n",
       "</style>\n",
       "<table border=\"1\" class=\"dataframe\">\n",
       "  <thead>\n",
       "    <tr style=\"text-align: right;\">\n",
       "      <th></th>\n",
       "      <th>id</th>\n",
       "      <th>f0</th>\n",
       "      <th>f1</th>\n",
       "      <th>f2</th>\n",
       "      <th>product</th>\n",
       "    </tr>\n",
       "  </thead>\n",
       "  <tbody>\n",
       "    <tr>\n",
       "      <th>0</th>\n",
       "      <td>fwXo0</td>\n",
       "      <td>-1.146987</td>\n",
       "      <td>0.963328</td>\n",
       "      <td>-0.828965</td>\n",
       "      <td>27.758673</td>\n",
       "    </tr>\n",
       "    <tr>\n",
       "      <th>1</th>\n",
       "      <td>WJtFt</td>\n",
       "      <td>0.262778</td>\n",
       "      <td>0.269839</td>\n",
       "      <td>-2.530187</td>\n",
       "      <td>56.069697</td>\n",
       "    </tr>\n",
       "    <tr>\n",
       "      <th>2</th>\n",
       "      <td>ovLUW</td>\n",
       "      <td>0.194587</td>\n",
       "      <td>0.289035</td>\n",
       "      <td>-5.586433</td>\n",
       "      <td>62.871910</td>\n",
       "    </tr>\n",
       "    <tr>\n",
       "      <th>3</th>\n",
       "      <td>q6cA6</td>\n",
       "      <td>2.236060</td>\n",
       "      <td>-0.553760</td>\n",
       "      <td>0.930038</td>\n",
       "      <td>114.572842</td>\n",
       "    </tr>\n",
       "    <tr>\n",
       "      <th>4</th>\n",
       "      <td>WPMUX</td>\n",
       "      <td>-0.515993</td>\n",
       "      <td>1.716266</td>\n",
       "      <td>5.899011</td>\n",
       "      <td>149.600746</td>\n",
       "    </tr>\n",
       "  </tbody>\n",
       "</table>\n",
       "</div>"
      ],
      "text/plain": [
       "      id        f0        f1        f2     product\n",
       "0  fwXo0 -1.146987  0.963328 -0.828965   27.758673\n",
       "1  WJtFt  0.262778  0.269839 -2.530187   56.069697\n",
       "2  ovLUW  0.194587  0.289035 -5.586433   62.871910\n",
       "3  q6cA6  2.236060 -0.553760  0.930038  114.572842\n",
       "4  WPMUX -0.515993  1.716266  5.899011  149.600746"
      ]
     },
     "execution_count": 6,
     "metadata": {},
     "output_type": "execute_result"
    }
   ],
   "source": [
    "df_2.info()\n",
    "df_2.head(5)"
   ]
  },
  {
   "cell_type": "code",
   "execution_count": 7,
   "metadata": {},
   "outputs": [],
   "source": [
    "# Разделим данные на признаки и целевой признак. Удалим ненужный столбец id.\n",
    "features_0 = df_0.drop(['product', 'id'], axis=1)\n",
    "features_1 = df_1.drop(['product', 'id'], axis=1)\n",
    "features_2 = df_2.drop(['product', 'id'], axis=1)\n",
    "target_0 = df_0['product']\n",
    "target_1 = df_1['product']\n",
    "target_2 = df_2['product']"
   ]
  },
  {
   "cell_type": "code",
   "execution_count": 8,
   "metadata": {},
   "outputs": [],
   "source": [
    "# Удалим дупликаты в 'id' \n",
    "df_0['id'] = df_0['id'].drop_duplicates()\n",
    "df_1['id'] = df_1['id'].drop_duplicates()\n",
    "df_2['id'] = df_2['id'].drop_duplicates()"
   ]
  },
  {
   "cell_type": "code",
   "execution_count": 9,
   "metadata": {},
   "outputs": [
    {
     "data": {
      "text/plain": [
       "array([[<AxesSubplot:title={'center':'product'}>]], dtype=object)"
      ]
     },
     "execution_count": 9,
     "metadata": {},
     "output_type": "execute_result"
    },
    {
     "data": {
      "image/png": "[encoded data removed]",
      "text/plain": [
       "<Figure size 432x288 with 1 Axes>"
      ]
     },
     "metadata": {
      "needs_background": "light"
     },
     "output_type": "display_data"
    }
   ],
   "source": [
    "df_0.hist(column='product')"
   ]
  },
  {
   "cell_type": "code",
   "execution_count": 10,
   "metadata": {},
   "outputs": [
    {
     "data": {
      "text/plain": [
       "array([[<AxesSubplot:title={'center':'product'}>]], dtype=object)"
      ]
     },
     "execution_count": 10,
     "metadata": {},
     "output_type": "execute_result"
    },
    {
     "data": {
      "image/png": "[encoded data removed]",
      "text/plain": [
       "<Figure size 432x288 with 1 Axes>"
      ]
     },
     "metadata": {
      "needs_background": "light"
     },
     "output_type": "display_data"
    }
   ],
   "source": [
    "df_1.hist(column='product')"
   ]
  },
  {
   "cell_type": "code",
   "execution_count": 11,
   "metadata": {},
   "outputs": [
    {
     "data": {
      "text/plain": [
       "array([[<AxesSubplot:title={'center':'product'}>]], dtype=object)"
      ]
     },
     "execution_count": 11,
     "metadata": {},
     "output_type": "execute_result"
    },
    {
     "data": {
      "image/png": "[encoded data removed]",
      "text/plain": [
       "<Figure size 432x288 with 1 Axes>"
      ]
     },
     "metadata": {
      "needs_background": "light"
     },
     "output_type": "display_data"
    }
   ],
   "source": [
    "df_2.hist(column='product')"
   ]
  },
  {
   "cell_type": "code",
   "execution_count": 12,
   "metadata": {},
   "outputs": [
    {
     "data": {
      "text/html": [
       "<div>\n",
       "<style scoped>\n",
       "    .dataframe tbody tr th:only-of-type {\n",
       "        vertical-align: middle;\n",
       "    }\n",
       "\n",
       "    .dataframe tbody tr th {\n",
       "        vertical-align: top;\n",
       "    }\n",
       "\n",
       "    .dataframe thead th {\n",
       "        text-align: right;\n",
       "    }\n",
       "</style>\n",
       "<table border=\"1\" class=\"dataframe\">\n",
       "  <thead>\n",
       "    <tr style=\"text-align: right;\">\n",
       "      <th></th>\n",
       "      <th>f0</th>\n",
       "      <th>f1</th>\n",
       "      <th>f2</th>\n",
       "      <th>product</th>\n",
       "    </tr>\n",
       "  </thead>\n",
       "  <tbody>\n",
       "    <tr>\n",
       "      <th>f0</th>\n",
       "      <td>1.000000</td>\n",
       "      <td>-0.440723</td>\n",
       "      <td>-0.003153</td>\n",
       "      <td>0.143536</td>\n",
       "    </tr>\n",
       "    <tr>\n",
       "      <th>f1</th>\n",
       "      <td>-0.440723</td>\n",
       "      <td>1.000000</td>\n",
       "      <td>0.001724</td>\n",
       "      <td>-0.192356</td>\n",
       "    </tr>\n",
       "    <tr>\n",
       "      <th>f2</th>\n",
       "      <td>-0.003153</td>\n",
       "      <td>0.001724</td>\n",
       "      <td>1.000000</td>\n",
       "      <td>0.483663</td>\n",
       "    </tr>\n",
       "    <tr>\n",
       "      <th>product</th>\n",
       "      <td>0.143536</td>\n",
       "      <td>-0.192356</td>\n",
       "      <td>0.483663</td>\n",
       "      <td>1.000000</td>\n",
       "    </tr>\n",
       "  </tbody>\n",
       "</table>\n",
       "</div>"
      ],
      "text/plain": [
       "               f0        f1        f2   product\n",
       "f0       1.000000 -0.440723 -0.003153  0.143536\n",
       "f1      -0.440723  1.000000  0.001724 -0.192356\n",
       "f2      -0.003153  0.001724  1.000000  0.483663\n",
       "product  0.143536 -0.192356  0.483663  1.000000"
      ]
     },
     "execution_count": 12,
     "metadata": {},
     "output_type": "execute_result"
    }
   ],
   "source": [
    "# Посмотрим на корреляцию признаков в 3-х датасетах\n",
    "df_0.corr()"
   ]
  },
  {
   "cell_type": "code",
   "execution_count": 13,
   "metadata": {},
   "outputs": [
    {
     "data": {
      "text/html": [
       "<div>\n",
       "<style scoped>\n",
       "    .dataframe tbody tr th:only-of-type {\n",
       "        vertical-align: middle;\n",
       "    }\n",
       "\n",
       "    .dataframe tbody tr th {\n",
       "        vertical-align: top;\n",
       "    }\n",
       "\n",
       "    .dataframe thead th {\n",
       "        text-align: right;\n",
       "    }\n",
       "</style>\n",
       "<table border=\"1\" class=\"dataframe\">\n",
       "  <thead>\n",
       "    <tr style=\"text-align: right;\">\n",
       "      <th></th>\n",
       "      <th>f0</th>\n",
       "      <th>f1</th>\n",
       "      <th>f2</th>\n",
       "      <th>product</th>\n",
       "    </tr>\n",
       "  </thead>\n",
       "  <tbody>\n",
       "    <tr>\n",
       "      <th>f0</th>\n",
       "      <td>1.000000</td>\n",
       "      <td>0.182287</td>\n",
       "      <td>-0.001777</td>\n",
       "      <td>-0.030491</td>\n",
       "    </tr>\n",
       "    <tr>\n",
       "      <th>f1</th>\n",
       "      <td>0.182287</td>\n",
       "      <td>1.000000</td>\n",
       "      <td>-0.002595</td>\n",
       "      <td>-0.010155</td>\n",
       "    </tr>\n",
       "    <tr>\n",
       "      <th>f2</th>\n",
       "      <td>-0.001777</td>\n",
       "      <td>-0.002595</td>\n",
       "      <td>1.000000</td>\n",
       "      <td>0.999397</td>\n",
       "    </tr>\n",
       "    <tr>\n",
       "      <th>product</th>\n",
       "      <td>-0.030491</td>\n",
       "      <td>-0.010155</td>\n",
       "      <td>0.999397</td>\n",
       "      <td>1.000000</td>\n",
       "    </tr>\n",
       "  </tbody>\n",
       "</table>\n",
       "</div>"
      ],
      "text/plain": [
       "               f0        f1        f2   product\n",
       "f0       1.000000  0.182287 -0.001777 -0.030491\n",
       "f1       0.182287  1.000000 -0.002595 -0.010155\n",
       "f2      -0.001777 -0.002595  1.000000  0.999397\n",
       "product -0.030491 -0.010155  0.999397  1.000000"
      ]
     },
     "execution_count": 13,
     "metadata": {},
     "output_type": "execute_result"
    }
   ],
   "source": [
    "df_1.corr()"
   ]
  },
  {
   "cell_type": "code",
   "execution_count": 14,
   "metadata": {},
   "outputs": [
    {
     "data": {
      "text/html": [
       "<div>\n",
       "<style scoped>\n",
       "    .dataframe tbody tr th:only-of-type {\n",
       "        vertical-align: middle;\n",
       "    }\n",
       "\n",
       "    .dataframe tbody tr th {\n",
       "        vertical-align: top;\n",
       "    }\n",
       "\n",
       "    .dataframe thead th {\n",
       "        text-align: right;\n",
       "    }\n",
       "</style>\n",
       "<table border=\"1\" class=\"dataframe\">\n",
       "  <thead>\n",
       "    <tr style=\"text-align: right;\">\n",
       "      <th></th>\n",
       "      <th>f0</th>\n",
       "      <th>f1</th>\n",
       "      <th>f2</th>\n",
       "      <th>product</th>\n",
       "    </tr>\n",
       "  </thead>\n",
       "  <tbody>\n",
       "    <tr>\n",
       "      <th>f0</th>\n",
       "      <td>1.000000</td>\n",
       "      <td>0.000528</td>\n",
       "      <td>-0.000448</td>\n",
       "      <td>-0.001987</td>\n",
       "    </tr>\n",
       "    <tr>\n",
       "      <th>f1</th>\n",
       "      <td>0.000528</td>\n",
       "      <td>1.000000</td>\n",
       "      <td>0.000779</td>\n",
       "      <td>-0.001012</td>\n",
       "    </tr>\n",
       "    <tr>\n",
       "      <th>f2</th>\n",
       "      <td>-0.000448</td>\n",
       "      <td>0.000779</td>\n",
       "      <td>1.000000</td>\n",
       "      <td>0.445871</td>\n",
       "    </tr>\n",
       "    <tr>\n",
       "      <th>product</th>\n",
       "      <td>-0.001987</td>\n",
       "      <td>-0.001012</td>\n",
       "      <td>0.445871</td>\n",
       "      <td>1.000000</td>\n",
       "    </tr>\n",
       "  </tbody>\n",
       "</table>\n",
       "</div>"
      ],
      "text/plain": [
       "               f0        f1        f2   product\n",
       "f0       1.000000  0.000528 -0.000448 -0.001987\n",
       "f1       0.000528  1.000000  0.000779 -0.001012\n",
       "f2      -0.000448  0.000779  1.000000  0.445871\n",
       "product -0.001987 -0.001012  0.445871  1.000000"
      ]
     },
     "execution_count": 14,
     "metadata": {},
     "output_type": "execute_result"
    }
   ],
   "source": [
    "df_2.corr()"
   ]
  },
  {
   "cell_type": "markdown",
   "metadata": {},
   "source": [
    "Вывод:\n",
    "- Загрузили данные по трем регионам. Изучили датасеты с помощью функции info();\n",
    "- Ни один из трех датасетов не содержит пропусков;\n",
    "- Разделили признаки и целевой признак;\n",
    "- Удалили дупликаты по столбцу 'id';\n",
    "- Построили гистограммы распределения для целевого признака каждого датасета;\n",
    "- Удалили столбец 'id' за ненадобностью при обучении модели;\n",
    "- Проверили корреляцию признаков на всех датасетах. Никаких зависимостей между признаками обнаружено не было."
   ]
  },
  {
   "cell_type": "markdown",
   "metadata": {},
   "source": [
    "## Обучение и проверка модели"
   ]
  },
  {
   "cell_type": "code",
   "execution_count": 15,
   "metadata": {},
   "outputs": [],
   "source": [
    "# Разделили выборки на обучающую и валидационную для каждого региона\n",
    "features_train_0, features_valid_0, target_train_0, target_valid_0 = train_test_split(features_0, target_0, test_size=0.25, random_state=12345)\n",
    "\n",
    "features_train_1, features_valid_1, target_train_1, target_valid_1 = train_test_split(features_1, target_1, test_size=0.25, random_state=12345)\n",
    "\n",
    "features_train_2, features_valid_2, target_train_2, target_valid_2 = train_test_split(features_2, target_2, test_size=0.25, random_state=12345)"
   ]
  },
  {
   "cell_type": "code",
   "execution_count": 16,
   "metadata": {},
   "outputs": [],
   "source": [
    "# Обучили модели для каждого региона\n",
    "model_0 = LinearRegression()\n",
    "model_0.fit(features_train_0, target_train_0)\n",
    "predicted_0 = model_0.predict(features_valid_0)\n",
    "\n",
    "model_1 = LinearRegression()\n",
    "model_1.fit(features_train_1, target_train_1)\n",
    "predicted_1 = model_1.predict(features_valid_1)\n",
    "\n",
    "model_2 = LinearRegression()\n",
    "model_2.fit(features_train_2, target_train_2)\n",
    "predicted_2 = model_2.predict(features_valid_2)"
   ]
  },
  {
   "cell_type": "code",
   "execution_count": 17,
   "metadata": {},
   "outputs": [
    {
     "data": {
      "text/plain": [
       "92.59"
      ]
     },
     "execution_count": 17,
     "metadata": {},
     "output_type": "execute_result"
    }
   ],
   "source": [
    "round(predicted_0.mean(), 2)"
   ]
  },
  {
   "cell_type": "code",
   "execution_count": 18,
   "metadata": {},
   "outputs": [
    {
     "data": {
      "text/plain": [
       "37.58"
      ]
     },
     "execution_count": 18,
     "metadata": {},
     "output_type": "execute_result"
    }
   ],
   "source": [
    "rmse_0 = math.sqrt(mean_squared_error(target_valid_0, predicted_0))\n",
    "round(rmse_0, 2)"
   ]
  },
  {
   "cell_type": "code",
   "execution_count": 19,
   "metadata": {},
   "outputs": [
    {
     "data": {
      "text/plain": [
       "68.73"
      ]
     },
     "execution_count": 19,
     "metadata": {},
     "output_type": "execute_result"
    }
   ],
   "source": [
    "round(predicted_1.mean(), 2)"
   ]
  },
  {
   "cell_type": "code",
   "execution_count": 20,
   "metadata": {},
   "outputs": [
    {
     "data": {
      "text/plain": [
       "0.89"
      ]
     },
     "execution_count": 20,
     "metadata": {},
     "output_type": "execute_result"
    }
   ],
   "source": [
    "rmse_1 = math.sqrt(mean_squared_error(target_valid_1, predicted_1))\n",
    "round(rmse_1, 2)"
   ]
  },
  {
   "cell_type": "code",
   "execution_count": 21,
   "metadata": {},
   "outputs": [
    {
     "data": {
      "text/plain": [
       "94.97"
      ]
     },
     "execution_count": 21,
     "metadata": {},
     "output_type": "execute_result"
    }
   ],
   "source": [
    "round(predicted_2.mean(), 2)"
   ]
  },
  {
   "cell_type": "code",
   "execution_count": 22,
   "metadata": {},
   "outputs": [
    {
     "data": {
      "text/plain": [
       "40.03"
      ]
     },
     "execution_count": 22,
     "metadata": {},
     "output_type": "execute_result"
    }
   ],
   "source": [
    "rmse_2 = math.sqrt(mean_squared_error(target_valid_2, predicted_2))\n",
    "round(rmse_2, 2)"
   ]
  },
  {
   "cell_type": "markdown",
   "metadata": {},
   "source": [
    "Вывод:\n",
    "- Рассчитали средний запас предсказанного сырья в каждом регионе и RMSE для каждой модели;\n",
    "- Для региона 0 средний запас равен 92.59 единиц продукта, RMSE модели равен 37.58. Такие же показатели для регионов 1 и 2 равны 68.73 и 0.89, 94.97 и 40.03 соответственно.\n",
    "- Для регионов 0 и 2 размер ошибки довольно велик - 40% и 42% от предсказанного запаса соответственно."
   ]
  },
  {
   "cell_type": "markdown",
   "metadata": {},
   "source": [
    "## Подготовка к расчёту прибыли"
   ]
  },
  {
   "cell_type": "code",
   "execution_count": 23,
   "metadata": {},
   "outputs": [
    {
     "data": {
      "text/plain": [
       "111.11"
      ]
     },
     "execution_count": 23,
     "metadata": {},
     "output_type": "execute_result"
    }
   ],
   "source": [
    "# Рассчитаем достаточный объем сырья для безубыточной разработки новой скважины\n",
    "C = ONE_WELL / PROFIT\n",
    "round(C, 2)"
   ]
  },
  {
   "cell_type": "markdown",
   "metadata": {},
   "source": [
    "Вывод:\n",
    "- Для всех ключевых значений были созданы константы в Python;\n",
    "- Рассчитали достаточный объем сырья для безубыточной разработки новой скважины. Это величина равна 111.11 единиц продукта (тысяч баррелей).\n",
    "- Сравнили данную величину со средним запасом в каждом регионе. Для региона 0 средний запас равняется 92.59 единиц продукта, для региона 1 - 68.73 единицы продукта, для региона 2 - 94.97 единицы продукта."
   ]
  },
  {
   "cell_type": "markdown",
   "metadata": {},
   "source": [
    "## Расчёт прибыли и рисков "
   ]
  },
  {
   "cell_type": "code",
   "execution_count": 24,
   "metadata": {},
   "outputs": [],
   "source": [
    "# Функция для расчета прибыли \n",
    "def revenue(target, predictions, profit, budget):\n",
    "    sorted_predictions = predictions.sort_values(ascending=False)\n",
    "    sorted_target = target[sorted_predictions.index]\n",
    "    best_200 = sorted_target[:ONE_REGION_BEST]\n",
    "    result = (best_200.sum()) * profit - budget\n",
    "    return result"
   ]
  },
  {
   "cell_type": "code",
   "execution_count": 33,
   "metadata": {},
   "outputs": [
    {
     "name": "stdout",
     "output_type": "stream",
     "text": [
      "95-процентный доверительный интервал: (-124880785.5, 945764266.29)\n",
      "Средняя прибыль: 404540995.49\n",
      "Риск убытков: 6.4 %\n"
     ]
    }
   ],
   "source": [
    "# Бутстреп. Регион 0.\n",
    "pr_0 = []\n",
    "d_0 = 0 # Счетчик регионов с отрицательной прибылью\n",
    "for j in range(1000):\n",
    "    subsample = target_valid_0.reset_index(drop=True).sample(n=500, replace=True, random_state=state)\n",
    "    predicted_500_0 = pd.Series(predicted_0).reset_index(drop=True)[subsample.index]\n",
    "    revenue_0 = revenue(subsample, predicted_500_0, PROFIT, BUDGET)\n",
    "    if revenue_0 < 0:\n",
    "        d_0 += 1\n",
    "    else:\n",
    "        d_0 += 0\n",
    "    pr_0.append(revenue_0)\n",
    "\n",
    "    \n",
    "pr_0 = pd.Series(pr_0)\n",
    "lower_0 = round(pr_0.quantile(0.025), 2)\n",
    "upper_0 = round(pr_0.quantile(0.975), 2)\n",
    "print(f\"95-процентный доверительный интервал: ({lower_0}, {upper_0})\")\n",
    "print(\"Средняя прибыль:\", round(pr_0.mean(), 2))\n",
    "print(\"Риск убытков:\", d_0 / 10, \"%\")\n",
    "    \n",
    "    \n",
    "    "
   ]
  },
  {
   "cell_type": "code",
   "execution_count": 26,
   "metadata": {},
   "outputs": [
    {
     "data": {
      "text/plain": [
       "71751    80.859783\n",
       "80493    53.906522\n",
       "2655     30.132364\n",
       "53233    53.906522\n",
       "91141     0.000000\n",
       "Name: product, dtype: float64"
      ]
     },
     "execution_count": 26,
     "metadata": {},
     "output_type": "execute_result"
    }
   ],
   "source": [
    "# ячейка ревьюера\n",
    "target_valid_1.head()              "
   ]
  },
  {
   "cell_type": "code",
   "execution_count": 28,
   "metadata": {},
   "outputs": [
    {
     "name": "stdout",
     "output_type": "stream",
     "text": [
      "95-процентный доверительный интервал: (128123231.43, 953612982.07)\n",
      "Средняя прибыль: 518259493.7\n",
      "Риск убытков: 0.3 %\n"
     ]
    }
   ],
   "source": [
    "# Бутстреп. Регион 1.\n",
    "pr_1 = []\n",
    "d_1 = 0 # Счетчик регионов с отрицательной прибылью\n",
    "for l in range(1000):\n",
    "    subsample_1 = pd.Series(target_valid_1).reset_index(drop=True).sample(n=500, replace=True, random_state=state)\n",
    "    predicted_500_1 = pd.Series(predicted_1).reset_index(drop=True)[subsample_1.index]\n",
    "    revenue_1 = revenue(subsample_1, predicted_500_1, PROFIT, BUDGET)\n",
    "    if revenue_1 < 0:\n",
    "        d_1 += 1\n",
    "    else:\n",
    "        d_1 += 0\n",
    "    pr_1.append(revenue_1)\n",
    "\n",
    "    \n",
    "pr_1 = pd.Series(pr_1)\n",
    "lower_1 = round(pr_1.quantile(0.025), 2)\n",
    "upper_1 = round(pr_1.quantile(0.975), 2)\n",
    "print(f\"95-процентный доверительный интервал: ({lower_1}, {upper_1})\")\n",
    "print(\"Средняя прибыль:\", round(pr_1.mean(), 2))\n",
    "print(\"Риск убытков:\", d_1 / 10, \"%\")\n",
    "    "
   ]
  },
  {
   "cell_type": "code",
   "execution_count": 29,
   "metadata": {},
   "outputs": [
    {
     "name": "stdout",
     "output_type": "stream",
     "text": [
      "95-процентный доверительный интервал: (-115852609.16, 989629939.84)\n",
      "Средняя прибыль: 420194005.34\n",
      "Риск убытков: 6.2 %\n"
     ]
    }
   ],
   "source": [
    "# Бутстреп. Регион 2.\n",
    "pr_2 = []\n",
    "d_2 = 0 # Счетчик регионов с отрицательной прибылью\n",
    "for h in range(1000):\n",
    "    subsample_2 = pd.Series(target_valid_2).reset_index(drop=True).sample(n=500, replace=True, random_state=state)\n",
    "    predicted_500_2 = pd.Series(predicted_2).reset_index(drop=True)[subsample_2.index]\n",
    "    revenue_2 = revenue(subsample_2, predicted_500_2, PROFIT, BUDGET)\n",
    "    if revenue_2 < 0:\n",
    "        d_2 += 1\n",
    "    else:\n",
    "        d_2 += 0\n",
    "    pr_2.append(revenue_2)\n",
    "\n",
    "    \n",
    "pr_2 = pd.Series(pr_2)\n",
    "lower_2 = round(pr_2.quantile(0.025), 2)\n",
    "upper_2 = round(pr_2.quantile(0.975), 2)\n",
    "print(f\"95-процентный доверительный интервал: ({lower_2}, {upper_2})\")\n",
    "print(\"Средняя прибыль:\", round(pr_2.mean(), 2))\n",
    "print(\"Риск убытков:\", d_2 / 10, \"%\")\n",
    "    \n",
    "    \n",
    "    "
   ]
  },
  {
   "cell_type": "markdown",
   "metadata": {},
   "source": [
    "# **Вывод**:\n",
    "Самый прибыльный регион - это регион 1. Он подходит по 2-м критериям:\n",
    "1) Риск убытков там - 0.3%, что меньше 2.5%, данных в ТЗ.\n",
    "2) Самая большая средняя прибыль среди всех регионов: 518259493.7 рублей."
   ]
  }
 ],
 "metadata": {
  "ExecuteTimeLog": [
   {
    "duration": 44,
    "start_time": "2022-11-14T14:37:20.285Z"
   },
   {
    "duration": 1290,
    "start_time": "2022-11-14T14:37:22.652Z"
   },
   {
    "duration": 18,
    "start_time": "2022-11-14T14:37:23.944Z"
   },
   {
    "duration": 18,
    "start_time": "2022-11-14T14:37:56.044Z"
   },
   {
    "duration": 12,
    "start_time": "2022-11-14T14:39:34.117Z"
   },
   {
    "duration": 13,
    "start_time": "2022-11-14T14:40:06.667Z"
   },
   {
    "duration": 12,
    "start_time": "2022-11-14T14:40:18.896Z"
   },
   {
    "duration": 15,
    "start_time": "2022-11-14T14:40:43.095Z"
   },
   {
    "duration": 11,
    "start_time": "2022-11-14T14:40:54.776Z"
   },
   {
    "duration": 13,
    "start_time": "2022-11-14T14:47:34.428Z"
   },
   {
    "duration": 13,
    "start_time": "2022-11-14T14:47:36.338Z"
   },
   {
    "duration": 12,
    "start_time": "2022-11-14T14:52:25.343Z"
   },
   {
    "duration": 44,
    "start_time": "2022-11-14T21:58:42.358Z"
   },
   {
    "duration": 1923,
    "start_time": "2022-11-14T21:58:48.780Z"
   },
   {
    "duration": 15,
    "start_time": "2022-11-14T21:58:50.705Z"
   },
   {
    "duration": 24,
    "start_time": "2022-11-14T21:58:50.722Z"
   },
   {
    "duration": 14,
    "start_time": "2022-11-14T21:58:51.036Z"
   },
   {
    "duration": 10,
    "start_time": "2022-11-14T21:58:52.045Z"
   },
   {
    "duration": 35,
    "start_time": "2022-11-14T21:59:26.140Z"
   },
   {
    "duration": 20,
    "start_time": "2022-11-14T21:59:45.684Z"
   },
   {
    "duration": 19,
    "start_time": "2022-11-14T21:59:59.432Z"
   },
   {
    "duration": 1085,
    "start_time": "2022-11-14T22:08:44.545Z"
   },
   {
    "duration": 26,
    "start_time": "2022-11-14T22:08:45.717Z"
   },
   {
    "duration": 27,
    "start_time": "2022-11-14T22:11:14.627Z"
   },
   {
    "duration": 31,
    "start_time": "2022-11-14T22:11:14.855Z"
   },
   {
    "duration": 18,
    "start_time": "2022-11-14T22:11:15.413Z"
   },
   {
    "duration": 66,
    "start_time": "2022-11-14T22:12:58.421Z"
   },
   {
    "duration": 9,
    "start_time": "2022-11-14T22:13:35.803Z"
   },
   {
    "duration": 14,
    "start_time": "2022-11-14T22:13:50.660Z"
   },
   {
    "duration": 18,
    "start_time": "2022-11-14T22:13:52.534Z"
   },
   {
    "duration": 418,
    "start_time": "2022-11-14T22:20:11.187Z"
   },
   {
    "duration": 20,
    "start_time": "2022-11-14T22:20:13.706Z"
   },
   {
    "duration": 22,
    "start_time": "2022-11-14T22:20:14.438Z"
   },
   {
    "duration": 18,
    "start_time": "2022-11-14T22:20:15.236Z"
   },
   {
    "duration": 11,
    "start_time": "2022-11-14T22:20:16.325Z"
   },
   {
    "duration": 34,
    "start_time": "2022-11-14T22:20:18.601Z"
   },
   {
    "duration": 23,
    "start_time": "2022-11-14T22:24:35.529Z"
   },
   {
    "duration": 24,
    "start_time": "2022-11-14T22:25:36.292Z"
   },
   {
    "duration": 23,
    "start_time": "2022-11-14T22:26:05.046Z"
   },
   {
    "duration": 25,
    "start_time": "2022-11-14T22:26:05.815Z"
   },
   {
    "duration": 3,
    "start_time": "2022-11-14T22:27:13.006Z"
   },
   {
    "duration": 258,
    "start_time": "2022-11-14T22:28:57.678Z"
   },
   {
    "duration": 4,
    "start_time": "2022-11-14T22:29:18.384Z"
   },
   {
    "duration": 4,
    "start_time": "2022-11-14T22:29:23.243Z"
   },
   {
    "duration": 4,
    "start_time": "2022-11-14T22:29:30.450Z"
   },
   {
    "duration": 14,
    "start_time": "2022-11-14T22:29:43.820Z"
   },
   {
    "duration": 3,
    "start_time": "2022-11-14T22:29:52.176Z"
   },
   {
    "duration": 74,
    "start_time": "2022-11-14T22:30:19.162Z"
   },
   {
    "duration": 4,
    "start_time": "2022-11-14T22:30:20.340Z"
   },
   {
    "duration": 4,
    "start_time": "2022-11-14T22:30:20.908Z"
   },
   {
    "duration": 4,
    "start_time": "2022-11-14T22:30:21.665Z"
   },
   {
    "duration": 390,
    "start_time": "2022-11-14T22:31:25.477Z"
   },
   {
    "duration": 18,
    "start_time": "2022-11-14T22:31:29.701Z"
   },
   {
    "duration": 19,
    "start_time": "2022-11-14T22:31:30.276Z"
   },
   {
    "duration": 24,
    "start_time": "2022-11-14T22:31:30.917Z"
   },
   {
    "duration": 7,
    "start_time": "2022-11-14T22:31:32.650Z"
   },
   {
    "duration": 23,
    "start_time": "2022-11-14T22:31:33.333Z"
   },
   {
    "duration": 135,
    "start_time": "2022-11-14T22:31:33.786Z"
   },
   {
    "duration": 3,
    "start_time": "2022-11-14T22:31:34.348Z"
   },
   {
    "duration": 4,
    "start_time": "2022-11-14T22:31:34.832Z"
   },
   {
    "duration": 7,
    "start_time": "2022-11-14T22:31:35.425Z"
   },
   {
    "duration": 10,
    "start_time": "2022-11-14T22:33:36.984Z"
   },
   {
    "duration": 450,
    "start_time": "2022-11-14T22:34:15.234Z"
   },
   {
    "duration": 21,
    "start_time": "2022-11-14T22:34:16.415Z"
   },
   {
    "duration": 21,
    "start_time": "2022-11-14T22:34:16.637Z"
   },
   {
    "duration": 21,
    "start_time": "2022-11-14T22:34:16.961Z"
   },
   {
    "duration": 8,
    "start_time": "2022-11-14T22:34:17.180Z"
   },
   {
    "duration": 24,
    "start_time": "2022-11-14T22:34:18.243Z"
   },
   {
    "duration": 153,
    "start_time": "2022-11-14T22:34:18.680Z"
   },
   {
    "duration": 9,
    "start_time": "2022-11-14T22:34:19.476Z"
   },
   {
    "duration": 8,
    "start_time": "2022-11-14T22:34:23.111Z"
   },
   {
    "duration": 4,
    "start_time": "2022-11-14T22:35:28.287Z"
   },
   {
    "duration": 6,
    "start_time": "2022-11-14T22:35:39.759Z"
   },
   {
    "duration": 4,
    "start_time": "2022-11-14T22:35:50.750Z"
   },
   {
    "duration": 6,
    "start_time": "2022-11-14T22:36:00.702Z"
   },
   {
    "duration": 7,
    "start_time": "2022-11-14T22:36:23.023Z"
   },
   {
    "duration": 5,
    "start_time": "2022-11-14T22:37:00.406Z"
   },
   {
    "duration": 47,
    "start_time": "2022-11-15T09:01:25.404Z"
   },
   {
    "duration": 2,
    "start_time": "2022-11-15T09:01:30.261Z"
   },
   {
    "duration": 8,
    "start_time": "2022-11-15T09:01:30.742Z"
   },
   {
    "duration": 3,
    "start_time": "2022-11-15T09:03:35.190Z"
   },
   {
    "duration": 3,
    "start_time": "2022-11-15T09:05:14.220Z"
   },
   {
    "duration": 3,
    "start_time": "2022-11-15T09:05:14.989Z"
   },
   {
    "duration": 3,
    "start_time": "2022-11-15T09:05:37.524Z"
   },
   {
    "duration": 3,
    "start_time": "2022-11-15T09:05:38.125Z"
   },
   {
    "duration": 2,
    "start_time": "2022-11-15T09:06:07.267Z"
   },
   {
    "duration": 3,
    "start_time": "2022-11-15T09:06:07.731Z"
   },
   {
    "duration": 3,
    "start_time": "2022-11-15T09:07:35.682Z"
   },
   {
    "duration": 3,
    "start_time": "2022-11-15T09:07:36.252Z"
   },
   {
    "duration": 3,
    "start_time": "2022-11-15T09:07:50.025Z"
   },
   {
    "duration": 4,
    "start_time": "2022-11-15T09:07:50.482Z"
   },
   {
    "duration": 3,
    "start_time": "2022-11-15T09:07:59.750Z"
   },
   {
    "duration": 4,
    "start_time": "2022-11-15T09:07:59.974Z"
   },
   {
    "duration": 2,
    "start_time": "2022-11-15T09:08:27.525Z"
   },
   {
    "duration": 3,
    "start_time": "2022-11-15T09:08:27.875Z"
   },
   {
    "duration": 5,
    "start_time": "2022-11-15T09:15:19.623Z"
   },
   {
    "duration": 3,
    "start_time": "2022-11-15T09:15:23.202Z"
   },
   {
    "duration": 3,
    "start_time": "2022-11-15T09:15:23.869Z"
   },
   {
    "duration": 4,
    "start_time": "2022-11-15T09:15:28.842Z"
   },
   {
    "duration": 5,
    "start_time": "2022-11-15T09:22:17.713Z"
   },
   {
    "duration": 2562,
    "start_time": "2022-11-15T09:22:27.136Z"
   },
   {
    "duration": 24,
    "start_time": "2022-11-15T09:22:29.700Z"
   },
   {
    "duration": 29,
    "start_time": "2022-11-15T09:22:29.725Z"
   },
   {
    "duration": 20,
    "start_time": "2022-11-15T09:22:33.899Z"
   },
   {
    "duration": 10,
    "start_time": "2022-11-15T09:22:34.692Z"
   },
   {
    "duration": 31,
    "start_time": "2022-11-15T09:22:36.571Z"
   },
   {
    "duration": 196,
    "start_time": "2022-11-15T09:22:37.325Z"
   },
   {
    "duration": 4,
    "start_time": "2022-11-15T09:22:38.415Z"
   },
   {
    "duration": 6,
    "start_time": "2022-11-15T09:22:54.401Z"
   },
   {
    "duration": 5,
    "start_time": "2022-11-15T09:23:06.163Z"
   },
   {
    "duration": 5,
    "start_time": "2022-11-15T09:23:18.241Z"
   },
   {
    "duration": 5,
    "start_time": "2022-11-15T09:23:30.036Z"
   },
   {
    "duration": 6,
    "start_time": "2022-11-15T09:23:45.062Z"
   },
   {
    "duration": 3,
    "start_time": "2022-11-15T09:23:49.190Z"
   },
   {
    "duration": 3,
    "start_time": "2022-11-15T09:23:49.584Z"
   },
   {
    "duration": 4,
    "start_time": "2022-11-15T09:23:58.479Z"
   },
   {
    "duration": 3,
    "start_time": "2022-11-15T09:36:51.195Z"
   },
   {
    "duration": 3,
    "start_time": "2022-11-15T09:38:00.788Z"
   },
   {
    "duration": 3,
    "start_time": "2022-11-15T09:39:23.600Z"
   },
   {
    "duration": 4,
    "start_time": "2022-11-15T09:39:24.889Z"
   },
   {
    "duration": 1751,
    "start_time": "2022-11-16T09:28:09.505Z"
   },
   {
    "duration": 23,
    "start_time": "2022-11-16T09:28:11.257Z"
   },
   {
    "duration": 16,
    "start_time": "2022-11-16T09:28:11.281Z"
   },
   {
    "duration": 16,
    "start_time": "2022-11-16T09:28:12.585Z"
   },
   {
    "duration": 8,
    "start_time": "2022-11-16T09:28:13.432Z"
   },
   {
    "duration": 28,
    "start_time": "2022-11-16T09:28:15.192Z"
   },
   {
    "duration": 81,
    "start_time": "2022-11-16T09:28:16.874Z"
   },
   {
    "duration": 4,
    "start_time": "2022-11-16T09:28:18.621Z"
   },
   {
    "duration": 4,
    "start_time": "2022-11-16T09:28:19.441Z"
   },
   {
    "duration": 4,
    "start_time": "2022-11-16T09:28:20.539Z"
   },
   {
    "duration": 4,
    "start_time": "2022-11-16T09:28:20.754Z"
   },
   {
    "duration": 4,
    "start_time": "2022-11-16T09:28:21.799Z"
   },
   {
    "duration": 5,
    "start_time": "2022-11-16T09:28:22.803Z"
   },
   {
    "duration": 3,
    "start_time": "2022-11-16T10:00:43.446Z"
   },
   {
    "duration": 3,
    "start_time": "2022-11-16T10:02:19.113Z"
   },
   {
    "duration": 304,
    "start_time": "2022-11-16T10:08:20.632Z"
   },
   {
    "duration": 22,
    "start_time": "2022-11-16T10:08:22.445Z"
   },
   {
    "duration": 21,
    "start_time": "2022-11-16T10:08:23.700Z"
   },
   {
    "duration": 18,
    "start_time": "2022-11-16T10:08:24.633Z"
   },
   {
    "duration": 7,
    "start_time": "2022-11-16T10:08:25.497Z"
   },
   {
    "duration": 25,
    "start_time": "2022-11-16T10:08:27.161Z"
   },
   {
    "duration": 89,
    "start_time": "2022-11-16T10:08:28.165Z"
   },
   {
    "duration": 4,
    "start_time": "2022-11-16T10:08:28.999Z"
   },
   {
    "duration": 5,
    "start_time": "2022-11-16T10:08:29.694Z"
   },
   {
    "duration": 3,
    "start_time": "2022-11-16T10:08:30.283Z"
   },
   {
    "duration": 5,
    "start_time": "2022-11-16T10:08:30.857Z"
   },
   {
    "duration": 4,
    "start_time": "2022-11-16T10:08:31.413Z"
   },
   {
    "duration": 5,
    "start_time": "2022-11-16T10:08:31.601Z"
   },
   {
    "duration": 2,
    "start_time": "2022-11-16T10:08:32.238Z"
   },
   {
    "duration": 4,
    "start_time": "2022-11-16T10:08:32.894Z"
   },
   {
    "duration": 3,
    "start_time": "2022-11-16T10:08:34.478Z"
   },
   {
    "duration": 107,
    "start_time": "2022-11-16T10:12:30.268Z"
   },
   {
    "duration": 4,
    "start_time": "2022-11-16T10:12:59.058Z"
   },
   {
    "duration": 6,
    "start_time": "2022-11-16T10:12:59.798Z"
   },
   {
    "duration": 5,
    "start_time": "2022-11-16T10:13:37.031Z"
   },
   {
    "duration": 7,
    "start_time": "2022-11-16T10:13:40.731Z"
   },
   {
    "duration": 3,
    "start_time": "2022-11-16T10:14:03.537Z"
   },
   {
    "duration": 12,
    "start_time": "2022-11-16T10:14:04.046Z"
   },
   {
    "duration": 2,
    "start_time": "2022-11-16T10:14:19.757Z"
   },
   {
    "duration": 6,
    "start_time": "2022-11-16T10:14:20.430Z"
   },
   {
    "duration": 6,
    "start_time": "2022-11-16T10:14:21.230Z"
   },
   {
    "duration": 6,
    "start_time": "2022-11-16T10:14:21.845Z"
   },
   {
    "duration": 5,
    "start_time": "2022-11-16T10:15:03.278Z"
   },
   {
    "duration": 5,
    "start_time": "2022-11-16T10:15:03.783Z"
   },
   {
    "duration": 5,
    "start_time": "2022-11-16T10:15:05.989Z"
   },
   {
    "duration": 7,
    "start_time": "2022-11-16T10:15:21.912Z"
   },
   {
    "duration": 9,
    "start_time": "2022-11-16T10:15:25.053Z"
   },
   {
    "duration": 9,
    "start_time": "2022-11-16T10:15:25.646Z"
   },
   {
    "duration": 7,
    "start_time": "2022-11-16T10:15:26.144Z"
   },
   {
    "duration": 3,
    "start_time": "2022-11-16T10:17:22.877Z"
   },
   {
    "duration": 7,
    "start_time": "2022-11-16T10:17:23.746Z"
   },
   {
    "duration": 8,
    "start_time": "2022-11-16T10:17:24.656Z"
   },
   {
    "duration": 7,
    "start_time": "2022-11-16T10:17:25.410Z"
   },
   {
    "duration": 3,
    "start_time": "2022-11-16T10:17:35.094Z"
   },
   {
    "duration": 6,
    "start_time": "2022-11-16T10:17:35.566Z"
   },
   {
    "duration": 6,
    "start_time": "2022-11-16T10:17:36.311Z"
   },
   {
    "duration": 7,
    "start_time": "2022-11-16T10:17:37.524Z"
   },
   {
    "duration": 9,
    "start_time": "2022-11-16T10:27:08.520Z"
   },
   {
    "duration": 81,
    "start_time": "2022-11-16T10:27:30.401Z"
   },
   {
    "duration": 447,
    "start_time": "2022-11-16T10:27:38.026Z"
   },
   {
    "duration": 428,
    "start_time": "2022-11-16T10:28:32.573Z"
   },
   {
    "duration": 433,
    "start_time": "2022-11-16T10:29:06.301Z"
   },
   {
    "duration": 299,
    "start_time": "2022-11-16T10:30:24.760Z"
   },
   {
    "duration": 17,
    "start_time": "2022-11-16T10:30:26.289Z"
   },
   {
    "duration": 16,
    "start_time": "2022-11-16T10:30:26.511Z"
   },
   {
    "duration": 17,
    "start_time": "2022-11-16T10:30:26.723Z"
   },
   {
    "duration": 6,
    "start_time": "2022-11-16T10:30:26.918Z"
   },
   {
    "duration": 23,
    "start_time": "2022-11-16T10:30:27.457Z"
   },
   {
    "duration": 101,
    "start_time": "2022-11-16T10:30:27.652Z"
   },
   {
    "duration": 10,
    "start_time": "2022-11-16T10:30:27.953Z"
   },
   {
    "duration": 4,
    "start_time": "2022-11-16T10:30:28.118Z"
   },
   {
    "duration": 3,
    "start_time": "2022-11-16T10:30:28.294Z"
   },
   {
    "duration": 6,
    "start_time": "2022-11-16T10:30:28.485Z"
   },
   {
    "duration": 3,
    "start_time": "2022-11-16T10:30:28.676Z"
   },
   {
    "duration": 4,
    "start_time": "2022-11-16T10:30:28.856Z"
   },
   {
    "duration": 3,
    "start_time": "2022-11-16T10:30:29.446Z"
   },
   {
    "duration": 4,
    "start_time": "2022-11-16T10:30:29.658Z"
   },
   {
    "duration": 3,
    "start_time": "2022-11-16T10:30:30.389Z"
   },
   {
    "duration": 532,
    "start_time": "2022-11-16T10:30:30.585Z"
   },
   {
    "duration": 447,
    "start_time": "2022-11-16T10:30:53.878Z"
   },
   {
    "duration": 446,
    "start_time": "2022-11-16T10:31:14.140Z"
   },
   {
    "duration": 457,
    "start_time": "2022-11-16T10:31:44.361Z"
   },
   {
    "duration": 422,
    "start_time": "2022-11-16T10:31:56.297Z"
   },
   {
    "duration": 433,
    "start_time": "2022-11-16T10:35:58.472Z"
   },
   {
    "duration": 448,
    "start_time": "2022-11-16T10:37:02.903Z"
   },
   {
    "duration": 430,
    "start_time": "2022-11-16T10:37:53.002Z"
   },
   {
    "duration": 425,
    "start_time": "2022-11-16T10:38:06.378Z"
   },
   {
    "duration": 507,
    "start_time": "2022-11-16T10:46:23.228Z"
   },
   {
    "duration": 460,
    "start_time": "2022-11-16T10:46:46.506Z"
   },
   {
    "duration": 443,
    "start_time": "2022-11-16T10:47:05.937Z"
   },
   {
    "duration": 440,
    "start_time": "2022-11-16T10:47:07.354Z"
   },
   {
    "duration": 435,
    "start_time": "2022-11-16T10:48:27.921Z"
   },
   {
    "duration": 72,
    "start_time": "2022-11-16T11:07:06.689Z"
   },
   {
    "duration": 473,
    "start_time": "2022-11-16T11:07:12.087Z"
   },
   {
    "duration": 445,
    "start_time": "2022-11-16T11:08:11.111Z"
   },
   {
    "duration": 551,
    "start_time": "2022-11-16T11:08:24.622Z"
   },
   {
    "duration": 435,
    "start_time": "2022-11-16T11:09:13.824Z"
   },
   {
    "duration": 542,
    "start_time": "2022-11-16T11:09:22.789Z"
   },
   {
    "duration": 2,
    "start_time": "2022-11-16T11:13:14.717Z"
   },
   {
    "duration": 336,
    "start_time": "2022-11-16T11:13:23.316Z"
   },
   {
    "duration": 16,
    "start_time": "2022-11-16T11:13:27.929Z"
   },
   {
    "duration": 17,
    "start_time": "2022-11-16T11:13:30.238Z"
   },
   {
    "duration": 16,
    "start_time": "2022-11-16T11:13:31.294Z"
   },
   {
    "duration": 7,
    "start_time": "2022-11-16T11:13:32.594Z"
   },
   {
    "duration": 448,
    "start_time": "2022-11-16T11:19:01.701Z"
   },
   {
    "duration": 429,
    "start_time": "2022-11-16T11:19:03.429Z"
   },
   {
    "duration": 480,
    "start_time": "2022-11-16T11:19:04.969Z"
   },
   {
    "duration": 568,
    "start_time": "2022-11-16T11:24:24.035Z"
   },
   {
    "duration": 437,
    "start_time": "2022-11-16T11:29:19.892Z"
   },
   {
    "duration": 458,
    "start_time": "2022-11-16T11:30:00.523Z"
   },
   {
    "duration": 426,
    "start_time": "2022-11-16T11:30:10.161Z"
   },
   {
    "duration": 440,
    "start_time": "2022-11-16T11:30:20.541Z"
   },
   {
    "duration": 3,
    "start_time": "2022-11-16T11:30:25.038Z"
   },
   {
    "duration": 428,
    "start_time": "2022-11-16T11:30:25.518Z"
   },
   {
    "duration": 432,
    "start_time": "2022-11-16T11:30:36.607Z"
   },
   {
    "duration": 427,
    "start_time": "2022-11-16T11:31:21.702Z"
   },
   {
    "duration": 449,
    "start_time": "2022-11-16T11:32:06.473Z"
   },
   {
    "duration": 432,
    "start_time": "2022-11-16T11:33:41.935Z"
   },
   {
    "duration": 436,
    "start_time": "2022-11-16T11:33:45.471Z"
   },
   {
    "duration": 430,
    "start_time": "2022-11-16T11:33:49.898Z"
   },
   {
    "duration": 432,
    "start_time": "2022-11-16T11:33:51.414Z"
   },
   {
    "duration": 426,
    "start_time": "2022-11-16T11:33:53.310Z"
   },
   {
    "duration": 314,
    "start_time": "2022-11-16T11:38:48.257Z"
   },
   {
    "duration": 20,
    "start_time": "2022-11-16T11:38:49.070Z"
   },
   {
    "duration": 18,
    "start_time": "2022-11-16T11:38:49.789Z"
   },
   {
    "duration": 18,
    "start_time": "2022-11-16T11:38:50.416Z"
   },
   {
    "duration": 7,
    "start_time": "2022-11-16T11:38:50.966Z"
   },
   {
    "duration": 25,
    "start_time": "2022-11-16T11:38:53.228Z"
   },
   {
    "duration": 90,
    "start_time": "2022-11-16T11:38:54.368Z"
   },
   {
    "duration": 4,
    "start_time": "2022-11-16T11:38:55.441Z"
   },
   {
    "duration": 5,
    "start_time": "2022-11-16T11:38:56.345Z"
   },
   {
    "duration": 4,
    "start_time": "2022-11-16T11:38:59.764Z"
   },
   {
    "duration": 5,
    "start_time": "2022-11-16T11:39:01.040Z"
   },
   {
    "duration": 4,
    "start_time": "2022-11-16T11:39:05.863Z"
   },
   {
    "duration": 6,
    "start_time": "2022-11-16T11:39:06.418Z"
   },
   {
    "duration": 3,
    "start_time": "2022-11-16T11:39:07.983Z"
   },
   {
    "duration": 4,
    "start_time": "2022-11-16T11:39:08.553Z"
   },
   {
    "duration": 3,
    "start_time": "2022-11-16T11:39:10.390Z"
   },
   {
    "duration": 458,
    "start_time": "2022-11-16T11:39:11.691Z"
   },
   {
    "duration": 489,
    "start_time": "2022-11-16T11:39:14.140Z"
   },
   {
    "duration": 462,
    "start_time": "2022-11-16T11:39:15.762Z"
   },
   {
    "duration": 2901,
    "start_time": "2022-11-16T11:54:03.637Z"
   },
   {
    "duration": 27,
    "start_time": "2022-11-16T11:54:06.539Z"
   },
   {
    "duration": 20,
    "start_time": "2022-11-16T11:54:06.567Z"
   },
   {
    "duration": 19,
    "start_time": "2022-11-16T11:54:06.597Z"
   },
   {
    "duration": 9,
    "start_time": "2022-11-16T11:54:06.617Z"
   },
   {
    "duration": 33,
    "start_time": "2022-11-16T11:54:06.628Z"
   },
   {
    "duration": 243,
    "start_time": "2022-11-16T11:54:06.663Z"
   },
   {
    "duration": 92,
    "start_time": "2022-11-16T11:54:06.908Z"
   },
   {
    "duration": 107,
    "start_time": "2022-11-16T11:54:07.002Z"
   },
   {
    "duration": 12,
    "start_time": "2022-11-16T11:54:07.112Z"
   },
   {
    "duration": 10,
    "start_time": "2022-11-16T11:54:07.125Z"
   },
   {
    "duration": 11,
    "start_time": "2022-11-16T11:54:07.136Z"
   },
   {
    "duration": 6,
    "start_time": "2022-11-16T11:54:07.149Z"
   },
   {
    "duration": 5,
    "start_time": "2022-11-16T11:54:07.157Z"
   },
   {
    "duration": 11,
    "start_time": "2022-11-16T11:54:07.163Z"
   },
   {
    "duration": 5,
    "start_time": "2022-11-16T11:54:07.176Z"
   },
   {
    "duration": 506,
    "start_time": "2022-11-16T11:54:07.183Z"
   },
   {
    "duration": 479,
    "start_time": "2022-11-16T11:54:07.690Z"
   },
   {
    "duration": 516,
    "start_time": "2022-11-16T11:54:08.171Z"
   },
   {
    "duration": 130,
    "start_time": "2022-11-16T12:11:32.955Z"
   },
   {
    "duration": 4,
    "start_time": "2022-11-16T12:11:46.887Z"
   },
   {
    "duration": 4,
    "start_time": "2022-11-16T12:11:55.754Z"
   },
   {
    "duration": 5,
    "start_time": "2022-11-16T12:12:05.236Z"
   },
   {
    "duration": 5,
    "start_time": "2022-11-16T12:41:48.926Z"
   },
   {
    "duration": 883,
    "start_time": "2022-11-16T12:42:04.521Z"
   },
   {
    "duration": 5,
    "start_time": "2022-11-16T12:42:11.192Z"
   },
   {
    "duration": 5,
    "start_time": "2022-11-16T12:42:19.384Z"
   },
   {
    "duration": 7,
    "start_time": "2022-11-16T12:42:31.306Z"
   },
   {
    "duration": 4,
    "start_time": "2022-11-16T12:42:38.832Z"
   },
   {
    "duration": 1149,
    "start_time": "2022-11-16T14:25:02.717Z"
   },
   {
    "duration": 1535,
    "start_time": "2022-11-16T14:25:03.868Z"
   },
   {
    "duration": 103,
    "start_time": "2022-11-16T14:29:51.278Z"
   },
   {
    "duration": 11,
    "start_time": "2022-11-16T14:30:01.080Z"
   },
   {
    "duration": 37,
    "start_time": "2022-11-16T14:30:36.447Z"
   },
   {
    "duration": 20,
    "start_time": "2022-11-16T14:30:51.279Z"
   },
   {
    "duration": 4,
    "start_time": "2022-11-16T14:31:29.617Z"
   },
   {
    "duration": 23,
    "start_time": "2022-11-16T14:31:34.890Z"
   },
   {
    "duration": 18,
    "start_time": "2022-11-16T14:31:56.615Z"
   },
   {
    "duration": 21,
    "start_time": "2022-11-16T14:32:14.404Z"
   },
   {
    "duration": 21,
    "start_time": "2022-11-16T14:32:29.453Z"
   },
   {
    "duration": 13,
    "start_time": "2022-11-16T14:37:06.457Z"
   },
   {
    "duration": 61,
    "start_time": "2022-11-16T14:37:19.943Z"
   },
   {
    "duration": 59,
    "start_time": "2022-11-16T14:38:02.740Z"
   },
   {
    "duration": 10,
    "start_time": "2022-11-16T14:39:20.090Z"
   },
   {
    "duration": 605,
    "start_time": "2022-11-16T14:39:32.486Z"
   },
   {
    "duration": 168,
    "start_time": "2022-11-16T14:40:52.617Z"
   },
   {
    "duration": 164,
    "start_time": "2022-11-16T14:41:02.012Z"
   },
   {
    "duration": 160,
    "start_time": "2022-11-16T14:47:25.120Z"
   },
   {
    "duration": 162,
    "start_time": "2022-11-16T14:47:27.301Z"
   },
   {
    "duration": 172,
    "start_time": "2022-11-16T14:47:30.121Z"
   },
   {
    "duration": 248,
    "start_time": "2022-11-16T14:47:31.481Z"
   },
   {
    "duration": 65,
    "start_time": "2022-11-16T15:14:13.291Z"
   },
   {
    "duration": 166,
    "start_time": "2022-11-16T15:14:14.616Z"
   },
   {
    "duration": 14,
    "start_time": "2022-11-16T15:15:16.350Z"
   },
   {
    "duration": 61,
    "start_time": "2022-11-16T15:18:48.407Z"
   },
   {
    "duration": 15,
    "start_time": "2022-11-16T15:23:55.092Z"
   },
   {
    "duration": 17,
    "start_time": "2022-11-16T15:24:52.680Z"
   },
   {
    "duration": 15,
    "start_time": "2022-11-16T15:25:05.322Z"
   },
   {
    "duration": 17,
    "start_time": "2022-11-16T15:25:37.048Z"
   },
   {
    "duration": 17,
    "start_time": "2022-11-16T15:25:38.019Z"
   },
   {
    "duration": 16,
    "start_time": "2022-11-16T15:25:38.888Z"
   },
   {
    "duration": 23,
    "start_time": "2022-11-16T15:28:11.180Z"
   },
   {
    "duration": 23,
    "start_time": "2022-11-16T15:28:12.562Z"
   },
   {
    "duration": 24,
    "start_time": "2022-11-16T15:28:13.644Z"
   },
   {
    "duration": 47,
    "start_time": "2022-11-16T15:31:37.042Z"
   },
   {
    "duration": 3,
    "start_time": "2022-11-16T15:40:30.646Z"
   },
   {
    "duration": 3,
    "start_time": "2022-11-16T15:40:52.372Z"
   },
   {
    "duration": 4,
    "start_time": "2022-11-16T15:40:59.737Z"
   },
   {
    "duration": 3,
    "start_time": "2022-11-16T15:41:00.369Z"
   },
   {
    "duration": 397,
    "start_time": "2022-11-16T15:41:00.991Z"
   },
   {
    "duration": 4,
    "start_time": "2022-11-16T15:42:00.642Z"
   },
   {
    "duration": 5,
    "start_time": "2022-11-16T15:52:03.171Z"
   },
   {
    "duration": 52,
    "start_time": "2022-11-16T15:53:49.242Z"
   },
   {
    "duration": 4,
    "start_time": "2022-11-16T16:29:26.567Z"
   },
   {
    "duration": 3,
    "start_time": "2022-11-16T16:30:16.952Z"
   },
   {
    "duration": 3,
    "start_time": "2022-11-16T16:31:57.035Z"
   },
   {
    "duration": 22,
    "start_time": "2022-11-16T16:33:08.342Z"
   },
   {
    "duration": 4,
    "start_time": "2022-11-16T16:33:55.118Z"
   },
   {
    "duration": 5,
    "start_time": "2022-11-16T16:33:55.126Z"
   },
   {
    "duration": 367,
    "start_time": "2022-11-16T16:33:55.132Z"
   },
   {
    "duration": 23,
    "start_time": "2022-11-16T16:33:55.501Z"
   },
   {
    "duration": 22,
    "start_time": "2022-11-16T16:33:55.526Z"
   },
   {
    "duration": 21,
    "start_time": "2022-11-16T16:33:55.552Z"
   },
   {
    "duration": 7,
    "start_time": "2022-11-16T16:33:55.575Z"
   },
   {
    "duration": 103,
    "start_time": "2022-11-16T16:33:55.583Z"
   },
   {
    "duration": 183,
    "start_time": "2022-11-16T16:33:55.688Z"
   },
   {
    "duration": 185,
    "start_time": "2022-11-16T16:33:55.873Z"
   },
   {
    "duration": 168,
    "start_time": "2022-11-16T16:33:56.060Z"
   },
   {
    "duration": 16,
    "start_time": "2022-11-16T16:33:56.230Z"
   },
   {
    "duration": 16,
    "start_time": "2022-11-16T16:33:56.247Z"
   },
   {
    "duration": 19,
    "start_time": "2022-11-16T16:33:56.265Z"
   },
   {
    "duration": 56,
    "start_time": "2022-11-16T16:33:56.285Z"
   },
   {
    "duration": 186,
    "start_time": "2022-11-16T16:33:56.343Z"
   },
   {
    "duration": 7,
    "start_time": "2022-11-16T16:33:56.615Z"
   },
   {
    "duration": 11,
    "start_time": "2022-11-16T16:33:56.712Z"
   },
   {
    "duration": 16,
    "start_time": "2022-11-16T16:33:56.724Z"
   },
   {
    "duration": 6,
    "start_time": "2022-11-16T16:33:56.742Z"
   },
   {
    "duration": 21,
    "start_time": "2022-11-16T16:33:56.750Z"
   },
   {
    "duration": 12,
    "start_time": "2022-11-16T16:33:56.773Z"
   },
   {
    "duration": 5,
    "start_time": "2022-11-16T16:33:56.787Z"
   },
   {
    "duration": 9,
    "start_time": "2022-11-16T16:33:56.794Z"
   },
   {
    "duration": 16,
    "start_time": "2022-11-16T16:33:56.804Z"
   },
   {
    "duration": 0,
    "start_time": "2022-11-16T16:33:56.821Z"
   },
   {
    "duration": 0,
    "start_time": "2022-11-16T16:33:56.823Z"
   },
   {
    "duration": 0,
    "start_time": "2022-11-16T16:33:56.824Z"
   },
   {
    "duration": 15,
    "start_time": "2022-11-16T16:34:04.491Z"
   },
   {
    "duration": 17,
    "start_time": "2022-11-16T16:34:26.587Z"
   },
   {
    "duration": 4,
    "start_time": "2022-11-16T16:40:16.431Z"
   },
   {
    "duration": 12,
    "start_time": "2022-11-16T16:40:18.783Z"
   },
   {
    "duration": 24,
    "start_time": "2022-11-16T16:41:56.528Z"
   },
   {
    "duration": 17,
    "start_time": "2022-11-16T16:48:06.125Z"
   },
   {
    "duration": 3,
    "start_time": "2022-11-16T16:48:17.299Z"
   },
   {
    "duration": 381,
    "start_time": "2022-11-16T16:48:17.929Z"
   },
   {
    "duration": 21,
    "start_time": "2022-11-16T16:48:18.530Z"
   },
   {
    "duration": 21,
    "start_time": "2022-11-16T16:48:18.687Z"
   },
   {
    "duration": 22,
    "start_time": "2022-11-16T16:48:18.883Z"
   },
   {
    "duration": 8,
    "start_time": "2022-11-16T16:48:19.093Z"
   },
   {
    "duration": 68,
    "start_time": "2022-11-16T16:48:19.692Z"
   },
   {
    "duration": 169,
    "start_time": "2022-11-16T16:48:20.124Z"
   },
   {
    "duration": 169,
    "start_time": "2022-11-16T16:48:21.675Z"
   },
   {
    "duration": 167,
    "start_time": "2022-11-16T16:48:21.855Z"
   },
   {
    "duration": 17,
    "start_time": "2022-11-16T16:48:22.286Z"
   },
   {
    "duration": 15,
    "start_time": "2022-11-16T16:48:22.884Z"
   },
   {
    "duration": 15,
    "start_time": "2022-11-16T16:48:23.343Z"
   },
   {
    "duration": 26,
    "start_time": "2022-11-16T16:48:26.450Z"
   },
   {
    "duration": 74,
    "start_time": "2022-11-16T16:48:27.346Z"
   },
   {
    "duration": 4,
    "start_time": "2022-11-16T16:48:27.787Z"
   },
   {
    "duration": 5,
    "start_time": "2022-11-16T16:48:28.292Z"
   },
   {
    "duration": 4,
    "start_time": "2022-11-16T16:48:28.785Z"
   },
   {
    "duration": 5,
    "start_time": "2022-11-16T16:48:29.110Z"
   },
   {
    "duration": 5,
    "start_time": "2022-11-16T16:48:29.287Z"
   },
   {
    "duration": 5,
    "start_time": "2022-11-16T16:48:29.493Z"
   },
   {
    "duration": 4,
    "start_time": "2022-11-16T16:48:30.888Z"
   },
   {
    "duration": 3,
    "start_time": "2022-11-16T16:48:32.702Z"
   },
   {
    "duration": 17,
    "start_time": "2022-11-16T16:48:34.080Z"
   },
   {
    "duration": 5,
    "start_time": "2022-11-16T16:48:55.428Z"
   },
   {
    "duration": 16,
    "start_time": "2022-11-16T16:48:56.527Z"
   },
   {
    "duration": 12,
    "start_time": "2022-11-16T16:48:57.907Z"
   },
   {
    "duration": 3,
    "start_time": "2022-11-16T16:50:21.291Z"
   },
   {
    "duration": 4,
    "start_time": "2022-11-16T16:51:04.034Z"
   },
   {
    "duration": 761,
    "start_time": "2022-11-16T16:51:05.642Z"
   },
   {
    "duration": 6,
    "start_time": "2022-11-16T17:02:43.938Z"
   },
   {
    "duration": 13,
    "start_time": "2022-11-16T17:08:09.909Z"
   },
   {
    "duration": 16,
    "start_time": "2022-11-16T17:09:56.400Z"
   },
   {
    "duration": 13,
    "start_time": "2022-11-16T17:23:23.592Z"
   },
   {
    "duration": 11,
    "start_time": "2022-11-16T17:27:59.021Z"
   },
   {
    "duration": 17,
    "start_time": "2022-11-16T17:34:24.696Z"
   },
   {
    "duration": 1950,
    "start_time": "2022-11-16T17:34:35.928Z"
   },
   {
    "duration": 1782,
    "start_time": "2022-11-16T17:36:02.017Z"
   },
   {
    "duration": 1813,
    "start_time": "2022-11-16T17:36:56.884Z"
   },
   {
    "duration": 90,
    "start_time": "2022-11-16T17:39:45.236Z"
   },
   {
    "duration": 1071,
    "start_time": "2022-11-16T17:40:42.055Z"
   },
   {
    "duration": 4,
    "start_time": "2022-11-16T17:40:43.128Z"
   },
   {
    "duration": 389,
    "start_time": "2022-11-16T17:40:43.134Z"
   },
   {
    "duration": 37,
    "start_time": "2022-11-16T17:40:43.525Z"
   },
   {
    "duration": 20,
    "start_time": "2022-11-16T17:40:43.564Z"
   },
   {
    "duration": 38,
    "start_time": "2022-11-16T17:40:43.586Z"
   },
   {
    "duration": 10,
    "start_time": "2022-11-16T17:40:43.625Z"
   },
   {
    "duration": 94,
    "start_time": "2022-11-16T17:40:43.638Z"
   },
   {
    "duration": 443,
    "start_time": "2022-11-16T17:40:43.734Z"
   },
   {
    "duration": 185,
    "start_time": "2022-11-16T17:40:44.181Z"
   },
   {
    "duration": 175,
    "start_time": "2022-11-16T17:40:44.367Z"
   },
   {
    "duration": 18,
    "start_time": "2022-11-16T17:40:44.543Z"
   },
   {
    "duration": 16,
    "start_time": "2022-11-16T17:40:44.563Z"
   },
   {
    "duration": 45,
    "start_time": "2022-11-16T17:40:44.581Z"
   },
   {
    "duration": 30,
    "start_time": "2022-11-16T17:40:44.628Z"
   },
   {
    "duration": 261,
    "start_time": "2022-11-16T17:40:44.660Z"
   },
   {
    "duration": 91,
    "start_time": "2022-11-16T17:40:44.923Z"
   },
   {
    "duration": 109,
    "start_time": "2022-11-16T17:40:45.016Z"
   },
   {
    "duration": 5,
    "start_time": "2022-11-16T17:40:45.126Z"
   },
   {
    "duration": 6,
    "start_time": "2022-11-16T17:40:45.133Z"
   },
   {
    "duration": 4,
    "start_time": "2022-11-16T17:40:45.141Z"
   },
   {
    "duration": 6,
    "start_time": "2022-11-16T17:40:45.147Z"
   },
   {
    "duration": 6,
    "start_time": "2022-11-16T17:40:45.154Z"
   },
   {
    "duration": 4,
    "start_time": "2022-11-16T17:40:45.162Z"
   },
   {
    "duration": 1871,
    "start_time": "2022-11-16T17:40:45.167Z"
   },
   {
    "duration": 5,
    "start_time": "2022-11-16T17:40:47.040Z"
   },
   {
    "duration": 1765,
    "start_time": "2022-11-16T17:40:47.046Z"
   },
   {
    "duration": 1851,
    "start_time": "2022-11-16T17:40:48.815Z"
   },
   {
    "duration": 54,
    "start_time": "2022-11-16T20:18:22.593Z"
   },
   {
    "duration": 1091,
    "start_time": "2022-11-16T20:18:40.565Z"
   },
   {
    "duration": 3,
    "start_time": "2022-11-16T20:18:41.658Z"
   },
   {
    "duration": 924,
    "start_time": "2022-11-16T20:18:41.662Z"
   },
   {
    "duration": 34,
    "start_time": "2022-11-16T20:18:42.589Z"
   },
   {
    "duration": 22,
    "start_time": "2022-11-16T20:18:42.624Z"
   },
   {
    "duration": 30,
    "start_time": "2022-11-16T20:18:42.648Z"
   },
   {
    "duration": 10,
    "start_time": "2022-11-16T20:18:42.680Z"
   },
   {
    "duration": 109,
    "start_time": "2022-11-16T20:18:42.691Z"
   },
   {
    "duration": 641,
    "start_time": "2022-11-16T20:18:42.802Z"
   },
   {
    "duration": 208,
    "start_time": "2022-11-16T20:18:43.446Z"
   },
   {
    "duration": 202,
    "start_time": "2022-11-16T20:18:43.656Z"
   },
   {
    "duration": 30,
    "start_time": "2022-11-16T20:18:43.860Z"
   },
   {
    "duration": 27,
    "start_time": "2022-11-16T20:18:43.895Z"
   },
   {
    "duration": 20,
    "start_time": "2022-11-16T20:18:43.925Z"
   },
   {
    "duration": 66,
    "start_time": "2022-11-16T20:18:43.947Z"
   },
   {
    "duration": 163,
    "start_time": "2022-11-16T20:18:44.016Z"
   },
   {
    "duration": 98,
    "start_time": "2022-11-16T20:18:44.184Z"
   },
   {
    "duration": 21,
    "start_time": "2022-11-16T20:18:44.284Z"
   },
   {
    "duration": 12,
    "start_time": "2022-11-16T20:18:44.307Z"
   },
   {
    "duration": 9,
    "start_time": "2022-11-16T20:18:44.321Z"
   },
   {
    "duration": 12,
    "start_time": "2022-11-16T20:18:44.332Z"
   },
   {
    "duration": 33,
    "start_time": "2022-11-16T20:18:44.346Z"
   },
   {
    "duration": 13,
    "start_time": "2022-11-16T20:18:44.382Z"
   },
   {
    "duration": 9,
    "start_time": "2022-11-16T20:18:44.397Z"
   },
   {
    "duration": 134,
    "start_time": "2022-11-16T20:18:44.409Z"
   },
   {
    "duration": 0,
    "start_time": "2022-11-16T20:18:44.545Z"
   },
   {
    "duration": 0,
    "start_time": "2022-11-16T20:18:44.546Z"
   },
   {
    "duration": 0,
    "start_time": "2022-11-16T20:18:44.548Z"
   },
   {
    "duration": 1688,
    "start_time": "2022-11-16T20:19:19.972Z"
   },
   {
    "duration": 1596,
    "start_time": "2022-11-16T20:20:55.808Z"
   },
   {
    "duration": 1550,
    "start_time": "2022-11-16T20:22:17.602Z"
   },
   {
    "duration": 1128,
    "start_time": "2022-11-16T20:22:45.275Z"
   },
   {
    "duration": 3,
    "start_time": "2022-11-16T20:22:46.405Z"
   },
   {
    "duration": 343,
    "start_time": "2022-11-16T20:22:46.409Z"
   },
   {
    "duration": 33,
    "start_time": "2022-11-16T20:22:46.754Z"
   },
   {
    "duration": 17,
    "start_time": "2022-11-16T20:22:46.788Z"
   },
   {
    "duration": 17,
    "start_time": "2022-11-16T20:22:46.806Z"
   },
   {
    "duration": 9,
    "start_time": "2022-11-16T20:22:46.824Z"
   },
   {
    "duration": 86,
    "start_time": "2022-11-16T20:22:46.834Z"
   },
   {
    "duration": 389,
    "start_time": "2022-11-16T20:22:46.921Z"
   },
   {
    "duration": 161,
    "start_time": "2022-11-16T20:22:47.313Z"
   },
   {
    "duration": 151,
    "start_time": "2022-11-16T20:22:47.477Z"
   },
   {
    "duration": 15,
    "start_time": "2022-11-16T20:22:47.630Z"
   },
   {
    "duration": 13,
    "start_time": "2022-11-16T20:22:47.647Z"
   },
   {
    "duration": 14,
    "start_time": "2022-11-16T20:22:47.678Z"
   },
   {
    "duration": 29,
    "start_time": "2022-11-16T20:22:47.694Z"
   },
   {
    "duration": 155,
    "start_time": "2022-11-16T20:22:47.724Z"
   },
   {
    "duration": 3,
    "start_time": "2022-11-16T20:22:47.881Z"
   },
   {
    "duration": 105,
    "start_time": "2022-11-16T20:22:47.886Z"
   },
   {
    "duration": 8,
    "start_time": "2022-11-16T20:22:47.994Z"
   },
   {
    "duration": 6,
    "start_time": "2022-11-16T20:22:48.078Z"
   },
   {
    "duration": 11,
    "start_time": "2022-11-16T20:22:48.085Z"
   },
   {
    "duration": 6,
    "start_time": "2022-11-16T20:22:48.097Z"
   },
   {
    "duration": 6,
    "start_time": "2022-11-16T20:22:48.104Z"
   },
   {
    "duration": 4,
    "start_time": "2022-11-16T20:22:48.111Z"
   },
   {
    "duration": 1668,
    "start_time": "2022-11-16T20:22:48.117Z"
   },
   {
    "duration": 4,
    "start_time": "2022-11-16T20:22:49.786Z"
   },
   {
    "duration": 1547,
    "start_time": "2022-11-16T20:22:49.792Z"
   },
   {
    "duration": 1562,
    "start_time": "2022-11-16T20:22:51.342Z"
   },
   {
    "duration": 1107,
    "start_time": "2022-11-16T20:23:34.348Z"
   },
   {
    "duration": 3,
    "start_time": "2022-11-16T20:23:35.456Z"
   },
   {
    "duration": 402,
    "start_time": "2022-11-16T20:23:35.461Z"
   },
   {
    "duration": 31,
    "start_time": "2022-11-16T20:23:35.865Z"
   },
   {
    "duration": 20,
    "start_time": "2022-11-16T20:23:35.899Z"
   },
   {
    "duration": 20,
    "start_time": "2022-11-16T20:23:35.921Z"
   },
   {
    "duration": 9,
    "start_time": "2022-11-16T20:23:35.943Z"
   },
   {
    "duration": 68,
    "start_time": "2022-11-16T20:23:35.979Z"
   },
   {
    "duration": 424,
    "start_time": "2022-11-16T20:23:36.049Z"
   },
   {
    "duration": 173,
    "start_time": "2022-11-16T20:23:36.477Z"
   },
   {
    "duration": 168,
    "start_time": "2022-11-16T20:23:36.652Z"
   },
   {
    "duration": 18,
    "start_time": "2022-11-16T20:23:36.821Z"
   },
   {
    "duration": 16,
    "start_time": "2022-11-16T20:23:36.841Z"
   },
   {
    "duration": 15,
    "start_time": "2022-11-16T20:23:36.879Z"
   },
   {
    "duration": 32,
    "start_time": "2022-11-16T20:23:36.896Z"
   },
   {
    "duration": 149,
    "start_time": "2022-11-16T20:23:36.930Z"
   },
   {
    "duration": 97,
    "start_time": "2022-11-16T20:23:37.081Z"
   },
   {
    "duration": 14,
    "start_time": "2022-11-16T20:23:37.180Z"
   },
   {
    "duration": 4,
    "start_time": "2022-11-16T20:23:37.196Z"
   },
   {
    "duration": 7,
    "start_time": "2022-11-16T20:23:37.202Z"
   },
   {
    "duration": 4,
    "start_time": "2022-11-16T20:23:37.278Z"
   },
   {
    "duration": 6,
    "start_time": "2022-11-16T20:23:37.284Z"
   },
   {
    "duration": 5,
    "start_time": "2022-11-16T20:23:37.291Z"
   },
   {
    "duration": 5,
    "start_time": "2022-11-16T20:23:37.297Z"
   },
   {
    "duration": 1742,
    "start_time": "2022-11-16T20:23:37.303Z"
   },
   {
    "duration": 4,
    "start_time": "2022-11-16T20:23:39.047Z"
   },
   {
    "duration": 1710,
    "start_time": "2022-11-16T20:23:39.053Z"
   },
   {
    "duration": 1645,
    "start_time": "2022-11-16T20:23:40.765Z"
   },
   {
    "duration": 1096,
    "start_time": "2022-11-17T17:58:10.066Z"
   },
   {
    "duration": 3,
    "start_time": "2022-11-17T17:58:11.164Z"
   },
   {
    "duration": 1562,
    "start_time": "2022-11-17T17:58:11.169Z"
   },
   {
    "duration": 32,
    "start_time": "2022-11-17T17:58:12.733Z"
   },
   {
    "duration": 22,
    "start_time": "2022-11-17T17:58:12.767Z"
   },
   {
    "duration": 34,
    "start_time": "2022-11-17T17:58:12.791Z"
   },
   {
    "duration": 10,
    "start_time": "2022-11-17T17:58:12.827Z"
   },
   {
    "duration": 96,
    "start_time": "2022-11-17T17:58:12.839Z"
   },
   {
    "duration": 569,
    "start_time": "2022-11-17T17:58:12.937Z"
   },
   {
    "duration": 168,
    "start_time": "2022-11-17T17:58:13.515Z"
   },
   {
    "duration": 170,
    "start_time": "2022-11-17T17:58:13.684Z"
   },
   {
    "duration": 16,
    "start_time": "2022-11-17T17:58:13.856Z"
   },
   {
    "duration": 16,
    "start_time": "2022-11-17T17:58:13.874Z"
   },
   {
    "duration": 15,
    "start_time": "2022-11-17T17:58:13.916Z"
   },
   {
    "duration": 38,
    "start_time": "2022-11-17T17:58:13.932Z"
   },
   {
    "duration": 253,
    "start_time": "2022-11-17T17:58:13.972Z"
   },
   {
    "duration": 93,
    "start_time": "2022-11-17T17:58:14.227Z"
   },
   {
    "duration": 102,
    "start_time": "2022-11-17T17:58:14.322Z"
   },
   {
    "duration": 21,
    "start_time": "2022-11-17T17:58:14.427Z"
   },
   {
    "duration": 10,
    "start_time": "2022-11-17T17:58:14.451Z"
   },
   {
    "duration": 9,
    "start_time": "2022-11-17T17:58:14.464Z"
   },
   {
    "duration": 21,
    "start_time": "2022-11-17T17:58:14.475Z"
   },
   {
    "duration": 6,
    "start_time": "2022-11-17T17:58:14.497Z"
   },
   {
    "duration": 5,
    "start_time": "2022-11-17T17:58:14.504Z"
   },
   {
    "duration": 1723,
    "start_time": "2022-11-17T17:58:14.511Z"
   },
   {
    "duration": 5,
    "start_time": "2022-11-17T17:58:16.236Z"
   },
   {
    "duration": 12,
    "start_time": "2022-11-17T17:58:16.243Z"
   },
   {
    "duration": 1808,
    "start_time": "2022-11-17T17:58:16.258Z"
   },
   {
    "duration": 1760,
    "start_time": "2022-11-17T17:58:18.069Z"
   },
   {
    "duration": 1677,
    "start_time": "2022-11-17T18:00:32.647Z"
   },
   {
    "duration": 1681,
    "start_time": "2022-11-17T18:00:49.180Z"
   },
   {
    "duration": 106,
    "start_time": "2022-11-17T18:06:47.254Z"
   },
   {
    "duration": 1652,
    "start_time": "2022-11-17T18:07:03.538Z"
   }
  ],
  "kernelspec": {
   "display_name": "Python 3 (ipykernel)",
   "language": "python",
   "name": "python3"
  },
  "language_info": {
   "codemirror_mode": {
    "name": "ipython",
    "version": 3
   },
   "file_extension": ".py",
   "mimetype": "text/x-python",
   "name": "python",
   "nbconvert_exporter": "python",
   "pygments_lexer": "ipython3",
   "version": "3.9.13"
  },
  "toc": {
   "base_numbering": 1,
   "nav_menu": {},
   "number_sections": true,
   "sideBar": true,
   "skip_h1_title": true,
   "title_cell": "Table of Contents",
   "title_sidebar": "Contents",
   "toc_cell": false,
   "toc_position": {},
   "toc_section_display": true,
   "toc_window_display": false
  }
 },
 "nbformat": 4,
 "nbformat_minor": 2
}
