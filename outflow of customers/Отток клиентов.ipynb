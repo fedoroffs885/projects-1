{
 "cells": [
  {
   "cell_type": "markdown",
   "metadata": {
    "toc": true
   },
   "source": [
    "<h1>Содержание<span class=\"tocSkip\"></span></h1>\n",
    "<div class=\"toc\"><ul class=\"toc-item\"><li><span><a href=\"#Подготовка-данных\" data-toc-modified-id=\"Подготовка-данных-1\"><span class=\"toc-item-num\">1&nbsp;&nbsp;</span>Подготовка данных</a></span></li><li><span><a href=\"#Исследование-задачи\" data-toc-modified-id=\"Исследование-задачи-2\"><span class=\"toc-item-num\">2&nbsp;&nbsp;</span>Исследование задачи</a></span></li><li><span><a href=\"#Борьба-с-дисбалансом\" data-toc-modified-id=\"Борьба-с-дисбалансом-3\"><span class=\"toc-item-num\">3&nbsp;&nbsp;</span>Борьба с дисбалансом</a></span></li><li><span><a href=\"#Тестирование-модели\" data-toc-modified-id=\"Тестирование-модели-4\"><span class=\"toc-item-num\">4&nbsp;&nbsp;</span>Тестирование модели</a></span></li><li><span><a href=\"#Чек-лист-готовности-проекта\" data-toc-modified-id=\"Чек-лист-готовности-проекта-5\"><span class=\"toc-item-num\">5&nbsp;&nbsp;</span>Чек-лист готовности проекта</a></span></li></ul></div>"
   ]
  },
  {
   "cell_type": "markdown",
   "metadata": {},
   "source": [
    "# Отток клиентов"
   ]
  },
  {
   "cell_type": "markdown",
   "metadata": {},
   "source": [
    "Из «Бета-Банка» стали уходить клиенты. Каждый месяц. Немного, но заметно. Банковские маркетологи посчитали: сохранять текущих клиентов дешевле, чем привлекать новых.\n",
    "\n",
    "Нужно спрогнозировать, уйдёт клиент из банка в ближайшее время или нет. Вам предоставлены исторические данные о поведении клиентов и расторжении договоров с банком. \n",
    "\n",
    "Постройте модель с предельно большим значением *F1*-меры. Чтобы сдать проект успешно, нужно довести метрику до 0.59. Проверьте *F1*-меру на тестовой выборке самостоятельно.\n"
   ]
  },
  {
   "cell_type": "markdown",
   "metadata": {},
   "source": [
    "## Подготовка данных"
   ]
  },
  {
   "cell_type": "code",
   "execution_count": 1,
   "metadata": {},
   "outputs": [
    {
     "name": "stdout",
     "output_type": "stream",
     "text": [
      "<class 'pandas.core.frame.DataFrame'>\n",
      "RangeIndex: 10000 entries, 0 to 9999\n",
      "Data columns (total 14 columns):\n",
      " #   Column           Non-Null Count  Dtype  \n",
      "---  ------           --------------  -----  \n",
      " 0   RowNumber        10000 non-null  int64  \n",
      " 1   CustomerId       10000 non-null  int64  \n",
      " 2   Surname          10000 non-null  object \n",
      " 3   CreditScore      10000 non-null  int64  \n",
      " 4   Geography        10000 non-null  object \n",
      " 5   Gender           10000 non-null  object \n",
      " 6   Age              10000 non-null  int64  \n",
      " 7   Tenure           9091 non-null   float64\n",
      " 8   Balance          10000 non-null  float64\n",
      " 9   NumOfProducts    10000 non-null  int64  \n",
      " 10  HasCrCard        10000 non-null  int64  \n",
      " 11  IsActiveMember   10000 non-null  int64  \n",
      " 12  EstimatedSalary  10000 non-null  float64\n",
      " 13  Exited           10000 non-null  int64  \n",
      "dtypes: float64(3), int64(8), object(3)\n",
      "memory usage: 1.1+ MB\n"
     ]
    }
   ],
   "source": [
    "import pandas as pd\n",
    "import numpy as np\n",
    "import random\n",
    "from sklearn.model_selection import train_test_split\n",
    "from sklearn.linear_model import LogisticRegression\n",
    "from sklearn.tree import DecisionTreeClassifier\n",
    "from sklearn.ensemble import RandomForestClassifier\n",
    "from sklearn.metrics import f1_score\n",
    "from sklearn.metrics import accuracy_score\n",
    "from sklearn.metrics import roc_auc_score\n",
    "from sklearn.utils import shuffle\n",
    "\n",
    "\n",
    "# Изучим данные\n",
    "data = pd.read_csv('/datasets/Churn.csv')\n",
    "data.info()"
   ]
  },
  {
   "cell_type": "code",
   "execution_count": 2,
   "metadata": {},
   "outputs": [],
   "source": [
    "# Преобразуем категориальные признаки в количественные. Удалим столбец RowNumber. \n",
    "data_ohe = pd.get_dummies(data, columns=['Geography', 'Gender'], drop_first=True)\n",
    "data_ohe = data_ohe.drop(['RowNumber', 'Surname', 'CustomerId'], axis=1)"
   ]
  },
  {
   "cell_type": "code",
   "execution_count": 44,
   "metadata": {},
   "outputs": [],
   "source": [
    "# Удалим дубликаты. Также удалим те строки, где содержится значение NaN.\n",
    "data_ohe = data_ohe.fillna(random.randrange(0, 10.0, 1))\n",
    "data_ohe = data_ohe.drop_duplicates()"
   ]
  },
  {
   "cell_type": "code",
   "execution_count": 63,
   "metadata": {},
   "outputs": [
    {
     "data": {
      "text/plain": [
       "array([ 2.,  1.,  8.,  7.,  4.,  6.,  3., 10.,  5.,  9.,  0.])"
      ]
     },
     "execution_count": 63,
     "metadata": {},
     "output_type": "execute_result"
    }
   ],
   "source": [
    "data_ohe['Tenure'].unique()"
   ]
  },
  {
   "cell_type": "code",
   "execution_count": 62,
   "metadata": {},
   "outputs": [
    {
     "data": {
      "text/html": [
       "<div>\n",
       "<style scoped>\n",
       "    .dataframe tbody tr th:only-of-type {\n",
       "        vertical-align: middle;\n",
       "    }\n",
       "\n",
       "    .dataframe tbody tr th {\n",
       "        vertical-align: top;\n",
       "    }\n",
       "\n",
       "    .dataframe thead th {\n",
       "        text-align: right;\n",
       "    }\n",
       "</style>\n",
       "<table border=\"1\" class=\"dataframe\">\n",
       "  <thead>\n",
       "    <tr style=\"text-align: right;\">\n",
       "      <th></th>\n",
       "      <th>CreditScore</th>\n",
       "      <th>Age</th>\n",
       "      <th>Tenure</th>\n",
       "      <th>Balance</th>\n",
       "      <th>NumOfProducts</th>\n",
       "      <th>HasCrCard</th>\n",
       "      <th>IsActiveMember</th>\n",
       "      <th>EstimatedSalary</th>\n",
       "      <th>Exited</th>\n",
       "      <th>Geography_Germany</th>\n",
       "      <th>Geography_Spain</th>\n",
       "      <th>Gender_Male</th>\n",
       "    </tr>\n",
       "  </thead>\n",
       "  <tbody>\n",
       "    <tr>\n",
       "      <th>0</th>\n",
       "      <td>619</td>\n",
       "      <td>42</td>\n",
       "      <td>2.0</td>\n",
       "      <td>0.00</td>\n",
       "      <td>1</td>\n",
       "      <td>1</td>\n",
       "      <td>1</td>\n",
       "      <td>101348.88</td>\n",
       "      <td>1</td>\n",
       "      <td>0</td>\n",
       "      <td>0</td>\n",
       "      <td>0</td>\n",
       "    </tr>\n",
       "    <tr>\n",
       "      <th>1</th>\n",
       "      <td>608</td>\n",
       "      <td>41</td>\n",
       "      <td>1.0</td>\n",
       "      <td>83807.86</td>\n",
       "      <td>1</td>\n",
       "      <td>0</td>\n",
       "      <td>1</td>\n",
       "      <td>112542.58</td>\n",
       "      <td>0</td>\n",
       "      <td>0</td>\n",
       "      <td>1</td>\n",
       "      <td>0</td>\n",
       "    </tr>\n",
       "    <tr>\n",
       "      <th>2</th>\n",
       "      <td>502</td>\n",
       "      <td>42</td>\n",
       "      <td>8.0</td>\n",
       "      <td>159660.80</td>\n",
       "      <td>3</td>\n",
       "      <td>1</td>\n",
       "      <td>0</td>\n",
       "      <td>113931.57</td>\n",
       "      <td>1</td>\n",
       "      <td>0</td>\n",
       "      <td>0</td>\n",
       "      <td>0</td>\n",
       "    </tr>\n",
       "    <tr>\n",
       "      <th>3</th>\n",
       "      <td>699</td>\n",
       "      <td>39</td>\n",
       "      <td>1.0</td>\n",
       "      <td>0.00</td>\n",
       "      <td>2</td>\n",
       "      <td>0</td>\n",
       "      <td>0</td>\n",
       "      <td>93826.63</td>\n",
       "      <td>0</td>\n",
       "      <td>0</td>\n",
       "      <td>0</td>\n",
       "      <td>0</td>\n",
       "    </tr>\n",
       "    <tr>\n",
       "      <th>4</th>\n",
       "      <td>850</td>\n",
       "      <td>43</td>\n",
       "      <td>2.0</td>\n",
       "      <td>125510.82</td>\n",
       "      <td>1</td>\n",
       "      <td>1</td>\n",
       "      <td>1</td>\n",
       "      <td>79084.10</td>\n",
       "      <td>0</td>\n",
       "      <td>0</td>\n",
       "      <td>1</td>\n",
       "      <td>0</td>\n",
       "    </tr>\n",
       "    <tr>\n",
       "      <th>...</th>\n",
       "      <td>...</td>\n",
       "      <td>...</td>\n",
       "      <td>...</td>\n",
       "      <td>...</td>\n",
       "      <td>...</td>\n",
       "      <td>...</td>\n",
       "      <td>...</td>\n",
       "      <td>...</td>\n",
       "      <td>...</td>\n",
       "      <td>...</td>\n",
       "      <td>...</td>\n",
       "      <td>...</td>\n",
       "    </tr>\n",
       "    <tr>\n",
       "      <th>9995</th>\n",
       "      <td>771</td>\n",
       "      <td>39</td>\n",
       "      <td>5.0</td>\n",
       "      <td>0.00</td>\n",
       "      <td>2</td>\n",
       "      <td>1</td>\n",
       "      <td>0</td>\n",
       "      <td>96270.64</td>\n",
       "      <td>0</td>\n",
       "      <td>0</td>\n",
       "      <td>0</td>\n",
       "      <td>1</td>\n",
       "    </tr>\n",
       "    <tr>\n",
       "      <th>9996</th>\n",
       "      <td>516</td>\n",
       "      <td>35</td>\n",
       "      <td>10.0</td>\n",
       "      <td>57369.61</td>\n",
       "      <td>1</td>\n",
       "      <td>1</td>\n",
       "      <td>1</td>\n",
       "      <td>101699.77</td>\n",
       "      <td>0</td>\n",
       "      <td>0</td>\n",
       "      <td>0</td>\n",
       "      <td>1</td>\n",
       "    </tr>\n",
       "    <tr>\n",
       "      <th>9997</th>\n",
       "      <td>709</td>\n",
       "      <td>36</td>\n",
       "      <td>7.0</td>\n",
       "      <td>0.00</td>\n",
       "      <td>1</td>\n",
       "      <td>0</td>\n",
       "      <td>1</td>\n",
       "      <td>42085.58</td>\n",
       "      <td>1</td>\n",
       "      <td>0</td>\n",
       "      <td>0</td>\n",
       "      <td>0</td>\n",
       "    </tr>\n",
       "    <tr>\n",
       "      <th>9998</th>\n",
       "      <td>772</td>\n",
       "      <td>42</td>\n",
       "      <td>3.0</td>\n",
       "      <td>75075.31</td>\n",
       "      <td>2</td>\n",
       "      <td>1</td>\n",
       "      <td>0</td>\n",
       "      <td>92888.52</td>\n",
       "      <td>1</td>\n",
       "      <td>1</td>\n",
       "      <td>0</td>\n",
       "      <td>1</td>\n",
       "    </tr>\n",
       "    <tr>\n",
       "      <th>9999</th>\n",
       "      <td>792</td>\n",
       "      <td>28</td>\n",
       "      <td>1.0</td>\n",
       "      <td>130142.79</td>\n",
       "      <td>1</td>\n",
       "      <td>1</td>\n",
       "      <td>0</td>\n",
       "      <td>38190.78</td>\n",
       "      <td>0</td>\n",
       "      <td>0</td>\n",
       "      <td>0</td>\n",
       "      <td>0</td>\n",
       "    </tr>\n",
       "  </tbody>\n",
       "</table>\n",
       "<p>10000 rows × 12 columns</p>\n",
       "</div>"
      ],
      "text/plain": [
       "      CreditScore  Age  Tenure    Balance  NumOfProducts  HasCrCard  \\\n",
       "0             619   42     2.0       0.00              1          1   \n",
       "1             608   41     1.0   83807.86              1          0   \n",
       "2             502   42     8.0  159660.80              3          1   \n",
       "3             699   39     1.0       0.00              2          0   \n",
       "4             850   43     2.0  125510.82              1          1   \n",
       "...           ...  ...     ...        ...            ...        ...   \n",
       "9995          771   39     5.0       0.00              2          1   \n",
       "9996          516   35    10.0   57369.61              1          1   \n",
       "9997          709   36     7.0       0.00              1          0   \n",
       "9998          772   42     3.0   75075.31              2          1   \n",
       "9999          792   28     1.0  130142.79              1          1   \n",
       "\n",
       "      IsActiveMember  EstimatedSalary  Exited  Geography_Germany  \\\n",
       "0                  1        101348.88       1                  0   \n",
       "1                  1        112542.58       0                  0   \n",
       "2                  0        113931.57       1                  0   \n",
       "3                  0         93826.63       0                  0   \n",
       "4                  1         79084.10       0                  0   \n",
       "...              ...              ...     ...                ...   \n",
       "9995               0         96270.64       0                  0   \n",
       "9996               1        101699.77       0                  0   \n",
       "9997               1         42085.58       1                  0   \n",
       "9998               0         92888.52       1                  1   \n",
       "9999               0         38190.78       0                  0   \n",
       "\n",
       "      Geography_Spain  Gender_Male  \n",
       "0                   0            0  \n",
       "1                   1            0  \n",
       "2                   0            0  \n",
       "3                   0            0  \n",
       "4                   1            0  \n",
       "...               ...          ...  \n",
       "9995                0            1  \n",
       "9996                0            1  \n",
       "9997                0            0  \n",
       "9998                0            1  \n",
       "9999                0            0  \n",
       "\n",
       "[10000 rows x 12 columns]"
      ]
     },
     "execution_count": 62,
     "metadata": {},
     "output_type": "execute_result"
    }
   ],
   "source": [
    "# Посмотрим новую таблицу\n",
    "data_ohe"
   ]
  },
  {
   "cell_type": "code",
   "execution_count": 46,
   "metadata": {},
   "outputs": [],
   "source": [
    "# Выделим целевой признак\n",
    "target = data_ohe['Exited']\n",
    "features = data_ohe.drop('Exited', axis=1)\n",
    "# Разделим выборку на тренировочную и валидационную\n",
    "target = data_ohe['Exited']\n",
    "features = data_ohe.drop('Exited', axis=1)\n",
    "features_train, features_valid, target_train, target_valid = train_test_split(features, target, test_size=0.5, \n",
    "                                                                              random_state=12345)\n",
    "features_valid, features_test, target_valid, target_test = train_test_split(features_valid, target_valid, test_size=0.5, \n",
    "                                                                              random_state=12345)"
   ]
  },
  {
   "cell_type": "markdown",
   "metadata": {},
   "source": [
    "Вывод:\n",
    "- При изучении данных пропуски были обнаружены лишь в одном столбце - 'Tenure';\n",
    "- Дубликатов в данных не обнгаружены;\n",
    "- Удалили столбец 'RowNumber', так как он полность копирует индексы строк;\n",
    "- Удалили столбец 'Surname' за ненадобностью: клиентов идентифицирует их 'CustomerId';\n",
    "- Заполнили пропуски в столбце 'Tenure' случайными значениями;\n",
    "- Преобразовали категориальные признаки в количественные - это столбцы 'Geography' и 'Gender';\n",
    "- Во избежании дамми-ловушки в аргументе drop_first функции pd.get_dummies указали значение True."
   ]
  },
  {
   "cell_type": "markdown",
   "metadata": {},
   "source": [
    "## Исследование задачи"
   ]
  },
  {
   "cell_type": "code",
   "execution_count": 47,
   "metadata": {},
   "outputs": [
    {
     "name": "stdout",
     "output_type": "stream",
     "text": [
      "Количество людей, ушедших из банка: 2037\n",
      "Количество людей, оставшихся в банке: 7963\n",
      "Вес класса 1 - люди, ушедшие из банка 3.9091801669121256\n"
     ]
    }
   ],
   "source": [
    "# Исследуем баланс классов\n",
    "class_1 = data_ohe['Exited'].value_counts()[1]\n",
    "class_0 = data_ohe['Exited'].value_counts()[0]\n",
    "print(\"Количество людей, ушедших из банка:\", class_1)\n",
    "print(\"Количество людей, оставшихся в банке:\", class_0)\n",
    "N = class_0 / class_1\n",
    "print(\"Вес класса 1 - люди, ушедшие из банка\", N)"
   ]
  },
  {
   "cell_type": "code",
   "execution_count": 48,
   "metadata": {},
   "outputs": [
    {
     "name": "stdout",
     "output_type": "stream",
     "text": [
      "0.11647254575707155\n"
     ]
    }
   ],
   "source": [
    "# Обучим модель логистическрй регрессии при дисбалансе классов\n",
    "model = LogisticRegression(random_state=12345, solver='liblinear', class_weight=None)\n",
    "model.fit(features_train, target_train)\n",
    "predicted_valid = model.predict(features_valid)\n",
    "print(f1_score(target_valid, predicted_valid))"
   ]
  },
  {
   "cell_type": "code",
   "execution_count": 49,
   "metadata": {},
   "outputs": [
    {
     "name": "stdout",
     "output_type": "stream",
     "text": [
      "0.5320665083135392\n",
      "7\n"
     ]
    }
   ],
   "source": [
    "# Обучим модель решающего дерева с разной глубиной при дисбалансе классов\n",
    "best_f1_score = 0\n",
    "best_depth = 0\n",
    "for depth in range(1, 15, 1):\n",
    "    model = DecisionTreeClassifier(random_state=12345, max_depth=depth, class_weight=None)\n",
    "    model.fit(features_train, target_train)\n",
    "    predicted_valid = model.predict(features_valid)\n",
    "    f1 = f1_score(target_valid, predicted_valid)\n",
    "    if f1 > best_f1_score:\n",
    "        best_f1_score = f1\n",
    "        best_depth = depth\n",
    "    else:\n",
    "        best_f1_score += 0\n",
    "print(best_f1_score)\n",
    "print(best_depth)"
   ]
  },
  {
   "cell_type": "markdown",
   "metadata": {},
   "source": [
    "Вывод:\n",
    "- Исследовали баланс классов. Количество людей, которые остались в банке, практически в 4 раза больше чем людей, которые ушли из банка;\n",
    "- Обучили модель логистическрй регрессии при дисбалансе классов. Значение метрики F1 в таком случае равно 0.0"
   ]
  },
  {
   "cell_type": "markdown",
   "metadata": {},
   "source": [
    "## Борьба с дисбалансом"
   ]
  },
  {
   "cell_type": "code",
   "execution_count": 50,
   "metadata": {},
   "outputs": [
    {
     "name": "stdout",
     "output_type": "stream",
     "text": [
      "Метрика F1 равна: 0.4323284156510584\n"
     ]
    }
   ],
   "source": [
    "# Обучим модель логистическрй регрессии при взвешивании классов\n",
    "model = LogisticRegression(random_state=12345, solver='liblinear', class_weight='balanced')\n",
    "model.fit(features_train, target_train)\n",
    "predicted_valid = model.predict(features_valid)\n",
    "print(\"Метрика F1 равна:\", f1_score(target_valid, predicted_valid))"
   ]
  },
  {
   "cell_type": "code",
   "execution_count": 51,
   "metadata": {},
   "outputs": [
    {
     "name": "stdout",
     "output_type": "stream",
     "text": [
      "Метрика F1 равна: 0.5645295587010825\n",
      "Лучшая глубина: 6\n"
     ]
    }
   ],
   "source": [
    "# Обучим модель решающего дерева с разной глубиной при взвешивании классов\n",
    "best_f1_score = 0\n",
    "best_depth = 0\n",
    "for depth in range(1, 20, 1):\n",
    "    model = DecisionTreeClassifier(random_state=12345, max_depth=depth, class_weight='balanced')\n",
    "    model.fit(features_train, target_train)\n",
    "    predicted_valid = model.predict(features_valid)\n",
    "    f1 = f1_score(target_valid, predicted_valid)\n",
    "    if f1 > best_f1_score:\n",
    "        best_f1_score = f1\n",
    "        best_depth = depth\n",
    "    else:\n",
    "        best_f1_score += 0\n",
    "print(\"Метрика F1 равна:\", best_f1_score)\n",
    "print(\"Лучшая глубина:\", best_depth)"
   ]
  },
  {
   "cell_type": "code",
   "execution_count": 52,
   "metadata": {},
   "outputs": [
    {
     "name": "stdout",
     "output_type": "stream",
     "text": [
      "Метрика F1 равна: 0.5738498789346246\n",
      "Лучшая глубина: 6\n",
      "Лучшее количество деревьев:  57\n",
      "CPU times: user 4min 2s, sys: 863 ms, total: 4min 3s\n",
      "Wall time: 4min 3s\n"
     ]
    }
   ],
   "source": [
    "%%time\n",
    "\n",
    "best_f1_score_2 = 0\n",
    "best_depth_2 = 0\n",
    "best_n = 0\n",
    "\n",
    "for depth in range(1, 25, 1):\n",
    "    for n in range(1, 60, 1):\n",
    "        model = RandomForestClassifier(n_estimators=n, max_depth=depth, random_state=12345)\n",
    "        model.fit(features_train, target_train)\n",
    "        predicted_valid = model.predict(features_valid)\n",
    "        f1 = f1_score(target_valid, predicted_valid)\n",
    "        if f1 > best_f1_score_2:\n",
    "            best_f1_score_2 = f1\n",
    "            best_depth_2 = depth\n",
    "            best_n = n\n",
    "        else:\n",
    "            best_f1_score_2 += 0\n",
    "print(\"Метрика F1 равна:\", best_f1_score_2)\n",
    "print(\"Лучшая глубина:\", best_depth)\n",
    "print(\"Лучшее количество деревьев: \", best_n)"
   ]
  },
  {
   "cell_type": "code",
   "execution_count": 53,
   "metadata": {},
   "outputs": [
    {
     "name": "stdout",
     "output_type": "stream",
     "text": [
      "F1: 0.43154574132492113\n"
     ]
    }
   ],
   "source": [
    "# Сделаем upsampling. Проверим метрику F1 на модели логситической регрессии.\n",
    "def upsample(features, target, repeat):\n",
    "    features_zeros = features[target == 0]\n",
    "    features_ones = features[target == 1]\n",
    "    target_zeros = target[target == 0]\n",
    "    target_ones = target[target == 1]\n",
    "\n",
    "    features_upsampled = pd.concat([features_zeros] + [features_ones] * repeat)\n",
    "    target_upsampled = pd.concat([target_zeros] + [target_ones] * repeat)\n",
    "    \n",
    "    features_upsampled, target_upsampled = shuffle(\n",
    "        features_upsampled, target_upsampled, random_state=12345)\n",
    "    \n",
    "    return features_upsampled, target_upsampled\n",
    "features_upsampled, target_upsampled = upsample(features_train, target_train, 4)\n",
    "model = LogisticRegression(solver='liblinear', random_state=12345)\n",
    "model.fit(features_upsampled, target_upsampled)\n",
    "predicted_valid = model.predict(features_valid)\n",
    "print(\"F1:\", f1_score(target_valid, predicted_valid))"
   ]
  },
  {
   "cell_type": "code",
   "execution_count": 54,
   "metadata": {},
   "outputs": [],
   "source": [
    "# Сделали dawnsampling.\n",
    "def downsample(features, target, fraction):\n",
    "    features_zeros = features[target == 0]\n",
    "    features_ones = features[target == 1]\n",
    "    target_zeros = target[target == 0]\n",
    "    target_ones = target[target == 1]\n",
    "\n",
    "    features_downsampled = pd.concat(\n",
    "        [features_zeros.sample(frac=fraction, random_state=12345)] + [features_ones])\n",
    "    target_downsampled = pd.concat(\n",
    "        [target_zeros.sample(frac=fraction, random_state=12345)] + [target_ones])\n",
    "    \n",
    "    features_downsampled, target_downsampled = shuffle(\n",
    "        features_downsampled, target_downsampled, random_state=12345)\n",
    "    \n",
    "    return features_downsampled, target_downsampled\n",
    "\n",
    "features_downsampled, target_downsampled = downsample(features_train, target_train, 0.25)"
   ]
  },
  {
   "cell_type": "code",
   "execution_count": 55,
   "metadata": {},
   "outputs": [
    {
     "name": "stdout",
     "output_type": "stream",
     "text": [
      "0.5647425897035881\n",
      "Лучшая глубина: 6\n",
      "Лучшее количество деревьев: 26\n",
      "CPU times: user 2min 18s, sys: 764 ms, total: 2min 19s\n",
      "Wall time: 2min 19s\n"
     ]
    }
   ],
   "source": [
    "%%time\n",
    "# Обучили модель на сбалансированных данных.\n",
    "best_f1_score_2 = 0\n",
    "best_depth_2 = 0\n",
    "best_n = 0\n",
    "best_model = None\n",
    "for depth in range(1, 25, 1):\n",
    "    for n in range(1, 60, 1):\n",
    "        model = RandomForestClassifier(n_estimators=n, max_depth=depth, random_state=12345)\n",
    "        model.fit(features_downsampled, target_downsampled)\n",
    "        predicted_valid = model.predict(features_valid)\n",
    "        f1 = f1_score(target_valid, predicted_valid)\n",
    "        if f1 > best_f1_score_2:\n",
    "            best_f1_score_2 = f1\n",
    "            best_depth_2 = depth\n",
    "            best_n = n\n",
    "            best_model = model\n",
    "        else:\n",
    "            best_f1_score_2 += 0\n",
    "print(best_f1_score_2)\n",
    "print(\"Лучшая глубина:\", best_depth)\n",
    "print(\"Лучшее количество деревьев:\", best_n)"
   ]
  },
  {
   "cell_type": "code",
   "execution_count": 56,
   "metadata": {},
   "outputs": [
    {
     "name": "stdout",
     "output_type": "stream",
     "text": [
      "0.5976520811099253\n",
      "Лучшая глубина: 6\n",
      "Лучшее количество деревьев: 57\n",
      "CPU times: user 5min 14s, sys: 1.47 s, total: 5min 16s\n",
      "Wall time: 5min 16s\n"
     ]
    }
   ],
   "source": [
    "%%time\n",
    "# Обучили модель на сбалансированных данных.\n",
    "best_f1_score_2 = 0\n",
    "best_depth_2 = 0\n",
    "best_n = 0\n",
    "best_model_2 = None\n",
    "for depth in range(1, 25, 1):\n",
    "    for n in range(1, 60, 1):\n",
    "        model = RandomForestClassifier(n_estimators=n, max_depth=depth, random_state=12345)\n",
    "        model.fit(features_upsampled, target_upsampled)\n",
    "        predicted_valid = model.predict(features_valid)\n",
    "        f1 = f1_score(target_valid, predicted_valid)\n",
    "        if f1 > best_f1_score_2:\n",
    "            best_f1_score_2 = f1\n",
    "            best_depth_2 = depth\n",
    "            best_n = n\n",
    "            best_model_2 = model\n",
    "        else:\n",
    "            best_f1_score_2 += 0\n",
    "print(best_f1_score_2)\n",
    "print(\"Лучшая глубина:\", best_depth)\n",
    "print(\"Лучшее количество деревьев:\", best_n)"
   ]
  },
  {
   "cell_type": "markdown",
   "metadata": {},
   "source": [
    "Вывод:\n",
    " - Обучили модель логистической регрессии при взвешивании классов. Результат метрики F1: 0.4323284156510584. Этого недостаточно для поставленной в цели исследования задачи.\n",
    " - Потом обучили модель решающего дерева при взвешивании классов, изменяя параметр max_depth. Метрика F1 стала равна  0.5645295587010825. Глубина дерева при наилучшем показателе F1 равна 6.\n",
    " - Обучили модель случайного леса. Нужного значения метрики (0.59) получено не было.\n",
    " - Также были применены техники downsampling и upsampling.\n",
    " - Лучшее значение метрики F1 - 0.5976520811099253."
   ]
  },
  {
   "cell_type": "markdown",
   "metadata": {},
   "source": [
    "## Тестирование модели"
   ]
  },
  {
   "cell_type": "code",
   "execution_count": 57,
   "metadata": {},
   "outputs": [
    {
     "name": "stdout",
     "output_type": "stream",
     "text": [
      "Значение метрики F1: 0.6087866108786611\n"
     ]
    }
   ],
   "source": [
    "# Проводим тестирование\n",
    "predicted_test = best_model_2.predict(features_test)\n",
    "print(\"Значение метрики F1:\", f1_score(target_test, predicted_test))"
   ]
  },
  {
   "cell_type": "code",
   "execution_count": 58,
   "metadata": {},
   "outputs": [
    {
     "name": "stdout",
     "output_type": "stream",
     "text": [
      "0.7453771149901259\n"
     ]
    }
   ],
   "source": [
    "# Исследуем метрику AUC-ROC\n",
    "auc_roc = roc_auc_score(target_test, predicted_test)\n",
    "print(auc_roc)"
   ]
  },
  {
   "cell_type": "markdown",
   "metadata": {},
   "source": [
    "Вывод:\n",
    "Финальное тестирование проведено. Проверили метрику F1 - 0.6087866108786611. Метрика AUC-ROC - 0.7453771149901259"
   ]
  }
 ],
 "metadata": {
  "ExecuteTimeLog": [
   {
    "duration": 50,
    "start_time": "2022-11-02T10:31:59.561Z"
   },
   {
    "duration": 44,
    "start_time": "2022-11-02T10:32:29.282Z"
   },
   {
    "duration": 58,
    "start_time": "2022-11-02T10:33:12.875Z"
   },
   {
    "duration": 57,
    "start_time": "2022-11-02T10:36:05.524Z"
   },
   {
    "duration": 44,
    "start_time": "2022-11-02T10:41:14.165Z"
   },
   {
    "duration": 19,
    "start_time": "2022-11-02T10:42:25.128Z"
   },
   {
    "duration": 67,
    "start_time": "2022-11-02T10:42:40.855Z"
   },
   {
    "duration": 11,
    "start_time": "2022-11-02T10:42:57.843Z"
   },
   {
    "duration": 9,
    "start_time": "2022-11-02T10:43:05.247Z"
   },
   {
    "duration": 45,
    "start_time": "2022-11-02T10:43:17.142Z"
   },
   {
    "duration": 19,
    "start_time": "2022-11-02T10:43:18.365Z"
   },
   {
    "duration": 17,
    "start_time": "2022-11-02T10:44:21.127Z"
   },
   {
    "duration": 5,
    "start_time": "2022-11-02T10:45:42.976Z"
   },
   {
    "duration": 17,
    "start_time": "2022-11-02T10:45:54.456Z"
   },
   {
    "duration": 10,
    "start_time": "2022-11-02T10:46:36.579Z"
   },
   {
    "duration": 44,
    "start_time": "2022-11-02T10:46:44.089Z"
   },
   {
    "duration": 20,
    "start_time": "2022-11-02T10:46:44.512Z"
   },
   {
    "duration": 206,
    "start_time": "2022-11-02T10:46:45.355Z"
   },
   {
    "duration": 11,
    "start_time": "2022-11-02T10:47:41.451Z"
   },
   {
    "duration": 49,
    "start_time": "2022-11-02T10:47:45.983Z"
   },
   {
    "duration": 20,
    "start_time": "2022-11-02T10:47:46.833Z"
   },
   {
    "duration": 12,
    "start_time": "2022-11-02T10:47:47.655Z"
   },
   {
    "duration": 13,
    "start_time": "2022-11-02T10:48:34.806Z"
   },
   {
    "duration": 44,
    "start_time": "2022-11-02T10:48:38.788Z"
   },
   {
    "duration": 19,
    "start_time": "2022-11-02T10:48:39.662Z"
   },
   {
    "duration": 22,
    "start_time": "2022-11-02T10:48:40.467Z"
   },
   {
    "duration": 11,
    "start_time": "2022-11-02T10:49:14.987Z"
   },
   {
    "duration": 42,
    "start_time": "2022-11-02T10:49:20.240Z"
   },
   {
    "duration": 20,
    "start_time": "2022-11-02T10:49:20.820Z"
   },
   {
    "duration": 8,
    "start_time": "2022-11-02T10:49:21.555Z"
   },
   {
    "duration": 10,
    "start_time": "2022-11-02T10:49:40.657Z"
   },
   {
    "duration": 11,
    "start_time": "2022-11-02T10:49:51.905Z"
   },
   {
    "duration": 3,
    "start_time": "2022-11-02T10:49:52.907Z"
   },
   {
    "duration": 45,
    "start_time": "2022-11-02T10:49:57.751Z"
   },
   {
    "duration": 4,
    "start_time": "2022-11-02T10:49:58.375Z"
   },
   {
    "duration": 6,
    "start_time": "2022-11-02T10:50:00.237Z"
   },
   {
    "duration": 19,
    "start_time": "2022-11-02T10:50:05.699Z"
   },
   {
    "duration": 19,
    "start_time": "2022-11-02T10:50:19.033Z"
   },
   {
    "duration": 42,
    "start_time": "2022-11-02T10:50:24.922Z"
   },
   {
    "duration": 4,
    "start_time": "2022-11-02T10:50:25.493Z"
   },
   {
    "duration": 20,
    "start_time": "2022-11-02T10:50:26.371Z"
   },
   {
    "duration": 41,
    "start_time": "2022-11-02T10:51:14.234Z"
   },
   {
    "duration": 4,
    "start_time": "2022-11-02T10:51:18.785Z"
   },
   {
    "duration": 22,
    "start_time": "2022-11-02T10:51:18.791Z"
   },
   {
    "duration": 6,
    "start_time": "2022-11-02T10:52:10.911Z"
   },
   {
    "duration": 1163,
    "start_time": "2022-11-02T10:52:17.179Z"
   },
   {
    "duration": 1105,
    "start_time": "2022-11-02T10:52:26.226Z"
   },
   {
    "duration": 9,
    "start_time": "2022-11-02T10:52:35.612Z"
   },
   {
    "duration": 42,
    "start_time": "2022-11-02T10:52:50.520Z"
   },
   {
    "duration": 3,
    "start_time": "2022-11-02T10:52:51.280Z"
   },
   {
    "duration": 9,
    "start_time": "2022-11-02T10:53:51.430Z"
   },
   {
    "duration": 19,
    "start_time": "2022-11-02T10:54:03.672Z"
   },
   {
    "duration": 4,
    "start_time": "2022-11-02T10:54:49.840Z"
   },
   {
    "duration": 18,
    "start_time": "2022-11-02T10:54:53.274Z"
   },
   {
    "duration": 5,
    "start_time": "2022-11-02T10:57:51.231Z"
   },
   {
    "duration": 19,
    "start_time": "2022-11-02T10:57:54.608Z"
   },
   {
    "duration": 7,
    "start_time": "2022-11-02T11:01:24.481Z"
   },
   {
    "duration": 12,
    "start_time": "2022-11-02T11:01:27.459Z"
   },
   {
    "duration": 9,
    "start_time": "2022-11-02T11:01:28.040Z"
   },
   {
    "duration": 47,
    "start_time": "2022-11-02T11:01:36.257Z"
   },
   {
    "duration": 5,
    "start_time": "2022-11-02T11:01:36.939Z"
   },
   {
    "duration": 9,
    "start_time": "2022-11-02T11:01:38.410Z"
   },
   {
    "duration": 10,
    "start_time": "2022-11-02T11:01:39.282Z"
   },
   {
    "duration": 10,
    "start_time": "2022-11-02T11:02:45.097Z"
   },
   {
    "duration": 41,
    "start_time": "2022-11-02T11:02:48.974Z"
   },
   {
    "duration": 4,
    "start_time": "2022-11-02T11:02:49.372Z"
   },
   {
    "duration": 41,
    "start_time": "2022-11-02T11:02:58.151Z"
   },
   {
    "duration": 4,
    "start_time": "2022-11-02T11:02:58.448Z"
   },
   {
    "duration": 15,
    "start_time": "2022-11-02T11:02:59.169Z"
   },
   {
    "duration": 20,
    "start_time": "2022-11-02T11:03:00.281Z"
   },
   {
    "duration": 40,
    "start_time": "2022-11-02T11:03:13.010Z"
   },
   {
    "duration": 4,
    "start_time": "2022-11-02T11:03:13.620Z"
   },
   {
    "duration": 15,
    "start_time": "2022-11-02T11:03:14.464Z"
   },
   {
    "duration": 29,
    "start_time": "2022-11-02T11:03:15.915Z"
   },
   {
    "duration": 46,
    "start_time": "2022-11-02T11:05:02.193Z"
   },
   {
    "duration": 18,
    "start_time": "2022-11-02T11:05:16.284Z"
   },
   {
    "duration": 46,
    "start_time": "2022-11-02T11:08:46.890Z"
   },
   {
    "duration": 10,
    "start_time": "2022-11-02T11:08:47.847Z"
   },
   {
    "duration": 19,
    "start_time": "2022-11-02T11:08:48.630Z"
   },
   {
    "duration": 21,
    "start_time": "2022-11-02T11:08:50.304Z"
   },
   {
    "duration": 5,
    "start_time": "2022-11-02T11:13:18.445Z"
   },
   {
    "duration": 18,
    "start_time": "2022-11-02T11:13:30.075Z"
   },
   {
    "duration": 10,
    "start_time": "2022-11-02T11:13:39.573Z"
   },
   {
    "duration": 15,
    "start_time": "2022-11-02T11:17:22.070Z"
   },
   {
    "duration": 240,
    "start_time": "2022-11-02T11:20:20.479Z"
   },
   {
    "duration": 24,
    "start_time": "2022-11-02T11:20:28.081Z"
   },
   {
    "duration": 11,
    "start_time": "2022-11-02T11:21:06.447Z"
   },
   {
    "duration": 21,
    "start_time": "2022-11-02T11:21:07.045Z"
   },
   {
    "duration": 18,
    "start_time": "2022-11-02T11:22:06.159Z"
   },
   {
    "duration": 45,
    "start_time": "2022-11-02T11:45:58.020Z"
   },
   {
    "duration": 11,
    "start_time": "2022-11-02T11:45:58.752Z"
   },
   {
    "duration": 16,
    "start_time": "2022-11-02T11:45:59.638Z"
   },
   {
    "duration": 12,
    "start_time": "2022-11-02T11:49:01.232Z"
   },
   {
    "duration": 766,
    "start_time": "2022-11-02T11:54:11.359Z"
   },
   {
    "duration": 10,
    "start_time": "2022-11-02T11:54:12.126Z"
   },
   {
    "duration": 12,
    "start_time": "2022-11-02T11:54:13.072Z"
   },
   {
    "duration": 3,
    "start_time": "2022-11-02T11:54:14.516Z"
   },
   {
    "duration": 7,
    "start_time": "2022-11-02T11:57:58.800Z"
   },
   {
    "duration": 8,
    "start_time": "2022-11-02T11:58:27.018Z"
   },
   {
    "duration": 42,
    "start_time": "2022-11-02T11:59:22.356Z"
   },
   {
    "duration": 12,
    "start_time": "2022-11-02T11:59:22.984Z"
   },
   {
    "duration": 11,
    "start_time": "2022-11-02T11:59:23.501Z"
   },
   {
    "duration": 9,
    "start_time": "2022-11-02T11:59:24.258Z"
   },
   {
    "duration": 10,
    "start_time": "2022-11-02T13:12:34.444Z"
   },
   {
    "duration": 12,
    "start_time": "2022-11-02T13:12:35.227Z"
   },
   {
    "duration": 7,
    "start_time": "2022-11-02T13:12:36.037Z"
   },
   {
    "duration": 18,
    "start_time": "2022-11-02T13:45:38.984Z"
   },
   {
    "duration": 21,
    "start_time": "2022-11-02T13:45:43.959Z"
   },
   {
    "duration": 9,
    "start_time": "2022-11-02T13:54:03.475Z"
   },
   {
    "duration": 707,
    "start_time": "2022-11-02T13:54:19.780Z"
   },
   {
    "duration": 7,
    "start_time": "2022-11-02T13:54:38.050Z"
   },
   {
    "duration": 6,
    "start_time": "2022-11-02T13:55:12.885Z"
   },
   {
    "duration": 9,
    "start_time": "2022-11-02T13:55:17.930Z"
   },
   {
    "duration": 8,
    "start_time": "2022-11-02T13:55:36.847Z"
   },
   {
    "duration": 8,
    "start_time": "2022-11-02T13:57:58.902Z"
   },
   {
    "duration": 12,
    "start_time": "2022-11-02T13:58:44.921Z"
   },
   {
    "duration": 12,
    "start_time": "2022-11-02T14:00:34.085Z"
   },
   {
    "duration": 97,
    "start_time": "2022-11-02T14:01:38.177Z"
   },
   {
    "duration": 11,
    "start_time": "2022-11-02T14:01:52.021Z"
   },
   {
    "duration": 10,
    "start_time": "2022-11-02T14:02:16.363Z"
   },
   {
    "duration": 4,
    "start_time": "2022-11-02T14:06:15.197Z"
   },
   {
    "duration": 9,
    "start_time": "2022-11-02T14:06:17.408Z"
   },
   {
    "duration": 71,
    "start_time": "2022-11-02T14:07:17.139Z"
   },
   {
    "duration": 17,
    "start_time": "2022-11-02T14:07:17.834Z"
   },
   {
    "duration": 61,
    "start_time": "2022-11-02T14:07:53.295Z"
   },
   {
    "duration": 19,
    "start_time": "2022-11-02T14:07:56.245Z"
   },
   {
    "duration": 22,
    "start_time": "2022-11-02T14:07:57.437Z"
   },
   {
    "duration": 4,
    "start_time": "2022-11-02T14:07:59.308Z"
   },
   {
    "duration": 54,
    "start_time": "2022-11-02T14:09:18.361Z"
   },
   {
    "duration": 16,
    "start_time": "2022-11-02T14:09:19.907Z"
   },
   {
    "duration": 17,
    "start_time": "2022-11-02T14:09:20.717Z"
   },
   {
    "duration": 4,
    "start_time": "2022-11-02T14:09:21.715Z"
   },
   {
    "duration": 7,
    "start_time": "2022-11-02T14:09:25.083Z"
   },
   {
    "duration": 18,
    "start_time": "2022-11-02T14:11:05.155Z"
   },
   {
    "duration": 15,
    "start_time": "2022-11-02T14:13:02.979Z"
   },
   {
    "duration": 51,
    "start_time": "2022-11-02T14:14:28.491Z"
   },
   {
    "duration": 23,
    "start_time": "2022-11-02T14:14:29.439Z"
   },
   {
    "duration": 22,
    "start_time": "2022-11-02T14:14:30.309Z"
   },
   {
    "duration": 9,
    "start_time": "2022-11-02T14:14:31.210Z"
   },
   {
    "duration": 8,
    "start_time": "2022-11-02T14:14:33.371Z"
   },
   {
    "duration": 50,
    "start_time": "2022-11-02T14:15:51.011Z"
   },
   {
    "duration": 21,
    "start_time": "2022-11-02T14:16:08.690Z"
   },
   {
    "duration": 49,
    "start_time": "2022-11-02T14:17:13.276Z"
   },
   {
    "duration": 45,
    "start_time": "2022-11-02T14:17:29.349Z"
   },
   {
    "duration": 23,
    "start_time": "2022-11-02T14:18:04.352Z"
   },
   {
    "duration": 63,
    "start_time": "2022-11-02T14:18:11.234Z"
   },
   {
    "duration": 16,
    "start_time": "2022-11-02T14:18:14.751Z"
   },
   {
    "duration": 17,
    "start_time": "2022-11-02T14:18:15.845Z"
   },
   {
    "duration": 17,
    "start_time": "2022-11-02T14:18:21.565Z"
   },
   {
    "duration": 42,
    "start_time": "2022-11-02T14:18:25.475Z"
   },
   {
    "duration": 23,
    "start_time": "2022-11-02T14:18:27.378Z"
   },
   {
    "duration": 17,
    "start_time": "2022-11-02T14:18:29.683Z"
   },
   {
    "duration": 10,
    "start_time": "2022-11-02T14:18:30.790Z"
   },
   {
    "duration": 8,
    "start_time": "2022-11-02T14:18:32.824Z"
   },
   {
    "duration": 21,
    "start_time": "2022-11-02T14:18:33.500Z"
   },
   {
    "duration": 16,
    "start_time": "2022-11-02T14:19:00.017Z"
   },
   {
    "duration": 16,
    "start_time": "2022-11-02T14:19:00.800Z"
   },
   {
    "duration": 42,
    "start_time": "2022-11-02T14:19:05.921Z"
   },
   {
    "duration": 17,
    "start_time": "2022-11-02T14:19:06.593Z"
   },
   {
    "duration": 18,
    "start_time": "2022-11-02T14:19:07.638Z"
   },
   {
    "duration": 7,
    "start_time": "2022-11-02T14:19:08.884Z"
   },
   {
    "duration": 8,
    "start_time": "2022-11-02T14:19:10.778Z"
   },
   {
    "duration": 24,
    "start_time": "2022-11-02T14:19:12.538Z"
   },
   {
    "duration": 44,
    "start_time": "2022-11-02T14:20:05.859Z"
   },
   {
    "duration": 22,
    "start_time": "2022-11-02T14:20:06.500Z"
   },
   {
    "duration": 23,
    "start_time": "2022-11-02T14:20:08.123Z"
   },
   {
    "duration": 21,
    "start_time": "2022-11-02T14:21:19.449Z"
   },
   {
    "duration": 18,
    "start_time": "2022-11-02T14:21:20.685Z"
   },
   {
    "duration": 8,
    "start_time": "2022-11-02T14:22:49.476Z"
   },
   {
    "duration": 13,
    "start_time": "2022-11-02T14:22:52.450Z"
   },
   {
    "duration": 2,
    "start_time": "2022-11-02T14:22:55.909Z"
   },
   {
    "duration": 151,
    "start_time": "2022-11-02T14:25:24.254Z"
   },
   {
    "duration": 101,
    "start_time": "2022-11-02T14:26:00.619Z"
   },
   {
    "duration": 29,
    "start_time": "2022-11-02T14:26:07.856Z"
   },
   {
    "duration": 25,
    "start_time": "2022-11-02T14:26:17.796Z"
   },
   {
    "duration": 42,
    "start_time": "2022-11-02T14:26:29.722Z"
   },
   {
    "duration": 11,
    "start_time": "2022-11-02T14:26:30.564Z"
   },
   {
    "duration": 12,
    "start_time": "2022-11-02T14:26:31.477Z"
   },
   {
    "duration": 16,
    "start_time": "2022-11-02T14:26:32.520Z"
   },
   {
    "duration": 7,
    "start_time": "2022-11-02T14:26:33.761Z"
   },
   {
    "duration": 14,
    "start_time": "2022-11-02T14:26:35.541Z"
   },
   {
    "duration": 18,
    "start_time": "2022-11-02T14:27:47.523Z"
   },
   {
    "duration": 13,
    "start_time": "2022-11-02T14:28:12.346Z"
   },
   {
    "duration": 16,
    "start_time": "2022-11-02T14:29:45.294Z"
   },
   {
    "duration": 41,
    "start_time": "2022-11-02T14:30:54.820Z"
   },
   {
    "duration": 11,
    "start_time": "2022-11-02T14:30:55.786Z"
   },
   {
    "duration": 12,
    "start_time": "2022-11-02T14:30:57.189Z"
   },
   {
    "duration": 18,
    "start_time": "2022-11-02T14:30:58.603Z"
   },
   {
    "duration": 8,
    "start_time": "2022-11-02T14:31:01.320Z"
   },
   {
    "duration": 12,
    "start_time": "2022-11-02T14:31:03.759Z"
   },
   {
    "duration": 22,
    "start_time": "2022-11-02T14:31:04.920Z"
   },
   {
    "duration": 14,
    "start_time": "2022-11-02T14:31:14.467Z"
   },
   {
    "duration": 10,
    "start_time": "2022-11-02T14:31:47.486Z"
   },
   {
    "duration": 25,
    "start_time": "2022-11-02T14:31:50.133Z"
   },
   {
    "duration": 25,
    "start_time": "2022-11-02T14:32:14.193Z"
   },
   {
    "duration": 46,
    "start_time": "2022-11-02T14:32:36.563Z"
   },
   {
    "duration": 14,
    "start_time": "2022-11-02T14:32:37.484Z"
   },
   {
    "duration": 16,
    "start_time": "2022-11-02T14:32:38.197Z"
   },
   {
    "duration": 16,
    "start_time": "2022-11-02T14:32:38.781Z"
   },
   {
    "duration": 8,
    "start_time": "2022-11-02T14:32:39.787Z"
   },
   {
    "duration": 9,
    "start_time": "2022-11-02T14:32:41.591Z"
   },
   {
    "duration": 26,
    "start_time": "2022-11-02T14:32:42.299Z"
   },
   {
    "duration": 35,
    "start_time": "2022-11-02T14:32:49.892Z"
   },
   {
    "duration": 39,
    "start_time": "2022-11-02T14:32:58.983Z"
   },
   {
    "duration": 93,
    "start_time": "2022-11-02T14:34:36.620Z"
   },
   {
    "duration": 30,
    "start_time": "2022-11-02T14:34:50.882Z"
   },
   {
    "duration": 23,
    "start_time": "2022-11-02T14:36:29.036Z"
   },
   {
    "duration": 57,
    "start_time": "2022-11-02T14:41:56.264Z"
   },
   {
    "duration": 65,
    "start_time": "2022-11-02T14:42:42.774Z"
   },
   {
    "duration": 26,
    "start_time": "2022-11-02T14:43:46.166Z"
   },
   {
    "duration": 43,
    "start_time": "2022-11-02T14:44:20.706Z"
   },
   {
    "duration": 42,
    "start_time": "2022-11-02T14:44:39.133Z"
   },
   {
    "duration": 12,
    "start_time": "2022-11-02T14:44:40.506Z"
   },
   {
    "duration": 13,
    "start_time": "2022-11-02T14:44:41.260Z"
   },
   {
    "duration": 16,
    "start_time": "2022-11-02T14:44:42.156Z"
   },
   {
    "duration": 8,
    "start_time": "2022-11-02T14:44:43.015Z"
   },
   {
    "duration": 8,
    "start_time": "2022-11-02T14:44:44.957Z"
   },
   {
    "duration": 21,
    "start_time": "2022-11-02T14:44:46.121Z"
   },
   {
    "duration": 65,
    "start_time": "2022-11-02T14:44:48.767Z"
   },
   {
    "duration": 45,
    "start_time": "2022-11-02T14:53:02.015Z"
   },
   {
    "duration": 10,
    "start_time": "2022-11-02T14:53:05.189Z"
   },
   {
    "duration": 13,
    "start_time": "2022-11-02T14:53:05.827Z"
   },
   {
    "duration": 17,
    "start_time": "2022-11-02T14:53:06.543Z"
   },
   {
    "duration": 10,
    "start_time": "2022-11-02T14:53:09.557Z"
   },
   {
    "duration": 9,
    "start_time": "2022-11-02T14:53:13.408Z"
   },
   {
    "duration": 32,
    "start_time": "2022-11-02T14:53:15.276Z"
   },
   {
    "duration": 33,
    "start_time": "2022-11-02T14:55:38.693Z"
   },
   {
    "duration": 18,
    "start_time": "2022-11-02T14:55:58.659Z"
   },
   {
    "duration": 43,
    "start_time": "2022-11-02T14:56:11.242Z"
   },
   {
    "duration": 11,
    "start_time": "2022-11-02T14:56:11.839Z"
   },
   {
    "duration": 13,
    "start_time": "2022-11-02T14:56:12.601Z"
   },
   {
    "duration": 18,
    "start_time": "2022-11-02T14:56:13.365Z"
   },
   {
    "duration": 8,
    "start_time": "2022-11-02T14:56:14.212Z"
   },
   {
    "duration": 8,
    "start_time": "2022-11-02T14:56:15.913Z"
   },
   {
    "duration": 34,
    "start_time": "2022-11-02T14:56:16.671Z"
   },
   {
    "duration": 45,
    "start_time": "2022-11-02T14:56:17.444Z"
   },
   {
    "duration": 34,
    "start_time": "2022-11-02T14:56:31.419Z"
   },
   {
    "duration": 41,
    "start_time": "2022-11-02T14:57:23.152Z"
   },
   {
    "duration": 36,
    "start_time": "2022-11-02T14:57:43.783Z"
   },
   {
    "duration": 39,
    "start_time": "2022-11-02T14:58:41.599Z"
   },
   {
    "duration": 57,
    "start_time": "2022-11-02T14:59:27.915Z"
   },
   {
    "duration": 45,
    "start_time": "2022-11-02T15:01:31.414Z"
   },
   {
    "duration": 44,
    "start_time": "2022-11-02T15:02:01.721Z"
   },
   {
    "duration": 48,
    "start_time": "2022-11-02T15:04:04.986Z"
   },
   {
    "duration": 18,
    "start_time": "2022-11-02T15:05:26.351Z"
   },
   {
    "duration": 394,
    "start_time": "2022-11-02T15:08:24.655Z"
   },
   {
    "duration": 393,
    "start_time": "2022-11-02T15:09:18.826Z"
   },
   {
    "duration": 412,
    "start_time": "2022-11-02T15:09:38.843Z"
   },
   {
    "duration": 849,
    "start_time": "2022-11-02T15:09:53.197Z"
   },
   {
    "duration": 1084,
    "start_time": "2022-11-02T15:10:00.618Z"
   },
   {
    "duration": 437,
    "start_time": "2022-11-02T15:10:07.711Z"
   },
   {
    "duration": 411,
    "start_time": "2022-11-02T15:10:51.698Z"
   },
   {
    "duration": 410,
    "start_time": "2022-11-02T15:11:21.112Z"
   },
   {
    "duration": 416,
    "start_time": "2022-11-02T15:11:56.076Z"
   },
   {
    "duration": 383,
    "start_time": "2022-11-02T15:29:56.536Z"
   },
   {
    "duration": 10,
    "start_time": "2022-11-02T15:43:07.696Z"
   },
   {
    "duration": 51,
    "start_time": "2022-11-02T15:43:15.564Z"
   },
   {
    "duration": 9,
    "start_time": "2022-11-02T15:43:16.203Z"
   },
   {
    "duration": 12,
    "start_time": "2022-11-02T15:43:16.926Z"
   },
   {
    "duration": 16,
    "start_time": "2022-11-02T15:43:17.408Z"
   },
   {
    "duration": 8,
    "start_time": "2022-11-02T15:43:17.823Z"
   },
   {
    "duration": 9,
    "start_time": "2022-11-02T15:43:18.931Z"
   },
   {
    "duration": 62,
    "start_time": "2022-11-02T15:43:19.248Z"
   },
   {
    "duration": 402,
    "start_time": "2022-11-02T15:43:19.696Z"
   },
   {
    "duration": 55,
    "start_time": "2022-11-02T15:43:21.953Z"
   },
   {
    "duration": 407,
    "start_time": "2022-11-02T15:43:22.760Z"
   },
   {
    "duration": 11,
    "start_time": "2022-11-02T15:43:24.530Z"
   },
   {
    "duration": 12,
    "start_time": "2022-11-02T15:43:52.053Z"
   },
   {
    "duration": 25,
    "start_time": "2022-11-02T15:44:48.379Z"
   },
   {
    "duration": 24,
    "start_time": "2022-11-02T15:45:32.219Z"
   },
   {
    "duration": 23,
    "start_time": "2022-11-02T15:46:19.416Z"
   },
   {
    "duration": 422,
    "start_time": "2022-11-02T15:48:10.090Z"
   },
   {
    "duration": 24,
    "start_time": "2022-11-02T15:49:11.045Z"
   },
   {
    "duration": 115,
    "start_time": "2022-11-02T15:49:54.643Z"
   },
   {
    "duration": 43,
    "start_time": "2022-11-02T18:18:13.003Z"
   },
   {
    "duration": 1412,
    "start_time": "2022-11-02T18:18:22.474Z"
   },
   {
    "duration": 10,
    "start_time": "2022-11-02T18:18:23.888Z"
   },
   {
    "duration": 12,
    "start_time": "2022-11-02T18:18:24.321Z"
   },
   {
    "duration": 20,
    "start_time": "2022-11-02T18:18:24.658Z"
   },
   {
    "duration": 8,
    "start_time": "2022-11-02T18:18:25.332Z"
   },
   {
    "duration": 7,
    "start_time": "2022-11-02T18:18:26.698Z"
   },
   {
    "duration": 27,
    "start_time": "2022-11-02T18:18:27.153Z"
   },
   {
    "duration": 420,
    "start_time": "2022-11-02T18:18:27.650Z"
   },
   {
    "duration": 54,
    "start_time": "2022-11-02T18:18:29.777Z"
   },
   {
    "duration": 405,
    "start_time": "2022-11-02T18:18:30.902Z"
   },
   {
    "duration": 152,
    "start_time": "2022-11-02T18:18:32.509Z"
   },
   {
    "duration": 6,
    "start_time": "2022-11-02T18:19:40.812Z"
   },
   {
    "duration": 5,
    "start_time": "2022-11-02T18:19:49.256Z"
   },
   {
    "duration": 5,
    "start_time": "2022-11-02T18:20:00.908Z"
   },
   {
    "duration": 4,
    "start_time": "2022-11-02T18:20:30.787Z"
   },
   {
    "duration": 5,
    "start_time": "2022-11-02T18:21:08.723Z"
   },
   {
    "duration": 32,
    "start_time": "2022-11-02T18:21:12.354Z"
   },
   {
    "duration": 384,
    "start_time": "2022-11-02T18:21:12.893Z"
   },
   {
    "duration": 8,
    "start_time": "2022-11-02T18:22:08.190Z"
   },
   {
    "duration": 332,
    "start_time": "2022-11-02T18:22:37.747Z"
   },
   {
    "duration": 86,
    "start_time": "2022-11-02T18:22:40.443Z"
   },
   {
    "duration": 51,
    "start_time": "2022-11-02T18:27:00.452Z"
   },
   {
    "duration": 12,
    "start_time": "2022-11-02T18:27:04.409Z"
   },
   {
    "duration": 11,
    "start_time": "2022-11-02T18:27:04.423Z"
   },
   {
    "duration": 16,
    "start_time": "2022-11-02T18:27:04.727Z"
   },
   {
    "duration": 7,
    "start_time": "2022-11-02T18:27:04.745Z"
   },
   {
    "duration": 6,
    "start_time": "2022-11-02T18:27:06.070Z"
   },
   {
    "duration": 16,
    "start_time": "2022-11-02T18:27:06.455Z"
   },
   {
    "duration": 305,
    "start_time": "2022-11-02T18:27:07.132Z"
   },
   {
    "duration": 348,
    "start_time": "2022-11-02T18:27:12.449Z"
   },
   {
    "duration": 11,
    "start_time": "2022-11-02T18:28:16.436Z"
   },
   {
    "duration": 6,
    "start_time": "2022-11-02T18:28:20.643Z"
   },
   {
    "duration": 95,
    "start_time": "2022-11-02T18:28:23.384Z"
   },
   {
    "duration": 290,
    "start_time": "2022-11-02T18:28:25.013Z"
   },
   {
    "duration": 56,
    "start_time": "2022-11-02T18:28:28.641Z"
   },
   {
    "duration": 290,
    "start_time": "2022-11-02T18:28:30.253Z"
   },
   {
    "duration": 2,
    "start_time": "2022-11-02T18:29:39.504Z"
   },
   {
    "duration": 46,
    "start_time": "2022-11-02T18:34:53.107Z"
   },
   {
    "duration": 291,
    "start_time": "2022-11-02T18:34:53.975Z"
   },
   {
    "duration": 45,
    "start_time": "2022-11-02T18:35:02.230Z"
   },
   {
    "duration": 11,
    "start_time": "2022-11-02T18:35:02.898Z"
   },
   {
    "duration": 18,
    "start_time": "2022-11-02T18:35:03.630Z"
   },
   {
    "duration": 27,
    "start_time": "2022-11-02T18:35:04.974Z"
   },
   {
    "duration": 14,
    "start_time": "2022-11-02T18:35:06.307Z"
   },
   {
    "duration": 5,
    "start_time": "2022-11-02T18:35:13.092Z"
   },
   {
    "duration": 43,
    "start_time": "2022-11-02T18:35:13.442Z"
   },
   {
    "duration": 285,
    "start_time": "2022-11-02T18:35:15.134Z"
   },
   {
    "duration": 48,
    "start_time": "2022-11-02T18:35:18.333Z"
   },
   {
    "duration": 291,
    "start_time": "2022-11-02T18:35:19.422Z"
   },
   {
    "duration": 27,
    "start_time": "2022-11-02T18:39:17.092Z"
   },
   {
    "duration": 46,
    "start_time": "2022-11-02T18:39:36.921Z"
   },
   {
    "duration": 14,
    "start_time": "2022-11-02T18:39:37.844Z"
   },
   {
    "duration": 13,
    "start_time": "2022-11-02T18:39:39.420Z"
   },
   {
    "duration": 17,
    "start_time": "2022-11-02T18:39:40.445Z"
   },
   {
    "duration": 9,
    "start_time": "2022-11-02T18:39:42.354Z"
   },
   {
    "duration": 5,
    "start_time": "2022-11-02T18:39:44.433Z"
   },
   {
    "duration": 16,
    "start_time": "2022-11-02T18:39:45.509Z"
   },
   {
    "duration": 277,
    "start_time": "2022-11-02T18:39:46.121Z"
   },
   {
    "duration": 78,
    "start_time": "2022-11-02T18:39:48.804Z"
   },
   {
    "duration": 287,
    "start_time": "2022-11-02T18:39:49.336Z"
   },
   {
    "duration": 39,
    "start_time": "2022-11-02T18:39:51.456Z"
   },
   {
    "duration": 298,
    "start_time": "2022-11-02T18:40:34.566Z"
   },
   {
    "duration": 46,
    "start_time": "2022-11-02T18:40:35.143Z"
   },
   {
    "duration": 5,
    "start_time": "2022-11-02T18:41:25.219Z"
   },
   {
    "duration": 16,
    "start_time": "2022-11-02T18:41:26.004Z"
   },
   {
    "duration": 279,
    "start_time": "2022-11-02T18:41:27.174Z"
   },
   {
    "duration": 46,
    "start_time": "2022-11-02T18:41:34.202Z"
   },
   {
    "duration": 292,
    "start_time": "2022-11-02T18:41:35.059Z"
   },
   {
    "duration": 35,
    "start_time": "2022-11-02T18:41:39.667Z"
   },
   {
    "duration": 33,
    "start_time": "2022-11-02T18:45:25.176Z"
   },
   {
    "duration": 36,
    "start_time": "2022-11-02T18:45:46.196Z"
   },
   {
    "duration": 111,
    "start_time": "2022-11-02T18:46:09.367Z"
   },
   {
    "duration": 60,
    "start_time": "2022-11-02T18:46:15.117Z"
   },
   {
    "duration": 40,
    "start_time": "2022-11-02T18:46:20.366Z"
   },
   {
    "duration": 42,
    "start_time": "2022-11-02T18:46:26.453Z"
   },
   {
    "duration": 43,
    "start_time": "2022-11-02T18:46:32.158Z"
   },
   {
    "duration": 16,
    "start_time": "2022-11-02T18:46:45.032Z"
   },
   {
    "duration": 35,
    "start_time": "2022-11-02T18:46:54.524Z"
   },
   {
    "duration": 26,
    "start_time": "2022-11-02T18:48:52.955Z"
   },
   {
    "duration": 19,
    "start_time": "2022-11-02T18:49:06.415Z"
   },
   {
    "duration": 23,
    "start_time": "2022-11-02T18:49:11.681Z"
   },
   {
    "duration": 22,
    "start_time": "2022-11-02T18:49:16.798Z"
   },
   {
    "duration": 29,
    "start_time": "2022-11-02T18:49:21.733Z"
   },
   {
    "duration": 22,
    "start_time": "2022-11-02T18:49:29.224Z"
   },
   {
    "duration": 24,
    "start_time": "2022-11-02T18:49:34.120Z"
   },
   {
    "duration": 23,
    "start_time": "2022-11-02T18:49:38.197Z"
   },
   {
    "duration": 21,
    "start_time": "2022-11-02T18:49:54.504Z"
   },
   {
    "duration": 95,
    "start_time": "2022-11-02T18:51:03.001Z"
   },
   {
    "duration": 91,
    "start_time": "2022-11-02T18:54:37.981Z"
   },
   {
    "duration": 91,
    "start_time": "2022-11-02T18:55:23.594Z"
   },
   {
    "duration": 46,
    "start_time": "2022-11-02T18:55:28.102Z"
   },
   {
    "duration": 10,
    "start_time": "2022-11-02T18:55:28.847Z"
   },
   {
    "duration": 13,
    "start_time": "2022-11-02T18:55:29.602Z"
   },
   {
    "duration": 15,
    "start_time": "2022-11-02T18:55:30.332Z"
   },
   {
    "duration": 8,
    "start_time": "2022-11-02T18:55:31.133Z"
   },
   {
    "duration": 5,
    "start_time": "2022-11-02T18:55:32.685Z"
   },
   {
    "duration": 16,
    "start_time": "2022-11-02T18:55:36.055Z"
   },
   {
    "duration": 270,
    "start_time": "2022-11-02T18:55:36.595Z"
   },
   {
    "duration": 49,
    "start_time": "2022-11-02T18:55:39.830Z"
   },
   {
    "duration": 286,
    "start_time": "2022-11-02T18:55:40.834Z"
   },
   {
    "duration": 423,
    "start_time": "2022-11-02T18:55:52.751Z"
   },
   {
    "duration": 45,
    "start_time": "2022-11-02T18:57:01.319Z"
   },
   {
    "duration": 11,
    "start_time": "2022-11-02T18:57:01.847Z"
   },
   {
    "duration": 11,
    "start_time": "2022-11-02T18:57:02.409Z"
   },
   {
    "duration": 16,
    "start_time": "2022-11-02T18:57:02.852Z"
   },
   {
    "duration": 9,
    "start_time": "2022-11-02T18:57:03.067Z"
   },
   {
    "duration": 6,
    "start_time": "2022-11-02T18:57:04.220Z"
   },
   {
    "duration": 19,
    "start_time": "2022-11-02T18:57:04.586Z"
   },
   {
    "duration": 277,
    "start_time": "2022-11-02T18:57:05.025Z"
   },
   {
    "duration": 47,
    "start_time": "2022-11-02T18:57:08.062Z"
   },
   {
    "duration": 424,
    "start_time": "2022-11-02T18:57:08.853Z"
   },
   {
    "duration": 1713,
    "start_time": "2022-11-02T18:57:09.892Z"
   },
   {
    "duration": 3352,
    "start_time": "2022-11-02T18:57:19.269Z"
   },
   {
    "duration": 3901,
    "start_time": "2022-11-02T18:57:29.321Z"
   },
   {
    "duration": 8566,
    "start_time": "2022-11-02T18:57:44.998Z"
   },
   {
    "duration": 11405,
    "start_time": "2022-11-02T18:58:03.884Z"
   },
   {
    "duration": 1119,
    "start_time": "2022-11-03T04:46:23.150Z"
   },
   {
    "duration": 12,
    "start_time": "2022-11-03T04:46:25.536Z"
   },
   {
    "duration": 12,
    "start_time": "2022-11-03T04:46:27.820Z"
   },
   {
    "duration": 21,
    "start_time": "2022-11-03T04:46:28.826Z"
   },
   {
    "duration": 9,
    "start_time": "2022-11-03T04:46:30.084Z"
   },
   {
    "duration": 5,
    "start_time": "2022-11-03T04:46:32.256Z"
   },
   {
    "duration": 21,
    "start_time": "2022-11-03T04:46:33.626Z"
   },
   {
    "duration": 279,
    "start_time": "2022-11-03T04:46:34.601Z"
   },
   {
    "duration": 48,
    "start_time": "2022-11-03T04:46:37.849Z"
   },
   {
    "duration": 440,
    "start_time": "2022-11-03T04:46:40.338Z"
   },
   {
    "duration": 115891,
    "start_time": "2022-11-03T04:46:44.815Z"
   },
   {
    "duration": 39,
    "start_time": "2022-11-03T04:48:40.708Z"
   },
   {
    "duration": 177,
    "start_time": "2022-11-03T04:48:40.750Z"
   },
   {
    "duration": 33,
    "start_time": "2022-11-03T04:50:58.344Z"
   },
   {
    "duration": 111,
    "start_time": "2022-11-03T04:50:58.423Z"
   },
   {
    "duration": 115735,
    "start_time": "2022-11-03T04:52:53.783Z"
   },
   {
    "duration": 13316,
    "start_time": "2022-11-03T04:56:27.992Z"
   },
   {
    "duration": 24889,
    "start_time": "2022-11-03T04:57:34.950Z"
   },
   {
    "duration": 213346,
    "start_time": "2022-11-03T05:01:49.192Z"
   },
   {
    "duration": 1320,
    "start_time": "2022-11-03T14:25:29.809Z"
   },
   {
    "duration": 11,
    "start_time": "2022-11-03T14:25:31.131Z"
   },
   {
    "duration": 13,
    "start_time": "2022-11-03T14:25:35.168Z"
   },
   {
    "duration": 22,
    "start_time": "2022-11-03T14:25:37.758Z"
   },
   {
    "duration": 10,
    "start_time": "2022-11-03T14:25:40.758Z"
   },
   {
    "duration": 6,
    "start_time": "2022-11-03T14:25:43.437Z"
   },
   {
    "duration": 18,
    "start_time": "2022-11-03T14:25:44.942Z"
   },
   {
    "duration": 271,
    "start_time": "2022-11-03T14:25:46.886Z"
   },
   {
    "duration": 47,
    "start_time": "2022-11-03T14:25:50.371Z"
   },
   {
    "duration": 434,
    "start_time": "2022-11-03T14:25:51.796Z"
   },
   {
    "duration": 209066,
    "start_time": "2022-11-03T14:25:57.462Z"
   },
   {
    "duration": 32,
    "start_time": "2022-11-03T14:29:39.531Z"
   },
   {
    "duration": 21,
    "start_time": "2022-11-03T14:29:41.420Z"
   },
   {
    "duration": 116588,
    "start_time": "2022-11-03T14:30:41.814Z"
   },
   {
    "duration": 117281,
    "start_time": "2022-11-03T14:35:58.741Z"
   },
   {
    "duration": 19,
    "start_time": "2022-11-04T09:37:59.809Z"
   },
   {
    "duration": 11,
    "start_time": "2022-11-04T09:38:00.881Z"
   },
   {
    "duration": 6,
    "start_time": "2022-11-04T09:38:02.729Z"
   },
   {
    "duration": 17,
    "start_time": "2022-11-04T09:38:03.512Z"
   },
   {
    "duration": 303,
    "start_time": "2022-11-04T09:39:14.204Z"
   },
   {
    "duration": 46,
    "start_time": "2022-11-04T09:39:26.557Z"
   },
   {
    "duration": 436,
    "start_time": "2022-11-04T09:39:30.316Z"
   },
   {
    "duration": 210335,
    "start_time": "2022-11-04T09:39:32.173Z"
   },
   {
    "duration": 87,
    "start_time": "2022-11-04T09:48:47.420Z"
   },
   {
    "duration": 52,
    "start_time": "2022-11-04T09:49:43.687Z"
   },
   {
    "duration": 435,
    "start_time": "2022-11-04T09:50:00.832Z"
   },
   {
    "duration": 210887,
    "start_time": "2022-11-04T09:50:13.149Z"
   },
   {
    "duration": 50,
    "start_time": "2022-11-04T09:54:06.733Z"
   },
   {
    "duration": 12,
    "start_time": "2022-11-04T09:55:25.858Z"
   },
   {
    "duration": 273848,
    "start_time": "2022-11-04T10:10:04.785Z"
   },
   {
    "duration": 273806,
    "start_time": "2022-11-04T10:18:26.665Z"
   },
   {
    "duration": 23,
    "start_time": "2022-11-04T10:25:23.946Z"
   },
   {
    "duration": 48,
    "start_time": "2022-11-04T10:28:20.408Z"
   },
   {
    "duration": 66,
    "start_time": "2022-11-04T10:29:28.664Z"
   },
   {
    "duration": 5,
    "start_time": "2022-11-04T10:29:44.943Z"
   },
   {
    "duration": 1350,
    "start_time": "2022-11-06T10:51:37.055Z"
   },
   {
    "duration": 13,
    "start_time": "2022-11-06T10:51:38.407Z"
   },
   {
    "duration": 11,
    "start_time": "2022-11-06T10:51:56.195Z"
   },
   {
    "duration": 67,
    "start_time": "2022-11-06T10:54:27.296Z"
   },
   {
    "duration": 28,
    "start_time": "2022-11-06T10:57:50.729Z"
   },
   {
    "duration": 5,
    "start_time": "2022-11-06T10:58:37.767Z"
   },
   {
    "duration": 117,
    "start_time": "2022-11-06T10:59:09.223Z"
   },
   {
    "duration": 5,
    "start_time": "2022-11-06T10:59:18.665Z"
   },
   {
    "duration": 4,
    "start_time": "2022-11-06T10:59:21.696Z"
   },
   {
    "duration": 4,
    "start_time": "2022-11-06T10:59:29.144Z"
   },
   {
    "duration": 11,
    "start_time": "2022-11-06T10:59:45.684Z"
   },
   {
    "duration": 6,
    "start_time": "2022-11-06T10:59:56.235Z"
   },
   {
    "duration": 7,
    "start_time": "2022-11-06T11:00:45.174Z"
   },
   {
    "duration": 20,
    "start_time": "2022-11-06T11:01:55.224Z"
   },
   {
    "duration": 52,
    "start_time": "2022-11-06T11:02:02.322Z"
   },
   {
    "duration": 13,
    "start_time": "2022-11-06T11:02:02.907Z"
   },
   {
    "duration": 15,
    "start_time": "2022-11-06T11:02:06.396Z"
   },
   {
    "duration": 26,
    "start_time": "2022-11-06T11:02:09.702Z"
   },
   {
    "duration": 14,
    "start_time": "2022-11-06T11:02:10.908Z"
   },
   {
    "duration": 8,
    "start_time": "2022-11-06T11:02:34.438Z"
   },
   {
    "duration": 99,
    "start_time": "2022-11-06T11:02:34.924Z"
   },
   {
    "duration": 296,
    "start_time": "2022-11-06T11:02:35.664Z"
   },
   {
    "duration": 375,
    "start_time": "2022-11-06T11:02:41.643Z"
   },
   {
    "duration": 102,
    "start_time": "2022-11-06T11:02:57.722Z"
   },
   {
    "duration": 472,
    "start_time": "2022-11-06T11:02:58.903Z"
   },
   {
    "duration": 252405,
    "start_time": "2022-11-06T11:02:59.853Z"
   },
   {
    "duration": 164,
    "start_time": "2022-11-06T11:07:12.260Z"
   },
   {
    "duration": 72,
    "start_time": "2022-11-06T11:07:42.153Z"
   },
   {
    "duration": 15,
    "start_time": "2022-11-06T11:07:46.046Z"
   },
   {
    "duration": 139296,
    "start_time": "2022-11-06T11:07:50.292Z"
   },
   {
    "duration": 327578,
    "start_time": "2022-11-06T11:10:50.712Z"
   },
   {
    "duration": 185,
    "start_time": "2022-11-06T11:20:12.740Z"
   },
   {
    "duration": 481,
    "start_time": "2022-11-06T11:20:14.023Z"
   },
   {
    "duration": 25,
    "start_time": "2022-11-06T11:21:27.115Z"
   },
   {
    "duration": 7,
    "start_time": "2022-11-06T11:21:33.749Z"
   },
   {
    "duration": 21,
    "start_time": "2022-11-06T11:35:16.092Z"
   },
   {
    "duration": 18,
    "start_time": "2022-11-06T11:35:56.150Z"
   },
   {
    "duration": 15,
    "start_time": "2022-11-06T11:37:17.980Z"
   },
   {
    "duration": 17,
    "start_time": "2022-11-06T11:37:49.856Z"
   },
   {
    "duration": 10,
    "start_time": "2022-11-06T11:40:00.960Z"
   },
   {
    "duration": 54,
    "start_time": "2022-11-06T11:40:26.365Z"
   },
   {
    "duration": 13,
    "start_time": "2022-11-06T11:40:26.812Z"
   },
   {
    "duration": 10,
    "start_time": "2022-11-06T11:40:29.479Z"
   },
   {
    "duration": 12,
    "start_time": "2022-11-06T11:40:41.950Z"
   },
   {
    "duration": 21,
    "start_time": "2022-11-06T11:40:44.258Z"
   },
   {
    "duration": 11,
    "start_time": "2022-11-06T11:40:53.853Z"
   },
   {
    "duration": 7,
    "start_time": "2022-11-06T11:40:56.813Z"
   },
   {
    "duration": 189,
    "start_time": "2022-11-06T11:40:58.035Z"
   },
   {
    "duration": 279,
    "start_time": "2022-11-06T11:40:59.412Z"
   },
   {
    "duration": 82,
    "start_time": "2022-11-06T11:41:03.945Z"
   },
   {
    "duration": 471,
    "start_time": "2022-11-06T11:41:05.515Z"
   },
   {
    "duration": 243638,
    "start_time": "2022-11-06T11:41:07.531Z"
   },
   {
    "duration": 69,
    "start_time": "2022-11-06T11:45:42.454Z"
   },
   {
    "duration": 13,
    "start_time": "2022-11-06T11:45:44.863Z"
   },
   {
    "duration": 139468,
    "start_time": "2022-11-06T11:45:48.485Z"
   },
   {
    "duration": 316281,
    "start_time": "2022-11-06T11:48:34.588Z"
   },
   {
    "duration": 50,
    "start_time": "2022-11-06T11:55:42.340Z"
   },
   {
    "duration": 6,
    "start_time": "2022-11-06T11:55:46.844Z"
   },
   {
    "duration": 13,
    "start_time": "2022-11-06T11:57:36.249Z"
   },
   {
    "duration": 6,
    "start_time": "2022-11-06T11:57:48.946Z"
   },
   {
    "duration": 5,
    "start_time": "2022-11-06T11:57:59.213Z"
   },
   {
    "duration": 19,
    "start_time": "2022-11-06T11:57:59.882Z"
   },
   {
    "duration": 5,
    "start_time": "2022-11-06T11:58:44.969Z"
   },
   {
    "duration": 1894,
    "start_time": "2022-11-06T20:14:46.239Z"
   },
   {
    "duration": 13,
    "start_time": "2022-11-06T20:14:51.614Z"
   },
   {
    "duration": 1191,
    "start_time": "2022-11-06T20:29:02.706Z"
   },
   {
    "duration": 13,
    "start_time": "2022-11-06T20:29:04.282Z"
   }
  ],
  "kernelspec": {
   "display_name": "Python 3 (ipykernel)",
   "language": "python",
   "name": "python3"
  },
  "language_info": {
   "codemirror_mode": {
    "name": "ipython",
    "version": 3
   },
   "file_extension": ".py",
   "mimetype": "text/x-python",
   "name": "python",
   "nbconvert_exporter": "python",
   "pygments_lexer": "ipython3",
   "version": "3.9.13"
  },
  "toc": {
   "base_numbering": 1,
   "nav_menu": {},
   "number_sections": true,
   "sideBar": true,
   "skip_h1_title": true,
   "title_cell": "Содержание",
   "title_sidebar": "Contents",
   "toc_cell": true,
   "toc_position": {},
   "toc_section_display": true,
   "toc_window_display": false
  }
 },
 "nbformat": 4,
 "nbformat_minor": 2
}
