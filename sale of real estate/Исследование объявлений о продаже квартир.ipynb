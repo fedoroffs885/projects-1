{
 "cells": [
  {
   "cell_type": "markdown",
   "metadata": {},
   "source": [
    "# Исследование объявлений о продаже квартир\n",
    "\n",
    "В вашем распоряжении данные сервиса Яндекс.Недвижимость — архив объявлений о продаже квартир в Санкт-Петербурге и соседних населённых пунктов за несколько лет. Нужно научиться определять рыночную стоимость объектов недвижимости. Ваша задача — установить параметры. Это позволит построить автоматизированную систему: она отследит аномалии и мошенническую деятельность. \n",
    "\n",
    "По каждой квартире на продажу доступны два вида данных. Первые вписаны пользователем, вторые — получены автоматически на основе картографических данных. Например, расстояние до центра, аэропорта, ближайшего парка и водоёма. "
   ]
  },
  {
   "cell_type": "markdown",
   "metadata": {},
   "source": [
    "# Шаги исследования\n",
    "1. Изучение данных.\n",
    "2. Предобработка данных.\n",
    "3. Добавление новых столбцов в таблицу.\n",
    "4. Исследовательский анализ данных.\n",
    "5. Общий вывод."
   ]
  },
  {
   "cell_type": "markdown",
   "metadata": {},
   "source": [
    "Цель проекта — выполнить предобработку данных и изучить их, чтобы найти интересные особенности и зависимости, которые существуют на рынке недвижимости."
   ]
  },
  {
   "cell_type": "markdown",
   "metadata": {},
   "source": [
    "## 1. Изучение данных"
   ]
  },
  {
   "cell_type": "code",
   "execution_count": 1,
   "metadata": {},
   "outputs": [],
   "source": [
    "import pandas as pd\n",
    "import matplotlib.pyplot as plt\n",
    "import seaborn as sns"
   ]
  },
  {
   "cell_type": "code",
   "execution_count": 2,
   "metadata": {},
   "outputs": [
    {
     "name": "stdout",
     "output_type": "stream",
     "text": [
      "<class 'pandas.core.frame.DataFrame'>\n",
      "RangeIndex: 23699 entries, 0 to 23698\n",
      "Data columns (total 22 columns):\n",
      " #   Column                Non-Null Count  Dtype  \n",
      "---  ------                --------------  -----  \n",
      " 0   total_images          23699 non-null  int64  \n",
      " 1   last_price            23699 non-null  float64\n",
      " 2   total_area            23699 non-null  float64\n",
      " 3   first_day_exposition  23699 non-null  object \n",
      " 4   rooms                 23699 non-null  int64  \n",
      " 5   ceiling_height        14504 non-null  float64\n",
      " 6   floors_total          23613 non-null  float64\n",
      " 7   living_area           21796 non-null  float64\n",
      " 8   floor                 23699 non-null  int64  \n",
      " 9   is_apartment          2775 non-null   object \n",
      " 10  studio                23699 non-null  bool   \n",
      " 11  open_plan             23699 non-null  bool   \n",
      " 12  kitchen_area          21421 non-null  float64\n",
      " 13  balcony               12180 non-null  float64\n",
      " 14  locality_name         23650 non-null  object \n",
      " 15  airports_nearest      18157 non-null  float64\n",
      " 16  cityCenters_nearest   18180 non-null  float64\n",
      " 17  parks_around3000      18181 non-null  float64\n",
      " 18  parks_nearest         8079 non-null   float64\n",
      " 19  ponds_around3000      18181 non-null  float64\n",
      " 20  ponds_nearest         9110 non-null   float64\n",
      " 21  days_exposition       20518 non-null  float64\n",
      "dtypes: bool(2), float64(14), int64(3), object(3)\n",
      "memory usage: 3.7+ MB\n"
     ]
    }
   ],
   "source": [
    "data = pd.read_csv(r\"C:\\Users\\stasf\\Desktop\\real_estate_data.csv\", sep='\\t')\n",
    "data.info() # Изучим общую информацию о датафрейме"
   ]
  },
  {
   "cell_type": "code",
   "execution_count": 3,
   "metadata": {},
   "outputs": [
    {
     "data": {
      "text/html": [
       "<div>\n",
       "<style scoped>\n",
       "    .dataframe tbody tr th:only-of-type {\n",
       "        vertical-align: middle;\n",
       "    }\n",
       "\n",
       "    .dataframe tbody tr th {\n",
       "        vertical-align: top;\n",
       "    }\n",
       "\n",
       "    .dataframe thead th {\n",
       "        text-align: right;\n",
       "    }\n",
       "</style>\n",
       "<table border=\"1\" class=\"dataframe\">\n",
       "  <thead>\n",
       "    <tr style=\"text-align: right;\">\n",
       "      <th></th>\n",
       "      <th>total_images</th>\n",
       "      <th>last_price</th>\n",
       "      <th>total_area</th>\n",
       "      <th>first_day_exposition</th>\n",
       "      <th>rooms</th>\n",
       "      <th>ceiling_height</th>\n",
       "      <th>floors_total</th>\n",
       "      <th>living_area</th>\n",
       "      <th>floor</th>\n",
       "      <th>is_apartment</th>\n",
       "      <th>...</th>\n",
       "      <th>kitchen_area</th>\n",
       "      <th>balcony</th>\n",
       "      <th>locality_name</th>\n",
       "      <th>airports_nearest</th>\n",
       "      <th>cityCenters_nearest</th>\n",
       "      <th>parks_around3000</th>\n",
       "      <th>parks_nearest</th>\n",
       "      <th>ponds_around3000</th>\n",
       "      <th>ponds_nearest</th>\n",
       "      <th>days_exposition</th>\n",
       "    </tr>\n",
       "  </thead>\n",
       "  <tbody>\n",
       "    <tr>\n",
       "      <th>0</th>\n",
       "      <td>20</td>\n",
       "      <td>13000000.0</td>\n",
       "      <td>108.0</td>\n",
       "      <td>2019-03-07T00:00:00</td>\n",
       "      <td>3</td>\n",
       "      <td>2.70</td>\n",
       "      <td>16.0</td>\n",
       "      <td>51.0</td>\n",
       "      <td>8</td>\n",
       "      <td>NaN</td>\n",
       "      <td>...</td>\n",
       "      <td>25.0</td>\n",
       "      <td>NaN</td>\n",
       "      <td>Санкт-Петербург</td>\n",
       "      <td>18863.0</td>\n",
       "      <td>16028.0</td>\n",
       "      <td>1.0</td>\n",
       "      <td>482.0</td>\n",
       "      <td>2.0</td>\n",
       "      <td>755.0</td>\n",
       "      <td>NaN</td>\n",
       "    </tr>\n",
       "    <tr>\n",
       "      <th>1</th>\n",
       "      <td>7</td>\n",
       "      <td>3350000.0</td>\n",
       "      <td>40.4</td>\n",
       "      <td>2018-12-04T00:00:00</td>\n",
       "      <td>1</td>\n",
       "      <td>NaN</td>\n",
       "      <td>11.0</td>\n",
       "      <td>18.6</td>\n",
       "      <td>1</td>\n",
       "      <td>NaN</td>\n",
       "      <td>...</td>\n",
       "      <td>11.0</td>\n",
       "      <td>2.0</td>\n",
       "      <td>посёлок Шушары</td>\n",
       "      <td>12817.0</td>\n",
       "      <td>18603.0</td>\n",
       "      <td>0.0</td>\n",
       "      <td>NaN</td>\n",
       "      <td>0.0</td>\n",
       "      <td>NaN</td>\n",
       "      <td>81.0</td>\n",
       "    </tr>\n",
       "    <tr>\n",
       "      <th>2</th>\n",
       "      <td>10</td>\n",
       "      <td>5196000.0</td>\n",
       "      <td>56.0</td>\n",
       "      <td>2015-08-20T00:00:00</td>\n",
       "      <td>2</td>\n",
       "      <td>NaN</td>\n",
       "      <td>5.0</td>\n",
       "      <td>34.3</td>\n",
       "      <td>4</td>\n",
       "      <td>NaN</td>\n",
       "      <td>...</td>\n",
       "      <td>8.3</td>\n",
       "      <td>0.0</td>\n",
       "      <td>Санкт-Петербург</td>\n",
       "      <td>21741.0</td>\n",
       "      <td>13933.0</td>\n",
       "      <td>1.0</td>\n",
       "      <td>90.0</td>\n",
       "      <td>2.0</td>\n",
       "      <td>574.0</td>\n",
       "      <td>558.0</td>\n",
       "    </tr>\n",
       "    <tr>\n",
       "      <th>3</th>\n",
       "      <td>0</td>\n",
       "      <td>64900000.0</td>\n",
       "      <td>159.0</td>\n",
       "      <td>2015-07-24T00:00:00</td>\n",
       "      <td>3</td>\n",
       "      <td>NaN</td>\n",
       "      <td>14.0</td>\n",
       "      <td>NaN</td>\n",
       "      <td>9</td>\n",
       "      <td>NaN</td>\n",
       "      <td>...</td>\n",
       "      <td>NaN</td>\n",
       "      <td>0.0</td>\n",
       "      <td>Санкт-Петербург</td>\n",
       "      <td>28098.0</td>\n",
       "      <td>6800.0</td>\n",
       "      <td>2.0</td>\n",
       "      <td>84.0</td>\n",
       "      <td>3.0</td>\n",
       "      <td>234.0</td>\n",
       "      <td>424.0</td>\n",
       "    </tr>\n",
       "    <tr>\n",
       "      <th>4</th>\n",
       "      <td>2</td>\n",
       "      <td>10000000.0</td>\n",
       "      <td>100.0</td>\n",
       "      <td>2018-06-19T00:00:00</td>\n",
       "      <td>2</td>\n",
       "      <td>3.03</td>\n",
       "      <td>14.0</td>\n",
       "      <td>32.0</td>\n",
       "      <td>13</td>\n",
       "      <td>NaN</td>\n",
       "      <td>...</td>\n",
       "      <td>41.0</td>\n",
       "      <td>NaN</td>\n",
       "      <td>Санкт-Петербург</td>\n",
       "      <td>31856.0</td>\n",
       "      <td>8098.0</td>\n",
       "      <td>2.0</td>\n",
       "      <td>112.0</td>\n",
       "      <td>1.0</td>\n",
       "      <td>48.0</td>\n",
       "      <td>121.0</td>\n",
       "    </tr>\n",
       "  </tbody>\n",
       "</table>\n",
       "<p>5 rows × 22 columns</p>\n",
       "</div>"
      ],
      "text/plain": [
       "   total_images  last_price  total_area first_day_exposition  rooms  \\\n",
       "0            20  13000000.0       108.0  2019-03-07T00:00:00      3   \n",
       "1             7   3350000.0        40.4  2018-12-04T00:00:00      1   \n",
       "2            10   5196000.0        56.0  2015-08-20T00:00:00      2   \n",
       "3             0  64900000.0       159.0  2015-07-24T00:00:00      3   \n",
       "4             2  10000000.0       100.0  2018-06-19T00:00:00      2   \n",
       "\n",
       "   ceiling_height  floors_total  living_area  floor is_apartment  ...  \\\n",
       "0            2.70          16.0         51.0      8          NaN  ...   \n",
       "1             NaN          11.0         18.6      1          NaN  ...   \n",
       "2             NaN           5.0         34.3      4          NaN  ...   \n",
       "3             NaN          14.0          NaN      9          NaN  ...   \n",
       "4            3.03          14.0         32.0     13          NaN  ...   \n",
       "\n",
       "   kitchen_area  balcony    locality_name  airports_nearest  \\\n",
       "0          25.0      NaN  Санкт-Петербург           18863.0   \n",
       "1          11.0      2.0   посёлок Шушары           12817.0   \n",
       "2           8.3      0.0  Санкт-Петербург           21741.0   \n",
       "3           NaN      0.0  Санкт-Петербург           28098.0   \n",
       "4          41.0      NaN  Санкт-Петербург           31856.0   \n",
       "\n",
       "  cityCenters_nearest  parks_around3000  parks_nearest  ponds_around3000  \\\n",
       "0             16028.0               1.0          482.0               2.0   \n",
       "1             18603.0               0.0            NaN               0.0   \n",
       "2             13933.0               1.0           90.0               2.0   \n",
       "3              6800.0               2.0           84.0               3.0   \n",
       "4              8098.0               2.0          112.0               1.0   \n",
       "\n",
       "   ponds_nearest  days_exposition  \n",
       "0          755.0              NaN  \n",
       "1            NaN             81.0  \n",
       "2          574.0            558.0  \n",
       "3          234.0            424.0  \n",
       "4           48.0            121.0  \n",
       "\n",
       "[5 rows x 22 columns]"
      ]
     },
     "execution_count": 3,
     "metadata": {},
     "output_type": "execute_result"
    }
   ],
   "source": [
    "data.head()"
   ]
  },
  {
   "cell_type": "code",
   "execution_count": 4,
   "metadata": {
    "scrolled": false
   },
   "outputs": [
    {
     "data": {
      "image/png": "[encoded data removed]",
      "text/plain": [
       "<Figure size 2000x2000 with 20 Axes>"
      ]
     },
     "metadata": {},
     "output_type": "display_data"
    }
   ],
   "source": [
    "data.hist(figsize=(20, 20), bins=50) # Гистограмма для каждого столбца data\n",
    "plt.show() "
   ]
  },
  {
   "cell_type": "markdown",
   "metadata": {},
   "source": [
    "**Вывод:**\n",
    "- Выгрузили данные, изучили их;\n",
    "- Построили гистограммы распределения для столбцов."
   ]
  },
  {
   "cell_type": "markdown",
   "metadata": {},
   "source": [
    "## 2. Предобработка данных"
   ]
  },
  {
   "cell_type": "code",
   "execution_count": 5,
   "metadata": {
    "scrolled": false
   },
   "outputs": [
    {
     "name": "stdout",
     "output_type": "stream",
     "text": [
      "['Санкт-Петербург' 'посёлок Шушары' 'городской посёлок Янино-1'\n",
      " 'посёлок Парголово' 'посёлок Мурино' 'Ломоносов' 'Сертолово' 'Петергоф'\n",
      " 'Пушкин' 'деревня Кудрово' 'Коммунар' 'Колпино'\n",
      " 'поселок городского типа Красный Бор' 'Гатчина' 'поселок Мурино'\n",
      " 'деревня Фёдоровское' 'Выборг' 'Кронштадт' 'Кировск'\n",
      " 'деревня Новое Девяткино' 'посёлок Металлострой'\n",
      " 'посёлок городского типа Лебяжье' 'посёлок городского типа Сиверский'\n",
      " 'поселок Молодцово' 'поселок городского типа Кузьмоловский'\n",
      " 'садовое товарищество Новая Ропша' 'Павловск' 'деревня Пикколово'\n",
      " 'Всеволожск' 'Волхов' 'Кингисепп' 'Приозерск' 'Сестрорецк'\n",
      " 'деревня Куттузи' 'посёлок Аннино' 'поселок городского типа Ефимовский'\n",
      " 'посёлок Плодовое' 'деревня Заклинье' 'поселок Торковичи'\n",
      " 'поселок Первомайское' 'Красное Село' 'посёлок Понтонный' 'Сясьстрой'\n",
      " 'деревня Старая' 'деревня Лесколово' 'посёлок Новый Свет' 'Сланцы'\n",
      " 'село Путилово' 'Ивангород' 'Мурино' 'Шлиссельбург' 'Никольское'\n",
      " 'Зеленогорск' 'Сосновый Бор' 'поселок Новый Свет' 'деревня Оржицы'\n",
      " 'деревня Кальтино' 'Кудрово' 'поселок Романовка' 'посёлок Бугры'\n",
      " 'поселок Бугры' 'поселок городского типа Рощино' 'Кириши' 'Луга'\n",
      " 'Волосово' 'Отрадное' 'село Павлово' 'поселок Оредеж' 'село Копорье'\n",
      " 'посёлок городского типа Красный Бор' 'посёлок Молодёжное' 'Тихвин'\n",
      " 'посёлок Победа' 'деревня Нурма' 'поселок городского типа Синявино'\n",
      " 'Тосно' 'посёлок городского типа Кузьмоловский' 'посёлок Стрельна'\n",
      " 'Бокситогорск' 'посёлок Александровская' 'деревня Лопухинка' 'Пикалёво'\n",
      " 'поселок Терволово' 'поселок городского типа Советский' 'Подпорожье'\n",
      " 'посёлок Петровское' 'посёлок городского типа Токсово' 'поселок Сельцо'\n",
      " 'посёлок городского типа Вырица' 'деревня Кипень' 'деревня Келози'\n",
      " 'деревня Вартемяги' 'посёлок Тельмана' 'поселок Севастьяново'\n",
      " 'городской поселок Большая Ижора' nan 'городской посёлок Павлово'\n",
      " 'деревня Агалатово' 'посёлок Новогорелово'\n",
      " 'городской посёлок Лесогорский' 'деревня Лаголово' 'поселок Цвелодубово'\n",
      " 'поселок городского типа Рахья' 'поселок городского типа Вырица'\n",
      " 'деревня Белогорка' 'поселок Заводской' 'городской посёлок Новоселье'\n",
      " 'деревня Большие Колпаны' 'деревня Горбунки' 'деревня Батово'\n",
      " 'деревня Заневка' 'деревня Иссад' 'Приморск'\n",
      " 'городской посёлок Фёдоровское' 'деревня Мистолово' 'Новая Ладога'\n",
      " 'поселок Зимитицы' 'поселок Барышево' 'деревня Разметелево'\n",
      " 'поселок городского типа имени Свердлова' 'деревня Пеники'\n",
      " 'поселок Рябово' 'деревня Пудомяги' 'поселок станции Корнево'\n",
      " 'деревня Низино' 'деревня Бегуницы' 'посёлок Поляны'\n",
      " 'городской посёлок Мга' 'поселок Елизаветино'\n",
      " 'посёлок городского типа Кузнечное' 'деревня Колтуши'\n",
      " 'поселок Запорожское' 'посёлок городского типа Рощино'\n",
      " 'деревня Гостилицы' 'деревня Малое Карлино' 'посёлок Мичуринское'\n",
      " 'посёлок городского типа имени Морозова' 'посёлок Песочный'\n",
      " 'посёлок Сосново' 'деревня Аро' 'поселок Ильичёво'\n",
      " 'посёлок городского типа Тайцы' 'деревня Малое Верево' 'деревня Извара'\n",
      " 'поселок станции Вещево' 'село Паша' 'деревня Калитино'\n",
      " 'посёлок городского типа Ульяновка' 'деревня Чудской Бор'\n",
      " 'поселок городского типа Дубровка' 'деревня Мины' 'поселок Войсковицы'\n",
      " 'посёлок городского типа имени Свердлова' 'деревня Коркино'\n",
      " 'посёлок Ропша' 'поселок городского типа Приладожский' 'посёлок Щеглово'\n",
      " 'посёлок Гаврилово' 'Лодейное Поле' 'деревня Рабитицы'\n",
      " 'поселок городского типа Никольский' 'деревня Кузьмолово'\n",
      " 'деревня Малые Колпаны' 'поселок Тельмана' 'посёлок Петро-Славянка'\n",
      " 'городской посёлок Назия' 'посёлок Репино' 'посёлок Ильичёво'\n",
      " 'поселок Углово' 'поселок Старая Малукса' 'садовое товарищество Рахья'\n",
      " 'поселок Аннино' 'поселок Победа' 'деревня Меньково'\n",
      " 'деревня Старые Бегуницы' 'посёлок Сапёрный' 'поселок Семрино'\n",
      " 'поселок Гаврилово' 'поселок Глажево' 'поселок Кобринское'\n",
      " 'деревня Гарболово' 'деревня Юкки' 'поселок станции Приветнинское'\n",
      " 'деревня Мануйлово' 'деревня Пчева' 'поселок Поляны' 'поселок Цвылёво'\n",
      " 'поселок Мельниково' 'посёлок Пудость' 'посёлок Усть-Луга' 'Светогорск'\n",
      " 'Любань' 'поселок Селезнёво' 'поселок городского типа Рябово'\n",
      " 'Каменногорск' 'деревня Кривко' 'поселок Глебычево' 'деревня Парицы'\n",
      " 'поселок Жилпосёлок' 'посёлок городского типа Мга'\n",
      " 'городской поселок Янино-1' 'посёлок Войскорово' 'село Никольское'\n",
      " 'посёлок Терволово' 'поселок Стеклянный' 'посёлок городского типа Важины'\n",
      " 'посёлок Мыза-Ивановка' 'село Русско-Высоцкое'\n",
      " 'поселок городского типа Лебяжье' 'поселок городского типа Форносово'\n",
      " 'село Старая Ладога' 'поселок Житково' 'городской посёлок Виллози'\n",
      " 'деревня Лампово' 'деревня Шпаньково' 'деревня Лаврики' 'посёлок Сумино'\n",
      " 'посёлок Возрождение' 'деревня Старосиверская' 'посёлок Кикерино'\n",
      " 'поселок Возрождение' 'деревня Старое Хинколово' 'посёлок Пригородный'\n",
      " 'посёлок Торфяное' 'городской посёлок Будогощь' 'поселок Суходолье'\n",
      " 'поселок Красная Долина' 'деревня Хапо-Ое'\n",
      " 'поселок городского типа Дружная Горка' 'поселок Лисий Нос'\n",
      " 'деревня Яльгелево' 'посёлок Стеклянный' 'село Рождествено'\n",
      " 'деревня Старополье' 'посёлок Левашово' 'деревня Сяськелево'\n",
      " 'деревня Камышовка'\n",
      " 'садоводческое некоммерческое товарищество Лесная Поляна'\n",
      " 'деревня Хязельки' 'поселок Жилгородок' 'посёлок городского типа Павлово'\n",
      " 'деревня Ялгино' 'поселок Новый Учхоз' 'городской посёлок Рощино'\n",
      " 'поселок Гончарово' 'поселок Почап' 'посёлок Сапёрное'\n",
      " 'посёлок Платформа 69-й километр' 'поселок Каложицы' 'деревня Фалилеево'\n",
      " 'деревня Пельгора' 'поселок городского типа Лесогорский'\n",
      " 'деревня Торошковичи' 'посёлок Белоостров' 'посёлок Алексеевка'\n",
      " 'поселок Серебрянский' 'поселок Лукаши' 'поселок Петровское'\n",
      " 'деревня Щеглово' 'поселок Мичуринское' 'деревня Тарасово'\n",
      " 'поселок Кингисеппский' 'посёлок при железнодорожной станции Вещево'\n",
      " 'поселок Ушаки' 'деревня Котлы' 'деревня Сижно' 'деревня Торосово'\n",
      " 'посёлок Форт Красная Горка' 'поселок городского типа Токсово'\n",
      " 'деревня Новолисино' 'посёлок станции Громово' 'деревня Глинка'\n",
      " 'посёлок Мельниково' 'поселок городского типа Назия'\n",
      " 'деревня Старая Пустошь' 'поселок Коммунары' 'поселок Починок'\n",
      " 'посёлок городского типа Вознесенье' 'деревня Разбегаево'\n",
      " 'посёлок городского типа Рябово' 'поселок Гладкое'\n",
      " 'посёлок при железнодорожной станции Приветнинское' 'поселок Тёсово-4'\n",
      " 'посёлок Жилгородок' 'деревня Бор' 'посёлок Коробицыно'\n",
      " 'деревня Большая Вруда' 'деревня Курковицы' 'посёлок Лисий Нос'\n",
      " 'городской посёлок Советский' 'посёлок Кобралово' 'деревня Суоранда'\n",
      " 'поселок Кобралово' 'поселок городского типа Кондратьево'\n",
      " 'коттеджный поселок Счастье' 'поселок Любань' 'деревня Реброво'\n",
      " 'деревня Зимитицы' 'деревня Тойворово' 'поселок Семиозерье'\n",
      " 'поселок Лесное' 'поселок Совхозный' 'поселок Усть-Луга'\n",
      " 'посёлок Ленинское' 'посёлок Суйда' 'посёлок городского типа Форносово'\n",
      " 'деревня Нижние Осельки' 'посёлок станции Свирь' 'поселок Перово'\n",
      " 'Высоцк' 'поселок Гарболово' 'село Шум' 'поселок Котельский'\n",
      " 'поселок станции Лужайка' 'деревня Большая Пустомержа'\n",
      " 'поселок Красносельское' 'деревня Вахнова Кара' 'деревня Пижма'\n",
      " 'коттеджный поселок Кивеннапа Север' 'поселок Коробицыно'\n",
      " 'поселок Ромашки' 'посёлок Перово' 'деревня Каськово' 'деревня Куровицы'\n",
      " 'посёлок Плоское' 'поселок Сумино'\n",
      " 'поселок городского типа Большая Ижора' 'поселок Кирпичное'\n",
      " 'деревня Ям-Тесово' 'деревня Раздолье' 'деревня Терпилицы'\n",
      " 'посёлок Шугозеро' 'деревня Ваганово' 'поселок Пушное'\n",
      " 'садовое товарищество Садко' 'посёлок Усть-Ижора' 'деревня Выскатка'\n",
      " 'городской посёлок Свирьстрой' 'поселок Громово' 'деревня Кисельня'\n",
      " 'посёлок Старая Малукса' 'деревня Трубников Бор' 'поселок Калитино'\n",
      " 'посёлок Высокоключевой' 'садовое товарищество Приладожский'\n",
      " 'посёлок Пансионат Зелёный Бор' 'деревня Ненимяки'\n",
      " 'поселок Пансионат Зелёный Бор' 'деревня Снегирёвка' 'деревня Рапполово'\n",
      " 'деревня Пустынка' 'поселок Рабитицы' 'деревня Большой Сабск'\n",
      " 'деревня Русско' 'деревня Лупполово' 'деревня Большое Рейзино'\n",
      " 'деревня Малая Романовка' 'поселок Дружноселье' 'поселок Пчевжа'\n",
      " 'поселок Володарское' 'деревня Нижняя' 'коттеджный посёлок Лесное'\n",
      " 'деревня Тихковицы' 'деревня Борисова Грива' 'посёлок Дзержинского']\n"
     ]
    },
    {
     "data": {
      "text/plain": [
       "array(['Санкт-Петербург', 'поселок Шушары', 'поселок Янино-1',\n",
       "       'поселок Парголово', 'поселок Мурино', 'Ломоносов', 'Сертолово',\n",
       "       'Петергоф', 'Пушкин', 'деревня Кудрово', 'Коммунар', 'Колпино',\n",
       "       'поселок Красный Бор', 'Гатчина', 'деревня Фёдоровское', 'Выборг',\n",
       "       'Кронштадт', 'Кировск', 'деревня Новое Девяткино',\n",
       "       'поселок Металлострой', 'поселок Лебяжье', 'поселок Сиверский',\n",
       "       'поселок Молодцово', 'поселок Кузьмоловский',\n",
       "       'садовое товарищество Новая Ропша', 'Павловск',\n",
       "       'деревня Пикколово', 'Всеволожск', 'Волхов', 'Кингисепп',\n",
       "       'Приозерск', 'Сестрорецк', 'деревня Куттузи', 'поселок Аннино',\n",
       "       'поселок Ефимовский', 'поселок Плодовое', 'деревня Заклинье',\n",
       "       'поселок Торковичи', 'поселок Первомайское', 'Красное Село',\n",
       "       'поселок Понтонный', 'Сясьстрой', 'деревня Старая',\n",
       "       'деревня Лесколово', 'поселок Новый Свет', 'Сланцы',\n",
       "       'село Путилово', 'Ивангород', 'Мурино', 'Шлиссельбург',\n",
       "       'Никольское', 'Зеленогорск', 'Сосновый Бор', 'деревня Оржицы',\n",
       "       'деревня Кальтино', 'Кудрово', 'поселок Романовка',\n",
       "       'поселок Бугры', 'поселок Рощино', 'Кириши', 'Луга', 'Волосово',\n",
       "       'Отрадное', 'село Павлово', 'поселок Оредеж', 'село Копорье',\n",
       "       'поселок Молодёжное', 'Тихвин', 'поселок Победа', 'деревня Нурма',\n",
       "       'поселок Синявино', 'Тосно', 'поселок Стрельна', 'Бокситогорск',\n",
       "       'поселок Александровская', 'деревня Лопухинка', 'Пикалёво',\n",
       "       'поселок Терволово', 'поселок Советский', 'Подпорожье',\n",
       "       'поселок Петровское', 'поселок Токсово', 'поселок Сельцо',\n",
       "       'поселок Вырица', 'деревня Кипень', 'деревня Келози',\n",
       "       'деревня Вартемяги', 'поселок Тельмана', 'поселок Севастьяново',\n",
       "       'поселок Большая Ижора', nan, 'поселок Павлово',\n",
       "       'деревня Агалатово', 'поселок Новогорелово', 'поселок Лесогорский',\n",
       "       'деревня Лаголово', 'поселок Цвелодубово', 'поселок Рахья',\n",
       "       'деревня Белогорка', 'поселок Заводской', 'поселок Новоселье',\n",
       "       'деревня Большие Колпаны', 'деревня Горбунки', 'деревня Батово',\n",
       "       'деревня Заневка', 'деревня Иссад', 'Приморск',\n",
       "       'поселок Фёдоровское', 'деревня Мистолово', 'Новая Ладога',\n",
       "       'поселок Зимитицы', 'поселок Барышево', 'деревня Разметелево',\n",
       "       'поселок имени Свердлова', 'деревня Пеники', 'поселок Рябово',\n",
       "       'деревня Пудомяги', 'поселок станции Корнево', 'деревня Низино',\n",
       "       'деревня Бегуницы', 'поселок Поляны', 'поселок Мга',\n",
       "       'поселок Елизаветино', 'поселок Кузнечное', 'деревня Колтуши',\n",
       "       'поселок Запорожское', 'деревня Гостилицы',\n",
       "       'деревня Малое Карлино', 'поселок Мичуринское',\n",
       "       'поселок имени Морозова', 'поселок Песочный', 'поселок Сосново',\n",
       "       'деревня Аро', 'поселок Ильичёво', 'поселок Тайцы',\n",
       "       'деревня Малое Верево', 'деревня Извара', 'поселок станции Вещево',\n",
       "       'село Паша', 'деревня Калитино', 'поселок Ульяновка',\n",
       "       'деревня Чудской Бор', 'поселок Дубровка', 'деревня Мины',\n",
       "       'поселок Войсковицы', 'деревня Коркино', 'поселок Ропша',\n",
       "       'поселок Приладожский', 'поселок Щеглово', 'поселок Гаврилово',\n",
       "       'Лодейное Поле', 'деревня Рабитицы', 'поселок Никольский',\n",
       "       'деревня Кузьмолово', 'деревня Малые Колпаны',\n",
       "       'поселок Петро-Славянка', 'поселок Назия', 'поселок Репино',\n",
       "       'поселок Углово', 'поселок Старая Малукса',\n",
       "       'садовое товарищество Рахья', 'деревня Меньково',\n",
       "       'деревня Старые Бегуницы', 'поселок Сапёрный', 'поселок Семрино',\n",
       "       'поселок Глажево', 'поселок Кобринское', 'деревня Гарболово',\n",
       "       'деревня Юкки', 'поселок станции Приветнинское',\n",
       "       'деревня Мануйлово', 'деревня Пчева', 'поселок Цвылёво',\n",
       "       'поселок Мельниково', 'поселок Пудость', 'поселок Усть-Луга',\n",
       "       'Светогорск', 'Любань', 'поселок Селезнёво', 'Каменногорск',\n",
       "       'деревня Кривко', 'поселок Глебычево', 'деревня Парицы',\n",
       "       'поселок Жилпоселок', 'поселок Войскорово', 'село Никольское',\n",
       "       'поселок Стеклянный', 'поселок Важины', 'поселок Мыза-Ивановка',\n",
       "       'село Русско-Высоцкое', 'поселок Форносово', 'село Старая Ладога',\n",
       "       'поселок Житково', 'поселок Виллози', 'деревня Лампово',\n",
       "       'деревня Шпаньково', 'деревня Лаврики', 'поселок Сумино',\n",
       "       'поселок Возрождение', 'деревня Старосиверская',\n",
       "       'поселок Кикерино', 'деревня Старое Хинколово',\n",
       "       'поселок Пригородный', 'поселок Торфяное', 'поселок Будогощь',\n",
       "       'поселок Суходолье', 'поселок Красная Долина', 'деревня Хапо-Ое',\n",
       "       'поселок Дружная Горка', 'поселок Лисий Нос', 'деревня Яльгелево',\n",
       "       'село Рождествено', 'деревня Старополье', 'поселок Левашово',\n",
       "       'деревня Сяськелево', 'деревня Камышовка',\n",
       "       'садоводческое некоммерческое товарищество Лесная Поляна',\n",
       "       'деревня Хязельки', 'поселок Жилгородок', 'деревня Ялгино',\n",
       "       'поселок Новый Учхоз', 'поселок Гончарово', 'поселок Почап',\n",
       "       'поселок Сапёрное', 'поселок Платформа 69-й километр',\n",
       "       'поселок Каложицы', 'деревня Фалилеево', 'деревня Пельгора',\n",
       "       'деревня Торошковичи', 'поселок Белоостров', 'поселок Алексеевка',\n",
       "       'поселок Серебрянский', 'поселок Лукаши', 'деревня Щеглово',\n",
       "       'деревня Тарасово', 'поселок Кингисеппский',\n",
       "       'поселок при железнодорожной станции Вещево', 'поселок Ушаки',\n",
       "       'деревня Котлы', 'деревня Сижно', 'деревня Торосово',\n",
       "       'поселок Форт Красная Горка', 'деревня Новолисино',\n",
       "       'поселок станции Громово', 'деревня Глинка',\n",
       "       'деревня Старая Пустошь', 'поселок Коммунары', 'поселок Починок',\n",
       "       'поселок Вознесенье', 'деревня Разбегаево', 'поселок Гладкое',\n",
       "       'поселок при железнодорожной станции Приветнинское',\n",
       "       'поселок Тёсово-4', 'деревня Бор', 'поселок Коробицыно',\n",
       "       'деревня Большая Вруда', 'деревня Курковицы', 'поселок Кобралово',\n",
       "       'деревня Суоранда', 'поселок Кондратьево', 'поселок Счастье',\n",
       "       'поселок Любань', 'деревня Реброво', 'деревня Зимитицы',\n",
       "       'деревня Тойворово', 'поселок Семиозерье', 'поселок Лесное',\n",
       "       'поселок Совхозный', 'поселок Ленинское', 'поселок Суйда',\n",
       "       'деревня Нижние Осельки', 'поселок станции Свирь',\n",
       "       'поселок Перово', 'Высоцк', 'поселок Гарболово', 'село Шум',\n",
       "       'поселок Котельский', 'поселок станции Лужайка',\n",
       "       'деревня Большая Пустомержа', 'поселок Красносельское',\n",
       "       'деревня Вахнова Кара', 'деревня Пижма', 'поселок Кивеннапа Север',\n",
       "       'поселок Ромашки', 'деревня Каськово', 'деревня Куровицы',\n",
       "       'поселок Плоское', 'поселок Кирпичное', 'деревня Ям-Тесово',\n",
       "       'деревня Раздолье', 'деревня Терпилицы', 'поселок Шугозеро',\n",
       "       'деревня Ваганово', 'поселок Пушное', 'садовое товарищество Садко',\n",
       "       'поселок Усть-Ижора', 'деревня Выскатка', 'поселок Свирьстрой',\n",
       "       'поселок Громово', 'деревня Кисельня', 'деревня Трубников Бор',\n",
       "       'поселок Калитино', 'поселок Высокоключевой',\n",
       "       'садовое товарищество Приладожский',\n",
       "       'поселок Пансионат Зелёный Бор', 'деревня Ненимяки',\n",
       "       'деревня Снегирёвка', 'деревня Рапполово', 'деревня Пустынка',\n",
       "       'поселок Рабитицы', 'деревня Большой Сабск', 'деревня Русско',\n",
       "       'деревня Лупполово', 'деревня Большое Рейзино',\n",
       "       'деревня Малая Романовка', 'поселок Дружноселье', 'поселок Пчевжа',\n",
       "       'поселок Володарское', 'деревня Нижняя', 'деревня Тихковицы',\n",
       "       'деревня Борисова Грива', 'поселок Дзержинского'], dtype=object)"
      ]
     },
     "execution_count": 5,
     "metadata": {},
     "output_type": "execute_result"
    }
   ],
   "source": [
    "# Находим уникальные значения в столбце названий населенных пунктов - 'locality_name'\n",
    "print(data['locality_name'].unique())\n",
    "# Удаляем неявные дубликаты\n",
    "for_delete = ['посёлок', 'городской посёлок', 'городской поселок', 'коттеджный посёлок', 'коттеджный поселок', 'посёлок городского типа', 'поселок городского типа', 'городской поселок']\n",
    "for p in for_delete:\n",
    "    data['locality_name'] = data['locality_name'].str.replace(p, 'поселок')\n",
    "# Проверяем удаление неявных дубликатов\n",
    "data['locality_name'].unique()"
   ]
  },
  {
   "cell_type": "code",
   "execution_count": 6,
   "metadata": {},
   "outputs": [
    {
     "name": "stdout",
     "output_type": "stream",
     "text": [
      "total_images            23699\n",
      "last_price              23699\n",
      "total_area              23699\n",
      "first_day_exposition    23699\n",
      "rooms                   23699\n",
      "ceiling_height          14504\n",
      "floors_total            23613\n",
      "living_area             21796\n",
      "floor                   23699\n",
      "is_apartment             2775\n",
      "studio                  23699\n",
      "open_plan               23699\n",
      "kitchen_area            21421\n",
      "balcony                 12180\n",
      "locality_name           23650\n",
      "airports_nearest        18157\n",
      "cityCenters_nearest     18180\n",
      "parks_around3000        18181\n",
      "parks_nearest            8079\n",
      "ponds_around3000        18181\n",
      "ponds_nearest            9110\n",
      "days_exposition         20518\n",
      "dtype: int64\n"
     ]
    }
   ],
   "source": [
    "# Выявление пропусков в столбцах, их заполнение\n",
    "print(data[data.isna() == False].count()) # 14 из 22 столбцов имеют пропуски"
   ]
  },
  {
   "cell_type": "code",
   "execution_count": 7,
   "metadata": {
    "scrolled": false
   },
   "outputs": [],
   "source": [
    "columns_for_filling_null = ['balcony', 'is_apartment']\n",
    "\n",
    "for col_1 in columns_for_filling_null:\n",
    "    data[col_1] = data[col_1].fillna(0)\n",
    "\n",
    "columns_for_filling_median = ['ceiling_height', 'airports_nearest', 'cityCenters_nearest', 'parks_nearest', 'ponds_nearest']\n",
    "\n",
    "for col_2 in columns_for_filling_median:\n",
    "    data[col_2] = data[col_2].fillna(data[col_2].median())\n",
    "\n",
    "data['living_area'] = data['living_area'].fillna(data['total_area'])  # Пропуски заполнили значениями из столбца 'total_area'"
   ]
  },
  {
   "cell_type": "markdown",
   "metadata": {},
   "source": [
    "1. Пропуски в столбце `'balcony'` - 'балкон' могут означать, что в квартире/апартаментах он отсуствует, поэтому мы заменили их на `0`.\n",
    "2. Столбец `'is_apartment'` - 'апартаменты' - пропуски скорее всего означают, что данный тип недвижимости - квартира, а не апартамент. В доказательство могу привести такой факт: доля апартаментов из всей недвижимости Санкт-Петербурга составляет `9-10%` (данные на 2018 год, СМИ). Количество заполненных значений столбца `'is_apartment'` в исходных данных составляло около `2700` значений (`11,3%` от всех строк), из них 50 - апартаменты, остальное - квартиры. Отсюда вычисляем, что доля апартаментов составляет около `11%`: такая цифра, исходя из оценок СМИ выше, выглядит правдоподобно.\n",
    "3. Остальные пропуски объясняются человеческим фактором и потерей данных при выгрузке. В связи с этим, пропуски в количественных значениях были заполнены медианными значениями каждого столбца соответственно (речь идет о столбцах: `'ceiling_height'`,  `'airports_nearest'`, `'cityCenters_nearest'`, `'parks_nearest'`, `'ponds_nearest'`). \n"
   ]
  },
  {
   "cell_type": "code",
   "execution_count": 8,
   "metadata": {},
   "outputs": [
    {
     "data": {
      "text/plain": [
       "total_images              int64\n",
       "last_price              float64\n",
       "total_area              float64\n",
       "first_day_exposition     object\n",
       "rooms                     int64\n",
       "ceiling_height          float64\n",
       "floors_total            float64\n",
       "living_area             float64\n",
       "floor                     int64\n",
       "is_apartment             object\n",
       "studio                     bool\n",
       "open_plan                  bool\n",
       "kitchen_area            float64\n",
       "balcony                 float64\n",
       "locality_name            object\n",
       "airports_nearest        float64\n",
       "cityCenters_nearest     float64\n",
       "parks_around3000        float64\n",
       "parks_nearest           float64\n",
       "ponds_around3000        float64\n",
       "ponds_nearest           float64\n",
       "days_exposition         float64\n",
       "dtype: object"
      ]
     },
     "execution_count": 8,
     "metadata": {},
     "output_type": "execute_result"
    }
   ],
   "source": [
    "# Смотрим на тип данных каждого столбца\n",
    "data.dtypes"
   ]
  },
  {
   "cell_type": "code",
   "execution_count": 9,
   "metadata": {},
   "outputs": [],
   "source": [
    "data['first_day_exposition'] = pd.to_datetime(data['first_day_exposition'], format='%Y-%m-%dT%H:%M:%S') # Меняем тип данных даты публикации \n",
    "columns_for_retype_int32 = ['is_apartment', 'balcony', 'airports_nearest', 'cityCenters_nearest', 'ponds_nearest', 'parks_nearest', 'floor', 'rooms', 'total_images']\n",
    "for col in columns_for_retype_int32: # Меняем тип данных некоторых столбцов на целочисленный\n",
    "    data[col] = data[col].astype('int32')\n",
    "columns_for_retype_float32 = ['total_area', 'ceiling_height', 'living_area', 'last_price', 'total_area']\n",
    "for col2 in columns_for_retype_float32:\n",
    "    data[col2] = data[col2].astype('float32')"
   ]
  },
  {
   "cell_type": "code",
   "execution_count": 10,
   "metadata": {},
   "outputs": [
    {
     "data": {
      "text/plain": [
       "total_images                     int32\n",
       "last_price                     float32\n",
       "total_area                     float32\n",
       "first_day_exposition    datetime64[ns]\n",
       "rooms                            int32\n",
       "ceiling_height                 float32\n",
       "floors_total                   float64\n",
       "living_area                    float32\n",
       "floor                            int32\n",
       "is_apartment                     int32\n",
       "studio                            bool\n",
       "open_plan                         bool\n",
       "kitchen_area                   float64\n",
       "balcony                          int32\n",
       "locality_name                   object\n",
       "airports_nearest                 int32\n",
       "cityCenters_nearest              int32\n",
       "parks_around3000               float64\n",
       "parks_nearest                    int32\n",
       "ponds_around3000               float64\n",
       "ponds_nearest                    int32\n",
       "days_exposition                float64\n",
       "dtype: object"
      ]
     },
     "execution_count": 10,
     "metadata": {},
     "output_type": "execute_result"
    }
   ],
   "source": [
    "# Проверка изменений    \n",
    "data.dtypes"
   ]
  },
  {
   "cell_type": "markdown",
   "metadata": {},
   "source": [
    "Тип данных в некоторых столбцах поменяли для:\n",
    "1. Экономии памяти;\n",
    "2. Оптимизации работы кода."
   ]
  },
  {
   "cell_type": "code",
   "execution_count": 11,
   "metadata": {},
   "outputs": [
    {
     "data": {
      "image/png": "[encoded data removed]",
      "text/plain": [
       "<Figure size 640x480 with 1 Axes>"
      ]
     },
     "metadata": {},
     "output_type": "display_data"
    }
   ],
   "source": [
    "# Выявление аномальных значений \n",
    "data.boxplot(column='balcony')\n",
    "data = data[data['balcony'] < 3] # Оставляем в датафрейме только те квартиры, у которых количество балконов меньше 3"
   ]
  },
  {
   "cell_type": "code",
   "execution_count": 12,
   "metadata": {},
   "outputs": [
    {
     "name": "stdout",
     "output_type": "stream",
     "text": [
      "(23131, 22)\n"
     ]
    }
   ],
   "source": [
    "print(data.shape)"
   ]
  },
  {
   "cell_type": "code",
   "execution_count": 13,
   "metadata": {},
   "outputs": [
    {
     "data": {
      "image/png": "[encoded data removed]",
      "text/plain": [
       "<Figure size 640x480 with 1 Axes>"
      ]
     },
     "metadata": {},
     "output_type": "display_data"
    }
   ],
   "source": [
    "# Выявление аномалий\n",
    "data.boxplot(column='ceiling_height') \n",
    "plt.show()"
   ]
  },
  {
   "cell_type": "code",
   "execution_count": 14,
   "metadata": {},
   "outputs": [],
   "source": [
    "# Оставляем те квартиры, где высота потолков идет от 2.5 метров\n",
    "data.loc[data['ceiling_height'] > 20, 'ceiling_height'] = data.loc[data['ceiling_height'] > 20, 'ceiling_height'] / 10 \n",
    "data = data[(data['ceiling_height'] >= 2.5) & (data['ceiling_height'] < 5)]"
   ]
  },
  {
   "cell_type": "code",
   "execution_count": 15,
   "metadata": {},
   "outputs": [
    {
     "data": {
      "image/png": "[encoded data removed]",
      "text/plain": [
       "<Figure size 640x480 with 1 Axes>"
      ]
     },
     "metadata": {},
     "output_type": "display_data"
    }
   ],
   "source": [
    "data.boxplot(column='floor')\n",
    "plt.show()"
   ]
  },
  {
   "cell_type": "code",
   "execution_count": 16,
   "metadata": {
    "scrolled": false
   },
   "outputs": [
    {
     "data": {
      "text/plain": [
       "count    20797.000000\n",
       "mean        10.507239\n",
       "std          5.808720\n",
       "min          1.300000\n",
       "25%          7.000000\n",
       "50%          9.000000\n",
       "75%         12.000000\n",
       "max        112.000000\n",
       "Name: kitchen_area, dtype: float64"
      ]
     },
     "execution_count": 16,
     "metadata": {},
     "output_type": "execute_result"
    },
    {
     "data": {
      "image/png": "[encoded data removed]",
      "text/plain": [
       "<Figure size 640x480 with 1 Axes>"
      ]
     },
     "metadata": {},
     "output_type": "display_data"
    }
   ],
   "source": [
    "data.boxplot(column='kitchen_area') # Анамолий по площадям кухни нет\n",
    "data['kitchen_area'].describe()"
   ]
  },
  {
   "cell_type": "markdown",
   "metadata": {},
   "source": [
    "**Вывод:**\n",
    "- Удалили неявные дубликаты в столбце `locality_name`;\n",
    "- Заполнили пропуски в столбцах;\n",
    "- Изменили типы данных некоторых столбцов для экономии памяти и корректной работы;\n",
    "- Оставили только те квартиры, где высота потолков идет от `2.5` метров."
   ]
  },
  {
   "cell_type": "markdown",
   "metadata": {},
   "source": [
    "## 3. Добавление новых столбцов в таблицу"
   ]
  },
  {
   "cell_type": "code",
   "execution_count": 17,
   "metadata": {},
   "outputs": [],
   "source": [
    "data['one_meter_price'] = data['last_price'] / data['total_area'] # Цена одного квадратного метра\n",
    "data['day_of_the_week'] = data['first_day_exposition'].dt.dayofweek # День недели\n",
    "data['month'] = data['first_day_exposition'].dt.month # Месяц публикации объявления\n",
    "data['year'] = data['first_day_exposition'].dt.year # Год публикации объявления\n",
    "def type_of_floor(floor, y): # Функция для определения типа этажа\n",
    "    if floor == 1:\n",
    "        return 'первый'\n",
    "    if floor == y:\n",
    "        return 'последний'\n",
    "    else:\n",
    "        return 'другой'\n",
    "data['floor_type'] = data.apply(lambda floor: type_of_floor(floor['floor'], floor['floors_total']), axis =  1) # Тип этажа\n",
    "data['cityCenters_nearest_km'] = round(data['cityCenters_nearest'] / 1000) # Расстояние до центра в км"
   ]
  },
  {
   "cell_type": "code",
   "execution_count": 18,
   "metadata": {},
   "outputs": [
    {
     "data": {
      "text/html": [
       "<div>\n",
       "<style scoped>\n",
       "    .dataframe tbody tr th:only-of-type {\n",
       "        vertical-align: middle;\n",
       "    }\n",
       "\n",
       "    .dataframe tbody tr th {\n",
       "        vertical-align: top;\n",
       "    }\n",
       "\n",
       "    .dataframe thead th {\n",
       "        text-align: right;\n",
       "    }\n",
       "</style>\n",
       "<table border=\"1\" class=\"dataframe\">\n",
       "  <thead>\n",
       "    <tr style=\"text-align: right;\">\n",
       "      <th></th>\n",
       "      <th>total_images</th>\n",
       "      <th>last_price</th>\n",
       "      <th>total_area</th>\n",
       "      <th>first_day_exposition</th>\n",
       "      <th>rooms</th>\n",
       "      <th>ceiling_height</th>\n",
       "      <th>floors_total</th>\n",
       "      <th>living_area</th>\n",
       "      <th>floor</th>\n",
       "      <th>is_apartment</th>\n",
       "      <th>...</th>\n",
       "      <th>parks_nearest</th>\n",
       "      <th>ponds_around3000</th>\n",
       "      <th>ponds_nearest</th>\n",
       "      <th>days_exposition</th>\n",
       "      <th>one_meter_price</th>\n",
       "      <th>day_of_the_week</th>\n",
       "      <th>month</th>\n",
       "      <th>year</th>\n",
       "      <th>floor_type</th>\n",
       "      <th>cityCenters_nearest_km</th>\n",
       "    </tr>\n",
       "  </thead>\n",
       "  <tbody>\n",
       "    <tr>\n",
       "      <th>0</th>\n",
       "      <td>20</td>\n",
       "      <td>13000000.0</td>\n",
       "      <td>108.000000</td>\n",
       "      <td>2019-03-07</td>\n",
       "      <td>3</td>\n",
       "      <td>2.70</td>\n",
       "      <td>16.0</td>\n",
       "      <td>51.000000</td>\n",
       "      <td>8</td>\n",
       "      <td>0</td>\n",
       "      <td>...</td>\n",
       "      <td>482</td>\n",
       "      <td>2.0</td>\n",
       "      <td>755</td>\n",
       "      <td>NaN</td>\n",
       "      <td>120370.367188</td>\n",
       "      <td>3</td>\n",
       "      <td>3</td>\n",
       "      <td>2019</td>\n",
       "      <td>другой</td>\n",
       "      <td>16.0</td>\n",
       "    </tr>\n",
       "    <tr>\n",
       "      <th>1</th>\n",
       "      <td>7</td>\n",
       "      <td>3350000.0</td>\n",
       "      <td>40.400002</td>\n",
       "      <td>2018-12-04</td>\n",
       "      <td>1</td>\n",
       "      <td>2.65</td>\n",
       "      <td>11.0</td>\n",
       "      <td>18.600000</td>\n",
       "      <td>1</td>\n",
       "      <td>0</td>\n",
       "      <td>...</td>\n",
       "      <td>455</td>\n",
       "      <td>0.0</td>\n",
       "      <td>502</td>\n",
       "      <td>81.0</td>\n",
       "      <td>82920.789062</td>\n",
       "      <td>1</td>\n",
       "      <td>12</td>\n",
       "      <td>2018</td>\n",
       "      <td>первый</td>\n",
       "      <td>19.0</td>\n",
       "    </tr>\n",
       "    <tr>\n",
       "      <th>2</th>\n",
       "      <td>10</td>\n",
       "      <td>5196000.0</td>\n",
       "      <td>56.000000</td>\n",
       "      <td>2015-08-20</td>\n",
       "      <td>2</td>\n",
       "      <td>2.65</td>\n",
       "      <td>5.0</td>\n",
       "      <td>34.299999</td>\n",
       "      <td>4</td>\n",
       "      <td>0</td>\n",
       "      <td>...</td>\n",
       "      <td>90</td>\n",
       "      <td>2.0</td>\n",
       "      <td>574</td>\n",
       "      <td>558.0</td>\n",
       "      <td>92785.710938</td>\n",
       "      <td>3</td>\n",
       "      <td>8</td>\n",
       "      <td>2015</td>\n",
       "      <td>другой</td>\n",
       "      <td>14.0</td>\n",
       "    </tr>\n",
       "    <tr>\n",
       "      <th>3</th>\n",
       "      <td>0</td>\n",
       "      <td>64900000.0</td>\n",
       "      <td>159.000000</td>\n",
       "      <td>2015-07-24</td>\n",
       "      <td>3</td>\n",
       "      <td>2.65</td>\n",
       "      <td>14.0</td>\n",
       "      <td>159.000000</td>\n",
       "      <td>9</td>\n",
       "      <td>0</td>\n",
       "      <td>...</td>\n",
       "      <td>84</td>\n",
       "      <td>3.0</td>\n",
       "      <td>234</td>\n",
       "      <td>424.0</td>\n",
       "      <td>408176.093750</td>\n",
       "      <td>4</td>\n",
       "      <td>7</td>\n",
       "      <td>2015</td>\n",
       "      <td>другой</td>\n",
       "      <td>7.0</td>\n",
       "    </tr>\n",
       "    <tr>\n",
       "      <th>4</th>\n",
       "      <td>2</td>\n",
       "      <td>10000000.0</td>\n",
       "      <td>100.000000</td>\n",
       "      <td>2018-06-19</td>\n",
       "      <td>2</td>\n",
       "      <td>3.03</td>\n",
       "      <td>14.0</td>\n",
       "      <td>32.000000</td>\n",
       "      <td>13</td>\n",
       "      <td>0</td>\n",
       "      <td>...</td>\n",
       "      <td>112</td>\n",
       "      <td>1.0</td>\n",
       "      <td>48</td>\n",
       "      <td>121.0</td>\n",
       "      <td>100000.000000</td>\n",
       "      <td>1</td>\n",
       "      <td>6</td>\n",
       "      <td>2018</td>\n",
       "      <td>другой</td>\n",
       "      <td>8.0</td>\n",
       "    </tr>\n",
       "    <tr>\n",
       "      <th>...</th>\n",
       "      <td>...</td>\n",
       "      <td>...</td>\n",
       "      <td>...</td>\n",
       "      <td>...</td>\n",
       "      <td>...</td>\n",
       "      <td>...</td>\n",
       "      <td>...</td>\n",
       "      <td>...</td>\n",
       "      <td>...</td>\n",
       "      <td>...</td>\n",
       "      <td>...</td>\n",
       "      <td>...</td>\n",
       "      <td>...</td>\n",
       "      <td>...</td>\n",
       "      <td>...</td>\n",
       "      <td>...</td>\n",
       "      <td>...</td>\n",
       "      <td>...</td>\n",
       "      <td>...</td>\n",
       "      <td>...</td>\n",
       "      <td>...</td>\n",
       "    </tr>\n",
       "    <tr>\n",
       "      <th>23694</th>\n",
       "      <td>9</td>\n",
       "      <td>9700000.0</td>\n",
       "      <td>133.809998</td>\n",
       "      <td>2017-03-21</td>\n",
       "      <td>3</td>\n",
       "      <td>3.70</td>\n",
       "      <td>5.0</td>\n",
       "      <td>73.300003</td>\n",
       "      <td>3</td>\n",
       "      <td>0</td>\n",
       "      <td>...</td>\n",
       "      <td>796</td>\n",
       "      <td>3.0</td>\n",
       "      <td>381</td>\n",
       "      <td>NaN</td>\n",
       "      <td>72490.843750</td>\n",
       "      <td>1</td>\n",
       "      <td>3</td>\n",
       "      <td>2017</td>\n",
       "      <td>другой</td>\n",
       "      <td>4.0</td>\n",
       "    </tr>\n",
       "    <tr>\n",
       "      <th>23695</th>\n",
       "      <td>14</td>\n",
       "      <td>3100000.0</td>\n",
       "      <td>59.000000</td>\n",
       "      <td>2018-01-15</td>\n",
       "      <td>3</td>\n",
       "      <td>2.65</td>\n",
       "      <td>5.0</td>\n",
       "      <td>38.000000</td>\n",
       "      <td>4</td>\n",
       "      <td>0</td>\n",
       "      <td>...</td>\n",
       "      <td>455</td>\n",
       "      <td>NaN</td>\n",
       "      <td>502</td>\n",
       "      <td>45.0</td>\n",
       "      <td>52542.371094</td>\n",
       "      <td>0</td>\n",
       "      <td>1</td>\n",
       "      <td>2018</td>\n",
       "      <td>другой</td>\n",
       "      <td>13.0</td>\n",
       "    </tr>\n",
       "    <tr>\n",
       "      <th>23696</th>\n",
       "      <td>18</td>\n",
       "      <td>2500000.0</td>\n",
       "      <td>56.700001</td>\n",
       "      <td>2018-02-11</td>\n",
       "      <td>2</td>\n",
       "      <td>2.65</td>\n",
       "      <td>3.0</td>\n",
       "      <td>29.700001</td>\n",
       "      <td>1</td>\n",
       "      <td>0</td>\n",
       "      <td>...</td>\n",
       "      <td>455</td>\n",
       "      <td>NaN</td>\n",
       "      <td>502</td>\n",
       "      <td>NaN</td>\n",
       "      <td>44091.710938</td>\n",
       "      <td>6</td>\n",
       "      <td>2</td>\n",
       "      <td>2018</td>\n",
       "      <td>первый</td>\n",
       "      <td>13.0</td>\n",
       "    </tr>\n",
       "    <tr>\n",
       "      <th>23697</th>\n",
       "      <td>13</td>\n",
       "      <td>11475000.0</td>\n",
       "      <td>76.750000</td>\n",
       "      <td>2017-03-28</td>\n",
       "      <td>2</td>\n",
       "      <td>3.00</td>\n",
       "      <td>17.0</td>\n",
       "      <td>76.750000</td>\n",
       "      <td>12</td>\n",
       "      <td>0</td>\n",
       "      <td>...</td>\n",
       "      <td>173</td>\n",
       "      <td>3.0</td>\n",
       "      <td>196</td>\n",
       "      <td>602.0</td>\n",
       "      <td>149511.406250</td>\n",
       "      <td>1</td>\n",
       "      <td>3</td>\n",
       "      <td>2017</td>\n",
       "      <td>другой</td>\n",
       "      <td>10.0</td>\n",
       "    </tr>\n",
       "    <tr>\n",
       "      <th>23698</th>\n",
       "      <td>4</td>\n",
       "      <td>1350000.0</td>\n",
       "      <td>32.299999</td>\n",
       "      <td>2017-07-21</td>\n",
       "      <td>1</td>\n",
       "      <td>2.50</td>\n",
       "      <td>5.0</td>\n",
       "      <td>12.300000</td>\n",
       "      <td>1</td>\n",
       "      <td>0</td>\n",
       "      <td>...</td>\n",
       "      <td>455</td>\n",
       "      <td>NaN</td>\n",
       "      <td>502</td>\n",
       "      <td>NaN</td>\n",
       "      <td>41795.667969</td>\n",
       "      <td>4</td>\n",
       "      <td>7</td>\n",
       "      <td>2017</td>\n",
       "      <td>первый</td>\n",
       "      <td>13.0</td>\n",
       "    </tr>\n",
       "  </tbody>\n",
       "</table>\n",
       "<p>23046 rows × 28 columns</p>\n",
       "</div>"
      ],
      "text/plain": [
       "       total_images  last_price  total_area first_day_exposition  rooms  \\\n",
       "0                20  13000000.0  108.000000           2019-03-07      3   \n",
       "1                 7   3350000.0   40.400002           2018-12-04      1   \n",
       "2                10   5196000.0   56.000000           2015-08-20      2   \n",
       "3                 0  64900000.0  159.000000           2015-07-24      3   \n",
       "4                 2  10000000.0  100.000000           2018-06-19      2   \n",
       "...             ...         ...         ...                  ...    ...   \n",
       "23694             9   9700000.0  133.809998           2017-03-21      3   \n",
       "23695            14   3100000.0   59.000000           2018-01-15      3   \n",
       "23696            18   2500000.0   56.700001           2018-02-11      2   \n",
       "23697            13  11475000.0   76.750000           2017-03-28      2   \n",
       "23698             4   1350000.0   32.299999           2017-07-21      1   \n",
       "\n",
       "       ceiling_height  floors_total  living_area  floor  is_apartment  ...  \\\n",
       "0                2.70          16.0    51.000000      8             0  ...   \n",
       "1                2.65          11.0    18.600000      1             0  ...   \n",
       "2                2.65           5.0    34.299999      4             0  ...   \n",
       "3                2.65          14.0   159.000000      9             0  ...   \n",
       "4                3.03          14.0    32.000000     13             0  ...   \n",
       "...               ...           ...          ...    ...           ...  ...   \n",
       "23694            3.70           5.0    73.300003      3             0  ...   \n",
       "23695            2.65           5.0    38.000000      4             0  ...   \n",
       "23696            2.65           3.0    29.700001      1             0  ...   \n",
       "23697            3.00          17.0    76.750000     12             0  ...   \n",
       "23698            2.50           5.0    12.300000      1             0  ...   \n",
       "\n",
       "       parks_nearest  ponds_around3000  ponds_nearest  days_exposition  \\\n",
       "0                482               2.0            755              NaN   \n",
       "1                455               0.0            502             81.0   \n",
       "2                 90               2.0            574            558.0   \n",
       "3                 84               3.0            234            424.0   \n",
       "4                112               1.0             48            121.0   \n",
       "...              ...               ...            ...              ...   \n",
       "23694            796               3.0            381              NaN   \n",
       "23695            455               NaN            502             45.0   \n",
       "23696            455               NaN            502              NaN   \n",
       "23697            173               3.0            196            602.0   \n",
       "23698            455               NaN            502              NaN   \n",
       "\n",
       "      one_meter_price  day_of_the_week  month  year  floor_type  \\\n",
       "0       120370.367188                3      3  2019      другой   \n",
       "1        82920.789062                1     12  2018      первый   \n",
       "2        92785.710938                3      8  2015      другой   \n",
       "3       408176.093750                4      7  2015      другой   \n",
       "4       100000.000000                1      6  2018      другой   \n",
       "...               ...              ...    ...   ...         ...   \n",
       "23694    72490.843750                1      3  2017      другой   \n",
       "23695    52542.371094                0      1  2018      другой   \n",
       "23696    44091.710938                6      2  2018      первый   \n",
       "23697   149511.406250                1      3  2017      другой   \n",
       "23698    41795.667969                4      7  2017      первый   \n",
       "\n",
       "       cityCenters_nearest_km  \n",
       "0                        16.0  \n",
       "1                        19.0  \n",
       "2                        14.0  \n",
       "3                         7.0  \n",
       "4                         8.0  \n",
       "...                       ...  \n",
       "23694                     4.0  \n",
       "23695                    13.0  \n",
       "23696                    13.0  \n",
       "23697                    10.0  \n",
       "23698                    13.0  \n",
       "\n",
       "[23046 rows x 28 columns]"
      ]
     },
     "execution_count": 18,
     "metadata": {},
     "output_type": "execute_result"
    }
   ],
   "source": [
    "data "
   ]
  },
  {
   "cell_type": "markdown",
   "metadata": {},
   "source": [
    "## 4. Исследовательский анализ данных"
   ]
  },
  {
   "cell_type": "code",
   "execution_count": 19,
   "metadata": {},
   "outputs": [
    {
     "data": {
      "image/png": "[encoded data removed]",
      "text/plain": [
       "<Figure size 640x480 with 1 Axes>"
      ]
     },
     "metadata": {},
     "output_type": "display_data"
    },
    {
     "data": {
      "image/png": "[encoded data removed]",
      "text/plain": [
       "<Figure size 640x480 with 1 Axes>"
      ]
     },
     "metadata": {},
     "output_type": "display_data"
    },
    {
     "data": {
      "image/png": "[encoded data removed]",
      "text/plain": [
       "<Figure size 640x480 with 1 Axes>"
      ]
     },
     "metadata": {},
     "output_type": "display_data"
    }
   ],
   "source": [
    "fig, ax = plt.subplots()\n",
    "data['total_area'].plot(kind='hist', title='total_area', xlim=(0, 300), bins=100) # Гистограмма общей площади\n",
    "ax.set_xlabel('Вся площадь')\n",
    "ax.set_ylabel('Частота')\n",
    "plt.show()\n",
    "fig, ax = plt.subplots()\n",
    "data['living_area'].plot(kind='hist', title='living_area', xlim=(0, 200), bins=100) # Гистограмма жилой площади\n",
    "ax.set_xlabel('Жилая площадь')\n",
    "ax.set_ylabel('Частота')\n",
    "plt.show()\n",
    "fig, ax = plt.subplots()\n",
    "data['kitchen_area'].plot(kind='hist', title='kitchen_area', xlim=(0, 50), bins=100) # Гистограмма кухонной площади\n",
    "ax.set_xlabel('Площадь кухни')\n",
    "ax.set_ylabel('Частота')\n",
    "plt.show()"
   ]
  },
  {
   "cell_type": "code",
   "execution_count": 20,
   "metadata": {},
   "outputs": [
    {
     "data": {
      "image/png": "[encoded data removed]",
      "text/plain": [
       "<Figure size 640x480 with 1 Axes>"
      ]
     },
     "metadata": {},
     "output_type": "display_data"
    },
    {
     "data": {
      "image/png": "[encoded data removed]",
      "text/plain": [
       "<Figure size 640x480 with 1 Axes>"
      ]
     },
     "metadata": {},
     "output_type": "display_data"
    },
    {
     "data": {
      "image/png": "[encoded data removed]",
      "text/plain": [
       "<Figure size 640x480 with 1 Axes>"
      ]
     },
     "metadata": {},
     "output_type": "display_data"
    }
   ],
   "source": [
    "fig, ax = plt.subplots()\n",
    "data['last_price'].plot(kind='hist', title='last_price', xlim=(0, 45000000), bins=300) # Гистограмма цен\n",
    "ax.set_xlabel('Цена на момент снятия с публикации')\n",
    "ax.set_ylabel('Частота')\n",
    "plt.show()\n",
    "fig, ax = plt.subplots()\n",
    "data['rooms'].plot(kind='hist', title='rooms', xlim=(0, 8), bins=20) # Гистограмма количества комнат\n",
    "ax.set_xlabel('Количество комнат')\n",
    "ax.set_ylabel('Частота')\n",
    "plt.show()\n",
    "fig, ax = plt.subplots()\n",
    "data['ceiling_height'].plot(kind='hist', title='ceiling_height', xlim=(2, 6), bins=16) # Гистограммы высот потолков\n",
    "ax.set_xlabel('Высота потолков')\n",
    "ax.set_ylabel('Частота')\n",
    "plt.show()"
   ]
  },
  {
   "cell_type": "code",
   "execution_count": 21,
   "metadata": {},
   "outputs": [
    {
     "data": {
      "image/png": "[encoded data removed]",
      "text/plain": [
       "<Figure size 640x480 with 1 Axes>"
      ]
     },
     "metadata": {},
     "output_type": "display_data"
    },
    {
     "data": {
      "image/png": "[encoded data removed]",
      "text/plain": [
       "<Figure size 640x480 with 1 Axes>"
      ]
     },
     "metadata": {},
     "output_type": "display_data"
    },
    {
     "data": {
      "image/png": "[encoded data removed]",
      "text/plain": [
       "<Figure size 640x480 with 1 Axes>"
      ]
     },
     "metadata": {},
     "output_type": "display_data"
    }
   ],
   "source": [
    "fig, ax = plt.subplots()\n",
    "data['floor'].plot(kind='hist', title='floor', bins=16) # Этажи\n",
    "ax.set_xlabel('Этаж')\n",
    "ax.set_ylabel('Частота')\n",
    "plt.show()\n",
    "fig, ax = plt.subplots()\n",
    "data['floors_total'].plot(kind='hist', title='floors_total', xlim=(0, 40), bins=25) # Гистограмма количества этажей\n",
    "ax.set_xlabel('Количество этажей')\n",
    "ax.set_ylabel('Частота')\n",
    "plt.show()\n",
    "fig, ax = plt.subplots()\n",
    "data['cityCenters_nearest'].plot(kind='hist', title='cityCenters_nearest', bins=20) \n",
    "ax.set_xlabel('Расстояние до центра города (м)')\n",
    "ax.set_ylabel('Частота')\n",
    "plt.show()"
   ]
  },
  {
   "cell_type": "code",
   "execution_count": 22,
   "metadata": {
    "scrolled": false
   },
   "outputs": [
    {
     "data": {
      "image/png": "[encoded data removed]",
      "text/plain": [
       "<Figure size 640x480 with 1 Axes>"
      ]
     },
     "metadata": {},
     "output_type": "display_data"
    },
    {
     "data": {
      "image/png": "[encoded data removed]",
      "text/plain": [
       "<Figure size 640x480 with 1 Axes>"
      ]
     },
     "metadata": {},
     "output_type": "display_data"
    },
    {
     "data": {
      "image/png": "[encoded data removed]",
      "text/plain": [
       "<Figure size 640x480 with 1 Axes>"
      ]
     },
     "metadata": {},
     "output_type": "display_data"
    },
    {
     "data": {
      "image/png": "[encoded data removed]",
      "text/plain": [
       "<Figure size 640x480 with 1 Axes>"
      ]
     },
     "metadata": {},
     "output_type": "display_data"
    }
   ],
   "source": [
    "fig, ax = plt.subplots()\n",
    "data['airports_nearest'].plot(kind='hist', title='airports_nearest', xlim=(0, 80000), bins=20)\n",
    "ax.set_xlabel('Расстояние до ближайшего аэропорта (м)')\n",
    "ax.set_ylabel('Частота')\n",
    "plt.show()\n",
    "fig, ax = plt.subplots()\n",
    "data['parks_nearest'].plot(kind='hist', title='parks_nearest', xlim=(0, 2500), bins=20)\n",
    "ax.set_xlabel('Расстояние до ближайшего парка (м)')\n",
    "ax.set_ylabel('Частота')\n",
    "plt.show()\n",
    "fig, ax = plt.subplots()\n",
    "data['day_of_the_week'].plot(kind='hist', title='day_of_the_week', xlim=(0, 6), bins=7)\n",
    "ax.set_xlabel('День недели')\n",
    "ax.set_ylabel('Частота')\n",
    "plt.show()\n",
    "fig, ax = plt.subplots()\n",
    "data['month'].plot(kind='hist', title='month', xlim=(1, 12), bins=12)\n",
    "ax.set_xlabel('Месяц')\n",
    "ax.set_ylabel('Частота')\n",
    "plt.show()"
   ]
  },
  {
   "cell_type": "markdown",
   "metadata": {},
   "source": [
    "**Вывод:**\n",
    "1. Почти половина квартир стоят от `2,5` до `5` миллионов рублей (около `11` тысяч предложений из `23` тысяч). \n",
    "2. Чем выше этаж, тем меньше предложений о покупке недвижимости.\n",
    "3. Чем больше площадь, тем меньше предложений о покупке недвижимости.\n",
    "4. Чем меньше комнат, тем меншье предложений о покупке недвижимости.\n",
    "5. Подавляющее большинство предложений имеет парк в пешей доступности (расстояние - менее `500` метров).\n",
    "6. В выходные дни люди менее склонны выставлять недвижимость на продажу.\n",
    "7. Чаще всего высота потолков колеблется от `2,5` до `2,75` метров."
   ]
  },
  {
   "cell_type": "code",
   "execution_count": 23,
   "metadata": {},
   "outputs": [
    {
     "data": {
      "image/png": "[encoded data removed]",
      "text/plain": [
       "<Figure size 640x480 with 1 Axes>"
      ]
     },
     "metadata": {},
     "output_type": "display_data"
    }
   ],
   "source": [
    "# Строим гистограмму для столбца days_exposition\n",
    "fig, ax = plt.subplots()\n",
    "data['days_exposition'].plot(kind='hist', title='days_exposition')\n",
    "ax.set_xlabel('Сколько дней было размещено объявление')\n",
    "ax.set_ylabel('Частота')\n",
    "plt.show()"
   ]
  },
  {
   "cell_type": "code",
   "execution_count": 24,
   "metadata": {},
   "outputs": [
    {
     "name": "stdout",
     "output_type": "stream",
     "text": [
      "95.0\n",
      "180.775442809967\n"
     ]
    }
   ],
   "source": [
    "print(data['days_exposition'].median())\n",
    "print(data['days_exposition'].mean())"
   ]
  },
  {
   "cell_type": "markdown",
   "metadata": {},
   "source": [
    "**Вывод:**\n",
    "Обычно продажа недвижимости занимает до `5-6 месяцев`.\n",
    "Самые быстрые продажи - `1-2 дня` (4 случая). Самые долгие продажи - `1572` дня (1 случай)."
   ]
  },
  {
   "cell_type": "code",
   "execution_count": 25,
   "metadata": {},
   "outputs": [
    {
     "data": {
      "text/html": [
       "<div>\n",
       "<style scoped>\n",
       "    .dataframe tbody tr th:only-of-type {\n",
       "        vertical-align: middle;\n",
       "    }\n",
       "\n",
       "    .dataframe tbody tr th {\n",
       "        vertical-align: top;\n",
       "    }\n",
       "\n",
       "    .dataframe thead th {\n",
       "        text-align: right;\n",
       "    }\n",
       "</style>\n",
       "<table border=\"1\" class=\"dataframe\">\n",
       "  <thead>\n",
       "    <tr style=\"text-align: right;\">\n",
       "      <th></th>\n",
       "      <th>total_images</th>\n",
       "      <th>last_price</th>\n",
       "      <th>total_area</th>\n",
       "      <th>rooms</th>\n",
       "      <th>ceiling_height</th>\n",
       "      <th>floors_total</th>\n",
       "      <th>living_area</th>\n",
       "      <th>floor</th>\n",
       "      <th>is_apartment</th>\n",
       "      <th>kitchen_area</th>\n",
       "      <th>...</th>\n",
       "      <th>parks_around3000</th>\n",
       "      <th>parks_nearest</th>\n",
       "      <th>ponds_around3000</th>\n",
       "      <th>ponds_nearest</th>\n",
       "      <th>days_exposition</th>\n",
       "      <th>one_meter_price</th>\n",
       "      <th>day_of_the_week</th>\n",
       "      <th>month</th>\n",
       "      <th>year</th>\n",
       "      <th>cityCenters_nearest_km</th>\n",
       "    </tr>\n",
       "  </thead>\n",
       "  <tbody>\n",
       "    <tr>\n",
       "      <th>count</th>\n",
       "      <td>23046.000000</td>\n",
       "      <td>23046.0</td>\n",
       "      <td>23046.000000</td>\n",
       "      <td>23046.000000</td>\n",
       "      <td>23046.000000</td>\n",
       "      <td>22960.000000</td>\n",
       "      <td>23046.000000</td>\n",
       "      <td>23046.000000</td>\n",
       "      <td>23046.000000</td>\n",
       "      <td>20797.000000</td>\n",
       "      <td>...</td>\n",
       "      <td>17678.000000</td>\n",
       "      <td>23046.000000</td>\n",
       "      <td>17678.000000</td>\n",
       "      <td>23046.000000</td>\n",
       "      <td>19986.000000</td>\n",
       "      <td>2.304600e+04</td>\n",
       "      <td>23046.000000</td>\n",
       "      <td>23046.000000</td>\n",
       "      <td>23046.000000</td>\n",
       "      <td>23046.000000</td>\n",
       "    </tr>\n",
       "    <tr>\n",
       "      <th>mean</th>\n",
       "      <td>9.826217</td>\n",
       "      <td>6446574.5</td>\n",
       "      <td>59.812504</td>\n",
       "      <td>2.054543</td>\n",
       "      <td>2.696141</td>\n",
       "      <td>10.639329</td>\n",
       "      <td>36.446449</td>\n",
       "      <td>5.857068</td>\n",
       "      <td>0.001909</td>\n",
       "      <td>10.507239</td>\n",
       "      <td>...</td>\n",
       "      <td>0.609911</td>\n",
       "      <td>466.983381</td>\n",
       "      <td>0.770279</td>\n",
       "      <td>508.329341</td>\n",
       "      <td>180.775443</td>\n",
       "      <td>9.918855e+04</td>\n",
       "      <td>2.569773</td>\n",
       "      <td>6.402456</td>\n",
       "      <td>2017.364836</td>\n",
       "      <td>13.895079</td>\n",
       "    </tr>\n",
       "    <tr>\n",
       "      <th>std</th>\n",
       "      <td>5.661413</td>\n",
       "      <td>10534745.0</td>\n",
       "      <td>35.292702</td>\n",
       "      <td>1.077722</td>\n",
       "      <td>0.214930</td>\n",
       "      <td>6.595888</td>\n",
       "      <td>25.634356</td>\n",
       "      <td>4.866984</td>\n",
       "      <td>0.043654</td>\n",
       "      <td>5.808720</td>\n",
       "      <td>...</td>\n",
       "      <td>0.802706</td>\n",
       "      <td>200.138496</td>\n",
       "      <td>0.937792</td>\n",
       "      <td>172.367777</td>\n",
       "      <td>219.875626</td>\n",
       "      <td>4.959018e+04</td>\n",
       "      <td>1.787196</td>\n",
       "      <td>3.490397</td>\n",
       "      <td>1.040438</td>\n",
       "      <td>7.574209</td>\n",
       "    </tr>\n",
       "    <tr>\n",
       "      <th>min</th>\n",
       "      <td>0.000000</td>\n",
       "      <td>12190.0</td>\n",
       "      <td>12.000000</td>\n",
       "      <td>0.000000</td>\n",
       "      <td>2.500000</td>\n",
       "      <td>1.000000</td>\n",
       "      <td>2.000000</td>\n",
       "      <td>1.000000</td>\n",
       "      <td>0.000000</td>\n",
       "      <td>1.300000</td>\n",
       "      <td>...</td>\n",
       "      <td>0.000000</td>\n",
       "      <td>1.000000</td>\n",
       "      <td>0.000000</td>\n",
       "      <td>13.000000</td>\n",
       "      <td>1.000000</td>\n",
       "      <td>1.118349e+02</td>\n",
       "      <td>0.000000</td>\n",
       "      <td>1.000000</td>\n",
       "      <td>2014.000000</td>\n",
       "      <td>0.000000</td>\n",
       "    </tr>\n",
       "    <tr>\n",
       "      <th>25%</th>\n",
       "      <td>6.000000</td>\n",
       "      <td>3400000.0</td>\n",
       "      <td>40.000000</td>\n",
       "      <td>1.000000</td>\n",
       "      <td>2.600000</td>\n",
       "      <td>5.000000</td>\n",
       "      <td>19.000000</td>\n",
       "      <td>2.000000</td>\n",
       "      <td>0.000000</td>\n",
       "      <td>7.000000</td>\n",
       "      <td>...</td>\n",
       "      <td>0.000000</td>\n",
       "      <td>455.000000</td>\n",
       "      <td>0.000000</td>\n",
       "      <td>502.000000</td>\n",
       "      <td>45.000000</td>\n",
       "      <td>7.665795e+04</td>\n",
       "      <td>1.000000</td>\n",
       "      <td>3.000000</td>\n",
       "      <td>2017.000000</td>\n",
       "      <td>11.000000</td>\n",
       "    </tr>\n",
       "    <tr>\n",
       "      <th>50%</th>\n",
       "      <td>9.000000</td>\n",
       "      <td>4600000.0</td>\n",
       "      <td>51.299999</td>\n",
       "      <td>2.000000</td>\n",
       "      <td>2.650000</td>\n",
       "      <td>9.000000</td>\n",
       "      <td>31.000000</td>\n",
       "      <td>4.000000</td>\n",
       "      <td>0.000000</td>\n",
       "      <td>9.000000</td>\n",
       "      <td>...</td>\n",
       "      <td>0.000000</td>\n",
       "      <td>455.000000</td>\n",
       "      <td>1.000000</td>\n",
       "      <td>502.000000</td>\n",
       "      <td>95.000000</td>\n",
       "      <td>9.491526e+04</td>\n",
       "      <td>3.000000</td>\n",
       "      <td>6.000000</td>\n",
       "      <td>2017.000000</td>\n",
       "      <td>13.000000</td>\n",
       "    </tr>\n",
       "    <tr>\n",
       "      <th>75%</th>\n",
       "      <td>14.000000</td>\n",
       "      <td>6700000.0</td>\n",
       "      <td>68.900002</td>\n",
       "      <td>3.000000</td>\n",
       "      <td>2.700000</td>\n",
       "      <td>16.000000</td>\n",
       "      <td>43.900002</td>\n",
       "      <td>8.000000</td>\n",
       "      <td>0.000000</td>\n",
       "      <td>12.000000</td>\n",
       "      <td>...</td>\n",
       "      <td>1.000000</td>\n",
       "      <td>455.000000</td>\n",
       "      <td>1.000000</td>\n",
       "      <td>502.000000</td>\n",
       "      <td>231.000000</td>\n",
       "      <td>1.140000e+05</td>\n",
       "      <td>4.000000</td>\n",
       "      <td>10.000000</td>\n",
       "      <td>2018.000000</td>\n",
       "      <td>15.000000</td>\n",
       "    </tr>\n",
       "    <tr>\n",
       "      <th>max</th>\n",
       "      <td>50.000000</td>\n",
       "      <td>763000000.0</td>\n",
       "      <td>900.000000</td>\n",
       "      <td>19.000000</td>\n",
       "      <td>4.900000</td>\n",
       "      <td>60.000000</td>\n",
       "      <td>631.000000</td>\n",
       "      <td>33.000000</td>\n",
       "      <td>1.000000</td>\n",
       "      <td>112.000000</td>\n",
       "      <td>...</td>\n",
       "      <td>3.000000</td>\n",
       "      <td>3190.000000</td>\n",
       "      <td>3.000000</td>\n",
       "      <td>1344.000000</td>\n",
       "      <td>1572.000000</td>\n",
       "      <td>1.907500e+06</td>\n",
       "      <td>6.000000</td>\n",
       "      <td>12.000000</td>\n",
       "      <td>2019.000000</td>\n",
       "      <td>66.000000</td>\n",
       "    </tr>\n",
       "  </tbody>\n",
       "</table>\n",
       "<p>8 rows × 23 columns</p>\n",
       "</div>"
      ],
      "text/plain": [
       "       total_images   last_price    total_area         rooms  ceiling_height  \\\n",
       "count  23046.000000      23046.0  23046.000000  23046.000000    23046.000000   \n",
       "mean       9.826217    6446574.5     59.812504      2.054543        2.696141   \n",
       "std        5.661413   10534745.0     35.292702      1.077722        0.214930   \n",
       "min        0.000000      12190.0     12.000000      0.000000        2.500000   \n",
       "25%        6.000000    3400000.0     40.000000      1.000000        2.600000   \n",
       "50%        9.000000    4600000.0     51.299999      2.000000        2.650000   \n",
       "75%       14.000000    6700000.0     68.900002      3.000000        2.700000   \n",
       "max       50.000000  763000000.0    900.000000     19.000000        4.900000   \n",
       "\n",
       "       floors_total   living_area         floor  is_apartment  kitchen_area  \\\n",
       "count  22960.000000  23046.000000  23046.000000  23046.000000  20797.000000   \n",
       "mean      10.639329     36.446449      5.857068      0.001909     10.507239   \n",
       "std        6.595888     25.634356      4.866984      0.043654      5.808720   \n",
       "min        1.000000      2.000000      1.000000      0.000000      1.300000   \n",
       "25%        5.000000     19.000000      2.000000      0.000000      7.000000   \n",
       "50%        9.000000     31.000000      4.000000      0.000000      9.000000   \n",
       "75%       16.000000     43.900002      8.000000      0.000000     12.000000   \n",
       "max       60.000000    631.000000     33.000000      1.000000    112.000000   \n",
       "\n",
       "       ...  parks_around3000  parks_nearest  ponds_around3000  ponds_nearest  \\\n",
       "count  ...      17678.000000   23046.000000      17678.000000   23046.000000   \n",
       "mean   ...          0.609911     466.983381          0.770279     508.329341   \n",
       "std    ...          0.802706     200.138496          0.937792     172.367777   \n",
       "min    ...          0.000000       1.000000          0.000000      13.000000   \n",
       "25%    ...          0.000000     455.000000          0.000000     502.000000   \n",
       "50%    ...          0.000000     455.000000          1.000000     502.000000   \n",
       "75%    ...          1.000000     455.000000          1.000000     502.000000   \n",
       "max    ...          3.000000    3190.000000          3.000000    1344.000000   \n",
       "\n",
       "       days_exposition  one_meter_price  day_of_the_week         month  \\\n",
       "count     19986.000000     2.304600e+04     23046.000000  23046.000000   \n",
       "mean        180.775443     9.918855e+04         2.569773      6.402456   \n",
       "std         219.875626     4.959018e+04         1.787196      3.490397   \n",
       "min           1.000000     1.118349e+02         0.000000      1.000000   \n",
       "25%          45.000000     7.665795e+04         1.000000      3.000000   \n",
       "50%          95.000000     9.491526e+04         3.000000      6.000000   \n",
       "75%         231.000000     1.140000e+05         4.000000     10.000000   \n",
       "max        1572.000000     1.907500e+06         6.000000     12.000000   \n",
       "\n",
       "               year  cityCenters_nearest_km  \n",
       "count  23046.000000            23046.000000  \n",
       "mean    2017.364836               13.895079  \n",
       "std        1.040438                7.574209  \n",
       "min     2014.000000                0.000000  \n",
       "25%     2017.000000               11.000000  \n",
       "50%     2017.000000               13.000000  \n",
       "75%     2018.000000               15.000000  \n",
       "max     2019.000000               66.000000  \n",
       "\n",
       "[8 rows x 23 columns]"
      ]
     },
     "execution_count": 25,
     "metadata": {},
     "output_type": "execute_result"
    }
   ],
   "source": [
    "# Смотрим наличие выбросов\n",
    "data.describe()"
   ]
  },
  {
   "cell_type": "code",
   "execution_count": 26,
   "metadata": {},
   "outputs": [
    {
     "data": {
      "text/html": [
       "<div>\n",
       "<style scoped>\n",
       "    .dataframe tbody tr th:only-of-type {\n",
       "        vertical-align: middle;\n",
       "    }\n",
       "\n",
       "    .dataframe tbody tr th {\n",
       "        vertical-align: top;\n",
       "    }\n",
       "\n",
       "    .dataframe thead th {\n",
       "        text-align: right;\n",
       "    }\n",
       "</style>\n",
       "<table border=\"1\" class=\"dataframe\">\n",
       "  <thead>\n",
       "    <tr style=\"text-align: right;\">\n",
       "      <th></th>\n",
       "      <th>last_price</th>\n",
       "      <th>total_area</th>\n",
       "      <th>rooms</th>\n",
       "      <th>cityCenters_nearest</th>\n",
       "    </tr>\n",
       "  </thead>\n",
       "  <tbody>\n",
       "    <tr>\n",
       "      <th>last_price</th>\n",
       "      <td>1.000000</td>\n",
       "      <td>0.654088</td>\n",
       "      <td>0.366740</td>\n",
       "      <td>-0.194301</td>\n",
       "    </tr>\n",
       "    <tr>\n",
       "      <th>total_area</th>\n",
       "      <td>0.654088</td>\n",
       "      <td>1.000000</td>\n",
       "      <td>0.759354</td>\n",
       "      <td>-0.214660</td>\n",
       "    </tr>\n",
       "    <tr>\n",
       "      <th>rooms</th>\n",
       "      <td>0.366740</td>\n",
       "      <td>0.759354</td>\n",
       "      <td>1.000000</td>\n",
       "      <td>-0.165500</td>\n",
       "    </tr>\n",
       "    <tr>\n",
       "      <th>cityCenters_nearest</th>\n",
       "      <td>-0.194301</td>\n",
       "      <td>-0.214660</td>\n",
       "      <td>-0.165500</td>\n",
       "      <td>1.000000</td>\n",
       "    </tr>\n",
       "  </tbody>\n",
       "</table>\n",
       "</div>"
      ],
      "text/plain": [
       "                     last_price  total_area     rooms  cityCenters_nearest\n",
       "last_price             1.000000    0.654088  0.366740            -0.194301\n",
       "total_area             0.654088    1.000000  0.759354            -0.214660\n",
       "rooms                  0.366740    0.759354  1.000000            -0.165500\n",
       "cityCenters_nearest   -0.194301   -0.214660 -0.165500             1.000000"
      ]
     },
     "execution_count": 26,
     "metadata": {},
     "output_type": "execute_result"
    },
    {
     "data": {
      "image/png": "[encoded data removed]",
      "text/plain": [
       "<Figure size 1000x1000 with 20 Axes>"
      ]
     },
     "metadata": {},
     "output_type": "display_data"
    }
   ],
   "source": [
    "# Нахождения факторов, которые больше всего влияют на общую (полную) стоимость объекта.\n",
    "corr = data[['last_price', 'total_area', 'rooms', 'cityCenters_nearest']].corr()\n",
    "sns.pairplot(corr)\n",
    "corr"
   ]
  },
  {
   "cell_type": "markdown",
   "metadata": {},
   "source": [
    "1. Между `ценой` и `общей площадью` существует корреляция (коэффициент Пирсона = `0.65). \n",
    "2. Между `ценой` и `количеством комнат` корреляция довольно невелика (коэффициент Пирсона = `0.37`).\n",
    "3. Между `ценой` и `расстоянием до центра города` корреляция очень мала (коэффициент Пирсона = `-0.19`)."
   ]
  },
  {
   "cell_type": "markdown",
   "metadata": {},
   "source": [
    "**Вывод:**\n",
    "`Цена` больше всего зависит от `общей площади недвижимости`, и практически не зависит от `количества комнат в квартире/апартаментах`. Это значит, что в `квартире/апартаментах` может быть `1` или `2` комнаты, но если `общая площадь` будет велика, то и `цена` будет соответственно выше. Между `ценой` и `расстоянием до центра города`прямой зависимости нет."
   ]
  },
  {
   "cell_type": "markdown",
   "metadata": {},
   "source": [
    "\n"
   ]
  },
  {
   "cell_type": "code",
   "execution_count": 27,
   "metadata": {},
   "outputs": [
    {
     "data": {
      "text/html": [
       "<div>\n",
       "<style scoped>\n",
       "    .dataframe tbody tr th:only-of-type {\n",
       "        vertical-align: middle;\n",
       "    }\n",
       "\n",
       "    .dataframe tbody tr th {\n",
       "        vertical-align: top;\n",
       "    }\n",
       "\n",
       "    .dataframe thead th {\n",
       "        text-align: right;\n",
       "    }\n",
       "</style>\n",
       "<table border=\"1\" class=\"dataframe\">\n",
       "  <thead>\n",
       "    <tr style=\"text-align: right;\">\n",
       "      <th></th>\n",
       "      <th>sm_price</th>\n",
       "    </tr>\n",
       "    <tr>\n",
       "      <th>locality_name</th>\n",
       "      <th></th>\n",
       "    </tr>\n",
       "  </thead>\n",
       "  <tbody>\n",
       "    <tr>\n",
       "      <th>Санкт-Петербург</th>\n",
       "      <td>114503</td>\n",
       "    </tr>\n",
       "    <tr>\n",
       "      <th>Пушкин</th>\n",
       "      <td>102720</td>\n",
       "    </tr>\n",
       "    <tr>\n",
       "      <th>деревня Кудрово</th>\n",
       "      <td>92706</td>\n",
       "    </tr>\n",
       "    <tr>\n",
       "      <th>поселок Парголово</th>\n",
       "      <td>90205</td>\n",
       "    </tr>\n",
       "    <tr>\n",
       "      <th>поселок Мурино</th>\n",
       "      <td>85776</td>\n",
       "    </tr>\n",
       "    <tr>\n",
       "      <th>поселок Шушары</th>\n",
       "      <td>78879</td>\n",
       "    </tr>\n",
       "    <tr>\n",
       "      <th>Колпино</th>\n",
       "      <td>75286</td>\n",
       "    </tr>\n",
       "    <tr>\n",
       "      <th>Всеволожск</th>\n",
       "      <td>68771</td>\n",
       "    </tr>\n",
       "    <tr>\n",
       "      <th>Гатчина</th>\n",
       "      <td>68640</td>\n",
       "    </tr>\n",
       "    <tr>\n",
       "      <th>Выборг</th>\n",
       "      <td>58352</td>\n",
       "    </tr>\n",
       "  </tbody>\n",
       "</table>\n",
       "</div>"
      ],
      "text/plain": [
       "                   sm_price\n",
       "locality_name              \n",
       "Санкт-Петербург      114503\n",
       "Пушкин               102720\n",
       "деревня Кудрово       92706\n",
       "поселок Парголово     90205\n",
       "поселок Мурино        85776\n",
       "поселок Шушары        78879\n",
       "Колпино               75286\n",
       "Всеволожск            68771\n",
       "Гатчина               68640\n",
       "Выборг                58352"
      ]
     },
     "execution_count": 27,
     "metadata": {},
     "output_type": "execute_result"
    }
   ],
   "source": [
    "data['sm_price'] = data['last_price'] / data['total_area'] # Создаем столбец со средней ценой кв. метра\n",
    "data['sm_price'] = data['sm_price'].astype(int)\n",
    "city_ten = data['locality_name'].value_counts().head(10) # Находим 10 самых популярных населенных пунктов \n",
    "city_sm_price = data.query('locality_name in (@city_ten.index)').pivot_table(values='sm_price', index='locality_name')\n",
    "city_sm_price = city_sm_price.astype(int)\n",
    "city_sm_price.sort_values('sm_price', ascending=False)"
   ]
  },
  {
   "cell_type": "markdown",
   "metadata": {},
   "source": [
    "**Вывод:**\n",
    "Самый дорогой квадратный метр - в `Санкт-Петербурге `(стоимость кв. метра составляет `114 503 рублей`), самый дешёвый квадратный метр - в `Выборге` (`58 352 рублей`)."
   ]
  },
  {
   "cell_type": "code",
   "execution_count": 28,
   "metadata": {},
   "outputs": [
    {
     "data": {
      "image/png": "[encoded data removed]",
      "text/plain": [
       "<Figure size 1000x500 with 1 Axes>"
      ]
     },
     "metadata": {},
     "output_type": "display_data"
    }
   ],
   "source": [
    "# Добавляем столбец с расстоянием до центра в км, округляем до целого\n",
    "data['center_km'] = data['cityCenters_nearest'] / 1000\n",
    "data['center_km'] = data['center_km'].fillna(value=0).astype(int)\n",
    "# Выбираем Санкт-Петербург, смотрим на график, где указана средняя стоимость для каждого км\n",
    "(\n",
    "    data.query('locality_name == \"Санкт-Петербург\"')\n",
    "    .pivot_table(index='center_km', values='last_price')\n",
    "    .plot(grid=True, style='o-', xlim=(0,15), figsize=(10, 5))\n",
    ")\n",
    "plt.show()"
   ]
  },
  {
   "cell_type": "markdown",
   "metadata": {},
   "source": [
    "**Вывод:**\n",
    "Центром города является окружность радиусом *7 км*. На расстоянии *0-2 км* `цена` растет линейно с приближением к центру, на расстояние *2-4 км* линия роста `цены` становится более плавной. Если подытожить, то можно отметить, что с приближением к центру `цена` возрастает. "
   ]
  },
  {
   "cell_type": "markdown",
   "metadata": {},
   "source": [
    "### Общий вывод"
   ]
  },
  {
   "cell_type": "markdown",
   "metadata": {},
   "source": [
    "1. Были найдены и изучены пропуски в данных: постарался определить их природу, по возможности заполнил данные либо `0` (например, в столбце `'balcony'`), либо медианными значениями по каждому столбцу.\n",
    "2. Исключил неявные дубликаты. Они скрывались в названиях населенных пунктов (столбец `'locality_name'`). \n",
    "3. Для исследовательского анализа были добавлены новые столбцы: `цена одного квадратного метра`, `день недели публикации объявления` (0 — понедельник, 1 — вторник и так далее), `месяц публикации объявления`, `год публикации объявления`, `тип этажа квартиры` (значения — «первый», «последний», «другой»), `расстояние до центра города в километрах` (переведите из м в км и округлите до целых значений)."
   ]
  },
  {
   "cell_type": "markdown",
   "metadata": {},
   "source": [
    "Был проведен исследовательский анализ данных, и вот какие **выводы** получились:\n",
    "1. В основном квартиру продают за `3-4 месяца`. Бывают случаи, когда квартиру удается продать за считанные дни. Но также есть случаи с продажей через `2-3 года`.\n",
    "2. Множество квартир, выставленных на продажу, располагаются на первых этажах. С возратсанием этажей убывает количество предложений.\n",
    "3. Самые дорогой квадратный метр, ожидаемо, в `Санкт-Петербуге` - `114218 рублей`. Самый дешевый квадратный метр в `Выборге` - `58365 рублей`. \n",
    "4. В центральной части города квартиры, располагающиеся в промежутке от `2 до 5 км` до центра города, не имеют особой разности в цене. Когда квартиры располагаются меньше чем `2 км` до центра, их цена начинает резко возрастать."
   ]
  }
 ],
 "metadata": {
  "ExecuteTimeLog": [
   {
    "duration": 729,
    "start_time": "2022-08-25T13:21:29.988Z"
   },
   {
    "duration": 524,
    "start_time": "2022-08-25T13:23:06.024Z"
   },
   {
    "duration": 53,
    "start_time": "2022-08-25T13:24:48.766Z"
   },
   {
    "duration": 100,
    "start_time": "2022-08-25T13:25:41.207Z"
   },
   {
    "duration": 97,
    "start_time": "2022-08-25T13:31:21.164Z"
   },
   {
    "duration": 185,
    "start_time": "2022-08-25T13:32:29.381Z"
   },
   {
    "duration": 649,
    "start_time": "2022-08-25T13:32:55.246Z"
   },
   {
    "duration": 103,
    "start_time": "2022-08-25T13:34:41.680Z"
   },
   {
    "duration": 102,
    "start_time": "2022-08-25T13:35:07.165Z"
   },
   {
    "duration": 125,
    "start_time": "2022-08-25T13:40:16.322Z"
   },
   {
    "duration": 96,
    "start_time": "2022-08-25T13:43:34.468Z"
   },
   {
    "duration": 98,
    "start_time": "2022-08-25T13:47:34.524Z"
   },
   {
    "duration": 99,
    "start_time": "2022-08-25T13:48:06.935Z"
   },
   {
    "duration": 260,
    "start_time": "2022-08-25T13:50:38.574Z"
   },
   {
    "duration": 106,
    "start_time": "2022-08-25T13:50:56.353Z"
   },
   {
    "duration": 98,
    "start_time": "2022-08-25T13:56:38.898Z"
   },
   {
    "duration": 101,
    "start_time": "2022-08-25T13:57:08.906Z"
   },
   {
    "duration": 91,
    "start_time": "2022-08-25T13:57:15.712Z"
   },
   {
    "duration": 1053,
    "start_time": "2022-08-25T13:59:21.730Z"
   },
   {
    "duration": 107,
    "start_time": "2022-08-25T13:59:40.440Z"
   },
   {
    "duration": 100,
    "start_time": "2022-08-25T14:00:00.616Z"
   },
   {
    "duration": 83,
    "start_time": "2022-08-25T14:04:30.400Z"
   },
   {
    "duration": 90,
    "start_time": "2022-08-25T14:08:18.633Z"
   },
   {
    "duration": 8,
    "start_time": "2022-08-25T14:09:12.802Z"
   },
   {
    "duration": 3,
    "start_time": "2022-08-25T14:09:38.760Z"
   },
   {
    "duration": 8,
    "start_time": "2022-08-25T14:10:39.950Z"
   },
   {
    "duration": 10,
    "start_time": "2022-08-25T14:12:13.378Z"
   },
   {
    "duration": 89,
    "start_time": "2022-08-25T14:13:02.996Z"
   },
   {
    "duration": 48,
    "start_time": "2022-08-25T14:13:20.491Z"
   },
   {
    "duration": 100,
    "start_time": "2022-08-25T14:13:31.801Z"
   },
   {
    "duration": 365,
    "start_time": "2022-08-25T14:13:37.797Z"
   },
   {
    "duration": 87,
    "start_time": "2022-08-25T14:13:45.029Z"
   },
   {
    "duration": 115,
    "start_time": "2022-08-25T14:14:14.900Z"
   },
   {
    "duration": 32,
    "start_time": "2022-08-25T14:20:19.280Z"
   },
   {
    "duration": 14,
    "start_time": "2022-08-25T14:20:54.659Z"
   },
   {
    "duration": 9,
    "start_time": "2022-08-25T14:21:10.009Z"
   },
   {
    "duration": 25,
    "start_time": "2022-08-25T14:22:17.872Z"
   },
   {
    "duration": 22,
    "start_time": "2022-08-25T14:22:33.249Z"
   },
   {
    "duration": 20,
    "start_time": "2022-08-25T14:23:24.910Z"
   },
   {
    "duration": 23,
    "start_time": "2022-08-25T14:23:44.518Z"
   },
   {
    "duration": 111,
    "start_time": "2022-08-25T14:24:50.227Z"
   },
   {
    "duration": 26,
    "start_time": "2022-08-25T14:25:30.050Z"
   },
   {
    "duration": 22,
    "start_time": "2022-08-25T14:25:40.089Z"
   },
   {
    "duration": 125,
    "start_time": "2022-08-25T14:27:13.636Z"
   },
   {
    "duration": 1986,
    "start_time": "2022-08-25T14:52:43.904Z"
   },
   {
    "duration": 30,
    "start_time": "2022-08-25T14:55:16.703Z"
   },
   {
    "duration": 23,
    "start_time": "2022-08-25T14:55:33.595Z"
   },
   {
    "duration": 32,
    "start_time": "2022-08-25T14:56:39.661Z"
   },
   {
    "duration": 34,
    "start_time": "2022-08-25T14:57:01.909Z"
   },
   {
    "duration": 32,
    "start_time": "2022-08-25T14:57:21.777Z"
   },
   {
    "duration": 20,
    "start_time": "2022-08-25T14:58:00.833Z"
   },
   {
    "duration": 21,
    "start_time": "2022-08-25T15:00:41.641Z"
   },
   {
    "duration": 22,
    "start_time": "2022-08-25T15:08:01.264Z"
   },
   {
    "duration": 1919,
    "start_time": "2022-08-25T15:08:51.421Z"
   },
   {
    "duration": 2122,
    "start_time": "2022-08-25T15:09:09.969Z"
   },
   {
    "duration": 23,
    "start_time": "2022-08-25T15:10:27.189Z"
   },
   {
    "duration": 23,
    "start_time": "2022-08-25T15:10:50.984Z"
   },
   {
    "duration": 25,
    "start_time": "2022-08-25T15:26:53.384Z"
   },
   {
    "duration": 813,
    "start_time": "2022-08-25T15:39:12.266Z"
   },
   {
    "duration": 23,
    "start_time": "2022-08-25T15:39:23.370Z"
   },
   {
    "duration": 39,
    "start_time": "2022-08-25T15:39:56.079Z"
   },
   {
    "duration": 24,
    "start_time": "2022-08-25T15:40:53.096Z"
   },
   {
    "duration": 31,
    "start_time": "2022-08-25T15:45:46.861Z"
   },
   {
    "duration": 49,
    "start_time": "2022-08-25T15:46:00.674Z"
   },
   {
    "duration": 66,
    "start_time": "2022-08-25T16:47:10.942Z"
   },
   {
    "duration": 3247,
    "start_time": "2022-08-25T16:47:16.487Z"
   },
   {
    "duration": 44,
    "start_time": "2022-08-25T16:47:20.151Z"
   },
   {
    "duration": 47,
    "start_time": "2022-08-25T16:47:38.623Z"
   },
   {
    "duration": 30,
    "start_time": "2022-08-25T16:47:51.031Z"
   },
   {
    "duration": 74,
    "start_time": "2022-08-25T16:57:59.870Z"
   },
   {
    "duration": 56,
    "start_time": "2022-08-25T17:07:44.273Z"
   },
   {
    "duration": 45,
    "start_time": "2022-08-25T17:09:35.462Z"
   },
   {
    "duration": 40,
    "start_time": "2022-08-25T17:10:01.534Z"
   },
   {
    "duration": 36,
    "start_time": "2022-08-25T18:37:12.265Z"
   },
   {
    "duration": 5,
    "start_time": "2022-08-25T18:37:17.014Z"
   },
   {
    "duration": 4,
    "start_time": "2022-08-25T19:03:50.448Z"
   },
   {
    "duration": 6,
    "start_time": "2022-08-25T19:04:01.864Z"
   },
   {
    "duration": 11,
    "start_time": "2022-08-25T19:10:09.108Z"
   },
   {
    "duration": 12,
    "start_time": "2022-08-25T19:11:02.833Z"
   },
   {
    "duration": 8,
    "start_time": "2022-08-25T19:14:59.432Z"
   },
   {
    "duration": 12,
    "start_time": "2022-08-25T19:15:03.774Z"
   },
   {
    "duration": 13,
    "start_time": "2022-08-25T19:15:24.939Z"
   },
   {
    "duration": 13,
    "start_time": "2022-08-25T19:15:55.657Z"
   },
   {
    "duration": 28,
    "start_time": "2022-08-25T19:39:36.361Z"
   },
   {
    "duration": 797,
    "start_time": "2022-08-25T19:46:16.869Z"
   },
   {
    "duration": 789,
    "start_time": "2022-08-25T19:46:20.392Z"
   },
   {
    "duration": 19,
    "start_time": "2022-08-25T19:46:39.560Z"
   },
   {
    "duration": 5,
    "start_time": "2022-08-25T19:54:19.035Z"
   },
   {
    "duration": 7,
    "start_time": "2022-08-25T20:03:08.525Z"
   },
   {
    "duration": 4,
    "start_time": "2022-08-25T20:03:48.655Z"
   },
   {
    "duration": 218,
    "start_time": "2022-08-25T20:22:47.533Z"
   },
   {
    "duration": 405,
    "start_time": "2022-08-25T20:23:03.997Z"
   },
   {
    "duration": 32,
    "start_time": "2022-08-25T20:23:59.550Z"
   },
   {
    "duration": 299,
    "start_time": "2022-08-25T20:24:47.581Z"
   },
   {
    "duration": 35,
    "start_time": "2022-08-25T20:25:27.620Z"
   },
   {
    "duration": 216,
    "start_time": "2022-08-25T20:25:34.440Z"
   },
   {
    "duration": 29,
    "start_time": "2022-08-25T20:26:04.302Z"
   },
   {
    "duration": 15,
    "start_time": "2022-08-25T20:26:18.841Z"
   },
   {
    "duration": 27,
    "start_time": "2022-08-25T20:36:08.399Z"
   },
   {
    "duration": 16,
    "start_time": "2022-08-25T20:36:11.496Z"
   },
   {
    "duration": 185,
    "start_time": "2022-08-25T20:38:05.347Z"
   },
   {
    "duration": 39,
    "start_time": "2022-08-25T20:40:25.656Z"
   },
   {
    "duration": 23,
    "start_time": "2022-08-25T20:40:30.986Z"
   },
   {
    "duration": 230,
    "start_time": "2022-08-25T20:40:34.730Z"
   },
   {
    "duration": 229,
    "start_time": "2022-08-25T20:41:11.889Z"
   },
   {
    "duration": 189,
    "start_time": "2022-08-25T20:41:24.034Z"
   },
   {
    "duration": 7,
    "start_time": "2022-08-25T20:41:49.670Z"
   },
   {
    "duration": 51,
    "start_time": "2022-08-25T20:44:58.723Z"
   },
   {
    "duration": 2813,
    "start_time": "2022-08-25T20:45:06.945Z"
   },
   {
    "duration": 47,
    "start_time": "2022-08-25T20:45:09.761Z"
   },
   {
    "duration": 21,
    "start_time": "2022-08-25T20:45:10.095Z"
   },
   {
    "duration": 37,
    "start_time": "2022-08-25T20:46:21.993Z"
   },
   {
    "duration": 18,
    "start_time": "2022-08-25T20:46:24.980Z"
   },
   {
    "duration": 31,
    "start_time": "2022-08-25T20:47:08.030Z"
   },
   {
    "duration": 18,
    "start_time": "2022-08-25T20:47:12.517Z"
   },
   {
    "duration": 6,
    "start_time": "2022-08-25T20:47:19.758Z"
   },
   {
    "duration": 5,
    "start_time": "2022-08-25T20:48:44.534Z"
   },
   {
    "duration": 49,
    "start_time": "2022-08-25T20:50:10.783Z"
   },
   {
    "duration": 2761,
    "start_time": "2022-08-25T20:50:16.069Z"
   },
   {
    "duration": 43,
    "start_time": "2022-08-25T20:50:18.833Z"
   },
   {
    "duration": 18,
    "start_time": "2022-08-25T20:50:18.878Z"
   },
   {
    "duration": 6,
    "start_time": "2022-08-25T20:50:18.898Z"
   },
   {
    "duration": 8,
    "start_time": "2022-08-25T20:50:42.124Z"
   },
   {
    "duration": 10,
    "start_time": "2022-08-25T20:51:06.318Z"
   },
   {
    "duration": 46,
    "start_time": "2022-08-25T20:51:19.695Z"
   },
   {
    "duration": 2588,
    "start_time": "2022-08-25T20:52:37.450Z"
   },
   {
    "duration": 41,
    "start_time": "2022-08-25T20:52:40.041Z"
   },
   {
    "duration": 21,
    "start_time": "2022-08-25T20:52:40.083Z"
   },
   {
    "duration": 8,
    "start_time": "2022-08-25T20:52:41.400Z"
   },
   {
    "duration": 15,
    "start_time": "2022-08-25T20:53:25.899Z"
   },
   {
    "duration": 15,
    "start_time": "2022-08-25T20:54:00.501Z"
   },
   {
    "duration": 13,
    "start_time": "2022-08-25T20:54:34.553Z"
   },
   {
    "duration": 15,
    "start_time": "2022-08-25T20:54:45.210Z"
   },
   {
    "duration": 2586,
    "start_time": "2022-08-25T20:55:03.723Z"
   },
   {
    "duration": 54,
    "start_time": "2022-08-25T20:55:06.312Z"
   },
   {
    "duration": 25,
    "start_time": "2022-08-25T20:55:06.369Z"
   },
   {
    "duration": 26,
    "start_time": "2022-08-25T20:55:06.396Z"
   },
   {
    "duration": 20,
    "start_time": "2022-08-25T20:55:09.658Z"
   },
   {
    "duration": 16,
    "start_time": "2022-08-25T21:02:32.699Z"
   },
   {
    "duration": 17,
    "start_time": "2022-08-25T21:04:55.707Z"
   },
   {
    "duration": 52,
    "start_time": "2022-08-26T05:47:32.584Z"
   },
   {
    "duration": 3266,
    "start_time": "2022-08-26T05:47:39.072Z"
   },
   {
    "duration": 70,
    "start_time": "2022-08-26T05:47:42.341Z"
   },
   {
    "duration": 19,
    "start_time": "2022-08-26T05:47:42.725Z"
   },
   {
    "duration": 24,
    "start_time": "2022-08-26T05:47:44.661Z"
   },
   {
    "duration": 41,
    "start_time": "2022-08-26T05:53:31.779Z"
   },
   {
    "duration": 31,
    "start_time": "2022-08-26T05:57:00.846Z"
   },
   {
    "duration": 34,
    "start_time": "2022-08-26T05:57:30.474Z"
   },
   {
    "duration": 28,
    "start_time": "2022-08-26T05:57:37.429Z"
   },
   {
    "duration": 66,
    "start_time": "2022-08-26T06:00:57.184Z"
   },
   {
    "duration": 49,
    "start_time": "2022-08-26T06:01:18.279Z"
   },
   {
    "duration": 2349,
    "start_time": "2022-08-26T06:01:46.385Z"
   },
   {
    "duration": 61,
    "start_time": "2022-08-26T06:01:48.736Z"
   },
   {
    "duration": 19,
    "start_time": "2022-08-26T06:01:48.799Z"
   },
   {
    "duration": 74,
    "start_time": "2022-08-26T06:01:48.820Z"
   },
   {
    "duration": 78,
    "start_time": "2022-08-26T06:03:39.429Z"
   },
   {
    "duration": 99,
    "start_time": "2022-08-26T06:08:20.711Z"
   },
   {
    "duration": 4008,
    "start_time": "2022-08-26T06:12:31.351Z"
   },
   {
    "duration": 3973,
    "start_time": "2022-08-26T06:14:45.193Z"
   },
   {
    "duration": 46,
    "start_time": "2022-08-27T08:36:40.862Z"
   },
   {
    "duration": 2858,
    "start_time": "2022-08-27T08:36:48.659Z"
   },
   {
    "duration": 43,
    "start_time": "2022-08-27T08:36:51.519Z"
   },
   {
    "duration": 19,
    "start_time": "2022-08-27T08:36:51.769Z"
   },
   {
    "duration": 4041,
    "start_time": "2022-08-27T08:36:53.721Z"
   },
   {
    "duration": 21,
    "start_time": "2022-08-27T08:36:58.212Z"
   },
   {
    "duration": 3789,
    "start_time": "2022-08-27T08:37:33.775Z"
   },
   {
    "duration": 4,
    "start_time": "2022-08-27T08:38:03.437Z"
   },
   {
    "duration": 48,
    "start_time": "2022-08-27T08:39:31.536Z"
   },
   {
    "duration": 17,
    "start_time": "2022-08-27T08:42:55.582Z"
   },
   {
    "duration": 27,
    "start_time": "2022-08-27T08:44:03.135Z"
   },
   {
    "duration": 4,
    "start_time": "2022-08-27T08:44:34.818Z"
   },
   {
    "duration": 3,
    "start_time": "2022-08-27T08:45:00.597Z"
   },
   {
    "duration": 18,
    "start_time": "2022-08-27T08:45:21.401Z"
   },
   {
    "duration": 22,
    "start_time": "2022-08-27T09:20:06.445Z"
   },
   {
    "duration": 2820,
    "start_time": "2022-08-27T09:21:19.367Z"
   },
   {
    "duration": 199,
    "start_time": "2022-08-27T09:21:49.992Z"
   },
   {
    "duration": 192,
    "start_time": "2022-08-27T09:22:30.562Z"
   },
   {
    "duration": 252,
    "start_time": "2022-08-27T09:23:00.553Z"
   },
   {
    "duration": 152,
    "start_time": "2022-08-27T09:23:06.295Z"
   },
   {
    "duration": 134,
    "start_time": "2022-08-27T09:23:18.248Z"
   },
   {
    "duration": 1346,
    "start_time": "2022-08-27T09:24:06.920Z"
   },
   {
    "duration": 5,
    "start_time": "2022-08-27T09:24:18.314Z"
   },
   {
    "duration": 16,
    "start_time": "2022-08-27T09:24:32.761Z"
   },
   {
    "duration": 18,
    "start_time": "2022-08-27T09:24:44.804Z"
   },
   {
    "duration": 4698,
    "start_time": "2022-08-27T09:45:22.572Z"
   },
   {
    "duration": 2312,
    "start_time": "2022-08-27T09:46:11.182Z"
   },
   {
    "duration": 60,
    "start_time": "2022-08-27T09:46:21.501Z"
   },
   {
    "duration": 21,
    "start_time": "2022-08-27T09:46:26.059Z"
   },
   {
    "duration": 3992,
    "start_time": "2022-08-27T09:46:30.995Z"
   },
   {
    "duration": 3059,
    "start_time": "2022-08-27T09:47:53.986Z"
   },
   {
    "duration": 43,
    "start_time": "2022-08-27T09:47:57.047Z"
   },
   {
    "duration": 18,
    "start_time": "2022-08-27T09:47:57.092Z"
   },
   {
    "duration": 4339,
    "start_time": "2022-08-27T09:47:58.674Z"
   },
   {
    "duration": 1312,
    "start_time": "2022-08-27T09:49:05.535Z"
   },
   {
    "duration": 4271,
    "start_time": "2022-08-27T09:55:54.897Z"
   },
   {
    "duration": 3806,
    "start_time": "2022-08-27T09:57:21.771Z"
   },
   {
    "duration": 3862,
    "start_time": "2022-08-27T09:58:27.441Z"
   },
   {
    "duration": 2846,
    "start_time": "2022-08-27T10:00:39.019Z"
   },
   {
    "duration": 42,
    "start_time": "2022-08-27T10:00:41.867Z"
   },
   {
    "duration": 17,
    "start_time": "2022-08-27T10:00:41.911Z"
   },
   {
    "duration": 52,
    "start_time": "2022-08-27T10:03:39.336Z"
   },
   {
    "duration": 2690,
    "start_time": "2022-08-27T10:03:42.899Z"
   },
   {
    "duration": 87,
    "start_time": "2022-08-27T10:08:23.015Z"
   },
   {
    "duration": 2301,
    "start_time": "2022-08-27T10:08:23.358Z"
   },
   {
    "duration": 15,
    "start_time": "2022-08-27T10:08:44.112Z"
   },
   {
    "duration": 14,
    "start_time": "2022-08-27T10:09:53.929Z"
   },
   {
    "duration": 11,
    "start_time": "2022-08-27T10:16:42.780Z"
   },
   {
    "duration": 8,
    "start_time": "2022-08-27T10:17:10.628Z"
   },
   {
    "duration": 12,
    "start_time": "2022-08-27T10:17:27.823Z"
   },
   {
    "duration": 21,
    "start_time": "2022-08-27T10:18:27.136Z"
   },
   {
    "duration": 21,
    "start_time": "2022-08-27T10:19:09.022Z"
   },
   {
    "duration": 21,
    "start_time": "2022-08-27T10:19:50.672Z"
   },
   {
    "duration": 55,
    "start_time": "2022-08-27T10:20:19.061Z"
   },
   {
    "duration": 2888,
    "start_time": "2022-08-27T10:20:23.431Z"
   },
   {
    "duration": 20,
    "start_time": "2022-08-27T10:20:26.321Z"
   },
   {
    "duration": 44,
    "start_time": "2022-08-27T10:20:28.484Z"
   },
   {
    "duration": 19,
    "start_time": "2022-08-27T10:20:30.454Z"
   },
   {
    "duration": 18,
    "start_time": "2022-08-27T10:20:51.883Z"
   },
   {
    "duration": 38,
    "start_time": "2022-08-27T10:24:08.914Z"
   },
   {
    "duration": 9,
    "start_time": "2022-08-27T10:24:53.433Z"
   },
   {
    "duration": 11,
    "start_time": "2022-08-27T10:24:57.694Z"
   },
   {
    "duration": 15,
    "start_time": "2022-08-27T10:25:38.333Z"
   },
   {
    "duration": 17,
    "start_time": "2022-08-27T10:25:49.687Z"
   },
   {
    "duration": 130,
    "start_time": "2022-08-27T10:27:56.562Z"
   },
   {
    "duration": 24,
    "start_time": "2022-08-27T10:29:46.630Z"
   },
   {
    "duration": 50,
    "start_time": "2022-08-27T10:31:49.481Z"
   },
   {
    "duration": 33,
    "start_time": "2022-08-27T10:33:30.790Z"
   },
   {
    "duration": 31,
    "start_time": "2022-08-27T10:35:38.140Z"
   },
   {
    "duration": 41,
    "start_time": "2022-08-27T10:35:47.600Z"
   },
   {
    "duration": 22,
    "start_time": "2022-08-27T10:35:57.285Z"
   },
   {
    "duration": 24,
    "start_time": "2022-08-27T10:37:26.977Z"
   },
   {
    "duration": 23,
    "start_time": "2022-08-27T10:37:52.934Z"
   },
   {
    "duration": 21,
    "start_time": "2022-08-27T10:39:31.745Z"
   },
   {
    "duration": 2935,
    "start_time": "2022-08-27T10:40:07.761Z"
   },
   {
    "duration": 118,
    "start_time": "2022-08-27T10:40:10.698Z"
   },
   {
    "duration": 57,
    "start_time": "2022-08-27T10:40:10.817Z"
   },
   {
    "duration": 17,
    "start_time": "2022-08-27T10:40:10.877Z"
   },
   {
    "duration": 23,
    "start_time": "2022-08-27T10:40:12.180Z"
   },
   {
    "duration": 23,
    "start_time": "2022-08-27T10:40:20.472Z"
   },
   {
    "duration": 23,
    "start_time": "2022-08-27T10:41:17.924Z"
   },
   {
    "duration": 22,
    "start_time": "2022-08-27T10:41:31.975Z"
   },
   {
    "duration": 23,
    "start_time": "2022-08-27T10:41:47.714Z"
   },
   {
    "duration": 22,
    "start_time": "2022-08-27T10:42:18.982Z"
   },
   {
    "duration": 21,
    "start_time": "2022-08-27T10:42:36.889Z"
   },
   {
    "duration": 73,
    "start_time": "2022-08-27T10:43:21.816Z"
   },
   {
    "duration": 85,
    "start_time": "2022-08-27T10:43:31.225Z"
   },
   {
    "duration": 1176,
    "start_time": "2022-08-27T10:44:25.412Z"
   },
   {
    "duration": 28,
    "start_time": "2022-08-27T10:44:46.480Z"
   },
   {
    "duration": 10,
    "start_time": "2022-08-27T10:46:58.419Z"
   },
   {
    "duration": 647,
    "start_time": "2022-08-27T10:47:13.612Z"
   },
   {
    "duration": 8,
    "start_time": "2022-08-27T10:48:04.217Z"
   },
   {
    "duration": 122,
    "start_time": "2022-08-27T10:49:59.118Z"
   },
   {
    "duration": 17,
    "start_time": "2022-08-27T11:07:17.269Z"
   },
   {
    "duration": 17,
    "start_time": "2022-08-27T11:07:45.140Z"
   },
   {
    "duration": 15,
    "start_time": "2022-08-27T11:07:51.024Z"
   },
   {
    "duration": 15,
    "start_time": "2022-08-27T11:08:46.385Z"
   },
   {
    "duration": 10,
    "start_time": "2022-08-27T11:10:16.956Z"
   },
   {
    "duration": 19,
    "start_time": "2022-08-27T11:10:28.528Z"
   },
   {
    "duration": 38,
    "start_time": "2022-08-27T11:11:25.707Z"
   },
   {
    "duration": 28,
    "start_time": "2022-08-27T11:14:59.001Z"
   },
   {
    "duration": 13,
    "start_time": "2022-08-27T11:15:58.509Z"
   },
   {
    "duration": 682,
    "start_time": "2022-08-27T11:16:06.353Z"
   },
   {
    "duration": 112,
    "start_time": "2022-08-27T11:19:10.677Z"
   },
   {
    "duration": 117,
    "start_time": "2022-08-27T11:20:10.987Z"
   },
   {
    "duration": 208,
    "start_time": "2022-08-27T11:20:54.240Z"
   },
   {
    "duration": 132,
    "start_time": "2022-08-27T11:21:08.338Z"
   },
   {
    "duration": 124,
    "start_time": "2022-08-27T11:23:38.764Z"
   },
   {
    "duration": 127,
    "start_time": "2022-08-27T11:25:35.012Z"
   },
   {
    "duration": 117,
    "start_time": "2022-08-27T11:26:03.176Z"
   },
   {
    "duration": 120,
    "start_time": "2022-08-27T11:26:11.238Z"
   },
   {
    "duration": 126,
    "start_time": "2022-08-27T11:26:17.125Z"
   },
   {
    "duration": 113,
    "start_time": "2022-08-27T11:26:33.978Z"
   },
   {
    "duration": 125,
    "start_time": "2022-08-27T11:27:57.549Z"
   },
   {
    "duration": 111,
    "start_time": "2022-08-27T11:31:40.817Z"
   },
   {
    "duration": 1295,
    "start_time": "2022-08-27T11:32:04.232Z"
   },
   {
    "duration": 117,
    "start_time": "2022-08-27T11:32:47.728Z"
   },
   {
    "duration": 133,
    "start_time": "2022-08-27T11:33:08.707Z"
   },
   {
    "duration": 131,
    "start_time": "2022-08-27T12:50:14.886Z"
   },
   {
    "duration": 159,
    "start_time": "2022-08-27T12:50:35.624Z"
   },
   {
    "duration": 190,
    "start_time": "2022-08-27T12:51:21.470Z"
   },
   {
    "duration": 249,
    "start_time": "2022-08-27T12:51:25.782Z"
   },
   {
    "duration": 211,
    "start_time": "2022-08-27T12:53:36.328Z"
   },
   {
    "duration": 177,
    "start_time": "2022-08-27T12:56:41.168Z"
   },
   {
    "duration": 870,
    "start_time": "2022-08-27T12:58:31.640Z"
   },
   {
    "duration": 220,
    "start_time": "2022-08-27T13:04:01.435Z"
   },
   {
    "duration": 230,
    "start_time": "2022-08-27T13:06:13.252Z"
   },
   {
    "duration": 259,
    "start_time": "2022-08-27T13:07:26.403Z"
   },
   {
    "duration": 236,
    "start_time": "2022-08-27T13:07:42.084Z"
   },
   {
    "duration": 216,
    "start_time": "2022-08-27T13:11:08.096Z"
   },
   {
    "duration": 207,
    "start_time": "2022-08-27T13:15:57.628Z"
   },
   {
    "duration": 268,
    "start_time": "2022-08-27T13:16:10.156Z"
   },
   {
    "duration": 277,
    "start_time": "2022-08-27T13:16:33.399Z"
   },
   {
    "duration": 334,
    "start_time": "2022-08-27T13:18:45.393Z"
   },
   {
    "duration": 240,
    "start_time": "2022-08-27T13:18:51.259Z"
   },
   {
    "duration": 227,
    "start_time": "2022-08-27T13:19:51.767Z"
   },
   {
    "duration": 247,
    "start_time": "2022-08-27T13:19:57.154Z"
   },
   {
    "duration": 226,
    "start_time": "2022-08-27T13:21:40.024Z"
   },
   {
    "duration": 223,
    "start_time": "2022-08-27T13:22:27.703Z"
   },
   {
    "duration": 219,
    "start_time": "2022-08-27T13:25:17.093Z"
   },
   {
    "duration": 232,
    "start_time": "2022-08-27T13:26:14.694Z"
   },
   {
    "duration": 282,
    "start_time": "2022-08-27T13:26:24.634Z"
   },
   {
    "duration": 251,
    "start_time": "2022-08-27T13:30:10.282Z"
   },
   {
    "duration": 227,
    "start_time": "2022-08-27T13:32:34.570Z"
   },
   {
    "duration": 239,
    "start_time": "2022-08-27T13:34:02.014Z"
   },
   {
    "duration": 239,
    "start_time": "2022-08-27T13:34:58.552Z"
   },
   {
    "duration": 352,
    "start_time": "2022-08-27T13:35:13.119Z"
   },
   {
    "duration": 268,
    "start_time": "2022-08-27T13:36:51.287Z"
   },
   {
    "duration": 266,
    "start_time": "2022-08-27T13:37:46.024Z"
   },
   {
    "duration": 252,
    "start_time": "2022-08-27T13:38:48.131Z"
   },
   {
    "duration": 245,
    "start_time": "2022-08-27T13:39:04.685Z"
   },
   {
    "duration": 210,
    "start_time": "2022-08-27T13:40:38.200Z"
   },
   {
    "duration": 279,
    "start_time": "2022-08-27T13:42:06.711Z"
   },
   {
    "duration": 245,
    "start_time": "2022-08-27T13:42:31.798Z"
   },
   {
    "duration": 287,
    "start_time": "2022-08-27T13:43:06.602Z"
   },
   {
    "duration": 52,
    "start_time": "2022-08-27T18:21:40.480Z"
   },
   {
    "duration": 3253,
    "start_time": "2022-08-27T18:21:45.150Z"
   },
   {
    "duration": 124,
    "start_time": "2022-08-27T18:21:48.405Z"
   },
   {
    "duration": 64,
    "start_time": "2022-08-27T18:21:48.531Z"
   },
   {
    "duration": 18,
    "start_time": "2022-08-27T18:21:48.597Z"
   },
   {
    "duration": 264,
    "start_time": "2022-08-27T18:21:48.617Z"
   },
   {
    "duration": 25,
    "start_time": "2022-08-27T18:21:50.815Z"
   },
   {
    "duration": 8,
    "start_time": "2022-08-27T18:30:43.251Z"
   },
   {
    "duration": 30,
    "start_time": "2022-08-27T18:30:50.961Z"
   },
   {
    "duration": 26,
    "start_time": "2022-08-27T18:34:17.722Z"
   },
   {
    "duration": 11,
    "start_time": "2022-08-27T18:35:41.132Z"
   },
   {
    "duration": 29,
    "start_time": "2022-08-27T18:35:47.780Z"
   },
   {
    "duration": 32,
    "start_time": "2022-08-27T18:37:21.328Z"
   },
   {
    "duration": 61,
    "start_time": "2022-08-27T18:41:43.139Z"
   },
   {
    "duration": 5,
    "start_time": "2022-08-27T19:26:55.337Z"
   },
   {
    "duration": 121,
    "start_time": "2022-08-27T19:27:09.038Z"
   },
   {
    "duration": 178,
    "start_time": "2022-08-27T19:27:51.281Z"
   },
   {
    "duration": 119,
    "start_time": "2022-08-27T19:28:20.411Z"
   },
   {
    "duration": 112,
    "start_time": "2022-08-27T19:29:05.250Z"
   },
   {
    "duration": 105,
    "start_time": "2022-08-27T19:29:10.905Z"
   },
   {
    "duration": 203,
    "start_time": "2022-08-27T19:29:30.142Z"
   },
   {
    "duration": 354,
    "start_time": "2022-08-27T19:30:35.761Z"
   },
   {
    "duration": 339,
    "start_time": "2022-08-27T19:33:02.289Z"
   },
   {
    "duration": 439,
    "start_time": "2022-08-27T19:36:20.362Z"
   },
   {
    "duration": 444,
    "start_time": "2022-08-27T19:37:02.058Z"
   },
   {
    "duration": 9,
    "start_time": "2022-08-27T19:37:18.621Z"
   },
   {
    "duration": 150,
    "start_time": "2022-08-27T20:07:29.271Z"
   },
   {
    "duration": 1501,
    "start_time": "2022-08-27T20:11:40.764Z"
   },
   {
    "duration": 418,
    "start_time": "2022-08-27T20:11:51.402Z"
   },
   {
    "duration": 388,
    "start_time": "2022-08-27T20:12:47.144Z"
   },
   {
    "duration": 379,
    "start_time": "2022-08-27T20:13:24.436Z"
   },
   {
    "duration": 11,
    "start_time": "2022-08-27T20:16:26.975Z"
   },
   {
    "duration": 352,
    "start_time": "2022-08-27T20:16:40.249Z"
   },
   {
    "duration": 12,
    "start_time": "2022-08-27T20:17:29.258Z"
   },
   {
    "duration": 12,
    "start_time": "2022-08-27T20:18:32.662Z"
   },
   {
    "duration": 137,
    "start_time": "2022-08-27T20:19:45.114Z"
   },
   {
    "duration": 160,
    "start_time": "2022-08-27T20:20:49.615Z"
   },
   {
    "duration": 190,
    "start_time": "2022-08-27T20:21:29.869Z"
   },
   {
    "duration": 159,
    "start_time": "2022-08-27T20:21:39.609Z"
   },
   {
    "duration": 247,
    "start_time": "2022-08-27T20:21:55.094Z"
   },
   {
    "duration": 401,
    "start_time": "2022-08-27T20:23:53.515Z"
   },
   {
    "duration": 381,
    "start_time": "2022-08-27T20:25:48.887Z"
   },
   {
    "duration": 2364,
    "start_time": "2022-08-27T20:26:05.123Z"
   },
   {
    "duration": 4662,
    "start_time": "2022-08-27T20:26:25.554Z"
   },
   {
    "duration": 3636,
    "start_time": "2022-08-27T20:26:45.683Z"
   },
   {
    "duration": 708,
    "start_time": "2022-08-27T20:27:29.399Z"
   },
   {
    "duration": 269,
    "start_time": "2022-08-27T20:28:50.866Z"
   },
   {
    "duration": 271,
    "start_time": "2022-08-27T20:29:01.128Z"
   },
   {
    "duration": 255,
    "start_time": "2022-08-27T20:29:08.864Z"
   },
   {
    "duration": 520,
    "start_time": "2022-08-27T20:30:03.841Z"
   },
   {
    "duration": 504,
    "start_time": "2022-08-27T20:30:31.027Z"
   },
   {
    "duration": 508,
    "start_time": "2022-08-27T20:30:40.949Z"
   },
   {
    "duration": 503,
    "start_time": "2022-08-27T20:35:25.667Z"
   },
   {
    "duration": 844,
    "start_time": "2022-08-27T20:36:12.670Z"
   },
   {
    "duration": 551,
    "start_time": "2022-08-27T20:36:28.571Z"
   },
   {
    "duration": 572,
    "start_time": "2022-08-27T20:37:53.810Z"
   },
   {
    "duration": 820,
    "start_time": "2022-08-27T20:38:32.961Z"
   },
   {
    "duration": 768,
    "start_time": "2022-08-27T20:38:43.479Z"
   },
   {
    "duration": 1010,
    "start_time": "2022-08-27T20:39:40.774Z"
   },
   {
    "duration": 1551,
    "start_time": "2022-08-27T20:40:01.225Z"
   },
   {
    "duration": 996,
    "start_time": "2022-08-27T20:41:00.393Z"
   },
   {
    "duration": 990,
    "start_time": "2022-08-27T20:41:12.993Z"
   },
   {
    "duration": 1025,
    "start_time": "2022-08-27T20:41:25.506Z"
   },
   {
    "duration": 1591,
    "start_time": "2022-08-27T20:42:13.984Z"
   },
   {
    "duration": 1102,
    "start_time": "2022-08-27T20:42:35.636Z"
   },
   {
    "duration": 58,
    "start_time": "2022-08-28T05:52:11.413Z"
   },
   {
    "duration": 47,
    "start_time": "2022-08-28T05:52:20.239Z"
   },
   {
    "duration": 4304,
    "start_time": "2022-08-28T05:52:25.525Z"
   },
   {
    "duration": 129,
    "start_time": "2022-08-28T05:52:29.831Z"
   },
   {
    "duration": 63,
    "start_time": "2022-08-28T05:52:29.962Z"
   },
   {
    "duration": 28,
    "start_time": "2022-08-28T05:52:30.029Z"
   },
   {
    "duration": 287,
    "start_time": "2022-08-28T05:52:30.059Z"
   },
   {
    "duration": 329,
    "start_time": "2022-08-28T05:52:30.348Z"
   },
   {
    "duration": 1073,
    "start_time": "2022-08-28T05:52:30.986Z"
   },
   {
    "duration": 962,
    "start_time": "2022-08-28T05:52:41.829Z"
   },
   {
    "duration": 1145,
    "start_time": "2022-08-28T05:52:52.813Z"
   },
   {
    "duration": 1299,
    "start_time": "2022-08-28T05:53:17.172Z"
   },
   {
    "duration": 1771,
    "start_time": "2022-08-28T06:20:42.721Z"
   },
   {
    "duration": 2002,
    "start_time": "2022-08-28T06:21:59.368Z"
   },
   {
    "duration": 1483,
    "start_time": "2022-08-28T06:22:29.212Z"
   },
   {
    "duration": 1492,
    "start_time": "2022-08-28T06:22:47.808Z"
   },
   {
    "duration": 1517,
    "start_time": "2022-08-28T06:23:38.035Z"
   },
   {
    "duration": 1439,
    "start_time": "2022-08-28T06:23:48.837Z"
   },
   {
    "duration": 1595,
    "start_time": "2022-08-28T06:24:52.737Z"
   },
   {
    "duration": 1768,
    "start_time": "2022-08-28T06:25:07.202Z"
   },
   {
    "duration": 1617,
    "start_time": "2022-08-28T06:25:23.805Z"
   },
   {
    "duration": 1728,
    "start_time": "2022-08-28T06:25:36.407Z"
   },
   {
    "duration": 1834,
    "start_time": "2022-08-28T06:26:46.678Z"
   },
   {
    "duration": 1862,
    "start_time": "2022-08-28T06:27:38.783Z"
   },
   {
    "duration": 2059,
    "start_time": "2022-08-28T06:28:54.820Z"
   },
   {
    "duration": 1971,
    "start_time": "2022-08-28T06:29:26.696Z"
   },
   {
    "duration": 1981,
    "start_time": "2022-08-28T06:29:38.419Z"
   },
   {
    "duration": 2170,
    "start_time": "2022-08-28T06:29:55.962Z"
   },
   {
    "duration": 2403,
    "start_time": "2022-08-28T06:30:14.516Z"
   },
   {
    "duration": 2274,
    "start_time": "2022-08-28T06:31:17.753Z"
   },
   {
    "duration": 2120,
    "start_time": "2022-08-28T06:31:52.105Z"
   },
   {
    "duration": 2468,
    "start_time": "2022-08-28T06:33:09.677Z"
   },
   {
    "duration": 2204,
    "start_time": "2022-08-28T06:33:41.427Z"
   },
   {
    "duration": 2421,
    "start_time": "2022-08-28T06:35:47.628Z"
   },
   {
    "duration": 2804,
    "start_time": "2022-08-28T06:36:00.128Z"
   },
   {
    "duration": 2414,
    "start_time": "2022-08-28T06:36:57.857Z"
   },
   {
    "duration": 3312,
    "start_time": "2022-08-28T06:38:05.540Z"
   },
   {
    "duration": 118,
    "start_time": "2022-08-28T06:38:08.853Z"
   },
   {
    "duration": 4113,
    "start_time": "2022-08-28T06:50:22.606Z"
   },
   {
    "duration": 4282,
    "start_time": "2022-08-28T06:51:07.103Z"
   },
   {
    "duration": 3843,
    "start_time": "2022-08-28T06:51:33.135Z"
   },
   {
    "duration": 146,
    "start_time": "2022-08-28T06:51:36.980Z"
   },
   {
    "duration": 34,
    "start_time": "2022-08-28T06:51:37.127Z"
   },
   {
    "duration": 49,
    "start_time": "2022-08-28T06:51:37.163Z"
   },
   {
    "duration": 247,
    "start_time": "2022-08-28T06:51:39.369Z"
   },
   {
    "duration": 324,
    "start_time": "2022-08-28T06:51:41.703Z"
   },
   {
    "duration": 3035,
    "start_time": "2022-08-28T06:51:44.671Z"
   },
   {
    "duration": 2867,
    "start_time": "2022-08-28T06:51:58.808Z"
   },
   {
    "duration": 2894,
    "start_time": "2022-08-28T06:52:29.303Z"
   },
   {
    "duration": 3155,
    "start_time": "2022-08-28T06:53:05.249Z"
   },
   {
    "duration": 3241,
    "start_time": "2022-08-28T06:54:09.676Z"
   },
   {
    "duration": 3094,
    "start_time": "2022-08-28T06:54:32.540Z"
   },
   {
    "duration": 58,
    "start_time": "2022-08-29T11:46:45.056Z"
   },
   {
    "duration": 4120,
    "start_time": "2022-08-29T11:46:50.771Z"
   },
   {
    "duration": 115,
    "start_time": "2022-08-29T11:46:54.899Z"
   },
   {
    "duration": 43,
    "start_time": "2022-08-29T11:46:55.016Z"
   },
   {
    "duration": 18,
    "start_time": "2022-08-29T11:46:56.067Z"
   },
   {
    "duration": 224,
    "start_time": "2022-08-29T11:46:57.214Z"
   },
   {
    "duration": 307,
    "start_time": "2022-08-29T11:46:57.956Z"
   },
   {
    "duration": 2895,
    "start_time": "2022-08-29T11:46:59.916Z"
   },
   {
    "duration": 2835,
    "start_time": "2022-08-29T11:47:22.830Z"
   },
   {
    "duration": 3122,
    "start_time": "2022-08-29T11:49:10.726Z"
   },
   {
    "duration": 6,
    "start_time": "2022-08-29T11:54:51.184Z"
   },
   {
    "duration": 7,
    "start_time": "2022-08-29T11:55:29.694Z"
   },
   {
    "duration": 6,
    "start_time": "2022-08-29T11:56:35.031Z"
   },
   {
    "duration": 2,
    "start_time": "2022-08-29T12:13:57.322Z"
   },
   {
    "duration": 158,
    "start_time": "2022-08-29T12:14:49.857Z"
   },
   {
    "duration": 148,
    "start_time": "2022-08-29T12:15:54.119Z"
   },
   {
    "duration": 162,
    "start_time": "2022-08-29T12:21:45.998Z"
   },
   {
    "duration": 189,
    "start_time": "2022-08-29T12:22:08.552Z"
   },
   {
    "duration": 150,
    "start_time": "2022-08-29T12:22:19.036Z"
   },
   {
    "duration": 141,
    "start_time": "2022-08-29T12:26:19.749Z"
   },
   {
    "duration": 161,
    "start_time": "2022-08-29T12:26:38.077Z"
   },
   {
    "duration": 144,
    "start_time": "2022-08-29T12:26:50.275Z"
   },
   {
    "duration": 278,
    "start_time": "2022-08-29T12:28:45.758Z"
   },
   {
    "duration": 147,
    "start_time": "2022-08-29T12:29:32.865Z"
   },
   {
    "duration": 151,
    "start_time": "2022-08-29T12:29:41.209Z"
   },
   {
    "duration": 157,
    "start_time": "2022-08-29T12:30:07.692Z"
   },
   {
    "duration": 170,
    "start_time": "2022-08-29T12:30:57.394Z"
   },
   {
    "duration": 20,
    "start_time": "2022-08-29T12:43:13.461Z"
   },
   {
    "duration": 7,
    "start_time": "2022-08-29T12:43:37.327Z"
   },
   {
    "duration": 48,
    "start_time": "2022-08-29T14:39:29.398Z"
   },
   {
    "duration": 4372,
    "start_time": "2022-08-29T14:39:34.589Z"
   },
   {
    "duration": 128,
    "start_time": "2022-08-29T14:39:38.964Z"
   },
   {
    "duration": 66,
    "start_time": "2022-08-29T14:39:39.095Z"
   },
   {
    "duration": 27,
    "start_time": "2022-08-29T14:39:39.163Z"
   },
   {
    "duration": 280,
    "start_time": "2022-08-29T14:39:39.193Z"
   },
   {
    "duration": 350,
    "start_time": "2022-08-29T14:39:39.475Z"
   },
   {
    "duration": 2931,
    "start_time": "2022-08-29T14:39:39.827Z"
   },
   {
    "duration": 213,
    "start_time": "2022-08-29T14:39:42.760Z"
   },
   {
    "duration": 11,
    "start_time": "2022-08-29T14:39:42.976Z"
   },
   {
    "duration": 25,
    "start_time": "2022-08-29T14:42:36.215Z"
   },
   {
    "duration": 13,
    "start_time": "2022-08-29T14:44:24.496Z"
   },
   {
    "duration": 1304,
    "start_time": "2022-08-29T14:51:26.354Z"
   },
   {
    "duration": 1990,
    "start_time": "2022-08-29T14:51:59.814Z"
   },
   {
    "duration": 1281,
    "start_time": "2022-08-29T14:52:14.503Z"
   },
   {
    "duration": 1367,
    "start_time": "2022-08-29T14:52:36.611Z"
   },
   {
    "duration": 1503,
    "start_time": "2022-08-29T14:52:49.321Z"
   },
   {
    "duration": 2032,
    "start_time": "2022-08-29T14:56:00.952Z"
   },
   {
    "duration": 27,
    "start_time": "2022-08-29T14:57:55.846Z"
   },
   {
    "duration": 57,
    "start_time": "2022-08-29T14:58:24.925Z"
   },
   {
    "duration": 11,
    "start_time": "2022-08-29T14:58:31.570Z"
   },
   {
    "duration": 11,
    "start_time": "2022-08-29T14:58:46.537Z"
   },
   {
    "duration": 9,
    "start_time": "2022-08-29T14:58:56.163Z"
   },
   {
    "duration": 2038,
    "start_time": "2022-08-29T15:00:09.875Z"
   },
   {
    "duration": 41,
    "start_time": "2022-08-29T15:09:24.231Z"
   },
   {
    "duration": 33,
    "start_time": "2022-08-29T15:20:11.574Z"
   },
   {
    "duration": 24,
    "start_time": "2022-08-29T15:22:50.613Z"
   },
   {
    "duration": 38,
    "start_time": "2022-08-29T15:23:07.748Z"
   },
   {
    "duration": 26,
    "start_time": "2022-08-29T15:27:53.862Z"
   },
   {
    "duration": 47,
    "start_time": "2022-08-29T15:31:20.656Z"
   },
   {
    "duration": 13,
    "start_time": "2022-08-29T15:33:27.489Z"
   },
   {
    "duration": 21,
    "start_time": "2022-08-29T15:45:38.440Z"
   },
   {
    "duration": 34,
    "start_time": "2022-08-29T15:47:57.126Z"
   },
   {
    "duration": 3754,
    "start_time": "2022-08-30T07:31:02.717Z"
   },
   {
    "duration": 101,
    "start_time": "2022-08-30T07:31:06.473Z"
   },
   {
    "duration": 42,
    "start_time": "2022-08-30T07:31:06.575Z"
   },
   {
    "duration": 18,
    "start_time": "2022-08-30T07:31:06.618Z"
   },
   {
    "duration": 222,
    "start_time": "2022-08-30T07:31:06.638Z"
   },
   {
    "duration": 305,
    "start_time": "2022-08-30T07:31:06.862Z"
   },
   {
    "duration": 2344,
    "start_time": "2022-08-30T07:31:07.168Z"
   },
   {
    "duration": 153,
    "start_time": "2022-08-30T07:31:09.514Z"
   },
   {
    "duration": 1364,
    "start_time": "2022-08-30T07:31:09.669Z"
   },
   {
    "duration": 31,
    "start_time": "2022-08-30T07:31:11.035Z"
   },
   {
    "duration": 155,
    "start_time": "2022-08-30T07:31:25.643Z"
   },
   {
    "duration": 2750,
    "start_time": "2022-08-30T07:36:50.651Z"
   },
   {
    "duration": 1329,
    "start_time": "2022-08-30T07:37:43.589Z"
   },
   {
    "duration": 98,
    "start_time": "2022-08-30T07:55:58.221Z"
   },
   {
    "duration": 91,
    "start_time": "2022-08-30T08:34:01.020Z"
   },
   {
    "duration": 59,
    "start_time": "2022-08-30T11:56:49.243Z"
   },
   {
    "duration": 692,
    "start_time": "2022-08-30T11:58:43.016Z"
   },
   {
    "duration": 22,
    "start_time": "2022-08-30T11:58:47.156Z"
   },
   {
    "duration": 2892,
    "start_time": "2022-08-30T11:59:08.179Z"
   },
   {
    "duration": 98,
    "start_time": "2022-08-30T11:59:38.196Z"
   },
   {
    "duration": 28,
    "start_time": "2022-08-30T12:00:00.273Z"
   },
   {
    "duration": 86,
    "start_time": "2022-08-30T12:03:29.767Z"
   },
   {
    "duration": 68,
    "start_time": "2022-08-30T12:03:37.113Z"
   },
   {
    "duration": 94,
    "start_time": "2022-08-30T12:10:51.875Z"
   },
   {
    "duration": 6,
    "start_time": "2022-08-30T12:12:36.553Z"
   },
   {
    "duration": 297,
    "start_time": "2022-08-30T12:13:16.429Z"
   },
   {
    "duration": 337,
    "start_time": "2022-08-30T12:13:39.628Z"
   },
   {
    "duration": 215,
    "start_time": "2022-08-30T12:13:40.147Z"
   },
   {
    "duration": 331,
    "start_time": "2022-08-30T12:14:41.395Z"
   },
   {
    "duration": 229,
    "start_time": "2022-08-30T12:14:50.794Z"
   },
   {
    "duration": 56,
    "start_time": "2022-08-30T12:15:11.589Z"
   },
   {
    "duration": 63,
    "start_time": "2022-08-30T12:15:44.173Z"
   },
   {
    "duration": 29,
    "start_time": "2022-08-30T12:16:05.451Z"
   },
   {
    "duration": 6,
    "start_time": "2022-08-30T12:16:09.342Z"
   },
   {
    "duration": 22,
    "start_time": "2022-08-30T12:16:10.332Z"
   },
   {
    "duration": 134,
    "start_time": "2022-08-30T12:17:19.132Z"
   },
   {
    "duration": 190,
    "start_time": "2022-08-30T12:18:43.489Z"
   },
   {
    "duration": 216,
    "start_time": "2022-08-30T12:18:47.659Z"
   },
   {
    "duration": 113,
    "start_time": "2022-08-30T12:20:33.590Z"
   },
   {
    "duration": 27,
    "start_time": "2022-08-30T12:20:35.133Z"
   },
   {
    "duration": 2858,
    "start_time": "2022-08-30T12:20:35.782Z"
   },
   {
    "duration": 189,
    "start_time": "2022-08-30T12:20:40.011Z"
   },
   {
    "duration": 61,
    "start_time": "2022-08-30T12:20:45.077Z"
   },
   {
    "duration": 7,
    "start_time": "2022-08-30T12:20:52.851Z"
   },
   {
    "duration": 26,
    "start_time": "2022-08-30T12:20:53.949Z"
   },
   {
    "duration": 294,
    "start_time": "2022-08-30T12:21:07.655Z"
   },
   {
    "duration": 128,
    "start_time": "2022-08-30T12:22:09.036Z"
   },
   {
    "duration": 113,
    "start_time": "2022-08-30T12:22:17.345Z"
   },
   {
    "duration": 177,
    "start_time": "2022-08-30T12:22:54.839Z"
   },
   {
    "duration": 182,
    "start_time": "2022-08-30T12:24:01.627Z"
   },
   {
    "duration": 126,
    "start_time": "2022-08-30T12:25:30.432Z"
   },
   {
    "duration": 284,
    "start_time": "2022-08-30T12:25:32.945Z"
   },
   {
    "duration": 129,
    "start_time": "2022-08-30T12:25:40.316Z"
   },
   {
    "duration": 126,
    "start_time": "2022-08-30T12:25:41.258Z"
   },
   {
    "duration": 115,
    "start_time": "2022-08-30T12:25:46.867Z"
   },
   {
    "duration": 107,
    "start_time": "2022-08-30T12:26:25.833Z"
   },
   {
    "duration": 109,
    "start_time": "2022-08-30T12:27:43.086Z"
   },
   {
    "duration": 115,
    "start_time": "2022-08-30T12:27:48.713Z"
   },
   {
    "duration": 114,
    "start_time": "2022-08-30T12:28:20.674Z"
   },
   {
    "duration": 113,
    "start_time": "2022-08-30T12:29:59.093Z"
   },
   {
    "duration": 148,
    "start_time": "2022-08-30T12:30:37.551Z"
   },
   {
    "duration": 1128,
    "start_time": "2022-08-31T07:29:23.878Z"
   },
   {
    "duration": 27,
    "start_time": "2022-08-31T07:29:25.008Z"
   },
   {
    "duration": 2456,
    "start_time": "2022-08-31T07:29:28.623Z"
   },
   {
    "duration": 120,
    "start_time": "2022-08-31T08:29:19.489Z"
   },
   {
    "duration": 98,
    "start_time": "2022-08-31T08:29:35.555Z"
   },
   {
    "duration": 141,
    "start_time": "2022-08-31T08:30:06.849Z"
   },
   {
    "duration": 176,
    "start_time": "2022-08-31T08:33:12.991Z"
   },
   {
    "duration": 109,
    "start_time": "2022-08-31T08:33:41.129Z"
   },
   {
    "duration": 123,
    "start_time": "2022-08-31T08:33:51.861Z"
   },
   {
    "duration": 96,
    "start_time": "2022-08-31T08:33:58.750Z"
   },
   {
    "duration": 319,
    "start_time": "2022-08-31T08:34:51.678Z"
   },
   {
    "duration": 115,
    "start_time": "2022-08-31T08:47:19.840Z"
   },
   {
    "duration": 84,
    "start_time": "2022-08-31T08:47:25.587Z"
   },
   {
    "duration": 84,
    "start_time": "2022-08-31T08:47:26.293Z"
   },
   {
    "duration": 205,
    "start_time": "2022-08-31T08:47:27.936Z"
   },
   {
    "duration": 127,
    "start_time": "2022-08-31T08:47:34.996Z"
   },
   {
    "duration": 97,
    "start_time": "2022-08-31T08:47:42.160Z"
   },
   {
    "duration": 282,
    "start_time": "2022-08-31T08:49:28.749Z"
   },
   {
    "duration": 96,
    "start_time": "2022-08-31T08:49:36.279Z"
   },
   {
    "duration": 23,
    "start_time": "2022-08-31T08:49:37.272Z"
   },
   {
    "duration": 2567,
    "start_time": "2022-08-31T08:49:38.147Z"
   },
   {
    "duration": 106,
    "start_time": "2022-08-31T08:49:41.438Z"
   },
   {
    "duration": 37,
    "start_time": "2022-08-31T08:49:43.883Z"
   },
   {
    "duration": 6,
    "start_time": "2022-08-31T08:49:47.730Z"
   },
   {
    "duration": 17,
    "start_time": "2022-08-31T08:49:48.628Z"
   },
   {
    "duration": 100,
    "start_time": "2022-08-31T08:49:51.804Z"
   },
   {
    "duration": 493,
    "start_time": "2022-08-31T08:55:14.802Z"
   },
   {
    "duration": 88,
    "start_time": "2022-08-31T08:56:29.712Z"
   },
   {
    "duration": 196,
    "start_time": "2022-08-31T08:57:07.566Z"
   },
   {
    "duration": 618,
    "start_time": "2022-08-31T08:59:10.764Z"
   },
   {
    "duration": 818,
    "start_time": "2022-08-31T08:59:41.833Z"
   },
   {
    "duration": 691,
    "start_time": "2022-08-31T09:00:52.646Z"
   },
   {
    "duration": 398,
    "start_time": "2022-08-31T09:01:27.770Z"
   },
   {
    "duration": 873,
    "start_time": "2022-08-31T09:02:58.030Z"
   },
   {
    "duration": 423,
    "start_time": "2022-08-31T09:04:08.303Z"
   },
   {
    "duration": 1,
    "start_time": "2022-08-31T09:04:21.032Z"
   },
   {
    "duration": 565,
    "start_time": "2022-08-31T09:04:27.546Z"
   },
   {
    "duration": 506,
    "start_time": "2022-08-31T09:11:28.537Z"
   },
   {
    "duration": 320,
    "start_time": "2022-08-31T09:13:05.095Z"
   },
   {
    "duration": 538,
    "start_time": "2022-08-31T09:15:41.917Z"
   },
   {
    "duration": 43,
    "start_time": "2022-09-01T06:52:20.382Z"
   },
   {
    "duration": 1069,
    "start_time": "2022-09-01T06:52:28.400Z"
   },
   {
    "duration": 34,
    "start_time": "2022-09-01T06:52:29.474Z"
   },
   {
    "duration": 3087,
    "start_time": "2022-09-01T06:52:30.687Z"
   },
   {
    "duration": 103,
    "start_time": "2022-09-01T06:52:38.817Z"
   },
   {
    "duration": 103,
    "start_time": "2022-09-01T06:52:46.615Z"
   },
   {
    "duration": 40,
    "start_time": "2022-09-01T06:52:54.417Z"
   },
   {
    "duration": 5,
    "start_time": "2022-09-01T06:52:59.724Z"
   },
   {
    "duration": 18,
    "start_time": "2022-09-01T06:53:00.433Z"
   },
   {
    "duration": 20,
    "start_time": "2022-09-01T06:54:07.550Z"
   },
   {
    "duration": 43,
    "start_time": "2022-09-01T08:10:54.957Z"
   },
   {
    "duration": 25,
    "start_time": "2022-09-01T08:11:21.430Z"
   },
   {
    "duration": 211,
    "start_time": "2022-09-01T08:11:34.138Z"
   },
   {
    "duration": 26,
    "start_time": "2022-09-01T08:11:53.631Z"
   },
   {
    "duration": 3064,
    "start_time": "2022-09-01T08:11:54.183Z"
   },
   {
    "duration": 96,
    "start_time": "2022-09-01T08:11:57.249Z"
   },
   {
    "duration": 97,
    "start_time": "2022-09-01T08:12:01.890Z"
   },
   {
    "duration": 39,
    "start_time": "2022-09-01T08:12:06.123Z"
   },
   {
    "duration": 5,
    "start_time": "2022-09-01T08:12:13.004Z"
   },
   {
    "duration": 24,
    "start_time": "2022-09-01T08:12:13.962Z"
   },
   {
    "duration": 29,
    "start_time": "2022-09-01T08:13:10.136Z"
   },
   {
    "duration": 26,
    "start_time": "2022-09-01T08:14:25.645Z"
   },
   {
    "duration": 5,
    "start_time": "2022-09-01T08:14:36.009Z"
   },
   {
    "duration": 23,
    "start_time": "2022-09-01T08:14:36.771Z"
   },
   {
    "duration": 23,
    "start_time": "2022-09-01T08:14:40.080Z"
   },
   {
    "duration": 1092,
    "start_time": "2022-09-01T08:14:58.179Z"
   },
   {
    "duration": 20,
    "start_time": "2022-09-01T08:15:19.173Z"
   },
   {
    "duration": 18,
    "start_time": "2022-09-01T08:19:03.374Z"
   },
   {
    "duration": 834,
    "start_time": "2022-09-01T08:37:20.115Z"
   },
   {
    "duration": 727,
    "start_time": "2022-09-01T08:37:30.430Z"
   },
   {
    "duration": 769,
    "start_time": "2022-09-01T08:38:14.829Z"
   },
   {
    "duration": 883,
    "start_time": "2022-09-01T08:39:03.041Z"
   },
   {
    "duration": 99,
    "start_time": "2022-09-01T08:39:12.961Z"
   },
   {
    "duration": 24,
    "start_time": "2022-09-01T08:39:14.952Z"
   },
   {
    "duration": 2956,
    "start_time": "2022-09-01T08:39:15.982Z"
   },
   {
    "duration": 91,
    "start_time": "2022-09-01T08:39:19.437Z"
   },
   {
    "duration": 97,
    "start_time": "2022-09-01T08:39:23.948Z"
   },
   {
    "duration": 35,
    "start_time": "2022-09-01T08:39:29.547Z"
   },
   {
    "duration": 36,
    "start_time": "2022-09-01T08:39:34.264Z"
   },
   {
    "duration": 5,
    "start_time": "2022-09-01T08:39:41.286Z"
   },
   {
    "duration": 31,
    "start_time": "2022-09-01T08:39:43.484Z"
   },
   {
    "duration": 110,
    "start_time": "2022-09-01T08:39:55.875Z"
   },
   {
    "duration": 283,
    "start_time": "2022-09-01T08:40:11.612Z"
   },
   {
    "duration": 136,
    "start_time": "2022-09-01T08:40:13.144Z"
   },
   {
    "duration": 317,
    "start_time": "2022-09-01T08:40:24.855Z"
   },
   {
    "duration": 719,
    "start_time": "2022-09-01T08:40:32.901Z"
   },
   {
    "duration": 599,
    "start_time": "2022-09-01T08:40:41.952Z"
   },
   {
    "duration": 883,
    "start_time": "2022-09-01T08:40:49.463Z"
   },
   {
    "duration": 681,
    "start_time": "2022-09-01T08:41:52.256Z"
   },
   {
    "duration": 237,
    "start_time": "2022-09-01T08:44:37.109Z"
   },
   {
    "duration": 243,
    "start_time": "2022-09-01T08:45:16.761Z"
   },
   {
    "duration": 228,
    "start_time": "2022-09-01T08:47:32.428Z"
   },
   {
    "duration": 966,
    "start_time": "2022-09-01T08:56:16.077Z"
   },
   {
    "duration": 756,
    "start_time": "2022-09-01T08:58:04.762Z"
   },
   {
    "duration": 710,
    "start_time": "2022-09-01T08:58:30.621Z"
   },
   {
    "duration": 924,
    "start_time": "2022-09-01T08:59:04.135Z"
   },
   {
    "duration": 680,
    "start_time": "2022-09-01T08:59:51.522Z"
   },
   {
    "duration": 799,
    "start_time": "2022-09-01T09:02:33.119Z"
   },
   {
    "duration": 424,
    "start_time": "2022-09-01T09:06:31.329Z"
   },
   {
    "duration": 537,
    "start_time": "2022-09-01T09:09:28.984Z"
   },
   {
    "duration": 679,
    "start_time": "2022-09-01T09:10:04.307Z"
   },
   {
    "duration": 603,
    "start_time": "2022-09-01T09:10:14.793Z"
   },
   {
    "duration": 158,
    "start_time": "2022-09-01T09:12:09.493Z"
   },
   {
    "duration": 109,
    "start_time": "2022-09-01T09:34:09.989Z"
   },
   {
    "duration": 752,
    "start_time": "2022-09-01T09:36:16.855Z"
   },
   {
    "duration": 86,
    "start_time": "2022-09-01T09:36:32.546Z"
   },
   {
    "duration": 78,
    "start_time": "2022-09-01T09:36:58.768Z"
   },
   {
    "duration": 80,
    "start_time": "2022-09-01T09:37:48.178Z"
   },
   {
    "duration": 86,
    "start_time": "2022-09-01T09:37:58.346Z"
   },
   {
    "duration": 8,
    "start_time": "2022-09-01T09:39:22.639Z"
   },
   {
    "duration": 11,
    "start_time": "2022-09-01T09:39:31.718Z"
   },
   {
    "duration": 11,
    "start_time": "2022-09-01T09:41:23.668Z"
   },
   {
    "duration": 638,
    "start_time": "2022-09-01T09:42:05.212Z"
   },
   {
    "duration": 33,
    "start_time": "2022-09-01T09:42:14.436Z"
   },
   {
    "duration": 3206,
    "start_time": "2022-09-01T09:42:15.486Z"
   },
   {
    "duration": 102,
    "start_time": "2022-09-01T09:42:25.919Z"
   },
   {
    "duration": 97,
    "start_time": "2022-09-01T09:42:34.046Z"
   },
   {
    "duration": 40,
    "start_time": "2022-09-01T09:42:43.844Z"
   },
   {
    "duration": 46,
    "start_time": "2022-09-01T09:42:47.637Z"
   },
   {
    "duration": 9,
    "start_time": "2022-09-01T09:42:55.739Z"
   },
   {
    "duration": 24,
    "start_time": "2022-09-01T09:42:58.631Z"
   },
   {
    "duration": 114,
    "start_time": "2022-09-01T09:43:02.423Z"
   },
   {
    "duration": 124,
    "start_time": "2022-09-01T09:43:05.071Z"
   },
   {
    "duration": 159,
    "start_time": "2022-09-01T09:43:06.174Z"
   },
   {
    "duration": 592,
    "start_time": "2022-09-01T09:43:11.814Z"
   },
   {
    "duration": 850,
    "start_time": "2022-09-01T09:43:16.895Z"
   },
   {
    "duration": 837,
    "start_time": "2022-09-01T09:43:18.305Z"
   },
   {
    "duration": 493,
    "start_time": "2022-09-01T09:43:20.954Z"
   },
   {
    "duration": 626,
    "start_time": "2022-09-01T09:45:30.625Z"
   },
   {
    "duration": 167,
    "start_time": "2022-09-01T09:45:34.829Z"
   },
   {
    "duration": 79,
    "start_time": "2022-09-01T09:45:46.465Z"
   },
   {
    "duration": 10,
    "start_time": "2022-09-01T09:45:51.210Z"
   },
   {
    "duration": 44,
    "start_time": "2022-09-01T09:46:03.922Z"
   },
   {
    "duration": 11,
    "start_time": "2022-09-01T09:46:11.295Z"
   },
   {
    "duration": 15,
    "start_time": "2022-09-01T09:49:00.271Z"
   },
   {
    "duration": 1321,
    "start_time": "2022-09-01T09:49:52.738Z"
   },
   {
    "duration": 1820,
    "start_time": "2022-09-01T09:50:20.109Z"
   },
   {
    "duration": 19,
    "start_time": "2022-09-01T09:50:43.288Z"
   },
   {
    "duration": 29,
    "start_time": "2022-09-01T09:51:20.345Z"
   },
   {
    "duration": 1061,
    "start_time": "2022-09-01T09:52:26.757Z"
   },
   {
    "duration": 18,
    "start_time": "2022-09-01T09:52:37.249Z"
   },
   {
    "duration": 2744,
    "start_time": "2022-09-01T09:57:09.600Z"
   },
   {
    "duration": 2274,
    "start_time": "2022-09-01T09:58:54.845Z"
   },
   {
    "duration": 44,
    "start_time": "2022-09-01T18:08:12.182Z"
   },
   {
    "duration": 1583,
    "start_time": "2022-09-01T18:08:30.864Z"
   },
   {
    "duration": 26,
    "start_time": "2022-09-01T18:08:32.448Z"
   },
   {
    "duration": 2617,
    "start_time": "2022-09-01T18:08:32.601Z"
   },
   {
    "duration": 90,
    "start_time": "2022-09-01T18:08:36.670Z"
   },
   {
    "duration": 89,
    "start_time": "2022-09-01T18:08:40.811Z"
   },
   {
    "duration": 42,
    "start_time": "2022-09-01T18:08:45.153Z"
   },
   {
    "duration": 6,
    "start_time": "2022-09-01T18:08:48.675Z"
   },
   {
    "duration": 22,
    "start_time": "2022-09-01T18:08:49.701Z"
   },
   {
    "duration": 101,
    "start_time": "2022-09-01T18:08:53.071Z"
   },
   {
    "duration": 206,
    "start_time": "2022-09-01T18:08:53.899Z"
   },
   {
    "duration": 137,
    "start_time": "2022-09-01T18:08:55.039Z"
   },
   {
    "duration": 300,
    "start_time": "2022-09-01T18:08:59.631Z"
   },
   {
    "duration": 719,
    "start_time": "2022-09-01T18:09:02.784Z"
   },
   {
    "duration": 835,
    "start_time": "2022-09-01T18:09:04.188Z"
   },
   {
    "duration": 410,
    "start_time": "2022-09-01T18:09:05.146Z"
   },
   {
    "duration": 522,
    "start_time": "2022-09-01T18:09:06.273Z"
   },
   {
    "duration": 145,
    "start_time": "2022-09-01T18:09:09.829Z"
   },
   {
    "duration": 215,
    "start_time": "2022-09-01T18:09:16.248Z"
   },
   {
    "duration": 2003,
    "start_time": "2022-09-01T18:09:17.033Z"
   },
   {
    "duration": 1763,
    "start_time": "2022-09-01T18:09:21.887Z"
   },
   {
    "duration": 0,
    "start_time": "2022-09-01T18:09:23.651Z"
   },
   {
    "duration": 1179,
    "start_time": "2022-09-01T18:09:30.407Z"
   },
   {
    "duration": 2541,
    "start_time": "2022-09-01T18:09:50.219Z"
   },
   {
    "duration": 82,
    "start_time": "2022-09-01T18:09:57.755Z"
   },
   {
    "duration": 2090,
    "start_time": "2022-09-01T18:09:58.504Z"
   },
   {
    "duration": 1451,
    "start_time": "2022-09-01T18:10:05.322Z"
   },
   {
    "duration": 23,
    "start_time": "2022-09-01T18:10:15.688Z"
   },
   {
    "duration": 24,
    "start_time": "2022-09-01T18:10:51.416Z"
   },
   {
    "duration": 1105,
    "start_time": "2022-09-01T18:11:46.133Z"
   },
   {
    "duration": 31,
    "start_time": "2022-09-01T18:11:57.333Z"
   },
   {
    "duration": 862,
    "start_time": "2022-09-01T18:15:51.733Z"
   },
   {
    "duration": 5,
    "start_time": "2022-09-01T18:17:55.092Z"
   },
   {
    "duration": 905,
    "start_time": "2022-09-01T18:18:42.997Z"
   },
   {
    "duration": 9,
    "start_time": "2022-09-01T18:21:21.853Z"
   },
   {
    "duration": 22,
    "start_time": "2022-09-01T18:21:30.211Z"
   },
   {
    "duration": 806,
    "start_time": "2022-09-01T18:21:33.941Z"
   },
   {
    "duration": 21,
    "start_time": "2022-09-01T18:23:25.643Z"
   },
   {
    "duration": 24,
    "start_time": "2022-09-01T18:23:33.832Z"
   },
   {
    "duration": 58,
    "start_time": "2022-09-01T18:39:48.390Z"
   },
   {
    "duration": 10,
    "start_time": "2022-09-01T18:40:01.990Z"
   },
   {
    "duration": 61,
    "start_time": "2022-09-01T18:57:08.714Z"
   },
   {
    "duration": 77,
    "start_time": "2022-09-01T18:57:14.727Z"
   },
   {
    "duration": 64,
    "start_time": "2022-09-02T06:41:36.119Z"
   }
  ],
  "kernelspec": {
   "display_name": "Python 3 (ipykernel)",
   "language": "python",
   "name": "python3"
  },
  "language_info": {
   "codemirror_mode": {
    "name": "ipython",
    "version": 3
   },
   "file_extension": ".py",
   "mimetype": "text/x-python",
   "name": "python",
   "nbconvert_exporter": "python",
   "pygments_lexer": "ipython3",
   "version": "3.9.13"
  },
  "toc": {
   "base_numbering": 1,
   "nav_menu": {},
   "number_sections": true,
   "sideBar": true,
   "skip_h1_title": true,
   "title_cell": "Table of Contents",
   "title_sidebar": "Contents",
   "toc_cell": false,
   "toc_position": {},
   "toc_section_display": true,
   "toc_window_display": false
  }
 },
 "nbformat": 4,
 "nbformat_minor": 2
}
