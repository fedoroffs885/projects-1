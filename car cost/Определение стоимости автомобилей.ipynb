{
 "cells": [
  {
   "cell_type": "markdown",
   "metadata": {},
   "source": [
    "# Определение стоимости автомобилей"
   ]
  },
  {
   "cell_type": "markdown",
   "metadata": {},
   "source": [
    "Сервис по продаже автомобилей с пробегом «Не бит, не крашен» разрабатывает приложение для привлечения новых клиентов. В нём можно быстро узнать рыночную стоимость своего автомобиля. В вашем распоряжении исторические данные: технические характеристики, комплектации и цены автомобилей. Вам нужно построить модель для определения стоимости. \n",
    "\n",
    "Заказчику важны:\n",
    "\n",
    "- качество предсказания;\n",
    "- скорость предсказания;\n",
    "- время обучения."
   ]
  },
  {
   "cell_type": "markdown",
   "metadata": {},
   "source": [
    "## Шаги исследования"
   ]
  },
  {
   "cell_type": "markdown",
   "metadata": {},
   "source": [
    "1. Подготовка данных\n",
    "2. Обучение моделей\n",
    "3. Анализ моделей"
   ]
  },
  {
   "cell_type": "markdown",
   "metadata": {},
   "source": [
    "## 1. Подготовка данных"
   ]
  },
  {
   "cell_type": "code",
   "execution_count": 1,
   "metadata": {},
   "outputs": [
    {
     "name": "stdout",
     "output_type": "stream",
     "text": [
      "Requirement already satisfied: scikit-learn in /opt/conda/lib/python3.9/site-packages (1.2.2)\n",
      "Requirement already satisfied: scipy>=1.3.2 in /opt/conda/lib/python3.9/site-packages (from scikit-learn) (1.9.1)\n",
      "Requirement already satisfied: joblib>=1.1.1 in /opt/conda/lib/python3.9/site-packages (from scikit-learn) (1.2.0)\n",
      "Requirement already satisfied: numpy>=1.17.3 in /opt/conda/lib/python3.9/site-packages (from scikit-learn) (1.21.1)\n",
      "Requirement already satisfied: threadpoolctl>=2.0.0 in /opt/conda/lib/python3.9/site-packages (from scikit-learn) (3.1.0)\n"
     ]
    }
   ],
   "source": [
    "!pip install -U scikit-learn"
   ]
  },
  {
   "cell_type": "code",
   "execution_count": 2,
   "metadata": {},
   "outputs": [],
   "source": [
    "# Импорт нужных библиотек\n",
    "import pandas as pd\n",
    "import numpy as np\n",
    "import math\n",
    "\n",
    "import lightgbm as lgb\n",
    "\n",
    "from sklearn.compose import make_column_transformer\n",
    "from sklearn.ensemble import RandomForestRegressor\n",
    "from sklearn.linear_model import Ridge\n",
    "from sklearn.linear_model import LinearRegression\n",
    "\n",
    "from sklearn.metrics import mean_squared_error\n",
    "from sklearn.model_selection import (\n",
    "    GridSearchCV, \n",
    "    RandomizedSearchCV,\n",
    "    train_test_split\n",
    ")\n",
    "from sklearn.pipeline import make_pipeline\n",
    "from sklearn.preprocessing import (\n",
    "    OneHotEncoder,\n",
    "    OrdinalEncoder,\n",
    "    StandardScaler\n",
    ")\n",
    "\n",
    "RANDOM_STATE = 12345\n",
    "\n",
    "# Категориальные признаки, которые нужно закодировать \n",
    "ohe_features = ['vehicletype', 'gearbox', 'model', 'fueltype', 'brand', 'repaired', 'registrationmonth', 'registrationyear']\n",
    "# Количественные признаки, которые нужно масштабировать \n",
    "num_features = ['power', 'kilometer']"
   ]
  },
  {
   "cell_type": "code",
   "execution_count": 3,
   "metadata": {},
   "outputs": [],
   "source": [
    "# Загрузим данные\n",
    "data = pd.read_csv('/datasets/autos.csv')"
   ]
  },
  {
   "cell_type": "code",
   "execution_count": 4,
   "metadata": {},
   "outputs": [],
   "source": [
    "def about_data(data):\n",
    "    display(data.sample(5))\n",
    "    display(data.info())\n",
    "    display(data.describe(include='all'))"
   ]
  },
  {
   "cell_type": "code",
   "execution_count": 5,
   "metadata": {},
   "outputs": [
    {
     "data": {
      "text/html": [
       "<div>\n",
       "<style scoped>\n",
       "    .dataframe tbody tr th:only-of-type {\n",
       "        vertical-align: middle;\n",
       "    }\n",
       "\n",
       "    .dataframe tbody tr th {\n",
       "        vertical-align: top;\n",
       "    }\n",
       "\n",
       "    .dataframe thead th {\n",
       "        text-align: right;\n",
       "    }\n",
       "</style>\n",
       "<table border=\"1\" class=\"dataframe\">\n",
       "  <thead>\n",
       "    <tr style=\"text-align: right;\">\n",
       "      <th></th>\n",
       "      <th>DateCrawled</th>\n",
       "      <th>Price</th>\n",
       "      <th>VehicleType</th>\n",
       "      <th>RegistrationYear</th>\n",
       "      <th>Gearbox</th>\n",
       "      <th>Power</th>\n",
       "      <th>Model</th>\n",
       "      <th>Kilometer</th>\n",
       "      <th>RegistrationMonth</th>\n",
       "      <th>FuelType</th>\n",
       "      <th>Brand</th>\n",
       "      <th>Repaired</th>\n",
       "      <th>DateCreated</th>\n",
       "      <th>NumberOfPictures</th>\n",
       "      <th>PostalCode</th>\n",
       "      <th>LastSeen</th>\n",
       "    </tr>\n",
       "  </thead>\n",
       "  <tbody>\n",
       "    <tr>\n",
       "      <th>347149</th>\n",
       "      <td>2016-04-01 11:59:01</td>\n",
       "      <td>1500</td>\n",
       "      <td>wagon</td>\n",
       "      <td>2003</td>\n",
       "      <td>manual</td>\n",
       "      <td>75</td>\n",
       "      <td>NaN</td>\n",
       "      <td>150000</td>\n",
       "      <td>5</td>\n",
       "      <td>petrol</td>\n",
       "      <td>peugeot</td>\n",
       "      <td>NaN</td>\n",
       "      <td>2016-04-01 00:00:00</td>\n",
       "      <td>0</td>\n",
       "      <td>47229</td>\n",
       "      <td>2016-04-07 08:46:07</td>\n",
       "    </tr>\n",
       "    <tr>\n",
       "      <th>70291</th>\n",
       "      <td>2016-03-18 07:53:30</td>\n",
       "      <td>2350</td>\n",
       "      <td>NaN</td>\n",
       "      <td>2016</td>\n",
       "      <td>manual</td>\n",
       "      <td>68</td>\n",
       "      <td>aygo</td>\n",
       "      <td>150000</td>\n",
       "      <td>5</td>\n",
       "      <td>petrol</td>\n",
       "      <td>toyota</td>\n",
       "      <td>no</td>\n",
       "      <td>2016-03-18 00:00:00</td>\n",
       "      <td>0</td>\n",
       "      <td>58849</td>\n",
       "      <td>2016-03-18 07:53:30</td>\n",
       "    </tr>\n",
       "    <tr>\n",
       "      <th>728</th>\n",
       "      <td>2016-03-20 11:53:15</td>\n",
       "      <td>5500</td>\n",
       "      <td>sedan</td>\n",
       "      <td>2003</td>\n",
       "      <td>auto</td>\n",
       "      <td>163</td>\n",
       "      <td>a4</td>\n",
       "      <td>150000</td>\n",
       "      <td>11</td>\n",
       "      <td>petrol</td>\n",
       "      <td>audi</td>\n",
       "      <td>no</td>\n",
       "      <td>2016-03-20 00:00:00</td>\n",
       "      <td>0</td>\n",
       "      <td>97450</td>\n",
       "      <td>2016-03-26 20:16:52</td>\n",
       "    </tr>\n",
       "    <tr>\n",
       "      <th>340568</th>\n",
       "      <td>2016-04-03 08:50:39</td>\n",
       "      <td>399</td>\n",
       "      <td>small</td>\n",
       "      <td>1995</td>\n",
       "      <td>manual</td>\n",
       "      <td>75</td>\n",
       "      <td>NaN</td>\n",
       "      <td>150000</td>\n",
       "      <td>0</td>\n",
       "      <td>NaN</td>\n",
       "      <td>volkswagen</td>\n",
       "      <td>NaN</td>\n",
       "      <td>2016-04-03 00:00:00</td>\n",
       "      <td>0</td>\n",
       "      <td>47803</td>\n",
       "      <td>2016-04-07 10:16:15</td>\n",
       "    </tr>\n",
       "    <tr>\n",
       "      <th>36248</th>\n",
       "      <td>2016-03-24 19:59:45</td>\n",
       "      <td>2200</td>\n",
       "      <td>sedan</td>\n",
       "      <td>2001</td>\n",
       "      <td>manual</td>\n",
       "      <td>129</td>\n",
       "      <td>c_klasse</td>\n",
       "      <td>150000</td>\n",
       "      <td>5</td>\n",
       "      <td>petrol</td>\n",
       "      <td>mercedes_benz</td>\n",
       "      <td>no</td>\n",
       "      <td>2016-03-24 00:00:00</td>\n",
       "      <td>0</td>\n",
       "      <td>40476</td>\n",
       "      <td>2016-03-29 06:45:24</td>\n",
       "    </tr>\n",
       "  </tbody>\n",
       "</table>\n",
       "</div>"
      ],
      "text/plain": [
       "                DateCrawled  Price VehicleType  RegistrationYear Gearbox  \\\n",
       "347149  2016-04-01 11:59:01   1500       wagon              2003  manual   \n",
       "70291   2016-03-18 07:53:30   2350         NaN              2016  manual   \n",
       "728     2016-03-20 11:53:15   5500       sedan              2003    auto   \n",
       "340568  2016-04-03 08:50:39    399       small              1995  manual   \n",
       "36248   2016-03-24 19:59:45   2200       sedan              2001  manual   \n",
       "\n",
       "        Power     Model  Kilometer  RegistrationMonth FuelType          Brand  \\\n",
       "347149     75       NaN     150000                  5   petrol        peugeot   \n",
       "70291      68      aygo     150000                  5   petrol         toyota   \n",
       "728       163        a4     150000                 11   petrol           audi   \n",
       "340568     75       NaN     150000                  0      NaN     volkswagen   \n",
       "36248     129  c_klasse     150000                  5   petrol  mercedes_benz   \n",
       "\n",
       "       Repaired          DateCreated  NumberOfPictures  PostalCode  \\\n",
       "347149      NaN  2016-04-01 00:00:00                 0       47229   \n",
       "70291        no  2016-03-18 00:00:00                 0       58849   \n",
       "728          no  2016-03-20 00:00:00                 0       97450   \n",
       "340568      NaN  2016-04-03 00:00:00                 0       47803   \n",
       "36248        no  2016-03-24 00:00:00                 0       40476   \n",
       "\n",
       "                   LastSeen  \n",
       "347149  2016-04-07 08:46:07  \n",
       "70291   2016-03-18 07:53:30  \n",
       "728     2016-03-26 20:16:52  \n",
       "340568  2016-04-07 10:16:15  \n",
       "36248   2016-03-29 06:45:24  "
      ]
     },
     "metadata": {},
     "output_type": "display_data"
    },
    {
     "name": "stdout",
     "output_type": "stream",
     "text": [
      "<class 'pandas.core.frame.DataFrame'>\n",
      "RangeIndex: 354369 entries, 0 to 354368\n",
      "Data columns (total 16 columns):\n",
      " #   Column             Non-Null Count   Dtype \n",
      "---  ------             --------------   ----- \n",
      " 0   DateCrawled        354369 non-null  object\n",
      " 1   Price              354369 non-null  int64 \n",
      " 2   VehicleType        316879 non-null  object\n",
      " 3   RegistrationYear   354369 non-null  int64 \n",
      " 4   Gearbox            334536 non-null  object\n",
      " 5   Power              354369 non-null  int64 \n",
      " 6   Model              334664 non-null  object\n",
      " 7   Kilometer          354369 non-null  int64 \n",
      " 8   RegistrationMonth  354369 non-null  int64 \n",
      " 9   FuelType           321474 non-null  object\n",
      " 10  Brand              354369 non-null  object\n",
      " 11  Repaired           283215 non-null  object\n",
      " 12  DateCreated        354369 non-null  object\n",
      " 13  NumberOfPictures   354369 non-null  int64 \n",
      " 14  PostalCode         354369 non-null  int64 \n",
      " 15  LastSeen           354369 non-null  object\n",
      "dtypes: int64(7), object(9)\n",
      "memory usage: 43.3+ MB\n"
     ]
    },
    {
     "data": {
      "text/plain": [
       "None"
      ]
     },
     "metadata": {},
     "output_type": "display_data"
    },
    {
     "data": {
      "text/html": [
       "<div>\n",
       "<style scoped>\n",
       "    .dataframe tbody tr th:only-of-type {\n",
       "        vertical-align: middle;\n",
       "    }\n",
       "\n",
       "    .dataframe tbody tr th {\n",
       "        vertical-align: top;\n",
       "    }\n",
       "\n",
       "    .dataframe thead th {\n",
       "        text-align: right;\n",
       "    }\n",
       "</style>\n",
       "<table border=\"1\" class=\"dataframe\">\n",
       "  <thead>\n",
       "    <tr style=\"text-align: right;\">\n",
       "      <th></th>\n",
       "      <th>DateCrawled</th>\n",
       "      <th>Price</th>\n",
       "      <th>VehicleType</th>\n",
       "      <th>RegistrationYear</th>\n",
       "      <th>Gearbox</th>\n",
       "      <th>Power</th>\n",
       "      <th>Model</th>\n",
       "      <th>Kilometer</th>\n",
       "      <th>RegistrationMonth</th>\n",
       "      <th>FuelType</th>\n",
       "      <th>Brand</th>\n",
       "      <th>Repaired</th>\n",
       "      <th>DateCreated</th>\n",
       "      <th>NumberOfPictures</th>\n",
       "      <th>PostalCode</th>\n",
       "      <th>LastSeen</th>\n",
       "    </tr>\n",
       "  </thead>\n",
       "  <tbody>\n",
       "    <tr>\n",
       "      <th>count</th>\n",
       "      <td>354369</td>\n",
       "      <td>354369.000000</td>\n",
       "      <td>316879</td>\n",
       "      <td>354369.000000</td>\n",
       "      <td>334536</td>\n",
       "      <td>354369.000000</td>\n",
       "      <td>334664</td>\n",
       "      <td>354369.000000</td>\n",
       "      <td>354369.000000</td>\n",
       "      <td>321474</td>\n",
       "      <td>354369</td>\n",
       "      <td>283215</td>\n",
       "      <td>354369</td>\n",
       "      <td>354369.0</td>\n",
       "      <td>354369.000000</td>\n",
       "      <td>354369</td>\n",
       "    </tr>\n",
       "    <tr>\n",
       "      <th>unique</th>\n",
       "      <td>271174</td>\n",
       "      <td>NaN</td>\n",
       "      <td>8</td>\n",
       "      <td>NaN</td>\n",
       "      <td>2</td>\n",
       "      <td>NaN</td>\n",
       "      <td>250</td>\n",
       "      <td>NaN</td>\n",
       "      <td>NaN</td>\n",
       "      <td>7</td>\n",
       "      <td>40</td>\n",
       "      <td>2</td>\n",
       "      <td>109</td>\n",
       "      <td>NaN</td>\n",
       "      <td>NaN</td>\n",
       "      <td>179150</td>\n",
       "    </tr>\n",
       "    <tr>\n",
       "      <th>top</th>\n",
       "      <td>2016-03-24 14:49:47</td>\n",
       "      <td>NaN</td>\n",
       "      <td>sedan</td>\n",
       "      <td>NaN</td>\n",
       "      <td>manual</td>\n",
       "      <td>NaN</td>\n",
       "      <td>golf</td>\n",
       "      <td>NaN</td>\n",
       "      <td>NaN</td>\n",
       "      <td>petrol</td>\n",
       "      <td>volkswagen</td>\n",
       "      <td>no</td>\n",
       "      <td>2016-04-03 00:00:00</td>\n",
       "      <td>NaN</td>\n",
       "      <td>NaN</td>\n",
       "      <td>2016-04-06 13:45:54</td>\n",
       "    </tr>\n",
       "    <tr>\n",
       "      <th>freq</th>\n",
       "      <td>7</td>\n",
       "      <td>NaN</td>\n",
       "      <td>91457</td>\n",
       "      <td>NaN</td>\n",
       "      <td>268251</td>\n",
       "      <td>NaN</td>\n",
       "      <td>29232</td>\n",
       "      <td>NaN</td>\n",
       "      <td>NaN</td>\n",
       "      <td>216352</td>\n",
       "      <td>77013</td>\n",
       "      <td>247161</td>\n",
       "      <td>13719</td>\n",
       "      <td>NaN</td>\n",
       "      <td>NaN</td>\n",
       "      <td>17</td>\n",
       "    </tr>\n",
       "    <tr>\n",
       "      <th>mean</th>\n",
       "      <td>NaN</td>\n",
       "      <td>4416.656776</td>\n",
       "      <td>NaN</td>\n",
       "      <td>2004.234448</td>\n",
       "      <td>NaN</td>\n",
       "      <td>110.094337</td>\n",
       "      <td>NaN</td>\n",
       "      <td>128211.172535</td>\n",
       "      <td>5.714645</td>\n",
       "      <td>NaN</td>\n",
       "      <td>NaN</td>\n",
       "      <td>NaN</td>\n",
       "      <td>NaN</td>\n",
       "      <td>0.0</td>\n",
       "      <td>50508.689087</td>\n",
       "      <td>NaN</td>\n",
       "    </tr>\n",
       "    <tr>\n",
       "      <th>std</th>\n",
       "      <td>NaN</td>\n",
       "      <td>4514.158514</td>\n",
       "      <td>NaN</td>\n",
       "      <td>90.227958</td>\n",
       "      <td>NaN</td>\n",
       "      <td>189.850405</td>\n",
       "      <td>NaN</td>\n",
       "      <td>37905.341530</td>\n",
       "      <td>3.726421</td>\n",
       "      <td>NaN</td>\n",
       "      <td>NaN</td>\n",
       "      <td>NaN</td>\n",
       "      <td>NaN</td>\n",
       "      <td>0.0</td>\n",
       "      <td>25783.096248</td>\n",
       "      <td>NaN</td>\n",
       "    </tr>\n",
       "    <tr>\n",
       "      <th>min</th>\n",
       "      <td>NaN</td>\n",
       "      <td>0.000000</td>\n",
       "      <td>NaN</td>\n",
       "      <td>1000.000000</td>\n",
       "      <td>NaN</td>\n",
       "      <td>0.000000</td>\n",
       "      <td>NaN</td>\n",
       "      <td>5000.000000</td>\n",
       "      <td>0.000000</td>\n",
       "      <td>NaN</td>\n",
       "      <td>NaN</td>\n",
       "      <td>NaN</td>\n",
       "      <td>NaN</td>\n",
       "      <td>0.0</td>\n",
       "      <td>1067.000000</td>\n",
       "      <td>NaN</td>\n",
       "    </tr>\n",
       "    <tr>\n",
       "      <th>25%</th>\n",
       "      <td>NaN</td>\n",
       "      <td>1050.000000</td>\n",
       "      <td>NaN</td>\n",
       "      <td>1999.000000</td>\n",
       "      <td>NaN</td>\n",
       "      <td>69.000000</td>\n",
       "      <td>NaN</td>\n",
       "      <td>125000.000000</td>\n",
       "      <td>3.000000</td>\n",
       "      <td>NaN</td>\n",
       "      <td>NaN</td>\n",
       "      <td>NaN</td>\n",
       "      <td>NaN</td>\n",
       "      <td>0.0</td>\n",
       "      <td>30165.000000</td>\n",
       "      <td>NaN</td>\n",
       "    </tr>\n",
       "    <tr>\n",
       "      <th>50%</th>\n",
       "      <td>NaN</td>\n",
       "      <td>2700.000000</td>\n",
       "      <td>NaN</td>\n",
       "      <td>2003.000000</td>\n",
       "      <td>NaN</td>\n",
       "      <td>105.000000</td>\n",
       "      <td>NaN</td>\n",
       "      <td>150000.000000</td>\n",
       "      <td>6.000000</td>\n",
       "      <td>NaN</td>\n",
       "      <td>NaN</td>\n",
       "      <td>NaN</td>\n",
       "      <td>NaN</td>\n",
       "      <td>0.0</td>\n",
       "      <td>49413.000000</td>\n",
       "      <td>NaN</td>\n",
       "    </tr>\n",
       "    <tr>\n",
       "      <th>75%</th>\n",
       "      <td>NaN</td>\n",
       "      <td>6400.000000</td>\n",
       "      <td>NaN</td>\n",
       "      <td>2008.000000</td>\n",
       "      <td>NaN</td>\n",
       "      <td>143.000000</td>\n",
       "      <td>NaN</td>\n",
       "      <td>150000.000000</td>\n",
       "      <td>9.000000</td>\n",
       "      <td>NaN</td>\n",
       "      <td>NaN</td>\n",
       "      <td>NaN</td>\n",
       "      <td>NaN</td>\n",
       "      <td>0.0</td>\n",
       "      <td>71083.000000</td>\n",
       "      <td>NaN</td>\n",
       "    </tr>\n",
       "    <tr>\n",
       "      <th>max</th>\n",
       "      <td>NaN</td>\n",
       "      <td>20000.000000</td>\n",
       "      <td>NaN</td>\n",
       "      <td>9999.000000</td>\n",
       "      <td>NaN</td>\n",
       "      <td>20000.000000</td>\n",
       "      <td>NaN</td>\n",
       "      <td>150000.000000</td>\n",
       "      <td>12.000000</td>\n",
       "      <td>NaN</td>\n",
       "      <td>NaN</td>\n",
       "      <td>NaN</td>\n",
       "      <td>NaN</td>\n",
       "      <td>0.0</td>\n",
       "      <td>99998.000000</td>\n",
       "      <td>NaN</td>\n",
       "    </tr>\n",
       "  </tbody>\n",
       "</table>\n",
       "</div>"
      ],
      "text/plain": [
       "                DateCrawled          Price VehicleType  RegistrationYear  \\\n",
       "count                354369  354369.000000      316879     354369.000000   \n",
       "unique               271174            NaN           8               NaN   \n",
       "top     2016-03-24 14:49:47            NaN       sedan               NaN   \n",
       "freq                      7            NaN       91457               NaN   \n",
       "mean                    NaN    4416.656776         NaN       2004.234448   \n",
       "std                     NaN    4514.158514         NaN         90.227958   \n",
       "min                     NaN       0.000000         NaN       1000.000000   \n",
       "25%                     NaN    1050.000000         NaN       1999.000000   \n",
       "50%                     NaN    2700.000000         NaN       2003.000000   \n",
       "75%                     NaN    6400.000000         NaN       2008.000000   \n",
       "max                     NaN   20000.000000         NaN       9999.000000   \n",
       "\n",
       "       Gearbox          Power   Model      Kilometer  RegistrationMonth  \\\n",
       "count   334536  354369.000000  334664  354369.000000      354369.000000   \n",
       "unique       2            NaN     250            NaN                NaN   \n",
       "top     manual            NaN    golf            NaN                NaN   \n",
       "freq    268251            NaN   29232            NaN                NaN   \n",
       "mean       NaN     110.094337     NaN  128211.172535           5.714645   \n",
       "std        NaN     189.850405     NaN   37905.341530           3.726421   \n",
       "min        NaN       0.000000     NaN    5000.000000           0.000000   \n",
       "25%        NaN      69.000000     NaN  125000.000000           3.000000   \n",
       "50%        NaN     105.000000     NaN  150000.000000           6.000000   \n",
       "75%        NaN     143.000000     NaN  150000.000000           9.000000   \n",
       "max        NaN   20000.000000     NaN  150000.000000          12.000000   \n",
       "\n",
       "       FuelType       Brand Repaired          DateCreated  NumberOfPictures  \\\n",
       "count    321474      354369   283215               354369          354369.0   \n",
       "unique        7          40        2                  109               NaN   \n",
       "top      petrol  volkswagen       no  2016-04-03 00:00:00               NaN   \n",
       "freq     216352       77013   247161                13719               NaN   \n",
       "mean        NaN         NaN      NaN                  NaN               0.0   \n",
       "std         NaN         NaN      NaN                  NaN               0.0   \n",
       "min         NaN         NaN      NaN                  NaN               0.0   \n",
       "25%         NaN         NaN      NaN                  NaN               0.0   \n",
       "50%         NaN         NaN      NaN                  NaN               0.0   \n",
       "75%         NaN         NaN      NaN                  NaN               0.0   \n",
       "max         NaN         NaN      NaN                  NaN               0.0   \n",
       "\n",
       "           PostalCode             LastSeen  \n",
       "count   354369.000000               354369  \n",
       "unique            NaN               179150  \n",
       "top               NaN  2016-04-06 13:45:54  \n",
       "freq              NaN                   17  \n",
       "mean     50508.689087                  NaN  \n",
       "std      25783.096248                  NaN  \n",
       "min       1067.000000                  NaN  \n",
       "25%      30165.000000                  NaN  \n",
       "50%      49413.000000                  NaN  \n",
       "75%      71083.000000                  NaN  \n",
       "max      99998.000000                  NaN  "
      ]
     },
     "metadata": {},
     "output_type": "display_data"
    }
   ],
   "source": [
    "# Изучим данные\n",
    "about_data(data)"
   ]
  },
  {
   "cell_type": "code",
   "execution_count": 6,
   "metadata": {},
   "outputs": [
    {
     "data": {
      "text/plain": [
       "Index(['datecrawled', 'price', 'vehicletype', 'registrationyear', 'gearbox',\n",
       "       'power', 'model', 'kilometer', 'registrationmonth', 'fueltype', 'brand',\n",
       "       'repaired', 'datecreated', 'numberofpictures', 'postalcode',\n",
       "       'lastseen'],\n",
       "      dtype='object')"
      ]
     },
     "execution_count": 6,
     "metadata": {},
     "output_type": "execute_result"
    }
   ],
   "source": [
    "# Приведем названия столбцов к нижнему регистру\n",
    "data.columns = map(str.lower, data.columns)\n",
    "data.columns"
   ]
  },
  {
   "cell_type": "code",
   "execution_count": 7,
   "metadata": {},
   "outputs": [
    {
     "name": "stdout",
     "output_type": "stream",
     "text": [
      "<class 'pandas.core.frame.DataFrame'>\n",
      "RangeIndex: 354369 entries, 0 to 354368\n",
      "Data columns (total 11 columns):\n",
      " #   Column             Non-Null Count   Dtype \n",
      "---  ------             --------------   ----- \n",
      " 0   price              354369 non-null  int64 \n",
      " 1   vehicletype        316879 non-null  object\n",
      " 2   registrationyear   354369 non-null  int64 \n",
      " 3   gearbox            334536 non-null  object\n",
      " 4   power              354369 non-null  int64 \n",
      " 5   model              334664 non-null  object\n",
      " 6   kilometer          354369 non-null  int64 \n",
      " 7   registrationmonth  354369 non-null  int64 \n",
      " 8   fueltype           321474 non-null  object\n",
      " 9   brand              354369 non-null  object\n",
      " 10  repaired           283215 non-null  object\n",
      "dtypes: int64(5), object(6)\n",
      "memory usage: 29.7+ MB\n"
     ]
    }
   ],
   "source": [
    "# Удалим признаки, которые не являются информативными\n",
    "data = data.drop(['datecrawled', 'datecreated', 'postalcode', 'numberofpictures', 'lastseen'], axis=1)\n",
    "data.info()"
   ]
  },
  {
   "cell_type": "markdown",
   "metadata": {},
   "source": [
    "Колонки `datecrawled`, `datecreated`, `postalcode`, `lastseen` неинформативны, так как не несут в себе никаких характеристик, способных влиять на таргет - колонку `price`. Колонка `numberofpictures` полностью нулевая."
   ]
  },
  {
   "cell_type": "code",
   "execution_count": 8,
   "metadata": {},
   "outputs": [
    {
     "name": "stdout",
     "output_type": "stream",
     "text": [
      "price                 0.000000\n",
      "vehicletype          10.579368\n",
      "registrationyear      0.000000\n",
      "gearbox               5.596709\n",
      "power                 0.000000\n",
      "model                 5.560588\n",
      "kilometer             0.000000\n",
      "registrationmonth     0.000000\n",
      "fueltype              9.282697\n",
      "brand                 0.000000\n",
      "repaired             20.079070\n",
      "dtype: float64\n"
     ]
    }
   ],
   "source": [
    "# Посчитаем процент пропусков в каждом столбце\n",
    "print((data.isna().sum() / data.shape[0]) * 100)"
   ]
  },
  {
   "cell_type": "code",
   "execution_count": 9,
   "metadata": {},
   "outputs": [
    {
     "name": "stdout",
     "output_type": "stream",
     "text": [
      "price                0.0\n",
      "vehicletype          0.0\n",
      "registrationyear     0.0\n",
      "gearbox              0.0\n",
      "power                0.0\n",
      "model                0.0\n",
      "kilometer            0.0\n",
      "registrationmonth    0.0\n",
      "fueltype             0.0\n",
      "brand                0.0\n",
      "repaired             0.0\n",
      "dtype: float64\n"
     ]
    }
   ],
   "source": [
    "# Заполним пропуски с помощью заглушек\n",
    "columns_to_fill = ['vehicletype', 'gearbox', 'model', 'fueltype', 'repaired']\n",
    "for column in columns_to_fill:\n",
    "    data[column] = data[column].fillna('no')\n",
    "print((data.isna().sum() / data.shape[0]) * 100)"
   ]
  },
  {
   "cell_type": "markdown",
   "metadata": {},
   "source": [
    "Так как природу пропусков определить представляется маловозможным, поставим заглушки в данных признаках."
   ]
  },
  {
   "cell_type": "code",
   "execution_count": 10,
   "metadata": {},
   "outputs": [
    {
     "data": {
      "text/plain": [
       "30890"
      ]
     },
     "execution_count": 10,
     "metadata": {},
     "output_type": "execute_result"
    }
   ],
   "source": [
    "data.duplicated().sum()"
   ]
  },
  {
   "cell_type": "code",
   "execution_count": 11,
   "metadata": {},
   "outputs": [
    {
     "data": {
      "text/plain": [
       "(323479, 11)"
      ]
     },
     "execution_count": 11,
     "metadata": {},
     "output_type": "execute_result"
    }
   ],
   "source": [
    "# Удалим дубликаты\n",
    "data = data.drop_duplicates()\n",
    "data.shape"
   ]
  },
  {
   "cell_type": "code",
   "execution_count": 12,
   "metadata": {},
   "outputs": [
    {
     "data": {
      "text/html": [
       "<div>\n",
       "<style scoped>\n",
       "    .dataframe tbody tr th:only-of-type {\n",
       "        vertical-align: middle;\n",
       "    }\n",
       "\n",
       "    .dataframe tbody tr th {\n",
       "        vertical-align: top;\n",
       "    }\n",
       "\n",
       "    .dataframe thead th {\n",
       "        text-align: right;\n",
       "    }\n",
       "</style>\n",
       "<table border=\"1\" class=\"dataframe\">\n",
       "  <thead>\n",
       "    <tr style=\"text-align: right;\">\n",
       "      <th></th>\n",
       "      <th>price</th>\n",
       "      <th>registrationyear</th>\n",
       "      <th>power</th>\n",
       "      <th>kilometer</th>\n",
       "      <th>registrationmonth</th>\n",
       "    </tr>\n",
       "  </thead>\n",
       "  <tbody>\n",
       "    <tr>\n",
       "      <th>count</th>\n",
       "      <td>323479.000000</td>\n",
       "      <td>323479.000000</td>\n",
       "      <td>323479.000000</td>\n",
       "      <td>323479.000000</td>\n",
       "      <td>323479.000000</td>\n",
       "    </tr>\n",
       "    <tr>\n",
       "      <th>mean</th>\n",
       "      <td>4408.007487</td>\n",
       "      <td>2004.252159</td>\n",
       "      <td>110.267646</td>\n",
       "      <td>128068.947289</td>\n",
       "      <td>5.693433</td>\n",
       "    </tr>\n",
       "    <tr>\n",
       "      <th>std</th>\n",
       "      <td>4523.118417</td>\n",
       "      <td>91.571014</td>\n",
       "      <td>196.814871</td>\n",
       "      <td>38009.696049</td>\n",
       "      <td>3.724624</td>\n",
       "    </tr>\n",
       "    <tr>\n",
       "      <th>min</th>\n",
       "      <td>0.000000</td>\n",
       "      <td>1000.000000</td>\n",
       "      <td>0.000000</td>\n",
       "      <td>5000.000000</td>\n",
       "      <td>0.000000</td>\n",
       "    </tr>\n",
       "    <tr>\n",
       "      <th>25%</th>\n",
       "      <td>1000.000000</td>\n",
       "      <td>1999.000000</td>\n",
       "      <td>69.000000</td>\n",
       "      <td>125000.000000</td>\n",
       "      <td>3.000000</td>\n",
       "    </tr>\n",
       "    <tr>\n",
       "      <th>50%</th>\n",
       "      <td>2700.000000</td>\n",
       "      <td>2003.000000</td>\n",
       "      <td>105.000000</td>\n",
       "      <td>150000.000000</td>\n",
       "      <td>6.000000</td>\n",
       "    </tr>\n",
       "    <tr>\n",
       "      <th>75%</th>\n",
       "      <td>6390.000000</td>\n",
       "      <td>2008.000000</td>\n",
       "      <td>141.000000</td>\n",
       "      <td>150000.000000</td>\n",
       "      <td>9.000000</td>\n",
       "    </tr>\n",
       "    <tr>\n",
       "      <th>max</th>\n",
       "      <td>20000.000000</td>\n",
       "      <td>9999.000000</td>\n",
       "      <td>20000.000000</td>\n",
       "      <td>150000.000000</td>\n",
       "      <td>12.000000</td>\n",
       "    </tr>\n",
       "  </tbody>\n",
       "</table>\n",
       "</div>"
      ],
      "text/plain": [
       "               price  registrationyear          power      kilometer  \\\n",
       "count  323479.000000     323479.000000  323479.000000  323479.000000   \n",
       "mean     4408.007487       2004.252159     110.267646  128068.947289   \n",
       "std      4523.118417         91.571014     196.814871   38009.696049   \n",
       "min         0.000000       1000.000000       0.000000    5000.000000   \n",
       "25%      1000.000000       1999.000000      69.000000  125000.000000   \n",
       "50%      2700.000000       2003.000000     105.000000  150000.000000   \n",
       "75%      6390.000000       2008.000000     141.000000  150000.000000   \n",
       "max     20000.000000       9999.000000   20000.000000  150000.000000   \n",
       "\n",
       "       registrationmonth  \n",
       "count      323479.000000  \n",
       "mean            5.693433  \n",
       "std             3.724624  \n",
       "min             0.000000  \n",
       "25%             3.000000  \n",
       "50%             6.000000  \n",
       "75%             9.000000  \n",
       "max            12.000000  "
      ]
     },
     "metadata": {},
     "output_type": "display_data"
    }
   ],
   "source": [
    "display(data.describe())"
   ]
  },
  {
   "cell_type": "code",
   "execution_count": 13,
   "metadata": {},
   "outputs": [],
   "source": [
    "# Напишем функцию для обработки аномальных значений\n",
    "def function_1(df, columns):\n",
    "    for col in columns:\n",
    "        q1 = df[col].quantile(q=0.25)\n",
    "        q3 = df[col].quantile(q=0.75)\n",
    "        iqr = q3-q1\n",
    "        df = df[df[col] != 0]\n",
    "        df = df.loc[df[col] > (q1 - 1.5*iqr)]\n",
    "        df = df.loc[df[col] < (q3 + 1.5*iqr)]\n",
    "    return df    "
   ]
  },
  {
   "cell_type": "code",
   "execution_count": 14,
   "metadata": {},
   "outputs": [],
   "source": [
    "# Колонку 'price' обработаем отдельно\n",
    "iqr_price = data['price'].quantile(q=0.75) - data['price'].quantile(q=0.25)\n",
    "data = data.loc[data['price'] > (data['price'].quantile(q=0.25) - 1.5*iqr_price)]\n",
    "data = data.loc[data['price'] != 0]"
   ]
  },
  {
   "cell_type": "code",
   "execution_count": 15,
   "metadata": {},
   "outputs": [],
   "source": [
    "df = function_1(data, ['registrationyear', 'power', 'kilometer'])"
   ]
  },
  {
   "cell_type": "code",
   "execution_count": 16,
   "metadata": {},
   "outputs": [
    {
     "data": {
      "text/html": [
       "<div>\n",
       "<style scoped>\n",
       "    .dataframe tbody tr th:only-of-type {\n",
       "        vertical-align: middle;\n",
       "    }\n",
       "\n",
       "    .dataframe tbody tr th {\n",
       "        vertical-align: top;\n",
       "    }\n",
       "\n",
       "    .dataframe thead th {\n",
       "        text-align: right;\n",
       "    }\n",
       "</style>\n",
       "<table border=\"1\" class=\"dataframe\">\n",
       "  <thead>\n",
       "    <tr style=\"text-align: right;\">\n",
       "      <th></th>\n",
       "      <th>price</th>\n",
       "      <th>vehicletype</th>\n",
       "      <th>registrationyear</th>\n",
       "      <th>gearbox</th>\n",
       "      <th>power</th>\n",
       "      <th>model</th>\n",
       "      <th>kilometer</th>\n",
       "      <th>registrationmonth</th>\n",
       "      <th>fueltype</th>\n",
       "      <th>brand</th>\n",
       "      <th>repaired</th>\n",
       "    </tr>\n",
       "  </thead>\n",
       "  <tbody>\n",
       "    <tr>\n",
       "      <th>1</th>\n",
       "      <td>18300</td>\n",
       "      <td>coupe</td>\n",
       "      <td>2011</td>\n",
       "      <td>manual</td>\n",
       "      <td>190</td>\n",
       "      <td>no</td>\n",
       "      <td>125000</td>\n",
       "      <td>5</td>\n",
       "      <td>gasoline</td>\n",
       "      <td>audi</td>\n",
       "      <td>yes</td>\n",
       "    </tr>\n",
       "    <tr>\n",
       "      <th>2</th>\n",
       "      <td>9800</td>\n",
       "      <td>suv</td>\n",
       "      <td>2004</td>\n",
       "      <td>auto</td>\n",
       "      <td>163</td>\n",
       "      <td>grand</td>\n",
       "      <td>125000</td>\n",
       "      <td>8</td>\n",
       "      <td>gasoline</td>\n",
       "      <td>jeep</td>\n",
       "      <td>no</td>\n",
       "    </tr>\n",
       "    <tr>\n",
       "      <th>3</th>\n",
       "      <td>1500</td>\n",
       "      <td>small</td>\n",
       "      <td>2001</td>\n",
       "      <td>manual</td>\n",
       "      <td>75</td>\n",
       "      <td>golf</td>\n",
       "      <td>150000</td>\n",
       "      <td>6</td>\n",
       "      <td>petrol</td>\n",
       "      <td>volkswagen</td>\n",
       "      <td>no</td>\n",
       "    </tr>\n",
       "    <tr>\n",
       "      <th>4</th>\n",
       "      <td>3600</td>\n",
       "      <td>small</td>\n",
       "      <td>2008</td>\n",
       "      <td>manual</td>\n",
       "      <td>69</td>\n",
       "      <td>fabia</td>\n",
       "      <td>90000</td>\n",
       "      <td>7</td>\n",
       "      <td>gasoline</td>\n",
       "      <td>skoda</td>\n",
       "      <td>no</td>\n",
       "    </tr>\n",
       "    <tr>\n",
       "      <th>5</th>\n",
       "      <td>650</td>\n",
       "      <td>sedan</td>\n",
       "      <td>1995</td>\n",
       "      <td>manual</td>\n",
       "      <td>102</td>\n",
       "      <td>3er</td>\n",
       "      <td>150000</td>\n",
       "      <td>10</td>\n",
       "      <td>petrol</td>\n",
       "      <td>bmw</td>\n",
       "      <td>yes</td>\n",
       "    </tr>\n",
       "    <tr>\n",
       "      <th>...</th>\n",
       "      <td>...</td>\n",
       "      <td>...</td>\n",
       "      <td>...</td>\n",
       "      <td>...</td>\n",
       "      <td>...</td>\n",
       "      <td>...</td>\n",
       "      <td>...</td>\n",
       "      <td>...</td>\n",
       "      <td>...</td>\n",
       "      <td>...</td>\n",
       "      <td>...</td>\n",
       "    </tr>\n",
       "    <tr>\n",
       "      <th>354361</th>\n",
       "      <td>5250</td>\n",
       "      <td>no</td>\n",
       "      <td>2016</td>\n",
       "      <td>auto</td>\n",
       "      <td>150</td>\n",
       "      <td>159</td>\n",
       "      <td>150000</td>\n",
       "      <td>12</td>\n",
       "      <td>no</td>\n",
       "      <td>alfa_romeo</td>\n",
       "      <td>no</td>\n",
       "    </tr>\n",
       "    <tr>\n",
       "      <th>354362</th>\n",
       "      <td>3200</td>\n",
       "      <td>sedan</td>\n",
       "      <td>2004</td>\n",
       "      <td>manual</td>\n",
       "      <td>225</td>\n",
       "      <td>leon</td>\n",
       "      <td>150000</td>\n",
       "      <td>5</td>\n",
       "      <td>petrol</td>\n",
       "      <td>seat</td>\n",
       "      <td>yes</td>\n",
       "    </tr>\n",
       "    <tr>\n",
       "      <th>354366</th>\n",
       "      <td>1199</td>\n",
       "      <td>convertible</td>\n",
       "      <td>2000</td>\n",
       "      <td>auto</td>\n",
       "      <td>101</td>\n",
       "      <td>fortwo</td>\n",
       "      <td>125000</td>\n",
       "      <td>3</td>\n",
       "      <td>petrol</td>\n",
       "      <td>smart</td>\n",
       "      <td>no</td>\n",
       "    </tr>\n",
       "    <tr>\n",
       "      <th>354367</th>\n",
       "      <td>9200</td>\n",
       "      <td>bus</td>\n",
       "      <td>1996</td>\n",
       "      <td>manual</td>\n",
       "      <td>102</td>\n",
       "      <td>transporter</td>\n",
       "      <td>150000</td>\n",
       "      <td>3</td>\n",
       "      <td>gasoline</td>\n",
       "      <td>volkswagen</td>\n",
       "      <td>no</td>\n",
       "    </tr>\n",
       "    <tr>\n",
       "      <th>354368</th>\n",
       "      <td>3400</td>\n",
       "      <td>wagon</td>\n",
       "      <td>2002</td>\n",
       "      <td>manual</td>\n",
       "      <td>100</td>\n",
       "      <td>golf</td>\n",
       "      <td>150000</td>\n",
       "      <td>6</td>\n",
       "      <td>gasoline</td>\n",
       "      <td>volkswagen</td>\n",
       "      <td>no</td>\n",
       "    </tr>\n",
       "  </tbody>\n",
       "</table>\n",
       "<p>229766 rows × 11 columns</p>\n",
       "</div>"
      ],
      "text/plain": [
       "        price  vehicletype  registrationyear gearbox  power        model  \\\n",
       "1       18300        coupe              2011  manual    190           no   \n",
       "2        9800          suv              2004    auto    163        grand   \n",
       "3        1500        small              2001  manual     75         golf   \n",
       "4        3600        small              2008  manual     69        fabia   \n",
       "5         650        sedan              1995  manual    102          3er   \n",
       "...       ...          ...               ...     ...    ...          ...   \n",
       "354361   5250           no              2016    auto    150          159   \n",
       "354362   3200        sedan              2004  manual    225         leon   \n",
       "354366   1199  convertible              2000    auto    101       fortwo   \n",
       "354367   9200          bus              1996  manual    102  transporter   \n",
       "354368   3400        wagon              2002  manual    100         golf   \n",
       "\n",
       "        kilometer  registrationmonth  fueltype       brand repaired  \n",
       "1          125000                  5  gasoline        audi      yes  \n",
       "2          125000                  8  gasoline        jeep       no  \n",
       "3          150000                  6    petrol  volkswagen       no  \n",
       "4           90000                  7  gasoline       skoda       no  \n",
       "5          150000                 10    petrol         bmw      yes  \n",
       "...           ...                ...       ...         ...      ...  \n",
       "354361     150000                 12        no  alfa_romeo       no  \n",
       "354362     150000                  5    petrol        seat      yes  \n",
       "354366     125000                  3    petrol       smart       no  \n",
       "354367     150000                  3  gasoline  volkswagen       no  \n",
       "354368     150000                  6  gasoline  volkswagen       no  \n",
       "\n",
       "[229766 rows x 11 columns]"
      ]
     },
     "execution_count": 16,
     "metadata": {},
     "output_type": "execute_result"
    }
   ],
   "source": [
    "df"
   ]
  },
  {
   "cell_type": "markdown",
   "metadata": {},
   "source": [
    "**Вывод**:\n",
    "- Выгрузили и ознакомились с данными;\n",
    "- Удалили неинформативные признаки: `datecrawled`, `datecreated`, `postalcode`, `numberofpictures`, `lastseen`;\n",
    "- Заполнили пропуски в столбцах `vehicletype`, `gearbox`, `model`, `fueltype`, `repaired` с помощью заглушек;\n",
    "- Удалили дубликаты;\n",
    "- Избавились от аномальных значений."
   ]
  },
  {
   "cell_type": "markdown",
   "metadata": {},
   "source": [
    "## 2. Обучение моделей"
   ]
  },
  {
   "cell_type": "code",
   "execution_count": 17,
   "metadata": {},
   "outputs": [],
   "source": [
    "# Разделим выборку на фичи и таргеты\n",
    "features = df.drop('price', axis=1)\n",
    "target = df['price']"
   ]
  },
  {
   "cell_type": "code",
   "execution_count": 18,
   "metadata": {},
   "outputs": [],
   "source": [
    "# Изменим тип данных для столбцов *registrationyear* и *registrationmonth*\n",
    "for i in ['registrationyear', 'registrationmonth']:\n",
    "    df[i] = df[i].astype('str')"
   ]
  },
  {
   "cell_type": "code",
   "execution_count": 19,
   "metadata": {},
   "outputs": [],
   "source": [
    "# Разделим выборки на обучающую, валидационную и тестовую\n",
    "features_train, features_test, target_train, target_test = train_test_split(features, target, \n",
    "                                                                              test_size=0.25, random_state=RANDOM_STATE)\n",
    "features_test, features_valid, target_test, target_valid = train_test_split(features_test, target_test, \n",
    "                                                                              test_size=0.5, random_state=RANDOM_STATE)"
   ]
  },
  {
   "cell_type": "code",
   "execution_count": 20,
   "metadata": {},
   "outputs": [],
   "source": [
    "features_train_ridge = features_train.copy()\n",
    "features_test_ridge = features_test.copy()\n",
    "features_valid_ridge = features_valid.copy()"
   ]
  },
  {
   "cell_type": "code",
   "execution_count": 21,
   "metadata": {},
   "outputs": [
    {
     "data": {
      "text/plain": [
       "(172324, 348)"
      ]
     },
     "execution_count": 21,
     "metadata": {},
     "output_type": "execute_result"
    }
   ],
   "source": [
    "# признак repaired уже бинарный, его не будем кодировать/масштабировать\n",
    "# добавляем remainder='passthrough', чтобы он не пропал \n",
    "col_transformer_ridge = make_column_transformer(\n",
    "    (\n",
    "        OneHotEncoder(drop='first', handle_unknown='ignore'),\n",
    "        ohe_features\n",
    "    ),\n",
    "    (\n",
    "        StandardScaler(), \n",
    "        num_features\n",
    "    ),\n",
    "    remainder='passthrough',\n",
    "    verbose_feature_names_out=False\n",
    ")\n",
    "\n",
    "\n",
    "features_train_ridge = pd.DataFrame.sparse.from_spmatrix(\n",
    "    col_transformer_ridge.fit_transform(features_train_ridge),\n",
    "    columns=col_transformer_ridge.get_feature_names_out()\n",
    ")\n",
    "\n",
    "\n",
    "features_train_ridge.shape"
   ]
  },
  {
   "cell_type": "code",
   "execution_count": 22,
   "metadata": {},
   "outputs": [
    {
     "data": {
      "text/plain": [
       "(28721, 348)"
      ]
     },
     "execution_count": 22,
     "metadata": {},
     "output_type": "execute_result"
    }
   ],
   "source": [
    "# трансформируем валидационную выборку\n",
    "features_valid_ridge = pd.DataFrame.sparse.from_spmatrix(\n",
    "    col_transformer_ridge.transform(features_valid_ridge),\n",
    "    columns=col_transformer_ridge.get_feature_names_out()\n",
    ")\n",
    "\n",
    "\n",
    "features_valid_ridge.shape"
   ]
  },
  {
   "cell_type": "code",
   "execution_count": 23,
   "metadata": {},
   "outputs": [
    {
     "name": "stdout",
     "output_type": "stream",
     "text": [
      "CPU times: user 18.7 s, sys: 24.5 s, total: 43.2 s\n",
      "Wall time: 43.3 s\n",
      "CPU times: user 73.3 ms, sys: 73.6 ms, total: 147 ms\n",
      "Wall time: 138 ms\n",
      "1808.2522195169809\n"
     ]
    }
   ],
   "source": [
    "# Построим модель линейной регрессии и проверим на валидационной выборке\n",
    "model = LinearRegression()\n",
    "%time model.fit(features_train_ridge, target_train)\n",
    "%time predicted = model.predict(features_valid_ridge)\n",
    "rmse_0 = math.sqrt(mean_squared_error(target_valid, predicted))\n",
    "print(rmse_0)"
   ]
  },
  {
   "cell_type": "markdown",
   "metadata": {},
   "source": [
    "Значение метрики RMSE для **линейной регрессии** получилось равным 1808.25, время обучения на валидационной выборке -  43.3 s, предсказания: 138 ms."
   ]
  },
  {
   "cell_type": "code",
   "execution_count": 27,
   "metadata": {
    "scrolled": false
   },
   "outputs": [
    {
     "name": "stderr",
     "output_type": "stream",
     "text": [
      "/opt/conda/lib/python3.9/site-packages/lightgbm/sklearn.py:726: UserWarning: 'early_stopping_rounds' argument is deprecated and will be removed in a future release of LightGBM. Pass 'early_stopping()' callback via 'callbacks' argument instead.\n",
      "  _log_warning(\"'early_stopping_rounds' argument is deprecated and will be removed in a future release of LightGBM. \"\n"
     ]
    },
    {
     "name": "stdout",
     "output_type": "stream",
     "text": [
      "[LightGBM] [Warning] Unknown parameter: score\n",
      "[LightGBM] [Warning] Unknown parameter: return_train_score\n",
      "[1]\tvalid_0's rmse: 3690.7\tvalid_0's l2: 1.36213e+07\n",
      "[2]\tvalid_0's rmse: 3502.78\tvalid_0's l2: 1.22695e+07\n",
      "[3]\tvalid_0's rmse: 3341.01\tvalid_0's l2: 1.11624e+07\n",
      "[4]\tvalid_0's rmse: 3200.78\tvalid_0's l2: 1.0245e+07\n",
      "[5]\tvalid_0's rmse: 3080.02\tvalid_0's l2: 9.48653e+06\n",
      "[6]\tvalid_0's rmse: 2976.46\tvalid_0's l2: 8.85933e+06\n",
      "[7]\tvalid_0's rmse: 2875.85\tvalid_0's l2: 8.2705e+06\n",
      "[8]\tvalid_0's rmse: 2789.65\tvalid_0's l2: 7.78215e+06\n",
      "[9]\tvalid_0's rmse: 2709.66\tvalid_0's l2: 7.34228e+06\n",
      "[10]\tvalid_0's rmse: 2640.49\tvalid_0's l2: 6.97217e+06\n",
      "[11]\tvalid_0's rmse: 2579.54\tvalid_0's l2: 6.65403e+06\n",
      "[12]\tvalid_0's rmse: 2523.79\tvalid_0's l2: 6.36949e+06\n",
      "[13]\tvalid_0's rmse: 2472.79\tvalid_0's l2: 6.1147e+06\n",
      "[14]\tvalid_0's rmse: 2429.51\tvalid_0's l2: 5.9025e+06\n",
      "[15]\tvalid_0's rmse: 2386.37\tvalid_0's l2: 5.69476e+06\n",
      "[16]\tvalid_0's rmse: 2350.1\tvalid_0's l2: 5.52298e+06\n",
      "[17]\tvalid_0's rmse: 2315.45\tvalid_0's l2: 5.3613e+06\n",
      "[18]\tvalid_0's rmse: 2284.06\tvalid_0's l2: 5.21694e+06\n",
      "[19]\tvalid_0's rmse: 2256.48\tvalid_0's l2: 5.0917e+06\n",
      "[20]\tvalid_0's rmse: 2221.95\tvalid_0's l2: 4.93705e+06\n"
     ]
    },
    {
     "name": "stderr",
     "output_type": "stream",
     "text": [
      "/opt/conda/lib/python3.9/site-packages/sklearn/model_selection/_validation.py:778: UserWarning: Scoring failed. The score on this train-test partition for these parameters will be set to nan. Details: \n",
      "Traceback (most recent call last):\n",
      "  File \"/opt/conda/lib/python3.9/site-packages/sklearn/model_selection/_validation.py\", line 767, in _score\n",
      "    scores = scorer(estimator, X_test, y_test)\n",
      "  File \"/opt/conda/lib/python3.9/site-packages/sklearn/metrics/_scorer.py\", line 444, in _passthrough_scorer\n",
      "    return estimator.score(*args, **kwargs)\n",
      "TypeError: 'str' object is not callable\n",
      "\n",
      "  warnings.warn(\n"
     ]
    },
    {
     "name": "stdout",
     "output_type": "stream",
     "text": [
      "[1]\tvalid_0's rmse: 3691.27\tvalid_0's l2: 1.36254e+07\n",
      "[2]\tvalid_0's rmse: 3502.69\tvalid_0's l2: 1.22688e+07\n",
      "[3]\tvalid_0's rmse: 3341.16\tvalid_0's l2: 1.11633e+07\n",
      "[4]\tvalid_0's rmse: 3200.48\tvalid_0's l2: 1.02431e+07\n",
      "[5]\tvalid_0's rmse: 3080.25\tvalid_0's l2: 9.48796e+06\n",
      "[6]\tvalid_0's rmse: 2976.15\tvalid_0's l2: 8.85749e+06\n",
      "[7]\tvalid_0's rmse: 2875.19\tvalid_0's l2: 8.26674e+06\n",
      "[8]\tvalid_0's rmse: 2788.27\tvalid_0's l2: 7.77446e+06\n",
      "[9]\tvalid_0's rmse: 2708.02\tvalid_0's l2: 7.33339e+06\n",
      "[10]\tvalid_0's rmse: 2639.2\tvalid_0's l2: 6.96539e+06\n",
      "[11]\tvalid_0's rmse: 2576.32\tvalid_0's l2: 6.63744e+06\n",
      "[12]\tvalid_0's rmse: 2519.61\tvalid_0's l2: 6.34844e+06\n",
      "[13]\tvalid_0's rmse: 2472.58\tvalid_0's l2: 6.11366e+06\n",
      "[14]\tvalid_0's rmse: 2424.72\tvalid_0's l2: 5.87926e+06\n",
      "[15]\tvalid_0's rmse: 2382.21\tvalid_0's l2: 5.67493e+06\n",
      "[16]\tvalid_0's rmse: 2346.17\tvalid_0's l2: 5.50453e+06\n",
      "[17]\tvalid_0's rmse: 2313.49\tvalid_0's l2: 5.35221e+06\n",
      "[18]\tvalid_0's rmse: 2283.02\tvalid_0's l2: 5.21217e+06\n",
      "[19]\tvalid_0's rmse: 2248.49\tvalid_0's l2: 5.0557e+06\n",
      "[20]\tvalid_0's rmse: 2218\tvalid_0's l2: 4.91951e+06\n",
      "[1]\tvalid_0's rmse: 3690.73\tvalid_0's l2: 1.36215e+07\n",
      "[2]\tvalid_0's rmse: 3501.92\tvalid_0's l2: 1.22634e+07\n",
      "[3]\tvalid_0's rmse: 3340.16\tvalid_0's l2: 1.11567e+07\n",
      "[4]\tvalid_0's rmse: 3200.44\tvalid_0's l2: 1.02428e+07\n",
      "[5]\tvalid_0's rmse: 3079.49\tvalid_0's l2: 9.48325e+06\n",
      "[6]\tvalid_0's rmse: 2975.19\tvalid_0's l2: 8.85174e+06\n",
      "[7]\tvalid_0's rmse: 2873.26\tvalid_0's l2: 8.25564e+06\n",
      "[8]\tvalid_0's rmse: 2786.77\tvalid_0's l2: 7.76606e+06\n",
      "[9]\tvalid_0's rmse: 2706.26\tvalid_0's l2: 7.32385e+06\n",
      "[10]\tvalid_0's rmse: 2636.45\tvalid_0's l2: 6.95089e+06\n",
      "[11]\tvalid_0's rmse: 2577.93\tvalid_0's l2: 6.64571e+06\n",
      "[12]\tvalid_0's rmse: 2521.14\tvalid_0's l2: 6.35614e+06\n",
      "[13]\tvalid_0's rmse: 2467.37\tvalid_0's l2: 6.08789e+06\n",
      "[14]\tvalid_0's rmse: 2423.51\tvalid_0's l2: 5.87339e+06\n",
      "[15]\tvalid_0's rmse: 2380.6\tvalid_0's l2: 5.66727e+06\n",
      "[16]\tvalid_0's rmse: 2344.13\tvalid_0's l2: 5.49492e+06\n",
      "[17]\tvalid_0's rmse: 2311.22\tvalid_0's l2: 5.34172e+06\n",
      "[18]\tvalid_0's rmse: 2280.92\tvalid_0's l2: 5.20259e+06\n",
      "[19]\tvalid_0's rmse: 2251.52\tvalid_0's l2: 5.06934e+06\n",
      "[20]\tvalid_0's rmse: 2218.44\tvalid_0's l2: 4.92149e+06\n",
      "[1]\tvalid_0's rmse: 3691.47\tvalid_0's l2: 1.3627e+07\n",
      "[2]\tvalid_0's rmse: 3503.71\tvalid_0's l2: 1.2276e+07\n",
      "[3]\tvalid_0's rmse: 3341.35\tvalid_0's l2: 1.11646e+07\n",
      "[4]\tvalid_0's rmse: 3201.44\tvalid_0's l2: 1.02492e+07\n",
      "[5]\tvalid_0's rmse: 3081.34\tvalid_0's l2: 9.49464e+06\n",
      "[6]\tvalid_0's rmse: 2967.96\tvalid_0's l2: 8.8088e+06\n",
      "[7]\tvalid_0's rmse: 2870.13\tvalid_0's l2: 8.23765e+06\n",
      "[8]\tvalid_0's rmse: 2781.43\tvalid_0's l2: 7.73634e+06\n",
      "[9]\tvalid_0's rmse: 2701.68\tvalid_0's l2: 7.29909e+06\n",
      "[10]\tvalid_0's rmse: 2635.16\tvalid_0's l2: 6.94409e+06\n",
      "[11]\tvalid_0's rmse: 2570.07\tvalid_0's l2: 6.60523e+06\n",
      "[12]\tvalid_0's rmse: 2514.98\tvalid_0's l2: 6.32515e+06\n",
      "[13]\tvalid_0's rmse: 2466.67\tvalid_0's l2: 6.08446e+06\n",
      "[14]\tvalid_0's rmse: 2420.83\tvalid_0's l2: 5.86039e+06\n",
      "[15]\tvalid_0's rmse: 2381.62\tvalid_0's l2: 5.67211e+06\n",
      "[16]\tvalid_0's rmse: 2344.04\tvalid_0's l2: 5.49451e+06\n",
      "[17]\tvalid_0's rmse: 2307.38\tvalid_0's l2: 5.32402e+06\n",
      "[18]\tvalid_0's rmse: 2274.31\tvalid_0's l2: 5.17249e+06\n",
      "[19]\tvalid_0's rmse: 2240.39\tvalid_0's l2: 5.01934e+06\n",
      "[20]\tvalid_0's rmse: 2206.4\tvalid_0's l2: 4.86822e+06\n",
      "[1]\tvalid_0's rmse: 3690.57\tvalid_0's l2: 1.36203e+07\n",
      "[2]\tvalid_0's rmse: 3502.34\tvalid_0's l2: 1.22664e+07\n",
      "[3]\tvalid_0's rmse: 3340.54\tvalid_0's l2: 1.11592e+07\n",
      "[4]\tvalid_0's rmse: 3199.35\tvalid_0's l2: 1.02358e+07\n",
      "[5]\tvalid_0's rmse: 3079.62\tvalid_0's l2: 9.48409e+06\n",
      "[6]\tvalid_0's rmse: 2975.7\tvalid_0's l2: 8.85478e+06\n",
      "[7]\tvalid_0's rmse: 2874.92\tvalid_0's l2: 8.26516e+06\n",
      "[8]\tvalid_0's rmse: 2789.25\tvalid_0's l2: 7.77989e+06\n",
      "[9]\tvalid_0's rmse: 2709.81\tvalid_0's l2: 7.34304e+06\n",
      "[10]\tvalid_0's rmse: 2640.49\tvalid_0's l2: 6.97216e+06\n",
      "[11]\tvalid_0's rmse: 2578.73\tvalid_0's l2: 6.64987e+06\n",
      "[12]\tvalid_0's rmse: 2523.46\tvalid_0's l2: 6.36783e+06\n",
      "[13]\tvalid_0's rmse: 2473.66\tvalid_0's l2: 6.11902e+06\n",
      "[14]\tvalid_0's rmse: 2429.28\tvalid_0's l2: 5.90142e+06\n",
      "[15]\tvalid_0's rmse: 2388.77\tvalid_0's l2: 5.7062e+06\n",
      "[16]\tvalid_0's rmse: 2351.5\tvalid_0's l2: 5.52956e+06\n",
      "[17]\tvalid_0's rmse: 2318\tvalid_0's l2: 5.37313e+06\n",
      "[18]\tvalid_0's rmse: 2287.25\tvalid_0's l2: 5.23151e+06\n",
      "[19]\tvalid_0's rmse: 2257.96\tvalid_0's l2: 5.09839e+06\n",
      "[20]\tvalid_0's rmse: 2231.72\tvalid_0's l2: 4.98055e+06\n",
      "[1]\tvalid_0's rmse: 3690.7\tvalid_0's l2: 1.36213e+07\n",
      "[2]\tvalid_0's rmse: 3502.78\tvalid_0's l2: 1.22695e+07\n",
      "[3]\tvalid_0's rmse: 3341.01\tvalid_0's l2: 1.11624e+07\n",
      "[4]\tvalid_0's rmse: 3200.78\tvalid_0's l2: 1.0245e+07\n",
      "[5]\tvalid_0's rmse: 3080.02\tvalid_0's l2: 9.48653e+06\n",
      "[6]\tvalid_0's rmse: 2976.46\tvalid_0's l2: 8.85933e+06\n",
      "[7]\tvalid_0's rmse: 2875.85\tvalid_0's l2: 8.2705e+06\n",
      "[8]\tvalid_0's rmse: 2789.65\tvalid_0's l2: 7.78215e+06\n",
      "[9]\tvalid_0's rmse: 2709.66\tvalid_0's l2: 7.34228e+06\n",
      "[10]\tvalid_0's rmse: 2640.49\tvalid_0's l2: 6.97217e+06\n",
      "[11]\tvalid_0's rmse: 2579.54\tvalid_0's l2: 6.65403e+06\n",
      "[12]\tvalid_0's rmse: 2523.79\tvalid_0's l2: 6.36949e+06\n",
      "[13]\tvalid_0's rmse: 2472.79\tvalid_0's l2: 6.1147e+06\n",
      "[14]\tvalid_0's rmse: 2429.51\tvalid_0's l2: 5.9025e+06\n",
      "[15]\tvalid_0's rmse: 2386.37\tvalid_0's l2: 5.69476e+06\n",
      "[16]\tvalid_0's rmse: 2350.1\tvalid_0's l2: 5.52298e+06\n",
      "[17]\tvalid_0's rmse: 2315.45\tvalid_0's l2: 5.3613e+06\n",
      "[18]\tvalid_0's rmse: 2284.06\tvalid_0's l2: 5.21694e+06\n",
      "[19]\tvalid_0's rmse: 2256.48\tvalid_0's l2: 5.0917e+06\n",
      "[20]\tvalid_0's rmse: 2221.95\tvalid_0's l2: 4.93705e+06\n",
      "[21]\tvalid_0's rmse: 2194.52\tvalid_0's l2: 4.81591e+06\n",
      "[22]\tvalid_0's rmse: 2170.2\tvalid_0's l2: 4.70975e+06\n",
      "[23]\tvalid_0's rmse: 2146.45\tvalid_0's l2: 4.60725e+06\n",
      "[24]\tvalid_0's rmse: 2125.85\tvalid_0's l2: 4.51923e+06\n",
      "[1]\tvalid_0's rmse: 3691.27\tvalid_0's l2: 1.36254e+07\n",
      "[2]\tvalid_0's rmse: 3502.69\tvalid_0's l2: 1.22688e+07\n",
      "[3]\tvalid_0's rmse: 3341.16\tvalid_0's l2: 1.11633e+07\n",
      "[4]\tvalid_0's rmse: 3200.48\tvalid_0's l2: 1.02431e+07\n",
      "[5]\tvalid_0's rmse: 3080.25\tvalid_0's l2: 9.48796e+06\n",
      "[6]\tvalid_0's rmse: 2976.15\tvalid_0's l2: 8.85749e+06\n",
      "[7]\tvalid_0's rmse: 2875.19\tvalid_0's l2: 8.26674e+06\n",
      "[8]\tvalid_0's rmse: 2788.27\tvalid_0's l2: 7.77446e+06\n",
      "[9]\tvalid_0's rmse: 2708.02\tvalid_0's l2: 7.33339e+06\n",
      "[10]\tvalid_0's rmse: 2639.2\tvalid_0's l2: 6.96539e+06\n",
      "[11]\tvalid_0's rmse: 2576.32\tvalid_0's l2: 6.63744e+06\n",
      "[12]\tvalid_0's rmse: 2519.61\tvalid_0's l2: 6.34844e+06\n",
      "[13]\tvalid_0's rmse: 2472.58\tvalid_0's l2: 6.11366e+06\n",
      "[14]\tvalid_0's rmse: 2424.72\tvalid_0's l2: 5.87926e+06\n",
      "[15]\tvalid_0's rmse: 2382.21\tvalid_0's l2: 5.67493e+06\n",
      "[16]\tvalid_0's rmse: 2346.17\tvalid_0's l2: 5.50453e+06\n",
      "[17]\tvalid_0's rmse: 2313.49\tvalid_0's l2: 5.35221e+06\n",
      "[18]\tvalid_0's rmse: 2283.02\tvalid_0's l2: 5.21217e+06\n",
      "[19]\tvalid_0's rmse: 2248.49\tvalid_0's l2: 5.0557e+06\n",
      "[20]\tvalid_0's rmse: 2218\tvalid_0's l2: 4.91951e+06\n",
      "[21]\tvalid_0's rmse: 2191.16\tvalid_0's l2: 4.80118e+06\n",
      "[22]\tvalid_0's rmse: 2164.27\tvalid_0's l2: 4.68408e+06\n",
      "[23]\tvalid_0's rmse: 2143.17\tvalid_0's l2: 4.59317e+06\n",
      "[24]\tvalid_0's rmse: 2123.18\tvalid_0's l2: 4.5079e+06\n",
      "[1]\tvalid_0's rmse: 3690.73\tvalid_0's l2: 1.36215e+07\n",
      "[2]\tvalid_0's rmse: 3501.92\tvalid_0's l2: 1.22634e+07\n",
      "[3]\tvalid_0's rmse: 3340.16\tvalid_0's l2: 1.11567e+07\n",
      "[4]\tvalid_0's rmse: 3200.44\tvalid_0's l2: 1.02428e+07\n",
      "[5]\tvalid_0's rmse: 3079.49\tvalid_0's l2: 9.48325e+06\n",
      "[6]\tvalid_0's rmse: 2975.19\tvalid_0's l2: 8.85174e+06\n",
      "[7]\tvalid_0's rmse: 2873.26\tvalid_0's l2: 8.25564e+06\n",
      "[8]\tvalid_0's rmse: 2786.77\tvalid_0's l2: 7.76606e+06\n",
      "[9]\tvalid_0's rmse: 2706.26\tvalid_0's l2: 7.32385e+06\n",
      "[10]\tvalid_0's rmse: 2636.45\tvalid_0's l2: 6.95089e+06\n",
      "[11]\tvalid_0's rmse: 2577.93\tvalid_0's l2: 6.64571e+06\n",
      "[12]\tvalid_0's rmse: 2521.14\tvalid_0's l2: 6.35614e+06\n",
      "[13]\tvalid_0's rmse: 2467.37\tvalid_0's l2: 6.08789e+06\n",
      "[14]\tvalid_0's rmse: 2423.51\tvalid_0's l2: 5.87339e+06\n",
      "[15]\tvalid_0's rmse: 2380.6\tvalid_0's l2: 5.66727e+06\n",
      "[16]\tvalid_0's rmse: 2344.13\tvalid_0's l2: 5.49492e+06\n",
      "[17]\tvalid_0's rmse: 2311.22\tvalid_0's l2: 5.34172e+06\n",
      "[18]\tvalid_0's rmse: 2280.92\tvalid_0's l2: 5.20259e+06\n",
      "[19]\tvalid_0's rmse: 2251.52\tvalid_0's l2: 5.06934e+06\n",
      "[20]\tvalid_0's rmse: 2218.44\tvalid_0's l2: 4.92149e+06\n",
      "[21]\tvalid_0's rmse: 2194.45\tvalid_0's l2: 4.81562e+06\n",
      "[22]\tvalid_0's rmse: 2169.24\tvalid_0's l2: 4.70561e+06\n",
      "[23]\tvalid_0's rmse: 2143.76\tvalid_0's l2: 4.59573e+06\n",
      "[24]\tvalid_0's rmse: 2121.88\tvalid_0's l2: 4.50238e+06\n",
      "[1]\tvalid_0's rmse: 3691.47\tvalid_0's l2: 1.3627e+07\n",
      "[2]\tvalid_0's rmse: 3503.71\tvalid_0's l2: 1.2276e+07\n",
      "[3]\tvalid_0's rmse: 3341.35\tvalid_0's l2: 1.11646e+07\n",
      "[4]\tvalid_0's rmse: 3201.44\tvalid_0's l2: 1.02492e+07\n",
      "[5]\tvalid_0's rmse: 3081.34\tvalid_0's l2: 9.49464e+06\n",
      "[6]\tvalid_0's rmse: 2967.96\tvalid_0's l2: 8.8088e+06\n",
      "[7]\tvalid_0's rmse: 2870.13\tvalid_0's l2: 8.23765e+06\n",
      "[8]\tvalid_0's rmse: 2781.43\tvalid_0's l2: 7.73634e+06\n",
      "[9]\tvalid_0's rmse: 2701.68\tvalid_0's l2: 7.29909e+06\n",
      "[10]\tvalid_0's rmse: 2635.16\tvalid_0's l2: 6.94409e+06\n",
      "[11]\tvalid_0's rmse: 2570.07\tvalid_0's l2: 6.60523e+06\n",
      "[12]\tvalid_0's rmse: 2514.98\tvalid_0's l2: 6.32515e+06\n",
      "[13]\tvalid_0's rmse: 2466.67\tvalid_0's l2: 6.08446e+06\n",
      "[14]\tvalid_0's rmse: 2420.83\tvalid_0's l2: 5.86039e+06\n",
      "[15]\tvalid_0's rmse: 2381.62\tvalid_0's l2: 5.67211e+06\n",
      "[16]\tvalid_0's rmse: 2344.04\tvalid_0's l2: 5.49451e+06\n",
      "[17]\tvalid_0's rmse: 2307.38\tvalid_0's l2: 5.32402e+06\n",
      "[18]\tvalid_0's rmse: 2274.31\tvalid_0's l2: 5.17249e+06\n",
      "[19]\tvalid_0's rmse: 2240.39\tvalid_0's l2: 5.01934e+06\n",
      "[20]\tvalid_0's rmse: 2206.4\tvalid_0's l2: 4.86822e+06\n",
      "[21]\tvalid_0's rmse: 2178.79\tvalid_0's l2: 4.74714e+06\n",
      "[22]\tvalid_0's rmse: 2154.8\tvalid_0's l2: 4.64316e+06\n",
      "[23]\tvalid_0's rmse: 2132.84\tvalid_0's l2: 4.54899e+06\n",
      "[24]\tvalid_0's rmse: 2111.83\tvalid_0's l2: 4.45983e+06\n",
      "[1]\tvalid_0's rmse: 3690.57\tvalid_0's l2: 1.36203e+07\n",
      "[2]\tvalid_0's rmse: 3502.34\tvalid_0's l2: 1.22664e+07\n",
      "[3]\tvalid_0's rmse: 3340.54\tvalid_0's l2: 1.11592e+07\n",
      "[4]\tvalid_0's rmse: 3199.35\tvalid_0's l2: 1.02358e+07\n",
      "[5]\tvalid_0's rmse: 3079.62\tvalid_0's l2: 9.48409e+06\n",
      "[6]\tvalid_0's rmse: 2975.7\tvalid_0's l2: 8.85478e+06\n",
      "[7]\tvalid_0's rmse: 2874.92\tvalid_0's l2: 8.26516e+06\n",
      "[8]\tvalid_0's rmse: 2789.25\tvalid_0's l2: 7.77989e+06\n",
      "[9]\tvalid_0's rmse: 2709.81\tvalid_0's l2: 7.34304e+06\n",
      "[10]\tvalid_0's rmse: 2640.49\tvalid_0's l2: 6.97216e+06\n",
      "[11]\tvalid_0's rmse: 2578.73\tvalid_0's l2: 6.64987e+06\n",
      "[12]\tvalid_0's rmse: 2523.46\tvalid_0's l2: 6.36783e+06\n",
      "[13]\tvalid_0's rmse: 2473.66\tvalid_0's l2: 6.11902e+06\n",
      "[14]\tvalid_0's rmse: 2429.28\tvalid_0's l2: 5.90142e+06\n",
      "[15]\tvalid_0's rmse: 2388.77\tvalid_0's l2: 5.7062e+06\n",
      "[16]\tvalid_0's rmse: 2351.5\tvalid_0's l2: 5.52956e+06\n",
      "[17]\tvalid_0's rmse: 2318\tvalid_0's l2: 5.37313e+06\n",
      "[18]\tvalid_0's rmse: 2287.25\tvalid_0's l2: 5.23151e+06\n",
      "[19]\tvalid_0's rmse: 2257.96\tvalid_0's l2: 5.09839e+06\n",
      "[20]\tvalid_0's rmse: 2231.72\tvalid_0's l2: 4.98055e+06\n",
      "[21]\tvalid_0's rmse: 2199.8\tvalid_0's l2: 4.8391e+06\n",
      "[22]\tvalid_0's rmse: 2172.42\tvalid_0's l2: 4.71943e+06\n",
      "[23]\tvalid_0's rmse: 2146.99\tvalid_0's l2: 4.60956e+06\n",
      "[24]\tvalid_0's rmse: 2121.1\tvalid_0's l2: 4.49905e+06\n",
      "[1]\tvalid_0's rmse: 3690.7\tvalid_0's l2: 1.36213e+07\n",
      "[2]\tvalid_0's rmse: 3502.78\tvalid_0's l2: 1.22695e+07\n",
      "[3]\tvalid_0's rmse: 3341.01\tvalid_0's l2: 1.11624e+07\n",
      "[4]\tvalid_0's rmse: 3200.78\tvalid_0's l2: 1.0245e+07\n",
      "[5]\tvalid_0's rmse: 3080.02\tvalid_0's l2: 9.48653e+06\n",
      "[6]\tvalid_0's rmse: 2976.46\tvalid_0's l2: 8.85933e+06\n",
      "[7]\tvalid_0's rmse: 2875.85\tvalid_0's l2: 8.2705e+06\n",
      "[8]\tvalid_0's rmse: 2789.65\tvalid_0's l2: 7.78215e+06\n",
      "[9]\tvalid_0's rmse: 2709.66\tvalid_0's l2: 7.34228e+06\n",
      "[10]\tvalid_0's rmse: 2640.49\tvalid_0's l2: 6.97217e+06\n",
      "[11]\tvalid_0's rmse: 2579.54\tvalid_0's l2: 6.65403e+06\n",
      "[12]\tvalid_0's rmse: 2523.79\tvalid_0's l2: 6.36949e+06\n",
      "[13]\tvalid_0's rmse: 2472.79\tvalid_0's l2: 6.1147e+06\n",
      "[14]\tvalid_0's rmse: 2429.51\tvalid_0's l2: 5.9025e+06\n",
      "[15]\tvalid_0's rmse: 2386.37\tvalid_0's l2: 5.69476e+06\n",
      "[16]\tvalid_0's rmse: 2350.1\tvalid_0's l2: 5.52298e+06\n",
      "[17]\tvalid_0's rmse: 2315.45\tvalid_0's l2: 5.3613e+06\n",
      "[18]\tvalid_0's rmse: 2284.06\tvalid_0's l2: 5.21694e+06\n",
      "[19]\tvalid_0's rmse: 2256.48\tvalid_0's l2: 5.0917e+06\n",
      "[20]\tvalid_0's rmse: 2221.95\tvalid_0's l2: 4.93705e+06\n",
      "[21]\tvalid_0's rmse: 2194.52\tvalid_0's l2: 4.81591e+06\n",
      "[22]\tvalid_0's rmse: 2170.2\tvalid_0's l2: 4.70975e+06\n",
      "[23]\tvalid_0's rmse: 2146.45\tvalid_0's l2: 4.60725e+06\n",
      "[24]\tvalid_0's rmse: 2125.85\tvalid_0's l2: 4.51923e+06\n",
      "[25]\tvalid_0's rmse: 2102.34\tvalid_0's l2: 4.41984e+06\n",
      "[26]\tvalid_0's rmse: 2083.12\tvalid_0's l2: 4.3394e+06\n",
      "[27]\tvalid_0's rmse: 2064.24\tvalid_0's l2: 4.2611e+06\n",
      "[28]\tvalid_0's rmse: 2045.2\tvalid_0's l2: 4.18285e+06\n",
      "[1]\tvalid_0's rmse: 3691.27\tvalid_0's l2: 1.36254e+07\n",
      "[2]\tvalid_0's rmse: 3502.69\tvalid_0's l2: 1.22688e+07\n",
      "[3]\tvalid_0's rmse: 3341.16\tvalid_0's l2: 1.11633e+07\n",
      "[4]\tvalid_0's rmse: 3200.48\tvalid_0's l2: 1.02431e+07\n",
      "[5]\tvalid_0's rmse: 3080.25\tvalid_0's l2: 9.48796e+06\n",
      "[6]\tvalid_0's rmse: 2976.15\tvalid_0's l2: 8.85749e+06\n",
      "[7]\tvalid_0's rmse: 2875.19\tvalid_0's l2: 8.26674e+06\n",
      "[8]\tvalid_0's rmse: 2788.27\tvalid_0's l2: 7.77446e+06\n",
      "[9]\tvalid_0's rmse: 2708.02\tvalid_0's l2: 7.33339e+06\n",
      "[10]\tvalid_0's rmse: 2639.2\tvalid_0's l2: 6.96539e+06\n",
      "[11]\tvalid_0's rmse: 2576.32\tvalid_0's l2: 6.63744e+06\n",
      "[12]\tvalid_0's rmse: 2519.61\tvalid_0's l2: 6.34844e+06\n",
      "[13]\tvalid_0's rmse: 2472.58\tvalid_0's l2: 6.11366e+06\n",
      "[14]\tvalid_0's rmse: 2424.72\tvalid_0's l2: 5.87926e+06\n",
      "[15]\tvalid_0's rmse: 2382.21\tvalid_0's l2: 5.67493e+06\n",
      "[16]\tvalid_0's rmse: 2346.17\tvalid_0's l2: 5.50453e+06\n",
      "[17]\tvalid_0's rmse: 2313.49\tvalid_0's l2: 5.35221e+06\n",
      "[18]\tvalid_0's rmse: 2283.02\tvalid_0's l2: 5.21217e+06\n",
      "[19]\tvalid_0's rmse: 2248.49\tvalid_0's l2: 5.0557e+06\n",
      "[20]\tvalid_0's rmse: 2218\tvalid_0's l2: 4.91951e+06\n",
      "[21]\tvalid_0's rmse: 2191.16\tvalid_0's l2: 4.80118e+06\n",
      "[22]\tvalid_0's rmse: 2164.27\tvalid_0's l2: 4.68408e+06\n",
      "[23]\tvalid_0's rmse: 2143.17\tvalid_0's l2: 4.59317e+06\n",
      "[24]\tvalid_0's rmse: 2123.18\tvalid_0's l2: 4.5079e+06\n",
      "[25]\tvalid_0's rmse: 2098.65\tvalid_0's l2: 4.40433e+06\n",
      "[26]\tvalid_0's rmse: 2079.3\tvalid_0's l2: 4.32351e+06\n",
      "[27]\tvalid_0's rmse: 2059.72\tvalid_0's l2: 4.24246e+06\n",
      "[28]\tvalid_0's rmse: 2042.61\tvalid_0's l2: 4.17227e+06\n",
      "[1]\tvalid_0's rmse: 3690.73\tvalid_0's l2: 1.36215e+07\n",
      "[2]\tvalid_0's rmse: 3501.92\tvalid_0's l2: 1.22634e+07\n",
      "[3]\tvalid_0's rmse: 3340.16\tvalid_0's l2: 1.11567e+07\n",
      "[4]\tvalid_0's rmse: 3200.44\tvalid_0's l2: 1.02428e+07\n",
      "[5]\tvalid_0's rmse: 3079.49\tvalid_0's l2: 9.48325e+06\n",
      "[6]\tvalid_0's rmse: 2975.19\tvalid_0's l2: 8.85174e+06\n",
      "[7]\tvalid_0's rmse: 2873.26\tvalid_0's l2: 8.25564e+06\n",
      "[8]\tvalid_0's rmse: 2786.77\tvalid_0's l2: 7.76606e+06\n",
      "[9]\tvalid_0's rmse: 2706.26\tvalid_0's l2: 7.32385e+06\n",
      "[10]\tvalid_0's rmse: 2636.45\tvalid_0's l2: 6.95089e+06\n",
      "[11]\tvalid_0's rmse: 2577.93\tvalid_0's l2: 6.64571e+06\n",
      "[12]\tvalid_0's rmse: 2521.14\tvalid_0's l2: 6.35614e+06\n",
      "[13]\tvalid_0's rmse: 2467.37\tvalid_0's l2: 6.08789e+06\n",
      "[14]\tvalid_0's rmse: 2423.51\tvalid_0's l2: 5.87339e+06\n",
      "[15]\tvalid_0's rmse: 2380.6\tvalid_0's l2: 5.66727e+06\n",
      "[16]\tvalid_0's rmse: 2344.13\tvalid_0's l2: 5.49492e+06\n",
      "[17]\tvalid_0's rmse: 2311.22\tvalid_0's l2: 5.34172e+06\n",
      "[18]\tvalid_0's rmse: 2280.92\tvalid_0's l2: 5.20259e+06\n",
      "[19]\tvalid_0's rmse: 2251.52\tvalid_0's l2: 5.06934e+06\n",
      "[20]\tvalid_0's rmse: 2218.44\tvalid_0's l2: 4.92149e+06\n",
      "[21]\tvalid_0's rmse: 2194.45\tvalid_0's l2: 4.81562e+06\n",
      "[22]\tvalid_0's rmse: 2169.24\tvalid_0's l2: 4.70561e+06\n",
      "[23]\tvalid_0's rmse: 2143.76\tvalid_0's l2: 4.59573e+06\n",
      "[24]\tvalid_0's rmse: 2121.88\tvalid_0's l2: 4.50238e+06\n",
      "[25]\tvalid_0's rmse: 2101.91\tvalid_0's l2: 4.41801e+06\n",
      "[26]\tvalid_0's rmse: 2082.01\tvalid_0's l2: 4.33478e+06\n",
      "[27]\tvalid_0's rmse: 2066.13\tvalid_0's l2: 4.2689e+06\n",
      "[28]\tvalid_0's rmse: 2046.07\tvalid_0's l2: 4.18639e+06\n",
      "[1]\tvalid_0's rmse: 3691.47\tvalid_0's l2: 1.3627e+07\n",
      "[2]\tvalid_0's rmse: 3503.71\tvalid_0's l2: 1.2276e+07\n",
      "[3]\tvalid_0's rmse: 3341.35\tvalid_0's l2: 1.11646e+07\n",
      "[4]\tvalid_0's rmse: 3201.44\tvalid_0's l2: 1.02492e+07\n",
      "[5]\tvalid_0's rmse: 3081.34\tvalid_0's l2: 9.49464e+06\n",
      "[6]\tvalid_0's rmse: 2967.96\tvalid_0's l2: 8.8088e+06\n",
      "[7]\tvalid_0's rmse: 2870.13\tvalid_0's l2: 8.23765e+06\n",
      "[8]\tvalid_0's rmse: 2781.43\tvalid_0's l2: 7.73634e+06\n",
      "[9]\tvalid_0's rmse: 2701.68\tvalid_0's l2: 7.29909e+06\n",
      "[10]\tvalid_0's rmse: 2635.16\tvalid_0's l2: 6.94409e+06\n",
      "[11]\tvalid_0's rmse: 2570.07\tvalid_0's l2: 6.60523e+06\n",
      "[12]\tvalid_0's rmse: 2514.98\tvalid_0's l2: 6.32515e+06\n",
      "[13]\tvalid_0's rmse: 2466.67\tvalid_0's l2: 6.08446e+06\n",
      "[14]\tvalid_0's rmse: 2420.83\tvalid_0's l2: 5.86039e+06\n",
      "[15]\tvalid_0's rmse: 2381.62\tvalid_0's l2: 5.67211e+06\n",
      "[16]\tvalid_0's rmse: 2344.04\tvalid_0's l2: 5.49451e+06\n",
      "[17]\tvalid_0's rmse: 2307.38\tvalid_0's l2: 5.32402e+06\n",
      "[18]\tvalid_0's rmse: 2274.31\tvalid_0's l2: 5.17249e+06\n",
      "[19]\tvalid_0's rmse: 2240.39\tvalid_0's l2: 5.01934e+06\n",
      "[20]\tvalid_0's rmse: 2206.4\tvalid_0's l2: 4.86822e+06\n",
      "[21]\tvalid_0's rmse: 2178.79\tvalid_0's l2: 4.74714e+06\n",
      "[22]\tvalid_0's rmse: 2154.8\tvalid_0's l2: 4.64316e+06\n",
      "[23]\tvalid_0's rmse: 2132.84\tvalid_0's l2: 4.54899e+06\n",
      "[24]\tvalid_0's rmse: 2111.83\tvalid_0's l2: 4.45983e+06\n",
      "[25]\tvalid_0's rmse: 2092.88\tvalid_0's l2: 4.38016e+06\n",
      "[26]\tvalid_0's rmse: 2069.11\tvalid_0's l2: 4.28123e+06\n",
      "[27]\tvalid_0's rmse: 2051.79\tvalid_0's l2: 4.20982e+06\n",
      "[28]\tvalid_0's rmse: 2034.5\tvalid_0's l2: 4.1392e+06\n",
      "[1]\tvalid_0's rmse: 3690.57\tvalid_0's l2: 1.36203e+07\n",
      "[2]\tvalid_0's rmse: 3502.34\tvalid_0's l2: 1.22664e+07\n",
      "[3]\tvalid_0's rmse: 3340.54\tvalid_0's l2: 1.11592e+07\n",
      "[4]\tvalid_0's rmse: 3199.35\tvalid_0's l2: 1.02358e+07\n",
      "[5]\tvalid_0's rmse: 3079.62\tvalid_0's l2: 9.48409e+06\n",
      "[6]\tvalid_0's rmse: 2975.7\tvalid_0's l2: 8.85478e+06\n",
      "[7]\tvalid_0's rmse: 2874.92\tvalid_0's l2: 8.26516e+06\n",
      "[8]\tvalid_0's rmse: 2789.25\tvalid_0's l2: 7.77989e+06\n",
      "[9]\tvalid_0's rmse: 2709.81\tvalid_0's l2: 7.34304e+06\n",
      "[10]\tvalid_0's rmse: 2640.49\tvalid_0's l2: 6.97216e+06\n",
      "[11]\tvalid_0's rmse: 2578.73\tvalid_0's l2: 6.64987e+06\n",
      "[12]\tvalid_0's rmse: 2523.46\tvalid_0's l2: 6.36783e+06\n",
      "[13]\tvalid_0's rmse: 2473.66\tvalid_0's l2: 6.11902e+06\n",
      "[14]\tvalid_0's rmse: 2429.28\tvalid_0's l2: 5.90142e+06\n",
      "[15]\tvalid_0's rmse: 2388.77\tvalid_0's l2: 5.7062e+06\n",
      "[16]\tvalid_0's rmse: 2351.5\tvalid_0's l2: 5.52956e+06\n",
      "[17]\tvalid_0's rmse: 2318\tvalid_0's l2: 5.37313e+06\n",
      "[18]\tvalid_0's rmse: 2287.25\tvalid_0's l2: 5.23151e+06\n",
      "[19]\tvalid_0's rmse: 2257.96\tvalid_0's l2: 5.09839e+06\n",
      "[20]\tvalid_0's rmse: 2231.72\tvalid_0's l2: 4.98055e+06\n",
      "[21]\tvalid_0's rmse: 2199.8\tvalid_0's l2: 4.8391e+06\n",
      "[22]\tvalid_0's rmse: 2172.42\tvalid_0's l2: 4.71943e+06\n",
      "[23]\tvalid_0's rmse: 2146.99\tvalid_0's l2: 4.60956e+06\n",
      "[24]\tvalid_0's rmse: 2121.1\tvalid_0's l2: 4.49905e+06\n",
      "[25]\tvalid_0's rmse: 2099.34\tvalid_0's l2: 4.40724e+06\n",
      "[26]\tvalid_0's rmse: 2082.43\tvalid_0's l2: 4.33651e+06\n",
      "[27]\tvalid_0's rmse: 2064.41\tvalid_0's l2: 4.26178e+06\n",
      "[28]\tvalid_0's rmse: 2046.8\tvalid_0's l2: 4.18939e+06\n",
      "[1]\tvalid_0's rmse: 3681.12\tvalid_0's l2: 1.35506e+07\n",
      "[2]\tvalid_0's rmse: 3484.73\tvalid_0's l2: 1.21434e+07\n",
      "[3]\tvalid_0's rmse: 3313.58\tvalid_0's l2: 1.09798e+07\n",
      "[4]\tvalid_0's rmse: 3165.25\tvalid_0's l2: 1.00188e+07\n",
      "[5]\tvalid_0's rmse: 3034.44\tvalid_0's l2: 9.20784e+06\n",
      "[6]\tvalid_0's rmse: 2916.44\tvalid_0's l2: 8.50562e+06\n",
      "[7]\tvalid_0's rmse: 2816.1\tvalid_0's l2: 7.93043e+06\n",
      "[8]\tvalid_0's rmse: 2709.37\tvalid_0's l2: 7.34066e+06\n",
      "[9]\tvalid_0's rmse: 2624.41\tvalid_0's l2: 6.88752e+06\n",
      "[10]\tvalid_0's rmse: 2539.6\tvalid_0's l2: 6.44959e+06\n",
      "[11]\tvalid_0's rmse: 2464.39\tvalid_0's l2: 6.07324e+06\n",
      "[12]\tvalid_0's rmse: 2404.29\tvalid_0's l2: 5.78062e+06\n",
      "[13]\tvalid_0's rmse: 2348.64\tvalid_0's l2: 5.51611e+06\n",
      "[14]\tvalid_0's rmse: 2300.1\tvalid_0's l2: 5.29045e+06\n",
      "[15]\tvalid_0's rmse: 2255.96\tvalid_0's l2: 5.08937e+06\n",
      "[16]\tvalid_0's rmse: 2215.42\tvalid_0's l2: 4.90808e+06\n",
      "[17]\tvalid_0's rmse: 2176.01\tvalid_0's l2: 4.73501e+06\n",
      "[18]\tvalid_0's rmse: 2145.44\tvalid_0's l2: 4.6029e+06\n",
      "[19]\tvalid_0's rmse: 2114.57\tvalid_0's l2: 4.47141e+06\n",
      "[20]\tvalid_0's rmse: 2086.62\tvalid_0's l2: 4.35398e+06\n",
      "[1]\tvalid_0's rmse: 3681.32\tvalid_0's l2: 1.35521e+07\n",
      "[2]\tvalid_0's rmse: 3483.7\tvalid_0's l2: 1.21361e+07\n",
      "[3]\tvalid_0's rmse: 3313.01\tvalid_0's l2: 1.0976e+07\n",
      "[4]\tvalid_0's rmse: 3165.2\tvalid_0's l2: 1.00185e+07\n",
      "[5]\tvalid_0's rmse: 3035.23\tvalid_0's l2: 9.21262e+06\n",
      "[6]\tvalid_0's rmse: 2918.05\tvalid_0's l2: 8.515e+06\n",
      "[7]\tvalid_0's rmse: 2819.8\tvalid_0's l2: 7.95128e+06\n",
      "[8]\tvalid_0's rmse: 2710.67\tvalid_0's l2: 7.34776e+06\n",
      "[9]\tvalid_0's rmse: 2623.64\tvalid_0's l2: 6.88349e+06\n",
      "[10]\tvalid_0's rmse: 2539.06\tvalid_0's l2: 6.44682e+06\n",
      "[11]\tvalid_0's rmse: 2467.55\tvalid_0's l2: 6.08879e+06\n",
      "[12]\tvalid_0's rmse: 2403.64\tvalid_0's l2: 5.77746e+06\n",
      "[13]\tvalid_0's rmse: 2351.1\tvalid_0's l2: 5.52766e+06\n",
      "[14]\tvalid_0's rmse: 2302.49\tvalid_0's l2: 5.30144e+06\n",
      "[15]\tvalid_0's rmse: 2257.84\tvalid_0's l2: 5.09784e+06\n",
      "[16]\tvalid_0's rmse: 2212.62\tvalid_0's l2: 4.8957e+06\n",
      "[17]\tvalid_0's rmse: 2179.4\tvalid_0's l2: 4.74977e+06\n",
      "[18]\tvalid_0's rmse: 2143.19\tvalid_0's l2: 4.59328e+06\n",
      "[19]\tvalid_0's rmse: 2112.48\tvalid_0's l2: 4.46258e+06\n",
      "[20]\tvalid_0's rmse: 2082.11\tvalid_0's l2: 4.33519e+06\n",
      "[1]\tvalid_0's rmse: 3680.78\tvalid_0's l2: 1.35481e+07\n",
      "[2]\tvalid_0's rmse: 3483.84\tvalid_0's l2: 1.21371e+07\n",
      "[3]\tvalid_0's rmse: 3312.9\tvalid_0's l2: 1.09753e+07\n",
      "[4]\tvalid_0's rmse: 3165.85\tvalid_0's l2: 1.00226e+07\n",
      "[5]\tvalid_0's rmse: 3034.2\tvalid_0's l2: 9.20639e+06\n",
      "[6]\tvalid_0's rmse: 2921.62\tvalid_0's l2: 8.53587e+06\n",
      "[7]\tvalid_0's rmse: 2816.47\tvalid_0's l2: 7.93251e+06\n",
      "[8]\tvalid_0's rmse: 2708.48\tvalid_0's l2: 7.33584e+06\n",
      "[9]\tvalid_0's rmse: 2623.05\tvalid_0's l2: 6.88038e+06\n",
      "[10]\tvalid_0's rmse: 2542.68\tvalid_0's l2: 6.4652e+06\n",
      "[11]\tvalid_0's rmse: 2465.53\tvalid_0's l2: 6.07882e+06\n",
      "[12]\tvalid_0's rmse: 2403.7\tvalid_0's l2: 5.77777e+06\n",
      "[13]\tvalid_0's rmse: 2349.36\tvalid_0's l2: 5.5195e+06\n",
      "[14]\tvalid_0's rmse: 2301.59\tvalid_0's l2: 5.29733e+06\n",
      "[15]\tvalid_0's rmse: 2254.41\tvalid_0's l2: 5.08238e+06\n",
      "[16]\tvalid_0's rmse: 2214.42\tvalid_0's l2: 4.90364e+06\n",
      "[17]\tvalid_0's rmse: 2178.2\tvalid_0's l2: 4.74457e+06\n",
      "[18]\tvalid_0's rmse: 2146.06\tvalid_0's l2: 4.60557e+06\n",
      "[19]\tvalid_0's rmse: 2114.91\tvalid_0's l2: 4.47285e+06\n",
      "[20]\tvalid_0's rmse: 2086\tvalid_0's l2: 4.3514e+06\n",
      "[1]\tvalid_0's rmse: 3681.35\tvalid_0's l2: 1.35523e+07\n",
      "[2]\tvalid_0's rmse: 3484.74\tvalid_0's l2: 1.21434e+07\n",
      "[3]\tvalid_0's rmse: 3314.07\tvalid_0's l2: 1.09831e+07\n",
      "[4]\tvalid_0's rmse: 3165.82\tvalid_0's l2: 1.00224e+07\n",
      "[5]\tvalid_0's rmse: 3037.17\tvalid_0's l2: 9.22438e+06\n",
      "[6]\tvalid_0's rmse: 2921.42\tvalid_0's l2: 8.53467e+06\n",
      "[7]\tvalid_0's rmse: 2816.68\tvalid_0's l2: 7.93369e+06\n",
      "[8]\tvalid_0's rmse: 2718.08\tvalid_0's l2: 7.38794e+06\n",
      "[9]\tvalid_0's rmse: 2620.09\tvalid_0's l2: 6.86488e+06\n",
      "[10]\tvalid_0's rmse: 2536.53\tvalid_0's l2: 6.434e+06\n",
      "[11]\tvalid_0's rmse: 2464.55\tvalid_0's l2: 6.07399e+06\n",
      "[12]\tvalid_0's rmse: 2405.58\tvalid_0's l2: 5.7868e+06\n",
      "[13]\tvalid_0's rmse: 2348.91\tvalid_0's l2: 5.51737e+06\n",
      "[14]\tvalid_0's rmse: 2297.3\tvalid_0's l2: 5.27758e+06\n",
      "[15]\tvalid_0's rmse: 2255.58\tvalid_0's l2: 5.08764e+06\n",
      "[16]\tvalid_0's rmse: 2212.87\tvalid_0's l2: 4.8968e+06\n",
      "[17]\tvalid_0's rmse: 2178.23\tvalid_0's l2: 4.74467e+06\n",
      "[18]\tvalid_0's rmse: 2141.92\tvalid_0's l2: 4.58784e+06\n",
      "[19]\tvalid_0's rmse: 2111.65\tvalid_0's l2: 4.45907e+06\n",
      "[20]\tvalid_0's rmse: 2084.52\tvalid_0's l2: 4.34524e+06\n",
      "[1]\tvalid_0's rmse: 3680.82\tvalid_0's l2: 1.35484e+07\n",
      "[2]\tvalid_0's rmse: 3483.04\tvalid_0's l2: 1.21316e+07\n",
      "[3]\tvalid_0's rmse: 3312.74\tvalid_0's l2: 1.09743e+07\n",
      "[4]\tvalid_0's rmse: 3164.51\tvalid_0's l2: 1.00141e+07\n",
      "[5]\tvalid_0's rmse: 3036.55\tvalid_0's l2: 9.22066e+06\n",
      "[6]\tvalid_0's rmse: 2919.46\tvalid_0's l2: 8.52327e+06\n",
      "[7]\tvalid_0's rmse: 2815.35\tvalid_0's l2: 7.92621e+06\n",
      "[8]\tvalid_0's rmse: 2707.82\tvalid_0's l2: 7.33229e+06\n",
      "[9]\tvalid_0's rmse: 2620.66\tvalid_0's l2: 6.86788e+06\n",
      "[10]\tvalid_0's rmse: 2536.68\tvalid_0's l2: 6.43472e+06\n",
      "[11]\tvalid_0's rmse: 2470.57\tvalid_0's l2: 6.10369e+06\n",
      "[12]\tvalid_0's rmse: 2407.78\tvalid_0's l2: 5.7974e+06\n",
      "[13]\tvalid_0's rmse: 2349.49\tvalid_0's l2: 5.52011e+06\n",
      "[14]\tvalid_0's rmse: 2300.79\tvalid_0's l2: 5.29365e+06\n",
      "[15]\tvalid_0's rmse: 2253.61\tvalid_0's l2: 5.07878e+06\n",
      "[16]\tvalid_0's rmse: 2215.01\tvalid_0's l2: 4.90626e+06\n",
      "[17]\tvalid_0's rmse: 2175.86\tvalid_0's l2: 4.73437e+06\n",
      "[18]\tvalid_0's rmse: 2141.61\tvalid_0's l2: 4.58648e+06\n",
      "[19]\tvalid_0's rmse: 2113.45\tvalid_0's l2: 4.46667e+06\n",
      "[20]\tvalid_0's rmse: 2088.04\tvalid_0's l2: 4.35991e+06\n",
      "[1]\tvalid_0's rmse: 3681.12\tvalid_0's l2: 1.35506e+07\n",
      "[2]\tvalid_0's rmse: 3484.73\tvalid_0's l2: 1.21434e+07\n",
      "[3]\tvalid_0's rmse: 3313.58\tvalid_0's l2: 1.09798e+07\n",
      "[4]\tvalid_0's rmse: 3165.25\tvalid_0's l2: 1.00188e+07\n",
      "[5]\tvalid_0's rmse: 3034.44\tvalid_0's l2: 9.20784e+06\n",
      "[6]\tvalid_0's rmse: 2916.44\tvalid_0's l2: 8.50562e+06\n",
      "[7]\tvalid_0's rmse: 2816.1\tvalid_0's l2: 7.93043e+06\n",
      "[8]\tvalid_0's rmse: 2709.37\tvalid_0's l2: 7.34066e+06\n",
      "[9]\tvalid_0's rmse: 2624.41\tvalid_0's l2: 6.88752e+06\n",
      "[10]\tvalid_0's rmse: 2539.6\tvalid_0's l2: 6.44959e+06\n",
      "[11]\tvalid_0's rmse: 2464.39\tvalid_0's l2: 6.07324e+06\n",
      "[12]\tvalid_0's rmse: 2404.29\tvalid_0's l2: 5.78062e+06\n",
      "[13]\tvalid_0's rmse: 2348.64\tvalid_0's l2: 5.51611e+06\n",
      "[14]\tvalid_0's rmse: 2300.1\tvalid_0's l2: 5.29045e+06\n",
      "[15]\tvalid_0's rmse: 2255.96\tvalid_0's l2: 5.08937e+06\n",
      "[16]\tvalid_0's rmse: 2215.42\tvalid_0's l2: 4.90808e+06\n",
      "[17]\tvalid_0's rmse: 2176.01\tvalid_0's l2: 4.73501e+06\n",
      "[18]\tvalid_0's rmse: 2145.44\tvalid_0's l2: 4.6029e+06\n",
      "[19]\tvalid_0's rmse: 2114.57\tvalid_0's l2: 4.47141e+06\n",
      "[20]\tvalid_0's rmse: 2086.62\tvalid_0's l2: 4.35398e+06\n",
      "[21]\tvalid_0's rmse: 2059.8\tvalid_0's l2: 4.24276e+06\n",
      "[22]\tvalid_0's rmse: 2033.94\tvalid_0's l2: 4.13693e+06\n",
      "[23]\tvalid_0's rmse: 2010.69\tvalid_0's l2: 4.04286e+06\n",
      "[24]\tvalid_0's rmse: 1990.23\tvalid_0's l2: 3.96101e+06\n",
      "[1]\tvalid_0's rmse: 3681.32\tvalid_0's l2: 1.35521e+07\n",
      "[2]\tvalid_0's rmse: 3483.7\tvalid_0's l2: 1.21361e+07\n",
      "[3]\tvalid_0's rmse: 3313.01\tvalid_0's l2: 1.0976e+07\n",
      "[4]\tvalid_0's rmse: 3165.2\tvalid_0's l2: 1.00185e+07\n",
      "[5]\tvalid_0's rmse: 3035.23\tvalid_0's l2: 9.21262e+06\n",
      "[6]\tvalid_0's rmse: 2918.05\tvalid_0's l2: 8.515e+06\n",
      "[7]\tvalid_0's rmse: 2819.8\tvalid_0's l2: 7.95128e+06\n",
      "[8]\tvalid_0's rmse: 2710.67\tvalid_0's l2: 7.34776e+06\n",
      "[9]\tvalid_0's rmse: 2623.64\tvalid_0's l2: 6.88349e+06\n",
      "[10]\tvalid_0's rmse: 2539.06\tvalid_0's l2: 6.44682e+06\n",
      "[11]\tvalid_0's rmse: 2467.55\tvalid_0's l2: 6.08879e+06\n",
      "[12]\tvalid_0's rmse: 2403.64\tvalid_0's l2: 5.77746e+06\n",
      "[13]\tvalid_0's rmse: 2351.1\tvalid_0's l2: 5.52766e+06\n",
      "[14]\tvalid_0's rmse: 2302.49\tvalid_0's l2: 5.30144e+06\n",
      "[15]\tvalid_0's rmse: 2257.84\tvalid_0's l2: 5.09784e+06\n",
      "[16]\tvalid_0's rmse: 2212.62\tvalid_0's l2: 4.8957e+06\n",
      "[17]\tvalid_0's rmse: 2179.4\tvalid_0's l2: 4.74977e+06\n",
      "[18]\tvalid_0's rmse: 2143.19\tvalid_0's l2: 4.59328e+06\n",
      "[19]\tvalid_0's rmse: 2112.48\tvalid_0's l2: 4.46258e+06\n",
      "[20]\tvalid_0's rmse: 2082.11\tvalid_0's l2: 4.33519e+06\n",
      "[21]\tvalid_0's rmse: 2056.48\tvalid_0's l2: 4.22909e+06\n",
      "[22]\tvalid_0's rmse: 2027.37\tvalid_0's l2: 4.11024e+06\n",
      "[23]\tvalid_0's rmse: 2003.93\tvalid_0's l2: 4.01575e+06\n",
      "[24]\tvalid_0's rmse: 1984.32\tvalid_0's l2: 3.93751e+06\n",
      "[1]\tvalid_0's rmse: 3680.78\tvalid_0's l2: 1.35481e+07\n",
      "[2]\tvalid_0's rmse: 3483.84\tvalid_0's l2: 1.21371e+07\n",
      "[3]\tvalid_0's rmse: 3312.9\tvalid_0's l2: 1.09753e+07\n",
      "[4]\tvalid_0's rmse: 3165.85\tvalid_0's l2: 1.00226e+07\n",
      "[5]\tvalid_0's rmse: 3034.2\tvalid_0's l2: 9.20639e+06\n",
      "[6]\tvalid_0's rmse: 2921.62\tvalid_0's l2: 8.53587e+06\n",
      "[7]\tvalid_0's rmse: 2816.47\tvalid_0's l2: 7.93251e+06\n",
      "[8]\tvalid_0's rmse: 2708.48\tvalid_0's l2: 7.33584e+06\n",
      "[9]\tvalid_0's rmse: 2623.05\tvalid_0's l2: 6.88038e+06\n",
      "[10]\tvalid_0's rmse: 2542.68\tvalid_0's l2: 6.4652e+06\n",
      "[11]\tvalid_0's rmse: 2465.53\tvalid_0's l2: 6.07882e+06\n",
      "[12]\tvalid_0's rmse: 2403.7\tvalid_0's l2: 5.77777e+06\n",
      "[13]\tvalid_0's rmse: 2349.36\tvalid_0's l2: 5.5195e+06\n",
      "[14]\tvalid_0's rmse: 2301.59\tvalid_0's l2: 5.29733e+06\n",
      "[15]\tvalid_0's rmse: 2254.41\tvalid_0's l2: 5.08238e+06\n",
      "[16]\tvalid_0's rmse: 2214.42\tvalid_0's l2: 4.90364e+06\n",
      "[17]\tvalid_0's rmse: 2178.2\tvalid_0's l2: 4.74457e+06\n",
      "[18]\tvalid_0's rmse: 2146.06\tvalid_0's l2: 4.60557e+06\n",
      "[19]\tvalid_0's rmse: 2114.91\tvalid_0's l2: 4.47285e+06\n",
      "[20]\tvalid_0's rmse: 2086\tvalid_0's l2: 4.3514e+06\n",
      "[21]\tvalid_0's rmse: 2061.29\tvalid_0's l2: 4.24893e+06\n",
      "[22]\tvalid_0's rmse: 2036.92\tvalid_0's l2: 4.14905e+06\n",
      "[23]\tvalid_0's rmse: 2012.49\tvalid_0's l2: 4.05012e+06\n",
      "[24]\tvalid_0's rmse: 1990.44\tvalid_0's l2: 3.96185e+06\n",
      "[1]\tvalid_0's rmse: 3681.35\tvalid_0's l2: 1.35523e+07\n",
      "[2]\tvalid_0's rmse: 3484.74\tvalid_0's l2: 1.21434e+07\n",
      "[3]\tvalid_0's rmse: 3314.07\tvalid_0's l2: 1.09831e+07\n",
      "[4]\tvalid_0's rmse: 3165.82\tvalid_0's l2: 1.00224e+07\n",
      "[5]\tvalid_0's rmse: 3037.17\tvalid_0's l2: 9.22438e+06\n",
      "[6]\tvalid_0's rmse: 2921.42\tvalid_0's l2: 8.53467e+06\n",
      "[7]\tvalid_0's rmse: 2816.68\tvalid_0's l2: 7.93369e+06\n",
      "[8]\tvalid_0's rmse: 2718.08\tvalid_0's l2: 7.38794e+06\n",
      "[9]\tvalid_0's rmse: 2620.09\tvalid_0's l2: 6.86488e+06\n",
      "[10]\tvalid_0's rmse: 2536.53\tvalid_0's l2: 6.434e+06\n",
      "[11]\tvalid_0's rmse: 2464.55\tvalid_0's l2: 6.07399e+06\n",
      "[12]\tvalid_0's rmse: 2405.58\tvalid_0's l2: 5.7868e+06\n",
      "[13]\tvalid_0's rmse: 2348.91\tvalid_0's l2: 5.51737e+06\n",
      "[14]\tvalid_0's rmse: 2297.3\tvalid_0's l2: 5.27758e+06\n",
      "[15]\tvalid_0's rmse: 2255.58\tvalid_0's l2: 5.08764e+06\n",
      "[16]\tvalid_0's rmse: 2212.87\tvalid_0's l2: 4.8968e+06\n",
      "[17]\tvalid_0's rmse: 2178.23\tvalid_0's l2: 4.74467e+06\n",
      "[18]\tvalid_0's rmse: 2141.92\tvalid_0's l2: 4.58784e+06\n",
      "[19]\tvalid_0's rmse: 2111.65\tvalid_0's l2: 4.45907e+06\n",
      "[20]\tvalid_0's rmse: 2084.52\tvalid_0's l2: 4.34524e+06\n",
      "[21]\tvalid_0's rmse: 2057.77\tvalid_0's l2: 4.23442e+06\n",
      "[22]\tvalid_0's rmse: 2031.24\tvalid_0's l2: 4.12595e+06\n",
      "[23]\tvalid_0's rmse: 2009.57\tvalid_0's l2: 4.03838e+06\n",
      "[24]\tvalid_0's rmse: 1988.61\tvalid_0's l2: 3.95456e+06\n",
      "[1]\tvalid_0's rmse: 3680.82\tvalid_0's l2: 1.35484e+07\n",
      "[2]\tvalid_0's rmse: 3483.04\tvalid_0's l2: 1.21316e+07\n",
      "[3]\tvalid_0's rmse: 3312.74\tvalid_0's l2: 1.09743e+07\n",
      "[4]\tvalid_0's rmse: 3164.51\tvalid_0's l2: 1.00141e+07\n",
      "[5]\tvalid_0's rmse: 3036.55\tvalid_0's l2: 9.22066e+06\n",
      "[6]\tvalid_0's rmse: 2919.46\tvalid_0's l2: 8.52327e+06\n",
      "[7]\tvalid_0's rmse: 2815.35\tvalid_0's l2: 7.92621e+06\n",
      "[8]\tvalid_0's rmse: 2707.82\tvalid_0's l2: 7.33229e+06\n",
      "[9]\tvalid_0's rmse: 2620.66\tvalid_0's l2: 6.86788e+06\n",
      "[10]\tvalid_0's rmse: 2536.68\tvalid_0's l2: 6.43472e+06\n",
      "[11]\tvalid_0's rmse: 2470.57\tvalid_0's l2: 6.10369e+06\n",
      "[12]\tvalid_0's rmse: 2407.78\tvalid_0's l2: 5.7974e+06\n",
      "[13]\tvalid_0's rmse: 2349.49\tvalid_0's l2: 5.52011e+06\n",
      "[14]\tvalid_0's rmse: 2300.79\tvalid_0's l2: 5.29365e+06\n",
      "[15]\tvalid_0's rmse: 2253.61\tvalid_0's l2: 5.07878e+06\n",
      "[16]\tvalid_0's rmse: 2215.01\tvalid_0's l2: 4.90626e+06\n",
      "[17]\tvalid_0's rmse: 2175.86\tvalid_0's l2: 4.73437e+06\n",
      "[18]\tvalid_0's rmse: 2141.61\tvalid_0's l2: 4.58648e+06\n",
      "[19]\tvalid_0's rmse: 2113.45\tvalid_0's l2: 4.46667e+06\n",
      "[20]\tvalid_0's rmse: 2088.04\tvalid_0's l2: 4.35991e+06\n",
      "[21]\tvalid_0's rmse: 2060.43\tvalid_0's l2: 4.24538e+06\n",
      "[22]\tvalid_0's rmse: 2038.16\tvalid_0's l2: 4.15411e+06\n",
      "[23]\tvalid_0's rmse: 2014.01\tvalid_0's l2: 4.05625e+06\n",
      "[24]\tvalid_0's rmse: 1993.78\tvalid_0's l2: 3.97517e+06\n",
      "[1]\tvalid_0's rmse: 3681.12\tvalid_0's l2: 1.35506e+07\n",
      "[2]\tvalid_0's rmse: 3484.73\tvalid_0's l2: 1.21434e+07\n",
      "[3]\tvalid_0's rmse: 3313.58\tvalid_0's l2: 1.09798e+07\n",
      "[4]\tvalid_0's rmse: 3165.25\tvalid_0's l2: 1.00188e+07\n",
      "[5]\tvalid_0's rmse: 3034.44\tvalid_0's l2: 9.20784e+06\n",
      "[6]\tvalid_0's rmse: 2916.44\tvalid_0's l2: 8.50562e+06\n",
      "[7]\tvalid_0's rmse: 2816.1\tvalid_0's l2: 7.93043e+06\n",
      "[8]\tvalid_0's rmse: 2709.37\tvalid_0's l2: 7.34066e+06\n",
      "[9]\tvalid_0's rmse: 2624.41\tvalid_0's l2: 6.88752e+06\n",
      "[10]\tvalid_0's rmse: 2539.6\tvalid_0's l2: 6.44959e+06\n",
      "[11]\tvalid_0's rmse: 2464.39\tvalid_0's l2: 6.07324e+06\n",
      "[12]\tvalid_0's rmse: 2404.29\tvalid_0's l2: 5.78062e+06\n",
      "[13]\tvalid_0's rmse: 2348.64\tvalid_0's l2: 5.51611e+06\n",
      "[14]\tvalid_0's rmse: 2300.1\tvalid_0's l2: 5.29045e+06\n",
      "[15]\tvalid_0's rmse: 2255.96\tvalid_0's l2: 5.08937e+06\n",
      "[16]\tvalid_0's rmse: 2215.42\tvalid_0's l2: 4.90808e+06\n",
      "[17]\tvalid_0's rmse: 2176.01\tvalid_0's l2: 4.73501e+06\n",
      "[18]\tvalid_0's rmse: 2145.44\tvalid_0's l2: 4.6029e+06\n",
      "[19]\tvalid_0's rmse: 2114.57\tvalid_0's l2: 4.47141e+06\n",
      "[20]\tvalid_0's rmse: 2086.62\tvalid_0's l2: 4.35398e+06\n",
      "[21]\tvalid_0's rmse: 2059.8\tvalid_0's l2: 4.24276e+06\n",
      "[22]\tvalid_0's rmse: 2033.94\tvalid_0's l2: 4.13693e+06\n",
      "[23]\tvalid_0's rmse: 2010.69\tvalid_0's l2: 4.04286e+06\n",
      "[24]\tvalid_0's rmse: 1990.23\tvalid_0's l2: 3.96101e+06\n",
      "[25]\tvalid_0's rmse: 1969.54\tvalid_0's l2: 3.87908e+06\n",
      "[26]\tvalid_0's rmse: 1952.86\tvalid_0's l2: 3.81367e+06\n",
      "[27]\tvalid_0's rmse: 1935.43\tvalid_0's l2: 3.7459e+06\n",
      "[28]\tvalid_0's rmse: 1919.99\tvalid_0's l2: 3.68636e+06\n",
      "[1]\tvalid_0's rmse: 3681.32\tvalid_0's l2: 1.35521e+07\n",
      "[2]\tvalid_0's rmse: 3483.7\tvalid_0's l2: 1.21361e+07\n",
      "[3]\tvalid_0's rmse: 3313.01\tvalid_0's l2: 1.0976e+07\n",
      "[4]\tvalid_0's rmse: 3165.2\tvalid_0's l2: 1.00185e+07\n",
      "[5]\tvalid_0's rmse: 3035.23\tvalid_0's l2: 9.21262e+06\n",
      "[6]\tvalid_0's rmse: 2918.05\tvalid_0's l2: 8.515e+06\n",
      "[7]\tvalid_0's rmse: 2819.8\tvalid_0's l2: 7.95128e+06\n",
      "[8]\tvalid_0's rmse: 2710.67\tvalid_0's l2: 7.34776e+06\n",
      "[9]\tvalid_0's rmse: 2623.64\tvalid_0's l2: 6.88349e+06\n",
      "[10]\tvalid_0's rmse: 2539.06\tvalid_0's l2: 6.44682e+06\n",
      "[11]\tvalid_0's rmse: 2467.55\tvalid_0's l2: 6.08879e+06\n",
      "[12]\tvalid_0's rmse: 2403.64\tvalid_0's l2: 5.77746e+06\n",
      "[13]\tvalid_0's rmse: 2351.1\tvalid_0's l2: 5.52766e+06\n",
      "[14]\tvalid_0's rmse: 2302.49\tvalid_0's l2: 5.30144e+06\n",
      "[15]\tvalid_0's rmse: 2257.84\tvalid_0's l2: 5.09784e+06\n",
      "[16]\tvalid_0's rmse: 2212.62\tvalid_0's l2: 4.8957e+06\n",
      "[17]\tvalid_0's rmse: 2179.4\tvalid_0's l2: 4.74977e+06\n",
      "[18]\tvalid_0's rmse: 2143.19\tvalid_0's l2: 4.59328e+06\n",
      "[19]\tvalid_0's rmse: 2112.48\tvalid_0's l2: 4.46258e+06\n",
      "[20]\tvalid_0's rmse: 2082.11\tvalid_0's l2: 4.33519e+06\n",
      "[21]\tvalid_0's rmse: 2056.48\tvalid_0's l2: 4.22909e+06\n",
      "[22]\tvalid_0's rmse: 2027.37\tvalid_0's l2: 4.11024e+06\n",
      "[23]\tvalid_0's rmse: 2003.93\tvalid_0's l2: 4.01575e+06\n",
      "[24]\tvalid_0's rmse: 1984.32\tvalid_0's l2: 3.93751e+06\n",
      "[25]\tvalid_0's rmse: 1964.69\tvalid_0's l2: 3.85999e+06\n",
      "[26]\tvalid_0's rmse: 1947.18\tvalid_0's l2: 3.79152e+06\n",
      "[27]\tvalid_0's rmse: 1931.27\tvalid_0's l2: 3.7298e+06\n",
      "[28]\tvalid_0's rmse: 1913.38\tvalid_0's l2: 3.66103e+06\n",
      "[1]\tvalid_0's rmse: 3680.78\tvalid_0's l2: 1.35481e+07\n",
      "[2]\tvalid_0's rmse: 3483.84\tvalid_0's l2: 1.21371e+07\n",
      "[3]\tvalid_0's rmse: 3312.9\tvalid_0's l2: 1.09753e+07\n",
      "[4]\tvalid_0's rmse: 3165.85\tvalid_0's l2: 1.00226e+07\n",
      "[5]\tvalid_0's rmse: 3034.2\tvalid_0's l2: 9.20639e+06\n",
      "[6]\tvalid_0's rmse: 2921.62\tvalid_0's l2: 8.53587e+06\n",
      "[7]\tvalid_0's rmse: 2816.47\tvalid_0's l2: 7.93251e+06\n",
      "[8]\tvalid_0's rmse: 2708.48\tvalid_0's l2: 7.33584e+06\n",
      "[9]\tvalid_0's rmse: 2623.05\tvalid_0's l2: 6.88038e+06\n",
      "[10]\tvalid_0's rmse: 2542.68\tvalid_0's l2: 6.4652e+06\n",
      "[11]\tvalid_0's rmse: 2465.53\tvalid_0's l2: 6.07882e+06\n",
      "[12]\tvalid_0's rmse: 2403.7\tvalid_0's l2: 5.77777e+06\n",
      "[13]\tvalid_0's rmse: 2349.36\tvalid_0's l2: 5.5195e+06\n",
      "[14]\tvalid_0's rmse: 2301.59\tvalid_0's l2: 5.29733e+06\n",
      "[15]\tvalid_0's rmse: 2254.41\tvalid_0's l2: 5.08238e+06\n",
      "[16]\tvalid_0's rmse: 2214.42\tvalid_0's l2: 4.90364e+06\n",
      "[17]\tvalid_0's rmse: 2178.2\tvalid_0's l2: 4.74457e+06\n",
      "[18]\tvalid_0's rmse: 2146.06\tvalid_0's l2: 4.60557e+06\n",
      "[19]\tvalid_0's rmse: 2114.91\tvalid_0's l2: 4.47285e+06\n",
      "[20]\tvalid_0's rmse: 2086\tvalid_0's l2: 4.3514e+06\n",
      "[21]\tvalid_0's rmse: 2061.29\tvalid_0's l2: 4.24893e+06\n",
      "[22]\tvalid_0's rmse: 2036.92\tvalid_0's l2: 4.14905e+06\n",
      "[23]\tvalid_0's rmse: 2012.49\tvalid_0's l2: 4.05012e+06\n",
      "[24]\tvalid_0's rmse: 1990.44\tvalid_0's l2: 3.96185e+06\n",
      "[25]\tvalid_0's rmse: 1972.27\tvalid_0's l2: 3.88985e+06\n",
      "[26]\tvalid_0's rmse: 1954.11\tvalid_0's l2: 3.81855e+06\n",
      "[27]\tvalid_0's rmse: 1937.26\tvalid_0's l2: 3.75297e+06\n",
      "[28]\tvalid_0's rmse: 1921.66\tvalid_0's l2: 3.69278e+06\n",
      "[1]\tvalid_0's rmse: 3681.35\tvalid_0's l2: 1.35523e+07\n",
      "[2]\tvalid_0's rmse: 3484.74\tvalid_0's l2: 1.21434e+07\n",
      "[3]\tvalid_0's rmse: 3314.07\tvalid_0's l2: 1.09831e+07\n",
      "[4]\tvalid_0's rmse: 3165.82\tvalid_0's l2: 1.00224e+07\n",
      "[5]\tvalid_0's rmse: 3037.17\tvalid_0's l2: 9.22438e+06\n",
      "[6]\tvalid_0's rmse: 2921.42\tvalid_0's l2: 8.53467e+06\n",
      "[7]\tvalid_0's rmse: 2816.68\tvalid_0's l2: 7.93369e+06\n",
      "[8]\tvalid_0's rmse: 2718.08\tvalid_0's l2: 7.38794e+06\n",
      "[9]\tvalid_0's rmse: 2620.09\tvalid_0's l2: 6.86488e+06\n",
      "[10]\tvalid_0's rmse: 2536.53\tvalid_0's l2: 6.434e+06\n",
      "[11]\tvalid_0's rmse: 2464.55\tvalid_0's l2: 6.07399e+06\n",
      "[12]\tvalid_0's rmse: 2405.58\tvalid_0's l2: 5.7868e+06\n",
      "[13]\tvalid_0's rmse: 2348.91\tvalid_0's l2: 5.51737e+06\n",
      "[14]\tvalid_0's rmse: 2297.3\tvalid_0's l2: 5.27758e+06\n",
      "[15]\tvalid_0's rmse: 2255.58\tvalid_0's l2: 5.08764e+06\n",
      "[16]\tvalid_0's rmse: 2212.87\tvalid_0's l2: 4.8968e+06\n",
      "[17]\tvalid_0's rmse: 2178.23\tvalid_0's l2: 4.74467e+06\n",
      "[18]\tvalid_0's rmse: 2141.92\tvalid_0's l2: 4.58784e+06\n",
      "[19]\tvalid_0's rmse: 2111.65\tvalid_0's l2: 4.45907e+06\n",
      "[20]\tvalid_0's rmse: 2084.52\tvalid_0's l2: 4.34524e+06\n",
      "[21]\tvalid_0's rmse: 2057.77\tvalid_0's l2: 4.23442e+06\n",
      "[22]\tvalid_0's rmse: 2031.24\tvalid_0's l2: 4.12595e+06\n",
      "[23]\tvalid_0's rmse: 2009.57\tvalid_0's l2: 4.03838e+06\n",
      "[24]\tvalid_0's rmse: 1988.61\tvalid_0's l2: 3.95456e+06\n",
      "[25]\tvalid_0's rmse: 1968.44\tvalid_0's l2: 3.87477e+06\n",
      "[26]\tvalid_0's rmse: 1950.31\tvalid_0's l2: 3.80372e+06\n",
      "[27]\tvalid_0's rmse: 1933.37\tvalid_0's l2: 3.7379e+06\n",
      "[28]\tvalid_0's rmse: 1918.28\tvalid_0's l2: 3.6798e+06\n",
      "[1]\tvalid_0's rmse: 3680.82\tvalid_0's l2: 1.35484e+07\n",
      "[2]\tvalid_0's rmse: 3483.04\tvalid_0's l2: 1.21316e+07\n",
      "[3]\tvalid_0's rmse: 3312.74\tvalid_0's l2: 1.09743e+07\n",
      "[4]\tvalid_0's rmse: 3164.51\tvalid_0's l2: 1.00141e+07\n",
      "[5]\tvalid_0's rmse: 3036.55\tvalid_0's l2: 9.22066e+06\n",
      "[6]\tvalid_0's rmse: 2919.46\tvalid_0's l2: 8.52327e+06\n",
      "[7]\tvalid_0's rmse: 2815.35\tvalid_0's l2: 7.92621e+06\n",
      "[8]\tvalid_0's rmse: 2707.82\tvalid_0's l2: 7.33229e+06\n",
      "[9]\tvalid_0's rmse: 2620.66\tvalid_0's l2: 6.86788e+06\n",
      "[10]\tvalid_0's rmse: 2536.68\tvalid_0's l2: 6.43472e+06\n",
      "[11]\tvalid_0's rmse: 2470.57\tvalid_0's l2: 6.10369e+06\n",
      "[12]\tvalid_0's rmse: 2407.78\tvalid_0's l2: 5.7974e+06\n",
      "[13]\tvalid_0's rmse: 2349.49\tvalid_0's l2: 5.52011e+06\n",
      "[14]\tvalid_0's rmse: 2300.79\tvalid_0's l2: 5.29365e+06\n",
      "[15]\tvalid_0's rmse: 2253.61\tvalid_0's l2: 5.07878e+06\n",
      "[16]\tvalid_0's rmse: 2215.01\tvalid_0's l2: 4.90626e+06\n",
      "[17]\tvalid_0's rmse: 2175.86\tvalid_0's l2: 4.73437e+06\n",
      "[18]\tvalid_0's rmse: 2141.61\tvalid_0's l2: 4.58648e+06\n",
      "[19]\tvalid_0's rmse: 2113.45\tvalid_0's l2: 4.46667e+06\n",
      "[20]\tvalid_0's rmse: 2088.04\tvalid_0's l2: 4.35991e+06\n",
      "[21]\tvalid_0's rmse: 2060.43\tvalid_0's l2: 4.24538e+06\n",
      "[22]\tvalid_0's rmse: 2038.16\tvalid_0's l2: 4.15411e+06\n",
      "[23]\tvalid_0's rmse: 2014.01\tvalid_0's l2: 4.05625e+06\n",
      "[24]\tvalid_0's rmse: 1993.78\tvalid_0's l2: 3.97517e+06\n",
      "[25]\tvalid_0's rmse: 1967.77\tvalid_0's l2: 3.8721e+06\n",
      "[26]\tvalid_0's rmse: 1948.68\tvalid_0's l2: 3.79737e+06\n",
      "[27]\tvalid_0's rmse: 1933.24\tvalid_0's l2: 3.73741e+06\n",
      "[28]\tvalid_0's rmse: 1917.97\tvalid_0's l2: 3.67863e+06\n"
     ]
    },
    {
     "name": "stderr",
     "output_type": "stream",
     "text": [
      "/opt/conda/lib/python3.9/site-packages/sklearn/model_selection/_search.py:952: UserWarning: One or more of the test scores are non-finite: [nan nan nan nan nan nan]\n",
      "  warnings.warn(\n"
     ]
    },
    {
     "name": "stdout",
     "output_type": "stream",
     "text": [
      "[1]\tvalid_0's rmse: 3690.9\tvalid_0's l2: 1.36227e+07\n",
      "[2]\tvalid_0's rmse: 3502.99\tvalid_0's l2: 1.22709e+07\n",
      "[3]\tvalid_0's rmse: 3341.09\tvalid_0's l2: 1.11629e+07\n",
      "[4]\tvalid_0's rmse: 3201.59\tvalid_0's l2: 1.02502e+07\n",
      "[5]\tvalid_0's rmse: 3080.69\tvalid_0's l2: 9.49064e+06\n",
      "[6]\tvalid_0's rmse: 2976.74\tvalid_0's l2: 8.86097e+06\n",
      "[7]\tvalid_0's rmse: 2874.2\tvalid_0's l2: 8.26102e+06\n",
      "[8]\tvalid_0's rmse: 2788.06\tvalid_0's l2: 7.77327e+06\n",
      "[9]\tvalid_0's rmse: 2708.7\tvalid_0's l2: 7.33708e+06\n",
      "[10]\tvalid_0's rmse: 2638.95\tvalid_0's l2: 6.96404e+06\n",
      "[11]\tvalid_0's rmse: 2578.44\tvalid_0's l2: 6.64836e+06\n",
      "[12]\tvalid_0's rmse: 2521.78\tvalid_0's l2: 6.35936e+06\n",
      "[13]\tvalid_0's rmse: 2472.69\tvalid_0's l2: 6.11419e+06\n",
      "[14]\tvalid_0's rmse: 2426.36\tvalid_0's l2: 5.88725e+06\n",
      "[15]\tvalid_0's rmse: 2386.4\tvalid_0's l2: 5.69491e+06\n",
      "[16]\tvalid_0's rmse: 2349.1\tvalid_0's l2: 5.51828e+06\n",
      "[17]\tvalid_0's rmse: 2315.59\tvalid_0's l2: 5.36197e+06\n",
      "[18]\tvalid_0's rmse: 2281.56\tvalid_0's l2: 5.20549e+06\n",
      "[19]\tvalid_0's rmse: 2251.89\tvalid_0's l2: 5.071e+06\n",
      "[20]\tvalid_0's rmse: 2226.44\tvalid_0's l2: 4.95704e+06\n",
      "Лучшее значение глубины и количества деревьев: LGBMModel(max_depth=5, n_estimators=20, objective='regression',\n",
      "          return_train_score=True, score='rmse')\n",
      "Лучшее значение RMSE: nan\n",
      "CPU times: user 46min 3s, sys: 29.8 s, total: 46min 33s\n",
      "Wall time: 46min 49s\n"
     ]
    }
   ],
   "source": [
    "%%time\n",
    "# Построим модель градиентного бустинга с перебором гиперпараметров\n",
    "\n",
    "parametrs = {'n_estimators': range(20, 30, 4), \n",
    "             'max_depth': range(5, 9, 2)}\n",
    "\n",
    "booster = lgb.LGBMModel(objective=\"regression\", score='rmse', return_train_score=True)\n",
    "\n",
    "grid = GridSearchCV(booster, parametrs, cv=5)\n",
    "\n",
    "grid.fit(features_train_ridge, target_train, eval_set=[(features_valid_ridge, target_valid),], eval_metric=\"rmse\", early_stopping_rounds=10)\n",
    "\n",
    "print(\"Лучшее значение глубины и количества деревьев:\", grid.best_estimator_)\n",
    "print(\"Лучшее значение RMSE:\", grid.best_score_)"
   ]
  },
  {
   "cell_type": "code",
   "execution_count": 33,
   "metadata": {},
   "outputs": [
    {
     "name": "stdout",
     "output_type": "stream",
     "text": [
      "[LightGBM] [Warning] Unknown parameter: score\n",
      "[LightGBM] [Warning] Unknown parameter: return_train_score\n",
      "CPU times: user 58.8 s, sys: 802 ms, total: 59.6 s\n",
      "Wall time: 59.9 s\n",
      "CPU times: user 175 ms, sys: 52.3 ms, total: 227 ms\n",
      "Wall time: 213 ms\n",
      "2226.441117256508\n"
     ]
    }
   ],
   "source": [
    "%time grid.best_estimator_.fit(features_train_ridge, target_train)\n",
    "%time test_predicted_lgbm = model_2.predict(features_valid_ridge)\n",
    "rmse_lgbm = math.sqrt(mean_squared_error(target_valid, test_predicted_lgbm))\n",
    "print(rmse_lgbm)"
   ]
  },
  {
   "cell_type": "markdown",
   "metadata": {},
   "source": [
    "Значение метрики RMSE для **градиентного бустинга** получилось равным 2226.44, время обучения на валидационной выборке -  59.9 s и предсказания: 213 ms."
   ]
  },
  {
   "cell_type": "code",
   "execution_count": 25,
   "metadata": {},
   "outputs": [
    {
     "name": "stderr",
     "output_type": "stream",
     "text": [
      "/opt/conda/lib/python3.9/site-packages/sklearn/preprocessing/_encoders.py:202: UserWarning: Found unknown categories in columns [2] during transform. These unknown categories will be encoded as all zeros\n",
      "  warnings.warn(\n"
     ]
    },
    {
     "data": {
      "text/plain": [
       "(28721, 348)"
      ]
     },
     "execution_count": 25,
     "metadata": {},
     "output_type": "execute_result"
    }
   ],
   "source": [
    "# трансформируем тестовую выборку\n",
    "features_test_ridge = pd.DataFrame.sparse.from_spmatrix(\n",
    "    col_transformer_ridge.transform(features_test_ridge),\n",
    "    columns=col_transformer_ridge.get_feature_names_out()\n",
    ")\n",
    "\n",
    "\n",
    "features_test_ridge.shape"
   ]
  },
  {
   "cell_type": "markdown",
   "metadata": {},
   "source": [
    "**Выводы**:\n",
    "- Были построены две модели машинного обучения: линейная регрессия и градиентный бустинг;\n",
    "- Значение метрики RMSE для **градиентного бустинга** получилось равным 2226.44, время обучения на валидационной выборке -  59.9 s и предсказания: 213 ms.\n",
    "- Значение метрики RMSE для **линейной регрессии** получилось равным 1808.25, время обучения на валидационной выборке -  43.3 s, предсказания: 138 ms.\n",
    "- Анализируя две модели, стоит сделать выбор в пользу **линейной регрессии**: она более качественная и быстробучаемая."
   ]
  },
  {
   "cell_type": "markdown",
   "metadata": {},
   "source": [
    "## 3. Анализ моделей"
   ]
  },
  {
   "cell_type": "code",
   "execution_count": 34,
   "metadata": {},
   "outputs": [
    {
     "name": "stdout",
     "output_type": "stream",
     "text": [
      "CPU times: user 30.2 ms, sys: 0 ns, total: 30.2 ms\n",
      "Wall time: 30.8 ms\n",
      "1779.4449937669915\n"
     ]
    }
   ],
   "source": [
    "# Проверим модель на тестовой выборке\n",
    "\n",
    "%time predicted_test = model.predict(features_test_ridge)\n",
    "rmse_test = math.sqrt(mean_squared_error(target_test, predicted_test))\n",
    "print(rmse_test)"
   ]
  },
  {
   "cell_type": "markdown",
   "metadata": {},
   "source": [
    "**Выводы**:\n",
    "- Значение метрики RMSE для **линейной регрессии** на тествой выборке получилось равным 1779.44, время предсказания на тестовой выборке -  43.3 s\\."
   ]
  }
 ],
 "metadata": {
  "ExecuteTimeLog": [
   {
    "duration": 62,
    "start_time": "2023-03-02T08:34:51.343Z"
   },
   {
    "duration": 5582,
    "start_time": "2023-03-02T08:34:53.114Z"
   },
   {
    "duration": 19,
    "start_time": "2023-03-02T08:34:58.699Z"
   },
   {
    "duration": 25,
    "start_time": "2023-03-02T08:35:31.487Z"
   },
   {
    "duration": 23,
    "start_time": "2023-03-02T08:35:53.660Z"
   },
   {
    "duration": 169,
    "start_time": "2023-03-02T08:36:06.167Z"
   },
   {
    "duration": 1833,
    "start_time": "2023-03-02T08:49:43.848Z"
   },
   {
    "duration": 20,
    "start_time": "2023-03-02T08:49:45.683Z"
   },
   {
    "duration": 198,
    "start_time": "2023-03-02T08:49:45.705Z"
   },
   {
    "duration": 114,
    "start_time": "2023-03-02T08:52:34.373Z"
   },
   {
    "duration": 143,
    "start_time": "2023-03-02T09:03:01.424Z"
   },
   {
    "duration": 5,
    "start_time": "2023-03-02T09:29:12.165Z"
   },
   {
    "duration": 928,
    "start_time": "2023-03-02T09:29:13.125Z"
   },
   {
    "duration": 18,
    "start_time": "2023-03-02T09:29:14.062Z"
   },
   {
    "duration": 175,
    "start_time": "2023-03-02T09:29:14.083Z"
   },
   {
    "duration": 100,
    "start_time": "2023-03-02T09:29:14.753Z"
   },
   {
    "duration": 44,
    "start_time": "2023-03-02T09:29:15.770Z"
   },
   {
    "duration": 1170,
    "start_time": "2023-03-02T09:29:53.758Z"
   },
   {
    "duration": 955,
    "start_time": "2023-03-02T09:29:54.932Z"
   },
   {
    "duration": 19,
    "start_time": "2023-03-02T09:29:55.889Z"
   },
   {
    "duration": 150,
    "start_time": "2023-03-02T09:29:55.910Z"
   },
   {
    "duration": 120,
    "start_time": "2023-03-02T09:29:56.062Z"
   },
   {
    "duration": 58,
    "start_time": "2023-03-02T09:29:56.184Z"
   },
   {
    "duration": 1133,
    "start_time": "2023-03-02T09:37:00.070Z"
   },
   {
    "duration": 1145,
    "start_time": "2023-03-02T09:37:47.368Z"
   },
   {
    "duration": 930,
    "start_time": "2023-03-02T09:37:48.515Z"
   },
   {
    "duration": 31,
    "start_time": "2023-03-02T09:37:49.449Z"
   },
   {
    "duration": 183,
    "start_time": "2023-03-02T09:37:49.483Z"
   },
   {
    "duration": 107,
    "start_time": "2023-03-02T09:37:49.668Z"
   },
   {
    "duration": 67,
    "start_time": "2023-03-02T09:37:49.777Z"
   },
   {
    "duration": 855,
    "start_time": "2023-03-02T09:37:49.850Z"
   },
   {
    "duration": 143,
    "start_time": "2023-03-02T09:40:21.927Z"
   },
   {
    "duration": 1220,
    "start_time": "2023-03-02T09:40:33.458Z"
   },
   {
    "duration": 880,
    "start_time": "2023-03-02T09:40:34.681Z"
   },
   {
    "duration": 28,
    "start_time": "2023-03-02T09:40:35.565Z"
   },
   {
    "duration": 149,
    "start_time": "2023-03-02T09:40:35.595Z"
   },
   {
    "duration": 116,
    "start_time": "2023-03-02T09:40:35.757Z"
   },
   {
    "duration": 146,
    "start_time": "2023-03-02T09:40:35.875Z"
   },
   {
    "duration": 795,
    "start_time": "2023-03-02T09:40:36.024Z"
   },
   {
    "duration": 1208,
    "start_time": "2023-03-02T09:42:55.843Z"
   },
   {
    "duration": 1046,
    "start_time": "2023-03-02T09:42:57.053Z"
   },
   {
    "duration": 38,
    "start_time": "2023-03-02T09:42:58.101Z"
   },
   {
    "duration": 135,
    "start_time": "2023-03-02T09:42:58.147Z"
   },
   {
    "duration": 179,
    "start_time": "2023-03-02T09:42:58.285Z"
   },
   {
    "duration": 158,
    "start_time": "2023-03-02T09:42:58.469Z"
   },
   {
    "duration": 888,
    "start_time": "2023-03-02T09:42:58.652Z"
   },
   {
    "duration": 1625,
    "start_time": "2023-03-02T09:45:37.069Z"
   },
   {
    "duration": 659,
    "start_time": "2023-03-02T09:45:55.466Z"
   },
   {
    "duration": 596,
    "start_time": "2023-03-02T09:46:35.878Z"
   },
   {
    "duration": 409,
    "start_time": "2023-03-02T09:47:44.269Z"
   },
   {
    "duration": 631,
    "start_time": "2023-03-02T09:49:52.756Z"
   },
   {
    "duration": 1166,
    "start_time": "2023-03-02T09:54:22.156Z"
   },
   {
    "duration": 947,
    "start_time": "2023-03-02T09:54:23.325Z"
   },
   {
    "duration": 5,
    "start_time": "2023-03-02T09:54:24.279Z"
   },
   {
    "duration": 295,
    "start_time": "2023-03-02T09:54:24.290Z"
   },
   {
    "duration": 137,
    "start_time": "2023-03-02T09:54:24.587Z"
   },
   {
    "duration": 777,
    "start_time": "2023-03-02T09:54:24.726Z"
   },
   {
    "duration": 489,
    "start_time": "2023-03-02T09:54:25.505Z"
   },
   {
    "duration": 398,
    "start_time": "2023-03-02T09:54:25.995Z"
   },
   {
    "duration": 461,
    "start_time": "2023-03-02T09:54:26.394Z"
   },
   {
    "duration": 3,
    "start_time": "2023-03-02T09:55:09.185Z"
   },
   {
    "duration": 485,
    "start_time": "2023-03-02T09:55:09.771Z"
   },
   {
    "duration": 179,
    "start_time": "2023-03-02T09:55:35.727Z"
   },
   {
    "duration": 1155,
    "start_time": "2023-03-02T09:55:46.275Z"
   },
   {
    "duration": 938,
    "start_time": "2023-03-02T09:55:47.431Z"
   },
   {
    "duration": 3,
    "start_time": "2023-03-02T09:55:48.375Z"
   },
   {
    "duration": 1149,
    "start_time": "2023-03-02T09:55:48.381Z"
   },
   {
    "duration": 132,
    "start_time": "2023-03-02T09:55:49.532Z"
   },
   {
    "duration": 774,
    "start_time": "2023-03-02T09:55:49.665Z"
   },
   {
    "duration": 538,
    "start_time": "2023-03-02T09:55:50.441Z"
   },
   {
    "duration": 384,
    "start_time": "2023-03-02T09:55:50.980Z"
   },
   {
    "duration": 444,
    "start_time": "2023-03-02T09:55:51.369Z"
   },
   {
    "duration": 64,
    "start_time": "2023-03-09T06:50:25.534Z"
   },
   {
    "duration": 3,
    "start_time": "2023-03-09T06:51:15.823Z"
   },
   {
    "duration": 7,
    "start_time": "2023-03-09T06:52:22.307Z"
   },
   {
    "duration": 1185,
    "start_time": "2023-03-09T06:52:29.033Z"
   },
   {
    "duration": 1332,
    "start_time": "2023-03-09T06:52:30.220Z"
   },
   {
    "duration": 4,
    "start_time": "2023-03-09T06:52:31.554Z"
   },
   {
    "duration": 1224,
    "start_time": "2023-03-09T06:52:31.560Z"
   },
   {
    "duration": 171,
    "start_time": "2023-03-09T06:52:32.786Z"
   },
   {
    "duration": 179,
    "start_time": "2023-03-09T06:52:32.959Z"
   },
   {
    "duration": 1018,
    "start_time": "2023-03-09T06:52:33.140Z"
   },
   {
    "duration": 582,
    "start_time": "2023-03-09T06:52:34.160Z"
   },
   {
    "duration": 346,
    "start_time": "2023-03-09T06:52:34.745Z"
   },
   {
    "duration": 432,
    "start_time": "2023-03-09T06:52:35.093Z"
   },
   {
    "duration": 68,
    "start_time": "2023-03-09T06:53:01.470Z"
   },
   {
    "duration": 11,
    "start_time": "2023-03-09T07:03:04.526Z"
   },
   {
    "duration": 115,
    "start_time": "2023-03-09T07:04:53.894Z"
   },
   {
    "duration": 59,
    "start_time": "2023-03-09T07:06:32.110Z"
   },
   {
    "duration": 63,
    "start_time": "2023-03-09T07:07:32.881Z"
   },
   {
    "duration": 44,
    "start_time": "2023-03-09T07:07:57.004Z"
   },
   {
    "duration": 142,
    "start_time": "2023-03-09T07:15:52.521Z"
   },
   {
    "duration": 209,
    "start_time": "2023-03-09T07:16:13.150Z"
   },
   {
    "duration": 77,
    "start_time": "2023-03-09T07:17:35.850Z"
   },
   {
    "duration": 129,
    "start_time": "2023-03-09T07:25:06.350Z"
   },
   {
    "duration": 36,
    "start_time": "2023-03-09T07:25:39.638Z"
   },
   {
    "duration": 31,
    "start_time": "2023-03-09T07:33:38.771Z"
   },
   {
    "duration": 32,
    "start_time": "2023-03-09T07:37:19.580Z"
   },
   {
    "duration": 29,
    "start_time": "2023-03-09T07:38:06.705Z"
   },
   {
    "duration": 38,
    "start_time": "2023-03-09T07:47:01.321Z"
   },
   {
    "duration": 13,
    "start_time": "2023-03-09T07:50:44.266Z"
   },
   {
    "duration": 520,
    "start_time": "2023-03-09T07:50:54.013Z"
   },
   {
    "duration": 1264,
    "start_time": "2023-03-09T07:52:00.046Z"
   },
   {
    "duration": 933,
    "start_time": "2023-03-09T07:52:01.313Z"
   },
   {
    "duration": 3,
    "start_time": "2023-03-09T07:52:02.250Z"
   },
   {
    "duration": 1290,
    "start_time": "2023-03-09T07:52:02.255Z"
   },
   {
    "duration": 133,
    "start_time": "2023-03-09T07:52:03.549Z"
   },
   {
    "duration": 86,
    "start_time": "2023-03-09T07:52:03.684Z"
   },
   {
    "duration": 45,
    "start_time": "2023-03-09T07:52:03.772Z"
   },
   {
    "duration": 65,
    "start_time": "2023-03-09T07:52:03.819Z"
   },
   {
    "duration": 21,
    "start_time": "2023-03-09T07:52:03.888Z"
   },
   {
    "duration": 45,
    "start_time": "2023-03-09T07:52:03.911Z"
   },
   {
    "duration": 630,
    "start_time": "2023-03-09T07:52:03.958Z"
   },
   {
    "duration": 617,
    "start_time": "2023-03-09T07:52:04.590Z"
   },
   {
    "duration": 0,
    "start_time": "2023-03-09T07:52:05.210Z"
   },
   {
    "duration": 1,
    "start_time": "2023-03-09T07:52:05.211Z"
   },
   {
    "duration": 0,
    "start_time": "2023-03-09T07:52:05.213Z"
   },
   {
    "duration": 1419,
    "start_time": "2023-03-09T08:00:24.895Z"
   },
   {
    "duration": 1124,
    "start_time": "2023-03-09T08:00:26.317Z"
   },
   {
    "duration": 4,
    "start_time": "2023-03-09T08:00:27.448Z"
   },
   {
    "duration": 1323,
    "start_time": "2023-03-09T08:00:27.454Z"
   },
   {
    "duration": 172,
    "start_time": "2023-03-09T08:00:28.778Z"
   },
   {
    "duration": 71,
    "start_time": "2023-03-09T08:00:28.956Z"
   },
   {
    "duration": 118,
    "start_time": "2023-03-09T08:00:29.031Z"
   },
   {
    "duration": 1,
    "start_time": "2023-03-09T08:00:29.151Z"
   },
   {
    "duration": 0,
    "start_time": "2023-03-09T08:00:29.153Z"
   },
   {
    "duration": 0,
    "start_time": "2023-03-09T08:00:29.156Z"
   },
   {
    "duration": 0,
    "start_time": "2023-03-09T08:00:29.157Z"
   },
   {
    "duration": 0,
    "start_time": "2023-03-09T08:00:29.159Z"
   },
   {
    "duration": 0,
    "start_time": "2023-03-09T08:00:29.160Z"
   },
   {
    "duration": 0,
    "start_time": "2023-03-09T08:00:29.162Z"
   },
   {
    "duration": 1285,
    "start_time": "2023-03-09T08:02:08.320Z"
   },
   {
    "duration": 1103,
    "start_time": "2023-03-09T08:02:09.608Z"
   },
   {
    "duration": 4,
    "start_time": "2023-03-09T08:02:10.714Z"
   },
   {
    "duration": 1605,
    "start_time": "2023-03-09T08:02:10.720Z"
   },
   {
    "duration": 158,
    "start_time": "2023-03-09T08:02:12.331Z"
   },
   {
    "duration": 101,
    "start_time": "2023-03-09T08:02:12.492Z"
   },
   {
    "duration": 40,
    "start_time": "2023-03-09T08:02:12.595Z"
   },
   {
    "duration": 37,
    "start_time": "2023-03-09T08:02:12.637Z"
   },
   {
    "duration": 31,
    "start_time": "2023-03-09T08:02:12.676Z"
   },
   {
    "duration": 562,
    "start_time": "2023-03-09T08:02:12.708Z"
   },
   {
    "duration": 646,
    "start_time": "2023-03-09T08:02:13.272Z"
   },
   {
    "duration": 0,
    "start_time": "2023-03-09T08:02:13.920Z"
   },
   {
    "duration": 0,
    "start_time": "2023-03-09T08:02:13.921Z"
   },
   {
    "duration": 1315,
    "start_time": "2023-03-09T08:03:07.520Z"
   },
   {
    "duration": 1040,
    "start_time": "2023-03-09T08:03:08.846Z"
   },
   {
    "duration": 3,
    "start_time": "2023-03-09T08:03:09.888Z"
   },
   {
    "duration": 1398,
    "start_time": "2023-03-09T08:03:09.893Z"
   },
   {
    "duration": 157,
    "start_time": "2023-03-09T08:03:11.293Z"
   },
   {
    "duration": 88,
    "start_time": "2023-03-09T08:03:11.454Z"
   },
   {
    "duration": 65,
    "start_time": "2023-03-09T08:03:11.552Z"
   },
   {
    "duration": 21,
    "start_time": "2023-03-09T08:03:11.618Z"
   },
   {
    "duration": 81,
    "start_time": "2023-03-09T08:03:11.643Z"
   },
   {
    "duration": 602,
    "start_time": "2023-03-09T08:03:11.726Z"
   },
   {
    "duration": 678,
    "start_time": "2023-03-09T08:03:12.331Z"
   },
   {
    "duration": 0,
    "start_time": "2023-03-09T08:03:13.011Z"
   },
   {
    "duration": 1258,
    "start_time": "2023-03-09T08:04:08.106Z"
   },
   {
    "duration": 1150,
    "start_time": "2023-03-09T08:04:09.366Z"
   },
   {
    "duration": 4,
    "start_time": "2023-03-09T08:04:10.518Z"
   },
   {
    "duration": 1569,
    "start_time": "2023-03-09T08:04:10.533Z"
   },
   {
    "duration": 166,
    "start_time": "2023-03-09T08:04:12.104Z"
   },
   {
    "duration": 98,
    "start_time": "2023-03-09T08:04:12.272Z"
   },
   {
    "duration": 31,
    "start_time": "2023-03-09T08:04:12.376Z"
   },
   {
    "duration": 18,
    "start_time": "2023-03-09T08:04:12.409Z"
   },
   {
    "duration": 60,
    "start_time": "2023-03-09T08:04:12.428Z"
   },
   {
    "duration": 598,
    "start_time": "2023-03-09T08:04:12.491Z"
   },
   {
    "duration": 1293,
    "start_time": "2023-03-09T08:05:20.498Z"
   },
   {
    "duration": 1002,
    "start_time": "2023-03-09T08:05:21.793Z"
   },
   {
    "duration": 4,
    "start_time": "2023-03-09T08:05:22.797Z"
   },
   {
    "duration": 1477,
    "start_time": "2023-03-09T08:05:22.802Z"
   },
   {
    "duration": 168,
    "start_time": "2023-03-09T08:05:24.282Z"
   },
   {
    "duration": 99,
    "start_time": "2023-03-09T08:05:24.460Z"
   },
   {
    "duration": 626,
    "start_time": "2023-03-09T08:05:24.561Z"
   },
   {
    "duration": 3,
    "start_time": "2023-03-09T08:06:23.878Z"
   },
   {
    "duration": 174,
    "start_time": "2023-03-09T08:06:50.297Z"
   },
   {
    "duration": 284,
    "start_time": "2023-03-09T08:07:43.138Z"
   },
   {
    "duration": 1279,
    "start_time": "2023-03-09T08:07:51.112Z"
   },
   {
    "duration": 1073,
    "start_time": "2023-03-09T08:07:52.393Z"
   },
   {
    "duration": 11,
    "start_time": "2023-03-09T08:07:53.473Z"
   },
   {
    "duration": 1524,
    "start_time": "2023-03-09T08:07:53.488Z"
   },
   {
    "duration": 173,
    "start_time": "2023-03-09T08:07:55.014Z"
   },
   {
    "duration": 90,
    "start_time": "2023-03-09T08:07:55.189Z"
   },
   {
    "duration": 3074,
    "start_time": "2023-03-09T08:07:55.282Z"
   },
   {
    "duration": 0,
    "start_time": "2023-03-09T08:07:58.362Z"
   },
   {
    "duration": 0,
    "start_time": "2023-03-09T08:07:58.367Z"
   },
   {
    "duration": 168,
    "start_time": "2023-03-09T08:08:37.606Z"
   },
   {
    "duration": 5,
    "start_time": "2023-03-09T08:08:42.362Z"
   },
   {
    "duration": 25,
    "start_time": "2023-03-09T08:08:43.753Z"
   },
   {
    "duration": 1664,
    "start_time": "2023-03-09T08:09:41.462Z"
   },
   {
    "duration": 32,
    "start_time": "2023-03-09T08:09:58.670Z"
   },
   {
    "duration": 11,
    "start_time": "2023-03-09T08:12:24.575Z"
   },
   {
    "duration": 4,
    "start_time": "2023-03-09T08:14:03.299Z"
   },
   {
    "duration": 4,
    "start_time": "2023-03-09T08:14:33.077Z"
   },
   {
    "duration": 4,
    "start_time": "2023-03-09T08:14:42.218Z"
   },
   {
    "duration": 1414,
    "start_time": "2023-03-09T08:14:50.677Z"
   },
   {
    "duration": 1007,
    "start_time": "2023-03-09T08:14:52.094Z"
   },
   {
    "duration": 3,
    "start_time": "2023-03-09T08:14:53.105Z"
   },
   {
    "duration": 1441,
    "start_time": "2023-03-09T08:14:53.110Z"
   },
   {
    "duration": 3,
    "start_time": "2023-03-09T08:14:54.553Z"
   },
   {
    "duration": 33,
    "start_time": "2023-03-09T08:14:54.566Z"
   },
   {
    "duration": 169,
    "start_time": "2023-03-09T08:14:54.601Z"
   },
   {
    "duration": 81,
    "start_time": "2023-03-09T08:14:54.776Z"
   },
   {
    "duration": 198,
    "start_time": "2023-03-09T08:14:54.859Z"
   },
   {
    "duration": 12,
    "start_time": "2023-03-09T08:14:55.060Z"
   },
   {
    "duration": 30,
    "start_time": "2023-03-09T08:14:55.074Z"
   },
   {
    "duration": 50,
    "start_time": "2023-03-09T08:14:55.106Z"
   },
   {
    "duration": 5,
    "start_time": "2023-03-09T08:16:23.711Z"
   },
   {
    "duration": 133,
    "start_time": "2023-03-09T08:17:24.055Z"
   },
   {
    "duration": 8,
    "start_time": "2023-03-09T08:17:38.759Z"
   },
   {
    "duration": 4,
    "start_time": "2023-03-09T08:18:06.384Z"
   },
   {
    "duration": 5,
    "start_time": "2023-03-09T08:18:14.179Z"
   },
   {
    "duration": 1396,
    "start_time": "2023-03-09T08:19:26.902Z"
   },
   {
    "duration": 1071,
    "start_time": "2023-03-09T08:19:28.300Z"
   },
   {
    "duration": 5,
    "start_time": "2023-03-09T08:19:29.376Z"
   },
   {
    "duration": 1470,
    "start_time": "2023-03-09T08:19:29.384Z"
   },
   {
    "duration": 12,
    "start_time": "2023-03-09T08:19:30.862Z"
   },
   {
    "duration": 216,
    "start_time": "2023-03-09T08:19:30.876Z"
   },
   {
    "duration": 276,
    "start_time": "2023-03-09T08:19:31.094Z"
   },
   {
    "duration": 0,
    "start_time": "2023-03-09T08:19:31.376Z"
   },
   {
    "duration": 0,
    "start_time": "2023-03-09T08:19:31.378Z"
   },
   {
    "duration": 0,
    "start_time": "2023-03-09T08:19:31.380Z"
   },
   {
    "duration": 0,
    "start_time": "2023-03-09T08:19:31.381Z"
   },
   {
    "duration": 0,
    "start_time": "2023-03-09T08:19:31.382Z"
   },
   {
    "duration": 146,
    "start_time": "2023-03-09T08:20:34.716Z"
   },
   {
    "duration": 1347,
    "start_time": "2023-03-09T08:21:08.460Z"
   },
   {
    "duration": 1165,
    "start_time": "2023-03-09T08:21:09.810Z"
   },
   {
    "duration": 3,
    "start_time": "2023-03-09T08:21:10.981Z"
   },
   {
    "duration": 1339,
    "start_time": "2023-03-09T08:21:10.986Z"
   },
   {
    "duration": 9,
    "start_time": "2023-03-09T08:21:12.332Z"
   },
   {
    "duration": 29,
    "start_time": "2023-03-09T08:21:12.351Z"
   },
   {
    "duration": 147,
    "start_time": "2023-03-09T08:21:12.382Z"
   },
   {
    "duration": 106,
    "start_time": "2023-03-09T08:21:12.531Z"
   },
   {
    "duration": 202,
    "start_time": "2023-03-09T08:21:12.644Z"
   },
   {
    "duration": 4,
    "start_time": "2023-03-09T08:21:12.848Z"
   },
   {
    "duration": 42,
    "start_time": "2023-03-09T08:21:12.860Z"
   },
   {
    "duration": 23,
    "start_time": "2023-03-09T08:22:16.482Z"
   },
   {
    "duration": 200,
    "start_time": "2023-03-09T08:22:43.081Z"
   },
   {
    "duration": 5,
    "start_time": "2023-03-09T08:22:49.279Z"
   },
   {
    "duration": 49,
    "start_time": "2023-03-09T08:22:50.126Z"
   },
   {
    "duration": 1544,
    "start_time": "2023-03-09T08:23:28.871Z"
   },
   {
    "duration": 1807,
    "start_time": "2023-03-09T08:23:30.418Z"
   },
   {
    "duration": 27,
    "start_time": "2023-03-09T08:23:32.227Z"
   },
   {
    "duration": 2246,
    "start_time": "2023-03-09T08:23:32.269Z"
   },
   {
    "duration": 6,
    "start_time": "2023-03-09T08:23:34.521Z"
   },
   {
    "duration": 53,
    "start_time": "2023-03-09T08:23:34.531Z"
   },
   {
    "duration": 288,
    "start_time": "2023-03-09T08:23:34.587Z"
   },
   {
    "duration": 116,
    "start_time": "2023-03-09T08:23:34.877Z"
   },
   {
    "duration": 368,
    "start_time": "2023-03-09T08:23:34.995Z"
   },
   {
    "duration": 218,
    "start_time": "2023-03-09T08:48:36.187Z"
   },
   {
    "duration": 193,
    "start_time": "2023-03-09T08:48:47.097Z"
   },
   {
    "duration": 211,
    "start_time": "2023-03-09T08:49:40.173Z"
   },
   {
    "duration": 4,
    "start_time": "2023-03-09T08:49:50.383Z"
   },
   {
    "duration": 128,
    "start_time": "2023-03-09T09:05:29.085Z"
   },
   {
    "duration": 1362,
    "start_time": "2023-03-09T09:05:37.163Z"
   },
   {
    "duration": 1163,
    "start_time": "2023-03-09T09:05:38.527Z"
   },
   {
    "duration": 8,
    "start_time": "2023-03-09T09:05:39.692Z"
   },
   {
    "duration": 1499,
    "start_time": "2023-03-09T09:05:39.703Z"
   },
   {
    "duration": 4,
    "start_time": "2023-03-09T09:05:41.204Z"
   },
   {
    "duration": 32,
    "start_time": "2023-03-09T09:05:41.209Z"
   },
   {
    "duration": 217,
    "start_time": "2023-03-09T09:05:41.243Z"
   },
   {
    "duration": 93,
    "start_time": "2023-03-09T09:05:41.462Z"
   },
   {
    "duration": 181,
    "start_time": "2023-03-09T09:05:41.558Z"
   },
   {
    "duration": 242,
    "start_time": "2023-03-09T09:05:41.750Z"
   },
   {
    "duration": 4,
    "start_time": "2023-03-09T09:05:41.994Z"
   },
   {
    "duration": 236,
    "start_time": "2023-03-09T09:05:41.999Z"
   },
   {
    "duration": 5,
    "start_time": "2023-03-09T09:06:22.383Z"
   },
   {
    "duration": 186,
    "start_time": "2023-03-09T09:08:22.016Z"
   },
   {
    "duration": 173,
    "start_time": "2023-03-09T09:08:41.508Z"
   },
   {
    "duration": 14,
    "start_time": "2023-03-09T09:08:47.763Z"
   },
   {
    "duration": 141,
    "start_time": "2023-03-09T09:09:34.464Z"
   },
   {
    "duration": 26,
    "start_time": "2023-03-09T09:09:43.670Z"
   },
   {
    "duration": 13,
    "start_time": "2023-03-09T09:09:49.504Z"
   },
   {
    "duration": 15,
    "start_time": "2023-03-09T09:10:34.089Z"
   },
   {
    "duration": 1294,
    "start_time": "2023-03-09T09:10:41.463Z"
   },
   {
    "duration": 1026,
    "start_time": "2023-03-09T09:10:42.760Z"
   },
   {
    "duration": 4,
    "start_time": "2023-03-09T09:10:43.788Z"
   },
   {
    "duration": 1471,
    "start_time": "2023-03-09T09:10:43.793Z"
   },
   {
    "duration": 19,
    "start_time": "2023-03-09T09:10:45.272Z"
   },
   {
    "duration": 26,
    "start_time": "2023-03-09T09:10:45.298Z"
   },
   {
    "duration": 218,
    "start_time": "2023-03-09T09:10:45.326Z"
   },
   {
    "duration": 109,
    "start_time": "2023-03-09T09:10:45.547Z"
   },
   {
    "duration": 188,
    "start_time": "2023-03-09T09:10:45.663Z"
   },
   {
    "duration": 241,
    "start_time": "2023-03-09T09:10:45.861Z"
   },
   {
    "duration": 4,
    "start_time": "2023-03-09T09:10:46.105Z"
   },
   {
    "duration": 241,
    "start_time": "2023-03-09T09:10:46.111Z"
   },
   {
    "duration": 188,
    "start_time": "2023-03-09T09:16:23.527Z"
   },
   {
    "duration": 1338,
    "start_time": "2023-03-09T09:16:29.836Z"
   },
   {
    "duration": 1184,
    "start_time": "2023-03-09T09:16:31.176Z"
   },
   {
    "duration": 3,
    "start_time": "2023-03-09T09:16:32.362Z"
   },
   {
    "duration": 1424,
    "start_time": "2023-03-09T09:16:32.367Z"
   },
   {
    "duration": 3,
    "start_time": "2023-03-09T09:16:33.793Z"
   },
   {
    "duration": 83,
    "start_time": "2023-03-09T09:16:33.798Z"
   },
   {
    "duration": 193,
    "start_time": "2023-03-09T09:16:33.885Z"
   },
   {
    "duration": 90,
    "start_time": "2023-03-09T09:16:34.081Z"
   },
   {
    "duration": 272,
    "start_time": "2023-03-09T09:16:34.173Z"
   },
   {
    "duration": 249,
    "start_time": "2023-03-09T09:16:34.447Z"
   },
   {
    "duration": 303,
    "start_time": "2023-03-09T09:16:34.702Z"
   },
   {
    "duration": 6,
    "start_time": "2023-03-09T09:16:35.009Z"
   },
   {
    "duration": 272,
    "start_time": "2023-03-09T09:16:35.017Z"
   },
   {
    "duration": 10,
    "start_time": "2023-03-09T09:23:25.062Z"
   },
   {
    "duration": 1411,
    "start_time": "2023-03-09T09:23:35.730Z"
   },
   {
    "duration": 1152,
    "start_time": "2023-03-09T09:23:37.143Z"
   },
   {
    "duration": 3,
    "start_time": "2023-03-09T09:23:38.298Z"
   },
   {
    "duration": 1462,
    "start_time": "2023-03-09T09:23:38.303Z"
   },
   {
    "duration": 8,
    "start_time": "2023-03-09T09:23:39.767Z"
   },
   {
    "duration": 33,
    "start_time": "2023-03-09T09:23:39.777Z"
   },
   {
    "duration": 181,
    "start_time": "2023-03-09T09:23:39.812Z"
   },
   {
    "duration": 102,
    "start_time": "2023-03-09T09:23:39.995Z"
   },
   {
    "duration": 199,
    "start_time": "2023-03-09T09:23:40.099Z"
   },
   {
    "duration": 222,
    "start_time": "2023-03-09T09:23:40.301Z"
   },
   {
    "duration": 246,
    "start_time": "2023-03-09T09:23:40.525Z"
   },
   {
    "duration": 5,
    "start_time": "2023-03-09T09:23:40.773Z"
   },
   {
    "duration": 233,
    "start_time": "2023-03-09T09:23:40.781Z"
   },
   {
    "duration": 39,
    "start_time": "2023-03-09T09:23:41.016Z"
   },
   {
    "duration": 148,
    "start_time": "2023-03-09T09:23:41.057Z"
   },
   {
    "duration": 1525,
    "start_time": "2023-03-09T09:27:07.761Z"
   },
   {
    "duration": 1125,
    "start_time": "2023-03-09T09:27:09.296Z"
   },
   {
    "duration": 4,
    "start_time": "2023-03-09T09:27:10.423Z"
   },
   {
    "duration": 1587,
    "start_time": "2023-03-09T09:27:10.428Z"
   },
   {
    "duration": 5,
    "start_time": "2023-03-09T09:27:12.018Z"
   },
   {
    "duration": 195,
    "start_time": "2023-03-09T09:27:12.048Z"
   },
   {
    "duration": 129,
    "start_time": "2023-03-09T09:27:12.246Z"
   },
   {
    "duration": 229,
    "start_time": "2023-03-09T09:27:12.387Z"
   },
   {
    "duration": 259,
    "start_time": "2023-03-09T09:27:12.619Z"
   },
   {
    "duration": 245,
    "start_time": "2023-03-09T09:27:12.888Z"
   },
   {
    "duration": 14,
    "start_time": "2023-03-09T09:27:13.141Z"
   },
   {
    "duration": 297,
    "start_time": "2023-03-09T09:27:13.162Z"
   },
   {
    "duration": 23,
    "start_time": "2023-03-09T09:27:13.465Z"
   },
   {
    "duration": 165,
    "start_time": "2023-03-09T09:27:13.491Z"
   },
   {
    "duration": 213,
    "start_time": "2023-03-09T09:29:49.406Z"
   },
   {
    "duration": 1439,
    "start_time": "2023-03-09T09:30:37.166Z"
   },
   {
    "duration": 1191,
    "start_time": "2023-03-09T09:30:38.608Z"
   },
   {
    "duration": 4,
    "start_time": "2023-03-09T09:30:39.801Z"
   },
   {
    "duration": 1609,
    "start_time": "2023-03-09T09:30:39.807Z"
   },
   {
    "duration": 4,
    "start_time": "2023-03-09T09:30:41.419Z"
   },
   {
    "duration": 265,
    "start_time": "2023-03-09T09:30:41.426Z"
   },
   {
    "duration": 104,
    "start_time": "2023-03-09T09:30:41.694Z"
   },
   {
    "duration": 226,
    "start_time": "2023-03-09T09:30:41.801Z"
   },
   {
    "duration": 246,
    "start_time": "2023-03-09T09:30:42.033Z"
   },
   {
    "duration": 242,
    "start_time": "2023-03-09T09:30:42.281Z"
   },
   {
    "duration": 4,
    "start_time": "2023-03-09T09:30:42.525Z"
   },
   {
    "duration": 276,
    "start_time": "2023-03-09T09:30:42.535Z"
   },
   {
    "duration": 22,
    "start_time": "2023-03-09T09:30:42.813Z"
   },
   {
    "duration": 196,
    "start_time": "2023-03-09T09:30:42.845Z"
   },
   {
    "duration": 162,
    "start_time": "2023-03-09T09:33:30.282Z"
   },
   {
    "duration": 1382,
    "start_time": "2023-03-09T09:34:28.508Z"
   },
   {
    "duration": 1156,
    "start_time": "2023-03-09T09:34:29.893Z"
   },
   {
    "duration": 16,
    "start_time": "2023-03-09T09:34:31.054Z"
   },
   {
    "duration": 1615,
    "start_time": "2023-03-09T09:34:31.073Z"
   },
   {
    "duration": 10,
    "start_time": "2023-03-09T09:34:32.694Z"
   },
   {
    "duration": 200,
    "start_time": "2023-03-09T09:34:32.707Z"
   },
   {
    "duration": 114,
    "start_time": "2023-03-09T09:34:32.909Z"
   },
   {
    "duration": 287,
    "start_time": "2023-03-09T09:34:33.025Z"
   },
   {
    "duration": 242,
    "start_time": "2023-03-09T09:34:33.313Z"
   },
   {
    "duration": 245,
    "start_time": "2023-03-09T09:34:33.569Z"
   },
   {
    "duration": 5,
    "start_time": "2023-03-09T09:34:33.816Z"
   },
   {
    "duration": 266,
    "start_time": "2023-03-09T09:34:33.823Z"
   },
   {
    "duration": 20,
    "start_time": "2023-03-09T09:34:34.098Z"
   },
   {
    "duration": 252,
    "start_time": "2023-03-09T09:34:34.121Z"
   },
   {
    "duration": 4,
    "start_time": "2023-03-09T09:34:34.377Z"
   },
   {
    "duration": 228,
    "start_time": "2023-03-09T09:37:31.259Z"
   },
   {
    "duration": 1050,
    "start_time": "2023-03-10T09:54:57.364Z"
   },
   {
    "duration": 2930,
    "start_time": "2023-03-10T09:54:58.416Z"
   },
   {
    "duration": 4,
    "start_time": "2023-03-10T09:55:01.347Z"
   },
   {
    "duration": 1016,
    "start_time": "2023-03-10T09:55:01.353Z"
   },
   {
    "duration": 6,
    "start_time": "2023-03-10T09:55:02.372Z"
   },
   {
    "duration": 165,
    "start_time": "2023-03-10T09:55:02.380Z"
   },
   {
    "duration": 79,
    "start_time": "2023-03-10T09:55:02.547Z"
   },
   {
    "duration": 150,
    "start_time": "2023-03-10T09:55:02.628Z"
   },
   {
    "duration": 170,
    "start_time": "2023-03-10T09:55:02.780Z"
   },
   {
    "duration": 168,
    "start_time": "2023-03-10T09:55:02.951Z"
   },
   {
    "duration": 4,
    "start_time": "2023-03-10T09:55:03.121Z"
   },
   {
    "duration": 164,
    "start_time": "2023-03-10T09:55:03.126Z"
   },
   {
    "duration": 14,
    "start_time": "2023-03-10T09:55:03.292Z"
   },
   {
    "duration": 122,
    "start_time": "2023-03-10T09:55:03.320Z"
   },
   {
    "duration": 50,
    "start_time": "2023-03-10T09:55:03.444Z"
   },
   {
    "duration": 1028,
    "start_time": "2023-03-10T09:58:11.378Z"
   },
   {
    "duration": 733,
    "start_time": "2023-03-10T09:58:12.408Z"
   },
   {
    "duration": 3,
    "start_time": "2023-03-10T09:58:13.142Z"
   },
   {
    "duration": 910,
    "start_time": "2023-03-10T09:58:13.147Z"
   },
   {
    "duration": 4,
    "start_time": "2023-03-10T09:58:14.059Z"
   },
   {
    "duration": 118,
    "start_time": "2023-03-10T09:58:14.065Z"
   },
   {
    "duration": 69,
    "start_time": "2023-03-10T09:58:14.184Z"
   },
   {
    "duration": 144,
    "start_time": "2023-03-10T09:58:14.255Z"
   },
   {
    "duration": 163,
    "start_time": "2023-03-10T09:58:14.401Z"
   },
   {
    "duration": 165,
    "start_time": "2023-03-10T09:58:14.566Z"
   },
   {
    "duration": 3,
    "start_time": "2023-03-10T09:58:14.733Z"
   },
   {
    "duration": 160,
    "start_time": "2023-03-10T09:58:14.738Z"
   },
   {
    "duration": 26,
    "start_time": "2023-03-10T09:58:14.899Z"
   },
   {
    "duration": 107,
    "start_time": "2023-03-10T09:58:14.928Z"
   },
   {
    "duration": 47,
    "start_time": "2023-03-10T09:58:15.037Z"
   },
   {
    "duration": 396,
    "start_time": "2023-03-10T10:09:39.972Z"
   },
   {
    "duration": 1122,
    "start_time": "2023-03-10T10:09:49.087Z"
   },
   {
    "duration": 850,
    "start_time": "2023-03-10T10:09:50.211Z"
   },
   {
    "duration": 2,
    "start_time": "2023-03-10T10:09:51.063Z"
   },
   {
    "duration": 987,
    "start_time": "2023-03-10T10:09:51.067Z"
   },
   {
    "duration": 5,
    "start_time": "2023-03-10T10:09:52.056Z"
   },
   {
    "duration": 122,
    "start_time": "2023-03-10T10:09:52.062Z"
   },
   {
    "duration": 396,
    "start_time": "2023-03-10T10:09:52.186Z"
   },
   {
    "duration": 95,
    "start_time": "2023-03-10T10:09:52.584Z"
   },
   {
    "duration": 165,
    "start_time": "2023-03-10T10:09:52.681Z"
   },
   {
    "duration": 202,
    "start_time": "2023-03-10T10:09:52.847Z"
   },
   {
    "duration": 262,
    "start_time": "2023-03-10T10:09:53.051Z"
   },
   {
    "duration": 4,
    "start_time": "2023-03-10T10:09:53.315Z"
   },
   {
    "duration": 461,
    "start_time": "2023-03-10T10:09:53.321Z"
   },
   {
    "duration": 0,
    "start_time": "2023-03-10T10:09:53.783Z"
   },
   {
    "duration": 0,
    "start_time": "2023-03-10T10:09:53.784Z"
   },
   {
    "duration": 0,
    "start_time": "2023-03-10T10:09:53.785Z"
   },
   {
    "duration": 1101,
    "start_time": "2023-03-10T10:11:48.518Z"
   },
   {
    "duration": 796,
    "start_time": "2023-03-10T10:11:49.621Z"
   },
   {
    "duration": 3,
    "start_time": "2023-03-10T10:11:50.420Z"
   },
   {
    "duration": 947,
    "start_time": "2023-03-10T10:11:50.425Z"
   },
   {
    "duration": 4,
    "start_time": "2023-03-10T10:11:51.374Z"
   },
   {
    "duration": 121,
    "start_time": "2023-03-10T10:11:51.380Z"
   },
   {
    "duration": 69,
    "start_time": "2023-03-10T10:11:51.503Z"
   },
   {
    "duration": 149,
    "start_time": "2023-03-10T10:11:51.573Z"
   },
   {
    "duration": 169,
    "start_time": "2023-03-10T10:11:51.724Z"
   },
   {
    "duration": 164,
    "start_time": "2023-03-10T10:11:51.894Z"
   },
   {
    "duration": 3,
    "start_time": "2023-03-10T10:11:52.060Z"
   },
   {
    "duration": 166,
    "start_time": "2023-03-10T10:11:52.065Z"
   },
   {
    "duration": 14,
    "start_time": "2023-03-10T10:11:52.232Z"
   },
   {
    "duration": 367,
    "start_time": "2023-03-10T10:11:52.249Z"
   },
   {
    "duration": 117,
    "start_time": "2023-03-10T10:11:52.618Z"
   },
   {
    "duration": 108,
    "start_time": "2023-03-10T10:11:52.736Z"
   },
   {
    "duration": 86,
    "start_time": "2023-03-10T10:12:27.029Z"
   },
   {
    "duration": 1113,
    "start_time": "2023-03-10T10:12:50.021Z"
   },
   {
    "duration": 809,
    "start_time": "2023-03-10T10:12:51.136Z"
   },
   {
    "duration": 3,
    "start_time": "2023-03-10T10:12:51.946Z"
   },
   {
    "duration": 999,
    "start_time": "2023-03-10T10:12:51.951Z"
   },
   {
    "duration": 4,
    "start_time": "2023-03-10T10:12:52.952Z"
   },
   {
    "duration": 130,
    "start_time": "2023-03-10T10:12:52.958Z"
   },
   {
    "duration": 77,
    "start_time": "2023-03-10T10:12:53.089Z"
   },
   {
    "duration": 143,
    "start_time": "2023-03-10T10:12:53.167Z"
   },
   {
    "duration": 182,
    "start_time": "2023-03-10T10:12:53.312Z"
   },
   {
    "duration": 182,
    "start_time": "2023-03-10T10:12:53.496Z"
   },
   {
    "duration": 3,
    "start_time": "2023-03-10T10:12:53.680Z"
   },
   {
    "duration": 173,
    "start_time": "2023-03-10T10:12:53.685Z"
   },
   {
    "duration": 16,
    "start_time": "2023-03-10T10:12:53.859Z"
   },
   {
    "duration": 346,
    "start_time": "2023-03-10T10:12:53.878Z"
   },
   {
    "duration": 111,
    "start_time": "2023-03-10T10:12:54.226Z"
   },
   {
    "duration": 110,
    "start_time": "2023-03-10T10:12:54.339Z"
   },
   {
    "duration": 6107,
    "start_time": "2023-03-10T10:16:26.997Z"
   },
   {
    "duration": 974,
    "start_time": "2023-03-10T10:16:33.107Z"
   },
   {
    "duration": 858,
    "start_time": "2023-03-10T10:16:34.083Z"
   },
   {
    "duration": 3,
    "start_time": "2023-03-10T10:16:34.943Z"
   },
   {
    "duration": 1077,
    "start_time": "2023-03-10T10:16:34.948Z"
   },
   {
    "duration": 5,
    "start_time": "2023-03-10T10:16:36.027Z"
   },
   {
    "duration": 131,
    "start_time": "2023-03-10T10:16:36.034Z"
   },
   {
    "duration": 70,
    "start_time": "2023-03-10T10:16:36.167Z"
   },
   {
    "duration": 151,
    "start_time": "2023-03-10T10:16:36.239Z"
   },
   {
    "duration": 176,
    "start_time": "2023-03-10T10:16:36.392Z"
   },
   {
    "duration": 186,
    "start_time": "2023-03-10T10:16:36.570Z"
   },
   {
    "duration": 4,
    "start_time": "2023-03-10T10:16:36.758Z"
   },
   {
    "duration": 175,
    "start_time": "2023-03-10T10:16:36.763Z"
   },
   {
    "duration": 16,
    "start_time": "2023-03-10T10:16:36.940Z"
   },
   {
    "duration": 403,
    "start_time": "2023-03-10T10:16:36.958Z"
   },
   {
    "duration": 117,
    "start_time": "2023-03-10T10:16:37.363Z"
   },
   {
    "duration": 2311,
    "start_time": "2023-03-10T10:17:16.991Z"
   },
   {
    "duration": 1827,
    "start_time": "2023-03-10T10:17:19.304Z"
   },
   {
    "duration": 2950,
    "start_time": "2023-03-10T10:17:21.133Z"
   },
   {
    "duration": 3,
    "start_time": "2023-03-10T10:17:24.085Z"
   },
   {
    "duration": 1011,
    "start_time": "2023-03-10T10:17:24.090Z"
   },
   {
    "duration": 4,
    "start_time": "2023-03-10T10:17:25.103Z"
   },
   {
    "duration": 128,
    "start_time": "2023-03-10T10:17:25.109Z"
   },
   {
    "duration": 65,
    "start_time": "2023-03-10T10:17:25.239Z"
   },
   {
    "duration": 150,
    "start_time": "2023-03-10T10:17:25.306Z"
   },
   {
    "duration": 173,
    "start_time": "2023-03-10T10:17:25.457Z"
   },
   {
    "duration": 168,
    "start_time": "2023-03-10T10:17:25.632Z"
   },
   {
    "duration": 3,
    "start_time": "2023-03-10T10:17:25.802Z"
   },
   {
    "duration": 177,
    "start_time": "2023-03-10T10:17:25.807Z"
   },
   {
    "duration": 15,
    "start_time": "2023-03-10T10:17:25.986Z"
   },
   {
    "duration": 352,
    "start_time": "2023-03-10T10:17:26.003Z"
   },
   {
    "duration": 112,
    "start_time": "2023-03-10T10:17:26.356Z"
   },
   {
    "duration": 1625,
    "start_time": "2023-03-10T10:18:18.993Z"
   },
   {
    "duration": 2913,
    "start_time": "2023-03-10T10:18:20.620Z"
   },
   {
    "duration": 3,
    "start_time": "2023-03-10T10:18:23.534Z"
   },
   {
    "duration": 1040,
    "start_time": "2023-03-10T10:18:23.539Z"
   },
   {
    "duration": 5,
    "start_time": "2023-03-10T10:18:24.581Z"
   },
   {
    "duration": 122,
    "start_time": "2023-03-10T10:18:24.588Z"
   },
   {
    "duration": 77,
    "start_time": "2023-03-10T10:18:24.711Z"
   },
   {
    "duration": 148,
    "start_time": "2023-03-10T10:18:24.789Z"
   },
   {
    "duration": 163,
    "start_time": "2023-03-10T10:18:24.939Z"
   },
   {
    "duration": 170,
    "start_time": "2023-03-10T10:18:25.104Z"
   },
   {
    "duration": 3,
    "start_time": "2023-03-10T10:18:25.276Z"
   },
   {
    "duration": 170,
    "start_time": "2023-03-10T10:18:25.281Z"
   },
   {
    "duration": 16,
    "start_time": "2023-03-10T10:18:25.453Z"
   },
   {
    "duration": 340,
    "start_time": "2023-03-10T10:18:25.471Z"
   },
   {
    "duration": 117,
    "start_time": "2023-03-10T10:18:25.813Z"
   },
   {
    "duration": 48,
    "start_time": "2023-03-10T10:18:38.098Z"
   },
   {
    "duration": 7,
    "start_time": "2023-03-10T10:18:46.397Z"
   },
   {
    "duration": 1565,
    "start_time": "2023-03-10T10:18:54.841Z"
   },
   {
    "duration": 2901,
    "start_time": "2023-03-10T10:18:57.174Z"
   },
   {
    "duration": 3,
    "start_time": "2023-03-10T10:19:00.077Z"
   },
   {
    "duration": 977,
    "start_time": "2023-03-10T10:19:00.538Z"
   },
   {
    "duration": 5,
    "start_time": "2023-03-10T10:19:02.027Z"
   },
   {
    "duration": 112,
    "start_time": "2023-03-10T10:19:03.398Z"
   },
   {
    "duration": 67,
    "start_time": "2023-03-10T10:19:04.809Z"
   },
   {
    "duration": 137,
    "start_time": "2023-03-10T10:19:06.385Z"
   },
   {
    "duration": 164,
    "start_time": "2023-03-10T10:19:08.509Z"
   },
   {
    "duration": 178,
    "start_time": "2023-03-10T10:19:09.527Z"
   },
   {
    "duration": 3,
    "start_time": "2023-03-10T10:19:10.675Z"
   },
   {
    "duration": 158,
    "start_time": "2023-03-10T10:19:11.615Z"
   },
   {
    "duration": 16,
    "start_time": "2023-03-10T10:19:14.581Z"
   },
   {
    "duration": 341,
    "start_time": "2023-03-10T10:19:15.357Z"
   },
   {
    "duration": 108,
    "start_time": "2023-03-10T10:19:16.077Z"
   },
   {
    "duration": 48,
    "start_time": "2023-03-10T10:19:34.649Z"
   },
   {
    "duration": 1478,
    "start_time": "2023-03-10T10:19:42.292Z"
   },
   {
    "duration": 2884,
    "start_time": "2023-03-10T10:19:43.772Z"
   },
   {
    "duration": 3,
    "start_time": "2023-03-10T10:19:46.658Z"
   },
   {
    "duration": 949,
    "start_time": "2023-03-10T10:19:46.662Z"
   },
   {
    "duration": 9,
    "start_time": "2023-03-10T10:19:47.613Z"
   },
   {
    "duration": 133,
    "start_time": "2023-03-10T10:19:47.624Z"
   },
   {
    "duration": 64,
    "start_time": "2023-03-10T10:19:47.759Z"
   },
   {
    "duration": 154,
    "start_time": "2023-03-10T10:19:47.825Z"
   },
   {
    "duration": 168,
    "start_time": "2023-03-10T10:19:47.981Z"
   },
   {
    "duration": 172,
    "start_time": "2023-03-10T10:19:48.151Z"
   },
   {
    "duration": 4,
    "start_time": "2023-03-10T10:19:48.324Z"
   },
   {
    "duration": 166,
    "start_time": "2023-03-10T10:19:48.329Z"
   },
   {
    "duration": 24,
    "start_time": "2023-03-10T10:19:48.497Z"
   },
   {
    "duration": 327,
    "start_time": "2023-03-10T10:19:48.524Z"
   },
   {
    "duration": 121,
    "start_time": "2023-03-10T10:19:48.852Z"
   },
   {
    "duration": 1632,
    "start_time": "2023-03-10T10:20:16.890Z"
   },
   {
    "duration": 2932,
    "start_time": "2023-03-10T10:20:18.524Z"
   },
   {
    "duration": 3,
    "start_time": "2023-03-10T10:20:21.458Z"
   },
   {
    "duration": 969,
    "start_time": "2023-03-10T10:20:21.462Z"
   },
   {
    "duration": 4,
    "start_time": "2023-03-10T10:20:22.433Z"
   },
   {
    "duration": 121,
    "start_time": "2023-03-10T10:20:22.439Z"
   },
   {
    "duration": 69,
    "start_time": "2023-03-10T10:20:22.562Z"
   },
   {
    "duration": 155,
    "start_time": "2023-03-10T10:20:22.633Z"
   },
   {
    "duration": 169,
    "start_time": "2023-03-10T10:20:22.790Z"
   },
   {
    "duration": 175,
    "start_time": "2023-03-10T10:20:22.961Z"
   },
   {
    "duration": 4,
    "start_time": "2023-03-10T10:20:23.137Z"
   },
   {
    "duration": 178,
    "start_time": "2023-03-10T10:20:23.143Z"
   },
   {
    "duration": 14,
    "start_time": "2023-03-10T10:20:23.323Z"
   },
   {
    "duration": 364,
    "start_time": "2023-03-10T10:20:23.340Z"
   },
   {
    "duration": 115,
    "start_time": "2023-03-10T10:20:23.706Z"
   },
   {
    "duration": 590,
    "start_time": "2023-03-10T10:20:23.824Z"
   },
   {
    "duration": 258,
    "start_time": "2023-03-10T10:26:06.491Z"
   },
   {
    "duration": 50,
    "start_time": "2023-03-10T10:28:04.025Z"
   },
   {
    "duration": 1507,
    "start_time": "2023-03-10T10:28:11.163Z"
   },
   {
    "duration": 2913,
    "start_time": "2023-03-10T10:28:12.672Z"
   },
   {
    "duration": 3,
    "start_time": "2023-03-10T10:28:15.587Z"
   },
   {
    "duration": 957,
    "start_time": "2023-03-10T10:28:15.592Z"
   },
   {
    "duration": 4,
    "start_time": "2023-03-10T10:28:16.551Z"
   },
   {
    "duration": 118,
    "start_time": "2023-03-10T10:28:16.556Z"
   },
   {
    "duration": 72,
    "start_time": "2023-03-10T10:28:16.675Z"
   },
   {
    "duration": 146,
    "start_time": "2023-03-10T10:28:16.749Z"
   },
   {
    "duration": 173,
    "start_time": "2023-03-10T10:28:16.896Z"
   },
   {
    "duration": 176,
    "start_time": "2023-03-10T10:28:17.070Z"
   },
   {
    "duration": 3,
    "start_time": "2023-03-10T10:28:17.248Z"
   },
   {
    "duration": 166,
    "start_time": "2023-03-10T10:28:17.253Z"
   },
   {
    "duration": 15,
    "start_time": "2023-03-10T10:28:17.421Z"
   },
   {
    "duration": 389,
    "start_time": "2023-03-10T10:28:17.438Z"
   },
   {
    "duration": 136,
    "start_time": "2023-03-10T10:28:17.829Z"
   },
   {
    "duration": 9,
    "start_time": "2023-03-10T10:28:17.967Z"
   },
   {
    "duration": 47,
    "start_time": "2023-03-10T10:30:16.520Z"
   },
   {
    "duration": 1476,
    "start_time": "2023-03-10T10:30:24.334Z"
   },
   {
    "duration": 2900,
    "start_time": "2023-03-10T10:30:25.812Z"
   },
   {
    "duration": 3,
    "start_time": "2023-03-10T10:30:28.714Z"
   },
   {
    "duration": 1010,
    "start_time": "2023-03-10T10:30:28.719Z"
   },
   {
    "duration": 3,
    "start_time": "2023-03-10T10:30:29.731Z"
   },
   {
    "duration": 128,
    "start_time": "2023-03-10T10:30:29.736Z"
   },
   {
    "duration": 67,
    "start_time": "2023-03-10T10:30:29.866Z"
   },
   {
    "duration": 149,
    "start_time": "2023-03-10T10:30:29.935Z"
   },
   {
    "duration": 161,
    "start_time": "2023-03-10T10:30:30.086Z"
   },
   {
    "duration": 192,
    "start_time": "2023-03-10T10:30:30.248Z"
   },
   {
    "duration": 8,
    "start_time": "2023-03-10T10:30:30.443Z"
   },
   {
    "duration": 200,
    "start_time": "2023-03-10T10:30:30.453Z"
   },
   {
    "duration": 14,
    "start_time": "2023-03-10T10:30:30.655Z"
   },
   {
    "duration": 383,
    "start_time": "2023-03-10T10:30:30.672Z"
   },
   {
    "duration": 111,
    "start_time": "2023-03-10T10:30:31.057Z"
   },
   {
    "duration": 9,
    "start_time": "2023-03-10T10:30:31.170Z"
   },
   {
    "duration": 932,
    "start_time": "2023-03-10T10:30:31.180Z"
   },
   {
    "duration": 950,
    "start_time": "2023-03-10T10:38:44.401Z"
   },
   {
    "duration": 765,
    "start_time": "2023-03-10T10:38:45.354Z"
   },
   {
    "duration": 3,
    "start_time": "2023-03-10T10:38:46.121Z"
   },
   {
    "duration": 1013,
    "start_time": "2023-03-10T10:38:46.126Z"
   },
   {
    "duration": 4,
    "start_time": "2023-03-10T10:38:47.141Z"
   },
   {
    "duration": 138,
    "start_time": "2023-03-10T10:38:47.147Z"
   },
   {
    "duration": 73,
    "start_time": "2023-03-10T10:38:47.286Z"
   },
   {
    "duration": 161,
    "start_time": "2023-03-10T10:38:47.360Z"
   },
   {
    "duration": 167,
    "start_time": "2023-03-10T10:38:47.523Z"
   },
   {
    "duration": 177,
    "start_time": "2023-03-10T10:38:47.692Z"
   },
   {
    "duration": 3,
    "start_time": "2023-03-10T10:38:47.871Z"
   },
   {
    "duration": 209,
    "start_time": "2023-03-10T10:38:47.876Z"
   },
   {
    "duration": 14,
    "start_time": "2023-03-10T10:38:48.087Z"
   },
   {
    "duration": 387,
    "start_time": "2023-03-10T10:38:48.103Z"
   },
   {
    "duration": 115,
    "start_time": "2023-03-10T10:38:48.492Z"
   },
   {
    "duration": 21,
    "start_time": "2023-03-10T10:38:48.609Z"
   },
   {
    "duration": 825,
    "start_time": "2023-03-10T10:38:48.632Z"
   },
   {
    "duration": 1005,
    "start_time": "2023-03-10T10:42:23.095Z"
   },
   {
    "duration": 849,
    "start_time": "2023-03-10T10:42:24.102Z"
   },
   {
    "duration": 3,
    "start_time": "2023-03-10T10:42:24.953Z"
   },
   {
    "duration": 1048,
    "start_time": "2023-03-10T10:42:24.958Z"
   },
   {
    "duration": 5,
    "start_time": "2023-03-10T10:42:26.008Z"
   },
   {
    "duration": 122,
    "start_time": "2023-03-10T10:42:26.022Z"
   },
   {
    "duration": 85,
    "start_time": "2023-03-10T10:42:26.146Z"
   },
   {
    "duration": 172,
    "start_time": "2023-03-10T10:42:26.233Z"
   },
   {
    "duration": 175,
    "start_time": "2023-03-10T10:42:26.407Z"
   },
   {
    "duration": 173,
    "start_time": "2023-03-10T10:42:26.584Z"
   },
   {
    "duration": 4,
    "start_time": "2023-03-10T10:42:26.758Z"
   },
   {
    "duration": 205,
    "start_time": "2023-03-10T10:42:26.763Z"
   },
   {
    "duration": 15,
    "start_time": "2023-03-10T10:42:26.970Z"
   },
   {
    "duration": 375,
    "start_time": "2023-03-10T10:42:26.987Z"
   },
   {
    "duration": 114,
    "start_time": "2023-03-10T10:42:27.364Z"
   },
   {
    "duration": 10,
    "start_time": "2023-03-10T10:42:27.479Z"
   },
   {
    "duration": 793,
    "start_time": "2023-03-10T10:42:27.490Z"
   },
   {
    "duration": 997,
    "start_time": "2023-03-10T10:45:03.171Z"
   },
   {
    "duration": 792,
    "start_time": "2023-03-10T10:45:04.170Z"
   },
   {
    "duration": 2,
    "start_time": "2023-03-10T10:45:04.964Z"
   },
   {
    "duration": 1000,
    "start_time": "2023-03-10T10:45:04.968Z"
   },
   {
    "duration": 5,
    "start_time": "2023-03-10T10:45:05.971Z"
   },
   {
    "duration": 146,
    "start_time": "2023-03-10T10:45:05.978Z"
   },
   {
    "duration": 67,
    "start_time": "2023-03-10T10:45:06.126Z"
   },
   {
    "duration": 153,
    "start_time": "2023-03-10T10:45:06.194Z"
   },
   {
    "duration": 169,
    "start_time": "2023-03-10T10:45:06.348Z"
   },
   {
    "duration": 185,
    "start_time": "2023-03-10T10:45:06.521Z"
   },
   {
    "duration": 4,
    "start_time": "2023-03-10T10:45:06.707Z"
   },
   {
    "duration": 243,
    "start_time": "2023-03-10T10:45:06.714Z"
   },
   {
    "duration": 16,
    "start_time": "2023-03-10T10:45:06.958Z"
   },
   {
    "duration": 371,
    "start_time": "2023-03-10T10:45:06.977Z"
   },
   {
    "duration": 129,
    "start_time": "2023-03-10T10:45:07.350Z"
   },
   {
    "duration": 12,
    "start_time": "2023-03-10T10:45:07.481Z"
   },
   {
    "duration": 506,
    "start_time": "2023-03-10T10:45:07.495Z"
   },
   {
    "duration": 270,
    "start_time": "2023-03-10T10:46:52.765Z"
   },
   {
    "duration": 0,
    "start_time": "2023-03-10T10:52:28.202Z"
   },
   {
    "duration": 953,
    "start_time": "2023-03-10T10:52:52.342Z"
   },
   {
    "duration": 840,
    "start_time": "2023-03-10T10:52:53.297Z"
   },
   {
    "duration": 4,
    "start_time": "2023-03-10T10:52:54.138Z"
   },
   {
    "duration": 1012,
    "start_time": "2023-03-10T10:52:54.144Z"
   },
   {
    "duration": 5,
    "start_time": "2023-03-10T10:52:55.159Z"
   },
   {
    "duration": 132,
    "start_time": "2023-03-10T10:52:55.166Z"
   },
   {
    "duration": 73,
    "start_time": "2023-03-10T10:52:55.300Z"
   },
   {
    "duration": 162,
    "start_time": "2023-03-10T10:52:55.375Z"
   },
   {
    "duration": 178,
    "start_time": "2023-03-10T10:52:55.539Z"
   },
   {
    "duration": 180,
    "start_time": "2023-03-10T10:52:55.719Z"
   },
   {
    "duration": 4,
    "start_time": "2023-03-10T10:52:55.901Z"
   },
   {
    "duration": 207,
    "start_time": "2023-03-10T10:52:55.907Z"
   },
   {
    "duration": 15,
    "start_time": "2023-03-10T10:52:56.121Z"
   },
   {
    "duration": 388,
    "start_time": "2023-03-10T10:52:56.139Z"
   },
   {
    "duration": 120,
    "start_time": "2023-03-10T10:52:56.529Z"
   },
   {
    "duration": 13,
    "start_time": "2023-03-10T10:52:56.650Z"
   },
   {
    "duration": 509,
    "start_time": "2023-03-10T10:52:56.665Z"
   },
   {
    "duration": 289,
    "start_time": "2023-03-10T10:52:57.176Z"
   },
   {
    "duration": 54432,
    "start_time": "2023-03-10T10:52:57.467Z"
   },
   {
    "duration": 911,
    "start_time": "2023-03-10T10:54:31.850Z"
   },
   {
    "duration": 783,
    "start_time": "2023-03-10T10:54:32.763Z"
   },
   {
    "duration": 3,
    "start_time": "2023-03-10T10:54:33.548Z"
   },
   {
    "duration": 1078,
    "start_time": "2023-03-10T10:54:33.553Z"
   },
   {
    "duration": 5,
    "start_time": "2023-03-10T10:54:34.633Z"
   },
   {
    "duration": 124,
    "start_time": "2023-03-10T10:54:34.639Z"
   },
   {
    "duration": 70,
    "start_time": "2023-03-10T10:54:34.765Z"
   },
   {
    "duration": 147,
    "start_time": "2023-03-10T10:54:34.837Z"
   },
   {
    "duration": 180,
    "start_time": "2023-03-10T10:54:34.985Z"
   },
   {
    "duration": 174,
    "start_time": "2023-03-10T10:54:35.167Z"
   },
   {
    "duration": 4,
    "start_time": "2023-03-10T10:54:35.343Z"
   },
   {
    "duration": 222,
    "start_time": "2023-03-10T10:54:35.348Z"
   },
   {
    "duration": 15,
    "start_time": "2023-03-10T10:54:35.572Z"
   },
   {
    "duration": 377,
    "start_time": "2023-03-10T10:54:35.590Z"
   },
   {
    "duration": 134,
    "start_time": "2023-03-10T10:54:35.968Z"
   },
   {
    "duration": 17,
    "start_time": "2023-03-10T10:54:36.104Z"
   },
   {
    "duration": 508,
    "start_time": "2023-03-10T10:54:36.122Z"
   },
   {
    "duration": 283,
    "start_time": "2023-03-10T10:54:36.632Z"
   },
   {
    "duration": 61772,
    "start_time": "2023-03-10T10:54:36.921Z"
   },
   {
    "duration": 70,
    "start_time": "2023-03-10T15:31:31.941Z"
   },
   {
    "duration": 1121,
    "start_time": "2023-03-10T15:31:38.079Z"
   },
   {
    "duration": 1181,
    "start_time": "2023-03-10T15:31:39.202Z"
   },
   {
    "duration": 3,
    "start_time": "2023-03-10T15:31:40.385Z"
   },
   {
    "duration": 1177,
    "start_time": "2023-03-10T15:31:40.390Z"
   },
   {
    "duration": 6,
    "start_time": "2023-03-10T15:31:41.570Z"
   },
   {
    "duration": 146,
    "start_time": "2023-03-10T15:31:41.577Z"
   },
   {
    "duration": 102,
    "start_time": "2023-03-10T15:31:41.725Z"
   },
   {
    "duration": 200,
    "start_time": "2023-03-10T15:31:41.830Z"
   },
   {
    "duration": 210,
    "start_time": "2023-03-10T15:31:42.032Z"
   },
   {
    "duration": 194,
    "start_time": "2023-03-10T15:31:42.244Z"
   },
   {
    "duration": 4,
    "start_time": "2023-03-10T15:31:42.440Z"
   },
   {
    "duration": 227,
    "start_time": "2023-03-10T15:31:42.446Z"
   },
   {
    "duration": 14,
    "start_time": "2023-03-10T15:31:42.675Z"
   },
   {
    "duration": 385,
    "start_time": "2023-03-10T15:31:42.691Z"
   },
   {
    "duration": 122,
    "start_time": "2023-03-10T15:31:43.077Z"
   },
   {
    "duration": 14,
    "start_time": "2023-03-10T15:31:43.201Z"
   },
   {
    "duration": 127,
    "start_time": "2023-03-10T15:31:43.216Z"
   },
   {
    "duration": 0,
    "start_time": "2023-03-10T15:31:43.345Z"
   },
   {
    "duration": 0,
    "start_time": "2023-03-10T15:31:43.347Z"
   },
   {
    "duration": 6903,
    "start_time": "2023-03-10T15:32:32.072Z"
   },
   {
    "duration": 950,
    "start_time": "2023-03-10T15:32:38.978Z"
   },
   {
    "duration": 918,
    "start_time": "2023-03-10T15:32:39.930Z"
   },
   {
    "duration": 3,
    "start_time": "2023-03-10T15:32:40.850Z"
   },
   {
    "duration": 1174,
    "start_time": "2023-03-10T15:32:40.858Z"
   },
   {
    "duration": 5,
    "start_time": "2023-03-10T15:32:42.034Z"
   },
   {
    "duration": 172,
    "start_time": "2023-03-10T15:32:42.041Z"
   },
   {
    "duration": 93,
    "start_time": "2023-03-10T15:32:42.215Z"
   },
   {
    "duration": 197,
    "start_time": "2023-03-10T15:32:42.309Z"
   },
   {
    "duration": 184,
    "start_time": "2023-03-10T15:32:42.508Z"
   },
   {
    "duration": 185,
    "start_time": "2023-03-10T15:32:42.694Z"
   },
   {
    "duration": 4,
    "start_time": "2023-03-10T15:32:42.881Z"
   },
   {
    "duration": 230,
    "start_time": "2023-03-10T15:32:42.886Z"
   },
   {
    "duration": 15,
    "start_time": "2023-03-10T15:32:43.119Z"
   },
   {
    "duration": 387,
    "start_time": "2023-03-10T15:32:43.136Z"
   },
   {
    "duration": 125,
    "start_time": "2023-03-10T15:32:43.525Z"
   },
   {
    "duration": 15,
    "start_time": "2023-03-10T15:32:43.652Z"
   },
   {
    "duration": 571,
    "start_time": "2023-03-10T15:32:43.669Z"
   },
   {
    "duration": 223,
    "start_time": "2023-03-10T15:32:44.243Z"
   },
   {
    "duration": 2648,
    "start_time": "2023-03-10T15:33:08.087Z"
   },
   {
    "duration": 978,
    "start_time": "2023-03-10T15:33:10.738Z"
   },
   {
    "duration": 883,
    "start_time": "2023-03-10T15:33:11.718Z"
   },
   {
    "duration": 4,
    "start_time": "2023-03-10T15:33:12.603Z"
   },
   {
    "duration": 1115,
    "start_time": "2023-03-10T15:33:12.610Z"
   },
   {
    "duration": 4,
    "start_time": "2023-03-10T15:33:13.727Z"
   },
   {
    "duration": 150,
    "start_time": "2023-03-10T15:33:13.733Z"
   },
   {
    "duration": 86,
    "start_time": "2023-03-10T15:33:13.885Z"
   },
   {
    "duration": 203,
    "start_time": "2023-03-10T15:33:13.973Z"
   },
   {
    "duration": 195,
    "start_time": "2023-03-10T15:33:14.178Z"
   },
   {
    "duration": 189,
    "start_time": "2023-03-10T15:33:14.374Z"
   },
   {
    "duration": 5,
    "start_time": "2023-03-10T15:33:14.564Z"
   },
   {
    "duration": 225,
    "start_time": "2023-03-10T15:33:14.571Z"
   },
   {
    "duration": 16,
    "start_time": "2023-03-10T15:33:14.799Z"
   },
   {
    "duration": 401,
    "start_time": "2023-03-10T15:33:14.816Z"
   },
   {
    "duration": 129,
    "start_time": "2023-03-10T15:33:15.219Z"
   },
   {
    "duration": 15,
    "start_time": "2023-03-10T15:33:15.350Z"
   },
   {
    "duration": 500,
    "start_time": "2023-03-10T15:33:15.367Z"
   },
   {
    "duration": 214,
    "start_time": "2023-03-10T15:33:15.869Z"
   },
   {
    "duration": 76899,
    "start_time": "2023-03-10T15:33:16.085Z"
   },
   {
    "duration": 2796,
    "start_time": "2023-03-10T15:45:49.452Z"
   },
   {
    "duration": 979,
    "start_time": "2023-03-10T15:45:52.250Z"
   },
   {
    "duration": 882,
    "start_time": "2023-03-10T15:45:53.230Z"
   },
   {
    "duration": 4,
    "start_time": "2023-03-10T15:45:54.113Z"
   },
   {
    "duration": 1202,
    "start_time": "2023-03-10T15:45:54.119Z"
   },
   {
    "duration": 7,
    "start_time": "2023-03-10T15:45:55.324Z"
   },
   {
    "duration": 214,
    "start_time": "2023-03-10T15:45:55.333Z"
   },
   {
    "duration": 130,
    "start_time": "2023-03-10T15:45:55.549Z"
   },
   {
    "duration": 198,
    "start_time": "2023-03-10T15:45:55.682Z"
   },
   {
    "duration": 187,
    "start_time": "2023-03-10T15:45:55.881Z"
   },
   {
    "duration": 178,
    "start_time": "2023-03-10T15:45:56.070Z"
   },
   {
    "duration": 8,
    "start_time": "2023-03-10T15:45:56.249Z"
   },
   {
    "duration": 216,
    "start_time": "2023-03-10T15:45:56.259Z"
   },
   {
    "duration": 19,
    "start_time": "2023-03-10T15:45:56.478Z"
   },
   {
    "duration": 347,
    "start_time": "2023-03-10T15:45:56.499Z"
   },
   {
    "duration": 119,
    "start_time": "2023-03-10T15:45:56.847Z"
   },
   {
    "duration": 12,
    "start_time": "2023-03-10T15:45:56.968Z"
   },
   {
    "duration": 450,
    "start_time": "2023-03-10T15:45:56.982Z"
   },
   {
    "duration": 216,
    "start_time": "2023-03-10T15:45:57.435Z"
   },
   {
    "duration": 64143,
    "start_time": "2023-03-10T15:45:57.653Z"
   },
   {
    "duration": 5886,
    "start_time": "2023-03-11T07:22:17.830Z"
   },
   {
    "duration": 1037,
    "start_time": "2023-03-11T07:22:23.718Z"
   },
   {
    "duration": 2777,
    "start_time": "2023-03-11T07:22:24.757Z"
   },
   {
    "duration": 4,
    "start_time": "2023-03-11T07:22:27.537Z"
   },
   {
    "duration": 993,
    "start_time": "2023-03-11T07:22:27.542Z"
   },
   {
    "duration": 6,
    "start_time": "2023-03-11T07:22:28.537Z"
   },
   {
    "duration": 132,
    "start_time": "2023-03-11T07:22:28.544Z"
   },
   {
    "duration": 76,
    "start_time": "2023-03-11T07:22:28.678Z"
   },
   {
    "duration": 157,
    "start_time": "2023-03-11T07:22:28.755Z"
   },
   {
    "duration": 173,
    "start_time": "2023-03-11T07:22:28.914Z"
   },
   {
    "duration": 172,
    "start_time": "2023-03-11T07:22:29.089Z"
   },
   {
    "duration": 3,
    "start_time": "2023-03-11T07:22:29.263Z"
   },
   {
    "duration": 208,
    "start_time": "2023-03-11T07:22:29.267Z"
   },
   {
    "duration": 15,
    "start_time": "2023-03-11T07:22:29.477Z"
   },
   {
    "duration": 410,
    "start_time": "2023-03-11T07:22:29.494Z"
   },
   {
    "duration": 119,
    "start_time": "2023-03-11T07:22:29.906Z"
   },
   {
    "duration": 13,
    "start_time": "2023-03-11T07:22:30.027Z"
   },
   {
    "duration": 417,
    "start_time": "2023-03-11T07:22:30.041Z"
   },
   {
    "duration": 192,
    "start_time": "2023-03-11T07:22:30.460Z"
   },
   {
    "duration": 61479,
    "start_time": "2023-03-11T07:22:30.654Z"
   },
   {
    "duration": 2420,
    "start_time": "2023-03-11T07:41:08.338Z"
   },
   {
    "duration": 913,
    "start_time": "2023-03-11T07:41:10.762Z"
   },
   {
    "duration": 841,
    "start_time": "2023-03-11T07:41:11.677Z"
   },
   {
    "duration": 3,
    "start_time": "2023-03-11T07:41:12.520Z"
   },
   {
    "duration": 1013,
    "start_time": "2023-03-11T07:41:12.524Z"
   },
   {
    "duration": 7,
    "start_time": "2023-03-11T07:41:13.539Z"
   },
   {
    "duration": 130,
    "start_time": "2023-03-11T07:41:13.549Z"
   },
   {
    "duration": 72,
    "start_time": "2023-03-11T07:41:13.681Z"
   },
   {
    "duration": 157,
    "start_time": "2023-03-11T07:41:13.756Z"
   },
   {
    "duration": 202,
    "start_time": "2023-03-11T07:41:13.915Z"
   },
   {
    "duration": 211,
    "start_time": "2023-03-11T07:41:14.120Z"
   },
   {
    "duration": 4,
    "start_time": "2023-03-11T07:41:14.333Z"
   },
   {
    "duration": 213,
    "start_time": "2023-03-11T07:41:14.339Z"
   },
   {
    "duration": 15,
    "start_time": "2023-03-11T07:41:14.554Z"
   },
   {
    "duration": 383,
    "start_time": "2023-03-11T07:41:14.571Z"
   },
   {
    "duration": 79,
    "start_time": "2023-03-11T07:41:14.956Z"
   },
   {
    "duration": 29,
    "start_time": "2023-03-11T07:41:15.037Z"
   },
   {
    "duration": 604,
    "start_time": "2023-03-11T07:41:15.068Z"
   },
   {
    "duration": 176,
    "start_time": "2023-03-11T07:41:15.673Z"
   },
   {
    "duration": 5,
    "start_time": "2023-03-11T07:41:15.851Z"
   },
   {
    "duration": 0,
    "start_time": "2023-03-11T07:41:15.857Z"
   },
   {
    "duration": 0,
    "start_time": "2023-03-11T07:41:15.859Z"
   },
   {
    "duration": 0,
    "start_time": "2023-03-11T07:41:15.860Z"
   },
   {
    "duration": 2426,
    "start_time": "2023-03-11T07:41:39.918Z"
   },
   {
    "duration": 927,
    "start_time": "2023-03-11T07:41:42.346Z"
   },
   {
    "duration": 781,
    "start_time": "2023-03-11T07:41:43.275Z"
   },
   {
    "duration": 4,
    "start_time": "2023-03-11T07:41:44.058Z"
   },
   {
    "duration": 1055,
    "start_time": "2023-03-11T07:41:44.064Z"
   },
   {
    "duration": 5,
    "start_time": "2023-03-11T07:41:45.120Z"
   },
   {
    "duration": 132,
    "start_time": "2023-03-11T07:41:45.127Z"
   },
   {
    "duration": 76,
    "start_time": "2023-03-11T07:41:45.260Z"
   },
   {
    "duration": 161,
    "start_time": "2023-03-11T07:41:45.338Z"
   },
   {
    "duration": 184,
    "start_time": "2023-03-11T07:41:45.501Z"
   },
   {
    "duration": 174,
    "start_time": "2023-03-11T07:41:45.687Z"
   },
   {
    "duration": 4,
    "start_time": "2023-03-11T07:41:45.863Z"
   },
   {
    "duration": 214,
    "start_time": "2023-03-11T07:41:45.869Z"
   },
   {
    "duration": 16,
    "start_time": "2023-03-11T07:41:46.086Z"
   },
   {
    "duration": 359,
    "start_time": "2023-03-11T07:41:46.113Z"
   },
   {
    "duration": 79,
    "start_time": "2023-03-11T07:41:46.474Z"
   },
   {
    "duration": 30,
    "start_time": "2023-03-11T07:41:46.555Z"
   },
   {
    "duration": 612,
    "start_time": "2023-03-11T07:41:46.587Z"
   },
   {
    "duration": 190,
    "start_time": "2023-03-11T07:41:47.201Z"
   },
   {
    "duration": 81151,
    "start_time": "2023-03-11T07:41:47.393Z"
   },
   {
    "duration": 10,
    "start_time": "2023-03-11T07:43:08.546Z"
   },
   {
    "duration": 4,
    "start_time": "2023-03-11T07:43:08.558Z"
   },
   {
    "duration": 132,
    "start_time": "2023-03-11T07:43:08.563Z"
   },
   {
    "duration": 2662,
    "start_time": "2023-03-11T09:04:16.608Z"
   },
   {
    "duration": 1063,
    "start_time": "2023-03-11T09:04:19.273Z"
   },
   {
    "duration": 977,
    "start_time": "2023-03-11T09:04:20.338Z"
   },
   {
    "duration": 5,
    "start_time": "2023-03-11T09:04:21.317Z"
   },
   {
    "duration": 1183,
    "start_time": "2023-03-11T09:04:21.325Z"
   },
   {
    "duration": 9,
    "start_time": "2023-03-11T09:04:22.512Z"
   },
   {
    "duration": 160,
    "start_time": "2023-03-11T09:04:22.522Z"
   },
   {
    "duration": 87,
    "start_time": "2023-03-11T09:04:22.684Z"
   },
   {
    "duration": 195,
    "start_time": "2023-03-11T09:04:22.773Z"
   },
   {
    "duration": 200,
    "start_time": "2023-03-11T09:04:22.970Z"
   },
   {
    "duration": 247,
    "start_time": "2023-03-11T09:04:23.172Z"
   },
   {
    "duration": 6,
    "start_time": "2023-03-11T09:04:23.421Z"
   },
   {
    "duration": 262,
    "start_time": "2023-03-11T09:04:23.428Z"
   },
   {
    "duration": 30,
    "start_time": "2023-03-11T09:04:23.693Z"
   },
   {
    "duration": 455,
    "start_time": "2023-03-11T09:04:23.727Z"
   },
   {
    "duration": 107,
    "start_time": "2023-03-11T09:04:24.184Z"
   },
   {
    "duration": 40,
    "start_time": "2023-03-11T09:04:24.293Z"
   },
   {
    "duration": 738,
    "start_time": "2023-03-11T09:04:24.335Z"
   },
   {
    "duration": 235,
    "start_time": "2023-03-11T09:04:25.076Z"
   },
   {
    "duration": 11,
    "start_time": "2023-03-11T09:04:25.316Z"
   },
   {
    "duration": 81560,
    "start_time": "2023-03-11T09:05:21.073Z"
   },
   {
    "duration": 2556,
    "start_time": "2023-03-11T09:13:36.969Z"
   },
   {
    "duration": 1020,
    "start_time": "2023-03-11T09:13:39.529Z"
   },
   {
    "duration": 874,
    "start_time": "2023-03-11T09:13:40.551Z"
   },
   {
    "duration": 3,
    "start_time": "2023-03-11T09:13:41.430Z"
   },
   {
    "duration": 1097,
    "start_time": "2023-03-11T09:13:41.434Z"
   },
   {
    "duration": 6,
    "start_time": "2023-03-11T09:13:42.533Z"
   },
   {
    "duration": 159,
    "start_time": "2023-03-11T09:13:42.541Z"
   },
   {
    "duration": 96,
    "start_time": "2023-03-11T09:13:42.702Z"
   },
   {
    "duration": 179,
    "start_time": "2023-03-11T09:13:42.800Z"
   },
   {
    "duration": 186,
    "start_time": "2023-03-11T09:13:42.982Z"
   },
   {
    "duration": 194,
    "start_time": "2023-03-11T09:13:43.170Z"
   },
   {
    "duration": 4,
    "start_time": "2023-03-11T09:13:43.366Z"
   },
   {
    "duration": 216,
    "start_time": "2023-03-11T09:13:43.373Z"
   },
   {
    "duration": 37,
    "start_time": "2023-03-11T09:13:43.591Z"
   },
   {
    "duration": 355,
    "start_time": "2023-03-11T09:13:43.631Z"
   },
   {
    "duration": 106,
    "start_time": "2023-03-11T09:13:43.987Z"
   },
   {
    "duration": 39,
    "start_time": "2023-03-11T09:13:44.095Z"
   },
   {
    "duration": 696,
    "start_time": "2023-03-11T09:13:44.136Z"
   },
   {
    "duration": 204,
    "start_time": "2023-03-11T09:13:44.833Z"
   },
   {
    "duration": 82691,
    "start_time": "2023-03-11T09:13:45.038Z"
   },
   {
    "duration": 137,
    "start_time": "2023-03-11T09:15:07.731Z"
   },
   {
    "duration": 60124,
    "start_time": "2023-03-11T09:20:39.623Z"
   },
   {
    "duration": 52211,
    "start_time": "2023-03-11T09:22:02.930Z"
   },
   {
    "duration": 95297,
    "start_time": "2023-03-11T09:23:08.946Z"
   },
   {
    "duration": 100781,
    "start_time": "2023-03-11T09:24:57.355Z"
   },
   {
    "duration": 37263,
    "start_time": "2023-03-11T09:27:39.051Z"
   },
   {
    "duration": 125526,
    "start_time": "2023-03-11T09:28:24.607Z"
   },
   {
    "duration": 2757,
    "start_time": "2023-03-11T09:36:10.568Z"
   },
   {
    "duration": 1199,
    "start_time": "2023-03-11T09:36:13.328Z"
   },
   {
    "duration": 894,
    "start_time": "2023-03-11T09:36:14.531Z"
   },
   {
    "duration": 6,
    "start_time": "2023-03-11T09:36:15.427Z"
   },
   {
    "duration": 1202,
    "start_time": "2023-03-11T09:36:15.435Z"
   },
   {
    "duration": 7,
    "start_time": "2023-03-11T09:36:16.639Z"
   },
   {
    "duration": 173,
    "start_time": "2023-03-11T09:36:16.648Z"
   },
   {
    "duration": 82,
    "start_time": "2023-03-11T09:36:16.823Z"
   },
   {
    "duration": 175,
    "start_time": "2023-03-11T09:36:16.915Z"
   },
   {
    "duration": 202,
    "start_time": "2023-03-11T09:36:17.091Z"
   },
   {
    "duration": 204,
    "start_time": "2023-03-11T09:36:17.294Z"
   },
   {
    "duration": 4,
    "start_time": "2023-03-11T09:36:17.500Z"
   },
   {
    "duration": 246,
    "start_time": "2023-03-11T09:36:17.514Z"
   },
   {
    "duration": 15,
    "start_time": "2023-03-11T09:36:17.762Z"
   },
   {
    "duration": 471,
    "start_time": "2023-03-11T09:36:17.778Z"
   },
   {
    "duration": 81,
    "start_time": "2023-03-11T09:36:18.251Z"
   },
   {
    "duration": 37,
    "start_time": "2023-03-11T09:36:18.335Z"
   },
   {
    "duration": 708,
    "start_time": "2023-03-11T09:36:18.375Z"
   },
   {
    "duration": 220,
    "start_time": "2023-03-11T09:36:19.085Z"
   },
   {
    "duration": 73527,
    "start_time": "2023-03-11T09:36:19.307Z"
   },
   {
    "duration": 120613,
    "start_time": "2023-03-11T09:37:32.837Z"
   },
   {
    "duration": 7077,
    "start_time": "2023-03-14T04:01:56.073Z"
   },
   {
    "duration": 1211,
    "start_time": "2023-03-14T04:02:03.152Z"
   },
   {
    "duration": 1033,
    "start_time": "2023-03-14T04:02:04.365Z"
   },
   {
    "duration": 4,
    "start_time": "2023-03-14T04:02:05.400Z"
   },
   {
    "duration": 1440,
    "start_time": "2023-03-14T04:02:05.406Z"
   },
   {
    "duration": 6,
    "start_time": "2023-03-14T04:02:09.792Z"
   },
   {
    "duration": 152,
    "start_time": "2023-03-14T04:02:56.760Z"
   },
   {
    "duration": 94,
    "start_time": "2023-03-14T04:03:10.844Z"
   },
   {
    "duration": 253,
    "start_time": "2023-03-14T04:03:18.268Z"
   },
   {
    "duration": 227,
    "start_time": "2023-03-14T04:03:45.233Z"
   },
   {
    "duration": 226,
    "start_time": "2023-03-14T04:03:47.447Z"
   },
   {
    "duration": 4,
    "start_time": "2023-03-14T04:04:20.693Z"
   },
   {
    "duration": 226,
    "start_time": "2023-03-14T04:04:21.475Z"
   },
   {
    "duration": 87,
    "start_time": "2023-03-14T04:05:20.414Z"
   },
   {
    "duration": 2962,
    "start_time": "2023-03-14T04:06:13.300Z"
   },
   {
    "duration": 5,
    "start_time": "2023-03-14T04:06:16.265Z"
   },
   {
    "duration": 965,
    "start_time": "2023-03-14T04:06:16.272Z"
   },
   {
    "duration": 3,
    "start_time": "2023-03-14T04:06:17.239Z"
   },
   {
    "duration": 1226,
    "start_time": "2023-03-14T04:06:17.245Z"
   },
   {
    "duration": 7,
    "start_time": "2023-03-14T04:06:18.472Z"
   },
   {
    "duration": 192,
    "start_time": "2023-03-14T04:06:18.481Z"
   },
   {
    "duration": 124,
    "start_time": "2023-03-14T04:06:18.676Z"
   },
   {
    "duration": 268,
    "start_time": "2023-03-14T04:06:18.802Z"
   },
   {
    "duration": 205,
    "start_time": "2023-03-14T04:06:19.073Z"
   },
   {
    "duration": 239,
    "start_time": "2023-03-14T04:06:19.280Z"
   },
   {
    "duration": 4,
    "start_time": "2023-03-14T04:06:19.521Z"
   },
   {
    "duration": 81,
    "start_time": "2023-03-14T04:06:26.433Z"
   },
   {
    "duration": 218,
    "start_time": "2023-03-14T04:06:32.414Z"
   },
   {
    "duration": 75,
    "start_time": "2023-03-14T04:06:33.207Z"
   },
   {
    "duration": 222,
    "start_time": "2023-03-14T04:06:57.339Z"
   },
   {
    "duration": 73,
    "start_time": "2023-03-14T04:07:00.317Z"
   },
   {
    "duration": 13,
    "start_time": "2023-03-14T04:09:21.829Z"
   },
   {
    "duration": 361,
    "start_time": "2023-03-14T04:09:22.933Z"
   },
   {
    "duration": 64,
    "start_time": "2023-03-14T04:14:58.735Z"
   },
   {
    "duration": 35,
    "start_time": "2023-03-14T04:14:59.044Z"
   },
   {
    "duration": 96,
    "start_time": "2023-03-14T04:14:59.437Z"
   },
   {
    "duration": 21,
    "start_time": "2023-03-14T04:15:02.254Z"
   },
   {
    "duration": 738,
    "start_time": "2023-03-14T04:15:03.451Z"
   },
   {
    "duration": 74,
    "start_time": "2023-03-14T04:15:09.591Z"
   },
   {
    "duration": 66,
    "start_time": "2023-03-14T06:47:39.926Z"
   },
   {
    "duration": 6023,
    "start_time": "2023-03-14T06:49:50.686Z"
   },
   {
    "duration": 922,
    "start_time": "2023-03-14T06:49:56.712Z"
   },
   {
    "duration": 856,
    "start_time": "2023-03-14T06:49:57.635Z"
   },
   {
    "duration": 3,
    "start_time": "2023-03-14T06:49:59.619Z"
   },
   {
    "duration": 936,
    "start_time": "2023-03-14T06:50:02.111Z"
   },
   {
    "duration": 4,
    "start_time": "2023-03-14T06:50:10.606Z"
   },
   {
    "duration": 102,
    "start_time": "2023-03-14T06:50:14.551Z"
   },
   {
    "duration": 62,
    "start_time": "2023-03-14T06:50:27.749Z"
   },
   {
    "duration": 131,
    "start_time": "2023-03-14T06:50:29.622Z"
   },
   {
    "duration": 151,
    "start_time": "2023-03-14T06:50:33.373Z"
   },
   {
    "duration": 159,
    "start_time": "2023-03-14T06:50:35.640Z"
   },
   {
    "duration": 4,
    "start_time": "2023-03-14T06:50:38.373Z"
   },
   {
    "duration": 192,
    "start_time": "2023-03-14T06:50:40.895Z"
   },
   {
    "duration": 3,
    "start_time": "2023-03-14T06:50:44.983Z"
   },
   {
    "duration": 188,
    "start_time": "2023-03-14T06:51:32.685Z"
   },
   {
    "duration": 89,
    "start_time": "2023-03-14T06:51:40.241Z"
   },
   {
    "duration": 4,
    "start_time": "2023-03-14T06:51:41.728Z"
   },
   {
    "duration": 9,
    "start_time": "2023-03-14T06:51:55.534Z"
   },
   {
    "duration": 4,
    "start_time": "2023-03-14T06:51:56.522Z"
   },
   {
    "duration": 11,
    "start_time": "2023-03-14T06:52:01.907Z"
   },
   {
    "duration": 4,
    "start_time": "2023-03-14T06:52:05.510Z"
   },
   {
    "duration": 11,
    "start_time": "2023-03-14T06:55:56.238Z"
   },
   {
    "duration": 12,
    "start_time": "2023-03-14T06:56:41.122Z"
   },
   {
    "duration": 3,
    "start_time": "2023-03-14T06:56:44.408Z"
   },
   {
    "duration": 12,
    "start_time": "2023-03-14T06:56:45.524Z"
   },
   {
    "duration": 3,
    "start_time": "2023-03-14T06:56:54.794Z"
   },
   {
    "duration": 5,
    "start_time": "2023-03-14T06:56:56.037Z"
   },
   {
    "duration": 14,
    "start_time": "2023-03-14T06:56:58.029Z"
   },
   {
    "duration": 2276,
    "start_time": "2023-03-14T06:57:04.624Z"
   },
   {
    "duration": 5,
    "start_time": "2023-03-14T06:57:06.902Z"
   },
   {
    "duration": 635,
    "start_time": "2023-03-14T06:57:06.908Z"
   },
   {
    "duration": 2,
    "start_time": "2023-03-14T06:57:07.545Z"
   },
   {
    "duration": 798,
    "start_time": "2023-03-14T06:57:08.664Z"
   },
   {
    "duration": 4,
    "start_time": "2023-03-14T06:57:09.725Z"
   },
   {
    "duration": 95,
    "start_time": "2023-03-14T06:57:12.029Z"
   },
   {
    "duration": 63,
    "start_time": "2023-03-14T06:57:15.279Z"
   },
   {
    "duration": 131,
    "start_time": "2023-03-14T06:57:16.625Z"
   },
   {
    "duration": 139,
    "start_time": "2023-03-14T06:57:19.707Z"
   },
   {
    "duration": 157,
    "start_time": "2023-03-14T06:57:20.506Z"
   },
   {
    "duration": 3,
    "start_time": "2023-03-14T06:57:22.132Z"
   },
   {
    "duration": 181,
    "start_time": "2023-03-14T06:57:23.901Z"
   },
   {
    "duration": 182,
    "start_time": "2023-03-14T06:58:00.234Z"
   },
   {
    "duration": 56,
    "start_time": "2023-03-14T07:34:19.168Z"
   },
   {
    "duration": 9,
    "start_time": "2023-03-14T07:36:11.562Z"
   },
   {
    "duration": 7,
    "start_time": "2023-03-14T07:36:56.576Z"
   },
   {
    "duration": 5,
    "start_time": "2023-03-14T07:38:51.217Z"
   },
   {
    "duration": 621,
    "start_time": "2023-03-14T07:38:51.870Z"
   },
   {
    "duration": 3,
    "start_time": "2023-03-14T07:38:52.876Z"
   },
   {
    "duration": 757,
    "start_time": "2023-03-14T07:38:53.766Z"
   },
   {
    "duration": 5,
    "start_time": "2023-03-14T07:38:54.688Z"
   },
   {
    "duration": 96,
    "start_time": "2023-03-14T07:38:56.215Z"
   },
   {
    "duration": 76,
    "start_time": "2023-03-14T07:38:59.081Z"
   },
   {
    "duration": 151,
    "start_time": "2023-03-14T07:38:59.723Z"
   },
   {
    "duration": 174,
    "start_time": "2023-03-14T07:39:01.962Z"
   },
   {
    "duration": 178,
    "start_time": "2023-03-14T07:39:02.846Z"
   },
   {
    "duration": 55,
    "start_time": "2023-03-14T07:39:09.850Z"
   },
   {
    "duration": 71,
    "start_time": "2023-03-14T07:41:29.627Z"
   },
   {
    "duration": 19,
    "start_time": "2023-03-14T07:41:36.702Z"
   },
   {
    "duration": 19,
    "start_time": "2023-03-14T08:19:06.614Z"
   },
   {
    "duration": 8,
    "start_time": "2023-03-14T08:20:22.774Z"
   },
   {
    "duration": 8,
    "start_time": "2023-03-14T08:20:34.137Z"
   },
   {
    "duration": 4,
    "start_time": "2023-03-14T08:30:46.018Z"
   },
   {
    "duration": 172,
    "start_time": "2023-03-14T08:30:47.304Z"
   },
   {
    "duration": 3,
    "start_time": "2023-03-14T08:38:28.099Z"
   },
   {
    "duration": 224,
    "start_time": "2023-03-14T08:38:31.400Z"
   },
   {
    "duration": 179,
    "start_time": "2023-03-14T08:40:08.071Z"
   },
   {
    "duration": 3,
    "start_time": "2023-03-14T08:41:39.512Z"
   },
   {
    "duration": 231,
    "start_time": "2023-03-14T08:44:02.203Z"
   },
   {
    "duration": 15,
    "start_time": "2023-03-14T08:44:06.863Z"
   },
   {
    "duration": 225,
    "start_time": "2023-03-14T08:44:16.121Z"
   },
   {
    "duration": 14,
    "start_time": "2023-03-14T08:44:16.795Z"
   },
   {
    "duration": 14,
    "start_time": "2023-03-14T08:44:22.191Z"
   },
   {
    "duration": 4,
    "start_time": "2023-03-14T08:44:32.203Z"
   },
   {
    "duration": 617,
    "start_time": "2023-03-14T08:44:32.797Z"
   },
   {
    "duration": 3,
    "start_time": "2023-03-14T08:44:33.446Z"
   },
   {
    "duration": 782,
    "start_time": "2023-03-14T08:44:34.109Z"
   },
   {
    "duration": 4,
    "start_time": "2023-03-14T08:44:34.922Z"
   },
   {
    "duration": 2492,
    "start_time": "2023-03-14T08:44:40.238Z"
   },
   {
    "duration": 934,
    "start_time": "2023-03-14T08:44:42.732Z"
   },
   {
    "duration": 660,
    "start_time": "2023-03-14T08:44:43.667Z"
   },
   {
    "duration": 3,
    "start_time": "2023-03-14T08:44:44.329Z"
   },
   {
    "duration": 789,
    "start_time": "2023-03-14T08:44:44.333Z"
   },
   {
    "duration": 3,
    "start_time": "2023-03-14T08:44:45.124Z"
   },
   {
    "duration": 112,
    "start_time": "2023-03-14T08:44:45.128Z"
   },
   {
    "duration": 68,
    "start_time": "2023-03-14T08:44:45.241Z"
   },
   {
    "duration": 141,
    "start_time": "2023-03-14T08:44:45.311Z"
   },
   {
    "duration": 156,
    "start_time": "2023-03-14T08:44:45.454Z"
   },
   {
    "duration": 171,
    "start_time": "2023-03-14T08:44:45.612Z"
   },
   {
    "duration": 57,
    "start_time": "2023-03-14T08:44:45.785Z"
   },
   {
    "duration": 4,
    "start_time": "2023-03-14T08:44:45.843Z"
   },
   {
    "duration": 257,
    "start_time": "2023-03-14T08:44:45.848Z"
   },
   {
    "duration": 20,
    "start_time": "2023-03-14T08:44:46.107Z"
   },
   {
    "duration": 24,
    "start_time": "2023-03-14T08:44:46.128Z"
   },
   {
    "duration": 436,
    "start_time": "2023-03-14T08:44:46.154Z"
   },
   {
    "duration": 51,
    "start_time": "2023-03-14T08:44:46.592Z"
   },
   {
    "duration": 34,
    "start_time": "2023-03-14T08:44:46.645Z"
   },
   {
    "duration": 544,
    "start_time": "2023-03-14T08:44:46.681Z"
   },
   {
    "duration": 167,
    "start_time": "2023-03-14T08:44:47.227Z"
   },
   {
    "duration": 81400,
    "start_time": "2023-03-14T08:44:47.396Z"
   },
   {
    "duration": 8495,
    "start_time": "2023-03-14T08:46:08.798Z"
   },
   {
    "duration": 14,
    "start_time": "2023-03-14T08:47:06.060Z"
   },
   {
    "duration": 260,
    "start_time": "2023-03-14T08:47:06.551Z"
   },
   {
    "duration": 47,
    "start_time": "2023-03-14T08:49:16.697Z"
   },
   {
    "duration": 74,
    "start_time": "2023-03-14T08:50:08.047Z"
   },
   {
    "duration": 59,
    "start_time": "2023-03-14T08:50:32.232Z"
   },
   {
    "duration": 6,
    "start_time": "2023-03-14T08:50:34.621Z"
   },
   {
    "duration": 238,
    "start_time": "2023-03-14T08:50:40.013Z"
   },
   {
    "duration": 117,
    "start_time": "2023-03-14T08:50:45.703Z"
   },
   {
    "duration": 21440,
    "start_time": "2023-03-14T08:51:56.140Z"
   },
   {
    "duration": 8338,
    "start_time": "2023-03-14T08:52:41.151Z"
   },
   {
    "duration": 7,
    "start_time": "2023-03-14T08:53:56.102Z"
   },
   {
    "duration": 241,
    "start_time": "2023-03-14T08:53:57.001Z"
   },
   {
    "duration": 121,
    "start_time": "2023-03-14T08:54:02.148Z"
   },
   {
    "duration": 20087,
    "start_time": "2023-03-14T08:54:24.915Z"
   },
   {
    "duration": 121,
    "start_time": "2023-03-14T08:58:18.848Z"
   },
   {
    "duration": 19642,
    "start_time": "2023-03-14T08:58:32.647Z"
   },
   {
    "duration": 4386,
    "start_time": "2023-03-14T09:00:05.503Z"
   },
   {
    "duration": 8992,
    "start_time": "2023-03-14T09:09:34.235Z"
   },
   {
    "duration": 2226,
    "start_time": "2023-03-14T09:11:22.766Z"
   },
   {
    "duration": 946,
    "start_time": "2023-03-14T09:11:24.994Z"
   },
   {
    "duration": 733,
    "start_time": "2023-03-14T09:11:25.941Z"
   },
   {
    "duration": 4,
    "start_time": "2023-03-14T09:11:26.676Z"
   },
   {
    "duration": 819,
    "start_time": "2023-03-14T09:11:26.681Z"
   },
   {
    "duration": 3,
    "start_time": "2023-03-14T09:11:27.502Z"
   },
   {
    "duration": 111,
    "start_time": "2023-03-14T09:11:27.506Z"
   },
   {
    "duration": 73,
    "start_time": "2023-03-14T09:11:27.618Z"
   },
   {
    "duration": 142,
    "start_time": "2023-03-14T09:11:27.693Z"
   },
   {
    "duration": 158,
    "start_time": "2023-03-14T09:11:27.837Z"
   },
   {
    "duration": 158,
    "start_time": "2023-03-14T09:11:27.997Z"
   },
   {
    "duration": 61,
    "start_time": "2023-03-14T09:11:28.156Z"
   },
   {
    "duration": 3,
    "start_time": "2023-03-14T09:11:28.219Z"
   },
   {
    "duration": 238,
    "start_time": "2023-03-14T09:11:28.223Z"
   },
   {
    "duration": 19,
    "start_time": "2023-03-14T09:11:28.463Z"
   },
   {
    "duration": 22,
    "start_time": "2023-03-14T09:11:28.483Z"
   },
   {
    "duration": 274,
    "start_time": "2023-03-14T09:11:28.507Z"
   },
   {
    "duration": 51,
    "start_time": "2023-03-14T09:11:28.783Z"
   },
   {
    "duration": 13,
    "start_time": "2023-03-14T09:11:28.835Z"
   },
   {
    "duration": 280,
    "start_time": "2023-03-14T09:11:28.849Z"
   },
   {
    "duration": 128,
    "start_time": "2023-03-14T09:11:29.130Z"
   },
   {
    "duration": 33748,
    "start_time": "2023-03-14T09:11:29.260Z"
   },
   {
    "duration": 57622,
    "start_time": "2023-03-14T09:12:03.010Z"
   },
   {
    "duration": 5,
    "start_time": "2023-03-14T09:13:00.634Z"
   },
   {
    "duration": 8,
    "start_time": "2023-03-14T09:13:39.539Z"
   },
   {
    "duration": 10474,
    "start_time": "2023-03-14T09:15:08.695Z"
   },
   {
    "duration": 9697,
    "start_time": "2023-03-14T09:20:55.783Z"
   },
   {
    "duration": 88,
    "start_time": "2023-03-14T09:22:48.464Z"
   },
   {
    "duration": 9,
    "start_time": "2023-03-14T09:22:58.442Z"
   },
   {
    "duration": 11368483,
    "start_time": "2023-03-14T09:24:04.126Z"
   },
   {
    "duration": 101,
    "start_time": "2023-03-14T19:29:33.534Z"
   },
   {
    "duration": 6926,
    "start_time": "2023-03-14T19:29:42.404Z"
   },
   {
    "duration": 1030,
    "start_time": "2023-03-14T19:29:49.333Z"
   },
   {
    "duration": 2927,
    "start_time": "2023-03-14T19:29:50.365Z"
   },
   {
    "duration": 3,
    "start_time": "2023-03-14T19:29:53.294Z"
   },
   {
    "duration": 1070,
    "start_time": "2023-03-14T19:29:53.299Z"
   },
   {
    "duration": 4,
    "start_time": "2023-03-14T19:29:54.371Z"
   },
   {
    "duration": 139,
    "start_time": "2023-03-14T19:29:54.376Z"
   },
   {
    "duration": 90,
    "start_time": "2023-03-14T19:29:54.516Z"
   },
   {
    "duration": 192,
    "start_time": "2023-03-14T19:29:54.608Z"
   },
   {
    "duration": 178,
    "start_time": "2023-03-14T19:29:54.802Z"
   },
   {
    "duration": 185,
    "start_time": "2023-03-14T19:29:54.982Z"
   },
   {
    "duration": 76,
    "start_time": "2023-03-14T19:29:55.168Z"
   },
   {
    "duration": 4,
    "start_time": "2023-03-14T19:29:55.246Z"
   },
   {
    "duration": 253,
    "start_time": "2023-03-14T19:29:55.251Z"
   },
   {
    "duration": 32,
    "start_time": "2023-03-14T19:29:55.506Z"
   },
   {
    "duration": 18,
    "start_time": "2023-03-14T19:29:55.540Z"
   },
   {
    "duration": 279,
    "start_time": "2023-03-14T19:29:55.560Z"
   },
   {
    "duration": 70,
    "start_time": "2023-03-14T19:29:55.841Z"
   },
   {
    "duration": 27,
    "start_time": "2023-03-14T19:29:55.913Z"
   },
   {
    "duration": 323,
    "start_time": "2023-03-14T19:29:55.941Z"
   },
   {
    "duration": 150,
    "start_time": "2023-03-14T19:29:56.265Z"
   },
   {
    "duration": 31408,
    "start_time": "2023-03-14T19:29:56.423Z"
   },
   {
    "duration": 44570,
    "start_time": "2023-03-14T19:30:27.833Z"
   },
   {
    "duration": 6,
    "start_time": "2023-03-14T19:31:12.404Z"
   },
   {
    "duration": 38881,
    "start_time": "2023-03-14T19:32:49.498Z"
   },
   {
    "duration": 262070,
    "start_time": "2023-03-14T19:37:34.296Z"
   },
   {
    "duration": 65,
    "start_time": "2023-03-14T19:49:22.593Z"
   },
   {
    "duration": 73,
    "start_time": "2023-03-14T19:50:15.517Z"
   },
   {
    "duration": 20367,
    "start_time": "2023-03-14T19:50:26.476Z"
   },
   {
    "duration": 63,
    "start_time": "2023-03-14T19:50:46.845Z"
   },
   {
    "duration": 461,
    "start_time": "2023-03-14T19:57:59.709Z"
   },
   {
    "duration": 34,
    "start_time": "2023-03-14T19:58:22.806Z"
   },
   {
    "duration": 22,
    "start_time": "2023-03-14T19:58:45.596Z"
   },
   {
    "duration": 27,
    "start_time": "2023-03-14T19:58:59.084Z"
   },
   {
    "duration": 24,
    "start_time": "2023-03-14T19:59:42.759Z"
   },
   {
    "duration": 565591,
    "start_time": "2023-03-14T20:00:52.849Z"
   },
   {
    "duration": 28266,
    "start_time": "2023-03-14T20:15:32.773Z"
   },
   {
    "duration": 215557,
    "start_time": "2023-03-14T20:23:55.997Z"
   },
   {
    "duration": 55143,
    "start_time": "2023-03-14T20:31:42.299Z"
   },
   {
    "duration": 8842,
    "start_time": "2023-03-14T20:34:23.002Z"
   },
   {
    "duration": 9075,
    "start_time": "2023-03-14T20:36:23.956Z"
   },
   {
    "duration": 29,
    "start_time": "2023-03-14T20:37:16.911Z"
   },
   {
    "duration": 10017,
    "start_time": "2023-03-14T20:37:26.135Z"
   },
   {
    "duration": 57,
    "start_time": "2023-03-14T20:38:05.755Z"
   },
   {
    "duration": 433842,
    "start_time": "2023-03-14T20:38:23.191Z"
   },
   {
    "duration": 605222,
    "start_time": "2023-03-14T20:45:38.861Z"
   },
   {
    "duration": 13,
    "start_time": "2023-03-14T20:57:24.644Z"
   },
   {
    "duration": 151,
    "start_time": "2023-03-14T20:57:43.144Z"
   },
   {
    "duration": 35,
    "start_time": "2023-03-14T20:57:45.853Z"
   },
   {
    "duration": 711,
    "start_time": "2023-03-14T20:57:51.516Z"
   },
   {
    "duration": 107,
    "start_time": "2023-03-15T06:31:20.519Z"
   },
   {
    "duration": 8262,
    "start_time": "2023-03-15T06:31:26.423Z"
   },
   {
    "duration": 1189,
    "start_time": "2023-03-15T06:31:34.687Z"
   },
   {
    "duration": 2836,
    "start_time": "2023-03-15T06:31:35.877Z"
   },
   {
    "duration": 4,
    "start_time": "2023-03-15T06:31:38.715Z"
   },
   {
    "duration": 1201,
    "start_time": "2023-03-15T06:31:38.722Z"
   },
   {
    "duration": 5,
    "start_time": "2023-03-15T06:31:39.924Z"
   },
   {
    "duration": 168,
    "start_time": "2023-03-15T06:31:39.931Z"
   },
   {
    "duration": 94,
    "start_time": "2023-03-15T06:31:40.101Z"
   },
   {
    "duration": 196,
    "start_time": "2023-03-15T06:31:40.197Z"
   },
   {
    "duration": 197,
    "start_time": "2023-03-15T06:31:40.395Z"
   },
   {
    "duration": 200,
    "start_time": "2023-03-15T06:31:40.594Z"
   },
   {
    "duration": 76,
    "start_time": "2023-03-15T06:31:40.795Z"
   },
   {
    "duration": 4,
    "start_time": "2023-03-15T06:31:40.873Z"
   },
   {
    "duration": 266,
    "start_time": "2023-03-15T06:31:40.879Z"
   },
   {
    "duration": 19,
    "start_time": "2023-03-15T06:31:41.147Z"
   },
   {
    "duration": 11,
    "start_time": "2023-03-15T06:31:41.168Z"
   },
   {
    "duration": 296,
    "start_time": "2023-03-15T06:31:41.180Z"
   },
   {
    "duration": 85,
    "start_time": "2023-03-15T06:31:41.478Z"
   },
   {
    "duration": 15,
    "start_time": "2023-03-15T06:31:41.565Z"
   },
   {
    "duration": 329,
    "start_time": "2023-03-15T06:31:41.581Z"
   },
   {
    "duration": 232,
    "start_time": "2023-03-15T06:31:41.912Z"
   },
   {
    "duration": 32811,
    "start_time": "2023-03-15T06:31:42.146Z"
   },
   {
    "duration": 180592,
    "start_time": "2023-03-15T06:32:14.959Z"
   },
   {
    "duration": 212,
    "start_time": "2023-03-15T06:35:15.553Z"
   },
   {
    "duration": 43,
    "start_time": "2023-03-15T06:35:15.767Z"
   },
   {
    "duration": 730,
    "start_time": "2023-03-15T06:35:15.812Z"
   },
   {
    "duration": 181157,
    "start_time": "2023-03-15T06:37:38.595Z"
   },
   {
    "duration": 150,
    "start_time": "2023-03-15T06:43:12.106Z"
   },
   {
    "duration": 35,
    "start_time": "2023-03-15T06:43:19.390Z"
   },
   {
    "duration": 696,
    "start_time": "2023-03-15T06:43:20.354Z"
   },
   {
    "duration": 24,
    "start_time": "2023-03-15T06:44:16.481Z"
   },
   {
    "duration": 40,
    "start_time": "2023-03-15T06:45:26.323Z"
   },
   {
    "duration": 2800,
    "start_time": "2023-03-15T06:46:25.126Z"
   },
   {
    "duration": 1121,
    "start_time": "2023-03-15T06:46:27.929Z"
   },
   {
    "duration": 863,
    "start_time": "2023-03-15T06:46:29.052Z"
   },
   {
    "duration": 3,
    "start_time": "2023-03-15T06:46:29.916Z"
   },
   {
    "duration": 1156,
    "start_time": "2023-03-15T06:46:29.922Z"
   },
   {
    "duration": 5,
    "start_time": "2023-03-15T06:46:31.079Z"
   },
   {
    "duration": 173,
    "start_time": "2023-03-15T06:46:31.085Z"
   },
   {
    "duration": 86,
    "start_time": "2023-03-15T06:46:31.260Z"
   },
   {
    "duration": 181,
    "start_time": "2023-03-15T06:46:31.348Z"
   },
   {
    "duration": 174,
    "start_time": "2023-03-15T06:46:31.531Z"
   },
   {
    "duration": 197,
    "start_time": "2023-03-15T06:46:31.707Z"
   },
   {
    "duration": 75,
    "start_time": "2023-03-15T06:46:31.906Z"
   },
   {
    "duration": 4,
    "start_time": "2023-03-15T06:46:31.983Z"
   },
   {
    "duration": 269,
    "start_time": "2023-03-15T06:46:31.989Z"
   },
   {
    "duration": 18,
    "start_time": "2023-03-15T06:46:32.260Z"
   },
   {
    "duration": 40,
    "start_time": "2023-03-15T06:46:32.279Z"
   },
   {
    "duration": 278,
    "start_time": "2023-03-15T06:46:32.321Z"
   },
   {
    "duration": 76,
    "start_time": "2023-03-15T06:46:32.601Z"
   },
   {
    "duration": 13,
    "start_time": "2023-03-15T06:46:32.679Z"
   },
   {
    "duration": 295,
    "start_time": "2023-03-15T06:46:32.694Z"
   },
   {
    "duration": 148,
    "start_time": "2023-03-15T06:46:32.991Z"
   },
   {
    "duration": 30217,
    "start_time": "2023-03-15T06:46:33.141Z"
   },
   {
    "duration": 155,
    "start_time": "2023-03-15T06:47:03.360Z"
   },
   {
    "duration": 136,
    "start_time": "2023-03-15T06:47:03.517Z"
   },
   {
    "duration": 33,
    "start_time": "2023-03-15T06:47:03.655Z"
   },
   {
    "duration": 13,
    "start_time": "2023-03-15T06:47:03.690Z"
   },
   {
    "duration": 56,
    "start_time": "2023-03-15T06:48:17.023Z"
   },
   {
    "duration": 171578,
    "start_time": "2023-03-15T06:48:34.374Z"
   },
   {
    "duration": 10,
    "start_time": "2023-03-15T06:52:09.972Z"
   },
   {
    "duration": 670,
    "start_time": "2023-03-15T06:52:31.392Z"
   },
   {
    "duration": 48,
    "start_time": "2023-03-15T06:55:14.802Z"
   },
   {
    "duration": 3008,
    "start_time": "2023-03-15T07:33:45.848Z"
   },
   {
    "duration": 2293,
    "start_time": "2023-03-15T07:33:48.859Z"
   },
   {
    "duration": 1491,
    "start_time": "2023-03-15T07:33:51.154Z"
   },
   {
    "duration": 4,
    "start_time": "2023-03-15T07:33:52.648Z"
   },
   {
    "duration": 1498,
    "start_time": "2023-03-15T07:33:52.653Z"
   },
   {
    "duration": 4,
    "start_time": "2023-03-15T07:33:54.154Z"
   },
   {
    "duration": 182,
    "start_time": "2023-03-15T07:33:54.160Z"
   },
   {
    "duration": 94,
    "start_time": "2023-03-15T07:33:54.344Z"
   },
   {
    "duration": 206,
    "start_time": "2023-03-15T07:33:54.440Z"
   },
   {
    "duration": 212,
    "start_time": "2023-03-15T07:33:54.648Z"
   },
   {
    "duration": 233,
    "start_time": "2023-03-15T07:33:54.862Z"
   },
   {
    "duration": 92,
    "start_time": "2023-03-15T07:33:55.097Z"
   },
   {
    "duration": 7,
    "start_time": "2023-03-15T07:33:55.192Z"
   },
   {
    "duration": 326,
    "start_time": "2023-03-15T07:33:55.204Z"
   },
   {
    "duration": 25,
    "start_time": "2023-03-15T07:33:55.532Z"
   },
   {
    "duration": 70,
    "start_time": "2023-03-15T07:33:55.559Z"
   },
   {
    "duration": 319,
    "start_time": "2023-03-15T07:33:55.631Z"
   },
   {
    "duration": 135,
    "start_time": "2023-03-15T07:33:55.953Z"
   },
   {
    "duration": 19,
    "start_time": "2023-03-15T07:33:56.090Z"
   },
   {
    "duration": 366,
    "start_time": "2023-03-15T07:33:56.111Z"
   },
   {
    "duration": 178,
    "start_time": "2023-03-15T07:33:56.482Z"
   },
   {
    "duration": 52,
    "start_time": "2023-03-15T07:34:06.624Z"
   },
   {
    "duration": 16,
    "start_time": "2023-03-15T07:34:21.004Z"
   },
   {
    "duration": 81,
    "start_time": "2023-03-15T07:34:39.437Z"
   },
   {
    "duration": 38202,
    "start_time": "2023-03-15T07:36:56.915Z"
   },
   {
    "duration": 7,
    "start_time": "2023-03-15T07:37:40.408Z"
   },
   {
    "duration": 74,
    "start_time": "2023-03-15T13:29:20.240Z"
   },
   {
    "duration": 6490,
    "start_time": "2023-03-15T13:31:34.598Z"
   },
   {
    "duration": 1092,
    "start_time": "2023-03-15T13:31:41.090Z"
   },
   {
    "duration": 2880,
    "start_time": "2023-03-15T13:31:42.184Z"
   },
   {
    "duration": 4,
    "start_time": "2023-03-15T13:31:45.066Z"
   },
   {
    "duration": 1128,
    "start_time": "2023-03-15T13:31:45.073Z"
   },
   {
    "duration": 4,
    "start_time": "2023-03-15T13:31:46.203Z"
   },
   {
    "duration": 144,
    "start_time": "2023-03-15T13:31:46.209Z"
   },
   {
    "duration": 89,
    "start_time": "2023-03-15T13:31:46.354Z"
   },
   {
    "duration": 199,
    "start_time": "2023-03-15T13:31:46.445Z"
   },
   {
    "duration": 182,
    "start_time": "2023-03-15T13:31:46.646Z"
   },
   {
    "duration": 190,
    "start_time": "2023-03-15T13:31:46.829Z"
   },
   {
    "duration": 80,
    "start_time": "2023-03-15T13:31:47.021Z"
   },
   {
    "duration": 4,
    "start_time": "2023-03-15T13:31:47.103Z"
   },
   {
    "duration": 197,
    "start_time": "2023-03-15T13:31:47.110Z"
   },
   {
    "duration": 259,
    "start_time": "2023-03-15T13:31:47.309Z"
   },
   {
    "duration": 26,
    "start_time": "2023-03-15T13:31:47.570Z"
   },
   {
    "duration": 31,
    "start_time": "2023-03-15T13:31:47.598Z"
   },
   {
    "duration": 277,
    "start_time": "2023-03-15T13:31:47.631Z"
   },
   {
    "duration": 128,
    "start_time": "2023-03-15T13:31:47.910Z"
   },
   {
    "duration": 10,
    "start_time": "2023-03-15T13:31:48.040Z"
   },
   {
    "duration": 204,
    "start_time": "2023-03-15T13:31:48.052Z"
   },
   {
    "duration": 230,
    "start_time": "2023-03-15T13:31:48.258Z"
   },
   {
    "duration": 31537,
    "start_time": "2023-03-15T13:31:48.490Z"
   },
   {
    "duration": 26463,
    "start_time": "2023-03-15T13:32:20.030Z"
   },
   {
    "duration": 239,
    "start_time": "2023-03-15T13:32:46.494Z"
   },
   {
    "duration": 56,
    "start_time": "2023-03-15T13:32:46.734Z"
   },
   {
    "duration": 12,
    "start_time": "2023-03-15T13:32:46.792Z"
   },
   {
    "duration": 44,
    "start_time": "2023-03-15T13:33:57.441Z"
   },
   {
    "duration": 26157,
    "start_time": "2023-03-15T13:34:41.306Z"
   },
   {
    "duration": 2662,
    "start_time": "2023-03-15T13:35:21.547Z"
   },
   {
    "duration": 1034,
    "start_time": "2023-03-15T13:35:24.213Z"
   },
   {
    "duration": 849,
    "start_time": "2023-03-15T13:35:25.249Z"
   },
   {
    "duration": 4,
    "start_time": "2023-03-15T13:35:26.101Z"
   },
   {
    "duration": 1143,
    "start_time": "2023-03-15T13:35:26.107Z"
   },
   {
    "duration": 5,
    "start_time": "2023-03-15T13:35:27.251Z"
   },
   {
    "duration": 161,
    "start_time": "2023-03-15T13:35:27.258Z"
   },
   {
    "duration": 96,
    "start_time": "2023-03-15T13:35:27.421Z"
   },
   {
    "duration": 188,
    "start_time": "2023-03-15T13:35:27.518Z"
   },
   {
    "duration": 186,
    "start_time": "2023-03-15T13:35:27.709Z"
   },
   {
    "duration": 180,
    "start_time": "2023-03-15T13:35:27.897Z"
   },
   {
    "duration": 70,
    "start_time": "2023-03-15T13:35:28.079Z"
   },
   {
    "duration": 4,
    "start_time": "2023-03-15T13:35:28.151Z"
   },
   {
    "duration": 202,
    "start_time": "2023-03-15T13:35:28.156Z"
   },
   {
    "duration": 266,
    "start_time": "2023-03-15T13:35:28.360Z"
   },
   {
    "duration": 19,
    "start_time": "2023-03-15T13:35:28.627Z"
   },
   {
    "duration": 20,
    "start_time": "2023-03-15T13:35:28.648Z"
   },
   {
    "duration": 273,
    "start_time": "2023-03-15T13:35:28.669Z"
   },
   {
    "duration": 130,
    "start_time": "2023-03-15T13:35:28.944Z"
   },
   {
    "duration": 12,
    "start_time": "2023-03-15T13:35:29.076Z"
   },
   {
    "duration": 181,
    "start_time": "2023-03-15T13:35:29.090Z"
   },
   {
    "duration": 240,
    "start_time": "2023-03-15T13:35:29.273Z"
   },
   {
    "duration": 19108,
    "start_time": "2023-03-15T13:35:29.514Z"
   },
   {
    "duration": 26315,
    "start_time": "2023-03-15T13:35:48.623Z"
   },
   {
    "duration": 238,
    "start_time": "2023-03-15T13:36:14.939Z"
   },
   {
    "duration": 54,
    "start_time": "2023-03-15T13:36:15.179Z"
   },
   {
    "duration": 13,
    "start_time": "2023-03-15T13:36:15.235Z"
   },
   {
    "duration": 1308,
    "start_time": "2023-03-15T13:42:13.492Z"
   },
   {
    "duration": 2559,
    "start_time": "2023-03-15T13:43:21.448Z"
   },
   {
    "duration": 1040,
    "start_time": "2023-03-15T13:43:24.009Z"
   },
   {
    "duration": 825,
    "start_time": "2023-03-15T13:43:25.051Z"
   },
   {
    "duration": 8,
    "start_time": "2023-03-15T13:43:25.879Z"
   },
   {
    "duration": 1099,
    "start_time": "2023-03-15T13:43:25.889Z"
   },
   {
    "duration": 5,
    "start_time": "2023-03-15T13:43:26.991Z"
   },
   {
    "duration": 156,
    "start_time": "2023-03-15T13:43:26.998Z"
   },
   {
    "duration": 90,
    "start_time": "2023-03-15T13:43:27.156Z"
   },
   {
    "duration": 202,
    "start_time": "2023-03-15T13:43:27.248Z"
   },
   {
    "duration": 186,
    "start_time": "2023-03-15T13:43:27.453Z"
   },
   {
    "duration": 192,
    "start_time": "2023-03-15T13:43:27.641Z"
   },
   {
    "duration": 74,
    "start_time": "2023-03-15T13:43:27.835Z"
   },
   {
    "duration": 5,
    "start_time": "2023-03-15T13:43:27.911Z"
   },
   {
    "duration": 183,
    "start_time": "2023-03-15T13:43:27.917Z"
   },
   {
    "duration": 272,
    "start_time": "2023-03-15T13:43:28.101Z"
   },
   {
    "duration": 22,
    "start_time": "2023-03-15T13:43:28.375Z"
   },
   {
    "duration": 12,
    "start_time": "2023-03-15T13:43:28.398Z"
   },
   {
    "duration": 281,
    "start_time": "2023-03-15T13:43:28.412Z"
   },
   {
    "duration": 122,
    "start_time": "2023-03-15T13:43:28.694Z"
   },
   {
    "duration": 10,
    "start_time": "2023-03-15T13:43:28.818Z"
   },
   {
    "duration": 176,
    "start_time": "2023-03-15T13:43:28.829Z"
   },
   {
    "duration": 226,
    "start_time": "2023-03-15T13:43:29.007Z"
   },
   {
    "duration": 22188,
    "start_time": "2023-03-15T13:43:29.235Z"
   },
   {
    "duration": 1505,
    "start_time": "2023-03-15T13:43:51.425Z"
   },
   {
    "duration": 216,
    "start_time": "2023-03-15T13:43:52.932Z"
   },
   {
    "duration": 55,
    "start_time": "2023-03-15T13:43:53.149Z"
   },
   {
    "duration": 14,
    "start_time": "2023-03-15T13:43:53.206Z"
   },
   {
    "duration": 2737,
    "start_time": "2023-03-15T13:45:19.515Z"
   },
   {
    "duration": 1064,
    "start_time": "2023-03-15T13:45:22.255Z"
   },
   {
    "duration": 884,
    "start_time": "2023-03-15T13:45:23.322Z"
   },
   {
    "duration": 4,
    "start_time": "2023-03-15T13:45:24.209Z"
   },
   {
    "duration": 1148,
    "start_time": "2023-03-15T13:45:24.214Z"
   },
   {
    "duration": 4,
    "start_time": "2023-03-15T13:45:25.364Z"
   },
   {
    "duration": 172,
    "start_time": "2023-03-15T13:45:25.370Z"
   },
   {
    "duration": 90,
    "start_time": "2023-03-15T13:45:25.544Z"
   },
   {
    "duration": 202,
    "start_time": "2023-03-15T13:45:25.636Z"
   },
   {
    "duration": 192,
    "start_time": "2023-03-15T13:45:25.841Z"
   },
   {
    "duration": 177,
    "start_time": "2023-03-15T13:45:26.034Z"
   },
   {
    "duration": 62,
    "start_time": "2023-03-15T13:45:26.212Z"
   },
   {
    "duration": 11,
    "start_time": "2023-03-15T13:45:26.276Z"
   },
   {
    "duration": 184,
    "start_time": "2023-03-15T13:45:26.289Z"
   },
   {
    "duration": 276,
    "start_time": "2023-03-15T13:45:26.476Z"
   },
   {
    "duration": 22,
    "start_time": "2023-03-15T13:45:26.754Z"
   },
   {
    "duration": 14,
    "start_time": "2023-03-15T13:45:26.787Z"
   },
   {
    "duration": 290,
    "start_time": "2023-03-15T13:45:26.803Z"
   },
   {
    "duration": 103,
    "start_time": "2023-03-15T13:45:27.095Z"
   },
   {
    "duration": 8,
    "start_time": "2023-03-15T13:45:27.200Z"
   },
   {
    "duration": 482,
    "start_time": "2023-03-15T13:45:27.210Z"
   },
   {
    "duration": 112,
    "start_time": "2023-03-15T13:45:27.695Z"
   },
   {
    "duration": 35792,
    "start_time": "2023-03-15T13:45:27.808Z"
   },
   {
    "duration": 3711,
    "start_time": "2023-03-15T13:46:03.603Z"
   },
   {
    "duration": 80,
    "start_time": "2023-03-15T13:46:07.315Z"
   },
   {
    "duration": 47,
    "start_time": "2023-03-15T13:46:07.397Z"
   },
   {
    "duration": 43,
    "start_time": "2023-03-15T13:46:07.446Z"
   },
   {
    "duration": 3453,
    "start_time": "2023-03-15T13:47:46.828Z"
   },
   {
    "duration": 33,
    "start_time": "2023-03-15T13:48:53.899Z"
   },
   {
    "duration": 37,
    "start_time": "2023-03-15T13:49:22.396Z"
   },
   {
    "duration": 25,
    "start_time": "2023-03-15T13:49:28.137Z"
   },
   {
    "duration": 2734,
    "start_time": "2023-03-15T13:49:38.194Z"
   },
   {
    "duration": 994,
    "start_time": "2023-03-15T13:49:40.930Z"
   },
   {
    "duration": 797,
    "start_time": "2023-03-15T13:49:41.926Z"
   },
   {
    "duration": 3,
    "start_time": "2023-03-15T13:49:42.725Z"
   },
   {
    "duration": 1113,
    "start_time": "2023-03-15T13:49:42.731Z"
   },
   {
    "duration": 4,
    "start_time": "2023-03-15T13:49:43.846Z"
   },
   {
    "duration": 145,
    "start_time": "2023-03-15T13:49:43.851Z"
   },
   {
    "duration": 96,
    "start_time": "2023-03-15T13:49:43.998Z"
   },
   {
    "duration": 209,
    "start_time": "2023-03-15T13:49:44.096Z"
   },
   {
    "duration": 183,
    "start_time": "2023-03-15T13:49:44.307Z"
   },
   {
    "duration": 181,
    "start_time": "2023-03-15T13:49:44.493Z"
   },
   {
    "duration": 65,
    "start_time": "2023-03-15T13:49:44.676Z"
   },
   {
    "duration": 4,
    "start_time": "2023-03-15T13:49:44.743Z"
   },
   {
    "duration": 174,
    "start_time": "2023-03-15T13:49:44.749Z"
   },
   {
    "duration": 257,
    "start_time": "2023-03-15T13:49:44.925Z"
   },
   {
    "duration": 17,
    "start_time": "2023-03-15T13:49:45.186Z"
   },
   {
    "duration": 12,
    "start_time": "2023-03-15T13:49:45.205Z"
   },
   {
    "duration": 275,
    "start_time": "2023-03-15T13:49:45.219Z"
   },
   {
    "duration": 91,
    "start_time": "2023-03-15T13:49:45.496Z"
   },
   {
    "duration": 9,
    "start_time": "2023-03-15T13:49:45.589Z"
   },
   {
    "duration": 459,
    "start_time": "2023-03-15T13:49:45.599Z"
   },
   {
    "duration": 86,
    "start_time": "2023-03-15T13:49:46.060Z"
   },
   {
    "duration": 50754,
    "start_time": "2023-03-15T13:49:46.148Z"
   },
   {
    "duration": 3636,
    "start_time": "2023-03-15T13:50:36.904Z"
   },
   {
    "duration": 78,
    "start_time": "2023-03-15T13:50:40.542Z"
   },
   {
    "duration": 37,
    "start_time": "2023-03-15T13:50:40.622Z"
   },
   {
    "duration": 42,
    "start_time": "2023-03-15T13:50:40.661Z"
   },
   {
    "duration": 3614,
    "start_time": "2023-03-15T14:00:13.597Z"
   },
   {
    "duration": 17,
    "start_time": "2023-03-15T14:00:53.854Z"
   },
   {
    "duration": 3448,
    "start_time": "2023-03-15T14:19:41.319Z"
   },
   {
    "duration": 2974,
    "start_time": "2023-03-15T17:17:29.536Z"
   },
   {
    "duration": 1120,
    "start_time": "2023-03-15T17:17:32.513Z"
   },
   {
    "duration": 985,
    "start_time": "2023-03-15T17:17:33.635Z"
   },
   {
    "duration": 4,
    "start_time": "2023-03-15T17:17:34.622Z"
   },
   {
    "duration": 1273,
    "start_time": "2023-03-15T17:17:34.628Z"
   },
   {
    "duration": 9,
    "start_time": "2023-03-15T17:17:35.904Z"
   },
   {
    "duration": 152,
    "start_time": "2023-03-15T17:17:35.915Z"
   },
   {
    "duration": 105,
    "start_time": "2023-03-15T17:17:36.068Z"
   },
   {
    "duration": 241,
    "start_time": "2023-03-15T17:17:36.175Z"
   },
   {
    "duration": 196,
    "start_time": "2023-03-15T17:17:36.419Z"
   },
   {
    "duration": 193,
    "start_time": "2023-03-15T17:17:36.617Z"
   },
   {
    "duration": 65,
    "start_time": "2023-03-15T17:17:36.812Z"
   },
   {
    "duration": 7,
    "start_time": "2023-03-15T17:17:36.894Z"
   },
   {
    "duration": 180,
    "start_time": "2023-03-15T17:17:36.908Z"
   },
   {
    "duration": 281,
    "start_time": "2023-03-15T17:17:37.090Z"
   },
   {
    "duration": 26,
    "start_time": "2023-03-15T17:17:37.373Z"
   },
   {
    "duration": 17,
    "start_time": "2023-03-15T17:17:37.405Z"
   },
   {
    "duration": 308,
    "start_time": "2023-03-15T17:17:37.425Z"
   },
   {
    "duration": 107,
    "start_time": "2023-03-15T17:17:37.734Z"
   },
   {
    "duration": 10,
    "start_time": "2023-03-15T17:17:37.843Z"
   },
   {
    "duration": 512,
    "start_time": "2023-03-15T17:17:37.855Z"
   },
   {
    "duration": 142,
    "start_time": "2023-03-15T17:17:38.369Z"
   },
   {
    "duration": 45380,
    "start_time": "2023-03-15T17:17:38.513Z"
   },
   {
    "duration": 3778,
    "start_time": "2023-03-15T17:18:23.902Z"
   },
   {
    "duration": 107,
    "start_time": "2023-03-15T17:18:27.683Z"
   },
   {
    "duration": 46,
    "start_time": "2023-03-15T17:18:27.798Z"
   },
   {
    "duration": 24,
    "start_time": "2023-03-15T17:18:27.846Z"
   },
   {
    "duration": 5957,
    "start_time": "2023-03-16T07:08:31.541Z"
   },
   {
    "duration": 936,
    "start_time": "2023-03-16T07:08:37.500Z"
   },
   {
    "duration": 1045,
    "start_time": "2023-03-16T07:08:38.437Z"
   },
   {
    "duration": 3,
    "start_time": "2023-03-16T07:08:39.483Z"
   },
   {
    "duration": 809,
    "start_time": "2023-03-16T07:08:39.488Z"
   },
   {
    "duration": 4,
    "start_time": "2023-03-16T07:08:40.298Z"
   },
   {
    "duration": 116,
    "start_time": "2023-03-16T07:08:40.303Z"
   },
   {
    "duration": 69,
    "start_time": "2023-03-16T07:08:40.420Z"
   },
   {
    "duration": 144,
    "start_time": "2023-03-16T07:08:40.491Z"
   },
   {
    "duration": 187,
    "start_time": "2023-03-16T07:08:40.636Z"
   },
   {
    "duration": 187,
    "start_time": "2023-03-16T07:08:40.825Z"
   },
   {
    "duration": 76,
    "start_time": "2023-03-16T07:08:41.014Z"
   },
   {
    "duration": 6,
    "start_time": "2023-03-16T07:08:41.091Z"
   },
   {
    "duration": 157,
    "start_time": "2023-03-16T07:08:41.099Z"
   },
   {
    "duration": 249,
    "start_time": "2023-03-16T07:08:41.258Z"
   },
   {
    "duration": 18,
    "start_time": "2023-03-16T07:08:41.509Z"
   },
   {
    "duration": 15,
    "start_time": "2023-03-16T07:08:41.529Z"
   },
   {
    "duration": 280,
    "start_time": "2023-03-16T07:08:41.545Z"
   },
   {
    "duration": 62,
    "start_time": "2023-03-16T07:08:41.826Z"
   },
   {
    "duration": 8,
    "start_time": "2023-03-16T07:08:41.890Z"
   },
   {
    "duration": 421,
    "start_time": "2023-03-16T07:08:41.900Z"
   },
   {
    "duration": 74,
    "start_time": "2023-03-16T07:08:42.322Z"
   },
   {
    "duration": 46990,
    "start_time": "2023-03-16T07:08:42.398Z"
   },
   {
    "duration": 3943,
    "start_time": "2023-03-16T07:09:29.390Z"
   },
   {
    "duration": 89,
    "start_time": "2023-03-16T07:09:33.336Z"
   },
   {
    "duration": 28,
    "start_time": "2023-03-16T07:09:33.426Z"
   },
   {
    "duration": 24,
    "start_time": "2023-03-16T07:09:33.456Z"
   },
   {
    "duration": 2345,
    "start_time": "2023-03-16T07:20:53.621Z"
   },
   {
    "duration": 1134,
    "start_time": "2023-03-16T07:20:55.970Z"
   },
   {
    "duration": 744,
    "start_time": "2023-03-16T07:20:57.106Z"
   },
   {
    "duration": 4,
    "start_time": "2023-03-16T07:20:57.853Z"
   },
   {
    "duration": 846,
    "start_time": "2023-03-16T07:20:57.858Z"
   },
   {
    "duration": 4,
    "start_time": "2023-03-16T07:20:58.706Z"
   },
   {
    "duration": 115,
    "start_time": "2023-03-16T07:20:58.711Z"
   },
   {
    "duration": 69,
    "start_time": "2023-03-16T07:20:58.827Z"
   },
   {
    "duration": 145,
    "start_time": "2023-03-16T07:20:58.898Z"
   },
   {
    "duration": 171,
    "start_time": "2023-03-16T07:20:59.045Z"
   },
   {
    "duration": 166,
    "start_time": "2023-03-16T07:20:59.217Z"
   },
   {
    "duration": 58,
    "start_time": "2023-03-16T07:20:59.385Z"
   },
   {
    "duration": 5,
    "start_time": "2023-03-16T07:20:59.444Z"
   },
   {
    "duration": 72,
    "start_time": "2023-03-16T07:20:59.451Z"
   },
   {
    "duration": 197,
    "start_time": "2023-03-16T07:20:59.525Z"
   },
   {
    "duration": 16,
    "start_time": "2023-03-16T07:20:59.723Z"
   },
   {
    "duration": 13,
    "start_time": "2023-03-16T07:20:59.740Z"
   },
   {
    "duration": 316,
    "start_time": "2023-03-16T07:20:59.754Z"
   },
   {
    "duration": 53,
    "start_time": "2023-03-16T07:21:00.072Z"
   },
   {
    "duration": 16,
    "start_time": "2023-03-16T07:21:00.127Z"
   },
   {
    "duration": 520,
    "start_time": "2023-03-16T07:21:00.145Z"
   },
   {
    "duration": 131,
    "start_time": "2023-03-16T07:21:00.667Z"
   },
   {
    "duration": 54002,
    "start_time": "2023-03-16T07:21:00.799Z"
   },
   {
    "duration": 864522,
    "start_time": "2023-03-16T07:21:54.803Z"
   },
   {
    "duration": 112,
    "start_time": "2023-03-16T07:36:19.327Z"
   },
   {
    "duration": 39,
    "start_time": "2023-03-16T07:36:19.440Z"
   },
   {
    "duration": 12,
    "start_time": "2023-03-16T07:36:19.481Z"
   },
   {
    "duration": 104,
    "start_time": "2023-03-16T08:05:08.292Z"
   },
   {
    "duration": 901276,
    "start_time": "2023-03-16T08:05:24.418Z"
   },
   {
    "duration": 904273,
    "start_time": "2023-03-16T08:46:26.834Z"
   },
   {
    "duration": 883548,
    "start_time": "2023-03-16T09:08:08.827Z"
   },
   {
    "duration": 5666,
    "start_time": "2023-03-16T09:25:43.236Z"
   },
   {
    "duration": 20790827,
    "start_time": "2023-03-16T09:26:12.654Z"
   },
   {
    "duration": 4,
    "start_time": "2023-03-16T15:12:43.483Z"
   },
   {
    "duration": 53928,
    "start_time": "2023-03-16T15:57:52.357Z"
   },
   {
    "duration": 857213,
    "start_time": "2023-03-16T15:59:22.586Z"
   },
   {
    "duration": 7263,
    "start_time": "2023-03-17T03:18:17.491Z"
   },
   {
    "duration": 1179,
    "start_time": "2023-03-17T03:18:24.759Z"
   },
   {
    "duration": 1409,
    "start_time": "2023-03-17T03:18:25.940Z"
   },
   {
    "duration": 3,
    "start_time": "2023-03-17T03:18:27.351Z"
   },
   {
    "duration": 1377,
    "start_time": "2023-03-17T03:18:27.356Z"
   },
   {
    "duration": 6,
    "start_time": "2023-03-17T03:18:28.735Z"
   },
   {
    "duration": 171,
    "start_time": "2023-03-17T03:18:28.743Z"
   },
   {
    "duration": 178,
    "start_time": "2023-03-17T03:18:28.920Z"
   },
   {
    "duration": 215,
    "start_time": "2023-03-17T03:18:29.100Z"
   },
   {
    "duration": 218,
    "start_time": "2023-03-17T03:18:29.317Z"
   },
   {
    "duration": 237,
    "start_time": "2023-03-17T03:18:29.538Z"
   },
   {
    "duration": 97,
    "start_time": "2023-03-17T03:18:29.777Z"
   },
   {
    "duration": 6,
    "start_time": "2023-03-17T03:18:29.876Z"
   },
   {
    "duration": 61,
    "start_time": "2023-03-17T03:18:29.884Z"
   },
   {
    "duration": 248,
    "start_time": "2023-03-17T03:18:29.947Z"
   },
   {
    "duration": 25,
    "start_time": "2023-03-17T03:18:34.533Z"
   },
   {
    "duration": 78,
    "start_time": "2023-03-17T03:18:41.835Z"
   },
   {
    "duration": 71,
    "start_time": "2023-03-17T03:19:36.701Z"
   },
   {
    "duration": 87,
    "start_time": "2023-03-17T04:21:10.174Z"
   },
   {
    "duration": 42,
    "start_time": "2023-03-17T04:22:22.176Z"
   },
   {
    "duration": 68,
    "start_time": "2023-03-17T18:22:03.744Z"
   },
   {
    "duration": 1435,
    "start_time": "2023-03-17T18:22:26.110Z"
   },
   {
    "duration": 381,
    "start_time": "2023-03-17T18:22:32.967Z"
   },
   {
    "duration": 5,
    "start_time": "2023-03-17T18:22:42.878Z"
   },
   {
    "duration": 1911,
    "start_time": "2023-03-17T18:22:43.948Z"
   },
   {
    "duration": 3,
    "start_time": "2023-03-17T18:22:45.864Z"
   },
   {
    "duration": 2017,
    "start_time": "2023-03-17T18:22:45.869Z"
   },
   {
    "duration": 4,
    "start_time": "2023-03-17T18:22:47.889Z"
   },
   {
    "duration": 306,
    "start_time": "2023-03-17T18:22:47.904Z"
   },
   {
    "duration": 129,
    "start_time": "2023-03-17T18:22:51.731Z"
   },
   {
    "duration": 228,
    "start_time": "2023-03-17T18:22:52.641Z"
   },
   {
    "duration": 240,
    "start_time": "2023-03-17T18:22:55.018Z"
   },
   {
    "duration": 253,
    "start_time": "2023-03-17T18:22:55.950Z"
   },
   {
    "duration": 70,
    "start_time": "2023-03-17T18:22:57.037Z"
   },
   {
    "duration": 4,
    "start_time": "2023-03-17T18:22:58.878Z"
   },
   {
    "duration": 60,
    "start_time": "2023-03-17T18:22:59.884Z"
   },
   {
    "duration": 267,
    "start_time": "2023-03-17T18:23:01.665Z"
   },
   {
    "duration": 78,
    "start_time": "2023-03-17T18:23:40.384Z"
   },
   {
    "duration": 235,
    "start_time": "2023-03-17T18:23:42.363Z"
   },
   {
    "duration": 37,
    "start_time": "2023-03-17T18:23:43.750Z"
   },
   {
    "duration": 12,
    "start_time": "2023-03-17T18:23:52.248Z"
   },
   {
    "duration": 406,
    "start_time": "2023-03-17T18:23:53.316Z"
   },
   {
    "duration": 101,
    "start_time": "2023-03-17T18:23:54.421Z"
   },
   {
    "duration": 18,
    "start_time": "2023-03-17T18:23:59.019Z"
   },
   {
    "duration": 15,
    "start_time": "2023-03-17T18:23:59.856Z"
   },
   {
    "duration": 18,
    "start_time": "2023-03-17T18:24:08.220Z"
   },
   {
    "duration": 8266,
    "start_time": "2023-03-17T18:25:26.918Z"
   },
   {
    "duration": 1357,
    "start_time": "2023-03-17T18:25:35.187Z"
   },
   {
    "duration": 1186,
    "start_time": "2023-03-17T18:25:36.551Z"
   },
   {
    "duration": 4,
    "start_time": "2023-03-17T18:25:37.747Z"
   },
   {
    "duration": 1518,
    "start_time": "2023-03-17T18:25:37.760Z"
   },
   {
    "duration": 13,
    "start_time": "2023-03-17T18:25:39.281Z"
   },
   {
    "duration": 260,
    "start_time": "2023-03-17T18:25:39.295Z"
   },
   {
    "duration": 125,
    "start_time": "2023-03-17T18:25:39.557Z"
   },
   {
    "duration": 295,
    "start_time": "2023-03-17T18:25:39.683Z"
   },
   {
    "duration": 275,
    "start_time": "2023-03-17T18:25:39.981Z"
   },
   {
    "duration": 253,
    "start_time": "2023-03-17T18:25:40.260Z"
   },
   {
    "duration": 85,
    "start_time": "2023-03-17T18:25:40.526Z"
   },
   {
    "duration": 9,
    "start_time": "2023-03-17T18:25:40.613Z"
   },
   {
    "duration": 67,
    "start_time": "2023-03-17T18:25:40.627Z"
   },
   {
    "duration": 233,
    "start_time": "2023-03-17T18:25:40.700Z"
   },
   {
    "duration": 22,
    "start_time": "2023-03-17T18:25:40.939Z"
   },
   {
    "duration": 17,
    "start_time": "2023-03-17T18:25:40.963Z"
   },
   {
    "duration": 401,
    "start_time": "2023-03-17T18:25:40.982Z"
   },
   {
    "duration": 82,
    "start_time": "2023-03-17T18:25:41.386Z"
   },
   {
    "duration": 39,
    "start_time": "2023-03-17T18:25:41.470Z"
   },
   {
    "duration": 701,
    "start_time": "2023-03-17T18:25:41.521Z"
   },
   {
    "duration": 104,
    "start_time": "2023-03-17T18:25:42.226Z"
   },
   {
    "duration": 41616,
    "start_time": "2023-03-17T18:25:42.339Z"
   },
   {
    "duration": 321,
    "start_time": "2023-03-17T18:26:23.963Z"
   },
   {
    "duration": 166,
    "start_time": "2023-03-17T18:26:24.287Z"
   },
   {
    "duration": 51190,
    "start_time": "2023-03-17T18:26:24.458Z"
   },
   {
    "duration": 0,
    "start_time": "2023-03-17T18:27:15.651Z"
   },
   {
    "duration": 118,
    "start_time": "2023-03-17T18:28:18.163Z"
   },
   {
    "duration": 170,
    "start_time": "2023-03-17T18:28:22.086Z"
   },
   {
    "duration": 135,
    "start_time": "2023-03-17T18:28:24.676Z"
   },
   {
    "duration": 156,
    "start_time": "2023-03-17T18:28:41.111Z"
   },
   {
    "duration": 3368,
    "start_time": "2023-03-17T18:28:50.799Z"
   },
   {
    "duration": 1191,
    "start_time": "2023-03-17T18:28:54.169Z"
   },
   {
    "duration": 1099,
    "start_time": "2023-03-17T18:28:55.365Z"
   },
   {
    "duration": 7,
    "start_time": "2023-03-17T18:28:56.466Z"
   },
   {
    "duration": 1580,
    "start_time": "2023-03-17T18:28:56.476Z"
   },
   {
    "duration": 5,
    "start_time": "2023-03-17T18:28:58.058Z"
   },
   {
    "duration": 224,
    "start_time": "2023-03-17T18:28:58.064Z"
   },
   {
    "duration": 179,
    "start_time": "2023-03-17T18:28:58.289Z"
   },
   {
    "duration": 299,
    "start_time": "2023-03-17T18:28:58.471Z"
   },
   {
    "duration": 267,
    "start_time": "2023-03-17T18:28:58.772Z"
   },
   {
    "duration": 240,
    "start_time": "2023-03-17T18:28:59.048Z"
   },
   {
    "duration": 73,
    "start_time": "2023-03-17T18:28:59.290Z"
   },
   {
    "duration": 5,
    "start_time": "2023-03-17T18:28:59.365Z"
   },
   {
    "duration": 100,
    "start_time": "2023-03-17T18:28:59.372Z"
   },
   {
    "duration": 232,
    "start_time": "2023-03-17T18:28:59.474Z"
   },
   {
    "duration": 37,
    "start_time": "2023-03-17T18:28:59.716Z"
   },
   {
    "duration": 14,
    "start_time": "2023-03-17T18:28:59.755Z"
   },
   {
    "duration": 357,
    "start_time": "2023-03-17T18:28:59.771Z"
   },
   {
    "duration": 79,
    "start_time": "2023-03-17T18:29:00.130Z"
   },
   {
    "duration": 28,
    "start_time": "2023-03-17T18:29:00.211Z"
   },
   {
    "duration": 658,
    "start_time": "2023-03-17T18:29:00.241Z"
   },
   {
    "duration": 106,
    "start_time": "2023-03-17T18:29:00.904Z"
   },
   {
    "duration": 43449,
    "start_time": "2023-03-17T18:29:01.013Z"
   },
   {
    "duration": 303,
    "start_time": "2023-03-17T18:29:44.467Z"
   },
   {
    "duration": 142,
    "start_time": "2023-03-17T18:29:44.772Z"
   },
   {
    "duration": 499144,
    "start_time": "2023-03-17T18:29:44.916Z"
   },
   {
    "duration": 2809482,
    "start_time": "2023-03-17T18:38:04.063Z"
   },
   {
    "duration": 44991,
    "start_time": "2023-03-17T19:29:00.037Z"
   },
   {
    "duration": 110,
    "start_time": "2023-03-17T19:34:29.315Z"
   },
   {
    "duration": 48383,
    "start_time": "2023-03-17T19:35:21.132Z"
   },
   {
    "duration": 50787,
    "start_time": "2023-03-17T19:37:53.148Z"
   },
   {
    "duration": 60197,
    "start_time": "2023-03-17T19:40:16.216Z"
   },
   {
    "duration": 36,
    "start_time": "2023-03-17T19:43:42.176Z"
   },
   {
    "duration": 99,
    "start_time": "2023-03-17T19:56:12.180Z"
   }
  ],
  "kernelspec": {
   "display_name": "Python 3 (ipykernel)",
   "language": "python",
   "name": "python3"
  },
  "language_info": {
   "codemirror_mode": {
    "name": "ipython",
    "version": 3
   },
   "file_extension": ".py",
   "mimetype": "text/x-python",
   "name": "python",
   "nbconvert_exporter": "python",
   "pygments_lexer": "ipython3",
   "version": "3.9.13"
  },
  "toc": {
   "base_numbering": 1,
   "nav_menu": {},
   "number_sections": true,
   "sideBar": true,
   "skip_h1_title": true,
   "title_cell": "Table of Contents",
   "title_sidebar": "Contents",
   "toc_cell": false,
   "toc_position": {},
   "toc_section_display": true,
   "toc_window_display": true
  }
 },
 "nbformat": 4,
 "nbformat_minor": 2
}
