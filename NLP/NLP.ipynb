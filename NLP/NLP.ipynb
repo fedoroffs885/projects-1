{
 "cells": [
  {
   "cell_type": "markdown",
   "metadata": {},
   "source": [
    "# Проект для «Викишоп»"
   ]
  },
  {
   "cell_type": "markdown",
   "metadata": {},
   "source": [
    "Интернет-магазин «Викишоп» запускает новый сервис. Теперь пользователи могут редактировать и дополнять описания товаров, как в вики-сообществах. То есть клиенты предлагают свои правки и комментируют изменения других. Магазину нужен инструмент, который будет искать токсичные комментарии и отправлять их на модерацию. \n",
    "\n",
    "Обучите модель классифицировать комментарии на позитивные и негативные. В вашем распоряжении набор данных с разметкой о токсичности правок."
   ]
  },
  {
   "cell_type": "markdown",
   "metadata": {},
   "source": [
    "## Шаги исследования"
   ]
  },
  {
   "cell_type": "markdown",
   "metadata": {},
   "source": [
    "1. Подготовка данных\n",
    "2. Обучение моделей\n",
    "3. Тестирование\n",
    "4. Вывод"
   ]
  },
  {
   "cell_type": "markdown",
   "metadata": {},
   "source": [
    "## 1. Подготовка данных"
   ]
  },
  {
   "cell_type": "code",
   "execution_count": 1,
   "metadata": {},
   "outputs": [
    {
     "name": "stdout",
     "output_type": "stream",
     "text": [
      "Requirement already satisfied: spacy in /opt/conda/lib/python3.9/site-packages (3.2.0)\n",
      "Requirement already satisfied: tqdm<5.0.0,>=4.38.0 in /opt/conda/lib/python3.9/site-packages (from spacy) (4.61.2)\n",
      "Requirement already satisfied: spacy-legacy<3.1.0,>=3.0.8 in /opt/conda/lib/python3.9/site-packages (from spacy) (3.0.10)\n",
      "Requirement already satisfied: wasabi<1.1.0,>=0.8.1 in /opt/conda/lib/python3.9/site-packages (from spacy) (0.10.1)\n",
      "Requirement already satisfied: pydantic!=1.8,!=1.8.1,<1.9.0,>=1.7.4 in /opt/conda/lib/python3.9/site-packages (from spacy) (1.8.2)\n",
      "Requirement already satisfied: spacy-loggers<2.0.0,>=1.0.0 in /opt/conda/lib/python3.9/site-packages (from spacy) (1.0.3)\n",
      "Requirement already satisfied: packaging>=20.0 in /opt/conda/lib/python3.9/site-packages (from spacy) (21.3)\n",
      "Requirement already satisfied: blis<0.8.0,>=0.4.0 in /opt/conda/lib/python3.9/site-packages (from spacy) (0.7.8)\n",
      "Requirement already satisfied: murmurhash<1.1.0,>=0.28.0 in /opt/conda/lib/python3.9/site-packages (from spacy) (1.0.8)\n",
      "Requirement already satisfied: requests<3.0.0,>=2.13.0 in /opt/conda/lib/python3.9/site-packages (from spacy) (2.25.1)\n",
      "Requirement already satisfied: thinc<8.1.0,>=8.0.12 in /opt/conda/lib/python3.9/site-packages (from spacy) (8.0.17)\n",
      "Requirement already satisfied: numpy>=1.15.0 in /opt/conda/lib/python3.9/site-packages (from spacy) (1.21.1)\n",
      "Requirement already satisfied: cymem<2.1.0,>=2.0.2 in /opt/conda/lib/python3.9/site-packages (from spacy) (2.0.6)\n",
      "Requirement already satisfied: preshed<3.1.0,>=3.0.2 in /opt/conda/lib/python3.9/site-packages (from spacy) (3.0.7)\n",
      "Requirement already satisfied: jinja2 in /opt/conda/lib/python3.9/site-packages (from spacy) (3.0.1)\n",
      "Requirement already satisfied: srsly<3.0.0,>=2.4.1 in /opt/conda/lib/python3.9/site-packages (from spacy) (2.4.4)\n",
      "Requirement already satisfied: setuptools in /opt/conda/lib/python3.9/site-packages (from spacy) (49.6.0.post20210108)\n",
      "Requirement already satisfied: pathy>=0.3.5 in /opt/conda/lib/python3.9/site-packages (from spacy) (0.6.2)\n",
      "Requirement already satisfied: langcodes<4.0.0,>=3.2.0 in /opt/conda/lib/python3.9/site-packages (from spacy) (3.3.0)\n",
      "Requirement already satisfied: catalogue<2.1.0,>=2.0.6 in /opt/conda/lib/python3.9/site-packages (from spacy) (2.0.8)\n",
      "Requirement already satisfied: typer<0.5.0,>=0.3.0 in /opt/conda/lib/python3.9/site-packages (from spacy) (0.4.2)\n",
      "Requirement already satisfied: pyparsing!=3.0.5,>=2.0.2 in /opt/conda/lib/python3.9/site-packages (from packaging>=20.0->spacy) (2.4.7)\n",
      "Requirement already satisfied: smart-open<6.0.0,>=5.2.1 in /opt/conda/lib/python3.9/site-packages (from pathy>=0.3.5->spacy) (5.2.1)\n",
      "Requirement already satisfied: typing-extensions>=3.7.4.3 in /opt/conda/lib/python3.9/site-packages (from pydantic!=1.8,!=1.8.1,<1.9.0,>=1.7.4->spacy) (4.3.0)\n",
      "Requirement already satisfied: certifi>=2017.4.17 in /opt/conda/lib/python3.9/site-packages (from requests<3.0.0,>=2.13.0->spacy) (2022.6.15)\n",
      "Requirement already satisfied: urllib3<1.27,>=1.21.1 in /opt/conda/lib/python3.9/site-packages (from requests<3.0.0,>=2.13.0->spacy) (1.26.6)\n",
      "Requirement already satisfied: idna<3,>=2.5 in /opt/conda/lib/python3.9/site-packages (from requests<3.0.0,>=2.13.0->spacy) (2.10)\n",
      "Requirement already satisfied: chardet<5,>=3.0.2 in /opt/conda/lib/python3.9/site-packages (from requests<3.0.0,>=2.13.0->spacy) (4.0.0)\n",
      "Requirement already satisfied: click<9.0.0,>=7.1.1 in /opt/conda/lib/python3.9/site-packages (from typer<0.5.0,>=0.3.0->spacy) (8.1.3)\n",
      "Requirement already satisfied: MarkupSafe>=2.0 in /opt/conda/lib/python3.9/site-packages (from jinja2->spacy) (2.1.1)\n",
      "\u001b[38;5;3m⚠ As of spaCy v3.0, shortcuts like 'en' are deprecated. Please use the\n",
      "full pipeline package name 'en_core_web_sm' instead.\u001b[0m\n",
      "Collecting en-core-web-sm==3.2.0\n",
      "  Downloading https://github.com/explosion/spacy-models/releases/download/en_core_web_sm-3.2.0/en_core_web_sm-3.2.0-py3-none-any.whl (13.9 MB)\n",
      "\u001b[K     |████████████████████████████████| 13.9 MB 13.3 MB/s eta 0:00:01     |███████████████████████████▋    | 12.0 MB 13.3 MB/s eta 0:00:01\n",
      "\u001b[?25hRequirement already satisfied: spacy<3.3.0,>=3.2.0 in /opt/conda/lib/python3.9/site-packages (from en-core-web-sm==3.2.0) (3.2.0)\n",
      "Requirement already satisfied: langcodes<4.0.0,>=3.2.0 in /opt/conda/lib/python3.9/site-packages (from spacy<3.3.0,>=3.2.0->en-core-web-sm==3.2.0) (3.3.0)\n",
      "Requirement already satisfied: srsly<3.0.0,>=2.4.1 in /opt/conda/lib/python3.9/site-packages (from spacy<3.3.0,>=3.2.0->en-core-web-sm==3.2.0) (2.4.4)\n",
      "Requirement already satisfied: wasabi<1.1.0,>=0.8.1 in /opt/conda/lib/python3.9/site-packages (from spacy<3.3.0,>=3.2.0->en-core-web-sm==3.2.0) (0.10.1)\n",
      "Requirement already satisfied: packaging>=20.0 in /opt/conda/lib/python3.9/site-packages (from spacy<3.3.0,>=3.2.0->en-core-web-sm==3.2.0) (21.3)\n",
      "Requirement already satisfied: spacy-loggers<2.0.0,>=1.0.0 in /opt/conda/lib/python3.9/site-packages (from spacy<3.3.0,>=3.2.0->en-core-web-sm==3.2.0) (1.0.3)\n",
      "Requirement already satisfied: requests<3.0.0,>=2.13.0 in /opt/conda/lib/python3.9/site-packages (from spacy<3.3.0,>=3.2.0->en-core-web-sm==3.2.0) (2.25.1)\n",
      "Requirement already satisfied: jinja2 in /opt/conda/lib/python3.9/site-packages (from spacy<3.3.0,>=3.2.0->en-core-web-sm==3.2.0) (3.0.1)\n",
      "Requirement already satisfied: thinc<8.1.0,>=8.0.12 in /opt/conda/lib/python3.9/site-packages (from spacy<3.3.0,>=3.2.0->en-core-web-sm==3.2.0) (8.0.17)\n",
      "Requirement already satisfied: catalogue<2.1.0,>=2.0.6 in /opt/conda/lib/python3.9/site-packages (from spacy<3.3.0,>=3.2.0->en-core-web-sm==3.2.0) (2.0.8)\n",
      "Requirement already satisfied: setuptools in /opt/conda/lib/python3.9/site-packages (from spacy<3.3.0,>=3.2.0->en-core-web-sm==3.2.0) (49.6.0.post20210108)\n",
      "Requirement already satisfied: blis<0.8.0,>=0.4.0 in /opt/conda/lib/python3.9/site-packages (from spacy<3.3.0,>=3.2.0->en-core-web-sm==3.2.0) (0.7.8)\n",
      "Requirement already satisfied: murmurhash<1.1.0,>=0.28.0 in /opt/conda/lib/python3.9/site-packages (from spacy<3.3.0,>=3.2.0->en-core-web-sm==3.2.0) (1.0.8)\n",
      "Requirement already satisfied: spacy-legacy<3.1.0,>=3.0.8 in /opt/conda/lib/python3.9/site-packages (from spacy<3.3.0,>=3.2.0->en-core-web-sm==3.2.0) (3.0.10)\n",
      "Requirement already satisfied: pydantic!=1.8,!=1.8.1,<1.9.0,>=1.7.4 in /opt/conda/lib/python3.9/site-packages (from spacy<3.3.0,>=3.2.0->en-core-web-sm==3.2.0) (1.8.2)\n",
      "Requirement already satisfied: numpy>=1.15.0 in /opt/conda/lib/python3.9/site-packages (from spacy<3.3.0,>=3.2.0->en-core-web-sm==3.2.0) (1.21.1)\n",
      "Requirement already satisfied: tqdm<5.0.0,>=4.38.0 in /opt/conda/lib/python3.9/site-packages (from spacy<3.3.0,>=3.2.0->en-core-web-sm==3.2.0) (4.61.2)\n",
      "Requirement already satisfied: cymem<2.1.0,>=2.0.2 in /opt/conda/lib/python3.9/site-packages (from spacy<3.3.0,>=3.2.0->en-core-web-sm==3.2.0) (2.0.6)\n",
      "Requirement already satisfied: preshed<3.1.0,>=3.0.2 in /opt/conda/lib/python3.9/site-packages (from spacy<3.3.0,>=3.2.0->en-core-web-sm==3.2.0) (3.0.7)\n",
      "Requirement already satisfied: pathy>=0.3.5 in /opt/conda/lib/python3.9/site-packages (from spacy<3.3.0,>=3.2.0->en-core-web-sm==3.2.0) (0.6.2)\n",
      "Requirement already satisfied: typer<0.5.0,>=0.3.0 in /opt/conda/lib/python3.9/site-packages (from spacy<3.3.0,>=3.2.0->en-core-web-sm==3.2.0) (0.4.2)\n",
      "Requirement already satisfied: pyparsing!=3.0.5,>=2.0.2 in /opt/conda/lib/python3.9/site-packages (from packaging>=20.0->spacy<3.3.0,>=3.2.0->en-core-web-sm==3.2.0) (2.4.7)\n",
      "Requirement already satisfied: smart-open<6.0.0,>=5.2.1 in /opt/conda/lib/python3.9/site-packages (from pathy>=0.3.5->spacy<3.3.0,>=3.2.0->en-core-web-sm==3.2.0) (5.2.1)\n",
      "Requirement already satisfied: typing-extensions>=3.7.4.3 in /opt/conda/lib/python3.9/site-packages (from pydantic!=1.8,!=1.8.1,<1.9.0,>=1.7.4->spacy<3.3.0,>=3.2.0->en-core-web-sm==3.2.0) (4.3.0)\n",
      "Requirement already satisfied: certifi>=2017.4.17 in /opt/conda/lib/python3.9/site-packages (from requests<3.0.0,>=2.13.0->spacy<3.3.0,>=3.2.0->en-core-web-sm==3.2.0) (2022.6.15)\n",
      "Requirement already satisfied: idna<3,>=2.5 in /opt/conda/lib/python3.9/site-packages (from requests<3.0.0,>=2.13.0->spacy<3.3.0,>=3.2.0->en-core-web-sm==3.2.0) (2.10)\n",
      "Requirement already satisfied: urllib3<1.27,>=1.21.1 in /opt/conda/lib/python3.9/site-packages (from requests<3.0.0,>=2.13.0->spacy<3.3.0,>=3.2.0->en-core-web-sm==3.2.0) (1.26.6)\n",
      "Requirement already satisfied: chardet<5,>=3.0.2 in /opt/conda/lib/python3.9/site-packages (from requests<3.0.0,>=2.13.0->spacy<3.3.0,>=3.2.0->en-core-web-sm==3.2.0) (4.0.0)\n",
      "Requirement already satisfied: click<9.0.0,>=7.1.1 in /opt/conda/lib/python3.9/site-packages (from typer<0.5.0,>=0.3.0->spacy<3.3.0,>=3.2.0->en-core-web-sm==3.2.0) (8.1.3)\n",
      "Requirement already satisfied: MarkupSafe>=2.0 in /opt/conda/lib/python3.9/site-packages (from jinja2->spacy<3.3.0,>=3.2.0->en-core-web-sm==3.2.0) (2.1.1)\n",
      "\u001b[38;5;2m✔ Download and installation successful\u001b[0m\n",
      "You can now load the package via spacy.load('en_core_web_sm')\n"
     ]
    }
   ],
   "source": [
    "import sys\n",
    "!{sys.executable} -m pip install spacy\n",
    "# Download spaCy's  'en' Model\n",
    "!{sys.executable} -m spacy download en"
   ]
  },
  {
   "cell_type": "code",
   "execution_count": 2,
   "metadata": {
    "scrolled": true
   },
   "outputs": [
    {
     "name": "stderr",
     "output_type": "stream",
     "text": [
      "[nltk_data] Downloading package stopwords to /home/jovyan/nltk_data...\n",
      "[nltk_data]   Package stopwords is already up-to-date!\n"
     ]
    }
   ],
   "source": [
    "import pandas as pd\n",
    "import numpy as np\n",
    "import re\n",
    "\n",
    "from sklearn.linear_model import LogisticRegression\n",
    "from sklearn.tree import DecisionTreeClassifier\n",
    "\n",
    "from sklearn.metrics import accuracy_score, f1_score\n",
    "from sklearn.model_selection import (\n",
    "    train_test_split, \n",
    "    cross_val_score, \n",
    "    GridSearchCV\n",
    ")\n",
    "\n",
    "from nltk.corpus import stopwords as nltk_stopwords\n",
    "from sklearn.feature_extraction.text import CountVectorizer\n",
    "from sklearn.feature_extraction.text import TfidfVectorizer\n",
    "import nltk\n",
    "\n",
    "import spacy\n",
    "from pymystem3 import Mystem\n",
    "\n",
    "import warnings \n",
    "warnings.filterwarnings('ignore')\n",
    "\n",
    "\n",
    "nltk.download('stopwords') \n",
    "m = Mystem()\n",
    "\n",
    "\n",
    "RANDOM_STATE = 12345"
   ]
  },
  {
   "cell_type": "code",
   "execution_count": 3,
   "metadata": {},
   "outputs": [
    {
     "name": "stdout",
     "output_type": "stream",
     "text": [
      "<class 'pandas.core.frame.DataFrame'>\n",
      "RangeIndex: 159292 entries, 0 to 159291\n",
      "Data columns (total 3 columns):\n",
      " #   Column      Non-Null Count   Dtype \n",
      "---  ------      --------------   ----- \n",
      " 0   Unnamed: 0  159292 non-null  int64 \n",
      " 1   text        159292 non-null  object\n",
      " 2   toxic       159292 non-null  int64 \n",
      "dtypes: int64(2), object(1)\n",
      "memory usage: 3.6+ MB\n"
     ]
    }
   ],
   "source": [
    "data = pd.read_csv('/datasets/toxic_comments.csv')\n",
    "data.info()"
   ]
  },
  {
   "cell_type": "code",
   "execution_count": 4,
   "metadata": {},
   "outputs": [
    {
     "data": {
      "text/html": [
       "<div>\n",
       "<style scoped>\n",
       "    .dataframe tbody tr th:only-of-type {\n",
       "        vertical-align: middle;\n",
       "    }\n",
       "\n",
       "    .dataframe tbody tr th {\n",
       "        vertical-align: top;\n",
       "    }\n",
       "\n",
       "    .dataframe thead th {\n",
       "        text-align: right;\n",
       "    }\n",
       "</style>\n",
       "<table border=\"1\" class=\"dataframe\">\n",
       "  <thead>\n",
       "    <tr style=\"text-align: right;\">\n",
       "      <th></th>\n",
       "      <th>text</th>\n",
       "      <th>toxic</th>\n",
       "    </tr>\n",
       "  </thead>\n",
       "  <tbody>\n",
       "    <tr>\n",
       "      <th>0</th>\n",
       "      <td>Explanation\\nWhy the edits made under my usern...</td>\n",
       "      <td>0</td>\n",
       "    </tr>\n",
       "    <tr>\n",
       "      <th>1</th>\n",
       "      <td>D'aww! He matches this background colour I'm s...</td>\n",
       "      <td>0</td>\n",
       "    </tr>\n",
       "    <tr>\n",
       "      <th>2</th>\n",
       "      <td>Hey man, I'm really not trying to edit war. It...</td>\n",
       "      <td>0</td>\n",
       "    </tr>\n",
       "    <tr>\n",
       "      <th>3</th>\n",
       "      <td>\"\\nMore\\nI can't make any real suggestions on ...</td>\n",
       "      <td>0</td>\n",
       "    </tr>\n",
       "    <tr>\n",
       "      <th>4</th>\n",
       "      <td>You, sir, are my hero. Any chance you remember...</td>\n",
       "      <td>0</td>\n",
       "    </tr>\n",
       "    <tr>\n",
       "      <th>...</th>\n",
       "      <td>...</td>\n",
       "      <td>...</td>\n",
       "    </tr>\n",
       "    <tr>\n",
       "      <th>159287</th>\n",
       "      <td>\":::::And for the second time of asking, when ...</td>\n",
       "      <td>0</td>\n",
       "    </tr>\n",
       "    <tr>\n",
       "      <th>159288</th>\n",
       "      <td>You should be ashamed of yourself \\n\\nThat is ...</td>\n",
       "      <td>0</td>\n",
       "    </tr>\n",
       "    <tr>\n",
       "      <th>159289</th>\n",
       "      <td>Spitzer \\n\\nUmm, theres no actual article for ...</td>\n",
       "      <td>0</td>\n",
       "    </tr>\n",
       "    <tr>\n",
       "      <th>159290</th>\n",
       "      <td>And it looks like it was actually you who put ...</td>\n",
       "      <td>0</td>\n",
       "    </tr>\n",
       "    <tr>\n",
       "      <th>159291</th>\n",
       "      <td>\"\\nAnd ... I really don't think you understand...</td>\n",
       "      <td>0</td>\n",
       "    </tr>\n",
       "  </tbody>\n",
       "</table>\n",
       "<p>159292 rows × 2 columns</p>\n",
       "</div>"
      ],
      "text/plain": [
       "                                                     text  toxic\n",
       "0       Explanation\\nWhy the edits made under my usern...      0\n",
       "1       D'aww! He matches this background colour I'm s...      0\n",
       "2       Hey man, I'm really not trying to edit war. It...      0\n",
       "3       \"\\nMore\\nI can't make any real suggestions on ...      0\n",
       "4       You, sir, are my hero. Any chance you remember...      0\n",
       "...                                                   ...    ...\n",
       "159287  \":::::And for the second time of asking, when ...      0\n",
       "159288  You should be ashamed of yourself \\n\\nThat is ...      0\n",
       "159289  Spitzer \\n\\nUmm, theres no actual article for ...      0\n",
       "159290  And it looks like it was actually you who put ...      0\n",
       "159291  \"\\nAnd ... I really don't think you understand...      0\n",
       "\n",
       "[159292 rows x 2 columns]"
      ]
     },
     "execution_count": 4,
     "metadata": {},
     "output_type": "execute_result"
    }
   ],
   "source": [
    "data = data.drop('Unnamed: 0', axis=1)\n",
    "data"
   ]
  },
  {
   "cell_type": "code",
   "execution_count": 5,
   "metadata": {},
   "outputs": [
    {
     "data": {
      "text/plain": [
       "0    143106\n",
       "1     16186\n",
       "Name: toxic, dtype: int64"
      ]
     },
     "metadata": {},
     "output_type": "display_data"
    },
    {
     "name": "stdout",
     "output_type": "stream",
     "text": [
      "Отношение класса 0 (нетоксичных комментариев) к классу 1 (токсичным комментариям): 8.84\n"
     ]
    }
   ],
   "source": [
    "display(data['toxic'].value_counts())\n",
    "\n",
    "print(\"Отношение класса 0 (нетоксичных комментариев) к классу 1 (токсичным комментариям):\", \n",
    "      round(data['toxic'].value_counts()[0] / data['toxic'].value_counts()[1], 2))"
   ]
  },
  {
   "cell_type": "code",
   "execution_count": 6,
   "metadata": {},
   "outputs": [
    {
     "name": "stdout",
     "output_type": "stream",
     "text": [
      "CPU times: user 16min 53s, sys: 2.59 s, total: 16min 55s\n",
      "Wall time: 17min 2s\n"
     ]
    },
    {
     "data": {
      "text/html": [
       "<div>\n",
       "<style scoped>\n",
       "    .dataframe tbody tr th:only-of-type {\n",
       "        vertical-align: middle;\n",
       "    }\n",
       "\n",
       "    .dataframe tbody tr th {\n",
       "        vertical-align: top;\n",
       "    }\n",
       "\n",
       "    .dataframe thead th {\n",
       "        text-align: right;\n",
       "    }\n",
       "</style>\n",
       "<table border=\"1\" class=\"dataframe\">\n",
       "  <thead>\n",
       "    <tr style=\"text-align: right;\">\n",
       "      <th></th>\n",
       "      <th>toxic</th>\n",
       "      <th>lemm_text</th>\n",
       "    </tr>\n",
       "  </thead>\n",
       "  <tbody>\n",
       "    <tr>\n",
       "      <th>0</th>\n",
       "      <td>0</td>\n",
       "      <td>explanation why the edit make under my usernam...</td>\n",
       "    </tr>\n",
       "    <tr>\n",
       "      <th>1</th>\n",
       "      <td>0</td>\n",
       "      <td>d aww he match this background colour I be see...</td>\n",
       "    </tr>\n",
       "    <tr>\n",
       "      <th>2</th>\n",
       "      <td>0</td>\n",
       "      <td>hey man I be really not try to edit war it be ...</td>\n",
       "    </tr>\n",
       "    <tr>\n",
       "      <th>3</th>\n",
       "      <td>0</td>\n",
       "      <td>more I can not make any real suggestion on imp...</td>\n",
       "    </tr>\n",
       "    <tr>\n",
       "      <th>4</th>\n",
       "      <td>0</td>\n",
       "      <td>you sir be my hero any chance you remember wha...</td>\n",
       "    </tr>\n",
       "  </tbody>\n",
       "</table>\n",
       "</div>"
      ],
      "text/plain": [
       "   toxic                                          lemm_text\n",
       "0      0  explanation why the edit make under my usernam...\n",
       "1      0  d aww he match this background colour I be see...\n",
       "2      0  hey man I be really not try to edit war it be ...\n",
       "3      0  more I can not make any real suggestion on imp...\n",
       "4      0  you sir be my hero any chance you remember wha..."
      ]
     },
     "execution_count": 6,
     "metadata": {},
     "output_type": "execute_result"
    }
   ],
   "source": [
    "%%time\n",
    "\n",
    "nlp = spacy.load('en_core_web_sm', disable=['parser', 'ner'])\n",
    "\n",
    "\n",
    "def lemmatize_text(text):\n",
    "    text = text.lower()\n",
    "    doc = nlp(text)\n",
    "    lemm_text = \" \".join([token.lemma_ for token in doc])\n",
    "    cleared_text = re.sub(r'[^a-zA-Z]', ' ', lemm_text) \n",
    "    return \" \".join(cleared_text.split())\n",
    "\n",
    "data['lemm_text'] = data['text'].apply(lemmatize_text)\n",
    "\n",
    "data = data.drop(['text'], axis=1) # Удалили колонку 'text' за ненадобностью\n",
    "\n",
    "data.head()"
   ]
  },
  {
   "cell_type": "code",
   "execution_count": 7,
   "metadata": {},
   "outputs": [],
   "source": [
    "# Разбиваем выборку на обучающую и тестовую\n",
    "target = data['toxic']\n",
    "features = data.drop(['toxic'], axis=1)\n",
    "\n",
    "features_train, features_test, target_train, target_test = train_test_split(features, \n",
    "                                                                              target, \n",
    "                                                                              test_size=0.2, \n",
    "                                                                              random_state=RANDOM_STATE)"
   ]
  },
  {
   "cell_type": "markdown",
   "metadata": {},
   "source": [
    "<font color='blue'><b>Комментарий ревьюера: </b></font> ✔️\\\n",
    "<font color='green'> Здорово , что у нас есть выборка для тестов!</font>"
   ]
  },
  {
   "cell_type": "code",
   "execution_count": 8,
   "metadata": {},
   "outputs": [
    {
     "name": "stderr",
     "output_type": "stream",
     "text": [
      "[nltk_data] Downloading package stopwords to /home/jovyan/nltk_data...\n",
      "[nltk_data]   Package stopwords is already up-to-date!\n"
     ]
    },
    {
     "name": "stdout",
     "output_type": "stream",
     "text": [
      "(127433, 133938)\n",
      "(31859, 133938)\n"
     ]
    }
   ],
   "source": [
    "nltk.download('stopwords')\n",
    "stopwords = set(nltk_stopwords.words('english'))\n",
    "\n",
    "count_tf_idf = TfidfVectorizer(stop_words=stopwords)\n",
    "\n",
    "features_train = count_tf_idf.fit_transform(features_train['lemm_text'].values)\n",
    "features_test = count_tf_idf.transform(features_test['lemm_text'].values)\n",
    "print(features_train.shape)\n",
    "print(features_test.shape)\n",
    "cv_counts = 3"
   ]
  },
  {
   "cell_type": "code",
   "execution_count": 9,
   "metadata": {},
   "outputs": [
    {
     "name": "stdout",
     "output_type": "stream",
     "text": [
      "F1 на CV 0.71\n",
      "CPU times: user 52.9 s, sys: 1min 9s, total: 2min 2s\n",
      "Wall time: 2min 2s\n"
     ]
    }
   ],
   "source": [
    "%%time\n",
    "\n",
    "classificator = LogisticRegression()\n",
    "train_f1 = cross_val_score(classificator, \n",
    "                      features_train, \n",
    "                      target_train, \n",
    "                      cv=cv_counts, \n",
    "                      scoring='f1').mean()\n",
    "print('F1 на CV', round(train_f1, 2))"
   ]
  },
  {
   "cell_type": "markdown",
   "metadata": {},
   "source": [
    "Значение `метрики F1` на кросс-валидации маленькое - **0.71**. Нужно сбалансировать классы."
   ]
  },
  {
   "cell_type": "markdown",
   "metadata": {},
   "source": [
    "Поменяем **веса классов**."
   ]
  },
  {
   "cell_type": "code",
   "execution_count": 10,
   "metadata": {},
   "outputs": [
    {
     "name": "stdout",
     "output_type": "stream",
     "text": [
      "F1 на CV со взвешиванием классов: 0.75\n",
      "CPU times: user 52.8 s, sys: 1min 11s, total: 2min 3s\n",
      "Wall time: 2min 4s\n"
     ]
    }
   ],
   "source": [
    "%%time\n",
    "\n",
    "classificator = LogisticRegression(class_weight='balanced') \n",
    "train_f1_balanced = cross_val_score(classificator, \n",
    "                      features_train, \n",
    "                      target_train, \n",
    "                      cv=cv_counts, \n",
    "                      scoring='f1').mean()\n",
    "print('F1 на CV со взвешиванием классов:', round(train_f1_balanced, 2))"
   ]
  },
  {
   "cell_type": "markdown",
   "metadata": {},
   "source": [
    "Со взвешиванием классов значение `метрики F1` получилось равным **0.75**. Результат улучшился."
   ]
  },
  {
   "cell_type": "markdown",
   "metadata": {},
   "source": [
    "## 2. Обучение моделей"
   ]
  },
  {
   "cell_type": "markdown",
   "metadata": {},
   "source": [
    "Обучим модели:\n",
    "1. **LogisticRegression**\n",
    "2. **DecisionTreeClassifier**"
   ]
  },
  {
   "cell_type": "code",
   "execution_count": 11,
   "metadata": {},
   "outputs": [
    {
     "name": "stdout",
     "output_type": "stream",
     "text": [
      "Лучшее значение метрики F1: 0.76\n",
      "Лучшие параметры: {'C': 10, 'solver': 'newton-cg'}\n",
      "CPU times: user 4min 4s, sys: 5min 49s, total: 9min 53s\n",
      "Wall time: 9min 56s\n"
     ]
    }
   ],
   "source": [
    "%%time\n",
    "\n",
    "classificator = LogisticRegression(class_weight='balanced')\n",
    "hyperparams = [{'solver':['newton-cg', 'lbfgs', 'liblinear'],\n",
    "                'C':[0.1, 1, 10]}]\n",
    "\n",
    "clf = GridSearchCV(classificator, hyperparams, scoring='f1',cv=cv_counts)\n",
    "clf.fit(features_train, target_train)\n",
    "\n",
    "print(\"Лучшее значение метрики F1:\", round(clf.best_score_, 2))\n",
    "print(\"Лучшие параметры:\", clf.best_params_)"
   ]
  },
  {
   "cell_type": "code",
   "execution_count": 12,
   "metadata": {
    "scrolled": true
   },
   "outputs": [
    {
     "name": "stdout",
     "output_type": "stream",
     "text": [
      "Лучшее значение метрики F1: 0.71\n",
      "Лучшие параметры: {'max_depth': 50}\n",
      "CPU times: user 12min 39s, sys: 0 ns, total: 12min 39s\n",
      "Wall time: 12min 53s\n"
     ]
    }
   ],
   "source": [
    "%%time\n",
    "\n",
    "classificator_dtc = DecisionTreeClassifier()\n",
    "hyperparams = [{'max_depth':[x for x in range(30,51,2)]}]\n",
    "\n",
    "clf_dtc = GridSearchCV(classificator_dtc, hyperparams, scoring='f1',cv=cv_counts)\n",
    "clf_dtc.fit(features_train, target_train)\n",
    "\n",
    "print(\"Лучшее значение метрики F1:\", round(clf_dtc.best_score_, 2))\n",
    "print(\"Лучшие параметры:\", clf_dtc.best_params_)"
   ]
  },
  {
   "cell_type": "markdown",
   "metadata": {},
   "source": [
    "## 3. Тестирование"
   ]
  },
  {
   "cell_type": "markdown",
   "metadata": {},
   "source": [
    "Лучше всего себя проявила модель логистической регрессии - **LogisticRegression**. Проверим ее качество на тестовой выборке."
   ]
  },
  {
   "cell_type": "code",
   "execution_count": 13,
   "metadata": {
    "scrolled": true
   },
   "outputs": [
    {
     "name": "stdout",
     "output_type": "stream",
     "text": [
      "Значение F1 на тестовой выборке: 0.77\n"
     ]
    }
   ],
   "source": [
    "predict_test = clf.best_estimator_.predict(features_test)\n",
    "print('Значение F1 на тестовой выборке:', round(f1_score(target_test, predict_test), 2))"
   ]
  },
  {
   "cell_type": "markdown",
   "metadata": {},
   "source": [
    "## Выводы"
   ]
  },
  {
   "cell_type": "markdown",
   "metadata": {},
   "source": [
    "1. Выгрузили данные.\n",
    "2. Выявили дисбаланс классов, учли его при обучении моделей.\n",
    "3. Обучили **LogisticRegression** и **DecisionTreeClassifier**. Лучше всего себя проявила логистическая регрессия.\n",
    "4. Проверили ее качество на тестовой выборке - `F1-мера = 0.77`, что удовлетворяет поставленным требованиям."
   ]
  }
 ],
 "metadata": {
  "ExecuteTimeLog": [
   {
    "duration": 1560,
    "start_time": "2023-03-30T21:34:59.264Z"
   },
   {
    "duration": 144,
    "start_time": "2023-03-30T21:35:00.827Z"
   },
   {
    "duration": 1639,
    "start_time": "2023-03-30T21:36:01.362Z"
   },
   {
    "duration": 4658,
    "start_time": "2023-03-30T21:36:03.004Z"
   },
   {
    "duration": 19,
    "start_time": "2023-03-30T21:39:08.340Z"
   },
   {
    "duration": 1534,
    "start_time": "2023-03-30T22:10:20.760Z"
   },
   {
    "duration": 907,
    "start_time": "2023-03-30T22:10:22.297Z"
   },
   {
    "duration": 32,
    "start_time": "2023-03-30T22:10:23.207Z"
   },
   {
    "duration": 2,
    "start_time": "2023-03-30T22:10:23.241Z"
   },
   {
    "duration": 86,
    "start_time": "2023-03-30T22:10:23.245Z"
   },
   {
    "duration": 2093,
    "start_time": "2023-03-30T22:10:23.333Z"
   },
   {
    "duration": 139,
    "start_time": "2023-03-30T22:10:25.428Z"
   },
   {
    "duration": 0,
    "start_time": "2023-03-30T22:10:25.568Z"
   },
   {
    "duration": 0,
    "start_time": "2023-03-30T22:10:25.570Z"
   },
   {
    "duration": 28,
    "start_time": "2023-03-30T22:11:40.693Z"
   },
   {
    "duration": 1600,
    "start_time": "2023-03-30T22:12:22.935Z"
   },
   {
    "duration": 946,
    "start_time": "2023-03-30T22:12:24.537Z"
   },
   {
    "duration": 32,
    "start_time": "2023-03-30T22:12:25.485Z"
   },
   {
    "duration": 3,
    "start_time": "2023-03-30T22:12:25.519Z"
   },
   {
    "duration": 77,
    "start_time": "2023-03-30T22:12:25.524Z"
   },
   {
    "duration": 1520,
    "start_time": "2023-03-30T22:12:47.853Z"
   },
   {
    "duration": 4541,
    "start_time": "2023-03-30T22:12:49.379Z"
   },
   {
    "duration": 26,
    "start_time": "2023-03-30T22:12:53.921Z"
   },
   {
    "duration": 3,
    "start_time": "2023-03-30T22:12:53.949Z"
   },
   {
    "duration": 56,
    "start_time": "2023-03-30T22:12:53.954Z"
   },
   {
    "duration": 1592,
    "start_time": "2023-03-30T22:17:59.423Z"
   },
   {
    "duration": 4236,
    "start_time": "2023-03-30T22:18:01.017Z"
   },
   {
    "duration": 40,
    "start_time": "2023-03-30T22:18:05.258Z"
   },
   {
    "duration": 3,
    "start_time": "2023-03-30T22:18:05.300Z"
   },
   {
    "duration": 59,
    "start_time": "2023-03-30T22:18:05.306Z"
   },
   {
    "duration": 1579,
    "start_time": "2023-03-30T22:18:37.128Z"
   },
   {
    "duration": 4321,
    "start_time": "2023-03-30T22:18:38.709Z"
   },
   {
    "duration": 28,
    "start_time": "2023-03-30T22:18:43.032Z"
   },
   {
    "duration": 3,
    "start_time": "2023-03-30T22:18:43.062Z"
   },
   {
    "duration": 53,
    "start_time": "2023-03-30T22:18:43.067Z"
   },
   {
    "duration": 1503,
    "start_time": "2023-03-31T08:42:40.088Z"
   },
   {
    "duration": 2614,
    "start_time": "2023-03-31T08:42:41.593Z"
   },
   {
    "duration": 22,
    "start_time": "2023-03-31T08:42:44.209Z"
   },
   {
    "duration": 5,
    "start_time": "2023-03-31T08:42:44.233Z"
   },
   {
    "duration": 43,
    "start_time": "2023-03-31T08:42:44.240Z"
   },
   {
    "duration": 1471,
    "start_time": "2023-03-31T08:47:36.693Z"
   },
   {
    "duration": 2600,
    "start_time": "2023-03-31T08:47:38.165Z"
   },
   {
    "duration": 32,
    "start_time": "2023-03-31T08:47:40.766Z"
   },
   {
    "duration": 3,
    "start_time": "2023-03-31T08:47:40.799Z"
   },
   {
    "duration": 27,
    "start_time": "2023-03-31T08:47:40.804Z"
   },
   {
    "duration": 1554,
    "start_time": "2023-03-31T10:33:44.043Z"
   },
   {
    "duration": 3066,
    "start_time": "2023-03-31T10:33:45.600Z"
   },
   {
    "duration": 39,
    "start_time": "2023-03-31T10:33:48.667Z"
   },
   {
    "duration": 12,
    "start_time": "2023-03-31T10:33:48.708Z"
   },
   {
    "duration": 1908,
    "start_time": "2023-03-31T10:33:48.722Z"
   },
   {
    "duration": 1602,
    "start_time": "2023-03-31T10:34:12.397Z"
   },
   {
    "duration": 990,
    "start_time": "2023-03-31T10:34:14.002Z"
   },
   {
    "duration": 21,
    "start_time": "2023-03-31T10:34:14.999Z"
   },
   {
    "duration": 34,
    "start_time": "2023-03-31T10:34:15.022Z"
   },
   {
    "duration": 95301,
    "start_time": "2023-03-31T10:34:15.057Z"
   },
   {
    "duration": 34,
    "start_time": "2023-03-31T10:40:32.988Z"
   },
   {
    "duration": 10477,
    "start_time": "2023-03-31T10:40:34.737Z"
   },
   {
    "duration": 320,
    "start_time": "2023-03-31T10:41:15.921Z"
   },
   {
    "duration": 4,
    "start_time": "2023-03-31T10:41:41.910Z"
   },
   {
    "duration": 1553,
    "start_time": "2023-03-31T10:43:04.344Z"
   },
   {
    "duration": 1027,
    "start_time": "2023-03-31T10:43:05.900Z"
   },
   {
    "duration": 24,
    "start_time": "2023-03-31T10:43:06.928Z"
   },
   {
    "duration": 25,
    "start_time": "2023-03-31T10:43:06.954Z"
   },
   {
    "duration": 93113,
    "start_time": "2023-03-31T10:43:06.981Z"
   },
   {
    "duration": 32,
    "start_time": "2023-03-31T10:44:40.096Z"
   },
   {
    "duration": 10870,
    "start_time": "2023-03-31T10:44:40.130Z"
   },
   {
    "duration": 96181,
    "start_time": "2023-03-31T10:44:51.002Z"
   },
   {
    "duration": 52326,
    "start_time": "2023-03-31T10:51:52.067Z"
   },
   {
    "duration": 106,
    "start_time": "2023-03-31T10:55:27.135Z"
   },
   {
    "duration": 1540,
    "start_time": "2023-03-31T11:11:59.870Z"
   },
   {
    "duration": 1001,
    "start_time": "2023-03-31T11:12:01.412Z"
   },
   {
    "duration": 28,
    "start_time": "2023-03-31T11:12:02.415Z"
   },
   {
    "duration": 76,
    "start_time": "2023-03-31T11:12:02.445Z"
   },
   {
    "duration": 101055,
    "start_time": "2023-03-31T11:12:02.522Z"
   },
   {
    "duration": 37,
    "start_time": "2023-03-31T11:13:43.582Z"
   },
   {
    "duration": 9155,
    "start_time": "2023-03-31T11:13:43.621Z"
   },
   {
    "duration": 129707,
    "start_time": "2023-03-31T11:13:52.778Z"
   },
   {
    "duration": 112713,
    "start_time": "2023-03-31T11:16:02.487Z"
   },
   {
    "duration": 218,
    "start_time": "2023-03-31T11:23:44.758Z"
   },
   {
    "duration": 84,
    "start_time": "2023-03-31T11:24:16.575Z"
   },
   {
    "duration": 1464,
    "start_time": "2023-03-31T11:24:57.052Z"
   },
   {
    "duration": 872,
    "start_time": "2023-03-31T11:24:58.518Z"
   },
   {
    "duration": 19,
    "start_time": "2023-03-31T11:24:59.394Z"
   },
   {
    "duration": 9,
    "start_time": "2023-03-31T11:24:59.415Z"
   },
   {
    "duration": 86646,
    "start_time": "2023-03-31T11:24:59.426Z"
   },
   {
    "duration": 31,
    "start_time": "2023-03-31T11:26:26.074Z"
   },
   {
    "duration": 7762,
    "start_time": "2023-03-31T11:26:26.107Z"
   },
   {
    "duration": 105400,
    "start_time": "2023-03-31T11:26:33.872Z"
   },
   {
    "duration": 89710,
    "start_time": "2023-03-31T11:28:19.274Z"
   },
   {
    "duration": 520844,
    "start_time": "2023-03-31T11:29:49.073Z"
   },
   {
    "duration": 357,
    "start_time": "2023-03-31T11:40:22.230Z"
   },
   {
    "duration": 21,
    "start_time": "2023-03-31T11:40:57.000Z"
   },
   {
    "duration": 639157,
    "start_time": "2023-03-31T11:41:01.603Z"
   },
   {
    "duration": 205,
    "start_time": "2023-03-31T11:53:44.906Z"
   },
   {
    "duration": 649618,
    "start_time": "2023-03-31T11:57:23.434Z"
   },
   {
    "duration": 12,
    "start_time": "2023-03-31T12:08:18.294Z"
   },
   {
    "duration": 17,
    "start_time": "2023-03-31T12:08:31.611Z"
   },
   {
    "duration": 5,
    "start_time": "2023-03-31T12:10:13.339Z"
   },
   {
    "duration": 13,
    "start_time": "2023-03-31T12:10:20.527Z"
   },
   {
    "duration": 24,
    "start_time": "2023-03-31T12:10:45.897Z"
   },
   {
    "duration": 803,
    "start_time": "2023-03-31T12:11:04.105Z"
   },
   {
    "duration": 19,
    "start_time": "2023-03-31T12:11:06.493Z"
   },
   {
    "duration": 9,
    "start_time": "2023-03-31T12:11:09.744Z"
   },
   {
    "duration": 13,
    "start_time": "2023-03-31T12:11:16.348Z"
   },
   {
    "duration": 1477,
    "start_time": "2023-03-31T12:13:07.570Z"
   },
   {
    "duration": 867,
    "start_time": "2023-03-31T12:13:09.048Z"
   },
   {
    "duration": 21,
    "start_time": "2023-03-31T12:13:09.916Z"
   },
   {
    "duration": 13,
    "start_time": "2023-03-31T12:13:09.938Z"
   },
   {
    "duration": 82511,
    "start_time": "2023-03-31T12:13:09.953Z"
   },
   {
    "duration": 24,
    "start_time": "2023-03-31T12:14:32.471Z"
   },
   {
    "duration": 9582,
    "start_time": "2023-03-31T12:14:32.497Z"
   },
   {
    "duration": 105391,
    "start_time": "2023-03-31T12:14:42.081Z"
   },
   {
    "duration": 91611,
    "start_time": "2023-03-31T12:16:27.473Z"
   },
   {
    "duration": 520727,
    "start_time": "2023-03-31T12:17:59.086Z"
   },
   {
    "duration": 645526,
    "start_time": "2023-03-31T12:26:39.815Z"
   },
   {
    "duration": 14,
    "start_time": "2023-03-31T12:37:25.342Z"
   },
   {
    "duration": 14,
    "start_time": "2023-03-31T12:43:24.163Z"
   },
   {
    "duration": 89,
    "start_time": "2023-03-31T12:46:46.740Z"
   },
   {
    "duration": 2437,
    "start_time": "2023-04-01T08:01:01.827Z"
   },
   {
    "duration": 3672,
    "start_time": "2023-04-01T08:01:04.266Z"
   },
   {
    "duration": 29,
    "start_time": "2023-04-01T08:01:07.939Z"
   },
   {
    "duration": 11,
    "start_time": "2023-04-01T08:01:07.977Z"
   },
   {
    "duration": 825,
    "start_time": "2023-04-01T08:01:07.990Z"
   },
   {
    "duration": 4621,
    "start_time": "2023-04-01T08:30:16.873Z"
   },
   {
    "duration": 2389,
    "start_time": "2023-04-01T08:30:21.499Z"
   },
   {
    "duration": 29,
    "start_time": "2023-04-01T08:30:23.891Z"
   },
   {
    "duration": 19,
    "start_time": "2023-04-01T08:30:23.921Z"
   },
   {
    "duration": 487,
    "start_time": "2023-04-01T08:30:23.942Z"
   },
   {
    "duration": 5,
    "start_time": "2023-04-01T08:30:24.430Z"
   },
   {
    "duration": 1669,
    "start_time": "2023-04-01T08:30:24.437Z"
   },
   {
    "duration": 0,
    "start_time": "2023-04-01T08:30:26.108Z"
   },
   {
    "duration": 0,
    "start_time": "2023-04-01T08:30:26.110Z"
   },
   {
    "duration": 0,
    "start_time": "2023-04-01T08:30:26.111Z"
   },
   {
    "duration": 0,
    "start_time": "2023-04-01T08:30:26.112Z"
   },
   {
    "duration": 0,
    "start_time": "2023-04-01T08:30:26.114Z"
   },
   {
    "duration": 4682,
    "start_time": "2023-04-01T08:31:03.180Z"
   },
   {
    "duration": 1009,
    "start_time": "2023-04-01T08:31:07.864Z"
   },
   {
    "duration": 42,
    "start_time": "2023-04-01T08:31:08.875Z"
   },
   {
    "duration": 48,
    "start_time": "2023-04-01T08:31:08.920Z"
   },
   {
    "duration": 2101,
    "start_time": "2023-04-01T08:31:08.970Z"
   },
   {
    "duration": 6,
    "start_time": "2023-04-01T08:31:11.073Z"
   },
   {
    "duration": 2172,
    "start_time": "2023-04-01T08:31:11.081Z"
   },
   {
    "duration": 0,
    "start_time": "2023-04-01T08:31:13.255Z"
   },
   {
    "duration": 0,
    "start_time": "2023-04-01T08:31:13.257Z"
   },
   {
    "duration": 0,
    "start_time": "2023-04-01T08:31:13.257Z"
   },
   {
    "duration": 0,
    "start_time": "2023-04-01T08:31:13.259Z"
   },
   {
    "duration": 0,
    "start_time": "2023-04-01T08:31:13.260Z"
   },
   {
    "duration": 659,
    "start_time": "2023-04-01T08:32:39.714Z"
   },
   {
    "duration": 4916,
    "start_time": "2023-04-01T08:32:40.375Z"
   },
   {
    "duration": 890,
    "start_time": "2023-04-01T08:32:45.296Z"
   },
   {
    "duration": 33,
    "start_time": "2023-04-01T08:32:46.188Z"
   },
   {
    "duration": 16,
    "start_time": "2023-04-01T08:32:46.223Z"
   },
   {
    "duration": 631,
    "start_time": "2023-04-01T08:32:46.241Z"
   },
   {
    "duration": 8,
    "start_time": "2023-04-01T08:32:46.873Z"
   },
   {
    "duration": 1618,
    "start_time": "2023-04-01T08:32:46.883Z"
   },
   {
    "duration": 0,
    "start_time": "2023-04-01T08:32:48.503Z"
   },
   {
    "duration": 0,
    "start_time": "2023-04-01T08:32:48.504Z"
   },
   {
    "duration": 0,
    "start_time": "2023-04-01T08:32:48.505Z"
   },
   {
    "duration": 0,
    "start_time": "2023-04-01T08:32:48.506Z"
   },
   {
    "duration": 0,
    "start_time": "2023-04-01T08:32:48.508Z"
   },
   {
    "duration": 635,
    "start_time": "2023-04-01T08:34:18.733Z"
   },
   {
    "duration": 4293,
    "start_time": "2023-04-01T08:34:19.370Z"
   },
   {
    "duration": 894,
    "start_time": "2023-04-01T08:34:23.665Z"
   },
   {
    "duration": 42,
    "start_time": "2023-04-01T08:34:24.561Z"
   },
   {
    "duration": 11,
    "start_time": "2023-04-01T08:34:24.605Z"
   },
   {
    "duration": 771,
    "start_time": "2023-04-01T08:34:24.618Z"
   },
   {
    "duration": 13,
    "start_time": "2023-04-01T08:34:25.390Z"
   },
   {
    "duration": 36,
    "start_time": "2023-04-01T08:34:25.409Z"
   },
   {
    "duration": 27,
    "start_time": "2023-04-01T08:34:25.447Z"
   },
   {
    "duration": 16,
    "start_time": "2023-04-01T08:34:25.477Z"
   },
   {
    "duration": 587,
    "start_time": "2023-04-01T08:34:25.495Z"
   },
   {
    "duration": 136,
    "start_time": "2023-04-01T08:34:26.086Z"
   },
   {
    "duration": 23,
    "start_time": "2023-04-01T08:34:26.225Z"
   },
   {
    "duration": 617,
    "start_time": "2023-04-01T08:36:36.567Z"
   },
   {
    "duration": 4338,
    "start_time": "2023-04-01T08:36:37.192Z"
   },
   {
    "duration": 910,
    "start_time": "2023-04-01T08:36:41.531Z"
   },
   {
    "duration": 25,
    "start_time": "2023-04-01T08:36:42.444Z"
   },
   {
    "duration": 28,
    "start_time": "2023-04-01T08:36:42.471Z"
   },
   {
    "duration": 622580,
    "start_time": "2023-04-01T08:36:42.500Z"
   },
   {
    "duration": 36,
    "start_time": "2023-04-01T08:47:05.082Z"
   },
   {
    "duration": 2308,
    "start_time": "2023-04-01T08:47:05.121Z"
   },
   {
    "duration": 0,
    "start_time": "2023-04-01T08:47:07.430Z"
   },
   {
    "duration": 0,
    "start_time": "2023-04-01T08:47:07.432Z"
   },
   {
    "duration": 0,
    "start_time": "2023-04-01T08:47:07.433Z"
   },
   {
    "duration": 0,
    "start_time": "2023-04-01T08:47:07.435Z"
   },
   {
    "duration": 0,
    "start_time": "2023-04-01T08:47:07.436Z"
   },
   {
    "duration": 11006,
    "start_time": "2023-04-01T08:47:38.692Z"
   },
   {
    "duration": 4004,
    "start_time": "2023-04-01T08:47:49.701Z"
   },
   {
    "duration": 831,
    "start_time": "2023-04-01T08:47:53.706Z"
   },
   {
    "duration": 22,
    "start_time": "2023-04-01T08:47:54.539Z"
   },
   {
    "duration": 9,
    "start_time": "2023-04-01T08:47:54.563Z"
   },
   {
    "duration": 19598,
    "start_time": "2023-04-01T08:47:54.584Z"
   },
   {
    "duration": 29,
    "start_time": "2023-04-01T08:48:14.196Z"
   },
   {
    "duration": 1571,
    "start_time": "2023-04-01T08:48:14.227Z"
   },
   {
    "duration": 0,
    "start_time": "2023-04-01T08:48:15.799Z"
   },
   {
    "duration": 0,
    "start_time": "2023-04-01T08:48:15.801Z"
   },
   {
    "duration": 1,
    "start_time": "2023-04-01T08:48:15.801Z"
   },
   {
    "duration": 0,
    "start_time": "2023-04-01T08:48:15.803Z"
   },
   {
    "duration": 0,
    "start_time": "2023-04-01T08:48:15.803Z"
   },
   {
    "duration": 193,
    "start_time": "2023-04-01T08:48:19.549Z"
   },
   {
    "duration": 10415,
    "start_time": "2023-04-01T08:48:36.363Z"
   },
   {
    "duration": 4182,
    "start_time": "2023-04-01T08:48:46.780Z"
   },
   {
    "duration": 859,
    "start_time": "2023-04-01T08:48:50.964Z"
   },
   {
    "duration": 23,
    "start_time": "2023-04-01T08:48:51.826Z"
   },
   {
    "duration": 10,
    "start_time": "2023-04-01T08:48:51.851Z"
   },
   {
    "duration": 1162672,
    "start_time": "2023-04-01T08:48:51.863Z"
   },
   {
    "duration": 30,
    "start_time": "2023-04-01T09:08:14.536Z"
   },
   {
    "duration": 7061,
    "start_time": "2023-04-01T09:08:14.568Z"
   },
   {
    "duration": 119273,
    "start_time": "2023-04-01T09:08:21.630Z"
   },
   {
    "duration": 124126,
    "start_time": "2023-04-01T09:10:20.983Z"
   },
   {
    "duration": 633137,
    "start_time": "2023-04-01T09:12:25.112Z"
   },
   {
    "duration": 797944,
    "start_time": "2023-04-01T09:22:58.251Z"
   },
   {
    "duration": 17,
    "start_time": "2023-04-01T09:36:16.196Z"
   },
   {
    "duration": 80,
    "start_time": "2023-04-01T09:39:03.542Z"
   },
   {
    "duration": 84,
    "start_time": "2023-04-01T09:41:01.772Z"
   },
   {
    "duration": 35440,
    "start_time": "2023-07-12T08:15:48.129Z"
   },
   {
    "duration": 4397,
    "start_time": "2023-07-12T08:16:23.572Z"
   },
   {
    "duration": 2527,
    "start_time": "2023-07-12T08:16:27.970Z"
   },
   {
    "duration": 37,
    "start_time": "2023-07-12T08:16:30.499Z"
   },
   {
    "duration": 20,
    "start_time": "2023-07-12T08:16:30.538Z"
   },
   {
    "duration": 1022511,
    "start_time": "2023-07-12T08:16:30.560Z"
   },
   {
    "duration": 42,
    "start_time": "2023-07-12T08:33:33.073Z"
   },
   {
    "duration": 7908,
    "start_time": "2023-07-12T08:33:33.117Z"
   },
   {
    "duration": 122691,
    "start_time": "2023-07-12T08:33:41.034Z"
   },
   {
    "duration": 124737,
    "start_time": "2023-07-12T08:35:43.730Z"
   },
   {
    "duration": 596199,
    "start_time": "2023-07-12T08:37:48.468Z"
   },
   {
    "duration": 773799,
    "start_time": "2023-07-12T08:47:44.669Z"
   },
   {
    "duration": 20,
    "start_time": "2023-07-12T09:00:38.470Z"
   }
  ],
  "kernelspec": {
   "display_name": "Python 3 (ipykernel)",
   "language": "python",
   "name": "python3"
  },
  "language_info": {
   "codemirror_mode": {
    "name": "ipython",
    "version": 3
   },
   "file_extension": ".py",
   "mimetype": "text/x-python",
   "name": "python",
   "nbconvert_exporter": "python",
   "pygments_lexer": "ipython3",
   "version": "3.9.13"
  },
  "toc": {
   "base_numbering": 1,
   "nav_menu": {},
   "number_sections": true,
   "sideBar": true,
   "skip_h1_title": true,
   "title_cell": "Содержание",
   "title_sidebar": "Contents",
   "toc_cell": true,
   "toc_position": {
    "height": "calc(100% - 180px)",
    "left": "10px",
    "top": "150px",
    "width": "302.391px"
   },
   "toc_section_display": true,
   "toc_window_display": false
  }
 },
 "nbformat": 4,
 "nbformat_minor": 2
}
