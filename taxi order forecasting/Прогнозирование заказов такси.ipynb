{
 "cells": [
  {
   "cell_type": "markdown",
   "metadata": {},
   "source": [
    "#  Прогнозирование заказов такси"
   ]
  },
  {
   "cell_type": "markdown",
   "metadata": {},
   "source": [
    "Компания «Чётенькое такси» собрала исторические данные о заказах такси в аэропортах. Чтобы привлекать больше водителей в период пиковой нагрузки, нужно спрогнозировать количество заказов такси на следующий час. Постройте модель для такого предсказания.\n",
    "\n",
    "Значение метрики *RMSE* на тестовой выборке должно быть не больше 48.\n",
    "\n",
    "Количество заказов находится в столбце `num_orders` (от англ. *number of orders*, «число заказов»)."
   ]
  },
  {
   "cell_type": "markdown",
   "metadata": {},
   "source": [
    "## Шаги исследования"
   ]
  },
  {
   "cell_type": "markdown",
   "metadata": {},
   "source": [
    "1. Подготовка данных\n",
    "2. Анализ данных\n",
    "3. Обучение моделей\n",
    "4. Тестирование"
   ]
  },
  {
   "cell_type": "markdown",
   "metadata": {},
   "source": [
    "## 1. Подготовка данных"
   ]
  },
  {
   "cell_type": "code",
   "execution_count": 1,
   "metadata": {},
   "outputs": [],
   "source": [
    "# Импорт нужных библиотек\n",
    "import pandas as pd\n",
    "import numpy as np\n",
    "import math\n",
    "import matplotlib.pyplot as plt\n",
    "from statsmodels.tsa.seasonal import seasonal_decompose\n",
    "\n",
    "import lightgbm as lgb\n",
    "from lightgbm import LGBMRegressor\n",
    "from catboost import CatBoostRegressor\n",
    "\n",
    "\n",
    "from sklearn.ensemble import RandomForestRegressor\n",
    "from sklearn.linear_model import LinearRegression\n",
    "import sklearn.metrics\n",
    "\n",
    "from sklearn.metrics import mean_squared_error\n",
    "from sklearn.model_selection import (\n",
    "    GridSearchCV,\n",
    "    train_test_split, \n",
    "    TimeSeriesSplit\n",
    ")\n",
    "\n",
    "from sklearn.preprocessing import (\n",
    "    OneHotEncoder,\n",
    "    OrdinalEncoder,\n",
    "    StandardScaler\n",
    ")\n",
    "\n",
    "RANDOM_STATE = 12345"
   ]
  },
  {
   "cell_type": "markdown",
   "metadata": {},
   "source": [
    "<div class=\"alert alert-block alert-success\">\n",
    "<b>Успех:</b> Отлично, что все импорты собраны в первой ячейке ноутбука! Если у того, кто будет запускать твой ноутбук будут отсутствовать некоторые библиотеки, то он это увидит сразу, а не в процессе!\n",
    "</div>"
   ]
  },
  {
   "cell_type": "code",
   "execution_count": 2,
   "metadata": {},
   "outputs": [],
   "source": [
    "# Выгрузим данные и сделаем ресемплирование по одному часу\n",
    "data = pd.read_csv('/datasets/taxi.csv', parse_dates = [0], index_col = [0])\n",
    "data = data.resample('1H').sum()"
   ]
  },
  {
   "cell_type": "markdown",
   "metadata": {},
   "source": [
    "**Выводы:**\n",
    "- Загрузили данные;\n",
    "- Сделали ресемплирование по одному часу."
   ]
  },
  {
   "cell_type": "markdown",
   "metadata": {},
   "source": [
    "## 2. Анализ данных"
   ]
  },
  {
   "cell_type": "code",
   "execution_count": 3,
   "metadata": {},
   "outputs": [
    {
     "data": {
      "text/html": [
       "<div>\n",
       "<style scoped>\n",
       "    .dataframe tbody tr th:only-of-type {\n",
       "        vertical-align: middle;\n",
       "    }\n",
       "\n",
       "    .dataframe tbody tr th {\n",
       "        vertical-align: top;\n",
       "    }\n",
       "\n",
       "    .dataframe thead th {\n",
       "        text-align: right;\n",
       "    }\n",
       "</style>\n",
       "<table border=\"1\" class=\"dataframe\">\n",
       "  <thead>\n",
       "    <tr style=\"text-align: right;\">\n",
       "      <th></th>\n",
       "      <th>num_orders</th>\n",
       "    </tr>\n",
       "    <tr>\n",
       "      <th>datetime</th>\n",
       "      <th></th>\n",
       "    </tr>\n",
       "  </thead>\n",
       "  <tbody>\n",
       "    <tr>\n",
       "      <th>2018-03-01 00:00:00</th>\n",
       "      <td>124</td>\n",
       "    </tr>\n",
       "    <tr>\n",
       "      <th>2018-03-01 01:00:00</th>\n",
       "      <td>85</td>\n",
       "    </tr>\n",
       "    <tr>\n",
       "      <th>2018-03-01 02:00:00</th>\n",
       "      <td>71</td>\n",
       "    </tr>\n",
       "    <tr>\n",
       "      <th>2018-03-01 03:00:00</th>\n",
       "      <td>66</td>\n",
       "    </tr>\n",
       "    <tr>\n",
       "      <th>2018-03-01 04:00:00</th>\n",
       "      <td>43</td>\n",
       "    </tr>\n",
       "    <tr>\n",
       "      <th>2018-03-01 05:00:00</th>\n",
       "      <td>6</td>\n",
       "    </tr>\n",
       "    <tr>\n",
       "      <th>2018-03-01 06:00:00</th>\n",
       "      <td>12</td>\n",
       "    </tr>\n",
       "    <tr>\n",
       "      <th>2018-03-01 07:00:00</th>\n",
       "      <td>15</td>\n",
       "    </tr>\n",
       "    <tr>\n",
       "      <th>2018-03-01 08:00:00</th>\n",
       "      <td>34</td>\n",
       "    </tr>\n",
       "    <tr>\n",
       "      <th>2018-03-01 09:00:00</th>\n",
       "      <td>69</td>\n",
       "    </tr>\n",
       "  </tbody>\n",
       "</table>\n",
       "</div>"
      ],
      "text/plain": [
       "                     num_orders\n",
       "datetime                       \n",
       "2018-03-01 00:00:00         124\n",
       "2018-03-01 01:00:00          85\n",
       "2018-03-01 02:00:00          71\n",
       "2018-03-01 03:00:00          66\n",
       "2018-03-01 04:00:00          43\n",
       "2018-03-01 05:00:00           6\n",
       "2018-03-01 06:00:00          12\n",
       "2018-03-01 07:00:00          15\n",
       "2018-03-01 08:00:00          34\n",
       "2018-03-01 09:00:00          69"
      ]
     },
     "metadata": {},
     "output_type": "display_data"
    },
    {
     "data": {
      "text/html": [
       "<div>\n",
       "<style scoped>\n",
       "    .dataframe tbody tr th:only-of-type {\n",
       "        vertical-align: middle;\n",
       "    }\n",
       "\n",
       "    .dataframe tbody tr th {\n",
       "        vertical-align: top;\n",
       "    }\n",
       "\n",
       "    .dataframe thead th {\n",
       "        text-align: right;\n",
       "    }\n",
       "</style>\n",
       "<table border=\"1\" class=\"dataframe\">\n",
       "  <thead>\n",
       "    <tr style=\"text-align: right;\">\n",
       "      <th></th>\n",
       "      <th>num_orders</th>\n",
       "    </tr>\n",
       "    <tr>\n",
       "      <th>datetime</th>\n",
       "      <th></th>\n",
       "    </tr>\n",
       "  </thead>\n",
       "  <tbody>\n",
       "    <tr>\n",
       "      <th>2018-08-31 14:00:00</th>\n",
       "      <td>133</td>\n",
       "    </tr>\n",
       "    <tr>\n",
       "      <th>2018-08-31 15:00:00</th>\n",
       "      <td>116</td>\n",
       "    </tr>\n",
       "    <tr>\n",
       "      <th>2018-08-31 16:00:00</th>\n",
       "      <td>197</td>\n",
       "    </tr>\n",
       "    <tr>\n",
       "      <th>2018-08-31 17:00:00</th>\n",
       "      <td>217</td>\n",
       "    </tr>\n",
       "    <tr>\n",
       "      <th>2018-08-31 18:00:00</th>\n",
       "      <td>207</td>\n",
       "    </tr>\n",
       "    <tr>\n",
       "      <th>2018-08-31 19:00:00</th>\n",
       "      <td>136</td>\n",
       "    </tr>\n",
       "    <tr>\n",
       "      <th>2018-08-31 20:00:00</th>\n",
       "      <td>154</td>\n",
       "    </tr>\n",
       "    <tr>\n",
       "      <th>2018-08-31 21:00:00</th>\n",
       "      <td>159</td>\n",
       "    </tr>\n",
       "    <tr>\n",
       "      <th>2018-08-31 22:00:00</th>\n",
       "      <td>223</td>\n",
       "    </tr>\n",
       "    <tr>\n",
       "      <th>2018-08-31 23:00:00</th>\n",
       "      <td>205</td>\n",
       "    </tr>\n",
       "  </tbody>\n",
       "</table>\n",
       "</div>"
      ],
      "text/plain": [
       "                     num_orders\n",
       "datetime                       \n",
       "2018-08-31 14:00:00         133\n",
       "2018-08-31 15:00:00         116\n",
       "2018-08-31 16:00:00         197\n",
       "2018-08-31 17:00:00         217\n",
       "2018-08-31 18:00:00         207\n",
       "2018-08-31 19:00:00         136\n",
       "2018-08-31 20:00:00         154\n",
       "2018-08-31 21:00:00         159\n",
       "2018-08-31 22:00:00         223\n",
       "2018-08-31 23:00:00         205"
      ]
     },
     "metadata": {},
     "output_type": "display_data"
    },
    {
     "name": "stdout",
     "output_type": "stream",
     "text": [
      "<class 'pandas.core.frame.DataFrame'>\n",
      "DatetimeIndex: 4416 entries, 2018-03-01 00:00:00 to 2018-08-31 23:00:00\n",
      "Freq: H\n",
      "Data columns (total 1 columns):\n",
      " #   Column      Non-Null Count  Dtype\n",
      "---  ------      --------------  -----\n",
      " 0   num_orders  4416 non-null   int64\n",
      "dtypes: int64(1)\n",
      "memory usage: 69.0 KB\n"
     ]
    },
    {
     "data": {
      "text/plain": [
       "None"
      ]
     },
     "metadata": {},
     "output_type": "display_data"
    },
    {
     "data": {
      "text/html": [
       "<div>\n",
       "<style scoped>\n",
       "    .dataframe tbody tr th:only-of-type {\n",
       "        vertical-align: middle;\n",
       "    }\n",
       "\n",
       "    .dataframe tbody tr th {\n",
       "        vertical-align: top;\n",
       "    }\n",
       "\n",
       "    .dataframe thead th {\n",
       "        text-align: right;\n",
       "    }\n",
       "</style>\n",
       "<table border=\"1\" class=\"dataframe\">\n",
       "  <thead>\n",
       "    <tr style=\"text-align: right;\">\n",
       "      <th></th>\n",
       "      <th>num_orders</th>\n",
       "    </tr>\n",
       "  </thead>\n",
       "  <tbody>\n",
       "    <tr>\n",
       "      <th>count</th>\n",
       "      <td>4416.000000</td>\n",
       "    </tr>\n",
       "    <tr>\n",
       "      <th>mean</th>\n",
       "      <td>84.422781</td>\n",
       "    </tr>\n",
       "    <tr>\n",
       "      <th>std</th>\n",
       "      <td>45.023853</td>\n",
       "    </tr>\n",
       "    <tr>\n",
       "      <th>min</th>\n",
       "      <td>0.000000</td>\n",
       "    </tr>\n",
       "    <tr>\n",
       "      <th>25%</th>\n",
       "      <td>54.000000</td>\n",
       "    </tr>\n",
       "    <tr>\n",
       "      <th>50%</th>\n",
       "      <td>78.000000</td>\n",
       "    </tr>\n",
       "    <tr>\n",
       "      <th>75%</th>\n",
       "      <td>107.000000</td>\n",
       "    </tr>\n",
       "    <tr>\n",
       "      <th>max</th>\n",
       "      <td>462.000000</td>\n",
       "    </tr>\n",
       "  </tbody>\n",
       "</table>\n",
       "</div>"
      ],
      "text/plain": [
       "        num_orders\n",
       "count  4416.000000\n",
       "mean     84.422781\n",
       "std      45.023853\n",
       "min       0.000000\n",
       "25%      54.000000\n",
       "50%      78.000000\n",
       "75%     107.000000\n",
       "max     462.000000"
      ]
     },
     "metadata": {},
     "output_type": "display_data"
    }
   ],
   "source": [
    "# Изучим получившийся датасет\n",
    "def about_data(data):\n",
    "    display(data.head(10))\n",
    "    display(data.tail(10))\n",
    "    display(data.info())\n",
    "    display(data.describe())\n",
    "    \n",
    "about_data(data)"
   ]
  },
  {
   "cell_type": "code",
   "execution_count": 4,
   "metadata": {
    "scrolled": true
   },
   "outputs": [
    {
     "data": {
      "text/plain": [
       "True"
      ]
     },
     "execution_count": 4,
     "metadata": {},
     "output_type": "execute_result"
    }
   ],
   "source": [
    "# Проверили монотонность индекса\n",
    "data.index.is_monotonic"
   ]
  },
  {
   "cell_type": "code",
   "execution_count": 5,
   "metadata": {
    "scrolled": true
   },
   "outputs": [
    {
     "data": {
      "image/png": "[encoded data removed]",
      "text/plain": [
       "<Figure size 648x432 with 1 Axes>"
      ]
     },
     "metadata": {
      "needs_background": "light"
     },
     "output_type": "display_data"
    }
   ],
   "source": [
    "# Изобразим на графике временной ряд\n",
    "plt.figure(figsize=(9,6))\n",
    "\n",
    "plt.plot(data.index, data['num_orders'])\n",
    "plt.title('График заказов')\n",
    "plt.xlabel('Месяцы')\n",
    "plt.ylabel('Количество заказов')\n",
    "\n",
    "plt.show()"
   ]
  },
  {
   "cell_type": "code",
   "execution_count": 6,
   "metadata": {},
   "outputs": [
    {
     "data": {
      "image/png": "[encoded data removed]",
      "text/plain": [
       "<Figure size 432x576 with 3 Axes>"
      ]
     },
     "metadata": {
      "needs_background": "light"
     },
     "output_type": "display_data"
    }
   ],
   "source": [
    "# Разложим временной ряд на тренд, сезонность и остаток\n",
    "decomposed = seasonal_decompose(data)\n",
    "\n",
    "decomposed_for_seasonality = seasonal_decompose(data['2018-08-01':'2018-08-31'])\n",
    "\n",
    "plt.figure(figsize=(6, 8))\n",
    "plt.subplot(311)\n",
    "# Чтобы график корректно отобразился, указываем его\n",
    "# оси ax, равными plt.gca() (англ. get current axis,\n",
    "# получить текущие оси)\n",
    "decomposed.trend.plot(ax=plt.gca())\n",
    "plt.title('Trend')\n",
    "plt.subplot(312)\n",
    "decomposed_for_seasonality.seasonal.plot(ax=plt.gca())\n",
    "\n",
    "plt.title('Seasonality')\n",
    "plt.subplot(313)\n",
    "decomposed.resid.plot(ax=plt.gca())\n",
    "\n",
    "plt.title('Residuals')\n",
    "plt.tight_layout()"
   ]
  },
  {
   "cell_type": "code",
   "execution_count": 7,
   "metadata": {},
   "outputs": [
    {
     "data": {
      "image/png": "[encoded data removed]",
      "text/plain": [
       "<Figure size 720x504 with 1 Axes>"
      ]
     },
     "metadata": {
      "needs_background": "light"
     },
     "output_type": "display_data"
    }
   ],
   "source": [
    "# Изобразим на графике распределние\n",
    "plt.figure(figsize=(10,7))\n",
    "\n",
    "plt.scatter(data.index, data['num_orders'], alpha=0.5)\n",
    "plt.title('График заказов')\n",
    "plt.xlabel('Месяцы')\n",
    "plt.ylabel('Количество заказов')\n",
    "\n",
    "plt.show()"
   ]
  },
  {
   "cell_type": "code",
   "execution_count": 8,
   "metadata": {
    "scrolled": true
   },
   "outputs": [
    {
     "data": {
      "image/png": "[encoded data removed]",
      "text/plain": [
       "<Figure size 576x360 with 1 Axes>"
      ]
     },
     "metadata": {
      "needs_background": "light"
     },
     "output_type": "display_data"
    }
   ],
   "source": [
    "# Изобразим ящик с усами\n",
    "\n",
    "plt.figure(figsize=(8,5))\n",
    "\n",
    "plt.boxplot(data)\n",
    "plt.title('График заказов')\n",
    "plt.xlabel('Месяцы')\n",
    "plt.ylabel('Количество заказов')\n",
    "\n",
    "plt.show()"
   ]
  },
  {
   "cell_type": "code",
   "execution_count": 9,
   "metadata": {},
   "outputs": [],
   "source": [
    "# Функция для создания признаков: календарные, \"отстающие значения\", скользящее среднее\n",
    "def make_features(data, max_lag, rolling_mean_size):\n",
    "    data['day'] = data.index.day \n",
    "    data['dayofweek'] = data.index.dayofweek \n",
    "    \n",
    "    for lag in range(1, max_lag + 1):\n",
    "        data['lag_{}'.format(lag)] = data['num_orders'].shift(lag)\n",
    "\n",
    "    data['rolling_mean'] = data['num_orders'].shift().rolling(rolling_mean_size).mean()\n",
    "    return data"
   ]
  },
  {
   "cell_type": "code",
   "execution_count": 10,
   "metadata": {},
   "outputs": [
    {
     "name": "stdout",
     "output_type": "stream",
     "text": [
      "<class 'pandas.core.frame.DataFrame'>\n",
      "DatetimeIndex: 4368 entries, 2018-03-03 00:00:00 to 2018-08-31 23:00:00\n",
      "Freq: H\n",
      "Data columns (total 28 columns):\n",
      " #   Column        Non-Null Count  Dtype  \n",
      "---  ------        --------------  -----  \n",
      " 0   num_orders    4368 non-null   int64  \n",
      " 1   day           4368 non-null   int64  \n",
      " 2   dayofweek     4368 non-null   int64  \n",
      " 3   lag_1         4368 non-null   float64\n",
      " 4   lag_2         4368 non-null   float64\n",
      " 5   lag_3         4368 non-null   float64\n",
      " 6   lag_4         4368 non-null   float64\n",
      " 7   lag_5         4368 non-null   float64\n",
      " 8   lag_6         4368 non-null   float64\n",
      " 9   lag_7         4368 non-null   float64\n",
      " 10  lag_8         4368 non-null   float64\n",
      " 11  lag_9         4368 non-null   float64\n",
      " 12  lag_10        4368 non-null   float64\n",
      " 13  lag_11        4368 non-null   float64\n",
      " 14  lag_12        4368 non-null   float64\n",
      " 15  lag_13        4368 non-null   float64\n",
      " 16  lag_14        4368 non-null   float64\n",
      " 17  lag_15        4368 non-null   float64\n",
      " 18  lag_16        4368 non-null   float64\n",
      " 19  lag_17        4368 non-null   float64\n",
      " 20  lag_18        4368 non-null   float64\n",
      " 21  lag_19        4368 non-null   float64\n",
      " 22  lag_20        4368 non-null   float64\n",
      " 23  lag_21        4368 non-null   float64\n",
      " 24  lag_22        4368 non-null   float64\n",
      " 25  lag_23        4368 non-null   float64\n",
      " 26  lag_24        4368 non-null   float64\n",
      " 27  rolling_mean  4368 non-null   float64\n",
      "dtypes: float64(25), int64(3)\n",
      "memory usage: 989.6 KB\n"
     ]
    }
   ],
   "source": [
    "# Применим функцию к датасету и перезапишем его\n",
    "data = make_features(data, 24, 48)\n",
    "data = data.dropna()\n",
    "data.info()"
   ]
  },
  {
   "cell_type": "markdown",
   "metadata": {},
   "source": [
    "**Выводы**: \n",
    "- Проверили монотонность индексов;\n",
    "- Визуализировали данные тремя способами (график, скаттер, боксплот);\n",
    "- Разложили временной ряд на тренд, сезонность и остаток;\n",
    "- Можно констатировать, что этот временной ряд **нестационарен** - его среднее растет, количество заказов неизменно увеличивается;\n",
    "- В данных есть аномальные значения;\n",
    "- Создали новые признаки."
   ]
  },
  {
   "cell_type": "markdown",
   "metadata": {},
   "source": [
    "## 3. Обучение моделей"
   ]
  },
  {
   "cell_type": "code",
   "execution_count": 11,
   "metadata": {},
   "outputs": [],
   "source": [
    "# Поделим выборку на обучающую и тестовую \n",
    "train, test = train_test_split(data, shuffle=False, test_size=0.1)\n",
    "train = train.dropna()"
   ]
  },
  {
   "cell_type": "code",
   "execution_count": 12,
   "metadata": {},
   "outputs": [],
   "source": [
    "# Разделим фичи и таргеты\n",
    "features_train = train.drop('num_orders', axis=1)\n",
    "target_train = train['num_orders']\n",
    "features_test = test.drop('num_orders', axis=1)\n",
    "target_test = test['num_orders']"
   ]
  },
  {
   "cell_type": "code",
   "execution_count": 13,
   "metadata": {},
   "outputs": [
    {
     "data": {
      "text/plain": [
       "array([[-1.39617062,  0.98530485, -0.16987555, ...,  1.10110764,\n",
       "         0.31258244, -1.00546523],\n",
       "       [-1.39617062,  0.98530485,  2.17910204, ..., -0.08159473,\n",
       "         1.10104193, -0.960992  ],\n",
       "       [-1.39617062,  0.98530485,  0.75939031, ..., -0.37069975,\n",
       "        -0.08164731, -0.9347642 ],\n",
       "       ...,\n",
       "       [-0.2595375 , -1.4978554 ,  2.48885732, ...,  0.96969626,\n",
       "         1.96834737,  2.54555079],\n",
       "       [-0.2595375 , -1.4978554 ,  1.68865617, ..., -0.00274791,\n",
       "         0.96963201,  2.51134061],\n",
       "       [-0.2595375 , -1.4978554 ,  1.89515969, ...,  0.10238119,\n",
       "        -0.00280136,  2.54555079]])"
      ]
     },
     "execution_count": 13,
     "metadata": {},
     "output_type": "execute_result"
    }
   ],
   "source": [
    "# Масштабируем обучающую выборку\n",
    "scaler = StandardScaler()\n",
    "scaler.fit_transform(features_train)"
   ]
  },
  {
   "cell_type": "markdown",
   "metadata": {},
   "source": [
    "**CatBoostRegressor**"
   ]
  },
  {
   "cell_type": "code",
   "execution_count": 14,
   "metadata": {},
   "outputs": [
    {
     "name": "stdout",
     "output_type": "stream",
     "text": [
      "Лучшие параметры: {'depth': 8, 'n_estimators': 20}\n",
      "Лучшее значение метрики RMSE: 26.27\n",
      "CPU times: user 12min 37s, sys: 26.1 s, total: 13min 4s\n",
      "Wall time: 14min 23s\n"
     ]
    }
   ],
   "source": [
    "%%time\n",
    "\n",
    "tscv = TimeSeriesSplit(n_splits=8) # Создали объект типа TimeSeriesSplit\n",
    "\n",
    "params = {'n_estimators': [20, 30, 40], # Гиперпараметры\n",
    "          'depth': [6, 8, 10, 12, 14]}\n",
    "\n",
    "cat = CatBoostRegressor(loss_function='RMSE', verbose=False) \n",
    "grid = GridSearchCV(cat, params, cv=tscv, scoring = \"neg_mean_squared_error\", n_jobs=-1)\n",
    "grid.fit(features_train, target_train)\n",
    "print(\"Лучшие параметры:\", grid.best_params_)\n",
    "print(\"Лучшее значение метрики RMSE:\", round((-grid.best_score_)**0.5, 2))"
   ]
  },
  {
   "cell_type": "markdown",
   "metadata": {},
   "source": [
    "**LGBMRegressor**"
   ]
  },
  {
   "cell_type": "code",
   "execution_count": 15,
   "metadata": {},
   "outputs": [
    {
     "name": "stdout",
     "output_type": "stream",
     "text": [
      "Лучшие параметры: {'learning_rate': 0.2, 'n_estimators': 30}\n",
      "Лучшее значение метрики RMSE: 25.76\n",
      "CPU times: user 2min 44s, sys: 1.77 s, total: 2min 46s\n",
      "Wall time: 2min 47s\n"
     ]
    }
   ],
   "source": [
    "%%time\n",
    "\n",
    "params_l = {'n_estimators': [10, 30], \n",
    "            'learning_rate': [0.1, 0.2, 0.3]}\n",
    "\n",
    "lgbm = LGBMRegressor() \n",
    "\n",
    "clf = GridSearchCV(lgbm, params_l, cv=tscv, scoring='neg_mean_squared_error')\n",
    "clf.fit(features_train, target_train)\n",
    "print(\"Лучшие параметры:\", clf.best_params_)\n",
    "print(\"Лучшее значение метрики RMSE:\", round((-clf.best_score_)**0.5, 2))"
   ]
  },
  {
   "cell_type": "code",
   "execution_count": 20,
   "metadata": {},
   "outputs": [
    {
     "data": {
      "text/html": [
       "<div>\n",
       "<style scoped>\n",
       "    .dataframe tbody tr th:only-of-type {\n",
       "        vertical-align: middle;\n",
       "    }\n",
       "\n",
       "    .dataframe tbody tr th {\n",
       "        vertical-align: top;\n",
       "    }\n",
       "\n",
       "    .dataframe thead th {\n",
       "        text-align: right;\n",
       "    }\n",
       "</style>\n",
       "<table border=\"1\" class=\"dataframe\">\n",
       "  <thead>\n",
       "    <tr style=\"text-align: right;\">\n",
       "      <th></th>\n",
       "      <th>Значение метрики RMSE на кросс-валидации (TimeSeriesSplit)</th>\n",
       "    </tr>\n",
       "  </thead>\n",
       "  <tbody>\n",
       "    <tr>\n",
       "      <th>CatBoostRegressor</th>\n",
       "      <td>26.27</td>\n",
       "    </tr>\n",
       "    <tr>\n",
       "      <th>LGBMRegressor</th>\n",
       "      <td>25.76</td>\n",
       "    </tr>\n",
       "  </tbody>\n",
       "</table>\n",
       "</div>"
      ],
      "text/plain": [
       "                   Значение метрики RMSE на кросс-валидации (TimeSeriesSplit)\n",
       "CatBoostRegressor                                              26.27         \n",
       "LGBMRegressor                                                  25.76         "
      ]
     },
     "execution_count": 20,
     "metadata": {},
     "output_type": "execute_result"
    }
   ],
   "source": [
    "index = ['CatBoostRegressor', \n",
    "         'LGBMRegressor']\n",
    "final_data = {'Значение метрики RMSE на кросс-валидации (TimeSeriesSplit)': [round((-grid.best_score_)**0.5, 2), \n",
    "                                                           round((-clf.best_score_)**0.5, 2)]}\n",
    "scores_data = pd.DataFrame(data=final_data, index=index)\n",
    "scores_data"
   ]
  },
  {
   "cell_type": "markdown",
   "metadata": {},
   "source": [
    "## 4. Тестирование"
   ]
  },
  {
   "cell_type": "code",
   "execution_count": 24,
   "metadata": {},
   "outputs": [
    {
     "name": "stdout",
     "output_type": "stream",
     "text": [
      "LGBMRegressor\n",
      "Значение метрики RMSE на тестовой выборке: 43.69\n",
      "CPU times: user 59.3 ms, sys: 7.61 ms, total: 67 ms\n",
      "Wall time: 25.6 ms\n"
     ]
    },
    {
     "data": {
      "text/plain": [
       "[<matplotlib.lines.Line2D at 0x7f77a129c580>,\n",
       " <matplotlib.lines.Line2D at 0x7f77a12407f0>]"
      ]
     },
     "execution_count": 24,
     "metadata": {},
     "output_type": "execute_result"
    },
    {
     "data": {
      "image/png": "[encoded data removed]",
      "text/plain": [
       "<Figure size 1008x648 with 1 Axes>"
      ]
     },
     "metadata": {
      "needs_background": "light"
     },
     "output_type": "display_data"
    }
   ],
   "source": [
    "%%time\n",
    "\n",
    "predicted_final_l = clf.best_estimator_.predict(features_test)\n",
    "print(\"LGBMRegressor\")\n",
    "print(\"Значение метрики RMSE на тестовой выборке:\", round(mean_squared_error(target_test, predicted_final_l)**0.5, 2))\n",
    "\n",
    "plt.figure(figsize=(14,9))\n",
    "plt.plot(target_test.index, \n",
    "         target_test, \n",
    "         'b-', \n",
    "         target_test.index, \n",
    "         predicted_final_l,\n",
    "         'r-')"
   ]
  },
  {
   "cell_type": "markdown",
   "metadata": {},
   "source": [
    "**Выводы**:\n",
    "- Разделили выборку и масштабировали обучающую;\n",
    "- Обучили две модели с перебором различных гиперпараметров: **CatBoostRegressor** и **LGBMRegressor**;\n",
    "- Лучшая модель **LGBMRegressor** с результатом метрики RMSE на кросс-валидации равной 25.76 (у **CatBoostRegressor** - 26.27);\n",
    "- Обучили **LGBMRegressor** на тестовой выборке. RMSE получилось равным **43.69**."
   ]
  }
 ],
 "metadata": {
  "ExecuteTimeLog": [
   {
    "duration": 1723,
    "start_time": "2023-03-22T10:13:01.383Z"
   },
   {
    "duration": 176,
    "start_time": "2023-03-22T10:17:44.214Z"
   },
   {
    "duration": 36,
    "start_time": "2023-03-22T10:19:03.957Z"
   },
   {
    "duration": 4,
    "start_time": "2023-03-22T10:23:39.680Z"
   },
   {
    "duration": 48,
    "start_time": "2023-03-22T10:23:40.554Z"
   },
   {
    "duration": 26,
    "start_time": "2023-03-22T10:23:41.456Z"
   },
   {
    "duration": 1169,
    "start_time": "2023-03-22T10:24:25.153Z"
   },
   {
    "duration": 51,
    "start_time": "2023-03-22T10:24:26.324Z"
   },
   {
    "duration": 33,
    "start_time": "2023-03-22T10:24:26.377Z"
   },
   {
    "duration": 4,
    "start_time": "2023-03-22T10:29:28.489Z"
   },
   {
    "duration": 25,
    "start_time": "2023-03-22T10:30:34.281Z"
   },
   {
    "duration": 1231,
    "start_time": "2023-03-22T10:30:58.789Z"
   },
   {
    "duration": 49,
    "start_time": "2023-03-22T10:31:00.023Z"
   },
   {
    "duration": 33,
    "start_time": "2023-03-22T10:31:00.074Z"
   },
   {
    "duration": 12,
    "start_time": "2023-03-22T10:31:00.109Z"
   },
   {
    "duration": 1259,
    "start_time": "2023-03-22T10:33:41.389Z"
   },
   {
    "duration": 55,
    "start_time": "2023-03-22T10:33:42.654Z"
   },
   {
    "duration": 32,
    "start_time": "2023-03-22T10:33:42.711Z"
   },
   {
    "duration": 8,
    "start_time": "2023-03-22T10:33:42.745Z"
   },
   {
    "duration": 1413,
    "start_time": "2023-03-22T10:35:21.438Z"
   },
   {
    "duration": 53,
    "start_time": "2023-03-22T10:35:22.854Z"
   },
   {
    "duration": 45,
    "start_time": "2023-03-22T10:35:22.909Z"
   },
   {
    "duration": 9,
    "start_time": "2023-03-22T10:35:22.956Z"
   },
   {
    "duration": 1332,
    "start_time": "2023-03-22T11:50:04.948Z"
   },
   {
    "duration": 53,
    "start_time": "2023-03-22T11:50:06.283Z"
   },
   {
    "duration": 39,
    "start_time": "2023-03-22T11:50:06.338Z"
   },
   {
    "duration": 4,
    "start_time": "2023-03-22T11:50:06.378Z"
   },
   {
    "duration": 1813,
    "start_time": "2023-03-23T10:20:09.190Z"
   },
   {
    "duration": 121,
    "start_time": "2023-03-23T10:20:11.005Z"
   },
   {
    "duration": 30,
    "start_time": "2023-03-23T10:20:11.129Z"
   },
   {
    "duration": 4,
    "start_time": "2023-03-23T10:20:11.161Z"
   },
   {
    "duration": 276,
    "start_time": "2023-03-23T10:23:02.618Z"
   },
   {
    "duration": 349,
    "start_time": "2023-03-23T10:28:10.734Z"
   },
   {
    "duration": 302,
    "start_time": "2023-03-23T10:29:22.469Z"
   },
   {
    "duration": 260,
    "start_time": "2023-03-23T10:29:33.166Z"
   },
   {
    "duration": 286,
    "start_time": "2023-03-23T10:29:40.835Z"
   },
   {
    "duration": 321,
    "start_time": "2023-03-23T10:29:48.616Z"
   },
   {
    "duration": 297,
    "start_time": "2023-03-23T10:31:07.292Z"
   },
   {
    "duration": 334,
    "start_time": "2023-03-23T10:32:34.390Z"
   },
   {
    "duration": 319,
    "start_time": "2023-03-23T10:32:41.376Z"
   },
   {
    "duration": 182,
    "start_time": "2023-03-23T10:37:10.793Z"
   },
   {
    "duration": 324,
    "start_time": "2023-03-23T10:37:20.425Z"
   },
   {
    "duration": 156,
    "start_time": "2023-03-23T10:38:05.539Z"
   },
   {
    "duration": 97,
    "start_time": "2023-03-23T10:38:39.025Z"
   },
   {
    "duration": 176,
    "start_time": "2023-03-23T10:39:03.405Z"
   },
   {
    "duration": 155,
    "start_time": "2023-03-23T10:39:15.917Z"
   },
   {
    "duration": 144,
    "start_time": "2023-03-23T10:39:46.537Z"
   },
   {
    "duration": 242,
    "start_time": "2023-03-23T10:39:55.615Z"
   },
   {
    "duration": 138,
    "start_time": "2023-03-23T10:40:01.853Z"
   },
   {
    "duration": 1762,
    "start_time": "2023-03-23T10:40:29.265Z"
   },
   {
    "duration": 58,
    "start_time": "2023-03-23T10:40:31.029Z"
   },
   {
    "duration": 125,
    "start_time": "2023-03-23T10:40:31.089Z"
   },
   {
    "duration": 18,
    "start_time": "2023-03-23T10:40:31.217Z"
   },
   {
    "duration": 456,
    "start_time": "2023-03-23T10:40:31.237Z"
   },
   {
    "duration": 330,
    "start_time": "2023-03-23T10:40:31.695Z"
   },
   {
    "duration": 151,
    "start_time": "2023-03-23T10:40:32.026Z"
   },
   {
    "duration": 219,
    "start_time": "2023-03-23T10:47:44.881Z"
   },
   {
    "duration": 302,
    "start_time": "2023-03-23T10:47:53.856Z"
   },
   {
    "duration": 288,
    "start_time": "2023-03-23T10:48:00.058Z"
   },
   {
    "duration": 301,
    "start_time": "2023-03-23T10:48:08.388Z"
   },
   {
    "duration": 1770,
    "start_time": "2023-03-23T10:48:26.259Z"
   },
   {
    "duration": 64,
    "start_time": "2023-03-23T10:48:28.032Z"
   },
   {
    "duration": 42,
    "start_time": "2023-03-23T10:48:28.097Z"
   },
   {
    "duration": 18,
    "start_time": "2023-03-23T10:48:28.141Z"
   },
   {
    "duration": 469,
    "start_time": "2023-03-23T10:48:28.162Z"
   },
   {
    "duration": 328,
    "start_time": "2023-03-23T10:48:28.636Z"
   },
   {
    "duration": 187,
    "start_time": "2023-03-23T10:48:28.967Z"
   },
   {
    "duration": 4,
    "start_time": "2023-03-23T10:56:56.292Z"
   },
   {
    "duration": 19,
    "start_time": "2023-03-23T10:57:32.218Z"
   },
   {
    "duration": 1688,
    "start_time": "2023-03-23T10:58:07.559Z"
   },
   {
    "duration": 71,
    "start_time": "2023-03-23T10:58:09.249Z"
   },
   {
    "duration": 36,
    "start_time": "2023-03-23T10:58:09.327Z"
   },
   {
    "duration": 5,
    "start_time": "2023-03-23T10:58:09.366Z"
   },
   {
    "duration": 452,
    "start_time": "2023-03-23T10:58:09.373Z"
   },
   {
    "duration": 298,
    "start_time": "2023-03-23T10:58:09.827Z"
   },
   {
    "duration": 130,
    "start_time": "2023-03-23T10:58:10.127Z"
   },
   {
    "duration": 5,
    "start_time": "2023-03-23T10:58:10.259Z"
   },
   {
    "duration": 37,
    "start_time": "2023-03-23T10:58:10.266Z"
   },
   {
    "duration": 19,
    "start_time": "2023-03-23T10:58:41.935Z"
   },
   {
    "duration": 1784,
    "start_time": "2023-03-23T12:04:33.873Z"
   },
   {
    "duration": 71,
    "start_time": "2023-03-23T12:04:35.659Z"
   },
   {
    "duration": 33,
    "start_time": "2023-03-23T12:04:35.732Z"
   },
   {
    "duration": 4,
    "start_time": "2023-03-23T12:04:35.768Z"
   },
   {
    "duration": 447,
    "start_time": "2023-03-23T12:04:35.774Z"
   },
   {
    "duration": 309,
    "start_time": "2023-03-23T12:04:36.224Z"
   },
   {
    "duration": 148,
    "start_time": "2023-03-23T12:04:36.536Z"
   },
   {
    "duration": 13,
    "start_time": "2023-03-23T12:04:36.686Z"
   },
   {
    "duration": 36,
    "start_time": "2023-03-23T12:04:36.707Z"
   },
   {
    "duration": 6,
    "start_time": "2023-03-23T12:04:36.745Z"
   },
   {
    "duration": 17,
    "start_time": "2023-03-23T12:04:36.753Z"
   },
   {
    "duration": 28,
    "start_time": "2023-03-23T12:04:36.773Z"
   },
   {
    "duration": 1848,
    "start_time": "2023-03-23T12:11:52.472Z"
   },
   {
    "duration": 78,
    "start_time": "2023-03-23T12:11:54.322Z"
   },
   {
    "duration": 39,
    "start_time": "2023-03-23T12:11:54.402Z"
   },
   {
    "duration": 5,
    "start_time": "2023-03-23T12:11:54.443Z"
   },
   {
    "duration": 402,
    "start_time": "2023-03-23T12:11:54.451Z"
   },
   {
    "duration": 402,
    "start_time": "2023-03-23T12:11:54.856Z"
   },
   {
    "duration": 157,
    "start_time": "2023-03-23T12:11:55.261Z"
   },
   {
    "duration": 108,
    "start_time": "2023-03-23T12:11:55.420Z"
   },
   {
    "duration": 0,
    "start_time": "2023-03-23T12:11:55.531Z"
   },
   {
    "duration": 0,
    "start_time": "2023-03-23T12:11:55.533Z"
   },
   {
    "duration": 0,
    "start_time": "2023-03-23T12:11:55.534Z"
   },
   {
    "duration": 1,
    "start_time": "2023-03-23T12:11:55.535Z"
   },
   {
    "duration": 1782,
    "start_time": "2023-03-23T12:12:23.826Z"
   },
   {
    "duration": 62,
    "start_time": "2023-03-23T12:12:25.615Z"
   },
   {
    "duration": 42,
    "start_time": "2023-03-23T12:12:25.679Z"
   },
   {
    "duration": 5,
    "start_time": "2023-03-23T12:12:25.724Z"
   },
   {
    "duration": 328,
    "start_time": "2023-03-23T12:12:25.732Z"
   },
   {
    "duration": 319,
    "start_time": "2023-03-23T12:12:26.062Z"
   },
   {
    "duration": 163,
    "start_time": "2023-03-23T12:12:26.384Z"
   },
   {
    "duration": 6,
    "start_time": "2023-03-23T12:12:26.549Z"
   },
   {
    "duration": 46,
    "start_time": "2023-03-23T12:12:26.557Z"
   },
   {
    "duration": 8,
    "start_time": "2023-03-23T12:12:26.606Z"
   },
   {
    "duration": 16,
    "start_time": "2023-03-23T12:12:26.617Z"
   },
   {
    "duration": 125,
    "start_time": "2023-03-23T12:12:26.635Z"
   },
   {
    "duration": 1741,
    "start_time": "2023-03-23T12:18:13.683Z"
   },
   {
    "duration": 59,
    "start_time": "2023-03-23T12:18:15.427Z"
   },
   {
    "duration": 49,
    "start_time": "2023-03-23T12:18:15.488Z"
   },
   {
    "duration": 6,
    "start_time": "2023-03-23T12:18:15.539Z"
   },
   {
    "duration": 342,
    "start_time": "2023-03-23T12:18:15.547Z"
   },
   {
    "duration": 321,
    "start_time": "2023-03-23T12:18:15.897Z"
   },
   {
    "duration": 136,
    "start_time": "2023-03-23T12:18:16.220Z"
   },
   {
    "duration": 6,
    "start_time": "2023-03-23T12:18:16.358Z"
   },
   {
    "duration": 46,
    "start_time": "2023-03-23T12:18:16.366Z"
   },
   {
    "duration": 11,
    "start_time": "2023-03-23T12:18:16.418Z"
   },
   {
    "duration": 87,
    "start_time": "2023-03-23T12:18:16.431Z"
   },
   {
    "duration": 29,
    "start_time": "2023-03-23T12:18:16.520Z"
   },
   {
    "duration": 9,
    "start_time": "2023-03-23T12:19:05.821Z"
   },
   {
    "duration": 1884,
    "start_time": "2023-03-23T12:24:13.037Z"
   },
   {
    "duration": 79,
    "start_time": "2023-03-23T12:24:14.927Z"
   },
   {
    "duration": 45,
    "start_time": "2023-03-23T12:24:15.009Z"
   },
   {
    "duration": 16,
    "start_time": "2023-03-23T12:24:15.057Z"
   },
   {
    "duration": 458,
    "start_time": "2023-03-23T12:24:15.075Z"
   },
   {
    "duration": 389,
    "start_time": "2023-03-23T12:24:15.535Z"
   },
   {
    "duration": 136,
    "start_time": "2023-03-23T12:24:15.925Z"
   },
   {
    "duration": 7,
    "start_time": "2023-03-23T12:24:16.063Z"
   },
   {
    "duration": 46,
    "start_time": "2023-03-23T12:24:16.072Z"
   },
   {
    "duration": 23,
    "start_time": "2023-03-23T12:24:16.122Z"
   },
   {
    "duration": 6,
    "start_time": "2023-03-23T12:24:16.148Z"
   },
   {
    "duration": 417,
    "start_time": "2023-03-23T12:24:16.156Z"
   },
   {
    "duration": 0,
    "start_time": "2023-03-23T12:24:16.576Z"
   },
   {
    "duration": 0,
    "start_time": "2023-03-23T12:24:16.578Z"
   },
   {
    "duration": 102,
    "start_time": "2023-03-23T12:24:24.009Z"
   },
   {
    "duration": 32,
    "start_time": "2023-03-23T12:24:39.026Z"
   },
   {
    "duration": 16,
    "start_time": "2023-03-23T12:26:06.950Z"
   },
   {
    "duration": 20,
    "start_time": "2023-03-23T12:28:44.751Z"
   },
   {
    "duration": 111,
    "start_time": "2023-03-23T12:29:24.730Z"
   },
   {
    "duration": 1954,
    "start_time": "2023-03-23T12:37:08.155Z"
   },
   {
    "duration": 64,
    "start_time": "2023-03-23T12:37:10.112Z"
   },
   {
    "duration": 53,
    "start_time": "2023-03-23T12:37:10.177Z"
   },
   {
    "duration": 6,
    "start_time": "2023-03-23T12:37:10.233Z"
   },
   {
    "duration": 412,
    "start_time": "2023-03-23T12:37:10.241Z"
   },
   {
    "duration": 361,
    "start_time": "2023-03-23T12:37:10.656Z"
   },
   {
    "duration": 121,
    "start_time": "2023-03-23T12:37:11.019Z"
   },
   {
    "duration": 5,
    "start_time": "2023-03-23T12:37:11.142Z"
   },
   {
    "duration": 28,
    "start_time": "2023-03-23T12:37:11.150Z"
   },
   {
    "duration": 38,
    "start_time": "2023-03-23T12:37:11.181Z"
   },
   {
    "duration": 15,
    "start_time": "2023-03-23T12:37:11.222Z"
   },
   {
    "duration": 87,
    "start_time": "2023-03-23T12:37:11.239Z"
   },
   {
    "duration": 23,
    "start_time": "2023-03-23T12:37:11.329Z"
   },
   {
    "duration": 5,
    "start_time": "2023-03-23T12:37:11.354Z"
   },
   {
    "duration": 171,
    "start_time": "2023-03-23T12:37:11.361Z"
   },
   {
    "duration": 431,
    "start_time": "2023-03-23T12:37:11.535Z"
   },
   {
    "duration": 86,
    "start_time": "2023-03-23T12:37:30.240Z"
   },
   {
    "duration": 30,
    "start_time": "2023-03-23T12:38:40.414Z"
   },
   {
    "duration": 1886,
    "start_time": "2023-03-23T12:39:46.164Z"
   },
   {
    "duration": 69,
    "start_time": "2023-03-23T12:39:48.054Z"
   },
   {
    "duration": 36,
    "start_time": "2023-03-23T12:39:48.125Z"
   },
   {
    "duration": 5,
    "start_time": "2023-03-23T12:39:48.163Z"
   },
   {
    "duration": 402,
    "start_time": "2023-03-23T12:39:48.170Z"
   },
   {
    "duration": 311,
    "start_time": "2023-03-23T12:39:48.574Z"
   },
   {
    "duration": 170,
    "start_time": "2023-03-23T12:39:48.888Z"
   },
   {
    "duration": 6,
    "start_time": "2023-03-23T12:39:49.061Z"
   },
   {
    "duration": 43,
    "start_time": "2023-03-23T12:39:49.069Z"
   },
   {
    "duration": 11,
    "start_time": "2023-03-23T12:39:49.114Z"
   },
   {
    "duration": 128,
    "start_time": "2023-03-23T12:39:49.127Z"
   },
   {
    "duration": 8,
    "start_time": "2023-03-23T12:39:49.257Z"
   },
   {
    "duration": 33,
    "start_time": "2023-03-23T12:39:49.268Z"
   },
   {
    "duration": 4,
    "start_time": "2023-03-23T12:39:49.306Z"
   },
   {
    "duration": 34,
    "start_time": "2023-03-23T12:39:49.313Z"
   },
   {
    "duration": 176,
    "start_time": "2023-03-23T12:39:49.349Z"
   },
   {
    "duration": 197,
    "start_time": "2023-03-23T13:53:43.926Z"
   },
   {
    "duration": 1783,
    "start_time": "2023-03-23T13:53:58.653Z"
   },
   {
    "duration": 60,
    "start_time": "2023-03-23T13:54:00.438Z"
   },
   {
    "duration": 37,
    "start_time": "2023-03-23T13:54:00.501Z"
   },
   {
    "duration": 4,
    "start_time": "2023-03-23T13:54:00.541Z"
   },
   {
    "duration": 376,
    "start_time": "2023-03-23T13:54:00.547Z"
   },
   {
    "duration": 274,
    "start_time": "2023-03-23T13:54:00.925Z"
   },
   {
    "duration": 142,
    "start_time": "2023-03-23T13:54:01.200Z"
   },
   {
    "duration": 4,
    "start_time": "2023-03-23T13:54:01.344Z"
   },
   {
    "duration": 117,
    "start_time": "2023-03-23T13:54:01.351Z"
   },
   {
    "duration": 165,
    "start_time": "2023-03-23T13:54:01.472Z"
   },
   {
    "duration": 95,
    "start_time": "2023-03-23T13:54:01.639Z"
   },
   {
    "duration": 118,
    "start_time": "2023-03-23T13:54:01.737Z"
   },
   {
    "duration": 185,
    "start_time": "2023-03-23T13:54:01.857Z"
   },
   {
    "duration": 66,
    "start_time": "2023-03-23T13:54:02.044Z"
   },
   {
    "duration": 110,
    "start_time": "2023-03-23T13:54:02.113Z"
   },
   {
    "duration": 39,
    "start_time": "2023-03-23T13:54:02.301Z"
   },
   {
    "duration": 85,
    "start_time": "2023-03-23T13:57:12.156Z"
   },
   {
    "duration": 1658,
    "start_time": "2023-03-23T13:57:19.215Z"
   },
   {
    "duration": 351,
    "start_time": "2023-03-23T13:57:20.876Z"
   },
   {
    "duration": 30,
    "start_time": "2023-03-23T13:57:21.228Z"
   },
   {
    "duration": 4,
    "start_time": "2023-03-23T13:57:21.260Z"
   },
   {
    "duration": 285,
    "start_time": "2023-03-23T13:57:21.265Z"
   },
   {
    "duration": 275,
    "start_time": "2023-03-23T13:57:21.552Z"
   },
   {
    "duration": 109,
    "start_time": "2023-03-23T13:57:21.829Z"
   },
   {
    "duration": 6,
    "start_time": "2023-03-23T13:57:21.940Z"
   },
   {
    "duration": 22,
    "start_time": "2023-03-23T13:57:21.948Z"
   },
   {
    "duration": 10,
    "start_time": "2023-03-23T13:57:21.972Z"
   },
   {
    "duration": 24,
    "start_time": "2023-03-23T13:57:21.983Z"
   },
   {
    "duration": 100,
    "start_time": "2023-03-23T13:57:22.009Z"
   },
   {
    "duration": 36,
    "start_time": "2023-03-23T13:57:22.111Z"
   },
   {
    "duration": 9,
    "start_time": "2023-03-23T13:57:22.149Z"
   },
   {
    "duration": 48,
    "start_time": "2023-03-23T13:57:22.160Z"
   },
   {
    "duration": 97,
    "start_time": "2023-03-23T13:57:22.210Z"
   },
   {
    "duration": 2005,
    "start_time": "2023-03-23T14:32:00.905Z"
   },
   {
    "duration": 74,
    "start_time": "2023-03-23T14:32:02.913Z"
   },
   {
    "duration": 41,
    "start_time": "2023-03-23T14:32:02.990Z"
   },
   {
    "duration": 8,
    "start_time": "2023-03-23T14:32:03.033Z"
   },
   {
    "duration": 429,
    "start_time": "2023-03-23T14:32:03.044Z"
   },
   {
    "duration": 352,
    "start_time": "2023-03-23T14:32:03.475Z"
   },
   {
    "duration": 242,
    "start_time": "2023-03-23T14:32:03.829Z"
   },
   {
    "duration": 6,
    "start_time": "2023-03-23T14:32:04.074Z"
   },
   {
    "duration": 40,
    "start_time": "2023-03-23T14:32:04.083Z"
   },
   {
    "duration": 11,
    "start_time": "2023-03-23T14:32:04.125Z"
   },
   {
    "duration": 8,
    "start_time": "2023-03-23T14:32:04.138Z"
   },
   {
    "duration": 12,
    "start_time": "2023-03-23T14:32:04.150Z"
   },
   {
    "duration": 21,
    "start_time": "2023-03-23T14:32:04.164Z"
   },
   {
    "duration": 15,
    "start_time": "2023-03-23T14:32:04.188Z"
   },
   {
    "duration": 23,
    "start_time": "2023-03-23T14:32:04.205Z"
   },
   {
    "duration": 180,
    "start_time": "2023-03-23T14:32:04.230Z"
   },
   {
    "duration": 172,
    "start_time": "2023-03-23T14:36:33.219Z"
   },
   {
    "duration": 2039,
    "start_time": "2023-03-23T14:37:26.559Z"
   },
   {
    "duration": 3819,
    "start_time": "2023-03-23T14:40:29.163Z"
   },
   {
    "duration": 3692,
    "start_time": "2023-03-23T14:43:36.000Z"
   },
   {
    "duration": 3797,
    "start_time": "2023-03-23T14:46:57.392Z"
   },
   {
    "duration": 3685,
    "start_time": "2023-03-23T14:49:11.159Z"
   },
   {
    "duration": 3635,
    "start_time": "2023-03-23T14:54:35.042Z"
   },
   {
    "duration": 1831,
    "start_time": "2023-03-23T14:58:12.279Z"
   },
   {
    "duration": 19825,
    "start_time": "2023-03-23T14:58:29.221Z"
   },
   {
    "duration": 20175,
    "start_time": "2023-03-23T14:59:20.689Z"
   },
   {
    "duration": 4,
    "start_time": "2023-03-23T14:59:55.851Z"
   },
   {
    "duration": 4,
    "start_time": "2023-03-23T15:00:12.206Z"
   },
   {
    "duration": 5,
    "start_time": "2023-03-23T15:00:32.337Z"
   },
   {
    "duration": 1707,
    "start_time": "2023-03-23T15:01:57.347Z"
   },
   {
    "duration": 19648,
    "start_time": "2023-03-23T15:02:11.961Z"
   },
   {
    "duration": 4,
    "start_time": "2023-03-23T15:03:57.410Z"
   },
   {
    "duration": 20750,
    "start_time": "2023-03-23T15:04:22.354Z"
   },
   {
    "duration": 19862,
    "start_time": "2023-03-23T15:06:08.005Z"
   },
   {
    "duration": 19418,
    "start_time": "2023-03-23T15:07:14.088Z"
   },
   {
    "duration": 16,
    "start_time": "2023-03-23T15:09:33.579Z"
   },
   {
    "duration": 6,
    "start_time": "2023-03-23T15:09:54.397Z"
   },
   {
    "duration": 6,
    "start_time": "2023-03-23T15:10:16.388Z"
   },
   {
    "duration": 24529,
    "start_time": "2023-03-23T15:12:12.597Z"
   },
   {
    "duration": 23834,
    "start_time": "2023-03-23T15:13:42.122Z"
   },
   {
    "duration": 59456,
    "start_time": "2023-03-23T15:14:24.142Z"
   },
   {
    "duration": 55855,
    "start_time": "2023-03-23T15:15:34.680Z"
   },
   {
    "duration": 15,
    "start_time": "2023-03-23T15:16:42.459Z"
   },
   {
    "duration": 7,
    "start_time": "2023-03-23T15:17:20.961Z"
   },
   {
    "duration": 9,
    "start_time": "2023-03-23T15:17:28.713Z"
   },
   {
    "duration": 1962,
    "start_time": "2023-03-23T15:20:15.513Z"
   },
   {
    "duration": 72,
    "start_time": "2023-03-23T15:20:17.479Z"
   },
   {
    "duration": 38,
    "start_time": "2023-03-23T15:20:17.553Z"
   },
   {
    "duration": 5,
    "start_time": "2023-03-23T15:20:17.605Z"
   },
   {
    "duration": 405,
    "start_time": "2023-03-23T15:20:17.612Z"
   },
   {
    "duration": 350,
    "start_time": "2023-03-23T15:20:18.021Z"
   },
   {
    "duration": 264,
    "start_time": "2023-03-23T15:20:18.374Z"
   },
   {
    "duration": 9,
    "start_time": "2023-03-23T15:20:18.640Z"
   },
   {
    "duration": 28,
    "start_time": "2023-03-23T15:20:18.654Z"
   },
   {
    "duration": 12,
    "start_time": "2023-03-23T15:20:18.702Z"
   },
   {
    "duration": 7,
    "start_time": "2023-03-23T15:20:18.716Z"
   },
   {
    "duration": 5,
    "start_time": "2023-03-23T15:20:18.725Z"
   },
   {
    "duration": 22,
    "start_time": "2023-03-23T15:20:18.733Z"
   },
   {
    "duration": 5,
    "start_time": "2023-03-23T15:20:18.758Z"
   },
   {
    "duration": 157,
    "start_time": "2023-03-23T15:20:18.766Z"
   },
   {
    "duration": 103,
    "start_time": "2023-03-23T15:20:18.927Z"
   },
   {
    "duration": 50886,
    "start_time": "2023-03-23T15:20:19.041Z"
   },
   {
    "duration": 48280,
    "start_time": "2023-03-23T15:21:09.929Z"
   },
   {
    "duration": 8,
    "start_time": "2023-03-23T15:21:58.211Z"
   },
   {
    "duration": 8,
    "start_time": "2023-03-23T15:23:23.779Z"
   },
   {
    "duration": 8,
    "start_time": "2023-03-23T15:23:43.327Z"
   },
   {
    "duration": 5,
    "start_time": "2023-03-23T15:24:13.464Z"
   },
   {
    "duration": 50159,
    "start_time": "2023-03-23T15:25:24.377Z"
   },
   {
    "duration": 46704,
    "start_time": "2023-03-23T15:30:10.865Z"
   },
   {
    "duration": 45746,
    "start_time": "2023-03-23T15:31:25.518Z"
   },
   {
    "duration": 6,
    "start_time": "2023-03-23T15:32:26.235Z"
   },
   {
    "duration": 6,
    "start_time": "2023-03-23T15:34:06.554Z"
   },
   {
    "duration": 6,
    "start_time": "2023-03-23T15:34:11.302Z"
   },
   {
    "duration": 389187,
    "start_time": "2023-03-23T15:38:38.631Z"
   },
   {
    "duration": 6,
    "start_time": "2023-03-23T15:46:07.163Z"
   },
   {
    "duration": 378356,
    "start_time": "2023-03-23T15:46:39.423Z"
   },
   {
    "duration": 5,
    "start_time": "2023-03-23T15:53:28.317Z"
   },
   {
    "duration": 144,
    "start_time": "2023-03-23T15:55:59.175Z"
   },
   {
    "duration": 8,
    "start_time": "2023-03-23T15:56:15.176Z"
   },
   {
    "duration": 39584,
    "start_time": "2023-03-23T15:58:42.972Z"
   },
   {
    "duration": 14,
    "start_time": "2023-03-23T16:00:46.652Z"
   },
   {
    "duration": 20,
    "start_time": "2023-03-23T16:01:02.422Z"
   },
   {
    "duration": 21,
    "start_time": "2023-03-23T16:01:17.584Z"
   },
   {
    "duration": 15,
    "start_time": "2023-03-23T16:04:22.022Z"
   },
   {
    "duration": 17,
    "start_time": "2023-03-23T16:11:41.037Z"
   },
   {
    "duration": 1556,
    "start_time": "2023-03-23T16:11:59.621Z"
   },
   {
    "duration": 58,
    "start_time": "2023-03-23T16:12:01.180Z"
   },
   {
    "duration": 36,
    "start_time": "2023-03-23T16:12:01.240Z"
   },
   {
    "duration": 5,
    "start_time": "2023-03-23T16:12:01.278Z"
   },
   {
    "duration": 303,
    "start_time": "2023-03-23T16:12:01.302Z"
   },
   {
    "duration": 252,
    "start_time": "2023-03-23T16:12:01.607Z"
   },
   {
    "duration": 220,
    "start_time": "2023-03-23T16:12:01.861Z"
   },
   {
    "duration": 7,
    "start_time": "2023-03-23T16:12:02.083Z"
   },
   {
    "duration": 81,
    "start_time": "2023-03-23T16:12:02.092Z"
   },
   {
    "duration": 38,
    "start_time": "2023-03-23T16:12:02.175Z"
   },
   {
    "duration": 46,
    "start_time": "2023-03-23T16:12:02.215Z"
   },
   {
    "duration": 32,
    "start_time": "2023-03-23T16:12:02.264Z"
   },
   {
    "duration": 44,
    "start_time": "2023-03-23T16:12:02.299Z"
   },
   {
    "duration": 21,
    "start_time": "2023-03-23T16:12:02.347Z"
   },
   {
    "duration": 151,
    "start_time": "2023-03-23T16:12:02.371Z"
   },
   {
    "duration": 91,
    "start_time": "2023-03-23T16:12:02.525Z"
   },
   {
    "duration": 317,
    "start_time": "2023-03-23T16:12:02.618Z"
   },
   {
    "duration": 0,
    "start_time": "2023-03-23T16:12:02.937Z"
   },
   {
    "duration": 0,
    "start_time": "2023-03-23T16:12:02.938Z"
   },
   {
    "duration": 0,
    "start_time": "2023-03-23T16:12:02.940Z"
   },
   {
    "duration": 12,
    "start_time": "2023-03-23T16:12:36.731Z"
   },
   {
    "duration": 1434,
    "start_time": "2023-03-23T16:13:36.819Z"
   },
   {
    "duration": 62,
    "start_time": "2023-03-23T16:13:38.255Z"
   },
   {
    "duration": 27,
    "start_time": "2023-03-23T16:13:38.319Z"
   },
   {
    "duration": 4,
    "start_time": "2023-03-23T16:13:38.348Z"
   },
   {
    "duration": 294,
    "start_time": "2023-03-23T16:13:38.354Z"
   },
   {
    "duration": 251,
    "start_time": "2023-03-23T16:13:38.650Z"
   },
   {
    "duration": 203,
    "start_time": "2023-03-23T16:13:38.904Z"
   },
   {
    "duration": 5,
    "start_time": "2023-03-23T16:13:39.109Z"
   },
   {
    "duration": 31,
    "start_time": "2023-03-23T16:13:39.116Z"
   },
   {
    "duration": 8,
    "start_time": "2023-03-23T16:13:39.149Z"
   },
   {
    "duration": 9,
    "start_time": "2023-03-23T16:13:39.158Z"
   },
   {
    "duration": 18,
    "start_time": "2023-03-23T16:13:39.168Z"
   },
   {
    "duration": 33,
    "start_time": "2023-03-23T16:13:39.188Z"
   },
   {
    "duration": 10,
    "start_time": "2023-03-23T16:13:39.225Z"
   },
   {
    "duration": 29,
    "start_time": "2023-03-23T16:13:39.237Z"
   },
   {
    "duration": 137,
    "start_time": "2023-03-23T16:13:39.268Z"
   },
   {
    "duration": 21129,
    "start_time": "2023-03-23T16:13:39.407Z"
   },
   {
    "duration": 0,
    "start_time": "2023-03-23T16:14:00.538Z"
   },
   {
    "duration": 0,
    "start_time": "2023-03-23T16:14:00.540Z"
   },
   {
    "duration": 0,
    "start_time": "2023-03-23T16:14:00.541Z"
   },
   {
    "duration": 0,
    "start_time": "2023-03-23T16:14:00.541Z"
   },
   {
    "duration": 4,
    "start_time": "2023-03-23T16:14:05.640Z"
   },
   {
    "duration": 45,
    "start_time": "2023-03-23T16:15:16.424Z"
   },
   {
    "duration": 40077,
    "start_time": "2023-03-23T16:15:26.033Z"
   },
   {
    "duration": 43206,
    "start_time": "2023-03-23T16:17:28.587Z"
   },
   {
    "duration": 42211,
    "start_time": "2023-03-23T16:19:31.591Z"
   },
   {
    "duration": 39994,
    "start_time": "2023-03-23T16:20:25.980Z"
   },
   {
    "duration": 7,
    "start_time": "2023-03-23T16:22:42.851Z"
   },
   {
    "duration": 40,
    "start_time": "2023-03-23T16:22:53.553Z"
   },
   {
    "duration": 5,
    "start_time": "2023-03-23T16:23:08.438Z"
   },
   {
    "duration": 16,
    "start_time": "2023-03-23T16:23:21.241Z"
   },
   {
    "duration": 6,
    "start_time": "2023-03-23T16:23:31.118Z"
   },
   {
    "duration": 6,
    "start_time": "2023-03-23T16:24:11.252Z"
   },
   {
    "duration": 5,
    "start_time": "2023-03-23T16:24:43.679Z"
   },
   {
    "duration": 1466,
    "start_time": "2023-03-23T16:25:41.153Z"
   },
   {
    "duration": 67,
    "start_time": "2023-03-23T16:25:42.621Z"
   },
   {
    "duration": 41,
    "start_time": "2023-03-23T16:25:42.690Z"
   },
   {
    "duration": 6,
    "start_time": "2023-03-23T16:25:42.733Z"
   },
   {
    "duration": 300,
    "start_time": "2023-03-23T16:25:42.741Z"
   },
   {
    "duration": 264,
    "start_time": "2023-03-23T16:25:43.043Z"
   },
   {
    "duration": 224,
    "start_time": "2023-03-23T16:25:43.309Z"
   },
   {
    "duration": 4,
    "start_time": "2023-03-23T16:25:43.535Z"
   },
   {
    "duration": 22,
    "start_time": "2023-03-23T16:25:43.541Z"
   },
   {
    "duration": 9,
    "start_time": "2023-03-23T16:25:43.565Z"
   },
   {
    "duration": 35,
    "start_time": "2023-03-23T16:25:43.575Z"
   },
   {
    "duration": 6,
    "start_time": "2023-03-23T16:25:43.612Z"
   },
   {
    "duration": 15,
    "start_time": "2023-03-23T16:25:43.621Z"
   },
   {
    "duration": 3,
    "start_time": "2023-03-23T16:25:43.639Z"
   },
   {
    "duration": 66,
    "start_time": "2023-03-23T16:25:43.644Z"
   },
   {
    "duration": 100,
    "start_time": "2023-03-23T16:25:43.717Z"
   },
   {
    "duration": 38212,
    "start_time": "2023-03-23T16:25:43.821Z"
   },
   {
    "duration": 39448,
    "start_time": "2023-03-23T16:26:22.036Z"
   },
   {
    "duration": 6,
    "start_time": "2023-03-23T16:27:01.485Z"
   },
   {
    "duration": 39,
    "start_time": "2023-03-23T16:27:01.492Z"
   },
   {
    "duration": 15,
    "start_time": "2023-03-23T16:30:33.093Z"
   },
   {
    "duration": 8,
    "start_time": "2023-03-23T16:30:53.723Z"
   },
   {
    "duration": 4,
    "start_time": "2023-03-23T16:34:00.431Z"
   },
   {
    "duration": 21,
    "start_time": "2023-03-23T16:34:01.261Z"
   },
   {
    "duration": 32,
    "start_time": "2023-03-23T16:34:10.782Z"
   },
   {
    "duration": 1546,
    "start_time": "2023-03-23T16:36:56.183Z"
   },
   {
    "duration": 58,
    "start_time": "2023-03-23T16:36:57.731Z"
   },
   {
    "duration": 29,
    "start_time": "2023-03-23T16:36:57.791Z"
   },
   {
    "duration": 7,
    "start_time": "2023-03-23T16:36:57.821Z"
   },
   {
    "duration": 366,
    "start_time": "2023-03-23T16:36:57.831Z"
   },
   {
    "duration": 277,
    "start_time": "2023-03-23T16:36:58.202Z"
   },
   {
    "duration": 212,
    "start_time": "2023-03-23T16:36:58.481Z"
   },
   {
    "duration": 10,
    "start_time": "2023-03-23T16:36:58.695Z"
   },
   {
    "duration": 43,
    "start_time": "2023-03-23T16:36:58.707Z"
   },
   {
    "duration": 13,
    "start_time": "2023-03-23T16:36:58.752Z"
   },
   {
    "duration": 6,
    "start_time": "2023-03-23T16:36:58.767Z"
   },
   {
    "duration": 28,
    "start_time": "2023-03-23T16:36:58.775Z"
   },
   {
    "duration": 24,
    "start_time": "2023-03-23T16:36:58.806Z"
   },
   {
    "duration": 5,
    "start_time": "2023-03-23T16:36:58.833Z"
   },
   {
    "duration": 5,
    "start_time": "2023-03-23T16:36:58.840Z"
   },
   {
    "duration": 12,
    "start_time": "2023-03-23T16:36:58.847Z"
   },
   {
    "duration": 41823,
    "start_time": "2023-03-23T16:36:58.861Z"
   },
   {
    "duration": 42105,
    "start_time": "2023-03-23T16:37:40.687Z"
   },
   {
    "duration": 6,
    "start_time": "2023-03-23T16:38:22.794Z"
   },
   {
    "duration": 8,
    "start_time": "2023-03-23T16:38:22.802Z"
   },
   {
    "duration": 8,
    "start_time": "2023-03-23T16:41:04.956Z"
   },
   {
    "duration": 4,
    "start_time": "2023-03-23T16:45:36.469Z"
   },
   {
    "duration": 24,
    "start_time": "2023-03-23T16:45:54.893Z"
   },
   {
    "duration": 1729,
    "start_time": "2023-03-23T16:52:19.363Z"
   },
   {
    "duration": 85,
    "start_time": "2023-03-23T16:52:21.094Z"
   },
   {
    "duration": 33,
    "start_time": "2023-03-23T16:52:21.181Z"
   },
   {
    "duration": 5,
    "start_time": "2023-03-23T16:52:21.217Z"
   },
   {
    "duration": 298,
    "start_time": "2023-03-23T16:52:21.225Z"
   },
   {
    "duration": 258,
    "start_time": "2023-03-23T16:52:21.525Z"
   },
   {
    "duration": 216,
    "start_time": "2023-03-23T16:52:21.785Z"
   },
   {
    "duration": 9,
    "start_time": "2023-03-23T16:52:22.004Z"
   },
   {
    "duration": 35,
    "start_time": "2023-03-23T16:52:22.015Z"
   },
   {
    "duration": 12,
    "start_time": "2023-03-23T16:52:22.055Z"
   },
   {
    "duration": 17,
    "start_time": "2023-03-23T16:52:22.069Z"
   },
   {
    "duration": 6,
    "start_time": "2023-03-23T16:52:22.104Z"
   },
   {
    "duration": 28,
    "start_time": "2023-03-23T16:52:22.112Z"
   },
   {
    "duration": 5,
    "start_time": "2023-03-23T16:52:22.142Z"
   },
   {
    "duration": 10,
    "start_time": "2023-03-23T16:52:22.149Z"
   },
   {
    "duration": 7,
    "start_time": "2023-03-23T16:52:22.160Z"
   },
   {
    "duration": 159,
    "start_time": "2023-03-23T16:52:22.170Z"
   },
   {
    "duration": 0,
    "start_time": "2023-03-23T16:52:22.331Z"
   },
   {
    "duration": 0,
    "start_time": "2023-03-23T16:52:22.333Z"
   },
   {
    "duration": 0,
    "start_time": "2023-03-23T16:52:22.334Z"
   },
   {
    "duration": 11,
    "start_time": "2023-03-23T16:53:16.934Z"
   },
   {
    "duration": 48907,
    "start_time": "2023-03-23T16:53:23.315Z"
   },
   {
    "duration": 49995,
    "start_time": "2023-03-23T16:54:17.986Z"
   },
   {
    "duration": 7,
    "start_time": "2023-03-23T16:55:21.965Z"
   },
   {
    "duration": 5,
    "start_time": "2023-03-23T16:55:31.785Z"
   },
   {
    "duration": 1551,
    "start_time": "2023-03-23T16:56:25.083Z"
   },
   {
    "duration": 55,
    "start_time": "2023-03-23T16:56:26.636Z"
   },
   {
    "duration": 32,
    "start_time": "2023-03-23T16:56:26.693Z"
   },
   {
    "duration": 5,
    "start_time": "2023-03-23T16:56:26.728Z"
   },
   {
    "duration": 350,
    "start_time": "2023-03-23T16:56:26.736Z"
   },
   {
    "duration": 263,
    "start_time": "2023-03-23T16:56:27.088Z"
   },
   {
    "duration": 208,
    "start_time": "2023-03-23T16:56:27.354Z"
   },
   {
    "duration": 53,
    "start_time": "2023-03-23T16:56:27.565Z"
   },
   {
    "duration": 0,
    "start_time": "2023-03-23T16:56:27.623Z"
   },
   {
    "duration": 0,
    "start_time": "2023-03-23T16:56:27.625Z"
   },
   {
    "duration": 0,
    "start_time": "2023-03-23T16:56:27.627Z"
   },
   {
    "duration": 0,
    "start_time": "2023-03-23T16:56:27.628Z"
   },
   {
    "duration": 0,
    "start_time": "2023-03-23T16:56:27.629Z"
   },
   {
    "duration": 0,
    "start_time": "2023-03-23T16:56:27.630Z"
   },
   {
    "duration": 0,
    "start_time": "2023-03-23T16:56:27.632Z"
   },
   {
    "duration": 0,
    "start_time": "2023-03-23T16:56:27.633Z"
   },
   {
    "duration": 0,
    "start_time": "2023-03-23T16:56:27.634Z"
   },
   {
    "duration": 0,
    "start_time": "2023-03-23T16:56:27.635Z"
   },
   {
    "duration": 0,
    "start_time": "2023-03-23T16:56:27.636Z"
   },
   {
    "duration": 0,
    "start_time": "2023-03-23T16:56:27.638Z"
   },
   {
    "duration": 1421,
    "start_time": "2023-03-23T16:56:52.732Z"
   },
   {
    "duration": 68,
    "start_time": "2023-03-23T16:56:54.156Z"
   },
   {
    "duration": 30,
    "start_time": "2023-03-23T16:56:54.226Z"
   },
   {
    "duration": 3,
    "start_time": "2023-03-23T16:56:54.258Z"
   },
   {
    "duration": 305,
    "start_time": "2023-03-23T16:56:54.263Z"
   },
   {
    "duration": 269,
    "start_time": "2023-03-23T16:56:54.570Z"
   },
   {
    "duration": 192,
    "start_time": "2023-03-23T16:56:54.840Z"
   },
   {
    "duration": 4,
    "start_time": "2023-03-23T16:56:55.034Z"
   },
   {
    "duration": 24,
    "start_time": "2023-03-23T16:56:55.039Z"
   },
   {
    "duration": 7,
    "start_time": "2023-03-23T16:56:55.065Z"
   },
   {
    "duration": 6,
    "start_time": "2023-03-23T16:56:55.073Z"
   },
   {
    "duration": 27,
    "start_time": "2023-03-23T16:56:55.080Z"
   },
   {
    "duration": 24,
    "start_time": "2023-03-23T16:56:55.108Z"
   },
   {
    "duration": 4,
    "start_time": "2023-03-23T16:56:55.134Z"
   },
   {
    "duration": 5,
    "start_time": "2023-03-23T16:56:55.140Z"
   },
   {
    "duration": 7,
    "start_time": "2023-03-23T16:56:55.147Z"
   },
   {
    "duration": 47936,
    "start_time": "2023-03-23T16:56:55.156Z"
   },
   {
    "duration": 45646,
    "start_time": "2023-03-23T16:57:43.094Z"
   },
   {
    "duration": 7,
    "start_time": "2023-03-23T16:58:28.741Z"
   },
   {
    "duration": 5,
    "start_time": "2023-03-23T16:58:28.750Z"
   },
   {
    "duration": 11586,
    "start_time": "2023-03-23T16:59:03.771Z"
   },
   {
    "duration": 10629,
    "start_time": "2023-03-23T16:59:18.716Z"
   },
   {
    "duration": 5,
    "start_time": "2023-03-23T16:59:55.852Z"
   },
   {
    "duration": 5,
    "start_time": "2023-03-23T17:00:03.789Z"
   },
   {
    "duration": 137,
    "start_time": "2023-03-23T17:00:54.028Z"
   },
   {
    "duration": 12,
    "start_time": "2023-03-23T17:01:12.811Z"
   },
   {
    "duration": 8,
    "start_time": "2023-03-23T17:01:21.944Z"
   },
   {
    "duration": 10,
    "start_time": "2023-03-23T17:01:39.783Z"
   },
   {
    "duration": 25214,
    "start_time": "2023-03-23T17:02:13.428Z"
   },
   {
    "duration": 26018,
    "start_time": "2023-03-23T17:03:08.770Z"
   },
   {
    "duration": 5,
    "start_time": "2023-03-23T17:03:56.662Z"
   },
   {
    "duration": 1618,
    "start_time": "2023-03-23T17:10:33.975Z"
   },
   {
    "duration": 57,
    "start_time": "2023-03-23T17:10:35.595Z"
   },
   {
    "duration": 32,
    "start_time": "2023-03-23T17:10:35.654Z"
   },
   {
    "duration": 4,
    "start_time": "2023-03-23T17:10:35.688Z"
   },
   {
    "duration": 288,
    "start_time": "2023-03-23T17:10:35.703Z"
   },
   {
    "duration": 295,
    "start_time": "2023-03-23T17:10:35.992Z"
   },
   {
    "duration": 190,
    "start_time": "2023-03-23T17:10:36.289Z"
   },
   {
    "duration": 5,
    "start_time": "2023-03-23T17:10:36.480Z"
   },
   {
    "duration": 37,
    "start_time": "2023-03-23T17:10:36.486Z"
   },
   {
    "duration": 8,
    "start_time": "2023-03-23T17:10:36.526Z"
   },
   {
    "duration": 10,
    "start_time": "2023-03-23T17:10:36.536Z"
   },
   {
    "duration": 12,
    "start_time": "2023-03-23T17:10:36.547Z"
   },
   {
    "duration": 17,
    "start_time": "2023-03-23T17:10:36.560Z"
   },
   {
    "duration": 4,
    "start_time": "2023-03-23T17:10:36.579Z"
   },
   {
    "duration": 24,
    "start_time": "2023-03-23T17:10:36.585Z"
   },
   {
    "duration": 10,
    "start_time": "2023-03-23T17:10:36.614Z"
   },
   {
    "duration": 6215,
    "start_time": "2023-03-23T17:10:36.626Z"
   },
   {
    "duration": 0,
    "start_time": "2023-03-23T17:10:42.843Z"
   },
   {
    "duration": 0,
    "start_time": "2023-03-23T17:10:42.844Z"
   },
   {
    "duration": 0,
    "start_time": "2023-03-23T17:10:42.846Z"
   },
   {
    "duration": 5416978,
    "start_time": "2023-03-23T17:12:07.922Z"
   },
   {
    "duration": 1537,
    "start_time": "2023-03-23T19:51:15.984Z"
   },
   {
    "duration": 66,
    "start_time": "2023-03-23T19:51:17.524Z"
   },
   {
    "duration": 26,
    "start_time": "2023-03-23T19:51:17.592Z"
   },
   {
    "duration": 3,
    "start_time": "2023-03-23T19:51:17.619Z"
   },
   {
    "duration": 272,
    "start_time": "2023-03-23T19:51:17.624Z"
   },
   {
    "duration": 268,
    "start_time": "2023-03-23T19:51:17.903Z"
   },
   {
    "duration": 186,
    "start_time": "2023-03-23T19:51:18.173Z"
   },
   {
    "duration": 4,
    "start_time": "2023-03-23T19:51:18.361Z"
   },
   {
    "duration": 36,
    "start_time": "2023-03-23T19:51:18.367Z"
   },
   {
    "duration": 7,
    "start_time": "2023-03-23T19:51:18.405Z"
   },
   {
    "duration": 17,
    "start_time": "2023-03-23T19:51:18.414Z"
   },
   {
    "duration": 4,
    "start_time": "2023-03-23T19:51:18.432Z"
   },
   {
    "duration": 16,
    "start_time": "2023-03-23T19:51:18.438Z"
   },
   {
    "duration": 4,
    "start_time": "2023-03-23T19:51:18.457Z"
   },
   {
    "duration": 9,
    "start_time": "2023-03-23T19:51:18.462Z"
   },
   {
    "duration": 31,
    "start_time": "2023-03-23T19:51:18.472Z"
   },
   {
    "duration": 1604,
    "start_time": "2023-03-24T06:07:24.708Z"
   },
   {
    "duration": 197,
    "start_time": "2023-03-24T06:07:26.315Z"
   },
   {
    "duration": 46,
    "start_time": "2023-03-24T06:07:26.514Z"
   },
   {
    "duration": 9,
    "start_time": "2023-03-24T06:07:26.562Z"
   },
   {
    "duration": 301,
    "start_time": "2023-03-24T06:07:26.574Z"
   },
   {
    "duration": 234,
    "start_time": "2023-03-24T06:07:26.876Z"
   },
   {
    "duration": 156,
    "start_time": "2023-03-24T06:07:27.112Z"
   },
   {
    "duration": 4,
    "start_time": "2023-03-24T06:07:27.270Z"
   },
   {
    "duration": 34,
    "start_time": "2023-03-24T06:07:27.275Z"
   },
   {
    "duration": 7,
    "start_time": "2023-03-24T06:07:27.311Z"
   },
   {
    "duration": 4,
    "start_time": "2023-03-24T06:07:27.320Z"
   },
   {
    "duration": 28,
    "start_time": "2023-03-24T06:07:27.326Z"
   },
   {
    "duration": 14,
    "start_time": "2023-03-24T06:07:27.355Z"
   },
   {
    "duration": 4,
    "start_time": "2023-03-24T06:07:27.371Z"
   },
   {
    "duration": 3,
    "start_time": "2023-03-24T06:07:27.376Z"
   },
   {
    "duration": 14,
    "start_time": "2023-03-24T06:07:27.380Z"
   },
   {
    "duration": 306047,
    "start_time": "2023-03-24T06:07:27.395Z"
   },
   {
    "duration": 0,
    "start_time": "2023-03-24T06:12:33.444Z"
   },
   {
    "duration": 0,
    "start_time": "2023-03-24T06:12:33.445Z"
   },
   {
    "duration": 0,
    "start_time": "2023-03-24T06:12:33.446Z"
   },
   {
    "duration": 4166543,
    "start_time": "2023-03-24T06:12:55.437Z"
   },
   {
    "duration": 6,
    "start_time": "2023-03-24T07:24:18.961Z"
   },
   {
    "duration": 57,
    "start_time": "2023-03-24T07:27:49.411Z"
   },
   {
    "duration": 58,
    "start_time": "2023-03-24T07:28:22.301Z"
   },
   {
    "duration": 49,
    "start_time": "2023-03-24T07:28:27.423Z"
   },
   {
    "duration": 70237,
    "start_time": "2023-03-24T07:28:34.679Z"
   },
   {
    "duration": 70824,
    "start_time": "2023-03-24T07:30:05.261Z"
   },
   {
    "duration": 67698,
    "start_time": "2023-03-24T07:48:31.160Z"
   },
   {
    "duration": 4,
    "start_time": "2023-03-24T07:51:10.262Z"
   },
   {
    "duration": 55916,
    "start_time": "2023-03-24T07:51:14.592Z"
   },
   {
    "duration": 1291,
    "start_time": "2023-03-24T08:20:19.289Z"
   },
   {
    "duration": 53,
    "start_time": "2023-03-24T08:20:20.582Z"
   },
   {
    "duration": 25,
    "start_time": "2023-03-24T08:20:20.636Z"
   },
   {
    "duration": 3,
    "start_time": "2023-03-24T08:20:20.663Z"
   },
   {
    "duration": 257,
    "start_time": "2023-03-24T08:20:20.668Z"
   },
   {
    "duration": 236,
    "start_time": "2023-03-24T08:20:20.926Z"
   },
   {
    "duration": 150,
    "start_time": "2023-03-24T08:20:21.164Z"
   },
   {
    "duration": 4,
    "start_time": "2023-03-24T08:20:21.316Z"
   },
   {
    "duration": 19,
    "start_time": "2023-03-24T08:20:21.322Z"
   },
   {
    "duration": 7,
    "start_time": "2023-03-24T08:20:21.343Z"
   },
   {
    "duration": 21,
    "start_time": "2023-03-24T08:20:21.351Z"
   },
   {
    "duration": 18,
    "start_time": "2023-03-24T08:20:21.374Z"
   },
   {
    "duration": 19,
    "start_time": "2023-03-24T08:20:21.393Z"
   },
   {
    "duration": 3,
    "start_time": "2023-03-24T08:20:21.413Z"
   },
   {
    "duration": 4,
    "start_time": "2023-03-24T08:20:21.417Z"
   },
   {
    "duration": 5,
    "start_time": "2023-03-24T08:20:21.422Z"
   },
   {
    "duration": 46634,
    "start_time": "2023-03-24T08:20:21.428Z"
   },
   {
    "duration": 48223,
    "start_time": "2023-03-24T08:21:08.064Z"
   },
   {
    "duration": 15314,
    "start_time": "2023-03-24T08:21:56.289Z"
   },
   {
    "duration": 0,
    "start_time": "2023-03-24T08:22:11.605Z"
   },
   {
    "duration": 0,
    "start_time": "2023-03-24T08:22:11.606Z"
   },
   {
    "duration": 375,
    "start_time": "2023-03-24T08:22:42.087Z"
   },
   {
    "duration": 5,
    "start_time": "2023-03-24T08:22:45.489Z"
   },
   {
    "duration": 420,
    "start_time": "2023-03-24T08:28:03.795Z"
   },
   {
    "duration": 4,
    "start_time": "2023-03-24T08:28:05.481Z"
   },
   {
    "duration": 1308,
    "start_time": "2023-03-24T08:33:51.981Z"
   },
   {
    "duration": 54,
    "start_time": "2023-03-24T08:33:53.291Z"
   },
   {
    "duration": 24,
    "start_time": "2023-03-24T08:33:53.346Z"
   },
   {
    "duration": 3,
    "start_time": "2023-03-24T08:33:53.372Z"
   },
   {
    "duration": 254,
    "start_time": "2023-03-24T08:33:53.376Z"
   },
   {
    "duration": 218,
    "start_time": "2023-03-24T08:33:53.632Z"
   },
   {
    "duration": 152,
    "start_time": "2023-03-24T08:33:53.851Z"
   },
   {
    "duration": 4,
    "start_time": "2023-03-24T08:33:54.005Z"
   },
   {
    "duration": 17,
    "start_time": "2023-03-24T08:33:54.010Z"
   },
   {
    "duration": 15,
    "start_time": "2023-03-24T08:33:54.029Z"
   },
   {
    "duration": 6,
    "start_time": "2023-03-24T08:33:54.046Z"
   },
   {
    "duration": 21,
    "start_time": "2023-03-24T08:33:54.054Z"
   },
   {
    "duration": 17,
    "start_time": "2023-03-24T08:33:54.077Z"
   },
   {
    "duration": 3,
    "start_time": "2023-03-24T08:33:54.096Z"
   },
   {
    "duration": 7,
    "start_time": "2023-03-24T08:33:54.100Z"
   },
   {
    "duration": 5,
    "start_time": "2023-03-24T08:33:54.108Z"
   },
   {
    "duration": 180,
    "start_time": "2023-03-24T08:33:54.115Z"
   },
   {
    "duration": 23,
    "start_time": "2023-03-24T08:33:54.296Z"
   },
   {
    "duration": 0,
    "start_time": "2023-03-24T08:33:54.321Z"
   },
   {
    "duration": 0,
    "start_time": "2023-03-24T08:33:54.322Z"
   },
   {
    "duration": 0,
    "start_time": "2023-03-24T08:33:54.323Z"
   },
   {
    "duration": 1372,
    "start_time": "2023-03-24T08:34:22.712Z"
   },
   {
    "duration": 53,
    "start_time": "2023-03-24T08:34:24.086Z"
   },
   {
    "duration": 24,
    "start_time": "2023-03-24T08:34:24.140Z"
   },
   {
    "duration": 3,
    "start_time": "2023-03-24T08:34:24.166Z"
   },
   {
    "duration": 250,
    "start_time": "2023-03-24T08:34:24.171Z"
   },
   {
    "duration": 236,
    "start_time": "2023-03-24T08:34:24.422Z"
   },
   {
    "duration": 142,
    "start_time": "2023-03-24T08:34:24.660Z"
   },
   {
    "duration": 4,
    "start_time": "2023-03-24T08:34:24.803Z"
   },
   {
    "duration": 16,
    "start_time": "2023-03-24T08:34:24.808Z"
   },
   {
    "duration": 5,
    "start_time": "2023-03-24T08:34:24.825Z"
   },
   {
    "duration": 10,
    "start_time": "2023-03-24T08:34:24.831Z"
   },
   {
    "duration": 4,
    "start_time": "2023-03-24T08:34:24.843Z"
   },
   {
    "duration": 14,
    "start_time": "2023-03-24T08:34:24.848Z"
   },
   {
    "duration": 3,
    "start_time": "2023-03-24T08:34:24.864Z"
   },
   {
    "duration": 6,
    "start_time": "2023-03-24T08:34:24.868Z"
   },
   {
    "duration": 5,
    "start_time": "2023-03-24T08:34:24.875Z"
   },
   {
    "duration": 49920,
    "start_time": "2023-03-24T08:34:24.882Z"
   },
   {
    "duration": 53606,
    "start_time": "2023-03-24T08:35:14.803Z"
   },
   {
    "duration": 436,
    "start_time": "2023-03-24T08:36:08.411Z"
   },
   {
    "duration": 4,
    "start_time": "2023-03-24T08:36:08.849Z"
   },
   {
    "duration": 2,
    "start_time": "2023-03-24T08:36:08.855Z"
   },
   {
    "duration": 1381,
    "start_time": "2023-03-24T08:38:35.015Z"
   },
   {
    "duration": 54,
    "start_time": "2023-03-24T08:38:36.398Z"
   },
   {
    "duration": 23,
    "start_time": "2023-03-24T08:38:36.453Z"
   },
   {
    "duration": 3,
    "start_time": "2023-03-24T08:38:36.478Z"
   },
   {
    "duration": 313,
    "start_time": "2023-03-24T08:38:36.482Z"
   },
   {
    "duration": 234,
    "start_time": "2023-03-24T08:38:36.796Z"
   },
   {
    "duration": 161,
    "start_time": "2023-03-24T08:38:37.032Z"
   },
   {
    "duration": 4,
    "start_time": "2023-03-24T08:38:37.195Z"
   },
   {
    "duration": 19,
    "start_time": "2023-03-24T08:38:37.200Z"
   },
   {
    "duration": 19,
    "start_time": "2023-03-24T08:38:37.221Z"
   },
   {
    "duration": 5,
    "start_time": "2023-03-24T08:38:37.242Z"
   },
   {
    "duration": 13,
    "start_time": "2023-03-24T08:38:37.249Z"
   },
   {
    "duration": 24,
    "start_time": "2023-03-24T08:38:37.263Z"
   },
   {
    "duration": 3,
    "start_time": "2023-03-24T08:38:37.289Z"
   },
   {
    "duration": 6,
    "start_time": "2023-03-24T08:38:37.294Z"
   },
   {
    "duration": 7,
    "start_time": "2023-03-24T08:38:37.302Z"
   },
   {
    "duration": 46471,
    "start_time": "2023-03-24T08:38:37.310Z"
   },
   {
    "duration": 53405,
    "start_time": "2023-03-24T08:39:23.782Z"
   },
   {
    "duration": 1019,
    "start_time": "2023-03-24T08:40:17.188Z"
   },
   {
    "duration": 1197,
    "start_time": "2023-03-24T08:40:18.209Z"
   },
   {
    "duration": 5,
    "start_time": "2023-03-24T08:40:19.408Z"
   },
   {
    "duration": 13,
    "start_time": "2023-03-24T08:40:19.414Z"
   },
   {
    "duration": 15,
    "start_time": "2023-03-24T08:44:01.776Z"
   },
   {
    "duration": 324,
    "start_time": "2023-03-24T08:46:12.443Z"
   },
   {
    "duration": 208,
    "start_time": "2023-03-24T08:46:49.970Z"
   },
   {
    "duration": 1356,
    "start_time": "2023-03-24T08:47:00.326Z"
   },
   {
    "duration": 54,
    "start_time": "2023-03-24T08:47:01.684Z"
   },
   {
    "duration": 26,
    "start_time": "2023-03-24T08:47:01.743Z"
   },
   {
    "duration": 12,
    "start_time": "2023-03-24T08:47:01.771Z"
   },
   {
    "duration": 259,
    "start_time": "2023-03-24T08:47:01.785Z"
   },
   {
    "duration": 229,
    "start_time": "2023-03-24T08:47:02.046Z"
   },
   {
    "duration": 156,
    "start_time": "2023-03-24T08:47:02.277Z"
   },
   {
    "duration": 5,
    "start_time": "2023-03-24T08:47:02.440Z"
   },
   {
    "duration": 25,
    "start_time": "2023-03-24T08:47:02.447Z"
   },
   {
    "duration": 6,
    "start_time": "2023-03-24T08:47:02.473Z"
   },
   {
    "duration": 16,
    "start_time": "2023-03-24T08:47:02.480Z"
   },
   {
    "duration": 10,
    "start_time": "2023-03-24T08:47:02.497Z"
   },
   {
    "duration": 17,
    "start_time": "2023-03-24T08:47:02.508Z"
   },
   {
    "duration": 4,
    "start_time": "2023-03-24T08:47:02.526Z"
   },
   {
    "duration": 11,
    "start_time": "2023-03-24T08:47:02.531Z"
   },
   {
    "duration": 14,
    "start_time": "2023-03-24T08:47:02.544Z"
   },
   {
    "duration": 45228,
    "start_time": "2023-03-24T08:47:02.560Z"
   },
   {
    "duration": 1309,
    "start_time": "2023-03-24T08:48:13.077Z"
   },
   {
    "duration": 54,
    "start_time": "2023-03-24T08:48:14.388Z"
   },
   {
    "duration": 25,
    "start_time": "2023-03-24T08:48:14.445Z"
   },
   {
    "duration": 4,
    "start_time": "2023-03-24T08:48:14.471Z"
   },
   {
    "duration": 254,
    "start_time": "2023-03-24T08:48:14.476Z"
   },
   {
    "duration": 239,
    "start_time": "2023-03-24T08:48:14.731Z"
   },
   {
    "duration": 152,
    "start_time": "2023-03-24T08:48:14.971Z"
   },
   {
    "duration": 4,
    "start_time": "2023-03-24T08:48:15.124Z"
   },
   {
    "duration": 28,
    "start_time": "2023-03-24T08:48:15.130Z"
   },
   {
    "duration": 6,
    "start_time": "2023-03-24T08:48:15.160Z"
   },
   {
    "duration": 4,
    "start_time": "2023-03-24T08:48:15.168Z"
   },
   {
    "duration": 4,
    "start_time": "2023-03-24T08:48:15.173Z"
   },
   {
    "duration": 14,
    "start_time": "2023-03-24T08:48:15.179Z"
   },
   {
    "duration": 3,
    "start_time": "2023-03-24T08:48:15.195Z"
   },
   {
    "duration": 8,
    "start_time": "2023-03-24T08:48:15.199Z"
   },
   {
    "duration": 5,
    "start_time": "2023-03-24T08:48:15.208Z"
   },
   {
    "duration": 46808,
    "start_time": "2023-03-24T08:48:15.214Z"
   },
   {
    "duration": 48420,
    "start_time": "2023-03-24T08:49:02.024Z"
   },
   {
    "duration": 575,
    "start_time": "2023-03-24T08:49:50.446Z"
   },
   {
    "duration": 477,
    "start_time": "2023-03-24T08:49:51.022Z"
   },
   {
    "duration": 5,
    "start_time": "2023-03-24T08:49:51.500Z"
   },
   {
    "duration": 5,
    "start_time": "2023-03-24T08:49:51.506Z"
   },
   {
    "duration": 51,
    "start_time": "2023-03-28T08:42:56.598Z"
   },
   {
    "duration": 1931,
    "start_time": "2023-03-28T08:43:00.686Z"
   },
   {
    "duration": 391,
    "start_time": "2023-03-28T08:43:02.619Z"
   },
   {
    "duration": 35,
    "start_time": "2023-03-28T08:43:04.721Z"
   },
   {
    "duration": 1586,
    "start_time": "2023-03-28T08:47:18.537Z"
   },
   {
    "duration": 68,
    "start_time": "2023-03-28T08:47:20.125Z"
   },
   {
    "duration": 36,
    "start_time": "2023-03-28T08:47:20.195Z"
   },
   {
    "duration": 4,
    "start_time": "2023-03-28T08:47:20.232Z"
   },
   {
    "duration": 317,
    "start_time": "2023-03-28T08:47:20.238Z"
   },
   {
    "duration": 288,
    "start_time": "2023-03-28T08:47:20.558Z"
   },
   {
    "duration": 241,
    "start_time": "2023-03-28T08:47:20.848Z"
   },
   {
    "duration": 9,
    "start_time": "2023-03-28T08:47:21.090Z"
   },
   {
    "duration": 35,
    "start_time": "2023-03-28T08:47:21.103Z"
   },
   {
    "duration": 8,
    "start_time": "2023-03-28T08:47:21.140Z"
   },
   {
    "duration": 11,
    "start_time": "2023-03-28T08:47:21.149Z"
   },
   {
    "duration": 14,
    "start_time": "2023-03-28T08:47:21.165Z"
   },
   {
    "duration": 32,
    "start_time": "2023-03-28T08:47:21.181Z"
   },
   {
    "duration": 6,
    "start_time": "2023-03-28T08:47:21.216Z"
   },
   {
    "duration": 5,
    "start_time": "2023-03-28T08:47:21.224Z"
   },
   {
    "duration": 11,
    "start_time": "2023-03-28T08:47:21.231Z"
   },
   {
    "duration": 343,
    "start_time": "2023-03-28T08:47:21.244Z"
   },
   {
    "duration": 124,
    "start_time": "2023-03-28T08:47:21.592Z"
   },
   {
    "duration": 0,
    "start_time": "2023-03-28T08:47:21.718Z"
   },
   {
    "duration": 1,
    "start_time": "2023-03-28T08:47:21.719Z"
   },
   {
    "duration": 0,
    "start_time": "2023-03-28T08:47:21.721Z"
   },
   {
    "duration": 0,
    "start_time": "2023-03-28T08:47:21.722Z"
   },
   {
    "duration": 1696,
    "start_time": "2023-03-28T08:48:09.409Z"
   },
   {
    "duration": 64,
    "start_time": "2023-03-28T08:48:11.112Z"
   },
   {
    "duration": 49,
    "start_time": "2023-03-28T08:48:11.178Z"
   },
   {
    "duration": 3,
    "start_time": "2023-03-28T08:48:11.229Z"
   },
   {
    "duration": 335,
    "start_time": "2023-03-28T08:48:11.234Z"
   },
   {
    "duration": 306,
    "start_time": "2023-03-28T08:48:11.570Z"
   },
   {
    "duration": 233,
    "start_time": "2023-03-28T08:48:11.880Z"
   },
   {
    "duration": 5,
    "start_time": "2023-03-28T08:48:12.114Z"
   },
   {
    "duration": 60,
    "start_time": "2023-03-28T08:48:12.121Z"
   },
   {
    "duration": 15,
    "start_time": "2023-03-28T08:48:12.184Z"
   },
   {
    "duration": 9,
    "start_time": "2023-03-28T08:48:12.204Z"
   },
   {
    "duration": 5,
    "start_time": "2023-03-28T08:48:12.215Z"
   },
   {
    "duration": 16,
    "start_time": "2023-03-28T08:48:12.222Z"
   },
   {
    "duration": 4,
    "start_time": "2023-03-28T08:48:12.240Z"
   },
   {
    "duration": 6,
    "start_time": "2023-03-28T08:48:12.245Z"
   },
   {
    "duration": 23,
    "start_time": "2023-03-28T08:48:12.253Z"
   },
   {
    "duration": 68679,
    "start_time": "2023-03-28T08:48:12.278Z"
   },
   {
    "duration": 71432,
    "start_time": "2023-03-28T08:49:20.959Z"
   },
   {
    "duration": 659,
    "start_time": "2023-03-28T08:50:32.395Z"
   },
   {
    "duration": 716,
    "start_time": "2023-03-28T08:50:33.056Z"
   },
   {
    "duration": 13,
    "start_time": "2023-03-28T08:50:33.778Z"
   },
   {
    "duration": 5,
    "start_time": "2023-03-28T08:50:33.797Z"
   },
   {
    "duration": 1587,
    "start_time": "2023-03-28T09:31:03.690Z"
   },
   {
    "duration": 55,
    "start_time": "2023-03-28T09:31:05.282Z"
   },
   {
    "duration": 43,
    "start_time": "2023-03-28T09:31:05.339Z"
   },
   {
    "duration": 8,
    "start_time": "2023-03-28T09:31:05.384Z"
   },
   {
    "duration": 309,
    "start_time": "2023-03-28T09:31:05.394Z"
   },
   {
    "duration": 275,
    "start_time": "2023-03-28T09:31:05.705Z"
   },
   {
    "duration": 190,
    "start_time": "2023-03-28T09:31:05.981Z"
   },
   {
    "duration": 5,
    "start_time": "2023-03-28T09:31:06.173Z"
   },
   {
    "duration": 30,
    "start_time": "2023-03-28T09:31:06.179Z"
   },
   {
    "duration": 9,
    "start_time": "2023-03-28T09:31:06.211Z"
   },
   {
    "duration": 23,
    "start_time": "2023-03-28T09:31:06.221Z"
   },
   {
    "duration": 25,
    "start_time": "2023-03-28T09:31:06.246Z"
   },
   {
    "duration": 23,
    "start_time": "2023-03-28T09:31:06.273Z"
   },
   {
    "duration": 4,
    "start_time": "2023-03-28T09:31:06.297Z"
   },
   {
    "duration": 26,
    "start_time": "2023-03-28T09:31:06.303Z"
   },
   {
    "duration": 8,
    "start_time": "2023-03-28T09:31:06.330Z"
   },
   {
    "duration": 59586,
    "start_time": "2023-03-28T09:31:06.340Z"
   },
   {
    "duration": 59590,
    "start_time": "2023-03-28T09:32:05.928Z"
   },
   {
    "duration": 614,
    "start_time": "2023-03-28T09:33:05.519Z"
   },
   {
    "duration": 578,
    "start_time": "2023-03-28T09:33:06.135Z"
   },
   {
    "duration": 5,
    "start_time": "2023-03-28T09:33:06.715Z"
   },
   {
    "duration": 15,
    "start_time": "2023-03-28T09:33:06.722Z"
   },
   {
    "duration": 1608,
    "start_time": "2023-03-28T09:35:17.088Z"
   },
   {
    "duration": 54,
    "start_time": "2023-03-28T09:35:18.699Z"
   },
   {
    "duration": 51,
    "start_time": "2023-03-28T09:35:18.755Z"
   },
   {
    "duration": 4,
    "start_time": "2023-03-28T09:35:18.808Z"
   },
   {
    "duration": 299,
    "start_time": "2023-03-28T09:35:18.814Z"
   },
   {
    "duration": 271,
    "start_time": "2023-03-28T09:35:19.115Z"
   },
   {
    "duration": 196,
    "start_time": "2023-03-28T09:35:19.390Z"
   },
   {
    "duration": 89,
    "start_time": "2023-03-28T09:35:19.588Z"
   },
   {
    "duration": 31,
    "start_time": "2023-03-28T09:35:19.679Z"
   },
   {
    "duration": 8,
    "start_time": "2023-03-28T09:35:19.711Z"
   },
   {
    "duration": 7,
    "start_time": "2023-03-28T09:35:19.720Z"
   },
   {
    "duration": 6,
    "start_time": "2023-03-28T09:35:19.728Z"
   },
   {
    "duration": 16,
    "start_time": "2023-03-28T09:35:19.735Z"
   },
   {
    "duration": 4,
    "start_time": "2023-03-28T09:35:19.754Z"
   },
   {
    "duration": 24,
    "start_time": "2023-03-28T09:35:19.766Z"
   },
   {
    "duration": 9,
    "start_time": "2023-03-28T09:35:19.792Z"
   },
   {
    "duration": 54,
    "start_time": "2023-03-28T09:35:19.802Z"
   },
   {
    "duration": 0,
    "start_time": "2023-03-28T09:35:19.858Z"
   },
   {
    "duration": 0,
    "start_time": "2023-03-28T09:35:19.859Z"
   },
   {
    "duration": 0,
    "start_time": "2023-03-28T09:35:19.860Z"
   },
   {
    "duration": 0,
    "start_time": "2023-03-28T09:35:19.861Z"
   },
   {
    "duration": 0,
    "start_time": "2023-03-28T09:35:19.870Z"
   },
   {
    "duration": 1585,
    "start_time": "2023-03-28T09:36:06.889Z"
   },
   {
    "duration": 53,
    "start_time": "2023-03-28T09:36:08.481Z"
   },
   {
    "duration": 37,
    "start_time": "2023-03-28T09:36:08.536Z"
   },
   {
    "duration": 5,
    "start_time": "2023-03-28T09:36:08.578Z"
   },
   {
    "duration": 300,
    "start_time": "2023-03-28T09:36:08.586Z"
   },
   {
    "duration": 280,
    "start_time": "2023-03-28T09:36:08.888Z"
   },
   {
    "duration": 200,
    "start_time": "2023-03-28T09:36:09.170Z"
   },
   {
    "duration": 11,
    "start_time": "2023-03-28T09:36:09.373Z"
   },
   {
    "duration": 28,
    "start_time": "2023-03-28T09:36:09.395Z"
   },
   {
    "duration": 8,
    "start_time": "2023-03-28T09:36:09.425Z"
   },
   {
    "duration": 6,
    "start_time": "2023-03-28T09:36:09.435Z"
   },
   {
    "duration": 5,
    "start_time": "2023-03-28T09:36:09.443Z"
   },
   {
    "duration": 23,
    "start_time": "2023-03-28T09:36:09.463Z"
   },
   {
    "duration": 5,
    "start_time": "2023-03-28T09:36:09.489Z"
   },
   {
    "duration": 2,
    "start_time": "2023-03-28T09:36:09.501Z"
   },
   {
    "duration": 7,
    "start_time": "2023-03-28T09:36:09.505Z"
   },
   {
    "duration": 59241,
    "start_time": "2023-03-28T09:36:09.513Z"
   },
   {
    "duration": 58861,
    "start_time": "2023-03-28T09:37:08.755Z"
   },
   {
    "duration": 506,
    "start_time": "2023-03-28T09:38:07.618Z"
   },
   {
    "duration": 582,
    "start_time": "2023-03-28T09:38:08.126Z"
   },
   {
    "duration": 5,
    "start_time": "2023-03-28T09:38:08.709Z"
   },
   {
    "duration": 4,
    "start_time": "2023-03-28T09:38:08.715Z"
   },
   {
    "duration": 517,
    "start_time": "2023-03-28T09:41:36.012Z"
   },
   {
    "duration": 47,
    "start_time": "2023-03-28T09:41:41.169Z"
   },
   {
    "duration": 537,
    "start_time": "2023-03-28T09:41:49.111Z"
   },
   {
    "duration": 7,
    "start_time": "2023-03-28T09:41:53.951Z"
   },
   {
    "duration": 55691,
    "start_time": "2023-03-28T09:43:47.182Z"
   },
   {
    "duration": 587,
    "start_time": "2023-03-28T09:46:09.279Z"
   },
   {
    "duration": 509,
    "start_time": "2023-03-28T09:46:12.475Z"
   },
   {
    "duration": 6,
    "start_time": "2023-03-28T09:46:15.853Z"
   },
   {
    "duration": 1542,
    "start_time": "2023-03-28T09:50:29.056Z"
   },
   {
    "duration": 52,
    "start_time": "2023-03-28T09:50:30.600Z"
   },
   {
    "duration": 44,
    "start_time": "2023-03-28T09:50:30.654Z"
   },
   {
    "duration": 4,
    "start_time": "2023-03-28T09:50:30.700Z"
   },
   {
    "duration": 319,
    "start_time": "2023-03-28T09:50:30.706Z"
   },
   {
    "duration": 281,
    "start_time": "2023-03-28T09:50:31.027Z"
   },
   {
    "duration": 198,
    "start_time": "2023-03-28T09:50:31.310Z"
   },
   {
    "duration": 4,
    "start_time": "2023-03-28T09:50:31.510Z"
   },
   {
    "duration": 57,
    "start_time": "2023-03-28T09:50:31.516Z"
   },
   {
    "duration": 8,
    "start_time": "2023-03-28T09:50:31.576Z"
   },
   {
    "duration": 20,
    "start_time": "2023-03-28T09:50:31.586Z"
   },
   {
    "duration": 26,
    "start_time": "2023-03-28T09:50:31.608Z"
   },
   {
    "duration": 42,
    "start_time": "2023-03-28T09:50:31.636Z"
   },
   {
    "duration": 24,
    "start_time": "2023-03-28T09:50:31.680Z"
   },
   {
    "duration": 24,
    "start_time": "2023-03-28T09:50:31.706Z"
   },
   {
    "duration": 22,
    "start_time": "2023-03-28T09:50:31.732Z"
   },
   {
    "duration": 205796,
    "start_time": "2023-03-28T09:50:31.756Z"
   },
   {
    "duration": 215088,
    "start_time": "2023-03-28T09:53:57.553Z"
   },
   {
    "duration": 501,
    "start_time": "2023-03-28T09:57:32.642Z"
   },
   {
    "duration": 452,
    "start_time": "2023-03-28T09:57:33.144Z"
   },
   {
    "duration": 5,
    "start_time": "2023-03-28T09:57:33.598Z"
   },
   {
    "duration": 4,
    "start_time": "2023-03-28T09:57:33.606Z"
   },
   {
    "duration": 541,
    "start_time": "2023-03-28T09:58:38.209Z"
   },
   {
    "duration": 507,
    "start_time": "2023-03-28T09:58:40.723Z"
   },
   {
    "duration": 7,
    "start_time": "2023-03-28T09:58:43.213Z"
   },
   {
    "duration": 1732,
    "start_time": "2023-03-28T18:54:26.158Z"
   },
   {
    "duration": 213,
    "start_time": "2023-03-28T18:54:27.892Z"
   },
   {
    "duration": 31,
    "start_time": "2023-03-28T18:54:28.107Z"
   },
   {
    "duration": 8,
    "start_time": "2023-03-28T18:54:28.140Z"
   },
   {
    "duration": 271,
    "start_time": "2023-03-28T18:54:28.149Z"
   },
   {
    "duration": 245,
    "start_time": "2023-03-28T18:54:28.422Z"
   },
   {
    "duration": 195,
    "start_time": "2023-03-28T18:54:28.669Z"
   },
   {
    "duration": 4,
    "start_time": "2023-03-28T18:54:28.866Z"
   },
   {
    "duration": 35,
    "start_time": "2023-03-28T18:54:28.872Z"
   },
   {
    "duration": 6,
    "start_time": "2023-03-28T18:54:28.909Z"
   },
   {
    "duration": 6,
    "start_time": "2023-03-28T18:54:28.917Z"
   },
   {
    "duration": 6,
    "start_time": "2023-03-28T18:54:28.924Z"
   },
   {
    "duration": 10,
    "start_time": "2023-03-28T18:54:28.931Z"
   },
   {
    "duration": 230975,
    "start_time": "2023-03-28T18:54:28.942Z"
   },
   {
    "duration": 573,
    "start_time": "2023-03-28T18:58:19.919Z"
   },
   {
    "duration": 5,
    "start_time": "2023-03-28T18:58:20.493Z"
   },
   {
    "duration": 12,
    "start_time": "2023-03-28T18:58:20.499Z"
   },
   {
    "duration": 1887,
    "start_time": "2023-03-28T21:44:10.407Z"
   },
   {
    "duration": 171,
    "start_time": "2023-03-28T21:44:12.297Z"
   },
   {
    "duration": 36,
    "start_time": "2023-03-28T21:44:12.470Z"
   },
   {
    "duration": 4,
    "start_time": "2023-03-28T21:44:12.507Z"
   },
   {
    "duration": 104,
    "start_time": "2023-03-28T21:44:12.513Z"
   },
   {
    "duration": 0,
    "start_time": "2023-03-28T21:44:12.618Z"
   },
   {
    "duration": 0,
    "start_time": "2023-03-28T21:44:12.619Z"
   },
   {
    "duration": 0,
    "start_time": "2023-03-28T21:44:12.620Z"
   },
   {
    "duration": 0,
    "start_time": "2023-03-28T21:44:12.621Z"
   },
   {
    "duration": 0,
    "start_time": "2023-03-28T21:44:12.622Z"
   },
   {
    "duration": 0,
    "start_time": "2023-03-28T21:44:12.623Z"
   },
   {
    "duration": 0,
    "start_time": "2023-03-28T21:44:12.624Z"
   },
   {
    "duration": 0,
    "start_time": "2023-03-28T21:44:12.625Z"
   },
   {
    "duration": 0,
    "start_time": "2023-03-28T21:44:12.627Z"
   },
   {
    "duration": 0,
    "start_time": "2023-03-28T21:44:12.628Z"
   },
   {
    "duration": 0,
    "start_time": "2023-03-28T21:44:12.630Z"
   },
   {
    "duration": 0,
    "start_time": "2023-03-28T21:44:12.631Z"
   },
   {
    "duration": 0,
    "start_time": "2023-03-28T21:44:12.632Z"
   },
   {
    "duration": 1745,
    "start_time": "2023-03-28T21:44:38.580Z"
   },
   {
    "duration": 88,
    "start_time": "2023-03-28T21:44:40.327Z"
   },
   {
    "duration": 60,
    "start_time": "2023-03-28T21:44:40.417Z"
   },
   {
    "duration": 5,
    "start_time": "2023-03-28T21:44:40.481Z"
   },
   {
    "duration": 296,
    "start_time": "2023-03-28T21:44:40.489Z"
   },
   {
    "duration": 848,
    "start_time": "2023-03-28T21:44:40.787Z"
   },
   {
    "duration": 291,
    "start_time": "2023-03-28T21:44:41.637Z"
   },
   {
    "duration": 148,
    "start_time": "2023-03-28T21:44:41.930Z"
   },
   {
    "duration": 5,
    "start_time": "2023-03-28T21:44:42.081Z"
   },
   {
    "duration": 22,
    "start_time": "2023-03-28T21:44:42.088Z"
   },
   {
    "duration": 10,
    "start_time": "2023-03-28T21:44:42.112Z"
   },
   {
    "duration": 11,
    "start_time": "2023-03-28T21:44:42.124Z"
   },
   {
    "duration": 5,
    "start_time": "2023-03-28T21:44:42.137Z"
   },
   {
    "duration": 6,
    "start_time": "2023-03-28T21:44:42.145Z"
   },
   {
    "duration": 255747,
    "start_time": "2023-03-28T21:44:42.161Z"
   },
   {
    "duration": 654,
    "start_time": "2023-03-28T21:48:57.909Z"
   },
   {
    "duration": 7,
    "start_time": "2023-03-28T21:48:58.564Z"
   },
   {
    "duration": 12,
    "start_time": "2023-03-28T21:48:58.572Z"
   },
   {
    "duration": 727,
    "start_time": "2023-03-28T21:50:10.776Z"
   },
   {
    "duration": 949,
    "start_time": "2023-03-28T21:50:19.677Z"
   },
   {
    "duration": 1042,
    "start_time": "2023-03-28T21:50:29.075Z"
   },
   {
    "duration": 1688,
    "start_time": "2023-03-28T21:50:37.033Z"
   },
   {
    "duration": 1311,
    "start_time": "2023-03-28T21:55:56.293Z"
   },
   {
    "duration": 56,
    "start_time": "2023-03-28T21:55:57.605Z"
   },
   {
    "duration": 28,
    "start_time": "2023-03-28T21:55:57.663Z"
   },
   {
    "duration": 4,
    "start_time": "2023-03-28T21:55:57.693Z"
   },
   {
    "duration": 254,
    "start_time": "2023-03-28T21:55:57.699Z"
   },
   {
    "duration": 634,
    "start_time": "2023-03-28T21:55:57.963Z"
   },
   {
    "duration": 217,
    "start_time": "2023-03-28T21:55:58.599Z"
   },
   {
    "duration": 87,
    "start_time": "2023-03-28T21:55:58.818Z"
   },
   {
    "duration": 4,
    "start_time": "2023-03-28T21:55:58.906Z"
   },
   {
    "duration": 19,
    "start_time": "2023-03-28T21:55:58.912Z"
   },
   {
    "duration": 6,
    "start_time": "2023-03-28T21:55:58.932Z"
   },
   {
    "duration": 14,
    "start_time": "2023-03-28T21:55:58.939Z"
   },
   {
    "duration": 26,
    "start_time": "2023-03-28T21:55:58.954Z"
   },
   {
    "duration": 3,
    "start_time": "2023-03-28T21:55:58.982Z"
   },
   {
    "duration": 11,
    "start_time": "2023-03-28T21:55:58.986Z"
   },
   {
    "duration": 297,
    "start_time": "2023-03-28T21:55:58.999Z"
   },
   {
    "duration": 21,
    "start_time": "2023-03-28T21:55:59.297Z"
   },
   {
    "duration": 0,
    "start_time": "2023-03-28T21:55:59.320Z"
   },
   {
    "duration": 0,
    "start_time": "2023-03-28T21:55:59.321Z"
   },
   {
    "duration": 35,
    "start_time": "2023-03-28T21:58:27.847Z"
   },
   {
    "duration": 5,
    "start_time": "2023-03-28T22:04:22.227Z"
   },
   {
    "duration": 6,
    "start_time": "2023-03-28T22:05:31.238Z"
   },
   {
    "duration": 1313,
    "start_time": "2023-03-28T22:05:40.295Z"
   },
   {
    "duration": 58,
    "start_time": "2023-03-28T22:05:41.610Z"
   },
   {
    "duration": 26,
    "start_time": "2023-03-28T22:05:41.669Z"
   },
   {
    "duration": 3,
    "start_time": "2023-03-28T22:05:41.696Z"
   },
   {
    "duration": 262,
    "start_time": "2023-03-28T22:05:41.701Z"
   },
   {
    "duration": 643,
    "start_time": "2023-03-28T22:05:41.964Z"
   },
   {
    "duration": 212,
    "start_time": "2023-03-28T22:05:42.608Z"
   },
   {
    "duration": 90,
    "start_time": "2023-03-28T22:05:42.821Z"
   },
   {
    "duration": 4,
    "start_time": "2023-03-28T22:05:42.912Z"
   },
   {
    "duration": 31,
    "start_time": "2023-03-28T22:05:42.917Z"
   },
   {
    "duration": 9,
    "start_time": "2023-03-28T22:05:42.961Z"
   },
   {
    "duration": 6,
    "start_time": "2023-03-28T22:05:42.971Z"
   },
   {
    "duration": 17,
    "start_time": "2023-03-28T22:05:42.978Z"
   },
   {
    "duration": 3,
    "start_time": "2023-03-28T22:05:42.997Z"
   },
   {
    "duration": 13,
    "start_time": "2023-03-28T22:05:43.001Z"
   },
   {
    "duration": 215869,
    "start_time": "2023-03-28T22:05:43.016Z"
   },
   {
    "duration": 1581,
    "start_time": "2023-03-28T22:09:18.886Z"
   },
   {
    "duration": 4,
    "start_time": "2023-03-28T22:09:20.469Z"
   },
   {
    "duration": 25,
    "start_time": "2023-03-28T22:09:20.475Z"
   },
   {
    "duration": 1753,
    "start_time": "2023-03-28T22:13:04.102Z"
   },
   {
    "duration": 66,
    "start_time": "2023-03-28T22:13:05.857Z"
   },
   {
    "duration": 47,
    "start_time": "2023-03-28T22:13:05.924Z"
   },
   {
    "duration": 5,
    "start_time": "2023-03-28T22:13:05.973Z"
   },
   {
    "duration": 287,
    "start_time": "2023-03-28T22:13:05.980Z"
   },
   {
    "duration": 824,
    "start_time": "2023-03-28T22:13:06.273Z"
   },
   {
    "duration": 270,
    "start_time": "2023-03-28T22:13:07.098Z"
   },
   {
    "duration": 138,
    "start_time": "2023-03-28T22:13:07.371Z"
   },
   {
    "duration": 7,
    "start_time": "2023-03-28T22:13:07.511Z"
   },
   {
    "duration": 66,
    "start_time": "2023-03-28T22:13:07.520Z"
   },
   {
    "duration": 11,
    "start_time": "2023-03-28T22:13:07.587Z"
   },
   {
    "duration": 11,
    "start_time": "2023-03-28T22:13:07.601Z"
   },
   {
    "duration": 70,
    "start_time": "2023-03-28T22:13:07.614Z"
   },
   {
    "duration": 2,
    "start_time": "2023-03-28T22:13:07.688Z"
   },
   {
    "duration": 15,
    "start_time": "2023-03-28T22:13:07.692Z"
   },
   {
    "duration": 723958,
    "start_time": "2023-03-28T22:13:07.709Z"
   },
   {
    "duration": 2229,
    "start_time": "2023-03-28T22:25:11.668Z"
   },
   {
    "duration": 5,
    "start_time": "2023-03-28T22:25:13.899Z"
   },
   {
    "duration": 17,
    "start_time": "2023-03-28T22:25:13.905Z"
   },
   {
    "duration": 830,
    "start_time": "2023-03-28T22:26:16.417Z"
   },
   {
    "duration": 6,
    "start_time": "2023-03-28T22:28:17.068Z"
   },
   {
    "duration": 5,
    "start_time": "2023-03-28T22:32:48.920Z"
   },
   {
    "duration": 162,
    "start_time": "2023-03-28T22:35:06.680Z"
   },
   {
    "duration": 7,
    "start_time": "2023-03-28T22:35:52.366Z"
   },
   {
    "duration": 380,
    "start_time": "2023-03-28T22:35:58.443Z"
   },
   {
    "duration": 1636,
    "start_time": "2023-03-28T22:38:26.996Z"
   },
   {
    "duration": 62,
    "start_time": "2023-03-28T22:38:28.634Z"
   },
   {
    "duration": 36,
    "start_time": "2023-03-28T22:38:28.697Z"
   },
   {
    "duration": 13,
    "start_time": "2023-03-28T22:38:28.735Z"
   },
   {
    "duration": 316,
    "start_time": "2023-03-28T22:38:28.750Z"
   },
   {
    "duration": 815,
    "start_time": "2023-03-28T22:38:29.068Z"
   },
   {
    "duration": 298,
    "start_time": "2023-03-28T22:38:29.886Z"
   },
   {
    "duration": 109,
    "start_time": "2023-03-28T22:38:30.187Z"
   },
   {
    "duration": 6,
    "start_time": "2023-03-28T22:38:30.298Z"
   },
   {
    "duration": 175,
    "start_time": "2023-03-28T22:38:30.306Z"
   },
   {
    "duration": 0,
    "start_time": "2023-03-28T22:38:30.482Z"
   },
   {
    "duration": 0,
    "start_time": "2023-03-28T22:38:30.484Z"
   },
   {
    "duration": 0,
    "start_time": "2023-03-28T22:38:30.485Z"
   },
   {
    "duration": 0,
    "start_time": "2023-03-28T22:38:30.486Z"
   },
   {
    "duration": 0,
    "start_time": "2023-03-28T22:38:30.487Z"
   },
   {
    "duration": 0,
    "start_time": "2023-03-28T22:38:30.489Z"
   },
   {
    "duration": 1658,
    "start_time": "2023-03-28T22:38:53.220Z"
   },
   {
    "duration": 59,
    "start_time": "2023-03-28T22:38:54.880Z"
   },
   {
    "duration": 46,
    "start_time": "2023-03-28T22:38:54.942Z"
   },
   {
    "duration": 5,
    "start_time": "2023-03-28T22:38:54.991Z"
   },
   {
    "duration": 305,
    "start_time": "2023-03-28T22:38:54.998Z"
   },
   {
    "duration": 866,
    "start_time": "2023-03-28T22:38:55.306Z"
   },
   {
    "duration": 274,
    "start_time": "2023-03-28T22:38:56.174Z"
   },
   {
    "duration": 122,
    "start_time": "2023-03-28T22:38:56.458Z"
   },
   {
    "duration": 4,
    "start_time": "2023-03-28T22:38:56.582Z"
   },
   {
    "duration": 53,
    "start_time": "2023-03-28T22:38:56.589Z"
   },
   {
    "duration": 23,
    "start_time": "2023-03-28T22:38:56.644Z"
   },
   {
    "duration": 14,
    "start_time": "2023-03-28T22:38:56.669Z"
   },
   {
    "duration": 30,
    "start_time": "2023-03-28T22:38:56.685Z"
   },
   {
    "duration": 1597,
    "start_time": "2023-03-28T22:41:47.004Z"
   },
   {
    "duration": 63,
    "start_time": "2023-03-28T22:41:48.604Z"
   },
   {
    "duration": 36,
    "start_time": "2023-03-28T22:41:48.668Z"
   },
   {
    "duration": 3,
    "start_time": "2023-03-28T22:41:48.706Z"
   },
   {
    "duration": 279,
    "start_time": "2023-03-28T22:41:48.711Z"
   },
   {
    "duration": 848,
    "start_time": "2023-03-28T22:41:48.992Z"
   },
   {
    "duration": 267,
    "start_time": "2023-03-28T22:41:49.841Z"
   },
   {
    "duration": 110,
    "start_time": "2023-03-28T22:41:50.110Z"
   },
   {
    "duration": 5,
    "start_time": "2023-03-28T22:41:50.222Z"
   },
   {
    "duration": 52,
    "start_time": "2023-03-28T22:41:50.229Z"
   },
   {
    "duration": 11,
    "start_time": "2023-03-28T22:41:50.284Z"
   },
   {
    "duration": 24,
    "start_time": "2023-03-28T22:41:50.298Z"
   },
   {
    "duration": 45,
    "start_time": "2023-03-28T22:41:50.324Z"
   },
   {
    "duration": 712842,
    "start_time": "2023-03-28T22:41:50.373Z"
   },
   {
    "duration": 451781,
    "start_time": "2023-03-28T22:53:43.217Z"
   },
   {
    "duration": 0,
    "start_time": "2023-03-28T23:01:15.000Z"
   },
   {
    "duration": 0,
    "start_time": "2023-03-28T23:01:15.002Z"
   },
   {
    "duration": 4104612,
    "start_time": "2023-03-28T23:01:24.505Z"
   },
   {
    "duration": 143153,
    "start_time": "2023-03-29T00:09:58.029Z"
   },
   {
    "duration": 98,
    "start_time": "2023-03-29T08:22:38.731Z"
   },
   {
    "duration": 1527,
    "start_time": "2023-03-29T08:22:49.289Z"
   },
   {
    "duration": 140,
    "start_time": "2023-03-29T08:22:56.592Z"
   },
   {
    "duration": 1336,
    "start_time": "2023-03-29T08:23:06.553Z"
   },
   {
    "duration": 154,
    "start_time": "2023-03-29T08:23:07.890Z"
   },
   {
    "duration": 32,
    "start_time": "2023-03-29T08:23:08.046Z"
   },
   {
    "duration": 11,
    "start_time": "2023-03-29T08:23:08.081Z"
   },
   {
    "duration": 219,
    "start_time": "2023-03-29T08:23:08.094Z"
   },
   {
    "duration": 708,
    "start_time": "2023-03-29T08:23:08.314Z"
   },
   {
    "duration": 262,
    "start_time": "2023-03-29T08:23:09.023Z"
   },
   {
    "duration": 89,
    "start_time": "2023-03-29T08:23:09.286Z"
   },
   {
    "duration": 7,
    "start_time": "2023-03-29T08:23:09.383Z"
   },
   {
    "duration": 31,
    "start_time": "2023-03-29T08:23:09.393Z"
   },
   {
    "duration": 7,
    "start_time": "2023-03-29T08:23:09.426Z"
   },
   {
    "duration": 6,
    "start_time": "2023-03-29T08:23:09.435Z"
   },
   {
    "duration": 14,
    "start_time": "2023-03-29T08:23:09.443Z"
   },
   {
    "duration": 575136,
    "start_time": "2023-03-29T08:23:09.468Z"
   },
   {
    "duration": 1000569,
    "start_time": "2023-03-29T08:32:44.606Z"
   },
   {
    "duration": 8,
    "start_time": "2023-03-29T08:49:25.176Z"
   },
   {
    "duration": 83,
    "start_time": "2023-03-29T08:49:25.185Z"
   },
   {
    "duration": 10,
    "start_time": "2023-03-29T08:49:25.270Z"
   },
   {
    "duration": 1894,
    "start_time": "2023-03-29T20:26:44.302Z"
   },
   {
    "duration": 106,
    "start_time": "2023-03-29T20:41:45.248Z"
   },
   {
    "duration": 1458,
    "start_time": "2023-03-29T20:43:58.171Z"
   },
   {
    "duration": 134,
    "start_time": "2023-03-29T20:43:59.631Z"
   },
   {
    "duration": 29,
    "start_time": "2023-03-29T20:43:59.766Z"
   },
   {
    "duration": 4,
    "start_time": "2023-03-29T20:43:59.797Z"
   },
   {
    "duration": 262,
    "start_time": "2023-03-29T20:43:59.802Z"
   },
   {
    "duration": 872,
    "start_time": "2023-03-29T20:44:00.066Z"
   },
   {
    "duration": 218,
    "start_time": "2023-03-29T20:44:00.940Z"
   },
   {
    "duration": 119,
    "start_time": "2023-03-29T20:44:01.160Z"
   },
   {
    "duration": 7,
    "start_time": "2023-03-29T20:44:01.281Z"
   },
   {
    "duration": 101,
    "start_time": "2023-03-29T20:44:01.290Z"
   },
   {
    "duration": 8,
    "start_time": "2023-03-29T20:44:01.393Z"
   },
   {
    "duration": 42,
    "start_time": "2023-03-29T20:44:01.403Z"
   },
   {
    "duration": 54,
    "start_time": "2023-03-29T20:44:01.447Z"
   },
   {
    "duration": 265,
    "start_time": "2023-03-29T20:44:01.502Z"
   },
   {
    "duration": 145,
    "start_time": "2023-03-29T20:44:01.769Z"
   },
   {
    "duration": 115,
    "start_time": "2023-03-29T20:44:01.916Z"
   },
   {
    "duration": 83,
    "start_time": "2023-03-29T20:44:02.033Z"
   },
   {
    "duration": 11,
    "start_time": "2023-03-29T20:44:02.118Z"
   },
   {
    "duration": 1401,
    "start_time": "2023-03-29T20:44:54.906Z"
   },
   {
    "duration": 53,
    "start_time": "2023-03-29T20:44:56.309Z"
   },
   {
    "duration": 31,
    "start_time": "2023-03-29T20:44:56.364Z"
   },
   {
    "duration": 7,
    "start_time": "2023-03-29T20:44:56.396Z"
   },
   {
    "duration": 286,
    "start_time": "2023-03-29T20:44:56.405Z"
   },
   {
    "duration": 817,
    "start_time": "2023-03-29T20:44:56.693Z"
   },
   {
    "duration": 210,
    "start_time": "2023-03-29T20:44:57.512Z"
   },
   {
    "duration": 106,
    "start_time": "2023-03-29T20:44:57.723Z"
   },
   {
    "duration": 3,
    "start_time": "2023-03-29T20:44:57.831Z"
   },
   {
    "duration": 38,
    "start_time": "2023-03-29T20:44:57.836Z"
   },
   {
    "duration": 7,
    "start_time": "2023-03-29T20:44:57.887Z"
   },
   {
    "duration": 7,
    "start_time": "2023-03-29T20:44:57.896Z"
   },
   {
    "duration": 15,
    "start_time": "2023-03-29T20:44:57.904Z"
   },
   {
    "duration": 863080,
    "start_time": "2023-03-29T20:44:57.921Z"
   },
   {
    "duration": 167596,
    "start_time": "2023-03-29T20:59:21.003Z"
   },
   {
    "duration": 8,
    "start_time": "2023-03-29T21:02:08.601Z"
   },
   {
    "duration": 9,
    "start_time": "2023-03-29T21:02:08.610Z"
   },
   {
    "duration": 18,
    "start_time": "2023-03-29T21:02:08.621Z"
   },
   {
    "duration": 9,
    "start_time": "2023-03-29T21:05:03.534Z"
   },
   {
    "duration": 9,
    "start_time": "2023-03-29T21:05:50.456Z"
   },
   {
    "duration": 82,
    "start_time": "2023-03-29T21:10:43.954Z"
   },
   {
    "duration": 230,
    "start_time": "2023-03-29T21:11:42.353Z"
   },
   {
    "duration": 193,
    "start_time": "2023-03-29T21:11:53.657Z"
   },
   {
    "duration": 265,
    "start_time": "2023-03-29T21:12:02.907Z"
   }
  ],
  "kernelspec": {
   "display_name": "Python 3 (ipykernel)",
   "language": "python",
   "name": "python3"
  },
  "language_info": {
   "codemirror_mode": {
    "name": "ipython",
    "version": 3
   },
   "file_extension": ".py",
   "mimetype": "text/x-python",
   "name": "python",
   "nbconvert_exporter": "python",
   "pygments_lexer": "ipython3",
   "version": "3.9.13"
  },
  "toc": {
   "base_numbering": 1,
   "nav_menu": {},
   "number_sections": true,
   "sideBar": true,
   "skip_h1_title": true,
   "title_cell": "Содержание",
   "title_sidebar": "Contents",
   "toc_cell": true,
   "toc_position": {},
   "toc_section_display": true,
   "toc_window_display": false
  }
 },
 "nbformat": 4,
 "nbformat_minor": 2
}
