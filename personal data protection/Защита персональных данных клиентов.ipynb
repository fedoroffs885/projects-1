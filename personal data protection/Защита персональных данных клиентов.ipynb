{
 "cells": [
  {
   "cell_type": "markdown",
   "metadata": {},
   "source": [
    "# Защита персональных данных клиентов"
   ]
  },
  {
   "cell_type": "markdown",
   "metadata": {},
   "source": [
    "Нужно защитить данные клиентов страховой компании «Хоть потоп». Разработайте такой метод преобразования данных, чтобы по ним было сложно восстановить персональную информацию. Обоснуйте корректность его работы.\n",
    "\n",
    "Нужно защитить данные, чтобы при преобразовании качество моделей машинного обучения не ухудшилось. Подбирать наилучшую модель не требуется."
   ]
  },
  {
   "cell_type": "markdown",
   "metadata": {},
   "source": [
    "## Шаги исследования"
   ]
  },
  {
   "cell_type": "markdown",
   "metadata": {},
   "source": [
    "1. Загрузка данных\n",
    "2. Умножение матриц\n",
    "3. Алгоритм преобразования\n",
    "4. Проверка алгоритма\n",
    "5. Общий вывод"
   ]
  },
  {
   "cell_type": "markdown",
   "metadata": {},
   "source": [
    "## 1. Загрузка данных"
   ]
  },
  {
   "cell_type": "code",
   "execution_count": 1,
   "metadata": {},
   "outputs": [],
   "source": [
    "import pandas as pd\n",
    "import numpy as np\n",
    "from sklearn.metrics import r2_score\n",
    "from numpy.linalg import inv\n",
    "\n",
    "\n",
    "data = pd.read_csv(r\"C:\\Users\\stasf\\Desktop\\insurance.csv\")"
   ]
  },
  {
   "cell_type": "code",
   "execution_count": 2,
   "metadata": {},
   "outputs": [],
   "source": [
    "# Сделаем функцию для описания данных\n",
    "def information(df):\n",
    "    print(\"Количество строк:\", df.shape[0])\n",
    "    print(\"Количество столбцов:\", df.shape[1])\n",
    "    print(\"Количество дубликатов:\", df.duplicated().sum())\n",
    "    df.info()\n",
    "    display(df.describe())\n",
    "    display(df.head(5))"
   ]
  },
  {
   "cell_type": "code",
   "execution_count": 3,
   "metadata": {},
   "outputs": [
    {
     "name": "stdout",
     "output_type": "stream",
     "text": [
      "Количество строк: 5000\n",
      "Количество столбцов: 5\n",
      "Количество дубликатов: 153\n",
      "<class 'pandas.core.frame.DataFrame'>\n",
      "RangeIndex: 5000 entries, 0 to 4999\n",
      "Data columns (total 5 columns):\n",
      " #   Column             Non-Null Count  Dtype  \n",
      "---  ------             --------------  -----  \n",
      " 0   Пол                5000 non-null   int64  \n",
      " 1   Возраст            5000 non-null   float64\n",
      " 2   Зарплата           5000 non-null   float64\n",
      " 3   Члены семьи        5000 non-null   int64  \n",
      " 4   Страховые выплаты  5000 non-null   int64  \n",
      "dtypes: float64(2), int64(3)\n",
      "memory usage: 195.4 KB\n"
     ]
    },
    {
     "data": {
      "text/html": [
       "<div>\n",
       "<style scoped>\n",
       "    .dataframe tbody tr th:only-of-type {\n",
       "        vertical-align: middle;\n",
       "    }\n",
       "\n",
       "    .dataframe tbody tr th {\n",
       "        vertical-align: top;\n",
       "    }\n",
       "\n",
       "    .dataframe thead th {\n",
       "        text-align: right;\n",
       "    }\n",
       "</style>\n",
       "<table border=\"1\" class=\"dataframe\">\n",
       "  <thead>\n",
       "    <tr style=\"text-align: right;\">\n",
       "      <th></th>\n",
       "      <th>Пол</th>\n",
       "      <th>Возраст</th>\n",
       "      <th>Зарплата</th>\n",
       "      <th>Члены семьи</th>\n",
       "      <th>Страховые выплаты</th>\n",
       "    </tr>\n",
       "  </thead>\n",
       "  <tbody>\n",
       "    <tr>\n",
       "      <th>count</th>\n",
       "      <td>5000.000000</td>\n",
       "      <td>5000.000000</td>\n",
       "      <td>5000.000000</td>\n",
       "      <td>5000.000000</td>\n",
       "      <td>5000.000000</td>\n",
       "    </tr>\n",
       "    <tr>\n",
       "      <th>mean</th>\n",
       "      <td>0.499000</td>\n",
       "      <td>30.952800</td>\n",
       "      <td>39916.360000</td>\n",
       "      <td>1.194200</td>\n",
       "      <td>0.148000</td>\n",
       "    </tr>\n",
       "    <tr>\n",
       "      <th>std</th>\n",
       "      <td>0.500049</td>\n",
       "      <td>8.440807</td>\n",
       "      <td>9900.083569</td>\n",
       "      <td>1.091387</td>\n",
       "      <td>0.463183</td>\n",
       "    </tr>\n",
       "    <tr>\n",
       "      <th>min</th>\n",
       "      <td>0.000000</td>\n",
       "      <td>18.000000</td>\n",
       "      <td>5300.000000</td>\n",
       "      <td>0.000000</td>\n",
       "      <td>0.000000</td>\n",
       "    </tr>\n",
       "    <tr>\n",
       "      <th>25%</th>\n",
       "      <td>0.000000</td>\n",
       "      <td>24.000000</td>\n",
       "      <td>33300.000000</td>\n",
       "      <td>0.000000</td>\n",
       "      <td>0.000000</td>\n",
       "    </tr>\n",
       "    <tr>\n",
       "      <th>50%</th>\n",
       "      <td>0.000000</td>\n",
       "      <td>30.000000</td>\n",
       "      <td>40200.000000</td>\n",
       "      <td>1.000000</td>\n",
       "      <td>0.000000</td>\n",
       "    </tr>\n",
       "    <tr>\n",
       "      <th>75%</th>\n",
       "      <td>1.000000</td>\n",
       "      <td>37.000000</td>\n",
       "      <td>46600.000000</td>\n",
       "      <td>2.000000</td>\n",
       "      <td>0.000000</td>\n",
       "    </tr>\n",
       "    <tr>\n",
       "      <th>max</th>\n",
       "      <td>1.000000</td>\n",
       "      <td>65.000000</td>\n",
       "      <td>79000.000000</td>\n",
       "      <td>6.000000</td>\n",
       "      <td>5.000000</td>\n",
       "    </tr>\n",
       "  </tbody>\n",
       "</table>\n",
       "</div>"
      ],
      "text/plain": [
       "               Пол      Возраст      Зарплата  Члены семьи  Страховые выплаты\n",
       "count  5000.000000  5000.000000   5000.000000  5000.000000        5000.000000\n",
       "mean      0.499000    30.952800  39916.360000     1.194200           0.148000\n",
       "std       0.500049     8.440807   9900.083569     1.091387           0.463183\n",
       "min       0.000000    18.000000   5300.000000     0.000000           0.000000\n",
       "25%       0.000000    24.000000  33300.000000     0.000000           0.000000\n",
       "50%       0.000000    30.000000  40200.000000     1.000000           0.000000\n",
       "75%       1.000000    37.000000  46600.000000     2.000000           0.000000\n",
       "max       1.000000    65.000000  79000.000000     6.000000           5.000000"
      ]
     },
     "metadata": {},
     "output_type": "display_data"
    },
    {
     "data": {
      "text/html": [
       "<div>\n",
       "<style scoped>\n",
       "    .dataframe tbody tr th:only-of-type {\n",
       "        vertical-align: middle;\n",
       "    }\n",
       "\n",
       "    .dataframe tbody tr th {\n",
       "        vertical-align: top;\n",
       "    }\n",
       "\n",
       "    .dataframe thead th {\n",
       "        text-align: right;\n",
       "    }\n",
       "</style>\n",
       "<table border=\"1\" class=\"dataframe\">\n",
       "  <thead>\n",
       "    <tr style=\"text-align: right;\">\n",
       "      <th></th>\n",
       "      <th>Пол</th>\n",
       "      <th>Возраст</th>\n",
       "      <th>Зарплата</th>\n",
       "      <th>Члены семьи</th>\n",
       "      <th>Страховые выплаты</th>\n",
       "    </tr>\n",
       "  </thead>\n",
       "  <tbody>\n",
       "    <tr>\n",
       "      <th>0</th>\n",
       "      <td>1</td>\n",
       "      <td>41.0</td>\n",
       "      <td>49600.0</td>\n",
       "      <td>1</td>\n",
       "      <td>0</td>\n",
       "    </tr>\n",
       "    <tr>\n",
       "      <th>1</th>\n",
       "      <td>0</td>\n",
       "      <td>46.0</td>\n",
       "      <td>38000.0</td>\n",
       "      <td>1</td>\n",
       "      <td>1</td>\n",
       "    </tr>\n",
       "    <tr>\n",
       "      <th>2</th>\n",
       "      <td>0</td>\n",
       "      <td>29.0</td>\n",
       "      <td>21000.0</td>\n",
       "      <td>0</td>\n",
       "      <td>0</td>\n",
       "    </tr>\n",
       "    <tr>\n",
       "      <th>3</th>\n",
       "      <td>0</td>\n",
       "      <td>21.0</td>\n",
       "      <td>41700.0</td>\n",
       "      <td>2</td>\n",
       "      <td>0</td>\n",
       "    </tr>\n",
       "    <tr>\n",
       "      <th>4</th>\n",
       "      <td>1</td>\n",
       "      <td>28.0</td>\n",
       "      <td>26100.0</td>\n",
       "      <td>0</td>\n",
       "      <td>0</td>\n",
       "    </tr>\n",
       "  </tbody>\n",
       "</table>\n",
       "</div>"
      ],
      "text/plain": [
       "   Пол  Возраст  Зарплата  Члены семьи  Страховые выплаты\n",
       "0    1     41.0   49600.0            1                  0\n",
       "1    0     46.0   38000.0            1                  1\n",
       "2    0     29.0   21000.0            0                  0\n",
       "3    0     21.0   41700.0            2                  0\n",
       "4    1     28.0   26100.0            0                  0"
      ]
     },
     "metadata": {},
     "output_type": "display_data"
    }
   ],
   "source": [
    "information(data)"
   ]
  },
  {
   "cell_type": "markdown",
   "metadata": {},
   "source": [
    "Данные загружены и изучены. Пропуски отсутствуют, количество дубликатов - 153. Скорее всего, это просто клиенты с идентичными признаками."
   ]
  },
  {
   "cell_type": "code",
   "execution_count": 4,
   "metadata": {},
   "outputs": [],
   "source": [
    "# Разделим данные на фичи и таргеты\n",
    "data_features = data.drop('Страховые выплаты', axis=1)\n",
    "data_target = data['Страховые выплаты']"
   ]
  },
  {
   "cell_type": "markdown",
   "metadata": {},
   "source": [
    "## 2. Умножение матриц"
   ]
  },
  {
   "cell_type": "markdown",
   "metadata": {},
   "source": [
    "Обозначения:\n",
    "\n",
    "- $X$ — матрица признаков (нулевой столбец состоит из единиц)\n",
    "\n",
    "- $y$ — вектор целевого признака\n",
    "\n",
    "- $P$ — матрица, на которую умножаются признаки\n",
    "\n",
    "- $w$ — вектор весов линейной регрессии (нулевой элемент равен сдвигу)"
   ]
  },
  {
   "cell_type": "markdown",
   "metadata": {},
   "source": [
    "Предсказания:\n",
    "\n",
    "$$\n",
    "a = Xw\n",
    "$$\n",
    "\n",
    "Задача обучения:\n",
    "\n",
    "$$\n",
    "w = \\arg\\min_w MSE(Xw, y)\n",
    "$$\n",
    "\n",
    "Формула обучения:\n",
    "\n",
    "$$\n",
    "w = (X^T X)^{-1} X^T y\n",
    "$$"
   ]
  },
  {
   "cell_type": "markdown",
   "metadata": {},
   "source": [
    "**Ответ:** При умножении матрицы признаков на обратимую матрицу качество линейной регрессии **не изменится**.\n",
    "\n",
    "**Обоснование:** Домножим матрицу признаков $X$ на квадратную матрицу $P$ (размером 4 на 4), при условии что она обратима. Тогда формула предсказания будет выглядеть так: \n",
    "$$ a' = XPw' $$ \n",
    "где формула обучения будет представлена как:\n",
    "$$ w' = ((XP)^{T}XP)^{-1}(XP)^{T}y $$ \n",
    "\n",
    "Для доказтельства будем использовать свойства операций над матрицами.\n",
    "Поделим доказательство на несколько шагов:\n",
    "\n",
    "**1**. $(XP)^{T} = P^{T}X^{T}$. \n",
    "Получим: \n",
    "\n",
    "$$ w' = (P^{T}X^{T}XP)^{-1}P^{T}X^{T}y $$ \n",
    "\n",
    "**2**. Так как обратимыми являются только квадратные матрицы, то проведем такое преобразование: $P^{T}X^{T}XP = (P^{T}X^{T}X)P$\n",
    "\n",
    "$$ w' = ((P^{T}X^{T}X)P)^{-1}P^{T}X^{T}y $$\n",
    "\n",
    "**3**. В результате матричного умножения в скобке $(P^{T}X^{T}X)$ получится квадртаная матрица размером 4 на 4. В таком случае мы можем раскрыть скобки и получим такое выражение:\n",
    "\n",
    "$$  w' = P^{-1}(P^{T}X^{T}X)^{-1}P^{T}X^{T}y $$\n",
    "\n",
    "**4**. Проведем аналогичное преобразование для скобки $(P^{T}X^{T}X)^{-1}$ = $(P^{T}(X^{T}X))^{-1}$ и раскроем ее:\n",
    "\n",
    "$$  w' = P^{-1}(X^{T}X)^{-1}(P^{T})^{-1}P^{T}X^{T}y $$\n",
    "\n",
    "**5**. Так как $ (P^{T})^{-1}P^{T} = E $, то формула обучения примет окончательный вид: \n",
    "\n",
    "$$  w' = P^{-1}(X^{T}X)^{-1}X^{T}y $$\n",
    "\n",
    "**6**. Подставим $w'$ в формулу предсказания $a' = XPw'$:\n",
    "\n",
    "$$a' = XPP^{-1}(X^{T}X)^{-1}X^{T}y$$\n",
    "\n",
    "**7**. $PP^{-1} = E$, а значит: \n",
    "\n",
    "$$a' = X(X^{T}X)^{-1}X^{T}y$$\n",
    "\n",
    "**Следовательно, $a = a'$, то есть результат предсказания не изменится. ЧТД.**"
   ]
  },
  {
   "cell_type": "markdown",
   "metadata": {},
   "source": [
    "## 3. Алгоритм преобразования"
   ]
  },
  {
   "cell_type": "markdown",
   "metadata": {},
   "source": [
    "**Алгоритм**\n",
    "\n",
    "Нужно домножить матрицу признаков (с нулевым столбцом из единиц) на любую обратимую матрицу размером 4 на 4. В таком случае нам удастся защитить данные и при этом не испоортить качество модели линейной регресссии."
   ]
  },
  {
   "cell_type": "markdown",
   "metadata": {},
   "source": [
    "**Обоснование**\n",
    "\n",
    "Доказательство правильности алгоритма преобразования приведено в шаге **2**."
   ]
  },
  {
   "cell_type": "markdown",
   "metadata": {},
   "source": [
    "## 4. Проверка алгоритма"
   ]
  },
  {
   "cell_type": "code",
   "execution_count": 5,
   "metadata": {},
   "outputs": [
    {
     "data": {
      "text/html": [
       "<div>\n",
       "<style scoped>\n",
       "    .dataframe tbody tr th:only-of-type {\n",
       "        vertical-align: middle;\n",
       "    }\n",
       "\n",
       "    .dataframe tbody tr th {\n",
       "        vertical-align: top;\n",
       "    }\n",
       "\n",
       "    .dataframe thead th {\n",
       "        text-align: right;\n",
       "    }\n",
       "</style>\n",
       "<table border=\"1\" class=\"dataframe\">\n",
       "  <thead>\n",
       "    <tr style=\"text-align: right;\">\n",
       "      <th></th>\n",
       "      <th>0</th>\n",
       "      <th>1</th>\n",
       "      <th>2</th>\n",
       "      <th>3</th>\n",
       "    </tr>\n",
       "  </thead>\n",
       "  <tbody>\n",
       "    <tr>\n",
       "      <th>0</th>\n",
       "      <td>446530.0</td>\n",
       "      <td>347698.0</td>\n",
       "      <td>99423.0</td>\n",
       "      <td>248586.0</td>\n",
       "    </tr>\n",
       "    <tr>\n",
       "      <th>1</th>\n",
       "      <td>342140.0</td>\n",
       "      <td>266556.0</td>\n",
       "      <td>76240.0</td>\n",
       "      <td>190650.0</td>\n",
       "    </tr>\n",
       "    <tr>\n",
       "      <th>2</th>\n",
       "      <td>189087.0</td>\n",
       "      <td>147348.0</td>\n",
       "      <td>42145.0</td>\n",
       "      <td>105406.0</td>\n",
       "    </tr>\n",
       "    <tr>\n",
       "      <th>3</th>\n",
       "      <td>375367.0</td>\n",
       "      <td>292160.0</td>\n",
       "      <td>83525.0</td>\n",
       "      <td>208806.0</td>\n",
       "    </tr>\n",
       "    <tr>\n",
       "      <th>4</th>\n",
       "      <td>234989.0</td>\n",
       "      <td>183038.0</td>\n",
       "      <td>52348.0</td>\n",
       "      <td>130898.0</td>\n",
       "    </tr>\n",
       "    <tr>\n",
       "      <th>...</th>\n",
       "      <td>...</td>\n",
       "      <td>...</td>\n",
       "      <td>...</td>\n",
       "      <td>...</td>\n",
       "    </tr>\n",
       "    <tr>\n",
       "      <th>4995</th>\n",
       "      <td>321388.0</td>\n",
       "      <td>250244.0</td>\n",
       "      <td>71560.0</td>\n",
       "      <td>178904.0</td>\n",
       "    </tr>\n",
       "    <tr>\n",
       "      <th>4996</th>\n",
       "      <td>471704.0</td>\n",
       "      <td>367212.0</td>\n",
       "      <td>104980.0</td>\n",
       "      <td>262482.0</td>\n",
       "    </tr>\n",
       "    <tr>\n",
       "      <th>4997</th>\n",
       "      <td>305164.0</td>\n",
       "      <td>237548.0</td>\n",
       "      <td>67920.0</td>\n",
       "      <td>169792.0</td>\n",
       "    </tr>\n",
       "    <tr>\n",
       "      <th>4998</th>\n",
       "      <td>294377.0</td>\n",
       "      <td>229178.0</td>\n",
       "      <td>65548.0</td>\n",
       "      <td>163832.0</td>\n",
       "    </tr>\n",
       "    <tr>\n",
       "      <th>4999</th>\n",
       "      <td>365491.0</td>\n",
       "      <td>284542.0</td>\n",
       "      <td>81358.0</td>\n",
       "      <td>203404.0</td>\n",
       "    </tr>\n",
       "  </tbody>\n",
       "</table>\n",
       "<p>5000 rows × 4 columns</p>\n",
       "</div>"
      ],
      "text/plain": [
       "             0         1         2         3\n",
       "0     446530.0  347698.0   99423.0  248586.0\n",
       "1     342140.0  266556.0   76240.0  190650.0\n",
       "2     189087.0  147348.0   42145.0  105406.0\n",
       "3     375367.0  292160.0   83525.0  208806.0\n",
       "4     234989.0  183038.0   52348.0  130898.0\n",
       "...        ...       ...       ...       ...\n",
       "4995  321388.0  250244.0   71560.0  178904.0\n",
       "4996  471704.0  367212.0  104980.0  262482.0\n",
       "4997  305164.0  237548.0   67920.0  169792.0\n",
       "4998  294377.0  229178.0   65548.0  163832.0\n",
       "4999  365491.0  284542.0   81358.0  203404.0\n",
       "\n",
       "[5000 rows x 4 columns]"
      ]
     },
     "metadata": {},
     "output_type": "display_data"
    }
   ],
   "source": [
    "# Домножим матрицу признаков на обратимую матрицу\n",
    "matrix = np.array([\n",
    "                 [5, 2, 8, 6],\n",
    "                 [3, 12, 5, 14],\n",
    "                 [9, 7, 2, 5],\n",
    "                 [2, 4, 10, 6]\n",
    "])\n",
    "features_inv = data_features @ matrix\n",
    "display(features_inv)"
   ]
  },
  {
   "cell_type": "code",
   "execution_count": 6,
   "metadata": {},
   "outputs": [
    {
     "name": "stdout",
     "output_type": "stream",
     "text": [
      "[[ 0.10223426 -0.04062288  0.08530806 -0.07853758]\n",
      " [-0.29451591 -0.00880162  0.11848341  0.21631686]\n",
      " [-0.0521327  -0.0521327   0.00947867  0.16587678]\n",
      " [ 0.24915369  0.10629655 -0.12322275 -0.22782668]]\n"
     ]
    }
   ],
   "source": [
    "# Проверка матрицы на обртимость\n",
    "inverse = inv(matrix)\n",
    "print(inverse)"
   ]
  },
  {
   "cell_type": "markdown",
   "metadata": {},
   "source": [
    "Матрица обратима."
   ]
  },
  {
   "cell_type": "code",
   "execution_count": 7,
   "metadata": {},
   "outputs": [
    {
     "name": "stdout",
     "output_type": "stream",
     "text": [
      "Показтель метрики r2_score при исходной матрице признаков: 0.42495\n"
     ]
    }
   ],
   "source": [
    "# Создадим класс модели линейной регрессии\n",
    "class LinearRegression:\n",
    "    def fit(self, train_features, train_target):\n",
    "        X = np.concatenate((np.ones((train_features.shape[0], 1)), train_features), axis=1)\n",
    "        y = train_target\n",
    "        w = np.linalg.inv(X.T.dot(X)).dot(X.T).dot(y)\n",
    "        self.w = w[1:]\n",
    "        self.w0 = w[0]\n",
    "        \n",
    "    def predict(self, test_features):\n",
    "        return test_features.dot(self.w) + self.w0\n",
    "\n",
    "# Проверим модель на исходных данных\n",
    "model = LinearRegression()\n",
    "model.fit(data_features, data_target)\n",
    "predictions = model.predict(data_features)\n",
    "print(\"Показтель метрики r2_score при исходной матрице признаков:\", round(r2_score(data_target, predictions), 5))"
   ]
  },
  {
   "cell_type": "code",
   "execution_count": 8,
   "metadata": {},
   "outputs": [
    {
     "name": "stdout",
     "output_type": "stream",
     "text": [
      "Показтель метрики r2_score при измененной матрице признаков: 0.42495\n"
     ]
    }
   ],
   "source": [
    "# Проверим модель на измененных данных\n",
    "model = LinearRegression()\n",
    "model.fit(features_inv, data_target)\n",
    "predictions = model.predict(features_inv)\n",
    "print(\"Показтель метрики r2_score при измененной матрице признаков:\", round(r2_score(data_target, predictions), 5))"
   ]
  },
  {
   "cell_type": "markdown",
   "metadata": {},
   "source": [
    "## 4. Общий вывод"
   ]
  },
  {
   "cell_type": "markdown",
   "metadata": {},
   "source": [
    "**Вывод**:\n",
    "Проведено сравнение моделей до и после домножения матрицы на обратимую матрицу. Качество модели осталось неизменным."
   ]
  }
 ],
 "metadata": {
  "ExecuteTimeLog": [
   {
    "duration": 456,
    "start_time": "2023-02-15T12:35:50.145Z"
   },
   {
    "duration": 41,
    "start_time": "2023-02-15T12:37:06.613Z"
   },
   {
    "duration": 38,
    "start_time": "2023-02-15T12:37:40.985Z"
   },
   {
    "duration": 34,
    "start_time": "2023-02-15T12:37:53.592Z"
   },
   {
    "duration": 39,
    "start_time": "2023-02-15T12:38:04.622Z"
   },
   {
    "duration": 53,
    "start_time": "2023-02-15T12:38:16.207Z"
   },
   {
    "duration": 36,
    "start_time": "2023-02-15T12:38:28.986Z"
   },
   {
    "duration": 10,
    "start_time": "2023-02-15T12:38:42.869Z"
   },
   {
    "duration": 26,
    "start_time": "2023-02-15T12:38:56.613Z"
   },
   {
    "duration": 460,
    "start_time": "2023-02-15T18:00:01.921Z"
   },
   {
    "duration": 3,
    "start_time": "2023-02-15T18:02:21.069Z"
   },
   {
    "duration": 45,
    "start_time": "2023-02-15T18:02:55.901Z"
   },
   {
    "duration": 27,
    "start_time": "2023-02-15T18:03:18.917Z"
   },
   {
    "duration": 3,
    "start_time": "2023-02-15T18:03:19.831Z"
   },
   {
    "duration": 45,
    "start_time": "2023-02-15T18:03:19.836Z"
   },
   {
    "duration": 3,
    "start_time": "2023-02-15T18:28:26.104Z"
   },
   {
    "duration": 41,
    "start_time": "2023-02-15T18:28:26.941Z"
   },
   {
    "duration": 61,
    "start_time": "2023-02-15T18:33:59.860Z"
   },
   {
    "duration": 4,
    "start_time": "2023-02-15T18:34:17.953Z"
   },
   {
    "duration": 24,
    "start_time": "2023-02-15T18:34:58.275Z"
   },
   {
    "duration": 4,
    "start_time": "2023-02-15T18:34:58.300Z"
   },
   {
    "duration": 41,
    "start_time": "2023-02-15T18:34:58.305Z"
   },
   {
    "duration": 4,
    "start_time": "2023-02-15T18:34:58.348Z"
   },
   {
    "duration": 24,
    "start_time": "2023-02-15T18:35:12.719Z"
   },
   {
    "duration": 3,
    "start_time": "2023-02-15T18:35:12.745Z"
   },
   {
    "duration": 38,
    "start_time": "2023-02-15T18:35:12.749Z"
   },
   {
    "duration": 3,
    "start_time": "2023-02-15T18:35:12.789Z"
   },
   {
    "duration": 425,
    "start_time": "2023-02-15T18:35:25.860Z"
   },
   {
    "duration": 3,
    "start_time": "2023-02-15T18:35:26.287Z"
   },
   {
    "duration": 43,
    "start_time": "2023-02-15T18:35:26.292Z"
   },
   {
    "duration": 4,
    "start_time": "2023-02-15T18:35:26.337Z"
   },
   {
    "duration": 4,
    "start_time": "2023-02-15T18:35:34.872Z"
   },
   {
    "duration": 510,
    "start_time": "2023-02-16T08:26:12.048Z"
   },
   {
    "duration": 4,
    "start_time": "2023-02-16T08:26:12.560Z"
   },
   {
    "duration": 56,
    "start_time": "2023-02-16T08:26:12.566Z"
   },
   {
    "duration": 4,
    "start_time": "2023-02-16T08:26:12.624Z"
   },
   {
    "duration": 1110,
    "start_time": "2023-02-16T08:36:15.498Z"
   },
   {
    "duration": 3,
    "start_time": "2023-02-16T08:36:16.610Z"
   },
   {
    "duration": 55,
    "start_time": "2023-02-16T08:36:16.614Z"
   },
   {
    "duration": 4,
    "start_time": "2023-02-16T08:36:16.671Z"
   },
   {
    "duration": 94,
    "start_time": "2023-02-16T08:36:16.676Z"
   },
   {
    "duration": 15,
    "start_time": "2023-02-16T08:36:34.264Z"
   },
   {
    "duration": 15,
    "start_time": "2023-02-16T08:36:46.533Z"
   },
   {
    "duration": 11,
    "start_time": "2023-02-16T08:37:35.141Z"
   },
   {
    "duration": 9,
    "start_time": "2023-02-16T08:38:11.443Z"
   },
   {
    "duration": 1046,
    "start_time": "2023-02-16T08:38:20.553Z"
   },
   {
    "duration": 3,
    "start_time": "2023-02-16T08:38:21.601Z"
   },
   {
    "duration": 48,
    "start_time": "2023-02-16T08:38:21.605Z"
   },
   {
    "duration": 5,
    "start_time": "2023-02-16T08:38:21.655Z"
   },
   {
    "duration": 33,
    "start_time": "2023-02-16T08:38:21.662Z"
   },
   {
    "duration": 105,
    "start_time": "2023-02-16T08:48:22.991Z"
   },
   {
    "duration": 10,
    "start_time": "2023-02-16T08:49:11.217Z"
   },
   {
    "duration": 9,
    "start_time": "2023-02-16T08:49:52.293Z"
   },
   {
    "duration": 9,
    "start_time": "2023-02-16T08:50:40.523Z"
   },
   {
    "duration": 4,
    "start_time": "2023-02-16T08:51:08.295Z"
   },
   {
    "duration": 13,
    "start_time": "2023-02-16T08:54:35.168Z"
   },
   {
    "duration": 4,
    "start_time": "2023-02-16T08:56:19.468Z"
   },
   {
    "duration": 16,
    "start_time": "2023-02-16T09:00:36.657Z"
   },
   {
    "duration": 15,
    "start_time": "2023-02-16T09:01:23.392Z"
   },
   {
    "duration": 15,
    "start_time": "2023-02-16T09:03:16.959Z"
   },
   {
    "duration": 1151,
    "start_time": "2023-02-16T09:03:49.569Z"
   },
   {
    "duration": 3,
    "start_time": "2023-02-16T09:03:50.722Z"
   },
   {
    "duration": 48,
    "start_time": "2023-02-16T09:03:50.727Z"
   },
   {
    "duration": 3,
    "start_time": "2023-02-16T09:03:50.777Z"
   },
   {
    "duration": 14,
    "start_time": "2023-02-16T09:03:50.783Z"
   },
   {
    "duration": 15,
    "start_time": "2023-02-16T09:03:50.799Z"
   },
   {
    "duration": 109,
    "start_time": "2023-02-16T09:03:50.898Z"
   },
   {
    "duration": 88,
    "start_time": "2023-02-16T09:05:17.981Z"
   },
   {
    "duration": 1094,
    "start_time": "2023-02-16T09:07:23.450Z"
   },
   {
    "duration": 3,
    "start_time": "2023-02-16T09:07:24.546Z"
   },
   {
    "duration": 55,
    "start_time": "2023-02-16T09:07:24.551Z"
   },
   {
    "duration": 3,
    "start_time": "2023-02-16T09:07:24.608Z"
   },
   {
    "duration": 19,
    "start_time": "2023-02-16T09:07:24.613Z"
   },
   {
    "duration": 11,
    "start_time": "2023-02-16T09:07:24.634Z"
   },
   {
    "duration": 100,
    "start_time": "2023-02-16T09:07:24.695Z"
   },
   {
    "duration": 1679,
    "start_time": "2023-02-16T16:26:03.081Z"
   },
   {
    "duration": 3,
    "start_time": "2023-02-16T16:26:04.763Z"
   },
   {
    "duration": 60,
    "start_time": "2023-02-16T16:26:04.768Z"
   },
   {
    "duration": 4,
    "start_time": "2023-02-16T16:26:04.829Z"
   },
   {
    "duration": 20,
    "start_time": "2023-02-16T16:26:04.835Z"
   },
   {
    "duration": 14,
    "start_time": "2023-02-16T16:26:04.857Z"
   },
   {
    "duration": 106,
    "start_time": "2023-02-16T16:26:04.940Z"
   },
   {
    "duration": 77,
    "start_time": "2023-02-16T16:55:47.046Z"
   },
   {
    "duration": 64,
    "start_time": "2023-02-16T17:00:03.437Z"
   },
   {
    "duration": 1373,
    "start_time": "2023-02-16T17:00:14.521Z"
   },
   {
    "duration": 5,
    "start_time": "2023-02-16T17:00:15.897Z"
   },
   {
    "duration": 64,
    "start_time": "2023-02-16T17:00:15.904Z"
   },
   {
    "duration": 5,
    "start_time": "2023-02-16T17:00:15.971Z"
   },
   {
    "duration": 19,
    "start_time": "2023-02-16T17:00:15.978Z"
   },
   {
    "duration": 113,
    "start_time": "2023-02-16T17:00:15.999Z"
   },
   {
    "duration": 0,
    "start_time": "2023-02-16T17:00:16.114Z"
   },
   {
    "duration": 0,
    "start_time": "2023-02-16T17:00:16.115Z"
   },
   {
    "duration": 9,
    "start_time": "2023-02-16T17:01:58.088Z"
   },
   {
    "duration": 1081,
    "start_time": "2023-02-16T17:02:18.026Z"
   },
   {
    "duration": 3,
    "start_time": "2023-02-16T17:02:19.109Z"
   },
   {
    "duration": 49,
    "start_time": "2023-02-16T17:02:19.114Z"
   },
   {
    "duration": 4,
    "start_time": "2023-02-16T17:02:19.165Z"
   },
   {
    "duration": 15,
    "start_time": "2023-02-16T17:02:19.171Z"
   },
   {
    "duration": 3,
    "start_time": "2023-02-16T17:02:19.188Z"
   },
   {
    "duration": 47,
    "start_time": "2023-02-16T17:02:19.192Z"
   },
   {
    "duration": 106,
    "start_time": "2023-02-16T17:02:19.323Z"
   },
   {
    "duration": 6,
    "start_time": "2023-02-16T17:03:04.629Z"
   },
   {
    "duration": 1082,
    "start_time": "2023-02-16T17:03:48.026Z"
   },
   {
    "duration": 4,
    "start_time": "2023-02-16T17:03:49.111Z"
   },
   {
    "duration": 47,
    "start_time": "2023-02-16T17:03:49.117Z"
   },
   {
    "duration": 4,
    "start_time": "2023-02-16T17:03:49.166Z"
   },
   {
    "duration": 23,
    "start_time": "2023-02-16T17:03:49.171Z"
   },
   {
    "duration": 25,
    "start_time": "2023-02-16T17:03:49.196Z"
   },
   {
    "duration": 110,
    "start_time": "2023-02-16T17:03:49.223Z"
   },
   {
    "duration": 97,
    "start_time": "2023-02-16T17:03:49.334Z"
   },
   {
    "duration": 76,
    "start_time": "2023-02-16T17:04:38.161Z"
   },
   {
    "duration": 1113,
    "start_time": "2023-02-16T17:04:47.720Z"
   },
   {
    "duration": 5,
    "start_time": "2023-02-16T17:04:48.836Z"
   },
   {
    "duration": 59,
    "start_time": "2023-02-16T17:04:48.843Z"
   },
   {
    "duration": 5,
    "start_time": "2023-02-16T17:04:48.905Z"
   },
   {
    "duration": 26,
    "start_time": "2023-02-16T17:04:48.912Z"
   },
   {
    "duration": 13,
    "start_time": "2023-02-16T17:04:48.940Z"
   },
   {
    "duration": 173,
    "start_time": "2023-02-16T17:04:48.956Z"
   },
   {
    "duration": 100,
    "start_time": "2023-02-16T17:04:49.132Z"
   },
   {
    "duration": 1114,
    "start_time": "2023-02-16T17:06:27.562Z"
   },
   {
    "duration": 4,
    "start_time": "2023-02-16T17:06:28.677Z"
   },
   {
    "duration": 51,
    "start_time": "2023-02-16T17:06:28.682Z"
   },
   {
    "duration": 4,
    "start_time": "2023-02-16T17:06:28.735Z"
   },
   {
    "duration": 15,
    "start_time": "2023-02-16T17:06:28.740Z"
   },
   {
    "duration": 4,
    "start_time": "2023-02-16T17:06:28.757Z"
   },
   {
    "duration": 156,
    "start_time": "2023-02-16T17:06:28.764Z"
   },
   {
    "duration": 107,
    "start_time": "2023-02-16T17:06:28.922Z"
   },
   {
    "duration": 46,
    "start_time": "2023-02-17T14:57:42.581Z"
   },
   {
    "duration": 1269,
    "start_time": "2023-02-17T14:57:50.147Z"
   },
   {
    "duration": 4,
    "start_time": "2023-02-17T14:57:51.418Z"
   },
   {
    "duration": 71,
    "start_time": "2023-02-17T14:57:51.423Z"
   },
   {
    "duration": 5,
    "start_time": "2023-02-17T14:57:51.497Z"
   },
   {
    "duration": 24,
    "start_time": "2023-02-17T14:57:51.504Z"
   },
   {
    "duration": 4,
    "start_time": "2023-02-17T14:57:51.530Z"
   },
   {
    "duration": 101,
    "start_time": "2023-02-17T14:57:51.576Z"
   },
   {
    "duration": 124,
    "start_time": "2023-02-17T14:57:51.680Z"
   },
   {
    "duration": 19,
    "start_time": "2023-02-17T14:58:10.063Z"
   }
  ],
  "kernelspec": {
   "display_name": "Python 3 (ipykernel)",
   "language": "python",
   "name": "python3"
  },
  "language_info": {
   "codemirror_mode": {
    "name": "ipython",
    "version": 3
   },
   "file_extension": ".py",
   "mimetype": "text/x-python",
   "name": "python",
   "nbconvert_exporter": "python",
   "pygments_lexer": "ipython3",
   "version": "3.9.13"
  },
  "toc": {
   "base_numbering": 1,
   "nav_menu": {},
   "number_sections": true,
   "sideBar": true,
   "skip_h1_title": true,
   "title_cell": "Содержание",
   "title_sidebar": "Contents",
   "toc_cell": true,
   "toc_position": {},
   "toc_section_display": true,
   "toc_window_display": true
  }
 },
 "nbformat": 4,
 "nbformat_minor": 2
}
