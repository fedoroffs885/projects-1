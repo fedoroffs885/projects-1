{
 "cells": [
  {
   "cell_type": "markdown",
   "metadata": {
    "toc": true
   },
   "source": [
    "<h1>Содержание<span class=\"tocSkip\"></span></h1>\n",
    "<div class=\"toc\"><ul class=\"toc-item\"><li><span><a href=\"#Подготовка-данных\" data-toc-modified-id=\"Подготовка-данных-1\"><span class=\"toc-item-num\">1&nbsp;&nbsp;</span>Подготовка данных</a></span></li><li><span><a href=\"#Анализ-данных\" data-toc-modified-id=\"Анализ-данных-2\"><span class=\"toc-item-num\">2&nbsp;&nbsp;</span>Анализ данных</a></span></li><li><span><a href=\"#Модель\" data-toc-modified-id=\"Модель-3\"><span class=\"toc-item-num\">3&nbsp;&nbsp;</span>Модель</a></span></li><li><span><a href=\"#Чек-лист-готовности-проекта\" data-toc-modified-id=\"Чек-лист-готовности-проекта-4\"><span class=\"toc-item-num\">4&nbsp;&nbsp;</span>Чек-лист готовности проекта</a></span></li></ul></div>"
   ]
  },
  {
   "cell_type": "markdown",
   "metadata": {},
   "source": [
    "## Подготовка данных"
   ]
  },
  {
   "cell_type": "code",
   "execution_count": 1,
   "metadata": {},
   "outputs": [],
   "source": [
    "import pandas as pd\n",
    "import matplotlib.pyplot as plt\n",
    "import numpy as np\n",
    "\n",
    "from sklearn.linear_model import LinearRegression\n",
    "from sklearn.tree import DecisionTreeRegressor\n",
    "from sklearn.ensemble import RandomForestRegressor\n",
    "\n",
    "from sklearn.model_selection import cross_val_score, GridSearchCV\n",
    "from sklearn.metrics import mean_absolute_error, make_scorer\n",
    "from sklearn.preprocessing import StandardScaler\n",
    "from sklearn.dummy import DummyRegressor\n",
    "\n",
    "\n",
    "\n",
    "# Обозначим некоторые переменные, которые пригодятся в работе в дальнейшем\n",
    "METALS = ['au', 'ag', 'pb']\n",
    "TARGETS = ['final.output.recovery', 'rougher.output.recovery']\n",
    "CONCENTRATE = ['rougher.input.feed',\n",
    "    'rougher.output.concentrate',\n",
    "    'primary_cleaner.output.concentrate',\n",
    "    'final.output.concentrate']\n",
    "RANDOM_STATE = 12345"
   ]
  },
  {
   "cell_type": "code",
   "execution_count": 2,
   "metadata": {},
   "outputs": [],
   "source": [
    "# Загрузим данные\n",
    "df_train = pd.read_csv('/datasets/gold_recovery_train_new.csv', index_col='date', parse_dates=True)\n",
    "df_test = pd.read_csv('/datasets/gold_recovery_test_new.csv', index_col='date', parse_dates=True)\n",
    "df_full = pd.read_csv('/datasets/gold_recovery_full_new.csv', index_col='date', parse_dates=True)"
   ]
  },
  {
   "cell_type": "code",
   "execution_count": 3,
   "metadata": {},
   "outputs": [],
   "source": [
    "# Напишем функцию для описания данных\n",
    "def check_df(df):\n",
    "    print(\"Количество строк:\", df.shape[0])\n",
    "    print(\"Количество столбцов:\", df.shape[1])\n",
    "    df.info()\n",
    "    display(df.describe())\n",
    "    display(df.head(5))"
   ]
  },
  {
   "cell_type": "code",
   "execution_count": 4,
   "metadata": {},
   "outputs": [
    {
     "name": "stdout",
     "output_type": "stream",
     "text": [
      "Количество строк: 14149\n",
      "Количество столбцов: 86\n",
      "<class 'pandas.core.frame.DataFrame'>\n",
      "DatetimeIndex: 14149 entries, 2016-01-15 00:00:00 to 2018-08-18 10:59:59\n",
      "Data columns (total 86 columns):\n",
      " #   Column                                              Non-Null Count  Dtype  \n",
      "---  ------                                              --------------  -----  \n",
      " 0   final.output.concentrate_ag                         14148 non-null  float64\n",
      " 1   final.output.concentrate_pb                         14148 non-null  float64\n",
      " 2   final.output.concentrate_sol                        13938 non-null  float64\n",
      " 3   final.output.concentrate_au                         14149 non-null  float64\n",
      " 4   final.output.recovery                               14149 non-null  float64\n",
      " 5   final.output.tail_ag                                14149 non-null  float64\n",
      " 6   final.output.tail_pb                                14049 non-null  float64\n",
      " 7   final.output.tail_sol                               14144 non-null  float64\n",
      " 8   final.output.tail_au                                14149 non-null  float64\n",
      " 9   primary_cleaner.input.sulfate                       14129 non-null  float64\n",
      " 10  primary_cleaner.input.depressant                    14117 non-null  float64\n",
      " 11  primary_cleaner.input.feed_size                     14149 non-null  float64\n",
      " 12  primary_cleaner.input.xanthate                      14049 non-null  float64\n",
      " 13  primary_cleaner.output.concentrate_ag               14149 non-null  float64\n",
      " 14  primary_cleaner.output.concentrate_pb               14063 non-null  float64\n",
      " 15  primary_cleaner.output.concentrate_sol              13863 non-null  float64\n",
      " 16  primary_cleaner.output.concentrate_au               14149 non-null  float64\n",
      " 17  primary_cleaner.output.tail_ag                      14148 non-null  float64\n",
      " 18  primary_cleaner.output.tail_pb                      14134 non-null  float64\n",
      " 19  primary_cleaner.output.tail_sol                     14103 non-null  float64\n",
      " 20  primary_cleaner.output.tail_au                      14149 non-null  float64\n",
      " 21  primary_cleaner.state.floatbank8_a_air              14145 non-null  float64\n",
      " 22  primary_cleaner.state.floatbank8_a_level            14148 non-null  float64\n",
      " 23  primary_cleaner.state.floatbank8_b_air              14145 non-null  float64\n",
      " 24  primary_cleaner.state.floatbank8_b_level            14148 non-null  float64\n",
      " 25  primary_cleaner.state.floatbank8_c_air              14147 non-null  float64\n",
      " 26  primary_cleaner.state.floatbank8_c_level            14148 non-null  float64\n",
      " 27  primary_cleaner.state.floatbank8_d_air              14146 non-null  float64\n",
      " 28  primary_cleaner.state.floatbank8_d_level            14148 non-null  float64\n",
      " 29  rougher.calculation.sulfate_to_au_concentrate       14148 non-null  float64\n",
      " 30  rougher.calculation.floatbank10_sulfate_to_au_feed  14148 non-null  float64\n",
      " 31  rougher.calculation.floatbank11_sulfate_to_au_feed  14148 non-null  float64\n",
      " 32  rougher.calculation.au_pb_ratio                     14149 non-null  float64\n",
      " 33  rougher.input.feed_ag                               14149 non-null  float64\n",
      " 34  rougher.input.feed_pb                               14049 non-null  float64\n",
      " 35  rougher.input.feed_rate                             14141 non-null  float64\n",
      " 36  rougher.input.feed_size                             14005 non-null  float64\n",
      " 37  rougher.input.feed_sol                              14071 non-null  float64\n",
      " 38  rougher.input.feed_au                               14149 non-null  float64\n",
      " 39  rougher.input.floatbank10_sulfate                   14120 non-null  float64\n",
      " 40  rougher.input.floatbank10_xanthate                  14141 non-null  float64\n",
      " 41  rougher.input.floatbank11_sulfate                   14113 non-null  float64\n",
      " 42  rougher.input.floatbank11_xanthate                  13721 non-null  float64\n",
      " 43  rougher.output.concentrate_ag                       14149 non-null  float64\n",
      " 44  rougher.output.concentrate_pb                       14149 non-null  float64\n",
      " 45  rougher.output.concentrate_sol                      14127 non-null  float64\n",
      " 46  rougher.output.concentrate_au                       14149 non-null  float64\n",
      " 47  rougher.output.recovery                             14149 non-null  float64\n",
      " 48  rougher.output.tail_ag                              14148 non-null  float64\n",
      " 49  rougher.output.tail_pb                              14149 non-null  float64\n",
      " 50  rougher.output.tail_sol                             14149 non-null  float64\n",
      " 51  rougher.output.tail_au                              14149 non-null  float64\n",
      " 52  rougher.state.floatbank10_a_air                     14148 non-null  float64\n",
      " 53  rougher.state.floatbank10_a_level                   14148 non-null  float64\n",
      " 54  rougher.state.floatbank10_b_air                     14148 non-null  float64\n",
      " 55  rougher.state.floatbank10_b_level                   14148 non-null  float64\n",
      " 56  rougher.state.floatbank10_c_air                     14148 non-null  float64\n",
      " 57  rougher.state.floatbank10_c_level                   14148 non-null  float64\n",
      " 58  rougher.state.floatbank10_d_air                     14149 non-null  float64\n",
      " 59  rougher.state.floatbank10_d_level                   14149 non-null  float64\n",
      " 60  rougher.state.floatbank10_e_air                     13713 non-null  float64\n",
      " 61  rougher.state.floatbank10_e_level                   14149 non-null  float64\n",
      " 62  rougher.state.floatbank10_f_air                     14149 non-null  float64\n",
      " 63  rougher.state.floatbank10_f_level                   14149 non-null  float64\n",
      " 64  secondary_cleaner.output.tail_ag                    14147 non-null  float64\n",
      " 65  secondary_cleaner.output.tail_pb                    14139 non-null  float64\n",
      " 66  secondary_cleaner.output.tail_sol                   12544 non-null  float64\n",
      " 67  secondary_cleaner.output.tail_au                    14149 non-null  float64\n",
      " 68  secondary_cleaner.state.floatbank2_a_air            13932 non-null  float64\n",
      " 69  secondary_cleaner.state.floatbank2_a_level          14148 non-null  float64\n",
      " 70  secondary_cleaner.state.floatbank2_b_air            14128 non-null  float64\n",
      " 71  secondary_cleaner.state.floatbank2_b_level          14148 non-null  float64\n",
      " 72  secondary_cleaner.state.floatbank3_a_air            14145 non-null  float64\n",
      " 73  secondary_cleaner.state.floatbank3_a_level          14148 non-null  float64\n",
      " 74  secondary_cleaner.state.floatbank3_b_air            14148 non-null  float64\n",
      " 75  secondary_cleaner.state.floatbank3_b_level          14148 non-null  float64\n",
      " 76  secondary_cleaner.state.floatbank4_a_air            14143 non-null  float64\n",
      " 77  secondary_cleaner.state.floatbank4_a_level          14148 non-null  float64\n",
      " 78  secondary_cleaner.state.floatbank4_b_air            14148 non-null  float64\n",
      " 79  secondary_cleaner.state.floatbank4_b_level          14148 non-null  float64\n",
      " 80  secondary_cleaner.state.floatbank5_a_air            14148 non-null  float64\n",
      " 81  secondary_cleaner.state.floatbank5_a_level          14148 non-null  float64\n",
      " 82  secondary_cleaner.state.floatbank5_b_air            14148 non-null  float64\n",
      " 83  secondary_cleaner.state.floatbank5_b_level          14148 non-null  float64\n",
      " 84  secondary_cleaner.state.floatbank6_a_air            14147 non-null  float64\n",
      " 85  secondary_cleaner.state.floatbank6_a_level          14148 non-null  float64\n",
      "dtypes: float64(86)\n",
      "memory usage: 9.4 MB\n"
     ]
    },
    {
     "data": {
      "text/html": [
       "<div>\n",
       "<style scoped>\n",
       "    .dataframe tbody tr th:only-of-type {\n",
       "        vertical-align: middle;\n",
       "    }\n",
       "\n",
       "    .dataframe tbody tr th {\n",
       "        vertical-align: top;\n",
       "    }\n",
       "\n",
       "    .dataframe thead th {\n",
       "        text-align: right;\n",
       "    }\n",
       "</style>\n",
       "<table border=\"1\" class=\"dataframe\">\n",
       "  <thead>\n",
       "    <tr style=\"text-align: right;\">\n",
       "      <th></th>\n",
       "      <th>final.output.concentrate_ag</th>\n",
       "      <th>final.output.concentrate_pb</th>\n",
       "      <th>final.output.concentrate_sol</th>\n",
       "      <th>final.output.concentrate_au</th>\n",
       "      <th>final.output.recovery</th>\n",
       "      <th>final.output.tail_ag</th>\n",
       "      <th>final.output.tail_pb</th>\n",
       "      <th>final.output.tail_sol</th>\n",
       "      <th>final.output.tail_au</th>\n",
       "      <th>primary_cleaner.input.sulfate</th>\n",
       "      <th>...</th>\n",
       "      <th>secondary_cleaner.state.floatbank4_a_air</th>\n",
       "      <th>secondary_cleaner.state.floatbank4_a_level</th>\n",
       "      <th>secondary_cleaner.state.floatbank4_b_air</th>\n",
       "      <th>secondary_cleaner.state.floatbank4_b_level</th>\n",
       "      <th>secondary_cleaner.state.floatbank5_a_air</th>\n",
       "      <th>secondary_cleaner.state.floatbank5_a_level</th>\n",
       "      <th>secondary_cleaner.state.floatbank5_b_air</th>\n",
       "      <th>secondary_cleaner.state.floatbank5_b_level</th>\n",
       "      <th>secondary_cleaner.state.floatbank6_a_air</th>\n",
       "      <th>secondary_cleaner.state.floatbank6_a_level</th>\n",
       "    </tr>\n",
       "  </thead>\n",
       "  <tbody>\n",
       "    <tr>\n",
       "      <th>count</th>\n",
       "      <td>14148.000000</td>\n",
       "      <td>14148.000000</td>\n",
       "      <td>13938.000000</td>\n",
       "      <td>14149.000000</td>\n",
       "      <td>14149.000000</td>\n",
       "      <td>14149.000000</td>\n",
       "      <td>14049.000000</td>\n",
       "      <td>14144.000000</td>\n",
       "      <td>14149.000000</td>\n",
       "      <td>14129.000000</td>\n",
       "      <td>...</td>\n",
       "      <td>14143.000000</td>\n",
       "      <td>14148.000000</td>\n",
       "      <td>14148.000000</td>\n",
       "      <td>14148.000000</td>\n",
       "      <td>14148.000000</td>\n",
       "      <td>14148.000000</td>\n",
       "      <td>14148.000000</td>\n",
       "      <td>14148.000000</td>\n",
       "      <td>14147.000000</td>\n",
       "      <td>14148.000000</td>\n",
       "    </tr>\n",
       "    <tr>\n",
       "      <th>mean</th>\n",
       "      <td>5.142034</td>\n",
       "      <td>10.132960</td>\n",
       "      <td>9.202849</td>\n",
       "      <td>44.003792</td>\n",
       "      <td>66.518832</td>\n",
       "      <td>9.607035</td>\n",
       "      <td>2.597298</td>\n",
       "      <td>10.512122</td>\n",
       "      <td>2.918421</td>\n",
       "      <td>133.320659</td>\n",
       "      <td>...</td>\n",
       "      <td>19.985454</td>\n",
       "      <td>-478.696836</td>\n",
       "      <td>15.487065</td>\n",
       "      <td>-460.229416</td>\n",
       "      <td>16.775136</td>\n",
       "      <td>-483.956022</td>\n",
       "      <td>13.064590</td>\n",
       "      <td>-483.966564</td>\n",
       "      <td>19.577539</td>\n",
       "      <td>-506.798480</td>\n",
       "    </tr>\n",
       "    <tr>\n",
       "      <th>std</th>\n",
       "      <td>1.369586</td>\n",
       "      <td>1.654930</td>\n",
       "      <td>2.790516</td>\n",
       "      <td>4.905261</td>\n",
       "      <td>10.295402</td>\n",
       "      <td>2.319069</td>\n",
       "      <td>0.971843</td>\n",
       "      <td>3.003617</td>\n",
       "      <td>0.903712</td>\n",
       "      <td>39.431659</td>\n",
       "      <td>...</td>\n",
       "      <td>5.657723</td>\n",
       "      <td>50.736021</td>\n",
       "      <td>5.255655</td>\n",
       "      <td>58.843586</td>\n",
       "      <td>5.831906</td>\n",
       "      <td>37.892788</td>\n",
       "      <td>5.765617</td>\n",
       "      <td>39.207913</td>\n",
       "      <td>5.764417</td>\n",
       "      <td>37.079249</td>\n",
       "    </tr>\n",
       "    <tr>\n",
       "      <th>min</th>\n",
       "      <td>0.000000</td>\n",
       "      <td>0.000000</td>\n",
       "      <td>0.000000</td>\n",
       "      <td>0.000000</td>\n",
       "      <td>0.000000</td>\n",
       "      <td>0.000000</td>\n",
       "      <td>0.000000</td>\n",
       "      <td>0.000000</td>\n",
       "      <td>0.000000</td>\n",
       "      <td>0.003112</td>\n",
       "      <td>...</td>\n",
       "      <td>0.000000</td>\n",
       "      <td>-799.709069</td>\n",
       "      <td>0.000000</td>\n",
       "      <td>-799.889113</td>\n",
       "      <td>-0.372054</td>\n",
       "      <td>-797.142475</td>\n",
       "      <td>0.646208</td>\n",
       "      <td>-800.006180</td>\n",
       "      <td>0.195324</td>\n",
       "      <td>-809.398668</td>\n",
       "    </tr>\n",
       "    <tr>\n",
       "      <th>25%</th>\n",
       "      <td>4.211620</td>\n",
       "      <td>9.297355</td>\n",
       "      <td>7.484645</td>\n",
       "      <td>43.276111</td>\n",
       "      <td>62.545817</td>\n",
       "      <td>7.997429</td>\n",
       "      <td>1.905973</td>\n",
       "      <td>8.811324</td>\n",
       "      <td>2.368607</td>\n",
       "      <td>107.006651</td>\n",
       "      <td>...</td>\n",
       "      <td>14.990775</td>\n",
       "      <td>-500.628656</td>\n",
       "      <td>11.894558</td>\n",
       "      <td>-500.149000</td>\n",
       "      <td>11.083980</td>\n",
       "      <td>-500.363177</td>\n",
       "      <td>8.994405</td>\n",
       "      <td>-500.105994</td>\n",
       "      <td>14.989304</td>\n",
       "      <td>-500.745104</td>\n",
       "    </tr>\n",
       "    <tr>\n",
       "      <th>50%</th>\n",
       "      <td>4.994652</td>\n",
       "      <td>10.297144</td>\n",
       "      <td>8.845462</td>\n",
       "      <td>44.872436</td>\n",
       "      <td>67.432775</td>\n",
       "      <td>9.480270</td>\n",
       "      <td>2.592022</td>\n",
       "      <td>10.514621</td>\n",
       "      <td>2.851025</td>\n",
       "      <td>133.018328</td>\n",
       "      <td>...</td>\n",
       "      <td>20.001789</td>\n",
       "      <td>-499.681450</td>\n",
       "      <td>14.975536</td>\n",
       "      <td>-499.388738</td>\n",
       "      <td>17.932223</td>\n",
       "      <td>-499.702452</td>\n",
       "      <td>11.997547</td>\n",
       "      <td>-499.914556</td>\n",
       "      <td>19.984175</td>\n",
       "      <td>-500.061431</td>\n",
       "    </tr>\n",
       "    <tr>\n",
       "      <th>75%</th>\n",
       "      <td>5.859540</td>\n",
       "      <td>11.170603</td>\n",
       "      <td>10.487508</td>\n",
       "      <td>46.166425</td>\n",
       "      <td>72.346428</td>\n",
       "      <td>11.003707</td>\n",
       "      <td>3.241723</td>\n",
       "      <td>11.933009</td>\n",
       "      <td>3.434764</td>\n",
       "      <td>159.825396</td>\n",
       "      <td>...</td>\n",
       "      <td>24.990826</td>\n",
       "      <td>-477.472413</td>\n",
       "      <td>20.059375</td>\n",
       "      <td>-400.039008</td>\n",
       "      <td>21.346550</td>\n",
       "      <td>-487.712108</td>\n",
       "      <td>17.982903</td>\n",
       "      <td>-453.186936</td>\n",
       "      <td>24.991623</td>\n",
       "      <td>-499.536466</td>\n",
       "    </tr>\n",
       "    <tr>\n",
       "      <th>max</th>\n",
       "      <td>16.001945</td>\n",
       "      <td>17.031899</td>\n",
       "      <td>18.124851</td>\n",
       "      <td>52.756638</td>\n",
       "      <td>100.000000</td>\n",
       "      <td>19.552149</td>\n",
       "      <td>5.639565</td>\n",
       "      <td>22.317730</td>\n",
       "      <td>8.197408</td>\n",
       "      <td>250.127834</td>\n",
       "      <td>...</td>\n",
       "      <td>30.115735</td>\n",
       "      <td>-245.239184</td>\n",
       "      <td>24.007913</td>\n",
       "      <td>-145.071088</td>\n",
       "      <td>43.709931</td>\n",
       "      <td>-275.073125</td>\n",
       "      <td>27.926001</td>\n",
       "      <td>-157.396071</td>\n",
       "      <td>32.188906</td>\n",
       "      <td>-104.427459</td>\n",
       "    </tr>\n",
       "  </tbody>\n",
       "</table>\n",
       "<p>8 rows × 86 columns</p>\n",
       "</div>"
      ],
      "text/plain": [
       "       final.output.concentrate_ag  final.output.concentrate_pb  \\\n",
       "count                 14148.000000                 14148.000000   \n",
       "mean                      5.142034                    10.132960   \n",
       "std                       1.369586                     1.654930   \n",
       "min                       0.000000                     0.000000   \n",
       "25%                       4.211620                     9.297355   \n",
       "50%                       4.994652                    10.297144   \n",
       "75%                       5.859540                    11.170603   \n",
       "max                      16.001945                    17.031899   \n",
       "\n",
       "       final.output.concentrate_sol  final.output.concentrate_au  \\\n",
       "count                  13938.000000                 14149.000000   \n",
       "mean                       9.202849                    44.003792   \n",
       "std                        2.790516                     4.905261   \n",
       "min                        0.000000                     0.000000   \n",
       "25%                        7.484645                    43.276111   \n",
       "50%                        8.845462                    44.872436   \n",
       "75%                       10.487508                    46.166425   \n",
       "max                       18.124851                    52.756638   \n",
       "\n",
       "       final.output.recovery  final.output.tail_ag  final.output.tail_pb  \\\n",
       "count           14149.000000          14149.000000          14049.000000   \n",
       "mean               66.518832              9.607035              2.597298   \n",
       "std                10.295402              2.319069              0.971843   \n",
       "min                 0.000000              0.000000              0.000000   \n",
       "25%                62.545817              7.997429              1.905973   \n",
       "50%                67.432775              9.480270              2.592022   \n",
       "75%                72.346428             11.003707              3.241723   \n",
       "max               100.000000             19.552149              5.639565   \n",
       "\n",
       "       final.output.tail_sol  final.output.tail_au  \\\n",
       "count           14144.000000          14149.000000   \n",
       "mean               10.512122              2.918421   \n",
       "std                 3.003617              0.903712   \n",
       "min                 0.000000              0.000000   \n",
       "25%                 8.811324              2.368607   \n",
       "50%                10.514621              2.851025   \n",
       "75%                11.933009              3.434764   \n",
       "max                22.317730              8.197408   \n",
       "\n",
       "       primary_cleaner.input.sulfate  ...  \\\n",
       "count                   14129.000000  ...   \n",
       "mean                      133.320659  ...   \n",
       "std                        39.431659  ...   \n",
       "min                         0.003112  ...   \n",
       "25%                       107.006651  ...   \n",
       "50%                       133.018328  ...   \n",
       "75%                       159.825396  ...   \n",
       "max                       250.127834  ...   \n",
       "\n",
       "       secondary_cleaner.state.floatbank4_a_air  \\\n",
       "count                              14143.000000   \n",
       "mean                                  19.985454   \n",
       "std                                    5.657723   \n",
       "min                                    0.000000   \n",
       "25%                                   14.990775   \n",
       "50%                                   20.001789   \n",
       "75%                                   24.990826   \n",
       "max                                   30.115735   \n",
       "\n",
       "       secondary_cleaner.state.floatbank4_a_level  \\\n",
       "count                                14148.000000   \n",
       "mean                                  -478.696836   \n",
       "std                                     50.736021   \n",
       "min                                   -799.709069   \n",
       "25%                                   -500.628656   \n",
       "50%                                   -499.681450   \n",
       "75%                                   -477.472413   \n",
       "max                                   -245.239184   \n",
       "\n",
       "       secondary_cleaner.state.floatbank4_b_air  \\\n",
       "count                              14148.000000   \n",
       "mean                                  15.487065   \n",
       "std                                    5.255655   \n",
       "min                                    0.000000   \n",
       "25%                                   11.894558   \n",
       "50%                                   14.975536   \n",
       "75%                                   20.059375   \n",
       "max                                   24.007913   \n",
       "\n",
       "       secondary_cleaner.state.floatbank4_b_level  \\\n",
       "count                                14148.000000   \n",
       "mean                                  -460.229416   \n",
       "std                                     58.843586   \n",
       "min                                   -799.889113   \n",
       "25%                                   -500.149000   \n",
       "50%                                   -499.388738   \n",
       "75%                                   -400.039008   \n",
       "max                                   -145.071088   \n",
       "\n",
       "       secondary_cleaner.state.floatbank5_a_air  \\\n",
       "count                              14148.000000   \n",
       "mean                                  16.775136   \n",
       "std                                    5.831906   \n",
       "min                                   -0.372054   \n",
       "25%                                   11.083980   \n",
       "50%                                   17.932223   \n",
       "75%                                   21.346550   \n",
       "max                                   43.709931   \n",
       "\n",
       "       secondary_cleaner.state.floatbank5_a_level  \\\n",
       "count                                14148.000000   \n",
       "mean                                  -483.956022   \n",
       "std                                     37.892788   \n",
       "min                                   -797.142475   \n",
       "25%                                   -500.363177   \n",
       "50%                                   -499.702452   \n",
       "75%                                   -487.712108   \n",
       "max                                   -275.073125   \n",
       "\n",
       "       secondary_cleaner.state.floatbank5_b_air  \\\n",
       "count                              14148.000000   \n",
       "mean                                  13.064590   \n",
       "std                                    5.765617   \n",
       "min                                    0.646208   \n",
       "25%                                    8.994405   \n",
       "50%                                   11.997547   \n",
       "75%                                   17.982903   \n",
       "max                                   27.926001   \n",
       "\n",
       "       secondary_cleaner.state.floatbank5_b_level  \\\n",
       "count                                14148.000000   \n",
       "mean                                  -483.966564   \n",
       "std                                     39.207913   \n",
       "min                                   -800.006180   \n",
       "25%                                   -500.105994   \n",
       "50%                                   -499.914556   \n",
       "75%                                   -453.186936   \n",
       "max                                   -157.396071   \n",
       "\n",
       "       secondary_cleaner.state.floatbank6_a_air  \\\n",
       "count                              14147.000000   \n",
       "mean                                  19.577539   \n",
       "std                                    5.764417   \n",
       "min                                    0.195324   \n",
       "25%                                   14.989304   \n",
       "50%                                   19.984175   \n",
       "75%                                   24.991623   \n",
       "max                                   32.188906   \n",
       "\n",
       "       secondary_cleaner.state.floatbank6_a_level  \n",
       "count                                14148.000000  \n",
       "mean                                  -506.798480  \n",
       "std                                     37.079249  \n",
       "min                                   -809.398668  \n",
       "25%                                   -500.745104  \n",
       "50%                                   -500.061431  \n",
       "75%                                   -499.536466  \n",
       "max                                   -104.427459  \n",
       "\n",
       "[8 rows x 86 columns]"
      ]
     },
     "metadata": {},
     "output_type": "display_data"
    },
    {
     "data": {
      "text/html": [
       "<div>\n",
       "<style scoped>\n",
       "    .dataframe tbody tr th:only-of-type {\n",
       "        vertical-align: middle;\n",
       "    }\n",
       "\n",
       "    .dataframe tbody tr th {\n",
       "        vertical-align: top;\n",
       "    }\n",
       "\n",
       "    .dataframe thead th {\n",
       "        text-align: right;\n",
       "    }\n",
       "</style>\n",
       "<table border=\"1\" class=\"dataframe\">\n",
       "  <thead>\n",
       "    <tr style=\"text-align: right;\">\n",
       "      <th></th>\n",
       "      <th>final.output.concentrate_ag</th>\n",
       "      <th>final.output.concentrate_pb</th>\n",
       "      <th>final.output.concentrate_sol</th>\n",
       "      <th>final.output.concentrate_au</th>\n",
       "      <th>final.output.recovery</th>\n",
       "      <th>final.output.tail_ag</th>\n",
       "      <th>final.output.tail_pb</th>\n",
       "      <th>final.output.tail_sol</th>\n",
       "      <th>final.output.tail_au</th>\n",
       "      <th>primary_cleaner.input.sulfate</th>\n",
       "      <th>...</th>\n",
       "      <th>secondary_cleaner.state.floatbank4_a_air</th>\n",
       "      <th>secondary_cleaner.state.floatbank4_a_level</th>\n",
       "      <th>secondary_cleaner.state.floatbank4_b_air</th>\n",
       "      <th>secondary_cleaner.state.floatbank4_b_level</th>\n",
       "      <th>secondary_cleaner.state.floatbank5_a_air</th>\n",
       "      <th>secondary_cleaner.state.floatbank5_a_level</th>\n",
       "      <th>secondary_cleaner.state.floatbank5_b_air</th>\n",
       "      <th>secondary_cleaner.state.floatbank5_b_level</th>\n",
       "      <th>secondary_cleaner.state.floatbank6_a_air</th>\n",
       "      <th>secondary_cleaner.state.floatbank6_a_level</th>\n",
       "    </tr>\n",
       "    <tr>\n",
       "      <th>date</th>\n",
       "      <th></th>\n",
       "      <th></th>\n",
       "      <th></th>\n",
       "      <th></th>\n",
       "      <th></th>\n",
       "      <th></th>\n",
       "      <th></th>\n",
       "      <th></th>\n",
       "      <th></th>\n",
       "      <th></th>\n",
       "      <th></th>\n",
       "      <th></th>\n",
       "      <th></th>\n",
       "      <th></th>\n",
       "      <th></th>\n",
       "      <th></th>\n",
       "      <th></th>\n",
       "      <th></th>\n",
       "      <th></th>\n",
       "      <th></th>\n",
       "      <th></th>\n",
       "    </tr>\n",
       "  </thead>\n",
       "  <tbody>\n",
       "    <tr>\n",
       "      <th>2016-01-15 00:00:00</th>\n",
       "      <td>6.055403</td>\n",
       "      <td>9.889648</td>\n",
       "      <td>5.507324</td>\n",
       "      <td>42.192020</td>\n",
       "      <td>70.541216</td>\n",
       "      <td>10.411962</td>\n",
       "      <td>0.895447</td>\n",
       "      <td>16.904297</td>\n",
       "      <td>2.143149</td>\n",
       "      <td>127.092003</td>\n",
       "      <td>...</td>\n",
       "      <td>14.016835</td>\n",
       "      <td>-502.488007</td>\n",
       "      <td>12.099931</td>\n",
       "      <td>-504.715942</td>\n",
       "      <td>9.925633</td>\n",
       "      <td>-498.310211</td>\n",
       "      <td>8.079666</td>\n",
       "      <td>-500.470978</td>\n",
       "      <td>14.151341</td>\n",
       "      <td>-605.841980</td>\n",
       "    </tr>\n",
       "    <tr>\n",
       "      <th>2016-01-15 01:00:00</th>\n",
       "      <td>6.029369</td>\n",
       "      <td>9.968944</td>\n",
       "      <td>5.257781</td>\n",
       "      <td>42.701629</td>\n",
       "      <td>69.266198</td>\n",
       "      <td>10.462676</td>\n",
       "      <td>0.927452</td>\n",
       "      <td>16.634514</td>\n",
       "      <td>2.224930</td>\n",
       "      <td>125.629232</td>\n",
       "      <td>...</td>\n",
       "      <td>13.992281</td>\n",
       "      <td>-505.503262</td>\n",
       "      <td>11.950531</td>\n",
       "      <td>-501.331529</td>\n",
       "      <td>10.039245</td>\n",
       "      <td>-500.169983</td>\n",
       "      <td>7.984757</td>\n",
       "      <td>-500.582168</td>\n",
       "      <td>13.998353</td>\n",
       "      <td>-599.787184</td>\n",
       "    </tr>\n",
       "    <tr>\n",
       "      <th>2016-01-15 02:00:00</th>\n",
       "      <td>6.055926</td>\n",
       "      <td>10.213995</td>\n",
       "      <td>5.383759</td>\n",
       "      <td>42.657501</td>\n",
       "      <td>68.116445</td>\n",
       "      <td>10.507046</td>\n",
       "      <td>0.953716</td>\n",
       "      <td>16.208849</td>\n",
       "      <td>2.257889</td>\n",
       "      <td>123.819808</td>\n",
       "      <td>...</td>\n",
       "      <td>14.015015</td>\n",
       "      <td>-502.520901</td>\n",
       "      <td>11.912783</td>\n",
       "      <td>-501.133383</td>\n",
       "      <td>10.070913</td>\n",
       "      <td>-500.129135</td>\n",
       "      <td>8.013877</td>\n",
       "      <td>-500.517572</td>\n",
       "      <td>14.028663</td>\n",
       "      <td>-601.427363</td>\n",
       "    </tr>\n",
       "    <tr>\n",
       "      <th>2016-01-15 03:00:00</th>\n",
       "      <td>6.047977</td>\n",
       "      <td>9.977019</td>\n",
       "      <td>4.858634</td>\n",
       "      <td>42.689819</td>\n",
       "      <td>68.347543</td>\n",
       "      <td>10.422762</td>\n",
       "      <td>0.883763</td>\n",
       "      <td>16.532835</td>\n",
       "      <td>2.146849</td>\n",
       "      <td>122.270188</td>\n",
       "      <td>...</td>\n",
       "      <td>14.036510</td>\n",
       "      <td>-500.857308</td>\n",
       "      <td>11.999550</td>\n",
       "      <td>-501.193686</td>\n",
       "      <td>9.970366</td>\n",
       "      <td>-499.201640</td>\n",
       "      <td>7.977324</td>\n",
       "      <td>-500.255908</td>\n",
       "      <td>14.005551</td>\n",
       "      <td>-599.996129</td>\n",
       "    </tr>\n",
       "    <tr>\n",
       "      <th>2016-01-15 04:00:00</th>\n",
       "      <td>6.148599</td>\n",
       "      <td>10.142511</td>\n",
       "      <td>4.939416</td>\n",
       "      <td>42.774141</td>\n",
       "      <td>66.927016</td>\n",
       "      <td>10.360302</td>\n",
       "      <td>0.792826</td>\n",
       "      <td>16.525686</td>\n",
       "      <td>2.055292</td>\n",
       "      <td>117.988169</td>\n",
       "      <td>...</td>\n",
       "      <td>14.027298</td>\n",
       "      <td>-499.838632</td>\n",
       "      <td>11.953070</td>\n",
       "      <td>-501.053894</td>\n",
       "      <td>9.925709</td>\n",
       "      <td>-501.686727</td>\n",
       "      <td>7.894242</td>\n",
       "      <td>-500.356035</td>\n",
       "      <td>13.996647</td>\n",
       "      <td>-601.496691</td>\n",
       "    </tr>\n",
       "  </tbody>\n",
       "</table>\n",
       "<p>5 rows × 86 columns</p>\n",
       "</div>"
      ],
      "text/plain": [
       "                     final.output.concentrate_ag  final.output.concentrate_pb  \\\n",
       "date                                                                            \n",
       "2016-01-15 00:00:00                     6.055403                     9.889648   \n",
       "2016-01-15 01:00:00                     6.029369                     9.968944   \n",
       "2016-01-15 02:00:00                     6.055926                    10.213995   \n",
       "2016-01-15 03:00:00                     6.047977                     9.977019   \n",
       "2016-01-15 04:00:00                     6.148599                    10.142511   \n",
       "\n",
       "                     final.output.concentrate_sol  \\\n",
       "date                                                \n",
       "2016-01-15 00:00:00                      5.507324   \n",
       "2016-01-15 01:00:00                      5.257781   \n",
       "2016-01-15 02:00:00                      5.383759   \n",
       "2016-01-15 03:00:00                      4.858634   \n",
       "2016-01-15 04:00:00                      4.939416   \n",
       "\n",
       "                     final.output.concentrate_au  final.output.recovery  \\\n",
       "date                                                                      \n",
       "2016-01-15 00:00:00                    42.192020              70.541216   \n",
       "2016-01-15 01:00:00                    42.701629              69.266198   \n",
       "2016-01-15 02:00:00                    42.657501              68.116445   \n",
       "2016-01-15 03:00:00                    42.689819              68.347543   \n",
       "2016-01-15 04:00:00                    42.774141              66.927016   \n",
       "\n",
       "                     final.output.tail_ag  final.output.tail_pb  \\\n",
       "date                                                              \n",
       "2016-01-15 00:00:00             10.411962              0.895447   \n",
       "2016-01-15 01:00:00             10.462676              0.927452   \n",
       "2016-01-15 02:00:00             10.507046              0.953716   \n",
       "2016-01-15 03:00:00             10.422762              0.883763   \n",
       "2016-01-15 04:00:00             10.360302              0.792826   \n",
       "\n",
       "                     final.output.tail_sol  final.output.tail_au  \\\n",
       "date                                                               \n",
       "2016-01-15 00:00:00              16.904297              2.143149   \n",
       "2016-01-15 01:00:00              16.634514              2.224930   \n",
       "2016-01-15 02:00:00              16.208849              2.257889   \n",
       "2016-01-15 03:00:00              16.532835              2.146849   \n",
       "2016-01-15 04:00:00              16.525686              2.055292   \n",
       "\n",
       "                     primary_cleaner.input.sulfate  ...  \\\n",
       "date                                                ...   \n",
       "2016-01-15 00:00:00                     127.092003  ...   \n",
       "2016-01-15 01:00:00                     125.629232  ...   \n",
       "2016-01-15 02:00:00                     123.819808  ...   \n",
       "2016-01-15 03:00:00                     122.270188  ...   \n",
       "2016-01-15 04:00:00                     117.988169  ...   \n",
       "\n",
       "                     secondary_cleaner.state.floatbank4_a_air  \\\n",
       "date                                                            \n",
       "2016-01-15 00:00:00                                 14.016835   \n",
       "2016-01-15 01:00:00                                 13.992281   \n",
       "2016-01-15 02:00:00                                 14.015015   \n",
       "2016-01-15 03:00:00                                 14.036510   \n",
       "2016-01-15 04:00:00                                 14.027298   \n",
       "\n",
       "                     secondary_cleaner.state.floatbank4_a_level  \\\n",
       "date                                                              \n",
       "2016-01-15 00:00:00                                 -502.488007   \n",
       "2016-01-15 01:00:00                                 -505.503262   \n",
       "2016-01-15 02:00:00                                 -502.520901   \n",
       "2016-01-15 03:00:00                                 -500.857308   \n",
       "2016-01-15 04:00:00                                 -499.838632   \n",
       "\n",
       "                     secondary_cleaner.state.floatbank4_b_air  \\\n",
       "date                                                            \n",
       "2016-01-15 00:00:00                                 12.099931   \n",
       "2016-01-15 01:00:00                                 11.950531   \n",
       "2016-01-15 02:00:00                                 11.912783   \n",
       "2016-01-15 03:00:00                                 11.999550   \n",
       "2016-01-15 04:00:00                                 11.953070   \n",
       "\n",
       "                     secondary_cleaner.state.floatbank4_b_level  \\\n",
       "date                                                              \n",
       "2016-01-15 00:00:00                                 -504.715942   \n",
       "2016-01-15 01:00:00                                 -501.331529   \n",
       "2016-01-15 02:00:00                                 -501.133383   \n",
       "2016-01-15 03:00:00                                 -501.193686   \n",
       "2016-01-15 04:00:00                                 -501.053894   \n",
       "\n",
       "                     secondary_cleaner.state.floatbank5_a_air  \\\n",
       "date                                                            \n",
       "2016-01-15 00:00:00                                  9.925633   \n",
       "2016-01-15 01:00:00                                 10.039245   \n",
       "2016-01-15 02:00:00                                 10.070913   \n",
       "2016-01-15 03:00:00                                  9.970366   \n",
       "2016-01-15 04:00:00                                  9.925709   \n",
       "\n",
       "                     secondary_cleaner.state.floatbank5_a_level  \\\n",
       "date                                                              \n",
       "2016-01-15 00:00:00                                 -498.310211   \n",
       "2016-01-15 01:00:00                                 -500.169983   \n",
       "2016-01-15 02:00:00                                 -500.129135   \n",
       "2016-01-15 03:00:00                                 -499.201640   \n",
       "2016-01-15 04:00:00                                 -501.686727   \n",
       "\n",
       "                     secondary_cleaner.state.floatbank5_b_air  \\\n",
       "date                                                            \n",
       "2016-01-15 00:00:00                                  8.079666   \n",
       "2016-01-15 01:00:00                                  7.984757   \n",
       "2016-01-15 02:00:00                                  8.013877   \n",
       "2016-01-15 03:00:00                                  7.977324   \n",
       "2016-01-15 04:00:00                                  7.894242   \n",
       "\n",
       "                     secondary_cleaner.state.floatbank5_b_level  \\\n",
       "date                                                              \n",
       "2016-01-15 00:00:00                                 -500.470978   \n",
       "2016-01-15 01:00:00                                 -500.582168   \n",
       "2016-01-15 02:00:00                                 -500.517572   \n",
       "2016-01-15 03:00:00                                 -500.255908   \n",
       "2016-01-15 04:00:00                                 -500.356035   \n",
       "\n",
       "                     secondary_cleaner.state.floatbank6_a_air  \\\n",
       "date                                                            \n",
       "2016-01-15 00:00:00                                 14.151341   \n",
       "2016-01-15 01:00:00                                 13.998353   \n",
       "2016-01-15 02:00:00                                 14.028663   \n",
       "2016-01-15 03:00:00                                 14.005551   \n",
       "2016-01-15 04:00:00                                 13.996647   \n",
       "\n",
       "                     secondary_cleaner.state.floatbank6_a_level  \n",
       "date                                                             \n",
       "2016-01-15 00:00:00                                 -605.841980  \n",
       "2016-01-15 01:00:00                                 -599.787184  \n",
       "2016-01-15 02:00:00                                 -601.427363  \n",
       "2016-01-15 03:00:00                                 -599.996129  \n",
       "2016-01-15 04:00:00                                 -601.496691  \n",
       "\n",
       "[5 rows x 86 columns]"
      ]
     },
     "metadata": {},
     "output_type": "display_data"
    }
   ],
   "source": [
    "check_df(df_train)"
   ]
  },
  {
   "cell_type": "code",
   "execution_count": 5,
   "metadata": {},
   "outputs": [
    {
     "name": "stdout",
     "output_type": "stream",
     "text": [
      "Количество строк: 5290\n",
      "Количество столбцов: 52\n",
      "<class 'pandas.core.frame.DataFrame'>\n",
      "DatetimeIndex: 5290 entries, 2016-09-01 00:59:59 to 2017-12-31 23:59:59\n",
      "Data columns (total 52 columns):\n",
      " #   Column                                      Non-Null Count  Dtype  \n",
      "---  ------                                      --------------  -----  \n",
      " 0   primary_cleaner.input.sulfate               5286 non-null   float64\n",
      " 1   primary_cleaner.input.depressant            5285 non-null   float64\n",
      " 2   primary_cleaner.input.feed_size             5290 non-null   float64\n",
      " 3   primary_cleaner.input.xanthate              5286 non-null   float64\n",
      " 4   primary_cleaner.state.floatbank8_a_air      5290 non-null   float64\n",
      " 5   primary_cleaner.state.floatbank8_a_level    5290 non-null   float64\n",
      " 6   primary_cleaner.state.floatbank8_b_air      5290 non-null   float64\n",
      " 7   primary_cleaner.state.floatbank8_b_level    5290 non-null   float64\n",
      " 8   primary_cleaner.state.floatbank8_c_air      5290 non-null   float64\n",
      " 9   primary_cleaner.state.floatbank8_c_level    5290 non-null   float64\n",
      " 10  primary_cleaner.state.floatbank8_d_air      5290 non-null   float64\n",
      " 11  primary_cleaner.state.floatbank8_d_level    5290 non-null   float64\n",
      " 12  rougher.input.feed_ag                       5290 non-null   float64\n",
      " 13  rougher.input.feed_pb                       5290 non-null   float64\n",
      " 14  rougher.input.feed_rate                     5287 non-null   float64\n",
      " 15  rougher.input.feed_size                     5289 non-null   float64\n",
      " 16  rougher.input.feed_sol                      5269 non-null   float64\n",
      " 17  rougher.input.feed_au                       5290 non-null   float64\n",
      " 18  rougher.input.floatbank10_sulfate           5285 non-null   float64\n",
      " 19  rougher.input.floatbank10_xanthate          5290 non-null   float64\n",
      " 20  rougher.input.floatbank11_sulfate           5282 non-null   float64\n",
      " 21  rougher.input.floatbank11_xanthate          5265 non-null   float64\n",
      " 22  rougher.state.floatbank10_a_air             5290 non-null   float64\n",
      " 23  rougher.state.floatbank10_a_level           5290 non-null   float64\n",
      " 24  rougher.state.floatbank10_b_air             5290 non-null   float64\n",
      " 25  rougher.state.floatbank10_b_level           5290 non-null   float64\n",
      " 26  rougher.state.floatbank10_c_air             5290 non-null   float64\n",
      " 27  rougher.state.floatbank10_c_level           5290 non-null   float64\n",
      " 28  rougher.state.floatbank10_d_air             5290 non-null   float64\n",
      " 29  rougher.state.floatbank10_d_level           5290 non-null   float64\n",
      " 30  rougher.state.floatbank10_e_air             5290 non-null   float64\n",
      " 31  rougher.state.floatbank10_e_level           5290 non-null   float64\n",
      " 32  rougher.state.floatbank10_f_air             5290 non-null   float64\n",
      " 33  rougher.state.floatbank10_f_level           5290 non-null   float64\n",
      " 34  secondary_cleaner.state.floatbank2_a_air    5287 non-null   float64\n",
      " 35  secondary_cleaner.state.floatbank2_a_level  5290 non-null   float64\n",
      " 36  secondary_cleaner.state.floatbank2_b_air    5288 non-null   float64\n",
      " 37  secondary_cleaner.state.floatbank2_b_level  5290 non-null   float64\n",
      " 38  secondary_cleaner.state.floatbank3_a_air    5281 non-null   float64\n",
      " 39  secondary_cleaner.state.floatbank3_a_level  5290 non-null   float64\n",
      " 40  secondary_cleaner.state.floatbank3_b_air    5290 non-null   float64\n",
      " 41  secondary_cleaner.state.floatbank3_b_level  5290 non-null   float64\n",
      " 42  secondary_cleaner.state.floatbank4_a_air    5290 non-null   float64\n",
      " 43  secondary_cleaner.state.floatbank4_a_level  5290 non-null   float64\n",
      " 44  secondary_cleaner.state.floatbank4_b_air    5290 non-null   float64\n",
      " 45  secondary_cleaner.state.floatbank4_b_level  5290 non-null   float64\n",
      " 46  secondary_cleaner.state.floatbank5_a_air    5290 non-null   float64\n",
      " 47  secondary_cleaner.state.floatbank5_a_level  5290 non-null   float64\n",
      " 48  secondary_cleaner.state.floatbank5_b_air    5290 non-null   float64\n",
      " 49  secondary_cleaner.state.floatbank5_b_level  5290 non-null   float64\n",
      " 50  secondary_cleaner.state.floatbank6_a_air    5290 non-null   float64\n",
      " 51  secondary_cleaner.state.floatbank6_a_level  5290 non-null   float64\n",
      "dtypes: float64(52)\n",
      "memory usage: 2.1 MB\n"
     ]
    },
    {
     "data": {
      "text/html": [
       "<div>\n",
       "<style scoped>\n",
       "    .dataframe tbody tr th:only-of-type {\n",
       "        vertical-align: middle;\n",
       "    }\n",
       "\n",
       "    .dataframe tbody tr th {\n",
       "        vertical-align: top;\n",
       "    }\n",
       "\n",
       "    .dataframe thead th {\n",
       "        text-align: right;\n",
       "    }\n",
       "</style>\n",
       "<table border=\"1\" class=\"dataframe\">\n",
       "  <thead>\n",
       "    <tr style=\"text-align: right;\">\n",
       "      <th></th>\n",
       "      <th>primary_cleaner.input.sulfate</th>\n",
       "      <th>primary_cleaner.input.depressant</th>\n",
       "      <th>primary_cleaner.input.feed_size</th>\n",
       "      <th>primary_cleaner.input.xanthate</th>\n",
       "      <th>primary_cleaner.state.floatbank8_a_air</th>\n",
       "      <th>primary_cleaner.state.floatbank8_a_level</th>\n",
       "      <th>primary_cleaner.state.floatbank8_b_air</th>\n",
       "      <th>primary_cleaner.state.floatbank8_b_level</th>\n",
       "      <th>primary_cleaner.state.floatbank8_c_air</th>\n",
       "      <th>primary_cleaner.state.floatbank8_c_level</th>\n",
       "      <th>...</th>\n",
       "      <th>secondary_cleaner.state.floatbank4_a_air</th>\n",
       "      <th>secondary_cleaner.state.floatbank4_a_level</th>\n",
       "      <th>secondary_cleaner.state.floatbank4_b_air</th>\n",
       "      <th>secondary_cleaner.state.floatbank4_b_level</th>\n",
       "      <th>secondary_cleaner.state.floatbank5_a_air</th>\n",
       "      <th>secondary_cleaner.state.floatbank5_a_level</th>\n",
       "      <th>secondary_cleaner.state.floatbank5_b_air</th>\n",
       "      <th>secondary_cleaner.state.floatbank5_b_level</th>\n",
       "      <th>secondary_cleaner.state.floatbank6_a_air</th>\n",
       "      <th>secondary_cleaner.state.floatbank6_a_level</th>\n",
       "    </tr>\n",
       "  </thead>\n",
       "  <tbody>\n",
       "    <tr>\n",
       "      <th>count</th>\n",
       "      <td>5286.000000</td>\n",
       "      <td>5285.000000</td>\n",
       "      <td>5290.000000</td>\n",
       "      <td>5286.000000</td>\n",
       "      <td>5.290000e+03</td>\n",
       "      <td>5290.000000</td>\n",
       "      <td>5.290000e+03</td>\n",
       "      <td>5290.000000</td>\n",
       "      <td>5.290000e+03</td>\n",
       "      <td>5290.000000</td>\n",
       "      <td>...</td>\n",
       "      <td>5.290000e+03</td>\n",
       "      <td>5290.000000</td>\n",
       "      <td>5.290000e+03</td>\n",
       "      <td>5290.000000</td>\n",
       "      <td>5290.000000</td>\n",
       "      <td>5290.000000</td>\n",
       "      <td>5290.000000</td>\n",
       "      <td>5290.000000</td>\n",
       "      <td>5290.000000</td>\n",
       "      <td>5290.000000</td>\n",
       "    </tr>\n",
       "    <tr>\n",
       "      <th>mean</th>\n",
       "      <td>174.839652</td>\n",
       "      <td>8.683596</td>\n",
       "      <td>7.266339</td>\n",
       "      <td>1.383803</td>\n",
       "      <td>1.539494e+03</td>\n",
       "      <td>-497.665883</td>\n",
       "      <td>1.545174e+03</td>\n",
       "      <td>-500.273098</td>\n",
       "      <td>1.527272e+03</td>\n",
       "      <td>-498.330680</td>\n",
       "      <td>...</td>\n",
       "      <td>1.632007e+01</td>\n",
       "      <td>-505.144570</td>\n",
       "      <td>1.373544e+01</td>\n",
       "      <td>-463.349858</td>\n",
       "      <td>12.804186</td>\n",
       "      <td>-501.329122</td>\n",
       "      <td>9.881145</td>\n",
       "      <td>-495.663398</td>\n",
       "      <td>17.304935</td>\n",
       "      <td>-501.793193</td>\n",
       "    </tr>\n",
       "    <tr>\n",
       "      <th>std</th>\n",
       "      <td>43.027080</td>\n",
       "      <td>3.072050</td>\n",
       "      <td>0.610219</td>\n",
       "      <td>0.643474</td>\n",
       "      <td>1.167979e+02</td>\n",
       "      <td>19.952431</td>\n",
       "      <td>1.222246e+02</td>\n",
       "      <td>32.968307</td>\n",
       "      <td>1.225380e+02</td>\n",
       "      <td>21.964876</td>\n",
       "      <td>...</td>\n",
       "      <td>3.493583e+00</td>\n",
       "      <td>31.427337</td>\n",
       "      <td>3.430484e+00</td>\n",
       "      <td>86.189107</td>\n",
       "      <td>3.026591</td>\n",
       "      <td>17.951495</td>\n",
       "      <td>2.868205</td>\n",
       "      <td>34.535007</td>\n",
       "      <td>4.536544</td>\n",
       "      <td>39.044215</td>\n",
       "    </tr>\n",
       "    <tr>\n",
       "      <th>min</th>\n",
       "      <td>2.566156</td>\n",
       "      <td>0.003839</td>\n",
       "      <td>5.650000</td>\n",
       "      <td>0.004984</td>\n",
       "      <td>5.445860e-32</td>\n",
       "      <td>-795.316337</td>\n",
       "      <td>6.647490e-32</td>\n",
       "      <td>-799.997015</td>\n",
       "      <td>4.033736e-32</td>\n",
       "      <td>-799.960571</td>\n",
       "      <td>...</td>\n",
       "      <td>1.079872e-16</td>\n",
       "      <td>-799.798523</td>\n",
       "      <td>2.489718e-17</td>\n",
       "      <td>-800.836914</td>\n",
       "      <td>0.069227</td>\n",
       "      <td>-797.323986</td>\n",
       "      <td>0.528083</td>\n",
       "      <td>-800.220337</td>\n",
       "      <td>-0.079426</td>\n",
       "      <td>-809.741464</td>\n",
       "    </tr>\n",
       "    <tr>\n",
       "      <th>25%</th>\n",
       "      <td>147.121401</td>\n",
       "      <td>6.489555</td>\n",
       "      <td>6.890000</td>\n",
       "      <td>0.907623</td>\n",
       "      <td>1.498936e+03</td>\n",
       "      <td>-500.357298</td>\n",
       "      <td>1.498971e+03</td>\n",
       "      <td>-500.703002</td>\n",
       "      <td>1.473230e+03</td>\n",
       "      <td>-501.018117</td>\n",
       "      <td>...</td>\n",
       "      <td>1.403618e+01</td>\n",
       "      <td>-500.868258</td>\n",
       "      <td>1.202862e+01</td>\n",
       "      <td>-500.323028</td>\n",
       "      <td>10.914838</td>\n",
       "      <td>-500.726841</td>\n",
       "      <td>8.036719</td>\n",
       "      <td>-500.194668</td>\n",
       "      <td>13.997317</td>\n",
       "      <td>-500.690984</td>\n",
       "    </tr>\n",
       "    <tr>\n",
       "      <th>50%</th>\n",
       "      <td>177.828489</td>\n",
       "      <td>8.052207</td>\n",
       "      <td>7.250000</td>\n",
       "      <td>1.197610</td>\n",
       "      <td>1.585129e+03</td>\n",
       "      <td>-499.969164</td>\n",
       "      <td>1.595622e+03</td>\n",
       "      <td>-500.028514</td>\n",
       "      <td>1.549595e+03</td>\n",
       "      <td>-500.017711</td>\n",
       "      <td>...</td>\n",
       "      <td>1.700847e+01</td>\n",
       "      <td>-500.115727</td>\n",
       "      <td>1.496486e+01</td>\n",
       "      <td>-499.576513</td>\n",
       "      <td>12.954182</td>\n",
       "      <td>-499.990332</td>\n",
       "      <td>10.004301</td>\n",
       "      <td>-499.990535</td>\n",
       "      <td>16.014935</td>\n",
       "      <td>-500.007126</td>\n",
       "    </tr>\n",
       "    <tr>\n",
       "      <th>75%</th>\n",
       "      <td>208.125438</td>\n",
       "      <td>10.027764</td>\n",
       "      <td>7.600000</td>\n",
       "      <td>1.797819</td>\n",
       "      <td>1.602077e+03</td>\n",
       "      <td>-499.568951</td>\n",
       "      <td>1.602324e+03</td>\n",
       "      <td>-499.293257</td>\n",
       "      <td>1.601144e+03</td>\n",
       "      <td>-498.994130</td>\n",
       "      <td>...</td>\n",
       "      <td>1.803862e+01</td>\n",
       "      <td>-499.404224</td>\n",
       "      <td>1.596213e+01</td>\n",
       "      <td>-400.933805</td>\n",
       "      <td>15.097528</td>\n",
       "      <td>-499.283191</td>\n",
       "      <td>11.997467</td>\n",
       "      <td>-499.719913</td>\n",
       "      <td>21.020013</td>\n",
       "      <td>-499.373018</td>\n",
       "    </tr>\n",
       "    <tr>\n",
       "      <th>max</th>\n",
       "      <td>265.983123</td>\n",
       "      <td>40.000000</td>\n",
       "      <td>15.500000</td>\n",
       "      <td>4.102454</td>\n",
       "      <td>2.103104e+03</td>\n",
       "      <td>-57.195404</td>\n",
       "      <td>1.813084e+03</td>\n",
       "      <td>-142.527229</td>\n",
       "      <td>1.715054e+03</td>\n",
       "      <td>-150.937035</td>\n",
       "      <td>...</td>\n",
       "      <td>3.005180e+01</td>\n",
       "      <td>-401.565212</td>\n",
       "      <td>3.126971e+01</td>\n",
       "      <td>-6.506986</td>\n",
       "      <td>25.258848</td>\n",
       "      <td>-244.483566</td>\n",
       "      <td>14.086866</td>\n",
       "      <td>-137.740004</td>\n",
       "      <td>26.705889</td>\n",
       "      <td>-123.307487</td>\n",
       "    </tr>\n",
       "  </tbody>\n",
       "</table>\n",
       "<p>8 rows × 52 columns</p>\n",
       "</div>"
      ],
      "text/plain": [
       "       primary_cleaner.input.sulfate  primary_cleaner.input.depressant  \\\n",
       "count                    5286.000000                       5285.000000   \n",
       "mean                      174.839652                          8.683596   \n",
       "std                        43.027080                          3.072050   \n",
       "min                         2.566156                          0.003839   \n",
       "25%                       147.121401                          6.489555   \n",
       "50%                       177.828489                          8.052207   \n",
       "75%                       208.125438                         10.027764   \n",
       "max                       265.983123                         40.000000   \n",
       "\n",
       "       primary_cleaner.input.feed_size  primary_cleaner.input.xanthate  \\\n",
       "count                      5290.000000                     5286.000000   \n",
       "mean                          7.266339                        1.383803   \n",
       "std                           0.610219                        0.643474   \n",
       "min                           5.650000                        0.004984   \n",
       "25%                           6.890000                        0.907623   \n",
       "50%                           7.250000                        1.197610   \n",
       "75%                           7.600000                        1.797819   \n",
       "max                          15.500000                        4.102454   \n",
       "\n",
       "       primary_cleaner.state.floatbank8_a_air  \\\n",
       "count                            5.290000e+03   \n",
       "mean                             1.539494e+03   \n",
       "std                              1.167979e+02   \n",
       "min                              5.445860e-32   \n",
       "25%                              1.498936e+03   \n",
       "50%                              1.585129e+03   \n",
       "75%                              1.602077e+03   \n",
       "max                              2.103104e+03   \n",
       "\n",
       "       primary_cleaner.state.floatbank8_a_level  \\\n",
       "count                               5290.000000   \n",
       "mean                                -497.665883   \n",
       "std                                   19.952431   \n",
       "min                                 -795.316337   \n",
       "25%                                 -500.357298   \n",
       "50%                                 -499.969164   \n",
       "75%                                 -499.568951   \n",
       "max                                  -57.195404   \n",
       "\n",
       "       primary_cleaner.state.floatbank8_b_air  \\\n",
       "count                            5.290000e+03   \n",
       "mean                             1.545174e+03   \n",
       "std                              1.222246e+02   \n",
       "min                              6.647490e-32   \n",
       "25%                              1.498971e+03   \n",
       "50%                              1.595622e+03   \n",
       "75%                              1.602324e+03   \n",
       "max                              1.813084e+03   \n",
       "\n",
       "       primary_cleaner.state.floatbank8_b_level  \\\n",
       "count                               5290.000000   \n",
       "mean                                -500.273098   \n",
       "std                                   32.968307   \n",
       "min                                 -799.997015   \n",
       "25%                                 -500.703002   \n",
       "50%                                 -500.028514   \n",
       "75%                                 -499.293257   \n",
       "max                                 -142.527229   \n",
       "\n",
       "       primary_cleaner.state.floatbank8_c_air  \\\n",
       "count                            5.290000e+03   \n",
       "mean                             1.527272e+03   \n",
       "std                              1.225380e+02   \n",
       "min                              4.033736e-32   \n",
       "25%                              1.473230e+03   \n",
       "50%                              1.549595e+03   \n",
       "75%                              1.601144e+03   \n",
       "max                              1.715054e+03   \n",
       "\n",
       "       primary_cleaner.state.floatbank8_c_level  ...  \\\n",
       "count                               5290.000000  ...   \n",
       "mean                                -498.330680  ...   \n",
       "std                                   21.964876  ...   \n",
       "min                                 -799.960571  ...   \n",
       "25%                                 -501.018117  ...   \n",
       "50%                                 -500.017711  ...   \n",
       "75%                                 -498.994130  ...   \n",
       "max                                 -150.937035  ...   \n",
       "\n",
       "       secondary_cleaner.state.floatbank4_a_air  \\\n",
       "count                              5.290000e+03   \n",
       "mean                               1.632007e+01   \n",
       "std                                3.493583e+00   \n",
       "min                                1.079872e-16   \n",
       "25%                                1.403618e+01   \n",
       "50%                                1.700847e+01   \n",
       "75%                                1.803862e+01   \n",
       "max                                3.005180e+01   \n",
       "\n",
       "       secondary_cleaner.state.floatbank4_a_level  \\\n",
       "count                                 5290.000000   \n",
       "mean                                  -505.144570   \n",
       "std                                     31.427337   \n",
       "min                                   -799.798523   \n",
       "25%                                   -500.868258   \n",
       "50%                                   -500.115727   \n",
       "75%                                   -499.404224   \n",
       "max                                   -401.565212   \n",
       "\n",
       "       secondary_cleaner.state.floatbank4_b_air  \\\n",
       "count                              5.290000e+03   \n",
       "mean                               1.373544e+01   \n",
       "std                                3.430484e+00   \n",
       "min                                2.489718e-17   \n",
       "25%                                1.202862e+01   \n",
       "50%                                1.496486e+01   \n",
       "75%                                1.596213e+01   \n",
       "max                                3.126971e+01   \n",
       "\n",
       "       secondary_cleaner.state.floatbank4_b_level  \\\n",
       "count                                 5290.000000   \n",
       "mean                                  -463.349858   \n",
       "std                                     86.189107   \n",
       "min                                   -800.836914   \n",
       "25%                                   -500.323028   \n",
       "50%                                   -499.576513   \n",
       "75%                                   -400.933805   \n",
       "max                                     -6.506986   \n",
       "\n",
       "       secondary_cleaner.state.floatbank5_a_air  \\\n",
       "count                               5290.000000   \n",
       "mean                                  12.804186   \n",
       "std                                    3.026591   \n",
       "min                                    0.069227   \n",
       "25%                                   10.914838   \n",
       "50%                                   12.954182   \n",
       "75%                                   15.097528   \n",
       "max                                   25.258848   \n",
       "\n",
       "       secondary_cleaner.state.floatbank5_a_level  \\\n",
       "count                                 5290.000000   \n",
       "mean                                  -501.329122   \n",
       "std                                     17.951495   \n",
       "min                                   -797.323986   \n",
       "25%                                   -500.726841   \n",
       "50%                                   -499.990332   \n",
       "75%                                   -499.283191   \n",
       "max                                   -244.483566   \n",
       "\n",
       "       secondary_cleaner.state.floatbank5_b_air  \\\n",
       "count                               5290.000000   \n",
       "mean                                   9.881145   \n",
       "std                                    2.868205   \n",
       "min                                    0.528083   \n",
       "25%                                    8.036719   \n",
       "50%                                   10.004301   \n",
       "75%                                   11.997467   \n",
       "max                                   14.086866   \n",
       "\n",
       "       secondary_cleaner.state.floatbank5_b_level  \\\n",
       "count                                 5290.000000   \n",
       "mean                                  -495.663398   \n",
       "std                                     34.535007   \n",
       "min                                   -800.220337   \n",
       "25%                                   -500.194668   \n",
       "50%                                   -499.990535   \n",
       "75%                                   -499.719913   \n",
       "max                                   -137.740004   \n",
       "\n",
       "       secondary_cleaner.state.floatbank6_a_air  \\\n",
       "count                               5290.000000   \n",
       "mean                                  17.304935   \n",
       "std                                    4.536544   \n",
       "min                                   -0.079426   \n",
       "25%                                   13.997317   \n",
       "50%                                   16.014935   \n",
       "75%                                   21.020013   \n",
       "max                                   26.705889   \n",
       "\n",
       "       secondary_cleaner.state.floatbank6_a_level  \n",
       "count                                 5290.000000  \n",
       "mean                                  -501.793193  \n",
       "std                                     39.044215  \n",
       "min                                   -809.741464  \n",
       "25%                                   -500.690984  \n",
       "50%                                   -500.007126  \n",
       "75%                                   -499.373018  \n",
       "max                                   -123.307487  \n",
       "\n",
       "[8 rows x 52 columns]"
      ]
     },
     "metadata": {},
     "output_type": "display_data"
    },
    {
     "data": {
      "text/html": [
       "<div>\n",
       "<style scoped>\n",
       "    .dataframe tbody tr th:only-of-type {\n",
       "        vertical-align: middle;\n",
       "    }\n",
       "\n",
       "    .dataframe tbody tr th {\n",
       "        vertical-align: top;\n",
       "    }\n",
       "\n",
       "    .dataframe thead th {\n",
       "        text-align: right;\n",
       "    }\n",
       "</style>\n",
       "<table border=\"1\" class=\"dataframe\">\n",
       "  <thead>\n",
       "    <tr style=\"text-align: right;\">\n",
       "      <th></th>\n",
       "      <th>primary_cleaner.input.sulfate</th>\n",
       "      <th>primary_cleaner.input.depressant</th>\n",
       "      <th>primary_cleaner.input.feed_size</th>\n",
       "      <th>primary_cleaner.input.xanthate</th>\n",
       "      <th>primary_cleaner.state.floatbank8_a_air</th>\n",
       "      <th>primary_cleaner.state.floatbank8_a_level</th>\n",
       "      <th>primary_cleaner.state.floatbank8_b_air</th>\n",
       "      <th>primary_cleaner.state.floatbank8_b_level</th>\n",
       "      <th>primary_cleaner.state.floatbank8_c_air</th>\n",
       "      <th>primary_cleaner.state.floatbank8_c_level</th>\n",
       "      <th>...</th>\n",
       "      <th>secondary_cleaner.state.floatbank4_a_air</th>\n",
       "      <th>secondary_cleaner.state.floatbank4_a_level</th>\n",
       "      <th>secondary_cleaner.state.floatbank4_b_air</th>\n",
       "      <th>secondary_cleaner.state.floatbank4_b_level</th>\n",
       "      <th>secondary_cleaner.state.floatbank5_a_air</th>\n",
       "      <th>secondary_cleaner.state.floatbank5_a_level</th>\n",
       "      <th>secondary_cleaner.state.floatbank5_b_air</th>\n",
       "      <th>secondary_cleaner.state.floatbank5_b_level</th>\n",
       "      <th>secondary_cleaner.state.floatbank6_a_air</th>\n",
       "      <th>secondary_cleaner.state.floatbank6_a_level</th>\n",
       "    </tr>\n",
       "    <tr>\n",
       "      <th>date</th>\n",
       "      <th></th>\n",
       "      <th></th>\n",
       "      <th></th>\n",
       "      <th></th>\n",
       "      <th></th>\n",
       "      <th></th>\n",
       "      <th></th>\n",
       "      <th></th>\n",
       "      <th></th>\n",
       "      <th></th>\n",
       "      <th></th>\n",
       "      <th></th>\n",
       "      <th></th>\n",
       "      <th></th>\n",
       "      <th></th>\n",
       "      <th></th>\n",
       "      <th></th>\n",
       "      <th></th>\n",
       "      <th></th>\n",
       "      <th></th>\n",
       "      <th></th>\n",
       "    </tr>\n",
       "  </thead>\n",
       "  <tbody>\n",
       "    <tr>\n",
       "      <th>2016-09-01 00:59:59</th>\n",
       "      <td>210.800909</td>\n",
       "      <td>14.993118</td>\n",
       "      <td>8.080000</td>\n",
       "      <td>1.005021</td>\n",
       "      <td>1398.981301</td>\n",
       "      <td>-500.225577</td>\n",
       "      <td>1399.144926</td>\n",
       "      <td>-499.919735</td>\n",
       "      <td>1400.102998</td>\n",
       "      <td>-500.704369</td>\n",
       "      <td>...</td>\n",
       "      <td>12.023554</td>\n",
       "      <td>-497.795834</td>\n",
       "      <td>8.016656</td>\n",
       "      <td>-501.289139</td>\n",
       "      <td>7.946562</td>\n",
       "      <td>-432.317850</td>\n",
       "      <td>4.872511</td>\n",
       "      <td>-500.037437</td>\n",
       "      <td>26.705889</td>\n",
       "      <td>-499.709414</td>\n",
       "    </tr>\n",
       "    <tr>\n",
       "      <th>2016-09-01 01:59:59</th>\n",
       "      <td>215.392455</td>\n",
       "      <td>14.987471</td>\n",
       "      <td>8.080000</td>\n",
       "      <td>0.990469</td>\n",
       "      <td>1398.777912</td>\n",
       "      <td>-500.057435</td>\n",
       "      <td>1398.055362</td>\n",
       "      <td>-499.778182</td>\n",
       "      <td>1396.151033</td>\n",
       "      <td>-499.240168</td>\n",
       "      <td>...</td>\n",
       "      <td>12.058140</td>\n",
       "      <td>-498.695773</td>\n",
       "      <td>8.130979</td>\n",
       "      <td>-499.634209</td>\n",
       "      <td>7.958270</td>\n",
       "      <td>-525.839648</td>\n",
       "      <td>4.878850</td>\n",
       "      <td>-500.162375</td>\n",
       "      <td>25.019940</td>\n",
       "      <td>-499.819438</td>\n",
       "    </tr>\n",
       "    <tr>\n",
       "      <th>2016-09-01 02:59:59</th>\n",
       "      <td>215.259946</td>\n",
       "      <td>12.884934</td>\n",
       "      <td>7.786667</td>\n",
       "      <td>0.996043</td>\n",
       "      <td>1398.493666</td>\n",
       "      <td>-500.868360</td>\n",
       "      <td>1398.860436</td>\n",
       "      <td>-499.764529</td>\n",
       "      <td>1398.075709</td>\n",
       "      <td>-502.151509</td>\n",
       "      <td>...</td>\n",
       "      <td>11.962366</td>\n",
       "      <td>-498.767484</td>\n",
       "      <td>8.096893</td>\n",
       "      <td>-500.827423</td>\n",
       "      <td>8.071056</td>\n",
       "      <td>-500.801673</td>\n",
       "      <td>4.905125</td>\n",
       "      <td>-499.828510</td>\n",
       "      <td>24.994862</td>\n",
       "      <td>-500.622559</td>\n",
       "    </tr>\n",
       "    <tr>\n",
       "      <th>2016-09-01 03:59:59</th>\n",
       "      <td>215.336236</td>\n",
       "      <td>12.006805</td>\n",
       "      <td>7.640000</td>\n",
       "      <td>0.863514</td>\n",
       "      <td>1399.618111</td>\n",
       "      <td>-498.863574</td>\n",
       "      <td>1397.440120</td>\n",
       "      <td>-499.211024</td>\n",
       "      <td>1400.129303</td>\n",
       "      <td>-498.355873</td>\n",
       "      <td>...</td>\n",
       "      <td>12.033091</td>\n",
       "      <td>-498.350935</td>\n",
       "      <td>8.074946</td>\n",
       "      <td>-499.474407</td>\n",
       "      <td>7.897085</td>\n",
       "      <td>-500.868509</td>\n",
       "      <td>4.931400</td>\n",
       "      <td>-499.963623</td>\n",
       "      <td>24.948919</td>\n",
       "      <td>-498.709987</td>\n",
       "    </tr>\n",
       "    <tr>\n",
       "      <th>2016-09-01 04:59:59</th>\n",
       "      <td>199.099327</td>\n",
       "      <td>10.682530</td>\n",
       "      <td>7.530000</td>\n",
       "      <td>0.805575</td>\n",
       "      <td>1401.268123</td>\n",
       "      <td>-500.808305</td>\n",
       "      <td>1398.128818</td>\n",
       "      <td>-499.504543</td>\n",
       "      <td>1402.172226</td>\n",
       "      <td>-500.810606</td>\n",
       "      <td>...</td>\n",
       "      <td>12.025367</td>\n",
       "      <td>-500.786497</td>\n",
       "      <td>8.054678</td>\n",
       "      <td>-500.397500</td>\n",
       "      <td>8.107890</td>\n",
       "      <td>-509.526725</td>\n",
       "      <td>4.957674</td>\n",
       "      <td>-500.360026</td>\n",
       "      <td>25.003331</td>\n",
       "      <td>-500.856333</td>\n",
       "    </tr>\n",
       "  </tbody>\n",
       "</table>\n",
       "<p>5 rows × 52 columns</p>\n",
       "</div>"
      ],
      "text/plain": [
       "                     primary_cleaner.input.sulfate  \\\n",
       "date                                                 \n",
       "2016-09-01 00:59:59                     210.800909   \n",
       "2016-09-01 01:59:59                     215.392455   \n",
       "2016-09-01 02:59:59                     215.259946   \n",
       "2016-09-01 03:59:59                     215.336236   \n",
       "2016-09-01 04:59:59                     199.099327   \n",
       "\n",
       "                     primary_cleaner.input.depressant  \\\n",
       "date                                                    \n",
       "2016-09-01 00:59:59                         14.993118   \n",
       "2016-09-01 01:59:59                         14.987471   \n",
       "2016-09-01 02:59:59                         12.884934   \n",
       "2016-09-01 03:59:59                         12.006805   \n",
       "2016-09-01 04:59:59                         10.682530   \n",
       "\n",
       "                     primary_cleaner.input.feed_size  \\\n",
       "date                                                   \n",
       "2016-09-01 00:59:59                         8.080000   \n",
       "2016-09-01 01:59:59                         8.080000   \n",
       "2016-09-01 02:59:59                         7.786667   \n",
       "2016-09-01 03:59:59                         7.640000   \n",
       "2016-09-01 04:59:59                         7.530000   \n",
       "\n",
       "                     primary_cleaner.input.xanthate  \\\n",
       "date                                                  \n",
       "2016-09-01 00:59:59                        1.005021   \n",
       "2016-09-01 01:59:59                        0.990469   \n",
       "2016-09-01 02:59:59                        0.996043   \n",
       "2016-09-01 03:59:59                        0.863514   \n",
       "2016-09-01 04:59:59                        0.805575   \n",
       "\n",
       "                     primary_cleaner.state.floatbank8_a_air  \\\n",
       "date                                                          \n",
       "2016-09-01 00:59:59                             1398.981301   \n",
       "2016-09-01 01:59:59                             1398.777912   \n",
       "2016-09-01 02:59:59                             1398.493666   \n",
       "2016-09-01 03:59:59                             1399.618111   \n",
       "2016-09-01 04:59:59                             1401.268123   \n",
       "\n",
       "                     primary_cleaner.state.floatbank8_a_level  \\\n",
       "date                                                            \n",
       "2016-09-01 00:59:59                               -500.225577   \n",
       "2016-09-01 01:59:59                               -500.057435   \n",
       "2016-09-01 02:59:59                               -500.868360   \n",
       "2016-09-01 03:59:59                               -498.863574   \n",
       "2016-09-01 04:59:59                               -500.808305   \n",
       "\n",
       "                     primary_cleaner.state.floatbank8_b_air  \\\n",
       "date                                                          \n",
       "2016-09-01 00:59:59                             1399.144926   \n",
       "2016-09-01 01:59:59                             1398.055362   \n",
       "2016-09-01 02:59:59                             1398.860436   \n",
       "2016-09-01 03:59:59                             1397.440120   \n",
       "2016-09-01 04:59:59                             1398.128818   \n",
       "\n",
       "                     primary_cleaner.state.floatbank8_b_level  \\\n",
       "date                                                            \n",
       "2016-09-01 00:59:59                               -499.919735   \n",
       "2016-09-01 01:59:59                               -499.778182   \n",
       "2016-09-01 02:59:59                               -499.764529   \n",
       "2016-09-01 03:59:59                               -499.211024   \n",
       "2016-09-01 04:59:59                               -499.504543   \n",
       "\n",
       "                     primary_cleaner.state.floatbank8_c_air  \\\n",
       "date                                                          \n",
       "2016-09-01 00:59:59                             1400.102998   \n",
       "2016-09-01 01:59:59                             1396.151033   \n",
       "2016-09-01 02:59:59                             1398.075709   \n",
       "2016-09-01 03:59:59                             1400.129303   \n",
       "2016-09-01 04:59:59                             1402.172226   \n",
       "\n",
       "                     primary_cleaner.state.floatbank8_c_level  ...  \\\n",
       "date                                                           ...   \n",
       "2016-09-01 00:59:59                               -500.704369  ...   \n",
       "2016-09-01 01:59:59                               -499.240168  ...   \n",
       "2016-09-01 02:59:59                               -502.151509  ...   \n",
       "2016-09-01 03:59:59                               -498.355873  ...   \n",
       "2016-09-01 04:59:59                               -500.810606  ...   \n",
       "\n",
       "                     secondary_cleaner.state.floatbank4_a_air  \\\n",
       "date                                                            \n",
       "2016-09-01 00:59:59                                 12.023554   \n",
       "2016-09-01 01:59:59                                 12.058140   \n",
       "2016-09-01 02:59:59                                 11.962366   \n",
       "2016-09-01 03:59:59                                 12.033091   \n",
       "2016-09-01 04:59:59                                 12.025367   \n",
       "\n",
       "                     secondary_cleaner.state.floatbank4_a_level  \\\n",
       "date                                                              \n",
       "2016-09-01 00:59:59                                 -497.795834   \n",
       "2016-09-01 01:59:59                                 -498.695773   \n",
       "2016-09-01 02:59:59                                 -498.767484   \n",
       "2016-09-01 03:59:59                                 -498.350935   \n",
       "2016-09-01 04:59:59                                 -500.786497   \n",
       "\n",
       "                     secondary_cleaner.state.floatbank4_b_air  \\\n",
       "date                                                            \n",
       "2016-09-01 00:59:59                                  8.016656   \n",
       "2016-09-01 01:59:59                                  8.130979   \n",
       "2016-09-01 02:59:59                                  8.096893   \n",
       "2016-09-01 03:59:59                                  8.074946   \n",
       "2016-09-01 04:59:59                                  8.054678   \n",
       "\n",
       "                     secondary_cleaner.state.floatbank4_b_level  \\\n",
       "date                                                              \n",
       "2016-09-01 00:59:59                                 -501.289139   \n",
       "2016-09-01 01:59:59                                 -499.634209   \n",
       "2016-09-01 02:59:59                                 -500.827423   \n",
       "2016-09-01 03:59:59                                 -499.474407   \n",
       "2016-09-01 04:59:59                                 -500.397500   \n",
       "\n",
       "                     secondary_cleaner.state.floatbank5_a_air  \\\n",
       "date                                                            \n",
       "2016-09-01 00:59:59                                  7.946562   \n",
       "2016-09-01 01:59:59                                  7.958270   \n",
       "2016-09-01 02:59:59                                  8.071056   \n",
       "2016-09-01 03:59:59                                  7.897085   \n",
       "2016-09-01 04:59:59                                  8.107890   \n",
       "\n",
       "                     secondary_cleaner.state.floatbank5_a_level  \\\n",
       "date                                                              \n",
       "2016-09-01 00:59:59                                 -432.317850   \n",
       "2016-09-01 01:59:59                                 -525.839648   \n",
       "2016-09-01 02:59:59                                 -500.801673   \n",
       "2016-09-01 03:59:59                                 -500.868509   \n",
       "2016-09-01 04:59:59                                 -509.526725   \n",
       "\n",
       "                     secondary_cleaner.state.floatbank5_b_air  \\\n",
       "date                                                            \n",
       "2016-09-01 00:59:59                                  4.872511   \n",
       "2016-09-01 01:59:59                                  4.878850   \n",
       "2016-09-01 02:59:59                                  4.905125   \n",
       "2016-09-01 03:59:59                                  4.931400   \n",
       "2016-09-01 04:59:59                                  4.957674   \n",
       "\n",
       "                     secondary_cleaner.state.floatbank5_b_level  \\\n",
       "date                                                              \n",
       "2016-09-01 00:59:59                                 -500.037437   \n",
       "2016-09-01 01:59:59                                 -500.162375   \n",
       "2016-09-01 02:59:59                                 -499.828510   \n",
       "2016-09-01 03:59:59                                 -499.963623   \n",
       "2016-09-01 04:59:59                                 -500.360026   \n",
       "\n",
       "                     secondary_cleaner.state.floatbank6_a_air  \\\n",
       "date                                                            \n",
       "2016-09-01 00:59:59                                 26.705889   \n",
       "2016-09-01 01:59:59                                 25.019940   \n",
       "2016-09-01 02:59:59                                 24.994862   \n",
       "2016-09-01 03:59:59                                 24.948919   \n",
       "2016-09-01 04:59:59                                 25.003331   \n",
       "\n",
       "                     secondary_cleaner.state.floatbank6_a_level  \n",
       "date                                                             \n",
       "2016-09-01 00:59:59                                 -499.709414  \n",
       "2016-09-01 01:59:59                                 -499.819438  \n",
       "2016-09-01 02:59:59                                 -500.622559  \n",
       "2016-09-01 03:59:59                                 -498.709987  \n",
       "2016-09-01 04:59:59                                 -500.856333  \n",
       "\n",
       "[5 rows x 52 columns]"
      ]
     },
     "metadata": {},
     "output_type": "display_data"
    }
   ],
   "source": [
    "check_df(df_test)"
   ]
  },
  {
   "cell_type": "code",
   "execution_count": 6,
   "metadata": {},
   "outputs": [
    {
     "name": "stdout",
     "output_type": "stream",
     "text": [
      "Количество строк: 19439\n",
      "Количество столбцов: 86\n",
      "<class 'pandas.core.frame.DataFrame'>\n",
      "DatetimeIndex: 19439 entries, 2016-01-15 00:00:00 to 2018-08-18 10:59:59\n",
      "Data columns (total 86 columns):\n",
      " #   Column                                              Non-Null Count  Dtype  \n",
      "---  ------                                              --------------  -----  \n",
      " 0   final.output.concentrate_ag                         19438 non-null  float64\n",
      " 1   final.output.concentrate_pb                         19438 non-null  float64\n",
      " 2   final.output.concentrate_sol                        19228 non-null  float64\n",
      " 3   final.output.concentrate_au                         19439 non-null  float64\n",
      " 4   final.output.recovery                               19439 non-null  float64\n",
      " 5   final.output.tail_ag                                19438 non-null  float64\n",
      " 6   final.output.tail_pb                                19338 non-null  float64\n",
      " 7   final.output.tail_sol                               19433 non-null  float64\n",
      " 8   final.output.tail_au                                19439 non-null  float64\n",
      " 9   primary_cleaner.input.sulfate                       19415 non-null  float64\n",
      " 10  primary_cleaner.input.depressant                    19402 non-null  float64\n",
      " 11  primary_cleaner.input.feed_size                     19439 non-null  float64\n",
      " 12  primary_cleaner.input.xanthate                      19335 non-null  float64\n",
      " 13  primary_cleaner.output.concentrate_ag               19439 non-null  float64\n",
      " 14  primary_cleaner.output.concentrate_pb               19323 non-null  float64\n",
      " 15  primary_cleaner.output.concentrate_sol              19069 non-null  float64\n",
      " 16  primary_cleaner.output.concentrate_au               19439 non-null  float64\n",
      " 17  primary_cleaner.output.tail_ag                      19435 non-null  float64\n",
      " 18  primary_cleaner.output.tail_pb                      19418 non-null  float64\n",
      " 19  primary_cleaner.output.tail_sol                     19377 non-null  float64\n",
      " 20  primary_cleaner.output.tail_au                      19439 non-null  float64\n",
      " 21  primary_cleaner.state.floatbank8_a_air              19435 non-null  float64\n",
      " 22  primary_cleaner.state.floatbank8_a_level            19438 non-null  float64\n",
      " 23  primary_cleaner.state.floatbank8_b_air              19435 non-null  float64\n",
      " 24  primary_cleaner.state.floatbank8_b_level            19438 non-null  float64\n",
      " 25  primary_cleaner.state.floatbank8_c_air              19437 non-null  float64\n",
      " 26  primary_cleaner.state.floatbank8_c_level            19438 non-null  float64\n",
      " 27  primary_cleaner.state.floatbank8_d_air              19436 non-null  float64\n",
      " 28  primary_cleaner.state.floatbank8_d_level            19438 non-null  float64\n",
      " 29  rougher.calculation.sulfate_to_au_concentrate       19437 non-null  float64\n",
      " 30  rougher.calculation.floatbank10_sulfate_to_au_feed  19437 non-null  float64\n",
      " 31  rougher.calculation.floatbank11_sulfate_to_au_feed  19437 non-null  float64\n",
      " 32  rougher.calculation.au_pb_ratio                     19439 non-null  float64\n",
      " 33  rougher.input.feed_ag                               19439 non-null  float64\n",
      " 34  rougher.input.feed_pb                               19339 non-null  float64\n",
      " 35  rougher.input.feed_rate                             19428 non-null  float64\n",
      " 36  rougher.input.feed_size                             19294 non-null  float64\n",
      " 37  rougher.input.feed_sol                              19340 non-null  float64\n",
      " 38  rougher.input.feed_au                               19439 non-null  float64\n",
      " 39  rougher.input.floatbank10_sulfate                   19405 non-null  float64\n",
      " 40  rougher.input.floatbank10_xanthate                  19431 non-null  float64\n",
      " 41  rougher.input.floatbank11_sulfate                   19395 non-null  float64\n",
      " 42  rougher.input.floatbank11_xanthate                  18986 non-null  float64\n",
      " 43  rougher.output.concentrate_ag                       19439 non-null  float64\n",
      " 44  rougher.output.concentrate_pb                       19439 non-null  float64\n",
      " 45  rougher.output.concentrate_sol                      19416 non-null  float64\n",
      " 46  rougher.output.concentrate_au                       19439 non-null  float64\n",
      " 47  rougher.output.recovery                             19439 non-null  float64\n",
      " 48  rougher.output.tail_ag                              19438 non-null  float64\n",
      " 49  rougher.output.tail_pb                              19439 non-null  float64\n",
      " 50  rougher.output.tail_sol                             19439 non-null  float64\n",
      " 51  rougher.output.tail_au                              19439 non-null  float64\n",
      " 52  rougher.state.floatbank10_a_air                     19438 non-null  float64\n",
      " 53  rougher.state.floatbank10_a_level                   19438 non-null  float64\n",
      " 54  rougher.state.floatbank10_b_air                     19438 non-null  float64\n",
      " 55  rougher.state.floatbank10_b_level                   19438 non-null  float64\n",
      " 56  rougher.state.floatbank10_c_air                     19438 non-null  float64\n",
      " 57  rougher.state.floatbank10_c_level                   19438 non-null  float64\n",
      " 58  rougher.state.floatbank10_d_air                     19439 non-null  float64\n",
      " 59  rougher.state.floatbank10_d_level                   19439 non-null  float64\n",
      " 60  rougher.state.floatbank10_e_air                     19003 non-null  float64\n",
      " 61  rougher.state.floatbank10_e_level                   19439 non-null  float64\n",
      " 62  rougher.state.floatbank10_f_air                     19439 non-null  float64\n",
      " 63  rougher.state.floatbank10_f_level                   19439 non-null  float64\n",
      " 64  secondary_cleaner.output.tail_ag                    19437 non-null  float64\n",
      " 65  secondary_cleaner.output.tail_pb                    19427 non-null  float64\n",
      " 66  secondary_cleaner.output.tail_sol                   17691 non-null  float64\n",
      " 67  secondary_cleaner.output.tail_au                    19439 non-null  float64\n",
      " 68  secondary_cleaner.state.floatbank2_a_air            19219 non-null  float64\n",
      " 69  secondary_cleaner.state.floatbank2_a_level          19438 non-null  float64\n",
      " 70  secondary_cleaner.state.floatbank2_b_air            19416 non-null  float64\n",
      " 71  secondary_cleaner.state.floatbank2_b_level          19438 non-null  float64\n",
      " 72  secondary_cleaner.state.floatbank3_a_air            19426 non-null  float64\n",
      " 73  secondary_cleaner.state.floatbank3_a_level          19438 non-null  float64\n",
      " 74  secondary_cleaner.state.floatbank3_b_air            19438 non-null  float64\n",
      " 75  secondary_cleaner.state.floatbank3_b_level          19438 non-null  float64\n",
      " 76  secondary_cleaner.state.floatbank4_a_air            19433 non-null  float64\n",
      " 77  secondary_cleaner.state.floatbank4_a_level          19438 non-null  float64\n",
      " 78  secondary_cleaner.state.floatbank4_b_air            19438 non-null  float64\n",
      " 79  secondary_cleaner.state.floatbank4_b_level          19438 non-null  float64\n",
      " 80  secondary_cleaner.state.floatbank5_a_air            19438 non-null  float64\n",
      " 81  secondary_cleaner.state.floatbank5_a_level          19438 non-null  float64\n",
      " 82  secondary_cleaner.state.floatbank5_b_air            19438 non-null  float64\n",
      " 83  secondary_cleaner.state.floatbank5_b_level          19438 non-null  float64\n",
      " 84  secondary_cleaner.state.floatbank6_a_air            19437 non-null  float64\n",
      " 85  secondary_cleaner.state.floatbank6_a_level          19438 non-null  float64\n",
      "dtypes: float64(86)\n",
      "memory usage: 12.9 MB\n"
     ]
    },
    {
     "data": {
      "text/html": [
       "<div>\n",
       "<style scoped>\n",
       "    .dataframe tbody tr th:only-of-type {\n",
       "        vertical-align: middle;\n",
       "    }\n",
       "\n",
       "    .dataframe tbody tr th {\n",
       "        vertical-align: top;\n",
       "    }\n",
       "\n",
       "    .dataframe thead th {\n",
       "        text-align: right;\n",
       "    }\n",
       "</style>\n",
       "<table border=\"1\" class=\"dataframe\">\n",
       "  <thead>\n",
       "    <tr style=\"text-align: right;\">\n",
       "      <th></th>\n",
       "      <th>final.output.concentrate_ag</th>\n",
       "      <th>final.output.concentrate_pb</th>\n",
       "      <th>final.output.concentrate_sol</th>\n",
       "      <th>final.output.concentrate_au</th>\n",
       "      <th>final.output.recovery</th>\n",
       "      <th>final.output.tail_ag</th>\n",
       "      <th>final.output.tail_pb</th>\n",
       "      <th>final.output.tail_sol</th>\n",
       "      <th>final.output.tail_au</th>\n",
       "      <th>primary_cleaner.input.sulfate</th>\n",
       "      <th>...</th>\n",
       "      <th>secondary_cleaner.state.floatbank4_a_air</th>\n",
       "      <th>secondary_cleaner.state.floatbank4_a_level</th>\n",
       "      <th>secondary_cleaner.state.floatbank4_b_air</th>\n",
       "      <th>secondary_cleaner.state.floatbank4_b_level</th>\n",
       "      <th>secondary_cleaner.state.floatbank5_a_air</th>\n",
       "      <th>secondary_cleaner.state.floatbank5_a_level</th>\n",
       "      <th>secondary_cleaner.state.floatbank5_b_air</th>\n",
       "      <th>secondary_cleaner.state.floatbank5_b_level</th>\n",
       "      <th>secondary_cleaner.state.floatbank6_a_air</th>\n",
       "      <th>secondary_cleaner.state.floatbank6_a_level</th>\n",
       "    </tr>\n",
       "  </thead>\n",
       "  <tbody>\n",
       "    <tr>\n",
       "      <th>count</th>\n",
       "      <td>19438.000000</td>\n",
       "      <td>19438.000000</td>\n",
       "      <td>19228.000000</td>\n",
       "      <td>19439.000000</td>\n",
       "      <td>19439.000000</td>\n",
       "      <td>19438.000000</td>\n",
       "      <td>19338.000000</td>\n",
       "      <td>19433.000000</td>\n",
       "      <td>19439.000000</td>\n",
       "      <td>19415.000000</td>\n",
       "      <td>...</td>\n",
       "      <td>19433.000000</td>\n",
       "      <td>19438.000000</td>\n",
       "      <td>19438.000000</td>\n",
       "      <td>19438.000000</td>\n",
       "      <td>19438.000000</td>\n",
       "      <td>19438.000000</td>\n",
       "      <td>19438.000000</td>\n",
       "      <td>19438.000000</td>\n",
       "      <td>19437.000000</td>\n",
       "      <td>19438.000000</td>\n",
       "    </tr>\n",
       "    <tr>\n",
       "      <th>mean</th>\n",
       "      <td>5.168470</td>\n",
       "      <td>9.978895</td>\n",
       "      <td>9.501224</td>\n",
       "      <td>44.076513</td>\n",
       "      <td>67.050208</td>\n",
       "      <td>9.688589</td>\n",
       "      <td>2.705795</td>\n",
       "      <td>10.583728</td>\n",
       "      <td>3.042467</td>\n",
       "      <td>144.624774</td>\n",
       "      <td>...</td>\n",
       "      <td>18.987674</td>\n",
       "      <td>-485.894516</td>\n",
       "      <td>15.010366</td>\n",
       "      <td>-461.078636</td>\n",
       "      <td>15.694452</td>\n",
       "      <td>-488.684065</td>\n",
       "      <td>12.198224</td>\n",
       "      <td>-487.149827</td>\n",
       "      <td>18.959024</td>\n",
       "      <td>-505.436305</td>\n",
       "    </tr>\n",
       "    <tr>\n",
       "      <th>std</th>\n",
       "      <td>1.372348</td>\n",
       "      <td>1.669240</td>\n",
       "      <td>2.787537</td>\n",
       "      <td>5.129784</td>\n",
       "      <td>10.125840</td>\n",
       "      <td>2.328642</td>\n",
       "      <td>0.949077</td>\n",
       "      <td>2.868782</td>\n",
       "      <td>0.922808</td>\n",
       "      <td>44.464071</td>\n",
       "      <td>...</td>\n",
       "      <td>5.411058</td>\n",
       "      <td>47.758570</td>\n",
       "      <td>4.890228</td>\n",
       "      <td>67.405524</td>\n",
       "      <td>5.510974</td>\n",
       "      <td>34.533396</td>\n",
       "      <td>5.333024</td>\n",
       "      <td>38.347312</td>\n",
       "      <td>5.550498</td>\n",
       "      <td>37.689057</td>\n",
       "    </tr>\n",
       "    <tr>\n",
       "      <th>min</th>\n",
       "      <td>0.000000</td>\n",
       "      <td>0.000000</td>\n",
       "      <td>0.000000</td>\n",
       "      <td>0.000000</td>\n",
       "      <td>0.000000</td>\n",
       "      <td>0.000000</td>\n",
       "      <td>0.000000</td>\n",
       "      <td>0.000000</td>\n",
       "      <td>0.000000</td>\n",
       "      <td>0.003112</td>\n",
       "      <td>...</td>\n",
       "      <td>0.000000</td>\n",
       "      <td>-799.798523</td>\n",
       "      <td>0.000000</td>\n",
       "      <td>-800.836914</td>\n",
       "      <td>-0.372054</td>\n",
       "      <td>-797.323986</td>\n",
       "      <td>0.528083</td>\n",
       "      <td>-800.220337</td>\n",
       "      <td>-0.079426</td>\n",
       "      <td>-809.741464</td>\n",
       "    </tr>\n",
       "    <tr>\n",
       "      <th>25%</th>\n",
       "      <td>4.251240</td>\n",
       "      <td>9.137262</td>\n",
       "      <td>7.722820</td>\n",
       "      <td>43.402215</td>\n",
       "      <td>63.299712</td>\n",
       "      <td>8.062878</td>\n",
       "      <td>2.040119</td>\n",
       "      <td>8.938947</td>\n",
       "      <td>2.461138</td>\n",
       "      <td>114.107029</td>\n",
       "      <td>...</td>\n",
       "      <td>14.975734</td>\n",
       "      <td>-500.704892</td>\n",
       "      <td>11.940294</td>\n",
       "      <td>-500.187742</td>\n",
       "      <td>10.988606</td>\n",
       "      <td>-500.458467</td>\n",
       "      <td>8.971105</td>\n",
       "      <td>-500.129462</td>\n",
       "      <td>14.983037</td>\n",
       "      <td>-500.728067</td>\n",
       "    </tr>\n",
       "    <tr>\n",
       "      <th>50%</th>\n",
       "      <td>5.066094</td>\n",
       "      <td>10.102433</td>\n",
       "      <td>9.218961</td>\n",
       "      <td>45.011244</td>\n",
       "      <td>68.172738</td>\n",
       "      <td>9.743623</td>\n",
       "      <td>2.748730</td>\n",
       "      <td>10.622456</td>\n",
       "      <td>2.984909</td>\n",
       "      <td>143.232103</td>\n",
       "      <td>...</td>\n",
       "      <td>18.017481</td>\n",
       "      <td>-499.837793</td>\n",
       "      <td>14.971014</td>\n",
       "      <td>-499.459786</td>\n",
       "      <td>15.000036</td>\n",
       "      <td>-499.802605</td>\n",
       "      <td>11.019433</td>\n",
       "      <td>-499.935317</td>\n",
       "      <td>19.960541</td>\n",
       "      <td>-500.048400</td>\n",
       "    </tr>\n",
       "    <tr>\n",
       "      <th>75%</th>\n",
       "      <td>5.895527</td>\n",
       "      <td>11.035769</td>\n",
       "      <td>10.947813</td>\n",
       "      <td>46.275313</td>\n",
       "      <td>72.686642</td>\n",
       "      <td>11.134294</td>\n",
       "      <td>3.333216</td>\n",
       "      <td>12.104271</td>\n",
       "      <td>3.571351</td>\n",
       "      <td>175.075656</td>\n",
       "      <td>...</td>\n",
       "      <td>23.012470</td>\n",
       "      <td>-498.249730</td>\n",
       "      <td>19.034162</td>\n",
       "      <td>-400.118106</td>\n",
       "      <td>18.026190</td>\n",
       "      <td>-498.384187</td>\n",
       "      <td>14.019088</td>\n",
       "      <td>-499.436708</td>\n",
       "      <td>24.003170</td>\n",
       "      <td>-499.495378</td>\n",
       "    </tr>\n",
       "    <tr>\n",
       "      <th>max</th>\n",
       "      <td>16.001945</td>\n",
       "      <td>17.031899</td>\n",
       "      <td>19.615720</td>\n",
       "      <td>52.756638</td>\n",
       "      <td>100.000000</td>\n",
       "      <td>19.552149</td>\n",
       "      <td>5.804178</td>\n",
       "      <td>22.317730</td>\n",
       "      <td>8.245022</td>\n",
       "      <td>265.983123</td>\n",
       "      <td>...</td>\n",
       "      <td>30.115735</td>\n",
       "      <td>-245.239184</td>\n",
       "      <td>31.269706</td>\n",
       "      <td>-6.506986</td>\n",
       "      <td>43.709931</td>\n",
       "      <td>-244.483566</td>\n",
       "      <td>27.926001</td>\n",
       "      <td>-137.740004</td>\n",
       "      <td>32.188906</td>\n",
       "      <td>-104.427459</td>\n",
       "    </tr>\n",
       "  </tbody>\n",
       "</table>\n",
       "<p>8 rows × 86 columns</p>\n",
       "</div>"
      ],
      "text/plain": [
       "       final.output.concentrate_ag  final.output.concentrate_pb  \\\n",
       "count                 19438.000000                 19438.000000   \n",
       "mean                      5.168470                     9.978895   \n",
       "std                       1.372348                     1.669240   \n",
       "min                       0.000000                     0.000000   \n",
       "25%                       4.251240                     9.137262   \n",
       "50%                       5.066094                    10.102433   \n",
       "75%                       5.895527                    11.035769   \n",
       "max                      16.001945                    17.031899   \n",
       "\n",
       "       final.output.concentrate_sol  final.output.concentrate_au  \\\n",
       "count                  19228.000000                 19439.000000   \n",
       "mean                       9.501224                    44.076513   \n",
       "std                        2.787537                     5.129784   \n",
       "min                        0.000000                     0.000000   \n",
       "25%                        7.722820                    43.402215   \n",
       "50%                        9.218961                    45.011244   \n",
       "75%                       10.947813                    46.275313   \n",
       "max                       19.615720                    52.756638   \n",
       "\n",
       "       final.output.recovery  final.output.tail_ag  final.output.tail_pb  \\\n",
       "count           19439.000000          19438.000000          19338.000000   \n",
       "mean               67.050208              9.688589              2.705795   \n",
       "std                10.125840              2.328642              0.949077   \n",
       "min                 0.000000              0.000000              0.000000   \n",
       "25%                63.299712              8.062878              2.040119   \n",
       "50%                68.172738              9.743623              2.748730   \n",
       "75%                72.686642             11.134294              3.333216   \n",
       "max               100.000000             19.552149              5.804178   \n",
       "\n",
       "       final.output.tail_sol  final.output.tail_au  \\\n",
       "count           19433.000000          19439.000000   \n",
       "mean               10.583728              3.042467   \n",
       "std                 2.868782              0.922808   \n",
       "min                 0.000000              0.000000   \n",
       "25%                 8.938947              2.461138   \n",
       "50%                10.622456              2.984909   \n",
       "75%                12.104271              3.571351   \n",
       "max                22.317730              8.245022   \n",
       "\n",
       "       primary_cleaner.input.sulfate  ...  \\\n",
       "count                   19415.000000  ...   \n",
       "mean                      144.624774  ...   \n",
       "std                        44.464071  ...   \n",
       "min                         0.003112  ...   \n",
       "25%                       114.107029  ...   \n",
       "50%                       143.232103  ...   \n",
       "75%                       175.075656  ...   \n",
       "max                       265.983123  ...   \n",
       "\n",
       "       secondary_cleaner.state.floatbank4_a_air  \\\n",
       "count                              19433.000000   \n",
       "mean                                  18.987674   \n",
       "std                                    5.411058   \n",
       "min                                    0.000000   \n",
       "25%                                   14.975734   \n",
       "50%                                   18.017481   \n",
       "75%                                   23.012470   \n",
       "max                                   30.115735   \n",
       "\n",
       "       secondary_cleaner.state.floatbank4_a_level  \\\n",
       "count                                19438.000000   \n",
       "mean                                  -485.894516   \n",
       "std                                     47.758570   \n",
       "min                                   -799.798523   \n",
       "25%                                   -500.704892   \n",
       "50%                                   -499.837793   \n",
       "75%                                   -498.249730   \n",
       "max                                   -245.239184   \n",
       "\n",
       "       secondary_cleaner.state.floatbank4_b_air  \\\n",
       "count                              19438.000000   \n",
       "mean                                  15.010366   \n",
       "std                                    4.890228   \n",
       "min                                    0.000000   \n",
       "25%                                   11.940294   \n",
       "50%                                   14.971014   \n",
       "75%                                   19.034162   \n",
       "max                                   31.269706   \n",
       "\n",
       "       secondary_cleaner.state.floatbank4_b_level  \\\n",
       "count                                19438.000000   \n",
       "mean                                  -461.078636   \n",
       "std                                     67.405524   \n",
       "min                                   -800.836914   \n",
       "25%                                   -500.187742   \n",
       "50%                                   -499.459786   \n",
       "75%                                   -400.118106   \n",
       "max                                     -6.506986   \n",
       "\n",
       "       secondary_cleaner.state.floatbank5_a_air  \\\n",
       "count                              19438.000000   \n",
       "mean                                  15.694452   \n",
       "std                                    5.510974   \n",
       "min                                   -0.372054   \n",
       "25%                                   10.988606   \n",
       "50%                                   15.000036   \n",
       "75%                                   18.026190   \n",
       "max                                   43.709931   \n",
       "\n",
       "       secondary_cleaner.state.floatbank5_a_level  \\\n",
       "count                                19438.000000   \n",
       "mean                                  -488.684065   \n",
       "std                                     34.533396   \n",
       "min                                   -797.323986   \n",
       "25%                                   -500.458467   \n",
       "50%                                   -499.802605   \n",
       "75%                                   -498.384187   \n",
       "max                                   -244.483566   \n",
       "\n",
       "       secondary_cleaner.state.floatbank5_b_air  \\\n",
       "count                              19438.000000   \n",
       "mean                                  12.198224   \n",
       "std                                    5.333024   \n",
       "min                                    0.528083   \n",
       "25%                                    8.971105   \n",
       "50%                                   11.019433   \n",
       "75%                                   14.019088   \n",
       "max                                   27.926001   \n",
       "\n",
       "       secondary_cleaner.state.floatbank5_b_level  \\\n",
       "count                                19438.000000   \n",
       "mean                                  -487.149827   \n",
       "std                                     38.347312   \n",
       "min                                   -800.220337   \n",
       "25%                                   -500.129462   \n",
       "50%                                   -499.935317   \n",
       "75%                                   -499.436708   \n",
       "max                                   -137.740004   \n",
       "\n",
       "       secondary_cleaner.state.floatbank6_a_air  \\\n",
       "count                              19437.000000   \n",
       "mean                                  18.959024   \n",
       "std                                    5.550498   \n",
       "min                                   -0.079426   \n",
       "25%                                   14.983037   \n",
       "50%                                   19.960541   \n",
       "75%                                   24.003170   \n",
       "max                                   32.188906   \n",
       "\n",
       "       secondary_cleaner.state.floatbank6_a_level  \n",
       "count                                19438.000000  \n",
       "mean                                  -505.436305  \n",
       "std                                     37.689057  \n",
       "min                                   -809.741464  \n",
       "25%                                   -500.728067  \n",
       "50%                                   -500.048400  \n",
       "75%                                   -499.495378  \n",
       "max                                   -104.427459  \n",
       "\n",
       "[8 rows x 86 columns]"
      ]
     },
     "metadata": {},
     "output_type": "display_data"
    },
    {
     "data": {
      "text/html": [
       "<div>\n",
       "<style scoped>\n",
       "    .dataframe tbody tr th:only-of-type {\n",
       "        vertical-align: middle;\n",
       "    }\n",
       "\n",
       "    .dataframe tbody tr th {\n",
       "        vertical-align: top;\n",
       "    }\n",
       "\n",
       "    .dataframe thead th {\n",
       "        text-align: right;\n",
       "    }\n",
       "</style>\n",
       "<table border=\"1\" class=\"dataframe\">\n",
       "  <thead>\n",
       "    <tr style=\"text-align: right;\">\n",
       "      <th></th>\n",
       "      <th>final.output.concentrate_ag</th>\n",
       "      <th>final.output.concentrate_pb</th>\n",
       "      <th>final.output.concentrate_sol</th>\n",
       "      <th>final.output.concentrate_au</th>\n",
       "      <th>final.output.recovery</th>\n",
       "      <th>final.output.tail_ag</th>\n",
       "      <th>final.output.tail_pb</th>\n",
       "      <th>final.output.tail_sol</th>\n",
       "      <th>final.output.tail_au</th>\n",
       "      <th>primary_cleaner.input.sulfate</th>\n",
       "      <th>...</th>\n",
       "      <th>secondary_cleaner.state.floatbank4_a_air</th>\n",
       "      <th>secondary_cleaner.state.floatbank4_a_level</th>\n",
       "      <th>secondary_cleaner.state.floatbank4_b_air</th>\n",
       "      <th>secondary_cleaner.state.floatbank4_b_level</th>\n",
       "      <th>secondary_cleaner.state.floatbank5_a_air</th>\n",
       "      <th>secondary_cleaner.state.floatbank5_a_level</th>\n",
       "      <th>secondary_cleaner.state.floatbank5_b_air</th>\n",
       "      <th>secondary_cleaner.state.floatbank5_b_level</th>\n",
       "      <th>secondary_cleaner.state.floatbank6_a_air</th>\n",
       "      <th>secondary_cleaner.state.floatbank6_a_level</th>\n",
       "    </tr>\n",
       "    <tr>\n",
       "      <th>date</th>\n",
       "      <th></th>\n",
       "      <th></th>\n",
       "      <th></th>\n",
       "      <th></th>\n",
       "      <th></th>\n",
       "      <th></th>\n",
       "      <th></th>\n",
       "      <th></th>\n",
       "      <th></th>\n",
       "      <th></th>\n",
       "      <th></th>\n",
       "      <th></th>\n",
       "      <th></th>\n",
       "      <th></th>\n",
       "      <th></th>\n",
       "      <th></th>\n",
       "      <th></th>\n",
       "      <th></th>\n",
       "      <th></th>\n",
       "      <th></th>\n",
       "      <th></th>\n",
       "    </tr>\n",
       "  </thead>\n",
       "  <tbody>\n",
       "    <tr>\n",
       "      <th>2016-01-15 00:00:00</th>\n",
       "      <td>6.055403</td>\n",
       "      <td>9.889648</td>\n",
       "      <td>5.507324</td>\n",
       "      <td>42.192020</td>\n",
       "      <td>70.541216</td>\n",
       "      <td>10.411962</td>\n",
       "      <td>0.895447</td>\n",
       "      <td>16.904297</td>\n",
       "      <td>2.143149</td>\n",
       "      <td>127.092003</td>\n",
       "      <td>...</td>\n",
       "      <td>14.016835</td>\n",
       "      <td>-502.488007</td>\n",
       "      <td>12.099931</td>\n",
       "      <td>-504.715942</td>\n",
       "      <td>9.925633</td>\n",
       "      <td>-498.310211</td>\n",
       "      <td>8.079666</td>\n",
       "      <td>-500.470978</td>\n",
       "      <td>14.151341</td>\n",
       "      <td>-605.841980</td>\n",
       "    </tr>\n",
       "    <tr>\n",
       "      <th>2016-01-15 01:00:00</th>\n",
       "      <td>6.029369</td>\n",
       "      <td>9.968944</td>\n",
       "      <td>5.257781</td>\n",
       "      <td>42.701629</td>\n",
       "      <td>69.266198</td>\n",
       "      <td>10.462676</td>\n",
       "      <td>0.927452</td>\n",
       "      <td>16.634514</td>\n",
       "      <td>2.224930</td>\n",
       "      <td>125.629232</td>\n",
       "      <td>...</td>\n",
       "      <td>13.992281</td>\n",
       "      <td>-505.503262</td>\n",
       "      <td>11.950531</td>\n",
       "      <td>-501.331529</td>\n",
       "      <td>10.039245</td>\n",
       "      <td>-500.169983</td>\n",
       "      <td>7.984757</td>\n",
       "      <td>-500.582168</td>\n",
       "      <td>13.998353</td>\n",
       "      <td>-599.787184</td>\n",
       "    </tr>\n",
       "    <tr>\n",
       "      <th>2016-01-15 02:00:00</th>\n",
       "      <td>6.055926</td>\n",
       "      <td>10.213995</td>\n",
       "      <td>5.383759</td>\n",
       "      <td>42.657501</td>\n",
       "      <td>68.116445</td>\n",
       "      <td>10.507046</td>\n",
       "      <td>0.953716</td>\n",
       "      <td>16.208849</td>\n",
       "      <td>2.257889</td>\n",
       "      <td>123.819808</td>\n",
       "      <td>...</td>\n",
       "      <td>14.015015</td>\n",
       "      <td>-502.520901</td>\n",
       "      <td>11.912783</td>\n",
       "      <td>-501.133383</td>\n",
       "      <td>10.070913</td>\n",
       "      <td>-500.129135</td>\n",
       "      <td>8.013877</td>\n",
       "      <td>-500.517572</td>\n",
       "      <td>14.028663</td>\n",
       "      <td>-601.427363</td>\n",
       "    </tr>\n",
       "    <tr>\n",
       "      <th>2016-01-15 03:00:00</th>\n",
       "      <td>6.047977</td>\n",
       "      <td>9.977019</td>\n",
       "      <td>4.858634</td>\n",
       "      <td>42.689819</td>\n",
       "      <td>68.347543</td>\n",
       "      <td>10.422762</td>\n",
       "      <td>0.883763</td>\n",
       "      <td>16.532835</td>\n",
       "      <td>2.146849</td>\n",
       "      <td>122.270188</td>\n",
       "      <td>...</td>\n",
       "      <td>14.036510</td>\n",
       "      <td>-500.857308</td>\n",
       "      <td>11.999550</td>\n",
       "      <td>-501.193686</td>\n",
       "      <td>9.970366</td>\n",
       "      <td>-499.201640</td>\n",
       "      <td>7.977324</td>\n",
       "      <td>-500.255908</td>\n",
       "      <td>14.005551</td>\n",
       "      <td>-599.996129</td>\n",
       "    </tr>\n",
       "    <tr>\n",
       "      <th>2016-01-15 04:00:00</th>\n",
       "      <td>6.148599</td>\n",
       "      <td>10.142511</td>\n",
       "      <td>4.939416</td>\n",
       "      <td>42.774141</td>\n",
       "      <td>66.927016</td>\n",
       "      <td>10.360302</td>\n",
       "      <td>0.792826</td>\n",
       "      <td>16.525686</td>\n",
       "      <td>2.055292</td>\n",
       "      <td>117.988169</td>\n",
       "      <td>...</td>\n",
       "      <td>14.027298</td>\n",
       "      <td>-499.838632</td>\n",
       "      <td>11.953070</td>\n",
       "      <td>-501.053894</td>\n",
       "      <td>9.925709</td>\n",
       "      <td>-501.686727</td>\n",
       "      <td>7.894242</td>\n",
       "      <td>-500.356035</td>\n",
       "      <td>13.996647</td>\n",
       "      <td>-601.496691</td>\n",
       "    </tr>\n",
       "  </tbody>\n",
       "</table>\n",
       "<p>5 rows × 86 columns</p>\n",
       "</div>"
      ],
      "text/plain": [
       "                     final.output.concentrate_ag  final.output.concentrate_pb  \\\n",
       "date                                                                            \n",
       "2016-01-15 00:00:00                     6.055403                     9.889648   \n",
       "2016-01-15 01:00:00                     6.029369                     9.968944   \n",
       "2016-01-15 02:00:00                     6.055926                    10.213995   \n",
       "2016-01-15 03:00:00                     6.047977                     9.977019   \n",
       "2016-01-15 04:00:00                     6.148599                    10.142511   \n",
       "\n",
       "                     final.output.concentrate_sol  \\\n",
       "date                                                \n",
       "2016-01-15 00:00:00                      5.507324   \n",
       "2016-01-15 01:00:00                      5.257781   \n",
       "2016-01-15 02:00:00                      5.383759   \n",
       "2016-01-15 03:00:00                      4.858634   \n",
       "2016-01-15 04:00:00                      4.939416   \n",
       "\n",
       "                     final.output.concentrate_au  final.output.recovery  \\\n",
       "date                                                                      \n",
       "2016-01-15 00:00:00                    42.192020              70.541216   \n",
       "2016-01-15 01:00:00                    42.701629              69.266198   \n",
       "2016-01-15 02:00:00                    42.657501              68.116445   \n",
       "2016-01-15 03:00:00                    42.689819              68.347543   \n",
       "2016-01-15 04:00:00                    42.774141              66.927016   \n",
       "\n",
       "                     final.output.tail_ag  final.output.tail_pb  \\\n",
       "date                                                              \n",
       "2016-01-15 00:00:00             10.411962              0.895447   \n",
       "2016-01-15 01:00:00             10.462676              0.927452   \n",
       "2016-01-15 02:00:00             10.507046              0.953716   \n",
       "2016-01-15 03:00:00             10.422762              0.883763   \n",
       "2016-01-15 04:00:00             10.360302              0.792826   \n",
       "\n",
       "                     final.output.tail_sol  final.output.tail_au  \\\n",
       "date                                                               \n",
       "2016-01-15 00:00:00              16.904297              2.143149   \n",
       "2016-01-15 01:00:00              16.634514              2.224930   \n",
       "2016-01-15 02:00:00              16.208849              2.257889   \n",
       "2016-01-15 03:00:00              16.532835              2.146849   \n",
       "2016-01-15 04:00:00              16.525686              2.055292   \n",
       "\n",
       "                     primary_cleaner.input.sulfate  ...  \\\n",
       "date                                                ...   \n",
       "2016-01-15 00:00:00                     127.092003  ...   \n",
       "2016-01-15 01:00:00                     125.629232  ...   \n",
       "2016-01-15 02:00:00                     123.819808  ...   \n",
       "2016-01-15 03:00:00                     122.270188  ...   \n",
       "2016-01-15 04:00:00                     117.988169  ...   \n",
       "\n",
       "                     secondary_cleaner.state.floatbank4_a_air  \\\n",
       "date                                                            \n",
       "2016-01-15 00:00:00                                 14.016835   \n",
       "2016-01-15 01:00:00                                 13.992281   \n",
       "2016-01-15 02:00:00                                 14.015015   \n",
       "2016-01-15 03:00:00                                 14.036510   \n",
       "2016-01-15 04:00:00                                 14.027298   \n",
       "\n",
       "                     secondary_cleaner.state.floatbank4_a_level  \\\n",
       "date                                                              \n",
       "2016-01-15 00:00:00                                 -502.488007   \n",
       "2016-01-15 01:00:00                                 -505.503262   \n",
       "2016-01-15 02:00:00                                 -502.520901   \n",
       "2016-01-15 03:00:00                                 -500.857308   \n",
       "2016-01-15 04:00:00                                 -499.838632   \n",
       "\n",
       "                     secondary_cleaner.state.floatbank4_b_air  \\\n",
       "date                                                            \n",
       "2016-01-15 00:00:00                                 12.099931   \n",
       "2016-01-15 01:00:00                                 11.950531   \n",
       "2016-01-15 02:00:00                                 11.912783   \n",
       "2016-01-15 03:00:00                                 11.999550   \n",
       "2016-01-15 04:00:00                                 11.953070   \n",
       "\n",
       "                     secondary_cleaner.state.floatbank4_b_level  \\\n",
       "date                                                              \n",
       "2016-01-15 00:00:00                                 -504.715942   \n",
       "2016-01-15 01:00:00                                 -501.331529   \n",
       "2016-01-15 02:00:00                                 -501.133383   \n",
       "2016-01-15 03:00:00                                 -501.193686   \n",
       "2016-01-15 04:00:00                                 -501.053894   \n",
       "\n",
       "                     secondary_cleaner.state.floatbank5_a_air  \\\n",
       "date                                                            \n",
       "2016-01-15 00:00:00                                  9.925633   \n",
       "2016-01-15 01:00:00                                 10.039245   \n",
       "2016-01-15 02:00:00                                 10.070913   \n",
       "2016-01-15 03:00:00                                  9.970366   \n",
       "2016-01-15 04:00:00                                  9.925709   \n",
       "\n",
       "                     secondary_cleaner.state.floatbank5_a_level  \\\n",
       "date                                                              \n",
       "2016-01-15 00:00:00                                 -498.310211   \n",
       "2016-01-15 01:00:00                                 -500.169983   \n",
       "2016-01-15 02:00:00                                 -500.129135   \n",
       "2016-01-15 03:00:00                                 -499.201640   \n",
       "2016-01-15 04:00:00                                 -501.686727   \n",
       "\n",
       "                     secondary_cleaner.state.floatbank5_b_air  \\\n",
       "date                                                            \n",
       "2016-01-15 00:00:00                                  8.079666   \n",
       "2016-01-15 01:00:00                                  7.984757   \n",
       "2016-01-15 02:00:00                                  8.013877   \n",
       "2016-01-15 03:00:00                                  7.977324   \n",
       "2016-01-15 04:00:00                                  7.894242   \n",
       "\n",
       "                     secondary_cleaner.state.floatbank5_b_level  \\\n",
       "date                                                              \n",
       "2016-01-15 00:00:00                                 -500.470978   \n",
       "2016-01-15 01:00:00                                 -500.582168   \n",
       "2016-01-15 02:00:00                                 -500.517572   \n",
       "2016-01-15 03:00:00                                 -500.255908   \n",
       "2016-01-15 04:00:00                                 -500.356035   \n",
       "\n",
       "                     secondary_cleaner.state.floatbank6_a_air  \\\n",
       "date                                                            \n",
       "2016-01-15 00:00:00                                 14.151341   \n",
       "2016-01-15 01:00:00                                 13.998353   \n",
       "2016-01-15 02:00:00                                 14.028663   \n",
       "2016-01-15 03:00:00                                 14.005551   \n",
       "2016-01-15 04:00:00                                 13.996647   \n",
       "\n",
       "                     secondary_cleaner.state.floatbank6_a_level  \n",
       "date                                                             \n",
       "2016-01-15 00:00:00                                 -605.841980  \n",
       "2016-01-15 01:00:00                                 -599.787184  \n",
       "2016-01-15 02:00:00                                 -601.427363  \n",
       "2016-01-15 03:00:00                                 -599.996129  \n",
       "2016-01-15 04:00:00                                 -601.496691  \n",
       "\n",
       "[5 rows x 86 columns]"
      ]
     },
     "metadata": {},
     "output_type": "display_data"
    }
   ],
   "source": [
    "check_df(df_full)"
   ]
  },
  {
   "cell_type": "markdown",
   "metadata": {},
   "source": [
    "*Вывод*:\n",
    "- Выгрузили данные и изучили их;\n",
    "- Во многих признках есть пропуски."
   ]
  },
  {
   "cell_type": "code",
   "execution_count": 7,
   "metadata": {},
   "outputs": [],
   "source": [
    "# Напишем функцию для рассчета эффективности обогащения\n",
    "def efficiency_recovery(rougher_output, rougher_input, rougher_tail):\n",
    "    recovery = (rougher_output * (rougher_input - rougher_tail)) / (rougher_input * (rougher_output - rougher_tail)) * 100\n",
    "    \n",
    "    recovery[recovery < 0] = np.nan\n",
    "    recovery[recovery > 100] = np.nan\n",
    "    return recovery"
   ]
  },
  {
   "cell_type": "code",
   "execution_count": 8,
   "metadata": {},
   "outputs": [],
   "source": [
    "# Применим функцию и найдем эффективность обогащения\n",
    "efficiency = efficiency_recovery(df_train['rougher.output.concentrate_au'], \n",
    "    df_train['rougher.input.feed_au'], \n",
    "    df_train['rougher.output.tail_au'])"
   ]
  },
  {
   "cell_type": "code",
   "execution_count": 9,
   "metadata": {},
   "outputs": [
    {
     "name": "stdout",
     "output_type": "stream",
     "text": [
      "count    14149.000000\n",
      "mean        82.704502\n",
      "std         14.479156\n",
      "min         -0.000000\n",
      "25%         79.993067\n",
      "50%         85.299462\n",
      "75%         90.165021\n",
      "max        100.000000\n",
      "dtype: float64\n"
     ]
    }
   ],
   "source": [
    "print(efficiency.describe())"
   ]
  },
  {
   "cell_type": "code",
   "execution_count": 10,
   "metadata": {},
   "outputs": [
    {
     "name": "stdout",
     "output_type": "stream",
     "text": [
      "MAE = 9.73512347450521e-15\n"
     ]
    }
   ],
   "source": [
    "# Посчитаем MAE\n",
    "mae_recovery = mean_absolute_error(df_train['rougher.output.recovery'].dropna(), efficiency.dropna())\n",
    "print('MAE =', mae_recovery)"
   ]
  },
  {
   "cell_type": "markdown",
   "metadata": {},
   "source": [
    "*Вывод*:\n",
    "Стандартное отклонение оказалось довольно небольшим, а значит эффективность рассчитана правильно."
   ]
  },
  {
   "cell_type": "code",
   "execution_count": 11,
   "metadata": {},
   "outputs": [
    {
     "name": "stdout",
     "output_type": "stream",
     "text": [
      "final.output.concentrate_ag                           float64\n",
      "final.output.concentrate_pb                           float64\n",
      "final.output.concentrate_sol                          float64\n",
      "final.output.concentrate_au                           float64\n",
      "final.output.recovery                                 float64\n",
      "final.output.tail_ag                                  float64\n",
      "final.output.tail_pb                                  float64\n",
      "final.output.tail_sol                                 float64\n",
      "final.output.tail_au                                  float64\n",
      "primary_cleaner.output.concentrate_ag                 float64\n",
      "primary_cleaner.output.concentrate_pb                 float64\n",
      "primary_cleaner.output.concentrate_sol                float64\n",
      "primary_cleaner.output.concentrate_au                 float64\n",
      "primary_cleaner.output.tail_ag                        float64\n",
      "primary_cleaner.output.tail_pb                        float64\n",
      "primary_cleaner.output.tail_sol                       float64\n",
      "primary_cleaner.output.tail_au                        float64\n",
      "rougher.calculation.sulfate_to_au_concentrate         float64\n",
      "rougher.calculation.floatbank10_sulfate_to_au_feed    float64\n",
      "rougher.calculation.floatbank11_sulfate_to_au_feed    float64\n",
      "rougher.calculation.au_pb_ratio                       float64\n",
      "rougher.output.concentrate_ag                         float64\n",
      "rougher.output.concentrate_pb                         float64\n",
      "rougher.output.concentrate_sol                        float64\n",
      "rougher.output.concentrate_au                         float64\n",
      "rougher.output.recovery                               float64\n",
      "rougher.output.tail_ag                                float64\n",
      "rougher.output.tail_pb                                float64\n",
      "rougher.output.tail_sol                               float64\n",
      "rougher.output.tail_au                                float64\n",
      "secondary_cleaner.output.tail_ag                      float64\n",
      "secondary_cleaner.output.tail_pb                      float64\n",
      "secondary_cleaner.output.tail_sol                     float64\n",
      "secondary_cleaner.output.tail_au                      float64\n",
      "dtype: object\n",
      "Количество отсутсвующих признаков в тестовой выборке: 34\n"
     ]
    }
   ],
   "source": [
    "# Выведем признаки, которые недоступны в тестовой выборке\n",
    "a = df_test.columns\n",
    "b = df_train.columns\n",
    "c = []\n",
    "for i in b:\n",
    "    if i not in a:\n",
    "        c.append(i)\n",
    "print(df_train[c].dtypes)\n",
    "print(\"Количество отсутсвующих признаков в тестовой выборке:\", len(c))"
   ]
  },
  {
   "cell_type": "markdown",
   "metadata": {},
   "source": [
    "*Вывод*:\n",
    "- Скорее всего, в тестовом датасете отсутсвуют те признаки, которые являются либо целевыми, либо расчетными;\n",
    "- Все признаки имеют тип данных float64."
   ]
  },
  {
   "cell_type": "code",
   "execution_count": 12,
   "metadata": {},
   "outputs": [
    {
     "name": "stdout",
     "output_type": "stream",
     "text": [
      "Количество дупликатов: 0\n"
     ]
    }
   ],
   "source": [
    "print(\"Количество дупликатов:\", df_train.duplicated().sum())"
   ]
  },
  {
   "cell_type": "code",
   "execution_count": 13,
   "metadata": {},
   "outputs": [
    {
     "name": "stdout",
     "output_type": "stream",
     "text": [
      "Количество дупликатов: 0\n"
     ]
    }
   ],
   "source": [
    "print(\"Количество дупликатов:\", df_test.duplicated().sum())"
   ]
  },
  {
   "cell_type": "code",
   "execution_count": 14,
   "metadata": {},
   "outputs": [
    {
     "name": "stdout",
     "output_type": "stream",
     "text": [
      "Количество дупликатов: 0\n"
     ]
    }
   ],
   "source": [
    "print(\"Количество дупликатов:\", df_full.duplicated().sum())"
   ]
  },
  {
   "cell_type": "code",
   "execution_count": 15,
   "metadata": {},
   "outputs": [
    {
     "name": "stdout",
     "output_type": "stream",
     "text": [
      "(5290, 52)\n",
      "(5290, 54)\n"
     ]
    }
   ],
   "source": [
    "# Вытянем соответствующие по индексам таргеты из df_full для df_test\n",
    "print(df_test.shape)\n",
    "df_test = df_test.merge(df_full[TARGETS].loc[df_test.index], on='date', how='left')\n",
    "print(df_test.shape)"
   ]
  },
  {
   "cell_type": "code",
   "execution_count": 16,
   "metadata": {},
   "outputs": [],
   "source": [
    "# Удалим строки с пропусками в таргетах\n",
    "df_train = df_train.dropna(subset=TARGETS)\n",
    "df_test = df_test.dropna(subset=TARGETS)"
   ]
  },
  {
   "cell_type": "code",
   "execution_count": 17,
   "metadata": {},
   "outputs": [],
   "source": [
    "# Заполним пропуски в датасетах ближайшими предыдущими значениями \n",
    "df_train = df_train.fillna(method='ffill')\n",
    "df_test = df_test.fillna(method='ffill')"
   ]
  },
  {
   "cell_type": "markdown",
   "metadata": {},
   "source": [
    "**Вывод**:\n",
    "- Загрузили и изучили данные;\n",
    "- Посчитали метрику MAE между расчетами и значениями признака 'rougher.output.recovery' и сделали вывод;\n",
    "- Проанализировали признаки, которых нет в тестовой выборке: ими оказались целевые признаки или расчетные признаки;\n",
    "- Убедились в том, что дубликатов нет;\n",
    "- Заполнили пропуски предыдущими значениями из строки."
   ]
  },
  {
   "cell_type": "markdown",
   "metadata": {},
   "source": [
    "## Анализ данных"
   ]
  },
  {
   "cell_type": "code",
   "execution_count": 18,
   "metadata": {},
   "outputs": [
    {
     "data": {
      "image/png": "[encoded data removed]",
      "text/plain": [
       "<Figure size 1440x360 with 1 Axes>"
      ]
     },
     "metadata": {
      "needs_background": "light"
     },
     "output_type": "display_data"
    },
    {
     "data": {
      "image/png": "[encoded data removed]",
      "text/plain": [
       "<Figure size 1440x360 with 1 Axes>"
      ]
     },
     "metadata": {
      "needs_background": "light"
     },
     "output_type": "display_data"
    },
    {
     "data": {
      "image/png": "[encoded data removed]",
      "text/plain": [
       "<Figure size 1440x360 with 1 Axes>"
      ]
     },
     "metadata": {
      "needs_background": "light"
     },
     "output_type": "display_data"
    }
   ],
   "source": [
    "# Изменение концетрации на разных этапах очистки\n",
    "for metal in METALS:\n",
    "    met = [f'{x}_{metal}' for x in CONCENTRATE]\n",
    "    \n",
    "    df_full[met].plot(\n",
    "        title = f'Изменение концентрации на разных этапах очистки для {metal}',\n",
    "        kind='hist', \n",
    "        bins=200, \n",
    "        grid=True, \n",
    "        legend=True,\n",
    "        figsize=(20, 5),\n",
    "        alpha=0.5,\n",
    "    ).set(xlabel='concentrate') \n",
    "    \n",
    "    plt.show()"
   ]
  },
  {
   "cell_type": "code",
   "execution_count": 19,
   "metadata": {},
   "outputs": [],
   "source": [
    "# Создадим датафрейм со средними значениями концентрации трех металлов (Au, Ag, Pb) на каждом этапе очистки\n",
    "mean_conc_df = pd.DataFrame({'rougher.input.feed':[df_full['rougher.input.feed_au'].mean(), df_full['rougher.input.feed_ag'].mean(),\n",
    "                            df_full['rougher.input.feed_pb'].mean()], 'rougher.output.concentrate':[df_full['rougher.output.concentrate_au'].mean(),\n",
    "                            df_full['rougher.output.concentrate_ag'].mean(), df_full['rougher.output.concentrate_pb'].mean()],\n",
    "                             'primary_cleaner.output.concentrate':[df_full['primary_cleaner.output.concentrate_au'].mean(), df_full['primary_cleaner.output.concentrate_ag'].mean(), \n",
    "                            df_full['primary_cleaner.output.concentrate_pb'].mean()], 'final.output.concentrate':[df_full['final.output.concentrate_au'].mean(),\n",
    "                            df_full['final.output.concentrate_ag'].mean(), df_full['final.output.concentrate_pb'].mean()]}, index=['au', 'ag', 'pb'])"
   ]
  },
  {
   "cell_type": "code",
   "execution_count": 20,
   "metadata": {},
   "outputs": [
    {
     "data": {
      "text/html": [
       "<div>\n",
       "<style scoped>\n",
       "    .dataframe tbody tr th:only-of-type {\n",
       "        vertical-align: middle;\n",
       "    }\n",
       "\n",
       "    .dataframe tbody tr th {\n",
       "        vertical-align: top;\n",
       "    }\n",
       "\n",
       "    .dataframe thead th {\n",
       "        text-align: right;\n",
       "    }\n",
       "</style>\n",
       "<table border=\"1\" class=\"dataframe\">\n",
       "  <thead>\n",
       "    <tr style=\"text-align: right;\">\n",
       "      <th></th>\n",
       "      <th>rougher.input.feed</th>\n",
       "      <th>rougher.output.concentrate</th>\n",
       "      <th>primary_cleaner.output.concentrate</th>\n",
       "      <th>final.output.concentrate</th>\n",
       "    </tr>\n",
       "  </thead>\n",
       "  <tbody>\n",
       "    <tr>\n",
       "      <th>au</th>\n",
       "      <td>8.266097</td>\n",
       "      <td>19.772000</td>\n",
       "      <td>32.119400</td>\n",
       "      <td>44.076513</td>\n",
       "    </tr>\n",
       "    <tr>\n",
       "      <th>ag</th>\n",
       "      <td>8.794927</td>\n",
       "      <td>11.994759</td>\n",
       "      <td>8.442408</td>\n",
       "      <td>5.168470</td>\n",
       "    </tr>\n",
       "    <tr>\n",
       "      <th>pb</th>\n",
       "      <td>3.598085</td>\n",
       "      <td>7.606272</td>\n",
       "      <td>9.829530</td>\n",
       "      <td>9.978895</td>\n",
       "    </tr>\n",
       "  </tbody>\n",
       "</table>\n",
       "</div>"
      ],
      "text/plain": [
       "    rougher.input.feed  rougher.output.concentrate  \\\n",
       "au            8.266097                   19.772000   \n",
       "ag            8.794927                   11.994759   \n",
       "pb            3.598085                    7.606272   \n",
       "\n",
       "    primary_cleaner.output.concentrate  final.output.concentrate  \n",
       "au                           32.119400                 44.076513  \n",
       "ag                            8.442408                  5.168470  \n",
       "pb                            9.829530                  9.978895  "
      ]
     },
     "execution_count": 20,
     "metadata": {},
     "output_type": "execute_result"
    }
   ],
   "source": [
    "mean_conc_df"
   ]
  },
  {
   "cell_type": "code",
   "execution_count": 21,
   "metadata": {},
   "outputs": [
    {
     "data": {
      "image/png": "[encoded data removed]",
      "text/plain": [
       "<Figure size 792x360 with 1 Axes>"
      ]
     },
     "metadata": {
      "needs_background": "light"
     },
     "output_type": "display_data"
    }
   ],
   "source": [
    "for metal in METALS:\n",
    "    mean_conc_df.loc[metal].plot(title='Изменение концентрации на разных этапах очистки', \n",
    "        grid=True, \n",
    "        legend=True, \n",
    "        figsize=(11, 5)\n",
    "    ).set(xlabel='stage', ylabel ='concentrate')\n",
    "plt.show()"
   ]
  },
  {
   "cell_type": "markdown",
   "metadata": {},
   "source": [
    "Вывод об изменении концентрации металлов на разных этапах очистки:\n",
    "- Концентрация Au линейно растет. В конечном итоге она возросла в 5,33 раз;\n",
    "- Концентрация Ag возрастала до второго этапа, а позже стала падать. В итоге концентрация уменьшилась в 1,7 раз;\n",
    "- Концентрация Pb плавно возрастала и изменилась в 2,77 раз."
   ]
  },
  {
   "cell_type": "code",
   "execution_count": 22,
   "metadata": {},
   "outputs": [
    {
     "data": {
      "image/png": "[encoded data removed]",
      "text/plain": [
       "<Figure size 792x360 with 1 Axes>"
      ]
     },
     "metadata": {
      "needs_background": "light"
     },
     "output_type": "display_data"
    },
    {
     "data": {
      "image/png": "[encoded data removed]",
      "text/plain": [
       "<Figure size 792x360 with 1 Axes>"
      ]
     },
     "metadata": {
      "needs_background": "light"
     },
     "output_type": "display_data"
    }
   ],
   "source": [
    "# Сравним распределение размеров гранул сырья на обучающей и тестовой выборках\n",
    "for metric in ('rougher.input.feed_size', 'primary_cleaner.input.feed_size'):\n",
    "    for label, df in (('train', df_train), ('test', df_test)): \n",
    "        df[metric].plot(\n",
    "                title = 'Сравнение распределения размеров гранул сырья на обучающей и тестовой выборках для {}'.format(metric),\n",
    "                kind='hist', \n",
    "                bins=100, \n",
    "                grid=True, \n",
    "                legend=True,\n",
    "                figsize=(11, 5),\n",
    "                alpha=0.5,\n",
    "                label=label,\n",
    "            ).set(xlabel='concentrate')\n",
    "  \n",
    "    plt.show()"
   ]
  },
  {
   "cell_type": "markdown",
   "metadata": {},
   "source": [
    "*Вывод*: распределения мало отличаются друг от друга, а следовательно оценка будет правильной."
   ]
  },
  {
   "cell_type": "code",
   "execution_count": 23,
   "metadata": {},
   "outputs": [
    {
     "data": {
      "text/html": [
       "<div>\n",
       "<style scoped>\n",
       "    .dataframe tbody tr th:only-of-type {\n",
       "        vertical-align: middle;\n",
       "    }\n",
       "\n",
       "    .dataframe tbody tr th {\n",
       "        vertical-align: top;\n",
       "    }\n",
       "\n",
       "    .dataframe thead th {\n",
       "        text-align: right;\n",
       "    }\n",
       "</style>\n",
       "<table border=\"1\" class=\"dataframe\">\n",
       "  <thead>\n",
       "    <tr style=\"text-align: right;\">\n",
       "      <th></th>\n",
       "      <th>rougher.input.feed</th>\n",
       "      <th>rougher.output.concentrate</th>\n",
       "      <th>primary_cleaner.output.concentrate</th>\n",
       "      <th>final.output.concentrate</th>\n",
       "    </tr>\n",
       "    <tr>\n",
       "      <th>date</th>\n",
       "      <th></th>\n",
       "      <th></th>\n",
       "      <th></th>\n",
       "      <th></th>\n",
       "    </tr>\n",
       "  </thead>\n",
       "  <tbody>\n",
       "    <tr>\n",
       "      <th>2016-01-15 00:00:00</th>\n",
       "      <td>51.680034</td>\n",
       "      <td>66.424950</td>\n",
       "      <td>72.640924</td>\n",
       "      <td>63.644396</td>\n",
       "    </tr>\n",
       "    <tr>\n",
       "      <th>2016-01-15 01:00:00</th>\n",
       "      <td>50.659114</td>\n",
       "      <td>67.012710</td>\n",
       "      <td>72.543485</td>\n",
       "      <td>63.957723</td>\n",
       "    </tr>\n",
       "    <tr>\n",
       "      <th>2016-01-15 02:00:00</th>\n",
       "      <td>50.609929</td>\n",
       "      <td>66.103793</td>\n",
       "      <td>72.095042</td>\n",
       "      <td>64.311180</td>\n",
       "    </tr>\n",
       "    <tr>\n",
       "      <th>2016-01-15 03:00:00</th>\n",
       "      <td>51.061546</td>\n",
       "      <td>65.752751</td>\n",
       "      <td>59.957723</td>\n",
       "      <td>63.573449</td>\n",
       "    </tr>\n",
       "    <tr>\n",
       "      <th>2016-01-15 04:00:00</th>\n",
       "      <td>47.859163</td>\n",
       "      <td>65.908382</td>\n",
       "      <td>71.321010</td>\n",
       "      <td>64.004667</td>\n",
       "    </tr>\n",
       "    <tr>\n",
       "      <th>2016-01-15 05:00:00</th>\n",
       "      <td>48.838521</td>\n",
       "      <td>64.955919</td>\n",
       "      <td>70.607932</td>\n",
       "      <td>63.646320</td>\n",
       "    </tr>\n",
       "    <tr>\n",
       "      <th>2016-01-15 06:00:00</th>\n",
       "      <td>49.120760</td>\n",
       "      <td>65.372419</td>\n",
       "      <td>71.165854</td>\n",
       "      <td>63.156407</td>\n",
       "    </tr>\n",
       "    <tr>\n",
       "      <th>2016-01-15 07:00:00</th>\n",
       "      <td>50.790724</td>\n",
       "      <td>65.180132</td>\n",
       "      <td>71.533310</td>\n",
       "      <td>62.908843</td>\n",
       "    </tr>\n",
       "    <tr>\n",
       "      <th>2016-01-15 08:00:00</th>\n",
       "      <td>50.550288</td>\n",
       "      <td>65.625127</td>\n",
       "      <td>72.072013</td>\n",
       "      <td>64.185763</td>\n",
       "    </tr>\n",
       "    <tr>\n",
       "      <th>2016-01-15 09:00:00</th>\n",
       "      <td>51.941235</td>\n",
       "      <td>65.408849</td>\n",
       "      <td>71.887397</td>\n",
       "      <td>64.185200</td>\n",
       "    </tr>\n",
       "  </tbody>\n",
       "</table>\n",
       "</div>"
      ],
      "text/plain": [
       "                     rougher.input.feed  rougher.output.concentrate  \\\n",
       "date                                                                  \n",
       "2016-01-15 00:00:00           51.680034                   66.424950   \n",
       "2016-01-15 01:00:00           50.659114                   67.012710   \n",
       "2016-01-15 02:00:00           50.609929                   66.103793   \n",
       "2016-01-15 03:00:00           51.061546                   65.752751   \n",
       "2016-01-15 04:00:00           47.859163                   65.908382   \n",
       "2016-01-15 05:00:00           48.838521                   64.955919   \n",
       "2016-01-15 06:00:00           49.120760                   65.372419   \n",
       "2016-01-15 07:00:00           50.790724                   65.180132   \n",
       "2016-01-15 08:00:00           50.550288                   65.625127   \n",
       "2016-01-15 09:00:00           51.941235                   65.408849   \n",
       "\n",
       "                     primary_cleaner.output.concentrate  \\\n",
       "date                                                      \n",
       "2016-01-15 00:00:00                           72.640924   \n",
       "2016-01-15 01:00:00                           72.543485   \n",
       "2016-01-15 02:00:00                           72.095042   \n",
       "2016-01-15 03:00:00                           59.957723   \n",
       "2016-01-15 04:00:00                           71.321010   \n",
       "2016-01-15 05:00:00                           70.607932   \n",
       "2016-01-15 06:00:00                           71.165854   \n",
       "2016-01-15 07:00:00                           71.533310   \n",
       "2016-01-15 08:00:00                           72.072013   \n",
       "2016-01-15 09:00:00                           71.887397   \n",
       "\n",
       "                     final.output.concentrate  \n",
       "date                                           \n",
       "2016-01-15 00:00:00                 63.644396  \n",
       "2016-01-15 01:00:00                 63.957723  \n",
       "2016-01-15 02:00:00                 64.311180  \n",
       "2016-01-15 03:00:00                 63.573449  \n",
       "2016-01-15 04:00:00                 64.004667  \n",
       "2016-01-15 05:00:00                 63.646320  \n",
       "2016-01-15 06:00:00                 63.156407  \n",
       "2016-01-15 07:00:00                 62.908843  \n",
       "2016-01-15 08:00:00                 64.185763  \n",
       "2016-01-15 09:00:00                 64.185200  "
      ]
     },
     "execution_count": 23,
     "metadata": {},
     "output_type": "execute_result"
    }
   ],
   "source": [
    "# Суммарная концентрация веществ на разных стадиях. Добавили эту информацию в df_train\n",
    "for metric in CONCENTRATE:\n",
    "    df_train[metric] = 0\n",
    "    for metal in METALS + ['sol']:\n",
    "        df_train[metric] += df_train['{}_{}'.format(metric, metal)]\n",
    "    \n",
    "df_train[CONCENTRATE].head(10)"
   ]
  },
  {
   "cell_type": "code",
   "execution_count": 24,
   "metadata": {},
   "outputs": [],
   "source": [
    "# Функция для визуализации данных\n",
    "def concen_desc(column):\n",
    "    display(column.describe())\n",
    "    display(column.plot(kind='hist', grid=True, bins=40))\n",
    "    plt.show()\n",
    "    display(column.plot(kind='box', grid=True))\n",
    "    plt.show()"
   ]
  },
  {
   "cell_type": "code",
   "execution_count": 25,
   "metadata": {},
   "outputs": [
    {
     "data": {
      "text/plain": [
       "count    14149.000000\n",
       "mean        56.242170\n",
       "std          7.029808\n",
       "min          0.040000\n",
       "25%         52.573579\n",
       "50%         56.627635\n",
       "75%         60.763234\n",
       "max         74.458253\n",
       "Name: rougher.input.feed, dtype: float64"
      ]
     },
     "metadata": {},
     "output_type": "display_data"
    },
    {
     "data": {
      "text/plain": [
       "<AxesSubplot:ylabel='Frequency'>"
      ]
     },
     "metadata": {},
     "output_type": "display_data"
    },
    {
     "data": {
      "image/png": "[encoded data removed]",
      "text/plain": [
       "<Figure size 432x288 with 1 Axes>"
      ]
     },
     "metadata": {
      "needs_background": "light"
     },
     "output_type": "display_data"
    },
    {
     "data": {
      "text/plain": [
       "<AxesSubplot:>"
      ]
     },
     "metadata": {},
     "output_type": "display_data"
    },
    {
     "data": {
      "image/png": "[encoded data removed]",
      "text/plain": [
       "<Figure size 432x288 with 1 Axes>"
      ]
     },
     "metadata": {
      "needs_background": "light"
     },
     "output_type": "display_data"
    }
   ],
   "source": [
    "concen_desc(df_train['rougher.input.feed'])"
   ]
  },
  {
   "cell_type": "code",
   "execution_count": 26,
   "metadata": {},
   "outputs": [
    {
     "data": {
      "text/plain": [
       "count    14149.000000\n",
       "mean        67.173145\n",
       "std         12.713129\n",
       "min          0.000000\n",
       "25%         64.914390\n",
       "50%         69.175663\n",
       "75%         73.429261\n",
       "max         88.140119\n",
       "Name: rougher.output.concentrate, dtype: float64"
      ]
     },
     "metadata": {},
     "output_type": "display_data"
    },
    {
     "data": {
      "text/plain": [
       "<AxesSubplot:ylabel='Frequency'>"
      ]
     },
     "metadata": {},
     "output_type": "display_data"
    },
    {
     "data": {
      "image/png": "[encoded data removed]",
      "text/plain": [
       "<Figure size 432x288 with 1 Axes>"
      ]
     },
     "metadata": {
      "needs_background": "light"
     },
     "output_type": "display_data"
    },
    {
     "data": {
      "text/plain": [
       "<AxesSubplot:>"
      ]
     },
     "metadata": {},
     "output_type": "display_data"
    },
    {
     "data": {
      "image/png": "[encoded data removed]",
      "text/plain": [
       "<Figure size 432x288 with 1 Axes>"
      ]
     },
     "metadata": {
      "needs_background": "light"
     },
     "output_type": "display_data"
    }
   ],
   "source": [
    "concen_desc(df_train['rougher.output.concentrate'])"
   ]
  },
  {
   "cell_type": "code",
   "execution_count": 27,
   "metadata": {},
   "outputs": [
    {
     "data": {
      "text/plain": [
       "count    14149.000000\n",
       "mean        60.172546\n",
       "std         10.448165\n",
       "min          0.000000\n",
       "25%         58.046816\n",
       "50%         61.786946\n",
       "75%         65.355951\n",
       "max         76.918076\n",
       "Name: primary_cleaner.output.concentrate, dtype: float64"
      ]
     },
     "metadata": {},
     "output_type": "display_data"
    },
    {
     "data": {
      "text/plain": [
       "<AxesSubplot:ylabel='Frequency'>"
      ]
     },
     "metadata": {},
     "output_type": "display_data"
    },
    {
     "data": {
      "image/png": "[encoded data removed]",
      "text/plain": [
       "<Figure size 432x288 with 1 Axes>"
      ]
     },
     "metadata": {
      "needs_background": "light"
     },
     "output_type": "display_data"
    },
    {
     "data": {
      "text/plain": [
       "<AxesSubplot:>"
      ]
     },
     "metadata": {},
     "output_type": "display_data"
    },
    {
     "data": {
      "image/png": "[encoded data removed]",
      "text/plain": [
       "<Figure size 432x288 with 1 Axes>"
      ]
     },
     "metadata": {
      "needs_background": "light"
     },
     "output_type": "display_data"
    }
   ],
   "source": [
    "concen_desc(df_train['primary_cleaner.output.concentrate'])"
   ]
  },
  {
   "cell_type": "code",
   "execution_count": 28,
   "metadata": {},
   "outputs": [
    {
     "data": {
      "text/plain": [
       "count    14149.000000\n",
       "mean        68.387872\n",
       "std          7.023723\n",
       "min          0.000000\n",
       "25%         67.559819\n",
       "50%         69.141502\n",
       "75%         70.974661\n",
       "max         80.210644\n",
       "Name: final.output.concentrate, dtype: float64"
      ]
     },
     "metadata": {},
     "output_type": "display_data"
    },
    {
     "data": {
      "text/plain": [
       "<AxesSubplot:ylabel='Frequency'>"
      ]
     },
     "metadata": {},
     "output_type": "display_data"
    },
    {
     "data": {
      "image/png": "[encoded data removed]",
      "text/plain": [
       "<Figure size 432x288 with 1 Axes>"
      ]
     },
     "metadata": {
      "needs_background": "light"
     },
     "output_type": "display_data"
    },
    {
     "data": {
      "text/plain": [
       "<AxesSubplot:>"
      ]
     },
     "metadata": {},
     "output_type": "display_data"
    },
    {
     "data": {
      "image/png": "[encoded data removed]",
      "text/plain": [
       "<Figure size 432x288 with 1 Axes>"
      ]
     },
     "metadata": {
      "needs_background": "light"
     },
     "output_type": "display_data"
    }
   ],
   "source": [
    "concen_desc(df_train['final.output.concentrate'])"
   ]
  },
  {
   "cell_type": "code",
   "execution_count": 29,
   "metadata": {},
   "outputs": [],
   "source": [
    "def function_1(df, concentrate):\n",
    "    for col in concentrate:\n",
    "        q1 = df[col].quantile(q=0.25)\n",
    "        q3 = df[col].quantile(q=0.75)\n",
    "        iqr = q3-q1\n",
    "        df = df.loc[df[col] > (q1 - 1.5*iqr)]\n",
    "        df = df.loc[df[col] < (q3 + 1.5*iqr)]\n",
    "    return df    "
   ]
  },
  {
   "cell_type": "code",
   "execution_count": 30,
   "metadata": {},
   "outputs": [
    {
     "data": {
      "text/html": [
       "<div>\n",
       "<style scoped>\n",
       "    .dataframe tbody tr th:only-of-type {\n",
       "        vertical-align: middle;\n",
       "    }\n",
       "\n",
       "    .dataframe tbody tr th {\n",
       "        vertical-align: top;\n",
       "    }\n",
       "\n",
       "    .dataframe thead th {\n",
       "        text-align: right;\n",
       "    }\n",
       "</style>\n",
       "<table border=\"1\" class=\"dataframe\">\n",
       "  <thead>\n",
       "    <tr style=\"text-align: right;\">\n",
       "      <th></th>\n",
       "      <th>final.output.concentrate_ag</th>\n",
       "      <th>final.output.concentrate_pb</th>\n",
       "      <th>final.output.concentrate_sol</th>\n",
       "      <th>final.output.concentrate_au</th>\n",
       "      <th>final.output.recovery</th>\n",
       "      <th>final.output.tail_ag</th>\n",
       "      <th>final.output.tail_pb</th>\n",
       "      <th>final.output.tail_sol</th>\n",
       "      <th>final.output.tail_au</th>\n",
       "      <th>primary_cleaner.input.sulfate</th>\n",
       "      <th>...</th>\n",
       "      <th>secondary_cleaner.state.floatbank5_a_air</th>\n",
       "      <th>secondary_cleaner.state.floatbank5_a_level</th>\n",
       "      <th>secondary_cleaner.state.floatbank5_b_air</th>\n",
       "      <th>secondary_cleaner.state.floatbank5_b_level</th>\n",
       "      <th>secondary_cleaner.state.floatbank6_a_air</th>\n",
       "      <th>secondary_cleaner.state.floatbank6_a_level</th>\n",
       "      <th>rougher.input.feed</th>\n",
       "      <th>rougher.output.concentrate</th>\n",
       "      <th>primary_cleaner.output.concentrate</th>\n",
       "      <th>final.output.concentrate</th>\n",
       "    </tr>\n",
       "    <tr>\n",
       "      <th>date</th>\n",
       "      <th></th>\n",
       "      <th></th>\n",
       "      <th></th>\n",
       "      <th></th>\n",
       "      <th></th>\n",
       "      <th></th>\n",
       "      <th></th>\n",
       "      <th></th>\n",
       "      <th></th>\n",
       "      <th></th>\n",
       "      <th></th>\n",
       "      <th></th>\n",
       "      <th></th>\n",
       "      <th></th>\n",
       "      <th></th>\n",
       "      <th></th>\n",
       "      <th></th>\n",
       "      <th></th>\n",
       "      <th></th>\n",
       "      <th></th>\n",
       "      <th></th>\n",
       "    </tr>\n",
       "  </thead>\n",
       "  <tbody>\n",
       "    <tr>\n",
       "      <th>2016-01-15 00:00:00</th>\n",
       "      <td>6.055403</td>\n",
       "      <td>9.889648</td>\n",
       "      <td>5.507324</td>\n",
       "      <td>42.192020</td>\n",
       "      <td>70.541216</td>\n",
       "      <td>10.411962</td>\n",
       "      <td>0.895447</td>\n",
       "      <td>16.904297</td>\n",
       "      <td>2.143149</td>\n",
       "      <td>127.092003</td>\n",
       "      <td>...</td>\n",
       "      <td>9.925633</td>\n",
       "      <td>-498.310211</td>\n",
       "      <td>8.079666</td>\n",
       "      <td>-500.470978</td>\n",
       "      <td>14.151341</td>\n",
       "      <td>-605.841980</td>\n",
       "      <td>51.680034</td>\n",
       "      <td>66.424950</td>\n",
       "      <td>72.640924</td>\n",
       "      <td>63.644396</td>\n",
       "    </tr>\n",
       "    <tr>\n",
       "      <th>2016-01-15 01:00:00</th>\n",
       "      <td>6.029369</td>\n",
       "      <td>9.968944</td>\n",
       "      <td>5.257781</td>\n",
       "      <td>42.701629</td>\n",
       "      <td>69.266198</td>\n",
       "      <td>10.462676</td>\n",
       "      <td>0.927452</td>\n",
       "      <td>16.634514</td>\n",
       "      <td>2.224930</td>\n",
       "      <td>125.629232</td>\n",
       "      <td>...</td>\n",
       "      <td>10.039245</td>\n",
       "      <td>-500.169983</td>\n",
       "      <td>7.984757</td>\n",
       "      <td>-500.582168</td>\n",
       "      <td>13.998353</td>\n",
       "      <td>-599.787184</td>\n",
       "      <td>50.659114</td>\n",
       "      <td>67.012710</td>\n",
       "      <td>72.543485</td>\n",
       "      <td>63.957723</td>\n",
       "    </tr>\n",
       "    <tr>\n",
       "      <th>2016-01-15 02:00:00</th>\n",
       "      <td>6.055926</td>\n",
       "      <td>10.213995</td>\n",
       "      <td>5.383759</td>\n",
       "      <td>42.657501</td>\n",
       "      <td>68.116445</td>\n",
       "      <td>10.507046</td>\n",
       "      <td>0.953716</td>\n",
       "      <td>16.208849</td>\n",
       "      <td>2.257889</td>\n",
       "      <td>123.819808</td>\n",
       "      <td>...</td>\n",
       "      <td>10.070913</td>\n",
       "      <td>-500.129135</td>\n",
       "      <td>8.013877</td>\n",
       "      <td>-500.517572</td>\n",
       "      <td>14.028663</td>\n",
       "      <td>-601.427363</td>\n",
       "      <td>50.609929</td>\n",
       "      <td>66.103793</td>\n",
       "      <td>72.095042</td>\n",
       "      <td>64.311180</td>\n",
       "    </tr>\n",
       "    <tr>\n",
       "      <th>2016-01-15 03:00:00</th>\n",
       "      <td>6.047977</td>\n",
       "      <td>9.977019</td>\n",
       "      <td>4.858634</td>\n",
       "      <td>42.689819</td>\n",
       "      <td>68.347543</td>\n",
       "      <td>10.422762</td>\n",
       "      <td>0.883763</td>\n",
       "      <td>16.532835</td>\n",
       "      <td>2.146849</td>\n",
       "      <td>122.270188</td>\n",
       "      <td>...</td>\n",
       "      <td>9.970366</td>\n",
       "      <td>-499.201640</td>\n",
       "      <td>7.977324</td>\n",
       "      <td>-500.255908</td>\n",
       "      <td>14.005551</td>\n",
       "      <td>-599.996129</td>\n",
       "      <td>51.061546</td>\n",
       "      <td>65.752751</td>\n",
       "      <td>59.957723</td>\n",
       "      <td>63.573449</td>\n",
       "    </tr>\n",
       "    <tr>\n",
       "      <th>2016-01-15 04:00:00</th>\n",
       "      <td>6.148599</td>\n",
       "      <td>10.142511</td>\n",
       "      <td>4.939416</td>\n",
       "      <td>42.774141</td>\n",
       "      <td>66.927016</td>\n",
       "      <td>10.360302</td>\n",
       "      <td>0.792826</td>\n",
       "      <td>16.525686</td>\n",
       "      <td>2.055292</td>\n",
       "      <td>117.988169</td>\n",
       "      <td>...</td>\n",
       "      <td>9.925709</td>\n",
       "      <td>-501.686727</td>\n",
       "      <td>7.894242</td>\n",
       "      <td>-500.356035</td>\n",
       "      <td>13.996647</td>\n",
       "      <td>-601.496691</td>\n",
       "      <td>47.859163</td>\n",
       "      <td>65.908382</td>\n",
       "      <td>71.321010</td>\n",
       "      <td>64.004667</td>\n",
       "    </tr>\n",
       "    <tr>\n",
       "      <th>...</th>\n",
       "      <td>...</td>\n",
       "      <td>...</td>\n",
       "      <td>...</td>\n",
       "      <td>...</td>\n",
       "      <td>...</td>\n",
       "      <td>...</td>\n",
       "      <td>...</td>\n",
       "      <td>...</td>\n",
       "      <td>...</td>\n",
       "      <td>...</td>\n",
       "      <td>...</td>\n",
       "      <td>...</td>\n",
       "      <td>...</td>\n",
       "      <td>...</td>\n",
       "      <td>...</td>\n",
       "      <td>...</td>\n",
       "      <td>...</td>\n",
       "      <td>...</td>\n",
       "      <td>...</td>\n",
       "      <td>...</td>\n",
       "      <td>...</td>\n",
       "    </tr>\n",
       "    <tr>\n",
       "      <th>2018-08-18 06:59:59</th>\n",
       "      <td>3.224920</td>\n",
       "      <td>11.356233</td>\n",
       "      <td>6.803482</td>\n",
       "      <td>46.713954</td>\n",
       "      <td>73.755150</td>\n",
       "      <td>8.769645</td>\n",
       "      <td>3.141541</td>\n",
       "      <td>10.403181</td>\n",
       "      <td>1.529220</td>\n",
       "      <td>123.381787</td>\n",
       "      <td>...</td>\n",
       "      <td>18.006038</td>\n",
       "      <td>-499.834374</td>\n",
       "      <td>13.001114</td>\n",
       "      <td>-500.155694</td>\n",
       "      <td>20.007840</td>\n",
       "      <td>-501.296428</td>\n",
       "      <td>53.415050</td>\n",
       "      <td>70.781325</td>\n",
       "      <td>59.001692</td>\n",
       "      <td>68.098589</td>\n",
       "    </tr>\n",
       "    <tr>\n",
       "      <th>2018-08-18 07:59:59</th>\n",
       "      <td>3.195978</td>\n",
       "      <td>11.349355</td>\n",
       "      <td>6.862249</td>\n",
       "      <td>46.866780</td>\n",
       "      <td>69.049291</td>\n",
       "      <td>8.897321</td>\n",
       "      <td>3.130493</td>\n",
       "      <td>10.549470</td>\n",
       "      <td>1.612542</td>\n",
       "      <td>120.878188</td>\n",
       "      <td>...</td>\n",
       "      <td>17.998535</td>\n",
       "      <td>-500.395178</td>\n",
       "      <td>12.954048</td>\n",
       "      <td>-499.895163</td>\n",
       "      <td>19.968498</td>\n",
       "      <td>-501.041608</td>\n",
       "      <td>53.696482</td>\n",
       "      <td>70.539603</td>\n",
       "      <td>59.703912</td>\n",
       "      <td>68.274362</td>\n",
       "    </tr>\n",
       "    <tr>\n",
       "      <th>2018-08-18 08:59:59</th>\n",
       "      <td>3.109998</td>\n",
       "      <td>11.434366</td>\n",
       "      <td>6.886013</td>\n",
       "      <td>46.795691</td>\n",
       "      <td>67.002189</td>\n",
       "      <td>8.529606</td>\n",
       "      <td>2.911418</td>\n",
       "      <td>11.115147</td>\n",
       "      <td>1.596616</td>\n",
       "      <td>105.666118</td>\n",
       "      <td>...</td>\n",
       "      <td>18.019543</td>\n",
       "      <td>-500.451156</td>\n",
       "      <td>13.023431</td>\n",
       "      <td>-499.914391</td>\n",
       "      <td>19.990885</td>\n",
       "      <td>-501.518452</td>\n",
       "      <td>54.589604</td>\n",
       "      <td>55.376330</td>\n",
       "      <td>59.561096</td>\n",
       "      <td>68.226068</td>\n",
       "    </tr>\n",
       "    <tr>\n",
       "      <th>2018-08-18 09:59:59</th>\n",
       "      <td>3.367241</td>\n",
       "      <td>11.625587</td>\n",
       "      <td>6.799433</td>\n",
       "      <td>46.408188</td>\n",
       "      <td>65.523246</td>\n",
       "      <td>8.777171</td>\n",
       "      <td>2.819214</td>\n",
       "      <td>10.463847</td>\n",
       "      <td>1.602879</td>\n",
       "      <td>98.880538</td>\n",
       "      <td>...</td>\n",
       "      <td>17.979515</td>\n",
       "      <td>-499.272871</td>\n",
       "      <td>12.992404</td>\n",
       "      <td>-499.976268</td>\n",
       "      <td>20.013986</td>\n",
       "      <td>-500.625471</td>\n",
       "      <td>54.027355</td>\n",
       "      <td>69.201689</td>\n",
       "      <td>57.216686</td>\n",
       "      <td>68.200449</td>\n",
       "    </tr>\n",
       "    <tr>\n",
       "      <th>2018-08-18 10:59:59</th>\n",
       "      <td>3.598375</td>\n",
       "      <td>11.737832</td>\n",
       "      <td>6.717509</td>\n",
       "      <td>46.299438</td>\n",
       "      <td>70.281454</td>\n",
       "      <td>8.406690</td>\n",
       "      <td>2.517518</td>\n",
       "      <td>10.652193</td>\n",
       "      <td>1.389434</td>\n",
       "      <td>95.248427</td>\n",
       "      <td>...</td>\n",
       "      <td>17.963512</td>\n",
       "      <td>-499.939490</td>\n",
       "      <td>12.990306</td>\n",
       "      <td>-500.080993</td>\n",
       "      <td>19.990336</td>\n",
       "      <td>-499.191575</td>\n",
       "      <td>53.535054</td>\n",
       "      <td>69.544003</td>\n",
       "      <td>55.748041</td>\n",
       "      <td>68.353154</td>\n",
       "    </tr>\n",
       "  </tbody>\n",
       "</table>\n",
       "<p>11855 rows × 90 columns</p>\n",
       "</div>"
      ],
      "text/plain": [
       "                     final.output.concentrate_ag  final.output.concentrate_pb  \\\n",
       "date                                                                            \n",
       "2016-01-15 00:00:00                     6.055403                     9.889648   \n",
       "2016-01-15 01:00:00                     6.029369                     9.968944   \n",
       "2016-01-15 02:00:00                     6.055926                    10.213995   \n",
       "2016-01-15 03:00:00                     6.047977                     9.977019   \n",
       "2016-01-15 04:00:00                     6.148599                    10.142511   \n",
       "...                                          ...                          ...   \n",
       "2018-08-18 06:59:59                     3.224920                    11.356233   \n",
       "2018-08-18 07:59:59                     3.195978                    11.349355   \n",
       "2018-08-18 08:59:59                     3.109998                    11.434366   \n",
       "2018-08-18 09:59:59                     3.367241                    11.625587   \n",
       "2018-08-18 10:59:59                     3.598375                    11.737832   \n",
       "\n",
       "                     final.output.concentrate_sol  \\\n",
       "date                                                \n",
       "2016-01-15 00:00:00                      5.507324   \n",
       "2016-01-15 01:00:00                      5.257781   \n",
       "2016-01-15 02:00:00                      5.383759   \n",
       "2016-01-15 03:00:00                      4.858634   \n",
       "2016-01-15 04:00:00                      4.939416   \n",
       "...                                           ...   \n",
       "2018-08-18 06:59:59                      6.803482   \n",
       "2018-08-18 07:59:59                      6.862249   \n",
       "2018-08-18 08:59:59                      6.886013   \n",
       "2018-08-18 09:59:59                      6.799433   \n",
       "2018-08-18 10:59:59                      6.717509   \n",
       "\n",
       "                     final.output.concentrate_au  final.output.recovery  \\\n",
       "date                                                                      \n",
       "2016-01-15 00:00:00                    42.192020              70.541216   \n",
       "2016-01-15 01:00:00                    42.701629              69.266198   \n",
       "2016-01-15 02:00:00                    42.657501              68.116445   \n",
       "2016-01-15 03:00:00                    42.689819              68.347543   \n",
       "2016-01-15 04:00:00                    42.774141              66.927016   \n",
       "...                                          ...                    ...   \n",
       "2018-08-18 06:59:59                    46.713954              73.755150   \n",
       "2018-08-18 07:59:59                    46.866780              69.049291   \n",
       "2018-08-18 08:59:59                    46.795691              67.002189   \n",
       "2018-08-18 09:59:59                    46.408188              65.523246   \n",
       "2018-08-18 10:59:59                    46.299438              70.281454   \n",
       "\n",
       "                     final.output.tail_ag  final.output.tail_pb  \\\n",
       "date                                                              \n",
       "2016-01-15 00:00:00             10.411962              0.895447   \n",
       "2016-01-15 01:00:00             10.462676              0.927452   \n",
       "2016-01-15 02:00:00             10.507046              0.953716   \n",
       "2016-01-15 03:00:00             10.422762              0.883763   \n",
       "2016-01-15 04:00:00             10.360302              0.792826   \n",
       "...                                   ...                   ...   \n",
       "2018-08-18 06:59:59              8.769645              3.141541   \n",
       "2018-08-18 07:59:59              8.897321              3.130493   \n",
       "2018-08-18 08:59:59              8.529606              2.911418   \n",
       "2018-08-18 09:59:59              8.777171              2.819214   \n",
       "2018-08-18 10:59:59              8.406690              2.517518   \n",
       "\n",
       "                     final.output.tail_sol  final.output.tail_au  \\\n",
       "date                                                               \n",
       "2016-01-15 00:00:00              16.904297              2.143149   \n",
       "2016-01-15 01:00:00              16.634514              2.224930   \n",
       "2016-01-15 02:00:00              16.208849              2.257889   \n",
       "2016-01-15 03:00:00              16.532835              2.146849   \n",
       "2016-01-15 04:00:00              16.525686              2.055292   \n",
       "...                                    ...                   ...   \n",
       "2018-08-18 06:59:59              10.403181              1.529220   \n",
       "2018-08-18 07:59:59              10.549470              1.612542   \n",
       "2018-08-18 08:59:59              11.115147              1.596616   \n",
       "2018-08-18 09:59:59              10.463847              1.602879   \n",
       "2018-08-18 10:59:59              10.652193              1.389434   \n",
       "\n",
       "                     primary_cleaner.input.sulfate  ...  \\\n",
       "date                                                ...   \n",
       "2016-01-15 00:00:00                     127.092003  ...   \n",
       "2016-01-15 01:00:00                     125.629232  ...   \n",
       "2016-01-15 02:00:00                     123.819808  ...   \n",
       "2016-01-15 03:00:00                     122.270188  ...   \n",
       "2016-01-15 04:00:00                     117.988169  ...   \n",
       "...                                            ...  ...   \n",
       "2018-08-18 06:59:59                     123.381787  ...   \n",
       "2018-08-18 07:59:59                     120.878188  ...   \n",
       "2018-08-18 08:59:59                     105.666118  ...   \n",
       "2018-08-18 09:59:59                      98.880538  ...   \n",
       "2018-08-18 10:59:59                      95.248427  ...   \n",
       "\n",
       "                     secondary_cleaner.state.floatbank5_a_air  \\\n",
       "date                                                            \n",
       "2016-01-15 00:00:00                                  9.925633   \n",
       "2016-01-15 01:00:00                                 10.039245   \n",
       "2016-01-15 02:00:00                                 10.070913   \n",
       "2016-01-15 03:00:00                                  9.970366   \n",
       "2016-01-15 04:00:00                                  9.925709   \n",
       "...                                                       ...   \n",
       "2018-08-18 06:59:59                                 18.006038   \n",
       "2018-08-18 07:59:59                                 17.998535   \n",
       "2018-08-18 08:59:59                                 18.019543   \n",
       "2018-08-18 09:59:59                                 17.979515   \n",
       "2018-08-18 10:59:59                                 17.963512   \n",
       "\n",
       "                     secondary_cleaner.state.floatbank5_a_level  \\\n",
       "date                                                              \n",
       "2016-01-15 00:00:00                                 -498.310211   \n",
       "2016-01-15 01:00:00                                 -500.169983   \n",
       "2016-01-15 02:00:00                                 -500.129135   \n",
       "2016-01-15 03:00:00                                 -499.201640   \n",
       "2016-01-15 04:00:00                                 -501.686727   \n",
       "...                                                         ...   \n",
       "2018-08-18 06:59:59                                 -499.834374   \n",
       "2018-08-18 07:59:59                                 -500.395178   \n",
       "2018-08-18 08:59:59                                 -500.451156   \n",
       "2018-08-18 09:59:59                                 -499.272871   \n",
       "2018-08-18 10:59:59                                 -499.939490   \n",
       "\n",
       "                     secondary_cleaner.state.floatbank5_b_air  \\\n",
       "date                                                            \n",
       "2016-01-15 00:00:00                                  8.079666   \n",
       "2016-01-15 01:00:00                                  7.984757   \n",
       "2016-01-15 02:00:00                                  8.013877   \n",
       "2016-01-15 03:00:00                                  7.977324   \n",
       "2016-01-15 04:00:00                                  7.894242   \n",
       "...                                                       ...   \n",
       "2018-08-18 06:59:59                                 13.001114   \n",
       "2018-08-18 07:59:59                                 12.954048   \n",
       "2018-08-18 08:59:59                                 13.023431   \n",
       "2018-08-18 09:59:59                                 12.992404   \n",
       "2018-08-18 10:59:59                                 12.990306   \n",
       "\n",
       "                     secondary_cleaner.state.floatbank5_b_level  \\\n",
       "date                                                              \n",
       "2016-01-15 00:00:00                                 -500.470978   \n",
       "2016-01-15 01:00:00                                 -500.582168   \n",
       "2016-01-15 02:00:00                                 -500.517572   \n",
       "2016-01-15 03:00:00                                 -500.255908   \n",
       "2016-01-15 04:00:00                                 -500.356035   \n",
       "...                                                         ...   \n",
       "2018-08-18 06:59:59                                 -500.155694   \n",
       "2018-08-18 07:59:59                                 -499.895163   \n",
       "2018-08-18 08:59:59                                 -499.914391   \n",
       "2018-08-18 09:59:59                                 -499.976268   \n",
       "2018-08-18 10:59:59                                 -500.080993   \n",
       "\n",
       "                     secondary_cleaner.state.floatbank6_a_air  \\\n",
       "date                                                            \n",
       "2016-01-15 00:00:00                                 14.151341   \n",
       "2016-01-15 01:00:00                                 13.998353   \n",
       "2016-01-15 02:00:00                                 14.028663   \n",
       "2016-01-15 03:00:00                                 14.005551   \n",
       "2016-01-15 04:00:00                                 13.996647   \n",
       "...                                                       ...   \n",
       "2018-08-18 06:59:59                                 20.007840   \n",
       "2018-08-18 07:59:59                                 19.968498   \n",
       "2018-08-18 08:59:59                                 19.990885   \n",
       "2018-08-18 09:59:59                                 20.013986   \n",
       "2018-08-18 10:59:59                                 19.990336   \n",
       "\n",
       "                     secondary_cleaner.state.floatbank6_a_level  \\\n",
       "date                                                              \n",
       "2016-01-15 00:00:00                                 -605.841980   \n",
       "2016-01-15 01:00:00                                 -599.787184   \n",
       "2016-01-15 02:00:00                                 -601.427363   \n",
       "2016-01-15 03:00:00                                 -599.996129   \n",
       "2016-01-15 04:00:00                                 -601.496691   \n",
       "...                                                         ...   \n",
       "2018-08-18 06:59:59                                 -501.296428   \n",
       "2018-08-18 07:59:59                                 -501.041608   \n",
       "2018-08-18 08:59:59                                 -501.518452   \n",
       "2018-08-18 09:59:59                                 -500.625471   \n",
       "2018-08-18 10:59:59                                 -499.191575   \n",
       "\n",
       "                     rougher.input.feed  rougher.output.concentrate  \\\n",
       "date                                                                  \n",
       "2016-01-15 00:00:00           51.680034                   66.424950   \n",
       "2016-01-15 01:00:00           50.659114                   67.012710   \n",
       "2016-01-15 02:00:00           50.609929                   66.103793   \n",
       "2016-01-15 03:00:00           51.061546                   65.752751   \n",
       "2016-01-15 04:00:00           47.859163                   65.908382   \n",
       "...                                 ...                         ...   \n",
       "2018-08-18 06:59:59           53.415050                   70.781325   \n",
       "2018-08-18 07:59:59           53.696482                   70.539603   \n",
       "2018-08-18 08:59:59           54.589604                   55.376330   \n",
       "2018-08-18 09:59:59           54.027355                   69.201689   \n",
       "2018-08-18 10:59:59           53.535054                   69.544003   \n",
       "\n",
       "                     primary_cleaner.output.concentrate  \\\n",
       "date                                                      \n",
       "2016-01-15 00:00:00                           72.640924   \n",
       "2016-01-15 01:00:00                           72.543485   \n",
       "2016-01-15 02:00:00                           72.095042   \n",
       "2016-01-15 03:00:00                           59.957723   \n",
       "2016-01-15 04:00:00                           71.321010   \n",
       "...                                                 ...   \n",
       "2018-08-18 06:59:59                           59.001692   \n",
       "2018-08-18 07:59:59                           59.703912   \n",
       "2018-08-18 08:59:59                           59.561096   \n",
       "2018-08-18 09:59:59                           57.216686   \n",
       "2018-08-18 10:59:59                           55.748041   \n",
       "\n",
       "                     final.output.concentrate  \n",
       "date                                           \n",
       "2016-01-15 00:00:00                 63.644396  \n",
       "2016-01-15 01:00:00                 63.957723  \n",
       "2016-01-15 02:00:00                 64.311180  \n",
       "2016-01-15 03:00:00                 63.573449  \n",
       "2016-01-15 04:00:00                 64.004667  \n",
       "...                                       ...  \n",
       "2018-08-18 06:59:59                 68.098589  \n",
       "2018-08-18 07:59:59                 68.274362  \n",
       "2018-08-18 08:59:59                 68.226068  \n",
       "2018-08-18 09:59:59                 68.200449  \n",
       "2018-08-18 10:59:59                 68.353154  \n",
       "\n",
       "[11855 rows x 90 columns]"
      ]
     },
     "execution_count": 30,
     "metadata": {},
     "output_type": "execute_result"
    }
   ],
   "source": [
    "function_1(df_train, CONCENTRATE)"
   ]
  },
  {
   "cell_type": "markdown",
   "metadata": {},
   "source": [
    "*Вывод*:\n",
    "- Исследовали суммарную концентрацию всех металлов на каждом этапе обработки;\n",
    "- В тренировочной выборке удалили строки, содержащие аномальные значения - 16,2% от объема всей выборки."
   ]
  },
  {
   "cell_type": "markdown",
   "metadata": {},
   "source": [
    "## Модель"
   ]
  },
  {
   "cell_type": "code",
   "execution_count": 38,
   "metadata": {},
   "outputs": [],
   "source": [
    "# Напишем функцию для расчета итоговой sMAPE\n",
    "def smape(target, prediction):\n",
    "    prediction_df = pd.DataFrame(prediction)\n",
    "    target_1 = np.array(target['rougher.output.recovery'])\n",
    "    prediction_1 = np.array(prediction_df.loc[:, 1])\n",
    "    target_2 = np.array(target['final.output.recovery'])\n",
    "    prediction_2 = np.array(prediction_df.loc[:, 0])\n",
    "    \n",
    "    count_1 = np.sum(2 * np.abs(target_1 - prediction_1) / (np.abs(target_1) + np.abs(prediction_1) + 1e-10))\n",
    "    smape_rougher = (count_1 / len(target_1)) * 100 \n",
    "   \n",
    "    count_2 =  np.sum(2 * np.abs(target_2 - prediction_2) / (np.abs(target_2) + np.abs(prediction_2) + 1e-10))\n",
    "    smape_final = (count_2 / len(target_2)) * 100 \n",
    "    grand_smape = 0.25 * smape_rougher + 0.75 * smape_final\n",
    "    return grand_smape"
   ]
  },
  {
   "cell_type": "code",
   "execution_count": 32,
   "metadata": {},
   "outputs": [],
   "source": [
    "# Функция для нахождения разницы в столбцах между двумя датасетами\n",
    "def fields_diff(first_df, second_df):\n",
    "    return set(first_df.columns.to_list()) - set(second_df.columns.to_list())"
   ]
  },
  {
   "cell_type": "code",
   "execution_count": 33,
   "metadata": {},
   "outputs": [
    {
     "name": "stdout",
     "output_type": "stream",
     "text": [
      "{'secondary_cleaner.output.tail_au', 'primary_cleaner.output.concentrate_pb', 'primary_cleaner.output.tail_ag', 'primary_cleaner.output.tail_pb', 'final.output.concentrate', 'rougher.calculation.floatbank11_sulfate_to_au_feed', 'rougher.output.concentrate_sol', 'primary_cleaner.output.concentrate', 'primary_cleaner.output.concentrate_ag', 'final.output.concentrate_au', 'final.output.tail_pb', 'final.output.concentrate_pb', 'rougher.input.feed', 'primary_cleaner.output.concentrate_sol', 'rougher.output.concentrate_ag', 'final.output.tail_sol', 'primary_cleaner.output.tail_sol', 'rougher.output.tail_sol', 'secondary_cleaner.output.tail_ag', 'rougher.output.tail_au', 'final.output.concentrate_sol', 'primary_cleaner.output.concentrate_au', 'final.output.tail_ag', 'rougher.output.concentrate_pb', 'rougher.output.concentrate_au', 'final.output.concentrate_ag', 'rougher.calculation.au_pb_ratio', 'rougher.calculation.sulfate_to_au_concentrate', 'final.output.tail_au', 'rougher.output.concentrate', 'secondary_cleaner.output.tail_pb', 'secondary_cleaner.output.tail_sol', 'rougher.output.tail_ag', 'rougher.output.tail_pb', 'primary_cleaner.output.tail_au', 'rougher.calculation.floatbank10_sulfate_to_au_feed'}\n",
      "set()\n",
      "set()\n"
     ]
    }
   ],
   "source": [
    "# Удалим ненужные столбцы\n",
    "missing_test_fields = fields_diff(df_train, df_test)\n",
    "print(missing_test_fields)\n",
    "df_train = df_train.drop(missing_test_fields, axis='columns')\n",
    "print(fields_diff(df_train, df_test))\n",
    "print(fields_diff(df_test, df_train))\n"
   ]
  },
  {
   "cell_type": "code",
   "execution_count": 39,
   "metadata": {},
   "outputs": [],
   "source": [
    "# Создаем scorer\n",
    "scorer = make_scorer(smape, greater_is_better=False)"
   ]
  },
  {
   "cell_type": "code",
   "execution_count": 35,
   "metadata": {},
   "outputs": [],
   "source": [
    "# Разделим датасеты на признаки и таргеты\n",
    "features_train = df_train.drop(TARGETS, axis=1)\n",
    "target_train = df_train[TARGETS]\n",
    "features_test = df_test.drop(TARGETS, axis=1)\n",
    "target_test = df_test[TARGETS]"
   ]
  },
  {
   "cell_type": "code",
   "execution_count": 36,
   "metadata": {},
   "outputs": [
    {
     "data": {
      "text/html": [
       "<div>\n",
       "<style scoped>\n",
       "    .dataframe tbody tr th:only-of-type {\n",
       "        vertical-align: middle;\n",
       "    }\n",
       "\n",
       "    .dataframe tbody tr th {\n",
       "        vertical-align: top;\n",
       "    }\n",
       "\n",
       "    .dataframe thead th {\n",
       "        text-align: right;\n",
       "    }\n",
       "</style>\n",
       "<table border=\"1\" class=\"dataframe\">\n",
       "  <thead>\n",
       "    <tr style=\"text-align: right;\">\n",
       "      <th></th>\n",
       "      <th>final.output.recovery</th>\n",
       "      <th>rougher.output.recovery</th>\n",
       "    </tr>\n",
       "    <tr>\n",
       "      <th>date</th>\n",
       "      <th></th>\n",
       "      <th></th>\n",
       "    </tr>\n",
       "  </thead>\n",
       "  <tbody>\n",
       "    <tr>\n",
       "      <th>2016-01-15 00:00:00</th>\n",
       "      <td>70.541216</td>\n",
       "      <td>87.107763</td>\n",
       "    </tr>\n",
       "    <tr>\n",
       "      <th>2016-01-15 01:00:00</th>\n",
       "      <td>69.266198</td>\n",
       "      <td>86.843261</td>\n",
       "    </tr>\n",
       "    <tr>\n",
       "      <th>2016-01-15 02:00:00</th>\n",
       "      <td>68.116445</td>\n",
       "      <td>86.842308</td>\n",
       "    </tr>\n",
       "    <tr>\n",
       "      <th>2016-01-15 03:00:00</th>\n",
       "      <td>68.347543</td>\n",
       "      <td>87.226430</td>\n",
       "    </tr>\n",
       "    <tr>\n",
       "      <th>2016-01-15 04:00:00</th>\n",
       "      <td>66.927016</td>\n",
       "      <td>86.688794</td>\n",
       "    </tr>\n",
       "    <tr>\n",
       "      <th>...</th>\n",
       "      <td>...</td>\n",
       "      <td>...</td>\n",
       "    </tr>\n",
       "    <tr>\n",
       "      <th>2018-08-18 06:59:59</th>\n",
       "      <td>73.755150</td>\n",
       "      <td>89.574376</td>\n",
       "    </tr>\n",
       "    <tr>\n",
       "      <th>2018-08-18 07:59:59</th>\n",
       "      <td>69.049291</td>\n",
       "      <td>87.724007</td>\n",
       "    </tr>\n",
       "    <tr>\n",
       "      <th>2018-08-18 08:59:59</th>\n",
       "      <td>67.002189</td>\n",
       "      <td>88.890579</td>\n",
       "    </tr>\n",
       "    <tr>\n",
       "      <th>2018-08-18 09:59:59</th>\n",
       "      <td>65.523246</td>\n",
       "      <td>89.858126</td>\n",
       "    </tr>\n",
       "    <tr>\n",
       "      <th>2018-08-18 10:59:59</th>\n",
       "      <td>70.281454</td>\n",
       "      <td>89.514960</td>\n",
       "    </tr>\n",
       "  </tbody>\n",
       "</table>\n",
       "<p>14149 rows × 2 columns</p>\n",
       "</div>"
      ],
      "text/plain": [
       "                     final.output.recovery  rougher.output.recovery\n",
       "date                                                               \n",
       "2016-01-15 00:00:00              70.541216                87.107763\n",
       "2016-01-15 01:00:00              69.266198                86.843261\n",
       "2016-01-15 02:00:00              68.116445                86.842308\n",
       "2016-01-15 03:00:00              68.347543                87.226430\n",
       "2016-01-15 04:00:00              66.927016                86.688794\n",
       "...                                    ...                      ...\n",
       "2018-08-18 06:59:59              73.755150                89.574376\n",
       "2018-08-18 07:59:59              69.049291                87.724007\n",
       "2018-08-18 08:59:59              67.002189                88.890579\n",
       "2018-08-18 09:59:59              65.523246                89.858126\n",
       "2018-08-18 10:59:59              70.281454                89.514960\n",
       "\n",
       "[14149 rows x 2 columns]"
      ]
     },
     "execution_count": 36,
     "metadata": {},
     "output_type": "execute_result"
    }
   ],
   "source": [
    "target_train"
   ]
  },
  {
   "cell_type": "code",
   "execution_count": 40,
   "metadata": {
    "scrolled": true
   },
   "outputs": [
    {
     "name": "stdout",
     "output_type": "stream",
     "text": [
      "Лучшее значение sMAPE для дерева решений: 10.952668842668487 при значениях гиперпараметров: {'max_depth': 5}\n"
     ]
    }
   ],
   "source": [
    "# Решающее дерево\n",
    "param_grid = {'max_depth': range(2, 15)}\n",
    "\n",
    "model_1 = DecisionTreeRegressor(random_state=RANDOM_STATE)\n",
    "search_1 = GridSearchCV(model_1, param_grid, cv=5, scoring=scorer)\n",
    "search_1.fit(features_train, target_train)\n",
    "print('Лучшее значение sMAPE для дерева решений: {} при значениях гиперпараметров: {}'.format(-search_1.best_score_, search_1.best_params_))"
   ]
  },
  {
   "cell_type": "code",
   "execution_count": 41,
   "metadata": {},
   "outputs": [
    {
     "name": "stdout",
     "output_type": "stream",
     "text": [
      "Лучшее значение sMAPE для случайного леса: 11.010986634646349 при значениях гиперпараметров: {'n_estimators': 15}\n"
     ]
    }
   ],
   "source": [
    "# Случайный лес\n",
    "param_grid = {'n_estimators': range(10, 40, 5)}\n",
    "\n",
    "model_2 = RandomForestRegressor(max_depth=2, random_state=RANDOM_STATE)\n",
    "search_2 = GridSearchCV(model_2, param_grid, cv=5, scoring=scorer)\n",
    "search_2.fit(features_train, target_train)\n",
    "print('Лучшее значение sMAPE для случайного леса: {} при значениях гиперпараметров: {}'.format(-search_2.best_score_, search_2.best_params_))"
   ]
  },
  {
   "cell_type": "code",
   "execution_count": 39,
   "metadata": {},
   "outputs": [
    {
     "name": "stdout",
     "output_type": "stream",
     "text": [
      "Значение sMAPE для линейной регрессии: 12.38459610484718\n"
     ]
    }
   ],
   "source": [
    "# Линейная регрессия \n",
    "model_3 = LinearRegression()\n",
    "search_3 = cross_val_score(model_3, features_train, target_train, cv=5, scoring=scorer)\n",
    "print('Значение sMAPE для линейной регрессии: {}'.format(pd.Series(-search_3).mean()))"
   ]
  },
  {
   "cell_type": "code",
   "execution_count": 40,
   "metadata": {},
   "outputs": [
    {
     "name": "stdout",
     "output_type": "stream",
     "text": [
      "Итоговое sMAPE для DummyRegressor: 10.289630376021035\n"
     ]
    }
   ],
   "source": [
    "# Проверка моделей на адекватность\n",
    "model_4 = DummyRegressor(strategy=\"mean\")\n",
    "model_4.fit(features_train, target_train)\n",
    "predictions_4 = model_4.predict(features_test)\n",
    "print('Итоговое sMAPE для DummyRegressor:',smape(\n",
    "    target_test, predictions_4).mean())"
   ]
  },
  {
   "cell_type": "code",
   "execution_count": 41,
   "metadata": {},
   "outputs": [
    {
     "name": "stdout",
     "output_type": "stream",
     "text": [
      "9.770087850011732\n"
     ]
    }
   ],
   "source": [
    "# Проверка лучшей модели на тестовой выборке\n",
    "predictions = search_1.predict(features_test)\n",
    "x = smape(target_test, predictions)\n",
    "print(x)"
   ]
  },
  {
   "cell_type": "markdown",
   "metadata": {},
   "source": [
    "***Вывод:***\n",
    "Было обучено три модели. Лучшая модель - дерево решений с показателем smape = 11.008386560119698. Проверили лучшую модель на тестовой выборке и получили показатель smape = 9.770087850011732."
   ]
  }
 ],
 "metadata": {
  "ExecuteTimeLog": [
   {
    "duration": 450,
    "start_time": "2022-11-17T19:30:30.807Z"
   },
   {
    "duration": 89,
    "start_time": "2022-11-17T19:30:31.259Z"
   },
   {
    "duration": 3142,
    "start_time": "2022-11-17T19:31:03.492Z"
   },
   {
    "duration": 24,
    "start_time": "2022-11-17T19:42:21.183Z"
   },
   {
    "duration": 30,
    "start_time": "2022-11-17T19:43:02.587Z"
   },
   {
    "duration": 22,
    "start_time": "2022-11-17T21:45:27.530Z"
   },
   {
    "duration": 13,
    "start_time": "2022-11-17T21:46:04.437Z"
   },
   {
    "duration": 17,
    "start_time": "2022-11-17T21:47:03.947Z"
   },
   {
    "duration": 365,
    "start_time": "2022-11-30T01:19:07.745Z"
   },
   {
    "duration": 2959,
    "start_time": "2022-11-30T01:19:08.168Z"
   },
   {
    "duration": 3,
    "start_time": "2022-11-30T01:19:12.037Z"
   },
   {
    "duration": 3,
    "start_time": "2022-11-30T01:19:40.219Z"
   },
   {
    "duration": 356,
    "start_time": "2022-11-30T01:19:55.359Z"
   },
   {
    "duration": 668,
    "start_time": "2022-11-30T01:19:55.716Z"
   },
   {
    "duration": 2,
    "start_time": "2022-11-30T01:19:56.386Z"
   },
   {
    "duration": 32,
    "start_time": "2022-11-30T01:19:56.390Z"
   },
   {
    "duration": 357,
    "start_time": "2022-11-30T01:20:07.386Z"
   },
   {
    "duration": 659,
    "start_time": "2022-11-30T01:20:07.745Z"
   },
   {
    "duration": 2,
    "start_time": "2022-11-30T01:20:08.406Z"
   },
   {
    "duration": 75,
    "start_time": "2022-11-30T01:22:45.983Z"
   },
   {
    "duration": 2,
    "start_time": "2022-11-30T01:23:04.042Z"
   },
   {
    "duration": 697,
    "start_time": "2022-11-30T01:23:04.575Z"
   },
   {
    "duration": 52,
    "start_time": "2022-11-30T01:23:05.275Z"
   },
   {
    "duration": 47,
    "start_time": "2022-11-30T01:23:19.475Z"
   },
   {
    "duration": 59,
    "start_time": "2022-11-30T01:23:40.893Z"
   },
   {
    "duration": 3,
    "start_time": "2022-11-30T01:23:49.782Z"
   },
   {
    "duration": 250,
    "start_time": "2022-11-30T01:24:28.318Z"
   },
   {
    "duration": 267,
    "start_time": "2022-11-30T01:24:49.025Z"
   },
   {
    "duration": 131,
    "start_time": "2022-11-30T01:25:19.631Z"
   },
   {
    "duration": 239,
    "start_time": "2022-11-30T01:25:37.043Z"
   },
   {
    "duration": 1002,
    "start_time": "2022-11-30T01:44:50.825Z"
   },
   {
    "duration": 3,
    "start_time": "2022-11-30T01:47:02.044Z"
   },
   {
    "duration": 105,
    "start_time": "2022-11-30T01:49:33.229Z"
   },
   {
    "duration": 3,
    "start_time": "2022-11-30T01:49:47.944Z"
   },
   {
    "duration": 3,
    "start_time": "2022-11-30T01:50:07.405Z"
   },
   {
    "duration": 671,
    "start_time": "2022-11-30T01:50:08.292Z"
   },
   {
    "duration": 3,
    "start_time": "2022-11-30T01:50:09.617Z"
   },
   {
    "duration": 226,
    "start_time": "2022-11-30T01:50:10.113Z"
   },
   {
    "duration": 133,
    "start_time": "2022-11-30T01:50:10.782Z"
   },
   {
    "duration": 256,
    "start_time": "2022-11-30T01:50:11.344Z"
   },
   {
    "duration": 3,
    "start_time": "2022-11-30T01:50:12.701Z"
   },
   {
    "duration": 9,
    "start_time": "2022-11-30T01:50:13.494Z"
   },
   {
    "duration": 5,
    "start_time": "2022-11-30T01:51:33.340Z"
   },
   {
    "duration": 8,
    "start_time": "2022-11-30T01:53:16.736Z"
   },
   {
    "duration": 4,
    "start_time": "2022-11-30T01:53:17.507Z"
   },
   {
    "duration": 8,
    "start_time": "2022-11-30T01:55:41.659Z"
   },
   {
    "duration": 7,
    "start_time": "2022-11-30T01:57:25.449Z"
   },
   {
    "duration": 7,
    "start_time": "2022-11-30T01:57:29.848Z"
   },
   {
    "duration": 5,
    "start_time": "2022-11-30T01:57:31.000Z"
   },
   {
    "duration": 48,
    "start_time": "2022-11-30T08:43:19.100Z"
   },
   {
    "duration": 1463,
    "start_time": "2022-11-30T08:43:25.100Z"
   },
   {
    "duration": 3160,
    "start_time": "2022-11-30T08:43:26.565Z"
   },
   {
    "duration": 3,
    "start_time": "2022-11-30T08:43:29.726Z"
   },
   {
    "duration": 239,
    "start_time": "2022-11-30T08:43:29.790Z"
   },
   {
    "duration": 135,
    "start_time": "2022-11-30T08:43:31.081Z"
   },
   {
    "duration": 250,
    "start_time": "2022-11-30T08:43:32.209Z"
   },
   {
    "duration": 4,
    "start_time": "2022-11-30T08:43:34.913Z"
   },
   {
    "duration": 9,
    "start_time": "2022-11-30T08:43:36.450Z"
   },
   {
    "duration": 8,
    "start_time": "2022-11-30T08:43:37.351Z"
   },
   {
    "duration": 5,
    "start_time": "2022-11-30T08:43:38.159Z"
   },
   {
    "duration": 4,
    "start_time": "2022-11-30T08:43:39.918Z"
   },
   {
    "duration": 5,
    "start_time": "2022-11-30T08:43:56.792Z"
   },
   {
    "duration": 3,
    "start_time": "2022-11-30T08:45:27.007Z"
   },
   {
    "duration": 5,
    "start_time": "2022-11-30T08:46:47.361Z"
   },
   {
    "duration": 4,
    "start_time": "2022-11-30T08:47:10.636Z"
   },
   {
    "duration": 4,
    "start_time": "2022-11-30T08:47:19.968Z"
   },
   {
    "duration": 3,
    "start_time": "2022-11-30T08:47:25.855Z"
   },
   {
    "duration": 5,
    "start_time": "2022-11-30T08:54:27.141Z"
   },
   {
    "duration": 71,
    "start_time": "2022-11-30T08:55:09.472Z"
   },
   {
    "duration": 5,
    "start_time": "2022-11-30T08:55:25.564Z"
   },
   {
    "duration": 15,
    "start_time": "2022-11-30T08:58:41.546Z"
   },
   {
    "duration": 8,
    "start_time": "2022-11-30T08:59:24.429Z"
   },
   {
    "duration": 7,
    "start_time": "2022-11-30T08:59:34.787Z"
   },
   {
    "duration": 7,
    "start_time": "2022-11-30T09:00:12.098Z"
   },
   {
    "duration": 10,
    "start_time": "2022-11-30T09:17:05.906Z"
   },
   {
    "duration": 128,
    "start_time": "2022-11-30T09:17:12.957Z"
   },
   {
    "duration": 112,
    "start_time": "2022-11-30T09:17:25.329Z"
   },
   {
    "duration": 106,
    "start_time": "2022-11-30T09:17:35.984Z"
   },
   {
    "duration": 107,
    "start_time": "2022-11-30T09:17:44.492Z"
   },
   {
    "duration": 19,
    "start_time": "2022-11-30T09:18:03.571Z"
   },
   {
    "duration": 83,
    "start_time": "2022-11-30T09:18:16.783Z"
   },
   {
    "duration": 18,
    "start_time": "2022-11-30T09:20:19.658Z"
   },
   {
    "duration": 104,
    "start_time": "2022-11-30T09:20:22.303Z"
   },
   {
    "duration": 101,
    "start_time": "2022-11-30T09:20:40.405Z"
   },
   {
    "duration": 10,
    "start_time": "2022-11-30T09:47:48.934Z"
   },
   {
    "duration": 11,
    "start_time": "2022-11-30T09:48:59.040Z"
   },
   {
    "duration": 11,
    "start_time": "2022-11-30T09:51:46.666Z"
   },
   {
    "duration": 59,
    "start_time": "2022-11-30T09:52:29.800Z"
   },
   {
    "duration": 4,
    "start_time": "2022-11-30T10:18:15.522Z"
   },
   {
    "duration": 3,
    "start_time": "2022-11-30T10:22:50.846Z"
   },
   {
    "duration": 1410,
    "start_time": "2022-11-30T10:22:59.561Z"
   },
   {
    "duration": 648,
    "start_time": "2022-11-30T10:23:00.973Z"
   },
   {
    "duration": 4,
    "start_time": "2022-11-30T10:23:01.623Z"
   },
   {
    "duration": 397,
    "start_time": "2022-11-30T10:23:01.629Z"
   },
   {
    "duration": 172,
    "start_time": "2022-11-30T10:23:02.027Z"
   },
   {
    "duration": 282,
    "start_time": "2022-11-30T10:23:02.201Z"
   },
   {
    "duration": 4,
    "start_time": "2022-11-30T10:23:02.485Z"
   },
   {
    "duration": 40,
    "start_time": "2022-11-30T10:23:02.490Z"
   },
   {
    "duration": 26,
    "start_time": "2022-11-30T10:23:02.532Z"
   },
   {
    "duration": 19,
    "start_time": "2022-11-30T10:23:02.561Z"
   },
   {
    "duration": 15,
    "start_time": "2022-11-30T10:23:02.582Z"
   },
   {
    "duration": 126,
    "start_time": "2022-11-30T10:23:02.599Z"
   },
   {
    "duration": 20,
    "start_time": "2022-11-30T10:23:02.726Z"
   },
   {
    "duration": 101,
    "start_time": "2022-11-30T10:23:02.748Z"
   },
   {
    "duration": 10,
    "start_time": "2022-11-30T10:23:02.851Z"
   },
   {
    "duration": 11,
    "start_time": "2022-11-30T11:26:36.030Z"
   },
   {
    "duration": 58,
    "start_time": "2022-11-30T11:31:37.916Z"
   },
   {
    "duration": 102,
    "start_time": "2022-11-30T11:33:51.993Z"
   },
   {
    "duration": 1279,
    "start_time": "2022-11-30T11:34:16.485Z"
   },
   {
    "duration": 638,
    "start_time": "2022-11-30T11:34:17.766Z"
   },
   {
    "duration": 3,
    "start_time": "2022-11-30T11:34:18.406Z"
   },
   {
    "duration": 266,
    "start_time": "2022-11-30T11:34:18.411Z"
   },
   {
    "duration": 164,
    "start_time": "2022-11-30T11:34:18.679Z"
   },
   {
    "duration": 309,
    "start_time": "2022-11-30T11:34:18.845Z"
   },
   {
    "duration": 4,
    "start_time": "2022-11-30T11:34:19.156Z"
   },
   {
    "duration": 24,
    "start_time": "2022-11-30T11:34:19.162Z"
   },
   {
    "duration": 30,
    "start_time": "2022-11-30T11:34:19.188Z"
   },
   {
    "duration": 24,
    "start_time": "2022-11-30T11:34:19.219Z"
   },
   {
    "duration": 18,
    "start_time": "2022-11-30T11:34:19.245Z"
   },
   {
    "duration": 128,
    "start_time": "2022-11-30T11:34:19.265Z"
   },
   {
    "duration": 23,
    "start_time": "2022-11-30T11:34:19.395Z"
   },
   {
    "duration": 101,
    "start_time": "2022-11-30T11:34:19.420Z"
   },
   {
    "duration": 12,
    "start_time": "2022-11-30T11:34:19.523Z"
   },
   {
    "duration": 123,
    "start_time": "2022-11-30T11:34:19.537Z"
   },
   {
    "duration": 4363,
    "start_time": "2022-11-30T11:34:31.203Z"
   },
   {
    "duration": 4717,
    "start_time": "2022-11-30T11:35:19.291Z"
   },
   {
    "duration": 4270,
    "start_time": "2022-11-30T11:47:44.854Z"
   },
   {
    "duration": 1590,
    "start_time": "2022-12-01T09:11:49.884Z"
   },
   {
    "duration": 2589,
    "start_time": "2022-12-01T09:11:51.475Z"
   },
   {
    "duration": 3,
    "start_time": "2022-12-01T09:11:54.066Z"
   },
   {
    "duration": 292,
    "start_time": "2022-12-01T09:11:54.071Z"
   },
   {
    "duration": 144,
    "start_time": "2022-12-01T09:11:54.365Z"
   },
   {
    "duration": 330,
    "start_time": "2022-12-01T09:11:54.511Z"
   },
   {
    "duration": 3,
    "start_time": "2022-12-01T09:11:54.843Z"
   },
   {
    "duration": 10,
    "start_time": "2022-12-01T09:11:54.848Z"
   },
   {
    "duration": 6,
    "start_time": "2022-12-01T09:11:54.859Z"
   },
   {
    "duration": 6,
    "start_time": "2022-12-01T09:11:54.866Z"
   },
   {
    "duration": 30,
    "start_time": "2022-12-01T09:11:54.873Z"
   },
   {
    "duration": 120,
    "start_time": "2022-12-01T09:11:54.905Z"
   },
   {
    "duration": 19,
    "start_time": "2022-12-01T09:11:55.026Z"
   },
   {
    "duration": 95,
    "start_time": "2022-12-01T09:11:55.047Z"
   },
   {
    "duration": 10,
    "start_time": "2022-12-01T09:11:55.143Z"
   },
   {
    "duration": 4245,
    "start_time": "2022-12-01T09:11:55.154Z"
   },
   {
    "duration": 6,
    "start_time": "2022-12-01T09:11:59.401Z"
   },
   {
    "duration": 10,
    "start_time": "2022-12-01T09:13:54.613Z"
   },
   {
    "duration": 9,
    "start_time": "2022-12-01T09:14:02.453Z"
   },
   {
    "duration": 7,
    "start_time": "2022-12-01T09:17:07.805Z"
   },
   {
    "duration": 8,
    "start_time": "2022-12-01T09:17:08.745Z"
   },
   {
    "duration": 8,
    "start_time": "2022-12-01T09:19:31.005Z"
   },
   {
    "duration": 8,
    "start_time": "2022-12-01T09:19:31.363Z"
   },
   {
    "duration": 190,
    "start_time": "2022-12-01T09:20:34.863Z"
   },
   {
    "duration": 124,
    "start_time": "2022-12-01T09:28:24.700Z"
   },
   {
    "duration": 13,
    "start_time": "2022-12-01T09:28:50.255Z"
   },
   {
    "duration": 190,
    "start_time": "2022-12-01T09:29:32.094Z"
   },
   {
    "duration": 7,
    "start_time": "2022-12-01T09:32:35.708Z"
   },
   {
    "duration": 9,
    "start_time": "2022-12-01T09:32:36.695Z"
   },
   {
    "duration": 196,
    "start_time": "2022-12-01T09:32:41.208Z"
   },
   {
    "duration": 7,
    "start_time": "2022-12-01T09:33:04.481Z"
   },
   {
    "duration": 7,
    "start_time": "2022-12-01T09:33:05.239Z"
   },
   {
    "duration": 348,
    "start_time": "2022-12-01T09:35:44.841Z"
   },
   {
    "duration": 823,
    "start_time": "2022-12-01T09:58:06.309Z"
   },
   {
    "duration": 66,
    "start_time": "2022-12-01T10:00:20.883Z"
   },
   {
    "duration": 30,
    "start_time": "2022-12-01T12:03:41.077Z"
   },
   {
    "duration": 44,
    "start_time": "2022-12-01T12:04:04.470Z"
   },
   {
    "duration": 37,
    "start_time": "2022-12-01T12:04:15.149Z"
   },
   {
    "duration": 42,
    "start_time": "2022-12-01T12:04:45.057Z"
   },
   {
    "duration": 3,
    "start_time": "2022-12-01T12:05:50.450Z"
   },
   {
    "duration": 257,
    "start_time": "2022-12-01T12:05:53.477Z"
   },
   {
    "duration": 3,
    "start_time": "2022-12-01T12:06:20.698Z"
   },
   {
    "duration": 236,
    "start_time": "2022-12-01T12:06:21.363Z"
   },
   {
    "duration": 1390,
    "start_time": "2022-12-01T12:06:27.553Z"
   },
   {
    "duration": 740,
    "start_time": "2022-12-01T12:06:28.945Z"
   },
   {
    "duration": 3,
    "start_time": "2022-12-01T12:06:29.687Z"
   },
   {
    "duration": 289,
    "start_time": "2022-12-01T12:06:29.697Z"
   },
   {
    "duration": 202,
    "start_time": "2022-12-01T12:06:29.999Z"
   },
   {
    "duration": 294,
    "start_time": "2022-12-01T12:06:30.203Z"
   },
   {
    "duration": 4,
    "start_time": "2022-12-01T12:06:30.499Z"
   },
   {
    "duration": 41,
    "start_time": "2022-12-01T12:06:30.505Z"
   },
   {
    "duration": 41,
    "start_time": "2022-12-01T12:06:30.547Z"
   },
   {
    "duration": 18,
    "start_time": "2022-12-01T12:06:30.590Z"
   },
   {
    "duration": 29,
    "start_time": "2022-12-01T12:06:30.610Z"
   },
   {
    "duration": 134,
    "start_time": "2022-12-01T12:06:30.641Z"
   },
   {
    "duration": 27,
    "start_time": "2022-12-01T12:06:30.777Z"
   },
   {
    "duration": 114,
    "start_time": "2022-12-01T12:06:30.807Z"
   },
   {
    "duration": 11,
    "start_time": "2022-12-01T12:06:30.923Z"
   },
   {
    "duration": 4724,
    "start_time": "2022-12-01T12:06:30.936Z"
   },
   {
    "duration": 8,
    "start_time": "2022-12-01T12:06:35.662Z"
   },
   {
    "duration": 38,
    "start_time": "2022-12-01T12:06:35.672Z"
   },
   {
    "duration": 192,
    "start_time": "2022-12-01T12:06:35.711Z"
   },
   {
    "duration": 986,
    "start_time": "2022-12-01T12:06:35.904Z"
   },
   {
    "duration": 31,
    "start_time": "2022-12-01T12:06:36.892Z"
   },
   {
    "duration": 44,
    "start_time": "2022-12-01T16:32:32.539Z"
   },
   {
    "duration": 8,
    "start_time": "2022-12-01T16:32:35.236Z"
   },
   {
    "duration": 1528,
    "start_time": "2022-12-01T16:32:42.331Z"
   },
   {
    "duration": 2923,
    "start_time": "2022-12-01T16:32:43.861Z"
   },
   {
    "duration": 3,
    "start_time": "2022-12-01T16:32:46.786Z"
   },
   {
    "duration": 295,
    "start_time": "2022-12-01T16:32:46.791Z"
   },
   {
    "duration": 174,
    "start_time": "2022-12-01T16:32:47.088Z"
   },
   {
    "duration": 295,
    "start_time": "2022-12-01T16:32:47.264Z"
   },
   {
    "duration": 3,
    "start_time": "2022-12-01T16:32:47.560Z"
   },
   {
    "duration": 11,
    "start_time": "2022-12-01T16:32:47.564Z"
   },
   {
    "duration": 23,
    "start_time": "2022-12-01T16:32:47.576Z"
   },
   {
    "duration": 5,
    "start_time": "2022-12-01T16:32:47.601Z"
   },
   {
    "duration": 11,
    "start_time": "2022-12-01T16:32:47.608Z"
   },
   {
    "duration": 140,
    "start_time": "2022-12-01T16:32:47.621Z"
   },
   {
    "duration": 21,
    "start_time": "2022-12-01T16:32:47.762Z"
   },
   {
    "duration": 114,
    "start_time": "2022-12-01T16:32:47.785Z"
   },
   {
    "duration": 13,
    "start_time": "2022-12-01T16:32:47.901Z"
   },
   {
    "duration": 5186,
    "start_time": "2022-12-01T16:32:47.918Z"
   },
   {
    "duration": 12,
    "start_time": "2022-12-01T16:32:53.106Z"
   },
   {
    "duration": 12,
    "start_time": "2022-12-01T16:32:53.120Z"
   },
   {
    "duration": 202,
    "start_time": "2022-12-01T16:32:53.133Z"
   },
   {
    "duration": 1075,
    "start_time": "2022-12-01T16:32:53.337Z"
   },
   {
    "duration": 29,
    "start_time": "2022-12-01T16:32:54.416Z"
   },
   {
    "duration": 15,
    "start_time": "2022-12-01T16:32:54.446Z"
   },
   {
    "duration": 42,
    "start_time": "2022-12-01T16:33:31.171Z"
   },
   {
    "duration": 2,
    "start_time": "2022-12-01T16:39:53.556Z"
   },
   {
    "duration": 951,
    "start_time": "2022-12-01T16:42:33.766Z"
   },
   {
    "duration": 844,
    "start_time": "2022-12-01T16:42:44.768Z"
   },
   {
    "duration": 122,
    "start_time": "2022-12-01T16:43:00.486Z"
   },
   {
    "duration": 3,
    "start_time": "2022-12-01T16:43:23.389Z"
   },
   {
    "duration": 144,
    "start_time": "2022-12-01T16:43:23.836Z"
   },
   {
    "duration": 4,
    "start_time": "2022-12-01T16:43:50.103Z"
   },
   {
    "duration": 150,
    "start_time": "2022-12-01T16:43:50.522Z"
   },
   {
    "duration": 4,
    "start_time": "2022-12-01T16:44:14.935Z"
   },
   {
    "duration": 206,
    "start_time": "2022-12-01T16:44:15.270Z"
   },
   {
    "duration": 3,
    "start_time": "2022-12-01T16:44:29.824Z"
   },
   {
    "duration": 201,
    "start_time": "2022-12-01T16:44:30.476Z"
   },
   {
    "duration": 101,
    "start_time": "2022-12-01T16:50:58.108Z"
   },
   {
    "duration": 102,
    "start_time": "2022-12-01T16:55:48.500Z"
   },
   {
    "duration": 111,
    "start_time": "2022-12-01T16:57:00.088Z"
   },
   {
    "duration": 228,
    "start_time": "2022-12-01T16:57:14.975Z"
   },
   {
    "duration": 297,
    "start_time": "2022-12-01T16:58:45.780Z"
   },
   {
    "duration": 133,
    "start_time": "2022-12-01T16:59:13.838Z"
   },
   {
    "duration": 125,
    "start_time": "2022-12-01T16:59:27.622Z"
   },
   {
    "duration": 139,
    "start_time": "2022-12-01T16:59:36.763Z"
   },
   {
    "duration": 4,
    "start_time": "2022-12-01T17:00:15.710Z"
   },
   {
    "duration": 166,
    "start_time": "2022-12-01T17:00:19.991Z"
   },
   {
    "duration": 115,
    "start_time": "2022-12-01T17:00:43.963Z"
   },
   {
    "duration": 116,
    "start_time": "2022-12-01T17:01:32.762Z"
   },
   {
    "duration": 9,
    "start_time": "2022-12-01T17:02:19.784Z"
   },
   {
    "duration": 9,
    "start_time": "2022-12-01T17:04:45.962Z"
   },
   {
    "duration": 1274,
    "start_time": "2022-12-01T17:05:35.795Z"
   },
   {
    "duration": 655,
    "start_time": "2022-12-01T17:05:37.071Z"
   },
   {
    "duration": 3,
    "start_time": "2022-12-01T17:05:37.728Z"
   },
   {
    "duration": 273,
    "start_time": "2022-12-01T17:05:37.733Z"
   },
   {
    "duration": 152,
    "start_time": "2022-12-01T17:05:38.008Z"
   },
   {
    "duration": 277,
    "start_time": "2022-12-01T17:05:38.162Z"
   },
   {
    "duration": 3,
    "start_time": "2022-12-01T17:05:38.441Z"
   },
   {
    "duration": 13,
    "start_time": "2022-12-01T17:05:38.446Z"
   },
   {
    "duration": 42,
    "start_time": "2022-12-01T17:05:38.461Z"
   },
   {
    "duration": 22,
    "start_time": "2022-12-01T17:05:38.505Z"
   },
   {
    "duration": 14,
    "start_time": "2022-12-01T17:05:38.529Z"
   },
   {
    "duration": 125,
    "start_time": "2022-12-01T17:05:38.545Z"
   },
   {
    "duration": 28,
    "start_time": "2022-12-01T17:05:38.671Z"
   },
   {
    "duration": 98,
    "start_time": "2022-12-01T17:05:38.701Z"
   },
   {
    "duration": 11,
    "start_time": "2022-12-01T17:05:38.801Z"
   },
   {
    "duration": 4484,
    "start_time": "2022-12-01T17:05:38.814Z"
   },
   {
    "duration": 9,
    "start_time": "2022-12-01T17:05:43.299Z"
   },
   {
    "duration": 19,
    "start_time": "2022-12-01T17:05:43.310Z"
   },
   {
    "duration": 226,
    "start_time": "2022-12-01T17:05:43.331Z"
   },
   {
    "duration": 1015,
    "start_time": "2022-12-01T17:05:43.558Z"
   },
   {
    "duration": 44,
    "start_time": "2022-12-01T17:05:44.574Z"
   },
   {
    "duration": 141,
    "start_time": "2022-12-01T17:05:44.620Z"
   },
   {
    "duration": 208,
    "start_time": "2022-12-01T17:07:11.969Z"
   },
   {
    "duration": 11,
    "start_time": "2022-12-01T17:09:36.197Z"
   },
   {
    "duration": 138,
    "start_time": "2022-12-01T17:09:58.894Z"
   },
   {
    "duration": 191,
    "start_time": "2022-12-01T17:10:18.114Z"
   },
   {
    "duration": 191,
    "start_time": "2022-12-01T17:10:23.588Z"
   },
   {
    "duration": 105,
    "start_time": "2022-12-01T17:11:02.397Z"
   },
   {
    "duration": 457,
    "start_time": "2022-12-01T17:13:30.317Z"
   },
   {
    "duration": 369,
    "start_time": "2022-12-01T17:13:39.483Z"
   },
   {
    "duration": 4,
    "start_time": "2022-12-01T17:19:06.375Z"
   },
   {
    "duration": 158,
    "start_time": "2022-12-01T17:19:30.112Z"
   },
   {
    "duration": 3,
    "start_time": "2022-12-01T17:20:08.038Z"
   },
   {
    "duration": 171,
    "start_time": "2022-12-01T17:20:08.707Z"
   },
   {
    "duration": 3,
    "start_time": "2022-12-01T17:20:33.915Z"
   },
   {
    "duration": 272,
    "start_time": "2022-12-01T17:20:36.680Z"
   },
   {
    "duration": 1349,
    "start_time": "2022-12-01T17:21:52.476Z"
   },
   {
    "duration": 724,
    "start_time": "2022-12-01T17:21:53.827Z"
   },
   {
    "duration": 4,
    "start_time": "2022-12-01T17:21:54.554Z"
   },
   {
    "duration": 337,
    "start_time": "2022-12-01T17:21:54.561Z"
   },
   {
    "duration": 176,
    "start_time": "2022-12-01T17:21:54.900Z"
   },
   {
    "duration": 286,
    "start_time": "2022-12-01T17:21:55.078Z"
   },
   {
    "duration": 4,
    "start_time": "2022-12-01T17:21:55.365Z"
   },
   {
    "duration": 12,
    "start_time": "2022-12-01T17:21:55.370Z"
   },
   {
    "duration": 23,
    "start_time": "2022-12-01T17:21:55.383Z"
   },
   {
    "duration": 7,
    "start_time": "2022-12-01T17:21:55.412Z"
   },
   {
    "duration": 10,
    "start_time": "2022-12-01T17:21:55.421Z"
   },
   {
    "duration": 120,
    "start_time": "2022-12-01T17:21:55.432Z"
   },
   {
    "duration": 26,
    "start_time": "2022-12-01T17:21:55.554Z"
   },
   {
    "duration": 128,
    "start_time": "2022-12-01T17:21:55.581Z"
   },
   {
    "duration": 11,
    "start_time": "2022-12-01T17:21:55.710Z"
   },
   {
    "duration": 4567,
    "start_time": "2022-12-01T17:21:55.722Z"
   },
   {
    "duration": 13,
    "start_time": "2022-12-01T17:22:00.292Z"
   },
   {
    "duration": 21,
    "start_time": "2022-12-01T17:22:00.309Z"
   },
   {
    "duration": 199,
    "start_time": "2022-12-01T17:22:00.331Z"
   },
   {
    "duration": 1090,
    "start_time": "2022-12-01T17:22:00.531Z"
   },
   {
    "duration": 32,
    "start_time": "2022-12-01T17:22:01.623Z"
   },
   {
    "duration": 6,
    "start_time": "2022-12-01T17:22:01.656Z"
   },
   {
    "duration": 325,
    "start_time": "2022-12-01T17:22:01.663Z"
   },
   {
    "duration": 315,
    "start_time": "2022-12-01T17:22:35.598Z"
   },
   {
    "duration": 4,
    "start_time": "2022-12-01T17:22:58.053Z"
   },
   {
    "duration": 311,
    "start_time": "2022-12-01T17:22:59.080Z"
   },
   {
    "duration": 383,
    "start_time": "2022-12-01T17:23:36.094Z"
   },
   {
    "duration": 327,
    "start_time": "2022-12-01T17:23:59.107Z"
   },
   {
    "duration": 278,
    "start_time": "2022-12-01T17:24:46.930Z"
   },
   {
    "duration": 3,
    "start_time": "2022-12-01T17:47:07.406Z"
   },
   {
    "duration": 123,
    "start_time": "2022-12-01T17:51:40.275Z"
   },
   {
    "duration": 60,
    "start_time": "2022-12-01T17:52:45.207Z"
   },
   {
    "duration": 15,
    "start_time": "2022-12-01T17:52:46.290Z"
   },
   {
    "duration": 4,
    "start_time": "2022-12-01T17:53:05.506Z"
   },
   {
    "duration": 752,
    "start_time": "2022-12-01T17:53:06.821Z"
   },
   {
    "duration": 3,
    "start_time": "2022-12-01T17:59:42.181Z"
   },
   {
    "duration": 248,
    "start_time": "2022-12-01T17:59:46.759Z"
   },
   {
    "duration": 3,
    "start_time": "2022-12-01T18:00:29.391Z"
   },
   {
    "duration": 108,
    "start_time": "2022-12-01T18:00:29.970Z"
   },
   {
    "duration": 4,
    "start_time": "2022-12-01T18:01:53.134Z"
   },
   {
    "duration": 108,
    "start_time": "2022-12-01T18:01:54.524Z"
   },
   {
    "duration": 4,
    "start_time": "2022-12-01T18:03:00.248Z"
   },
   {
    "duration": 264,
    "start_time": "2022-12-01T18:03:35.328Z"
   },
   {
    "duration": 4,
    "start_time": "2022-12-01T18:05:28.615Z"
   },
   {
    "duration": 82,
    "start_time": "2022-12-01T18:05:29.456Z"
   },
   {
    "duration": 3,
    "start_time": "2022-12-01T18:07:35.375Z"
   },
   {
    "duration": 795,
    "start_time": "2022-12-01T18:07:36.212Z"
   },
   {
    "duration": 4,
    "start_time": "2022-12-01T18:08:18.664Z"
   },
   {
    "duration": 116,
    "start_time": "2022-12-01T18:08:24.111Z"
   },
   {
    "duration": 1362,
    "start_time": "2022-12-01T18:08:40.750Z"
   },
   {
    "duration": 718,
    "start_time": "2022-12-01T18:08:42.114Z"
   },
   {
    "duration": 3,
    "start_time": "2022-12-01T18:08:42.834Z"
   },
   {
    "duration": 280,
    "start_time": "2022-12-01T18:08:42.839Z"
   },
   {
    "duration": 152,
    "start_time": "2022-12-01T18:08:43.121Z"
   },
   {
    "duration": 288,
    "start_time": "2022-12-01T18:08:43.275Z"
   },
   {
    "duration": 3,
    "start_time": "2022-12-01T18:08:43.564Z"
   },
   {
    "duration": 11,
    "start_time": "2022-12-01T18:08:43.568Z"
   },
   {
    "duration": 19,
    "start_time": "2022-12-01T18:08:43.580Z"
   },
   {
    "duration": 1303,
    "start_time": "2022-12-01T18:11:12.910Z"
   },
   {
    "duration": 735,
    "start_time": "2022-12-01T18:11:14.215Z"
   },
   {
    "duration": 3,
    "start_time": "2022-12-01T18:11:14.952Z"
   },
   {
    "duration": 288,
    "start_time": "2022-12-01T18:11:14.956Z"
   },
   {
    "duration": 153,
    "start_time": "2022-12-01T18:11:15.246Z"
   },
   {
    "duration": 282,
    "start_time": "2022-12-01T18:11:15.402Z"
   },
   {
    "duration": 10,
    "start_time": "2022-12-01T18:11:15.686Z"
   },
   {
    "duration": 22,
    "start_time": "2022-12-01T18:11:15.699Z"
   },
   {
    "duration": 6,
    "start_time": "2022-12-01T18:11:15.722Z"
   },
   {
    "duration": 6,
    "start_time": "2022-12-01T18:11:15.730Z"
   },
   {
    "duration": 9,
    "start_time": "2022-12-01T18:11:15.737Z"
   },
   {
    "duration": 129,
    "start_time": "2022-12-01T18:11:15.747Z"
   },
   {
    "duration": 30,
    "start_time": "2022-12-01T18:11:15.878Z"
   },
   {
    "duration": 113,
    "start_time": "2022-12-01T18:11:15.913Z"
   },
   {
    "duration": 10,
    "start_time": "2022-12-01T18:11:16.027Z"
   },
   {
    "duration": 4675,
    "start_time": "2022-12-01T18:11:16.039Z"
   },
   {
    "duration": 7,
    "start_time": "2022-12-01T18:11:20.715Z"
   },
   {
    "duration": 10,
    "start_time": "2022-12-01T18:11:20.723Z"
   },
   {
    "duration": 188,
    "start_time": "2022-12-01T18:25:56.692Z"
   },
   {
    "duration": 951,
    "start_time": "2022-12-01T18:25:59.798Z"
   },
   {
    "duration": 33,
    "start_time": "2022-12-01T18:26:02.099Z"
   },
   {
    "duration": 3,
    "start_time": "2022-12-01T18:26:03.228Z"
   },
   {
    "duration": 271,
    "start_time": "2022-12-01T18:26:03.529Z"
   },
   {
    "duration": 365,
    "start_time": "2022-12-01T18:26:04.493Z"
   },
   {
    "duration": 287,
    "start_time": "2022-12-01T18:26:05.264Z"
   },
   {
    "duration": 249,
    "start_time": "2022-12-01T18:26:06.055Z"
   },
   {
    "duration": 3,
    "start_time": "2022-12-01T18:26:06.921Z"
   },
   {
    "duration": 19,
    "start_time": "2022-12-01T18:26:07.656Z"
   },
   {
    "duration": 4,
    "start_time": "2022-12-01T18:26:14.835Z"
   },
   {
    "duration": 23,
    "start_time": "2022-12-01T18:26:15.952Z"
   },
   {
    "duration": 5,
    "start_time": "2022-12-01T18:38:45.286Z"
   },
   {
    "duration": 57,
    "start_time": "2022-12-01T18:38:45.480Z"
   },
   {
    "duration": 1511,
    "start_time": "2022-12-03T07:18:31.630Z"
   },
   {
    "duration": 1989,
    "start_time": "2022-12-03T07:18:33.143Z"
   },
   {
    "duration": 4,
    "start_time": "2022-12-03T07:18:35.133Z"
   },
   {
    "duration": 288,
    "start_time": "2022-12-03T07:18:35.139Z"
   },
   {
    "duration": 163,
    "start_time": "2022-12-03T07:18:35.428Z"
   },
   {
    "duration": 326,
    "start_time": "2022-12-03T07:18:35.593Z"
   },
   {
    "duration": 3,
    "start_time": "2022-12-03T07:18:35.922Z"
   },
   {
    "duration": 20,
    "start_time": "2022-12-03T07:18:35.927Z"
   },
   {
    "duration": 7,
    "start_time": "2022-12-03T07:18:35.948Z"
   },
   {
    "duration": 7,
    "start_time": "2022-12-03T07:18:35.957Z"
   },
   {
    "duration": 10,
    "start_time": "2022-12-03T07:18:35.965Z"
   },
   {
    "duration": 139,
    "start_time": "2022-12-03T07:18:35.977Z"
   },
   {
    "duration": 20,
    "start_time": "2022-12-03T07:18:36.118Z"
   },
   {
    "duration": 101,
    "start_time": "2022-12-03T07:18:36.141Z"
   },
   {
    "duration": 10,
    "start_time": "2022-12-03T07:18:36.243Z"
   },
   {
    "duration": 4766,
    "start_time": "2022-12-03T07:18:36.255Z"
   },
   {
    "duration": 9,
    "start_time": "2022-12-03T07:18:41.022Z"
   },
   {
    "duration": 13,
    "start_time": "2022-12-03T07:18:41.032Z"
   },
   {
    "duration": 225,
    "start_time": "2022-12-03T07:18:41.047Z"
   },
   {
    "duration": 1112,
    "start_time": "2022-12-03T07:18:41.274Z"
   },
   {
    "duration": 42,
    "start_time": "2022-12-03T07:18:42.387Z"
   },
   {
    "duration": 4,
    "start_time": "2022-12-03T07:18:42.430Z"
   },
   {
    "duration": 375,
    "start_time": "2022-12-03T07:18:42.435Z"
   },
   {
    "duration": 323,
    "start_time": "2022-12-03T07:18:42.812Z"
   },
   {
    "duration": 358,
    "start_time": "2022-12-03T07:18:43.137Z"
   },
   {
    "duration": 437,
    "start_time": "2022-12-03T07:18:43.497Z"
   },
   {
    "duration": 3,
    "start_time": "2022-12-03T07:18:43.936Z"
   },
   {
    "duration": 62,
    "start_time": "2022-12-03T07:18:43.941Z"
   },
   {
    "duration": 3,
    "start_time": "2022-12-03T07:18:44.005Z"
   },
   {
    "duration": 39,
    "start_time": "2022-12-03T07:24:32.707Z"
   },
   {
    "duration": 40,
    "start_time": "2022-12-03T07:24:41.867Z"
   },
   {
    "duration": 114,
    "start_time": "2022-12-03T07:59:53.038Z"
   },
   {
    "duration": 8,
    "start_time": "2022-12-03T08:00:12.887Z"
   },
   {
    "duration": 17,
    "start_time": "2022-12-03T08:02:22.972Z"
   },
   {
    "duration": 1379,
    "start_time": "2022-12-03T08:11:43.210Z"
   },
   {
    "duration": 648,
    "start_time": "2022-12-03T08:11:44.592Z"
   },
   {
    "duration": 4,
    "start_time": "2022-12-03T08:11:45.242Z"
   },
   {
    "duration": 290,
    "start_time": "2022-12-03T08:11:45.247Z"
   },
   {
    "duration": 167,
    "start_time": "2022-12-03T08:11:45.539Z"
   },
   {
    "duration": 303,
    "start_time": "2022-12-03T08:11:45.707Z"
   },
   {
    "duration": 10,
    "start_time": "2022-12-03T08:11:46.012Z"
   },
   {
    "duration": 20,
    "start_time": "2022-12-03T08:11:46.023Z"
   },
   {
    "duration": 7,
    "start_time": "2022-12-03T08:11:46.044Z"
   },
   {
    "duration": 14,
    "start_time": "2022-12-03T08:11:46.053Z"
   },
   {
    "duration": 17,
    "start_time": "2022-12-03T08:11:46.068Z"
   },
   {
    "duration": 119,
    "start_time": "2022-12-03T08:11:46.087Z"
   },
   {
    "duration": 25,
    "start_time": "2022-12-03T08:11:46.208Z"
   },
   {
    "duration": 101,
    "start_time": "2022-12-03T08:11:46.235Z"
   },
   {
    "duration": 117,
    "start_time": "2022-12-03T08:11:46.338Z"
   },
   {
    "duration": 0,
    "start_time": "2022-12-03T08:11:46.457Z"
   },
   {
    "duration": 0,
    "start_time": "2022-12-03T08:11:46.458Z"
   },
   {
    "duration": 0,
    "start_time": "2022-12-03T08:11:46.460Z"
   },
   {
    "duration": 0,
    "start_time": "2022-12-03T08:11:46.461Z"
   },
   {
    "duration": 0,
    "start_time": "2022-12-03T08:11:46.462Z"
   },
   {
    "duration": 0,
    "start_time": "2022-12-03T08:11:46.463Z"
   },
   {
    "duration": 0,
    "start_time": "2022-12-03T08:11:46.464Z"
   },
   {
    "duration": 0,
    "start_time": "2022-12-03T08:11:46.465Z"
   },
   {
    "duration": 0,
    "start_time": "2022-12-03T08:11:46.466Z"
   },
   {
    "duration": 0,
    "start_time": "2022-12-03T08:11:46.467Z"
   },
   {
    "duration": 0,
    "start_time": "2022-12-03T08:11:46.468Z"
   },
   {
    "duration": 0,
    "start_time": "2022-12-03T08:11:46.469Z"
   },
   {
    "duration": 0,
    "start_time": "2022-12-03T08:11:46.470Z"
   },
   {
    "duration": 0,
    "start_time": "2022-12-03T08:11:46.471Z"
   },
   {
    "duration": 0,
    "start_time": "2022-12-03T08:11:46.472Z"
   },
   {
    "duration": 0,
    "start_time": "2022-12-03T08:11:46.473Z"
   },
   {
    "duration": 1281,
    "start_time": "2022-12-03T08:12:06.570Z"
   },
   {
    "duration": 642,
    "start_time": "2022-12-03T08:12:07.853Z"
   },
   {
    "duration": 4,
    "start_time": "2022-12-03T08:12:08.496Z"
   },
   {
    "duration": 276,
    "start_time": "2022-12-03T08:12:08.501Z"
   },
   {
    "duration": 166,
    "start_time": "2022-12-03T08:12:08.779Z"
   },
   {
    "duration": 301,
    "start_time": "2022-12-03T08:12:08.947Z"
   },
   {
    "duration": 4,
    "start_time": "2022-12-03T08:12:09.249Z"
   },
   {
    "duration": 16,
    "start_time": "2022-12-03T08:12:09.255Z"
   },
   {
    "duration": 7,
    "start_time": "2022-12-03T08:12:09.273Z"
   },
   {
    "duration": 5,
    "start_time": "2022-12-03T08:12:09.284Z"
   },
   {
    "duration": 32,
    "start_time": "2022-12-03T08:12:09.291Z"
   },
   {
    "duration": 117,
    "start_time": "2022-12-03T08:12:09.325Z"
   },
   {
    "duration": 21,
    "start_time": "2022-12-03T08:12:09.443Z"
   },
   {
    "duration": 108,
    "start_time": "2022-12-03T08:12:09.465Z"
   },
   {
    "duration": 121,
    "start_time": "2022-12-03T08:12:09.575Z"
   },
   {
    "duration": 0,
    "start_time": "2022-12-03T08:12:09.697Z"
   },
   {
    "duration": 0,
    "start_time": "2022-12-03T08:12:09.699Z"
   },
   {
    "duration": 0,
    "start_time": "2022-12-03T08:12:09.700Z"
   },
   {
    "duration": 0,
    "start_time": "2022-12-03T08:12:09.701Z"
   },
   {
    "duration": 0,
    "start_time": "2022-12-03T08:12:09.703Z"
   },
   {
    "duration": 0,
    "start_time": "2022-12-03T08:12:09.704Z"
   },
   {
    "duration": 0,
    "start_time": "2022-12-03T08:12:09.705Z"
   },
   {
    "duration": 0,
    "start_time": "2022-12-03T08:12:09.707Z"
   },
   {
    "duration": 0,
    "start_time": "2022-12-03T08:12:09.722Z"
   },
   {
    "duration": 0,
    "start_time": "2022-12-03T08:12:09.724Z"
   },
   {
    "duration": 0,
    "start_time": "2022-12-03T08:12:09.725Z"
   },
   {
    "duration": 0,
    "start_time": "2022-12-03T08:12:09.726Z"
   },
   {
    "duration": 0,
    "start_time": "2022-12-03T08:12:09.728Z"
   },
   {
    "duration": 0,
    "start_time": "2022-12-03T08:12:09.729Z"
   },
   {
    "duration": 0,
    "start_time": "2022-12-03T08:12:09.730Z"
   },
   {
    "duration": 0,
    "start_time": "2022-12-03T08:12:09.731Z"
   },
   {
    "duration": 17,
    "start_time": "2022-12-03T08:14:03.475Z"
   },
   {
    "duration": 4,
    "start_time": "2022-12-03T08:15:51.473Z"
   },
   {
    "duration": 697,
    "start_time": "2022-12-03T08:15:52.244Z"
   },
   {
    "duration": 4,
    "start_time": "2022-12-03T08:15:53.190Z"
   },
   {
    "duration": 247,
    "start_time": "2022-12-03T08:15:54.754Z"
   },
   {
    "duration": 162,
    "start_time": "2022-12-03T08:15:56.618Z"
   },
   {
    "duration": 303,
    "start_time": "2022-12-03T08:15:58.046Z"
   },
   {
    "duration": 3,
    "start_time": "2022-12-03T08:16:01.770Z"
   },
   {
    "duration": 9,
    "start_time": "2022-12-03T08:16:03.235Z"
   },
   {
    "duration": 7,
    "start_time": "2022-12-03T08:16:05.260Z"
   },
   {
    "duration": 5,
    "start_time": "2022-12-03T08:16:06.290Z"
   },
   {
    "duration": 7,
    "start_time": "2022-12-03T08:16:08.138Z"
   },
   {
    "duration": 118,
    "start_time": "2022-12-03T08:16:09.923Z"
   },
   {
    "duration": 22,
    "start_time": "2022-12-03T08:16:10.572Z"
   },
   {
    "duration": 88,
    "start_time": "2022-12-03T08:16:11.209Z"
   },
   {
    "duration": 17,
    "start_time": "2022-12-03T08:16:12.280Z"
   },
   {
    "duration": 15,
    "start_time": "2022-12-03T08:17:32.333Z"
   },
   {
    "duration": 23,
    "start_time": "2022-12-03T08:19:18.049Z"
   },
   {
    "duration": 16,
    "start_time": "2022-12-03T08:24:52.791Z"
   },
   {
    "duration": 16,
    "start_time": "2022-12-03T08:35:51.721Z"
   },
   {
    "duration": 1354,
    "start_time": "2022-12-03T08:36:48.161Z"
   },
   {
    "duration": 686,
    "start_time": "2022-12-03T08:36:49.517Z"
   },
   {
    "duration": 3,
    "start_time": "2022-12-03T08:36:50.205Z"
   },
   {
    "duration": 293,
    "start_time": "2022-12-03T08:36:50.210Z"
   },
   {
    "duration": 180,
    "start_time": "2022-12-03T08:36:50.505Z"
   },
   {
    "duration": 304,
    "start_time": "2022-12-03T08:36:50.687Z"
   },
   {
    "duration": 4,
    "start_time": "2022-12-03T08:36:50.992Z"
   },
   {
    "duration": 25,
    "start_time": "2022-12-03T08:36:50.997Z"
   },
   {
    "duration": 10,
    "start_time": "2022-12-03T08:36:51.023Z"
   },
   {
    "duration": 6,
    "start_time": "2022-12-03T08:36:51.035Z"
   },
   {
    "duration": 12,
    "start_time": "2022-12-03T08:36:51.043Z"
   },
   {
    "duration": 135,
    "start_time": "2022-12-03T08:36:51.057Z"
   },
   {
    "duration": 29,
    "start_time": "2022-12-03T08:36:51.193Z"
   },
   {
    "duration": 90,
    "start_time": "2022-12-03T08:36:51.224Z"
   },
   {
    "duration": 11,
    "start_time": "2022-12-03T08:36:51.322Z"
   },
   {
    "duration": 11,
    "start_time": "2022-12-03T08:36:51.334Z"
   },
   {
    "duration": 4988,
    "start_time": "2022-12-03T08:36:51.347Z"
   },
   {
    "duration": 7,
    "start_time": "2022-12-03T08:36:56.337Z"
   },
   {
    "duration": 15,
    "start_time": "2022-12-03T08:36:56.346Z"
   },
   {
    "duration": 223,
    "start_time": "2022-12-03T08:36:56.363Z"
   },
   {
    "duration": 1134,
    "start_time": "2022-12-03T08:36:56.588Z"
   },
   {
    "duration": 33,
    "start_time": "2022-12-03T08:36:57.723Z"
   },
   {
    "duration": 4,
    "start_time": "2022-12-03T08:36:57.758Z"
   },
   {
    "duration": 337,
    "start_time": "2022-12-03T08:36:57.765Z"
   },
   {
    "duration": 307,
    "start_time": "2022-12-03T08:36:58.104Z"
   },
   {
    "duration": 340,
    "start_time": "2022-12-03T08:36:58.413Z"
   },
   {
    "duration": 446,
    "start_time": "2022-12-03T08:36:58.755Z"
   },
   {
    "duration": 4,
    "start_time": "2022-12-03T08:36:59.204Z"
   },
   {
    "duration": 64,
    "start_time": "2022-12-03T08:36:59.209Z"
   },
   {
    "duration": 5,
    "start_time": "2022-12-03T08:36:59.275Z"
   },
   {
    "duration": 17,
    "start_time": "2022-12-03T08:36:59.282Z"
   },
   {
    "duration": 111,
    "start_time": "2022-12-03T08:38:38.627Z"
   },
   {
    "duration": 25,
    "start_time": "2022-12-03T08:39:00.030Z"
   },
   {
    "duration": 1421,
    "start_time": "2022-12-03T08:39:18.339Z"
   },
   {
    "duration": 715,
    "start_time": "2022-12-03T08:39:19.762Z"
   },
   {
    "duration": 4,
    "start_time": "2022-12-03T08:39:20.480Z"
   },
   {
    "duration": 291,
    "start_time": "2022-12-03T08:39:20.486Z"
   },
   {
    "duration": 165,
    "start_time": "2022-12-03T08:39:20.778Z"
   },
   {
    "duration": 295,
    "start_time": "2022-12-03T08:39:20.945Z"
   },
   {
    "duration": 3,
    "start_time": "2022-12-03T08:39:21.242Z"
   },
   {
    "duration": 15,
    "start_time": "2022-12-03T08:39:21.247Z"
   },
   {
    "duration": 7,
    "start_time": "2022-12-03T08:39:21.264Z"
   },
   {
    "duration": 7,
    "start_time": "2022-12-03T08:39:21.272Z"
   },
   {
    "duration": 11,
    "start_time": "2022-12-03T08:39:21.280Z"
   },
   {
    "duration": 117,
    "start_time": "2022-12-03T08:39:21.322Z"
   },
   {
    "duration": 21,
    "start_time": "2022-12-03T08:39:21.443Z"
   },
   {
    "duration": 109,
    "start_time": "2022-12-03T08:39:21.466Z"
   },
   {
    "duration": 22,
    "start_time": "2022-12-03T08:39:21.577Z"
   },
   {
    "duration": 28,
    "start_time": "2022-12-03T08:39:21.600Z"
   },
   {
    "duration": 4931,
    "start_time": "2022-12-03T08:39:21.630Z"
   },
   {
    "duration": 7,
    "start_time": "2022-12-03T08:39:26.563Z"
   },
   {
    "duration": 16,
    "start_time": "2022-12-03T08:39:26.572Z"
   },
   {
    "duration": 232,
    "start_time": "2022-12-03T08:39:26.590Z"
   },
   {
    "duration": 1120,
    "start_time": "2022-12-03T08:39:26.824Z"
   },
   {
    "duration": 39,
    "start_time": "2022-12-03T08:39:27.946Z"
   },
   {
    "duration": 4,
    "start_time": "2022-12-03T08:39:27.987Z"
   },
   {
    "duration": 347,
    "start_time": "2022-12-03T08:39:27.992Z"
   },
   {
    "duration": 302,
    "start_time": "2022-12-03T08:39:28.341Z"
   },
   {
    "duration": 387,
    "start_time": "2022-12-03T08:39:28.645Z"
   },
   {
    "duration": 482,
    "start_time": "2022-12-03T08:39:29.034Z"
   },
   {
    "duration": 4,
    "start_time": "2022-12-03T08:39:29.522Z"
   },
   {
    "duration": 56,
    "start_time": "2022-12-03T08:39:29.528Z"
   },
   {
    "duration": 6,
    "start_time": "2022-12-03T08:39:29.585Z"
   },
   {
    "duration": 32,
    "start_time": "2022-12-03T08:39:29.592Z"
   },
   {
    "duration": 125,
    "start_time": "2022-12-03T08:41:14.546Z"
   },
   {
    "duration": 11,
    "start_time": "2022-12-03T08:41:40.231Z"
   },
   {
    "duration": 13,
    "start_time": "2022-12-03T08:41:43.604Z"
   },
   {
    "duration": 18,
    "start_time": "2022-12-03T08:42:00.660Z"
   },
   {
    "duration": 1427,
    "start_time": "2022-12-03T08:42:14.337Z"
   },
   {
    "duration": 723,
    "start_time": "2022-12-03T08:42:15.766Z"
   },
   {
    "duration": 4,
    "start_time": "2022-12-03T08:42:16.491Z"
   },
   {
    "duration": 286,
    "start_time": "2022-12-03T08:42:16.497Z"
   },
   {
    "duration": 176,
    "start_time": "2022-12-03T08:42:16.784Z"
   },
   {
    "duration": 294,
    "start_time": "2022-12-03T08:42:16.961Z"
   },
   {
    "duration": 4,
    "start_time": "2022-12-03T08:42:17.257Z"
   },
   {
    "duration": 17,
    "start_time": "2022-12-03T08:42:17.262Z"
   },
   {
    "duration": 8,
    "start_time": "2022-12-03T08:42:17.281Z"
   },
   {
    "duration": 6,
    "start_time": "2022-12-03T08:42:17.292Z"
   },
   {
    "duration": 30,
    "start_time": "2022-12-03T08:42:17.300Z"
   },
   {
    "duration": 135,
    "start_time": "2022-12-03T08:42:17.332Z"
   },
   {
    "duration": 21,
    "start_time": "2022-12-03T08:42:17.469Z"
   },
   {
    "duration": 102,
    "start_time": "2022-12-03T08:42:17.492Z"
   },
   {
    "duration": 11,
    "start_time": "2022-12-03T08:42:17.596Z"
   },
   {
    "duration": 27,
    "start_time": "2022-12-03T08:42:17.609Z"
   },
   {
    "duration": 19,
    "start_time": "2022-12-03T08:42:17.639Z"
   },
   {
    "duration": 4854,
    "start_time": "2022-12-03T08:42:17.660Z"
   },
   {
    "duration": 11,
    "start_time": "2022-12-03T08:42:22.516Z"
   },
   {
    "duration": 8,
    "start_time": "2022-12-03T08:42:22.528Z"
   },
   {
    "duration": 222,
    "start_time": "2022-12-03T08:42:22.538Z"
   },
   {
    "duration": 1121,
    "start_time": "2022-12-03T08:42:22.763Z"
   },
   {
    "duration": 46,
    "start_time": "2022-12-03T08:42:23.886Z"
   },
   {
    "duration": 4,
    "start_time": "2022-12-03T08:42:23.934Z"
   },
   {
    "duration": 407,
    "start_time": "2022-12-03T08:42:23.940Z"
   },
   {
    "duration": 288,
    "start_time": "2022-12-03T08:42:24.348Z"
   },
   {
    "duration": 337,
    "start_time": "2022-12-03T08:42:24.638Z"
   },
   {
    "duration": 473,
    "start_time": "2022-12-03T08:42:24.978Z"
   },
   {
    "duration": 4,
    "start_time": "2022-12-03T08:42:25.453Z"
   },
   {
    "duration": 95,
    "start_time": "2022-12-03T08:42:25.459Z"
   },
   {
    "duration": 5,
    "start_time": "2022-12-03T08:42:25.555Z"
   },
   {
    "duration": 27,
    "start_time": "2022-12-03T08:42:25.562Z"
   },
   {
    "duration": 5,
    "start_time": "2022-12-03T08:45:39.522Z"
   },
   {
    "duration": 156,
    "start_time": "2022-12-03T08:45:58.202Z"
   },
   {
    "duration": 1351,
    "start_time": "2022-12-03T08:46:37.571Z"
   },
   {
    "duration": 709,
    "start_time": "2022-12-03T08:46:38.924Z"
   },
   {
    "duration": 6,
    "start_time": "2022-12-03T08:46:39.635Z"
   },
   {
    "duration": 297,
    "start_time": "2022-12-03T08:46:39.644Z"
   },
   {
    "duration": 173,
    "start_time": "2022-12-03T08:46:39.943Z"
   },
   {
    "duration": 290,
    "start_time": "2022-12-03T08:46:40.122Z"
   },
   {
    "duration": 11,
    "start_time": "2022-12-03T08:46:40.414Z"
   },
   {
    "duration": 15,
    "start_time": "2022-12-03T08:46:40.427Z"
   },
   {
    "duration": 9,
    "start_time": "2022-12-03T08:46:40.443Z"
   },
   {
    "duration": 7,
    "start_time": "2022-12-03T08:46:40.455Z"
   },
   {
    "duration": 13,
    "start_time": "2022-12-03T08:46:40.464Z"
   },
   {
    "duration": 162,
    "start_time": "2022-12-03T08:46:40.479Z"
   },
   {
    "duration": 21,
    "start_time": "2022-12-03T08:46:40.642Z"
   },
   {
    "duration": 105,
    "start_time": "2022-12-03T08:46:40.664Z"
   },
   {
    "duration": 11,
    "start_time": "2022-12-03T08:46:40.771Z"
   },
   {
    "duration": 14,
    "start_time": "2022-12-03T08:46:40.783Z"
   },
   {
    "duration": 33,
    "start_time": "2022-12-03T08:46:40.799Z"
   },
   {
    "duration": 5108,
    "start_time": "2022-12-03T08:46:40.834Z"
   },
   {
    "duration": 9,
    "start_time": "2022-12-03T08:46:45.944Z"
   },
   {
    "duration": 22,
    "start_time": "2022-12-03T08:46:45.955Z"
   },
   {
    "duration": 229,
    "start_time": "2022-12-03T08:46:45.979Z"
   },
   {
    "duration": 1118,
    "start_time": "2022-12-03T08:46:46.210Z"
   },
   {
    "duration": 33,
    "start_time": "2022-12-03T08:46:47.331Z"
   },
   {
    "duration": 4,
    "start_time": "2022-12-03T08:46:47.366Z"
   },
   {
    "duration": 369,
    "start_time": "2022-12-03T08:46:47.373Z"
   },
   {
    "duration": 318,
    "start_time": "2022-12-03T08:46:47.744Z"
   },
   {
    "duration": 359,
    "start_time": "2022-12-03T08:46:48.065Z"
   },
   {
    "duration": 463,
    "start_time": "2022-12-03T08:46:48.429Z"
   },
   {
    "duration": 5,
    "start_time": "2022-12-03T08:46:48.894Z"
   },
   {
    "duration": 72,
    "start_time": "2022-12-03T08:46:48.900Z"
   },
   {
    "duration": 6,
    "start_time": "2022-12-03T08:46:48.973Z"
   },
   {
    "duration": 18,
    "start_time": "2022-12-03T08:46:48.981Z"
   },
   {
    "duration": 27832,
    "start_time": "2022-12-03T08:46:49.001Z"
   },
   {
    "duration": 119,
    "start_time": "2022-12-03T08:53:18.924Z"
   },
   {
    "duration": 4,
    "start_time": "2022-12-03T08:53:22.756Z"
   },
   {
    "duration": 28666,
    "start_time": "2022-12-03T08:53:23.411Z"
   },
   {
    "duration": 1441,
    "start_time": "2022-12-03T08:55:08.725Z"
   },
   {
    "duration": 706,
    "start_time": "2022-12-03T08:55:10.168Z"
   },
   {
    "duration": 3,
    "start_time": "2022-12-03T08:55:10.876Z"
   },
   {
    "duration": 296,
    "start_time": "2022-12-03T08:55:10.882Z"
   },
   {
    "duration": 183,
    "start_time": "2022-12-03T08:55:11.180Z"
   },
   {
    "duration": 353,
    "start_time": "2022-12-03T08:55:11.366Z"
   },
   {
    "duration": 4,
    "start_time": "2022-12-03T08:55:11.723Z"
   },
   {
    "duration": 16,
    "start_time": "2022-12-03T08:55:11.728Z"
   },
   {
    "duration": 13,
    "start_time": "2022-12-03T08:55:11.745Z"
   },
   {
    "duration": 7,
    "start_time": "2022-12-03T08:55:11.762Z"
   },
   {
    "duration": 15,
    "start_time": "2022-12-03T08:55:11.771Z"
   },
   {
    "duration": 195,
    "start_time": "2022-12-03T08:55:11.789Z"
   },
   {
    "duration": 22,
    "start_time": "2022-12-03T08:55:11.986Z"
   },
   {
    "duration": 103,
    "start_time": "2022-12-03T08:55:12.022Z"
   },
   {
    "duration": 12,
    "start_time": "2022-12-03T08:55:12.126Z"
   },
   {
    "duration": 16,
    "start_time": "2022-12-03T08:55:12.139Z"
   },
   {
    "duration": 11,
    "start_time": "2022-12-03T08:55:12.157Z"
   },
   {
    "duration": 4990,
    "start_time": "2022-12-03T08:55:12.170Z"
   },
   {
    "duration": 8,
    "start_time": "2022-12-03T08:55:17.162Z"
   },
   {
    "duration": 18,
    "start_time": "2022-12-03T08:55:17.172Z"
   },
   {
    "duration": 230,
    "start_time": "2022-12-03T08:55:17.192Z"
   },
   {
    "duration": 1135,
    "start_time": "2022-12-03T08:55:17.423Z"
   },
   {
    "duration": 43,
    "start_time": "2022-12-03T08:55:18.560Z"
   },
   {
    "duration": 17,
    "start_time": "2022-12-03T08:55:18.605Z"
   },
   {
    "duration": 340,
    "start_time": "2022-12-03T08:55:18.625Z"
   },
   {
    "duration": 333,
    "start_time": "2022-12-03T08:55:18.967Z"
   },
   {
    "duration": 385,
    "start_time": "2022-12-03T08:55:19.303Z"
   },
   {
    "duration": 485,
    "start_time": "2022-12-03T08:55:19.691Z"
   },
   {
    "duration": 3,
    "start_time": "2022-12-03T08:55:20.178Z"
   },
   {
    "duration": 79,
    "start_time": "2022-12-03T08:55:20.184Z"
   },
   {
    "duration": 6,
    "start_time": "2022-12-03T08:55:20.265Z"
   },
   {
    "duration": 24,
    "start_time": "2022-12-03T08:55:20.273Z"
   },
   {
    "duration": 12,
    "start_time": "2022-12-03T08:55:20.300Z"
   },
   {
    "duration": 27633,
    "start_time": "2022-12-03T08:55:20.315Z"
   },
   {
    "duration": 16,
    "start_time": "2022-12-03T08:57:50.514Z"
   },
   {
    "duration": 11,
    "start_time": "2022-12-03T08:57:51.461Z"
   },
   {
    "duration": 5106,
    "start_time": "2022-12-03T08:57:54.930Z"
   },
   {
    "duration": 9,
    "start_time": "2022-12-03T08:58:00.038Z"
   },
   {
    "duration": 12,
    "start_time": "2022-12-03T08:58:00.048Z"
   },
   {
    "duration": 216,
    "start_time": "2022-12-03T08:58:00.389Z"
   },
   {
    "duration": 1080,
    "start_time": "2022-12-03T08:58:02.424Z"
   },
   {
    "duration": 39,
    "start_time": "2022-12-03T08:58:03.755Z"
   },
   {
    "duration": 3,
    "start_time": "2022-12-03T08:58:04.956Z"
   },
   {
    "duration": 335,
    "start_time": "2022-12-03T08:58:05.864Z"
   },
   {
    "duration": 499,
    "start_time": "2022-12-03T08:58:06.552Z"
   },
   {
    "duration": 323,
    "start_time": "2022-12-03T08:58:07.208Z"
   },
   {
    "duration": 315,
    "start_time": "2022-12-03T08:58:07.736Z"
   },
   {
    "duration": 4,
    "start_time": "2022-12-03T08:58:08.979Z"
   },
   {
    "duration": 62,
    "start_time": "2022-12-03T08:58:09.651Z"
   },
   {
    "duration": 5,
    "start_time": "2022-12-03T08:58:11.444Z"
   },
   {
    "duration": 9,
    "start_time": "2022-12-03T08:58:12.796Z"
   },
   {
    "duration": 8,
    "start_time": "2022-12-03T08:58:46.869Z"
   },
   {
    "duration": 10,
    "start_time": "2022-12-03T08:58:47.655Z"
   },
   {
    "duration": 3,
    "start_time": "2022-12-03T08:58:48.373Z"
   },
   {
    "duration": 27704,
    "start_time": "2022-12-03T08:58:49.192Z"
   },
   {
    "duration": 107,
    "start_time": "2022-12-03T09:03:07.611Z"
   },
   {
    "duration": 3,
    "start_time": "2022-12-03T09:03:58.477Z"
   },
   {
    "duration": 8,
    "start_time": "2022-12-03T09:03:59.259Z"
   },
   {
    "duration": 9,
    "start_time": "2022-12-03T09:04:16.803Z"
   },
   {
    "duration": 3,
    "start_time": "2022-12-03T09:04:17.461Z"
   },
   {
    "duration": 17006,
    "start_time": "2022-12-03T09:04:18.078Z"
   },
   {
    "duration": 1467,
    "start_time": "2022-12-03T09:04:40.124Z"
   },
   {
    "duration": 759,
    "start_time": "2022-12-03T09:04:41.594Z"
   },
   {
    "duration": 3,
    "start_time": "2022-12-03T09:04:42.356Z"
   },
   {
    "duration": 288,
    "start_time": "2022-12-03T09:04:42.361Z"
   },
   {
    "duration": 196,
    "start_time": "2022-12-03T09:04:42.651Z"
   },
   {
    "duration": 435,
    "start_time": "2022-12-03T09:04:42.850Z"
   },
   {
    "duration": 3,
    "start_time": "2022-12-03T09:04:43.287Z"
   },
   {
    "duration": 30,
    "start_time": "2022-12-03T09:04:43.292Z"
   },
   {
    "duration": 10,
    "start_time": "2022-12-03T09:04:43.325Z"
   },
   {
    "duration": 10,
    "start_time": "2022-12-03T09:04:43.337Z"
   },
   {
    "duration": 29,
    "start_time": "2022-12-03T09:04:43.348Z"
   },
   {
    "duration": 172,
    "start_time": "2022-12-03T09:04:43.379Z"
   },
   {
    "duration": 28,
    "start_time": "2022-12-03T09:04:43.553Z"
   },
   {
    "duration": 127,
    "start_time": "2022-12-03T09:04:43.585Z"
   },
   {
    "duration": 17,
    "start_time": "2022-12-03T09:04:43.714Z"
   },
   {
    "duration": 43,
    "start_time": "2022-12-03T09:04:43.733Z"
   },
   {
    "duration": 16,
    "start_time": "2022-12-03T09:04:43.780Z"
   },
   {
    "duration": 5553,
    "start_time": "2022-12-03T09:04:43.798Z"
   },
   {
    "duration": 10,
    "start_time": "2022-12-03T09:04:49.353Z"
   },
   {
    "duration": 21,
    "start_time": "2022-12-03T09:04:49.366Z"
   },
   {
    "duration": 333,
    "start_time": "2022-12-03T09:04:49.389Z"
   },
   {
    "duration": 1314,
    "start_time": "2022-12-03T09:04:49.724Z"
   },
   {
    "duration": 39,
    "start_time": "2022-12-03T09:04:51.040Z"
   },
   {
    "duration": 6,
    "start_time": "2022-12-03T09:04:51.083Z"
   },
   {
    "duration": 420,
    "start_time": "2022-12-03T09:04:51.092Z"
   },
   {
    "duration": 395,
    "start_time": "2022-12-03T09:04:51.515Z"
   },
   {
    "duration": 447,
    "start_time": "2022-12-03T09:04:51.912Z"
   },
   {
    "duration": 471,
    "start_time": "2022-12-03T09:04:52.361Z"
   },
   {
    "duration": 4,
    "start_time": "2022-12-03T09:04:52.834Z"
   },
   {
    "duration": 91,
    "start_time": "2022-12-03T09:04:52.841Z"
   },
   {
    "duration": 6,
    "start_time": "2022-12-03T09:04:52.934Z"
   },
   {
    "duration": 17,
    "start_time": "2022-12-03T09:04:52.942Z"
   },
   {
    "duration": 25,
    "start_time": "2022-12-03T09:04:52.961Z"
   },
   {
    "duration": 16,
    "start_time": "2022-12-03T09:04:52.989Z"
   },
   {
    "duration": 12,
    "start_time": "2022-12-03T09:04:53.007Z"
   },
   {
    "duration": 17050,
    "start_time": "2022-12-03T09:04:53.021Z"
   },
   {
    "duration": 86,
    "start_time": "2022-12-03T17:35:49.932Z"
   },
   {
    "duration": 1542,
    "start_time": "2022-12-03T17:35:57.849Z"
   },
   {
    "duration": 2273,
    "start_time": "2022-12-03T17:35:59.393Z"
   },
   {
    "duration": 3,
    "start_time": "2022-12-03T17:36:01.668Z"
   },
   {
    "duration": 270,
    "start_time": "2022-12-03T17:36:01.673Z"
   },
   {
    "duration": 173,
    "start_time": "2022-12-03T17:36:01.945Z"
   },
   {
    "duration": 283,
    "start_time": "2022-12-03T17:36:02.119Z"
   },
   {
    "duration": 6,
    "start_time": "2022-12-03T17:36:02.404Z"
   },
   {
    "duration": 34,
    "start_time": "2022-12-03T17:36:02.412Z"
   },
   {
    "duration": 13,
    "start_time": "2022-12-03T17:36:02.448Z"
   },
   {
    "duration": 9,
    "start_time": "2022-12-03T17:36:02.463Z"
   },
   {
    "duration": 9,
    "start_time": "2022-12-03T17:36:02.473Z"
   },
   {
    "duration": 133,
    "start_time": "2022-12-03T17:36:02.484Z"
   },
   {
    "duration": 28,
    "start_time": "2022-12-03T17:36:02.623Z"
   },
   {
    "duration": 98,
    "start_time": "2022-12-03T17:36:02.654Z"
   },
   {
    "duration": 9,
    "start_time": "2022-12-03T17:36:02.754Z"
   },
   {
    "duration": 12,
    "start_time": "2022-12-03T17:36:02.765Z"
   },
   {
    "duration": 5,
    "start_time": "2022-12-03T17:36:02.778Z"
   },
   {
    "duration": 33,
    "start_time": "2022-12-03T17:36:02.784Z"
   },
   {
    "duration": 4591,
    "start_time": "2022-12-03T17:36:02.818Z"
   },
   {
    "duration": 12,
    "start_time": "2022-12-03T17:36:07.411Z"
   },
   {
    "duration": 18,
    "start_time": "2022-12-03T17:36:07.428Z"
   },
   {
    "duration": 260,
    "start_time": "2022-12-03T17:36:07.448Z"
   },
   {
    "duration": 1111,
    "start_time": "2022-12-03T17:36:07.712Z"
   },
   {
    "duration": 31,
    "start_time": "2022-12-03T17:36:08.825Z"
   },
   {
    "duration": 4,
    "start_time": "2022-12-03T17:36:08.857Z"
   },
   {
    "duration": 334,
    "start_time": "2022-12-03T17:36:08.862Z"
   },
   {
    "duration": 282,
    "start_time": "2022-12-03T17:36:09.208Z"
   },
   {
    "duration": 333,
    "start_time": "2022-12-03T17:36:09.491Z"
   },
   {
    "duration": 399,
    "start_time": "2022-12-03T17:36:09.826Z"
   },
   {
    "duration": 4,
    "start_time": "2022-12-03T17:36:10.226Z"
   },
   {
    "duration": 53,
    "start_time": "2022-12-03T17:36:10.232Z"
   },
   {
    "duration": 24,
    "start_time": "2022-12-03T17:36:10.287Z"
   },
   {
    "duration": 13,
    "start_time": "2022-12-03T17:36:10.313Z"
   },
   {
    "duration": 11,
    "start_time": "2022-12-03T17:36:10.328Z"
   },
   {
    "duration": 11,
    "start_time": "2022-12-03T17:36:10.341Z"
   },
   {
    "duration": 5,
    "start_time": "2022-12-03T17:36:10.353Z"
   },
   {
    "duration": 16538,
    "start_time": "2022-12-03T17:36:10.359Z"
   },
   {
    "duration": 4,
    "start_time": "2022-12-03T17:37:00.217Z"
   },
   {
    "duration": 5,
    "start_time": "2022-12-03T17:49:03.096Z"
   },
   {
    "duration": 7,
    "start_time": "2022-12-03T17:49:04.302Z"
   },
   {
    "duration": 7,
    "start_time": "2022-12-03T17:49:05.817Z"
   },
   {
    "duration": 17,
    "start_time": "2022-12-03T17:49:08.200Z"
   },
   {
    "duration": 3,
    "start_time": "2022-12-03T17:49:09.038Z"
   },
   {
    "duration": 16401,
    "start_time": "2022-12-03T17:49:10.540Z"
   },
   {
    "duration": 1359,
    "start_time": "2022-12-03T17:49:49.301Z"
   },
   {
    "duration": 725,
    "start_time": "2022-12-03T17:49:50.661Z"
   },
   {
    "duration": 3,
    "start_time": "2022-12-03T17:49:51.387Z"
   },
   {
    "duration": 282,
    "start_time": "2022-12-03T17:49:51.392Z"
   },
   {
    "duration": 157,
    "start_time": "2022-12-03T17:49:51.676Z"
   },
   {
    "duration": 288,
    "start_time": "2022-12-03T17:49:51.835Z"
   },
   {
    "duration": 3,
    "start_time": "2022-12-03T17:49:52.124Z"
   },
   {
    "duration": 21,
    "start_time": "2022-12-03T17:49:52.129Z"
   },
   {
    "duration": 14,
    "start_time": "2022-12-03T17:49:52.151Z"
   },
   {
    "duration": 13,
    "start_time": "2022-12-03T17:49:52.166Z"
   },
   {
    "duration": 23,
    "start_time": "2022-12-03T17:49:52.181Z"
   },
   {
    "duration": 130,
    "start_time": "2022-12-03T17:49:52.206Z"
   },
   {
    "duration": 20,
    "start_time": "2022-12-03T17:49:52.337Z"
   },
   {
    "duration": 105,
    "start_time": "2022-12-03T17:49:52.361Z"
   },
   {
    "duration": 9,
    "start_time": "2022-12-03T17:49:52.468Z"
   },
   {
    "duration": 27,
    "start_time": "2022-12-03T17:49:52.479Z"
   },
   {
    "duration": 13,
    "start_time": "2022-12-03T17:49:52.507Z"
   },
   {
    "duration": 4758,
    "start_time": "2022-12-03T17:49:52.522Z"
   },
   {
    "duration": 8,
    "start_time": "2022-12-03T17:49:57.281Z"
   },
   {
    "duration": 56,
    "start_time": "2022-12-03T17:49:57.291Z"
   },
   {
    "duration": 264,
    "start_time": "2022-12-03T17:49:57.349Z"
   },
   {
    "duration": 1179,
    "start_time": "2022-12-03T17:49:57.618Z"
   },
   {
    "duration": 43,
    "start_time": "2022-12-03T17:49:58.799Z"
   },
   {
    "duration": 3,
    "start_time": "2022-12-03T17:49:58.844Z"
   },
   {
    "duration": 301,
    "start_time": "2022-12-03T17:49:58.848Z"
   },
   {
    "duration": 272,
    "start_time": "2022-12-03T17:49:59.150Z"
   },
   {
    "duration": 324,
    "start_time": "2022-12-03T17:49:59.424Z"
   },
   {
    "duration": 408,
    "start_time": "2022-12-03T17:49:59.750Z"
   },
   {
    "duration": 5,
    "start_time": "2022-12-03T17:50:00.160Z"
   },
   {
    "duration": 83,
    "start_time": "2022-12-03T17:50:00.167Z"
   },
   {
    "duration": 6,
    "start_time": "2022-12-03T17:50:00.251Z"
   },
   {
    "duration": 16,
    "start_time": "2022-12-03T17:50:00.259Z"
   },
   {
    "duration": 17,
    "start_time": "2022-12-03T17:50:00.277Z"
   },
   {
    "duration": 15,
    "start_time": "2022-12-03T17:50:00.296Z"
   },
   {
    "duration": 25,
    "start_time": "2022-12-03T17:50:00.312Z"
   },
   {
    "duration": 16560,
    "start_time": "2022-12-03T17:50:00.339Z"
   },
   {
    "duration": 6,
    "start_time": "2022-12-03T17:51:47.978Z"
   },
   {
    "duration": 3,
    "start_time": "2022-12-03T17:52:09.617Z"
   },
   {
    "duration": 5,
    "start_time": "2022-12-03T17:52:10.658Z"
   },
   {
    "duration": 6,
    "start_time": "2022-12-03T17:53:43.871Z"
   },
   {
    "duration": 3,
    "start_time": "2022-12-03T17:53:46.437Z"
   },
   {
    "duration": 5,
    "start_time": "2022-12-03T17:53:46.819Z"
   },
   {
    "duration": 16,
    "start_time": "2022-12-03T17:53:47.604Z"
   },
   {
    "duration": 2,
    "start_time": "2022-12-03T17:53:48.652Z"
   },
   {
    "duration": 16319,
    "start_time": "2022-12-03T17:53:49.850Z"
   },
   {
    "duration": 5,
    "start_time": "2022-12-03T17:55:07.757Z"
   },
   {
    "duration": 4,
    "start_time": "2022-12-03T17:55:10.013Z"
   },
   {
    "duration": 7,
    "start_time": "2022-12-03T17:55:13.600Z"
   },
   {
    "duration": 8,
    "start_time": "2022-12-03T17:55:14.543Z"
   },
   {
    "duration": 2,
    "start_time": "2022-12-03T17:55:15.621Z"
   },
   {
    "duration": 16467,
    "start_time": "2022-12-03T17:55:16.556Z"
   },
   {
    "duration": 24545,
    "start_time": "2022-12-03T17:57:05.520Z"
   },
   {
    "duration": 3,
    "start_time": "2022-12-03T17:58:55.971Z"
   },
   {
    "duration": 8,
    "start_time": "2022-12-03T17:58:56.609Z"
   },
   {
    "duration": 15925,
    "start_time": "2022-12-03T17:58:58.235Z"
   },
   {
    "duration": 4,
    "start_time": "2022-12-03T18:03:16.916Z"
   },
   {
    "duration": 4,
    "start_time": "2022-12-03T18:03:58.331Z"
   },
   {
    "duration": 3,
    "start_time": "2022-12-03T18:03:58.798Z"
   },
   {
    "duration": 6,
    "start_time": "2022-12-03T18:04:00.837Z"
   },
   {
    "duration": 3,
    "start_time": "2022-12-03T18:04:03.062Z"
   },
   {
    "duration": 8,
    "start_time": "2022-12-03T18:04:05.176Z"
   },
   {
    "duration": 16312,
    "start_time": "2022-12-03T18:04:06.569Z"
   },
   {
    "duration": 1468,
    "start_time": "2022-12-03T18:04:44.502Z"
   },
   {
    "duration": 713,
    "start_time": "2022-12-03T18:04:45.973Z"
   },
   {
    "duration": 3,
    "start_time": "2022-12-03T18:04:46.688Z"
   },
   {
    "duration": 288,
    "start_time": "2022-12-03T18:04:46.704Z"
   },
   {
    "duration": 162,
    "start_time": "2022-12-03T18:04:47.004Z"
   },
   {
    "duration": 294,
    "start_time": "2022-12-03T18:04:47.168Z"
   },
   {
    "duration": 3,
    "start_time": "2022-12-03T18:04:47.464Z"
   },
   {
    "duration": 12,
    "start_time": "2022-12-03T18:04:47.469Z"
   },
   {
    "duration": 24,
    "start_time": "2022-12-03T18:04:47.482Z"
   },
   {
    "duration": 5,
    "start_time": "2022-12-03T18:04:47.509Z"
   },
   {
    "duration": 13,
    "start_time": "2022-12-03T18:04:47.516Z"
   },
   {
    "duration": 158,
    "start_time": "2022-12-03T18:04:47.531Z"
   },
   {
    "duration": 36,
    "start_time": "2022-12-03T18:04:47.691Z"
   },
   {
    "duration": 97,
    "start_time": "2022-12-03T18:04:47.731Z"
   },
   {
    "duration": 13,
    "start_time": "2022-12-03T18:04:47.830Z"
   },
   {
    "duration": 11,
    "start_time": "2022-12-03T18:04:47.844Z"
   },
   {
    "duration": 9,
    "start_time": "2022-12-03T18:04:47.856Z"
   },
   {
    "duration": 4767,
    "start_time": "2022-12-03T18:04:47.866Z"
   },
   {
    "duration": 8,
    "start_time": "2022-12-03T18:04:52.635Z"
   },
   {
    "duration": 10,
    "start_time": "2022-12-03T18:04:52.645Z"
   },
   {
    "duration": 210,
    "start_time": "2022-12-03T18:04:52.656Z"
   },
   {
    "duration": 1069,
    "start_time": "2022-12-03T18:04:52.868Z"
   },
   {
    "duration": 37,
    "start_time": "2022-12-03T18:04:53.938Z"
   },
   {
    "duration": 4,
    "start_time": "2022-12-03T18:04:53.977Z"
   },
   {
    "duration": 324,
    "start_time": "2022-12-03T18:04:53.982Z"
   },
   {
    "duration": 273,
    "start_time": "2022-12-03T18:04:54.308Z"
   },
   {
    "duration": 308,
    "start_time": "2022-12-03T18:04:54.583Z"
   },
   {
    "duration": 431,
    "start_time": "2022-12-03T18:04:54.895Z"
   },
   {
    "duration": 4,
    "start_time": "2022-12-03T18:04:55.328Z"
   },
   {
    "duration": 90,
    "start_time": "2022-12-03T18:04:55.333Z"
   },
   {
    "duration": 4,
    "start_time": "2022-12-03T18:04:55.425Z"
   },
   {
    "duration": 19,
    "start_time": "2022-12-03T18:04:55.431Z"
   },
   {
    "duration": 17,
    "start_time": "2022-12-03T18:04:55.451Z"
   },
   {
    "duration": 28,
    "start_time": "2022-12-03T18:04:55.469Z"
   },
   {
    "duration": 22,
    "start_time": "2022-12-03T18:04:55.499Z"
   },
   {
    "duration": 16415,
    "start_time": "2022-12-03T18:04:55.523Z"
   },
   {
    "duration": 24937,
    "start_time": "2022-12-03T18:05:11.940Z"
   },
   {
    "duration": 5,
    "start_time": "2022-12-03T18:06:28.081Z"
   },
   {
    "duration": 3,
    "start_time": "2022-12-03T18:06:28.609Z"
   },
   {
    "duration": 7,
    "start_time": "2022-12-03T18:06:29.155Z"
   },
   {
    "duration": 3,
    "start_time": "2022-12-03T18:06:30.103Z"
   },
   {
    "duration": 11,
    "start_time": "2022-12-03T18:06:30.907Z"
   },
   {
    "duration": 16355,
    "start_time": "2022-12-03T18:06:31.750Z"
   },
   {
    "duration": 5,
    "start_time": "2022-12-03T18:07:56.455Z"
   },
   {
    "duration": 791,
    "start_time": "2022-12-03T18:07:57.200Z"
   },
   {
    "duration": 3,
    "start_time": "2022-12-03T18:07:59.619Z"
   },
   {
    "duration": 1406,
    "start_time": "2022-12-03T18:08:09.896Z"
   },
   {
    "duration": 712,
    "start_time": "2022-12-03T18:08:11.304Z"
   },
   {
    "duration": 4,
    "start_time": "2022-12-03T18:08:12.017Z"
   },
   {
    "duration": 269,
    "start_time": "2022-12-03T18:08:12.023Z"
   },
   {
    "duration": 157,
    "start_time": "2022-12-03T18:08:12.293Z"
   },
   {
    "duration": 267,
    "start_time": "2022-12-03T18:08:12.451Z"
   },
   {
    "duration": 4,
    "start_time": "2022-12-03T18:08:12.720Z"
   },
   {
    "duration": 11,
    "start_time": "2022-12-03T18:08:12.726Z"
   },
   {
    "duration": 12,
    "start_time": "2022-12-03T18:08:12.738Z"
   },
   {
    "duration": 8,
    "start_time": "2022-12-03T18:08:12.753Z"
   },
   {
    "duration": 14,
    "start_time": "2022-12-03T18:08:12.762Z"
   },
   {
    "duration": 133,
    "start_time": "2022-12-03T18:08:12.778Z"
   },
   {
    "duration": 19,
    "start_time": "2022-12-03T18:08:12.913Z"
   },
   {
    "duration": 99,
    "start_time": "2022-12-03T18:08:12.934Z"
   },
   {
    "duration": 11,
    "start_time": "2022-12-03T18:08:13.034Z"
   },
   {
    "duration": 12,
    "start_time": "2022-12-03T18:08:13.046Z"
   },
   {
    "duration": 10,
    "start_time": "2022-12-03T18:08:13.059Z"
   },
   {
    "duration": 4625,
    "start_time": "2022-12-03T18:08:13.071Z"
   },
   {
    "duration": 13,
    "start_time": "2022-12-03T18:08:17.698Z"
   },
   {
    "duration": 9,
    "start_time": "2022-12-03T18:08:17.712Z"
   },
   {
    "duration": 210,
    "start_time": "2022-12-03T18:08:17.723Z"
   },
   {
    "duration": 1094,
    "start_time": "2022-12-03T18:08:17.934Z"
   },
   {
    "duration": 36,
    "start_time": "2022-12-03T18:08:19.030Z"
   },
   {
    "duration": 4,
    "start_time": "2022-12-03T18:08:19.068Z"
   },
   {
    "duration": 313,
    "start_time": "2022-12-03T18:08:19.073Z"
   },
   {
    "duration": 272,
    "start_time": "2022-12-03T18:08:19.388Z"
   },
   {
    "duration": 306,
    "start_time": "2022-12-03T18:08:19.662Z"
   },
   {
    "duration": 384,
    "start_time": "2022-12-03T18:08:19.971Z"
   },
   {
    "duration": 3,
    "start_time": "2022-12-03T18:08:20.357Z"
   },
   {
    "duration": 63,
    "start_time": "2022-12-03T18:08:20.362Z"
   },
   {
    "duration": 5,
    "start_time": "2022-12-03T18:08:20.427Z"
   },
   {
    "duration": 10,
    "start_time": "2022-12-03T18:08:20.434Z"
   },
   {
    "duration": 9,
    "start_time": "2022-12-03T18:08:20.446Z"
   },
   {
    "duration": 6,
    "start_time": "2022-12-03T18:08:20.457Z"
   },
   {
    "duration": 13,
    "start_time": "2022-12-03T18:08:20.465Z"
   },
   {
    "duration": 15871,
    "start_time": "2022-12-03T18:08:20.480Z"
   },
   {
    "duration": 24369,
    "start_time": "2022-12-03T18:08:36.353Z"
   },
   {
    "duration": 4,
    "start_time": "2022-12-03T18:09:13.546Z"
   },
   {
    "duration": 1286,
    "start_time": "2022-12-03T18:09:14.821Z"
   },
   {
    "duration": 0,
    "start_time": "2022-12-03T18:09:16.109Z"
   },
   {
    "duration": 4,
    "start_time": "2022-12-03T18:09:23.818Z"
   },
   {
    "duration": 1172,
    "start_time": "2022-12-03T18:09:24.272Z"
   },
   {
    "duration": 4,
    "start_time": "2022-12-03T18:09:42.934Z"
   },
   {
    "duration": 711,
    "start_time": "2022-12-03T18:09:43.734Z"
   },
   {
    "duration": 3,
    "start_time": "2022-12-03T18:09:44.448Z"
   },
   {
    "duration": 239,
    "start_time": "2022-12-03T18:09:44.510Z"
   },
   {
    "duration": 142,
    "start_time": "2022-12-03T18:09:48.901Z"
   },
   {
    "duration": 251,
    "start_time": "2022-12-03T18:09:49.249Z"
   },
   {
    "duration": 4,
    "start_time": "2022-12-03T18:09:51.659Z"
   },
   {
    "duration": 9,
    "start_time": "2022-12-03T18:09:52.297Z"
   },
   {
    "duration": 7,
    "start_time": "2022-12-03T18:09:57.869Z"
   },
   {
    "duration": 5,
    "start_time": "2022-12-03T18:10:02.269Z"
   },
   {
    "duration": 9,
    "start_time": "2022-12-03T18:10:04.381Z"
   },
   {
    "duration": 10,
    "start_time": "2022-12-03T18:11:06.070Z"
   },
   {
    "duration": 11,
    "start_time": "2022-12-03T18:11:07.568Z"
   },
   {
    "duration": 9,
    "start_time": "2022-12-03T18:11:08.850Z"
   },
   {
    "duration": 891,
    "start_time": "2022-12-03T18:11:36.051Z"
   },
   {
    "duration": 29,
    "start_time": "2022-12-03T18:11:37.117Z"
   },
   {
    "duration": 4,
    "start_time": "2022-12-03T18:11:37.621Z"
   },
   {
    "duration": 271,
    "start_time": "2022-12-03T18:11:37.781Z"
   },
   {
    "duration": 387,
    "start_time": "2022-12-03T18:11:38.054Z"
   },
   {
    "duration": 285,
    "start_time": "2022-12-03T18:11:38.477Z"
   },
   {
    "duration": 279,
    "start_time": "2022-12-03T18:11:38.764Z"
   },
   {
    "duration": 3,
    "start_time": "2022-12-03T18:11:39.045Z"
   },
   {
    "duration": 59,
    "start_time": "2022-12-03T18:11:39.050Z"
   },
   {
    "duration": 5,
    "start_time": "2022-12-03T18:11:39.344Z"
   },
   {
    "duration": 3,
    "start_time": "2022-12-03T18:11:39.529Z"
   },
   {
    "duration": 6,
    "start_time": "2022-12-03T18:11:39.941Z"
   },
   {
    "duration": 13,
    "start_time": "2022-12-03T18:11:39.949Z"
   },
   {
    "duration": 8,
    "start_time": "2022-12-03T18:11:43.148Z"
   },
   {
    "duration": 16034,
    "start_time": "2022-12-03T18:11:44.059Z"
   },
   {
    "duration": 3,
    "start_time": "2022-12-03T18:24:39.385Z"
   },
   {
    "duration": 7,
    "start_time": "2022-12-03T18:24:40.233Z"
   },
   {
    "duration": 15972,
    "start_time": "2022-12-03T18:26:01.906Z"
   },
   {
    "duration": 1385,
    "start_time": "2022-12-03T18:37:27.677Z"
   },
   {
    "duration": 706,
    "start_time": "2022-12-03T18:37:29.064Z"
   },
   {
    "duration": 4,
    "start_time": "2022-12-03T18:37:29.772Z"
   },
   {
    "duration": 315,
    "start_time": "2022-12-03T18:37:29.778Z"
   },
   {
    "duration": 154,
    "start_time": "2022-12-03T18:37:30.095Z"
   },
   {
    "duration": 285,
    "start_time": "2022-12-03T18:37:30.251Z"
   },
   {
    "duration": 3,
    "start_time": "2022-12-03T18:37:30.538Z"
   },
   {
    "duration": 122,
    "start_time": "2022-12-03T18:37:30.543Z"
   },
   {
    "duration": 71,
    "start_time": "2022-12-03T18:37:30.667Z"
   },
   {
    "duration": 75,
    "start_time": "2022-12-03T18:37:30.742Z"
   },
   {
    "duration": 69,
    "start_time": "2022-12-03T18:37:30.819Z"
   },
   {
    "duration": 157,
    "start_time": "2022-12-03T18:37:30.890Z"
   },
   {
    "duration": 25,
    "start_time": "2022-12-03T18:37:31.048Z"
   },
   {
    "duration": 143,
    "start_time": "2022-12-03T18:37:31.075Z"
   },
   {
    "duration": 13,
    "start_time": "2022-12-03T18:37:31.220Z"
   },
   {
    "duration": 105,
    "start_time": "2022-12-03T18:37:31.234Z"
   },
   {
    "duration": 82,
    "start_time": "2022-12-03T18:37:31.340Z"
   },
   {
    "duration": 4588,
    "start_time": "2022-12-03T18:37:31.423Z"
   },
   {
    "duration": 6,
    "start_time": "2022-12-03T18:37:36.013Z"
   },
   {
    "duration": 90,
    "start_time": "2022-12-03T18:37:36.021Z"
   },
   {
    "duration": 222,
    "start_time": "2022-12-03T18:37:36.112Z"
   },
   {
    "duration": 1009,
    "start_time": "2022-12-03T18:37:36.335Z"
   },
   {
    "duration": 41,
    "start_time": "2022-12-03T18:37:37.347Z"
   },
   {
    "duration": 18,
    "start_time": "2022-12-03T18:37:37.390Z"
   },
   {
    "duration": 364,
    "start_time": "2022-12-03T18:37:37.410Z"
   },
   {
    "duration": 266,
    "start_time": "2022-12-03T18:37:37.775Z"
   },
   {
    "duration": 326,
    "start_time": "2022-12-03T18:37:38.043Z"
   },
   {
    "duration": 412,
    "start_time": "2022-12-03T18:37:38.373Z"
   },
   {
    "duration": 4,
    "start_time": "2022-12-03T18:37:38.786Z"
   },
   {
    "duration": 56,
    "start_time": "2022-12-03T18:37:38.804Z"
   },
   {
    "duration": 5,
    "start_time": "2022-12-03T18:37:38.862Z"
   },
   {
    "duration": 56,
    "start_time": "2022-12-03T18:37:38.869Z"
   },
   {
    "duration": 46,
    "start_time": "2022-12-03T18:37:38.927Z"
   },
   {
    "duration": 39,
    "start_time": "2022-12-03T18:37:38.974Z"
   },
   {
    "duration": 32,
    "start_time": "2022-12-03T18:37:39.014Z"
   },
   {
    "duration": 28569,
    "start_time": "2022-12-03T18:37:39.048Z"
   },
   {
    "duration": 52602,
    "start_time": "2022-12-03T18:38:07.619Z"
   },
   {
    "duration": 75,
    "start_time": "2022-12-03T18:40:16.292Z"
   },
   {
    "duration": 85,
    "start_time": "2022-12-03T19:24:06.401Z"
   },
   {
    "duration": 1502,
    "start_time": "2022-12-04T07:33:59.124Z"
   },
   {
    "duration": 2020,
    "start_time": "2022-12-04T07:34:00.628Z"
   },
   {
    "duration": 3,
    "start_time": "2022-12-04T07:34:02.649Z"
   },
   {
    "duration": 276,
    "start_time": "2022-12-04T07:34:02.653Z"
   },
   {
    "duration": 161,
    "start_time": "2022-12-04T07:34:02.932Z"
   },
   {
    "duration": 276,
    "start_time": "2022-12-04T07:34:03.094Z"
   },
   {
    "duration": 4,
    "start_time": "2022-12-04T07:34:03.378Z"
   },
   {
    "duration": 15,
    "start_time": "2022-12-04T07:34:03.383Z"
   },
   {
    "duration": 10,
    "start_time": "2022-12-04T07:34:03.400Z"
   },
   {
    "duration": 14,
    "start_time": "2022-12-04T07:34:03.412Z"
   },
   {
    "duration": 8,
    "start_time": "2022-12-04T07:34:03.428Z"
   },
   {
    "duration": 120,
    "start_time": "2022-12-04T07:34:03.438Z"
   },
   {
    "duration": 25,
    "start_time": "2022-12-04T07:34:03.560Z"
   },
   {
    "duration": 79,
    "start_time": "2022-12-04T07:34:03.589Z"
   },
   {
    "duration": 10,
    "start_time": "2022-12-04T07:34:03.679Z"
   },
   {
    "duration": 21,
    "start_time": "2022-12-04T07:34:03.691Z"
   },
   {
    "duration": 11,
    "start_time": "2022-12-04T07:34:03.714Z"
   },
   {
    "duration": 4686,
    "start_time": "2022-12-04T07:34:03.727Z"
   },
   {
    "duration": 7,
    "start_time": "2022-12-04T07:34:08.415Z"
   },
   {
    "duration": 14,
    "start_time": "2022-12-04T07:34:08.424Z"
   },
   {
    "duration": 206,
    "start_time": "2022-12-04T07:34:08.440Z"
   },
   {
    "duration": 1016,
    "start_time": "2022-12-04T07:34:08.648Z"
   },
   {
    "duration": 35,
    "start_time": "2022-12-04T07:34:09.666Z"
   },
   {
    "duration": 3,
    "start_time": "2022-12-04T07:34:09.702Z"
   },
   {
    "duration": 289,
    "start_time": "2022-12-04T07:34:09.707Z"
   },
   {
    "duration": 267,
    "start_time": "2022-12-04T07:34:09.997Z"
   },
   {
    "duration": 298,
    "start_time": "2022-12-04T07:34:10.266Z"
   },
   {
    "duration": 407,
    "start_time": "2022-12-04T07:34:10.566Z"
   },
   {
    "duration": 6,
    "start_time": "2022-12-04T07:34:10.974Z"
   },
   {
    "duration": 62,
    "start_time": "2022-12-04T07:34:10.982Z"
   },
   {
    "duration": 6,
    "start_time": "2022-12-04T07:34:11.046Z"
   },
   {
    "duration": 22,
    "start_time": "2022-12-04T07:34:11.053Z"
   },
   {
    "duration": 42,
    "start_time": "2022-12-04T07:34:11.077Z"
   },
   {
    "duration": 13,
    "start_time": "2022-12-04T07:34:11.121Z"
   },
   {
    "duration": 22,
    "start_time": "2022-12-04T07:34:11.136Z"
   },
   {
    "duration": 27604,
    "start_time": "2022-12-04T07:34:11.160Z"
   },
   {
    "duration": 50458,
    "start_time": "2022-12-04T07:34:38.766Z"
   },
   {
    "duration": 73,
    "start_time": "2022-12-04T07:36:19.443Z"
   },
   {
    "duration": 5,
    "start_time": "2022-12-04T08:08:25.226Z"
   },
   {
    "duration": 2,
    "start_time": "2022-12-04T08:08:29.008Z"
   },
   {
    "duration": 6,
    "start_time": "2022-12-04T08:08:29.774Z"
   },
   {
    "duration": 3,
    "start_time": "2022-12-04T08:08:30.626Z"
   },
   {
    "duration": 8,
    "start_time": "2022-12-04T08:08:32.283Z"
   },
   {
    "duration": 27200,
    "start_time": "2022-12-04T08:08:33.092Z"
   },
   {
    "duration": 6,
    "start_time": "2022-12-04T08:15:28.775Z"
   },
   {
    "duration": 3,
    "start_time": "2022-12-04T08:15:31.065Z"
   },
   {
    "duration": 6,
    "start_time": "2022-12-04T08:15:31.635Z"
   },
   {
    "duration": 3,
    "start_time": "2022-12-04T08:15:32.183Z"
   },
   {
    "duration": 8,
    "start_time": "2022-12-04T08:15:33.702Z"
   },
   {
    "duration": 26977,
    "start_time": "2022-12-04T08:15:34.811Z"
   },
   {
    "duration": 6,
    "start_time": "2022-12-04T08:18:19.764Z"
   },
   {
    "duration": 3,
    "start_time": "2022-12-04T08:18:24.675Z"
   },
   {
    "duration": 5,
    "start_time": "2022-12-04T08:18:25.416Z"
   },
   {
    "duration": 2,
    "start_time": "2022-12-04T08:18:25.874Z"
   },
   {
    "duration": 8,
    "start_time": "2022-12-04T08:18:27.187Z"
   },
   {
    "duration": 27249,
    "start_time": "2022-12-04T08:18:28.249Z"
   },
   {
    "duration": 5,
    "start_time": "2022-12-04T08:25:31.858Z"
   },
   {
    "duration": 4,
    "start_time": "2022-12-04T08:25:33.988Z"
   },
   {
    "duration": 5,
    "start_time": "2022-12-04T08:25:34.900Z"
   },
   {
    "duration": 3,
    "start_time": "2022-12-04T08:25:35.652Z"
   },
   {
    "duration": 8,
    "start_time": "2022-12-04T08:25:36.973Z"
   },
   {
    "duration": 27122,
    "start_time": "2022-12-04T08:25:37.516Z"
   },
   {
    "duration": 1427,
    "start_time": "2022-12-04T09:40:21.241Z"
   },
   {
    "duration": 665,
    "start_time": "2022-12-04T09:40:22.670Z"
   },
   {
    "duration": 3,
    "start_time": "2022-12-04T09:40:23.336Z"
   },
   {
    "duration": 258,
    "start_time": "2022-12-04T09:40:23.341Z"
   },
   {
    "duration": 150,
    "start_time": "2022-12-04T09:40:23.600Z"
   },
   {
    "duration": 321,
    "start_time": "2022-12-04T09:40:23.752Z"
   },
   {
    "duration": 3,
    "start_time": "2022-12-04T09:40:24.078Z"
   },
   {
    "duration": 15,
    "start_time": "2022-12-04T09:40:24.083Z"
   },
   {
    "duration": 7,
    "start_time": "2022-12-04T09:40:24.102Z"
   },
   {
    "duration": 7,
    "start_time": "2022-12-04T09:40:24.113Z"
   },
   {
    "duration": 16,
    "start_time": "2022-12-04T09:40:24.122Z"
   },
   {
    "duration": 140,
    "start_time": "2022-12-04T09:40:24.140Z"
   },
   {
    "duration": 18,
    "start_time": "2022-12-04T09:40:24.282Z"
   },
   {
    "duration": 92,
    "start_time": "2022-12-04T09:40:24.302Z"
   },
   {
    "duration": 10,
    "start_time": "2022-12-04T09:40:24.395Z"
   },
   {
    "duration": 11,
    "start_time": "2022-12-04T09:40:24.406Z"
   },
   {
    "duration": 10,
    "start_time": "2022-12-04T09:40:24.418Z"
   },
   {
    "duration": 4460,
    "start_time": "2022-12-04T09:40:24.429Z"
   },
   {
    "duration": 8,
    "start_time": "2022-12-04T09:40:28.891Z"
   },
   {
    "duration": 14,
    "start_time": "2022-12-04T09:40:28.900Z"
   },
   {
    "duration": 209,
    "start_time": "2022-12-04T09:40:28.916Z"
   },
   {
    "duration": 1048,
    "start_time": "2022-12-04T09:40:29.127Z"
   },
   {
    "duration": 33,
    "start_time": "2022-12-04T09:40:30.177Z"
   },
   {
    "duration": 24,
    "start_time": "2022-12-04T09:40:30.211Z"
   },
   {
    "duration": 312,
    "start_time": "2022-12-04T09:40:30.238Z"
   },
   {
    "duration": 289,
    "start_time": "2022-12-04T09:40:30.552Z"
   },
   {
    "duration": 306,
    "start_time": "2022-12-04T09:40:30.843Z"
   },
   {
    "duration": 405,
    "start_time": "2022-12-04T09:40:31.153Z"
   },
   {
    "duration": 4,
    "start_time": "2022-12-04T09:40:31.559Z"
   },
   {
    "duration": 65,
    "start_time": "2022-12-04T09:40:31.565Z"
   },
   {
    "duration": 6,
    "start_time": "2022-12-04T09:40:31.632Z"
   },
   {
    "duration": 28,
    "start_time": "2022-12-04T09:40:31.640Z"
   },
   {
    "duration": 17,
    "start_time": "2022-12-04T09:40:31.669Z"
   },
   {
    "duration": 10,
    "start_time": "2022-12-04T09:40:31.688Z"
   },
   {
    "duration": 27,
    "start_time": "2022-12-04T09:40:31.700Z"
   },
   {
    "duration": 27450,
    "start_time": "2022-12-04T09:40:31.729Z"
   },
   {
    "duration": 49931,
    "start_time": "2022-12-04T09:40:59.180Z"
   },
   {
    "duration": 50175,
    "start_time": "2022-12-04T09:59:15.233Z"
   },
   {
    "duration": 6,
    "start_time": "2022-12-04T10:01:57.144Z"
   },
   {
    "duration": 3,
    "start_time": "2022-12-04T10:01:59.426Z"
   },
   {
    "duration": 9,
    "start_time": "2022-12-04T10:02:01.064Z"
   },
   {
    "duration": 27289,
    "start_time": "2022-12-04T10:02:01.747Z"
   },
   {
    "duration": 6,
    "start_time": "2022-12-04T10:10:25.689Z"
   },
   {
    "duration": 3,
    "start_time": "2022-12-04T10:10:27.755Z"
   },
   {
    "duration": 6,
    "start_time": "2022-12-04T10:10:29.701Z"
   },
   {
    "duration": 3,
    "start_time": "2022-12-04T10:10:30.613Z"
   },
   {
    "duration": 105,
    "start_time": "2022-12-04T10:10:32.374Z"
   },
   {
    "duration": 10,
    "start_time": "2022-12-04T10:12:11.129Z"
   },
   {
    "duration": 49,
    "start_time": "2022-12-04T10:13:23.253Z"
   },
   {
    "duration": 47,
    "start_time": "2022-12-04T10:13:39.805Z"
   },
   {
    "duration": 8,
    "start_time": "2022-12-04T10:15:50.864Z"
   },
   {
    "duration": 16,
    "start_time": "2022-12-04T10:15:56.587Z"
   },
   {
    "duration": 10,
    "start_time": "2022-12-04T10:16:50.849Z"
   },
   {
    "duration": 27997,
    "start_time": "2022-12-04T10:16:51.857Z"
   },
   {
    "duration": 8,
    "start_time": "2022-12-04T10:19:58.808Z"
   },
   {
    "duration": 18,
    "start_time": "2022-12-04T10:19:59.444Z"
   },
   {
    "duration": 1330,
    "start_time": "2022-12-04T10:22:04.166Z"
   },
   {
    "duration": 674,
    "start_time": "2022-12-04T10:22:05.498Z"
   },
   {
    "duration": 4,
    "start_time": "2022-12-04T10:22:06.174Z"
   },
   {
    "duration": 288,
    "start_time": "2022-12-04T10:22:06.180Z"
   },
   {
    "duration": 159,
    "start_time": "2022-12-04T10:22:06.469Z"
   },
   {
    "duration": 294,
    "start_time": "2022-12-04T10:22:06.630Z"
   },
   {
    "duration": 4,
    "start_time": "2022-12-04T10:22:06.926Z"
   },
   {
    "duration": 21,
    "start_time": "2022-12-04T10:22:06.932Z"
   },
   {
    "duration": 11,
    "start_time": "2022-12-04T10:22:06.955Z"
   },
   {
    "duration": 20,
    "start_time": "2022-12-04T10:22:06.970Z"
   },
   {
    "duration": 13,
    "start_time": "2022-12-04T10:22:06.992Z"
   },
   {
    "duration": 130,
    "start_time": "2022-12-04T10:22:07.007Z"
   },
   {
    "duration": 19,
    "start_time": "2022-12-04T10:22:07.139Z"
   },
   {
    "duration": 101,
    "start_time": "2022-12-04T10:22:07.160Z"
   },
   {
    "duration": 17,
    "start_time": "2022-12-04T10:22:07.263Z"
   },
   {
    "duration": 12,
    "start_time": "2022-12-04T10:22:07.281Z"
   },
   {
    "duration": 12,
    "start_time": "2022-12-04T10:22:07.295Z"
   },
   {
    "duration": 4503,
    "start_time": "2022-12-04T10:22:07.309Z"
   },
   {
    "duration": 7,
    "start_time": "2022-12-04T10:22:11.814Z"
   },
   {
    "duration": 11,
    "start_time": "2022-12-04T10:22:11.822Z"
   },
   {
    "duration": 223,
    "start_time": "2022-12-04T10:22:11.835Z"
   },
   {
    "duration": 1149,
    "start_time": "2022-12-04T10:22:12.060Z"
   },
   {
    "duration": 36,
    "start_time": "2022-12-04T10:22:13.211Z"
   },
   {
    "duration": 3,
    "start_time": "2022-12-04T10:22:13.249Z"
   },
   {
    "duration": 353,
    "start_time": "2022-12-04T10:22:13.254Z"
   },
   {
    "duration": 325,
    "start_time": "2022-12-04T10:22:13.609Z"
   },
   {
    "duration": 404,
    "start_time": "2022-12-04T10:22:13.937Z"
   },
   {
    "duration": 455,
    "start_time": "2022-12-04T10:22:14.345Z"
   },
   {
    "duration": 4,
    "start_time": "2022-12-04T10:22:14.801Z"
   },
   {
    "duration": 58,
    "start_time": "2022-12-04T10:22:14.807Z"
   },
   {
    "duration": 6,
    "start_time": "2022-12-04T10:22:14.880Z"
   },
   {
    "duration": 7,
    "start_time": "2022-12-04T10:22:14.888Z"
   },
   {
    "duration": 9,
    "start_time": "2022-12-04T10:22:14.897Z"
   },
   {
    "duration": 8,
    "start_time": "2022-12-04T10:22:14.908Z"
   },
   {
    "duration": 11,
    "start_time": "2022-12-04T10:22:14.918Z"
   },
   {
    "duration": 144,
    "start_time": "2022-12-04T10:22:14.931Z"
   },
   {
    "duration": 0,
    "start_time": "2022-12-04T10:22:15.078Z"
   },
   {
    "duration": 7,
    "start_time": "2022-12-04T10:38:51.024Z"
   },
   {
    "duration": 3,
    "start_time": "2022-12-04T10:38:52.260Z"
   },
   {
    "duration": 8,
    "start_time": "2022-12-04T10:38:53.736Z"
   },
   {
    "duration": 27351,
    "start_time": "2022-12-04T10:38:54.885Z"
   },
   {
    "duration": 1658,
    "start_time": "2022-12-06T20:19:54.049Z"
   },
   {
    "duration": 2152,
    "start_time": "2022-12-06T20:19:55.709Z"
   },
   {
    "duration": 4,
    "start_time": "2022-12-06T20:19:57.862Z"
   },
   {
    "duration": 269,
    "start_time": "2022-12-06T20:19:57.867Z"
   },
   {
    "duration": 174,
    "start_time": "2022-12-06T20:19:58.138Z"
   },
   {
    "duration": 301,
    "start_time": "2022-12-06T20:19:58.314Z"
   },
   {
    "duration": 4,
    "start_time": "2022-12-06T20:19:58.617Z"
   },
   {
    "duration": 15,
    "start_time": "2022-12-06T20:19:58.623Z"
   },
   {
    "duration": 8,
    "start_time": "2022-12-06T20:19:58.651Z"
   },
   {
    "duration": 7,
    "start_time": "2022-12-06T20:19:58.660Z"
   },
   {
    "duration": 10,
    "start_time": "2022-12-06T20:19:58.668Z"
   },
   {
    "duration": 146,
    "start_time": "2022-12-06T20:19:58.680Z"
   },
   {
    "duration": 28,
    "start_time": "2022-12-06T20:19:58.828Z"
   },
   {
    "duration": 98,
    "start_time": "2022-12-06T20:19:58.859Z"
   },
   {
    "duration": 13,
    "start_time": "2022-12-06T20:19:58.959Z"
   },
   {
    "duration": 14,
    "start_time": "2022-12-06T20:19:58.974Z"
   },
   {
    "duration": 12,
    "start_time": "2022-12-06T20:19:58.990Z"
   },
   {
    "duration": 4986,
    "start_time": "2022-12-06T20:19:59.004Z"
   },
   {
    "duration": 7,
    "start_time": "2022-12-06T20:20:03.992Z"
   },
   {
    "duration": 9,
    "start_time": "2022-12-06T20:20:04.000Z"
   },
   {
    "duration": 243,
    "start_time": "2022-12-06T20:20:04.011Z"
   },
   {
    "duration": 1168,
    "start_time": "2022-12-06T20:20:04.256Z"
   },
   {
    "duration": 46,
    "start_time": "2022-12-06T20:20:05.426Z"
   },
   {
    "duration": 4,
    "start_time": "2022-12-06T20:20:05.473Z"
   },
   {
    "duration": 321,
    "start_time": "2022-12-06T20:20:05.478Z"
   },
   {
    "duration": 303,
    "start_time": "2022-12-06T20:20:05.801Z"
   },
   {
    "duration": 326,
    "start_time": "2022-12-06T20:20:06.106Z"
   },
   {
    "duration": 442,
    "start_time": "2022-12-06T20:20:06.434Z"
   },
   {
    "duration": 3,
    "start_time": "2022-12-06T20:20:06.878Z"
   },
   {
    "duration": 70,
    "start_time": "2022-12-06T20:20:06.882Z"
   },
   {
    "duration": 5,
    "start_time": "2022-12-06T20:20:06.954Z"
   },
   {
    "duration": 7,
    "start_time": "2022-12-06T20:20:06.961Z"
   },
   {
    "duration": 9,
    "start_time": "2022-12-06T20:20:06.970Z"
   },
   {
    "duration": 8,
    "start_time": "2022-12-06T20:20:06.981Z"
   },
   {
    "duration": 9,
    "start_time": "2022-12-06T20:20:06.991Z"
   },
   {
    "duration": 31064,
    "start_time": "2022-12-06T20:20:07.001Z"
   },
   {
    "duration": 57950,
    "start_time": "2022-12-06T20:20:38.067Z"
   },
   {
    "duration": 10,
    "start_time": "2022-12-07T07:44:59.081Z"
   },
   {
    "duration": 3,
    "start_time": "2022-12-07T07:45:01.730Z"
   },
   {
    "duration": 41,
    "start_time": "2022-12-07T07:45:02.242Z"
   },
   {
    "duration": 6,
    "start_time": "2022-12-07T07:45:03.125Z"
   },
   {
    "duration": 1434,
    "start_time": "2022-12-07T07:45:18.719Z"
   },
   {
    "duration": 2566,
    "start_time": "2022-12-07T07:45:20.155Z"
   },
   {
    "duration": 4,
    "start_time": "2022-12-07T07:45:22.722Z"
   },
   {
    "duration": 243,
    "start_time": "2022-12-07T07:45:22.728Z"
   },
   {
    "duration": 147,
    "start_time": "2022-12-07T07:45:22.973Z"
   },
   {
    "duration": 261,
    "start_time": "2022-12-07T07:45:23.121Z"
   },
   {
    "duration": 3,
    "start_time": "2022-12-07T07:45:23.384Z"
   },
   {
    "duration": 10,
    "start_time": "2022-12-07T07:45:23.397Z"
   },
   {
    "duration": 11,
    "start_time": "2022-12-07T07:45:23.408Z"
   },
   {
    "duration": 6,
    "start_time": "2022-12-07T07:45:23.420Z"
   },
   {
    "duration": 12,
    "start_time": "2022-12-07T07:45:23.427Z"
   },
   {
    "duration": 114,
    "start_time": "2022-12-07T07:45:23.440Z"
   },
   {
    "duration": 18,
    "start_time": "2022-12-07T07:45:23.555Z"
   },
   {
    "duration": 90,
    "start_time": "2022-12-07T07:45:23.575Z"
   },
   {
    "duration": 9,
    "start_time": "2022-12-07T07:45:23.667Z"
   },
   {
    "duration": 22,
    "start_time": "2022-12-07T07:45:23.677Z"
   },
   {
    "duration": 8,
    "start_time": "2022-12-07T07:45:23.701Z"
   },
   {
    "duration": 4280,
    "start_time": "2022-12-07T07:45:23.711Z"
   },
   {
    "duration": 8,
    "start_time": "2022-12-07T07:45:27.993Z"
   },
   {
    "duration": 10,
    "start_time": "2022-12-07T07:45:28.002Z"
   },
   {
    "duration": 204,
    "start_time": "2022-12-07T07:45:28.013Z"
   },
   {
    "duration": 1040,
    "start_time": "2022-12-07T07:45:28.218Z"
   },
   {
    "duration": 41,
    "start_time": "2022-12-07T07:45:29.260Z"
   },
   {
    "duration": 4,
    "start_time": "2022-12-07T07:45:29.302Z"
   },
   {
    "duration": 301,
    "start_time": "2022-12-07T07:45:29.307Z"
   },
   {
    "duration": 262,
    "start_time": "2022-12-07T07:45:29.610Z"
   },
   {
    "duration": 357,
    "start_time": "2022-12-07T07:45:29.874Z"
   },
   {
    "duration": 389,
    "start_time": "2022-12-07T07:45:30.233Z"
   },
   {
    "duration": 4,
    "start_time": "2022-12-07T07:45:30.623Z"
   },
   {
    "duration": 74,
    "start_time": "2022-12-07T07:45:30.629Z"
   },
   {
    "duration": 6,
    "start_time": "2022-12-07T07:45:30.705Z"
   },
   {
    "duration": 46,
    "start_time": "2022-12-07T07:45:30.713Z"
   },
   {
    "duration": 45,
    "start_time": "2022-12-07T07:45:30.760Z"
   },
   {
    "duration": 26,
    "start_time": "2022-12-07T07:45:30.807Z"
   },
   {
    "duration": 44,
    "start_time": "2022-12-07T07:45:30.834Z"
   },
   {
    "duration": 28839,
    "start_time": "2022-12-07T07:45:30.880Z"
   },
   {
    "duration": 53162,
    "start_time": "2022-12-07T07:45:59.721Z"
   },
   {
    "duration": 29316,
    "start_time": "2022-12-07T07:46:52.887Z"
   },
   {
    "duration": 6,
    "start_time": "2022-12-07T07:48:00.801Z"
   },
   {
    "duration": 3,
    "start_time": "2022-12-07T07:48:03.433Z"
   },
   {
    "duration": 8,
    "start_time": "2022-12-07T07:48:04.471Z"
   },
   {
    "duration": 29029,
    "start_time": "2022-12-07T07:48:05.271Z"
   },
   {
    "duration": 1208,
    "start_time": "2022-12-07T07:49:16.747Z"
   },
   {
    "duration": 635,
    "start_time": "2022-12-07T07:49:17.957Z"
   },
   {
    "duration": 3,
    "start_time": "2022-12-07T07:49:18.594Z"
   },
   {
    "duration": 258,
    "start_time": "2022-12-07T07:49:18.599Z"
   },
   {
    "duration": 160,
    "start_time": "2022-12-07T07:49:18.859Z"
   },
   {
    "duration": 278,
    "start_time": "2022-12-07T07:49:19.021Z"
   },
   {
    "duration": 4,
    "start_time": "2022-12-07T07:49:19.300Z"
   },
   {
    "duration": 15,
    "start_time": "2022-12-07T07:49:19.305Z"
   },
   {
    "duration": 5,
    "start_time": "2022-12-07T07:49:19.322Z"
   },
   {
    "duration": 4,
    "start_time": "2022-12-07T07:49:19.330Z"
   },
   {
    "duration": 9,
    "start_time": "2022-12-07T07:49:19.335Z"
   },
   {
    "duration": 133,
    "start_time": "2022-12-07T07:49:19.345Z"
   },
   {
    "duration": 26,
    "start_time": "2022-12-07T07:49:19.480Z"
   },
   {
    "duration": 78,
    "start_time": "2022-12-07T07:49:19.508Z"
   },
   {
    "duration": 9,
    "start_time": "2022-12-07T07:49:19.596Z"
   },
   {
    "duration": 9,
    "start_time": "2022-12-07T07:49:19.607Z"
   },
   {
    "duration": 8,
    "start_time": "2022-12-07T07:49:19.617Z"
   },
   {
    "duration": 4223,
    "start_time": "2022-12-07T07:49:19.627Z"
   },
   {
    "duration": 9,
    "start_time": "2022-12-07T07:49:23.853Z"
   },
   {
    "duration": 10,
    "start_time": "2022-12-07T07:49:23.863Z"
   },
   {
    "duration": 225,
    "start_time": "2022-12-07T07:49:23.875Z"
   },
   {
    "duration": 1089,
    "start_time": "2022-12-07T07:49:24.101Z"
   },
   {
    "duration": 34,
    "start_time": "2022-12-07T07:49:25.196Z"
   },
   {
    "duration": 3,
    "start_time": "2022-12-07T07:49:25.232Z"
   },
   {
    "duration": 294,
    "start_time": "2022-12-07T07:49:25.237Z"
   },
   {
    "duration": 270,
    "start_time": "2022-12-07T07:49:25.533Z"
   },
   {
    "duration": 342,
    "start_time": "2022-12-07T07:49:25.805Z"
   },
   {
    "duration": 427,
    "start_time": "2022-12-07T07:49:26.150Z"
   },
   {
    "duration": 18,
    "start_time": "2022-12-07T07:49:26.579Z"
   },
   {
    "duration": 62,
    "start_time": "2022-12-07T07:49:26.599Z"
   },
   {
    "duration": 6,
    "start_time": "2022-12-07T07:49:26.662Z"
   },
   {
    "duration": 14,
    "start_time": "2022-12-07T07:49:26.670Z"
   },
   {
    "duration": 13,
    "start_time": "2022-12-07T07:49:26.686Z"
   },
   {
    "duration": 6,
    "start_time": "2022-12-07T07:49:26.700Z"
   },
   {
    "duration": 14,
    "start_time": "2022-12-07T07:49:26.708Z"
   },
   {
    "duration": 29192,
    "start_time": "2022-12-07T07:49:26.724Z"
   },
   {
    "duration": 54536,
    "start_time": "2022-12-07T07:49:55.917Z"
   },
   {
    "duration": 28849,
    "start_time": "2022-12-07T07:51:40.564Z"
   },
   {
    "duration": 1375,
    "start_time": "2022-12-07T07:52:30.082Z"
   },
   {
    "duration": 686,
    "start_time": "2022-12-07T07:52:31.459Z"
   },
   {
    "duration": 4,
    "start_time": "2022-12-07T07:52:32.147Z"
   },
   {
    "duration": 273,
    "start_time": "2022-12-07T07:52:32.153Z"
   },
   {
    "duration": 157,
    "start_time": "2022-12-07T07:52:32.428Z"
   },
   {
    "duration": 284,
    "start_time": "2022-12-07T07:52:32.586Z"
   },
   {
    "duration": 3,
    "start_time": "2022-12-07T07:52:32.872Z"
   },
   {
    "duration": 22,
    "start_time": "2022-12-07T07:52:32.877Z"
   },
   {
    "duration": 6,
    "start_time": "2022-12-07T07:52:32.901Z"
   },
   {
    "duration": 17,
    "start_time": "2022-12-07T07:52:32.909Z"
   },
   {
    "duration": 29,
    "start_time": "2022-12-07T07:52:32.928Z"
   },
   {
    "duration": 133,
    "start_time": "2022-12-07T07:52:32.959Z"
   },
   {
    "duration": 20,
    "start_time": "2022-12-07T07:52:33.094Z"
   },
   {
    "duration": 94,
    "start_time": "2022-12-07T07:52:33.116Z"
   },
   {
    "duration": 9,
    "start_time": "2022-12-07T07:52:33.212Z"
   },
   {
    "duration": 19,
    "start_time": "2022-12-07T07:52:33.223Z"
   },
   {
    "duration": 9,
    "start_time": "2022-12-07T07:52:33.244Z"
   },
   {
    "duration": 4426,
    "start_time": "2022-12-07T07:52:33.254Z"
   },
   {
    "duration": 6,
    "start_time": "2022-12-07T07:52:37.682Z"
   },
   {
    "duration": 9,
    "start_time": "2022-12-07T07:52:37.697Z"
   },
   {
    "duration": 195,
    "start_time": "2022-12-07T07:52:37.708Z"
   },
   {
    "duration": 995,
    "start_time": "2022-12-07T07:52:37.905Z"
   },
   {
    "duration": 31,
    "start_time": "2022-12-07T07:52:38.902Z"
   },
   {
    "duration": 3,
    "start_time": "2022-12-07T07:52:38.935Z"
   },
   {
    "duration": 305,
    "start_time": "2022-12-07T07:52:38.939Z"
   },
   {
    "duration": 259,
    "start_time": "2022-12-07T07:52:39.245Z"
   },
   {
    "duration": 282,
    "start_time": "2022-12-07T07:52:39.505Z"
   },
   {
    "duration": 374,
    "start_time": "2022-12-07T07:52:39.797Z"
   },
   {
    "duration": 4,
    "start_time": "2022-12-07T07:52:40.172Z"
   },
   {
    "duration": 59,
    "start_time": "2022-12-07T07:52:40.177Z"
   },
   {
    "duration": 5,
    "start_time": "2022-12-07T07:52:40.237Z"
   },
   {
    "duration": 14,
    "start_time": "2022-12-07T07:52:40.244Z"
   },
   {
    "duration": 9,
    "start_time": "2022-12-07T07:52:40.259Z"
   },
   {
    "duration": 5,
    "start_time": "2022-12-07T07:52:40.270Z"
   },
   {
    "duration": 12,
    "start_time": "2022-12-07T07:52:40.276Z"
   },
   {
    "duration": 29103,
    "start_time": "2022-12-07T07:52:40.290Z"
   },
   {
    "duration": 54250,
    "start_time": "2022-12-07T07:53:09.394Z"
   },
   {
    "duration": 1219,
    "start_time": "2022-12-07T08:08:52.040Z"
   },
   {
    "duration": 661,
    "start_time": "2022-12-07T08:08:53.261Z"
   },
   {
    "duration": 4,
    "start_time": "2022-12-07T08:08:53.924Z"
   },
   {
    "duration": 248,
    "start_time": "2022-12-07T08:08:53.930Z"
   },
   {
    "duration": 148,
    "start_time": "2022-12-07T08:08:54.179Z"
   },
   {
    "duration": 254,
    "start_time": "2022-12-07T08:08:54.328Z"
   },
   {
    "duration": 3,
    "start_time": "2022-12-07T08:08:54.583Z"
   },
   {
    "duration": 10,
    "start_time": "2022-12-07T08:08:54.597Z"
   },
   {
    "duration": 5,
    "start_time": "2022-12-07T08:08:54.609Z"
   },
   {
    "duration": 4,
    "start_time": "2022-12-07T08:08:54.617Z"
   },
   {
    "duration": 8,
    "start_time": "2022-12-07T08:08:54.623Z"
   },
   {
    "duration": 155,
    "start_time": "2022-12-07T08:08:54.632Z"
   },
   {
    "duration": 32,
    "start_time": "2022-12-07T08:08:54.788Z"
   },
   {
    "duration": 117,
    "start_time": "2022-12-07T08:08:54.822Z"
   },
   {
    "duration": 12,
    "start_time": "2022-12-07T08:08:54.941Z"
   },
   {
    "duration": 19,
    "start_time": "2022-12-07T08:08:54.955Z"
   },
   {
    "duration": 22,
    "start_time": "2022-12-07T08:08:54.975Z"
   },
   {
    "duration": 4466,
    "start_time": "2022-12-07T08:08:54.999Z"
   },
   {
    "duration": 7,
    "start_time": "2022-12-07T08:08:59.467Z"
   },
   {
    "duration": 21,
    "start_time": "2022-12-07T08:08:59.476Z"
   },
   {
    "duration": 204,
    "start_time": "2022-12-07T08:08:59.499Z"
   },
   {
    "duration": 1089,
    "start_time": "2022-12-07T08:08:59.704Z"
   },
   {
    "duration": 35,
    "start_time": "2022-12-07T08:09:00.794Z"
   },
   {
    "duration": 6,
    "start_time": "2022-12-07T08:09:00.831Z"
   },
   {
    "duration": 301,
    "start_time": "2022-12-07T08:09:00.839Z"
   },
   {
    "duration": 281,
    "start_time": "2022-12-07T08:09:01.143Z"
   },
   {
    "duration": 287,
    "start_time": "2022-12-07T08:09:01.425Z"
   },
   {
    "duration": 375,
    "start_time": "2022-12-07T08:09:01.715Z"
   },
   {
    "duration": 7,
    "start_time": "2022-12-07T08:09:02.091Z"
   },
   {
    "duration": 49,
    "start_time": "2022-12-07T08:09:02.100Z"
   },
   {
    "duration": 5,
    "start_time": "2022-12-07T08:09:02.151Z"
   },
   {
    "duration": 14,
    "start_time": "2022-12-07T08:09:02.158Z"
   },
   {
    "duration": 12,
    "start_time": "2022-12-07T08:09:02.174Z"
   },
   {
    "duration": 10,
    "start_time": "2022-12-07T08:09:02.187Z"
   },
   {
    "duration": 10,
    "start_time": "2022-12-07T08:09:02.198Z"
   },
   {
    "duration": 28439,
    "start_time": "2022-12-07T08:09:02.209Z"
   },
   {
    "duration": 52327,
    "start_time": "2022-12-07T08:09:30.649Z"
   },
   {
    "duration": 7,
    "start_time": "2022-12-07T08:11:23.249Z"
   },
   {
    "duration": 6,
    "start_time": "2022-12-07T08:11:54.910Z"
   },
   {
    "duration": 8,
    "start_time": "2022-12-07T08:13:06.608Z"
   },
   {
    "duration": 3,
    "start_time": "2022-12-07T08:13:23.200Z"
   },
   {
    "duration": 5,
    "start_time": "2022-12-07T08:19:57.820Z"
   },
   {
    "duration": 3,
    "start_time": "2022-12-07T08:20:03.798Z"
   },
   {
    "duration": 5,
    "start_time": "2022-12-07T08:20:04.307Z"
   },
   {
    "duration": 3,
    "start_time": "2022-12-07T08:20:04.944Z"
   },
   {
    "duration": 9,
    "start_time": "2022-12-07T08:20:06.170Z"
   },
   {
    "duration": 28474,
    "start_time": "2022-12-07T08:20:06.868Z"
   },
   {
    "duration": 1305,
    "start_time": "2022-12-07T08:21:03.068Z"
   },
   {
    "duration": 724,
    "start_time": "2022-12-07T08:21:04.374Z"
   },
   {
    "duration": 3,
    "start_time": "2022-12-07T08:21:05.100Z"
   },
   {
    "duration": 316,
    "start_time": "2022-12-07T08:21:05.106Z"
   },
   {
    "duration": 147,
    "start_time": "2022-12-07T08:21:05.424Z"
   },
   {
    "duration": 292,
    "start_time": "2022-12-07T08:21:05.573Z"
   },
   {
    "duration": 3,
    "start_time": "2022-12-07T08:21:05.868Z"
   },
   {
    "duration": 24,
    "start_time": "2022-12-07T08:21:05.873Z"
   },
   {
    "duration": 6,
    "start_time": "2022-12-07T08:21:05.899Z"
   },
   {
    "duration": 5,
    "start_time": "2022-12-07T08:21:05.908Z"
   },
   {
    "duration": 10,
    "start_time": "2022-12-07T08:21:05.915Z"
   },
   {
    "duration": 141,
    "start_time": "2022-12-07T08:21:05.927Z"
   },
   {
    "duration": 18,
    "start_time": "2022-12-07T08:21:06.069Z"
   },
   {
    "duration": 80,
    "start_time": "2022-12-07T08:21:06.097Z"
   },
   {
    "duration": 18,
    "start_time": "2022-12-07T08:21:06.179Z"
   },
   {
    "duration": 11,
    "start_time": "2022-12-07T08:21:06.199Z"
   },
   {
    "duration": 10,
    "start_time": "2022-12-07T08:21:06.211Z"
   },
   {
    "duration": 4382,
    "start_time": "2022-12-07T08:21:06.223Z"
   },
   {
    "duration": 7,
    "start_time": "2022-12-07T08:21:10.607Z"
   },
   {
    "duration": 10,
    "start_time": "2022-12-07T08:21:10.615Z"
   },
   {
    "duration": 206,
    "start_time": "2022-12-07T08:21:10.626Z"
   },
   {
    "duration": 985,
    "start_time": "2022-12-07T08:21:10.833Z"
   },
   {
    "duration": 31,
    "start_time": "2022-12-07T08:21:11.819Z"
   },
   {
    "duration": 3,
    "start_time": "2022-12-07T08:21:11.852Z"
   },
   {
    "duration": 304,
    "start_time": "2022-12-07T08:21:11.856Z"
   },
   {
    "duration": 278,
    "start_time": "2022-12-07T08:21:12.162Z"
   },
   {
    "duration": 295,
    "start_time": "2022-12-07T08:21:12.442Z"
   },
   {
    "duration": 399,
    "start_time": "2022-12-07T08:21:12.740Z"
   },
   {
    "duration": 4,
    "start_time": "2022-12-07T08:21:13.140Z"
   },
   {
    "duration": 64,
    "start_time": "2022-12-07T08:21:13.145Z"
   },
   {
    "duration": 5,
    "start_time": "2022-12-07T08:21:13.211Z"
   },
   {
    "duration": 9,
    "start_time": "2022-12-07T08:21:13.217Z"
   },
   {
    "duration": 9,
    "start_time": "2022-12-07T08:21:13.228Z"
   },
   {
    "duration": 7,
    "start_time": "2022-12-07T08:21:13.238Z"
   },
   {
    "duration": 10,
    "start_time": "2022-12-07T08:21:13.246Z"
   },
   {
    "duration": 28581,
    "start_time": "2022-12-07T08:21:13.258Z"
   },
   {
    "duration": 52563,
    "start_time": "2022-12-07T08:21:41.841Z"
   },
   {
    "duration": 6,
    "start_time": "2022-12-07T08:23:46.494Z"
   },
   {
    "duration": 4,
    "start_time": "2022-12-07T08:24:00.913Z"
   },
   {
    "duration": 1246,
    "start_time": "2022-12-07T08:28:50.145Z"
   },
   {
    "duration": 654,
    "start_time": "2022-12-07T08:28:51.393Z"
   },
   {
    "duration": 3,
    "start_time": "2022-12-07T08:28:52.049Z"
   },
   {
    "duration": 257,
    "start_time": "2022-12-07T08:28:52.055Z"
   },
   {
    "duration": 151,
    "start_time": "2022-12-07T08:28:52.313Z"
   },
   {
    "duration": 267,
    "start_time": "2022-12-07T08:28:52.466Z"
   },
   {
    "duration": 4,
    "start_time": "2022-12-07T08:28:52.734Z"
   },
   {
    "duration": 12,
    "start_time": "2022-12-07T08:28:52.739Z"
   },
   {
    "duration": 6,
    "start_time": "2022-12-07T08:28:52.753Z"
   },
   {
    "duration": 5,
    "start_time": "2022-12-07T08:28:52.762Z"
   },
   {
    "duration": 7,
    "start_time": "2022-12-07T08:28:52.797Z"
   },
   {
    "duration": 116,
    "start_time": "2022-12-07T08:28:52.806Z"
   },
   {
    "duration": 19,
    "start_time": "2022-12-07T08:28:52.924Z"
   },
   {
    "duration": 114,
    "start_time": "2022-12-07T08:28:52.944Z"
   },
   {
    "duration": 9,
    "start_time": "2022-12-07T08:28:53.060Z"
   },
   {
    "duration": 10,
    "start_time": "2022-12-07T08:28:53.070Z"
   },
   {
    "duration": 21,
    "start_time": "2022-12-07T08:28:53.081Z"
   },
   {
    "duration": 4560,
    "start_time": "2022-12-07T08:28:53.103Z"
   },
   {
    "duration": 8,
    "start_time": "2022-12-07T08:28:57.664Z"
   },
   {
    "duration": 19,
    "start_time": "2022-12-07T08:28:57.673Z"
   },
   {
    "duration": 207,
    "start_time": "2022-12-07T08:28:57.693Z"
   },
   {
    "duration": 1005,
    "start_time": "2022-12-07T08:28:57.902Z"
   },
   {
    "duration": 34,
    "start_time": "2022-12-07T08:28:58.908Z"
   },
   {
    "duration": 3,
    "start_time": "2022-12-07T08:28:58.944Z"
   },
   {
    "duration": 311,
    "start_time": "2022-12-07T08:28:58.949Z"
   },
   {
    "duration": 257,
    "start_time": "2022-12-07T08:28:59.261Z"
   },
   {
    "duration": 291,
    "start_time": "2022-12-07T08:28:59.520Z"
   },
   {
    "duration": 413,
    "start_time": "2022-12-07T08:28:59.814Z"
   },
   {
    "duration": 3,
    "start_time": "2022-12-07T08:29:00.228Z"
   },
   {
    "duration": 90,
    "start_time": "2022-12-07T08:29:00.233Z"
   },
   {
    "duration": 5,
    "start_time": "2022-12-07T08:29:00.325Z"
   },
   {
    "duration": 44,
    "start_time": "2022-12-07T08:29:00.331Z"
   },
   {
    "duration": 24,
    "start_time": "2022-12-07T08:29:00.376Z"
   },
   {
    "duration": 41,
    "start_time": "2022-12-07T08:29:00.402Z"
   },
   {
    "duration": 34,
    "start_time": "2022-12-07T08:29:00.445Z"
   },
   {
    "duration": 28379,
    "start_time": "2022-12-07T08:29:00.480Z"
   },
   {
    "duration": 51752,
    "start_time": "2022-12-07T08:29:28.860Z"
   },
   {
    "duration": 28507,
    "start_time": "2022-12-07T08:32:19.853Z"
   },
   {
    "duration": 5,
    "start_time": "2022-12-07T08:34:50.666Z"
   },
   {
    "duration": 4,
    "start_time": "2022-12-07T08:34:55.714Z"
   },
   {
    "duration": 5,
    "start_time": "2022-12-07T08:34:56.238Z"
   },
   {
    "duration": 3,
    "start_time": "2022-12-07T08:34:56.904Z"
   },
   {
    "duration": 9,
    "start_time": "2022-12-07T08:34:57.967Z"
   },
   {
    "duration": 33067,
    "start_time": "2022-12-07T08:34:59.449Z"
   },
   {
    "duration": 55757,
    "start_time": "2022-12-07T08:35:50.901Z"
   },
   {
    "duration": 5,
    "start_time": "2022-12-07T08:40:00.733Z"
   },
   {
    "duration": 3,
    "start_time": "2022-12-07T08:40:04.400Z"
   },
   {
    "duration": 5,
    "start_time": "2022-12-07T08:40:05.022Z"
   },
   {
    "duration": 2,
    "start_time": "2022-12-07T08:40:05.657Z"
   },
   {
    "duration": 8,
    "start_time": "2022-12-07T08:40:06.748Z"
   },
   {
    "duration": 34874,
    "start_time": "2022-12-07T08:40:07.529Z"
   },
   {
    "duration": 6,
    "start_time": "2022-12-07T08:40:56.423Z"
   },
   {
    "duration": 3,
    "start_time": "2022-12-07T08:40:58.862Z"
   },
   {
    "duration": 6,
    "start_time": "2022-12-07T08:40:59.395Z"
   },
   {
    "duration": 3,
    "start_time": "2022-12-07T08:40:59.819Z"
   },
   {
    "duration": 9,
    "start_time": "2022-12-07T08:41:00.532Z"
   },
   {
    "duration": 35803,
    "start_time": "2022-12-07T08:41:00.836Z"
   },
   {
    "duration": 5,
    "start_time": "2022-12-07T08:42:24.374Z"
   },
   {
    "duration": 3,
    "start_time": "2022-12-07T08:42:25.857Z"
   },
   {
    "duration": 6,
    "start_time": "2022-12-07T08:42:26.270Z"
   },
   {
    "duration": 3,
    "start_time": "2022-12-07T08:42:26.906Z"
   },
   {
    "duration": 7,
    "start_time": "2022-12-07T08:42:28.092Z"
   },
   {
    "duration": 32371,
    "start_time": "2022-12-07T08:42:28.425Z"
   },
   {
    "duration": 70,
    "start_time": "2022-12-07T08:44:01.617Z"
   },
   {
    "duration": 5,
    "start_time": "2022-12-07T08:44:10.129Z"
   },
   {
    "duration": 6,
    "start_time": "2022-12-07T08:44:30.383Z"
   },
   {
    "duration": 3,
    "start_time": "2022-12-07T08:44:32.706Z"
   },
   {
    "duration": 6,
    "start_time": "2022-12-07T08:44:33.168Z"
   },
   {
    "duration": 2,
    "start_time": "2022-12-07T08:44:33.789Z"
   },
   {
    "duration": 7,
    "start_time": "2022-12-07T08:44:35.134Z"
   },
   {
    "duration": 35269,
    "start_time": "2022-12-07T08:44:35.807Z"
   },
   {
    "duration": 5,
    "start_time": "2022-12-07T08:53:05.379Z"
   },
   {
    "duration": 3,
    "start_time": "2022-12-07T08:53:10.971Z"
   },
   {
    "duration": 5,
    "start_time": "2022-12-07T08:53:11.473Z"
   },
   {
    "duration": 2,
    "start_time": "2022-12-07T08:53:12.101Z"
   },
   {
    "duration": 8,
    "start_time": "2022-12-07T08:53:13.134Z"
   },
   {
    "duration": 35202,
    "start_time": "2022-12-07T08:53:13.357Z"
   },
   {
    "duration": 5,
    "start_time": "2022-12-07T08:53:48.560Z"
   },
   {
    "duration": 18,
    "start_time": "2022-12-07T08:53:48.567Z"
   },
   {
    "duration": 13,
    "start_time": "2022-12-07T08:53:48.587Z"
   },
   {
    "duration": 7,
    "start_time": "2022-12-07T08:53:48.602Z"
   },
   {
    "duration": 7,
    "start_time": "2022-12-07T08:53:48.634Z"
   },
   {
    "duration": 34692,
    "start_time": "2022-12-07T08:53:49.293Z"
   },
   {
    "duration": 5,
    "start_time": "2022-12-07T08:56:56.077Z"
   },
   {
    "duration": 3,
    "start_time": "2022-12-07T08:56:58.622Z"
   },
   {
    "duration": 5,
    "start_time": "2022-12-07T08:56:59.241Z"
   },
   {
    "duration": 3,
    "start_time": "2022-12-07T08:56:59.740Z"
   },
   {
    "duration": 8,
    "start_time": "2022-12-07T08:57:00.595Z"
   },
   {
    "duration": 28195,
    "start_time": "2022-12-07T08:57:01.286Z"
   },
   {
    "duration": 28891,
    "start_time": "2022-12-07T09:00:13.934Z"
   },
   {
    "duration": 8,
    "start_time": "2022-12-07T09:06:08.249Z"
   },
   {
    "duration": 3,
    "start_time": "2022-12-07T09:06:10.878Z"
   },
   {
    "duration": 7,
    "start_time": "2022-12-07T09:06:11.359Z"
   },
   {
    "duration": 3,
    "start_time": "2022-12-07T09:06:11.895Z"
   },
   {
    "duration": 8,
    "start_time": "2022-12-07T09:06:12.904Z"
   },
   {
    "duration": 17450,
    "start_time": "2022-12-07T09:06:13.343Z"
   },
   {
    "duration": 0,
    "start_time": "2022-12-07T09:06:30.795Z"
   },
   {
    "duration": 16190,
    "start_time": "2022-12-07T09:06:54.703Z"
   },
   {
    "duration": 15721,
    "start_time": "2022-12-07T09:07:50.039Z"
   },
   {
    "duration": 43,
    "start_time": "2022-12-07T09:09:18.956Z"
   },
   {
    "duration": 5,
    "start_time": "2022-12-07T09:09:24.412Z"
   },
   {
    "duration": 6,
    "start_time": "2022-12-07T09:24:25.611Z"
   },
   {
    "duration": 3,
    "start_time": "2022-12-07T09:24:28.954Z"
   },
   {
    "duration": 6,
    "start_time": "2022-12-07T09:24:29.533Z"
   },
   {
    "duration": 3,
    "start_time": "2022-12-07T09:24:30.081Z"
   },
   {
    "duration": 7,
    "start_time": "2022-12-07T09:24:31.147Z"
   },
   {
    "duration": 38403,
    "start_time": "2022-12-07T09:24:32.191Z"
   },
   {
    "duration": 5,
    "start_time": "2022-12-07T09:27:42.563Z"
   },
   {
    "duration": 2,
    "start_time": "2022-12-07T09:27:44.422Z"
   },
   {
    "duration": 6,
    "start_time": "2022-12-07T09:27:44.838Z"
   },
   {
    "duration": 3,
    "start_time": "2022-12-07T09:27:45.274Z"
   },
   {
    "duration": 8,
    "start_time": "2022-12-07T09:27:46.227Z"
   },
   {
    "duration": 34942,
    "start_time": "2022-12-07T09:27:46.696Z"
   },
   {
    "duration": 6,
    "start_time": "2022-12-07T09:30:20.013Z"
   },
   {
    "duration": 2,
    "start_time": "2022-12-07T09:30:23.258Z"
   },
   {
    "duration": 5,
    "start_time": "2022-12-07T09:30:23.705Z"
   },
   {
    "duration": 3,
    "start_time": "2022-12-07T09:30:24.180Z"
   },
   {
    "duration": 7,
    "start_time": "2022-12-07T09:30:25.142Z"
   },
   {
    "duration": 32207,
    "start_time": "2022-12-07T09:30:25.745Z"
   },
   {
    "duration": 54497,
    "start_time": "2022-12-07T09:32:31.297Z"
   },
   {
    "duration": 11,
    "start_time": "2022-12-07T09:36:18.830Z"
   },
   {
    "duration": 10,
    "start_time": "2022-12-07T09:38:48.194Z"
   },
   {
    "duration": 1642,
    "start_time": "2022-12-07T09:41:28.819Z"
   },
   {
    "duration": 1702,
    "start_time": "2022-12-07T09:41:46.356Z"
   },
   {
    "duration": 1606,
    "start_time": "2022-12-07T09:47:02.752Z"
   },
   {
    "duration": 2048,
    "start_time": "2022-12-07T09:47:21.106Z"
   },
   {
    "duration": 1755,
    "start_time": "2022-12-07T09:47:35.594Z"
   },
   {
    "duration": 1733,
    "start_time": "2022-12-07T09:47:49.411Z"
   },
   {
    "duration": 1883,
    "start_time": "2022-12-07T09:47:59.443Z"
   },
   {
    "duration": 68,
    "start_time": "2022-12-07T09:49:18.093Z"
   },
   {
    "duration": 1240,
    "start_time": "2022-12-07T09:52:10.343Z"
   },
   {
    "duration": 691,
    "start_time": "2022-12-07T09:52:11.585Z"
   },
   {
    "duration": 3,
    "start_time": "2022-12-07T09:52:12.278Z"
   },
   {
    "duration": 275,
    "start_time": "2022-12-07T09:52:12.283Z"
   },
   {
    "duration": 151,
    "start_time": "2022-12-07T09:52:12.559Z"
   },
   {
    "duration": 270,
    "start_time": "2022-12-07T09:52:12.711Z"
   },
   {
    "duration": 4,
    "start_time": "2022-12-07T09:52:12.982Z"
   },
   {
    "duration": 16,
    "start_time": "2022-12-07T09:52:12.987Z"
   },
   {
    "duration": 7,
    "start_time": "2022-12-07T09:52:13.005Z"
   },
   {
    "duration": 6,
    "start_time": "2022-12-07T09:52:13.015Z"
   },
   {
    "duration": 13,
    "start_time": "2022-12-07T09:52:13.023Z"
   },
   {
    "duration": 127,
    "start_time": "2022-12-07T09:52:13.038Z"
   },
   {
    "duration": 17,
    "start_time": "2022-12-07T09:52:13.166Z"
   },
   {
    "duration": 91,
    "start_time": "2022-12-07T09:52:13.185Z"
   },
   {
    "duration": 21,
    "start_time": "2022-12-07T09:52:13.278Z"
   },
   {
    "duration": 10,
    "start_time": "2022-12-07T09:52:13.301Z"
   },
   {
    "duration": 12,
    "start_time": "2022-12-07T09:52:13.313Z"
   },
   {
    "duration": 4456,
    "start_time": "2022-12-07T09:52:13.327Z"
   },
   {
    "duration": 15,
    "start_time": "2022-12-07T09:52:17.785Z"
   },
   {
    "duration": 9,
    "start_time": "2022-12-07T09:52:17.802Z"
   },
   {
    "duration": 205,
    "start_time": "2022-12-07T09:52:17.813Z"
   },
   {
    "duration": 1047,
    "start_time": "2022-12-07T09:52:18.020Z"
   },
   {
    "duration": 48,
    "start_time": "2022-12-07T09:52:19.068Z"
   },
   {
    "duration": 4,
    "start_time": "2022-12-07T09:52:19.118Z"
   },
   {
    "duration": 373,
    "start_time": "2022-12-07T09:52:19.124Z"
   },
   {
    "duration": 270,
    "start_time": "2022-12-07T09:52:19.499Z"
   },
   {
    "duration": 334,
    "start_time": "2022-12-07T09:52:19.771Z"
   },
   {
    "duration": 404,
    "start_time": "2022-12-07T09:52:20.110Z"
   },
   {
    "duration": 4,
    "start_time": "2022-12-07T09:52:20.516Z"
   },
   {
    "duration": 57,
    "start_time": "2022-12-07T09:52:20.522Z"
   },
   {
    "duration": 6,
    "start_time": "2022-12-07T09:52:20.581Z"
   },
   {
    "duration": 3,
    "start_time": "2022-12-07T09:52:20.597Z"
   },
   {
    "duration": 10,
    "start_time": "2022-12-07T09:52:20.602Z"
   },
   {
    "duration": 10,
    "start_time": "2022-12-07T09:52:20.613Z"
   },
   {
    "duration": 17,
    "start_time": "2022-12-07T09:52:20.625Z"
   },
   {
    "duration": 32298,
    "start_time": "2022-12-07T09:52:20.644Z"
   },
   {
    "duration": 55974,
    "start_time": "2022-12-07T09:52:52.943Z"
   },
   {
    "duration": 2135,
    "start_time": "2022-12-07T09:53:48.919Z"
   },
   {
    "duration": 116,
    "start_time": "2022-12-07T09:54:05.821Z"
   },
   {
    "duration": 1271,
    "start_time": "2022-12-07T09:54:25.556Z"
   },
   {
    "duration": 683,
    "start_time": "2022-12-07T09:54:26.828Z"
   },
   {
    "duration": 3,
    "start_time": "2022-12-07T09:54:27.513Z"
   },
   {
    "duration": 249,
    "start_time": "2022-12-07T09:54:27.518Z"
   },
   {
    "duration": 156,
    "start_time": "2022-12-07T09:54:27.769Z"
   },
   {
    "duration": 295,
    "start_time": "2022-12-07T09:54:27.926Z"
   },
   {
    "duration": 4,
    "start_time": "2022-12-07T09:54:28.222Z"
   },
   {
    "duration": 14,
    "start_time": "2022-12-07T09:54:28.227Z"
   },
   {
    "duration": 7,
    "start_time": "2022-12-07T09:54:28.243Z"
   },
   {
    "duration": 5,
    "start_time": "2022-12-07T09:54:28.253Z"
   },
   {
    "duration": 44,
    "start_time": "2022-12-07T09:54:28.259Z"
   },
   {
    "duration": 120,
    "start_time": "2022-12-07T09:54:28.304Z"
   },
   {
    "duration": 25,
    "start_time": "2022-12-07T09:54:28.426Z"
   },
   {
    "duration": 92,
    "start_time": "2022-12-07T09:54:28.453Z"
   },
   {
    "duration": 9,
    "start_time": "2022-12-07T09:54:28.546Z"
   },
   {
    "duration": 11,
    "start_time": "2022-12-07T09:54:28.556Z"
   },
   {
    "duration": 9,
    "start_time": "2022-12-07T09:54:28.568Z"
   },
   {
    "duration": 4485,
    "start_time": "2022-12-07T09:54:28.578Z"
   },
   {
    "duration": 7,
    "start_time": "2022-12-07T09:54:33.065Z"
   },
   {
    "duration": 12,
    "start_time": "2022-12-07T09:54:33.074Z"
   },
   {
    "duration": 192,
    "start_time": "2022-12-07T09:54:33.098Z"
   },
   {
    "duration": 1028,
    "start_time": "2022-12-07T09:54:33.292Z"
   },
   {
    "duration": 32,
    "start_time": "2022-12-07T09:54:34.321Z"
   },
   {
    "duration": 4,
    "start_time": "2022-12-07T09:54:34.355Z"
   },
   {
    "duration": 336,
    "start_time": "2022-12-07T09:54:34.361Z"
   },
   {
    "duration": 372,
    "start_time": "2022-12-07T09:54:34.699Z"
   },
   {
    "duration": 293,
    "start_time": "2022-12-07T09:54:35.072Z"
   },
   {
    "duration": 389,
    "start_time": "2022-12-07T09:54:35.368Z"
   },
   {
    "duration": 4,
    "start_time": "2022-12-07T09:54:35.758Z"
   },
   {
    "duration": 58,
    "start_time": "2022-12-07T09:54:35.763Z"
   },
   {
    "duration": 5,
    "start_time": "2022-12-07T09:54:35.823Z"
   },
   {
    "duration": 9,
    "start_time": "2022-12-07T09:54:35.829Z"
   },
   {
    "duration": 10,
    "start_time": "2022-12-07T09:54:35.839Z"
   },
   {
    "duration": 4,
    "start_time": "2022-12-07T09:54:35.851Z"
   },
   {
    "duration": 9,
    "start_time": "2022-12-07T09:54:35.857Z"
   },
   {
    "duration": 124,
    "start_time": "2022-12-07T09:54:35.867Z"
   },
   {
    "duration": 0,
    "start_time": "2022-12-07T09:54:35.993Z"
   },
   {
    "duration": 0,
    "start_time": "2022-12-07T09:54:35.997Z"
   },
   {
    "duration": 1384,
    "start_time": "2022-12-07T09:55:11.040Z"
   },
   {
    "duration": 757,
    "start_time": "2022-12-07T09:55:12.427Z"
   },
   {
    "duration": 4,
    "start_time": "2022-12-07T09:55:13.186Z"
   },
   {
    "duration": 347,
    "start_time": "2022-12-07T09:55:13.192Z"
   },
   {
    "duration": 168,
    "start_time": "2022-12-07T09:55:13.541Z"
   },
   {
    "duration": 299,
    "start_time": "2022-12-07T09:55:13.711Z"
   },
   {
    "duration": 4,
    "start_time": "2022-12-07T09:55:14.013Z"
   },
   {
    "duration": 32,
    "start_time": "2022-12-07T09:55:14.019Z"
   },
   {
    "duration": 53,
    "start_time": "2022-12-07T09:55:14.053Z"
   },
   {
    "duration": 36,
    "start_time": "2022-12-07T09:55:14.109Z"
   },
   {
    "duration": 40,
    "start_time": "2022-12-07T09:55:14.147Z"
   },
   {
    "duration": 136,
    "start_time": "2022-12-07T09:55:14.189Z"
   },
   {
    "duration": 19,
    "start_time": "2022-12-07T09:55:14.326Z"
   },
   {
    "duration": 99,
    "start_time": "2022-12-07T09:55:14.347Z"
   },
   {
    "duration": 11,
    "start_time": "2022-12-07T09:55:14.447Z"
   },
   {
    "duration": 24,
    "start_time": "2022-12-07T09:55:14.460Z"
   },
   {
    "duration": 20,
    "start_time": "2022-12-07T09:55:14.485Z"
   },
   {
    "duration": 4942,
    "start_time": "2022-12-07T09:55:14.506Z"
   },
   {
    "duration": 8,
    "start_time": "2022-12-07T09:55:19.450Z"
   },
   {
    "duration": 13,
    "start_time": "2022-12-07T09:55:19.459Z"
   },
   {
    "duration": 213,
    "start_time": "2022-12-07T09:55:19.474Z"
   },
   {
    "duration": 1090,
    "start_time": "2022-12-07T09:55:19.689Z"
   },
   {
    "duration": 40,
    "start_time": "2022-12-07T09:55:20.782Z"
   },
   {
    "duration": 3,
    "start_time": "2022-12-07T09:55:20.824Z"
   },
   {
    "duration": 302,
    "start_time": "2022-12-07T09:55:20.828Z"
   },
   {
    "duration": 267,
    "start_time": "2022-12-07T09:55:21.132Z"
   },
   {
    "duration": 300,
    "start_time": "2022-12-07T09:55:21.401Z"
   },
   {
    "duration": 392,
    "start_time": "2022-12-07T09:55:21.705Z"
   },
   {
    "duration": 4,
    "start_time": "2022-12-07T09:55:22.099Z"
   },
   {
    "duration": 54,
    "start_time": "2022-12-07T09:55:22.104Z"
   },
   {
    "duration": 6,
    "start_time": "2022-12-07T09:55:22.160Z"
   },
   {
    "duration": 12,
    "start_time": "2022-12-07T09:55:22.167Z"
   },
   {
    "duration": 9,
    "start_time": "2022-12-07T09:55:22.180Z"
   },
   {
    "duration": 2,
    "start_time": "2022-12-07T09:55:22.198Z"
   },
   {
    "duration": 11,
    "start_time": "2022-12-07T09:55:22.201Z"
   },
   {
    "duration": 32897,
    "start_time": "2022-12-07T09:55:22.213Z"
   },
   {
    "duration": 0,
    "start_time": "2022-12-07T09:55:55.112Z"
   },
   {
    "duration": 0,
    "start_time": "2022-12-07T09:55:55.113Z"
   },
   {
    "duration": 1270,
    "start_time": "2022-12-07T09:56:45.878Z"
   },
   {
    "duration": 683,
    "start_time": "2022-12-07T09:56:47.150Z"
   },
   {
    "duration": 3,
    "start_time": "2022-12-07T09:56:47.835Z"
   },
   {
    "duration": 292,
    "start_time": "2022-12-07T09:56:47.839Z"
   },
   {
    "duration": 149,
    "start_time": "2022-12-07T09:56:48.133Z"
   },
   {
    "duration": 265,
    "start_time": "2022-12-07T09:56:48.284Z"
   },
   {
    "duration": 3,
    "start_time": "2022-12-07T09:56:48.551Z"
   },
   {
    "duration": 44,
    "start_time": "2022-12-07T09:56:48.555Z"
   },
   {
    "duration": 22,
    "start_time": "2022-12-07T09:56:48.600Z"
   },
   {
    "duration": 46,
    "start_time": "2022-12-07T09:56:48.624Z"
   },
   {
    "duration": 24,
    "start_time": "2022-12-07T09:56:48.671Z"
   },
   {
    "duration": 134,
    "start_time": "2022-12-07T09:56:48.696Z"
   },
   {
    "duration": 18,
    "start_time": "2022-12-07T09:56:48.832Z"
   },
   {
    "duration": 92,
    "start_time": "2022-12-07T09:56:48.852Z"
   },
   {
    "duration": 9,
    "start_time": "2022-12-07T09:56:48.945Z"
   },
   {
    "duration": 40,
    "start_time": "2022-12-07T09:56:48.955Z"
   },
   {
    "duration": 49,
    "start_time": "2022-12-07T09:56:48.997Z"
   },
   {
    "duration": 4189,
    "start_time": "2022-12-07T09:56:49.048Z"
   },
   {
    "duration": 7,
    "start_time": "2022-12-07T09:56:53.239Z"
   },
   {
    "duration": 50,
    "start_time": "2022-12-07T09:56:53.248Z"
   },
   {
    "duration": 218,
    "start_time": "2022-12-07T09:56:53.300Z"
   },
   {
    "duration": 987,
    "start_time": "2022-12-07T09:56:53.520Z"
   },
   {
    "duration": 31,
    "start_time": "2022-12-07T09:56:54.509Z"
   },
   {
    "duration": 3,
    "start_time": "2022-12-07T09:56:54.542Z"
   },
   {
    "duration": 371,
    "start_time": "2022-12-07T09:56:54.546Z"
   },
   {
    "duration": 264,
    "start_time": "2022-12-07T09:56:54.919Z"
   },
   {
    "duration": 304,
    "start_time": "2022-12-07T09:56:55.184Z"
   },
   {
    "duration": 406,
    "start_time": "2022-12-07T09:56:55.496Z"
   },
   {
    "duration": 4,
    "start_time": "2022-12-07T09:56:55.903Z"
   },
   {
    "duration": 78,
    "start_time": "2022-12-07T09:56:55.909Z"
   },
   {
    "duration": 5,
    "start_time": "2022-12-07T09:56:55.988Z"
   },
   {
    "duration": 44,
    "start_time": "2022-12-07T09:56:55.995Z"
   },
   {
    "duration": 14,
    "start_time": "2022-12-07T09:56:56.040Z"
   },
   {
    "duration": 29,
    "start_time": "2022-12-07T09:56:56.055Z"
   },
   {
    "duration": 39,
    "start_time": "2022-12-07T09:56:56.085Z"
   },
   {
    "duration": 32223,
    "start_time": "2022-12-07T09:56:56.126Z"
   },
   {
    "duration": 54465,
    "start_time": "2022-12-07T09:57:28.350Z"
   },
   {
    "duration": 2112,
    "start_time": "2022-12-07T09:58:22.817Z"
   },
   {
    "duration": 110,
    "start_time": "2022-12-07T10:00:01.341Z"
   },
   {
    "duration": 165,
    "start_time": "2022-12-07T10:00:22.079Z"
   },
   {
    "duration": 127,
    "start_time": "2022-12-07T10:00:32.719Z"
   },
   {
    "duration": 139,
    "start_time": "2022-12-07T10:00:37.865Z"
   },
   {
    "duration": 1218,
    "start_time": "2022-12-07T10:01:32.955Z"
   },
   {
    "duration": 714,
    "start_time": "2022-12-07T10:01:34.175Z"
   },
   {
    "duration": 8,
    "start_time": "2022-12-07T10:01:34.891Z"
   },
   {
    "duration": 308,
    "start_time": "2022-12-07T10:01:34.901Z"
   },
   {
    "duration": 169,
    "start_time": "2022-12-07T10:01:35.210Z"
   },
   {
    "duration": 280,
    "start_time": "2022-12-07T10:01:35.381Z"
   },
   {
    "duration": 4,
    "start_time": "2022-12-07T10:01:35.662Z"
   },
   {
    "duration": 15,
    "start_time": "2022-12-07T10:01:35.669Z"
   },
   {
    "duration": 12,
    "start_time": "2022-12-07T10:01:35.701Z"
   },
   {
    "duration": 5,
    "start_time": "2022-12-07T10:01:35.716Z"
   },
   {
    "duration": 20,
    "start_time": "2022-12-07T10:01:35.723Z"
   },
   {
    "duration": 112,
    "start_time": "2022-12-07T10:01:35.744Z"
   },
   {
    "duration": 26,
    "start_time": "2022-12-07T10:01:35.857Z"
   },
   {
    "duration": 90,
    "start_time": "2022-12-07T10:01:35.896Z"
   },
   {
    "duration": 21,
    "start_time": "2022-12-07T10:01:35.988Z"
   },
   {
    "duration": 13,
    "start_time": "2022-12-07T10:01:36.011Z"
   },
   {
    "duration": 11,
    "start_time": "2022-12-07T10:01:36.026Z"
   },
   {
    "duration": 4440,
    "start_time": "2022-12-07T10:01:36.038Z"
   },
   {
    "duration": 10,
    "start_time": "2022-12-07T10:01:40.479Z"
   },
   {
    "duration": 12,
    "start_time": "2022-12-07T10:01:40.498Z"
   },
   {
    "duration": 195,
    "start_time": "2022-12-07T10:01:40.512Z"
   },
   {
    "duration": 1024,
    "start_time": "2022-12-07T10:01:40.709Z"
   },
   {
    "duration": 37,
    "start_time": "2022-12-07T10:01:41.735Z"
   },
   {
    "duration": 5,
    "start_time": "2022-12-07T10:01:41.774Z"
   },
   {
    "duration": 379,
    "start_time": "2022-12-07T10:01:41.780Z"
   },
   {
    "duration": 306,
    "start_time": "2022-12-07T10:01:42.161Z"
   },
   {
    "duration": 349,
    "start_time": "2022-12-07T10:01:42.469Z"
   },
   {
    "duration": 422,
    "start_time": "2022-12-07T10:01:42.822Z"
   },
   {
    "duration": 4,
    "start_time": "2022-12-07T10:01:43.246Z"
   },
   {
    "duration": 68,
    "start_time": "2022-12-07T10:01:43.251Z"
   },
   {
    "duration": 6,
    "start_time": "2022-12-07T10:01:43.321Z"
   },
   {
    "duration": 51,
    "start_time": "2022-12-07T10:01:43.329Z"
   },
   {
    "duration": 22,
    "start_time": "2022-12-07T10:01:43.382Z"
   },
   {
    "duration": 29,
    "start_time": "2022-12-07T10:01:43.405Z"
   },
   {
    "duration": 27,
    "start_time": "2022-12-07T10:01:43.435Z"
   },
   {
    "duration": 33251,
    "start_time": "2022-12-07T10:01:43.463Z"
   },
   {
    "duration": 56028,
    "start_time": "2022-12-07T10:02:16.716Z"
   },
   {
    "duration": 2464,
    "start_time": "2022-12-07T10:03:12.746Z"
   },
   {
    "duration": 131,
    "start_time": "2022-12-07T10:03:15.211Z"
   },
   {
    "duration": 1749,
    "start_time": "2022-12-07T19:05:32.429Z"
   },
   {
    "duration": 652,
    "start_time": "2022-12-07T19:05:34.180Z"
   },
   {
    "duration": 3,
    "start_time": "2022-12-07T19:05:34.833Z"
   },
   {
    "duration": 289,
    "start_time": "2022-12-07T19:05:34.838Z"
   },
   {
    "duration": 161,
    "start_time": "2022-12-07T19:05:35.128Z"
   },
   {
    "duration": 283,
    "start_time": "2022-12-07T19:05:35.291Z"
   },
   {
    "duration": 6,
    "start_time": "2022-12-07T19:05:35.586Z"
   },
   {
    "duration": 17,
    "start_time": "2022-12-07T19:05:35.593Z"
   },
   {
    "duration": 7,
    "start_time": "2022-12-07T19:05:35.612Z"
   },
   {
    "duration": 5,
    "start_time": "2022-12-07T19:05:35.622Z"
   },
   {
    "duration": 12,
    "start_time": "2022-12-07T19:05:35.628Z"
   },
   {
    "duration": 118,
    "start_time": "2022-12-07T19:05:35.641Z"
   },
   {
    "duration": 26,
    "start_time": "2022-12-07T19:05:35.761Z"
   },
   {
    "duration": 79,
    "start_time": "2022-12-07T19:05:35.788Z"
   },
   {
    "duration": 8,
    "start_time": "2022-12-07T19:05:35.877Z"
   },
   {
    "duration": 10,
    "start_time": "2022-12-07T19:05:35.887Z"
   },
   {
    "duration": 10,
    "start_time": "2022-12-07T19:05:35.898Z"
   },
   {
    "duration": 4518,
    "start_time": "2022-12-07T19:05:35.909Z"
   },
   {
    "duration": 7,
    "start_time": "2022-12-07T19:05:40.429Z"
   },
   {
    "duration": 13,
    "start_time": "2022-12-07T19:05:40.438Z"
   },
   {
    "duration": 224,
    "start_time": "2022-12-07T19:05:40.452Z"
   },
   {
    "duration": 980,
    "start_time": "2022-12-07T19:05:40.678Z"
   },
   {
    "duration": 37,
    "start_time": "2022-12-07T19:05:41.660Z"
   },
   {
    "duration": 3,
    "start_time": "2022-12-07T19:05:41.698Z"
   },
   {
    "duration": 275,
    "start_time": "2022-12-07T19:05:41.702Z"
   },
   {
    "duration": 253,
    "start_time": "2022-12-07T19:05:41.979Z"
   },
   {
    "duration": 284,
    "start_time": "2022-12-07T19:05:42.234Z"
   },
   {
    "duration": 408,
    "start_time": "2022-12-07T19:05:42.521Z"
   },
   {
    "duration": 3,
    "start_time": "2022-12-07T19:05:42.931Z"
   },
   {
    "duration": 61,
    "start_time": "2022-12-07T19:05:42.936Z"
   },
   {
    "duration": 6,
    "start_time": "2022-12-07T19:05:42.998Z"
   },
   {
    "duration": 16,
    "start_time": "2022-12-07T19:05:43.005Z"
   },
   {
    "duration": 13,
    "start_time": "2022-12-07T19:05:43.022Z"
   },
   {
    "duration": 5,
    "start_time": "2022-12-07T19:05:43.036Z"
   },
   {
    "duration": 9,
    "start_time": "2022-12-07T19:05:43.042Z"
   },
   {
    "duration": 14,
    "start_time": "2022-12-07T19:05:43.053Z"
   },
   {
    "duration": 1369,
    "start_time": "2022-12-19T21:15:59.951Z"
   },
   {
    "duration": 3016,
    "start_time": "2022-12-19T21:16:01.322Z"
   },
   {
    "duration": 3,
    "start_time": "2022-12-19T21:16:04.340Z"
   },
   {
    "duration": 259,
    "start_time": "2022-12-19T21:16:04.345Z"
   },
   {
    "duration": 160,
    "start_time": "2022-12-19T21:16:04.605Z"
   },
   {
    "duration": 277,
    "start_time": "2022-12-19T21:16:04.767Z"
   },
   {
    "duration": 3,
    "start_time": "2022-12-19T21:16:05.045Z"
   },
   {
    "duration": 24,
    "start_time": "2022-12-19T21:16:05.050Z"
   },
   {
    "duration": 9,
    "start_time": "2022-12-19T21:16:05.075Z"
   },
   {
    "duration": 6,
    "start_time": "2022-12-19T21:16:05.086Z"
   },
   {
    "duration": 13,
    "start_time": "2022-12-19T21:16:05.093Z"
   },
   {
    "duration": 114,
    "start_time": "2022-12-19T21:16:05.107Z"
   },
   {
    "duration": 18,
    "start_time": "2022-12-19T21:16:05.222Z"
   },
   {
    "duration": 91,
    "start_time": "2022-12-19T21:16:05.242Z"
   },
   {
    "duration": 10,
    "start_time": "2022-12-19T21:16:05.334Z"
   },
   {
    "duration": 46,
    "start_time": "2022-12-19T21:16:05.345Z"
   },
   {
    "duration": 11,
    "start_time": "2022-12-19T21:16:05.392Z"
   },
   {
    "duration": 4332,
    "start_time": "2022-12-19T21:16:05.404Z"
   },
   {
    "duration": 7,
    "start_time": "2022-12-19T21:16:09.738Z"
   },
   {
    "duration": 9,
    "start_time": "2022-12-19T21:16:09.746Z"
   },
   {
    "duration": 200,
    "start_time": "2022-12-19T21:16:09.757Z"
   },
   {
    "duration": 1002,
    "start_time": "2022-12-19T21:16:09.958Z"
   },
   {
    "duration": 31,
    "start_time": "2022-12-19T21:16:10.962Z"
   },
   {
    "duration": 3,
    "start_time": "2022-12-19T21:16:10.995Z"
   },
   {
    "duration": 295,
    "start_time": "2022-12-19T21:16:10.999Z"
   },
   {
    "duration": 266,
    "start_time": "2022-12-19T21:16:11.295Z"
   },
   {
    "duration": 279,
    "start_time": "2022-12-19T21:16:11.563Z"
   },
   {
    "duration": 360,
    "start_time": "2022-12-19T21:16:11.844Z"
   },
   {
    "duration": 4,
    "start_time": "2022-12-19T21:16:12.205Z"
   },
   {
    "duration": 57,
    "start_time": "2022-12-19T21:16:12.211Z"
   },
   {
    "duration": 5,
    "start_time": "2022-12-19T21:16:12.270Z"
   },
   {
    "duration": 7,
    "start_time": "2022-12-19T21:16:12.277Z"
   },
   {
    "duration": 8,
    "start_time": "2022-12-19T21:16:12.286Z"
   },
   {
    "duration": 25,
    "start_time": "2022-12-19T21:16:12.296Z"
   },
   {
    "duration": 7,
    "start_time": "2022-12-19T21:16:12.323Z"
   },
   {
    "duration": 31825,
    "start_time": "2022-12-19T21:16:12.331Z"
   },
   {
    "duration": 54437,
    "start_time": "2022-12-19T21:16:44.158Z"
   },
   {
    "duration": 1576,
    "start_time": "2022-12-19T21:17:38.598Z"
   },
   {
    "duration": 133,
    "start_time": "2022-12-19T21:17:40.176Z"
   },
   {
    "duration": 1258,
    "start_time": "2022-12-19T21:33:21.738Z"
   },
   {
    "duration": 672,
    "start_time": "2022-12-19T21:33:22.998Z"
   },
   {
    "duration": 3,
    "start_time": "2022-12-19T21:33:23.671Z"
   },
   {
    "duration": 252,
    "start_time": "2022-12-19T21:33:23.676Z"
   },
   {
    "duration": 143,
    "start_time": "2022-12-19T21:33:23.930Z"
   },
   {
    "duration": 263,
    "start_time": "2022-12-19T21:33:24.075Z"
   },
   {
    "duration": 3,
    "start_time": "2022-12-19T21:33:24.339Z"
   },
   {
    "duration": 13,
    "start_time": "2022-12-19T21:33:24.343Z"
   },
   {
    "duration": 6,
    "start_time": "2022-12-19T21:33:24.358Z"
   },
   {
    "duration": 9,
    "start_time": "2022-12-19T21:33:24.366Z"
   },
   {
    "duration": 16,
    "start_time": "2022-12-19T21:33:24.376Z"
   },
   {
    "duration": 120,
    "start_time": "2022-12-19T21:33:24.393Z"
   },
   {
    "duration": 22,
    "start_time": "2022-12-19T21:33:24.515Z"
   },
   {
    "duration": 92,
    "start_time": "2022-12-19T21:33:24.539Z"
   },
   {
    "duration": 9,
    "start_time": "2022-12-19T21:33:24.632Z"
   },
   {
    "duration": 10,
    "start_time": "2022-12-19T21:33:24.642Z"
   },
   {
    "duration": 11,
    "start_time": "2022-12-19T21:33:24.654Z"
   },
   {
    "duration": 4198,
    "start_time": "2022-12-19T21:33:24.666Z"
   },
   {
    "duration": 6,
    "start_time": "2022-12-19T21:33:28.865Z"
   },
   {
    "duration": 9,
    "start_time": "2022-12-19T21:33:28.873Z"
   },
   {
    "duration": 197,
    "start_time": "2022-12-19T21:33:28.883Z"
   },
   {
    "duration": 961,
    "start_time": "2022-12-19T21:33:29.082Z"
   },
   {
    "duration": 31,
    "start_time": "2022-12-19T21:33:30.044Z"
   },
   {
    "duration": 3,
    "start_time": "2022-12-19T21:33:30.077Z"
   },
   {
    "duration": 275,
    "start_time": "2022-12-19T21:33:30.081Z"
   },
   {
    "duration": 253,
    "start_time": "2022-12-19T21:33:30.357Z"
   },
   {
    "duration": 281,
    "start_time": "2022-12-19T21:33:30.620Z"
   },
   {
    "duration": 381,
    "start_time": "2022-12-19T21:33:30.903Z"
   },
   {
    "duration": 4,
    "start_time": "2022-12-19T21:33:31.285Z"
   },
   {
    "duration": 73,
    "start_time": "2022-12-19T21:33:31.290Z"
   },
   {
    "duration": 5,
    "start_time": "2022-12-19T21:33:31.364Z"
   },
   {
    "duration": 51,
    "start_time": "2022-12-19T21:33:31.370Z"
   },
   {
    "duration": 33,
    "start_time": "2022-12-19T21:33:31.422Z"
   },
   {
    "duration": 35,
    "start_time": "2022-12-19T21:33:31.457Z"
   },
   {
    "duration": 30,
    "start_time": "2022-12-19T21:33:31.493Z"
   },
   {
    "duration": 32591,
    "start_time": "2022-12-19T21:33:31.525Z"
   },
   {
    "duration": 1220,
    "start_time": "2022-12-19T21:34:08.985Z"
   },
   {
    "duration": 692,
    "start_time": "2022-12-19T21:34:10.207Z"
   },
   {
    "duration": 4,
    "start_time": "2022-12-19T21:34:10.900Z"
   },
   {
    "duration": 249,
    "start_time": "2022-12-19T21:34:10.905Z"
   },
   {
    "duration": 175,
    "start_time": "2022-12-19T21:34:11.157Z"
   },
   {
    "duration": 288,
    "start_time": "2022-12-19T21:34:11.334Z"
   },
   {
    "duration": 4,
    "start_time": "2022-12-19T21:34:11.624Z"
   },
   {
    "duration": 17,
    "start_time": "2022-12-19T21:34:11.629Z"
   },
   {
    "duration": 8,
    "start_time": "2022-12-19T21:34:11.647Z"
   },
   {
    "duration": 6,
    "start_time": "2022-12-19T21:34:11.657Z"
   },
   {
    "duration": 10,
    "start_time": "2022-12-19T21:34:11.664Z"
   },
   {
    "duration": 134,
    "start_time": "2022-12-19T21:34:11.676Z"
   },
   {
    "duration": 23,
    "start_time": "2022-12-19T21:34:11.812Z"
   },
   {
    "duration": 97,
    "start_time": "2022-12-19T21:34:11.838Z"
   },
   {
    "duration": 10,
    "start_time": "2022-12-19T21:34:11.937Z"
   },
   {
    "duration": 11,
    "start_time": "2022-12-19T21:34:11.949Z"
   },
   {
    "duration": 10,
    "start_time": "2022-12-19T21:34:11.962Z"
   },
   {
    "duration": 4306,
    "start_time": "2022-12-19T21:34:11.973Z"
   },
   {
    "duration": 6,
    "start_time": "2022-12-19T21:34:16.281Z"
   },
   {
    "duration": 13,
    "start_time": "2022-12-19T21:34:16.289Z"
   },
   {
    "duration": 187,
    "start_time": "2022-12-19T21:34:16.303Z"
   },
   {
    "duration": 983,
    "start_time": "2022-12-19T21:34:16.492Z"
   },
   {
    "duration": 33,
    "start_time": "2022-12-19T21:34:17.476Z"
   },
   {
    "duration": 11,
    "start_time": "2022-12-19T21:34:17.510Z"
   },
   {
    "duration": 271,
    "start_time": "2022-12-19T21:34:17.523Z"
   },
   {
    "duration": 254,
    "start_time": "2022-12-19T21:34:17.795Z"
   },
   {
    "duration": 285,
    "start_time": "2022-12-19T21:34:18.051Z"
   },
   {
    "duration": 374,
    "start_time": "2022-12-19T21:34:18.338Z"
   },
   {
    "duration": 4,
    "start_time": "2022-12-19T21:34:18.720Z"
   },
   {
    "duration": 62,
    "start_time": "2022-12-19T21:34:18.726Z"
   },
   {
    "duration": 4,
    "start_time": "2022-12-19T21:34:18.790Z"
   },
   {
    "duration": 11,
    "start_time": "2022-12-19T21:34:18.796Z"
   },
   {
    "duration": 9,
    "start_time": "2022-12-19T21:34:18.808Z"
   },
   {
    "duration": 6,
    "start_time": "2022-12-19T21:34:18.819Z"
   },
   {
    "duration": 10,
    "start_time": "2022-12-19T21:34:18.827Z"
   },
   {
    "duration": 32804,
    "start_time": "2022-12-19T21:34:18.839Z"
   },
   {
    "duration": 53709,
    "start_time": "2022-12-19T21:34:51.645Z"
   },
   {
    "duration": 1883,
    "start_time": "2022-12-19T21:35:45.355Z"
   },
   {
    "duration": 197,
    "start_time": "2022-12-19T21:35:47.239Z"
   },
   {
    "duration": 1259,
    "start_time": "2022-12-19T21:39:53.927Z"
   },
   {
    "duration": 696,
    "start_time": "2022-12-19T21:39:55.187Z"
   },
   {
    "duration": 3,
    "start_time": "2022-12-19T21:39:55.884Z"
   },
   {
    "duration": 240,
    "start_time": "2022-12-19T21:39:55.890Z"
   },
   {
    "duration": 144,
    "start_time": "2022-12-19T21:39:56.132Z"
   },
   {
    "duration": 262,
    "start_time": "2022-12-19T21:39:56.277Z"
   },
   {
    "duration": 3,
    "start_time": "2022-12-19T21:39:56.540Z"
   },
   {
    "duration": 26,
    "start_time": "2022-12-19T21:39:56.544Z"
   },
   {
    "duration": 19,
    "start_time": "2022-12-19T21:39:56.572Z"
   },
   {
    "duration": 16,
    "start_time": "2022-12-19T21:39:56.593Z"
   },
   {
    "duration": 21,
    "start_time": "2022-12-19T21:39:56.611Z"
   },
   {
    "duration": 130,
    "start_time": "2022-12-19T21:39:56.634Z"
   },
   {
    "duration": 18,
    "start_time": "2022-12-19T21:39:56.766Z"
   },
   {
    "duration": 90,
    "start_time": "2022-12-19T21:39:56.786Z"
   },
   {
    "duration": 8,
    "start_time": "2022-12-19T21:39:56.878Z"
   },
   {
    "duration": 15,
    "start_time": "2022-12-19T21:39:56.887Z"
   },
   {
    "duration": 18,
    "start_time": "2022-12-19T21:39:56.904Z"
   },
   {
    "duration": 4215,
    "start_time": "2022-12-19T21:39:56.924Z"
   },
   {
    "duration": 7,
    "start_time": "2022-12-19T21:40:01.141Z"
   },
   {
    "duration": 37,
    "start_time": "2022-12-19T21:40:01.150Z"
   },
   {
    "duration": 221,
    "start_time": "2022-12-19T21:40:01.188Z"
   },
   {
    "duration": 1066,
    "start_time": "2022-12-19T21:40:01.411Z"
   },
   {
    "duration": 31,
    "start_time": "2022-12-19T21:40:02.479Z"
   },
   {
    "duration": 13,
    "start_time": "2022-12-19T21:40:02.520Z"
   },
   {
    "duration": 316,
    "start_time": "2022-12-19T21:40:02.534Z"
   },
   {
    "duration": 261,
    "start_time": "2022-12-19T21:40:02.852Z"
   },
   {
    "duration": 295,
    "start_time": "2022-12-19T21:40:03.121Z"
   },
   {
    "duration": 386,
    "start_time": "2022-12-19T21:40:03.420Z"
   },
   {
    "duration": 14,
    "start_time": "2022-12-19T21:40:03.807Z"
   },
   {
    "duration": 52,
    "start_time": "2022-12-19T21:40:03.823Z"
   },
   {
    "duration": 38,
    "start_time": "2022-12-19T21:40:03.877Z"
   },
   {
    "duration": 0,
    "start_time": "2022-12-19T21:40:03.917Z"
   },
   {
    "duration": 0,
    "start_time": "2022-12-19T21:40:03.918Z"
   },
   {
    "duration": 0,
    "start_time": "2022-12-19T21:40:03.919Z"
   },
   {
    "duration": 0,
    "start_time": "2022-12-19T21:40:03.920Z"
   },
   {
    "duration": 0,
    "start_time": "2022-12-19T21:40:03.921Z"
   },
   {
    "duration": 0,
    "start_time": "2022-12-19T21:40:03.922Z"
   },
   {
    "duration": 0,
    "start_time": "2022-12-19T21:40:03.923Z"
   },
   {
    "duration": 0,
    "start_time": "2022-12-19T21:40:03.925Z"
   },
   {
    "duration": 1245,
    "start_time": "2022-12-19T21:41:02.348Z"
   },
   {
    "duration": 696,
    "start_time": "2022-12-19T21:41:03.595Z"
   },
   {
    "duration": 3,
    "start_time": "2022-12-19T21:41:04.293Z"
   },
   {
    "duration": 253,
    "start_time": "2022-12-19T21:41:04.297Z"
   },
   {
    "duration": 151,
    "start_time": "2022-12-19T21:41:04.552Z"
   },
   {
    "duration": 262,
    "start_time": "2022-12-19T21:41:04.704Z"
   },
   {
    "duration": 3,
    "start_time": "2022-12-19T21:41:04.967Z"
   },
   {
    "duration": 25,
    "start_time": "2022-12-19T21:41:04.971Z"
   },
   {
    "duration": 5,
    "start_time": "2022-12-19T21:41:04.998Z"
   },
   {
    "duration": 5,
    "start_time": "2022-12-19T21:41:05.005Z"
   },
   {
    "duration": 7,
    "start_time": "2022-12-19T21:41:05.021Z"
   },
   {
    "duration": 119,
    "start_time": "2022-12-19T21:41:05.029Z"
   },
   {
    "duration": 20,
    "start_time": "2022-12-19T21:41:05.149Z"
   },
   {
    "duration": 95,
    "start_time": "2022-12-19T21:41:05.172Z"
   },
   {
    "duration": 10,
    "start_time": "2022-12-19T21:41:05.268Z"
   },
   {
    "duration": 12,
    "start_time": "2022-12-19T21:41:05.279Z"
   },
   {
    "duration": 10,
    "start_time": "2022-12-19T21:41:05.293Z"
   },
   {
    "duration": 4301,
    "start_time": "2022-12-19T21:41:05.321Z"
   },
   {
    "duration": 7,
    "start_time": "2022-12-19T21:41:09.624Z"
   },
   {
    "duration": 11,
    "start_time": "2022-12-19T21:41:09.633Z"
   },
   {
    "duration": 197,
    "start_time": "2022-12-19T21:41:09.646Z"
   },
   {
    "duration": 962,
    "start_time": "2022-12-19T21:41:09.845Z"
   },
   {
    "duration": 33,
    "start_time": "2022-12-19T21:41:10.808Z"
   },
   {
    "duration": 3,
    "start_time": "2022-12-19T21:41:10.842Z"
   },
   {
    "duration": 286,
    "start_time": "2022-12-19T21:41:10.847Z"
   },
   {
    "duration": 267,
    "start_time": "2022-12-19T21:41:11.134Z"
   },
   {
    "duration": 320,
    "start_time": "2022-12-19T21:41:11.403Z"
   },
   {
    "duration": 365,
    "start_time": "2022-12-19T21:41:11.724Z"
   },
   {
    "duration": 3,
    "start_time": "2022-12-19T21:41:12.091Z"
   },
   {
    "duration": 61,
    "start_time": "2022-12-19T21:41:12.096Z"
   },
   {
    "duration": 5,
    "start_time": "2022-12-19T21:41:12.158Z"
   },
   {
    "duration": 10,
    "start_time": "2022-12-19T21:41:12.164Z"
   },
   {
    "duration": 14,
    "start_time": "2022-12-19T21:41:12.175Z"
   },
   {
    "duration": 14,
    "start_time": "2022-12-19T21:41:12.190Z"
   },
   {
    "duration": 19,
    "start_time": "2022-12-19T21:41:12.205Z"
   },
   {
    "duration": 31808,
    "start_time": "2022-12-19T21:41:12.226Z"
   },
   {
    "duration": 53386,
    "start_time": "2022-12-19T21:41:44.035Z"
   },
   {
    "duration": 1543,
    "start_time": "2022-12-19T21:42:37.423Z"
   },
   {
    "duration": 190,
    "start_time": "2022-12-19T21:42:38.968Z"
   },
   {
    "duration": 1264,
    "start_time": "2022-12-19T21:49:39.127Z"
   },
   {
    "duration": 686,
    "start_time": "2022-12-19T21:49:40.393Z"
   },
   {
    "duration": 3,
    "start_time": "2022-12-19T21:49:41.081Z"
   },
   {
    "duration": 245,
    "start_time": "2022-12-19T21:49:41.086Z"
   },
   {
    "duration": 150,
    "start_time": "2022-12-19T21:49:41.333Z"
   },
   {
    "duration": 270,
    "start_time": "2022-12-19T21:49:41.485Z"
   },
   {
    "duration": 3,
    "start_time": "2022-12-19T21:49:41.757Z"
   },
   {
    "duration": 11,
    "start_time": "2022-12-19T21:49:41.762Z"
   },
   {
    "duration": 6,
    "start_time": "2022-12-19T21:49:41.775Z"
   },
   {
    "duration": 5,
    "start_time": "2022-12-19T21:49:41.783Z"
   },
   {
    "duration": 33,
    "start_time": "2022-12-19T21:49:41.789Z"
   },
   {
    "duration": 112,
    "start_time": "2022-12-19T21:49:41.823Z"
   },
   {
    "duration": 19,
    "start_time": "2022-12-19T21:49:41.936Z"
   },
   {
    "duration": 95,
    "start_time": "2022-12-19T21:49:41.956Z"
   },
   {
    "duration": 10,
    "start_time": "2022-12-19T21:49:42.052Z"
   },
   {
    "duration": 16,
    "start_time": "2022-12-19T21:49:42.064Z"
   },
   {
    "duration": 9,
    "start_time": "2022-12-19T21:49:42.081Z"
   },
   {
    "duration": 4317,
    "start_time": "2022-12-19T21:49:42.091Z"
   },
   {
    "duration": 13,
    "start_time": "2022-12-19T21:49:46.409Z"
   },
   {
    "duration": 10,
    "start_time": "2022-12-19T21:49:46.424Z"
   },
   {
    "duration": 201,
    "start_time": "2022-12-19T21:49:46.435Z"
   },
   {
    "duration": 978,
    "start_time": "2022-12-19T21:49:46.638Z"
   },
   {
    "duration": 33,
    "start_time": "2022-12-19T21:49:47.617Z"
   },
   {
    "duration": 3,
    "start_time": "2022-12-19T21:49:47.652Z"
   },
   {
    "duration": 284,
    "start_time": "2022-12-19T21:49:47.657Z"
   },
   {
    "duration": 265,
    "start_time": "2022-12-19T21:49:47.943Z"
   },
   {
    "duration": 280,
    "start_time": "2022-12-19T21:49:48.220Z"
   },
   {
    "duration": 377,
    "start_time": "2022-12-19T21:49:48.504Z"
   },
   {
    "duration": 4,
    "start_time": "2022-12-19T21:49:48.883Z"
   },
   {
    "duration": 67,
    "start_time": "2022-12-19T21:49:48.889Z"
   },
   {
    "duration": 5,
    "start_time": "2022-12-19T21:49:48.958Z"
   },
   {
    "duration": 23,
    "start_time": "2022-12-19T21:49:48.965Z"
   },
   {
    "duration": 15,
    "start_time": "2022-12-19T21:49:48.989Z"
   },
   {
    "duration": 9,
    "start_time": "2022-12-19T21:49:49.006Z"
   },
   {
    "duration": 14,
    "start_time": "2022-12-19T21:49:49.017Z"
   },
   {
    "duration": 32162,
    "start_time": "2022-12-19T21:49:49.033Z"
   },
   {
    "duration": 53774,
    "start_time": "2022-12-19T21:50:21.197Z"
   },
   {
    "duration": 1801,
    "start_time": "2022-12-19T21:51:14.972Z"
   },
   {
    "duration": 120,
    "start_time": "2022-12-19T21:51:16.775Z"
   },
   {
    "duration": 1297,
    "start_time": "2022-12-19T21:53:35.610Z"
   },
   {
    "duration": 676,
    "start_time": "2022-12-19T21:53:36.909Z"
   },
   {
    "duration": 3,
    "start_time": "2022-12-19T21:53:37.589Z"
   },
   {
    "duration": 250,
    "start_time": "2022-12-19T21:53:37.593Z"
   },
   {
    "duration": 151,
    "start_time": "2022-12-19T21:53:37.845Z"
   },
   {
    "duration": 262,
    "start_time": "2022-12-19T21:53:37.997Z"
   },
   {
    "duration": 3,
    "start_time": "2022-12-19T21:53:38.260Z"
   },
   {
    "duration": 13,
    "start_time": "2022-12-19T21:53:38.265Z"
   },
   {
    "duration": 5,
    "start_time": "2022-12-19T21:53:38.280Z"
   },
   {
    "duration": 5,
    "start_time": "2022-12-19T21:53:38.286Z"
   },
   {
    "duration": 30,
    "start_time": "2022-12-19T21:53:38.292Z"
   },
   {
    "duration": 113,
    "start_time": "2022-12-19T21:53:38.323Z"
   },
   {
    "duration": 18,
    "start_time": "2022-12-19T21:53:38.437Z"
   },
   {
    "duration": 90,
    "start_time": "2022-12-19T21:53:38.456Z"
   },
   {
    "duration": 10,
    "start_time": "2022-12-19T21:53:38.547Z"
   },
   {
    "duration": 11,
    "start_time": "2022-12-19T21:53:38.558Z"
   },
   {
    "duration": 15,
    "start_time": "2022-12-19T21:53:38.571Z"
   },
   {
    "duration": 4408,
    "start_time": "2022-12-19T21:53:38.588Z"
   },
   {
    "duration": 8,
    "start_time": "2022-12-19T21:53:42.997Z"
   },
   {
    "duration": 16,
    "start_time": "2022-12-19T21:53:43.007Z"
   },
   {
    "duration": 192,
    "start_time": "2022-12-19T21:53:43.024Z"
   },
   {
    "duration": 1004,
    "start_time": "2022-12-19T21:53:43.217Z"
   },
   {
    "duration": 30,
    "start_time": "2022-12-19T21:53:44.223Z"
   },
   {
    "duration": 3,
    "start_time": "2022-12-19T21:53:44.254Z"
   },
   {
    "duration": 287,
    "start_time": "2022-12-19T21:53:44.259Z"
   },
   {
    "duration": 256,
    "start_time": "2022-12-19T21:53:44.548Z"
   },
   {
    "duration": 327,
    "start_time": "2022-12-19T21:53:44.807Z"
   },
   {
    "duration": 399,
    "start_time": "2022-12-19T21:53:45.135Z"
   },
   {
    "duration": 3,
    "start_time": "2022-12-19T21:53:45.536Z"
   },
   {
    "duration": 63,
    "start_time": "2022-12-19T21:53:45.541Z"
   },
   {
    "duration": 4,
    "start_time": "2022-12-19T21:53:45.606Z"
   },
   {
    "duration": 12,
    "start_time": "2022-12-19T21:53:45.611Z"
   },
   {
    "duration": 10,
    "start_time": "2022-12-19T21:53:45.624Z"
   },
   {
    "duration": 5,
    "start_time": "2022-12-19T21:53:45.636Z"
   },
   {
    "duration": 11,
    "start_time": "2022-12-19T21:53:45.642Z"
   },
   {
    "duration": 28004,
    "start_time": "2022-12-19T21:53:45.654Z"
   },
   {
    "duration": 52913,
    "start_time": "2022-12-19T21:54:13.659Z"
   },
   {
    "duration": 1456,
    "start_time": "2022-12-19T21:55:06.574Z"
   },
   {
    "duration": 98,
    "start_time": "2022-12-19T21:55:08.031Z"
   },
   {
    "duration": 1231,
    "start_time": "2022-12-19T21:57:12.743Z"
   },
   {
    "duration": 675,
    "start_time": "2022-12-19T21:57:13.976Z"
   },
   {
    "duration": 4,
    "start_time": "2022-12-19T21:57:14.652Z"
   },
   {
    "duration": 258,
    "start_time": "2022-12-19T21:57:14.658Z"
   },
   {
    "duration": 144,
    "start_time": "2022-12-19T21:57:14.921Z"
   },
   {
    "duration": 296,
    "start_time": "2022-12-19T21:57:15.066Z"
   },
   {
    "duration": 4,
    "start_time": "2022-12-19T21:57:15.364Z"
   },
   {
    "duration": 28,
    "start_time": "2022-12-19T21:57:15.369Z"
   },
   {
    "duration": 13,
    "start_time": "2022-12-19T21:57:15.399Z"
   },
   {
    "duration": 17,
    "start_time": "2022-12-19T21:57:15.415Z"
   },
   {
    "duration": 12,
    "start_time": "2022-12-19T21:57:15.434Z"
   },
   {
    "duration": 116,
    "start_time": "2022-12-19T21:57:15.448Z"
   },
   {
    "duration": 19,
    "start_time": "2022-12-19T21:57:15.566Z"
   },
   {
    "duration": 90,
    "start_time": "2022-12-19T21:57:15.587Z"
   },
   {
    "duration": 11,
    "start_time": "2022-12-19T21:57:15.679Z"
   },
   {
    "duration": 26,
    "start_time": "2022-12-19T21:57:15.691Z"
   },
   {
    "duration": 11,
    "start_time": "2022-12-19T21:57:15.719Z"
   },
   {
    "duration": 4246,
    "start_time": "2022-12-19T21:57:15.731Z"
   },
   {
    "duration": 8,
    "start_time": "2022-12-19T21:57:19.978Z"
   },
   {
    "duration": 10,
    "start_time": "2022-12-19T21:57:19.987Z"
   },
   {
    "duration": 194,
    "start_time": "2022-12-19T21:57:19.998Z"
   },
   {
    "duration": 974,
    "start_time": "2022-12-19T21:57:20.194Z"
   },
   {
    "duration": 32,
    "start_time": "2022-12-19T21:57:21.170Z"
   },
   {
    "duration": 3,
    "start_time": "2022-12-19T21:57:21.203Z"
   },
   {
    "duration": 289,
    "start_time": "2022-12-19T21:57:21.208Z"
   },
   {
    "duration": 269,
    "start_time": "2022-12-19T21:57:21.499Z"
   },
   {
    "duration": 288,
    "start_time": "2022-12-19T21:57:21.769Z"
   },
   {
    "duration": 371,
    "start_time": "2022-12-19T21:57:22.061Z"
   },
   {
    "duration": 3,
    "start_time": "2022-12-19T21:57:22.434Z"
   },
   {
    "duration": 57,
    "start_time": "2022-12-19T21:57:22.438Z"
   },
   {
    "duration": 4,
    "start_time": "2022-12-19T21:57:22.497Z"
   },
   {
    "duration": 38,
    "start_time": "2022-12-19T21:57:22.502Z"
   },
   {
    "duration": 15,
    "start_time": "2022-12-19T21:57:22.542Z"
   },
   {
    "duration": 13,
    "start_time": "2022-12-19T21:57:22.559Z"
   },
   {
    "duration": 19,
    "start_time": "2022-12-19T21:57:22.574Z"
   },
   {
    "duration": 27802,
    "start_time": "2022-12-19T21:57:22.595Z"
   },
   {
    "duration": 52867,
    "start_time": "2022-12-19T21:57:50.399Z"
   },
   {
    "duration": 1563,
    "start_time": "2022-12-19T21:58:43.268Z"
   },
   {
    "duration": 95,
    "start_time": "2022-12-19T21:58:44.833Z"
   },
   {
    "duration": 102,
    "start_time": "2022-12-19T22:03:58.195Z"
   },
   {
    "duration": 1280,
    "start_time": "2022-12-19T22:05:00.331Z"
   },
   {
    "duration": 692,
    "start_time": "2022-12-19T22:05:01.613Z"
   },
   {
    "duration": 3,
    "start_time": "2022-12-19T22:05:02.307Z"
   },
   {
    "duration": 254,
    "start_time": "2022-12-19T22:05:02.312Z"
   },
   {
    "duration": 158,
    "start_time": "2022-12-19T22:05:02.569Z"
   },
   {
    "duration": 273,
    "start_time": "2022-12-19T22:05:02.728Z"
   },
   {
    "duration": 3,
    "start_time": "2022-12-19T22:05:03.003Z"
   },
   {
    "duration": 20,
    "start_time": "2022-12-19T22:05:03.007Z"
   },
   {
    "duration": 11,
    "start_time": "2022-12-19T22:05:03.029Z"
   },
   {
    "duration": 7,
    "start_time": "2022-12-19T22:05:03.042Z"
   },
   {
    "duration": 14,
    "start_time": "2022-12-19T22:05:03.051Z"
   },
   {
    "duration": 118,
    "start_time": "2022-12-19T22:05:03.066Z"
   },
   {
    "duration": 18,
    "start_time": "2022-12-19T22:05:03.186Z"
   },
   {
    "duration": 86,
    "start_time": "2022-12-19T22:05:03.207Z"
   },
   {
    "duration": 10,
    "start_time": "2022-12-19T22:05:03.295Z"
   },
   {
    "duration": 11,
    "start_time": "2022-12-19T22:05:03.321Z"
   },
   {
    "duration": 9,
    "start_time": "2022-12-19T22:05:03.333Z"
   },
   {
    "duration": 4230,
    "start_time": "2022-12-19T22:05:03.344Z"
   },
   {
    "duration": 6,
    "start_time": "2022-12-19T22:05:07.576Z"
   },
   {
    "duration": 8,
    "start_time": "2022-12-19T22:05:07.584Z"
   },
   {
    "duration": 203,
    "start_time": "2022-12-19T22:05:07.593Z"
   },
   {
    "duration": 977,
    "start_time": "2022-12-19T22:05:07.797Z"
   },
   {
    "duration": 31,
    "start_time": "2022-12-19T22:05:08.775Z"
   },
   {
    "duration": 13,
    "start_time": "2022-12-19T22:05:08.808Z"
   },
   {
    "duration": 269,
    "start_time": "2022-12-19T22:05:08.822Z"
   },
   {
    "duration": 266,
    "start_time": "2022-12-19T22:05:09.092Z"
   },
   {
    "duration": 292,
    "start_time": "2022-12-19T22:05:09.359Z"
   },
   {
    "duration": 374,
    "start_time": "2022-12-19T22:05:09.653Z"
   },
   {
    "duration": 3,
    "start_time": "2022-12-19T22:05:10.029Z"
   },
   {
    "duration": 54,
    "start_time": "2022-12-19T22:05:10.034Z"
   },
   {
    "duration": 5,
    "start_time": "2022-12-19T22:05:10.090Z"
   },
   {
    "duration": 11,
    "start_time": "2022-12-19T22:05:10.096Z"
   },
   {
    "duration": 18,
    "start_time": "2022-12-19T22:05:10.108Z"
   },
   {
    "duration": 7,
    "start_time": "2022-12-19T22:05:10.128Z"
   },
   {
    "duration": 17,
    "start_time": "2022-12-19T22:05:10.136Z"
   },
   {
    "duration": 28027,
    "start_time": "2022-12-19T22:05:10.155Z"
   },
   {
    "duration": 52472,
    "start_time": "2022-12-19T22:05:38.184Z"
   },
   {
    "duration": 1467,
    "start_time": "2022-12-19T22:06:30.658Z"
   },
   {
    "duration": 8,
    "start_time": "2022-12-19T22:06:32.127Z"
   },
   {
    "duration": 95,
    "start_time": "2022-12-19T22:06:32.137Z"
   },
   {
    "duration": 1294,
    "start_time": "2022-12-19T22:09:08.290Z"
   },
   {
    "duration": 664,
    "start_time": "2022-12-19T22:09:09.585Z"
   },
   {
    "duration": 3,
    "start_time": "2022-12-19T22:09:10.251Z"
   },
   {
    "duration": 250,
    "start_time": "2022-12-19T22:09:10.256Z"
   },
   {
    "duration": 146,
    "start_time": "2022-12-19T22:09:10.508Z"
   },
   {
    "duration": 258,
    "start_time": "2022-12-19T22:09:10.655Z"
   },
   {
    "duration": 6,
    "start_time": "2022-12-19T22:09:10.915Z"
   },
   {
    "duration": 18,
    "start_time": "2022-12-19T22:09:10.922Z"
   },
   {
    "duration": 18,
    "start_time": "2022-12-19T22:09:10.942Z"
   },
   {
    "duration": 5,
    "start_time": "2022-12-19T22:09:10.961Z"
   },
   {
    "duration": 9,
    "start_time": "2022-12-19T22:09:10.967Z"
   },
   {
    "duration": 113,
    "start_time": "2022-12-19T22:09:10.977Z"
   },
   {
    "duration": 18,
    "start_time": "2022-12-19T22:09:11.092Z"
   },
   {
    "duration": 84,
    "start_time": "2022-12-19T22:09:11.120Z"
   },
   {
    "duration": 20,
    "start_time": "2022-12-19T22:09:11.205Z"
   },
   {
    "duration": 10,
    "start_time": "2022-12-19T22:09:11.227Z"
   },
   {
    "duration": 9,
    "start_time": "2022-12-19T22:09:11.238Z"
   },
   {
    "duration": 4252,
    "start_time": "2022-12-19T22:09:11.248Z"
   },
   {
    "duration": 7,
    "start_time": "2022-12-19T22:09:15.502Z"
   },
   {
    "duration": 27,
    "start_time": "2022-12-19T22:09:15.510Z"
   },
   {
    "duration": 183,
    "start_time": "2022-12-19T22:09:15.538Z"
   },
   {
    "duration": 965,
    "start_time": "2022-12-19T22:09:15.723Z"
   },
   {
    "duration": 37,
    "start_time": "2022-12-19T22:09:16.690Z"
   },
   {
    "duration": 3,
    "start_time": "2022-12-19T22:09:16.729Z"
   },
   {
    "duration": 267,
    "start_time": "2022-12-19T22:09:16.733Z"
   },
   {
    "duration": 250,
    "start_time": "2022-12-19T22:09:17.001Z"
   },
   {
    "duration": 279,
    "start_time": "2022-12-19T22:09:17.252Z"
   },
   {
    "duration": 372,
    "start_time": "2022-12-19T22:09:17.533Z"
   },
   {
    "duration": 3,
    "start_time": "2022-12-19T22:09:17.907Z"
   },
   {
    "duration": 47,
    "start_time": "2022-12-19T22:09:17.921Z"
   },
   {
    "duration": 4,
    "start_time": "2022-12-19T22:09:17.970Z"
   },
   {
    "duration": 9,
    "start_time": "2022-12-19T22:09:17.975Z"
   },
   {
    "duration": 16,
    "start_time": "2022-12-19T22:09:17.985Z"
   },
   {
    "duration": 6,
    "start_time": "2022-12-19T22:09:18.002Z"
   },
   {
    "duration": 17,
    "start_time": "2022-12-19T22:09:18.009Z"
   },
   {
    "duration": 27730,
    "start_time": "2022-12-19T22:09:18.027Z"
   },
   {
    "duration": 52506,
    "start_time": "2022-12-19T22:09:45.758Z"
   },
   {
    "duration": 1457,
    "start_time": "2022-12-19T22:10:38.265Z"
   },
   {
    "duration": 8,
    "start_time": "2022-12-19T22:10:39.723Z"
   },
   {
    "duration": 17,
    "start_time": "2022-12-19T22:10:39.732Z"
   },
   {
    "duration": 3621,
    "start_time": "2022-12-20T18:17:25.370Z"
   },
   {
    "duration": 704,
    "start_time": "2022-12-20T18:17:28.993Z"
   },
   {
    "duration": 7,
    "start_time": "2022-12-20T18:17:29.698Z"
   },
   {
    "duration": 267,
    "start_time": "2022-12-20T18:17:29.707Z"
   },
   {
    "duration": 169,
    "start_time": "2022-12-20T18:17:29.976Z"
   },
   {
    "duration": 305,
    "start_time": "2022-12-20T18:17:30.146Z"
   },
   {
    "duration": 3,
    "start_time": "2022-12-20T18:17:30.453Z"
   },
   {
    "duration": 51,
    "start_time": "2022-12-20T18:17:30.458Z"
   },
   {
    "duration": 23,
    "start_time": "2022-12-20T18:17:30.510Z"
   },
   {
    "duration": 32,
    "start_time": "2022-12-20T18:17:30.535Z"
   },
   {
    "duration": 28,
    "start_time": "2022-12-20T18:17:30.569Z"
   },
   {
    "duration": 134,
    "start_time": "2022-12-20T18:17:30.599Z"
   },
   {
    "duration": 20,
    "start_time": "2022-12-20T18:17:30.735Z"
   },
   {
    "duration": 99,
    "start_time": "2022-12-20T18:17:30.758Z"
   },
   {
    "duration": 10,
    "start_time": "2022-12-20T18:17:30.859Z"
   },
   {
    "duration": 24,
    "start_time": "2022-12-20T18:17:30.870Z"
   },
   {
    "duration": 42,
    "start_time": "2022-12-20T18:17:30.896Z"
   },
   {
    "duration": 4694,
    "start_time": "2022-12-20T18:17:30.940Z"
   },
   {
    "duration": 9,
    "start_time": "2022-12-20T18:17:35.636Z"
   },
   {
    "duration": 15,
    "start_time": "2022-12-20T18:17:35.647Z"
   },
   {
    "duration": 244,
    "start_time": "2022-12-20T18:17:35.664Z"
   },
   {
    "duration": 1142,
    "start_time": "2022-12-20T18:17:35.910Z"
   },
   {
    "duration": 34,
    "start_time": "2022-12-20T18:17:37.053Z"
   },
   {
    "duration": 16,
    "start_time": "2022-12-20T18:17:37.089Z"
   },
   {
    "duration": 305,
    "start_time": "2022-12-20T18:17:37.106Z"
   },
   {
    "duration": 374,
    "start_time": "2022-12-20T18:17:37.412Z"
   },
   {
    "duration": 557,
    "start_time": "2022-12-20T18:17:37.788Z"
   },
   {
    "duration": 526,
    "start_time": "2022-12-20T18:17:38.347Z"
   },
   {
    "duration": 4,
    "start_time": "2022-12-20T18:17:38.875Z"
   },
   {
    "duration": 80,
    "start_time": "2022-12-20T18:17:38.880Z"
   },
   {
    "duration": 7,
    "start_time": "2022-12-20T18:17:38.962Z"
   },
   {
    "duration": 14,
    "start_time": "2022-12-20T18:17:38.971Z"
   },
   {
    "duration": 18,
    "start_time": "2022-12-20T18:17:38.987Z"
   },
   {
    "duration": 11,
    "start_time": "2022-12-20T18:17:39.007Z"
   },
   {
    "duration": 14,
    "start_time": "2022-12-20T18:17:39.020Z"
   },
   {
    "duration": 29876,
    "start_time": "2022-12-20T18:17:39.035Z"
   },
   {
    "duration": 15,
    "start_time": "2022-12-20T18:20:28.142Z"
   },
   {
    "duration": 14,
    "start_time": "2022-12-20T18:21:13.543Z"
   },
   {
    "duration": 11,
    "start_time": "2022-12-20T18:21:45.175Z"
   },
   {
    "duration": 1621,
    "start_time": "2022-12-20T19:19:02.723Z"
   },
   {
    "duration": 3008,
    "start_time": "2022-12-20T19:19:04.346Z"
   },
   {
    "duration": 3,
    "start_time": "2022-12-20T19:19:07.356Z"
   },
   {
    "duration": 278,
    "start_time": "2022-12-20T19:19:07.361Z"
   },
   {
    "duration": 166,
    "start_time": "2022-12-20T19:19:07.641Z"
   },
   {
    "duration": 296,
    "start_time": "2022-12-20T19:19:07.808Z"
   },
   {
    "duration": 4,
    "start_time": "2022-12-20T19:19:08.105Z"
   },
   {
    "duration": 15,
    "start_time": "2022-12-20T19:19:08.110Z"
   },
   {
    "duration": 9,
    "start_time": "2022-12-20T19:19:08.126Z"
   },
   {
    "duration": 6,
    "start_time": "2022-12-20T19:19:08.137Z"
   },
   {
    "duration": 37,
    "start_time": "2022-12-20T19:19:08.145Z"
   },
   {
    "duration": 133,
    "start_time": "2022-12-20T19:19:08.184Z"
   },
   {
    "duration": 35,
    "start_time": "2022-12-20T19:19:08.320Z"
   },
   {
    "duration": 133,
    "start_time": "2022-12-20T19:19:08.360Z"
   },
   {
    "duration": 11,
    "start_time": "2022-12-20T19:19:08.494Z"
   },
   {
    "duration": 13,
    "start_time": "2022-12-20T19:19:08.507Z"
   },
   {
    "duration": 13,
    "start_time": "2022-12-20T19:19:08.522Z"
   },
   {
    "duration": 5303,
    "start_time": "2022-12-20T19:19:08.537Z"
   },
   {
    "duration": 9,
    "start_time": "2022-12-20T19:19:13.842Z"
   },
   {
    "duration": 26,
    "start_time": "2022-12-20T19:19:13.853Z"
   },
   {
    "duration": 257,
    "start_time": "2022-12-20T19:19:13.881Z"
   },
   {
    "duration": 1180,
    "start_time": "2022-12-20T19:19:14.140Z"
   },
   {
    "duration": 37,
    "start_time": "2022-12-20T19:19:15.322Z"
   },
   {
    "duration": 4,
    "start_time": "2022-12-20T19:19:15.378Z"
   },
   {
    "duration": 344,
    "start_time": "2022-12-20T19:19:15.384Z"
   },
   {
    "duration": 319,
    "start_time": "2022-12-20T19:19:15.730Z"
   },
   {
    "duration": 319,
    "start_time": "2022-12-20T19:19:16.050Z"
   },
   {
    "duration": 431,
    "start_time": "2022-12-20T19:19:16.377Z"
   },
   {
    "duration": 4,
    "start_time": "2022-12-20T19:19:16.809Z"
   },
   {
    "duration": 66,
    "start_time": "2022-12-20T19:19:16.815Z"
   },
   {
    "duration": 5,
    "start_time": "2022-12-20T19:19:16.883Z"
   },
   {
    "duration": 15,
    "start_time": "2022-12-20T19:19:16.889Z"
   },
   {
    "duration": 16,
    "start_time": "2022-12-20T19:19:16.905Z"
   },
   {
    "duration": 7,
    "start_time": "2022-12-20T19:19:16.923Z"
   },
   {
    "duration": 11,
    "start_time": "2022-12-20T19:19:16.932Z"
   },
   {
    "duration": 17,
    "start_time": "2022-12-20T19:19:16.944Z"
   },
   {
    "duration": 30394,
    "start_time": "2022-12-20T19:19:16.963Z"
   },
   {
    "duration": 56702,
    "start_time": "2022-12-20T19:19:47.359Z"
   },
   {
    "duration": 1328,
    "start_time": "2022-12-20T19:20:44.063Z"
   },
   {
    "duration": 92,
    "start_time": "2022-12-20T19:20:45.393Z"
   },
   {
    "duration": 92,
    "start_time": "2022-12-20T19:20:45.490Z"
   },
   {
    "duration": 1365,
    "start_time": "2022-12-20T19:26:54.208Z"
   },
   {
    "duration": 652,
    "start_time": "2022-12-20T19:26:55.575Z"
   },
   {
    "duration": 3,
    "start_time": "2022-12-20T19:26:56.229Z"
   },
   {
    "duration": 307,
    "start_time": "2022-12-20T19:26:56.234Z"
   },
   {
    "duration": 287,
    "start_time": "2022-12-20T19:26:56.543Z"
   },
   {
    "duration": 337,
    "start_time": "2022-12-20T19:26:56.831Z"
   },
   {
    "duration": 8,
    "start_time": "2022-12-20T19:26:57.170Z"
   },
   {
    "duration": 13,
    "start_time": "2022-12-20T19:26:57.179Z"
   },
   {
    "duration": 7,
    "start_time": "2022-12-20T19:26:57.194Z"
   },
   {
    "duration": 5,
    "start_time": "2022-12-20T19:26:57.204Z"
   },
   {
    "duration": 10,
    "start_time": "2022-12-20T19:26:57.210Z"
   },
   {
    "duration": 145,
    "start_time": "2022-12-20T19:26:57.221Z"
   },
   {
    "duration": 33,
    "start_time": "2022-12-20T19:26:57.367Z"
   },
   {
    "duration": 99,
    "start_time": "2022-12-20T19:26:57.402Z"
   },
   {
    "duration": 11,
    "start_time": "2022-12-20T19:26:57.504Z"
   },
   {
    "duration": 13,
    "start_time": "2022-12-20T19:26:57.517Z"
   },
   {
    "duration": 10,
    "start_time": "2022-12-20T19:26:57.531Z"
   },
   {
    "duration": 4854,
    "start_time": "2022-12-20T19:26:57.543Z"
   },
   {
    "duration": 8,
    "start_time": "2022-12-20T19:27:02.399Z"
   },
   {
    "duration": 21,
    "start_time": "2022-12-20T19:27:02.408Z"
   },
   {
    "duration": 212,
    "start_time": "2022-12-20T19:27:02.431Z"
   },
   {
    "duration": 1127,
    "start_time": "2022-12-20T19:27:02.645Z"
   },
   {
    "duration": 35,
    "start_time": "2022-12-20T19:27:03.774Z"
   },
   {
    "duration": 4,
    "start_time": "2022-12-20T19:27:03.812Z"
   },
   {
    "duration": 332,
    "start_time": "2022-12-20T19:27:03.817Z"
   },
   {
    "duration": 286,
    "start_time": "2022-12-20T19:27:04.151Z"
   },
   {
    "duration": 328,
    "start_time": "2022-12-20T19:27:04.439Z"
   },
   {
    "duration": 412,
    "start_time": "2022-12-20T19:27:04.777Z"
   },
   {
    "duration": 3,
    "start_time": "2022-12-20T19:27:05.191Z"
   },
   {
    "duration": 58,
    "start_time": "2022-12-20T19:27:05.196Z"
   },
   {
    "duration": 5,
    "start_time": "2022-12-20T19:27:05.256Z"
   },
   {
    "duration": 18,
    "start_time": "2022-12-20T19:27:05.262Z"
   },
   {
    "duration": 10,
    "start_time": "2022-12-20T19:27:05.281Z"
   },
   {
    "duration": 4,
    "start_time": "2022-12-20T19:27:05.293Z"
   },
   {
    "duration": 11,
    "start_time": "2022-12-20T19:27:05.299Z"
   },
   {
    "duration": 15,
    "start_time": "2022-12-20T19:27:05.311Z"
   },
   {
    "duration": 29725,
    "start_time": "2022-12-20T19:27:05.327Z"
   },
   {
    "duration": 55161,
    "start_time": "2022-12-20T19:27:35.054Z"
   },
   {
    "duration": 1262,
    "start_time": "2022-12-20T19:28:30.217Z"
   },
   {
    "duration": 11,
    "start_time": "2022-12-20T19:28:31.481Z"
   },
   {
    "duration": 10,
    "start_time": "2022-12-20T19:28:31.579Z"
   },
   {
    "duration": 7,
    "start_time": "2022-12-20T19:30:12.219Z"
   },
   {
    "duration": 1428,
    "start_time": "2022-12-20T19:30:27.627Z"
   },
   {
    "duration": 649,
    "start_time": "2022-12-20T19:30:29.057Z"
   },
   {
    "duration": 3,
    "start_time": "2022-12-20T19:30:29.708Z"
   },
   {
    "duration": 299,
    "start_time": "2022-12-20T19:30:29.714Z"
   },
   {
    "duration": 170,
    "start_time": "2022-12-20T19:30:30.015Z"
   },
   {
    "duration": 295,
    "start_time": "2022-12-20T19:30:30.186Z"
   },
   {
    "duration": 3,
    "start_time": "2022-12-20T19:30:30.483Z"
   },
   {
    "duration": 17,
    "start_time": "2022-12-20T19:30:30.488Z"
   },
   {
    "duration": 58,
    "start_time": "2022-12-20T19:30:30.506Z"
   },
   {
    "duration": 41,
    "start_time": "2022-12-20T19:30:30.567Z"
   },
   {
    "duration": 26,
    "start_time": "2022-12-20T19:30:30.610Z"
   },
   {
    "duration": 162,
    "start_time": "2022-12-20T19:30:30.637Z"
   },
   {
    "duration": 21,
    "start_time": "2022-12-20T19:30:30.801Z"
   },
   {
    "duration": 103,
    "start_time": "2022-12-20T19:30:30.824Z"
   },
   {
    "duration": 12,
    "start_time": "2022-12-20T19:30:30.929Z"
   },
   {
    "duration": 44,
    "start_time": "2022-12-20T19:30:30.942Z"
   },
   {
    "duration": 43,
    "start_time": "2022-12-20T19:30:30.988Z"
   },
   {
    "duration": 4978,
    "start_time": "2022-12-20T19:30:31.033Z"
   },
   {
    "duration": 8,
    "start_time": "2022-12-20T19:30:36.013Z"
   },
   {
    "duration": 10,
    "start_time": "2022-12-20T19:30:36.022Z"
   },
   {
    "duration": 221,
    "start_time": "2022-12-20T19:30:36.034Z"
   },
   {
    "duration": 1122,
    "start_time": "2022-12-20T19:30:36.257Z"
   },
   {
    "duration": 34,
    "start_time": "2022-12-20T19:30:37.381Z"
   },
   {
    "duration": 4,
    "start_time": "2022-12-20T19:30:37.417Z"
   },
   {
    "duration": 336,
    "start_time": "2022-12-20T19:30:37.422Z"
   },
   {
    "duration": 298,
    "start_time": "2022-12-20T19:30:37.759Z"
   },
   {
    "duration": 382,
    "start_time": "2022-12-20T19:30:38.058Z"
   },
   {
    "duration": 452,
    "start_time": "2022-12-20T19:30:38.445Z"
   },
   {
    "duration": 4,
    "start_time": "2022-12-20T19:30:38.898Z"
   },
   {
    "duration": 78,
    "start_time": "2022-12-20T19:30:38.903Z"
   },
   {
    "duration": 6,
    "start_time": "2022-12-20T19:30:38.982Z"
   },
   {
    "duration": 37,
    "start_time": "2022-12-20T19:30:38.989Z"
   },
   {
    "duration": 21,
    "start_time": "2022-12-20T19:30:39.028Z"
   },
   {
    "duration": 31,
    "start_time": "2022-12-20T19:30:39.051Z"
   },
   {
    "duration": 28,
    "start_time": "2022-12-20T19:30:39.083Z"
   },
   {
    "duration": 21,
    "start_time": "2022-12-20T19:30:39.112Z"
   },
   {
    "duration": 30669,
    "start_time": "2022-12-20T19:30:39.135Z"
   },
   {
    "duration": 55823,
    "start_time": "2022-12-20T19:31:09.805Z"
   },
   {
    "duration": 1253,
    "start_time": "2022-12-20T19:32:05.630Z"
   },
   {
    "duration": 96,
    "start_time": "2022-12-20T19:32:06.885Z"
   },
   {
    "duration": 18,
    "start_time": "2022-12-20T19:32:06.983Z"
   },
   {
    "duration": 2029,
    "start_time": "2022-12-21T16:39:47.496Z"
   },
   {
    "duration": 3340,
    "start_time": "2022-12-21T16:39:49.528Z"
   },
   {
    "duration": 4,
    "start_time": "2022-12-21T16:39:52.871Z"
   },
   {
    "duration": 290,
    "start_time": "2022-12-21T16:39:52.877Z"
   },
   {
    "duration": 182,
    "start_time": "2022-12-21T16:39:53.169Z"
   },
   {
    "duration": 326,
    "start_time": "2022-12-21T16:39:53.354Z"
   },
   {
    "duration": 3,
    "start_time": "2022-12-21T16:39:53.682Z"
   },
   {
    "duration": 20,
    "start_time": "2022-12-21T16:39:53.687Z"
   },
   {
    "duration": 12,
    "start_time": "2022-12-21T16:39:53.708Z"
   },
   {
    "duration": 6,
    "start_time": "2022-12-21T16:39:53.723Z"
   },
   {
    "duration": 17,
    "start_time": "2022-12-21T16:39:53.731Z"
   },
   {
    "duration": 147,
    "start_time": "2022-12-21T16:39:53.749Z"
   },
   {
    "duration": 30,
    "start_time": "2022-12-21T16:39:53.898Z"
   },
   {
    "duration": 102,
    "start_time": "2022-12-21T16:39:53.931Z"
   },
   {
    "duration": 14,
    "start_time": "2022-12-21T16:39:54.035Z"
   },
   {
    "duration": 37,
    "start_time": "2022-12-21T16:39:54.052Z"
   },
   {
    "duration": 13,
    "start_time": "2022-12-21T16:39:54.092Z"
   },
   {
    "duration": 5334,
    "start_time": "2022-12-21T16:39:54.107Z"
   },
   {
    "duration": 10,
    "start_time": "2022-12-21T16:39:59.443Z"
   },
   {
    "duration": 10,
    "start_time": "2022-12-21T16:39:59.455Z"
   },
   {
    "duration": 268,
    "start_time": "2022-12-21T16:39:59.467Z"
   },
   {
    "duration": 1336,
    "start_time": "2022-12-21T16:39:59.737Z"
   },
   {
    "duration": 47,
    "start_time": "2022-12-21T16:40:01.075Z"
   },
   {
    "duration": 4,
    "start_time": "2022-12-21T16:40:01.124Z"
   },
   {
    "duration": 402,
    "start_time": "2022-12-21T16:40:01.130Z"
   },
   {
    "duration": 321,
    "start_time": "2022-12-21T16:40:01.534Z"
   },
   {
    "duration": 364,
    "start_time": "2022-12-21T16:40:01.857Z"
   },
   {
    "duration": 502,
    "start_time": "2022-12-21T16:40:02.225Z"
   },
   {
    "duration": 4,
    "start_time": "2022-12-21T16:40:02.729Z"
   },
   {
    "duration": 101,
    "start_time": "2022-12-21T16:40:02.735Z"
   },
   {
    "duration": 8,
    "start_time": "2022-12-21T16:40:02.837Z"
   },
   {
    "duration": 20,
    "start_time": "2022-12-21T16:40:02.847Z"
   },
   {
    "duration": 35,
    "start_time": "2022-12-21T16:40:02.869Z"
   },
   {
    "duration": 21,
    "start_time": "2022-12-21T16:40:02.906Z"
   },
   {
    "duration": 19,
    "start_time": "2022-12-21T16:40:02.930Z"
   },
   {
    "duration": 23,
    "start_time": "2022-12-21T16:40:02.952Z"
   },
   {
    "duration": 31884,
    "start_time": "2022-12-21T16:40:02.977Z"
   },
   {
    "duration": 7,
    "start_time": "2022-12-21T16:40:40.565Z"
   },
   {
    "duration": 4,
    "start_time": "2022-12-21T16:40:46.730Z"
   },
   {
    "duration": 31672,
    "start_time": "2022-12-21T16:40:50.406Z"
   },
   {
    "duration": 64148,
    "start_time": "2022-12-21T16:41:35.519Z"
   }
  ],
  "kernelspec": {
   "display_name": "Python 3 (ipykernel)",
   "language": "python",
   "name": "python3"
  },
  "language_info": {
   "codemirror_mode": {
    "name": "ipython",
    "version": 3
   },
   "file_extension": ".py",
   "mimetype": "text/x-python",
   "name": "python",
   "nbconvert_exporter": "python",
   "pygments_lexer": "ipython3",
   "version": "3.9.13"
  },
  "toc": {
   "base_numbering": 1,
   "nav_menu": {},
   "number_sections": true,
   "sideBar": true,
   "skip_h1_title": true,
   "title_cell": "Содержание",
   "title_sidebar": "Contents",
   "toc_cell": true,
   "toc_position": {
    "height": "calc(100% - 180px)",
    "left": "10px",
    "top": "150px",
    "width": "303.675px"
   },
   "toc_section_display": true,
   "toc_window_display": true
  }
 },
 "nbformat": 4,
 "nbformat_minor": 2
}
