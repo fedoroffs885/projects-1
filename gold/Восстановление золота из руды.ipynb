{
 "cells": [
  {
   "cell_type": "markdown",
   "metadata": {},
   "source": [
    "# Восстановление золота из руды"
   ]
  },
  {
   "cell_type": "markdown",
   "metadata": {
    "toc": true
   },
   "source": [
    "Подготовьте прототип модели машинного обучения для «Цифры». Компания разрабатывает решения для эффективной работы промышленных предприятий.\n",
    "Модель должна предсказать коэффициент восстановления золота из золотосодержащей руды. В вашем распоряжении данные с параметрами добычи и очистки.\n",
    "Модель поможет оптимизировать производство, чтобы не запускать предприятие с убыточными характеристиками."
   ]
  },
  {
   "cell_type": "markdown",
   "metadata": {},
   "source": [
    "# Шаги исследования"
   ]
  },
  {
   "cell_type": "markdown",
   "metadata": {},
   "source": [
    "1. Подготовка данных\n",
    "2. Анализ данных\n",
    "3. Модель\n",
    "4. Общий вывод"
   ]
  },
  {
   "cell_type": "markdown",
   "metadata": {},
   "source": [
    "## 1. Подготовка данных"
   ]
  },
  {
   "cell_type": "code",
   "execution_count": 1,
   "metadata": {},
   "outputs": [],
   "source": [
    "import pandas as pd\n",
    "import matplotlib.pyplot as plt\n",
    "import numpy as np\n",
    "\n",
    "from sklearn.linear_model import LinearRegression\n",
    "from sklearn.tree import DecisionTreeRegressor\n",
    "from sklearn.ensemble import RandomForestRegressor\n",
    "\n",
    "from sklearn.model_selection import cross_val_score, GridSearchCV\n",
    "from sklearn.metrics import mean_absolute_error, make_scorer\n",
    "from sklearn.preprocessing import StandardScaler\n",
    "from sklearn.dummy import DummyRegressor\n",
    "\n",
    "\n",
    "\n",
    "# Обозначим некоторые переменные, которые пригодятся в работе в дальнейшем\n",
    "METALS = ['au', 'ag', 'pb']\n",
    "TARGETS = ['final.output.recovery', 'rougher.output.recovery']\n",
    "CONCENTRATE = ['rougher.input.feed',\n",
    "    'rougher.output.concentrate',\n",
    "    'primary_cleaner.output.concentrate',\n",
    "    'final.output.concentrate']\n",
    "RANDOM_STATE = 12345"
   ]
  },
  {
   "cell_type": "code",
   "execution_count": 2,
   "metadata": {
    "scrolled": true
   },
   "outputs": [],
   "source": [
    "# Загрузим данные\n",
    "df_train = pd.read_csv(r'C:\\Users\\stasf\\Desktop\\gold_industry_train.csv', index_col='date', parse_dates=True)\n",
    "df_test = pd.read_csv(r'C:\\Users\\stasf\\Desktop\\gold_industry_test.csv', index_col='date', parse_dates=True)\n",
    "df_full = pd.read_csv(r'C:\\Users\\stasf\\Desktop\\gold_industry_full.csv', index_col='date', parse_dates=True)"
   ]
  },
  {
   "cell_type": "code",
   "execution_count": 3,
   "metadata": {},
   "outputs": [],
   "source": [
    "# Напишем функцию для описания данных\n",
    "def check_df(df):\n",
    "    print(\"Количество строк:\", df.shape[0])\n",
    "    print(\"Количество столбцов:\", df.shape[1])\n",
    "    df.info()\n",
    "    display(df.describe())\n",
    "    display(df.head(5))"
   ]
  },
  {
   "cell_type": "code",
   "execution_count": 4,
   "metadata": {},
   "outputs": [
    {
     "name": "stdout",
     "output_type": "stream",
     "text": [
      "Количество строк: 14579\n",
      "Количество столбцов: 86\n",
      "<class 'pandas.core.frame.DataFrame'>\n",
      "DatetimeIndex: 14579 entries, 2016-01-15 00:00:00 to 2017-12-09 13:59:59\n",
      "Data columns (total 86 columns):\n",
      " #   Column                                              Non-Null Count  Dtype  \n",
      "---  ------                                              --------------  -----  \n",
      " 0   rougher.input.feed_au                               14579 non-null  float64\n",
      " 1   rougher.input.feed_ag                               14579 non-null  float64\n",
      " 2   rougher.input.feed_pb                               14507 non-null  float64\n",
      " 3   rougher.input.feed_sol                              14502 non-null  float64\n",
      " 4   rougher.input.feed_rate                             14572 non-null  float64\n",
      " 5   rougher.input.feed_size                             14478 non-null  float64\n",
      " 6   rougher.input.floatbank10_sulfate                   14548 non-null  float64\n",
      " 7   rougher.input.floatbank10_xanthate                  14572 non-null  float64\n",
      " 8   rougher.state.floatbank10_a_air                     14579 non-null  float64\n",
      " 9   rougher.state.floatbank10_a_level                   14579 non-null  float64\n",
      " 10  rougher.state.floatbank10_b_air                     14579 non-null  float64\n",
      " 11  rougher.state.floatbank10_b_level                   14579 non-null  float64\n",
      " 12  rougher.state.floatbank10_c_air                     14579 non-null  float64\n",
      " 13  rougher.state.floatbank10_c_level                   14579 non-null  float64\n",
      " 14  rougher.state.floatbank10_d_air                     14579 non-null  float64\n",
      " 15  rougher.state.floatbank10_d_level                   14579 non-null  float64\n",
      " 16  rougher.state.floatbank10_e_air                     14150 non-null  float64\n",
      " 17  rougher.state.floatbank10_e_level                   14579 non-null  float64\n",
      " 18  rougher.state.floatbank10_f_air                     14579 non-null  float64\n",
      " 19  rougher.state.floatbank10_f_level                   14579 non-null  float64\n",
      " 20  rougher.input.floatbank11_sulfate                   14543 non-null  float64\n",
      " 21  rougher.input.floatbank11_xanthate                  14172 non-null  float64\n",
      " 22  rougher.calculation.sulfate_to_au_concentrate       14578 non-null  float64\n",
      " 23  rougher.calculation.floatbank10_sulfate_to_au_feed  14578 non-null  float64\n",
      " 24  rougher.calculation.floatbank11_sulfate_to_au_feed  14578 non-null  float64\n",
      " 25  rougher.calculation.au_pb_ratio                     14579 non-null  float64\n",
      " 26  rougher.output.concentrate_au                       14579 non-null  float64\n",
      " 27  rougher.output.concentrate_ag                       14579 non-null  float64\n",
      " 28  rougher.output.concentrate_pb                       14579 non-null  float64\n",
      " 29  rougher.output.concentrate_sol                      14561 non-null  float64\n",
      " 30  rougher.output.recovery                             14579 non-null  float64\n",
      " 31  rougher.output.tail_au                              14579 non-null  float64\n",
      " 32  rougher.output.tail_ag                              14578 non-null  float64\n",
      " 33  rougher.output.tail_pb                              14579 non-null  float64\n",
      " 34  rougher.output.tail_sol                             14579 non-null  float64\n",
      " 35  primary_cleaner.input.sulfate                       14556 non-null  float64\n",
      " 36  primary_cleaner.input.depressant                    14551 non-null  float64\n",
      " 37  primary_cleaner.input.feed_size                     14579 non-null  float64\n",
      " 38  primary_cleaner.input.xanthate                      14518 non-null  float64\n",
      " 39  primary_cleaner.state.floatbank8_a_air              14576 non-null  float64\n",
      " 40  primary_cleaner.state.floatbank8_a_level            14579 non-null  float64\n",
      " 41  primary_cleaner.state.floatbank8_b_air              14576 non-null  float64\n",
      " 42  primary_cleaner.state.floatbank8_b_level            14579 non-null  float64\n",
      " 43  primary_cleaner.state.floatbank8_c_air              14579 non-null  float64\n",
      " 44  primary_cleaner.state.floatbank8_c_level            14579 non-null  float64\n",
      " 45  primary_cleaner.state.floatbank8_d_air              14578 non-null  float64\n",
      " 46  primary_cleaner.state.floatbank8_d_level            14579 non-null  float64\n",
      " 47  primary_cleaner.output.concentrate_au               14579 non-null  float64\n",
      " 48  primary_cleaner.output.concentrate_ag               14579 non-null  float64\n",
      " 49  primary_cleaner.output.concentrate_pb               14491 non-null  float64\n",
      " 50  primary_cleaner.output.concentrate_sol              14314 non-null  float64\n",
      " 51  primary_cleaner.output.tail_au                      14579 non-null  float64\n",
      " 52  primary_cleaner.output.tail_ag                      14575 non-null  float64\n",
      " 53  primary_cleaner.output.tail_pb                      14573 non-null  float64\n",
      " 54  primary_cleaner.output.tail_sol                     14534 non-null  float64\n",
      " 55  secondary_cleaner.state.floatbank2_a_air            14485 non-null  float64\n",
      " 56  secondary_cleaner.state.floatbank2_a_level          14579 non-null  float64\n",
      " 57  secondary_cleaner.state.floatbank2_b_air            14557 non-null  float64\n",
      " 58  secondary_cleaner.state.floatbank2_b_level          14579 non-null  float64\n",
      " 59  secondary_cleaner.state.floatbank3_a_air            14567 non-null  float64\n",
      " 60  secondary_cleaner.state.floatbank3_a_level          14579 non-null  float64\n",
      " 61  secondary_cleaner.state.floatbank3_b_air            14579 non-null  float64\n",
      " 62  secondary_cleaner.state.floatbank3_b_level          14579 non-null  float64\n",
      " 63  secondary_cleaner.state.floatbank4_a_air            14574 non-null  float64\n",
      " 64  secondary_cleaner.state.floatbank4_a_level          14579 non-null  float64\n",
      " 65  secondary_cleaner.state.floatbank4_b_air            14579 non-null  float64\n",
      " 66  secondary_cleaner.state.floatbank4_b_level          14579 non-null  float64\n",
      " 67  secondary_cleaner.state.floatbank5_a_air            14579 non-null  float64\n",
      " 68  secondary_cleaner.state.floatbank5_a_level          14579 non-null  float64\n",
      " 69  secondary_cleaner.state.floatbank5_b_air            14579 non-null  float64\n",
      " 70  secondary_cleaner.state.floatbank5_b_level          14579 non-null  float64\n",
      " 71  secondary_cleaner.state.floatbank6_a_air            14578 non-null  float64\n",
      " 72  secondary_cleaner.state.floatbank6_a_level          14579 non-null  float64\n",
      " 73  secondary_cleaner.output.tail_au                    14579 non-null  float64\n",
      " 74  secondary_cleaner.output.tail_ag                    14578 non-null  float64\n",
      " 75  secondary_cleaner.output.tail_pb                    14575 non-null  float64\n",
      " 76  secondary_cleaner.output.tail_sol                   13659 non-null  float64\n",
      " 77  final.output.concentrate_au                         14579 non-null  float64\n",
      " 78  final.output.concentrate_ag                         14578 non-null  float64\n",
      " 79  final.output.concentrate_pb                         14578 non-null  float64\n",
      " 80  final.output.concentrate_sol                        14387 non-null  float64\n",
      " 81  final.output.recovery                               14579 non-null  float64\n",
      " 82  final.output.tail_au                                14579 non-null  float64\n",
      " 83  final.output.tail_ag                                14578 non-null  float64\n",
      " 84  final.output.tail_pb                                14504 non-null  float64\n",
      " 85  final.output.tail_sol                               14574 non-null  float64\n",
      "dtypes: float64(86)\n",
      "memory usage: 9.7 MB\n"
     ]
    },
    {
     "data": {
      "text/html": [
       "<div>\n",
       "<style scoped>\n",
       "    .dataframe tbody tr th:only-of-type {\n",
       "        vertical-align: middle;\n",
       "    }\n",
       "\n",
       "    .dataframe tbody tr th {\n",
       "        vertical-align: top;\n",
       "    }\n",
       "\n",
       "    .dataframe thead th {\n",
       "        text-align: right;\n",
       "    }\n",
       "</style>\n",
       "<table border=\"1\" class=\"dataframe\">\n",
       "  <thead>\n",
       "    <tr style=\"text-align: right;\">\n",
       "      <th></th>\n",
       "      <th>rougher.input.feed_au</th>\n",
       "      <th>rougher.input.feed_ag</th>\n",
       "      <th>rougher.input.feed_pb</th>\n",
       "      <th>rougher.input.feed_sol</th>\n",
       "      <th>rougher.input.feed_rate</th>\n",
       "      <th>rougher.input.feed_size</th>\n",
       "      <th>rougher.input.floatbank10_sulfate</th>\n",
       "      <th>rougher.input.floatbank10_xanthate</th>\n",
       "      <th>rougher.state.floatbank10_a_air</th>\n",
       "      <th>rougher.state.floatbank10_a_level</th>\n",
       "      <th>...</th>\n",
       "      <th>secondary_cleaner.output.tail_sol</th>\n",
       "      <th>final.output.concentrate_au</th>\n",
       "      <th>final.output.concentrate_ag</th>\n",
       "      <th>final.output.concentrate_pb</th>\n",
       "      <th>final.output.concentrate_sol</th>\n",
       "      <th>final.output.recovery</th>\n",
       "      <th>final.output.tail_au</th>\n",
       "      <th>final.output.tail_ag</th>\n",
       "      <th>final.output.tail_pb</th>\n",
       "      <th>final.output.tail_sol</th>\n",
       "    </tr>\n",
       "  </thead>\n",
       "  <tbody>\n",
       "    <tr>\n",
       "      <th>count</th>\n",
       "      <td>14579.000000</td>\n",
       "      <td>14579.000000</td>\n",
       "      <td>14507.000000</td>\n",
       "      <td>14502.000000</td>\n",
       "      <td>14572.000000</td>\n",
       "      <td>14478.000000</td>\n",
       "      <td>14548.000000</td>\n",
       "      <td>14572.000000</td>\n",
       "      <td>14579.000000</td>\n",
       "      <td>14579.000000</td>\n",
       "      <td>...</td>\n",
       "      <td>13659.000000</td>\n",
       "      <td>14579.000000</td>\n",
       "      <td>14578.000000</td>\n",
       "      <td>14578.000000</td>\n",
       "      <td>14387.000000</td>\n",
       "      <td>14579.000000</td>\n",
       "      <td>14579.000000</td>\n",
       "      <td>14578.000000</td>\n",
       "      <td>14504.000000</td>\n",
       "      <td>14574.000000</td>\n",
       "    </tr>\n",
       "    <tr>\n",
       "      <th>mean</th>\n",
       "      <td>8.352941</td>\n",
       "      <td>8.877460</td>\n",
       "      <td>3.604221</td>\n",
       "      <td>36.561420</td>\n",
       "      <td>474.332784</td>\n",
       "      <td>58.922712</td>\n",
       "      <td>12.427399</td>\n",
       "      <td>5.994854</td>\n",
       "      <td>1104.208278</td>\n",
       "      <td>-379.367166</td>\n",
       "      <td>...</td>\n",
       "      <td>7.111347</td>\n",
       "      <td>43.979499</td>\n",
       "      <td>5.192145</td>\n",
       "      <td>9.923809</td>\n",
       "      <td>9.566676</td>\n",
       "      <td>66.759066</td>\n",
       "      <td>3.087939</td>\n",
       "      <td>9.731972</td>\n",
       "      <td>2.719985</td>\n",
       "      <td>10.612745</td>\n",
       "    </tr>\n",
       "    <tr>\n",
       "      <th>std</th>\n",
       "      <td>1.934376</td>\n",
       "      <td>1.922536</td>\n",
       "      <td>1.056063</td>\n",
       "      <td>5.209823</td>\n",
       "      <td>108.503552</td>\n",
       "      <td>22.407410</td>\n",
       "      <td>3.428939</td>\n",
       "      <td>1.152873</td>\n",
       "      <td>162.235606</td>\n",
       "      <td>94.652311</td>\n",
       "      <td>...</td>\n",
       "      <td>3.909951</td>\n",
       "      <td>5.471437</td>\n",
       "      <td>1.388014</td>\n",
       "      <td>1.706976</td>\n",
       "      <td>2.805654</td>\n",
       "      <td>10.619709</td>\n",
       "      <td>0.915187</td>\n",
       "      <td>2.358143</td>\n",
       "      <td>0.958929</td>\n",
       "      <td>2.871075</td>\n",
       "    </tr>\n",
       "    <tr>\n",
       "      <th>min</th>\n",
       "      <td>0.010000</td>\n",
       "      <td>0.010000</td>\n",
       "      <td>0.010000</td>\n",
       "      <td>0.010000</td>\n",
       "      <td>0.002986</td>\n",
       "      <td>0.049194</td>\n",
       "      <td>0.001083</td>\n",
       "      <td>0.000568</td>\n",
       "      <td>-0.042069</td>\n",
       "      <td>-657.949759</td>\n",
       "      <td>...</td>\n",
       "      <td>0.000000</td>\n",
       "      <td>0.000000</td>\n",
       "      <td>0.000000</td>\n",
       "      <td>0.000000</td>\n",
       "      <td>0.000000</td>\n",
       "      <td>0.000000</td>\n",
       "      <td>0.000000</td>\n",
       "      <td>0.000000</td>\n",
       "      <td>0.000000</td>\n",
       "      <td>0.000000</td>\n",
       "    </tr>\n",
       "    <tr>\n",
       "      <th>25%</th>\n",
       "      <td>6.932996</td>\n",
       "      <td>7.341922</td>\n",
       "      <td>2.880490</td>\n",
       "      <td>34.093951</td>\n",
       "      <td>411.048483</td>\n",
       "      <td>47.278490</td>\n",
       "      <td>10.002832</td>\n",
       "      <td>5.304167</td>\n",
       "      <td>999.644856</td>\n",
       "      <td>-499.861797</td>\n",
       "      <td>...</td>\n",
       "      <td>3.784897</td>\n",
       "      <td>43.345906</td>\n",
       "      <td>4.283347</td>\n",
       "      <td>9.103183</td>\n",
       "      <td>7.860030</td>\n",
       "      <td>63.114596</td>\n",
       "      <td>2.505287</td>\n",
       "      <td>8.088928</td>\n",
       "      <td>2.036512</td>\n",
       "      <td>9.013412</td>\n",
       "    </tr>\n",
       "    <tr>\n",
       "      <th>50%</th>\n",
       "      <td>8.225284</td>\n",
       "      <td>8.715859</td>\n",
       "      <td>3.532399</td>\n",
       "      <td>37.097511</td>\n",
       "      <td>498.187968</td>\n",
       "      <td>54.361187</td>\n",
       "      <td>12.003320</td>\n",
       "      <td>6.003053</td>\n",
       "      <td>1000.982624</td>\n",
       "      <td>-300.314199</td>\n",
       "      <td>...</td>\n",
       "      <td>7.629968</td>\n",
       "      <td>44.975014</td>\n",
       "      <td>5.118647</td>\n",
       "      <td>10.046455</td>\n",
       "      <td>9.301970</td>\n",
       "      <td>67.962788</td>\n",
       "      <td>3.029238</td>\n",
       "      <td>9.818512</td>\n",
       "      <td>2.774847</td>\n",
       "      <td>10.670515</td>\n",
       "    </tr>\n",
       "    <tr>\n",
       "      <th>75%</th>\n",
       "      <td>9.832210</td>\n",
       "      <td>10.255843</td>\n",
       "      <td>4.257282</td>\n",
       "      <td>39.899799</td>\n",
       "      <td>549.586552</td>\n",
       "      <td>64.464926</td>\n",
       "      <td>14.929903</td>\n",
       "      <td>6.796632</td>\n",
       "      <td>1292.663971</td>\n",
       "      <td>-299.989315</td>\n",
       "      <td>...</td>\n",
       "      <td>10.367050</td>\n",
       "      <td>46.275153</td>\n",
       "      <td>5.925380</td>\n",
       "      <td>10.981203</td>\n",
       "      <td>11.001573</td>\n",
       "      <td>72.598187</td>\n",
       "      <td>3.614098</td>\n",
       "      <td>11.169187</td>\n",
       "      <td>3.353845</td>\n",
       "      <td>12.130827</td>\n",
       "    </tr>\n",
       "    <tr>\n",
       "      <th>max</th>\n",
       "      <td>13.731330</td>\n",
       "      <td>14.596026</td>\n",
       "      <td>7.052325</td>\n",
       "      <td>53.475325</td>\n",
       "      <td>717.508837</td>\n",
       "      <td>484.967466</td>\n",
       "      <td>36.118275</td>\n",
       "      <td>9.703448</td>\n",
       "      <td>1512.299531</td>\n",
       "      <td>-273.776101</td>\n",
       "      <td>...</td>\n",
       "      <td>26.000772</td>\n",
       "      <td>52.756638</td>\n",
       "      <td>16.001945</td>\n",
       "      <td>16.705297</td>\n",
       "      <td>19.423912</td>\n",
       "      <td>100.000000</td>\n",
       "      <td>8.245022</td>\n",
       "      <td>19.552149</td>\n",
       "      <td>5.804178</td>\n",
       "      <td>22.317730</td>\n",
       "    </tr>\n",
       "  </tbody>\n",
       "</table>\n",
       "<p>8 rows × 86 columns</p>\n",
       "</div>"
      ],
      "text/plain": [
       "       rougher.input.feed_au  rougher.input.feed_ag  rougher.input.feed_pb  \\\n",
       "count           14579.000000           14579.000000           14507.000000   \n",
       "mean                8.352941               8.877460               3.604221   \n",
       "std                 1.934376               1.922536               1.056063   \n",
       "min                 0.010000               0.010000               0.010000   \n",
       "25%                 6.932996               7.341922               2.880490   \n",
       "50%                 8.225284               8.715859               3.532399   \n",
       "75%                 9.832210              10.255843               4.257282   \n",
       "max                13.731330              14.596026               7.052325   \n",
       "\n",
       "       rougher.input.feed_sol  rougher.input.feed_rate  \\\n",
       "count            14502.000000             14572.000000   \n",
       "mean                36.561420               474.332784   \n",
       "std                  5.209823               108.503552   \n",
       "min                  0.010000                 0.002986   \n",
       "25%                 34.093951               411.048483   \n",
       "50%                 37.097511               498.187968   \n",
       "75%                 39.899799               549.586552   \n",
       "max                 53.475325               717.508837   \n",
       "\n",
       "       rougher.input.feed_size  rougher.input.floatbank10_sulfate  \\\n",
       "count             14478.000000                       14548.000000   \n",
       "mean                 58.922712                          12.427399   \n",
       "std                  22.407410                           3.428939   \n",
       "min                   0.049194                           0.001083   \n",
       "25%                  47.278490                          10.002832   \n",
       "50%                  54.361187                          12.003320   \n",
       "75%                  64.464926                          14.929903   \n",
       "max                 484.967466                          36.118275   \n",
       "\n",
       "       rougher.input.floatbank10_xanthate  rougher.state.floatbank10_a_air  \\\n",
       "count                        14572.000000                     14579.000000   \n",
       "mean                             5.994854                      1104.208278   \n",
       "std                              1.152873                       162.235606   \n",
       "min                              0.000568                        -0.042069   \n",
       "25%                              5.304167                       999.644856   \n",
       "50%                              6.003053                      1000.982624   \n",
       "75%                              6.796632                      1292.663971   \n",
       "max                              9.703448                      1512.299531   \n",
       "\n",
       "       rougher.state.floatbank10_a_level  ...  \\\n",
       "count                       14579.000000  ...   \n",
       "mean                         -379.367166  ...   \n",
       "std                            94.652311  ...   \n",
       "min                          -657.949759  ...   \n",
       "25%                          -499.861797  ...   \n",
       "50%                          -300.314199  ...   \n",
       "75%                          -299.989315  ...   \n",
       "max                          -273.776101  ...   \n",
       "\n",
       "       secondary_cleaner.output.tail_sol  final.output.concentrate_au  \\\n",
       "count                       13659.000000                 14579.000000   \n",
       "mean                            7.111347                    43.979499   \n",
       "std                             3.909951                     5.471437   \n",
       "min                             0.000000                     0.000000   \n",
       "25%                             3.784897                    43.345906   \n",
       "50%                             7.629968                    44.975014   \n",
       "75%                            10.367050                    46.275153   \n",
       "max                            26.000772                    52.756638   \n",
       "\n",
       "       final.output.concentrate_ag  final.output.concentrate_pb  \\\n",
       "count                 14578.000000                 14578.000000   \n",
       "mean                      5.192145                     9.923809   \n",
       "std                       1.388014                     1.706976   \n",
       "min                       0.000000                     0.000000   \n",
       "25%                       4.283347                     9.103183   \n",
       "50%                       5.118647                    10.046455   \n",
       "75%                       5.925380                    10.981203   \n",
       "max                      16.001945                    16.705297   \n",
       "\n",
       "       final.output.concentrate_sol  final.output.recovery  \\\n",
       "count                  14387.000000           14579.000000   \n",
       "mean                       9.566676              66.759066   \n",
       "std                        2.805654              10.619709   \n",
       "min                        0.000000               0.000000   \n",
       "25%                        7.860030              63.114596   \n",
       "50%                        9.301970              67.962788   \n",
       "75%                       11.001573              72.598187   \n",
       "max                       19.423912             100.000000   \n",
       "\n",
       "       final.output.tail_au  final.output.tail_ag  final.output.tail_pb  \\\n",
       "count          14579.000000          14578.000000          14504.000000   \n",
       "mean               3.087939              9.731972              2.719985   \n",
       "std                0.915187              2.358143              0.958929   \n",
       "min                0.000000              0.000000              0.000000   \n",
       "25%                2.505287              8.088928              2.036512   \n",
       "50%                3.029238              9.818512              2.774847   \n",
       "75%                3.614098             11.169187              3.353845   \n",
       "max                8.245022             19.552149              5.804178   \n",
       "\n",
       "       final.output.tail_sol  \n",
       "count           14574.000000  \n",
       "mean               10.612745  \n",
       "std                 2.871075  \n",
       "min                 0.000000  \n",
       "25%                 9.013412  \n",
       "50%                10.670515  \n",
       "75%                12.130827  \n",
       "max                22.317730  \n",
       "\n",
       "[8 rows x 86 columns]"
      ]
     },
     "metadata": {},
     "output_type": "display_data"
    },
    {
     "data": {
      "text/html": [
       "<div>\n",
       "<style scoped>\n",
       "    .dataframe tbody tr th:only-of-type {\n",
       "        vertical-align: middle;\n",
       "    }\n",
       "\n",
       "    .dataframe tbody tr th {\n",
       "        vertical-align: top;\n",
       "    }\n",
       "\n",
       "    .dataframe thead th {\n",
       "        text-align: right;\n",
       "    }\n",
       "</style>\n",
       "<table border=\"1\" class=\"dataframe\">\n",
       "  <thead>\n",
       "    <tr style=\"text-align: right;\">\n",
       "      <th></th>\n",
       "      <th>rougher.input.feed_au</th>\n",
       "      <th>rougher.input.feed_ag</th>\n",
       "      <th>rougher.input.feed_pb</th>\n",
       "      <th>rougher.input.feed_sol</th>\n",
       "      <th>rougher.input.feed_rate</th>\n",
       "      <th>rougher.input.feed_size</th>\n",
       "      <th>rougher.input.floatbank10_sulfate</th>\n",
       "      <th>rougher.input.floatbank10_xanthate</th>\n",
       "      <th>rougher.state.floatbank10_a_air</th>\n",
       "      <th>rougher.state.floatbank10_a_level</th>\n",
       "      <th>...</th>\n",
       "      <th>secondary_cleaner.output.tail_sol</th>\n",
       "      <th>final.output.concentrate_au</th>\n",
       "      <th>final.output.concentrate_ag</th>\n",
       "      <th>final.output.concentrate_pb</th>\n",
       "      <th>final.output.concentrate_sol</th>\n",
       "      <th>final.output.recovery</th>\n",
       "      <th>final.output.tail_au</th>\n",
       "      <th>final.output.tail_ag</th>\n",
       "      <th>final.output.tail_pb</th>\n",
       "      <th>final.output.tail_sol</th>\n",
       "    </tr>\n",
       "    <tr>\n",
       "      <th>date</th>\n",
       "      <th></th>\n",
       "      <th></th>\n",
       "      <th></th>\n",
       "      <th></th>\n",
       "      <th></th>\n",
       "      <th></th>\n",
       "      <th></th>\n",
       "      <th></th>\n",
       "      <th></th>\n",
       "      <th></th>\n",
       "      <th></th>\n",
       "      <th></th>\n",
       "      <th></th>\n",
       "      <th></th>\n",
       "      <th></th>\n",
       "      <th></th>\n",
       "      <th></th>\n",
       "      <th></th>\n",
       "      <th></th>\n",
       "      <th></th>\n",
       "      <th></th>\n",
       "    </tr>\n",
       "  </thead>\n",
       "  <tbody>\n",
       "    <tr>\n",
       "      <th>2016-01-15 00:00:00</th>\n",
       "      <td>6.486150</td>\n",
       "      <td>6.100378</td>\n",
       "      <td>2.284912</td>\n",
       "      <td>36.808594</td>\n",
       "      <td>523.546326</td>\n",
       "      <td>55.486599</td>\n",
       "      <td>11.986616</td>\n",
       "      <td>6.007990</td>\n",
       "      <td>999.706909</td>\n",
       "      <td>-404.066986</td>\n",
       "      <td>...</td>\n",
       "      <td>8.764648</td>\n",
       "      <td>42.192020</td>\n",
       "      <td>6.055403</td>\n",
       "      <td>9.889648</td>\n",
       "      <td>5.507324</td>\n",
       "      <td>70.541216</td>\n",
       "      <td>2.143149</td>\n",
       "      <td>10.411962</td>\n",
       "      <td>0.895447</td>\n",
       "      <td>16.904297</td>\n",
       "    </tr>\n",
       "    <tr>\n",
       "      <th>2016-01-15 01:00:00</th>\n",
       "      <td>6.478583</td>\n",
       "      <td>6.161113</td>\n",
       "      <td>2.266033</td>\n",
       "      <td>35.753385</td>\n",
       "      <td>525.290581</td>\n",
       "      <td>57.278666</td>\n",
       "      <td>11.971193</td>\n",
       "      <td>6.005766</td>\n",
       "      <td>1000.286398</td>\n",
       "      <td>-400.065196</td>\n",
       "      <td>...</td>\n",
       "      <td>9.001494</td>\n",
       "      <td>42.701629</td>\n",
       "      <td>6.029369</td>\n",
       "      <td>9.968944</td>\n",
       "      <td>5.257781</td>\n",
       "      <td>69.266198</td>\n",
       "      <td>2.224930</td>\n",
       "      <td>10.462676</td>\n",
       "      <td>0.927452</td>\n",
       "      <td>16.634514</td>\n",
       "    </tr>\n",
       "    <tr>\n",
       "      <th>2016-01-15 02:00:00</th>\n",
       "      <td>6.362222</td>\n",
       "      <td>6.116455</td>\n",
       "      <td>2.159622</td>\n",
       "      <td>35.971630</td>\n",
       "      <td>530.026610</td>\n",
       "      <td>57.510649</td>\n",
       "      <td>11.920603</td>\n",
       "      <td>6.197377</td>\n",
       "      <td>999.719565</td>\n",
       "      <td>-400.074028</td>\n",
       "      <td>...</td>\n",
       "      <td>8.842896</td>\n",
       "      <td>42.657501</td>\n",
       "      <td>6.055926</td>\n",
       "      <td>10.213995</td>\n",
       "      <td>5.383759</td>\n",
       "      <td>68.116445</td>\n",
       "      <td>2.257889</td>\n",
       "      <td>10.507046</td>\n",
       "      <td>0.953716</td>\n",
       "      <td>16.208849</td>\n",
       "    </tr>\n",
       "    <tr>\n",
       "      <th>2016-01-15 03:00:00</th>\n",
       "      <td>6.118189</td>\n",
       "      <td>6.043309</td>\n",
       "      <td>2.037807</td>\n",
       "      <td>36.862241</td>\n",
       "      <td>542.590390</td>\n",
       "      <td>57.792734</td>\n",
       "      <td>11.630094</td>\n",
       "      <td>6.203177</td>\n",
       "      <td>999.814770</td>\n",
       "      <td>-400.200179</td>\n",
       "      <td>...</td>\n",
       "      <td>9.122857</td>\n",
       "      <td>42.689819</td>\n",
       "      <td>6.047977</td>\n",
       "      <td>9.977019</td>\n",
       "      <td>4.858634</td>\n",
       "      <td>68.347543</td>\n",
       "      <td>2.146849</td>\n",
       "      <td>10.422762</td>\n",
       "      <td>0.883763</td>\n",
       "      <td>16.532835</td>\n",
       "    </tr>\n",
       "    <tr>\n",
       "      <th>2016-01-15 04:00:00</th>\n",
       "      <td>5.663707</td>\n",
       "      <td>6.060915</td>\n",
       "      <td>1.786875</td>\n",
       "      <td>34.347666</td>\n",
       "      <td>540.531893</td>\n",
       "      <td>56.047189</td>\n",
       "      <td>10.957755</td>\n",
       "      <td>6.198826</td>\n",
       "      <td>999.678690</td>\n",
       "      <td>-399.752729</td>\n",
       "      <td>...</td>\n",
       "      <td>8.871028</td>\n",
       "      <td>42.774141</td>\n",
       "      <td>6.148599</td>\n",
       "      <td>10.142511</td>\n",
       "      <td>4.939416</td>\n",
       "      <td>66.927016</td>\n",
       "      <td>2.055292</td>\n",
       "      <td>10.360302</td>\n",
       "      <td>0.792826</td>\n",
       "      <td>16.525686</td>\n",
       "    </tr>\n",
       "  </tbody>\n",
       "</table>\n",
       "<p>5 rows × 86 columns</p>\n",
       "</div>"
      ],
      "text/plain": [
       "                     rougher.input.feed_au  rougher.input.feed_ag  \\\n",
       "date                                                                \n",
       "2016-01-15 00:00:00               6.486150               6.100378   \n",
       "2016-01-15 01:00:00               6.478583               6.161113   \n",
       "2016-01-15 02:00:00               6.362222               6.116455   \n",
       "2016-01-15 03:00:00               6.118189               6.043309   \n",
       "2016-01-15 04:00:00               5.663707               6.060915   \n",
       "\n",
       "                     rougher.input.feed_pb  rougher.input.feed_sol  \\\n",
       "date                                                                 \n",
       "2016-01-15 00:00:00               2.284912               36.808594   \n",
       "2016-01-15 01:00:00               2.266033               35.753385   \n",
       "2016-01-15 02:00:00               2.159622               35.971630   \n",
       "2016-01-15 03:00:00               2.037807               36.862241   \n",
       "2016-01-15 04:00:00               1.786875               34.347666   \n",
       "\n",
       "                     rougher.input.feed_rate  rougher.input.feed_size  \\\n",
       "date                                                                    \n",
       "2016-01-15 00:00:00               523.546326                55.486599   \n",
       "2016-01-15 01:00:00               525.290581                57.278666   \n",
       "2016-01-15 02:00:00               530.026610                57.510649   \n",
       "2016-01-15 03:00:00               542.590390                57.792734   \n",
       "2016-01-15 04:00:00               540.531893                56.047189   \n",
       "\n",
       "                     rougher.input.floatbank10_sulfate  \\\n",
       "date                                                     \n",
       "2016-01-15 00:00:00                          11.986616   \n",
       "2016-01-15 01:00:00                          11.971193   \n",
       "2016-01-15 02:00:00                          11.920603   \n",
       "2016-01-15 03:00:00                          11.630094   \n",
       "2016-01-15 04:00:00                          10.957755   \n",
       "\n",
       "                     rougher.input.floatbank10_xanthate  \\\n",
       "date                                                      \n",
       "2016-01-15 00:00:00                            6.007990   \n",
       "2016-01-15 01:00:00                            6.005766   \n",
       "2016-01-15 02:00:00                            6.197377   \n",
       "2016-01-15 03:00:00                            6.203177   \n",
       "2016-01-15 04:00:00                            6.198826   \n",
       "\n",
       "                     rougher.state.floatbank10_a_air  \\\n",
       "date                                                   \n",
       "2016-01-15 00:00:00                       999.706909   \n",
       "2016-01-15 01:00:00                      1000.286398   \n",
       "2016-01-15 02:00:00                       999.719565   \n",
       "2016-01-15 03:00:00                       999.814770   \n",
       "2016-01-15 04:00:00                       999.678690   \n",
       "\n",
       "                     rougher.state.floatbank10_a_level  ...  \\\n",
       "date                                                    ...   \n",
       "2016-01-15 00:00:00                        -404.066986  ...   \n",
       "2016-01-15 01:00:00                        -400.065196  ...   \n",
       "2016-01-15 02:00:00                        -400.074028  ...   \n",
       "2016-01-15 03:00:00                        -400.200179  ...   \n",
       "2016-01-15 04:00:00                        -399.752729  ...   \n",
       "\n",
       "                     secondary_cleaner.output.tail_sol  \\\n",
       "date                                                     \n",
       "2016-01-15 00:00:00                           8.764648   \n",
       "2016-01-15 01:00:00                           9.001494   \n",
       "2016-01-15 02:00:00                           8.842896   \n",
       "2016-01-15 03:00:00                           9.122857   \n",
       "2016-01-15 04:00:00                           8.871028   \n",
       "\n",
       "                     final.output.concentrate_au  final.output.concentrate_ag  \\\n",
       "date                                                                            \n",
       "2016-01-15 00:00:00                    42.192020                     6.055403   \n",
       "2016-01-15 01:00:00                    42.701629                     6.029369   \n",
       "2016-01-15 02:00:00                    42.657501                     6.055926   \n",
       "2016-01-15 03:00:00                    42.689819                     6.047977   \n",
       "2016-01-15 04:00:00                    42.774141                     6.148599   \n",
       "\n",
       "                     final.output.concentrate_pb  \\\n",
       "date                                               \n",
       "2016-01-15 00:00:00                     9.889648   \n",
       "2016-01-15 01:00:00                     9.968944   \n",
       "2016-01-15 02:00:00                    10.213995   \n",
       "2016-01-15 03:00:00                     9.977019   \n",
       "2016-01-15 04:00:00                    10.142511   \n",
       "\n",
       "                     final.output.concentrate_sol  final.output.recovery  \\\n",
       "date                                                                       \n",
       "2016-01-15 00:00:00                      5.507324              70.541216   \n",
       "2016-01-15 01:00:00                      5.257781              69.266198   \n",
       "2016-01-15 02:00:00                      5.383759              68.116445   \n",
       "2016-01-15 03:00:00                      4.858634              68.347543   \n",
       "2016-01-15 04:00:00                      4.939416              66.927016   \n",
       "\n",
       "                     final.output.tail_au  final.output.tail_ag  \\\n",
       "date                                                              \n",
       "2016-01-15 00:00:00              2.143149             10.411962   \n",
       "2016-01-15 01:00:00              2.224930             10.462676   \n",
       "2016-01-15 02:00:00              2.257889             10.507046   \n",
       "2016-01-15 03:00:00              2.146849             10.422762   \n",
       "2016-01-15 04:00:00              2.055292             10.360302   \n",
       "\n",
       "                     final.output.tail_pb  final.output.tail_sol  \n",
       "date                                                              \n",
       "2016-01-15 00:00:00              0.895447              16.904297  \n",
       "2016-01-15 01:00:00              0.927452              16.634514  \n",
       "2016-01-15 02:00:00              0.953716              16.208849  \n",
       "2016-01-15 03:00:00              0.883763              16.532835  \n",
       "2016-01-15 04:00:00              0.792826              16.525686  \n",
       "\n",
       "[5 rows x 86 columns]"
      ]
     },
     "metadata": {},
     "output_type": "display_data"
    }
   ],
   "source": [
    "check_df(df_train)"
   ]
  },
  {
   "cell_type": "code",
   "execution_count": 5,
   "metadata": {},
   "outputs": [
    {
     "name": "stdout",
     "output_type": "stream",
     "text": [
      "Количество строк: 4860\n",
      "Количество столбцов: 52\n",
      "<class 'pandas.core.frame.DataFrame'>\n",
      "DatetimeIndex: 4860 entries, 2017-12-09 14:59:59 to 2018-08-18 10:59:59\n",
      "Data columns (total 52 columns):\n",
      " #   Column                                      Non-Null Count  Dtype  \n",
      "---  ------                                      --------------  -----  \n",
      " 0   rougher.input.feed_au                       4860 non-null   float64\n",
      " 1   rougher.input.feed_ag                       4860 non-null   float64\n",
      " 2   rougher.input.feed_pb                       4832 non-null   float64\n",
      " 3   rougher.input.feed_sol                      4838 non-null   float64\n",
      " 4   rougher.input.feed_rate                     4856 non-null   float64\n",
      " 5   rougher.input.feed_size                     4816 non-null   float64\n",
      " 6   rougher.input.floatbank10_sulfate           4857 non-null   float64\n",
      " 7   rougher.input.floatbank10_xanthate          4859 non-null   float64\n",
      " 8   rougher.state.floatbank10_a_air             4859 non-null   float64\n",
      " 9   rougher.state.floatbank10_a_level           4859 non-null   float64\n",
      " 10  rougher.state.floatbank10_b_air             4859 non-null   float64\n",
      " 11  rougher.state.floatbank10_b_level           4859 non-null   float64\n",
      " 12  rougher.state.floatbank10_c_air             4859 non-null   float64\n",
      " 13  rougher.state.floatbank10_c_level           4859 non-null   float64\n",
      " 14  rougher.state.floatbank10_d_air             4860 non-null   float64\n",
      " 15  rougher.state.floatbank10_d_level           4860 non-null   float64\n",
      " 16  rougher.state.floatbank10_e_air             4853 non-null   float64\n",
      " 17  rougher.state.floatbank10_e_level           4860 non-null   float64\n",
      " 18  rougher.state.floatbank10_f_air             4860 non-null   float64\n",
      " 19  rougher.state.floatbank10_f_level           4860 non-null   float64\n",
      " 20  rougher.input.floatbank11_sulfate           4852 non-null   float64\n",
      " 21  rougher.input.floatbank11_xanthate          4814 non-null   float64\n",
      " 22  primary_cleaner.input.sulfate               4859 non-null   float64\n",
      " 23  primary_cleaner.input.depressant            4851 non-null   float64\n",
      " 24  primary_cleaner.input.feed_size             4860 non-null   float64\n",
      " 25  primary_cleaner.input.xanthate              4817 non-null   float64\n",
      " 26  primary_cleaner.state.floatbank8_a_air      4859 non-null   float64\n",
      " 27  primary_cleaner.state.floatbank8_a_level    4859 non-null   float64\n",
      " 28  primary_cleaner.state.floatbank8_b_air      4859 non-null   float64\n",
      " 29  primary_cleaner.state.floatbank8_b_level    4859 non-null   float64\n",
      " 30  primary_cleaner.state.floatbank8_c_air      4858 non-null   float64\n",
      " 31  primary_cleaner.state.floatbank8_c_level    4859 non-null   float64\n",
      " 32  primary_cleaner.state.floatbank8_d_air      4858 non-null   float64\n",
      " 33  primary_cleaner.state.floatbank8_d_level    4859 non-null   float64\n",
      " 34  secondary_cleaner.state.floatbank2_a_air    4734 non-null   float64\n",
      " 35  secondary_cleaner.state.floatbank2_a_level  4859 non-null   float64\n",
      " 36  secondary_cleaner.state.floatbank2_b_air    4859 non-null   float64\n",
      " 37  secondary_cleaner.state.floatbank2_b_level  4859 non-null   float64\n",
      " 38  secondary_cleaner.state.floatbank3_a_air    4859 non-null   float64\n",
      " 39  secondary_cleaner.state.floatbank3_a_level  4859 non-null   float64\n",
      " 40  secondary_cleaner.state.floatbank3_b_air    4859 non-null   float64\n",
      " 41  secondary_cleaner.state.floatbank3_b_level  4859 non-null   float64\n",
      " 42  secondary_cleaner.state.floatbank4_a_air    4859 non-null   float64\n",
      " 43  secondary_cleaner.state.floatbank4_a_level  4859 non-null   float64\n",
      " 44  secondary_cleaner.state.floatbank4_b_air    4859 non-null   float64\n",
      " 45  secondary_cleaner.state.floatbank4_b_level  4859 non-null   float64\n",
      " 46  secondary_cleaner.state.floatbank5_a_air    4859 non-null   float64\n",
      " 47  secondary_cleaner.state.floatbank5_a_level  4859 non-null   float64\n",
      " 48  secondary_cleaner.state.floatbank5_b_air    4859 non-null   float64\n",
      " 49  secondary_cleaner.state.floatbank5_b_level  4859 non-null   float64\n",
      " 50  secondary_cleaner.state.floatbank6_a_air    4859 non-null   float64\n",
      " 51  secondary_cleaner.state.floatbank6_a_level  4859 non-null   float64\n",
      "dtypes: float64(52)\n",
      "memory usage: 2.0 MB\n"
     ]
    },
    {
     "data": {
      "text/html": [
       "<div>\n",
       "<style scoped>\n",
       "    .dataframe tbody tr th:only-of-type {\n",
       "        vertical-align: middle;\n",
       "    }\n",
       "\n",
       "    .dataframe tbody tr th {\n",
       "        vertical-align: top;\n",
       "    }\n",
       "\n",
       "    .dataframe thead th {\n",
       "        text-align: right;\n",
       "    }\n",
       "</style>\n",
       "<table border=\"1\" class=\"dataframe\">\n",
       "  <thead>\n",
       "    <tr style=\"text-align: right;\">\n",
       "      <th></th>\n",
       "      <th>rougher.input.feed_au</th>\n",
       "      <th>rougher.input.feed_ag</th>\n",
       "      <th>rougher.input.feed_pb</th>\n",
       "      <th>rougher.input.feed_sol</th>\n",
       "      <th>rougher.input.feed_rate</th>\n",
       "      <th>rougher.input.feed_size</th>\n",
       "      <th>rougher.input.floatbank10_sulfate</th>\n",
       "      <th>rougher.input.floatbank10_xanthate</th>\n",
       "      <th>rougher.state.floatbank10_a_air</th>\n",
       "      <th>rougher.state.floatbank10_a_level</th>\n",
       "      <th>...</th>\n",
       "      <th>secondary_cleaner.state.floatbank4_a_air</th>\n",
       "      <th>secondary_cleaner.state.floatbank4_a_level</th>\n",
       "      <th>secondary_cleaner.state.floatbank4_b_air</th>\n",
       "      <th>secondary_cleaner.state.floatbank4_b_level</th>\n",
       "      <th>secondary_cleaner.state.floatbank5_a_air</th>\n",
       "      <th>secondary_cleaner.state.floatbank5_a_level</th>\n",
       "      <th>secondary_cleaner.state.floatbank5_b_air</th>\n",
       "      <th>secondary_cleaner.state.floatbank5_b_level</th>\n",
       "      <th>secondary_cleaner.state.floatbank6_a_air</th>\n",
       "      <th>secondary_cleaner.state.floatbank6_a_level</th>\n",
       "    </tr>\n",
       "  </thead>\n",
       "  <tbody>\n",
       "    <tr>\n",
       "      <th>count</th>\n",
       "      <td>4860.000000</td>\n",
       "      <td>4860.000000</td>\n",
       "      <td>4832.000000</td>\n",
       "      <td>4838.000000</td>\n",
       "      <td>4856.000000</td>\n",
       "      <td>4816.000000</td>\n",
       "      <td>4857.000000</td>\n",
       "      <td>4859.000000</td>\n",
       "      <td>4859.000000</td>\n",
       "      <td>4859.000000</td>\n",
       "      <td>...</td>\n",
       "      <td>4.859000e+03</td>\n",
       "      <td>4859.000000</td>\n",
       "      <td>4.859000e+03</td>\n",
       "      <td>4859.000000</td>\n",
       "      <td>4859.000000</td>\n",
       "      <td>4859.000000</td>\n",
       "      <td>4859.000000</td>\n",
       "      <td>4859.000000</td>\n",
       "      <td>4859.000000</td>\n",
       "      <td>4859.000000</td>\n",
       "    </tr>\n",
       "    <tr>\n",
       "      <th>mean</th>\n",
       "      <td>8.005584</td>\n",
       "      <td>8.547348</td>\n",
       "      <td>3.579662</td>\n",
       "      <td>37.095864</td>\n",
       "      <td>490.285103</td>\n",
       "      <td>59.113400</td>\n",
       "      <td>12.055735</td>\n",
       "      <td>6.101308</td>\n",
       "      <td>1108.635895</td>\n",
       "      <td>-368.340127</td>\n",
       "      <td>...</td>\n",
       "      <td>1.985770e+01</td>\n",
       "      <td>-488.665140</td>\n",
       "      <td>1.557025e+01</td>\n",
       "      <td>-464.176507</td>\n",
       "      <td>16.594103</td>\n",
       "      <td>-490.815250</td>\n",
       "      <td>12.945971</td>\n",
       "      <td>-489.583564</td>\n",
       "      <td>19.053888</td>\n",
       "      <td>-504.678924</td>\n",
       "    </tr>\n",
       "    <tr>\n",
       "      <th>std</th>\n",
       "      <td>1.993590</td>\n",
       "      <td>1.958601</td>\n",
       "      <td>1.029377</td>\n",
       "      <td>4.926284</td>\n",
       "      <td>94.371623</td>\n",
       "      <td>19.125122</td>\n",
       "      <td>3.407642</td>\n",
       "      <td>1.042754</td>\n",
       "      <td>156.493143</td>\n",
       "      <td>91.155929</td>\n",
       "      <td>...</td>\n",
       "      <td>5.913105e+00</td>\n",
       "      <td>44.392714</td>\n",
       "      <td>4.927361e+00</td>\n",
       "      <td>65.706994</td>\n",
       "      <td>5.724305</td>\n",
       "      <td>32.258443</td>\n",
       "      <td>5.533176</td>\n",
       "      <td>37.084609</td>\n",
       "      <td>5.548996</td>\n",
       "      <td>38.690186</td>\n",
       "    </tr>\n",
       "    <tr>\n",
       "      <th>min</th>\n",
       "      <td>0.010000</td>\n",
       "      <td>0.010000</td>\n",
       "      <td>0.010000</td>\n",
       "      <td>0.010000</td>\n",
       "      <td>0.012786</td>\n",
       "      <td>0.046369</td>\n",
       "      <td>0.018907</td>\n",
       "      <td>0.015783</td>\n",
       "      <td>300.792494</td>\n",
       "      <td>-600.568138</td>\n",
       "      <td>...</td>\n",
       "      <td>1.079872e-16</td>\n",
       "      <td>-799.704969</td>\n",
       "      <td>2.489718e-17</td>\n",
       "      <td>-799.860767</td>\n",
       "      <td>-0.371498</td>\n",
       "      <td>-797.142475</td>\n",
       "      <td>1.358469</td>\n",
       "      <td>-800.006180</td>\n",
       "      <td>0.160386</td>\n",
       "      <td>-809.734800</td>\n",
       "    </tr>\n",
       "    <tr>\n",
       "      <th>25%</th>\n",
       "      <td>6.574363</td>\n",
       "      <td>6.975898</td>\n",
       "      <td>2.903612</td>\n",
       "      <td>34.510841</td>\n",
       "      <td>434.099695</td>\n",
       "      <td>47.596984</td>\n",
       "      <td>9.890429</td>\n",
       "      <td>5.499808</td>\n",
       "      <td>999.715729</td>\n",
       "      <td>-499.731972</td>\n",
       "      <td>...</td>\n",
       "      <td>1.501123e+01</td>\n",
       "      <td>-500.704004</td>\n",
       "      <td>1.202172e+01</td>\n",
       "      <td>-500.196517</td>\n",
       "      <td>11.073822</td>\n",
       "      <td>-500.483564</td>\n",
       "      <td>9.011890</td>\n",
       "      <td>-500.129913</td>\n",
       "      <td>14.963953</td>\n",
       "      <td>-500.668501</td>\n",
       "    </tr>\n",
       "    <tr>\n",
       "      <th>50%</th>\n",
       "      <td>7.812923</td>\n",
       "      <td>8.179714</td>\n",
       "      <td>3.540772</td>\n",
       "      <td>37.499761</td>\n",
       "      <td>502.118742</td>\n",
       "      <td>55.509481</td>\n",
       "      <td>11.997859</td>\n",
       "      <td>6.099805</td>\n",
       "      <td>1001.414798</td>\n",
       "      <td>-300.181367</td>\n",
       "      <td>...</td>\n",
       "      <td>1.996807e+01</td>\n",
       "      <td>-499.892919</td>\n",
       "      <td>1.501240e+01</td>\n",
       "      <td>-499.540776</td>\n",
       "      <td>16.631195</td>\n",
       "      <td>-499.873136</td>\n",
       "      <td>11.999417</td>\n",
       "      <td>-499.955304</td>\n",
       "      <td>19.960006</td>\n",
       "      <td>-500.033769</td>\n",
       "    </tr>\n",
       "    <tr>\n",
       "      <th>75%</th>\n",
       "      <td>9.556589</td>\n",
       "      <td>10.084339</td>\n",
       "      <td>4.199847</td>\n",
       "      <td>40.461315</td>\n",
       "      <td>555.596563</td>\n",
       "      <td>66.661547</td>\n",
       "      <td>14.496072</td>\n",
       "      <td>6.802101</td>\n",
       "      <td>1202.837565</td>\n",
       "      <td>-299.961547</td>\n",
       "      <td>...</td>\n",
       "      <td>2.498900e+01</td>\n",
       "      <td>-498.652030</td>\n",
       "      <td>1.999949e+01</td>\n",
       "      <td>-400.302329</td>\n",
       "      <td>19.983191</td>\n",
       "      <td>-498.852815</td>\n",
       "      <td>15.004198</td>\n",
       "      <td>-499.643776</td>\n",
       "      <td>24.974583</td>\n",
       "      <td>-499.460134</td>\n",
       "    </tr>\n",
       "    <tr>\n",
       "      <th>max</th>\n",
       "      <td>13.417156</td>\n",
       "      <td>14.533698</td>\n",
       "      <td>7.142594</td>\n",
       "      <td>53.477742</td>\n",
       "      <td>702.523396</td>\n",
       "      <td>363.989699</td>\n",
       "      <td>30.010759</td>\n",
       "      <td>9.396928</td>\n",
       "      <td>1521.980372</td>\n",
       "      <td>-281.039299</td>\n",
       "      <td>...</td>\n",
       "      <td>3.008450e+01</td>\n",
       "      <td>-383.373053</td>\n",
       "      <td>2.398898e+01</td>\n",
       "      <td>-114.250832</td>\n",
       "      <td>33.215996</td>\n",
       "      <td>-288.963521</td>\n",
       "      <td>24.177106</td>\n",
       "      <td>-141.934397</td>\n",
       "      <td>32.028529</td>\n",
       "      <td>-104.427459</td>\n",
       "    </tr>\n",
       "  </tbody>\n",
       "</table>\n",
       "<p>8 rows × 52 columns</p>\n",
       "</div>"
      ],
      "text/plain": [
       "       rougher.input.feed_au  rougher.input.feed_ag  rougher.input.feed_pb  \\\n",
       "count            4860.000000            4860.000000            4832.000000   \n",
       "mean                8.005584               8.547348               3.579662   \n",
       "std                 1.993590               1.958601               1.029377   \n",
       "min                 0.010000               0.010000               0.010000   \n",
       "25%                 6.574363               6.975898               2.903612   \n",
       "50%                 7.812923               8.179714               3.540772   \n",
       "75%                 9.556589              10.084339               4.199847   \n",
       "max                13.417156              14.533698               7.142594   \n",
       "\n",
       "       rougher.input.feed_sol  rougher.input.feed_rate  \\\n",
       "count             4838.000000              4856.000000   \n",
       "mean                37.095864               490.285103   \n",
       "std                  4.926284                94.371623   \n",
       "min                  0.010000                 0.012786   \n",
       "25%                 34.510841               434.099695   \n",
       "50%                 37.499761               502.118742   \n",
       "75%                 40.461315               555.596563   \n",
       "max                 53.477742               702.523396   \n",
       "\n",
       "       rougher.input.feed_size  rougher.input.floatbank10_sulfate  \\\n",
       "count              4816.000000                        4857.000000   \n",
       "mean                 59.113400                          12.055735   \n",
       "std                  19.125122                           3.407642   \n",
       "min                   0.046369                           0.018907   \n",
       "25%                  47.596984                           9.890429   \n",
       "50%                  55.509481                          11.997859   \n",
       "75%                  66.661547                          14.496072   \n",
       "max                 363.989699                          30.010759   \n",
       "\n",
       "       rougher.input.floatbank10_xanthate  rougher.state.floatbank10_a_air  \\\n",
       "count                         4859.000000                      4859.000000   \n",
       "mean                             6.101308                      1108.635895   \n",
       "std                              1.042754                       156.493143   \n",
       "min                              0.015783                       300.792494   \n",
       "25%                              5.499808                       999.715729   \n",
       "50%                              6.099805                      1001.414798   \n",
       "75%                              6.802101                      1202.837565   \n",
       "max                              9.396928                      1521.980372   \n",
       "\n",
       "       rougher.state.floatbank10_a_level  ...  \\\n",
       "count                        4859.000000  ...   \n",
       "mean                         -368.340127  ...   \n",
       "std                            91.155929  ...   \n",
       "min                          -600.568138  ...   \n",
       "25%                          -499.731972  ...   \n",
       "50%                          -300.181367  ...   \n",
       "75%                          -299.961547  ...   \n",
       "max                          -281.039299  ...   \n",
       "\n",
       "       secondary_cleaner.state.floatbank4_a_air  \\\n",
       "count                              4.859000e+03   \n",
       "mean                               1.985770e+01   \n",
       "std                                5.913105e+00   \n",
       "min                                1.079872e-16   \n",
       "25%                                1.501123e+01   \n",
       "50%                                1.996807e+01   \n",
       "75%                                2.498900e+01   \n",
       "max                                3.008450e+01   \n",
       "\n",
       "       secondary_cleaner.state.floatbank4_a_level  \\\n",
       "count                                 4859.000000   \n",
       "mean                                  -488.665140   \n",
       "std                                     44.392714   \n",
       "min                                   -799.704969   \n",
       "25%                                   -500.704004   \n",
       "50%                                   -499.892919   \n",
       "75%                                   -498.652030   \n",
       "max                                   -383.373053   \n",
       "\n",
       "       secondary_cleaner.state.floatbank4_b_air  \\\n",
       "count                              4.859000e+03   \n",
       "mean                               1.557025e+01   \n",
       "std                                4.927361e+00   \n",
       "min                                2.489718e-17   \n",
       "25%                                1.202172e+01   \n",
       "50%                                1.501240e+01   \n",
       "75%                                1.999949e+01   \n",
       "max                                2.398898e+01   \n",
       "\n",
       "       secondary_cleaner.state.floatbank4_b_level  \\\n",
       "count                                 4859.000000   \n",
       "mean                                  -464.176507   \n",
       "std                                     65.706994   \n",
       "min                                   -799.860767   \n",
       "25%                                   -500.196517   \n",
       "50%                                   -499.540776   \n",
       "75%                                   -400.302329   \n",
       "max                                   -114.250832   \n",
       "\n",
       "       secondary_cleaner.state.floatbank5_a_air  \\\n",
       "count                               4859.000000   \n",
       "mean                                  16.594103   \n",
       "std                                    5.724305   \n",
       "min                                   -0.371498   \n",
       "25%                                   11.073822   \n",
       "50%                                   16.631195   \n",
       "75%                                   19.983191   \n",
       "max                                   33.215996   \n",
       "\n",
       "       secondary_cleaner.state.floatbank5_a_level  \\\n",
       "count                                 4859.000000   \n",
       "mean                                  -490.815250   \n",
       "std                                     32.258443   \n",
       "min                                   -797.142475   \n",
       "25%                                   -500.483564   \n",
       "50%                                   -499.873136   \n",
       "75%                                   -498.852815   \n",
       "max                                   -288.963521   \n",
       "\n",
       "       secondary_cleaner.state.floatbank5_b_air  \\\n",
       "count                               4859.000000   \n",
       "mean                                  12.945971   \n",
       "std                                    5.533176   \n",
       "min                                    1.358469   \n",
       "25%                                    9.011890   \n",
       "50%                                   11.999417   \n",
       "75%                                   15.004198   \n",
       "max                                   24.177106   \n",
       "\n",
       "       secondary_cleaner.state.floatbank5_b_level  \\\n",
       "count                                 4859.000000   \n",
       "mean                                  -489.583564   \n",
       "std                                     37.084609   \n",
       "min                                   -800.006180   \n",
       "25%                                   -500.129913   \n",
       "50%                                   -499.955304   \n",
       "75%                                   -499.643776   \n",
       "max                                   -141.934397   \n",
       "\n",
       "       secondary_cleaner.state.floatbank6_a_air  \\\n",
       "count                               4859.000000   \n",
       "mean                                  19.053888   \n",
       "std                                    5.548996   \n",
       "min                                    0.160386   \n",
       "25%                                   14.963953   \n",
       "50%                                   19.960006   \n",
       "75%                                   24.974583   \n",
       "max                                   32.028529   \n",
       "\n",
       "       secondary_cleaner.state.floatbank6_a_level  \n",
       "count                                 4859.000000  \n",
       "mean                                  -504.678924  \n",
       "std                                     38.690186  \n",
       "min                                   -809.734800  \n",
       "25%                                   -500.668501  \n",
       "50%                                   -500.033769  \n",
       "75%                                   -499.460134  \n",
       "max                                   -104.427459  \n",
       "\n",
       "[8 rows x 52 columns]"
      ]
     },
     "metadata": {},
     "output_type": "display_data"
    },
    {
     "data": {
      "text/html": [
       "<div>\n",
       "<style scoped>\n",
       "    .dataframe tbody tr th:only-of-type {\n",
       "        vertical-align: middle;\n",
       "    }\n",
       "\n",
       "    .dataframe tbody tr th {\n",
       "        vertical-align: top;\n",
       "    }\n",
       "\n",
       "    .dataframe thead th {\n",
       "        text-align: right;\n",
       "    }\n",
       "</style>\n",
       "<table border=\"1\" class=\"dataframe\">\n",
       "  <thead>\n",
       "    <tr style=\"text-align: right;\">\n",
       "      <th></th>\n",
       "      <th>rougher.input.feed_au</th>\n",
       "      <th>rougher.input.feed_ag</th>\n",
       "      <th>rougher.input.feed_pb</th>\n",
       "      <th>rougher.input.feed_sol</th>\n",
       "      <th>rougher.input.feed_rate</th>\n",
       "      <th>rougher.input.feed_size</th>\n",
       "      <th>rougher.input.floatbank10_sulfate</th>\n",
       "      <th>rougher.input.floatbank10_xanthate</th>\n",
       "      <th>rougher.state.floatbank10_a_air</th>\n",
       "      <th>rougher.state.floatbank10_a_level</th>\n",
       "      <th>...</th>\n",
       "      <th>secondary_cleaner.state.floatbank4_a_air</th>\n",
       "      <th>secondary_cleaner.state.floatbank4_a_level</th>\n",
       "      <th>secondary_cleaner.state.floatbank4_b_air</th>\n",
       "      <th>secondary_cleaner.state.floatbank4_b_level</th>\n",
       "      <th>secondary_cleaner.state.floatbank5_a_air</th>\n",
       "      <th>secondary_cleaner.state.floatbank5_a_level</th>\n",
       "      <th>secondary_cleaner.state.floatbank5_b_air</th>\n",
       "      <th>secondary_cleaner.state.floatbank5_b_level</th>\n",
       "      <th>secondary_cleaner.state.floatbank6_a_air</th>\n",
       "      <th>secondary_cleaner.state.floatbank6_a_level</th>\n",
       "    </tr>\n",
       "    <tr>\n",
       "      <th>date</th>\n",
       "      <th></th>\n",
       "      <th></th>\n",
       "      <th></th>\n",
       "      <th></th>\n",
       "      <th></th>\n",
       "      <th></th>\n",
       "      <th></th>\n",
       "      <th></th>\n",
       "      <th></th>\n",
       "      <th></th>\n",
       "      <th></th>\n",
       "      <th></th>\n",
       "      <th></th>\n",
       "      <th></th>\n",
       "      <th></th>\n",
       "      <th></th>\n",
       "      <th></th>\n",
       "      <th></th>\n",
       "      <th></th>\n",
       "      <th></th>\n",
       "      <th></th>\n",
       "    </tr>\n",
       "  </thead>\n",
       "  <tbody>\n",
       "    <tr>\n",
       "      <th>2017-12-09 14:59:59</th>\n",
       "      <td>4.365491</td>\n",
       "      <td>6.158718</td>\n",
       "      <td>3.875727</td>\n",
       "      <td>39.135119</td>\n",
       "      <td>555.820208</td>\n",
       "      <td>94.544358</td>\n",
       "      <td>6.146982</td>\n",
       "      <td>9.308612</td>\n",
       "      <td>1196.238112</td>\n",
       "      <td>-299.862743</td>\n",
       "      <td>...</td>\n",
       "      <td>23.018622</td>\n",
       "      <td>-500.492702</td>\n",
       "      <td>20.020205</td>\n",
       "      <td>-500.220296</td>\n",
       "      <td>17.963512</td>\n",
       "      <td>-499.939490</td>\n",
       "      <td>12.990306</td>\n",
       "      <td>-500.080993</td>\n",
       "      <td>19.990336</td>\n",
       "      <td>-499.191575</td>\n",
       "    </tr>\n",
       "    <tr>\n",
       "      <th>2017-12-09 15:59:59</th>\n",
       "      <td>4.362781</td>\n",
       "      <td>6.048130</td>\n",
       "      <td>3.902537</td>\n",
       "      <td>39.713906</td>\n",
       "      <td>544.731687</td>\n",
       "      <td>123.742430</td>\n",
       "      <td>6.210119</td>\n",
       "      <td>9.297709</td>\n",
       "      <td>1201.904177</td>\n",
       "      <td>-299.907308</td>\n",
       "      <td>...</td>\n",
       "      <td>23.024963</td>\n",
       "      <td>-501.153409</td>\n",
       "      <td>20.054122</td>\n",
       "      <td>-500.314711</td>\n",
       "      <td>17.979515</td>\n",
       "      <td>-499.272871</td>\n",
       "      <td>12.992404</td>\n",
       "      <td>-499.976268</td>\n",
       "      <td>20.013986</td>\n",
       "      <td>-500.625471</td>\n",
       "    </tr>\n",
       "    <tr>\n",
       "      <th>2017-12-09 16:59:59</th>\n",
       "      <td>5.081681</td>\n",
       "      <td>6.082745</td>\n",
       "      <td>4.564078</td>\n",
       "      <td>37.208683</td>\n",
       "      <td>558.155110</td>\n",
       "      <td>82.610855</td>\n",
       "      <td>7.363824</td>\n",
       "      <td>9.003562</td>\n",
       "      <td>1200.826926</td>\n",
       "      <td>-300.124116</td>\n",
       "      <td>...</td>\n",
       "      <td>22.993827</td>\n",
       "      <td>-501.559663</td>\n",
       "      <td>20.029144</td>\n",
       "      <td>-500.000662</td>\n",
       "      <td>18.012723</td>\n",
       "      <td>-500.024764</td>\n",
       "      <td>13.016445</td>\n",
       "      <td>-500.058432</td>\n",
       "      <td>19.973767</td>\n",
       "      <td>-501.394155</td>\n",
       "    </tr>\n",
       "    <tr>\n",
       "      <th>2017-12-09 17:59:59</th>\n",
       "      <td>5.145949</td>\n",
       "      <td>6.084374</td>\n",
       "      <td>4.768124</td>\n",
       "      <td>36.808874</td>\n",
       "      <td>539.713765</td>\n",
       "      <td>77.984784</td>\n",
       "      <td>6.927072</td>\n",
       "      <td>8.955597</td>\n",
       "      <td>1199.292489</td>\n",
       "      <td>-299.778385</td>\n",
       "      <td>...</td>\n",
       "      <td>23.032807</td>\n",
       "      <td>-501.287889</td>\n",
       "      <td>19.977466</td>\n",
       "      <td>-500.159903</td>\n",
       "      <td>17.980463</td>\n",
       "      <td>-500.504602</td>\n",
       "      <td>12.949071</td>\n",
       "      <td>-500.009937</td>\n",
       "      <td>20.010332</td>\n",
       "      <td>-508.337973</td>\n",
       "    </tr>\n",
       "    <tr>\n",
       "      <th>2017-12-09 18:59:59</th>\n",
       "      <td>5.735249</td>\n",
       "      <td>6.165220</td>\n",
       "      <td>4.512346</td>\n",
       "      <td>37.810642</td>\n",
       "      <td>558.713584</td>\n",
       "      <td>86.434874</td>\n",
       "      <td>7.823471</td>\n",
       "      <td>7.490356</td>\n",
       "      <td>1198.005449</td>\n",
       "      <td>-300.283401</td>\n",
       "      <td>...</td>\n",
       "      <td>23.001911</td>\n",
       "      <td>-499.947838</td>\n",
       "      <td>20.023735</td>\n",
       "      <td>-499.713680</td>\n",
       "      <td>17.990955</td>\n",
       "      <td>-500.334769</td>\n",
       "      <td>13.007523</td>\n",
       "      <td>-499.968459</td>\n",
       "      <td>19.995999</td>\n",
       "      <td>-499.788805</td>\n",
       "    </tr>\n",
       "  </tbody>\n",
       "</table>\n",
       "<p>5 rows × 52 columns</p>\n",
       "</div>"
      ],
      "text/plain": [
       "                     rougher.input.feed_au  rougher.input.feed_ag  \\\n",
       "date                                                                \n",
       "2017-12-09 14:59:59               4.365491               6.158718   \n",
       "2017-12-09 15:59:59               4.362781               6.048130   \n",
       "2017-12-09 16:59:59               5.081681               6.082745   \n",
       "2017-12-09 17:59:59               5.145949               6.084374   \n",
       "2017-12-09 18:59:59               5.735249               6.165220   \n",
       "\n",
       "                     rougher.input.feed_pb  rougher.input.feed_sol  \\\n",
       "date                                                                 \n",
       "2017-12-09 14:59:59               3.875727               39.135119   \n",
       "2017-12-09 15:59:59               3.902537               39.713906   \n",
       "2017-12-09 16:59:59               4.564078               37.208683   \n",
       "2017-12-09 17:59:59               4.768124               36.808874   \n",
       "2017-12-09 18:59:59               4.512346               37.810642   \n",
       "\n",
       "                     rougher.input.feed_rate  rougher.input.feed_size  \\\n",
       "date                                                                    \n",
       "2017-12-09 14:59:59               555.820208                94.544358   \n",
       "2017-12-09 15:59:59               544.731687               123.742430   \n",
       "2017-12-09 16:59:59               558.155110                82.610855   \n",
       "2017-12-09 17:59:59               539.713765                77.984784   \n",
       "2017-12-09 18:59:59               558.713584                86.434874   \n",
       "\n",
       "                     rougher.input.floatbank10_sulfate  \\\n",
       "date                                                     \n",
       "2017-12-09 14:59:59                           6.146982   \n",
       "2017-12-09 15:59:59                           6.210119   \n",
       "2017-12-09 16:59:59                           7.363824   \n",
       "2017-12-09 17:59:59                           6.927072   \n",
       "2017-12-09 18:59:59                           7.823471   \n",
       "\n",
       "                     rougher.input.floatbank10_xanthate  \\\n",
       "date                                                      \n",
       "2017-12-09 14:59:59                            9.308612   \n",
       "2017-12-09 15:59:59                            9.297709   \n",
       "2017-12-09 16:59:59                            9.003562   \n",
       "2017-12-09 17:59:59                            8.955597   \n",
       "2017-12-09 18:59:59                            7.490356   \n",
       "\n",
       "                     rougher.state.floatbank10_a_air  \\\n",
       "date                                                   \n",
       "2017-12-09 14:59:59                      1196.238112   \n",
       "2017-12-09 15:59:59                      1201.904177   \n",
       "2017-12-09 16:59:59                      1200.826926   \n",
       "2017-12-09 17:59:59                      1199.292489   \n",
       "2017-12-09 18:59:59                      1198.005449   \n",
       "\n",
       "                     rougher.state.floatbank10_a_level  ...  \\\n",
       "date                                                    ...   \n",
       "2017-12-09 14:59:59                        -299.862743  ...   \n",
       "2017-12-09 15:59:59                        -299.907308  ...   \n",
       "2017-12-09 16:59:59                        -300.124116  ...   \n",
       "2017-12-09 17:59:59                        -299.778385  ...   \n",
       "2017-12-09 18:59:59                        -300.283401  ...   \n",
       "\n",
       "                     secondary_cleaner.state.floatbank4_a_air  \\\n",
       "date                                                            \n",
       "2017-12-09 14:59:59                                 23.018622   \n",
       "2017-12-09 15:59:59                                 23.024963   \n",
       "2017-12-09 16:59:59                                 22.993827   \n",
       "2017-12-09 17:59:59                                 23.032807   \n",
       "2017-12-09 18:59:59                                 23.001911   \n",
       "\n",
       "                     secondary_cleaner.state.floatbank4_a_level  \\\n",
       "date                                                              \n",
       "2017-12-09 14:59:59                                 -500.492702   \n",
       "2017-12-09 15:59:59                                 -501.153409   \n",
       "2017-12-09 16:59:59                                 -501.559663   \n",
       "2017-12-09 17:59:59                                 -501.287889   \n",
       "2017-12-09 18:59:59                                 -499.947838   \n",
       "\n",
       "                     secondary_cleaner.state.floatbank4_b_air  \\\n",
       "date                                                            \n",
       "2017-12-09 14:59:59                                 20.020205   \n",
       "2017-12-09 15:59:59                                 20.054122   \n",
       "2017-12-09 16:59:59                                 20.029144   \n",
       "2017-12-09 17:59:59                                 19.977466   \n",
       "2017-12-09 18:59:59                                 20.023735   \n",
       "\n",
       "                     secondary_cleaner.state.floatbank4_b_level  \\\n",
       "date                                                              \n",
       "2017-12-09 14:59:59                                 -500.220296   \n",
       "2017-12-09 15:59:59                                 -500.314711   \n",
       "2017-12-09 16:59:59                                 -500.000662   \n",
       "2017-12-09 17:59:59                                 -500.159903   \n",
       "2017-12-09 18:59:59                                 -499.713680   \n",
       "\n",
       "                     secondary_cleaner.state.floatbank5_a_air  \\\n",
       "date                                                            \n",
       "2017-12-09 14:59:59                                 17.963512   \n",
       "2017-12-09 15:59:59                                 17.979515   \n",
       "2017-12-09 16:59:59                                 18.012723   \n",
       "2017-12-09 17:59:59                                 17.980463   \n",
       "2017-12-09 18:59:59                                 17.990955   \n",
       "\n",
       "                     secondary_cleaner.state.floatbank5_a_level  \\\n",
       "date                                                              \n",
       "2017-12-09 14:59:59                                 -499.939490   \n",
       "2017-12-09 15:59:59                                 -499.272871   \n",
       "2017-12-09 16:59:59                                 -500.024764   \n",
       "2017-12-09 17:59:59                                 -500.504602   \n",
       "2017-12-09 18:59:59                                 -500.334769   \n",
       "\n",
       "                     secondary_cleaner.state.floatbank5_b_air  \\\n",
       "date                                                            \n",
       "2017-12-09 14:59:59                                 12.990306   \n",
       "2017-12-09 15:59:59                                 12.992404   \n",
       "2017-12-09 16:59:59                                 13.016445   \n",
       "2017-12-09 17:59:59                                 12.949071   \n",
       "2017-12-09 18:59:59                                 13.007523   \n",
       "\n",
       "                     secondary_cleaner.state.floatbank5_b_level  \\\n",
       "date                                                              \n",
       "2017-12-09 14:59:59                                 -500.080993   \n",
       "2017-12-09 15:59:59                                 -499.976268   \n",
       "2017-12-09 16:59:59                                 -500.058432   \n",
       "2017-12-09 17:59:59                                 -500.009937   \n",
       "2017-12-09 18:59:59                                 -499.968459   \n",
       "\n",
       "                     secondary_cleaner.state.floatbank6_a_air  \\\n",
       "date                                                            \n",
       "2017-12-09 14:59:59                                 19.990336   \n",
       "2017-12-09 15:59:59                                 20.013986   \n",
       "2017-12-09 16:59:59                                 19.973767   \n",
       "2017-12-09 17:59:59                                 20.010332   \n",
       "2017-12-09 18:59:59                                 19.995999   \n",
       "\n",
       "                     secondary_cleaner.state.floatbank6_a_level  \n",
       "date                                                             \n",
       "2017-12-09 14:59:59                                 -499.191575  \n",
       "2017-12-09 15:59:59                                 -500.625471  \n",
       "2017-12-09 16:59:59                                 -501.394155  \n",
       "2017-12-09 17:59:59                                 -508.337973  \n",
       "2017-12-09 18:59:59                                 -499.788805  \n",
       "\n",
       "[5 rows x 52 columns]"
      ]
     },
     "metadata": {},
     "output_type": "display_data"
    }
   ],
   "source": [
    "check_df(df_test)"
   ]
  },
  {
   "cell_type": "code",
   "execution_count": 6,
   "metadata": {},
   "outputs": [
    {
     "name": "stdout",
     "output_type": "stream",
     "text": [
      "Количество строк: 19439\n",
      "Количество столбцов: 86\n",
      "<class 'pandas.core.frame.DataFrame'>\n",
      "DatetimeIndex: 19439 entries, 2016-01-15 00:00:00 to 2018-08-18 10:59:59\n",
      "Data columns (total 86 columns):\n",
      " #   Column                                              Non-Null Count  Dtype  \n",
      "---  ------                                              --------------  -----  \n",
      " 0   rougher.input.feed_au                               19439 non-null  float64\n",
      " 1   rougher.input.feed_ag                               19439 non-null  float64\n",
      " 2   rougher.input.feed_pb                               19339 non-null  float64\n",
      " 3   rougher.input.feed_sol                              19340 non-null  float64\n",
      " 4   rougher.input.feed_rate                             19428 non-null  float64\n",
      " 5   rougher.input.feed_size                             19294 non-null  float64\n",
      " 6   rougher.input.floatbank10_sulfate                   19405 non-null  float64\n",
      " 7   rougher.input.floatbank10_xanthate                  19431 non-null  float64\n",
      " 8   rougher.state.floatbank10_a_air                     19438 non-null  float64\n",
      " 9   rougher.state.floatbank10_a_level                   19438 non-null  float64\n",
      " 10  rougher.state.floatbank10_b_air                     19438 non-null  float64\n",
      " 11  rougher.state.floatbank10_b_level                   19438 non-null  float64\n",
      " 12  rougher.state.floatbank10_c_air                     19438 non-null  float64\n",
      " 13  rougher.state.floatbank10_c_level                   19438 non-null  float64\n",
      " 14  rougher.state.floatbank10_d_air                     19439 non-null  float64\n",
      " 15  rougher.state.floatbank10_d_level                   19439 non-null  float64\n",
      " 16  rougher.state.floatbank10_e_air                     19003 non-null  float64\n",
      " 17  rougher.state.floatbank10_e_level                   19439 non-null  float64\n",
      " 18  rougher.state.floatbank10_f_air                     19439 non-null  float64\n",
      " 19  rougher.state.floatbank10_f_level                   19439 non-null  float64\n",
      " 20  rougher.input.floatbank11_sulfate                   19395 non-null  float64\n",
      " 21  rougher.input.floatbank11_xanthate                  18986 non-null  float64\n",
      " 22  rougher.calculation.sulfate_to_au_concentrate       19437 non-null  float64\n",
      " 23  rougher.calculation.floatbank10_sulfate_to_au_feed  19437 non-null  float64\n",
      " 24  rougher.calculation.floatbank11_sulfate_to_au_feed  19437 non-null  float64\n",
      " 25  rougher.calculation.au_pb_ratio                     19439 non-null  float64\n",
      " 26  rougher.output.concentrate_au                       19439 non-null  float64\n",
      " 27  rougher.output.concentrate_ag                       19439 non-null  float64\n",
      " 28  rougher.output.concentrate_pb                       19439 non-null  float64\n",
      " 29  rougher.output.concentrate_sol                      19416 non-null  float64\n",
      " 30  rougher.output.recovery                             19439 non-null  float64\n",
      " 31  rougher.output.tail_au                              19439 non-null  float64\n",
      " 32  rougher.output.tail_ag                              19438 non-null  float64\n",
      " 33  rougher.output.tail_pb                              19439 non-null  float64\n",
      " 34  rougher.output.tail_sol                             19439 non-null  float64\n",
      " 35  primary_cleaner.input.sulfate                       19415 non-null  float64\n",
      " 36  primary_cleaner.input.depressant                    19402 non-null  float64\n",
      " 37  primary_cleaner.input.feed_size                     19439 non-null  float64\n",
      " 38  primary_cleaner.input.xanthate                      19335 non-null  float64\n",
      " 39  primary_cleaner.state.floatbank8_a_air              19435 non-null  float64\n",
      " 40  primary_cleaner.state.floatbank8_a_level            19438 non-null  float64\n",
      " 41  primary_cleaner.state.floatbank8_b_air              19435 non-null  float64\n",
      " 42  primary_cleaner.state.floatbank8_b_level            19438 non-null  float64\n",
      " 43  primary_cleaner.state.floatbank8_c_air              19437 non-null  float64\n",
      " 44  primary_cleaner.state.floatbank8_c_level            19438 non-null  float64\n",
      " 45  primary_cleaner.state.floatbank8_d_air              19436 non-null  float64\n",
      " 46  primary_cleaner.state.floatbank8_d_level            19438 non-null  float64\n",
      " 47  primary_cleaner.output.concentrate_au               19439 non-null  float64\n",
      " 48  primary_cleaner.output.concentrate_ag               19439 non-null  float64\n",
      " 49  primary_cleaner.output.concentrate_pb               19323 non-null  float64\n",
      " 50  primary_cleaner.output.concentrate_sol              19069 non-null  float64\n",
      " 51  primary_cleaner.output.tail_au                      19439 non-null  float64\n",
      " 52  primary_cleaner.output.tail_ag                      19435 non-null  float64\n",
      " 53  primary_cleaner.output.tail_pb                      19418 non-null  float64\n",
      " 54  primary_cleaner.output.tail_sol                     19377 non-null  float64\n",
      " 55  secondary_cleaner.state.floatbank2_a_air            19219 non-null  float64\n",
      " 56  secondary_cleaner.state.floatbank2_a_level          19438 non-null  float64\n",
      " 57  secondary_cleaner.state.floatbank2_b_air            19416 non-null  float64\n",
      " 58  secondary_cleaner.state.floatbank2_b_level          19438 non-null  float64\n",
      " 59  secondary_cleaner.state.floatbank3_a_air            19426 non-null  float64\n",
      " 60  secondary_cleaner.state.floatbank3_a_level          19438 non-null  float64\n",
      " 61  secondary_cleaner.state.floatbank3_b_air            19438 non-null  float64\n",
      " 62  secondary_cleaner.state.floatbank3_b_level          19438 non-null  float64\n",
      " 63  secondary_cleaner.state.floatbank4_a_air            19433 non-null  float64\n",
      " 64  secondary_cleaner.state.floatbank4_a_level          19438 non-null  float64\n",
      " 65  secondary_cleaner.state.floatbank4_b_air            19438 non-null  float64\n",
      " 66  secondary_cleaner.state.floatbank4_b_level          19438 non-null  float64\n",
      " 67  secondary_cleaner.state.floatbank5_a_air            19438 non-null  float64\n",
      " 68  secondary_cleaner.state.floatbank5_a_level          19438 non-null  float64\n",
      " 69  secondary_cleaner.state.floatbank5_b_air            19438 non-null  float64\n",
      " 70  secondary_cleaner.state.floatbank5_b_level          19438 non-null  float64\n",
      " 71  secondary_cleaner.state.floatbank6_a_air            19437 non-null  float64\n",
      " 72  secondary_cleaner.state.floatbank6_a_level          19438 non-null  float64\n",
      " 73  secondary_cleaner.output.tail_au                    19439 non-null  float64\n",
      " 74  secondary_cleaner.output.tail_ag                    19437 non-null  float64\n",
      " 75  secondary_cleaner.output.tail_pb                    19427 non-null  float64\n",
      " 76  secondary_cleaner.output.tail_sol                   17691 non-null  float64\n",
      " 77  final.output.concentrate_au                         19439 non-null  float64\n",
      " 78  final.output.concentrate_ag                         19438 non-null  float64\n",
      " 79  final.output.concentrate_pb                         19438 non-null  float64\n",
      " 80  final.output.concentrate_sol                        19228 non-null  float64\n",
      " 81  final.output.recovery                               19439 non-null  float64\n",
      " 82  final.output.tail_au                                19439 non-null  float64\n",
      " 83  final.output.tail_ag                                19438 non-null  float64\n",
      " 84  final.output.tail_pb                                19338 non-null  float64\n",
      " 85  final.output.tail_sol                               19433 non-null  float64\n",
      "dtypes: float64(86)\n",
      "memory usage: 12.9 MB\n"
     ]
    },
    {
     "data": {
      "text/html": [
       "<div>\n",
       "<style scoped>\n",
       "    .dataframe tbody tr th:only-of-type {\n",
       "        vertical-align: middle;\n",
       "    }\n",
       "\n",
       "    .dataframe tbody tr th {\n",
       "        vertical-align: top;\n",
       "    }\n",
       "\n",
       "    .dataframe thead th {\n",
       "        text-align: right;\n",
       "    }\n",
       "</style>\n",
       "<table border=\"1\" class=\"dataframe\">\n",
       "  <thead>\n",
       "    <tr style=\"text-align: right;\">\n",
       "      <th></th>\n",
       "      <th>rougher.input.feed_au</th>\n",
       "      <th>rougher.input.feed_ag</th>\n",
       "      <th>rougher.input.feed_pb</th>\n",
       "      <th>rougher.input.feed_sol</th>\n",
       "      <th>rougher.input.feed_rate</th>\n",
       "      <th>rougher.input.feed_size</th>\n",
       "      <th>rougher.input.floatbank10_sulfate</th>\n",
       "      <th>rougher.input.floatbank10_xanthate</th>\n",
       "      <th>rougher.state.floatbank10_a_air</th>\n",
       "      <th>rougher.state.floatbank10_a_level</th>\n",
       "      <th>...</th>\n",
       "      <th>secondary_cleaner.output.tail_sol</th>\n",
       "      <th>final.output.concentrate_au</th>\n",
       "      <th>final.output.concentrate_ag</th>\n",
       "      <th>final.output.concentrate_pb</th>\n",
       "      <th>final.output.concentrate_sol</th>\n",
       "      <th>final.output.recovery</th>\n",
       "      <th>final.output.tail_au</th>\n",
       "      <th>final.output.tail_ag</th>\n",
       "      <th>final.output.tail_pb</th>\n",
       "      <th>final.output.tail_sol</th>\n",
       "    </tr>\n",
       "  </thead>\n",
       "  <tbody>\n",
       "    <tr>\n",
       "      <th>count</th>\n",
       "      <td>19439.000000</td>\n",
       "      <td>19439.000000</td>\n",
       "      <td>19339.000000</td>\n",
       "      <td>19340.000000</td>\n",
       "      <td>19428.000000</td>\n",
       "      <td>19294.000000</td>\n",
       "      <td>19405.000000</td>\n",
       "      <td>19431.000000</td>\n",
       "      <td>19438.000000</td>\n",
       "      <td>19438.000000</td>\n",
       "      <td>...</td>\n",
       "      <td>17691.000000</td>\n",
       "      <td>19439.000000</td>\n",
       "      <td>19438.000000</td>\n",
       "      <td>19438.000000</td>\n",
       "      <td>19228.000000</td>\n",
       "      <td>19439.000000</td>\n",
       "      <td>19439.000000</td>\n",
       "      <td>19438.000000</td>\n",
       "      <td>19338.000000</td>\n",
       "      <td>19433.000000</td>\n",
       "    </tr>\n",
       "    <tr>\n",
       "      <th>mean</th>\n",
       "      <td>8.266097</td>\n",
       "      <td>8.794927</td>\n",
       "      <td>3.598085</td>\n",
       "      <td>36.695114</td>\n",
       "      <td>478.320042</td>\n",
       "      <td>58.970310</td>\n",
       "      <td>12.334373</td>\n",
       "      <td>6.021474</td>\n",
       "      <td>1105.315068</td>\n",
       "      <td>-376.610690</td>\n",
       "      <td>...</td>\n",
       "      <td>7.167247</td>\n",
       "      <td>44.076513</td>\n",
       "      <td>5.168470</td>\n",
       "      <td>9.978895</td>\n",
       "      <td>9.501224</td>\n",
       "      <td>67.050208</td>\n",
       "      <td>3.042467</td>\n",
       "      <td>9.688589</td>\n",
       "      <td>2.705795</td>\n",
       "      <td>10.583728</td>\n",
       "    </tr>\n",
       "    <tr>\n",
       "      <th>std</th>\n",
       "      <td>1.955092</td>\n",
       "      <td>1.936847</td>\n",
       "      <td>1.049486</td>\n",
       "      <td>5.145445</td>\n",
       "      <td>105.373758</td>\n",
       "      <td>21.634478</td>\n",
       "      <td>3.427317</td>\n",
       "      <td>1.127263</td>\n",
       "      <td>160.826798</td>\n",
       "      <td>93.909667</td>\n",
       "      <td>...</td>\n",
       "      <td>3.916079</td>\n",
       "      <td>5.129784</td>\n",
       "      <td>1.372348</td>\n",
       "      <td>1.669240</td>\n",
       "      <td>2.787537</td>\n",
       "      <td>10.125840</td>\n",
       "      <td>0.922808</td>\n",
       "      <td>2.328642</td>\n",
       "      <td>0.949077</td>\n",
       "      <td>2.868782</td>\n",
       "    </tr>\n",
       "    <tr>\n",
       "      <th>min</th>\n",
       "      <td>0.010000</td>\n",
       "      <td>0.010000</td>\n",
       "      <td>0.010000</td>\n",
       "      <td>0.010000</td>\n",
       "      <td>0.002986</td>\n",
       "      <td>0.046369</td>\n",
       "      <td>0.001083</td>\n",
       "      <td>0.000568</td>\n",
       "      <td>-0.042069</td>\n",
       "      <td>-657.949759</td>\n",
       "      <td>...</td>\n",
       "      <td>0.000000</td>\n",
       "      <td>0.000000</td>\n",
       "      <td>0.000000</td>\n",
       "      <td>0.000000</td>\n",
       "      <td>0.000000</td>\n",
       "      <td>0.000000</td>\n",
       "      <td>0.000000</td>\n",
       "      <td>0.000000</td>\n",
       "      <td>0.000000</td>\n",
       "      <td>0.000000</td>\n",
       "    </tr>\n",
       "    <tr>\n",
       "      <th>25%</th>\n",
       "      <td>6.854384</td>\n",
       "      <td>7.237967</td>\n",
       "      <td>2.887280</td>\n",
       "      <td>34.207799</td>\n",
       "      <td>416.525453</td>\n",
       "      <td>47.435103</td>\n",
       "      <td>10.000362</td>\n",
       "      <td>5.398678</td>\n",
       "      <td>999.661867</td>\n",
       "      <td>-499.835165</td>\n",
       "      <td>...</td>\n",
       "      <td>3.845475</td>\n",
       "      <td>43.402215</td>\n",
       "      <td>4.251240</td>\n",
       "      <td>9.137262</td>\n",
       "      <td>7.722820</td>\n",
       "      <td>63.299712</td>\n",
       "      <td>2.461138</td>\n",
       "      <td>8.062878</td>\n",
       "      <td>2.040119</td>\n",
       "      <td>8.938947</td>\n",
       "    </tr>\n",
       "    <tr>\n",
       "      <th>50%</th>\n",
       "      <td>8.125839</td>\n",
       "      <td>8.593574</td>\n",
       "      <td>3.534895</td>\n",
       "      <td>37.202650</td>\n",
       "      <td>499.416120</td>\n",
       "      <td>54.610197</td>\n",
       "      <td>12.001174</td>\n",
       "      <td>6.008273</td>\n",
       "      <td>1001.072890</td>\n",
       "      <td>-300.263994</td>\n",
       "      <td>...</td>\n",
       "      <td>7.685827</td>\n",
       "      <td>45.011244</td>\n",
       "      <td>5.066094</td>\n",
       "      <td>10.102433</td>\n",
       "      <td>9.218961</td>\n",
       "      <td>68.172738</td>\n",
       "      <td>2.984909</td>\n",
       "      <td>9.743623</td>\n",
       "      <td>2.748730</td>\n",
       "      <td>10.622456</td>\n",
       "    </tr>\n",
       "    <tr>\n",
       "      <th>75%</th>\n",
       "      <td>9.769917</td>\n",
       "      <td>10.213771</td>\n",
       "      <td>4.244161</td>\n",
       "      <td>40.039133</td>\n",
       "      <td>550.172183</td>\n",
       "      <td>65.023044</td>\n",
       "      <td>14.716595</td>\n",
       "      <td>6.798051</td>\n",
       "      <td>1205.620588</td>\n",
       "      <td>-299.981998</td>\n",
       "      <td>...</td>\n",
       "      <td>10.411296</td>\n",
       "      <td>46.275313</td>\n",
       "      <td>5.895527</td>\n",
       "      <td>11.035769</td>\n",
       "      <td>10.947813</td>\n",
       "      <td>72.686642</td>\n",
       "      <td>3.571351</td>\n",
       "      <td>11.134294</td>\n",
       "      <td>3.333216</td>\n",
       "      <td>12.104271</td>\n",
       "    </tr>\n",
       "    <tr>\n",
       "      <th>max</th>\n",
       "      <td>13.731330</td>\n",
       "      <td>14.596026</td>\n",
       "      <td>7.142594</td>\n",
       "      <td>53.477742</td>\n",
       "      <td>717.508837</td>\n",
       "      <td>484.967466</td>\n",
       "      <td>36.118275</td>\n",
       "      <td>9.703448</td>\n",
       "      <td>1521.980372</td>\n",
       "      <td>-273.776101</td>\n",
       "      <td>...</td>\n",
       "      <td>26.000772</td>\n",
       "      <td>52.756638</td>\n",
       "      <td>16.001945</td>\n",
       "      <td>17.031899</td>\n",
       "      <td>19.615720</td>\n",
       "      <td>100.000000</td>\n",
       "      <td>8.245022</td>\n",
       "      <td>19.552149</td>\n",
       "      <td>5.804178</td>\n",
       "      <td>22.317730</td>\n",
       "    </tr>\n",
       "  </tbody>\n",
       "</table>\n",
       "<p>8 rows × 86 columns</p>\n",
       "</div>"
      ],
      "text/plain": [
       "       rougher.input.feed_au  rougher.input.feed_ag  rougher.input.feed_pb  \\\n",
       "count           19439.000000           19439.000000           19339.000000   \n",
       "mean                8.266097               8.794927               3.598085   \n",
       "std                 1.955092               1.936847               1.049486   \n",
       "min                 0.010000               0.010000               0.010000   \n",
       "25%                 6.854384               7.237967               2.887280   \n",
       "50%                 8.125839               8.593574               3.534895   \n",
       "75%                 9.769917              10.213771               4.244161   \n",
       "max                13.731330              14.596026               7.142594   \n",
       "\n",
       "       rougher.input.feed_sol  rougher.input.feed_rate  \\\n",
       "count            19340.000000             19428.000000   \n",
       "mean                36.695114               478.320042   \n",
       "std                  5.145445               105.373758   \n",
       "min                  0.010000                 0.002986   \n",
       "25%                 34.207799               416.525453   \n",
       "50%                 37.202650               499.416120   \n",
       "75%                 40.039133               550.172183   \n",
       "max                 53.477742               717.508837   \n",
       "\n",
       "       rougher.input.feed_size  rougher.input.floatbank10_sulfate  \\\n",
       "count             19294.000000                       19405.000000   \n",
       "mean                 58.970310                          12.334373   \n",
       "std                  21.634478                           3.427317   \n",
       "min                   0.046369                           0.001083   \n",
       "25%                  47.435103                          10.000362   \n",
       "50%                  54.610197                          12.001174   \n",
       "75%                  65.023044                          14.716595   \n",
       "max                 484.967466                          36.118275   \n",
       "\n",
       "       rougher.input.floatbank10_xanthate  rougher.state.floatbank10_a_air  \\\n",
       "count                        19431.000000                     19438.000000   \n",
       "mean                             6.021474                      1105.315068   \n",
       "std                              1.127263                       160.826798   \n",
       "min                              0.000568                        -0.042069   \n",
       "25%                              5.398678                       999.661867   \n",
       "50%                              6.008273                      1001.072890   \n",
       "75%                              6.798051                      1205.620588   \n",
       "max                              9.703448                      1521.980372   \n",
       "\n",
       "       rougher.state.floatbank10_a_level  ...  \\\n",
       "count                       19438.000000  ...   \n",
       "mean                         -376.610690  ...   \n",
       "std                            93.909667  ...   \n",
       "min                          -657.949759  ...   \n",
       "25%                          -499.835165  ...   \n",
       "50%                          -300.263994  ...   \n",
       "75%                          -299.981998  ...   \n",
       "max                          -273.776101  ...   \n",
       "\n",
       "       secondary_cleaner.output.tail_sol  final.output.concentrate_au  \\\n",
       "count                       17691.000000                 19439.000000   \n",
       "mean                            7.167247                    44.076513   \n",
       "std                             3.916079                     5.129784   \n",
       "min                             0.000000                     0.000000   \n",
       "25%                             3.845475                    43.402215   \n",
       "50%                             7.685827                    45.011244   \n",
       "75%                            10.411296                    46.275313   \n",
       "max                            26.000772                    52.756638   \n",
       "\n",
       "       final.output.concentrate_ag  final.output.concentrate_pb  \\\n",
       "count                 19438.000000                 19438.000000   \n",
       "mean                      5.168470                     9.978895   \n",
       "std                       1.372348                     1.669240   \n",
       "min                       0.000000                     0.000000   \n",
       "25%                       4.251240                     9.137262   \n",
       "50%                       5.066094                    10.102433   \n",
       "75%                       5.895527                    11.035769   \n",
       "max                      16.001945                    17.031899   \n",
       "\n",
       "       final.output.concentrate_sol  final.output.recovery  \\\n",
       "count                  19228.000000           19439.000000   \n",
       "mean                       9.501224              67.050208   \n",
       "std                        2.787537              10.125840   \n",
       "min                        0.000000               0.000000   \n",
       "25%                        7.722820              63.299712   \n",
       "50%                        9.218961              68.172738   \n",
       "75%                       10.947813              72.686642   \n",
       "max                       19.615720             100.000000   \n",
       "\n",
       "       final.output.tail_au  final.output.tail_ag  final.output.tail_pb  \\\n",
       "count          19439.000000          19438.000000          19338.000000   \n",
       "mean               3.042467              9.688589              2.705795   \n",
       "std                0.922808              2.328642              0.949077   \n",
       "min                0.000000              0.000000              0.000000   \n",
       "25%                2.461138              8.062878              2.040119   \n",
       "50%                2.984909              9.743623              2.748730   \n",
       "75%                3.571351             11.134294              3.333216   \n",
       "max                8.245022             19.552149              5.804178   \n",
       "\n",
       "       final.output.tail_sol  \n",
       "count           19433.000000  \n",
       "mean               10.583728  \n",
       "std                 2.868782  \n",
       "min                 0.000000  \n",
       "25%                 8.938947  \n",
       "50%                10.622456  \n",
       "75%                12.104271  \n",
       "max                22.317730  \n",
       "\n",
       "[8 rows x 86 columns]"
      ]
     },
     "metadata": {},
     "output_type": "display_data"
    },
    {
     "data": {
      "text/html": [
       "<div>\n",
       "<style scoped>\n",
       "    .dataframe tbody tr th:only-of-type {\n",
       "        vertical-align: middle;\n",
       "    }\n",
       "\n",
       "    .dataframe tbody tr th {\n",
       "        vertical-align: top;\n",
       "    }\n",
       "\n",
       "    .dataframe thead th {\n",
       "        text-align: right;\n",
       "    }\n",
       "</style>\n",
       "<table border=\"1\" class=\"dataframe\">\n",
       "  <thead>\n",
       "    <tr style=\"text-align: right;\">\n",
       "      <th></th>\n",
       "      <th>rougher.input.feed_au</th>\n",
       "      <th>rougher.input.feed_ag</th>\n",
       "      <th>rougher.input.feed_pb</th>\n",
       "      <th>rougher.input.feed_sol</th>\n",
       "      <th>rougher.input.feed_rate</th>\n",
       "      <th>rougher.input.feed_size</th>\n",
       "      <th>rougher.input.floatbank10_sulfate</th>\n",
       "      <th>rougher.input.floatbank10_xanthate</th>\n",
       "      <th>rougher.state.floatbank10_a_air</th>\n",
       "      <th>rougher.state.floatbank10_a_level</th>\n",
       "      <th>...</th>\n",
       "      <th>secondary_cleaner.output.tail_sol</th>\n",
       "      <th>final.output.concentrate_au</th>\n",
       "      <th>final.output.concentrate_ag</th>\n",
       "      <th>final.output.concentrate_pb</th>\n",
       "      <th>final.output.concentrate_sol</th>\n",
       "      <th>final.output.recovery</th>\n",
       "      <th>final.output.tail_au</th>\n",
       "      <th>final.output.tail_ag</th>\n",
       "      <th>final.output.tail_pb</th>\n",
       "      <th>final.output.tail_sol</th>\n",
       "    </tr>\n",
       "    <tr>\n",
       "      <th>date</th>\n",
       "      <th></th>\n",
       "      <th></th>\n",
       "      <th></th>\n",
       "      <th></th>\n",
       "      <th></th>\n",
       "      <th></th>\n",
       "      <th></th>\n",
       "      <th></th>\n",
       "      <th></th>\n",
       "      <th></th>\n",
       "      <th></th>\n",
       "      <th></th>\n",
       "      <th></th>\n",
       "      <th></th>\n",
       "      <th></th>\n",
       "      <th></th>\n",
       "      <th></th>\n",
       "      <th></th>\n",
       "      <th></th>\n",
       "      <th></th>\n",
       "      <th></th>\n",
       "    </tr>\n",
       "  </thead>\n",
       "  <tbody>\n",
       "    <tr>\n",
       "      <th>2016-01-15 00:00:00</th>\n",
       "      <td>6.486150</td>\n",
       "      <td>6.100378</td>\n",
       "      <td>2.284912</td>\n",
       "      <td>36.808594</td>\n",
       "      <td>523.546326</td>\n",
       "      <td>55.486599</td>\n",
       "      <td>11.986616</td>\n",
       "      <td>6.007990</td>\n",
       "      <td>999.706909</td>\n",
       "      <td>-404.066986</td>\n",
       "      <td>...</td>\n",
       "      <td>8.764648</td>\n",
       "      <td>42.192020</td>\n",
       "      <td>6.055403</td>\n",
       "      <td>9.889648</td>\n",
       "      <td>5.507324</td>\n",
       "      <td>70.541216</td>\n",
       "      <td>2.143149</td>\n",
       "      <td>10.411962</td>\n",
       "      <td>0.895447</td>\n",
       "      <td>16.904297</td>\n",
       "    </tr>\n",
       "    <tr>\n",
       "      <th>2016-01-15 01:00:00</th>\n",
       "      <td>6.478583</td>\n",
       "      <td>6.161113</td>\n",
       "      <td>2.266033</td>\n",
       "      <td>35.753385</td>\n",
       "      <td>525.290581</td>\n",
       "      <td>57.278666</td>\n",
       "      <td>11.971193</td>\n",
       "      <td>6.005766</td>\n",
       "      <td>1000.286398</td>\n",
       "      <td>-400.065196</td>\n",
       "      <td>...</td>\n",
       "      <td>9.001494</td>\n",
       "      <td>42.701629</td>\n",
       "      <td>6.029369</td>\n",
       "      <td>9.968944</td>\n",
       "      <td>5.257781</td>\n",
       "      <td>69.266198</td>\n",
       "      <td>2.224930</td>\n",
       "      <td>10.462676</td>\n",
       "      <td>0.927452</td>\n",
       "      <td>16.634514</td>\n",
       "    </tr>\n",
       "    <tr>\n",
       "      <th>2016-01-15 02:00:00</th>\n",
       "      <td>6.362222</td>\n",
       "      <td>6.116455</td>\n",
       "      <td>2.159622</td>\n",
       "      <td>35.971630</td>\n",
       "      <td>530.026610</td>\n",
       "      <td>57.510649</td>\n",
       "      <td>11.920603</td>\n",
       "      <td>6.197377</td>\n",
       "      <td>999.719565</td>\n",
       "      <td>-400.074028</td>\n",
       "      <td>...</td>\n",
       "      <td>8.842896</td>\n",
       "      <td>42.657501</td>\n",
       "      <td>6.055926</td>\n",
       "      <td>10.213995</td>\n",
       "      <td>5.383759</td>\n",
       "      <td>68.116445</td>\n",
       "      <td>2.257889</td>\n",
       "      <td>10.507046</td>\n",
       "      <td>0.953716</td>\n",
       "      <td>16.208849</td>\n",
       "    </tr>\n",
       "    <tr>\n",
       "      <th>2016-01-15 03:00:00</th>\n",
       "      <td>6.118189</td>\n",
       "      <td>6.043309</td>\n",
       "      <td>2.037807</td>\n",
       "      <td>36.862241</td>\n",
       "      <td>542.590390</td>\n",
       "      <td>57.792734</td>\n",
       "      <td>11.630094</td>\n",
       "      <td>6.203177</td>\n",
       "      <td>999.814770</td>\n",
       "      <td>-400.200179</td>\n",
       "      <td>...</td>\n",
       "      <td>9.122857</td>\n",
       "      <td>42.689819</td>\n",
       "      <td>6.047977</td>\n",
       "      <td>9.977019</td>\n",
       "      <td>4.858634</td>\n",
       "      <td>68.347543</td>\n",
       "      <td>2.146849</td>\n",
       "      <td>10.422762</td>\n",
       "      <td>0.883763</td>\n",
       "      <td>16.532835</td>\n",
       "    </tr>\n",
       "    <tr>\n",
       "      <th>2016-01-15 04:00:00</th>\n",
       "      <td>5.663707</td>\n",
       "      <td>6.060915</td>\n",
       "      <td>1.786875</td>\n",
       "      <td>34.347666</td>\n",
       "      <td>540.531893</td>\n",
       "      <td>56.047189</td>\n",
       "      <td>10.957755</td>\n",
       "      <td>6.198826</td>\n",
       "      <td>999.678690</td>\n",
       "      <td>-399.752729</td>\n",
       "      <td>...</td>\n",
       "      <td>8.871028</td>\n",
       "      <td>42.774141</td>\n",
       "      <td>6.148599</td>\n",
       "      <td>10.142511</td>\n",
       "      <td>4.939416</td>\n",
       "      <td>66.927016</td>\n",
       "      <td>2.055292</td>\n",
       "      <td>10.360302</td>\n",
       "      <td>0.792826</td>\n",
       "      <td>16.525686</td>\n",
       "    </tr>\n",
       "  </tbody>\n",
       "</table>\n",
       "<p>5 rows × 86 columns</p>\n",
       "</div>"
      ],
      "text/plain": [
       "                     rougher.input.feed_au  rougher.input.feed_ag  \\\n",
       "date                                                                \n",
       "2016-01-15 00:00:00               6.486150               6.100378   \n",
       "2016-01-15 01:00:00               6.478583               6.161113   \n",
       "2016-01-15 02:00:00               6.362222               6.116455   \n",
       "2016-01-15 03:00:00               6.118189               6.043309   \n",
       "2016-01-15 04:00:00               5.663707               6.060915   \n",
       "\n",
       "                     rougher.input.feed_pb  rougher.input.feed_sol  \\\n",
       "date                                                                 \n",
       "2016-01-15 00:00:00               2.284912               36.808594   \n",
       "2016-01-15 01:00:00               2.266033               35.753385   \n",
       "2016-01-15 02:00:00               2.159622               35.971630   \n",
       "2016-01-15 03:00:00               2.037807               36.862241   \n",
       "2016-01-15 04:00:00               1.786875               34.347666   \n",
       "\n",
       "                     rougher.input.feed_rate  rougher.input.feed_size  \\\n",
       "date                                                                    \n",
       "2016-01-15 00:00:00               523.546326                55.486599   \n",
       "2016-01-15 01:00:00               525.290581                57.278666   \n",
       "2016-01-15 02:00:00               530.026610                57.510649   \n",
       "2016-01-15 03:00:00               542.590390                57.792734   \n",
       "2016-01-15 04:00:00               540.531893                56.047189   \n",
       "\n",
       "                     rougher.input.floatbank10_sulfate  \\\n",
       "date                                                     \n",
       "2016-01-15 00:00:00                          11.986616   \n",
       "2016-01-15 01:00:00                          11.971193   \n",
       "2016-01-15 02:00:00                          11.920603   \n",
       "2016-01-15 03:00:00                          11.630094   \n",
       "2016-01-15 04:00:00                          10.957755   \n",
       "\n",
       "                     rougher.input.floatbank10_xanthate  \\\n",
       "date                                                      \n",
       "2016-01-15 00:00:00                            6.007990   \n",
       "2016-01-15 01:00:00                            6.005766   \n",
       "2016-01-15 02:00:00                            6.197377   \n",
       "2016-01-15 03:00:00                            6.203177   \n",
       "2016-01-15 04:00:00                            6.198826   \n",
       "\n",
       "                     rougher.state.floatbank10_a_air  \\\n",
       "date                                                   \n",
       "2016-01-15 00:00:00                       999.706909   \n",
       "2016-01-15 01:00:00                      1000.286398   \n",
       "2016-01-15 02:00:00                       999.719565   \n",
       "2016-01-15 03:00:00                       999.814770   \n",
       "2016-01-15 04:00:00                       999.678690   \n",
       "\n",
       "                     rougher.state.floatbank10_a_level  ...  \\\n",
       "date                                                    ...   \n",
       "2016-01-15 00:00:00                        -404.066986  ...   \n",
       "2016-01-15 01:00:00                        -400.065196  ...   \n",
       "2016-01-15 02:00:00                        -400.074028  ...   \n",
       "2016-01-15 03:00:00                        -400.200179  ...   \n",
       "2016-01-15 04:00:00                        -399.752729  ...   \n",
       "\n",
       "                     secondary_cleaner.output.tail_sol  \\\n",
       "date                                                     \n",
       "2016-01-15 00:00:00                           8.764648   \n",
       "2016-01-15 01:00:00                           9.001494   \n",
       "2016-01-15 02:00:00                           8.842896   \n",
       "2016-01-15 03:00:00                           9.122857   \n",
       "2016-01-15 04:00:00                           8.871028   \n",
       "\n",
       "                     final.output.concentrate_au  final.output.concentrate_ag  \\\n",
       "date                                                                            \n",
       "2016-01-15 00:00:00                    42.192020                     6.055403   \n",
       "2016-01-15 01:00:00                    42.701629                     6.029369   \n",
       "2016-01-15 02:00:00                    42.657501                     6.055926   \n",
       "2016-01-15 03:00:00                    42.689819                     6.047977   \n",
       "2016-01-15 04:00:00                    42.774141                     6.148599   \n",
       "\n",
       "                     final.output.concentrate_pb  \\\n",
       "date                                               \n",
       "2016-01-15 00:00:00                     9.889648   \n",
       "2016-01-15 01:00:00                     9.968944   \n",
       "2016-01-15 02:00:00                    10.213995   \n",
       "2016-01-15 03:00:00                     9.977019   \n",
       "2016-01-15 04:00:00                    10.142511   \n",
       "\n",
       "                     final.output.concentrate_sol  final.output.recovery  \\\n",
       "date                                                                       \n",
       "2016-01-15 00:00:00                      5.507324              70.541216   \n",
       "2016-01-15 01:00:00                      5.257781              69.266198   \n",
       "2016-01-15 02:00:00                      5.383759              68.116445   \n",
       "2016-01-15 03:00:00                      4.858634              68.347543   \n",
       "2016-01-15 04:00:00                      4.939416              66.927016   \n",
       "\n",
       "                     final.output.tail_au  final.output.tail_ag  \\\n",
       "date                                                              \n",
       "2016-01-15 00:00:00              2.143149             10.411962   \n",
       "2016-01-15 01:00:00              2.224930             10.462676   \n",
       "2016-01-15 02:00:00              2.257889             10.507046   \n",
       "2016-01-15 03:00:00              2.146849             10.422762   \n",
       "2016-01-15 04:00:00              2.055292             10.360302   \n",
       "\n",
       "                     final.output.tail_pb  final.output.tail_sol  \n",
       "date                                                              \n",
       "2016-01-15 00:00:00              0.895447              16.904297  \n",
       "2016-01-15 01:00:00              0.927452              16.634514  \n",
       "2016-01-15 02:00:00              0.953716              16.208849  \n",
       "2016-01-15 03:00:00              0.883763              16.532835  \n",
       "2016-01-15 04:00:00              0.792826              16.525686  \n",
       "\n",
       "[5 rows x 86 columns]"
      ]
     },
     "metadata": {},
     "output_type": "display_data"
    }
   ],
   "source": [
    "check_df(df_full)"
   ]
  },
  {
   "cell_type": "markdown",
   "metadata": {},
   "source": [
    "**Вывод**:\n",
    "- Выгрузили данные и изучили их;\n",
    "- Во многих признаках есть пропуски."
   ]
  },
  {
   "cell_type": "code",
   "execution_count": 7,
   "metadata": {},
   "outputs": [],
   "source": [
    "# Напишем функцию для рассчета эффективности обогащения\n",
    "def efficiency_recovery(rougher_output, rougher_input, rougher_tail):\n",
    "    recovery = (rougher_output * (rougher_input - rougher_tail)) / (rougher_input * (rougher_output - rougher_tail)) * 100\n",
    "    \n",
    "    recovery[recovery < 0] = np.nan\n",
    "    recovery[recovery > 100] = np.nan\n",
    "    return recovery"
   ]
  },
  {
   "cell_type": "code",
   "execution_count": 8,
   "metadata": {},
   "outputs": [],
   "source": [
    "# Применим функцию и найдем эффективность обогащения\n",
    "efficiency = efficiency_recovery(df_train['rougher.output.concentrate_au'], \n",
    "    df_train['rougher.input.feed_au'], \n",
    "    df_train['rougher.output.tail_au'])"
   ]
  },
  {
   "cell_type": "code",
   "execution_count": 9,
   "metadata": {},
   "outputs": [
    {
     "name": "stdout",
     "output_type": "stream",
     "text": [
      "count    14579.000000\n",
      "mean        82.521200\n",
      "std         15.797521\n",
      "min         -0.000000\n",
      "25%         80.558542\n",
      "50%         85.946497\n",
      "75%         89.960375\n",
      "max        100.000000\n",
      "dtype: float64\n"
     ]
    }
   ],
   "source": [
    "print(efficiency.describe())"
   ]
  },
  {
   "cell_type": "code",
   "execution_count": 10,
   "metadata": {},
   "outputs": [
    {
     "name": "stdout",
     "output_type": "stream",
     "text": [
      "MAE = 9.83758577644259e-15\n"
     ]
    }
   ],
   "source": [
    "# Посчитаем MAE\n",
    "mae_recovery = mean_absolute_error(df_train['rougher.output.recovery'].dropna(), efficiency.dropna())\n",
    "print('MAE =', mae_recovery)"
   ]
  },
  {
   "cell_type": "markdown",
   "metadata": {},
   "source": [
    "**Вывод**:\n",
    "Стандартное отклонение оказалось довольно небольшим, а значит эффективность рассчитана правильно."
   ]
  },
  {
   "cell_type": "code",
   "execution_count": 11,
   "metadata": {},
   "outputs": [
    {
     "name": "stdout",
     "output_type": "stream",
     "text": [
      "rougher.calculation.sulfate_to_au_concentrate         float64\n",
      "rougher.calculation.floatbank10_sulfate_to_au_feed    float64\n",
      "rougher.calculation.floatbank11_sulfate_to_au_feed    float64\n",
      "rougher.calculation.au_pb_ratio                       float64\n",
      "rougher.output.concentrate_au                         float64\n",
      "rougher.output.concentrate_ag                         float64\n",
      "rougher.output.concentrate_pb                         float64\n",
      "rougher.output.concentrate_sol                        float64\n",
      "rougher.output.recovery                               float64\n",
      "rougher.output.tail_au                                float64\n",
      "rougher.output.tail_ag                                float64\n",
      "rougher.output.tail_pb                                float64\n",
      "rougher.output.tail_sol                               float64\n",
      "primary_cleaner.output.concentrate_au                 float64\n",
      "primary_cleaner.output.concentrate_ag                 float64\n",
      "primary_cleaner.output.concentrate_pb                 float64\n",
      "primary_cleaner.output.concentrate_sol                float64\n",
      "primary_cleaner.output.tail_au                        float64\n",
      "primary_cleaner.output.tail_ag                        float64\n",
      "primary_cleaner.output.tail_pb                        float64\n",
      "primary_cleaner.output.tail_sol                       float64\n",
      "secondary_cleaner.output.tail_au                      float64\n",
      "secondary_cleaner.output.tail_ag                      float64\n",
      "secondary_cleaner.output.tail_pb                      float64\n",
      "secondary_cleaner.output.tail_sol                     float64\n",
      "final.output.concentrate_au                           float64\n",
      "final.output.concentrate_ag                           float64\n",
      "final.output.concentrate_pb                           float64\n",
      "final.output.concentrate_sol                          float64\n",
      "final.output.recovery                                 float64\n",
      "final.output.tail_au                                  float64\n",
      "final.output.tail_ag                                  float64\n",
      "final.output.tail_pb                                  float64\n",
      "final.output.tail_sol                                 float64\n",
      "dtype: object\n",
      "Количество отсутсвующих признаков в тестовой выборке: 34\n"
     ]
    }
   ],
   "source": [
    "# Выведем признаки, которые недоступны в тестовой выборке\n",
    "a = df_test.columns\n",
    "b = df_train.columns\n",
    "c = []\n",
    "for i in b:\n",
    "    if i not in a:\n",
    "        c.append(i)\n",
    "print(df_train[c].dtypes)\n",
    "print(\"Количество отсутсвующих признаков в тестовой выборке:\", len(c))"
   ]
  },
  {
   "cell_type": "markdown",
   "metadata": {},
   "source": [
    "**Вывод**:\n",
    "- Скорее всего, в тестовом датасете отсутсвуют те признаки, которые являются либо целевыми, либо расчетными;\n",
    "- Все признаки имеют тип данных `float64`."
   ]
  },
  {
   "cell_type": "code",
   "execution_count": 12,
   "metadata": {},
   "outputs": [
    {
     "name": "stdout",
     "output_type": "stream",
     "text": [
      "Количество дупликатов: 0\n"
     ]
    }
   ],
   "source": [
    "print(\"Количество дупликатов:\", df_train.duplicated().sum())"
   ]
  },
  {
   "cell_type": "code",
   "execution_count": 13,
   "metadata": {},
   "outputs": [
    {
     "name": "stdout",
     "output_type": "stream",
     "text": [
      "Количество дупликатов: 0\n"
     ]
    }
   ],
   "source": [
    "print(\"Количество дупликатов:\", df_test.duplicated().sum())"
   ]
  },
  {
   "cell_type": "code",
   "execution_count": 14,
   "metadata": {},
   "outputs": [
    {
     "name": "stdout",
     "output_type": "stream",
     "text": [
      "Количество дупликатов: 0\n"
     ]
    }
   ],
   "source": [
    "print(\"Количество дупликатов:\", df_full.duplicated().sum())"
   ]
  },
  {
   "cell_type": "code",
   "execution_count": 15,
   "metadata": {},
   "outputs": [
    {
     "name": "stdout",
     "output_type": "stream",
     "text": [
      "(4860, 52)\n",
      "(4860, 54)\n"
     ]
    }
   ],
   "source": [
    "# Вытянем соответствующие по индексам таргеты из df_full для df_test\n",
    "print(df_test.shape)\n",
    "df_test = df_test.merge(df_full[TARGETS].loc[df_test.index], on='date', how='left')\n",
    "print(df_test.shape)"
   ]
  },
  {
   "cell_type": "code",
   "execution_count": 16,
   "metadata": {},
   "outputs": [],
   "source": [
    "# Удалим строки с пропусками в таргетах\n",
    "df_train = df_train.dropna(subset=TARGETS)\n",
    "df_test = df_test.dropna(subset=TARGETS)"
   ]
  },
  {
   "cell_type": "code",
   "execution_count": 17,
   "metadata": {},
   "outputs": [],
   "source": [
    "# Заполним пропуски в датасетах ближайшими предыдущими значениями \n",
    "df_train = df_train.fillna(method='ffill')\n",
    "df_test = df_test.fillna(method='ffill')"
   ]
  },
  {
   "cell_type": "markdown",
   "metadata": {},
   "source": [
    "**Вывод**:\n",
    "- Загрузили и изучили данные;\n",
    "- Посчитали метрику `MAE` между расчетами и значениями признака `'rougher.output.recovery'` и сделали вывод;\n",
    "- Проанализировали признаки, которых нет в тестовой выборке: ими оказались целевые признаки или расчетные признаки;\n",
    "- Убедились в том, что дубликатов нет;\n",
    "- Заполнили пропуски предыдущими значениями из строки."
   ]
  },
  {
   "cell_type": "markdown",
   "metadata": {},
   "source": [
    "## 2. Анализ данных"
   ]
  },
  {
   "cell_type": "code",
   "execution_count": 18,
   "metadata": {},
   "outputs": [
    {
     "data": {
      "image/png": "[encoded data removed]",
      "text/plain": [
       "<Figure size 2000x500 with 1 Axes>"
      ]
     },
     "metadata": {},
     "output_type": "display_data"
    },
    {
     "data": {
      "image/png": "[encoded data removed]",
      "text/plain": [
       "<Figure size 2000x500 with 1 Axes>"
      ]
     },
     "metadata": {},
     "output_type": "display_data"
    },
    {
     "data": {
      "image/png": "[encoded data removed]",
      "text/plain": [
       "<Figure size 2000x500 with 1 Axes>"
      ]
     },
     "metadata": {},
     "output_type": "display_data"
    }
   ],
   "source": [
    "# Изменение концетрации на разных этапах очистки\n",
    "for metal in METALS:\n",
    "    met = [f'{x}_{metal}' for x in CONCENTRATE]\n",
    "    \n",
    "    df_full[met].plot(\n",
    "        title = f'Изменение концентрации на разных этапах очистки для {metal}',\n",
    "        kind='hist', \n",
    "        bins=200, \n",
    "        grid=True, \n",
    "        legend=True,\n",
    "        figsize=(20, 5),\n",
    "        alpha=0.5,\n",
    "    ).set(xlabel='concentrate') \n",
    "    \n",
    "    plt.show()"
   ]
  },
  {
   "cell_type": "code",
   "execution_count": 19,
   "metadata": {},
   "outputs": [],
   "source": [
    "# Создадим датафрейм со средними значениями концентрации трех металлов (Au, Ag, Pb) на каждом этапе очистки\n",
    "mean_conc_df = pd.DataFrame({'rougher.input.feed':[df_full['rougher.input.feed_au'].mean(), df_full['rougher.input.feed_ag'].mean(),\n",
    "                            df_full['rougher.input.feed_pb'].mean()], 'rougher.output.concentrate':[df_full['rougher.output.concentrate_au'].mean(),\n",
    "                            df_full['rougher.output.concentrate_ag'].mean(), df_full['rougher.output.concentrate_pb'].mean()],\n",
    "                             'primary_cleaner.output.concentrate':[df_full['primary_cleaner.output.concentrate_au'].mean(), df_full['primary_cleaner.output.concentrate_ag'].mean(), \n",
    "                            df_full['primary_cleaner.output.concentrate_pb'].mean()], 'final.output.concentrate':[df_full['final.output.concentrate_au'].mean(),\n",
    "                            df_full['final.output.concentrate_ag'].mean(), df_full['final.output.concentrate_pb'].mean()]}, index=['au', 'ag', 'pb'])"
   ]
  },
  {
   "cell_type": "code",
   "execution_count": 20,
   "metadata": {},
   "outputs": [
    {
     "data": {
      "text/html": [
       "<div>\n",
       "<style scoped>\n",
       "    .dataframe tbody tr th:only-of-type {\n",
       "        vertical-align: middle;\n",
       "    }\n",
       "\n",
       "    .dataframe tbody tr th {\n",
       "        vertical-align: top;\n",
       "    }\n",
       "\n",
       "    .dataframe thead th {\n",
       "        text-align: right;\n",
       "    }\n",
       "</style>\n",
       "<table border=\"1\" class=\"dataframe\">\n",
       "  <thead>\n",
       "    <tr style=\"text-align: right;\">\n",
       "      <th></th>\n",
       "      <th>rougher.input.feed</th>\n",
       "      <th>rougher.output.concentrate</th>\n",
       "      <th>primary_cleaner.output.concentrate</th>\n",
       "      <th>final.output.concentrate</th>\n",
       "    </tr>\n",
       "  </thead>\n",
       "  <tbody>\n",
       "    <tr>\n",
       "      <th>au</th>\n",
       "      <td>8.266097</td>\n",
       "      <td>19.772000</td>\n",
       "      <td>32.119400</td>\n",
       "      <td>44.076513</td>\n",
       "    </tr>\n",
       "    <tr>\n",
       "      <th>ag</th>\n",
       "      <td>8.794927</td>\n",
       "      <td>11.994759</td>\n",
       "      <td>8.442408</td>\n",
       "      <td>5.168470</td>\n",
       "    </tr>\n",
       "    <tr>\n",
       "      <th>pb</th>\n",
       "      <td>3.598085</td>\n",
       "      <td>7.606272</td>\n",
       "      <td>9.829530</td>\n",
       "      <td>9.978895</td>\n",
       "    </tr>\n",
       "  </tbody>\n",
       "</table>\n",
       "</div>"
      ],
      "text/plain": [
       "    rougher.input.feed  rougher.output.concentrate  \\\n",
       "au            8.266097                   19.772000   \n",
       "ag            8.794927                   11.994759   \n",
       "pb            3.598085                    7.606272   \n",
       "\n",
       "    primary_cleaner.output.concentrate  final.output.concentrate  \n",
       "au                           32.119400                 44.076513  \n",
       "ag                            8.442408                  5.168470  \n",
       "pb                            9.829530                  9.978895  "
      ]
     },
     "execution_count": 20,
     "metadata": {},
     "output_type": "execute_result"
    }
   ],
   "source": [
    "mean_conc_df"
   ]
  },
  {
   "cell_type": "code",
   "execution_count": 21,
   "metadata": {},
   "outputs": [
    {
     "data": {
      "image/png": "[encoded data removed]",
      "text/plain": [
       "<Figure size 1100x500 with 1 Axes>"
      ]
     },
     "metadata": {},
     "output_type": "display_data"
    }
   ],
   "source": [
    "for metal in METALS:\n",
    "    mean_conc_df.loc[metal].plot(title='Изменение концентрации на разных этапах очистки', \n",
    "        grid=True, \n",
    "        legend=True, \n",
    "        figsize=(11, 5)\n",
    "    ).set(xlabel='stage', ylabel ='concentrate')\n",
    "plt.show()"
   ]
  },
  {
   "cell_type": "markdown",
   "metadata": {},
   "source": [
    "**Вывод об изменении концентрации металлов на разных этапах очистки:**\n",
    "- Концентрация `Au` линейно растет. В конечном итоге она возросла в **5,33** раза;\n",
    "- Концентрация `Ag` возрастала до второго этапа, а позже стала падать. В итоге концентрация уменьшилась в **1,7** раз;\n",
    "- Концентрация `Pb` плавно возрастала и изменилась в **2,77** раз."
   ]
  },
  {
   "cell_type": "code",
   "execution_count": 22,
   "metadata": {},
   "outputs": [
    {
     "data": {
      "image/png": "[encoded data removed]",
      "text/plain": [
       "<Figure size 1100x500 with 1 Axes>"
      ]
     },
     "metadata": {},
     "output_type": "display_data"
    },
    {
     "data": {
      "image/png": "[encoded data removed]",
      "text/plain": [
       "<Figure size 1100x500 with 1 Axes>"
      ]
     },
     "metadata": {},
     "output_type": "display_data"
    }
   ],
   "source": [
    "# Сравним распределение размеров гранул сырья на обучающей и тестовой выборках\n",
    "for metric in ('rougher.input.feed_size', 'primary_cleaner.input.feed_size'):\n",
    "    for label, df in (('train', df_train), ('test', df_test)): \n",
    "        df[metric].plot(\n",
    "                title = 'Сравнение распределения размеров гранул сырья на обучающей и тестовой выборках для {}'.format(metric),\n",
    "                kind='hist', \n",
    "                bins=100, \n",
    "                grid=True, \n",
    "                legend=True,\n",
    "                figsize=(11, 5),\n",
    "                alpha=0.5,\n",
    "                label=label,\n",
    "            ).set(xlabel='concentrate')\n",
    "  \n",
    "    plt.show()"
   ]
  },
  {
   "cell_type": "markdown",
   "metadata": {},
   "source": [
    "**Вывод**: \n",
    "Распределения мало отличаются друг от друга, а следовательно оценка будет правильной."
   ]
  },
  {
   "cell_type": "code",
   "execution_count": 23,
   "metadata": {},
   "outputs": [
    {
     "data": {
      "text/html": [
       "<div>\n",
       "<style scoped>\n",
       "    .dataframe tbody tr th:only-of-type {\n",
       "        vertical-align: middle;\n",
       "    }\n",
       "\n",
       "    .dataframe tbody tr th {\n",
       "        vertical-align: top;\n",
       "    }\n",
       "\n",
       "    .dataframe thead th {\n",
       "        text-align: right;\n",
       "    }\n",
       "</style>\n",
       "<table border=\"1\" class=\"dataframe\">\n",
       "  <thead>\n",
       "    <tr style=\"text-align: right;\">\n",
       "      <th></th>\n",
       "      <th>rougher.input.feed</th>\n",
       "      <th>rougher.output.concentrate</th>\n",
       "      <th>primary_cleaner.output.concentrate</th>\n",
       "      <th>final.output.concentrate</th>\n",
       "    </tr>\n",
       "    <tr>\n",
       "      <th>date</th>\n",
       "      <th></th>\n",
       "      <th></th>\n",
       "      <th></th>\n",
       "      <th></th>\n",
       "    </tr>\n",
       "  </thead>\n",
       "  <tbody>\n",
       "    <tr>\n",
       "      <th>2016-01-15 00:00:00</th>\n",
       "      <td>51.680034</td>\n",
       "      <td>66.424950</td>\n",
       "      <td>72.640924</td>\n",
       "      <td>63.644396</td>\n",
       "    </tr>\n",
       "    <tr>\n",
       "      <th>2016-01-15 01:00:00</th>\n",
       "      <td>50.659114</td>\n",
       "      <td>67.012710</td>\n",
       "      <td>72.543485</td>\n",
       "      <td>63.957723</td>\n",
       "    </tr>\n",
       "    <tr>\n",
       "      <th>2016-01-15 02:00:00</th>\n",
       "      <td>50.609929</td>\n",
       "      <td>66.103793</td>\n",
       "      <td>72.095042</td>\n",
       "      <td>64.311180</td>\n",
       "    </tr>\n",
       "    <tr>\n",
       "      <th>2016-01-15 03:00:00</th>\n",
       "      <td>51.061546</td>\n",
       "      <td>65.752751</td>\n",
       "      <td>59.957723</td>\n",
       "      <td>63.573449</td>\n",
       "    </tr>\n",
       "    <tr>\n",
       "      <th>2016-01-15 04:00:00</th>\n",
       "      <td>47.859163</td>\n",
       "      <td>65.908382</td>\n",
       "      <td>71.321010</td>\n",
       "      <td>64.004667</td>\n",
       "    </tr>\n",
       "    <tr>\n",
       "      <th>2016-01-15 05:00:00</th>\n",
       "      <td>48.838521</td>\n",
       "      <td>64.955919</td>\n",
       "      <td>70.607932</td>\n",
       "      <td>63.646320</td>\n",
       "    </tr>\n",
       "    <tr>\n",
       "      <th>2016-01-15 06:00:00</th>\n",
       "      <td>49.120760</td>\n",
       "      <td>65.372419</td>\n",
       "      <td>71.165854</td>\n",
       "      <td>63.156407</td>\n",
       "    </tr>\n",
       "    <tr>\n",
       "      <th>2016-01-15 07:00:00</th>\n",
       "      <td>50.790724</td>\n",
       "      <td>65.180132</td>\n",
       "      <td>71.533310</td>\n",
       "      <td>62.908843</td>\n",
       "    </tr>\n",
       "    <tr>\n",
       "      <th>2016-01-15 08:00:00</th>\n",
       "      <td>50.550288</td>\n",
       "      <td>65.625127</td>\n",
       "      <td>72.072013</td>\n",
       "      <td>64.185763</td>\n",
       "    </tr>\n",
       "    <tr>\n",
       "      <th>2016-01-15 09:00:00</th>\n",
       "      <td>53.815577</td>\n",
       "      <td>65.992853</td>\n",
       "      <td>72.254860</td>\n",
       "      <td>64.650224</td>\n",
       "    </tr>\n",
       "  </tbody>\n",
       "</table>\n",
       "</div>"
      ],
      "text/plain": [
       "                     rougher.input.feed  rougher.output.concentrate  \\\n",
       "date                                                                  \n",
       "2016-01-15 00:00:00           51.680034                   66.424950   \n",
       "2016-01-15 01:00:00           50.659114                   67.012710   \n",
       "2016-01-15 02:00:00           50.609929                   66.103793   \n",
       "2016-01-15 03:00:00           51.061546                   65.752751   \n",
       "2016-01-15 04:00:00           47.859163                   65.908382   \n",
       "2016-01-15 05:00:00           48.838521                   64.955919   \n",
       "2016-01-15 06:00:00           49.120760                   65.372419   \n",
       "2016-01-15 07:00:00           50.790724                   65.180132   \n",
       "2016-01-15 08:00:00           50.550288                   65.625127   \n",
       "2016-01-15 09:00:00           53.815577                   65.992853   \n",
       "\n",
       "                     primary_cleaner.output.concentrate  \\\n",
       "date                                                      \n",
       "2016-01-15 00:00:00                           72.640924   \n",
       "2016-01-15 01:00:00                           72.543485   \n",
       "2016-01-15 02:00:00                           72.095042   \n",
       "2016-01-15 03:00:00                           59.957723   \n",
       "2016-01-15 04:00:00                           71.321010   \n",
       "2016-01-15 05:00:00                           70.607932   \n",
       "2016-01-15 06:00:00                           71.165854   \n",
       "2016-01-15 07:00:00                           71.533310   \n",
       "2016-01-15 08:00:00                           72.072013   \n",
       "2016-01-15 09:00:00                           72.254860   \n",
       "\n",
       "                     final.output.concentrate  \n",
       "date                                           \n",
       "2016-01-15 00:00:00                 63.644396  \n",
       "2016-01-15 01:00:00                 63.957723  \n",
       "2016-01-15 02:00:00                 64.311180  \n",
       "2016-01-15 03:00:00                 63.573449  \n",
       "2016-01-15 04:00:00                 64.004667  \n",
       "2016-01-15 05:00:00                 63.646320  \n",
       "2016-01-15 06:00:00                 63.156407  \n",
       "2016-01-15 07:00:00                 62.908843  \n",
       "2016-01-15 08:00:00                 64.185763  \n",
       "2016-01-15 09:00:00                 64.650224  "
      ]
     },
     "execution_count": 23,
     "metadata": {},
     "output_type": "execute_result"
    }
   ],
   "source": [
    "# Суммарная концентрация веществ на разных стадиях. Добавили эту информацию в df_train\n",
    "for metric in CONCENTRATE:\n",
    "    df_train[metric] = 0\n",
    "    for metal in METALS + ['sol']:\n",
    "        df_train[metric] += df_train['{}_{}'.format(metric, metal)]\n",
    "    \n",
    "df_train[CONCENTRATE].head(10)"
   ]
  },
  {
   "cell_type": "code",
   "execution_count": 24,
   "metadata": {},
   "outputs": [],
   "source": [
    "# Функция для визуализации данных\n",
    "def concen_desc(column):\n",
    "    display(column.describe())\n",
    "    display(column.plot(kind='hist', grid=True, bins=40))\n",
    "    plt.show()\n",
    "    display(column.plot(kind='box', grid=True))\n",
    "    plt.show()"
   ]
  },
  {
   "cell_type": "code",
   "execution_count": 25,
   "metadata": {},
   "outputs": [
    {
     "data": {
      "text/plain": [
       "count    14579.000000\n",
       "mean        57.368141\n",
       "std          7.337656\n",
       "min          0.040000\n",
       "25%         53.571208\n",
       "50%         57.693000\n",
       "75%         62.122859\n",
       "max         76.978947\n",
       "Name: rougher.input.feed, dtype: float64"
      ]
     },
     "metadata": {},
     "output_type": "display_data"
    },
    {
     "data": {
      "text/plain": [
       "<AxesSubplot:ylabel='Frequency'>"
      ]
     },
     "metadata": {},
     "output_type": "display_data"
    },
    {
     "data": {
      "image/png": "[encoded data removed]",
      "text/plain": [
       "<Figure size 640x480 with 1 Axes>"
      ]
     },
     "metadata": {},
     "output_type": "display_data"
    },
    {
     "data": {
      "text/plain": [
       "<AxesSubplot:>"
      ]
     },
     "metadata": {},
     "output_type": "display_data"
    },
    {
     "data": {
      "image/png": "[encoded data removed]",
      "text/plain": [
       "<Figure size 640x480 with 1 Axes>"
      ]
     },
     "metadata": {},
     "output_type": "display_data"
    }
   ],
   "source": [
    "concen_desc(df_train['rougher.input.feed'])"
   ]
  },
  {
   "cell_type": "code",
   "execution_count": 26,
   "metadata": {},
   "outputs": [
    {
     "data": {
      "text/plain": [
       "count    14579.000000\n",
       "mean        67.804972\n",
       "std         13.739990\n",
       "min          0.000000\n",
       "25%         65.991033\n",
       "50%         70.350734\n",
       "75%         74.548465\n",
       "max         88.140119\n",
       "Name: rougher.output.concentrate, dtype: float64"
      ]
     },
     "metadata": {},
     "output_type": "display_data"
    },
    {
     "data": {
      "text/plain": [
       "<AxesSubplot:ylabel='Frequency'>"
      ]
     },
     "metadata": {},
     "output_type": "display_data"
    },
    {
     "data": {
      "image/png": "[encoded data removed]",
      "text/plain": [
       "<Figure size 640x480 with 1 Axes>"
      ]
     },
     "metadata": {},
     "output_type": "display_data"
    },
    {
     "data": {
      "text/plain": [
       "<AxesSubplot:>"
      ]
     },
     "metadata": {},
     "output_type": "display_data"
    },
    {
     "data": {
      "image/png": "[encoded data removed]",
      "text/plain": [
       "<Figure size 640x480 with 1 Axes>"
      ]
     },
     "metadata": {},
     "output_type": "display_data"
    }
   ],
   "source": [
    "concen_desc(df_train['rougher.output.concentrate'])"
   ]
  },
  {
   "cell_type": "code",
   "execution_count": 27,
   "metadata": {},
   "outputs": [
    {
     "data": {
      "text/plain": [
       "count    14579.000000\n",
       "mean        60.684505\n",
       "std         10.565578\n",
       "min          0.000000\n",
       "25%         58.951881\n",
       "50%         62.541132\n",
       "75%         65.825712\n",
       "max         78.255313\n",
       "Name: primary_cleaner.output.concentrate, dtype: float64"
      ]
     },
     "metadata": {},
     "output_type": "display_data"
    },
    {
     "data": {
      "text/plain": [
       "<AxesSubplot:ylabel='Frequency'>"
      ]
     },
     "metadata": {},
     "output_type": "display_data"
    },
    {
     "data": {
      "image/png": "[encoded data removed]",
      "text/plain": [
       "<Figure size 640x480 with 1 Axes>"
      ]
     },
     "metadata": {},
     "output_type": "display_data"
    },
    {
     "data": {
      "text/plain": [
       "<AxesSubplot:>"
      ]
     },
     "metadata": {},
     "output_type": "display_data"
    },
    {
     "data": {
      "image/png": "[encoded data removed]",
      "text/plain": [
       "<Figure size 640x480 with 1 Axes>"
      ]
     },
     "metadata": {},
     "output_type": "display_data"
    }
   ],
   "source": [
    "concen_desc(df_train['primary_cleaner.output.concentrate'])"
   ]
  },
  {
   "cell_type": "code",
   "execution_count": 28,
   "metadata": {},
   "outputs": [
    {
     "data": {
      "text/plain": [
       "count    14579.000000\n",
       "mean        68.572035\n",
       "std          8.012399\n",
       "min          0.000000\n",
       "25%         68.014187\n",
       "50%         69.664788\n",
       "75%         71.419521\n",
       "max         80.210644\n",
       "Name: final.output.concentrate, dtype: float64"
      ]
     },
     "metadata": {},
     "output_type": "display_data"
    },
    {
     "data": {
      "text/plain": [
       "<AxesSubplot:ylabel='Frequency'>"
      ]
     },
     "metadata": {},
     "output_type": "display_data"
    },
    {
     "data": {
      "image/png": "[encoded data removed]",
      "text/plain": [
       "<Figure size 640x480 with 1 Axes>"
      ]
     },
     "metadata": {},
     "output_type": "display_data"
    },
    {
     "data": {
      "text/plain": [
       "<AxesSubplot:>"
      ]
     },
     "metadata": {},
     "output_type": "display_data"
    },
    {
     "data": {
      "image/png": "[encoded data removed]",
      "text/plain": [
       "<Figure size 640x480 with 1 Axes>"
      ]
     },
     "metadata": {},
     "output_type": "display_data"
    }
   ],
   "source": [
    "concen_desc(df_train['final.output.concentrate'])"
   ]
  },
  {
   "cell_type": "code",
   "execution_count": 29,
   "metadata": {},
   "outputs": [],
   "source": [
    "def function_1(df, concentrate):\n",
    "    for col in concentrate:\n",
    "        q1 = df[col].quantile(q=0.25)\n",
    "        q3 = df[col].quantile(q=0.75)\n",
    "        iqr = q3-q1\n",
    "        df = df.loc[df[col] > (q1 - 1.5*iqr)]\n",
    "        df = df.loc[df[col] < (q3 + 1.5*iqr)]\n",
    "    return df    "
   ]
  },
  {
   "cell_type": "code",
   "execution_count": 30,
   "metadata": {},
   "outputs": [
    {
     "data": {
      "text/html": [
       "<div>\n",
       "<style scoped>\n",
       "    .dataframe tbody tr th:only-of-type {\n",
       "        vertical-align: middle;\n",
       "    }\n",
       "\n",
       "    .dataframe tbody tr th {\n",
       "        vertical-align: top;\n",
       "    }\n",
       "\n",
       "    .dataframe thead th {\n",
       "        text-align: right;\n",
       "    }\n",
       "</style>\n",
       "<table border=\"1\" class=\"dataframe\">\n",
       "  <thead>\n",
       "    <tr style=\"text-align: right;\">\n",
       "      <th></th>\n",
       "      <th>rougher.input.feed_au</th>\n",
       "      <th>rougher.input.feed_ag</th>\n",
       "      <th>rougher.input.feed_pb</th>\n",
       "      <th>rougher.input.feed_sol</th>\n",
       "      <th>rougher.input.feed_rate</th>\n",
       "      <th>rougher.input.feed_size</th>\n",
       "      <th>rougher.input.floatbank10_sulfate</th>\n",
       "      <th>rougher.input.floatbank10_xanthate</th>\n",
       "      <th>rougher.state.floatbank10_a_air</th>\n",
       "      <th>rougher.state.floatbank10_a_level</th>\n",
       "      <th>...</th>\n",
       "      <th>final.output.concentrate_sol</th>\n",
       "      <th>final.output.recovery</th>\n",
       "      <th>final.output.tail_au</th>\n",
       "      <th>final.output.tail_ag</th>\n",
       "      <th>final.output.tail_pb</th>\n",
       "      <th>final.output.tail_sol</th>\n",
       "      <th>rougher.input.feed</th>\n",
       "      <th>rougher.output.concentrate</th>\n",
       "      <th>primary_cleaner.output.concentrate</th>\n",
       "      <th>final.output.concentrate</th>\n",
       "    </tr>\n",
       "    <tr>\n",
       "      <th>date</th>\n",
       "      <th></th>\n",
       "      <th></th>\n",
       "      <th></th>\n",
       "      <th></th>\n",
       "      <th></th>\n",
       "      <th></th>\n",
       "      <th></th>\n",
       "      <th></th>\n",
       "      <th></th>\n",
       "      <th></th>\n",
       "      <th></th>\n",
       "      <th></th>\n",
       "      <th></th>\n",
       "      <th></th>\n",
       "      <th></th>\n",
       "      <th></th>\n",
       "      <th></th>\n",
       "      <th></th>\n",
       "      <th></th>\n",
       "      <th></th>\n",
       "      <th></th>\n",
       "    </tr>\n",
       "  </thead>\n",
       "  <tbody>\n",
       "    <tr>\n",
       "      <th>2016-01-15 00:00:00</th>\n",
       "      <td>6.486150</td>\n",
       "      <td>6.100378</td>\n",
       "      <td>2.284912</td>\n",
       "      <td>36.808594</td>\n",
       "      <td>523.546326</td>\n",
       "      <td>55.486599</td>\n",
       "      <td>11.986616</td>\n",
       "      <td>6.007990</td>\n",
       "      <td>999.706909</td>\n",
       "      <td>-404.066986</td>\n",
       "      <td>...</td>\n",
       "      <td>5.507324</td>\n",
       "      <td>70.541216</td>\n",
       "      <td>2.143149</td>\n",
       "      <td>10.411962</td>\n",
       "      <td>0.895447</td>\n",
       "      <td>16.904297</td>\n",
       "      <td>51.680034</td>\n",
       "      <td>66.424950</td>\n",
       "      <td>72.640924</td>\n",
       "      <td>63.644396</td>\n",
       "    </tr>\n",
       "    <tr>\n",
       "      <th>2016-01-15 01:00:00</th>\n",
       "      <td>6.478583</td>\n",
       "      <td>6.161113</td>\n",
       "      <td>2.266033</td>\n",
       "      <td>35.753385</td>\n",
       "      <td>525.290581</td>\n",
       "      <td>57.278666</td>\n",
       "      <td>11.971193</td>\n",
       "      <td>6.005766</td>\n",
       "      <td>1000.286398</td>\n",
       "      <td>-400.065196</td>\n",
       "      <td>...</td>\n",
       "      <td>5.257781</td>\n",
       "      <td>69.266198</td>\n",
       "      <td>2.224930</td>\n",
       "      <td>10.462676</td>\n",
       "      <td>0.927452</td>\n",
       "      <td>16.634514</td>\n",
       "      <td>50.659114</td>\n",
       "      <td>67.012710</td>\n",
       "      <td>72.543485</td>\n",
       "      <td>63.957723</td>\n",
       "    </tr>\n",
       "    <tr>\n",
       "      <th>2016-01-15 02:00:00</th>\n",
       "      <td>6.362222</td>\n",
       "      <td>6.116455</td>\n",
       "      <td>2.159622</td>\n",
       "      <td>35.971630</td>\n",
       "      <td>530.026610</td>\n",
       "      <td>57.510649</td>\n",
       "      <td>11.920603</td>\n",
       "      <td>6.197377</td>\n",
       "      <td>999.719565</td>\n",
       "      <td>-400.074028</td>\n",
       "      <td>...</td>\n",
       "      <td>5.383759</td>\n",
       "      <td>68.116445</td>\n",
       "      <td>2.257889</td>\n",
       "      <td>10.507046</td>\n",
       "      <td>0.953716</td>\n",
       "      <td>16.208849</td>\n",
       "      <td>50.609929</td>\n",
       "      <td>66.103793</td>\n",
       "      <td>72.095042</td>\n",
       "      <td>64.311180</td>\n",
       "    </tr>\n",
       "    <tr>\n",
       "      <th>2016-01-15 03:00:00</th>\n",
       "      <td>6.118189</td>\n",
       "      <td>6.043309</td>\n",
       "      <td>2.037807</td>\n",
       "      <td>36.862241</td>\n",
       "      <td>542.590390</td>\n",
       "      <td>57.792734</td>\n",
       "      <td>11.630094</td>\n",
       "      <td>6.203177</td>\n",
       "      <td>999.814770</td>\n",
       "      <td>-400.200179</td>\n",
       "      <td>...</td>\n",
       "      <td>4.858634</td>\n",
       "      <td>68.347543</td>\n",
       "      <td>2.146849</td>\n",
       "      <td>10.422762</td>\n",
       "      <td>0.883763</td>\n",
       "      <td>16.532835</td>\n",
       "      <td>51.061546</td>\n",
       "      <td>65.752751</td>\n",
       "      <td>59.957723</td>\n",
       "      <td>63.573449</td>\n",
       "    </tr>\n",
       "    <tr>\n",
       "      <th>2016-01-15 04:00:00</th>\n",
       "      <td>5.663707</td>\n",
       "      <td>6.060915</td>\n",
       "      <td>1.786875</td>\n",
       "      <td>34.347666</td>\n",
       "      <td>540.531893</td>\n",
       "      <td>56.047189</td>\n",
       "      <td>10.957755</td>\n",
       "      <td>6.198826</td>\n",
       "      <td>999.678690</td>\n",
       "      <td>-399.752729</td>\n",
       "      <td>...</td>\n",
       "      <td>4.939416</td>\n",
       "      <td>66.927016</td>\n",
       "      <td>2.055292</td>\n",
       "      <td>10.360302</td>\n",
       "      <td>0.792826</td>\n",
       "      <td>16.525686</td>\n",
       "      <td>47.859163</td>\n",
       "      <td>65.908382</td>\n",
       "      <td>71.321010</td>\n",
       "      <td>64.004667</td>\n",
       "    </tr>\n",
       "    <tr>\n",
       "      <th>...</th>\n",
       "      <td>...</td>\n",
       "      <td>...</td>\n",
       "      <td>...</td>\n",
       "      <td>...</td>\n",
       "      <td>...</td>\n",
       "      <td>...</td>\n",
       "      <td>...</td>\n",
       "      <td>...</td>\n",
       "      <td>...</td>\n",
       "      <td>...</td>\n",
       "      <td>...</td>\n",
       "      <td>...</td>\n",
       "      <td>...</td>\n",
       "      <td>...</td>\n",
       "      <td>...</td>\n",
       "      <td>...</td>\n",
       "      <td>...</td>\n",
       "      <td>...</td>\n",
       "      <td>...</td>\n",
       "      <td>...</td>\n",
       "      <td>...</td>\n",
       "    </tr>\n",
       "    <tr>\n",
       "      <th>2017-12-09 09:59:59</th>\n",
       "      <td>4.599524</td>\n",
       "      <td>5.822083</td>\n",
       "      <td>4.255546</td>\n",
       "      <td>37.480479</td>\n",
       "      <td>559.895089</td>\n",
       "      <td>85.247019</td>\n",
       "      <td>6.775864</td>\n",
       "      <td>9.005425</td>\n",
       "      <td>1200.454685</td>\n",
       "      <td>-300.012582</td>\n",
       "      <td>...</td>\n",
       "      <td>7.053796</td>\n",
       "      <td>64.054699</td>\n",
       "      <td>1.761994</td>\n",
       "      <td>8.578502</td>\n",
       "      <td>3.365823</td>\n",
       "      <td>10.603464</td>\n",
       "      <td>52.157631</td>\n",
       "      <td>70.619923</td>\n",
       "      <td>60.501479</td>\n",
       "      <td>68.600349</td>\n",
       "    </tr>\n",
       "    <tr>\n",
       "      <th>2017-12-09 10:59:59</th>\n",
       "      <td>4.658125</td>\n",
       "      <td>5.844800</td>\n",
       "      <td>4.241564</td>\n",
       "      <td>37.395565</td>\n",
       "      <td>561.464855</td>\n",
       "      <td>83.860651</td>\n",
       "      <td>6.770561</td>\n",
       "      <td>9.000889</td>\n",
       "      <td>1200.958146</td>\n",
       "      <td>-300.013649</td>\n",
       "      <td>...</td>\n",
       "      <td>6.929418</td>\n",
       "      <td>68.643324</td>\n",
       "      <td>1.567363</td>\n",
       "      <td>8.792890</td>\n",
       "      <td>3.120351</td>\n",
       "      <td>10.184715</td>\n",
       "      <td>52.140053</td>\n",
       "      <td>70.610025</td>\n",
       "      <td>59.432141</td>\n",
       "      <td>68.504562</td>\n",
       "    </tr>\n",
       "    <tr>\n",
       "      <th>2017-12-09 11:59:59</th>\n",
       "      <td>5.335862</td>\n",
       "      <td>6.091855</td>\n",
       "      <td>4.617558</td>\n",
       "      <td>37.369774</td>\n",
       "      <td>560.889077</td>\n",
       "      <td>85.718304</td>\n",
       "      <td>7.762770</td>\n",
       "      <td>9.158609</td>\n",
       "      <td>1199.245914</td>\n",
       "      <td>-300.845518</td>\n",
       "      <td>...</td>\n",
       "      <td>6.803482</td>\n",
       "      <td>73.755150</td>\n",
       "      <td>1.529220</td>\n",
       "      <td>8.769645</td>\n",
       "      <td>3.141541</td>\n",
       "      <td>10.403181</td>\n",
       "      <td>53.415050</td>\n",
       "      <td>70.781325</td>\n",
       "      <td>59.001692</td>\n",
       "      <td>68.098589</td>\n",
       "    </tr>\n",
       "    <tr>\n",
       "      <th>2017-12-09 12:59:59</th>\n",
       "      <td>4.838619</td>\n",
       "      <td>6.121323</td>\n",
       "      <td>4.144989</td>\n",
       "      <td>38.591551</td>\n",
       "      <td>559.031805</td>\n",
       "      <td>119.499241</td>\n",
       "      <td>7.356687</td>\n",
       "      <td>9.304952</td>\n",
       "      <td>1196.569267</td>\n",
       "      <td>-299.512227</td>\n",
       "      <td>...</td>\n",
       "      <td>6.862249</td>\n",
       "      <td>69.049291</td>\n",
       "      <td>1.612542</td>\n",
       "      <td>8.897321</td>\n",
       "      <td>3.130493</td>\n",
       "      <td>10.549470</td>\n",
       "      <td>53.696482</td>\n",
       "      <td>70.539603</td>\n",
       "      <td>59.703912</td>\n",
       "      <td>68.274362</td>\n",
       "    </tr>\n",
       "    <tr>\n",
       "      <th>2017-12-09 13:59:59</th>\n",
       "      <td>4.525061</td>\n",
       "      <td>5.970515</td>\n",
       "      <td>4.020002</td>\n",
       "      <td>40.074026</td>\n",
       "      <td>555.682872</td>\n",
       "      <td>122.262690</td>\n",
       "      <td>6.586020</td>\n",
       "      <td>9.299606</td>\n",
       "      <td>1204.866639</td>\n",
       "      <td>-299.235675</td>\n",
       "      <td>...</td>\n",
       "      <td>6.886013</td>\n",
       "      <td>67.002189</td>\n",
       "      <td>1.596616</td>\n",
       "      <td>8.529606</td>\n",
       "      <td>2.911418</td>\n",
       "      <td>11.115147</td>\n",
       "      <td>54.589604</td>\n",
       "      <td>55.376330</td>\n",
       "      <td>59.561096</td>\n",
       "      <td>68.226068</td>\n",
       "    </tr>\n",
       "  </tbody>\n",
       "</table>\n",
       "<p>12095 rows × 90 columns</p>\n",
       "</div>"
      ],
      "text/plain": [
       "                     rougher.input.feed_au  rougher.input.feed_ag  \\\n",
       "date                                                                \n",
       "2016-01-15 00:00:00               6.486150               6.100378   \n",
       "2016-01-15 01:00:00               6.478583               6.161113   \n",
       "2016-01-15 02:00:00               6.362222               6.116455   \n",
       "2016-01-15 03:00:00               6.118189               6.043309   \n",
       "2016-01-15 04:00:00               5.663707               6.060915   \n",
       "...                                    ...                    ...   \n",
       "2017-12-09 09:59:59               4.599524               5.822083   \n",
       "2017-12-09 10:59:59               4.658125               5.844800   \n",
       "2017-12-09 11:59:59               5.335862               6.091855   \n",
       "2017-12-09 12:59:59               4.838619               6.121323   \n",
       "2017-12-09 13:59:59               4.525061               5.970515   \n",
       "\n",
       "                     rougher.input.feed_pb  rougher.input.feed_sol  \\\n",
       "date                                                                 \n",
       "2016-01-15 00:00:00               2.284912               36.808594   \n",
       "2016-01-15 01:00:00               2.266033               35.753385   \n",
       "2016-01-15 02:00:00               2.159622               35.971630   \n",
       "2016-01-15 03:00:00               2.037807               36.862241   \n",
       "2016-01-15 04:00:00               1.786875               34.347666   \n",
       "...                                    ...                     ...   \n",
       "2017-12-09 09:59:59               4.255546               37.480479   \n",
       "2017-12-09 10:59:59               4.241564               37.395565   \n",
       "2017-12-09 11:59:59               4.617558               37.369774   \n",
       "2017-12-09 12:59:59               4.144989               38.591551   \n",
       "2017-12-09 13:59:59               4.020002               40.074026   \n",
       "\n",
       "                     rougher.input.feed_rate  rougher.input.feed_size  \\\n",
       "date                                                                    \n",
       "2016-01-15 00:00:00               523.546326                55.486599   \n",
       "2016-01-15 01:00:00               525.290581                57.278666   \n",
       "2016-01-15 02:00:00               530.026610                57.510649   \n",
       "2016-01-15 03:00:00               542.590390                57.792734   \n",
       "2016-01-15 04:00:00               540.531893                56.047189   \n",
       "...                                      ...                      ...   \n",
       "2017-12-09 09:59:59               559.895089                85.247019   \n",
       "2017-12-09 10:59:59               561.464855                83.860651   \n",
       "2017-12-09 11:59:59               560.889077                85.718304   \n",
       "2017-12-09 12:59:59               559.031805               119.499241   \n",
       "2017-12-09 13:59:59               555.682872               122.262690   \n",
       "\n",
       "                     rougher.input.floatbank10_sulfate  \\\n",
       "date                                                     \n",
       "2016-01-15 00:00:00                          11.986616   \n",
       "2016-01-15 01:00:00                          11.971193   \n",
       "2016-01-15 02:00:00                          11.920603   \n",
       "2016-01-15 03:00:00                          11.630094   \n",
       "2016-01-15 04:00:00                          10.957755   \n",
       "...                                                ...   \n",
       "2017-12-09 09:59:59                           6.775864   \n",
       "2017-12-09 10:59:59                           6.770561   \n",
       "2017-12-09 11:59:59                           7.762770   \n",
       "2017-12-09 12:59:59                           7.356687   \n",
       "2017-12-09 13:59:59                           6.586020   \n",
       "\n",
       "                     rougher.input.floatbank10_xanthate  \\\n",
       "date                                                      \n",
       "2016-01-15 00:00:00                            6.007990   \n",
       "2016-01-15 01:00:00                            6.005766   \n",
       "2016-01-15 02:00:00                            6.197377   \n",
       "2016-01-15 03:00:00                            6.203177   \n",
       "2016-01-15 04:00:00                            6.198826   \n",
       "...                                                 ...   \n",
       "2017-12-09 09:59:59                            9.005425   \n",
       "2017-12-09 10:59:59                            9.000889   \n",
       "2017-12-09 11:59:59                            9.158609   \n",
       "2017-12-09 12:59:59                            9.304952   \n",
       "2017-12-09 13:59:59                            9.299606   \n",
       "\n",
       "                     rougher.state.floatbank10_a_air  \\\n",
       "date                                                   \n",
       "2016-01-15 00:00:00                       999.706909   \n",
       "2016-01-15 01:00:00                      1000.286398   \n",
       "2016-01-15 02:00:00                       999.719565   \n",
       "2016-01-15 03:00:00                       999.814770   \n",
       "2016-01-15 04:00:00                       999.678690   \n",
       "...                                              ...   \n",
       "2017-12-09 09:59:59                      1200.454685   \n",
       "2017-12-09 10:59:59                      1200.958146   \n",
       "2017-12-09 11:59:59                      1199.245914   \n",
       "2017-12-09 12:59:59                      1196.569267   \n",
       "2017-12-09 13:59:59                      1204.866639   \n",
       "\n",
       "                     rougher.state.floatbank10_a_level  ...  \\\n",
       "date                                                    ...   \n",
       "2016-01-15 00:00:00                        -404.066986  ...   \n",
       "2016-01-15 01:00:00                        -400.065196  ...   \n",
       "2016-01-15 02:00:00                        -400.074028  ...   \n",
       "2016-01-15 03:00:00                        -400.200179  ...   \n",
       "2016-01-15 04:00:00                        -399.752729  ...   \n",
       "...                                                ...  ...   \n",
       "2017-12-09 09:59:59                        -300.012582  ...   \n",
       "2017-12-09 10:59:59                        -300.013649  ...   \n",
       "2017-12-09 11:59:59                        -300.845518  ...   \n",
       "2017-12-09 12:59:59                        -299.512227  ...   \n",
       "2017-12-09 13:59:59                        -299.235675  ...   \n",
       "\n",
       "                     final.output.concentrate_sol  final.output.recovery  \\\n",
       "date                                                                       \n",
       "2016-01-15 00:00:00                      5.507324              70.541216   \n",
       "2016-01-15 01:00:00                      5.257781              69.266198   \n",
       "2016-01-15 02:00:00                      5.383759              68.116445   \n",
       "2016-01-15 03:00:00                      4.858634              68.347543   \n",
       "2016-01-15 04:00:00                      4.939416              66.927016   \n",
       "...                                           ...                    ...   \n",
       "2017-12-09 09:59:59                      7.053796              64.054699   \n",
       "2017-12-09 10:59:59                      6.929418              68.643324   \n",
       "2017-12-09 11:59:59                      6.803482              73.755150   \n",
       "2017-12-09 12:59:59                      6.862249              69.049291   \n",
       "2017-12-09 13:59:59                      6.886013              67.002189   \n",
       "\n",
       "                     final.output.tail_au  final.output.tail_ag  \\\n",
       "date                                                              \n",
       "2016-01-15 00:00:00              2.143149             10.411962   \n",
       "2016-01-15 01:00:00              2.224930             10.462676   \n",
       "2016-01-15 02:00:00              2.257889             10.507046   \n",
       "2016-01-15 03:00:00              2.146849             10.422762   \n",
       "2016-01-15 04:00:00              2.055292             10.360302   \n",
       "...                                   ...                   ...   \n",
       "2017-12-09 09:59:59              1.761994              8.578502   \n",
       "2017-12-09 10:59:59              1.567363              8.792890   \n",
       "2017-12-09 11:59:59              1.529220              8.769645   \n",
       "2017-12-09 12:59:59              1.612542              8.897321   \n",
       "2017-12-09 13:59:59              1.596616              8.529606   \n",
       "\n",
       "                     final.output.tail_pb  final.output.tail_sol  \\\n",
       "date                                                               \n",
       "2016-01-15 00:00:00              0.895447              16.904297   \n",
       "2016-01-15 01:00:00              0.927452              16.634514   \n",
       "2016-01-15 02:00:00              0.953716              16.208849   \n",
       "2016-01-15 03:00:00              0.883763              16.532835   \n",
       "2016-01-15 04:00:00              0.792826              16.525686   \n",
       "...                                   ...                    ...   \n",
       "2017-12-09 09:59:59              3.365823              10.603464   \n",
       "2017-12-09 10:59:59              3.120351              10.184715   \n",
       "2017-12-09 11:59:59              3.141541              10.403181   \n",
       "2017-12-09 12:59:59              3.130493              10.549470   \n",
       "2017-12-09 13:59:59              2.911418              11.115147   \n",
       "\n",
       "                     rougher.input.feed  rougher.output.concentrate  \\\n",
       "date                                                                  \n",
       "2016-01-15 00:00:00           51.680034                   66.424950   \n",
       "2016-01-15 01:00:00           50.659114                   67.012710   \n",
       "2016-01-15 02:00:00           50.609929                   66.103793   \n",
       "2016-01-15 03:00:00           51.061546                   65.752751   \n",
       "2016-01-15 04:00:00           47.859163                   65.908382   \n",
       "...                                 ...                         ...   \n",
       "2017-12-09 09:59:59           52.157631                   70.619923   \n",
       "2017-12-09 10:59:59           52.140053                   70.610025   \n",
       "2017-12-09 11:59:59           53.415050                   70.781325   \n",
       "2017-12-09 12:59:59           53.696482                   70.539603   \n",
       "2017-12-09 13:59:59           54.589604                   55.376330   \n",
       "\n",
       "                     primary_cleaner.output.concentrate  \\\n",
       "date                                                      \n",
       "2016-01-15 00:00:00                           72.640924   \n",
       "2016-01-15 01:00:00                           72.543485   \n",
       "2016-01-15 02:00:00                           72.095042   \n",
       "2016-01-15 03:00:00                           59.957723   \n",
       "2016-01-15 04:00:00                           71.321010   \n",
       "...                                                 ...   \n",
       "2017-12-09 09:59:59                           60.501479   \n",
       "2017-12-09 10:59:59                           59.432141   \n",
       "2017-12-09 11:59:59                           59.001692   \n",
       "2017-12-09 12:59:59                           59.703912   \n",
       "2017-12-09 13:59:59                           59.561096   \n",
       "\n",
       "                     final.output.concentrate  \n",
       "date                                           \n",
       "2016-01-15 00:00:00                 63.644396  \n",
       "2016-01-15 01:00:00                 63.957723  \n",
       "2016-01-15 02:00:00                 64.311180  \n",
       "2016-01-15 03:00:00                 63.573449  \n",
       "2016-01-15 04:00:00                 64.004667  \n",
       "...                                       ...  \n",
       "2017-12-09 09:59:59                 68.600349  \n",
       "2017-12-09 10:59:59                 68.504562  \n",
       "2017-12-09 11:59:59                 68.098589  \n",
       "2017-12-09 12:59:59                 68.274362  \n",
       "2017-12-09 13:59:59                 68.226068  \n",
       "\n",
       "[12095 rows x 90 columns]"
      ]
     },
     "execution_count": 30,
     "metadata": {},
     "output_type": "execute_result"
    }
   ],
   "source": [
    "function_1(df_train, CONCENTRATE)"
   ]
  },
  {
   "cell_type": "markdown",
   "metadata": {},
   "source": [
    "**Вывод**:\n",
    "- Исследовали суммарную концентрацию всех металлов на каждом этапе обработки;\n",
    "- В тренировочной выборке удалили строки, содержащие аномальные значения - **16,2%** от объема всей выборки."
   ]
  },
  {
   "cell_type": "markdown",
   "metadata": {},
   "source": [
    "## 3. Модель"
   ]
  },
  {
   "cell_type": "code",
   "execution_count": 31,
   "metadata": {},
   "outputs": [],
   "source": [
    "# Напишем функцию для расчета итоговой sMAPE\n",
    "def smape(target, prediction):\n",
    "    prediction_df = pd.DataFrame(prediction)\n",
    "    target_1 = np.array(target['rougher.output.recovery'])\n",
    "    prediction_1 = np.array(prediction_df.loc[:, 1])\n",
    "    target_2 = np.array(target['final.output.recovery'])\n",
    "    prediction_2 = np.array(prediction_df.loc[:, 0])\n",
    "    \n",
    "    count_1 = np.sum(2 * np.abs(target_1 - prediction_1) / (np.abs(target_1) + np.abs(prediction_1) + 1e-10))\n",
    "    smape_rougher = (count_1 / len(target_1)) * 100 \n",
    "   \n",
    "    count_2 =  np.sum(2 * np.abs(target_2 - prediction_2) / (np.abs(target_2) + np.abs(prediction_2) + 1e-10))\n",
    "    smape_final = (count_2 / len(target_2)) * 100 \n",
    "    grand_smape = 0.25 * smape_rougher + 0.75 * smape_final\n",
    "    return grand_smape"
   ]
  },
  {
   "cell_type": "code",
   "execution_count": 32,
   "metadata": {},
   "outputs": [],
   "source": [
    "# Функция для нахождения разницы в столбцах между двумя датасетами\n",
    "def fields_diff(first_df, second_df):\n",
    "    return set(first_df.columns.to_list()) - set(second_df.columns.to_list())"
   ]
  },
  {
   "cell_type": "code",
   "execution_count": 33,
   "metadata": {},
   "outputs": [
    {
     "name": "stdout",
     "output_type": "stream",
     "text": [
      "{'rougher.output.concentrate_ag', 'final.output.concentrate_au', 'primary_cleaner.output.concentrate_sol', 'rougher.output.concentrate_sol', 'final.output.tail_sol', 'primary_cleaner.output.tail_sol', 'rougher.output.concentrate', 'final.output.concentrate_ag', 'secondary_cleaner.output.tail_ag', 'final.output.concentrate_pb', 'rougher.output.tail_sol', 'rougher.input.feed', 'rougher.calculation.floatbank10_sulfate_to_au_feed', 'primary_cleaner.output.concentrate_au', 'final.output.tail_ag', 'primary_cleaner.output.concentrate_ag', 'rougher.output.concentrate_pb', 'secondary_cleaner.output.tail_au', 'final.output.concentrate_sol', 'rougher.output.tail_ag', 'rougher.output.concentrate_au', 'secondary_cleaner.output.tail_sol', 'final.output.tail_pb', 'primary_cleaner.output.tail_au', 'rougher.calculation.au_pb_ratio', 'primary_cleaner.output.tail_ag', 'primary_cleaner.output.tail_pb', 'rougher.calculation.floatbank11_sulfate_to_au_feed', 'secondary_cleaner.output.tail_pb', 'primary_cleaner.output.concentrate_pb', 'final.output.concentrate', 'rougher.calculation.sulfate_to_au_concentrate', 'primary_cleaner.output.concentrate', 'rougher.output.tail_pb', 'final.output.tail_au', 'rougher.output.tail_au'}\n",
      "set()\n",
      "set()\n"
     ]
    }
   ],
   "source": [
    "# Удалим ненужные столбцы\n",
    "missing_test_fields = fields_diff(df_train, df_test)\n",
    "print(missing_test_fields)\n",
    "df_train = df_train.drop(missing_test_fields, axis='columns')\n",
    "print(fields_diff(df_train, df_test))\n",
    "print(fields_diff(df_test, df_train))\n"
   ]
  },
  {
   "cell_type": "code",
   "execution_count": 34,
   "metadata": {},
   "outputs": [],
   "source": [
    "# Создаем scorer\n",
    "scorer = make_scorer(smape, greater_is_better=False)"
   ]
  },
  {
   "cell_type": "code",
   "execution_count": 35,
   "metadata": {},
   "outputs": [],
   "source": [
    "# Разделим датасеты на признаки и таргеты\n",
    "features_train = df_train.drop(TARGETS, axis=1)\n",
    "target_train = df_train[TARGETS]\n",
    "features_test = df_test.drop(TARGETS, axis=1)\n",
    "target_test = df_test[TARGETS]"
   ]
  },
  {
   "cell_type": "code",
   "execution_count": 36,
   "metadata": {},
   "outputs": [
    {
     "data": {
      "text/html": [
       "<div>\n",
       "<style scoped>\n",
       "    .dataframe tbody tr th:only-of-type {\n",
       "        vertical-align: middle;\n",
       "    }\n",
       "\n",
       "    .dataframe tbody tr th {\n",
       "        vertical-align: top;\n",
       "    }\n",
       "\n",
       "    .dataframe thead th {\n",
       "        text-align: right;\n",
       "    }\n",
       "</style>\n",
       "<table border=\"1\" class=\"dataframe\">\n",
       "  <thead>\n",
       "    <tr style=\"text-align: right;\">\n",
       "      <th></th>\n",
       "      <th>final.output.recovery</th>\n",
       "      <th>rougher.output.recovery</th>\n",
       "    </tr>\n",
       "    <tr>\n",
       "      <th>date</th>\n",
       "      <th></th>\n",
       "      <th></th>\n",
       "    </tr>\n",
       "  </thead>\n",
       "  <tbody>\n",
       "    <tr>\n",
       "      <th>2016-01-15 00:00:00</th>\n",
       "      <td>70.541216</td>\n",
       "      <td>87.107763</td>\n",
       "    </tr>\n",
       "    <tr>\n",
       "      <th>2016-01-15 01:00:00</th>\n",
       "      <td>69.266198</td>\n",
       "      <td>86.843261</td>\n",
       "    </tr>\n",
       "    <tr>\n",
       "      <th>2016-01-15 02:00:00</th>\n",
       "      <td>68.116445</td>\n",
       "      <td>86.842308</td>\n",
       "    </tr>\n",
       "    <tr>\n",
       "      <th>2016-01-15 03:00:00</th>\n",
       "      <td>68.347543</td>\n",
       "      <td>87.226430</td>\n",
       "    </tr>\n",
       "    <tr>\n",
       "      <th>2016-01-15 04:00:00</th>\n",
       "      <td>66.927016</td>\n",
       "      <td>86.688794</td>\n",
       "    </tr>\n",
       "    <tr>\n",
       "      <th>...</th>\n",
       "      <td>...</td>\n",
       "      <td>...</td>\n",
       "    </tr>\n",
       "    <tr>\n",
       "      <th>2017-12-09 09:59:59</th>\n",
       "      <td>64.054699</td>\n",
       "      <td>87.684717</td>\n",
       "    </tr>\n",
       "    <tr>\n",
       "      <th>2017-12-09 10:59:59</th>\n",
       "      <td>68.643324</td>\n",
       "      <td>90.677361</td>\n",
       "    </tr>\n",
       "    <tr>\n",
       "      <th>2017-12-09 11:59:59</th>\n",
       "      <td>73.755150</td>\n",
       "      <td>89.574376</td>\n",
       "    </tr>\n",
       "    <tr>\n",
       "      <th>2017-12-09 12:59:59</th>\n",
       "      <td>69.049291</td>\n",
       "      <td>87.724007</td>\n",
       "    </tr>\n",
       "    <tr>\n",
       "      <th>2017-12-09 13:59:59</th>\n",
       "      <td>67.002189</td>\n",
       "      <td>88.890579</td>\n",
       "    </tr>\n",
       "  </tbody>\n",
       "</table>\n",
       "<p>14579 rows × 2 columns</p>\n",
       "</div>"
      ],
      "text/plain": [
       "                     final.output.recovery  rougher.output.recovery\n",
       "date                                                               \n",
       "2016-01-15 00:00:00              70.541216                87.107763\n",
       "2016-01-15 01:00:00              69.266198                86.843261\n",
       "2016-01-15 02:00:00              68.116445                86.842308\n",
       "2016-01-15 03:00:00              68.347543                87.226430\n",
       "2016-01-15 04:00:00              66.927016                86.688794\n",
       "...                                    ...                      ...\n",
       "2017-12-09 09:59:59              64.054699                87.684717\n",
       "2017-12-09 10:59:59              68.643324                90.677361\n",
       "2017-12-09 11:59:59              73.755150                89.574376\n",
       "2017-12-09 12:59:59              69.049291                87.724007\n",
       "2017-12-09 13:59:59              67.002189                88.890579\n",
       "\n",
       "[14579 rows x 2 columns]"
      ]
     },
     "execution_count": 36,
     "metadata": {},
     "output_type": "execute_result"
    }
   ],
   "source": [
    "target_train"
   ]
  },
  {
   "cell_type": "code",
   "execution_count": 37,
   "metadata": {
    "scrolled": true
   },
   "outputs": [
    {
     "name": "stdout",
     "output_type": "stream",
     "text": [
      "Лучшее значение sMAPE для дерева решений: 11.66 при значениях гиперпараметров: {'max_depth': 3}\n"
     ]
    }
   ],
   "source": [
    "# Решающее дерево\n",
    "param_grid = {'max_depth': range(2, 15)}\n",
    "\n",
    "model_1 = DecisionTreeRegressor(random_state=RANDOM_STATE)\n",
    "search_1 = GridSearchCV(model_1, param_grid, cv=5, scoring=scorer)\n",
    "search_1.fit(features_train, target_train)\n",
    "print('Лучшее значение sMAPE для дерева решений: {} при значениях гиперпараметров: {}'.format(round(-search_1.best_score_, 2), search_1.best_params_))"
   ]
  },
  {
   "cell_type": "code",
   "execution_count": null,
   "metadata": {},
   "outputs": [],
   "source": [
    "# Случайный лес\n",
    "param_grid = {'n_estimators': range(10, 40, 5)}\n",
    "\n",
    "model_2 = RandomForestRegressor(max_depth=2, random_state=RANDOM_STATE)\n",
    "search_2 = GridSearchCV(model_2, param_grid, cv=5, scoring=scorer)\n",
    "search_2.fit(features_train, target_train)\n",
    "print('Лучшее значение sMAPE для случайного леса: {} при значениях гиперпараметров: {}'.format(round(-search_2.best_score_, 2), search_2.best_params_))"
   ]
  },
  {
   "cell_type": "code",
   "execution_count": null,
   "metadata": {},
   "outputs": [],
   "source": [
    "# Линейная регрессия \n",
    "model_3 = LinearRegression()\n",
    "search_3 = cross_val_score(model_3, features_train, target_train, cv=5, scoring=scorer)\n",
    "print('Значение sMAPE для линейной регрессии: {}'.format(round(pd.Series(-search_3).mean(), 2)))"
   ]
  },
  {
   "cell_type": "code",
   "execution_count": null,
   "metadata": {},
   "outputs": [],
   "source": [
    "# Проверка моделей на адекватность\n",
    "model_4 = DummyRegressor(strategy=\"mean\")\n",
    "model_4.fit(features_train, target_train)\n",
    "predictions_4 = model_4.predict(features_test)\n",
    "print('Итоговое sMAPE для DummyRegressor:', round(smape(\n",
    "    target_test, predictions_4).mean(), 2))"
   ]
  },
  {
   "cell_type": "code",
   "execution_count": null,
   "metadata": {},
   "outputs": [],
   "source": [
    "# Проверка лучшей модели на тестовой выборке\n",
    "predictions = search_2.predict(features_test)\n",
    "x = smape(target_test, predictions)\n",
    "print(round(x, 2))"
   ]
  },
  {
   "cell_type": "markdown",
   "metadata": {},
   "source": [
    "## 4. Общий вывод"
   ]
  },
  {
   "cell_type": "markdown",
   "metadata": {},
   "source": [
    "**Вывод:**\n",
    "- Загрузили и изучили данные;\n",
    "- Посчитали метрику `MAE` между расчетами и значениями признака `'rougher.output.recovery'` и сделали вывод;\n",
    "- Проанализировали признаки, которых нет в тестовой выборке: ими оказались целевые признаки или расчетные признаки;\n",
    "- Убедились в том, что дубликатов нет;\n",
    "- Заполнили пропуски предыдущими значениями из строки.\n",
    "- Обучили три модели: `Решающее дерево`, `Случайный лес`, `Линейная регрессия`.\n",
    "- Лучшее качество на тренировочных данных показала модель `Случайный лес` - `11.41`. На тестовых данных метрика `sMAPE` оказалась равна `7.98`."
   ]
  }
 ],
 "metadata": {
  "ExecuteTimeLog": [
   {
    "duration": 450,
    "start_time": "2022-11-17T19:30:30.807Z"
   },
   {
    "duration": 89,
    "start_time": "2022-11-17T19:30:31.259Z"
   },
   {
    "duration": 3142,
    "start_time": "2022-11-17T19:31:03.492Z"
   },
   {
    "duration": 24,
    "start_time": "2022-11-17T19:42:21.183Z"
   },
   {
    "duration": 30,
    "start_time": "2022-11-17T19:43:02.587Z"
   },
   {
    "duration": 22,
    "start_time": "2022-11-17T21:45:27.530Z"
   },
   {
    "duration": 13,
    "start_time": "2022-11-17T21:46:04.437Z"
   },
   {
    "duration": 17,
    "start_time": "2022-11-17T21:47:03.947Z"
   },
   {
    "duration": 365,
    "start_time": "2022-11-30T01:19:07.745Z"
   },
   {
    "duration": 2959,
    "start_time": "2022-11-30T01:19:08.168Z"
   },
   {
    "duration": 3,
    "start_time": "2022-11-30T01:19:12.037Z"
   },
   {
    "duration": 3,
    "start_time": "2022-11-30T01:19:40.219Z"
   },
   {
    "duration": 356,
    "start_time": "2022-11-30T01:19:55.359Z"
   },
   {
    "duration": 668,
    "start_time": "2022-11-30T01:19:55.716Z"
   },
   {
    "duration": 2,
    "start_time": "2022-11-30T01:19:56.386Z"
   },
   {
    "duration": 32,
    "start_time": "2022-11-30T01:19:56.390Z"
   },
   {
    "duration": 357,
    "start_time": "2022-11-30T01:20:07.386Z"
   },
   {
    "duration": 659,
    "start_time": "2022-11-30T01:20:07.745Z"
   },
   {
    "duration": 2,
    "start_time": "2022-11-30T01:20:08.406Z"
   },
   {
    "duration": 75,
    "start_time": "2022-11-30T01:22:45.983Z"
   },
   {
    "duration": 2,
    "start_time": "2022-11-30T01:23:04.042Z"
   },
   {
    "duration": 697,
    "start_time": "2022-11-30T01:23:04.575Z"
   },
   {
    "duration": 52,
    "start_time": "2022-11-30T01:23:05.275Z"
   },
   {
    "duration": 47,
    "start_time": "2022-11-30T01:23:19.475Z"
   },
   {
    "duration": 59,
    "start_time": "2022-11-30T01:23:40.893Z"
   },
   {
    "duration": 3,
    "start_time": "2022-11-30T01:23:49.782Z"
   },
   {
    "duration": 250,
    "start_time": "2022-11-30T01:24:28.318Z"
   },
   {
    "duration": 267,
    "start_time": "2022-11-30T01:24:49.025Z"
   },
   {
    "duration": 131,
    "start_time": "2022-11-30T01:25:19.631Z"
   },
   {
    "duration": 239,
    "start_time": "2022-11-30T01:25:37.043Z"
   },
   {
    "duration": 1002,
    "start_time": "2022-11-30T01:44:50.825Z"
   },
   {
    "duration": 3,
    "start_time": "2022-11-30T01:47:02.044Z"
   },
   {
    "duration": 105,
    "start_time": "2022-11-30T01:49:33.229Z"
   },
   {
    "duration": 3,
    "start_time": "2022-11-30T01:49:47.944Z"
   },
   {
    "duration": 3,
    "start_time": "2022-11-30T01:50:07.405Z"
   },
   {
    "duration": 671,
    "start_time": "2022-11-30T01:50:08.292Z"
   },
   {
    "duration": 3,
    "start_time": "2022-11-30T01:50:09.617Z"
   },
   {
    "duration": 226,
    "start_time": "2022-11-30T01:50:10.113Z"
   },
   {
    "duration": 133,
    "start_time": "2022-11-30T01:50:10.782Z"
   },
   {
    "duration": 256,
    "start_time": "2022-11-30T01:50:11.344Z"
   },
   {
    "duration": 3,
    "start_time": "2022-11-30T01:50:12.701Z"
   },
   {
    "duration": 9,
    "start_time": "2022-11-30T01:50:13.494Z"
   },
   {
    "duration": 5,
    "start_time": "2022-11-30T01:51:33.340Z"
   },
   {
    "duration": 8,
    "start_time": "2022-11-30T01:53:16.736Z"
   },
   {
    "duration": 4,
    "start_time": "2022-11-30T01:53:17.507Z"
   },
   {
    "duration": 8,
    "start_time": "2022-11-30T01:55:41.659Z"
   },
   {
    "duration": 7,
    "start_time": "2022-11-30T01:57:25.449Z"
   },
   {
    "duration": 7,
    "start_time": "2022-11-30T01:57:29.848Z"
   },
   {
    "duration": 5,
    "start_time": "2022-11-30T01:57:31.000Z"
   },
   {
    "duration": 48,
    "start_time": "2022-11-30T08:43:19.100Z"
   },
   {
    "duration": 1463,
    "start_time": "2022-11-30T08:43:25.100Z"
   },
   {
    "duration": 3160,
    "start_time": "2022-11-30T08:43:26.565Z"
   },
   {
    "duration": 3,
    "start_time": "2022-11-30T08:43:29.726Z"
   },
   {
    "duration": 239,
    "start_time": "2022-11-30T08:43:29.790Z"
   },
   {
    "duration": 135,
    "start_time": "2022-11-30T08:43:31.081Z"
   },
   {
    "duration": 250,
    "start_time": "2022-11-30T08:43:32.209Z"
   },
   {
    "duration": 4,
    "start_time": "2022-11-30T08:43:34.913Z"
   },
   {
    "duration": 9,
    "start_time": "2022-11-30T08:43:36.450Z"
   },
   {
    "duration": 8,
    "start_time": "2022-11-30T08:43:37.351Z"
   },
   {
    "duration": 5,
    "start_time": "2022-11-30T08:43:38.159Z"
   },
   {
    "duration": 4,
    "start_time": "2022-11-30T08:43:39.918Z"
   },
   {
    "duration": 5,
    "start_time": "2022-11-30T08:43:56.792Z"
   },
   {
    "duration": 3,
    "start_time": "2022-11-30T08:45:27.007Z"
   },
   {
    "duration": 5,
    "start_time": "2022-11-30T08:46:47.361Z"
   },
   {
    "duration": 4,
    "start_time": "2022-11-30T08:47:10.636Z"
   },
   {
    "duration": 4,
    "start_time": "2022-11-30T08:47:19.968Z"
   },
   {
    "duration": 3,
    "start_time": "2022-11-30T08:47:25.855Z"
   },
   {
    "duration": 5,
    "start_time": "2022-11-30T08:54:27.141Z"
   },
   {
    "duration": 71,
    "start_time": "2022-11-30T08:55:09.472Z"
   },
   {
    "duration": 5,
    "start_time": "2022-11-30T08:55:25.564Z"
   },
   {
    "duration": 15,
    "start_time": "2022-11-30T08:58:41.546Z"
   },
   {
    "duration": 8,
    "start_time": "2022-11-30T08:59:24.429Z"
   },
   {
    "duration": 7,
    "start_time": "2022-11-30T08:59:34.787Z"
   },
   {
    "duration": 7,
    "start_time": "2022-11-30T09:00:12.098Z"
   },
   {
    "duration": 10,
    "start_time": "2022-11-30T09:17:05.906Z"
   },
   {
    "duration": 128,
    "start_time": "2022-11-30T09:17:12.957Z"
   },
   {
    "duration": 112,
    "start_time": "2022-11-30T09:17:25.329Z"
   },
   {
    "duration": 106,
    "start_time": "2022-11-30T09:17:35.984Z"
   },
   {
    "duration": 107,
    "start_time": "2022-11-30T09:17:44.492Z"
   },
   {
    "duration": 19,
    "start_time": "2022-11-30T09:18:03.571Z"
   },
   {
    "duration": 83,
    "start_time": "2022-11-30T09:18:16.783Z"
   },
   {
    "duration": 18,
    "start_time": "2022-11-30T09:20:19.658Z"
   },
   {
    "duration": 104,
    "start_time": "2022-11-30T09:20:22.303Z"
   },
   {
    "duration": 101,
    "start_time": "2022-11-30T09:20:40.405Z"
   },
   {
    "duration": 10,
    "start_time": "2022-11-30T09:47:48.934Z"
   },
   {
    "duration": 11,
    "start_time": "2022-11-30T09:48:59.040Z"
   },
   {
    "duration": 11,
    "start_time": "2022-11-30T09:51:46.666Z"
   },
   {
    "duration": 59,
    "start_time": "2022-11-30T09:52:29.800Z"
   },
   {
    "duration": 4,
    "start_time": "2022-11-30T10:18:15.522Z"
   },
   {
    "duration": 3,
    "start_time": "2022-11-30T10:22:50.846Z"
   },
   {
    "duration": 1410,
    "start_time": "2022-11-30T10:22:59.561Z"
   },
   {
    "duration": 648,
    "start_time": "2022-11-30T10:23:00.973Z"
   },
   {
    "duration": 4,
    "start_time": "2022-11-30T10:23:01.623Z"
   },
   {
    "duration": 397,
    "start_time": "2022-11-30T10:23:01.629Z"
   },
   {
    "duration": 172,
    "start_time": "2022-11-30T10:23:02.027Z"
   },
   {
    "duration": 282,
    "start_time": "2022-11-30T10:23:02.201Z"
   },
   {
    "duration": 4,
    "start_time": "2022-11-30T10:23:02.485Z"
   },
   {
    "duration": 40,
    "start_time": "2022-11-30T10:23:02.490Z"
   },
   {
    "duration": 26,
    "start_time": "2022-11-30T10:23:02.532Z"
   },
   {
    "duration": 19,
    "start_time": "2022-11-30T10:23:02.561Z"
   },
   {
    "duration": 15,
    "start_time": "2022-11-30T10:23:02.582Z"
   },
   {
    "duration": 126,
    "start_time": "2022-11-30T10:23:02.599Z"
   },
   {
    "duration": 20,
    "start_time": "2022-11-30T10:23:02.726Z"
   },
   {
    "duration": 101,
    "start_time": "2022-11-30T10:23:02.748Z"
   },
   {
    "duration": 10,
    "start_time": "2022-11-30T10:23:02.851Z"
   },
   {
    "duration": 11,
    "start_time": "2022-11-30T11:26:36.030Z"
   },
   {
    "duration": 58,
    "start_time": "2022-11-30T11:31:37.916Z"
   },
   {
    "duration": 102,
    "start_time": "2022-11-30T11:33:51.993Z"
   },
   {
    "duration": 1279,
    "start_time": "2022-11-30T11:34:16.485Z"
   },
   {
    "duration": 638,
    "start_time": "2022-11-30T11:34:17.766Z"
   },
   {
    "duration": 3,
    "start_time": "2022-11-30T11:34:18.406Z"
   },
   {
    "duration": 266,
    "start_time": "2022-11-30T11:34:18.411Z"
   },
   {
    "duration": 164,
    "start_time": "2022-11-30T11:34:18.679Z"
   },
   {
    "duration": 309,
    "start_time": "2022-11-30T11:34:18.845Z"
   },
   {
    "duration": 4,
    "start_time": "2022-11-30T11:34:19.156Z"
   },
   {
    "duration": 24,
    "start_time": "2022-11-30T11:34:19.162Z"
   },
   {
    "duration": 30,
    "start_time": "2022-11-30T11:34:19.188Z"
   },
   {
    "duration": 24,
    "start_time": "2022-11-30T11:34:19.219Z"
   },
   {
    "duration": 18,
    "start_time": "2022-11-30T11:34:19.245Z"
   },
   {
    "duration": 128,
    "start_time": "2022-11-30T11:34:19.265Z"
   },
   {
    "duration": 23,
    "start_time": "2022-11-30T11:34:19.395Z"
   },
   {
    "duration": 101,
    "start_time": "2022-11-30T11:34:19.420Z"
   },
   {
    "duration": 12,
    "start_time": "2022-11-30T11:34:19.523Z"
   },
   {
    "duration": 123,
    "start_time": "2022-11-30T11:34:19.537Z"
   },
   {
    "duration": 4363,
    "start_time": "2022-11-30T11:34:31.203Z"
   },
   {
    "duration": 4717,
    "start_time": "2022-11-30T11:35:19.291Z"
   },
   {
    "duration": 4270,
    "start_time": "2022-11-30T11:47:44.854Z"
   },
   {
    "duration": 1590,
    "start_time": "2022-12-01T09:11:49.884Z"
   },
   {
    "duration": 2589,
    "start_time": "2022-12-01T09:11:51.475Z"
   },
   {
    "duration": 3,
    "start_time": "2022-12-01T09:11:54.066Z"
   },
   {
    "duration": 292,
    "start_time": "2022-12-01T09:11:54.071Z"
   },
   {
    "duration": 144,
    "start_time": "2022-12-01T09:11:54.365Z"
   },
   {
    "duration": 330,
    "start_time": "2022-12-01T09:11:54.511Z"
   },
   {
    "duration": 3,
    "start_time": "2022-12-01T09:11:54.843Z"
   },
   {
    "duration": 10,
    "start_time": "2022-12-01T09:11:54.848Z"
   },
   {
    "duration": 6,
    "start_time": "2022-12-01T09:11:54.859Z"
   },
   {
    "duration": 6,
    "start_time": "2022-12-01T09:11:54.866Z"
   },
   {
    "duration": 30,
    "start_time": "2022-12-01T09:11:54.873Z"
   },
   {
    "duration": 120,
    "start_time": "2022-12-01T09:11:54.905Z"
   },
   {
    "duration": 19,
    "start_time": "2022-12-01T09:11:55.026Z"
   },
   {
    "duration": 95,
    "start_time": "2022-12-01T09:11:55.047Z"
   },
   {
    "duration": 10,
    "start_time": "2022-12-01T09:11:55.143Z"
   },
   {
    "duration": 4245,
    "start_time": "2022-12-01T09:11:55.154Z"
   },
   {
    "duration": 6,
    "start_time": "2022-12-01T09:11:59.401Z"
   },
   {
    "duration": 10,
    "start_time": "2022-12-01T09:13:54.613Z"
   },
   {
    "duration": 9,
    "start_time": "2022-12-01T09:14:02.453Z"
   },
   {
    "duration": 7,
    "start_time": "2022-12-01T09:17:07.805Z"
   },
   {
    "duration": 8,
    "start_time": "2022-12-01T09:17:08.745Z"
   },
   {
    "duration": 8,
    "start_time": "2022-12-01T09:19:31.005Z"
   },
   {
    "duration": 8,
    "start_time": "2022-12-01T09:19:31.363Z"
   },
   {
    "duration": 190,
    "start_time": "2022-12-01T09:20:34.863Z"
   },
   {
    "duration": 124,
    "start_time": "2022-12-01T09:28:24.700Z"
   },
   {
    "duration": 13,
    "start_time": "2022-12-01T09:28:50.255Z"
   },
   {
    "duration": 190,
    "start_time": "2022-12-01T09:29:32.094Z"
   },
   {
    "duration": 7,
    "start_time": "2022-12-01T09:32:35.708Z"
   },
   {
    "duration": 9,
    "start_time": "2022-12-01T09:32:36.695Z"
   },
   {
    "duration": 196,
    "start_time": "2022-12-01T09:32:41.208Z"
   },
   {
    "duration": 7,
    "start_time": "2022-12-01T09:33:04.481Z"
   },
   {
    "duration": 7,
    "start_time": "2022-12-01T09:33:05.239Z"
   },
   {
    "duration": 348,
    "start_time": "2022-12-01T09:35:44.841Z"
   },
   {
    "duration": 823,
    "start_time": "2022-12-01T09:58:06.309Z"
   },
   {
    "duration": 66,
    "start_time": "2022-12-01T10:00:20.883Z"
   },
   {
    "duration": 30,
    "start_time": "2022-12-01T12:03:41.077Z"
   },
   {
    "duration": 44,
    "start_time": "2022-12-01T12:04:04.470Z"
   },
   {
    "duration": 37,
    "start_time": "2022-12-01T12:04:15.149Z"
   },
   {
    "duration": 42,
    "start_time": "2022-12-01T12:04:45.057Z"
   },
   {
    "duration": 3,
    "start_time": "2022-12-01T12:05:50.450Z"
   },
   {
    "duration": 257,
    "start_time": "2022-12-01T12:05:53.477Z"
   },
   {
    "duration": 3,
    "start_time": "2022-12-01T12:06:20.698Z"
   },
   {
    "duration": 236,
    "start_time": "2022-12-01T12:06:21.363Z"
   },
   {
    "duration": 1390,
    "start_time": "2022-12-01T12:06:27.553Z"
   },
   {
    "duration": 740,
    "start_time": "2022-12-01T12:06:28.945Z"
   },
   {
    "duration": 3,
    "start_time": "2022-12-01T12:06:29.687Z"
   },
   {
    "duration": 289,
    "start_time": "2022-12-01T12:06:29.697Z"
   },
   {
    "duration": 202,
    "start_time": "2022-12-01T12:06:29.999Z"
   },
   {
    "duration": 294,
    "start_time": "2022-12-01T12:06:30.203Z"
   },
   {
    "duration": 4,
    "start_time": "2022-12-01T12:06:30.499Z"
   },
   {
    "duration": 41,
    "start_time": "2022-12-01T12:06:30.505Z"
   },
   {
    "duration": 41,
    "start_time": "2022-12-01T12:06:30.547Z"
   },
   {
    "duration": 18,
    "start_time": "2022-12-01T12:06:30.590Z"
   },
   {
    "duration": 29,
    "start_time": "2022-12-01T12:06:30.610Z"
   },
   {
    "duration": 134,
    "start_time": "2022-12-01T12:06:30.641Z"
   },
   {
    "duration": 27,
    "start_time": "2022-12-01T12:06:30.777Z"
   },
   {
    "duration": 114,
    "start_time": "2022-12-01T12:06:30.807Z"
   },
   {
    "duration": 11,
    "start_time": "2022-12-01T12:06:30.923Z"
   },
   {
    "duration": 4724,
    "start_time": "2022-12-01T12:06:30.936Z"
   },
   {
    "duration": 8,
    "start_time": "2022-12-01T12:06:35.662Z"
   },
   {
    "duration": 38,
    "start_time": "2022-12-01T12:06:35.672Z"
   },
   {
    "duration": 192,
    "start_time": "2022-12-01T12:06:35.711Z"
   },
   {
    "duration": 986,
    "start_time": "2022-12-01T12:06:35.904Z"
   },
   {
    "duration": 31,
    "start_time": "2022-12-01T12:06:36.892Z"
   },
   {
    "duration": 44,
    "start_time": "2022-12-01T16:32:32.539Z"
   },
   {
    "duration": 8,
    "start_time": "2022-12-01T16:32:35.236Z"
   },
   {
    "duration": 1528,
    "start_time": "2022-12-01T16:32:42.331Z"
   },
   {
    "duration": 2923,
    "start_time": "2022-12-01T16:32:43.861Z"
   },
   {
    "duration": 3,
    "start_time": "2022-12-01T16:32:46.786Z"
   },
   {
    "duration": 295,
    "start_time": "2022-12-01T16:32:46.791Z"
   },
   {
    "duration": 174,
    "start_time": "2022-12-01T16:32:47.088Z"
   },
   {
    "duration": 295,
    "start_time": "2022-12-01T16:32:47.264Z"
   },
   {
    "duration": 3,
    "start_time": "2022-12-01T16:32:47.560Z"
   },
   {
    "duration": 11,
    "start_time": "2022-12-01T16:32:47.564Z"
   },
   {
    "duration": 23,
    "start_time": "2022-12-01T16:32:47.576Z"
   },
   {
    "duration": 5,
    "start_time": "2022-12-01T16:32:47.601Z"
   },
   {
    "duration": 11,
    "start_time": "2022-12-01T16:32:47.608Z"
   },
   {
    "duration": 140,
    "start_time": "2022-12-01T16:32:47.621Z"
   },
   {
    "duration": 21,
    "start_time": "2022-12-01T16:32:47.762Z"
   },
   {
    "duration": 114,
    "start_time": "2022-12-01T16:32:47.785Z"
   },
   {
    "duration": 13,
    "start_time": "2022-12-01T16:32:47.901Z"
   },
   {
    "duration": 5186,
    "start_time": "2022-12-01T16:32:47.918Z"
   },
   {
    "duration": 12,
    "start_time": "2022-12-01T16:32:53.106Z"
   },
   {
    "duration": 12,
    "start_time": "2022-12-01T16:32:53.120Z"
   },
   {
    "duration": 202,
    "start_time": "2022-12-01T16:32:53.133Z"
   },
   {
    "duration": 1075,
    "start_time": "2022-12-01T16:32:53.337Z"
   },
   {
    "duration": 29,
    "start_time": "2022-12-01T16:32:54.416Z"
   },
   {
    "duration": 15,
    "start_time": "2022-12-01T16:32:54.446Z"
   },
   {
    "duration": 42,
    "start_time": "2022-12-01T16:33:31.171Z"
   },
   {
    "duration": 2,
    "start_time": "2022-12-01T16:39:53.556Z"
   },
   {
    "duration": 951,
    "start_time": "2022-12-01T16:42:33.766Z"
   },
   {
    "duration": 844,
    "start_time": "2022-12-01T16:42:44.768Z"
   },
   {
    "duration": 122,
    "start_time": "2022-12-01T16:43:00.486Z"
   },
   {
    "duration": 3,
    "start_time": "2022-12-01T16:43:23.389Z"
   },
   {
    "duration": 144,
    "start_time": "2022-12-01T16:43:23.836Z"
   },
   {
    "duration": 4,
    "start_time": "2022-12-01T16:43:50.103Z"
   },
   {
    "duration": 150,
    "start_time": "2022-12-01T16:43:50.522Z"
   },
   {
    "duration": 4,
    "start_time": "2022-12-01T16:44:14.935Z"
   },
   {
    "duration": 206,
    "start_time": "2022-12-01T16:44:15.270Z"
   },
   {
    "duration": 3,
    "start_time": "2022-12-01T16:44:29.824Z"
   },
   {
    "duration": 201,
    "start_time": "2022-12-01T16:44:30.476Z"
   },
   {
    "duration": 101,
    "start_time": "2022-12-01T16:50:58.108Z"
   },
   {
    "duration": 102,
    "start_time": "2022-12-01T16:55:48.500Z"
   },
   {
    "duration": 111,
    "start_time": "2022-12-01T16:57:00.088Z"
   },
   {
    "duration": 228,
    "start_time": "2022-12-01T16:57:14.975Z"
   },
   {
    "duration": 297,
    "start_time": "2022-12-01T16:58:45.780Z"
   },
   {
    "duration": 133,
    "start_time": "2022-12-01T16:59:13.838Z"
   },
   {
    "duration": 125,
    "start_time": "2022-12-01T16:59:27.622Z"
   },
   {
    "duration": 139,
    "start_time": "2022-12-01T16:59:36.763Z"
   },
   {
    "duration": 4,
    "start_time": "2022-12-01T17:00:15.710Z"
   },
   {
    "duration": 166,
    "start_time": "2022-12-01T17:00:19.991Z"
   },
   {
    "duration": 115,
    "start_time": "2022-12-01T17:00:43.963Z"
   },
   {
    "duration": 116,
    "start_time": "2022-12-01T17:01:32.762Z"
   },
   {
    "duration": 9,
    "start_time": "2022-12-01T17:02:19.784Z"
   },
   {
    "duration": 9,
    "start_time": "2022-12-01T17:04:45.962Z"
   },
   {
    "duration": 1274,
    "start_time": "2022-12-01T17:05:35.795Z"
   },
   {
    "duration": 655,
    "start_time": "2022-12-01T17:05:37.071Z"
   },
   {
    "duration": 3,
    "start_time": "2022-12-01T17:05:37.728Z"
   },
   {
    "duration": 273,
    "start_time": "2022-12-01T17:05:37.733Z"
   },
   {
    "duration": 152,
    "start_time": "2022-12-01T17:05:38.008Z"
   },
   {
    "duration": 277,
    "start_time": "2022-12-01T17:05:38.162Z"
   },
   {
    "duration": 3,
    "start_time": "2022-12-01T17:05:38.441Z"
   },
   {
    "duration": 13,
    "start_time": "2022-12-01T17:05:38.446Z"
   },
   {
    "duration": 42,
    "start_time": "2022-12-01T17:05:38.461Z"
   },
   {
    "duration": 22,
    "start_time": "2022-12-01T17:05:38.505Z"
   },
   {
    "duration": 14,
    "start_time": "2022-12-01T17:05:38.529Z"
   },
   {
    "duration": 125,
    "start_time": "2022-12-01T17:05:38.545Z"
   },
   {
    "duration": 28,
    "start_time": "2022-12-01T17:05:38.671Z"
   },
   {
    "duration": 98,
    "start_time": "2022-12-01T17:05:38.701Z"
   },
   {
    "duration": 11,
    "start_time": "2022-12-01T17:05:38.801Z"
   },
   {
    "duration": 4484,
    "start_time": "2022-12-01T17:05:38.814Z"
   },
   {
    "duration": 9,
    "start_time": "2022-12-01T17:05:43.299Z"
   },
   {
    "duration": 19,
    "start_time": "2022-12-01T17:05:43.310Z"
   },
   {
    "duration": 226,
    "start_time": "2022-12-01T17:05:43.331Z"
   },
   {
    "duration": 1015,
    "start_time": "2022-12-01T17:05:43.558Z"
   },
   {
    "duration": 44,
    "start_time": "2022-12-01T17:05:44.574Z"
   },
   {
    "duration": 141,
    "start_time": "2022-12-01T17:05:44.620Z"
   },
   {
    "duration": 208,
    "start_time": "2022-12-01T17:07:11.969Z"
   },
   {
    "duration": 11,
    "start_time": "2022-12-01T17:09:36.197Z"
   },
   {
    "duration": 138,
    "start_time": "2022-12-01T17:09:58.894Z"
   },
   {
    "duration": 191,
    "start_time": "2022-12-01T17:10:18.114Z"
   },
   {
    "duration": 191,
    "start_time": "2022-12-01T17:10:23.588Z"
   },
   {
    "duration": 105,
    "start_time": "2022-12-01T17:11:02.397Z"
   },
   {
    "duration": 457,
    "start_time": "2022-12-01T17:13:30.317Z"
   },
   {
    "duration": 369,
    "start_time": "2022-12-01T17:13:39.483Z"
   },
   {
    "duration": 4,
    "start_time": "2022-12-01T17:19:06.375Z"
   },
   {
    "duration": 158,
    "start_time": "2022-12-01T17:19:30.112Z"
   },
   {
    "duration": 3,
    "start_time": "2022-12-01T17:20:08.038Z"
   },
   {
    "duration": 171,
    "start_time": "2022-12-01T17:20:08.707Z"
   },
   {
    "duration": 3,
    "start_time": "2022-12-01T17:20:33.915Z"
   },
   {
    "duration": 272,
    "start_time": "2022-12-01T17:20:36.680Z"
   },
   {
    "duration": 1349,
    "start_time": "2022-12-01T17:21:52.476Z"
   },
   {
    "duration": 724,
    "start_time": "2022-12-01T17:21:53.827Z"
   },
   {
    "duration": 4,
    "start_time": "2022-12-01T17:21:54.554Z"
   },
   {
    "duration": 337,
    "start_time": "2022-12-01T17:21:54.561Z"
   },
   {
    "duration": 176,
    "start_time": "2022-12-01T17:21:54.900Z"
   },
   {
    "duration": 286,
    "start_time": "2022-12-01T17:21:55.078Z"
   },
   {
    "duration": 4,
    "start_time": "2022-12-01T17:21:55.365Z"
   },
   {
    "duration": 12,
    "start_time": "2022-12-01T17:21:55.370Z"
   },
   {
    "duration": 23,
    "start_time": "2022-12-01T17:21:55.383Z"
   },
   {
    "duration": 7,
    "start_time": "2022-12-01T17:21:55.412Z"
   },
   {
    "duration": 10,
    "start_time": "2022-12-01T17:21:55.421Z"
   },
   {
    "duration": 120,
    "start_time": "2022-12-01T17:21:55.432Z"
   },
   {
    "duration": 26,
    "start_time": "2022-12-01T17:21:55.554Z"
   },
   {
    "duration": 128,
    "start_time": "2022-12-01T17:21:55.581Z"
   },
   {
    "duration": 11,
    "start_time": "2022-12-01T17:21:55.710Z"
   },
   {
    "duration": 4567,
    "start_time": "2022-12-01T17:21:55.722Z"
   },
   {
    "duration": 13,
    "start_time": "2022-12-01T17:22:00.292Z"
   },
   {
    "duration": 21,
    "start_time": "2022-12-01T17:22:00.309Z"
   },
   {
    "duration": 199,
    "start_time": "2022-12-01T17:22:00.331Z"
   },
   {
    "duration": 1090,
    "start_time": "2022-12-01T17:22:00.531Z"
   },
   {
    "duration": 32,
    "start_time": "2022-12-01T17:22:01.623Z"
   },
   {
    "duration": 6,
    "start_time": "2022-12-01T17:22:01.656Z"
   },
   {
    "duration": 325,
    "start_time": "2022-12-01T17:22:01.663Z"
   },
   {
    "duration": 315,
    "start_time": "2022-12-01T17:22:35.598Z"
   },
   {
    "duration": 4,
    "start_time": "2022-12-01T17:22:58.053Z"
   },
   {
    "duration": 311,
    "start_time": "2022-12-01T17:22:59.080Z"
   },
   {
    "duration": 383,
    "start_time": "2022-12-01T17:23:36.094Z"
   },
   {
    "duration": 327,
    "start_time": "2022-12-01T17:23:59.107Z"
   },
   {
    "duration": 278,
    "start_time": "2022-12-01T17:24:46.930Z"
   },
   {
    "duration": 3,
    "start_time": "2022-12-01T17:47:07.406Z"
   },
   {
    "duration": 123,
    "start_time": "2022-12-01T17:51:40.275Z"
   },
   {
    "duration": 60,
    "start_time": "2022-12-01T17:52:45.207Z"
   },
   {
    "duration": 15,
    "start_time": "2022-12-01T17:52:46.290Z"
   },
   {
    "duration": 4,
    "start_time": "2022-12-01T17:53:05.506Z"
   },
   {
    "duration": 752,
    "start_time": "2022-12-01T17:53:06.821Z"
   },
   {
    "duration": 3,
    "start_time": "2022-12-01T17:59:42.181Z"
   },
   {
    "duration": 248,
    "start_time": "2022-12-01T17:59:46.759Z"
   },
   {
    "duration": 3,
    "start_time": "2022-12-01T18:00:29.391Z"
   },
   {
    "duration": 108,
    "start_time": "2022-12-01T18:00:29.970Z"
   },
   {
    "duration": 4,
    "start_time": "2022-12-01T18:01:53.134Z"
   },
   {
    "duration": 108,
    "start_time": "2022-12-01T18:01:54.524Z"
   },
   {
    "duration": 4,
    "start_time": "2022-12-01T18:03:00.248Z"
   },
   {
    "duration": 264,
    "start_time": "2022-12-01T18:03:35.328Z"
   },
   {
    "duration": 4,
    "start_time": "2022-12-01T18:05:28.615Z"
   },
   {
    "duration": 82,
    "start_time": "2022-12-01T18:05:29.456Z"
   },
   {
    "duration": 3,
    "start_time": "2022-12-01T18:07:35.375Z"
   },
   {
    "duration": 795,
    "start_time": "2022-12-01T18:07:36.212Z"
   },
   {
    "duration": 4,
    "start_time": "2022-12-01T18:08:18.664Z"
   },
   {
    "duration": 116,
    "start_time": "2022-12-01T18:08:24.111Z"
   },
   {
    "duration": 1362,
    "start_time": "2022-12-01T18:08:40.750Z"
   },
   {
    "duration": 718,
    "start_time": "2022-12-01T18:08:42.114Z"
   },
   {
    "duration": 3,
    "start_time": "2022-12-01T18:08:42.834Z"
   },
   {
    "duration": 280,
    "start_time": "2022-12-01T18:08:42.839Z"
   },
   {
    "duration": 152,
    "start_time": "2022-12-01T18:08:43.121Z"
   },
   {
    "duration": 288,
    "start_time": "2022-12-01T18:08:43.275Z"
   },
   {
    "duration": 3,
    "start_time": "2022-12-01T18:08:43.564Z"
   },
   {
    "duration": 11,
    "start_time": "2022-12-01T18:08:43.568Z"
   },
   {
    "duration": 19,
    "start_time": "2022-12-01T18:08:43.580Z"
   },
   {
    "duration": 1303,
    "start_time": "2022-12-01T18:11:12.910Z"
   },
   {
    "duration": 735,
    "start_time": "2022-12-01T18:11:14.215Z"
   },
   {
    "duration": 3,
    "start_time": "2022-12-01T18:11:14.952Z"
   },
   {
    "duration": 288,
    "start_time": "2022-12-01T18:11:14.956Z"
   },
   {
    "duration": 153,
    "start_time": "2022-12-01T18:11:15.246Z"
   },
   {
    "duration": 282,
    "start_time": "2022-12-01T18:11:15.402Z"
   },
   {
    "duration": 10,
    "start_time": "2022-12-01T18:11:15.686Z"
   },
   {
    "duration": 22,
    "start_time": "2022-12-01T18:11:15.699Z"
   },
   {
    "duration": 6,
    "start_time": "2022-12-01T18:11:15.722Z"
   },
   {
    "duration": 6,
    "start_time": "2022-12-01T18:11:15.730Z"
   },
   {
    "duration": 9,
    "start_time": "2022-12-01T18:11:15.737Z"
   },
   {
    "duration": 129,
    "start_time": "2022-12-01T18:11:15.747Z"
   },
   {
    "duration": 30,
    "start_time": "2022-12-01T18:11:15.878Z"
   },
   {
    "duration": 113,
    "start_time": "2022-12-01T18:11:15.913Z"
   },
   {
    "duration": 10,
    "start_time": "2022-12-01T18:11:16.027Z"
   },
   {
    "duration": 4675,
    "start_time": "2022-12-01T18:11:16.039Z"
   },
   {
    "duration": 7,
    "start_time": "2022-12-01T18:11:20.715Z"
   },
   {
    "duration": 10,
    "start_time": "2022-12-01T18:11:20.723Z"
   },
   {
    "duration": 188,
    "start_time": "2022-12-01T18:25:56.692Z"
   },
   {
    "duration": 951,
    "start_time": "2022-12-01T18:25:59.798Z"
   },
   {
    "duration": 33,
    "start_time": "2022-12-01T18:26:02.099Z"
   },
   {
    "duration": 3,
    "start_time": "2022-12-01T18:26:03.228Z"
   },
   {
    "duration": 271,
    "start_time": "2022-12-01T18:26:03.529Z"
   },
   {
    "duration": 365,
    "start_time": "2022-12-01T18:26:04.493Z"
   },
   {
    "duration": 287,
    "start_time": "2022-12-01T18:26:05.264Z"
   },
   {
    "duration": 249,
    "start_time": "2022-12-01T18:26:06.055Z"
   },
   {
    "duration": 3,
    "start_time": "2022-12-01T18:26:06.921Z"
   },
   {
    "duration": 19,
    "start_time": "2022-12-01T18:26:07.656Z"
   },
   {
    "duration": 4,
    "start_time": "2022-12-01T18:26:14.835Z"
   },
   {
    "duration": 23,
    "start_time": "2022-12-01T18:26:15.952Z"
   },
   {
    "duration": 5,
    "start_time": "2022-12-01T18:38:45.286Z"
   },
   {
    "duration": 57,
    "start_time": "2022-12-01T18:38:45.480Z"
   },
   {
    "duration": 1511,
    "start_time": "2022-12-03T07:18:31.630Z"
   },
   {
    "duration": 1989,
    "start_time": "2022-12-03T07:18:33.143Z"
   },
   {
    "duration": 4,
    "start_time": "2022-12-03T07:18:35.133Z"
   },
   {
    "duration": 288,
    "start_time": "2022-12-03T07:18:35.139Z"
   },
   {
    "duration": 163,
    "start_time": "2022-12-03T07:18:35.428Z"
   },
   {
    "duration": 326,
    "start_time": "2022-12-03T07:18:35.593Z"
   },
   {
    "duration": 3,
    "start_time": "2022-12-03T07:18:35.922Z"
   },
   {
    "duration": 20,
    "start_time": "2022-12-03T07:18:35.927Z"
   },
   {
    "duration": 7,
    "start_time": "2022-12-03T07:18:35.948Z"
   },
   {
    "duration": 7,
    "start_time": "2022-12-03T07:18:35.957Z"
   },
   {
    "duration": 10,
    "start_time": "2022-12-03T07:18:35.965Z"
   },
   {
    "duration": 139,
    "start_time": "2022-12-03T07:18:35.977Z"
   },
   {
    "duration": 20,
    "start_time": "2022-12-03T07:18:36.118Z"
   },
   {
    "duration": 101,
    "start_time": "2022-12-03T07:18:36.141Z"
   },
   {
    "duration": 10,
    "start_time": "2022-12-03T07:18:36.243Z"
   },
   {
    "duration": 4766,
    "start_time": "2022-12-03T07:18:36.255Z"
   },
   {
    "duration": 9,
    "start_time": "2022-12-03T07:18:41.022Z"
   },
   {
    "duration": 13,
    "start_time": "2022-12-03T07:18:41.032Z"
   },
   {
    "duration": 225,
    "start_time": "2022-12-03T07:18:41.047Z"
   },
   {
    "duration": 1112,
    "start_time": "2022-12-03T07:18:41.274Z"
   },
   {
    "duration": 42,
    "start_time": "2022-12-03T07:18:42.387Z"
   },
   {
    "duration": 4,
    "start_time": "2022-12-03T07:18:42.430Z"
   },
   {
    "duration": 375,
    "start_time": "2022-12-03T07:18:42.435Z"
   },
   {
    "duration": 323,
    "start_time": "2022-12-03T07:18:42.812Z"
   },
   {
    "duration": 358,
    "start_time": "2022-12-03T07:18:43.137Z"
   },
   {
    "duration": 437,
    "start_time": "2022-12-03T07:18:43.497Z"
   },
   {
    "duration": 3,
    "start_time": "2022-12-03T07:18:43.936Z"
   },
   {
    "duration": 62,
    "start_time": "2022-12-03T07:18:43.941Z"
   },
   {
    "duration": 3,
    "start_time": "2022-12-03T07:18:44.005Z"
   },
   {
    "duration": 39,
    "start_time": "2022-12-03T07:24:32.707Z"
   },
   {
    "duration": 40,
    "start_time": "2022-12-03T07:24:41.867Z"
   },
   {
    "duration": 114,
    "start_time": "2022-12-03T07:59:53.038Z"
   },
   {
    "duration": 8,
    "start_time": "2022-12-03T08:00:12.887Z"
   },
   {
    "duration": 17,
    "start_time": "2022-12-03T08:02:22.972Z"
   },
   {
    "duration": 1379,
    "start_time": "2022-12-03T08:11:43.210Z"
   },
   {
    "duration": 648,
    "start_time": "2022-12-03T08:11:44.592Z"
   },
   {
    "duration": 4,
    "start_time": "2022-12-03T08:11:45.242Z"
   },
   {
    "duration": 290,
    "start_time": "2022-12-03T08:11:45.247Z"
   },
   {
    "duration": 167,
    "start_time": "2022-12-03T08:11:45.539Z"
   },
   {
    "duration": 303,
    "start_time": "2022-12-03T08:11:45.707Z"
   },
   {
    "duration": 10,
    "start_time": "2022-12-03T08:11:46.012Z"
   },
   {
    "duration": 20,
    "start_time": "2022-12-03T08:11:46.023Z"
   },
   {
    "duration": 7,
    "start_time": "2022-12-03T08:11:46.044Z"
   },
   {
    "duration": 14,
    "start_time": "2022-12-03T08:11:46.053Z"
   },
   {
    "duration": 17,
    "start_time": "2022-12-03T08:11:46.068Z"
   },
   {
    "duration": 119,
    "start_time": "2022-12-03T08:11:46.087Z"
   },
   {
    "duration": 25,
    "start_time": "2022-12-03T08:11:46.208Z"
   },
   {
    "duration": 101,
    "start_time": "2022-12-03T08:11:46.235Z"
   },
   {
    "duration": 117,
    "start_time": "2022-12-03T08:11:46.338Z"
   },
   {
    "duration": 0,
    "start_time": "2022-12-03T08:11:46.457Z"
   },
   {
    "duration": 0,
    "start_time": "2022-12-03T08:11:46.458Z"
   },
   {
    "duration": 0,
    "start_time": "2022-12-03T08:11:46.460Z"
   },
   {
    "duration": 0,
    "start_time": "2022-12-03T08:11:46.461Z"
   },
   {
    "duration": 0,
    "start_time": "2022-12-03T08:11:46.462Z"
   },
   {
    "duration": 0,
    "start_time": "2022-12-03T08:11:46.463Z"
   },
   {
    "duration": 0,
    "start_time": "2022-12-03T08:11:46.464Z"
   },
   {
    "duration": 0,
    "start_time": "2022-12-03T08:11:46.465Z"
   },
   {
    "duration": 0,
    "start_time": "2022-12-03T08:11:46.466Z"
   },
   {
    "duration": 0,
    "start_time": "2022-12-03T08:11:46.467Z"
   },
   {
    "duration": 0,
    "start_time": "2022-12-03T08:11:46.468Z"
   },
   {
    "duration": 0,
    "start_time": "2022-12-03T08:11:46.469Z"
   },
   {
    "duration": 0,
    "start_time": "2022-12-03T08:11:46.470Z"
   },
   {
    "duration": 0,
    "start_time": "2022-12-03T08:11:46.471Z"
   },
   {
    "duration": 0,
    "start_time": "2022-12-03T08:11:46.472Z"
   },
   {
    "duration": 0,
    "start_time": "2022-12-03T08:11:46.473Z"
   },
   {
    "duration": 1281,
    "start_time": "2022-12-03T08:12:06.570Z"
   },
   {
    "duration": 642,
    "start_time": "2022-12-03T08:12:07.853Z"
   },
   {
    "duration": 4,
    "start_time": "2022-12-03T08:12:08.496Z"
   },
   {
    "duration": 276,
    "start_time": "2022-12-03T08:12:08.501Z"
   },
   {
    "duration": 166,
    "start_time": "2022-12-03T08:12:08.779Z"
   },
   {
    "duration": 301,
    "start_time": "2022-12-03T08:12:08.947Z"
   },
   {
    "duration": 4,
    "start_time": "2022-12-03T08:12:09.249Z"
   },
   {
    "duration": 16,
    "start_time": "2022-12-03T08:12:09.255Z"
   },
   {
    "duration": 7,
    "start_time": "2022-12-03T08:12:09.273Z"
   },
   {
    "duration": 5,
    "start_time": "2022-12-03T08:12:09.284Z"
   },
   {
    "duration": 32,
    "start_time": "2022-12-03T08:12:09.291Z"
   },
   {
    "duration": 117,
    "start_time": "2022-12-03T08:12:09.325Z"
   },
   {
    "duration": 21,
    "start_time": "2022-12-03T08:12:09.443Z"
   },
   {
    "duration": 108,
    "start_time": "2022-12-03T08:12:09.465Z"
   },
   {
    "duration": 121,
    "start_time": "2022-12-03T08:12:09.575Z"
   },
   {
    "duration": 0,
    "start_time": "2022-12-03T08:12:09.697Z"
   },
   {
    "duration": 0,
    "start_time": "2022-12-03T08:12:09.699Z"
   },
   {
    "duration": 0,
    "start_time": "2022-12-03T08:12:09.700Z"
   },
   {
    "duration": 0,
    "start_time": "2022-12-03T08:12:09.701Z"
   },
   {
    "duration": 0,
    "start_time": "2022-12-03T08:12:09.703Z"
   },
   {
    "duration": 0,
    "start_time": "2022-12-03T08:12:09.704Z"
   },
   {
    "duration": 0,
    "start_time": "2022-12-03T08:12:09.705Z"
   },
   {
    "duration": 0,
    "start_time": "2022-12-03T08:12:09.707Z"
   },
   {
    "duration": 0,
    "start_time": "2022-12-03T08:12:09.722Z"
   },
   {
    "duration": 0,
    "start_time": "2022-12-03T08:12:09.724Z"
   },
   {
    "duration": 0,
    "start_time": "2022-12-03T08:12:09.725Z"
   },
   {
    "duration": 0,
    "start_time": "2022-12-03T08:12:09.726Z"
   },
   {
    "duration": 0,
    "start_time": "2022-12-03T08:12:09.728Z"
   },
   {
    "duration": 0,
    "start_time": "2022-12-03T08:12:09.729Z"
   },
   {
    "duration": 0,
    "start_time": "2022-12-03T08:12:09.730Z"
   },
   {
    "duration": 0,
    "start_time": "2022-12-03T08:12:09.731Z"
   },
   {
    "duration": 17,
    "start_time": "2022-12-03T08:14:03.475Z"
   },
   {
    "duration": 4,
    "start_time": "2022-12-03T08:15:51.473Z"
   },
   {
    "duration": 697,
    "start_time": "2022-12-03T08:15:52.244Z"
   },
   {
    "duration": 4,
    "start_time": "2022-12-03T08:15:53.190Z"
   },
   {
    "duration": 247,
    "start_time": "2022-12-03T08:15:54.754Z"
   },
   {
    "duration": 162,
    "start_time": "2022-12-03T08:15:56.618Z"
   },
   {
    "duration": 303,
    "start_time": "2022-12-03T08:15:58.046Z"
   },
   {
    "duration": 3,
    "start_time": "2022-12-03T08:16:01.770Z"
   },
   {
    "duration": 9,
    "start_time": "2022-12-03T08:16:03.235Z"
   },
   {
    "duration": 7,
    "start_time": "2022-12-03T08:16:05.260Z"
   },
   {
    "duration": 5,
    "start_time": "2022-12-03T08:16:06.290Z"
   },
   {
    "duration": 7,
    "start_time": "2022-12-03T08:16:08.138Z"
   },
   {
    "duration": 118,
    "start_time": "2022-12-03T08:16:09.923Z"
   },
   {
    "duration": 22,
    "start_time": "2022-12-03T08:16:10.572Z"
   },
   {
    "duration": 88,
    "start_time": "2022-12-03T08:16:11.209Z"
   },
   {
    "duration": 17,
    "start_time": "2022-12-03T08:16:12.280Z"
   },
   {
    "duration": 15,
    "start_time": "2022-12-03T08:17:32.333Z"
   },
   {
    "duration": 23,
    "start_time": "2022-12-03T08:19:18.049Z"
   },
   {
    "duration": 16,
    "start_time": "2022-12-03T08:24:52.791Z"
   },
   {
    "duration": 16,
    "start_time": "2022-12-03T08:35:51.721Z"
   },
   {
    "duration": 1354,
    "start_time": "2022-12-03T08:36:48.161Z"
   },
   {
    "duration": 686,
    "start_time": "2022-12-03T08:36:49.517Z"
   },
   {
    "duration": 3,
    "start_time": "2022-12-03T08:36:50.205Z"
   },
   {
    "duration": 293,
    "start_time": "2022-12-03T08:36:50.210Z"
   },
   {
    "duration": 180,
    "start_time": "2022-12-03T08:36:50.505Z"
   },
   {
    "duration": 304,
    "start_time": "2022-12-03T08:36:50.687Z"
   },
   {
    "duration": 4,
    "start_time": "2022-12-03T08:36:50.992Z"
   },
   {
    "duration": 25,
    "start_time": "2022-12-03T08:36:50.997Z"
   },
   {
    "duration": 10,
    "start_time": "2022-12-03T08:36:51.023Z"
   },
   {
    "duration": 6,
    "start_time": "2022-12-03T08:36:51.035Z"
   },
   {
    "duration": 12,
    "start_time": "2022-12-03T08:36:51.043Z"
   },
   {
    "duration": 135,
    "start_time": "2022-12-03T08:36:51.057Z"
   },
   {
    "duration": 29,
    "start_time": "2022-12-03T08:36:51.193Z"
   },
   {
    "duration": 90,
    "start_time": "2022-12-03T08:36:51.224Z"
   },
   {
    "duration": 11,
    "start_time": "2022-12-03T08:36:51.322Z"
   },
   {
    "duration": 11,
    "start_time": "2022-12-03T08:36:51.334Z"
   },
   {
    "duration": 4988,
    "start_time": "2022-12-03T08:36:51.347Z"
   },
   {
    "duration": 7,
    "start_time": "2022-12-03T08:36:56.337Z"
   },
   {
    "duration": 15,
    "start_time": "2022-12-03T08:36:56.346Z"
   },
   {
    "duration": 223,
    "start_time": "2022-12-03T08:36:56.363Z"
   },
   {
    "duration": 1134,
    "start_time": "2022-12-03T08:36:56.588Z"
   },
   {
    "duration": 33,
    "start_time": "2022-12-03T08:36:57.723Z"
   },
   {
    "duration": 4,
    "start_time": "2022-12-03T08:36:57.758Z"
   },
   {
    "duration": 337,
    "start_time": "2022-12-03T08:36:57.765Z"
   },
   {
    "duration": 307,
    "start_time": "2022-12-03T08:36:58.104Z"
   },
   {
    "duration": 340,
    "start_time": "2022-12-03T08:36:58.413Z"
   },
   {
    "duration": 446,
    "start_time": "2022-12-03T08:36:58.755Z"
   },
   {
    "duration": 4,
    "start_time": "2022-12-03T08:36:59.204Z"
   },
   {
    "duration": 64,
    "start_time": "2022-12-03T08:36:59.209Z"
   },
   {
    "duration": 5,
    "start_time": "2022-12-03T08:36:59.275Z"
   },
   {
    "duration": 17,
    "start_time": "2022-12-03T08:36:59.282Z"
   },
   {
    "duration": 111,
    "start_time": "2022-12-03T08:38:38.627Z"
   },
   {
    "duration": 25,
    "start_time": "2022-12-03T08:39:00.030Z"
   },
   {
    "duration": 1421,
    "start_time": "2022-12-03T08:39:18.339Z"
   },
   {
    "duration": 715,
    "start_time": "2022-12-03T08:39:19.762Z"
   },
   {
    "duration": 4,
    "start_time": "2022-12-03T08:39:20.480Z"
   },
   {
    "duration": 291,
    "start_time": "2022-12-03T08:39:20.486Z"
   },
   {
    "duration": 165,
    "start_time": "2022-12-03T08:39:20.778Z"
   },
   {
    "duration": 295,
    "start_time": "2022-12-03T08:39:20.945Z"
   },
   {
    "duration": 3,
    "start_time": "2022-12-03T08:39:21.242Z"
   },
   {
    "duration": 15,
    "start_time": "2022-12-03T08:39:21.247Z"
   },
   {
    "duration": 7,
    "start_time": "2022-12-03T08:39:21.264Z"
   },
   {
    "duration": 7,
    "start_time": "2022-12-03T08:39:21.272Z"
   },
   {
    "duration": 11,
    "start_time": "2022-12-03T08:39:21.280Z"
   },
   {
    "duration": 117,
    "start_time": "2022-12-03T08:39:21.322Z"
   },
   {
    "duration": 21,
    "start_time": "2022-12-03T08:39:21.443Z"
   },
   {
    "duration": 109,
    "start_time": "2022-12-03T08:39:21.466Z"
   },
   {
    "duration": 22,
    "start_time": "2022-12-03T08:39:21.577Z"
   },
   {
    "duration": 28,
    "start_time": "2022-12-03T08:39:21.600Z"
   },
   {
    "duration": 4931,
    "start_time": "2022-12-03T08:39:21.630Z"
   },
   {
    "duration": 7,
    "start_time": "2022-12-03T08:39:26.563Z"
   },
   {
    "duration": 16,
    "start_time": "2022-12-03T08:39:26.572Z"
   },
   {
    "duration": 232,
    "start_time": "2022-12-03T08:39:26.590Z"
   },
   {
    "duration": 1120,
    "start_time": "2022-12-03T08:39:26.824Z"
   },
   {
    "duration": 39,
    "start_time": "2022-12-03T08:39:27.946Z"
   },
   {
    "duration": 4,
    "start_time": "2022-12-03T08:39:27.987Z"
   },
   {
    "duration": 347,
    "start_time": "2022-12-03T08:39:27.992Z"
   },
   {
    "duration": 302,
    "start_time": "2022-12-03T08:39:28.341Z"
   },
   {
    "duration": 387,
    "start_time": "2022-12-03T08:39:28.645Z"
   },
   {
    "duration": 482,
    "start_time": "2022-12-03T08:39:29.034Z"
   },
   {
    "duration": 4,
    "start_time": "2022-12-03T08:39:29.522Z"
   },
   {
    "duration": 56,
    "start_time": "2022-12-03T08:39:29.528Z"
   },
   {
    "duration": 6,
    "start_time": "2022-12-03T08:39:29.585Z"
   },
   {
    "duration": 32,
    "start_time": "2022-12-03T08:39:29.592Z"
   },
   {
    "duration": 125,
    "start_time": "2022-12-03T08:41:14.546Z"
   },
   {
    "duration": 11,
    "start_time": "2022-12-03T08:41:40.231Z"
   },
   {
    "duration": 13,
    "start_time": "2022-12-03T08:41:43.604Z"
   },
   {
    "duration": 18,
    "start_time": "2022-12-03T08:42:00.660Z"
   },
   {
    "duration": 1427,
    "start_time": "2022-12-03T08:42:14.337Z"
   },
   {
    "duration": 723,
    "start_time": "2022-12-03T08:42:15.766Z"
   },
   {
    "duration": 4,
    "start_time": "2022-12-03T08:42:16.491Z"
   },
   {
    "duration": 286,
    "start_time": "2022-12-03T08:42:16.497Z"
   },
   {
    "duration": 176,
    "start_time": "2022-12-03T08:42:16.784Z"
   },
   {
    "duration": 294,
    "start_time": "2022-12-03T08:42:16.961Z"
   },
   {
    "duration": 4,
    "start_time": "2022-12-03T08:42:17.257Z"
   },
   {
    "duration": 17,
    "start_time": "2022-12-03T08:42:17.262Z"
   },
   {
    "duration": 8,
    "start_time": "2022-12-03T08:42:17.281Z"
   },
   {
    "duration": 6,
    "start_time": "2022-12-03T08:42:17.292Z"
   },
   {
    "duration": 30,
    "start_time": "2022-12-03T08:42:17.300Z"
   },
   {
    "duration": 135,
    "start_time": "2022-12-03T08:42:17.332Z"
   },
   {
    "duration": 21,
    "start_time": "2022-12-03T08:42:17.469Z"
   },
   {
    "duration": 102,
    "start_time": "2022-12-03T08:42:17.492Z"
   },
   {
    "duration": 11,
    "start_time": "2022-12-03T08:42:17.596Z"
   },
   {
    "duration": 27,
    "start_time": "2022-12-03T08:42:17.609Z"
   },
   {
    "duration": 19,
    "start_time": "2022-12-03T08:42:17.639Z"
   },
   {
    "duration": 4854,
    "start_time": "2022-12-03T08:42:17.660Z"
   },
   {
    "duration": 11,
    "start_time": "2022-12-03T08:42:22.516Z"
   },
   {
    "duration": 8,
    "start_time": "2022-12-03T08:42:22.528Z"
   },
   {
    "duration": 222,
    "start_time": "2022-12-03T08:42:22.538Z"
   },
   {
    "duration": 1121,
    "start_time": "2022-12-03T08:42:22.763Z"
   },
   {
    "duration": 46,
    "start_time": "2022-12-03T08:42:23.886Z"
   },
   {
    "duration": 4,
    "start_time": "2022-12-03T08:42:23.934Z"
   },
   {
    "duration": 407,
    "start_time": "2022-12-03T08:42:23.940Z"
   },
   {
    "duration": 288,
    "start_time": "2022-12-03T08:42:24.348Z"
   },
   {
    "duration": 337,
    "start_time": "2022-12-03T08:42:24.638Z"
   },
   {
    "duration": 473,
    "start_time": "2022-12-03T08:42:24.978Z"
   },
   {
    "duration": 4,
    "start_time": "2022-12-03T08:42:25.453Z"
   },
   {
    "duration": 95,
    "start_time": "2022-12-03T08:42:25.459Z"
   },
   {
    "duration": 5,
    "start_time": "2022-12-03T08:42:25.555Z"
   },
   {
    "duration": 27,
    "start_time": "2022-12-03T08:42:25.562Z"
   },
   {
    "duration": 5,
    "start_time": "2022-12-03T08:45:39.522Z"
   },
   {
    "duration": 156,
    "start_time": "2022-12-03T08:45:58.202Z"
   },
   {
    "duration": 1351,
    "start_time": "2022-12-03T08:46:37.571Z"
   },
   {
    "duration": 709,
    "start_time": "2022-12-03T08:46:38.924Z"
   },
   {
    "duration": 6,
    "start_time": "2022-12-03T08:46:39.635Z"
   },
   {
    "duration": 297,
    "start_time": "2022-12-03T08:46:39.644Z"
   },
   {
    "duration": 173,
    "start_time": "2022-12-03T08:46:39.943Z"
   },
   {
    "duration": 290,
    "start_time": "2022-12-03T08:46:40.122Z"
   },
   {
    "duration": 11,
    "start_time": "2022-12-03T08:46:40.414Z"
   },
   {
    "duration": 15,
    "start_time": "2022-12-03T08:46:40.427Z"
   },
   {
    "duration": 9,
    "start_time": "2022-12-03T08:46:40.443Z"
   },
   {
    "duration": 7,
    "start_time": "2022-12-03T08:46:40.455Z"
   },
   {
    "duration": 13,
    "start_time": "2022-12-03T08:46:40.464Z"
   },
   {
    "duration": 162,
    "start_time": "2022-12-03T08:46:40.479Z"
   },
   {
    "duration": 21,
    "start_time": "2022-12-03T08:46:40.642Z"
   },
   {
    "duration": 105,
    "start_time": "2022-12-03T08:46:40.664Z"
   },
   {
    "duration": 11,
    "start_time": "2022-12-03T08:46:40.771Z"
   },
   {
    "duration": 14,
    "start_time": "2022-12-03T08:46:40.783Z"
   },
   {
    "duration": 33,
    "start_time": "2022-12-03T08:46:40.799Z"
   },
   {
    "duration": 5108,
    "start_time": "2022-12-03T08:46:40.834Z"
   },
   {
    "duration": 9,
    "start_time": "2022-12-03T08:46:45.944Z"
   },
   {
    "duration": 22,
    "start_time": "2022-12-03T08:46:45.955Z"
   },
   {
    "duration": 229,
    "start_time": "2022-12-03T08:46:45.979Z"
   },
   {
    "duration": 1118,
    "start_time": "2022-12-03T08:46:46.210Z"
   },
   {
    "duration": 33,
    "start_time": "2022-12-03T08:46:47.331Z"
   },
   {
    "duration": 4,
    "start_time": "2022-12-03T08:46:47.366Z"
   },
   {
    "duration": 369,
    "start_time": "2022-12-03T08:46:47.373Z"
   },
   {
    "duration": 318,
    "start_time": "2022-12-03T08:46:47.744Z"
   },
   {
    "duration": 359,
    "start_time": "2022-12-03T08:46:48.065Z"
   },
   {
    "duration": 463,
    "start_time": "2022-12-03T08:46:48.429Z"
   },
   {
    "duration": 5,
    "start_time": "2022-12-03T08:46:48.894Z"
   },
   {
    "duration": 72,
    "start_time": "2022-12-03T08:46:48.900Z"
   },
   {
    "duration": 6,
    "start_time": "2022-12-03T08:46:48.973Z"
   },
   {
    "duration": 18,
    "start_time": "2022-12-03T08:46:48.981Z"
   },
   {
    "duration": 27832,
    "start_time": "2022-12-03T08:46:49.001Z"
   },
   {
    "duration": 119,
    "start_time": "2022-12-03T08:53:18.924Z"
   },
   {
    "duration": 4,
    "start_time": "2022-12-03T08:53:22.756Z"
   },
   {
    "duration": 28666,
    "start_time": "2022-12-03T08:53:23.411Z"
   },
   {
    "duration": 1441,
    "start_time": "2022-12-03T08:55:08.725Z"
   },
   {
    "duration": 706,
    "start_time": "2022-12-03T08:55:10.168Z"
   },
   {
    "duration": 3,
    "start_time": "2022-12-03T08:55:10.876Z"
   },
   {
    "duration": 296,
    "start_time": "2022-12-03T08:55:10.882Z"
   },
   {
    "duration": 183,
    "start_time": "2022-12-03T08:55:11.180Z"
   },
   {
    "duration": 353,
    "start_time": "2022-12-03T08:55:11.366Z"
   },
   {
    "duration": 4,
    "start_time": "2022-12-03T08:55:11.723Z"
   },
   {
    "duration": 16,
    "start_time": "2022-12-03T08:55:11.728Z"
   },
   {
    "duration": 13,
    "start_time": "2022-12-03T08:55:11.745Z"
   },
   {
    "duration": 7,
    "start_time": "2022-12-03T08:55:11.762Z"
   },
   {
    "duration": 15,
    "start_time": "2022-12-03T08:55:11.771Z"
   },
   {
    "duration": 195,
    "start_time": "2022-12-03T08:55:11.789Z"
   },
   {
    "duration": 22,
    "start_time": "2022-12-03T08:55:11.986Z"
   },
   {
    "duration": 103,
    "start_time": "2022-12-03T08:55:12.022Z"
   },
   {
    "duration": 12,
    "start_time": "2022-12-03T08:55:12.126Z"
   },
   {
    "duration": 16,
    "start_time": "2022-12-03T08:55:12.139Z"
   },
   {
    "duration": 11,
    "start_time": "2022-12-03T08:55:12.157Z"
   },
   {
    "duration": 4990,
    "start_time": "2022-12-03T08:55:12.170Z"
   },
   {
    "duration": 8,
    "start_time": "2022-12-03T08:55:17.162Z"
   },
   {
    "duration": 18,
    "start_time": "2022-12-03T08:55:17.172Z"
   },
   {
    "duration": 230,
    "start_time": "2022-12-03T08:55:17.192Z"
   },
   {
    "duration": 1135,
    "start_time": "2022-12-03T08:55:17.423Z"
   },
   {
    "duration": 43,
    "start_time": "2022-12-03T08:55:18.560Z"
   },
   {
    "duration": 17,
    "start_time": "2022-12-03T08:55:18.605Z"
   },
   {
    "duration": 340,
    "start_time": "2022-12-03T08:55:18.625Z"
   },
   {
    "duration": 333,
    "start_time": "2022-12-03T08:55:18.967Z"
   },
   {
    "duration": 385,
    "start_time": "2022-12-03T08:55:19.303Z"
   },
   {
    "duration": 485,
    "start_time": "2022-12-03T08:55:19.691Z"
   },
   {
    "duration": 3,
    "start_time": "2022-12-03T08:55:20.178Z"
   },
   {
    "duration": 79,
    "start_time": "2022-12-03T08:55:20.184Z"
   },
   {
    "duration": 6,
    "start_time": "2022-12-03T08:55:20.265Z"
   },
   {
    "duration": 24,
    "start_time": "2022-12-03T08:55:20.273Z"
   },
   {
    "duration": 12,
    "start_time": "2022-12-03T08:55:20.300Z"
   },
   {
    "duration": 27633,
    "start_time": "2022-12-03T08:55:20.315Z"
   },
   {
    "duration": 16,
    "start_time": "2022-12-03T08:57:50.514Z"
   },
   {
    "duration": 11,
    "start_time": "2022-12-03T08:57:51.461Z"
   },
   {
    "duration": 5106,
    "start_time": "2022-12-03T08:57:54.930Z"
   },
   {
    "duration": 9,
    "start_time": "2022-12-03T08:58:00.038Z"
   },
   {
    "duration": 12,
    "start_time": "2022-12-03T08:58:00.048Z"
   },
   {
    "duration": 216,
    "start_time": "2022-12-03T08:58:00.389Z"
   },
   {
    "duration": 1080,
    "start_time": "2022-12-03T08:58:02.424Z"
   },
   {
    "duration": 39,
    "start_time": "2022-12-03T08:58:03.755Z"
   },
   {
    "duration": 3,
    "start_time": "2022-12-03T08:58:04.956Z"
   },
   {
    "duration": 335,
    "start_time": "2022-12-03T08:58:05.864Z"
   },
   {
    "duration": 499,
    "start_time": "2022-12-03T08:58:06.552Z"
   },
   {
    "duration": 323,
    "start_time": "2022-12-03T08:58:07.208Z"
   },
   {
    "duration": 315,
    "start_time": "2022-12-03T08:58:07.736Z"
   },
   {
    "duration": 4,
    "start_time": "2022-12-03T08:58:08.979Z"
   },
   {
    "duration": 62,
    "start_time": "2022-12-03T08:58:09.651Z"
   },
   {
    "duration": 5,
    "start_time": "2022-12-03T08:58:11.444Z"
   },
   {
    "duration": 9,
    "start_time": "2022-12-03T08:58:12.796Z"
   },
   {
    "duration": 8,
    "start_time": "2022-12-03T08:58:46.869Z"
   },
   {
    "duration": 10,
    "start_time": "2022-12-03T08:58:47.655Z"
   },
   {
    "duration": 3,
    "start_time": "2022-12-03T08:58:48.373Z"
   },
   {
    "duration": 27704,
    "start_time": "2022-12-03T08:58:49.192Z"
   },
   {
    "duration": 107,
    "start_time": "2022-12-03T09:03:07.611Z"
   },
   {
    "duration": 3,
    "start_time": "2022-12-03T09:03:58.477Z"
   },
   {
    "duration": 8,
    "start_time": "2022-12-03T09:03:59.259Z"
   },
   {
    "duration": 9,
    "start_time": "2022-12-03T09:04:16.803Z"
   },
   {
    "duration": 3,
    "start_time": "2022-12-03T09:04:17.461Z"
   },
   {
    "duration": 17006,
    "start_time": "2022-12-03T09:04:18.078Z"
   },
   {
    "duration": 1467,
    "start_time": "2022-12-03T09:04:40.124Z"
   },
   {
    "duration": 759,
    "start_time": "2022-12-03T09:04:41.594Z"
   },
   {
    "duration": 3,
    "start_time": "2022-12-03T09:04:42.356Z"
   },
   {
    "duration": 288,
    "start_time": "2022-12-03T09:04:42.361Z"
   },
   {
    "duration": 196,
    "start_time": "2022-12-03T09:04:42.651Z"
   },
   {
    "duration": 435,
    "start_time": "2022-12-03T09:04:42.850Z"
   },
   {
    "duration": 3,
    "start_time": "2022-12-03T09:04:43.287Z"
   },
   {
    "duration": 30,
    "start_time": "2022-12-03T09:04:43.292Z"
   },
   {
    "duration": 10,
    "start_time": "2022-12-03T09:04:43.325Z"
   },
   {
    "duration": 10,
    "start_time": "2022-12-03T09:04:43.337Z"
   },
   {
    "duration": 29,
    "start_time": "2022-12-03T09:04:43.348Z"
   },
   {
    "duration": 172,
    "start_time": "2022-12-03T09:04:43.379Z"
   },
   {
    "duration": 28,
    "start_time": "2022-12-03T09:04:43.553Z"
   },
   {
    "duration": 127,
    "start_time": "2022-12-03T09:04:43.585Z"
   },
   {
    "duration": 17,
    "start_time": "2022-12-03T09:04:43.714Z"
   },
   {
    "duration": 43,
    "start_time": "2022-12-03T09:04:43.733Z"
   },
   {
    "duration": 16,
    "start_time": "2022-12-03T09:04:43.780Z"
   },
   {
    "duration": 5553,
    "start_time": "2022-12-03T09:04:43.798Z"
   },
   {
    "duration": 10,
    "start_time": "2022-12-03T09:04:49.353Z"
   },
   {
    "duration": 21,
    "start_time": "2022-12-03T09:04:49.366Z"
   },
   {
    "duration": 333,
    "start_time": "2022-12-03T09:04:49.389Z"
   },
   {
    "duration": 1314,
    "start_time": "2022-12-03T09:04:49.724Z"
   },
   {
    "duration": 39,
    "start_time": "2022-12-03T09:04:51.040Z"
   },
   {
    "duration": 6,
    "start_time": "2022-12-03T09:04:51.083Z"
   },
   {
    "duration": 420,
    "start_time": "2022-12-03T09:04:51.092Z"
   },
   {
    "duration": 395,
    "start_time": "2022-12-03T09:04:51.515Z"
   },
   {
    "duration": 447,
    "start_time": "2022-12-03T09:04:51.912Z"
   },
   {
    "duration": 471,
    "start_time": "2022-12-03T09:04:52.361Z"
   },
   {
    "duration": 4,
    "start_time": "2022-12-03T09:04:52.834Z"
   },
   {
    "duration": 91,
    "start_time": "2022-12-03T09:04:52.841Z"
   },
   {
    "duration": 6,
    "start_time": "2022-12-03T09:04:52.934Z"
   },
   {
    "duration": 17,
    "start_time": "2022-12-03T09:04:52.942Z"
   },
   {
    "duration": 25,
    "start_time": "2022-12-03T09:04:52.961Z"
   },
   {
    "duration": 16,
    "start_time": "2022-12-03T09:04:52.989Z"
   },
   {
    "duration": 12,
    "start_time": "2022-12-03T09:04:53.007Z"
   },
   {
    "duration": 17050,
    "start_time": "2022-12-03T09:04:53.021Z"
   },
   {
    "duration": 86,
    "start_time": "2022-12-03T17:35:49.932Z"
   },
   {
    "duration": 1542,
    "start_time": "2022-12-03T17:35:57.849Z"
   },
   {
    "duration": 2273,
    "start_time": "2022-12-03T17:35:59.393Z"
   },
   {
    "duration": 3,
    "start_time": "2022-12-03T17:36:01.668Z"
   },
   {
    "duration": 270,
    "start_time": "2022-12-03T17:36:01.673Z"
   },
   {
    "duration": 173,
    "start_time": "2022-12-03T17:36:01.945Z"
   },
   {
    "duration": 283,
    "start_time": "2022-12-03T17:36:02.119Z"
   },
   {
    "duration": 6,
    "start_time": "2022-12-03T17:36:02.404Z"
   },
   {
    "duration": 34,
    "start_time": "2022-12-03T17:36:02.412Z"
   },
   {
    "duration": 13,
    "start_time": "2022-12-03T17:36:02.448Z"
   },
   {
    "duration": 9,
    "start_time": "2022-12-03T17:36:02.463Z"
   },
   {
    "duration": 9,
    "start_time": "2022-12-03T17:36:02.473Z"
   },
   {
    "duration": 133,
    "start_time": "2022-12-03T17:36:02.484Z"
   },
   {
    "duration": 28,
    "start_time": "2022-12-03T17:36:02.623Z"
   },
   {
    "duration": 98,
    "start_time": "2022-12-03T17:36:02.654Z"
   },
   {
    "duration": 9,
    "start_time": "2022-12-03T17:36:02.754Z"
   },
   {
    "duration": 12,
    "start_time": "2022-12-03T17:36:02.765Z"
   },
   {
    "duration": 5,
    "start_time": "2022-12-03T17:36:02.778Z"
   },
   {
    "duration": 33,
    "start_time": "2022-12-03T17:36:02.784Z"
   },
   {
    "duration": 4591,
    "start_time": "2022-12-03T17:36:02.818Z"
   },
   {
    "duration": 12,
    "start_time": "2022-12-03T17:36:07.411Z"
   },
   {
    "duration": 18,
    "start_time": "2022-12-03T17:36:07.428Z"
   },
   {
    "duration": 260,
    "start_time": "2022-12-03T17:36:07.448Z"
   },
   {
    "duration": 1111,
    "start_time": "2022-12-03T17:36:07.712Z"
   },
   {
    "duration": 31,
    "start_time": "2022-12-03T17:36:08.825Z"
   },
   {
    "duration": 4,
    "start_time": "2022-12-03T17:36:08.857Z"
   },
   {
    "duration": 334,
    "start_time": "2022-12-03T17:36:08.862Z"
   },
   {
    "duration": 282,
    "start_time": "2022-12-03T17:36:09.208Z"
   },
   {
    "duration": 333,
    "start_time": "2022-12-03T17:36:09.491Z"
   },
   {
    "duration": 399,
    "start_time": "2022-12-03T17:36:09.826Z"
   },
   {
    "duration": 4,
    "start_time": "2022-12-03T17:36:10.226Z"
   },
   {
    "duration": 53,
    "start_time": "2022-12-03T17:36:10.232Z"
   },
   {
    "duration": 24,
    "start_time": "2022-12-03T17:36:10.287Z"
   },
   {
    "duration": 13,
    "start_time": "2022-12-03T17:36:10.313Z"
   },
   {
    "duration": 11,
    "start_time": "2022-12-03T17:36:10.328Z"
   },
   {
    "duration": 11,
    "start_time": "2022-12-03T17:36:10.341Z"
   },
   {
    "duration": 5,
    "start_time": "2022-12-03T17:36:10.353Z"
   },
   {
    "duration": 16538,
    "start_time": "2022-12-03T17:36:10.359Z"
   },
   {
    "duration": 4,
    "start_time": "2022-12-03T17:37:00.217Z"
   },
   {
    "duration": 5,
    "start_time": "2022-12-03T17:49:03.096Z"
   },
   {
    "duration": 7,
    "start_time": "2022-12-03T17:49:04.302Z"
   },
   {
    "duration": 7,
    "start_time": "2022-12-03T17:49:05.817Z"
   },
   {
    "duration": 17,
    "start_time": "2022-12-03T17:49:08.200Z"
   },
   {
    "duration": 3,
    "start_time": "2022-12-03T17:49:09.038Z"
   },
   {
    "duration": 16401,
    "start_time": "2022-12-03T17:49:10.540Z"
   },
   {
    "duration": 1359,
    "start_time": "2022-12-03T17:49:49.301Z"
   },
   {
    "duration": 725,
    "start_time": "2022-12-03T17:49:50.661Z"
   },
   {
    "duration": 3,
    "start_time": "2022-12-03T17:49:51.387Z"
   },
   {
    "duration": 282,
    "start_time": "2022-12-03T17:49:51.392Z"
   },
   {
    "duration": 157,
    "start_time": "2022-12-03T17:49:51.676Z"
   },
   {
    "duration": 288,
    "start_time": "2022-12-03T17:49:51.835Z"
   },
   {
    "duration": 3,
    "start_time": "2022-12-03T17:49:52.124Z"
   },
   {
    "duration": 21,
    "start_time": "2022-12-03T17:49:52.129Z"
   },
   {
    "duration": 14,
    "start_time": "2022-12-03T17:49:52.151Z"
   },
   {
    "duration": 13,
    "start_time": "2022-12-03T17:49:52.166Z"
   },
   {
    "duration": 23,
    "start_time": "2022-12-03T17:49:52.181Z"
   },
   {
    "duration": 130,
    "start_time": "2022-12-03T17:49:52.206Z"
   },
   {
    "duration": 20,
    "start_time": "2022-12-03T17:49:52.337Z"
   },
   {
    "duration": 105,
    "start_time": "2022-12-03T17:49:52.361Z"
   },
   {
    "duration": 9,
    "start_time": "2022-12-03T17:49:52.468Z"
   },
   {
    "duration": 27,
    "start_time": "2022-12-03T17:49:52.479Z"
   },
   {
    "duration": 13,
    "start_time": "2022-12-03T17:49:52.507Z"
   },
   {
    "duration": 4758,
    "start_time": "2022-12-03T17:49:52.522Z"
   },
   {
    "duration": 8,
    "start_time": "2022-12-03T17:49:57.281Z"
   },
   {
    "duration": 56,
    "start_time": "2022-12-03T17:49:57.291Z"
   },
   {
    "duration": 264,
    "start_time": "2022-12-03T17:49:57.349Z"
   },
   {
    "duration": 1179,
    "start_time": "2022-12-03T17:49:57.618Z"
   },
   {
    "duration": 43,
    "start_time": "2022-12-03T17:49:58.799Z"
   },
   {
    "duration": 3,
    "start_time": "2022-12-03T17:49:58.844Z"
   },
   {
    "duration": 301,
    "start_time": "2022-12-03T17:49:58.848Z"
   },
   {
    "duration": 272,
    "start_time": "2022-12-03T17:49:59.150Z"
   },
   {
    "duration": 324,
    "start_time": "2022-12-03T17:49:59.424Z"
   },
   {
    "duration": 408,
    "start_time": "2022-12-03T17:49:59.750Z"
   },
   {
    "duration": 5,
    "start_time": "2022-12-03T17:50:00.160Z"
   },
   {
    "duration": 83,
    "start_time": "2022-12-03T17:50:00.167Z"
   },
   {
    "duration": 6,
    "start_time": "2022-12-03T17:50:00.251Z"
   },
   {
    "duration": 16,
    "start_time": "2022-12-03T17:50:00.259Z"
   },
   {
    "duration": 17,
    "start_time": "2022-12-03T17:50:00.277Z"
   },
   {
    "duration": 15,
    "start_time": "2022-12-03T17:50:00.296Z"
   },
   {
    "duration": 25,
    "start_time": "2022-12-03T17:50:00.312Z"
   },
   {
    "duration": 16560,
    "start_time": "2022-12-03T17:50:00.339Z"
   },
   {
    "duration": 6,
    "start_time": "2022-12-03T17:51:47.978Z"
   },
   {
    "duration": 3,
    "start_time": "2022-12-03T17:52:09.617Z"
   },
   {
    "duration": 5,
    "start_time": "2022-12-03T17:52:10.658Z"
   },
   {
    "duration": 6,
    "start_time": "2022-12-03T17:53:43.871Z"
   },
   {
    "duration": 3,
    "start_time": "2022-12-03T17:53:46.437Z"
   },
   {
    "duration": 5,
    "start_time": "2022-12-03T17:53:46.819Z"
   },
   {
    "duration": 16,
    "start_time": "2022-12-03T17:53:47.604Z"
   },
   {
    "duration": 2,
    "start_time": "2022-12-03T17:53:48.652Z"
   },
   {
    "duration": 16319,
    "start_time": "2022-12-03T17:53:49.850Z"
   },
   {
    "duration": 5,
    "start_time": "2022-12-03T17:55:07.757Z"
   },
   {
    "duration": 4,
    "start_time": "2022-12-03T17:55:10.013Z"
   },
   {
    "duration": 7,
    "start_time": "2022-12-03T17:55:13.600Z"
   },
   {
    "duration": 8,
    "start_time": "2022-12-03T17:55:14.543Z"
   },
   {
    "duration": 2,
    "start_time": "2022-12-03T17:55:15.621Z"
   },
   {
    "duration": 16467,
    "start_time": "2022-12-03T17:55:16.556Z"
   },
   {
    "duration": 24545,
    "start_time": "2022-12-03T17:57:05.520Z"
   },
   {
    "duration": 3,
    "start_time": "2022-12-03T17:58:55.971Z"
   },
   {
    "duration": 8,
    "start_time": "2022-12-03T17:58:56.609Z"
   },
   {
    "duration": 15925,
    "start_time": "2022-12-03T17:58:58.235Z"
   },
   {
    "duration": 4,
    "start_time": "2022-12-03T18:03:16.916Z"
   },
   {
    "duration": 4,
    "start_time": "2022-12-03T18:03:58.331Z"
   },
   {
    "duration": 3,
    "start_time": "2022-12-03T18:03:58.798Z"
   },
   {
    "duration": 6,
    "start_time": "2022-12-03T18:04:00.837Z"
   },
   {
    "duration": 3,
    "start_time": "2022-12-03T18:04:03.062Z"
   },
   {
    "duration": 8,
    "start_time": "2022-12-03T18:04:05.176Z"
   },
   {
    "duration": 16312,
    "start_time": "2022-12-03T18:04:06.569Z"
   },
   {
    "duration": 1468,
    "start_time": "2022-12-03T18:04:44.502Z"
   },
   {
    "duration": 713,
    "start_time": "2022-12-03T18:04:45.973Z"
   },
   {
    "duration": 3,
    "start_time": "2022-12-03T18:04:46.688Z"
   },
   {
    "duration": 288,
    "start_time": "2022-12-03T18:04:46.704Z"
   },
   {
    "duration": 162,
    "start_time": "2022-12-03T18:04:47.004Z"
   },
   {
    "duration": 294,
    "start_time": "2022-12-03T18:04:47.168Z"
   },
   {
    "duration": 3,
    "start_time": "2022-12-03T18:04:47.464Z"
   },
   {
    "duration": 12,
    "start_time": "2022-12-03T18:04:47.469Z"
   },
   {
    "duration": 24,
    "start_time": "2022-12-03T18:04:47.482Z"
   },
   {
    "duration": 5,
    "start_time": "2022-12-03T18:04:47.509Z"
   },
   {
    "duration": 13,
    "start_time": "2022-12-03T18:04:47.516Z"
   },
   {
    "duration": 158,
    "start_time": "2022-12-03T18:04:47.531Z"
   },
   {
    "duration": 36,
    "start_time": "2022-12-03T18:04:47.691Z"
   },
   {
    "duration": 97,
    "start_time": "2022-12-03T18:04:47.731Z"
   },
   {
    "duration": 13,
    "start_time": "2022-12-03T18:04:47.830Z"
   },
   {
    "duration": 11,
    "start_time": "2022-12-03T18:04:47.844Z"
   },
   {
    "duration": 9,
    "start_time": "2022-12-03T18:04:47.856Z"
   },
   {
    "duration": 4767,
    "start_time": "2022-12-03T18:04:47.866Z"
   },
   {
    "duration": 8,
    "start_time": "2022-12-03T18:04:52.635Z"
   },
   {
    "duration": 10,
    "start_time": "2022-12-03T18:04:52.645Z"
   },
   {
    "duration": 210,
    "start_time": "2022-12-03T18:04:52.656Z"
   },
   {
    "duration": 1069,
    "start_time": "2022-12-03T18:04:52.868Z"
   },
   {
    "duration": 37,
    "start_time": "2022-12-03T18:04:53.938Z"
   },
   {
    "duration": 4,
    "start_time": "2022-12-03T18:04:53.977Z"
   },
   {
    "duration": 324,
    "start_time": "2022-12-03T18:04:53.982Z"
   },
   {
    "duration": 273,
    "start_time": "2022-12-03T18:04:54.308Z"
   },
   {
    "duration": 308,
    "start_time": "2022-12-03T18:04:54.583Z"
   },
   {
    "duration": 431,
    "start_time": "2022-12-03T18:04:54.895Z"
   },
   {
    "duration": 4,
    "start_time": "2022-12-03T18:04:55.328Z"
   },
   {
    "duration": 90,
    "start_time": "2022-12-03T18:04:55.333Z"
   },
   {
    "duration": 4,
    "start_time": "2022-12-03T18:04:55.425Z"
   },
   {
    "duration": 19,
    "start_time": "2022-12-03T18:04:55.431Z"
   },
   {
    "duration": 17,
    "start_time": "2022-12-03T18:04:55.451Z"
   },
   {
    "duration": 28,
    "start_time": "2022-12-03T18:04:55.469Z"
   },
   {
    "duration": 22,
    "start_time": "2022-12-03T18:04:55.499Z"
   },
   {
    "duration": 16415,
    "start_time": "2022-12-03T18:04:55.523Z"
   },
   {
    "duration": 24937,
    "start_time": "2022-12-03T18:05:11.940Z"
   },
   {
    "duration": 5,
    "start_time": "2022-12-03T18:06:28.081Z"
   },
   {
    "duration": 3,
    "start_time": "2022-12-03T18:06:28.609Z"
   },
   {
    "duration": 7,
    "start_time": "2022-12-03T18:06:29.155Z"
   },
   {
    "duration": 3,
    "start_time": "2022-12-03T18:06:30.103Z"
   },
   {
    "duration": 11,
    "start_time": "2022-12-03T18:06:30.907Z"
   },
   {
    "duration": 16355,
    "start_time": "2022-12-03T18:06:31.750Z"
   },
   {
    "duration": 5,
    "start_time": "2022-12-03T18:07:56.455Z"
   },
   {
    "duration": 791,
    "start_time": "2022-12-03T18:07:57.200Z"
   },
   {
    "duration": 3,
    "start_time": "2022-12-03T18:07:59.619Z"
   },
   {
    "duration": 1406,
    "start_time": "2022-12-03T18:08:09.896Z"
   },
   {
    "duration": 712,
    "start_time": "2022-12-03T18:08:11.304Z"
   },
   {
    "duration": 4,
    "start_time": "2022-12-03T18:08:12.017Z"
   },
   {
    "duration": 269,
    "start_time": "2022-12-03T18:08:12.023Z"
   },
   {
    "duration": 157,
    "start_time": "2022-12-03T18:08:12.293Z"
   },
   {
    "duration": 267,
    "start_time": "2022-12-03T18:08:12.451Z"
   },
   {
    "duration": 4,
    "start_time": "2022-12-03T18:08:12.720Z"
   },
   {
    "duration": 11,
    "start_time": "2022-12-03T18:08:12.726Z"
   },
   {
    "duration": 12,
    "start_time": "2022-12-03T18:08:12.738Z"
   },
   {
    "duration": 8,
    "start_time": "2022-12-03T18:08:12.753Z"
   },
   {
    "duration": 14,
    "start_time": "2022-12-03T18:08:12.762Z"
   },
   {
    "duration": 133,
    "start_time": "2022-12-03T18:08:12.778Z"
   },
   {
    "duration": 19,
    "start_time": "2022-12-03T18:08:12.913Z"
   },
   {
    "duration": 99,
    "start_time": "2022-12-03T18:08:12.934Z"
   },
   {
    "duration": 11,
    "start_time": "2022-12-03T18:08:13.034Z"
   },
   {
    "duration": 12,
    "start_time": "2022-12-03T18:08:13.046Z"
   },
   {
    "duration": 10,
    "start_time": "2022-12-03T18:08:13.059Z"
   },
   {
    "duration": 4625,
    "start_time": "2022-12-03T18:08:13.071Z"
   },
   {
    "duration": 13,
    "start_time": "2022-12-03T18:08:17.698Z"
   },
   {
    "duration": 9,
    "start_time": "2022-12-03T18:08:17.712Z"
   },
   {
    "duration": 210,
    "start_time": "2022-12-03T18:08:17.723Z"
   },
   {
    "duration": 1094,
    "start_time": "2022-12-03T18:08:17.934Z"
   },
   {
    "duration": 36,
    "start_time": "2022-12-03T18:08:19.030Z"
   },
   {
    "duration": 4,
    "start_time": "2022-12-03T18:08:19.068Z"
   },
   {
    "duration": 313,
    "start_time": "2022-12-03T18:08:19.073Z"
   },
   {
    "duration": 272,
    "start_time": "2022-12-03T18:08:19.388Z"
   },
   {
    "duration": 306,
    "start_time": "2022-12-03T18:08:19.662Z"
   },
   {
    "duration": 384,
    "start_time": "2022-12-03T18:08:19.971Z"
   },
   {
    "duration": 3,
    "start_time": "2022-12-03T18:08:20.357Z"
   },
   {
    "duration": 63,
    "start_time": "2022-12-03T18:08:20.362Z"
   },
   {
    "duration": 5,
    "start_time": "2022-12-03T18:08:20.427Z"
   },
   {
    "duration": 10,
    "start_time": "2022-12-03T18:08:20.434Z"
   },
   {
    "duration": 9,
    "start_time": "2022-12-03T18:08:20.446Z"
   },
   {
    "duration": 6,
    "start_time": "2022-12-03T18:08:20.457Z"
   },
   {
    "duration": 13,
    "start_time": "2022-12-03T18:08:20.465Z"
   },
   {
    "duration": 15871,
    "start_time": "2022-12-03T18:08:20.480Z"
   },
   {
    "duration": 24369,
    "start_time": "2022-12-03T18:08:36.353Z"
   },
   {
    "duration": 4,
    "start_time": "2022-12-03T18:09:13.546Z"
   },
   {
    "duration": 1286,
    "start_time": "2022-12-03T18:09:14.821Z"
   },
   {
    "duration": 0,
    "start_time": "2022-12-03T18:09:16.109Z"
   },
   {
    "duration": 4,
    "start_time": "2022-12-03T18:09:23.818Z"
   },
   {
    "duration": 1172,
    "start_time": "2022-12-03T18:09:24.272Z"
   },
   {
    "duration": 4,
    "start_time": "2022-12-03T18:09:42.934Z"
   },
   {
    "duration": 711,
    "start_time": "2022-12-03T18:09:43.734Z"
   },
   {
    "duration": 3,
    "start_time": "2022-12-03T18:09:44.448Z"
   },
   {
    "duration": 239,
    "start_time": "2022-12-03T18:09:44.510Z"
   },
   {
    "duration": 142,
    "start_time": "2022-12-03T18:09:48.901Z"
   },
   {
    "duration": 251,
    "start_time": "2022-12-03T18:09:49.249Z"
   },
   {
    "duration": 4,
    "start_time": "2022-12-03T18:09:51.659Z"
   },
   {
    "duration": 9,
    "start_time": "2022-12-03T18:09:52.297Z"
   },
   {
    "duration": 7,
    "start_time": "2022-12-03T18:09:57.869Z"
   },
   {
    "duration": 5,
    "start_time": "2022-12-03T18:10:02.269Z"
   },
   {
    "duration": 9,
    "start_time": "2022-12-03T18:10:04.381Z"
   },
   {
    "duration": 10,
    "start_time": "2022-12-03T18:11:06.070Z"
   },
   {
    "duration": 11,
    "start_time": "2022-12-03T18:11:07.568Z"
   },
   {
    "duration": 9,
    "start_time": "2022-12-03T18:11:08.850Z"
   },
   {
    "duration": 891,
    "start_time": "2022-12-03T18:11:36.051Z"
   },
   {
    "duration": 29,
    "start_time": "2022-12-03T18:11:37.117Z"
   },
   {
    "duration": 4,
    "start_time": "2022-12-03T18:11:37.621Z"
   },
   {
    "duration": 271,
    "start_time": "2022-12-03T18:11:37.781Z"
   },
   {
    "duration": 387,
    "start_time": "2022-12-03T18:11:38.054Z"
   },
   {
    "duration": 285,
    "start_time": "2022-12-03T18:11:38.477Z"
   },
   {
    "duration": 279,
    "start_time": "2022-12-03T18:11:38.764Z"
   },
   {
    "duration": 3,
    "start_time": "2022-12-03T18:11:39.045Z"
   },
   {
    "duration": 59,
    "start_time": "2022-12-03T18:11:39.050Z"
   },
   {
    "duration": 5,
    "start_time": "2022-12-03T18:11:39.344Z"
   },
   {
    "duration": 3,
    "start_time": "2022-12-03T18:11:39.529Z"
   },
   {
    "duration": 6,
    "start_time": "2022-12-03T18:11:39.941Z"
   },
   {
    "duration": 13,
    "start_time": "2022-12-03T18:11:39.949Z"
   },
   {
    "duration": 8,
    "start_time": "2022-12-03T18:11:43.148Z"
   },
   {
    "duration": 16034,
    "start_time": "2022-12-03T18:11:44.059Z"
   },
   {
    "duration": 3,
    "start_time": "2022-12-03T18:24:39.385Z"
   },
   {
    "duration": 7,
    "start_time": "2022-12-03T18:24:40.233Z"
   },
   {
    "duration": 15972,
    "start_time": "2022-12-03T18:26:01.906Z"
   },
   {
    "duration": 1385,
    "start_time": "2022-12-03T18:37:27.677Z"
   },
   {
    "duration": 706,
    "start_time": "2022-12-03T18:37:29.064Z"
   },
   {
    "duration": 4,
    "start_time": "2022-12-03T18:37:29.772Z"
   },
   {
    "duration": 315,
    "start_time": "2022-12-03T18:37:29.778Z"
   },
   {
    "duration": 154,
    "start_time": "2022-12-03T18:37:30.095Z"
   },
   {
    "duration": 285,
    "start_time": "2022-12-03T18:37:30.251Z"
   },
   {
    "duration": 3,
    "start_time": "2022-12-03T18:37:30.538Z"
   },
   {
    "duration": 122,
    "start_time": "2022-12-03T18:37:30.543Z"
   },
   {
    "duration": 71,
    "start_time": "2022-12-03T18:37:30.667Z"
   },
   {
    "duration": 75,
    "start_time": "2022-12-03T18:37:30.742Z"
   },
   {
    "duration": 69,
    "start_time": "2022-12-03T18:37:30.819Z"
   },
   {
    "duration": 157,
    "start_time": "2022-12-03T18:37:30.890Z"
   },
   {
    "duration": 25,
    "start_time": "2022-12-03T18:37:31.048Z"
   },
   {
    "duration": 143,
    "start_time": "2022-12-03T18:37:31.075Z"
   },
   {
    "duration": 13,
    "start_time": "2022-12-03T18:37:31.220Z"
   },
   {
    "duration": 105,
    "start_time": "2022-12-03T18:37:31.234Z"
   },
   {
    "duration": 82,
    "start_time": "2022-12-03T18:37:31.340Z"
   },
   {
    "duration": 4588,
    "start_time": "2022-12-03T18:37:31.423Z"
   },
   {
    "duration": 6,
    "start_time": "2022-12-03T18:37:36.013Z"
   },
   {
    "duration": 90,
    "start_time": "2022-12-03T18:37:36.021Z"
   },
   {
    "duration": 222,
    "start_time": "2022-12-03T18:37:36.112Z"
   },
   {
    "duration": 1009,
    "start_time": "2022-12-03T18:37:36.335Z"
   },
   {
    "duration": 41,
    "start_time": "2022-12-03T18:37:37.347Z"
   },
   {
    "duration": 18,
    "start_time": "2022-12-03T18:37:37.390Z"
   },
   {
    "duration": 364,
    "start_time": "2022-12-03T18:37:37.410Z"
   },
   {
    "duration": 266,
    "start_time": "2022-12-03T18:37:37.775Z"
   },
   {
    "duration": 326,
    "start_time": "2022-12-03T18:37:38.043Z"
   },
   {
    "duration": 412,
    "start_time": "2022-12-03T18:37:38.373Z"
   },
   {
    "duration": 4,
    "start_time": "2022-12-03T18:37:38.786Z"
   },
   {
    "duration": 56,
    "start_time": "2022-12-03T18:37:38.804Z"
   },
   {
    "duration": 5,
    "start_time": "2022-12-03T18:37:38.862Z"
   },
   {
    "duration": 56,
    "start_time": "2022-12-03T18:37:38.869Z"
   },
   {
    "duration": 46,
    "start_time": "2022-12-03T18:37:38.927Z"
   },
   {
    "duration": 39,
    "start_time": "2022-12-03T18:37:38.974Z"
   },
   {
    "duration": 32,
    "start_time": "2022-12-03T18:37:39.014Z"
   },
   {
    "duration": 28569,
    "start_time": "2022-12-03T18:37:39.048Z"
   },
   {
    "duration": 52602,
    "start_time": "2022-12-03T18:38:07.619Z"
   },
   {
    "duration": 75,
    "start_time": "2022-12-03T18:40:16.292Z"
   },
   {
    "duration": 85,
    "start_time": "2022-12-03T19:24:06.401Z"
   },
   {
    "duration": 1502,
    "start_time": "2022-12-04T07:33:59.124Z"
   },
   {
    "duration": 2020,
    "start_time": "2022-12-04T07:34:00.628Z"
   },
   {
    "duration": 3,
    "start_time": "2022-12-04T07:34:02.649Z"
   },
   {
    "duration": 276,
    "start_time": "2022-12-04T07:34:02.653Z"
   },
   {
    "duration": 161,
    "start_time": "2022-12-04T07:34:02.932Z"
   },
   {
    "duration": 276,
    "start_time": "2022-12-04T07:34:03.094Z"
   },
   {
    "duration": 4,
    "start_time": "2022-12-04T07:34:03.378Z"
   },
   {
    "duration": 15,
    "start_time": "2022-12-04T07:34:03.383Z"
   },
   {
    "duration": 10,
    "start_time": "2022-12-04T07:34:03.400Z"
   },
   {
    "duration": 14,
    "start_time": "2022-12-04T07:34:03.412Z"
   },
   {
    "duration": 8,
    "start_time": "2022-12-04T07:34:03.428Z"
   },
   {
    "duration": 120,
    "start_time": "2022-12-04T07:34:03.438Z"
   },
   {
    "duration": 25,
    "start_time": "2022-12-04T07:34:03.560Z"
   },
   {
    "duration": 79,
    "start_time": "2022-12-04T07:34:03.589Z"
   },
   {
    "duration": 10,
    "start_time": "2022-12-04T07:34:03.679Z"
   },
   {
    "duration": 21,
    "start_time": "2022-12-04T07:34:03.691Z"
   },
   {
    "duration": 11,
    "start_time": "2022-12-04T07:34:03.714Z"
   },
   {
    "duration": 4686,
    "start_time": "2022-12-04T07:34:03.727Z"
   },
   {
    "duration": 7,
    "start_time": "2022-12-04T07:34:08.415Z"
   },
   {
    "duration": 14,
    "start_time": "2022-12-04T07:34:08.424Z"
   },
   {
    "duration": 206,
    "start_time": "2022-12-04T07:34:08.440Z"
   },
   {
    "duration": 1016,
    "start_time": "2022-12-04T07:34:08.648Z"
   },
   {
    "duration": 35,
    "start_time": "2022-12-04T07:34:09.666Z"
   },
   {
    "duration": 3,
    "start_time": "2022-12-04T07:34:09.702Z"
   },
   {
    "duration": 289,
    "start_time": "2022-12-04T07:34:09.707Z"
   },
   {
    "duration": 267,
    "start_time": "2022-12-04T07:34:09.997Z"
   },
   {
    "duration": 298,
    "start_time": "2022-12-04T07:34:10.266Z"
   },
   {
    "duration": 407,
    "start_time": "2022-12-04T07:34:10.566Z"
   },
   {
    "duration": 6,
    "start_time": "2022-12-04T07:34:10.974Z"
   },
   {
    "duration": 62,
    "start_time": "2022-12-04T07:34:10.982Z"
   },
   {
    "duration": 6,
    "start_time": "2022-12-04T07:34:11.046Z"
   },
   {
    "duration": 22,
    "start_time": "2022-12-04T07:34:11.053Z"
   },
   {
    "duration": 42,
    "start_time": "2022-12-04T07:34:11.077Z"
   },
   {
    "duration": 13,
    "start_time": "2022-12-04T07:34:11.121Z"
   },
   {
    "duration": 22,
    "start_time": "2022-12-04T07:34:11.136Z"
   },
   {
    "duration": 27604,
    "start_time": "2022-12-04T07:34:11.160Z"
   },
   {
    "duration": 50458,
    "start_time": "2022-12-04T07:34:38.766Z"
   },
   {
    "duration": 73,
    "start_time": "2022-12-04T07:36:19.443Z"
   },
   {
    "duration": 5,
    "start_time": "2022-12-04T08:08:25.226Z"
   },
   {
    "duration": 2,
    "start_time": "2022-12-04T08:08:29.008Z"
   },
   {
    "duration": 6,
    "start_time": "2022-12-04T08:08:29.774Z"
   },
   {
    "duration": 3,
    "start_time": "2022-12-04T08:08:30.626Z"
   },
   {
    "duration": 8,
    "start_time": "2022-12-04T08:08:32.283Z"
   },
   {
    "duration": 27200,
    "start_time": "2022-12-04T08:08:33.092Z"
   },
   {
    "duration": 6,
    "start_time": "2022-12-04T08:15:28.775Z"
   },
   {
    "duration": 3,
    "start_time": "2022-12-04T08:15:31.065Z"
   },
   {
    "duration": 6,
    "start_time": "2022-12-04T08:15:31.635Z"
   },
   {
    "duration": 3,
    "start_time": "2022-12-04T08:15:32.183Z"
   },
   {
    "duration": 8,
    "start_time": "2022-12-04T08:15:33.702Z"
   },
   {
    "duration": 26977,
    "start_time": "2022-12-04T08:15:34.811Z"
   },
   {
    "duration": 6,
    "start_time": "2022-12-04T08:18:19.764Z"
   },
   {
    "duration": 3,
    "start_time": "2022-12-04T08:18:24.675Z"
   },
   {
    "duration": 5,
    "start_time": "2022-12-04T08:18:25.416Z"
   },
   {
    "duration": 2,
    "start_time": "2022-12-04T08:18:25.874Z"
   },
   {
    "duration": 8,
    "start_time": "2022-12-04T08:18:27.187Z"
   },
   {
    "duration": 27249,
    "start_time": "2022-12-04T08:18:28.249Z"
   },
   {
    "duration": 5,
    "start_time": "2022-12-04T08:25:31.858Z"
   },
   {
    "duration": 4,
    "start_time": "2022-12-04T08:25:33.988Z"
   },
   {
    "duration": 5,
    "start_time": "2022-12-04T08:25:34.900Z"
   },
   {
    "duration": 3,
    "start_time": "2022-12-04T08:25:35.652Z"
   },
   {
    "duration": 8,
    "start_time": "2022-12-04T08:25:36.973Z"
   },
   {
    "duration": 27122,
    "start_time": "2022-12-04T08:25:37.516Z"
   },
   {
    "duration": 1427,
    "start_time": "2022-12-04T09:40:21.241Z"
   },
   {
    "duration": 665,
    "start_time": "2022-12-04T09:40:22.670Z"
   },
   {
    "duration": 3,
    "start_time": "2022-12-04T09:40:23.336Z"
   },
   {
    "duration": 258,
    "start_time": "2022-12-04T09:40:23.341Z"
   },
   {
    "duration": 150,
    "start_time": "2022-12-04T09:40:23.600Z"
   },
   {
    "duration": 321,
    "start_time": "2022-12-04T09:40:23.752Z"
   },
   {
    "duration": 3,
    "start_time": "2022-12-04T09:40:24.078Z"
   },
   {
    "duration": 15,
    "start_time": "2022-12-04T09:40:24.083Z"
   },
   {
    "duration": 7,
    "start_time": "2022-12-04T09:40:24.102Z"
   },
   {
    "duration": 7,
    "start_time": "2022-12-04T09:40:24.113Z"
   },
   {
    "duration": 16,
    "start_time": "2022-12-04T09:40:24.122Z"
   },
   {
    "duration": 140,
    "start_time": "2022-12-04T09:40:24.140Z"
   },
   {
    "duration": 18,
    "start_time": "2022-12-04T09:40:24.282Z"
   },
   {
    "duration": 92,
    "start_time": "2022-12-04T09:40:24.302Z"
   },
   {
    "duration": 10,
    "start_time": "2022-12-04T09:40:24.395Z"
   },
   {
    "duration": 11,
    "start_time": "2022-12-04T09:40:24.406Z"
   },
   {
    "duration": 10,
    "start_time": "2022-12-04T09:40:24.418Z"
   },
   {
    "duration": 4460,
    "start_time": "2022-12-04T09:40:24.429Z"
   },
   {
    "duration": 8,
    "start_time": "2022-12-04T09:40:28.891Z"
   },
   {
    "duration": 14,
    "start_time": "2022-12-04T09:40:28.900Z"
   },
   {
    "duration": 209,
    "start_time": "2022-12-04T09:40:28.916Z"
   },
   {
    "duration": 1048,
    "start_time": "2022-12-04T09:40:29.127Z"
   },
   {
    "duration": 33,
    "start_time": "2022-12-04T09:40:30.177Z"
   },
   {
    "duration": 24,
    "start_time": "2022-12-04T09:40:30.211Z"
   },
   {
    "duration": 312,
    "start_time": "2022-12-04T09:40:30.238Z"
   },
   {
    "duration": 289,
    "start_time": "2022-12-04T09:40:30.552Z"
   },
   {
    "duration": 306,
    "start_time": "2022-12-04T09:40:30.843Z"
   },
   {
    "duration": 405,
    "start_time": "2022-12-04T09:40:31.153Z"
   },
   {
    "duration": 4,
    "start_time": "2022-12-04T09:40:31.559Z"
   },
   {
    "duration": 65,
    "start_time": "2022-12-04T09:40:31.565Z"
   },
   {
    "duration": 6,
    "start_time": "2022-12-04T09:40:31.632Z"
   },
   {
    "duration": 28,
    "start_time": "2022-12-04T09:40:31.640Z"
   },
   {
    "duration": 17,
    "start_time": "2022-12-04T09:40:31.669Z"
   },
   {
    "duration": 10,
    "start_time": "2022-12-04T09:40:31.688Z"
   },
   {
    "duration": 27,
    "start_time": "2022-12-04T09:40:31.700Z"
   },
   {
    "duration": 27450,
    "start_time": "2022-12-04T09:40:31.729Z"
   },
   {
    "duration": 49931,
    "start_time": "2022-12-04T09:40:59.180Z"
   },
   {
    "duration": 50175,
    "start_time": "2022-12-04T09:59:15.233Z"
   },
   {
    "duration": 6,
    "start_time": "2022-12-04T10:01:57.144Z"
   },
   {
    "duration": 3,
    "start_time": "2022-12-04T10:01:59.426Z"
   },
   {
    "duration": 9,
    "start_time": "2022-12-04T10:02:01.064Z"
   },
   {
    "duration": 27289,
    "start_time": "2022-12-04T10:02:01.747Z"
   },
   {
    "duration": 6,
    "start_time": "2022-12-04T10:10:25.689Z"
   },
   {
    "duration": 3,
    "start_time": "2022-12-04T10:10:27.755Z"
   },
   {
    "duration": 6,
    "start_time": "2022-12-04T10:10:29.701Z"
   },
   {
    "duration": 3,
    "start_time": "2022-12-04T10:10:30.613Z"
   },
   {
    "duration": 105,
    "start_time": "2022-12-04T10:10:32.374Z"
   },
   {
    "duration": 10,
    "start_time": "2022-12-04T10:12:11.129Z"
   },
   {
    "duration": 49,
    "start_time": "2022-12-04T10:13:23.253Z"
   },
   {
    "duration": 47,
    "start_time": "2022-12-04T10:13:39.805Z"
   },
   {
    "duration": 8,
    "start_time": "2022-12-04T10:15:50.864Z"
   },
   {
    "duration": 16,
    "start_time": "2022-12-04T10:15:56.587Z"
   },
   {
    "duration": 10,
    "start_time": "2022-12-04T10:16:50.849Z"
   },
   {
    "duration": 27997,
    "start_time": "2022-12-04T10:16:51.857Z"
   },
   {
    "duration": 8,
    "start_time": "2022-12-04T10:19:58.808Z"
   },
   {
    "duration": 18,
    "start_time": "2022-12-04T10:19:59.444Z"
   },
   {
    "duration": 1330,
    "start_time": "2022-12-04T10:22:04.166Z"
   },
   {
    "duration": 674,
    "start_time": "2022-12-04T10:22:05.498Z"
   },
   {
    "duration": 4,
    "start_time": "2022-12-04T10:22:06.174Z"
   },
   {
    "duration": 288,
    "start_time": "2022-12-04T10:22:06.180Z"
   },
   {
    "duration": 159,
    "start_time": "2022-12-04T10:22:06.469Z"
   },
   {
    "duration": 294,
    "start_time": "2022-12-04T10:22:06.630Z"
   },
   {
    "duration": 4,
    "start_time": "2022-12-04T10:22:06.926Z"
   },
   {
    "duration": 21,
    "start_time": "2022-12-04T10:22:06.932Z"
   },
   {
    "duration": 11,
    "start_time": "2022-12-04T10:22:06.955Z"
   },
   {
    "duration": 20,
    "start_time": "2022-12-04T10:22:06.970Z"
   },
   {
    "duration": 13,
    "start_time": "2022-12-04T10:22:06.992Z"
   },
   {
    "duration": 130,
    "start_time": "2022-12-04T10:22:07.007Z"
   },
   {
    "duration": 19,
    "start_time": "2022-12-04T10:22:07.139Z"
   },
   {
    "duration": 101,
    "start_time": "2022-12-04T10:22:07.160Z"
   },
   {
    "duration": 17,
    "start_time": "2022-12-04T10:22:07.263Z"
   },
   {
    "duration": 12,
    "start_time": "2022-12-04T10:22:07.281Z"
   },
   {
    "duration": 12,
    "start_time": "2022-12-04T10:22:07.295Z"
   },
   {
    "duration": 4503,
    "start_time": "2022-12-04T10:22:07.309Z"
   },
   {
    "duration": 7,
    "start_time": "2022-12-04T10:22:11.814Z"
   },
   {
    "duration": 11,
    "start_time": "2022-12-04T10:22:11.822Z"
   },
   {
    "duration": 223,
    "start_time": "2022-12-04T10:22:11.835Z"
   },
   {
    "duration": 1149,
    "start_time": "2022-12-04T10:22:12.060Z"
   },
   {
    "duration": 36,
    "start_time": "2022-12-04T10:22:13.211Z"
   },
   {
    "duration": 3,
    "start_time": "2022-12-04T10:22:13.249Z"
   },
   {
    "duration": 353,
    "start_time": "2022-12-04T10:22:13.254Z"
   },
   {
    "duration": 325,
    "start_time": "2022-12-04T10:22:13.609Z"
   },
   {
    "duration": 404,
    "start_time": "2022-12-04T10:22:13.937Z"
   },
   {
    "duration": 455,
    "start_time": "2022-12-04T10:22:14.345Z"
   },
   {
    "duration": 4,
    "start_time": "2022-12-04T10:22:14.801Z"
   },
   {
    "duration": 58,
    "start_time": "2022-12-04T10:22:14.807Z"
   },
   {
    "duration": 6,
    "start_time": "2022-12-04T10:22:14.880Z"
   },
   {
    "duration": 7,
    "start_time": "2022-12-04T10:22:14.888Z"
   },
   {
    "duration": 9,
    "start_time": "2022-12-04T10:22:14.897Z"
   },
   {
    "duration": 8,
    "start_time": "2022-12-04T10:22:14.908Z"
   },
   {
    "duration": 11,
    "start_time": "2022-12-04T10:22:14.918Z"
   },
   {
    "duration": 144,
    "start_time": "2022-12-04T10:22:14.931Z"
   },
   {
    "duration": 0,
    "start_time": "2022-12-04T10:22:15.078Z"
   },
   {
    "duration": 7,
    "start_time": "2022-12-04T10:38:51.024Z"
   },
   {
    "duration": 3,
    "start_time": "2022-12-04T10:38:52.260Z"
   },
   {
    "duration": 8,
    "start_time": "2022-12-04T10:38:53.736Z"
   },
   {
    "duration": 27351,
    "start_time": "2022-12-04T10:38:54.885Z"
   },
   {
    "duration": 1658,
    "start_time": "2022-12-06T20:19:54.049Z"
   },
   {
    "duration": 2152,
    "start_time": "2022-12-06T20:19:55.709Z"
   },
   {
    "duration": 4,
    "start_time": "2022-12-06T20:19:57.862Z"
   },
   {
    "duration": 269,
    "start_time": "2022-12-06T20:19:57.867Z"
   },
   {
    "duration": 174,
    "start_time": "2022-12-06T20:19:58.138Z"
   },
   {
    "duration": 301,
    "start_time": "2022-12-06T20:19:58.314Z"
   },
   {
    "duration": 4,
    "start_time": "2022-12-06T20:19:58.617Z"
   },
   {
    "duration": 15,
    "start_time": "2022-12-06T20:19:58.623Z"
   },
   {
    "duration": 8,
    "start_time": "2022-12-06T20:19:58.651Z"
   },
   {
    "duration": 7,
    "start_time": "2022-12-06T20:19:58.660Z"
   },
   {
    "duration": 10,
    "start_time": "2022-12-06T20:19:58.668Z"
   },
   {
    "duration": 146,
    "start_time": "2022-12-06T20:19:58.680Z"
   },
   {
    "duration": 28,
    "start_time": "2022-12-06T20:19:58.828Z"
   },
   {
    "duration": 98,
    "start_time": "2022-12-06T20:19:58.859Z"
   },
   {
    "duration": 13,
    "start_time": "2022-12-06T20:19:58.959Z"
   },
   {
    "duration": 14,
    "start_time": "2022-12-06T20:19:58.974Z"
   },
   {
    "duration": 12,
    "start_time": "2022-12-06T20:19:58.990Z"
   },
   {
    "duration": 4986,
    "start_time": "2022-12-06T20:19:59.004Z"
   },
   {
    "duration": 7,
    "start_time": "2022-12-06T20:20:03.992Z"
   },
   {
    "duration": 9,
    "start_time": "2022-12-06T20:20:04.000Z"
   },
   {
    "duration": 243,
    "start_time": "2022-12-06T20:20:04.011Z"
   },
   {
    "duration": 1168,
    "start_time": "2022-12-06T20:20:04.256Z"
   },
   {
    "duration": 46,
    "start_time": "2022-12-06T20:20:05.426Z"
   },
   {
    "duration": 4,
    "start_time": "2022-12-06T20:20:05.473Z"
   },
   {
    "duration": 321,
    "start_time": "2022-12-06T20:20:05.478Z"
   },
   {
    "duration": 303,
    "start_time": "2022-12-06T20:20:05.801Z"
   },
   {
    "duration": 326,
    "start_time": "2022-12-06T20:20:06.106Z"
   },
   {
    "duration": 442,
    "start_time": "2022-12-06T20:20:06.434Z"
   },
   {
    "duration": 3,
    "start_time": "2022-12-06T20:20:06.878Z"
   },
   {
    "duration": 70,
    "start_time": "2022-12-06T20:20:06.882Z"
   },
   {
    "duration": 5,
    "start_time": "2022-12-06T20:20:06.954Z"
   },
   {
    "duration": 7,
    "start_time": "2022-12-06T20:20:06.961Z"
   },
   {
    "duration": 9,
    "start_time": "2022-12-06T20:20:06.970Z"
   },
   {
    "duration": 8,
    "start_time": "2022-12-06T20:20:06.981Z"
   },
   {
    "duration": 9,
    "start_time": "2022-12-06T20:20:06.991Z"
   },
   {
    "duration": 31064,
    "start_time": "2022-12-06T20:20:07.001Z"
   },
   {
    "duration": 57950,
    "start_time": "2022-12-06T20:20:38.067Z"
   },
   {
    "duration": 10,
    "start_time": "2022-12-07T07:44:59.081Z"
   },
   {
    "duration": 3,
    "start_time": "2022-12-07T07:45:01.730Z"
   },
   {
    "duration": 41,
    "start_time": "2022-12-07T07:45:02.242Z"
   },
   {
    "duration": 6,
    "start_time": "2022-12-07T07:45:03.125Z"
   },
   {
    "duration": 1434,
    "start_time": "2022-12-07T07:45:18.719Z"
   },
   {
    "duration": 2566,
    "start_time": "2022-12-07T07:45:20.155Z"
   },
   {
    "duration": 4,
    "start_time": "2022-12-07T07:45:22.722Z"
   },
   {
    "duration": 243,
    "start_time": "2022-12-07T07:45:22.728Z"
   },
   {
    "duration": 147,
    "start_time": "2022-12-07T07:45:22.973Z"
   },
   {
    "duration": 261,
    "start_time": "2022-12-07T07:45:23.121Z"
   },
   {
    "duration": 3,
    "start_time": "2022-12-07T07:45:23.384Z"
   },
   {
    "duration": 10,
    "start_time": "2022-12-07T07:45:23.397Z"
   },
   {
    "duration": 11,
    "start_time": "2022-12-07T07:45:23.408Z"
   },
   {
    "duration": 6,
    "start_time": "2022-12-07T07:45:23.420Z"
   },
   {
    "duration": 12,
    "start_time": "2022-12-07T07:45:23.427Z"
   },
   {
    "duration": 114,
    "start_time": "2022-12-07T07:45:23.440Z"
   },
   {
    "duration": 18,
    "start_time": "2022-12-07T07:45:23.555Z"
   },
   {
    "duration": 90,
    "start_time": "2022-12-07T07:45:23.575Z"
   },
   {
    "duration": 9,
    "start_time": "2022-12-07T07:45:23.667Z"
   },
   {
    "duration": 22,
    "start_time": "2022-12-07T07:45:23.677Z"
   },
   {
    "duration": 8,
    "start_time": "2022-12-07T07:45:23.701Z"
   },
   {
    "duration": 4280,
    "start_time": "2022-12-07T07:45:23.711Z"
   },
   {
    "duration": 8,
    "start_time": "2022-12-07T07:45:27.993Z"
   },
   {
    "duration": 10,
    "start_time": "2022-12-07T07:45:28.002Z"
   },
   {
    "duration": 204,
    "start_time": "2022-12-07T07:45:28.013Z"
   },
   {
    "duration": 1040,
    "start_time": "2022-12-07T07:45:28.218Z"
   },
   {
    "duration": 41,
    "start_time": "2022-12-07T07:45:29.260Z"
   },
   {
    "duration": 4,
    "start_time": "2022-12-07T07:45:29.302Z"
   },
   {
    "duration": 301,
    "start_time": "2022-12-07T07:45:29.307Z"
   },
   {
    "duration": 262,
    "start_time": "2022-12-07T07:45:29.610Z"
   },
   {
    "duration": 357,
    "start_time": "2022-12-07T07:45:29.874Z"
   },
   {
    "duration": 389,
    "start_time": "2022-12-07T07:45:30.233Z"
   },
   {
    "duration": 4,
    "start_time": "2022-12-07T07:45:30.623Z"
   },
   {
    "duration": 74,
    "start_time": "2022-12-07T07:45:30.629Z"
   },
   {
    "duration": 6,
    "start_time": "2022-12-07T07:45:30.705Z"
   },
   {
    "duration": 46,
    "start_time": "2022-12-07T07:45:30.713Z"
   },
   {
    "duration": 45,
    "start_time": "2022-12-07T07:45:30.760Z"
   },
   {
    "duration": 26,
    "start_time": "2022-12-07T07:45:30.807Z"
   },
   {
    "duration": 44,
    "start_time": "2022-12-07T07:45:30.834Z"
   },
   {
    "duration": 28839,
    "start_time": "2022-12-07T07:45:30.880Z"
   },
   {
    "duration": 53162,
    "start_time": "2022-12-07T07:45:59.721Z"
   },
   {
    "duration": 29316,
    "start_time": "2022-12-07T07:46:52.887Z"
   },
   {
    "duration": 6,
    "start_time": "2022-12-07T07:48:00.801Z"
   },
   {
    "duration": 3,
    "start_time": "2022-12-07T07:48:03.433Z"
   },
   {
    "duration": 8,
    "start_time": "2022-12-07T07:48:04.471Z"
   },
   {
    "duration": 29029,
    "start_time": "2022-12-07T07:48:05.271Z"
   },
   {
    "duration": 1208,
    "start_time": "2022-12-07T07:49:16.747Z"
   },
   {
    "duration": 635,
    "start_time": "2022-12-07T07:49:17.957Z"
   },
   {
    "duration": 3,
    "start_time": "2022-12-07T07:49:18.594Z"
   },
   {
    "duration": 258,
    "start_time": "2022-12-07T07:49:18.599Z"
   },
   {
    "duration": 160,
    "start_time": "2022-12-07T07:49:18.859Z"
   },
   {
    "duration": 278,
    "start_time": "2022-12-07T07:49:19.021Z"
   },
   {
    "duration": 4,
    "start_time": "2022-12-07T07:49:19.300Z"
   },
   {
    "duration": 15,
    "start_time": "2022-12-07T07:49:19.305Z"
   },
   {
    "duration": 5,
    "start_time": "2022-12-07T07:49:19.322Z"
   },
   {
    "duration": 4,
    "start_time": "2022-12-07T07:49:19.330Z"
   },
   {
    "duration": 9,
    "start_time": "2022-12-07T07:49:19.335Z"
   },
   {
    "duration": 133,
    "start_time": "2022-12-07T07:49:19.345Z"
   },
   {
    "duration": 26,
    "start_time": "2022-12-07T07:49:19.480Z"
   },
   {
    "duration": 78,
    "start_time": "2022-12-07T07:49:19.508Z"
   },
   {
    "duration": 9,
    "start_time": "2022-12-07T07:49:19.596Z"
   },
   {
    "duration": 9,
    "start_time": "2022-12-07T07:49:19.607Z"
   },
   {
    "duration": 8,
    "start_time": "2022-12-07T07:49:19.617Z"
   },
   {
    "duration": 4223,
    "start_time": "2022-12-07T07:49:19.627Z"
   },
   {
    "duration": 9,
    "start_time": "2022-12-07T07:49:23.853Z"
   },
   {
    "duration": 10,
    "start_time": "2022-12-07T07:49:23.863Z"
   },
   {
    "duration": 225,
    "start_time": "2022-12-07T07:49:23.875Z"
   },
   {
    "duration": 1089,
    "start_time": "2022-12-07T07:49:24.101Z"
   },
   {
    "duration": 34,
    "start_time": "2022-12-07T07:49:25.196Z"
   },
   {
    "duration": 3,
    "start_time": "2022-12-07T07:49:25.232Z"
   },
   {
    "duration": 294,
    "start_time": "2022-12-07T07:49:25.237Z"
   },
   {
    "duration": 270,
    "start_time": "2022-12-07T07:49:25.533Z"
   },
   {
    "duration": 342,
    "start_time": "2022-12-07T07:49:25.805Z"
   },
   {
    "duration": 427,
    "start_time": "2022-12-07T07:49:26.150Z"
   },
   {
    "duration": 18,
    "start_time": "2022-12-07T07:49:26.579Z"
   },
   {
    "duration": 62,
    "start_time": "2022-12-07T07:49:26.599Z"
   },
   {
    "duration": 6,
    "start_time": "2022-12-07T07:49:26.662Z"
   },
   {
    "duration": 14,
    "start_time": "2022-12-07T07:49:26.670Z"
   },
   {
    "duration": 13,
    "start_time": "2022-12-07T07:49:26.686Z"
   },
   {
    "duration": 6,
    "start_time": "2022-12-07T07:49:26.700Z"
   },
   {
    "duration": 14,
    "start_time": "2022-12-07T07:49:26.708Z"
   },
   {
    "duration": 29192,
    "start_time": "2022-12-07T07:49:26.724Z"
   },
   {
    "duration": 54536,
    "start_time": "2022-12-07T07:49:55.917Z"
   },
   {
    "duration": 28849,
    "start_time": "2022-12-07T07:51:40.564Z"
   },
   {
    "duration": 1375,
    "start_time": "2022-12-07T07:52:30.082Z"
   },
   {
    "duration": 686,
    "start_time": "2022-12-07T07:52:31.459Z"
   },
   {
    "duration": 4,
    "start_time": "2022-12-07T07:52:32.147Z"
   },
   {
    "duration": 273,
    "start_time": "2022-12-07T07:52:32.153Z"
   },
   {
    "duration": 157,
    "start_time": "2022-12-07T07:52:32.428Z"
   },
   {
    "duration": 284,
    "start_time": "2022-12-07T07:52:32.586Z"
   },
   {
    "duration": 3,
    "start_time": "2022-12-07T07:52:32.872Z"
   },
   {
    "duration": 22,
    "start_time": "2022-12-07T07:52:32.877Z"
   },
   {
    "duration": 6,
    "start_time": "2022-12-07T07:52:32.901Z"
   },
   {
    "duration": 17,
    "start_time": "2022-12-07T07:52:32.909Z"
   },
   {
    "duration": 29,
    "start_time": "2022-12-07T07:52:32.928Z"
   },
   {
    "duration": 133,
    "start_time": "2022-12-07T07:52:32.959Z"
   },
   {
    "duration": 20,
    "start_time": "2022-12-07T07:52:33.094Z"
   },
   {
    "duration": 94,
    "start_time": "2022-12-07T07:52:33.116Z"
   },
   {
    "duration": 9,
    "start_time": "2022-12-07T07:52:33.212Z"
   },
   {
    "duration": 19,
    "start_time": "2022-12-07T07:52:33.223Z"
   },
   {
    "duration": 9,
    "start_time": "2022-12-07T07:52:33.244Z"
   },
   {
    "duration": 4426,
    "start_time": "2022-12-07T07:52:33.254Z"
   },
   {
    "duration": 6,
    "start_time": "2022-12-07T07:52:37.682Z"
   },
   {
    "duration": 9,
    "start_time": "2022-12-07T07:52:37.697Z"
   },
   {
    "duration": 195,
    "start_time": "2022-12-07T07:52:37.708Z"
   },
   {
    "duration": 995,
    "start_time": "2022-12-07T07:52:37.905Z"
   },
   {
    "duration": 31,
    "start_time": "2022-12-07T07:52:38.902Z"
   },
   {
    "duration": 3,
    "start_time": "2022-12-07T07:52:38.935Z"
   },
   {
    "duration": 305,
    "start_time": "2022-12-07T07:52:38.939Z"
   },
   {
    "duration": 259,
    "start_time": "2022-12-07T07:52:39.245Z"
   },
   {
    "duration": 282,
    "start_time": "2022-12-07T07:52:39.505Z"
   },
   {
    "duration": 374,
    "start_time": "2022-12-07T07:52:39.797Z"
   },
   {
    "duration": 4,
    "start_time": "2022-12-07T07:52:40.172Z"
   },
   {
    "duration": 59,
    "start_time": "2022-12-07T07:52:40.177Z"
   },
   {
    "duration": 5,
    "start_time": "2022-12-07T07:52:40.237Z"
   },
   {
    "duration": 14,
    "start_time": "2022-12-07T07:52:40.244Z"
   },
   {
    "duration": 9,
    "start_time": "2022-12-07T07:52:40.259Z"
   },
   {
    "duration": 5,
    "start_time": "2022-12-07T07:52:40.270Z"
   },
   {
    "duration": 12,
    "start_time": "2022-12-07T07:52:40.276Z"
   },
   {
    "duration": 29103,
    "start_time": "2022-12-07T07:52:40.290Z"
   },
   {
    "duration": 54250,
    "start_time": "2022-12-07T07:53:09.394Z"
   },
   {
    "duration": 1219,
    "start_time": "2022-12-07T08:08:52.040Z"
   },
   {
    "duration": 661,
    "start_time": "2022-12-07T08:08:53.261Z"
   },
   {
    "duration": 4,
    "start_time": "2022-12-07T08:08:53.924Z"
   },
   {
    "duration": 248,
    "start_time": "2022-12-07T08:08:53.930Z"
   },
   {
    "duration": 148,
    "start_time": "2022-12-07T08:08:54.179Z"
   },
   {
    "duration": 254,
    "start_time": "2022-12-07T08:08:54.328Z"
   },
   {
    "duration": 3,
    "start_time": "2022-12-07T08:08:54.583Z"
   },
   {
    "duration": 10,
    "start_time": "2022-12-07T08:08:54.597Z"
   },
   {
    "duration": 5,
    "start_time": "2022-12-07T08:08:54.609Z"
   },
   {
    "duration": 4,
    "start_time": "2022-12-07T08:08:54.617Z"
   },
   {
    "duration": 8,
    "start_time": "2022-12-07T08:08:54.623Z"
   },
   {
    "duration": 155,
    "start_time": "2022-12-07T08:08:54.632Z"
   },
   {
    "duration": 32,
    "start_time": "2022-12-07T08:08:54.788Z"
   },
   {
    "duration": 117,
    "start_time": "2022-12-07T08:08:54.822Z"
   },
   {
    "duration": 12,
    "start_time": "2022-12-07T08:08:54.941Z"
   },
   {
    "duration": 19,
    "start_time": "2022-12-07T08:08:54.955Z"
   },
   {
    "duration": 22,
    "start_time": "2022-12-07T08:08:54.975Z"
   },
   {
    "duration": 4466,
    "start_time": "2022-12-07T08:08:54.999Z"
   },
   {
    "duration": 7,
    "start_time": "2022-12-07T08:08:59.467Z"
   },
   {
    "duration": 21,
    "start_time": "2022-12-07T08:08:59.476Z"
   },
   {
    "duration": 204,
    "start_time": "2022-12-07T08:08:59.499Z"
   },
   {
    "duration": 1089,
    "start_time": "2022-12-07T08:08:59.704Z"
   },
   {
    "duration": 35,
    "start_time": "2022-12-07T08:09:00.794Z"
   },
   {
    "duration": 6,
    "start_time": "2022-12-07T08:09:00.831Z"
   },
   {
    "duration": 301,
    "start_time": "2022-12-07T08:09:00.839Z"
   },
   {
    "duration": 281,
    "start_time": "2022-12-07T08:09:01.143Z"
   },
   {
    "duration": 287,
    "start_time": "2022-12-07T08:09:01.425Z"
   },
   {
    "duration": 375,
    "start_time": "2022-12-07T08:09:01.715Z"
   },
   {
    "duration": 7,
    "start_time": "2022-12-07T08:09:02.091Z"
   },
   {
    "duration": 49,
    "start_time": "2022-12-07T08:09:02.100Z"
   },
   {
    "duration": 5,
    "start_time": "2022-12-07T08:09:02.151Z"
   },
   {
    "duration": 14,
    "start_time": "2022-12-07T08:09:02.158Z"
   },
   {
    "duration": 12,
    "start_time": "2022-12-07T08:09:02.174Z"
   },
   {
    "duration": 10,
    "start_time": "2022-12-07T08:09:02.187Z"
   },
   {
    "duration": 10,
    "start_time": "2022-12-07T08:09:02.198Z"
   },
   {
    "duration": 28439,
    "start_time": "2022-12-07T08:09:02.209Z"
   },
   {
    "duration": 52327,
    "start_time": "2022-12-07T08:09:30.649Z"
   },
   {
    "duration": 7,
    "start_time": "2022-12-07T08:11:23.249Z"
   },
   {
    "duration": 6,
    "start_time": "2022-12-07T08:11:54.910Z"
   },
   {
    "duration": 8,
    "start_time": "2022-12-07T08:13:06.608Z"
   },
   {
    "duration": 3,
    "start_time": "2022-12-07T08:13:23.200Z"
   },
   {
    "duration": 5,
    "start_time": "2022-12-07T08:19:57.820Z"
   },
   {
    "duration": 3,
    "start_time": "2022-12-07T08:20:03.798Z"
   },
   {
    "duration": 5,
    "start_time": "2022-12-07T08:20:04.307Z"
   },
   {
    "duration": 3,
    "start_time": "2022-12-07T08:20:04.944Z"
   },
   {
    "duration": 9,
    "start_time": "2022-12-07T08:20:06.170Z"
   },
   {
    "duration": 28474,
    "start_time": "2022-12-07T08:20:06.868Z"
   },
   {
    "duration": 1305,
    "start_time": "2022-12-07T08:21:03.068Z"
   },
   {
    "duration": 724,
    "start_time": "2022-12-07T08:21:04.374Z"
   },
   {
    "duration": 3,
    "start_time": "2022-12-07T08:21:05.100Z"
   },
   {
    "duration": 316,
    "start_time": "2022-12-07T08:21:05.106Z"
   },
   {
    "duration": 147,
    "start_time": "2022-12-07T08:21:05.424Z"
   },
   {
    "duration": 292,
    "start_time": "2022-12-07T08:21:05.573Z"
   },
   {
    "duration": 3,
    "start_time": "2022-12-07T08:21:05.868Z"
   },
   {
    "duration": 24,
    "start_time": "2022-12-07T08:21:05.873Z"
   },
   {
    "duration": 6,
    "start_time": "2022-12-07T08:21:05.899Z"
   },
   {
    "duration": 5,
    "start_time": "2022-12-07T08:21:05.908Z"
   },
   {
    "duration": 10,
    "start_time": "2022-12-07T08:21:05.915Z"
   },
   {
    "duration": 141,
    "start_time": "2022-12-07T08:21:05.927Z"
   },
   {
    "duration": 18,
    "start_time": "2022-12-07T08:21:06.069Z"
   },
   {
    "duration": 80,
    "start_time": "2022-12-07T08:21:06.097Z"
   },
   {
    "duration": 18,
    "start_time": "2022-12-07T08:21:06.179Z"
   },
   {
    "duration": 11,
    "start_time": "2022-12-07T08:21:06.199Z"
   },
   {
    "duration": 10,
    "start_time": "2022-12-07T08:21:06.211Z"
   },
   {
    "duration": 4382,
    "start_time": "2022-12-07T08:21:06.223Z"
   },
   {
    "duration": 7,
    "start_time": "2022-12-07T08:21:10.607Z"
   },
   {
    "duration": 10,
    "start_time": "2022-12-07T08:21:10.615Z"
   },
   {
    "duration": 206,
    "start_time": "2022-12-07T08:21:10.626Z"
   },
   {
    "duration": 985,
    "start_time": "2022-12-07T08:21:10.833Z"
   },
   {
    "duration": 31,
    "start_time": "2022-12-07T08:21:11.819Z"
   },
   {
    "duration": 3,
    "start_time": "2022-12-07T08:21:11.852Z"
   },
   {
    "duration": 304,
    "start_time": "2022-12-07T08:21:11.856Z"
   },
   {
    "duration": 278,
    "start_time": "2022-12-07T08:21:12.162Z"
   },
   {
    "duration": 295,
    "start_time": "2022-12-07T08:21:12.442Z"
   },
   {
    "duration": 399,
    "start_time": "2022-12-07T08:21:12.740Z"
   },
   {
    "duration": 4,
    "start_time": "2022-12-07T08:21:13.140Z"
   },
   {
    "duration": 64,
    "start_time": "2022-12-07T08:21:13.145Z"
   },
   {
    "duration": 5,
    "start_time": "2022-12-07T08:21:13.211Z"
   },
   {
    "duration": 9,
    "start_time": "2022-12-07T08:21:13.217Z"
   },
   {
    "duration": 9,
    "start_time": "2022-12-07T08:21:13.228Z"
   },
   {
    "duration": 7,
    "start_time": "2022-12-07T08:21:13.238Z"
   },
   {
    "duration": 10,
    "start_time": "2022-12-07T08:21:13.246Z"
   },
   {
    "duration": 28581,
    "start_time": "2022-12-07T08:21:13.258Z"
   },
   {
    "duration": 52563,
    "start_time": "2022-12-07T08:21:41.841Z"
   },
   {
    "duration": 6,
    "start_time": "2022-12-07T08:23:46.494Z"
   },
   {
    "duration": 4,
    "start_time": "2022-12-07T08:24:00.913Z"
   },
   {
    "duration": 1246,
    "start_time": "2022-12-07T08:28:50.145Z"
   },
   {
    "duration": 654,
    "start_time": "2022-12-07T08:28:51.393Z"
   },
   {
    "duration": 3,
    "start_time": "2022-12-07T08:28:52.049Z"
   },
   {
    "duration": 257,
    "start_time": "2022-12-07T08:28:52.055Z"
   },
   {
    "duration": 151,
    "start_time": "2022-12-07T08:28:52.313Z"
   },
   {
    "duration": 267,
    "start_time": "2022-12-07T08:28:52.466Z"
   },
   {
    "duration": 4,
    "start_time": "2022-12-07T08:28:52.734Z"
   },
   {
    "duration": 12,
    "start_time": "2022-12-07T08:28:52.739Z"
   },
   {
    "duration": 6,
    "start_time": "2022-12-07T08:28:52.753Z"
   },
   {
    "duration": 5,
    "start_time": "2022-12-07T08:28:52.762Z"
   },
   {
    "duration": 7,
    "start_time": "2022-12-07T08:28:52.797Z"
   },
   {
    "duration": 116,
    "start_time": "2022-12-07T08:28:52.806Z"
   },
   {
    "duration": 19,
    "start_time": "2022-12-07T08:28:52.924Z"
   },
   {
    "duration": 114,
    "start_time": "2022-12-07T08:28:52.944Z"
   },
   {
    "duration": 9,
    "start_time": "2022-12-07T08:28:53.060Z"
   },
   {
    "duration": 10,
    "start_time": "2022-12-07T08:28:53.070Z"
   },
   {
    "duration": 21,
    "start_time": "2022-12-07T08:28:53.081Z"
   },
   {
    "duration": 4560,
    "start_time": "2022-12-07T08:28:53.103Z"
   },
   {
    "duration": 8,
    "start_time": "2022-12-07T08:28:57.664Z"
   },
   {
    "duration": 19,
    "start_time": "2022-12-07T08:28:57.673Z"
   },
   {
    "duration": 207,
    "start_time": "2022-12-07T08:28:57.693Z"
   },
   {
    "duration": 1005,
    "start_time": "2022-12-07T08:28:57.902Z"
   },
   {
    "duration": 34,
    "start_time": "2022-12-07T08:28:58.908Z"
   },
   {
    "duration": 3,
    "start_time": "2022-12-07T08:28:58.944Z"
   },
   {
    "duration": 311,
    "start_time": "2022-12-07T08:28:58.949Z"
   },
   {
    "duration": 257,
    "start_time": "2022-12-07T08:28:59.261Z"
   },
   {
    "duration": 291,
    "start_time": "2022-12-07T08:28:59.520Z"
   },
   {
    "duration": 413,
    "start_time": "2022-12-07T08:28:59.814Z"
   },
   {
    "duration": 3,
    "start_time": "2022-12-07T08:29:00.228Z"
   },
   {
    "duration": 90,
    "start_time": "2022-12-07T08:29:00.233Z"
   },
   {
    "duration": 5,
    "start_time": "2022-12-07T08:29:00.325Z"
   },
   {
    "duration": 44,
    "start_time": "2022-12-07T08:29:00.331Z"
   },
   {
    "duration": 24,
    "start_time": "2022-12-07T08:29:00.376Z"
   },
   {
    "duration": 41,
    "start_time": "2022-12-07T08:29:00.402Z"
   },
   {
    "duration": 34,
    "start_time": "2022-12-07T08:29:00.445Z"
   },
   {
    "duration": 28379,
    "start_time": "2022-12-07T08:29:00.480Z"
   },
   {
    "duration": 51752,
    "start_time": "2022-12-07T08:29:28.860Z"
   },
   {
    "duration": 28507,
    "start_time": "2022-12-07T08:32:19.853Z"
   },
   {
    "duration": 5,
    "start_time": "2022-12-07T08:34:50.666Z"
   },
   {
    "duration": 4,
    "start_time": "2022-12-07T08:34:55.714Z"
   },
   {
    "duration": 5,
    "start_time": "2022-12-07T08:34:56.238Z"
   },
   {
    "duration": 3,
    "start_time": "2022-12-07T08:34:56.904Z"
   },
   {
    "duration": 9,
    "start_time": "2022-12-07T08:34:57.967Z"
   },
   {
    "duration": 33067,
    "start_time": "2022-12-07T08:34:59.449Z"
   },
   {
    "duration": 55757,
    "start_time": "2022-12-07T08:35:50.901Z"
   },
   {
    "duration": 5,
    "start_time": "2022-12-07T08:40:00.733Z"
   },
   {
    "duration": 3,
    "start_time": "2022-12-07T08:40:04.400Z"
   },
   {
    "duration": 5,
    "start_time": "2022-12-07T08:40:05.022Z"
   },
   {
    "duration": 2,
    "start_time": "2022-12-07T08:40:05.657Z"
   },
   {
    "duration": 8,
    "start_time": "2022-12-07T08:40:06.748Z"
   },
   {
    "duration": 34874,
    "start_time": "2022-12-07T08:40:07.529Z"
   },
   {
    "duration": 6,
    "start_time": "2022-12-07T08:40:56.423Z"
   },
   {
    "duration": 3,
    "start_time": "2022-12-07T08:40:58.862Z"
   },
   {
    "duration": 6,
    "start_time": "2022-12-07T08:40:59.395Z"
   },
   {
    "duration": 3,
    "start_time": "2022-12-07T08:40:59.819Z"
   },
   {
    "duration": 9,
    "start_time": "2022-12-07T08:41:00.532Z"
   },
   {
    "duration": 35803,
    "start_time": "2022-12-07T08:41:00.836Z"
   },
   {
    "duration": 5,
    "start_time": "2022-12-07T08:42:24.374Z"
   },
   {
    "duration": 3,
    "start_time": "2022-12-07T08:42:25.857Z"
   },
   {
    "duration": 6,
    "start_time": "2022-12-07T08:42:26.270Z"
   },
   {
    "duration": 3,
    "start_time": "2022-12-07T08:42:26.906Z"
   },
   {
    "duration": 7,
    "start_time": "2022-12-07T08:42:28.092Z"
   },
   {
    "duration": 32371,
    "start_time": "2022-12-07T08:42:28.425Z"
   },
   {
    "duration": 70,
    "start_time": "2022-12-07T08:44:01.617Z"
   },
   {
    "duration": 5,
    "start_time": "2022-12-07T08:44:10.129Z"
   },
   {
    "duration": 6,
    "start_time": "2022-12-07T08:44:30.383Z"
   },
   {
    "duration": 3,
    "start_time": "2022-12-07T08:44:32.706Z"
   },
   {
    "duration": 6,
    "start_time": "2022-12-07T08:44:33.168Z"
   },
   {
    "duration": 2,
    "start_time": "2022-12-07T08:44:33.789Z"
   },
   {
    "duration": 7,
    "start_time": "2022-12-07T08:44:35.134Z"
   },
   {
    "duration": 35269,
    "start_time": "2022-12-07T08:44:35.807Z"
   },
   {
    "duration": 5,
    "start_time": "2022-12-07T08:53:05.379Z"
   },
   {
    "duration": 3,
    "start_time": "2022-12-07T08:53:10.971Z"
   },
   {
    "duration": 5,
    "start_time": "2022-12-07T08:53:11.473Z"
   },
   {
    "duration": 2,
    "start_time": "2022-12-07T08:53:12.101Z"
   },
   {
    "duration": 8,
    "start_time": "2022-12-07T08:53:13.134Z"
   },
   {
    "duration": 35202,
    "start_time": "2022-12-07T08:53:13.357Z"
   },
   {
    "duration": 5,
    "start_time": "2022-12-07T08:53:48.560Z"
   },
   {
    "duration": 18,
    "start_time": "2022-12-07T08:53:48.567Z"
   },
   {
    "duration": 13,
    "start_time": "2022-12-07T08:53:48.587Z"
   },
   {
    "duration": 7,
    "start_time": "2022-12-07T08:53:48.602Z"
   },
   {
    "duration": 7,
    "start_time": "2022-12-07T08:53:48.634Z"
   },
   {
    "duration": 34692,
    "start_time": "2022-12-07T08:53:49.293Z"
   },
   {
    "duration": 5,
    "start_time": "2022-12-07T08:56:56.077Z"
   },
   {
    "duration": 3,
    "start_time": "2022-12-07T08:56:58.622Z"
   },
   {
    "duration": 5,
    "start_time": "2022-12-07T08:56:59.241Z"
   },
   {
    "duration": 3,
    "start_time": "2022-12-07T08:56:59.740Z"
   },
   {
    "duration": 8,
    "start_time": "2022-12-07T08:57:00.595Z"
   },
   {
    "duration": 28195,
    "start_time": "2022-12-07T08:57:01.286Z"
   },
   {
    "duration": 28891,
    "start_time": "2022-12-07T09:00:13.934Z"
   },
   {
    "duration": 8,
    "start_time": "2022-12-07T09:06:08.249Z"
   },
   {
    "duration": 3,
    "start_time": "2022-12-07T09:06:10.878Z"
   },
   {
    "duration": 7,
    "start_time": "2022-12-07T09:06:11.359Z"
   },
   {
    "duration": 3,
    "start_time": "2022-12-07T09:06:11.895Z"
   },
   {
    "duration": 8,
    "start_time": "2022-12-07T09:06:12.904Z"
   },
   {
    "duration": 17450,
    "start_time": "2022-12-07T09:06:13.343Z"
   },
   {
    "duration": 0,
    "start_time": "2022-12-07T09:06:30.795Z"
   },
   {
    "duration": 16190,
    "start_time": "2022-12-07T09:06:54.703Z"
   },
   {
    "duration": 15721,
    "start_time": "2022-12-07T09:07:50.039Z"
   },
   {
    "duration": 43,
    "start_time": "2022-12-07T09:09:18.956Z"
   },
   {
    "duration": 5,
    "start_time": "2022-12-07T09:09:24.412Z"
   },
   {
    "duration": 6,
    "start_time": "2022-12-07T09:24:25.611Z"
   },
   {
    "duration": 3,
    "start_time": "2022-12-07T09:24:28.954Z"
   },
   {
    "duration": 6,
    "start_time": "2022-12-07T09:24:29.533Z"
   },
   {
    "duration": 3,
    "start_time": "2022-12-07T09:24:30.081Z"
   },
   {
    "duration": 7,
    "start_time": "2022-12-07T09:24:31.147Z"
   },
   {
    "duration": 38403,
    "start_time": "2022-12-07T09:24:32.191Z"
   },
   {
    "duration": 5,
    "start_time": "2022-12-07T09:27:42.563Z"
   },
   {
    "duration": 2,
    "start_time": "2022-12-07T09:27:44.422Z"
   },
   {
    "duration": 6,
    "start_time": "2022-12-07T09:27:44.838Z"
   },
   {
    "duration": 3,
    "start_time": "2022-12-07T09:27:45.274Z"
   },
   {
    "duration": 8,
    "start_time": "2022-12-07T09:27:46.227Z"
   },
   {
    "duration": 34942,
    "start_time": "2022-12-07T09:27:46.696Z"
   },
   {
    "duration": 6,
    "start_time": "2022-12-07T09:30:20.013Z"
   },
   {
    "duration": 2,
    "start_time": "2022-12-07T09:30:23.258Z"
   },
   {
    "duration": 5,
    "start_time": "2022-12-07T09:30:23.705Z"
   },
   {
    "duration": 3,
    "start_time": "2022-12-07T09:30:24.180Z"
   },
   {
    "duration": 7,
    "start_time": "2022-12-07T09:30:25.142Z"
   },
   {
    "duration": 32207,
    "start_time": "2022-12-07T09:30:25.745Z"
   },
   {
    "duration": 54497,
    "start_time": "2022-12-07T09:32:31.297Z"
   },
   {
    "duration": 11,
    "start_time": "2022-12-07T09:36:18.830Z"
   },
   {
    "duration": 10,
    "start_time": "2022-12-07T09:38:48.194Z"
   },
   {
    "duration": 1642,
    "start_time": "2022-12-07T09:41:28.819Z"
   },
   {
    "duration": 1702,
    "start_time": "2022-12-07T09:41:46.356Z"
   },
   {
    "duration": 1606,
    "start_time": "2022-12-07T09:47:02.752Z"
   },
   {
    "duration": 2048,
    "start_time": "2022-12-07T09:47:21.106Z"
   },
   {
    "duration": 1755,
    "start_time": "2022-12-07T09:47:35.594Z"
   },
   {
    "duration": 1733,
    "start_time": "2022-12-07T09:47:49.411Z"
   },
   {
    "duration": 1883,
    "start_time": "2022-12-07T09:47:59.443Z"
   },
   {
    "duration": 68,
    "start_time": "2022-12-07T09:49:18.093Z"
   },
   {
    "duration": 1240,
    "start_time": "2022-12-07T09:52:10.343Z"
   },
   {
    "duration": 691,
    "start_time": "2022-12-07T09:52:11.585Z"
   },
   {
    "duration": 3,
    "start_time": "2022-12-07T09:52:12.278Z"
   },
   {
    "duration": 275,
    "start_time": "2022-12-07T09:52:12.283Z"
   },
   {
    "duration": 151,
    "start_time": "2022-12-07T09:52:12.559Z"
   },
   {
    "duration": 270,
    "start_time": "2022-12-07T09:52:12.711Z"
   },
   {
    "duration": 4,
    "start_time": "2022-12-07T09:52:12.982Z"
   },
   {
    "duration": 16,
    "start_time": "2022-12-07T09:52:12.987Z"
   },
   {
    "duration": 7,
    "start_time": "2022-12-07T09:52:13.005Z"
   },
   {
    "duration": 6,
    "start_time": "2022-12-07T09:52:13.015Z"
   },
   {
    "duration": 13,
    "start_time": "2022-12-07T09:52:13.023Z"
   },
   {
    "duration": 127,
    "start_time": "2022-12-07T09:52:13.038Z"
   },
   {
    "duration": 17,
    "start_time": "2022-12-07T09:52:13.166Z"
   },
   {
    "duration": 91,
    "start_time": "2022-12-07T09:52:13.185Z"
   },
   {
    "duration": 21,
    "start_time": "2022-12-07T09:52:13.278Z"
   },
   {
    "duration": 10,
    "start_time": "2022-12-07T09:52:13.301Z"
   },
   {
    "duration": 12,
    "start_time": "2022-12-07T09:52:13.313Z"
   },
   {
    "duration": 4456,
    "start_time": "2022-12-07T09:52:13.327Z"
   },
   {
    "duration": 15,
    "start_time": "2022-12-07T09:52:17.785Z"
   },
   {
    "duration": 9,
    "start_time": "2022-12-07T09:52:17.802Z"
   },
   {
    "duration": 205,
    "start_time": "2022-12-07T09:52:17.813Z"
   },
   {
    "duration": 1047,
    "start_time": "2022-12-07T09:52:18.020Z"
   },
   {
    "duration": 48,
    "start_time": "2022-12-07T09:52:19.068Z"
   },
   {
    "duration": 4,
    "start_time": "2022-12-07T09:52:19.118Z"
   },
   {
    "duration": 373,
    "start_time": "2022-12-07T09:52:19.124Z"
   },
   {
    "duration": 270,
    "start_time": "2022-12-07T09:52:19.499Z"
   },
   {
    "duration": 334,
    "start_time": "2022-12-07T09:52:19.771Z"
   },
   {
    "duration": 404,
    "start_time": "2022-12-07T09:52:20.110Z"
   },
   {
    "duration": 4,
    "start_time": "2022-12-07T09:52:20.516Z"
   },
   {
    "duration": 57,
    "start_time": "2022-12-07T09:52:20.522Z"
   },
   {
    "duration": 6,
    "start_time": "2022-12-07T09:52:20.581Z"
   },
   {
    "duration": 3,
    "start_time": "2022-12-07T09:52:20.597Z"
   },
   {
    "duration": 10,
    "start_time": "2022-12-07T09:52:20.602Z"
   },
   {
    "duration": 10,
    "start_time": "2022-12-07T09:52:20.613Z"
   },
   {
    "duration": 17,
    "start_time": "2022-12-07T09:52:20.625Z"
   },
   {
    "duration": 32298,
    "start_time": "2022-12-07T09:52:20.644Z"
   },
   {
    "duration": 55974,
    "start_time": "2022-12-07T09:52:52.943Z"
   },
   {
    "duration": 2135,
    "start_time": "2022-12-07T09:53:48.919Z"
   },
   {
    "duration": 116,
    "start_time": "2022-12-07T09:54:05.821Z"
   },
   {
    "duration": 1271,
    "start_time": "2022-12-07T09:54:25.556Z"
   },
   {
    "duration": 683,
    "start_time": "2022-12-07T09:54:26.828Z"
   },
   {
    "duration": 3,
    "start_time": "2022-12-07T09:54:27.513Z"
   },
   {
    "duration": 249,
    "start_time": "2022-12-07T09:54:27.518Z"
   },
   {
    "duration": 156,
    "start_time": "2022-12-07T09:54:27.769Z"
   },
   {
    "duration": 295,
    "start_time": "2022-12-07T09:54:27.926Z"
   },
   {
    "duration": 4,
    "start_time": "2022-12-07T09:54:28.222Z"
   },
   {
    "duration": 14,
    "start_time": "2022-12-07T09:54:28.227Z"
   },
   {
    "duration": 7,
    "start_time": "2022-12-07T09:54:28.243Z"
   },
   {
    "duration": 5,
    "start_time": "2022-12-07T09:54:28.253Z"
   },
   {
    "duration": 44,
    "start_time": "2022-12-07T09:54:28.259Z"
   },
   {
    "duration": 120,
    "start_time": "2022-12-07T09:54:28.304Z"
   },
   {
    "duration": 25,
    "start_time": "2022-12-07T09:54:28.426Z"
   },
   {
    "duration": 92,
    "start_time": "2022-12-07T09:54:28.453Z"
   },
   {
    "duration": 9,
    "start_time": "2022-12-07T09:54:28.546Z"
   },
   {
    "duration": 11,
    "start_time": "2022-12-07T09:54:28.556Z"
   },
   {
    "duration": 9,
    "start_time": "2022-12-07T09:54:28.568Z"
   },
   {
    "duration": 4485,
    "start_time": "2022-12-07T09:54:28.578Z"
   },
   {
    "duration": 7,
    "start_time": "2022-12-07T09:54:33.065Z"
   },
   {
    "duration": 12,
    "start_time": "2022-12-07T09:54:33.074Z"
   },
   {
    "duration": 192,
    "start_time": "2022-12-07T09:54:33.098Z"
   },
   {
    "duration": 1028,
    "start_time": "2022-12-07T09:54:33.292Z"
   },
   {
    "duration": 32,
    "start_time": "2022-12-07T09:54:34.321Z"
   },
   {
    "duration": 4,
    "start_time": "2022-12-07T09:54:34.355Z"
   },
   {
    "duration": 336,
    "start_time": "2022-12-07T09:54:34.361Z"
   },
   {
    "duration": 372,
    "start_time": "2022-12-07T09:54:34.699Z"
   },
   {
    "duration": 293,
    "start_time": "2022-12-07T09:54:35.072Z"
   },
   {
    "duration": 389,
    "start_time": "2022-12-07T09:54:35.368Z"
   },
   {
    "duration": 4,
    "start_time": "2022-12-07T09:54:35.758Z"
   },
   {
    "duration": 58,
    "start_time": "2022-12-07T09:54:35.763Z"
   },
   {
    "duration": 5,
    "start_time": "2022-12-07T09:54:35.823Z"
   },
   {
    "duration": 9,
    "start_time": "2022-12-07T09:54:35.829Z"
   },
   {
    "duration": 10,
    "start_time": "2022-12-07T09:54:35.839Z"
   },
   {
    "duration": 4,
    "start_time": "2022-12-07T09:54:35.851Z"
   },
   {
    "duration": 9,
    "start_time": "2022-12-07T09:54:35.857Z"
   },
   {
    "duration": 124,
    "start_time": "2022-12-07T09:54:35.867Z"
   },
   {
    "duration": 0,
    "start_time": "2022-12-07T09:54:35.993Z"
   },
   {
    "duration": 0,
    "start_time": "2022-12-07T09:54:35.997Z"
   },
   {
    "duration": 1384,
    "start_time": "2022-12-07T09:55:11.040Z"
   },
   {
    "duration": 757,
    "start_time": "2022-12-07T09:55:12.427Z"
   },
   {
    "duration": 4,
    "start_time": "2022-12-07T09:55:13.186Z"
   },
   {
    "duration": 347,
    "start_time": "2022-12-07T09:55:13.192Z"
   },
   {
    "duration": 168,
    "start_time": "2022-12-07T09:55:13.541Z"
   },
   {
    "duration": 299,
    "start_time": "2022-12-07T09:55:13.711Z"
   },
   {
    "duration": 4,
    "start_time": "2022-12-07T09:55:14.013Z"
   },
   {
    "duration": 32,
    "start_time": "2022-12-07T09:55:14.019Z"
   },
   {
    "duration": 53,
    "start_time": "2022-12-07T09:55:14.053Z"
   },
   {
    "duration": 36,
    "start_time": "2022-12-07T09:55:14.109Z"
   },
   {
    "duration": 40,
    "start_time": "2022-12-07T09:55:14.147Z"
   },
   {
    "duration": 136,
    "start_time": "2022-12-07T09:55:14.189Z"
   },
   {
    "duration": 19,
    "start_time": "2022-12-07T09:55:14.326Z"
   },
   {
    "duration": 99,
    "start_time": "2022-12-07T09:55:14.347Z"
   },
   {
    "duration": 11,
    "start_time": "2022-12-07T09:55:14.447Z"
   },
   {
    "duration": 24,
    "start_time": "2022-12-07T09:55:14.460Z"
   },
   {
    "duration": 20,
    "start_time": "2022-12-07T09:55:14.485Z"
   },
   {
    "duration": 4942,
    "start_time": "2022-12-07T09:55:14.506Z"
   },
   {
    "duration": 8,
    "start_time": "2022-12-07T09:55:19.450Z"
   },
   {
    "duration": 13,
    "start_time": "2022-12-07T09:55:19.459Z"
   },
   {
    "duration": 213,
    "start_time": "2022-12-07T09:55:19.474Z"
   },
   {
    "duration": 1090,
    "start_time": "2022-12-07T09:55:19.689Z"
   },
   {
    "duration": 40,
    "start_time": "2022-12-07T09:55:20.782Z"
   },
   {
    "duration": 3,
    "start_time": "2022-12-07T09:55:20.824Z"
   },
   {
    "duration": 302,
    "start_time": "2022-12-07T09:55:20.828Z"
   },
   {
    "duration": 267,
    "start_time": "2022-12-07T09:55:21.132Z"
   },
   {
    "duration": 300,
    "start_time": "2022-12-07T09:55:21.401Z"
   },
   {
    "duration": 392,
    "start_time": "2022-12-07T09:55:21.705Z"
   },
   {
    "duration": 4,
    "start_time": "2022-12-07T09:55:22.099Z"
   },
   {
    "duration": 54,
    "start_time": "2022-12-07T09:55:22.104Z"
   },
   {
    "duration": 6,
    "start_time": "2022-12-07T09:55:22.160Z"
   },
   {
    "duration": 12,
    "start_time": "2022-12-07T09:55:22.167Z"
   },
   {
    "duration": 9,
    "start_time": "2022-12-07T09:55:22.180Z"
   },
   {
    "duration": 2,
    "start_time": "2022-12-07T09:55:22.198Z"
   },
   {
    "duration": 11,
    "start_time": "2022-12-07T09:55:22.201Z"
   },
   {
    "duration": 32897,
    "start_time": "2022-12-07T09:55:22.213Z"
   },
   {
    "duration": 0,
    "start_time": "2022-12-07T09:55:55.112Z"
   },
   {
    "duration": 0,
    "start_time": "2022-12-07T09:55:55.113Z"
   },
   {
    "duration": 1270,
    "start_time": "2022-12-07T09:56:45.878Z"
   },
   {
    "duration": 683,
    "start_time": "2022-12-07T09:56:47.150Z"
   },
   {
    "duration": 3,
    "start_time": "2022-12-07T09:56:47.835Z"
   },
   {
    "duration": 292,
    "start_time": "2022-12-07T09:56:47.839Z"
   },
   {
    "duration": 149,
    "start_time": "2022-12-07T09:56:48.133Z"
   },
   {
    "duration": 265,
    "start_time": "2022-12-07T09:56:48.284Z"
   },
   {
    "duration": 3,
    "start_time": "2022-12-07T09:56:48.551Z"
   },
   {
    "duration": 44,
    "start_time": "2022-12-07T09:56:48.555Z"
   },
   {
    "duration": 22,
    "start_time": "2022-12-07T09:56:48.600Z"
   },
   {
    "duration": 46,
    "start_time": "2022-12-07T09:56:48.624Z"
   },
   {
    "duration": 24,
    "start_time": "2022-12-07T09:56:48.671Z"
   },
   {
    "duration": 134,
    "start_time": "2022-12-07T09:56:48.696Z"
   },
   {
    "duration": 18,
    "start_time": "2022-12-07T09:56:48.832Z"
   },
   {
    "duration": 92,
    "start_time": "2022-12-07T09:56:48.852Z"
   },
   {
    "duration": 9,
    "start_time": "2022-12-07T09:56:48.945Z"
   },
   {
    "duration": 40,
    "start_time": "2022-12-07T09:56:48.955Z"
   },
   {
    "duration": 49,
    "start_time": "2022-12-07T09:56:48.997Z"
   },
   {
    "duration": 4189,
    "start_time": "2022-12-07T09:56:49.048Z"
   },
   {
    "duration": 7,
    "start_time": "2022-12-07T09:56:53.239Z"
   },
   {
    "duration": 50,
    "start_time": "2022-12-07T09:56:53.248Z"
   },
   {
    "duration": 218,
    "start_time": "2022-12-07T09:56:53.300Z"
   },
   {
    "duration": 987,
    "start_time": "2022-12-07T09:56:53.520Z"
   },
   {
    "duration": 31,
    "start_time": "2022-12-07T09:56:54.509Z"
   },
   {
    "duration": 3,
    "start_time": "2022-12-07T09:56:54.542Z"
   },
   {
    "duration": 371,
    "start_time": "2022-12-07T09:56:54.546Z"
   },
   {
    "duration": 264,
    "start_time": "2022-12-07T09:56:54.919Z"
   },
   {
    "duration": 304,
    "start_time": "2022-12-07T09:56:55.184Z"
   },
   {
    "duration": 406,
    "start_time": "2022-12-07T09:56:55.496Z"
   },
   {
    "duration": 4,
    "start_time": "2022-12-07T09:56:55.903Z"
   },
   {
    "duration": 78,
    "start_time": "2022-12-07T09:56:55.909Z"
   },
   {
    "duration": 5,
    "start_time": "2022-12-07T09:56:55.988Z"
   },
   {
    "duration": 44,
    "start_time": "2022-12-07T09:56:55.995Z"
   },
   {
    "duration": 14,
    "start_time": "2022-12-07T09:56:56.040Z"
   },
   {
    "duration": 29,
    "start_time": "2022-12-07T09:56:56.055Z"
   },
   {
    "duration": 39,
    "start_time": "2022-12-07T09:56:56.085Z"
   },
   {
    "duration": 32223,
    "start_time": "2022-12-07T09:56:56.126Z"
   },
   {
    "duration": 54465,
    "start_time": "2022-12-07T09:57:28.350Z"
   },
   {
    "duration": 2112,
    "start_time": "2022-12-07T09:58:22.817Z"
   },
   {
    "duration": 110,
    "start_time": "2022-12-07T10:00:01.341Z"
   },
   {
    "duration": 165,
    "start_time": "2022-12-07T10:00:22.079Z"
   },
   {
    "duration": 127,
    "start_time": "2022-12-07T10:00:32.719Z"
   },
   {
    "duration": 139,
    "start_time": "2022-12-07T10:00:37.865Z"
   },
   {
    "duration": 1218,
    "start_time": "2022-12-07T10:01:32.955Z"
   },
   {
    "duration": 714,
    "start_time": "2022-12-07T10:01:34.175Z"
   },
   {
    "duration": 8,
    "start_time": "2022-12-07T10:01:34.891Z"
   },
   {
    "duration": 308,
    "start_time": "2022-12-07T10:01:34.901Z"
   },
   {
    "duration": 169,
    "start_time": "2022-12-07T10:01:35.210Z"
   },
   {
    "duration": 280,
    "start_time": "2022-12-07T10:01:35.381Z"
   },
   {
    "duration": 4,
    "start_time": "2022-12-07T10:01:35.662Z"
   },
   {
    "duration": 15,
    "start_time": "2022-12-07T10:01:35.669Z"
   },
   {
    "duration": 12,
    "start_time": "2022-12-07T10:01:35.701Z"
   },
   {
    "duration": 5,
    "start_time": "2022-12-07T10:01:35.716Z"
   },
   {
    "duration": 20,
    "start_time": "2022-12-07T10:01:35.723Z"
   },
   {
    "duration": 112,
    "start_time": "2022-12-07T10:01:35.744Z"
   },
   {
    "duration": 26,
    "start_time": "2022-12-07T10:01:35.857Z"
   },
   {
    "duration": 90,
    "start_time": "2022-12-07T10:01:35.896Z"
   },
   {
    "duration": 21,
    "start_time": "2022-12-07T10:01:35.988Z"
   },
   {
    "duration": 13,
    "start_time": "2022-12-07T10:01:36.011Z"
   },
   {
    "duration": 11,
    "start_time": "2022-12-07T10:01:36.026Z"
   },
   {
    "duration": 4440,
    "start_time": "2022-12-07T10:01:36.038Z"
   },
   {
    "duration": 10,
    "start_time": "2022-12-07T10:01:40.479Z"
   },
   {
    "duration": 12,
    "start_time": "2022-12-07T10:01:40.498Z"
   },
   {
    "duration": 195,
    "start_time": "2022-12-07T10:01:40.512Z"
   },
   {
    "duration": 1024,
    "start_time": "2022-12-07T10:01:40.709Z"
   },
   {
    "duration": 37,
    "start_time": "2022-12-07T10:01:41.735Z"
   },
   {
    "duration": 5,
    "start_time": "2022-12-07T10:01:41.774Z"
   },
   {
    "duration": 379,
    "start_time": "2022-12-07T10:01:41.780Z"
   },
   {
    "duration": 306,
    "start_time": "2022-12-07T10:01:42.161Z"
   },
   {
    "duration": 349,
    "start_time": "2022-12-07T10:01:42.469Z"
   },
   {
    "duration": 422,
    "start_time": "2022-12-07T10:01:42.822Z"
   },
   {
    "duration": 4,
    "start_time": "2022-12-07T10:01:43.246Z"
   },
   {
    "duration": 68,
    "start_time": "2022-12-07T10:01:43.251Z"
   },
   {
    "duration": 6,
    "start_time": "2022-12-07T10:01:43.321Z"
   },
   {
    "duration": 51,
    "start_time": "2022-12-07T10:01:43.329Z"
   },
   {
    "duration": 22,
    "start_time": "2022-12-07T10:01:43.382Z"
   },
   {
    "duration": 29,
    "start_time": "2022-12-07T10:01:43.405Z"
   },
   {
    "duration": 27,
    "start_time": "2022-12-07T10:01:43.435Z"
   },
   {
    "duration": 33251,
    "start_time": "2022-12-07T10:01:43.463Z"
   },
   {
    "duration": 56028,
    "start_time": "2022-12-07T10:02:16.716Z"
   },
   {
    "duration": 2464,
    "start_time": "2022-12-07T10:03:12.746Z"
   },
   {
    "duration": 131,
    "start_time": "2022-12-07T10:03:15.211Z"
   },
   {
    "duration": 1749,
    "start_time": "2022-12-07T19:05:32.429Z"
   },
   {
    "duration": 652,
    "start_time": "2022-12-07T19:05:34.180Z"
   },
   {
    "duration": 3,
    "start_time": "2022-12-07T19:05:34.833Z"
   },
   {
    "duration": 289,
    "start_time": "2022-12-07T19:05:34.838Z"
   },
   {
    "duration": 161,
    "start_time": "2022-12-07T19:05:35.128Z"
   },
   {
    "duration": 283,
    "start_time": "2022-12-07T19:05:35.291Z"
   },
   {
    "duration": 6,
    "start_time": "2022-12-07T19:05:35.586Z"
   },
   {
    "duration": 17,
    "start_time": "2022-12-07T19:05:35.593Z"
   },
   {
    "duration": 7,
    "start_time": "2022-12-07T19:05:35.612Z"
   },
   {
    "duration": 5,
    "start_time": "2022-12-07T19:05:35.622Z"
   },
   {
    "duration": 12,
    "start_time": "2022-12-07T19:05:35.628Z"
   },
   {
    "duration": 118,
    "start_time": "2022-12-07T19:05:35.641Z"
   },
   {
    "duration": 26,
    "start_time": "2022-12-07T19:05:35.761Z"
   },
   {
    "duration": 79,
    "start_time": "2022-12-07T19:05:35.788Z"
   },
   {
    "duration": 8,
    "start_time": "2022-12-07T19:05:35.877Z"
   },
   {
    "duration": 10,
    "start_time": "2022-12-07T19:05:35.887Z"
   },
   {
    "duration": 10,
    "start_time": "2022-12-07T19:05:35.898Z"
   },
   {
    "duration": 4518,
    "start_time": "2022-12-07T19:05:35.909Z"
   },
   {
    "duration": 7,
    "start_time": "2022-12-07T19:05:40.429Z"
   },
   {
    "duration": 13,
    "start_time": "2022-12-07T19:05:40.438Z"
   },
   {
    "duration": 224,
    "start_time": "2022-12-07T19:05:40.452Z"
   },
   {
    "duration": 980,
    "start_time": "2022-12-07T19:05:40.678Z"
   },
   {
    "duration": 37,
    "start_time": "2022-12-07T19:05:41.660Z"
   },
   {
    "duration": 3,
    "start_time": "2022-12-07T19:05:41.698Z"
   },
   {
    "duration": 275,
    "start_time": "2022-12-07T19:05:41.702Z"
   },
   {
    "duration": 253,
    "start_time": "2022-12-07T19:05:41.979Z"
   },
   {
    "duration": 284,
    "start_time": "2022-12-07T19:05:42.234Z"
   },
   {
    "duration": 408,
    "start_time": "2022-12-07T19:05:42.521Z"
   },
   {
    "duration": 3,
    "start_time": "2022-12-07T19:05:42.931Z"
   },
   {
    "duration": 61,
    "start_time": "2022-12-07T19:05:42.936Z"
   },
   {
    "duration": 6,
    "start_time": "2022-12-07T19:05:42.998Z"
   },
   {
    "duration": 16,
    "start_time": "2022-12-07T19:05:43.005Z"
   },
   {
    "duration": 13,
    "start_time": "2022-12-07T19:05:43.022Z"
   },
   {
    "duration": 5,
    "start_time": "2022-12-07T19:05:43.036Z"
   },
   {
    "duration": 9,
    "start_time": "2022-12-07T19:05:43.042Z"
   },
   {
    "duration": 14,
    "start_time": "2022-12-07T19:05:43.053Z"
   },
   {
    "duration": 1369,
    "start_time": "2022-12-19T21:15:59.951Z"
   },
   {
    "duration": 3016,
    "start_time": "2022-12-19T21:16:01.322Z"
   },
   {
    "duration": 3,
    "start_time": "2022-12-19T21:16:04.340Z"
   },
   {
    "duration": 259,
    "start_time": "2022-12-19T21:16:04.345Z"
   },
   {
    "duration": 160,
    "start_time": "2022-12-19T21:16:04.605Z"
   },
   {
    "duration": 277,
    "start_time": "2022-12-19T21:16:04.767Z"
   },
   {
    "duration": 3,
    "start_time": "2022-12-19T21:16:05.045Z"
   },
   {
    "duration": 24,
    "start_time": "2022-12-19T21:16:05.050Z"
   },
   {
    "duration": 9,
    "start_time": "2022-12-19T21:16:05.075Z"
   },
   {
    "duration": 6,
    "start_time": "2022-12-19T21:16:05.086Z"
   },
   {
    "duration": 13,
    "start_time": "2022-12-19T21:16:05.093Z"
   },
   {
    "duration": 114,
    "start_time": "2022-12-19T21:16:05.107Z"
   },
   {
    "duration": 18,
    "start_time": "2022-12-19T21:16:05.222Z"
   },
   {
    "duration": 91,
    "start_time": "2022-12-19T21:16:05.242Z"
   },
   {
    "duration": 10,
    "start_time": "2022-12-19T21:16:05.334Z"
   },
   {
    "duration": 46,
    "start_time": "2022-12-19T21:16:05.345Z"
   },
   {
    "duration": 11,
    "start_time": "2022-12-19T21:16:05.392Z"
   },
   {
    "duration": 4332,
    "start_time": "2022-12-19T21:16:05.404Z"
   },
   {
    "duration": 7,
    "start_time": "2022-12-19T21:16:09.738Z"
   },
   {
    "duration": 9,
    "start_time": "2022-12-19T21:16:09.746Z"
   },
   {
    "duration": 200,
    "start_time": "2022-12-19T21:16:09.757Z"
   },
   {
    "duration": 1002,
    "start_time": "2022-12-19T21:16:09.958Z"
   },
   {
    "duration": 31,
    "start_time": "2022-12-19T21:16:10.962Z"
   },
   {
    "duration": 3,
    "start_time": "2022-12-19T21:16:10.995Z"
   },
   {
    "duration": 295,
    "start_time": "2022-12-19T21:16:10.999Z"
   },
   {
    "duration": 266,
    "start_time": "2022-12-19T21:16:11.295Z"
   },
   {
    "duration": 279,
    "start_time": "2022-12-19T21:16:11.563Z"
   },
   {
    "duration": 360,
    "start_time": "2022-12-19T21:16:11.844Z"
   },
   {
    "duration": 4,
    "start_time": "2022-12-19T21:16:12.205Z"
   },
   {
    "duration": 57,
    "start_time": "2022-12-19T21:16:12.211Z"
   },
   {
    "duration": 5,
    "start_time": "2022-12-19T21:16:12.270Z"
   },
   {
    "duration": 7,
    "start_time": "2022-12-19T21:16:12.277Z"
   },
   {
    "duration": 8,
    "start_time": "2022-12-19T21:16:12.286Z"
   },
   {
    "duration": 25,
    "start_time": "2022-12-19T21:16:12.296Z"
   },
   {
    "duration": 7,
    "start_time": "2022-12-19T21:16:12.323Z"
   },
   {
    "duration": 31825,
    "start_time": "2022-12-19T21:16:12.331Z"
   },
   {
    "duration": 54437,
    "start_time": "2022-12-19T21:16:44.158Z"
   },
   {
    "duration": 1576,
    "start_time": "2022-12-19T21:17:38.598Z"
   },
   {
    "duration": 133,
    "start_time": "2022-12-19T21:17:40.176Z"
   },
   {
    "duration": 1258,
    "start_time": "2022-12-19T21:33:21.738Z"
   },
   {
    "duration": 672,
    "start_time": "2022-12-19T21:33:22.998Z"
   },
   {
    "duration": 3,
    "start_time": "2022-12-19T21:33:23.671Z"
   },
   {
    "duration": 252,
    "start_time": "2022-12-19T21:33:23.676Z"
   },
   {
    "duration": 143,
    "start_time": "2022-12-19T21:33:23.930Z"
   },
   {
    "duration": 263,
    "start_time": "2022-12-19T21:33:24.075Z"
   },
   {
    "duration": 3,
    "start_time": "2022-12-19T21:33:24.339Z"
   },
   {
    "duration": 13,
    "start_time": "2022-12-19T21:33:24.343Z"
   },
   {
    "duration": 6,
    "start_time": "2022-12-19T21:33:24.358Z"
   },
   {
    "duration": 9,
    "start_time": "2022-12-19T21:33:24.366Z"
   },
   {
    "duration": 16,
    "start_time": "2022-12-19T21:33:24.376Z"
   },
   {
    "duration": 120,
    "start_time": "2022-12-19T21:33:24.393Z"
   },
   {
    "duration": 22,
    "start_time": "2022-12-19T21:33:24.515Z"
   },
   {
    "duration": 92,
    "start_time": "2022-12-19T21:33:24.539Z"
   },
   {
    "duration": 9,
    "start_time": "2022-12-19T21:33:24.632Z"
   },
   {
    "duration": 10,
    "start_time": "2022-12-19T21:33:24.642Z"
   },
   {
    "duration": 11,
    "start_time": "2022-12-19T21:33:24.654Z"
   },
   {
    "duration": 4198,
    "start_time": "2022-12-19T21:33:24.666Z"
   },
   {
    "duration": 6,
    "start_time": "2022-12-19T21:33:28.865Z"
   },
   {
    "duration": 9,
    "start_time": "2022-12-19T21:33:28.873Z"
   },
   {
    "duration": 197,
    "start_time": "2022-12-19T21:33:28.883Z"
   },
   {
    "duration": 961,
    "start_time": "2022-12-19T21:33:29.082Z"
   },
   {
    "duration": 31,
    "start_time": "2022-12-19T21:33:30.044Z"
   },
   {
    "duration": 3,
    "start_time": "2022-12-19T21:33:30.077Z"
   },
   {
    "duration": 275,
    "start_time": "2022-12-19T21:33:30.081Z"
   },
   {
    "duration": 253,
    "start_time": "2022-12-19T21:33:30.357Z"
   },
   {
    "duration": 281,
    "start_time": "2022-12-19T21:33:30.620Z"
   },
   {
    "duration": 381,
    "start_time": "2022-12-19T21:33:30.903Z"
   },
   {
    "duration": 4,
    "start_time": "2022-12-19T21:33:31.285Z"
   },
   {
    "duration": 73,
    "start_time": "2022-12-19T21:33:31.290Z"
   },
   {
    "duration": 5,
    "start_time": "2022-12-19T21:33:31.364Z"
   },
   {
    "duration": 51,
    "start_time": "2022-12-19T21:33:31.370Z"
   },
   {
    "duration": 33,
    "start_time": "2022-12-19T21:33:31.422Z"
   },
   {
    "duration": 35,
    "start_time": "2022-12-19T21:33:31.457Z"
   },
   {
    "duration": 30,
    "start_time": "2022-12-19T21:33:31.493Z"
   },
   {
    "duration": 32591,
    "start_time": "2022-12-19T21:33:31.525Z"
   },
   {
    "duration": 1220,
    "start_time": "2022-12-19T21:34:08.985Z"
   },
   {
    "duration": 692,
    "start_time": "2022-12-19T21:34:10.207Z"
   },
   {
    "duration": 4,
    "start_time": "2022-12-19T21:34:10.900Z"
   },
   {
    "duration": 249,
    "start_time": "2022-12-19T21:34:10.905Z"
   },
   {
    "duration": 175,
    "start_time": "2022-12-19T21:34:11.157Z"
   },
   {
    "duration": 288,
    "start_time": "2022-12-19T21:34:11.334Z"
   },
   {
    "duration": 4,
    "start_time": "2022-12-19T21:34:11.624Z"
   },
   {
    "duration": 17,
    "start_time": "2022-12-19T21:34:11.629Z"
   },
   {
    "duration": 8,
    "start_time": "2022-12-19T21:34:11.647Z"
   },
   {
    "duration": 6,
    "start_time": "2022-12-19T21:34:11.657Z"
   },
   {
    "duration": 10,
    "start_time": "2022-12-19T21:34:11.664Z"
   },
   {
    "duration": 134,
    "start_time": "2022-12-19T21:34:11.676Z"
   },
   {
    "duration": 23,
    "start_time": "2022-12-19T21:34:11.812Z"
   },
   {
    "duration": 97,
    "start_time": "2022-12-19T21:34:11.838Z"
   },
   {
    "duration": 10,
    "start_time": "2022-12-19T21:34:11.937Z"
   },
   {
    "duration": 11,
    "start_time": "2022-12-19T21:34:11.949Z"
   },
   {
    "duration": 10,
    "start_time": "2022-12-19T21:34:11.962Z"
   },
   {
    "duration": 4306,
    "start_time": "2022-12-19T21:34:11.973Z"
   },
   {
    "duration": 6,
    "start_time": "2022-12-19T21:34:16.281Z"
   },
   {
    "duration": 13,
    "start_time": "2022-12-19T21:34:16.289Z"
   },
   {
    "duration": 187,
    "start_time": "2022-12-19T21:34:16.303Z"
   },
   {
    "duration": 983,
    "start_time": "2022-12-19T21:34:16.492Z"
   },
   {
    "duration": 33,
    "start_time": "2022-12-19T21:34:17.476Z"
   },
   {
    "duration": 11,
    "start_time": "2022-12-19T21:34:17.510Z"
   },
   {
    "duration": 271,
    "start_time": "2022-12-19T21:34:17.523Z"
   },
   {
    "duration": 254,
    "start_time": "2022-12-19T21:34:17.795Z"
   },
   {
    "duration": 285,
    "start_time": "2022-12-19T21:34:18.051Z"
   },
   {
    "duration": 374,
    "start_time": "2022-12-19T21:34:18.338Z"
   },
   {
    "duration": 4,
    "start_time": "2022-12-19T21:34:18.720Z"
   },
   {
    "duration": 62,
    "start_time": "2022-12-19T21:34:18.726Z"
   },
   {
    "duration": 4,
    "start_time": "2022-12-19T21:34:18.790Z"
   },
   {
    "duration": 11,
    "start_time": "2022-12-19T21:34:18.796Z"
   },
   {
    "duration": 9,
    "start_time": "2022-12-19T21:34:18.808Z"
   },
   {
    "duration": 6,
    "start_time": "2022-12-19T21:34:18.819Z"
   },
   {
    "duration": 10,
    "start_time": "2022-12-19T21:34:18.827Z"
   },
   {
    "duration": 32804,
    "start_time": "2022-12-19T21:34:18.839Z"
   },
   {
    "duration": 53709,
    "start_time": "2022-12-19T21:34:51.645Z"
   },
   {
    "duration": 1883,
    "start_time": "2022-12-19T21:35:45.355Z"
   },
   {
    "duration": 197,
    "start_time": "2022-12-19T21:35:47.239Z"
   },
   {
    "duration": 1259,
    "start_time": "2022-12-19T21:39:53.927Z"
   },
   {
    "duration": 696,
    "start_time": "2022-12-19T21:39:55.187Z"
   },
   {
    "duration": 3,
    "start_time": "2022-12-19T21:39:55.884Z"
   },
   {
    "duration": 240,
    "start_time": "2022-12-19T21:39:55.890Z"
   },
   {
    "duration": 144,
    "start_time": "2022-12-19T21:39:56.132Z"
   },
   {
    "duration": 262,
    "start_time": "2022-12-19T21:39:56.277Z"
   },
   {
    "duration": 3,
    "start_time": "2022-12-19T21:39:56.540Z"
   },
   {
    "duration": 26,
    "start_time": "2022-12-19T21:39:56.544Z"
   },
   {
    "duration": 19,
    "start_time": "2022-12-19T21:39:56.572Z"
   },
   {
    "duration": 16,
    "start_time": "2022-12-19T21:39:56.593Z"
   },
   {
    "duration": 21,
    "start_time": "2022-12-19T21:39:56.611Z"
   },
   {
    "duration": 130,
    "start_time": "2022-12-19T21:39:56.634Z"
   },
   {
    "duration": 18,
    "start_time": "2022-12-19T21:39:56.766Z"
   },
   {
    "duration": 90,
    "start_time": "2022-12-19T21:39:56.786Z"
   },
   {
    "duration": 8,
    "start_time": "2022-12-19T21:39:56.878Z"
   },
   {
    "duration": 15,
    "start_time": "2022-12-19T21:39:56.887Z"
   },
   {
    "duration": 18,
    "start_time": "2022-12-19T21:39:56.904Z"
   },
   {
    "duration": 4215,
    "start_time": "2022-12-19T21:39:56.924Z"
   },
   {
    "duration": 7,
    "start_time": "2022-12-19T21:40:01.141Z"
   },
   {
    "duration": 37,
    "start_time": "2022-12-19T21:40:01.150Z"
   },
   {
    "duration": 221,
    "start_time": "2022-12-19T21:40:01.188Z"
   },
   {
    "duration": 1066,
    "start_time": "2022-12-19T21:40:01.411Z"
   },
   {
    "duration": 31,
    "start_time": "2022-12-19T21:40:02.479Z"
   },
   {
    "duration": 13,
    "start_time": "2022-12-19T21:40:02.520Z"
   },
   {
    "duration": 316,
    "start_time": "2022-12-19T21:40:02.534Z"
   },
   {
    "duration": 261,
    "start_time": "2022-12-19T21:40:02.852Z"
   },
   {
    "duration": 295,
    "start_time": "2022-12-19T21:40:03.121Z"
   },
   {
    "duration": 386,
    "start_time": "2022-12-19T21:40:03.420Z"
   },
   {
    "duration": 14,
    "start_time": "2022-12-19T21:40:03.807Z"
   },
   {
    "duration": 52,
    "start_time": "2022-12-19T21:40:03.823Z"
   },
   {
    "duration": 38,
    "start_time": "2022-12-19T21:40:03.877Z"
   },
   {
    "duration": 0,
    "start_time": "2022-12-19T21:40:03.917Z"
   },
   {
    "duration": 0,
    "start_time": "2022-12-19T21:40:03.918Z"
   },
   {
    "duration": 0,
    "start_time": "2022-12-19T21:40:03.919Z"
   },
   {
    "duration": 0,
    "start_time": "2022-12-19T21:40:03.920Z"
   },
   {
    "duration": 0,
    "start_time": "2022-12-19T21:40:03.921Z"
   },
   {
    "duration": 0,
    "start_time": "2022-12-19T21:40:03.922Z"
   },
   {
    "duration": 0,
    "start_time": "2022-12-19T21:40:03.923Z"
   },
   {
    "duration": 0,
    "start_time": "2022-12-19T21:40:03.925Z"
   },
   {
    "duration": 1245,
    "start_time": "2022-12-19T21:41:02.348Z"
   },
   {
    "duration": 696,
    "start_time": "2022-12-19T21:41:03.595Z"
   },
   {
    "duration": 3,
    "start_time": "2022-12-19T21:41:04.293Z"
   },
   {
    "duration": 253,
    "start_time": "2022-12-19T21:41:04.297Z"
   },
   {
    "duration": 151,
    "start_time": "2022-12-19T21:41:04.552Z"
   },
   {
    "duration": 262,
    "start_time": "2022-12-19T21:41:04.704Z"
   },
   {
    "duration": 3,
    "start_time": "2022-12-19T21:41:04.967Z"
   },
   {
    "duration": 25,
    "start_time": "2022-12-19T21:41:04.971Z"
   },
   {
    "duration": 5,
    "start_time": "2022-12-19T21:41:04.998Z"
   },
   {
    "duration": 5,
    "start_time": "2022-12-19T21:41:05.005Z"
   },
   {
    "duration": 7,
    "start_time": "2022-12-19T21:41:05.021Z"
   },
   {
    "duration": 119,
    "start_time": "2022-12-19T21:41:05.029Z"
   },
   {
    "duration": 20,
    "start_time": "2022-12-19T21:41:05.149Z"
   },
   {
    "duration": 95,
    "start_time": "2022-12-19T21:41:05.172Z"
   },
   {
    "duration": 10,
    "start_time": "2022-12-19T21:41:05.268Z"
   },
   {
    "duration": 12,
    "start_time": "2022-12-19T21:41:05.279Z"
   },
   {
    "duration": 10,
    "start_time": "2022-12-19T21:41:05.293Z"
   },
   {
    "duration": 4301,
    "start_time": "2022-12-19T21:41:05.321Z"
   },
   {
    "duration": 7,
    "start_time": "2022-12-19T21:41:09.624Z"
   },
   {
    "duration": 11,
    "start_time": "2022-12-19T21:41:09.633Z"
   },
   {
    "duration": 197,
    "start_time": "2022-12-19T21:41:09.646Z"
   },
   {
    "duration": 962,
    "start_time": "2022-12-19T21:41:09.845Z"
   },
   {
    "duration": 33,
    "start_time": "2022-12-19T21:41:10.808Z"
   },
   {
    "duration": 3,
    "start_time": "2022-12-19T21:41:10.842Z"
   },
   {
    "duration": 286,
    "start_time": "2022-12-19T21:41:10.847Z"
   },
   {
    "duration": 267,
    "start_time": "2022-12-19T21:41:11.134Z"
   },
   {
    "duration": 320,
    "start_time": "2022-12-19T21:41:11.403Z"
   },
   {
    "duration": 365,
    "start_time": "2022-12-19T21:41:11.724Z"
   },
   {
    "duration": 3,
    "start_time": "2022-12-19T21:41:12.091Z"
   },
   {
    "duration": 61,
    "start_time": "2022-12-19T21:41:12.096Z"
   },
   {
    "duration": 5,
    "start_time": "2022-12-19T21:41:12.158Z"
   },
   {
    "duration": 10,
    "start_time": "2022-12-19T21:41:12.164Z"
   },
   {
    "duration": 14,
    "start_time": "2022-12-19T21:41:12.175Z"
   },
   {
    "duration": 14,
    "start_time": "2022-12-19T21:41:12.190Z"
   },
   {
    "duration": 19,
    "start_time": "2022-12-19T21:41:12.205Z"
   },
   {
    "duration": 31808,
    "start_time": "2022-12-19T21:41:12.226Z"
   },
   {
    "duration": 53386,
    "start_time": "2022-12-19T21:41:44.035Z"
   },
   {
    "duration": 1543,
    "start_time": "2022-12-19T21:42:37.423Z"
   },
   {
    "duration": 190,
    "start_time": "2022-12-19T21:42:38.968Z"
   },
   {
    "duration": 1264,
    "start_time": "2022-12-19T21:49:39.127Z"
   },
   {
    "duration": 686,
    "start_time": "2022-12-19T21:49:40.393Z"
   },
   {
    "duration": 3,
    "start_time": "2022-12-19T21:49:41.081Z"
   },
   {
    "duration": 245,
    "start_time": "2022-12-19T21:49:41.086Z"
   },
   {
    "duration": 150,
    "start_time": "2022-12-19T21:49:41.333Z"
   },
   {
    "duration": 270,
    "start_time": "2022-12-19T21:49:41.485Z"
   },
   {
    "duration": 3,
    "start_time": "2022-12-19T21:49:41.757Z"
   },
   {
    "duration": 11,
    "start_time": "2022-12-19T21:49:41.762Z"
   },
   {
    "duration": 6,
    "start_time": "2022-12-19T21:49:41.775Z"
   },
   {
    "duration": 5,
    "start_time": "2022-12-19T21:49:41.783Z"
   },
   {
    "duration": 33,
    "start_time": "2022-12-19T21:49:41.789Z"
   },
   {
    "duration": 112,
    "start_time": "2022-12-19T21:49:41.823Z"
   },
   {
    "duration": 19,
    "start_time": "2022-12-19T21:49:41.936Z"
   },
   {
    "duration": 95,
    "start_time": "2022-12-19T21:49:41.956Z"
   },
   {
    "duration": 10,
    "start_time": "2022-12-19T21:49:42.052Z"
   },
   {
    "duration": 16,
    "start_time": "2022-12-19T21:49:42.064Z"
   },
   {
    "duration": 9,
    "start_time": "2022-12-19T21:49:42.081Z"
   },
   {
    "duration": 4317,
    "start_time": "2022-12-19T21:49:42.091Z"
   },
   {
    "duration": 13,
    "start_time": "2022-12-19T21:49:46.409Z"
   },
   {
    "duration": 10,
    "start_time": "2022-12-19T21:49:46.424Z"
   },
   {
    "duration": 201,
    "start_time": "2022-12-19T21:49:46.435Z"
   },
   {
    "duration": 978,
    "start_time": "2022-12-19T21:49:46.638Z"
   },
   {
    "duration": 33,
    "start_time": "2022-12-19T21:49:47.617Z"
   },
   {
    "duration": 3,
    "start_time": "2022-12-19T21:49:47.652Z"
   },
   {
    "duration": 284,
    "start_time": "2022-12-19T21:49:47.657Z"
   },
   {
    "duration": 265,
    "start_time": "2022-12-19T21:49:47.943Z"
   },
   {
    "duration": 280,
    "start_time": "2022-12-19T21:49:48.220Z"
   },
   {
    "duration": 377,
    "start_time": "2022-12-19T21:49:48.504Z"
   },
   {
    "duration": 4,
    "start_time": "2022-12-19T21:49:48.883Z"
   },
   {
    "duration": 67,
    "start_time": "2022-12-19T21:49:48.889Z"
   },
   {
    "duration": 5,
    "start_time": "2022-12-19T21:49:48.958Z"
   },
   {
    "duration": 23,
    "start_time": "2022-12-19T21:49:48.965Z"
   },
   {
    "duration": 15,
    "start_time": "2022-12-19T21:49:48.989Z"
   },
   {
    "duration": 9,
    "start_time": "2022-12-19T21:49:49.006Z"
   },
   {
    "duration": 14,
    "start_time": "2022-12-19T21:49:49.017Z"
   },
   {
    "duration": 32162,
    "start_time": "2022-12-19T21:49:49.033Z"
   },
   {
    "duration": 53774,
    "start_time": "2022-12-19T21:50:21.197Z"
   },
   {
    "duration": 1801,
    "start_time": "2022-12-19T21:51:14.972Z"
   },
   {
    "duration": 120,
    "start_time": "2022-12-19T21:51:16.775Z"
   },
   {
    "duration": 1297,
    "start_time": "2022-12-19T21:53:35.610Z"
   },
   {
    "duration": 676,
    "start_time": "2022-12-19T21:53:36.909Z"
   },
   {
    "duration": 3,
    "start_time": "2022-12-19T21:53:37.589Z"
   },
   {
    "duration": 250,
    "start_time": "2022-12-19T21:53:37.593Z"
   },
   {
    "duration": 151,
    "start_time": "2022-12-19T21:53:37.845Z"
   },
   {
    "duration": 262,
    "start_time": "2022-12-19T21:53:37.997Z"
   },
   {
    "duration": 3,
    "start_time": "2022-12-19T21:53:38.260Z"
   },
   {
    "duration": 13,
    "start_time": "2022-12-19T21:53:38.265Z"
   },
   {
    "duration": 5,
    "start_time": "2022-12-19T21:53:38.280Z"
   },
   {
    "duration": 5,
    "start_time": "2022-12-19T21:53:38.286Z"
   },
   {
    "duration": 30,
    "start_time": "2022-12-19T21:53:38.292Z"
   },
   {
    "duration": 113,
    "start_time": "2022-12-19T21:53:38.323Z"
   },
   {
    "duration": 18,
    "start_time": "2022-12-19T21:53:38.437Z"
   },
   {
    "duration": 90,
    "start_time": "2022-12-19T21:53:38.456Z"
   },
   {
    "duration": 10,
    "start_time": "2022-12-19T21:53:38.547Z"
   },
   {
    "duration": 11,
    "start_time": "2022-12-19T21:53:38.558Z"
   },
   {
    "duration": 15,
    "start_time": "2022-12-19T21:53:38.571Z"
   },
   {
    "duration": 4408,
    "start_time": "2022-12-19T21:53:38.588Z"
   },
   {
    "duration": 8,
    "start_time": "2022-12-19T21:53:42.997Z"
   },
   {
    "duration": 16,
    "start_time": "2022-12-19T21:53:43.007Z"
   },
   {
    "duration": 192,
    "start_time": "2022-12-19T21:53:43.024Z"
   },
   {
    "duration": 1004,
    "start_time": "2022-12-19T21:53:43.217Z"
   },
   {
    "duration": 30,
    "start_time": "2022-12-19T21:53:44.223Z"
   },
   {
    "duration": 3,
    "start_time": "2022-12-19T21:53:44.254Z"
   },
   {
    "duration": 287,
    "start_time": "2022-12-19T21:53:44.259Z"
   },
   {
    "duration": 256,
    "start_time": "2022-12-19T21:53:44.548Z"
   },
   {
    "duration": 327,
    "start_time": "2022-12-19T21:53:44.807Z"
   },
   {
    "duration": 399,
    "start_time": "2022-12-19T21:53:45.135Z"
   },
   {
    "duration": 3,
    "start_time": "2022-12-19T21:53:45.536Z"
   },
   {
    "duration": 63,
    "start_time": "2022-12-19T21:53:45.541Z"
   },
   {
    "duration": 4,
    "start_time": "2022-12-19T21:53:45.606Z"
   },
   {
    "duration": 12,
    "start_time": "2022-12-19T21:53:45.611Z"
   },
   {
    "duration": 10,
    "start_time": "2022-12-19T21:53:45.624Z"
   },
   {
    "duration": 5,
    "start_time": "2022-12-19T21:53:45.636Z"
   },
   {
    "duration": 11,
    "start_time": "2022-12-19T21:53:45.642Z"
   },
   {
    "duration": 28004,
    "start_time": "2022-12-19T21:53:45.654Z"
   },
   {
    "duration": 52913,
    "start_time": "2022-12-19T21:54:13.659Z"
   },
   {
    "duration": 1456,
    "start_time": "2022-12-19T21:55:06.574Z"
   },
   {
    "duration": 98,
    "start_time": "2022-12-19T21:55:08.031Z"
   },
   {
    "duration": 1231,
    "start_time": "2022-12-19T21:57:12.743Z"
   },
   {
    "duration": 675,
    "start_time": "2022-12-19T21:57:13.976Z"
   },
   {
    "duration": 4,
    "start_time": "2022-12-19T21:57:14.652Z"
   },
   {
    "duration": 258,
    "start_time": "2022-12-19T21:57:14.658Z"
   },
   {
    "duration": 144,
    "start_time": "2022-12-19T21:57:14.921Z"
   },
   {
    "duration": 296,
    "start_time": "2022-12-19T21:57:15.066Z"
   },
   {
    "duration": 4,
    "start_time": "2022-12-19T21:57:15.364Z"
   },
   {
    "duration": 28,
    "start_time": "2022-12-19T21:57:15.369Z"
   },
   {
    "duration": 13,
    "start_time": "2022-12-19T21:57:15.399Z"
   },
   {
    "duration": 17,
    "start_time": "2022-12-19T21:57:15.415Z"
   },
   {
    "duration": 12,
    "start_time": "2022-12-19T21:57:15.434Z"
   },
   {
    "duration": 116,
    "start_time": "2022-12-19T21:57:15.448Z"
   },
   {
    "duration": 19,
    "start_time": "2022-12-19T21:57:15.566Z"
   },
   {
    "duration": 90,
    "start_time": "2022-12-19T21:57:15.587Z"
   },
   {
    "duration": 11,
    "start_time": "2022-12-19T21:57:15.679Z"
   },
   {
    "duration": 26,
    "start_time": "2022-12-19T21:57:15.691Z"
   },
   {
    "duration": 11,
    "start_time": "2022-12-19T21:57:15.719Z"
   },
   {
    "duration": 4246,
    "start_time": "2022-12-19T21:57:15.731Z"
   },
   {
    "duration": 8,
    "start_time": "2022-12-19T21:57:19.978Z"
   },
   {
    "duration": 10,
    "start_time": "2022-12-19T21:57:19.987Z"
   },
   {
    "duration": 194,
    "start_time": "2022-12-19T21:57:19.998Z"
   },
   {
    "duration": 974,
    "start_time": "2022-12-19T21:57:20.194Z"
   },
   {
    "duration": 32,
    "start_time": "2022-12-19T21:57:21.170Z"
   },
   {
    "duration": 3,
    "start_time": "2022-12-19T21:57:21.203Z"
   },
   {
    "duration": 289,
    "start_time": "2022-12-19T21:57:21.208Z"
   },
   {
    "duration": 269,
    "start_time": "2022-12-19T21:57:21.499Z"
   },
   {
    "duration": 288,
    "start_time": "2022-12-19T21:57:21.769Z"
   },
   {
    "duration": 371,
    "start_time": "2022-12-19T21:57:22.061Z"
   },
   {
    "duration": 3,
    "start_time": "2022-12-19T21:57:22.434Z"
   },
   {
    "duration": 57,
    "start_time": "2022-12-19T21:57:22.438Z"
   },
   {
    "duration": 4,
    "start_time": "2022-12-19T21:57:22.497Z"
   },
   {
    "duration": 38,
    "start_time": "2022-12-19T21:57:22.502Z"
   },
   {
    "duration": 15,
    "start_time": "2022-12-19T21:57:22.542Z"
   },
   {
    "duration": 13,
    "start_time": "2022-12-19T21:57:22.559Z"
   },
   {
    "duration": 19,
    "start_time": "2022-12-19T21:57:22.574Z"
   },
   {
    "duration": 27802,
    "start_time": "2022-12-19T21:57:22.595Z"
   },
   {
    "duration": 52867,
    "start_time": "2022-12-19T21:57:50.399Z"
   },
   {
    "duration": 1563,
    "start_time": "2022-12-19T21:58:43.268Z"
   },
   {
    "duration": 95,
    "start_time": "2022-12-19T21:58:44.833Z"
   },
   {
    "duration": 102,
    "start_time": "2022-12-19T22:03:58.195Z"
   },
   {
    "duration": 1280,
    "start_time": "2022-12-19T22:05:00.331Z"
   },
   {
    "duration": 692,
    "start_time": "2022-12-19T22:05:01.613Z"
   },
   {
    "duration": 3,
    "start_time": "2022-12-19T22:05:02.307Z"
   },
   {
    "duration": 254,
    "start_time": "2022-12-19T22:05:02.312Z"
   },
   {
    "duration": 158,
    "start_time": "2022-12-19T22:05:02.569Z"
   },
   {
    "duration": 273,
    "start_time": "2022-12-19T22:05:02.728Z"
   },
   {
    "duration": 3,
    "start_time": "2022-12-19T22:05:03.003Z"
   },
   {
    "duration": 20,
    "start_time": "2022-12-19T22:05:03.007Z"
   },
   {
    "duration": 11,
    "start_time": "2022-12-19T22:05:03.029Z"
   },
   {
    "duration": 7,
    "start_time": "2022-12-19T22:05:03.042Z"
   },
   {
    "duration": 14,
    "start_time": "2022-12-19T22:05:03.051Z"
   },
   {
    "duration": 118,
    "start_time": "2022-12-19T22:05:03.066Z"
   },
   {
    "duration": 18,
    "start_time": "2022-12-19T22:05:03.186Z"
   },
   {
    "duration": 86,
    "start_time": "2022-12-19T22:05:03.207Z"
   },
   {
    "duration": 10,
    "start_time": "2022-12-19T22:05:03.295Z"
   },
   {
    "duration": 11,
    "start_time": "2022-12-19T22:05:03.321Z"
   },
   {
    "duration": 9,
    "start_time": "2022-12-19T22:05:03.333Z"
   },
   {
    "duration": 4230,
    "start_time": "2022-12-19T22:05:03.344Z"
   },
   {
    "duration": 6,
    "start_time": "2022-12-19T22:05:07.576Z"
   },
   {
    "duration": 8,
    "start_time": "2022-12-19T22:05:07.584Z"
   },
   {
    "duration": 203,
    "start_time": "2022-12-19T22:05:07.593Z"
   },
   {
    "duration": 977,
    "start_time": "2022-12-19T22:05:07.797Z"
   },
   {
    "duration": 31,
    "start_time": "2022-12-19T22:05:08.775Z"
   },
   {
    "duration": 13,
    "start_time": "2022-12-19T22:05:08.808Z"
   },
   {
    "duration": 269,
    "start_time": "2022-12-19T22:05:08.822Z"
   },
   {
    "duration": 266,
    "start_time": "2022-12-19T22:05:09.092Z"
   },
   {
    "duration": 292,
    "start_time": "2022-12-19T22:05:09.359Z"
   },
   {
    "duration": 374,
    "start_time": "2022-12-19T22:05:09.653Z"
   },
   {
    "duration": 3,
    "start_time": "2022-12-19T22:05:10.029Z"
   },
   {
    "duration": 54,
    "start_time": "2022-12-19T22:05:10.034Z"
   },
   {
    "duration": 5,
    "start_time": "2022-12-19T22:05:10.090Z"
   },
   {
    "duration": 11,
    "start_time": "2022-12-19T22:05:10.096Z"
   },
   {
    "duration": 18,
    "start_time": "2022-12-19T22:05:10.108Z"
   },
   {
    "duration": 7,
    "start_time": "2022-12-19T22:05:10.128Z"
   },
   {
    "duration": 17,
    "start_time": "2022-12-19T22:05:10.136Z"
   },
   {
    "duration": 28027,
    "start_time": "2022-12-19T22:05:10.155Z"
   },
   {
    "duration": 52472,
    "start_time": "2022-12-19T22:05:38.184Z"
   },
   {
    "duration": 1467,
    "start_time": "2022-12-19T22:06:30.658Z"
   },
   {
    "duration": 8,
    "start_time": "2022-12-19T22:06:32.127Z"
   },
   {
    "duration": 95,
    "start_time": "2022-12-19T22:06:32.137Z"
   },
   {
    "duration": 1294,
    "start_time": "2022-12-19T22:09:08.290Z"
   },
   {
    "duration": 664,
    "start_time": "2022-12-19T22:09:09.585Z"
   },
   {
    "duration": 3,
    "start_time": "2022-12-19T22:09:10.251Z"
   },
   {
    "duration": 250,
    "start_time": "2022-12-19T22:09:10.256Z"
   },
   {
    "duration": 146,
    "start_time": "2022-12-19T22:09:10.508Z"
   },
   {
    "duration": 258,
    "start_time": "2022-12-19T22:09:10.655Z"
   },
   {
    "duration": 6,
    "start_time": "2022-12-19T22:09:10.915Z"
   },
   {
    "duration": 18,
    "start_time": "2022-12-19T22:09:10.922Z"
   },
   {
    "duration": 18,
    "start_time": "2022-12-19T22:09:10.942Z"
   },
   {
    "duration": 5,
    "start_time": "2022-12-19T22:09:10.961Z"
   },
   {
    "duration": 9,
    "start_time": "2022-12-19T22:09:10.967Z"
   },
   {
    "duration": 113,
    "start_time": "2022-12-19T22:09:10.977Z"
   },
   {
    "duration": 18,
    "start_time": "2022-12-19T22:09:11.092Z"
   },
   {
    "duration": 84,
    "start_time": "2022-12-19T22:09:11.120Z"
   },
   {
    "duration": 20,
    "start_time": "2022-12-19T22:09:11.205Z"
   },
   {
    "duration": 10,
    "start_time": "2022-12-19T22:09:11.227Z"
   },
   {
    "duration": 9,
    "start_time": "2022-12-19T22:09:11.238Z"
   },
   {
    "duration": 4252,
    "start_time": "2022-12-19T22:09:11.248Z"
   },
   {
    "duration": 7,
    "start_time": "2022-12-19T22:09:15.502Z"
   },
   {
    "duration": 27,
    "start_time": "2022-12-19T22:09:15.510Z"
   },
   {
    "duration": 183,
    "start_time": "2022-12-19T22:09:15.538Z"
   },
   {
    "duration": 965,
    "start_time": "2022-12-19T22:09:15.723Z"
   },
   {
    "duration": 37,
    "start_time": "2022-12-19T22:09:16.690Z"
   },
   {
    "duration": 3,
    "start_time": "2022-12-19T22:09:16.729Z"
   },
   {
    "duration": 267,
    "start_time": "2022-12-19T22:09:16.733Z"
   },
   {
    "duration": 250,
    "start_time": "2022-12-19T22:09:17.001Z"
   },
   {
    "duration": 279,
    "start_time": "2022-12-19T22:09:17.252Z"
   },
   {
    "duration": 372,
    "start_time": "2022-12-19T22:09:17.533Z"
   },
   {
    "duration": 3,
    "start_time": "2022-12-19T22:09:17.907Z"
   },
   {
    "duration": 47,
    "start_time": "2022-12-19T22:09:17.921Z"
   },
   {
    "duration": 4,
    "start_time": "2022-12-19T22:09:17.970Z"
   },
   {
    "duration": 9,
    "start_time": "2022-12-19T22:09:17.975Z"
   },
   {
    "duration": 16,
    "start_time": "2022-12-19T22:09:17.985Z"
   },
   {
    "duration": 6,
    "start_time": "2022-12-19T22:09:18.002Z"
   },
   {
    "duration": 17,
    "start_time": "2022-12-19T22:09:18.009Z"
   },
   {
    "duration": 27730,
    "start_time": "2022-12-19T22:09:18.027Z"
   },
   {
    "duration": 52506,
    "start_time": "2022-12-19T22:09:45.758Z"
   },
   {
    "duration": 1457,
    "start_time": "2022-12-19T22:10:38.265Z"
   },
   {
    "duration": 8,
    "start_time": "2022-12-19T22:10:39.723Z"
   },
   {
    "duration": 17,
    "start_time": "2022-12-19T22:10:39.732Z"
   },
   {
    "duration": 3621,
    "start_time": "2022-12-20T18:17:25.370Z"
   },
   {
    "duration": 704,
    "start_time": "2022-12-20T18:17:28.993Z"
   },
   {
    "duration": 7,
    "start_time": "2022-12-20T18:17:29.698Z"
   },
   {
    "duration": 267,
    "start_time": "2022-12-20T18:17:29.707Z"
   },
   {
    "duration": 169,
    "start_time": "2022-12-20T18:17:29.976Z"
   },
   {
    "duration": 305,
    "start_time": "2022-12-20T18:17:30.146Z"
   },
   {
    "duration": 3,
    "start_time": "2022-12-20T18:17:30.453Z"
   },
   {
    "duration": 51,
    "start_time": "2022-12-20T18:17:30.458Z"
   },
   {
    "duration": 23,
    "start_time": "2022-12-20T18:17:30.510Z"
   },
   {
    "duration": 32,
    "start_time": "2022-12-20T18:17:30.535Z"
   },
   {
    "duration": 28,
    "start_time": "2022-12-20T18:17:30.569Z"
   },
   {
    "duration": 134,
    "start_time": "2022-12-20T18:17:30.599Z"
   },
   {
    "duration": 20,
    "start_time": "2022-12-20T18:17:30.735Z"
   },
   {
    "duration": 99,
    "start_time": "2022-12-20T18:17:30.758Z"
   },
   {
    "duration": 10,
    "start_time": "2022-12-20T18:17:30.859Z"
   },
   {
    "duration": 24,
    "start_time": "2022-12-20T18:17:30.870Z"
   },
   {
    "duration": 42,
    "start_time": "2022-12-20T18:17:30.896Z"
   },
   {
    "duration": 4694,
    "start_time": "2022-12-20T18:17:30.940Z"
   },
   {
    "duration": 9,
    "start_time": "2022-12-20T18:17:35.636Z"
   },
   {
    "duration": 15,
    "start_time": "2022-12-20T18:17:35.647Z"
   },
   {
    "duration": 244,
    "start_time": "2022-12-20T18:17:35.664Z"
   },
   {
    "duration": 1142,
    "start_time": "2022-12-20T18:17:35.910Z"
   },
   {
    "duration": 34,
    "start_time": "2022-12-20T18:17:37.053Z"
   },
   {
    "duration": 16,
    "start_time": "2022-12-20T18:17:37.089Z"
   },
   {
    "duration": 305,
    "start_time": "2022-12-20T18:17:37.106Z"
   },
   {
    "duration": 374,
    "start_time": "2022-12-20T18:17:37.412Z"
   },
   {
    "duration": 557,
    "start_time": "2022-12-20T18:17:37.788Z"
   },
   {
    "duration": 526,
    "start_time": "2022-12-20T18:17:38.347Z"
   },
   {
    "duration": 4,
    "start_time": "2022-12-20T18:17:38.875Z"
   },
   {
    "duration": 80,
    "start_time": "2022-12-20T18:17:38.880Z"
   },
   {
    "duration": 7,
    "start_time": "2022-12-20T18:17:38.962Z"
   },
   {
    "duration": 14,
    "start_time": "2022-12-20T18:17:38.971Z"
   },
   {
    "duration": 18,
    "start_time": "2022-12-20T18:17:38.987Z"
   },
   {
    "duration": 11,
    "start_time": "2022-12-20T18:17:39.007Z"
   },
   {
    "duration": 14,
    "start_time": "2022-12-20T18:17:39.020Z"
   },
   {
    "duration": 29876,
    "start_time": "2022-12-20T18:17:39.035Z"
   },
   {
    "duration": 15,
    "start_time": "2022-12-20T18:20:28.142Z"
   },
   {
    "duration": 14,
    "start_time": "2022-12-20T18:21:13.543Z"
   },
   {
    "duration": 11,
    "start_time": "2022-12-20T18:21:45.175Z"
   },
   {
    "duration": 1621,
    "start_time": "2022-12-20T19:19:02.723Z"
   },
   {
    "duration": 3008,
    "start_time": "2022-12-20T19:19:04.346Z"
   },
   {
    "duration": 3,
    "start_time": "2022-12-20T19:19:07.356Z"
   },
   {
    "duration": 278,
    "start_time": "2022-12-20T19:19:07.361Z"
   },
   {
    "duration": 166,
    "start_time": "2022-12-20T19:19:07.641Z"
   },
   {
    "duration": 296,
    "start_time": "2022-12-20T19:19:07.808Z"
   },
   {
    "duration": 4,
    "start_time": "2022-12-20T19:19:08.105Z"
   },
   {
    "duration": 15,
    "start_time": "2022-12-20T19:19:08.110Z"
   },
   {
    "duration": 9,
    "start_time": "2022-12-20T19:19:08.126Z"
   },
   {
    "duration": 6,
    "start_time": "2022-12-20T19:19:08.137Z"
   },
   {
    "duration": 37,
    "start_time": "2022-12-20T19:19:08.145Z"
   },
   {
    "duration": 133,
    "start_time": "2022-12-20T19:19:08.184Z"
   },
   {
    "duration": 35,
    "start_time": "2022-12-20T19:19:08.320Z"
   },
   {
    "duration": 133,
    "start_time": "2022-12-20T19:19:08.360Z"
   },
   {
    "duration": 11,
    "start_time": "2022-12-20T19:19:08.494Z"
   },
   {
    "duration": 13,
    "start_time": "2022-12-20T19:19:08.507Z"
   },
   {
    "duration": 13,
    "start_time": "2022-12-20T19:19:08.522Z"
   },
   {
    "duration": 5303,
    "start_time": "2022-12-20T19:19:08.537Z"
   },
   {
    "duration": 9,
    "start_time": "2022-12-20T19:19:13.842Z"
   },
   {
    "duration": 26,
    "start_time": "2022-12-20T19:19:13.853Z"
   },
   {
    "duration": 257,
    "start_time": "2022-12-20T19:19:13.881Z"
   },
   {
    "duration": 1180,
    "start_time": "2022-12-20T19:19:14.140Z"
   },
   {
    "duration": 37,
    "start_time": "2022-12-20T19:19:15.322Z"
   },
   {
    "duration": 4,
    "start_time": "2022-12-20T19:19:15.378Z"
   },
   {
    "duration": 344,
    "start_time": "2022-12-20T19:19:15.384Z"
   },
   {
    "duration": 319,
    "start_time": "2022-12-20T19:19:15.730Z"
   },
   {
    "duration": 319,
    "start_time": "2022-12-20T19:19:16.050Z"
   },
   {
    "duration": 431,
    "start_time": "2022-12-20T19:19:16.377Z"
   },
   {
    "duration": 4,
    "start_time": "2022-12-20T19:19:16.809Z"
   },
   {
    "duration": 66,
    "start_time": "2022-12-20T19:19:16.815Z"
   },
   {
    "duration": 5,
    "start_time": "2022-12-20T19:19:16.883Z"
   },
   {
    "duration": 15,
    "start_time": "2022-12-20T19:19:16.889Z"
   },
   {
    "duration": 16,
    "start_time": "2022-12-20T19:19:16.905Z"
   },
   {
    "duration": 7,
    "start_time": "2022-12-20T19:19:16.923Z"
   },
   {
    "duration": 11,
    "start_time": "2022-12-20T19:19:16.932Z"
   },
   {
    "duration": 17,
    "start_time": "2022-12-20T19:19:16.944Z"
   },
   {
    "duration": 30394,
    "start_time": "2022-12-20T19:19:16.963Z"
   },
   {
    "duration": 56702,
    "start_time": "2022-12-20T19:19:47.359Z"
   },
   {
    "duration": 1328,
    "start_time": "2022-12-20T19:20:44.063Z"
   },
   {
    "duration": 92,
    "start_time": "2022-12-20T19:20:45.393Z"
   },
   {
    "duration": 92,
    "start_time": "2022-12-20T19:20:45.490Z"
   },
   {
    "duration": 1365,
    "start_time": "2022-12-20T19:26:54.208Z"
   },
   {
    "duration": 652,
    "start_time": "2022-12-20T19:26:55.575Z"
   },
   {
    "duration": 3,
    "start_time": "2022-12-20T19:26:56.229Z"
   },
   {
    "duration": 307,
    "start_time": "2022-12-20T19:26:56.234Z"
   },
   {
    "duration": 287,
    "start_time": "2022-12-20T19:26:56.543Z"
   },
   {
    "duration": 337,
    "start_time": "2022-12-20T19:26:56.831Z"
   },
   {
    "duration": 8,
    "start_time": "2022-12-20T19:26:57.170Z"
   },
   {
    "duration": 13,
    "start_time": "2022-12-20T19:26:57.179Z"
   },
   {
    "duration": 7,
    "start_time": "2022-12-20T19:26:57.194Z"
   },
   {
    "duration": 5,
    "start_time": "2022-12-20T19:26:57.204Z"
   },
   {
    "duration": 10,
    "start_time": "2022-12-20T19:26:57.210Z"
   },
   {
    "duration": 145,
    "start_time": "2022-12-20T19:26:57.221Z"
   },
   {
    "duration": 33,
    "start_time": "2022-12-20T19:26:57.367Z"
   },
   {
    "duration": 99,
    "start_time": "2022-12-20T19:26:57.402Z"
   },
   {
    "duration": 11,
    "start_time": "2022-12-20T19:26:57.504Z"
   },
   {
    "duration": 13,
    "start_time": "2022-12-20T19:26:57.517Z"
   },
   {
    "duration": 10,
    "start_time": "2022-12-20T19:26:57.531Z"
   },
   {
    "duration": 4854,
    "start_time": "2022-12-20T19:26:57.543Z"
   },
   {
    "duration": 8,
    "start_time": "2022-12-20T19:27:02.399Z"
   },
   {
    "duration": 21,
    "start_time": "2022-12-20T19:27:02.408Z"
   },
   {
    "duration": 212,
    "start_time": "2022-12-20T19:27:02.431Z"
   },
   {
    "duration": 1127,
    "start_time": "2022-12-20T19:27:02.645Z"
   },
   {
    "duration": 35,
    "start_time": "2022-12-20T19:27:03.774Z"
   },
   {
    "duration": 4,
    "start_time": "2022-12-20T19:27:03.812Z"
   },
   {
    "duration": 332,
    "start_time": "2022-12-20T19:27:03.817Z"
   },
   {
    "duration": 286,
    "start_time": "2022-12-20T19:27:04.151Z"
   },
   {
    "duration": 328,
    "start_time": "2022-12-20T19:27:04.439Z"
   },
   {
    "duration": 412,
    "start_time": "2022-12-20T19:27:04.777Z"
   },
   {
    "duration": 3,
    "start_time": "2022-12-20T19:27:05.191Z"
   },
   {
    "duration": 58,
    "start_time": "2022-12-20T19:27:05.196Z"
   },
   {
    "duration": 5,
    "start_time": "2022-12-20T19:27:05.256Z"
   },
   {
    "duration": 18,
    "start_time": "2022-12-20T19:27:05.262Z"
   },
   {
    "duration": 10,
    "start_time": "2022-12-20T19:27:05.281Z"
   },
   {
    "duration": 4,
    "start_time": "2022-12-20T19:27:05.293Z"
   },
   {
    "duration": 11,
    "start_time": "2022-12-20T19:27:05.299Z"
   },
   {
    "duration": 15,
    "start_time": "2022-12-20T19:27:05.311Z"
   },
   {
    "duration": 29725,
    "start_time": "2022-12-20T19:27:05.327Z"
   },
   {
    "duration": 55161,
    "start_time": "2022-12-20T19:27:35.054Z"
   },
   {
    "duration": 1262,
    "start_time": "2022-12-20T19:28:30.217Z"
   },
   {
    "duration": 11,
    "start_time": "2022-12-20T19:28:31.481Z"
   },
   {
    "duration": 10,
    "start_time": "2022-12-20T19:28:31.579Z"
   },
   {
    "duration": 7,
    "start_time": "2022-12-20T19:30:12.219Z"
   },
   {
    "duration": 1428,
    "start_time": "2022-12-20T19:30:27.627Z"
   },
   {
    "duration": 649,
    "start_time": "2022-12-20T19:30:29.057Z"
   },
   {
    "duration": 3,
    "start_time": "2022-12-20T19:30:29.708Z"
   },
   {
    "duration": 299,
    "start_time": "2022-12-20T19:30:29.714Z"
   },
   {
    "duration": 170,
    "start_time": "2022-12-20T19:30:30.015Z"
   },
   {
    "duration": 295,
    "start_time": "2022-12-20T19:30:30.186Z"
   },
   {
    "duration": 3,
    "start_time": "2022-12-20T19:30:30.483Z"
   },
   {
    "duration": 17,
    "start_time": "2022-12-20T19:30:30.488Z"
   },
   {
    "duration": 58,
    "start_time": "2022-12-20T19:30:30.506Z"
   },
   {
    "duration": 41,
    "start_time": "2022-12-20T19:30:30.567Z"
   },
   {
    "duration": 26,
    "start_time": "2022-12-20T19:30:30.610Z"
   },
   {
    "duration": 162,
    "start_time": "2022-12-20T19:30:30.637Z"
   },
   {
    "duration": 21,
    "start_time": "2022-12-20T19:30:30.801Z"
   },
   {
    "duration": 103,
    "start_time": "2022-12-20T19:30:30.824Z"
   },
   {
    "duration": 12,
    "start_time": "2022-12-20T19:30:30.929Z"
   },
   {
    "duration": 44,
    "start_time": "2022-12-20T19:30:30.942Z"
   },
   {
    "duration": 43,
    "start_time": "2022-12-20T19:30:30.988Z"
   },
   {
    "duration": 4978,
    "start_time": "2022-12-20T19:30:31.033Z"
   },
   {
    "duration": 8,
    "start_time": "2022-12-20T19:30:36.013Z"
   },
   {
    "duration": 10,
    "start_time": "2022-12-20T19:30:36.022Z"
   },
   {
    "duration": 221,
    "start_time": "2022-12-20T19:30:36.034Z"
   },
   {
    "duration": 1122,
    "start_time": "2022-12-20T19:30:36.257Z"
   },
   {
    "duration": 34,
    "start_time": "2022-12-20T19:30:37.381Z"
   },
   {
    "duration": 4,
    "start_time": "2022-12-20T19:30:37.417Z"
   },
   {
    "duration": 336,
    "start_time": "2022-12-20T19:30:37.422Z"
   },
   {
    "duration": 298,
    "start_time": "2022-12-20T19:30:37.759Z"
   },
   {
    "duration": 382,
    "start_time": "2022-12-20T19:30:38.058Z"
   },
   {
    "duration": 452,
    "start_time": "2022-12-20T19:30:38.445Z"
   },
   {
    "duration": 4,
    "start_time": "2022-12-20T19:30:38.898Z"
   },
   {
    "duration": 78,
    "start_time": "2022-12-20T19:30:38.903Z"
   },
   {
    "duration": 6,
    "start_time": "2022-12-20T19:30:38.982Z"
   },
   {
    "duration": 37,
    "start_time": "2022-12-20T19:30:38.989Z"
   },
   {
    "duration": 21,
    "start_time": "2022-12-20T19:30:39.028Z"
   },
   {
    "duration": 31,
    "start_time": "2022-12-20T19:30:39.051Z"
   },
   {
    "duration": 28,
    "start_time": "2022-12-20T19:30:39.083Z"
   },
   {
    "duration": 21,
    "start_time": "2022-12-20T19:30:39.112Z"
   },
   {
    "duration": 30669,
    "start_time": "2022-12-20T19:30:39.135Z"
   },
   {
    "duration": 55823,
    "start_time": "2022-12-20T19:31:09.805Z"
   },
   {
    "duration": 1253,
    "start_time": "2022-12-20T19:32:05.630Z"
   },
   {
    "duration": 96,
    "start_time": "2022-12-20T19:32:06.885Z"
   },
   {
    "duration": 18,
    "start_time": "2022-12-20T19:32:06.983Z"
   },
   {
    "duration": 2029,
    "start_time": "2022-12-21T16:39:47.496Z"
   },
   {
    "duration": 3340,
    "start_time": "2022-12-21T16:39:49.528Z"
   },
   {
    "duration": 4,
    "start_time": "2022-12-21T16:39:52.871Z"
   },
   {
    "duration": 290,
    "start_time": "2022-12-21T16:39:52.877Z"
   },
   {
    "duration": 182,
    "start_time": "2022-12-21T16:39:53.169Z"
   },
   {
    "duration": 326,
    "start_time": "2022-12-21T16:39:53.354Z"
   },
   {
    "duration": 3,
    "start_time": "2022-12-21T16:39:53.682Z"
   },
   {
    "duration": 20,
    "start_time": "2022-12-21T16:39:53.687Z"
   },
   {
    "duration": 12,
    "start_time": "2022-12-21T16:39:53.708Z"
   },
   {
    "duration": 6,
    "start_time": "2022-12-21T16:39:53.723Z"
   },
   {
    "duration": 17,
    "start_time": "2022-12-21T16:39:53.731Z"
   },
   {
    "duration": 147,
    "start_time": "2022-12-21T16:39:53.749Z"
   },
   {
    "duration": 30,
    "start_time": "2022-12-21T16:39:53.898Z"
   },
   {
    "duration": 102,
    "start_time": "2022-12-21T16:39:53.931Z"
   },
   {
    "duration": 14,
    "start_time": "2022-12-21T16:39:54.035Z"
   },
   {
    "duration": 37,
    "start_time": "2022-12-21T16:39:54.052Z"
   },
   {
    "duration": 13,
    "start_time": "2022-12-21T16:39:54.092Z"
   },
   {
    "duration": 5334,
    "start_time": "2022-12-21T16:39:54.107Z"
   },
   {
    "duration": 10,
    "start_time": "2022-12-21T16:39:59.443Z"
   },
   {
    "duration": 10,
    "start_time": "2022-12-21T16:39:59.455Z"
   },
   {
    "duration": 268,
    "start_time": "2022-12-21T16:39:59.467Z"
   },
   {
    "duration": 1336,
    "start_time": "2022-12-21T16:39:59.737Z"
   },
   {
    "duration": 47,
    "start_time": "2022-12-21T16:40:01.075Z"
   },
   {
    "duration": 4,
    "start_time": "2022-12-21T16:40:01.124Z"
   },
   {
    "duration": 402,
    "start_time": "2022-12-21T16:40:01.130Z"
   },
   {
    "duration": 321,
    "start_time": "2022-12-21T16:40:01.534Z"
   },
   {
    "duration": 364,
    "start_time": "2022-12-21T16:40:01.857Z"
   },
   {
    "duration": 502,
    "start_time": "2022-12-21T16:40:02.225Z"
   },
   {
    "duration": 4,
    "start_time": "2022-12-21T16:40:02.729Z"
   },
   {
    "duration": 101,
    "start_time": "2022-12-21T16:40:02.735Z"
   },
   {
    "duration": 8,
    "start_time": "2022-12-21T16:40:02.837Z"
   },
   {
    "duration": 20,
    "start_time": "2022-12-21T16:40:02.847Z"
   },
   {
    "duration": 35,
    "start_time": "2022-12-21T16:40:02.869Z"
   },
   {
    "duration": 21,
    "start_time": "2022-12-21T16:40:02.906Z"
   },
   {
    "duration": 19,
    "start_time": "2022-12-21T16:40:02.930Z"
   },
   {
    "duration": 23,
    "start_time": "2022-12-21T16:40:02.952Z"
   },
   {
    "duration": 31884,
    "start_time": "2022-12-21T16:40:02.977Z"
   },
   {
    "duration": 7,
    "start_time": "2022-12-21T16:40:40.565Z"
   },
   {
    "duration": 4,
    "start_time": "2022-12-21T16:40:46.730Z"
   },
   {
    "duration": 31672,
    "start_time": "2022-12-21T16:40:50.406Z"
   },
   {
    "duration": 64148,
    "start_time": "2022-12-21T16:41:35.519Z"
   }
  ],
  "kernelspec": {
   "display_name": "Python 3 (ipykernel)",
   "language": "python",
   "name": "python3"
  },
  "language_info": {
   "codemirror_mode": {
    "name": "ipython",
    "version": 3
   },
   "file_extension": ".py",
   "mimetype": "text/x-python",
   "name": "python",
   "nbconvert_exporter": "python",
   "pygments_lexer": "ipython3",
   "version": "3.9.13"
  },
  "toc": {
   "base_numbering": 1,
   "nav_menu": {},
   "number_sections": true,
   "sideBar": true,
   "skip_h1_title": true,
   "title_cell": "Содержание",
   "title_sidebar": "Contents",
   "toc_cell": true,
   "toc_position": {
    "height": "calc(100% - 180px)",
    "left": "10px",
    "top": "150px",
    "width": "303.675px"
   },
   "toc_section_display": true,
   "toc_window_display": true
  }
 },
 "nbformat": 4,
 "nbformat_minor": 2
}
